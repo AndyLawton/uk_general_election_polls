{
 "cells": [
  {
   "cell_type": "code",
   "execution_count": 1,
   "metadata": {
    "collapsed": true
   },
   "outputs": [],
   "source": [
    "results_page = 'https://www.sheffield.gov.uk/your-city-council/city-council-parish-council-election-results'"
   ]
  },
  {
   "cell_type": "code",
   "execution_count": 3,
   "outputs": [],
   "source": [
    "import requests\n",
    "from bs4 import BeautifulSoup"
   ],
   "metadata": {
    "collapsed": false
   }
  },
  {
   "cell_type": "code",
   "execution_count": 4,
   "outputs": [],
   "source": [
    "resp = requests.get(results_page)"
   ],
   "metadata": {
    "collapsed": false
   }
  },
  {
   "cell_type": "code",
   "execution_count": 8,
   "outputs": [],
   "source": [
    "soup = BeautifulSoup(resp.text)"
   ],
   "metadata": {
    "collapsed": false
   }
  },
  {
   "cell_type": "code",
   "execution_count": 21,
   "outputs": [],
   "source": [
    "fields = soup.findAll('div',{'class':'field field--name-localgov-text field--type-text-long field--label-hidden field__item'})"
   ],
   "metadata": {
    "collapsed": false
   }
  },
  {
   "cell_type": "code",
   "execution_count": 123,
   "outputs": [
    {
     "name": "stdout",
     "output_type": "stream",
     "text": [
      "\n",
      "190 votes\n",
      "\n"
     ]
    }
   ],
   "source": [
    "elections = {}\n",
    "election_name = election_result = None\n",
    "for field in fields:\n",
    "    if field.find('h2') is not None:\n",
    "        elections[election_name] = election_result\n",
    "\n",
    "        election_name = field.find('h2').text\n",
    "\n",
    "        election_result = {}\n",
    "    elif field.find('h4') is not None:\n",
    "        ward = field.find('h4').text\n",
    "        election_result[ward] = {}\n",
    "\n",
    "        elec_info = field.find('p').text.split('\\n')\n",
    "\n",
    "        for pt in elec_info:\n",
    "            pt_name , pt_val = pt.split(':')\n",
    "\n",
    "            election_result[ward][pt_name] = pt_val\n",
    "\n",
    "        elec_results = field.find('ul').findAll('li')\n",
    "\n",
    "        cand_votes = {}\n",
    "\n",
    "        for result in elec_results:\n",
    "            cand, party, votes = process_result(result.text)\n",
    "            if party == 'Independent':\n",
    "                party = f'{party} - {cand}'\n",
    "            cand_votes[party] = votes\n",
    "\n",
    "        election_result[ward]['detail'] = cand_votes\n",
    "\n",
    "\n",
    "\n",
    "elections[election_name] = election_result"
   ],
   "metadata": {
    "collapsed": false
   }
  },
  {
   "cell_type": "code",
   "execution_count": 120,
   "outputs": [],
   "source": [
    "import subprocess\n",
    "\n",
    "def copy2clip(txt):\n",
    "    cmd='echo '+txt.strip()+'|clip'\n",
    "    return subprocess.check_call(cmd, shell=True)\n",
    "\n",
    "def process_result(res):\n",
    "    res = res.replace(':',',')\n",
    "    if len(res.split(',')) <3:\n",
    "        res= res.replace('Party', 'Party,')\n",
    "\n",
    "    i=0\n",
    "    candidate = res.split(',')[i]\n",
    "    i+=1\n",
    "\n",
    "    poss_parties = {\n",
    "        'Green Party':'Green',\n",
    "        'Conservative Party':'Conservative',\n",
    "        'Conservative Party Candidate':'Conservative',\n",
    "        'Trade Unionist and Socialist Coalition':'TUSC',\n",
    "        'Liberal Democrats':'Lib Dem',\n",
    "        'Labour and Co-operative Party':'Labour',\n",
    "        'Yorkshire Party':'Yorkshire',\n",
    "        'Labour Party':'Labour',\n",
    "        'Labour Part':'Labour',\n",
    "        'Northern Independence Party - Nationalise Energy Companies':'NIP',\n",
    "        \"Women's Equality Party\":'WEP',\n",
    "        'Social Democratic Party':'SDP',\n",
    "        'Communist Party of Britain':'Communist',\n",
    "        'Independent':'Independent',\n",
    "        'UK Independence Party (UKIP)':'UKIP',\n",
    "        'Reform UK':'Reform',\n",
    "        '':'',\n",
    "        '':'',\n",
    "        '':'',\n",
    "    }\n",
    "\n",
    "    party = res.split(',')[i].strip()\n",
    "    if ' votes' in party:\n",
    "        print(party)\n",
    "        party = 'Independent'\n",
    "        i-=1\n",
    "\n",
    "    if party not in poss_parties:\n",
    "        copy2clip(party)\n",
    "        i+=1\n",
    "        party = res.split(',')[i].strip()\n",
    "\n",
    "\n",
    "    if party not in poss_parties:\n",
    "        raise ValueError(res)\n",
    "\n",
    "    party= poss_parties[party]\n",
    "\n",
    "    votes = ''.join(result.text.split(',')[i+1:])\n",
    "    try:\n",
    "        votes = int(votes.replace('votes','').strip())\n",
    "    except:\n",
    "        print(votes)\n",
    "\n",
    "    return candidate, party, votes\n",
    "\n",
    "\n"
   ],
   "metadata": {
    "collapsed": false
   }
  },
  {
   "cell_type": "code",
   "execution_count": 124,
   "outputs": [
    {
     "data": {
      "text/plain": "{None: None,\n 'Elections 5 May 2022': {},\n '5 May 2022': {'Park and Arbourthorne': {'Elected': ' Fathima Nabeela Mowlana, Labour and Co-operative Party',\n   'Total votes': ' 3,329',\n   'Rejected ballots': ' 27',\n   'Electorate': '\\xa013,180',\n   'Turnout': '\\xa025.26 %',\n   'detail': {'Green': 575,\n    'Conservative': 608,\n    'TUSC': 106,\n    'Lib Dem': 275,\n    'Labour': 1479,\n    'Yorkshire': 259}},\n  'Beauchief and Greenhill': {'Elected': '\\xa0Simon William Clement-Jones,\\xa0Liberal Democrats',\n   'Total votes': ' 4,904',\n   'Rejected ballots': ' 40',\n   'Electorate': ' 13,835',\n   'Turnout': '\\xa035.45%',\n   'detail': {'Labour': 1769,\n    'Lib Dem': 1951,\n    'Conservative': 579,\n    'Green': ''}},\n  'Beighton': {'Elected': ' Kurtis Jenson Crossland, Liberal Democrats',\n   'Total votes': ' 4,053\\xa0',\n   'Rejected ballots': ' 20',\n   'Electorate': '\\xa013,295',\n   'Turnout': '\\xa030.49%',\n   'detail': {'Lib Dem': 1582,\n    'Labour': 1498,\n    'Green': 298,\n    'Conservative': 655}},\n  'Birley': {'Elected': ' Karen Lesley McGowan, Labour Party',\n   'Total votes': ' 3,182',\n   'Rejected ballots': ' 20',\n   'Electorate': '\\xa012,600',\n   'Turnout': '\\xa025.25%',\n   'detail': {'Lib Dem': 170,\n    'Yorkshire': 310,\n    'Labour': 1783,\n    'Conservative': 603,\n    'Green': 296}},\n  'Broomhill and Sharrow Vale': {'Elected': ' Maleiki Bashir Ali Haybe (Maleiki Haybe), Green Party',\n   'Total votes': ' 5,745',\n   'Rejected ballots': ' 41',\n   'Electorate': ' 17,461',\n   'Turnout': ' 32.90%',\n   'detail': {'TUSC': 166,\n    'Conservative': 293,\n    'Green': 2675,\n    'Labour': 2275,\n    'Lib Dem': 295}},\n  'Burngreave': {'Elected': ' Mark Jones, Labour Party',\n   'Total votes': ' 3,904',\n   'Rejected ballots': ' 29',\n   'Electorate': '\\xa014,469',\n   'Turnout': ' 26.98%',\n   'detail': {'Green': 637,\n    'Conservative': 278,\n    'Labour': 2750,\n    'Lib Dem': 210}},\n  'City': {'Elected': '\\xa0Martin John Phipps, Green Party',\n   'Total votes': ' 2,105',\n   'Rejected ballots': ' 13',\n   'Electorate': ' 13,036',\n   'Turnout': ' 16.15 %',\n   'detail': {'NIP': 78,\n    'Green': 1160,\n    'Labour': 662,\n    'Conservative': 108,\n    'Lib Dem': 84}},\n  'Crookes and Crosspool': {'Elected': ' Minesh Nirmal Parekh (Minesh Parekh), Labour and Co-operative Party',\n   'Total votes': ' 6,680',\n   'Rejected ballots': ' 27',\n   'Electorate': ' 14,924',\n   'Turnout': ' 44.76%',\n   'detail': {'TUSC': 71,\n    'NIP': 134,\n    'Green': 1191,\n    'Lib Dem': 2297,\n    'Labour': 2492,\n    'Conservative': 468}},\n  'Darnall': {'Elected': ' Zahira Naz, Labour Party',\n   'Total votes': ' 3,583',\n   'Rejected ballots': ' 38',\n   'Electorate': ' 13,458',\n   'Turnout': ' 26.62%',\n   'detail': {'Lib Dem': 428,\n    'Labour': 2349,\n    'Conservative': 414,\n    'TUSC': 140,\n    'Green': 214}},\n  'Dore and Totley': {'Elected': ' Martin Richard Smith, Liberal Democrats',\n   'Total votes': ' 6,628',\n   'Rejected ballots': ' 31',\n   'Electorate': ' 14,733',\n   'Turnout': ' 44.99%',\n   'detail': {'Green': 876,\n    'Conservative': 1301,\n    'Lib Dem': 3325,\n    'Labour': 1095}},\n  'East Ecclesfield': {'Elected': '\\xa0Craig Michael Gamble Pugh (Craig Gamble Pugh), Labour and Co-operative Party',\n   'Total votes': ' 4,487',\n   'Rejected ballots': '\\xa030',\n   'Electorate': ' 13,846',\n   'Turnout': ' 32.41%',\n   'detail': {'Conservative': 838,\n    'Labour': 1875,\n    'Lib Dem': 1517,\n    'Green': 227}},\n  'Ecclesall': {'Elected': '\\xa0Shaffaq Mohammed, Liberal Democrats',\n   'Total votes': ' 8,086',\n   'Rejected ballots': ' 56',\n   'Electorate': ' 15,842',\n   'Turnout': ' 51.04%',\n   'detail': {'Green': 2271,\n    'Conservative': 744,\n    'Lib Dem': 2641,\n    'Labour': 2243,\n    'WEP': 131}},\n  'Firth Park': {'Elected': ' Abtisam Mohamed Mohamed, Labour Party',\n   'Total votes': ' 3,084',\n   'Rejected ballots': ' 29',\n   'Electorate': ' 14,123',\n   'Turnout': ' 21.84%',\n   'detail': {'Lib Dem': 430,\n    'Green': 193,\n    'TUSC': 92,\n    'Labour': 1640,\n    'Conservative': 445,\n    'SDP': 225}},\n  'Fulwood': {'Elected': ' Clifford Paul Woodcraft (Cliff Woodcraft), Liberal Democrats',\n   'Total votes': ' 6,486',\n   'Rejected ballots': ' 39',\n   'Electorate': ' 14,070',\n   'Turnout': ' 46.10%',\n   'detail': {'Labour': 1955,\n    'Green': 1110,\n    'Conservative': 693,\n    'Lib Dem': 2689}},\n  'Gleadless': {'Elected': ' Marieanne Nicole Elliot, Green Party',\n   'Total votes': ' 4,935',\n   'Rejected ballots': ' 25',\n   'Electorate': ' 13,469',\n   'Turnout': ' 36.64%',\n   'detail': {'Conservative': 407,\n    'Lib Dem': 257,\n    'Green': 2329,\n    'TUSC': 93,\n    'Labour': 1824}},\n  'Graves Park': {'Elected': ' Steve Ayris, Liberal Democrats',\n   'Total votes': ' 5,547',\n   'Rejected ballots': ' 33',\n   'Electorate': ' 13,370',\n   'Turnout': ' 41.49%',\n   'detail': {'Lib Dem': 2003,\n    'Green': 1151,\n    'Conservative': 447,\n    'Labour': 1913}},\n  'Hillsborough': {'Elected': ' Henry Bruce Nottage, Green Party',\n   'Total votes': ' 5,275',\n   'Rejected ballots': ' 31',\n   'Electorate': ' 14,526',\n   'Turnout': ' 36.31%',\n   'detail': {'TUSC': 100,\n    'Conservative': 531,\n    'Green': 2364,\n    'Labour': 2022,\n    'Lib Dem': 227}},\n  'Manor Castle': {'Elected': ' Terence Leslie Fox (Terry Fox), Labour Party',\n   'Total votes': ' 3,144',\n   'Rejected ballots': ' 33',\n   'Electorate': ' 14,734',\n   'Turnout': ' 21.34%',\n   'detail': {'Conservative': 372,\n    'Yorkshire': 307,\n    'Green': 556,\n    'Labour': 1633,\n    'Lib Dem': 148,\n    'TUSC': 95}},\n  'Mosborough': {'Elected': ' Alice Gail Smith (Gail Smith), Liberal Democrats',\n   'Total votes': ' 4,322',\n   'Rejected ballots': ' 30',\n   'Electorate': ' 13,605',\n   'Turnout': ' 31.77%',\n   'detail': {'Conservative': 671,\n    'Labour': 1630,\n    'Lib Dem': 1756,\n    'Green': 235}},\n  'Nether Edge and Sharrow Ward': {'Elected': ' Naghat Basharat (Nighat Basharat), Labour Party',\n   'Total votes': ' 6,708',\n   'Rejected ballots': ' 61',\n   'Electorate': ' 15,533',\n   'Turnout': ' 42.79%',\n   'detail': {'Labour': 3165,\n    'Conservative': 294,\n    'TUSC': 159,\n    'Green': 2632,\n    'Lib Dem': 397}},\n  'Richmond': {'Elected': ' Michael Drabble, (Mike Drabble), Labour Party',\n   'Total votes': ' 3,348',\n   'Rejected ballots': ' 37',\n   'Electorate': ' 14,049',\n   'Turnout': ' 23.83%',\n   'detail': {'Yorkshire': 290,\n    'Conservative': 709,\n    'Labour': 1669,\n    'Green': 412,\n    'TUSC': 44,\n    'Lib Dem': 187}},\n  'Shiregreen and Brightside': {'Elected': ' Garry David Weatherall, Labour and Co-operative Party',\n   'Total votes': ' 2,974',\n   'Rejected ballots': ' 34',\n   'Electorate': ' 13,741',\n   'Turnout': ' 31.64%',\n   'detail': {'Communist': 79,\n    'Lib Dem': 252,\n    'Green': 325,\n    'Conservative': 560,\n    'Labour': 1724}},\n  'Southey': {'Elected': ' Jayne Patricia Dunn, Labour Party',\n   'Total votes': ' 2,915',\n   'Rejected ballots': ' 31',\n   'Electorate': ' 13,803 votes',\n   'Turnout': ' 21.12%',\n   'detail': {'Labour': 1629,\n    'Green': 446,\n    'Conservative': 573,\n    'Lib Dem': 236}},\n  'Stannington': {'Elected': ' Vickie Priestley, Liberal Democrats',\n   'Total votes': ' 5,480',\n   'Rejected ballots': ' 32',\n   'Electorate': ' 14,360',\n   'Turnout': ' 38.16%',\n   'detail': {'Labour': 1559,\n    'Green': 797,\n    'Lib Dem': 2005,\n    'Independent - Stuart Andrew Shepherd': 190,\n    'UKIP': 122,\n    'Conservative': 775}},\n  'Stocksbridge and Upper Don': {'Elected': ' Janey Hilary Ridler, Labour Party',\n   'Total votes': ' 5,086',\n   'Rejected ballots': ' 33',\n   'Electorate': ' 14,404',\n   'Turnout': ' 35.31%',\n   'detail': {'Conservative': 1801,\n    'Lib Dem': 567,\n    'Labour': 1952,\n    'Green': 733}},\n  'Walkley': {'Elected': ' Thomas Hunt (Tom Hunt), Labour Party',\n   'Total votes': ' 5,792',\n   'Rejected ballots': ' 40',\n   'Electorate': ' 15,615',\n   'Turnout': ' 37.09%',\n   'detail': {'TUSC': 89,\n    'Labour': 2517,\n    'WEP': 95,\n    'Conservative': 384,\n    'Lib Dem': 248,\n    'Green': 2419}},\n  'West Ecclesfield': {'Elected': ' Michael Levery (Mike Levery), Liberal Democrats',\n   'Total votes': ' 4,284',\n   'Rejected ballots': ' 26',\n   'Electorate': ' 13,425',\n   'Turnout': ' 31.91%',\n   'detail': {'Green': 295,\n    'Reform': 356,\n    'Lib Dem': 1647,\n    'Conservative': 632,\n    'Labour': 1328}},\n  'Woodhouse': {'Elected': ' Paul Wood, Labour Party',\n   'Total votes': ' 3,237',\n   'Rejected ballots': ' 13',\n   'Electorate': ' 12,944',\n   'Turnout': ' 25.01%',\n   'detail': {'Lib Dem': 207,\n    'Green': 263,\n    'Independent - Sarah Elizabeth Hobson': 319,\n    'TUSC': 70,\n    'Conservative': 620,\n    'Labour': 1745}}},\n '16 September 2021': {},\n 'Elections 6 May 2021': {},\n '6 May 2021': {'Beauchief and Greenhill': {'Elected': '\\xa0Sophie Jane Thornton, Liberal Democrats',\n   'Total votes': ' 5,212',\n   'Rejected ballots': ' 29',\n   'Electorate': '\\xa014,156',\n   'Turnout': '\\xa036.81%',\n   'detail': {'Labour': 1695,\n    'Conservative': 1070,\n    'Green': 686,\n    'Lib Dem': 1732}}},\n '2 May 2019': {'Beauchief and Greenhill': {'Elected': '\\xa0Richard Craig Thomas Shaw, Liberal Democrats',\n   'Total votes': ' 4,593',\n   'Rejected ballots': ' 99',\n   'Electorate': ' 14,198',\n   'Turnout': ' 32.35%',\n   'detail': {'Labour': 1271,\n    'Conservative': 576,\n    'Green': 765,\n    'Lib Dem': 1882}}},\n '4 May 2018': {'Beauchief and Greenhill': {'Elected': ' Simon William Clement-Jones, Liberal Democrats',\n   'Electorate': ' 14,343',\n   'Turnout': ' 34.78%',\n   'detail': {'Lib Dem': 2193,\n    'Labour': 1622,\n    'Conservative': 674,\n    'Green': 476}}},\n 'City Council By-elections 2017': {'Nether Edge and Sharrow': {'Elected': '\\xa0Jim Steinke,\\xa0Labour Party',\n   'Electorate': '\\xa015,854.\\xa0',\n   'Turnout': ' 37.2%',\n   'detail': {'Lib Dem': '', 'Labour': 641, 'Green': 509}}},\n '5 May 2016': {'Beauchief and Greenhill': {'Elected': ' Andy Nash, Bob Pullin, and Richard Shaw, Liberal Democrats',\n   'Electorate': ' 14,399',\n   'Turnout': ' 39%',\n   'detail': {'Labour': 1771,\n    'Green': 284,\n    'Conservative': 344,\n    'TUSC': 124,\n    'Lib Dem': 2322,\n    'UKIP': 688}}},\n '2016 By-elections': {'Mosborough': {'Elected': ' Gail Smith, Liberal Democrats',\n   'detail': {'Labour': 1279,\n    'UKIP': 466,\n    'Lib Dem': 1711,\n    'Conservative': 229,\n    'Green': 67}}},\n '7 May 2015': {'Arbourthorne': {'Elected': ' Mike Drabble, Labour Party',\n   'Electorate': ' 13,335',\n   'Rejected votes': ' 14',\n   'Turnout': ' 53.8%',\n   'detail': {'Green': 498,\n    'Labour': 3653,\n    'TUSC': 138,\n    'Lib Dem': 467,\n    'UKIP': 1573,\n    'Conservative': 805}},\n  'Ecclesfield - Burncross': {'Elected': ' Robert John Brownrigg, UK Independence Party (UKIP) and Alison Margaret Gethin, Labour Party',\n   'Rejected ballots': ' 29',\n   'detail': {'UKIP': 840, 'Labour': 804, 'Lib Dem': 398}}}}"
     },
     "execution_count": 124,
     "metadata": {},
     "output_type": "execute_result"
    }
   ],
   "source": [
    "elections"
   ],
   "metadata": {
    "collapsed": false
   }
  },
  {
   "cell_type": "code",
   "execution_count": null,
   "outputs": [],
   "source": [],
   "metadata": {
    "collapsed": false
   }
  }
 ],
 "metadata": {
  "kernelspec": {
   "display_name": "Python 3",
   "language": "python",
   "name": "python3"
  },
  "language_info": {
   "codemirror_mode": {
    "name": "ipython",
    "version": 2
   },
   "file_extension": ".py",
   "mimetype": "text/x-python",
   "name": "python",
   "nbconvert_exporter": "python",
   "pygments_lexer": "ipython2",
   "version": "2.7.6"
  }
 },
 "nbformat": 4,
 "nbformat_minor": 0
}
