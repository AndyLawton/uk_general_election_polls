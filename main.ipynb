{
 "cells": [
  {
   "cell_type": "code",
   "execution_count": 1,
   "metadata": {
    "collapsed": true,
    "pycharm": {
     "name": "#%%\n"
    }
   },
   "outputs": [],
   "source": [
    "import pandas as pd\n",
    "import numpy as np\n",
    "from dateutil.relativedelta import relativedelta"
   ]
  },
  {
   "cell_type": "code",
   "execution_count": 2,
   "outputs": [],
   "source": [
    "from scripts.downloader import fetch_all_polls"
   ],
   "metadata": {
    "collapsed": false,
    "pycharm": {
     "name": "#%%\n"
    }
   }
  },
  {
   "cell_type": "code",
   "execution_count": 5,
   "outputs": [
    {
     "name": "stdout",
     "output_type": "stream",
     "text": [
      "The autoreload extension is already loaded. To reload it, use:\n",
      "  %reload_ext autoreload\n"
     ]
    }
   ],
   "source": [
    "%load_ext autoreload\n",
    "%autoreload 2"
   ],
   "metadata": {
    "collapsed": false,
    "pycharm": {
     "name": "#%%\n"
    }
   }
  },
  {
   "cell_type": "code",
   "execution_count": 12,
   "outputs": [],
   "source": [
    "all_polls = fetch_all_polls(cleanup=True, refresh=False)"
   ],
   "metadata": {
    "collapsed": false,
    "pycharm": {
     "name": "#%%\n"
    }
   }
  },
  {
   "cell_type": "code",
   "execution_count": 13,
   "outputs": [],
   "source": [
    "all_polls.to_csv('poll_database/poll_database.csv', index=False)\n",
    "all_polls.to_excel('poll_database/poll_database.xlsx', index=False)\n",
    "all_polls.to_json('poll_database/poll_database.json', index=False, orient='split')"
   ],
   "metadata": {
    "collapsed": false,
    "pycharm": {
     "name": "#%%\n"
    }
   }
  },
  {
   "cell_type": "code",
   "execution_count": 14,
   "outputs": [],
   "source": [
    "display_columns = ['date_concluded', 'pollster', 'conservative', 'labour', 'liberal_democrat', 'lead']"
   ],
   "metadata": {
    "collapsed": false,
    "pycharm": {
     "name": "#%%\n"
    }
   }
  },
  {
   "cell_type": "code",
   "execution_count": 15,
   "outputs": [],
   "source": [
    "all_polls['anti_conservative'] = all_polls[['labour', 'liberal_democrat','green','scottish_national_party','plaid_cymru']].fillna(0).sum(axis=1)"
   ],
   "metadata": {
    "collapsed": false,
    "pycharm": {
     "name": "#%%\n"
    }
   }
  },
  {
   "cell_type": "code",
   "execution_count": 16,
   "outputs": [
    {
     "data": {
      "text/plain": "     date_concluded                      pollster  labour  liberal_democrat  \\\n13       2022-06-12  Redfield & Wilton Strategies    39.0              15.0   \n125      2022-01-25                    Ipsos MORI    40.0              13.0   \n141      2022-01-13                  Find Out Now    41.0              11.0   \n3863     2005-07-18                    Ipsos MORI    41.0              25.0   \n3961     2002-02-17                  ICM Research    47.0              18.0   \n...             ...                           ...     ...               ...   \n4478     1993-04-26                    Ipsos MORI    46.0              20.0   \n4494     1992-11-30                        Gallup    52.0              14.0   \n4496     1992-11-12            Harris Interactive    51.0              14.0   \n4497     1992-11-08            Harris Interactive    53.0              13.0   \n4502     1992-10-19                        Gallup    51.0              14.0   \n\n      green  scottish_national_party  plaid_cymru  anti_conservative      lead  \n13      6.0                      5.0          1.0               66.0   lab+7.0  \n125     9.0                      4.0          1.0               67.0   lab+9.0  \n141     8.0                      5.0          1.0               66.0  lab+14.0  \n3863    NaN                      NaN          NaN               66.0  lab+13.0  \n3961    NaN                      NaN          NaN               65.0  lab+17.0  \n...     ...                      ...          ...                ...       ...  \n4478    NaN                      NaN          NaN               66.0  lab+14.0  \n4494    NaN                      NaN          NaN               66.0  lab+23.0  \n4496    NaN                      NaN          NaN               65.0  lab+19.0  \n4497    NaN                      NaN          NaN               66.0  lab+23.0  \n4502    NaN                      NaN          NaN               65.0  lab+22.0  \n\n[319 rows x 9 columns]",
      "text/html": "<div>\n<style scoped>\n    .dataframe tbody tr th:only-of-type {\n        vertical-align: middle;\n    }\n\n    .dataframe tbody tr th {\n        vertical-align: top;\n    }\n\n    .dataframe thead th {\n        text-align: right;\n    }\n</style>\n<table border=\"1\" class=\"dataframe\">\n  <thead>\n    <tr style=\"text-align: right;\">\n      <th></th>\n      <th>date_concluded</th>\n      <th>pollster</th>\n      <th>labour</th>\n      <th>liberal_democrat</th>\n      <th>green</th>\n      <th>scottish_national_party</th>\n      <th>plaid_cymru</th>\n      <th>anti_conservative</th>\n      <th>lead</th>\n    </tr>\n  </thead>\n  <tbody>\n    <tr>\n      <th>13</th>\n      <td>2022-06-12</td>\n      <td>Redfield &amp; Wilton Strategies</td>\n      <td>39.0</td>\n      <td>15.0</td>\n      <td>6.0</td>\n      <td>5.0</td>\n      <td>1.0</td>\n      <td>66.0</td>\n      <td>lab+7.0</td>\n    </tr>\n    <tr>\n      <th>125</th>\n      <td>2022-01-25</td>\n      <td>Ipsos MORI</td>\n      <td>40.0</td>\n      <td>13.0</td>\n      <td>9.0</td>\n      <td>4.0</td>\n      <td>1.0</td>\n      <td>67.0</td>\n      <td>lab+9.0</td>\n    </tr>\n    <tr>\n      <th>141</th>\n      <td>2022-01-13</td>\n      <td>Find Out Now</td>\n      <td>41.0</td>\n      <td>11.0</td>\n      <td>8.0</td>\n      <td>5.0</td>\n      <td>1.0</td>\n      <td>66.0</td>\n      <td>lab+14.0</td>\n    </tr>\n    <tr>\n      <th>3863</th>\n      <td>2005-07-18</td>\n      <td>Ipsos MORI</td>\n      <td>41.0</td>\n      <td>25.0</td>\n      <td>NaN</td>\n      <td>NaN</td>\n      <td>NaN</td>\n      <td>66.0</td>\n      <td>lab+13.0</td>\n    </tr>\n    <tr>\n      <th>3961</th>\n      <td>2002-02-17</td>\n      <td>ICM Research</td>\n      <td>47.0</td>\n      <td>18.0</td>\n      <td>NaN</td>\n      <td>NaN</td>\n      <td>NaN</td>\n      <td>65.0</td>\n      <td>lab+17.0</td>\n    </tr>\n    <tr>\n      <th>...</th>\n      <td>...</td>\n      <td>...</td>\n      <td>...</td>\n      <td>...</td>\n      <td>...</td>\n      <td>...</td>\n      <td>...</td>\n      <td>...</td>\n      <td>...</td>\n    </tr>\n    <tr>\n      <th>4478</th>\n      <td>1993-04-26</td>\n      <td>Ipsos MORI</td>\n      <td>46.0</td>\n      <td>20.0</td>\n      <td>NaN</td>\n      <td>NaN</td>\n      <td>NaN</td>\n      <td>66.0</td>\n      <td>lab+14.0</td>\n    </tr>\n    <tr>\n      <th>4494</th>\n      <td>1992-11-30</td>\n      <td>Gallup</td>\n      <td>52.0</td>\n      <td>14.0</td>\n      <td>NaN</td>\n      <td>NaN</td>\n      <td>NaN</td>\n      <td>66.0</td>\n      <td>lab+23.0</td>\n    </tr>\n    <tr>\n      <th>4496</th>\n      <td>1992-11-12</td>\n      <td>Harris Interactive</td>\n      <td>51.0</td>\n      <td>14.0</td>\n      <td>NaN</td>\n      <td>NaN</td>\n      <td>NaN</td>\n      <td>65.0</td>\n      <td>lab+19.0</td>\n    </tr>\n    <tr>\n      <th>4497</th>\n      <td>1992-11-08</td>\n      <td>Harris Interactive</td>\n      <td>53.0</td>\n      <td>13.0</td>\n      <td>NaN</td>\n      <td>NaN</td>\n      <td>NaN</td>\n      <td>66.0</td>\n      <td>lab+23.0</td>\n    </tr>\n    <tr>\n      <th>4502</th>\n      <td>1992-10-19</td>\n      <td>Gallup</td>\n      <td>51.0</td>\n      <td>14.0</td>\n      <td>NaN</td>\n      <td>NaN</td>\n      <td>NaN</td>\n      <td>65.0</td>\n      <td>lab+22.0</td>\n    </tr>\n  </tbody>\n</table>\n<p>319 rows × 9 columns</p>\n</div>"
     },
     "execution_count": 16,
     "metadata": {},
     "output_type": "execute_result"
    }
   ],
   "source": [
    "all_polls[(all_polls.anti_conservative.fillna(0) ) >= 65][['date_concluded', 'pollster', 'labour', 'liberal_democrat','green','scottish_national_party','plaid_cymru','anti_conservative', 'lead']]"
   ],
   "metadata": {
    "collapsed": false,
    "pycharm": {
     "name": "#%%\n"
    }
   }
  },
  {
   "cell_type": "code",
   "execution_count": 17,
   "outputs": [
    {
     "data": {
      "text/plain": "     date_concluded             pollster  labour  liberal_democrat  green  \\\n2066     2013-11-10  Lord Ashcroft Polls    39.0               8.0    3.0   \n2159     2013-09-01  Lord Ashcroft Polls    35.0              11.0    4.0   \n2259     2013-06-02  Lord Ashcroft Polls    37.0               9.0    NaN   \n2265     2013-05-29  Lord Ashcroft Polls    38.0               9.0    3.0   \n\n      others  \n2066     5.0  \n2159     6.0  \n2259    12.0  \n2265     5.0  ",
      "text/html": "<div>\n<style scoped>\n    .dataframe tbody tr th:only-of-type {\n        vertical-align: middle;\n    }\n\n    .dataframe tbody tr th {\n        vertical-align: top;\n    }\n\n    .dataframe thead th {\n        text-align: right;\n    }\n</style>\n<table border=\"1\" class=\"dataframe\">\n  <thead>\n    <tr style=\"text-align: right;\">\n      <th></th>\n      <th>date_concluded</th>\n      <th>pollster</th>\n      <th>labour</th>\n      <th>liberal_democrat</th>\n      <th>green</th>\n      <th>others</th>\n    </tr>\n  </thead>\n  <tbody>\n    <tr>\n      <th>2066</th>\n      <td>2013-11-10</td>\n      <td>Lord Ashcroft Polls</td>\n      <td>39.0</td>\n      <td>8.0</td>\n      <td>3.0</td>\n      <td>5.0</td>\n    </tr>\n    <tr>\n      <th>2159</th>\n      <td>2013-09-01</td>\n      <td>Lord Ashcroft Polls</td>\n      <td>35.0</td>\n      <td>11.0</td>\n      <td>4.0</td>\n      <td>6.0</td>\n    </tr>\n    <tr>\n      <th>2259</th>\n      <td>2013-06-02</td>\n      <td>Lord Ashcroft Polls</td>\n      <td>37.0</td>\n      <td>9.0</td>\n      <td>NaN</td>\n      <td>12.0</td>\n    </tr>\n    <tr>\n      <th>2265</th>\n      <td>2013-05-29</td>\n      <td>Lord Ashcroft Polls</td>\n      <td>38.0</td>\n      <td>9.0</td>\n      <td>3.0</td>\n      <td>5.0</td>\n    </tr>\n  </tbody>\n</table>\n</div>"
     },
     "execution_count": 17,
     "metadata": {},
     "output_type": "execute_result"
    }
   ],
   "source": [
    "all_polls.query(\"pollster=='Lord Ashcroft Polls' and date_concluded <= '2014-01-01'\")[['date_concluded', 'pollster', 'labour', 'liberal_democrat','green','others']]"
   ],
   "metadata": {
    "collapsed": false,
    "pycharm": {
     "name": "#%%\n"
    }
   }
  },
  {
   "cell_type": "code",
   "execution_count": 17,
   "outputs": [],
   "source": [],
   "metadata": {
    "collapsed": false,
    "pycharm": {
     "name": "#%%\n"
    }
   }
  },
  {
   "cell_type": "code",
   "execution_count": 18,
   "outputs": [
    {
     "data": {
      "text/plain": "     date_concluded pollster  labour  liberal_democrat  green  \\\n0        2022-06-29   YouGov    36.0              13.0    6.0   \n5        2022-06-23   YouGov    39.0               9.0    8.0   \n19       2022-06-09   YouGov    39.0              11.0    7.0   \n21       2022-06-03   YouGov    36.0              12.0    8.0   \n29       2022-05-25   YouGov    39.0              12.0    7.0   \n32       2022-05-19   YouGov    39.0              12.0    7.0   \n41       2022-05-11   YouGov    38.0              12.0    6.0   \n50       2022-04-27   YouGov    39.0              11.0    6.0   \n57       2022-04-20   YouGov    39.0               9.0    8.0   \n82       2022-03-17   YouGov    39.0              10.0    7.0   \n89       2022-03-09   YouGov    39.0              10.0    7.0   \n111      2022-02-11   YouGov    37.0              10.0    8.0   \n118      2022-02-02   YouGov    41.0              10.0    6.0   \n123      2022-01-27   YouGov    38.0              11.0    7.0   \n131      2022-01-21   YouGov    39.0               8.0    8.0   \n137      2022-01-14   YouGov    39.0              11.0    6.0   \n139      2022-01-13   YouGov    40.0              11.0    6.0   \n142      2022-01-12   YouGov    38.0              13.0    7.0   \n153      2021-12-20   YouGov    36.0              12.0    8.0   \n752      2019-05-29   YouGov    19.0              24.0    8.0   \n838      2018-12-15   YouGov    35.0              10.0    5.0   \n842      2018-12-10   YouGov    38.0               9.0    4.0   \n843      2018-12-07   YouGov    37.0              10.0    4.0   \n847      2018-12-04   YouGov    38.0               9.0    4.0   \n1030     2017-07-11   YouGov    45.0               7.0    1.0   \n1031     2017-07-06   YouGov    46.0               6.0    1.0   \n3264     2010-05-14   YouGov    34.0              21.0    8.0   \n3861     2005-07-28   YouGov    40.0              21.0    NaN   \n3868     2005-05-26   YouGov    38.0              23.0    NaN   \n3927     2003-09-25   YouGov    31.0              30.0    NaN   \n3937     2003-04-24   YouGov    40.0              21.0    NaN   \n\n      scottish_national_party  plaid_cymru  anti_conservative      lead  \n0                         5.0          1.0               61.0   lab+3.0  \n5                         4.0          1.0               61.0   lab+5.0  \n19                        5.0          1.0               63.0   lab+7.0  \n21                        5.0          1.0               62.0   lab+4.0  \n29                        4.0          1.0               63.0   lab+8.0  \n32                        5.0          1.0               64.0   lab+8.0  \n41                        4.0          1.0               61.0   lab+5.0  \n50                        5.0          0.0               61.0   lab+6.0  \n57                        4.0          1.0               61.0   lab+6.0  \n82                        5.0          1.0               62.0   lab+6.0  \n89                        4.0          1.0               61.0   lab+6.0  \n111                       5.0          1.0               61.0   lab+3.0  \n118                       5.0          1.0               63.0   lab+9.0  \n123                       5.0          1.0               62.0   lab+6.0  \n131                       5.0          1.0               61.0   lab+7.0  \n137                       5.0          1.0               62.0   lab+8.0  \n139                       5.0          NaN               62.0  lab+11.0  \n142                       5.0          NaN               63.0  lab+10.0  \n153                       6.0          1.0               63.0   lab+6.0  \n752                       6.0          6.0               63.0   lib+2.0  \n838                       6.0          6.0               62.0   con+3.0  \n842                       5.0          5.0               61.0   con+1.0  \n843                       5.0          5.0               61.0   con+1.0  \n847                       5.0          5.0               61.0   con+2.0  \n1030                      4.0          4.0               61.0   lab+5.0  \n1031                      4.0          4.0               61.0   lab+8.0  \n3264                      NaN          NaN               63.0   con+3.0  \n3861                      NaN          NaN               61.0   lab+9.0  \n3868                      NaN          NaN               61.0   lab+7.0  \n3927                      NaN          NaN               61.0   con+1.0  \n3937                      NaN          NaN               61.0   lab+8.0  ",
      "text/html": "<div>\n<style scoped>\n    .dataframe tbody tr th:only-of-type {\n        vertical-align: middle;\n    }\n\n    .dataframe tbody tr th {\n        vertical-align: top;\n    }\n\n    .dataframe thead th {\n        text-align: right;\n    }\n</style>\n<table border=\"1\" class=\"dataframe\">\n  <thead>\n    <tr style=\"text-align: right;\">\n      <th></th>\n      <th>date_concluded</th>\n      <th>pollster</th>\n      <th>labour</th>\n      <th>liberal_democrat</th>\n      <th>green</th>\n      <th>scottish_national_party</th>\n      <th>plaid_cymru</th>\n      <th>anti_conservative</th>\n      <th>lead</th>\n    </tr>\n  </thead>\n  <tbody>\n    <tr>\n      <th>0</th>\n      <td>2022-06-29</td>\n      <td>YouGov</td>\n      <td>36.0</td>\n      <td>13.0</td>\n      <td>6.0</td>\n      <td>5.0</td>\n      <td>1.0</td>\n      <td>61.0</td>\n      <td>lab+3.0</td>\n    </tr>\n    <tr>\n      <th>5</th>\n      <td>2022-06-23</td>\n      <td>YouGov</td>\n      <td>39.0</td>\n      <td>9.0</td>\n      <td>8.0</td>\n      <td>4.0</td>\n      <td>1.0</td>\n      <td>61.0</td>\n      <td>lab+5.0</td>\n    </tr>\n    <tr>\n      <th>19</th>\n      <td>2022-06-09</td>\n      <td>YouGov</td>\n      <td>39.0</td>\n      <td>11.0</td>\n      <td>7.0</td>\n      <td>5.0</td>\n      <td>1.0</td>\n      <td>63.0</td>\n      <td>lab+7.0</td>\n    </tr>\n    <tr>\n      <th>21</th>\n      <td>2022-06-03</td>\n      <td>YouGov</td>\n      <td>36.0</td>\n      <td>12.0</td>\n      <td>8.0</td>\n      <td>5.0</td>\n      <td>1.0</td>\n      <td>62.0</td>\n      <td>lab+4.0</td>\n    </tr>\n    <tr>\n      <th>29</th>\n      <td>2022-05-25</td>\n      <td>YouGov</td>\n      <td>39.0</td>\n      <td>12.0</td>\n      <td>7.0</td>\n      <td>4.0</td>\n      <td>1.0</td>\n      <td>63.0</td>\n      <td>lab+8.0</td>\n    </tr>\n    <tr>\n      <th>32</th>\n      <td>2022-05-19</td>\n      <td>YouGov</td>\n      <td>39.0</td>\n      <td>12.0</td>\n      <td>7.0</td>\n      <td>5.0</td>\n      <td>1.0</td>\n      <td>64.0</td>\n      <td>lab+8.0</td>\n    </tr>\n    <tr>\n      <th>41</th>\n      <td>2022-05-11</td>\n      <td>YouGov</td>\n      <td>38.0</td>\n      <td>12.0</td>\n      <td>6.0</td>\n      <td>4.0</td>\n      <td>1.0</td>\n      <td>61.0</td>\n      <td>lab+5.0</td>\n    </tr>\n    <tr>\n      <th>50</th>\n      <td>2022-04-27</td>\n      <td>YouGov</td>\n      <td>39.0</td>\n      <td>11.0</td>\n      <td>6.0</td>\n      <td>5.0</td>\n      <td>0.0</td>\n      <td>61.0</td>\n      <td>lab+6.0</td>\n    </tr>\n    <tr>\n      <th>57</th>\n      <td>2022-04-20</td>\n      <td>YouGov</td>\n      <td>39.0</td>\n      <td>9.0</td>\n      <td>8.0</td>\n      <td>4.0</td>\n      <td>1.0</td>\n      <td>61.0</td>\n      <td>lab+6.0</td>\n    </tr>\n    <tr>\n      <th>82</th>\n      <td>2022-03-17</td>\n      <td>YouGov</td>\n      <td>39.0</td>\n      <td>10.0</td>\n      <td>7.0</td>\n      <td>5.0</td>\n      <td>1.0</td>\n      <td>62.0</td>\n      <td>lab+6.0</td>\n    </tr>\n    <tr>\n      <th>89</th>\n      <td>2022-03-09</td>\n      <td>YouGov</td>\n      <td>39.0</td>\n      <td>10.0</td>\n      <td>7.0</td>\n      <td>4.0</td>\n      <td>1.0</td>\n      <td>61.0</td>\n      <td>lab+6.0</td>\n    </tr>\n    <tr>\n      <th>111</th>\n      <td>2022-02-11</td>\n      <td>YouGov</td>\n      <td>37.0</td>\n      <td>10.0</td>\n      <td>8.0</td>\n      <td>5.0</td>\n      <td>1.0</td>\n      <td>61.0</td>\n      <td>lab+3.0</td>\n    </tr>\n    <tr>\n      <th>118</th>\n      <td>2022-02-02</td>\n      <td>YouGov</td>\n      <td>41.0</td>\n      <td>10.0</td>\n      <td>6.0</td>\n      <td>5.0</td>\n      <td>1.0</td>\n      <td>63.0</td>\n      <td>lab+9.0</td>\n    </tr>\n    <tr>\n      <th>123</th>\n      <td>2022-01-27</td>\n      <td>YouGov</td>\n      <td>38.0</td>\n      <td>11.0</td>\n      <td>7.0</td>\n      <td>5.0</td>\n      <td>1.0</td>\n      <td>62.0</td>\n      <td>lab+6.0</td>\n    </tr>\n    <tr>\n      <th>131</th>\n      <td>2022-01-21</td>\n      <td>YouGov</td>\n      <td>39.0</td>\n      <td>8.0</td>\n      <td>8.0</td>\n      <td>5.0</td>\n      <td>1.0</td>\n      <td>61.0</td>\n      <td>lab+7.0</td>\n    </tr>\n    <tr>\n      <th>137</th>\n      <td>2022-01-14</td>\n      <td>YouGov</td>\n      <td>39.0</td>\n      <td>11.0</td>\n      <td>6.0</td>\n      <td>5.0</td>\n      <td>1.0</td>\n      <td>62.0</td>\n      <td>lab+8.0</td>\n    </tr>\n    <tr>\n      <th>139</th>\n      <td>2022-01-13</td>\n      <td>YouGov</td>\n      <td>40.0</td>\n      <td>11.0</td>\n      <td>6.0</td>\n      <td>5.0</td>\n      <td>NaN</td>\n      <td>62.0</td>\n      <td>lab+11.0</td>\n    </tr>\n    <tr>\n      <th>142</th>\n      <td>2022-01-12</td>\n      <td>YouGov</td>\n      <td>38.0</td>\n      <td>13.0</td>\n      <td>7.0</td>\n      <td>5.0</td>\n      <td>NaN</td>\n      <td>63.0</td>\n      <td>lab+10.0</td>\n    </tr>\n    <tr>\n      <th>153</th>\n      <td>2021-12-20</td>\n      <td>YouGov</td>\n      <td>36.0</td>\n      <td>12.0</td>\n      <td>8.0</td>\n      <td>6.0</td>\n      <td>1.0</td>\n      <td>63.0</td>\n      <td>lab+6.0</td>\n    </tr>\n    <tr>\n      <th>752</th>\n      <td>2019-05-29</td>\n      <td>YouGov</td>\n      <td>19.0</td>\n      <td>24.0</td>\n      <td>8.0</td>\n      <td>6.0</td>\n      <td>6.0</td>\n      <td>63.0</td>\n      <td>lib+2.0</td>\n    </tr>\n    <tr>\n      <th>838</th>\n      <td>2018-12-15</td>\n      <td>YouGov</td>\n      <td>35.0</td>\n      <td>10.0</td>\n      <td>5.0</td>\n      <td>6.0</td>\n      <td>6.0</td>\n      <td>62.0</td>\n      <td>con+3.0</td>\n    </tr>\n    <tr>\n      <th>842</th>\n      <td>2018-12-10</td>\n      <td>YouGov</td>\n      <td>38.0</td>\n      <td>9.0</td>\n      <td>4.0</td>\n      <td>5.0</td>\n      <td>5.0</td>\n      <td>61.0</td>\n      <td>con+1.0</td>\n    </tr>\n    <tr>\n      <th>843</th>\n      <td>2018-12-07</td>\n      <td>YouGov</td>\n      <td>37.0</td>\n      <td>10.0</td>\n      <td>4.0</td>\n      <td>5.0</td>\n      <td>5.0</td>\n      <td>61.0</td>\n      <td>con+1.0</td>\n    </tr>\n    <tr>\n      <th>847</th>\n      <td>2018-12-04</td>\n      <td>YouGov</td>\n      <td>38.0</td>\n      <td>9.0</td>\n      <td>4.0</td>\n      <td>5.0</td>\n      <td>5.0</td>\n      <td>61.0</td>\n      <td>con+2.0</td>\n    </tr>\n    <tr>\n      <th>1030</th>\n      <td>2017-07-11</td>\n      <td>YouGov</td>\n      <td>45.0</td>\n      <td>7.0</td>\n      <td>1.0</td>\n      <td>4.0</td>\n      <td>4.0</td>\n      <td>61.0</td>\n      <td>lab+5.0</td>\n    </tr>\n    <tr>\n      <th>1031</th>\n      <td>2017-07-06</td>\n      <td>YouGov</td>\n      <td>46.0</td>\n      <td>6.0</td>\n      <td>1.0</td>\n      <td>4.0</td>\n      <td>4.0</td>\n      <td>61.0</td>\n      <td>lab+8.0</td>\n    </tr>\n    <tr>\n      <th>3264</th>\n      <td>2010-05-14</td>\n      <td>YouGov</td>\n      <td>34.0</td>\n      <td>21.0</td>\n      <td>8.0</td>\n      <td>NaN</td>\n      <td>NaN</td>\n      <td>63.0</td>\n      <td>con+3.0</td>\n    </tr>\n    <tr>\n      <th>3861</th>\n      <td>2005-07-28</td>\n      <td>YouGov</td>\n      <td>40.0</td>\n      <td>21.0</td>\n      <td>NaN</td>\n      <td>NaN</td>\n      <td>NaN</td>\n      <td>61.0</td>\n      <td>lab+9.0</td>\n    </tr>\n    <tr>\n      <th>3868</th>\n      <td>2005-05-26</td>\n      <td>YouGov</td>\n      <td>38.0</td>\n      <td>23.0</td>\n      <td>NaN</td>\n      <td>NaN</td>\n      <td>NaN</td>\n      <td>61.0</td>\n      <td>lab+7.0</td>\n    </tr>\n    <tr>\n      <th>3927</th>\n      <td>2003-09-25</td>\n      <td>YouGov</td>\n      <td>31.0</td>\n      <td>30.0</td>\n      <td>NaN</td>\n      <td>NaN</td>\n      <td>NaN</td>\n      <td>61.0</td>\n      <td>con+1.0</td>\n    </tr>\n    <tr>\n      <th>3937</th>\n      <td>2003-04-24</td>\n      <td>YouGov</td>\n      <td>40.0</td>\n      <td>21.0</td>\n      <td>NaN</td>\n      <td>NaN</td>\n      <td>NaN</td>\n      <td>61.0</td>\n      <td>lab+8.0</td>\n    </tr>\n  </tbody>\n</table>\n</div>"
     },
     "execution_count": 18,
     "metadata": {},
     "output_type": "execute_result"
    }
   ],
   "source": [
    "all_polls.query(\"pollster=='YouGov' and anti_conservative >60\")[['date_concluded', 'pollster', 'labour', 'liberal_democrat','green','scottish_national_party','plaid_cymru','anti_conservative', 'lead']]"
   ],
   "metadata": {
    "collapsed": false,
    "pycharm": {
     "name": "#%%\n"
    }
   }
  },
  {
   "cell_type": "code",
   "execution_count": 19,
   "outputs": [
    {
     "data": {
      "text/plain": "     date_concluded pollster  conservative  labour  liberal_democrat      lead\n0        2022-06-29   YouGov          33.0    36.0              13.0   lab+3.0\n142      2022-01-12   YouGov          28.0    38.0              13.0  lab+10.0\n598      2019-12-06   YouGov          43.0    33.0              13.0  con+10.0\n612      2019-11-29   YouGov          43.0    34.0              13.0   con+9.0\n615      2019-11-26   YouGov          43.0    32.0              13.0  con+11.0\n...             ...      ...           ...     ...               ...       ...\n3927     2003-09-25   YouGov          32.0    31.0              30.0   con+1.0\n3932     2003-07-24   YouGov          37.0    34.0              22.0   con+3.0\n3937     2003-04-24   YouGov          32.0    40.0              21.0   lab+8.0\n3939     2003-03-27   YouGov          33.0    40.0              20.0   lab+7.0\n3946     2003-01-30   YouGov          32.0    36.0              24.0   lab+4.0\n\n[331 rows x 6 columns]",
      "text/html": "<div>\n<style scoped>\n    .dataframe tbody tr th:only-of-type {\n        vertical-align: middle;\n    }\n\n    .dataframe tbody tr th {\n        vertical-align: top;\n    }\n\n    .dataframe thead th {\n        text-align: right;\n    }\n</style>\n<table border=\"1\" class=\"dataframe\">\n  <thead>\n    <tr style=\"text-align: right;\">\n      <th></th>\n      <th>date_concluded</th>\n      <th>pollster</th>\n      <th>conservative</th>\n      <th>labour</th>\n      <th>liberal_democrat</th>\n      <th>lead</th>\n    </tr>\n  </thead>\n  <tbody>\n    <tr>\n      <th>0</th>\n      <td>2022-06-29</td>\n      <td>YouGov</td>\n      <td>33.0</td>\n      <td>36.0</td>\n      <td>13.0</td>\n      <td>lab+3.0</td>\n    </tr>\n    <tr>\n      <th>142</th>\n      <td>2022-01-12</td>\n      <td>YouGov</td>\n      <td>28.0</td>\n      <td>38.0</td>\n      <td>13.0</td>\n      <td>lab+10.0</td>\n    </tr>\n    <tr>\n      <th>598</th>\n      <td>2019-12-06</td>\n      <td>YouGov</td>\n      <td>43.0</td>\n      <td>33.0</td>\n      <td>13.0</td>\n      <td>con+10.0</td>\n    </tr>\n    <tr>\n      <th>612</th>\n      <td>2019-11-29</td>\n      <td>YouGov</td>\n      <td>43.0</td>\n      <td>34.0</td>\n      <td>13.0</td>\n      <td>con+9.0</td>\n    </tr>\n    <tr>\n      <th>615</th>\n      <td>2019-11-26</td>\n      <td>YouGov</td>\n      <td>43.0</td>\n      <td>32.0</td>\n      <td>13.0</td>\n      <td>con+11.0</td>\n    </tr>\n    <tr>\n      <th>...</th>\n      <td>...</td>\n      <td>...</td>\n      <td>...</td>\n      <td>...</td>\n      <td>...</td>\n      <td>...</td>\n    </tr>\n    <tr>\n      <th>3927</th>\n      <td>2003-09-25</td>\n      <td>YouGov</td>\n      <td>32.0</td>\n      <td>31.0</td>\n      <td>30.0</td>\n      <td>con+1.0</td>\n    </tr>\n    <tr>\n      <th>3932</th>\n      <td>2003-07-24</td>\n      <td>YouGov</td>\n      <td>37.0</td>\n      <td>34.0</td>\n      <td>22.0</td>\n      <td>con+3.0</td>\n    </tr>\n    <tr>\n      <th>3937</th>\n      <td>2003-04-24</td>\n      <td>YouGov</td>\n      <td>32.0</td>\n      <td>40.0</td>\n      <td>21.0</td>\n      <td>lab+8.0</td>\n    </tr>\n    <tr>\n      <th>3939</th>\n      <td>2003-03-27</td>\n      <td>YouGov</td>\n      <td>33.0</td>\n      <td>40.0</td>\n      <td>20.0</td>\n      <td>lab+7.0</td>\n    </tr>\n    <tr>\n      <th>3946</th>\n      <td>2003-01-30</td>\n      <td>YouGov</td>\n      <td>32.0</td>\n      <td>36.0</td>\n      <td>24.0</td>\n      <td>lab+4.0</td>\n    </tr>\n  </tbody>\n</table>\n<p>331 rows × 6 columns</p>\n</div>"
     },
     "execution_count": 19,
     "metadata": {},
     "output_type": "execute_result"
    }
   ],
   "source": [
    "all_polls.query(\"pollster=='YouGov' and liberal_democrat >12\")[display_columns]"
   ],
   "metadata": {
    "collapsed": false,
    "pycharm": {
     "name": "#%%\n"
    }
   }
  },
  {
   "cell_type": "code",
   "execution_count": 20,
   "outputs": [
    {
     "data": {
      "text/plain": "    date_started date_concluded pollster        client area sample_size  \\\n3     2022-06-22     2022-06-24  Opinium  The Observer   GB        1516   \n17    2022-06-08     2022-06-10  Opinium  The Observer   GB        2002   \n26    2022-05-25     2022-05-27  Opinium  The Observer   GB        1513   \n39    2022-05-11     2022-05-13  Opinium  The Observer   GB        1478   \n51    2022-04-14     2022-04-26  Opinium           NaN   GB        4000   \n55    2022-04-20     2022-04-22  Opinium  The Observer   GB        2002   \n65    2022-04-06     2022-04-08  Opinium  The Observer   GB        2004   \n75    2022-03-23     2022-03-25  Opinium  The Observer   GB        2002   \n86    2022-03-09     2022-03-11  Opinium  The Observer   GB        2007   \n99    2022-02-23     2022-02-25  Opinium  The Observer   GB        2068   \n112   2022-02-09     2022-02-11  Opinium  The Observer   GB        1526   \n122   2022-01-27     2022-01-28  Opinium  The Observer   GB        1647   \n138   2022-01-12     2022-01-14  Opinium  The Observer   UK        1271   \n146   2022-01-05     2022-01-07  Opinium  The Observer   UK        1326   \n150   2021-12-21     2021-12-23  Opinium  The Observer   UK        1216   \n166   2021-12-08     2021-12-10  Opinium  The Observer   UK        2042   \n180   2021-11-24     2021-11-26  Opinium  The Observer   UK        1990   \n189   2021-11-10     2021-11-12  Opinium  The Observer   UK        1175   \n\n     conservative  labour  liberal_democrat  alliance  ...  plaid_cymru  \\\n3            34.0    37.0              11.0       NaN  ...          1.0   \n17           34.0    36.0              13.0       NaN  ...          1.0   \n26           33.0    36.0              11.0       NaN  ...          1.0   \n39           34.0    37.0              12.0       NaN  ...          1.0   \n51           35.0    37.0              10.0       NaN  ...          NaN   \n55           34.0    36.0              10.0       NaN  ...          1.0   \n65           34.0    38.0              10.0       NaN  ...          1.0   \n75           36.0    38.0               9.0       NaN  ...          1.0   \n86           35.0    37.0               9.0       NaN  ...          1.0   \n99           34.0    38.0              11.0       NaN  ...          1.0   \n112          34.0    37.0              11.0       NaN  ...          1.0   \n122          34.0    39.0               9.0       NaN  ...          1.0   \n138          31.0    41.0               9.0       NaN  ...          1.0   \n146          34.0    39.0              11.0       NaN  ...          1.0   \n150          32.0    39.0              11.0       NaN  ...          1.0   \n166          32.0    41.0               9.0       NaN  ...          0.0   \n180          36.0    38.0               8.0       NaN  ...          1.0   \n189          36.0    37.0               9.0       NaN  ...          1.0   \n\n     reform_uk  scottish_national_party  social_democratic_party  \\\n3          NaN                      4.0                      NaN   \n17         NaN                      3.0                      NaN   \n26         NaN                      4.0                      NaN   \n39         NaN                      4.0                      NaN   \n51         NaN                      NaN                      NaN   \n55         NaN                      4.0                      NaN   \n65         NaN                      4.0                      NaN   \n75         NaN                      4.0                      NaN   \n86         NaN                      4.0                      NaN   \n99         NaN                      4.0                      NaN   \n112        NaN                      3.0                      NaN   \n122        NaN                      5.0                      NaN   \n138        NaN                      4.0                      NaN   \n146        NaN                      4.0                      NaN   \n150        NaN                      5.0                      NaN   \n166        NaN                      5.0                      NaN   \n180        NaN                      5.0                      NaN   \n189        NaN                      5.0                      NaN   \n\n     united_kingdom_independence_party  reclaim_party  others      lead  \\\n3                                  NaN            NaN     7.0   lab+3.0   \n17                                 NaN            NaN     7.0   lab+2.0   \n26                                 NaN            NaN     8.0   lab+3.0   \n39                                 NaN            NaN     6.0   lab+3.0   \n51                                 NaN            NaN     NaN   lab+2.0   \n55                                 NaN            NaN     7.0   lab+2.0   \n65                                 NaN            NaN     7.0   lab+4.0   \n75                                 NaN            NaN     6.0   lab+2.0   \n86                                 NaN            NaN     7.0   lab+2.0   \n99                                 NaN            NaN     5.0   lab+4.0   \n112                                NaN            NaN     8.0   lab+3.0   \n122                                NaN            NaN     6.0   lab+5.0   \n138                                NaN            NaN     8.0  lab+10.0   \n146                                NaN            NaN     6.0   lab+5.0   \n150                                NaN            NaN     7.0   lab+7.0   \n166                                NaN            NaN     8.0   lab+9.0   \n180                                NaN            NaN     7.0   lab+2.0   \n189                                NaN            NaN     5.0   lab+1.0   \n\n     lead_value  anti_conservative  \n3           3.0               59.0  \n17          2.0               59.0  \n26          3.0               60.0  \n39          3.0               61.0  \n51          2.0               54.0  \n55          2.0               59.0  \n65          4.0               60.0  \n75          2.0               59.0  \n86          2.0               58.0  \n99          4.0               60.0  \n112         3.0               58.0  \n122         5.0               59.0  \n138        10.0               61.0  \n146         5.0               60.0  \n150         7.0               62.0  \n166         9.0               60.0  \n180         2.0               58.0  \n189         1.0               59.0  \n\n[18 rows x 24 columns]",
      "text/html": "<div>\n<style scoped>\n    .dataframe tbody tr th:only-of-type {\n        vertical-align: middle;\n    }\n\n    .dataframe tbody tr th {\n        vertical-align: top;\n    }\n\n    .dataframe thead th {\n        text-align: right;\n    }\n</style>\n<table border=\"1\" class=\"dataframe\">\n  <thead>\n    <tr style=\"text-align: right;\">\n      <th></th>\n      <th>date_started</th>\n      <th>date_concluded</th>\n      <th>pollster</th>\n      <th>client</th>\n      <th>area</th>\n      <th>sample_size</th>\n      <th>conservative</th>\n      <th>labour</th>\n      <th>liberal_democrat</th>\n      <th>alliance</th>\n      <th>...</th>\n      <th>plaid_cymru</th>\n      <th>reform_uk</th>\n      <th>scottish_national_party</th>\n      <th>social_democratic_party</th>\n      <th>united_kingdom_independence_party</th>\n      <th>reclaim_party</th>\n      <th>others</th>\n      <th>lead</th>\n      <th>lead_value</th>\n      <th>anti_conservative</th>\n    </tr>\n  </thead>\n  <tbody>\n    <tr>\n      <th>3</th>\n      <td>2022-06-22</td>\n      <td>2022-06-24</td>\n      <td>Opinium</td>\n      <td>The Observer</td>\n      <td>GB</td>\n      <td>1516</td>\n      <td>34.0</td>\n      <td>37.0</td>\n      <td>11.0</td>\n      <td>NaN</td>\n      <td>...</td>\n      <td>1.0</td>\n      <td>NaN</td>\n      <td>4.0</td>\n      <td>NaN</td>\n      <td>NaN</td>\n      <td>NaN</td>\n      <td>7.0</td>\n      <td>lab+3.0</td>\n      <td>3.0</td>\n      <td>59.0</td>\n    </tr>\n    <tr>\n      <th>17</th>\n      <td>2022-06-08</td>\n      <td>2022-06-10</td>\n      <td>Opinium</td>\n      <td>The Observer</td>\n      <td>GB</td>\n      <td>2002</td>\n      <td>34.0</td>\n      <td>36.0</td>\n      <td>13.0</td>\n      <td>NaN</td>\n      <td>...</td>\n      <td>1.0</td>\n      <td>NaN</td>\n      <td>3.0</td>\n      <td>NaN</td>\n      <td>NaN</td>\n      <td>NaN</td>\n      <td>7.0</td>\n      <td>lab+2.0</td>\n      <td>2.0</td>\n      <td>59.0</td>\n    </tr>\n    <tr>\n      <th>26</th>\n      <td>2022-05-25</td>\n      <td>2022-05-27</td>\n      <td>Opinium</td>\n      <td>The Observer</td>\n      <td>GB</td>\n      <td>1513</td>\n      <td>33.0</td>\n      <td>36.0</td>\n      <td>11.0</td>\n      <td>NaN</td>\n      <td>...</td>\n      <td>1.0</td>\n      <td>NaN</td>\n      <td>4.0</td>\n      <td>NaN</td>\n      <td>NaN</td>\n      <td>NaN</td>\n      <td>8.0</td>\n      <td>lab+3.0</td>\n      <td>3.0</td>\n      <td>60.0</td>\n    </tr>\n    <tr>\n      <th>39</th>\n      <td>2022-05-11</td>\n      <td>2022-05-13</td>\n      <td>Opinium</td>\n      <td>The Observer</td>\n      <td>GB</td>\n      <td>1478</td>\n      <td>34.0</td>\n      <td>37.0</td>\n      <td>12.0</td>\n      <td>NaN</td>\n      <td>...</td>\n      <td>1.0</td>\n      <td>NaN</td>\n      <td>4.0</td>\n      <td>NaN</td>\n      <td>NaN</td>\n      <td>NaN</td>\n      <td>6.0</td>\n      <td>lab+3.0</td>\n      <td>3.0</td>\n      <td>61.0</td>\n    </tr>\n    <tr>\n      <th>51</th>\n      <td>2022-04-14</td>\n      <td>2022-04-26</td>\n      <td>Opinium</td>\n      <td>NaN</td>\n      <td>GB</td>\n      <td>4000</td>\n      <td>35.0</td>\n      <td>37.0</td>\n      <td>10.0</td>\n      <td>NaN</td>\n      <td>...</td>\n      <td>NaN</td>\n      <td>NaN</td>\n      <td>NaN</td>\n      <td>NaN</td>\n      <td>NaN</td>\n      <td>NaN</td>\n      <td>NaN</td>\n      <td>lab+2.0</td>\n      <td>2.0</td>\n      <td>54.0</td>\n    </tr>\n    <tr>\n      <th>55</th>\n      <td>2022-04-20</td>\n      <td>2022-04-22</td>\n      <td>Opinium</td>\n      <td>The Observer</td>\n      <td>GB</td>\n      <td>2002</td>\n      <td>34.0</td>\n      <td>36.0</td>\n      <td>10.0</td>\n      <td>NaN</td>\n      <td>...</td>\n      <td>1.0</td>\n      <td>NaN</td>\n      <td>4.0</td>\n      <td>NaN</td>\n      <td>NaN</td>\n      <td>NaN</td>\n      <td>7.0</td>\n      <td>lab+2.0</td>\n      <td>2.0</td>\n      <td>59.0</td>\n    </tr>\n    <tr>\n      <th>65</th>\n      <td>2022-04-06</td>\n      <td>2022-04-08</td>\n      <td>Opinium</td>\n      <td>The Observer</td>\n      <td>GB</td>\n      <td>2004</td>\n      <td>34.0</td>\n      <td>38.0</td>\n      <td>10.0</td>\n      <td>NaN</td>\n      <td>...</td>\n      <td>1.0</td>\n      <td>NaN</td>\n      <td>4.0</td>\n      <td>NaN</td>\n      <td>NaN</td>\n      <td>NaN</td>\n      <td>7.0</td>\n      <td>lab+4.0</td>\n      <td>4.0</td>\n      <td>60.0</td>\n    </tr>\n    <tr>\n      <th>75</th>\n      <td>2022-03-23</td>\n      <td>2022-03-25</td>\n      <td>Opinium</td>\n      <td>The Observer</td>\n      <td>GB</td>\n      <td>2002</td>\n      <td>36.0</td>\n      <td>38.0</td>\n      <td>9.0</td>\n      <td>NaN</td>\n      <td>...</td>\n      <td>1.0</td>\n      <td>NaN</td>\n      <td>4.0</td>\n      <td>NaN</td>\n      <td>NaN</td>\n      <td>NaN</td>\n      <td>6.0</td>\n      <td>lab+2.0</td>\n      <td>2.0</td>\n      <td>59.0</td>\n    </tr>\n    <tr>\n      <th>86</th>\n      <td>2022-03-09</td>\n      <td>2022-03-11</td>\n      <td>Opinium</td>\n      <td>The Observer</td>\n      <td>GB</td>\n      <td>2007</td>\n      <td>35.0</td>\n      <td>37.0</td>\n      <td>9.0</td>\n      <td>NaN</td>\n      <td>...</td>\n      <td>1.0</td>\n      <td>NaN</td>\n      <td>4.0</td>\n      <td>NaN</td>\n      <td>NaN</td>\n      <td>NaN</td>\n      <td>7.0</td>\n      <td>lab+2.0</td>\n      <td>2.0</td>\n      <td>58.0</td>\n    </tr>\n    <tr>\n      <th>99</th>\n      <td>2022-02-23</td>\n      <td>2022-02-25</td>\n      <td>Opinium</td>\n      <td>The Observer</td>\n      <td>GB</td>\n      <td>2068</td>\n      <td>34.0</td>\n      <td>38.0</td>\n      <td>11.0</td>\n      <td>NaN</td>\n      <td>...</td>\n      <td>1.0</td>\n      <td>NaN</td>\n      <td>4.0</td>\n      <td>NaN</td>\n      <td>NaN</td>\n      <td>NaN</td>\n      <td>5.0</td>\n      <td>lab+4.0</td>\n      <td>4.0</td>\n      <td>60.0</td>\n    </tr>\n    <tr>\n      <th>112</th>\n      <td>2022-02-09</td>\n      <td>2022-02-11</td>\n      <td>Opinium</td>\n      <td>The Observer</td>\n      <td>GB</td>\n      <td>1526</td>\n      <td>34.0</td>\n      <td>37.0</td>\n      <td>11.0</td>\n      <td>NaN</td>\n      <td>...</td>\n      <td>1.0</td>\n      <td>NaN</td>\n      <td>3.0</td>\n      <td>NaN</td>\n      <td>NaN</td>\n      <td>NaN</td>\n      <td>8.0</td>\n      <td>lab+3.0</td>\n      <td>3.0</td>\n      <td>58.0</td>\n    </tr>\n    <tr>\n      <th>122</th>\n      <td>2022-01-27</td>\n      <td>2022-01-28</td>\n      <td>Opinium</td>\n      <td>The Observer</td>\n      <td>GB</td>\n      <td>1647</td>\n      <td>34.0</td>\n      <td>39.0</td>\n      <td>9.0</td>\n      <td>NaN</td>\n      <td>...</td>\n      <td>1.0</td>\n      <td>NaN</td>\n      <td>5.0</td>\n      <td>NaN</td>\n      <td>NaN</td>\n      <td>NaN</td>\n      <td>6.0</td>\n      <td>lab+5.0</td>\n      <td>5.0</td>\n      <td>59.0</td>\n    </tr>\n    <tr>\n      <th>138</th>\n      <td>2022-01-12</td>\n      <td>2022-01-14</td>\n      <td>Opinium</td>\n      <td>The Observer</td>\n      <td>UK</td>\n      <td>1271</td>\n      <td>31.0</td>\n      <td>41.0</td>\n      <td>9.0</td>\n      <td>NaN</td>\n      <td>...</td>\n      <td>1.0</td>\n      <td>NaN</td>\n      <td>4.0</td>\n      <td>NaN</td>\n      <td>NaN</td>\n      <td>NaN</td>\n      <td>8.0</td>\n      <td>lab+10.0</td>\n      <td>10.0</td>\n      <td>61.0</td>\n    </tr>\n    <tr>\n      <th>146</th>\n      <td>2022-01-05</td>\n      <td>2022-01-07</td>\n      <td>Opinium</td>\n      <td>The Observer</td>\n      <td>UK</td>\n      <td>1326</td>\n      <td>34.0</td>\n      <td>39.0</td>\n      <td>11.0</td>\n      <td>NaN</td>\n      <td>...</td>\n      <td>1.0</td>\n      <td>NaN</td>\n      <td>4.0</td>\n      <td>NaN</td>\n      <td>NaN</td>\n      <td>NaN</td>\n      <td>6.0</td>\n      <td>lab+5.0</td>\n      <td>5.0</td>\n      <td>60.0</td>\n    </tr>\n    <tr>\n      <th>150</th>\n      <td>2021-12-21</td>\n      <td>2021-12-23</td>\n      <td>Opinium</td>\n      <td>The Observer</td>\n      <td>UK</td>\n      <td>1216</td>\n      <td>32.0</td>\n      <td>39.0</td>\n      <td>11.0</td>\n      <td>NaN</td>\n      <td>...</td>\n      <td>1.0</td>\n      <td>NaN</td>\n      <td>5.0</td>\n      <td>NaN</td>\n      <td>NaN</td>\n      <td>NaN</td>\n      <td>7.0</td>\n      <td>lab+7.0</td>\n      <td>7.0</td>\n      <td>62.0</td>\n    </tr>\n    <tr>\n      <th>166</th>\n      <td>2021-12-08</td>\n      <td>2021-12-10</td>\n      <td>Opinium</td>\n      <td>The Observer</td>\n      <td>UK</td>\n      <td>2042</td>\n      <td>32.0</td>\n      <td>41.0</td>\n      <td>9.0</td>\n      <td>NaN</td>\n      <td>...</td>\n      <td>0.0</td>\n      <td>NaN</td>\n      <td>5.0</td>\n      <td>NaN</td>\n      <td>NaN</td>\n      <td>NaN</td>\n      <td>8.0</td>\n      <td>lab+9.0</td>\n      <td>9.0</td>\n      <td>60.0</td>\n    </tr>\n    <tr>\n      <th>180</th>\n      <td>2021-11-24</td>\n      <td>2021-11-26</td>\n      <td>Opinium</td>\n      <td>The Observer</td>\n      <td>UK</td>\n      <td>1990</td>\n      <td>36.0</td>\n      <td>38.0</td>\n      <td>8.0</td>\n      <td>NaN</td>\n      <td>...</td>\n      <td>1.0</td>\n      <td>NaN</td>\n      <td>5.0</td>\n      <td>NaN</td>\n      <td>NaN</td>\n      <td>NaN</td>\n      <td>7.0</td>\n      <td>lab+2.0</td>\n      <td>2.0</td>\n      <td>58.0</td>\n    </tr>\n    <tr>\n      <th>189</th>\n      <td>2021-11-10</td>\n      <td>2021-11-12</td>\n      <td>Opinium</td>\n      <td>The Observer</td>\n      <td>UK</td>\n      <td>1175</td>\n      <td>36.0</td>\n      <td>37.0</td>\n      <td>9.0</td>\n      <td>NaN</td>\n      <td>...</td>\n      <td>1.0</td>\n      <td>NaN</td>\n      <td>5.0</td>\n      <td>NaN</td>\n      <td>NaN</td>\n      <td>NaN</td>\n      <td>5.0</td>\n      <td>lab+1.0</td>\n      <td>1.0</td>\n      <td>59.0</td>\n    </tr>\n  </tbody>\n</table>\n<p>18 rows × 24 columns</p>\n</div>"
     },
     "execution_count": 20,
     "metadata": {},
     "output_type": "execute_result"
    }
   ],
   "source": [
    "all_polls[all_polls.date_concluded > all_polls.query(\"labour<conservative and pollster == 'Opinium'\").date_concluded.max()].query(\"pollster == 'Opinium'\")"
   ],
   "metadata": {
    "collapsed": false,
    "pycharm": {
     "name": "#%%\n"
    }
   }
  },
  {
   "cell_type": "code",
   "execution_count": 21,
   "outputs": [
    {
     "data": {
      "text/plain": "   date_started date_concluded                      pollster           client  \\\n0    2022-06-28     2022-06-29                        YouGov        The Times   \n1    2022-06-26     2022-06-26  Redfield & Wilton Strategies              NaN   \n2    2022-06-24     2022-06-26                Savanta ComRes  The Independent   \n3    2022-06-22     2022-06-24                       Opinium     The Observer   \n4    2022-06-22     2022-06-23                     Techne UK              NaN   \n..          ...            ...                           ...              ...   \n74   2022-03-27     2022-03-27  Redfield & Wilton Strategies              NaN   \n75   2022-03-23     2022-03-25                       Opinium     The Observer   \n76   2022-03-23     2022-03-24                        YouGov        The Times   \n77   2022-03-23     2022-03-24                     Techne UK              NaN   \n78   2022-03-22     2022-03-23                        YouGov        The Times   \n\n   area sample_size  conservative  labour  liberal_democrat  alliance  ...  \\\n0    GB        1671          33.0    36.0              13.0       NaN  ...   \n1    GB        2000          33.0    41.0              15.0       NaN  ...   \n2    UK        2217          34.0    41.0              10.0       NaN  ...   \n3    GB        1516          34.0    37.0              11.0       NaN  ...   \n4    UK        1630          32.0    38.0              14.0       NaN  ...   \n..  ...         ...           ...     ...               ...       ...  ...   \n74   GB        2000          35.0    37.0               9.0       NaN  ...   \n75   GB        2002          36.0    38.0               9.0       NaN  ...   \n76   GB        1759          35.0    37.0              10.0       NaN  ...   \n77   UK        1641          35.0    40.0              10.0       NaN  ...   \n78   GB        1810          35.0    36.0               9.0       NaN  ...   \n\n    plaid_cymru  reform_uk  scottish_national_party  social_democratic_party  \\\n0           1.0        3.0                      5.0                      NaN   \n1           0.0        3.0                      4.0                      NaN   \n2           NaN        NaN                      5.0                      NaN   \n3           1.0        NaN                      4.0                      NaN   \n4           NaN        NaN                      4.0                      NaN   \n..          ...        ...                      ...                      ...   \n74          1.0        5.0                      6.0                      NaN   \n75          1.0        NaN                      4.0                      NaN   \n76          1.0        4.0                      4.0                      NaN   \n77          NaN        NaN                      4.0                      NaN   \n78          1.0        5.0                      4.0                      NaN   \n\n    united_kingdom_independence_party  reclaim_party  others     lead  \\\n0                                 NaN            NaN     2.0  lab+3.0   \n1                                 NaN            NaN     1.0  lab+8.0   \n2                                 NaN            NaN     6.0  lab+7.0   \n3                                 NaN            NaN     7.0  lab+3.0   \n4                                 NaN            NaN     6.0  lab+6.0   \n..                                ...            ...     ...      ...   \n74                                NaN            NaN     2.0  lab+2.0   \n75                                NaN            NaN     6.0  lab+2.0   \n76                                NaN            NaN     2.0  lab+2.0   \n77                                NaN            NaN     6.0  lab+5.0   \n78                                NaN            NaN     3.0  lab+1.0   \n\n    lead_value  anti_conservative  \n0          3.0               61.0  \n1          8.0               64.0  \n2          7.0               61.0  \n3          3.0               59.0  \n4          6.0               62.0  \n..         ...                ...  \n74         2.0               58.0  \n75         2.0               59.0  \n76         2.0               59.0  \n77         5.0               59.0  \n78         1.0               58.0  \n\n[79 rows x 24 columns]",
      "text/html": "<div>\n<style scoped>\n    .dataframe tbody tr th:only-of-type {\n        vertical-align: middle;\n    }\n\n    .dataframe tbody tr th {\n        vertical-align: top;\n    }\n\n    .dataframe thead th {\n        text-align: right;\n    }\n</style>\n<table border=\"1\" class=\"dataframe\">\n  <thead>\n    <tr style=\"text-align: right;\">\n      <th></th>\n      <th>date_started</th>\n      <th>date_concluded</th>\n      <th>pollster</th>\n      <th>client</th>\n      <th>area</th>\n      <th>sample_size</th>\n      <th>conservative</th>\n      <th>labour</th>\n      <th>liberal_democrat</th>\n      <th>alliance</th>\n      <th>...</th>\n      <th>plaid_cymru</th>\n      <th>reform_uk</th>\n      <th>scottish_national_party</th>\n      <th>social_democratic_party</th>\n      <th>united_kingdom_independence_party</th>\n      <th>reclaim_party</th>\n      <th>others</th>\n      <th>lead</th>\n      <th>lead_value</th>\n      <th>anti_conservative</th>\n    </tr>\n  </thead>\n  <tbody>\n    <tr>\n      <th>0</th>\n      <td>2022-06-28</td>\n      <td>2022-06-29</td>\n      <td>YouGov</td>\n      <td>The Times</td>\n      <td>GB</td>\n      <td>1671</td>\n      <td>33.0</td>\n      <td>36.0</td>\n      <td>13.0</td>\n      <td>NaN</td>\n      <td>...</td>\n      <td>1.0</td>\n      <td>3.0</td>\n      <td>5.0</td>\n      <td>NaN</td>\n      <td>NaN</td>\n      <td>NaN</td>\n      <td>2.0</td>\n      <td>lab+3.0</td>\n      <td>3.0</td>\n      <td>61.0</td>\n    </tr>\n    <tr>\n      <th>1</th>\n      <td>2022-06-26</td>\n      <td>2022-06-26</td>\n      <td>Redfield &amp; Wilton Strategies</td>\n      <td>NaN</td>\n      <td>GB</td>\n      <td>2000</td>\n      <td>33.0</td>\n      <td>41.0</td>\n      <td>15.0</td>\n      <td>NaN</td>\n      <td>...</td>\n      <td>0.0</td>\n      <td>3.0</td>\n      <td>4.0</td>\n      <td>NaN</td>\n      <td>NaN</td>\n      <td>NaN</td>\n      <td>1.0</td>\n      <td>lab+8.0</td>\n      <td>8.0</td>\n      <td>64.0</td>\n    </tr>\n    <tr>\n      <th>2</th>\n      <td>2022-06-24</td>\n      <td>2022-06-26</td>\n      <td>Savanta ComRes</td>\n      <td>The Independent</td>\n      <td>UK</td>\n      <td>2217</td>\n      <td>34.0</td>\n      <td>41.0</td>\n      <td>10.0</td>\n      <td>NaN</td>\n      <td>...</td>\n      <td>NaN</td>\n      <td>NaN</td>\n      <td>5.0</td>\n      <td>NaN</td>\n      <td>NaN</td>\n      <td>NaN</td>\n      <td>6.0</td>\n      <td>lab+7.0</td>\n      <td>7.0</td>\n      <td>61.0</td>\n    </tr>\n    <tr>\n      <th>3</th>\n      <td>2022-06-22</td>\n      <td>2022-06-24</td>\n      <td>Opinium</td>\n      <td>The Observer</td>\n      <td>GB</td>\n      <td>1516</td>\n      <td>34.0</td>\n      <td>37.0</td>\n      <td>11.0</td>\n      <td>NaN</td>\n      <td>...</td>\n      <td>1.0</td>\n      <td>NaN</td>\n      <td>4.0</td>\n      <td>NaN</td>\n      <td>NaN</td>\n      <td>NaN</td>\n      <td>7.0</td>\n      <td>lab+3.0</td>\n      <td>3.0</td>\n      <td>59.0</td>\n    </tr>\n    <tr>\n      <th>4</th>\n      <td>2022-06-22</td>\n      <td>2022-06-23</td>\n      <td>Techne UK</td>\n      <td>NaN</td>\n      <td>UK</td>\n      <td>1630</td>\n      <td>32.0</td>\n      <td>38.0</td>\n      <td>14.0</td>\n      <td>NaN</td>\n      <td>...</td>\n      <td>NaN</td>\n      <td>NaN</td>\n      <td>4.0</td>\n      <td>NaN</td>\n      <td>NaN</td>\n      <td>NaN</td>\n      <td>6.0</td>\n      <td>lab+6.0</td>\n      <td>6.0</td>\n      <td>62.0</td>\n    </tr>\n    <tr>\n      <th>...</th>\n      <td>...</td>\n      <td>...</td>\n      <td>...</td>\n      <td>...</td>\n      <td>...</td>\n      <td>...</td>\n      <td>...</td>\n      <td>...</td>\n      <td>...</td>\n      <td>...</td>\n      <td>...</td>\n      <td>...</td>\n      <td>...</td>\n      <td>...</td>\n      <td>...</td>\n      <td>...</td>\n      <td>...</td>\n      <td>...</td>\n      <td>...</td>\n      <td>...</td>\n      <td>...</td>\n    </tr>\n    <tr>\n      <th>74</th>\n      <td>2022-03-27</td>\n      <td>2022-03-27</td>\n      <td>Redfield &amp; Wilton Strategies</td>\n      <td>NaN</td>\n      <td>GB</td>\n      <td>2000</td>\n      <td>35.0</td>\n      <td>37.0</td>\n      <td>9.0</td>\n      <td>NaN</td>\n      <td>...</td>\n      <td>1.0</td>\n      <td>5.0</td>\n      <td>6.0</td>\n      <td>NaN</td>\n      <td>NaN</td>\n      <td>NaN</td>\n      <td>2.0</td>\n      <td>lab+2.0</td>\n      <td>2.0</td>\n      <td>58.0</td>\n    </tr>\n    <tr>\n      <th>75</th>\n      <td>2022-03-23</td>\n      <td>2022-03-25</td>\n      <td>Opinium</td>\n      <td>The Observer</td>\n      <td>GB</td>\n      <td>2002</td>\n      <td>36.0</td>\n      <td>38.0</td>\n      <td>9.0</td>\n      <td>NaN</td>\n      <td>...</td>\n      <td>1.0</td>\n      <td>NaN</td>\n      <td>4.0</td>\n      <td>NaN</td>\n      <td>NaN</td>\n      <td>NaN</td>\n      <td>6.0</td>\n      <td>lab+2.0</td>\n      <td>2.0</td>\n      <td>59.0</td>\n    </tr>\n    <tr>\n      <th>76</th>\n      <td>2022-03-23</td>\n      <td>2022-03-24</td>\n      <td>YouGov</td>\n      <td>The Times</td>\n      <td>GB</td>\n      <td>1759</td>\n      <td>35.0</td>\n      <td>37.0</td>\n      <td>10.0</td>\n      <td>NaN</td>\n      <td>...</td>\n      <td>1.0</td>\n      <td>4.0</td>\n      <td>4.0</td>\n      <td>NaN</td>\n      <td>NaN</td>\n      <td>NaN</td>\n      <td>2.0</td>\n      <td>lab+2.0</td>\n      <td>2.0</td>\n      <td>59.0</td>\n    </tr>\n    <tr>\n      <th>77</th>\n      <td>2022-03-23</td>\n      <td>2022-03-24</td>\n      <td>Techne UK</td>\n      <td>NaN</td>\n      <td>UK</td>\n      <td>1641</td>\n      <td>35.0</td>\n      <td>40.0</td>\n      <td>10.0</td>\n      <td>NaN</td>\n      <td>...</td>\n      <td>NaN</td>\n      <td>NaN</td>\n      <td>4.0</td>\n      <td>NaN</td>\n      <td>NaN</td>\n      <td>NaN</td>\n      <td>6.0</td>\n      <td>lab+5.0</td>\n      <td>5.0</td>\n      <td>59.0</td>\n    </tr>\n    <tr>\n      <th>78</th>\n      <td>2022-03-22</td>\n      <td>2022-03-23</td>\n      <td>YouGov</td>\n      <td>The Times</td>\n      <td>GB</td>\n      <td>1810</td>\n      <td>35.0</td>\n      <td>36.0</td>\n      <td>9.0</td>\n      <td>NaN</td>\n      <td>...</td>\n      <td>1.0</td>\n      <td>5.0</td>\n      <td>4.0</td>\n      <td>NaN</td>\n      <td>NaN</td>\n      <td>NaN</td>\n      <td>3.0</td>\n      <td>lab+1.0</td>\n      <td>1.0</td>\n      <td>58.0</td>\n    </tr>\n  </tbody>\n</table>\n<p>79 rows × 24 columns</p>\n</div>"
     },
     "execution_count": 21,
     "metadata": {},
     "output_type": "execute_result"
    }
   ],
   "source": [
    "all_polls[all_polls.date_concluded > all_polls.query(\"labour<=conservative\").date_concluded.max()]"
   ],
   "metadata": {
    "collapsed": false,
    "pycharm": {
     "name": "#%%\n"
    }
   }
  },
  {
   "cell_type": "code",
   "execution_count": 21,
   "outputs": [],
   "source": [],
   "metadata": {
    "collapsed": false,
    "pycharm": {
     "name": "#%%\n"
    }
   }
  },
  {
   "cell_type": "code",
   "execution_count": 22,
   "outputs": [
    {
     "data": {
      "text/plain": "     date_concluded pollster  conservative  labour  liberal_democrat      lead\n138      2022-01-14  Opinium          31.0    41.0               9.0  lab+10.0\n166      2021-12-10  Opinium          32.0    41.0               9.0   lab+9.0\n404      2021-01-15  Opinium          37.0    41.0               6.0   lab+4.0\n440      2020-11-06  Opinium          38.0    42.0               7.0   lab+4.0\n464      2020-09-25  Opinium          39.0    42.0               5.0   lab+3.0\n980      2017-12-14  Opinium          39.0    41.0               7.0   lab+2.0\n993      2017-11-16  Opinium          40.0    42.0               6.0   lab+2.0\n1003     2017-10-06  Opinium          40.0    42.0               5.0   lab+2.0\n1014     2017-09-15  Opinium          41.0    41.0               5.0       Tie\n1021     2017-08-18  Opinium          40.0    43.0               6.0   lab+3.0\n1029     2017-07-14  Opinium          41.0    43.0               5.0   lab+2.0\n1034     2017-06-29  Opinium          39.0    45.0               5.0   lab+6.0\n2361     2013-02-21  Opinium          29.0    41.0               8.0  lab+12.0\n2394     2013-01-24  Opinium          28.0    41.0               8.0  lab+13.0\n2407     2013-01-11  Opinium          31.0    41.0               7.0  lab+10.0\n2473     2012-11-01  Opinium          30.0    41.0               9.0  lab+11.0\n2501     2012-10-04  Opinium          30.0    41.0               9.0  lab+11.0\n2511     2012-09-21  Opinium          30.0    42.0               8.0  lab+12.0\n2530     2012-08-31  Opinium          31.0    42.0               8.0  lab+11.0\n2569     2012-07-16  Opinium          32.0    41.0               9.0   lab+9.0\n2583     2012-06-28  Opinium          31.0    42.0               8.0  lab+11.0\n2600     2012-06-11  Opinium          31.0    42.0               9.0  lab+11.0\n2622     2012-05-17  Opinium          30.0    41.0               9.0  lab+11.0",
      "text/html": "<div>\n<style scoped>\n    .dataframe tbody tr th:only-of-type {\n        vertical-align: middle;\n    }\n\n    .dataframe tbody tr th {\n        vertical-align: top;\n    }\n\n    .dataframe thead th {\n        text-align: right;\n    }\n</style>\n<table border=\"1\" class=\"dataframe\">\n  <thead>\n    <tr style=\"text-align: right;\">\n      <th></th>\n      <th>date_concluded</th>\n      <th>pollster</th>\n      <th>conservative</th>\n      <th>labour</th>\n      <th>liberal_democrat</th>\n      <th>lead</th>\n    </tr>\n  </thead>\n  <tbody>\n    <tr>\n      <th>138</th>\n      <td>2022-01-14</td>\n      <td>Opinium</td>\n      <td>31.0</td>\n      <td>41.0</td>\n      <td>9.0</td>\n      <td>lab+10.0</td>\n    </tr>\n    <tr>\n      <th>166</th>\n      <td>2021-12-10</td>\n      <td>Opinium</td>\n      <td>32.0</td>\n      <td>41.0</td>\n      <td>9.0</td>\n      <td>lab+9.0</td>\n    </tr>\n    <tr>\n      <th>404</th>\n      <td>2021-01-15</td>\n      <td>Opinium</td>\n      <td>37.0</td>\n      <td>41.0</td>\n      <td>6.0</td>\n      <td>lab+4.0</td>\n    </tr>\n    <tr>\n      <th>440</th>\n      <td>2020-11-06</td>\n      <td>Opinium</td>\n      <td>38.0</td>\n      <td>42.0</td>\n      <td>7.0</td>\n      <td>lab+4.0</td>\n    </tr>\n    <tr>\n      <th>464</th>\n      <td>2020-09-25</td>\n      <td>Opinium</td>\n      <td>39.0</td>\n      <td>42.0</td>\n      <td>5.0</td>\n      <td>lab+3.0</td>\n    </tr>\n    <tr>\n      <th>980</th>\n      <td>2017-12-14</td>\n      <td>Opinium</td>\n      <td>39.0</td>\n      <td>41.0</td>\n      <td>7.0</td>\n      <td>lab+2.0</td>\n    </tr>\n    <tr>\n      <th>993</th>\n      <td>2017-11-16</td>\n      <td>Opinium</td>\n      <td>40.0</td>\n      <td>42.0</td>\n      <td>6.0</td>\n      <td>lab+2.0</td>\n    </tr>\n    <tr>\n      <th>1003</th>\n      <td>2017-10-06</td>\n      <td>Opinium</td>\n      <td>40.0</td>\n      <td>42.0</td>\n      <td>5.0</td>\n      <td>lab+2.0</td>\n    </tr>\n    <tr>\n      <th>1014</th>\n      <td>2017-09-15</td>\n      <td>Opinium</td>\n      <td>41.0</td>\n      <td>41.0</td>\n      <td>5.0</td>\n      <td>Tie</td>\n    </tr>\n    <tr>\n      <th>1021</th>\n      <td>2017-08-18</td>\n      <td>Opinium</td>\n      <td>40.0</td>\n      <td>43.0</td>\n      <td>6.0</td>\n      <td>lab+3.0</td>\n    </tr>\n    <tr>\n      <th>1029</th>\n      <td>2017-07-14</td>\n      <td>Opinium</td>\n      <td>41.0</td>\n      <td>43.0</td>\n      <td>5.0</td>\n      <td>lab+2.0</td>\n    </tr>\n    <tr>\n      <th>1034</th>\n      <td>2017-06-29</td>\n      <td>Opinium</td>\n      <td>39.0</td>\n      <td>45.0</td>\n      <td>5.0</td>\n      <td>lab+6.0</td>\n    </tr>\n    <tr>\n      <th>2361</th>\n      <td>2013-02-21</td>\n      <td>Opinium</td>\n      <td>29.0</td>\n      <td>41.0</td>\n      <td>8.0</td>\n      <td>lab+12.0</td>\n    </tr>\n    <tr>\n      <th>2394</th>\n      <td>2013-01-24</td>\n      <td>Opinium</td>\n      <td>28.0</td>\n      <td>41.0</td>\n      <td>8.0</td>\n      <td>lab+13.0</td>\n    </tr>\n    <tr>\n      <th>2407</th>\n      <td>2013-01-11</td>\n      <td>Opinium</td>\n      <td>31.0</td>\n      <td>41.0</td>\n      <td>7.0</td>\n      <td>lab+10.0</td>\n    </tr>\n    <tr>\n      <th>2473</th>\n      <td>2012-11-01</td>\n      <td>Opinium</td>\n      <td>30.0</td>\n      <td>41.0</td>\n      <td>9.0</td>\n      <td>lab+11.0</td>\n    </tr>\n    <tr>\n      <th>2501</th>\n      <td>2012-10-04</td>\n      <td>Opinium</td>\n      <td>30.0</td>\n      <td>41.0</td>\n      <td>9.0</td>\n      <td>lab+11.0</td>\n    </tr>\n    <tr>\n      <th>2511</th>\n      <td>2012-09-21</td>\n      <td>Opinium</td>\n      <td>30.0</td>\n      <td>42.0</td>\n      <td>8.0</td>\n      <td>lab+12.0</td>\n    </tr>\n    <tr>\n      <th>2530</th>\n      <td>2012-08-31</td>\n      <td>Opinium</td>\n      <td>31.0</td>\n      <td>42.0</td>\n      <td>8.0</td>\n      <td>lab+11.0</td>\n    </tr>\n    <tr>\n      <th>2569</th>\n      <td>2012-07-16</td>\n      <td>Opinium</td>\n      <td>32.0</td>\n      <td>41.0</td>\n      <td>9.0</td>\n      <td>lab+9.0</td>\n    </tr>\n    <tr>\n      <th>2583</th>\n      <td>2012-06-28</td>\n      <td>Opinium</td>\n      <td>31.0</td>\n      <td>42.0</td>\n      <td>8.0</td>\n      <td>lab+11.0</td>\n    </tr>\n    <tr>\n      <th>2600</th>\n      <td>2012-06-11</td>\n      <td>Opinium</td>\n      <td>31.0</td>\n      <td>42.0</td>\n      <td>9.0</td>\n      <td>lab+11.0</td>\n    </tr>\n    <tr>\n      <th>2622</th>\n      <td>2012-05-17</td>\n      <td>Opinium</td>\n      <td>30.0</td>\n      <td>41.0</td>\n      <td>9.0</td>\n      <td>lab+11.0</td>\n    </tr>\n  </tbody>\n</table>\n</div>"
     },
     "execution_count": 22,
     "metadata": {},
     "output_type": "execute_result"
    }
   ],
   "source": [
    "all_polls.query(\"pollster=='Opinium' and labour >= 41\")[display_columns]"
   ],
   "metadata": {
    "collapsed": false,
    "pycharm": {
     "name": "#%%\n"
    }
   }
  },
  {
   "cell_type": "code",
   "execution_count": 23,
   "outputs": [],
   "source": [
    "#all_polls.query(\"pollster == 'YouGov' and conservative <31\")[display_columns]"
   ],
   "metadata": {
    "collapsed": false,
    "pycharm": {
     "name": "#%%\n"
    }
   }
  },
  {
   "cell_type": "code",
   "execution_count": 23,
   "outputs": [],
   "source": [],
   "metadata": {
    "collapsed": false,
    "pycharm": {
     "name": "#%%\n"
    }
   }
  },
  {
   "cell_type": "code",
   "execution_count": 24,
   "outputs": [],
   "source": [
    "most_recent_date = all_polls.iloc[0].date_concluded\n",
    "one_year_polls = all_polls[\n",
    "    all_polls['date_concluded'] >= (most_recent_date + relativedelta(months=-12)).replace(day=1)].copy()"
   ],
   "metadata": {
    "collapsed": false,
    "pycharm": {
     "name": "#%%\n"
    }
   }
  },
  {
   "cell_type": "code",
   "execution_count": 24,
   "outputs": [],
   "source": [],
   "metadata": {
    "collapsed": false,
    "pycharm": {
     "name": "#%%\n"
    }
   }
  },
  {
   "cell_type": "code",
   "execution_count": 25,
   "outputs": [],
   "source": [
    "pollsters_latest = pd.DataFrame()\n",
    "for pollster in one_year_polls.pollster.unique():\n",
    "    pollster_data = one_year_polls.query(f'pollster == \"{pollster}\"')\n",
    "    latest_poll = pollster_data.iloc[0]\n",
    "    pollsters_latest = pollsters_latest.append(latest_poll)"
   ],
   "metadata": {
    "collapsed": false,
    "pycharm": {
     "name": "#%%\n"
    }
   }
  },
  {
   "cell_type": "code",
   "execution_count": 26,
   "outputs": [],
   "source": [
    "top_five = {'Ipsos MORI': 100,\n",
    "            'Opinium': 79,\n",
    "            'YouGov': 77,\n",
    "            'Kantar Public': 69,\n",
    "            'Number Cruncher Politics': 61,\n",
    "            'Survation': 59,\n",
    "            'Panelbase': 57,\n",
    "            'Deltapoll': 46,\n",
    "            'BMG Research': 44,\n",
    "            'FocalData': 39,\n",
    "            'ICM Research': 35,\n",
    "            'Savanta ComRes': 34,\n",
    "            'Find Out Now': 34*0.5, # Ludicrous Local Election Polling\n",
    "            'Redfield & Wilton Strategies': 34,\n",
    "            'Techne UK': 34,\n",
    "            }\n",
    "\n",
    "top_two = {'Ipsos MORI': 100,\n",
    "           'Survation': 85,\n",
    "           'Kantar Public': 85,\n",
    "           'Panelbase': 74,\n",
    "           'Number Cruncher Politics': 71,\n",
    "           'Opinium': 71,\n",
    "           'YouGov': 67,\n",
    "           'Deltapoll': 50,\n",
    "           'FocalData': 42,\n",
    "           'BMG Research': 39,\n",
    "           'Savanta ComRes': 29,\n",
    "           'ICM Research': 27,\n",
    "           'Find Out Now': 34*0.5, # Ludicrous Local Election Polling\n",
    "           'Redfield & Wilton Strategies': 34,\n",
    "           'Techne UK': 34,\n",
    "           }"
   ],
   "metadata": {
    "collapsed": false,
    "pycharm": {
     "name": "#%%\n"
    }
   }
  },
  {
   "cell_type": "code",
   "execution_count": 27,
   "outputs": [
    {
     "data": {
      "text/plain": "78.5"
     },
     "execution_count": 27,
     "metadata": {},
     "output_type": "execute_result"
    }
   ],
   "source": [
    "(71*3+79*2+100)/6"
   ],
   "metadata": {
    "collapsed": false,
    "pycharm": {
     "name": "#%%\n"
    }
   }
  },
  {
   "cell_type": "code",
   "execution_count": 27,
   "outputs": [],
   "source": [],
   "metadata": {
    "collapsed": false,
    "pycharm": {
     "name": "#%%\n"
    }
   }
  },
  {
   "cell_type": "code",
   "execution_count": 28,
   "outputs": [],
   "source": [
    "recency_weights = {\n",
    "    -1: 100,\n",
    "    7: 100,\n",
    "    15: 70,\n",
    "    30: 5,\n",
    "    90: 0\n",
    "}\n",
    "\n",
    "\n",
    "def get_recency_weight(date_concluded, current_date, return_category=False):\n",
    "    days_since_poll = (current_date - date_concluded).days\n",
    "    days_start_of_range = weight_start_of_range = 0\n",
    "    category = 0\n",
    "    for day, weight in recency_weights.items():\n",
    "        category += 1\n",
    "        if days_since_poll > day:\n",
    "            days_start_of_range = day\n",
    "            weight_start_of_range = weight\n",
    "        else:\n",
    "            percent_through_range = (days_since_poll - days_start_of_range)/(day - days_start_of_range)\n",
    "            full_weight = weight_start_of_range - ((weight_start_of_range - weight)*percent_through_range)\n",
    "            if return_category:\n",
    "                return category - 2\n",
    "            else:\n",
    "                return full_weight\n",
    "    if return_category:\n",
    "        return category - 1\n",
    "    else:\n",
    "        return 0\n"
   ],
   "metadata": {
    "collapsed": false,
    "pycharm": {
     "name": "#%%\n"
    }
   }
  },
  {
   "cell_type": "code",
   "execution_count": 29,
   "outputs": [],
   "source": [
    "def get_pollster_weight(pollster):\n",
    "    if pollster not in top_two:\n",
    "        return 0\n",
    "    top_five_score = top_five[pollster]\n",
    "    top_two_score = top_two[pollster]\n",
    "    pollster_w = (3*top_two_score + 2*top_five_score + 100)/6\n",
    "    return pollster_w\n"
   ],
   "metadata": {
    "collapsed": false,
    "pycharm": {
     "name": "#%%\n"
    }
   }
  },
  {
   "cell_type": "code",
   "execution_count": 30,
   "outputs": [
    {
     "name": "stdout",
     "output_type": "stream",
     "text": [
      " YouGov                        : 75.8\n",
      " Redfield & Wilton Strategies  : 45.0\n",
      " Savanta ComRes                : 42.5\n",
      " Opinium                       : 78.5\n",
      " Techne UK                     : 45.0\n",
      " Kantar Public                 : 82.2\n",
      " Survation                     : 78.8\n",
      " Ipsos MORI                    : 100.0\n",
      " Deltapoll                     : 57.0\n",
      " Number Cruncher Politics      : 72.5\n",
      " Find Out Now                  : 30.8\n",
      " JL Partners Polls             : 0.0\n",
      " FocalData                     : 50.7\n",
      " Panelbase                     : 72.7\n"
     ]
    }
   ],
   "source": [
    "for pollster in one_year_polls.pollster.unique():\n",
    "    print(f' {pollster:30s}: {get_pollster_weight(pollster):.1f}')"
   ],
   "metadata": {
    "collapsed": false,
    "pycharm": {
     "name": "#%%\n"
    }
   }
  },
  {
   "cell_type": "code",
   "execution_count": 31,
   "outputs": [],
   "source": [
    "from scripts.constants import major_parties"
   ],
   "metadata": {
    "collapsed": false,
    "pycharm": {
     "name": "#%%\n"
    }
   }
  },
  {
   "cell_type": "code",
   "execution_count": 32,
   "outputs": [],
   "source": [
    "pollsters_latest['recency_weight'] = pollsters_latest['date_concluded'].apply(get_recency_weight,\n",
    "                                                                              current_date=most_recent_date)\n",
    "pollsters_latest['pollster_weight'] = pollsters_latest['pollster'].apply(get_pollster_weight)\n",
    "pollsters_latest['poll_weight'] = pollsters_latest['pollster_weight']*(pollsters_latest['recency_weight']/100)"
   ],
   "metadata": {
    "collapsed": false,
    "pycharm": {
     "name": "#%%\n"
    }
   }
  },
  {
   "cell_type": "code",
   "execution_count": 33,
   "outputs": [],
   "source": [
    "current_average = pd.DataFrame(columns=major_parties + ['lead'], index=['Polling Average'])\n",
    "lead_party = ''\n",
    "max_vote_share = 0\n",
    "second_vote_share = 0\n",
    "for party in major_parties:\n",
    "    party_vote_share = pollsters_latest[party].dot(pollsters_latest['poll_weight'])/pollsters_latest[\n",
    "        'poll_weight'].sum()\n",
    "    if party_vote_share > max_vote_share:\n",
    "        second_vote_share = max_vote_share\n",
    "        max_vote_share = party_vote_share\n",
    "        lead_party = party\n",
    "    else:\n",
    "        if party_vote_share > second_vote_share:\n",
    "            second_vote_share = party_vote_share\n",
    "    current_average.loc['Polling Average', party] = party_vote_share\n",
    "    #current_average.loc['Polling Average', party] = f'{party_vote_share:.1f}%'\n",
    "#current_average.loc['Polling Average', 'lead'] = f'{lead_party:.3s}+{max_vote_share - second_vote_share:.1f}%'\n",
    "current_average.loc['Polling Average', 'lead_value'] = max_vote_share - second_vote_share\n"
   ],
   "metadata": {
    "collapsed": false,
    "pycharm": {
     "name": "#%%\n"
    }
   }
  },
  {
   "cell_type": "code",
   "execution_count": 34,
   "outputs": [],
   "source": [
    "one_year_polls['poll_month'] = one_year_polls['date_concluded'].apply(lambda x: x.replace(day=1))"
   ],
   "metadata": {
    "collapsed": false,
    "pycharm": {
     "name": "#%%\n"
    }
   }
  },
  {
   "cell_type": "code",
   "execution_count": 35,
   "outputs": [],
   "source": [
    "pollster_monthly_summary = one_year_polls.groupby(['poll_month', 'pollster'])[major_parties].agg(['mean', 'count'])\n",
    "pollster_monthly_summary.columns = [x if i == 0 else f'count{major_parties.index(x)}' for x in major_parties for i in\n",
    "                                    range(0, 2)]\n",
    "pollster_monthly_summary.drop(columns=[f'count{major_parties.index(x)}' for x in major_parties][1:], inplace=True)\n",
    "pollster_monthly_summary.rename(columns={\"count0\": \"count\"}, inplace=True)\n",
    "\n",
    "agg_info = {x: ['mean'] for x in major_parties}\n",
    "agg_info['count'] = ['count', 'sum']\n",
    "monthly_summary = pollster_monthly_summary.reset_index().groupby(['poll_month']).agg(agg_info)\n",
    "monthly_summary.columns = major_parties + ['pollster_count', 'poll_count']"
   ],
   "metadata": {
    "collapsed": false,
    "pycharm": {
     "name": "#%%\n"
    }
   }
  },
  {
   "cell_type": "code",
   "execution_count": 35,
   "outputs": [],
   "source": [],
   "metadata": {
    "collapsed": false,
    "pycharm": {
     "name": "#%%\n"
    }
   }
  },
  {
   "cell_type": "code",
   "execution_count": 36,
   "outputs": [],
   "source": [
    "from scripts.functions import format_lead\n",
    "\n",
    "monthly_summary[['lead', 'lead_value']] = monthly_summary.apply(format_lead, axis=1, result_type='expand')"
   ],
   "metadata": {
    "collapsed": false,
    "pycharm": {
     "name": "#%%\n"
    }
   }
  },
  {
   "cell_type": "code",
   "execution_count": 36,
   "outputs": [],
   "source": [],
   "metadata": {
    "collapsed": false,
    "pycharm": {
     "name": "#%%\n"
    }
   }
  },
  {
   "cell_type": "code",
   "execution_count": 37,
   "outputs": [
    {
     "data": {
      "text/plain": "    date_concluded                      pollster  conservative  labour  \\\n3       2022-06-24                       Opinium          34.0    37.0   \n7       2022-06-20                 Kantar Public          34.0    36.0   \n0       2022-06-29                        YouGov          33.0    36.0   \n1       2022-06-26  Redfield & Wilton Strategies          33.0    41.0   \n4       2022-06-23                     Techne UK          32.0    38.0   \n2       2022-06-26                Savanta ComRes          34.0    41.0   \n15      2022-06-10                     Survation          34.0    41.0   \n36      2022-05-17                    Ipsos MORI          33.0    39.0   \n59      2022-04-14                     Deltapoll          32.0    43.0   \n97      2022-02-28      Number Cruncher Politics          35.0    42.0   \n106     2022-02-18                  Find Out Now          32.0    38.0   \n130     2022-01-23             JL Partners Polls          32.0    42.0   \n140     2022-01-13                     FocalData          33.0    42.0   \n185     2021-11-19                     Panelbase          38.0    39.0   \n\n     liberal_democrat      lead  \n3                11.0   lab+3.0  \n7                13.0   lab+2.0  \n0                13.0   lab+3.0  \n1                15.0   lab+8.0  \n4                14.0   lab+6.0  \n2                10.0   lab+7.0  \n15               10.0   lab+7.0  \n36               12.0   lab+6.0  \n59                9.0  lab+11.0  \n97                8.0   lab+7.0  \n106              13.0   lab+6.0  \n130              10.0  lab+10.0  \n140              11.0   lab+9.0  \n185               9.0   lab+1.0  ",
      "text/html": "<div>\n<style scoped>\n    .dataframe tbody tr th:only-of-type {\n        vertical-align: middle;\n    }\n\n    .dataframe tbody tr th {\n        vertical-align: top;\n    }\n\n    .dataframe thead th {\n        text-align: right;\n    }\n</style>\n<table border=\"1\" class=\"dataframe\">\n  <thead>\n    <tr style=\"text-align: right;\">\n      <th></th>\n      <th>date_concluded</th>\n      <th>pollster</th>\n      <th>conservative</th>\n      <th>labour</th>\n      <th>liberal_democrat</th>\n      <th>lead</th>\n    </tr>\n  </thead>\n  <tbody>\n    <tr>\n      <th>3</th>\n      <td>2022-06-24</td>\n      <td>Opinium</td>\n      <td>34.0</td>\n      <td>37.0</td>\n      <td>11.0</td>\n      <td>lab+3.0</td>\n    </tr>\n    <tr>\n      <th>7</th>\n      <td>2022-06-20</td>\n      <td>Kantar Public</td>\n      <td>34.0</td>\n      <td>36.0</td>\n      <td>13.0</td>\n      <td>lab+2.0</td>\n    </tr>\n    <tr>\n      <th>0</th>\n      <td>2022-06-29</td>\n      <td>YouGov</td>\n      <td>33.0</td>\n      <td>36.0</td>\n      <td>13.0</td>\n      <td>lab+3.0</td>\n    </tr>\n    <tr>\n      <th>1</th>\n      <td>2022-06-26</td>\n      <td>Redfield &amp; Wilton Strategies</td>\n      <td>33.0</td>\n      <td>41.0</td>\n      <td>15.0</td>\n      <td>lab+8.0</td>\n    </tr>\n    <tr>\n      <th>4</th>\n      <td>2022-06-23</td>\n      <td>Techne UK</td>\n      <td>32.0</td>\n      <td>38.0</td>\n      <td>14.0</td>\n      <td>lab+6.0</td>\n    </tr>\n    <tr>\n      <th>2</th>\n      <td>2022-06-26</td>\n      <td>Savanta ComRes</td>\n      <td>34.0</td>\n      <td>41.0</td>\n      <td>10.0</td>\n      <td>lab+7.0</td>\n    </tr>\n    <tr>\n      <th>15</th>\n      <td>2022-06-10</td>\n      <td>Survation</td>\n      <td>34.0</td>\n      <td>41.0</td>\n      <td>10.0</td>\n      <td>lab+7.0</td>\n    </tr>\n    <tr>\n      <th>36</th>\n      <td>2022-05-17</td>\n      <td>Ipsos MORI</td>\n      <td>33.0</td>\n      <td>39.0</td>\n      <td>12.0</td>\n      <td>lab+6.0</td>\n    </tr>\n    <tr>\n      <th>59</th>\n      <td>2022-04-14</td>\n      <td>Deltapoll</td>\n      <td>32.0</td>\n      <td>43.0</td>\n      <td>9.0</td>\n      <td>lab+11.0</td>\n    </tr>\n    <tr>\n      <th>97</th>\n      <td>2022-02-28</td>\n      <td>Number Cruncher Politics</td>\n      <td>35.0</td>\n      <td>42.0</td>\n      <td>8.0</td>\n      <td>lab+7.0</td>\n    </tr>\n    <tr>\n      <th>106</th>\n      <td>2022-02-18</td>\n      <td>Find Out Now</td>\n      <td>32.0</td>\n      <td>38.0</td>\n      <td>13.0</td>\n      <td>lab+6.0</td>\n    </tr>\n    <tr>\n      <th>130</th>\n      <td>2022-01-23</td>\n      <td>JL Partners Polls</td>\n      <td>32.0</td>\n      <td>42.0</td>\n      <td>10.0</td>\n      <td>lab+10.0</td>\n    </tr>\n    <tr>\n      <th>140</th>\n      <td>2022-01-13</td>\n      <td>FocalData</td>\n      <td>33.0</td>\n      <td>42.0</td>\n      <td>11.0</td>\n      <td>lab+9.0</td>\n    </tr>\n    <tr>\n      <th>185</th>\n      <td>2021-11-19</td>\n      <td>Panelbase</td>\n      <td>38.0</td>\n      <td>39.0</td>\n      <td>9.0</td>\n      <td>lab+1.0</td>\n    </tr>\n  </tbody>\n</table>\n</div>"
     },
     "metadata": {},
     "output_type": "display_data"
    },
    {
     "data": {
      "text/plain": "                conservative     labour liberal_democrat lead  lead_value\nPolling Average    33.471607  38.029646        12.313751  NaN    4.558039",
      "text/html": "<div>\n<style scoped>\n    .dataframe tbody tr th:only-of-type {\n        vertical-align: middle;\n    }\n\n    .dataframe tbody tr th {\n        vertical-align: top;\n    }\n\n    .dataframe thead th {\n        text-align: right;\n    }\n</style>\n<table border=\"1\" class=\"dataframe\">\n  <thead>\n    <tr style=\"text-align: right;\">\n      <th></th>\n      <th>conservative</th>\n      <th>labour</th>\n      <th>liberal_democrat</th>\n      <th>lead</th>\n      <th>lead_value</th>\n    </tr>\n  </thead>\n  <tbody>\n    <tr>\n      <th>Polling Average</th>\n      <td>33.471607</td>\n      <td>38.029646</td>\n      <td>12.313751</td>\n      <td>NaN</td>\n      <td>4.558039</td>\n    </tr>\n  </tbody>\n</table>\n</div>"
     },
     "metadata": {},
     "output_type": "display_data"
    },
    {
     "data": {
      "text/plain": "            conservative     labour  liberal_democrat  pollster_count  \\\npoll_month                                                              \n2022-06-01     33.310714  38.757143         11.678571               7   \n2022-05-01     33.146939  38.800000         11.528571               7   \n2022-04-01     33.805556  39.944444          9.814815               9   \n2022-03-01     35.183333  38.725926          9.825926               9   \n2022-02-01     33.725000  39.850000         10.300000              10   \n2022-01-01     31.969444  40.263889         10.836111              12   \n2021-12-01     33.484848  38.340909         10.159091              11   \n2021-11-01     37.066667  36.575000          9.250000              10   \n2021-10-01     39.268750  34.645833          8.289583               8   \n2021-09-01     39.843333  34.331667          9.376667              10   \n2021-08-01     40.016667  33.316667         10.400000               6   \n2021-07-01     41.787037  33.601852          9.444444               9   \n\n            poll_count     lead  lead_value  \npoll_month                                   \n2022-06-01          24  lab+5.4    5.446429  \n2022-05-01          24  lab+5.7    5.653061  \n2022-04-01          22  lab+6.1    6.138889  \n2022-03-01          26  lab+3.5    3.542593  \n2022-02-01          23  lab+6.1    6.125000  \n2022-01-01          29  lab+8.3    8.294444  \n2021-12-01          30  lab+4.9    4.856061  \n2021-11-01          23  con+0.5    0.491667  \n2021-10-01          20  con+4.6    4.622917  \n2021-09-01          23  con+5.5    5.511667  \n2021-08-01          18  con+6.7    6.700000  \n2021-07-01          21  con+8.2    8.185185  ",
      "text/html": "<div>\n<style scoped>\n    .dataframe tbody tr th:only-of-type {\n        vertical-align: middle;\n    }\n\n    .dataframe tbody tr th {\n        vertical-align: top;\n    }\n\n    .dataframe thead th {\n        text-align: right;\n    }\n</style>\n<table border=\"1\" class=\"dataframe\">\n  <thead>\n    <tr style=\"text-align: right;\">\n      <th></th>\n      <th>conservative</th>\n      <th>labour</th>\n      <th>liberal_democrat</th>\n      <th>pollster_count</th>\n      <th>poll_count</th>\n      <th>lead</th>\n      <th>lead_value</th>\n    </tr>\n    <tr>\n      <th>poll_month</th>\n      <th></th>\n      <th></th>\n      <th></th>\n      <th></th>\n      <th></th>\n      <th></th>\n      <th></th>\n    </tr>\n  </thead>\n  <tbody>\n    <tr>\n      <th>2022-06-01</th>\n      <td>33.310714</td>\n      <td>38.757143</td>\n      <td>11.678571</td>\n      <td>7</td>\n      <td>24</td>\n      <td>lab+5.4</td>\n      <td>5.446429</td>\n    </tr>\n    <tr>\n      <th>2022-05-01</th>\n      <td>33.146939</td>\n      <td>38.800000</td>\n      <td>11.528571</td>\n      <td>7</td>\n      <td>24</td>\n      <td>lab+5.7</td>\n      <td>5.653061</td>\n    </tr>\n    <tr>\n      <th>2022-04-01</th>\n      <td>33.805556</td>\n      <td>39.944444</td>\n      <td>9.814815</td>\n      <td>9</td>\n      <td>22</td>\n      <td>lab+6.1</td>\n      <td>6.138889</td>\n    </tr>\n    <tr>\n      <th>2022-03-01</th>\n      <td>35.183333</td>\n      <td>38.725926</td>\n      <td>9.825926</td>\n      <td>9</td>\n      <td>26</td>\n      <td>lab+3.5</td>\n      <td>3.542593</td>\n    </tr>\n    <tr>\n      <th>2022-02-01</th>\n      <td>33.725000</td>\n      <td>39.850000</td>\n      <td>10.300000</td>\n      <td>10</td>\n      <td>23</td>\n      <td>lab+6.1</td>\n      <td>6.125000</td>\n    </tr>\n    <tr>\n      <th>2022-01-01</th>\n      <td>31.969444</td>\n      <td>40.263889</td>\n      <td>10.836111</td>\n      <td>12</td>\n      <td>29</td>\n      <td>lab+8.3</td>\n      <td>8.294444</td>\n    </tr>\n    <tr>\n      <th>2021-12-01</th>\n      <td>33.484848</td>\n      <td>38.340909</td>\n      <td>10.159091</td>\n      <td>11</td>\n      <td>30</td>\n      <td>lab+4.9</td>\n      <td>4.856061</td>\n    </tr>\n    <tr>\n      <th>2021-11-01</th>\n      <td>37.066667</td>\n      <td>36.575000</td>\n      <td>9.250000</td>\n      <td>10</td>\n      <td>23</td>\n      <td>con+0.5</td>\n      <td>0.491667</td>\n    </tr>\n    <tr>\n      <th>2021-10-01</th>\n      <td>39.268750</td>\n      <td>34.645833</td>\n      <td>8.289583</td>\n      <td>8</td>\n      <td>20</td>\n      <td>con+4.6</td>\n      <td>4.622917</td>\n    </tr>\n    <tr>\n      <th>2021-09-01</th>\n      <td>39.843333</td>\n      <td>34.331667</td>\n      <td>9.376667</td>\n      <td>10</td>\n      <td>23</td>\n      <td>con+5.5</td>\n      <td>5.511667</td>\n    </tr>\n    <tr>\n      <th>2021-08-01</th>\n      <td>40.016667</td>\n      <td>33.316667</td>\n      <td>10.400000</td>\n      <td>6</td>\n      <td>18</td>\n      <td>con+6.7</td>\n      <td>6.700000</td>\n    </tr>\n    <tr>\n      <th>2021-07-01</th>\n      <td>41.787037</td>\n      <td>33.601852</td>\n      <td>9.444444</td>\n      <td>9</td>\n      <td>21</td>\n      <td>con+8.2</td>\n      <td>8.185185</td>\n    </tr>\n  </tbody>\n</table>\n</div>"
     },
     "metadata": {},
     "output_type": "display_data"
    }
   ],
   "source": [
    "display(pollsters_latest.sort_values(by='poll_weight', ascending=False)[display_columns])\n",
    "display(current_average)\n",
    "display(monthly_summary.iloc[:0:-1])"
   ],
   "metadata": {
    "collapsed": false,
    "pycharm": {
     "name": "#%%\n"
    }
   }
  },
  {
   "cell_type": "code",
   "execution_count": 38,
   "outputs": [],
   "source": [
    "from html2image import Html2Image\n",
    "\n",
    "hti = Html2Image()"
   ],
   "metadata": {
    "collapsed": false,
    "pycharm": {
     "name": "#%%\n"
    }
   }
  },
  {
   "cell_type": "code",
   "execution_count": 39,
   "outputs": [],
   "source": [
    "\n",
    "\n",
    "\n",
    "def result_to_opacity(result, range_min, range_max):\n",
    "    result_range = range_max - range_min\n",
    "    result_percent = (result - range_min)/result_range\n",
    "    result_256 = int(result_percent*255)\n",
    "    return f'{result_256:02x}'\n",
    "\n",
    "\n",
    "def add_background_colour_to_cells(df, lead_only=False):\n",
    "    from scripts.constants import party_colors, major_parties\n",
    "    background_df = df.copy()\n",
    "    max_party_lead = background_df['lead_value'].max()\n",
    "\n",
    "    for party in major_parties:\n",
    "        color = party_colors[party]\n",
    "        party_max = background_df[party].max()\n",
    "        party_min = background_df[party].min() - 0.5\n",
    "        if not lead_only:\n",
    "            background_df[party] = background_df[party].apply(\n",
    "                lambda x: f'background-color: {color}{result_to_opacity(x, party_min, party_max)}'\n",
    "            )\n",
    "        else:\n",
    "            background_df[party] = ''\n",
    "        party_in_lead_mask = df[party] == df[major_parties].max(axis=1)\n",
    "        background_df.loc[party_in_lead_mask, 'lead_value'] = df['lead_value'].apply(\n",
    "            lambda x: f'background-color: {color}{result_to_opacity(x, 0, max_party_lead)}'\n",
    "        )\n",
    "\n",
    "    if 'date_concluded' in background_df.columns:\n",
    "        background_df['date_concluded'] = background_df['date_concluded'].apply(get_recency_weight,\n",
    "                                                                                current_date=most_recent_date)\n",
    "        background_df['date_concluded'] = background_df['date_concluded'].apply(\n",
    "            lambda x: f'background-color: #A9D08E{result_to_opacity(x, 0, 100)}'\n",
    "        )\n",
    "\n",
    "    for column in background_df.columns:\n",
    "        if not (column in major_parties or column in ['lead_value', 'date_concluded']):\n",
    "            background_df[column] = ''\n",
    "    return background_df"
   ],
   "metadata": {
    "collapsed": false,
    "pycharm": {
     "name": "#%%\n"
    }
   }
  },
  {
   "cell_type": "code",
   "execution_count": 40,
   "outputs": [],
   "source": [
    "def polls_to_html(dataframe, title, highlight_party_columns=True, precision=0):\n",
    "    dataframe.index.name = 'id'\n",
    "    table_id = '_'.join(title.split(' ')).lower()\n",
    "\n",
    "    from pandas.io.formats.style import Styler\n",
    "    #styler = dataframe.style\n",
    "    styler = Styler(dataframe, uuid=table_id, cell_ids=True)\n",
    "\n",
    "    styler.apply(add_background_colour_to_cells, axis=None,\n",
    "                                   lead_only=not (highlight_party_columns))\\\n",
    "\n",
    "    styler.format({\n",
    "        \"pollster\": lambda x: f\"{x}\",\n",
    "        \"pollster_count\": lambda x: f\"{x}\",\n",
    "        \"poll_count\": lambda x: f\"{x}\",\n",
    "        \"conservative\": lambda x: f\"{x:.{precision}f}%\",\n",
    "        \"labour\": lambda x: f\"{x:.{precision}f}%\",\n",
    "        \"liberal_democrat\": lambda x: f\"{x:.{precision}f}%\",\n",
    "        \"lead_value\": lambda x: f\"{x:.{precision}f}%\",\n",
    "        'date_concluded': lambda x: f\"{x:%d-%b}\",\n",
    "        'poll_month': lambda x: f\"{x:%b-%y}\",\n",
    "        'poll_weight': lambda x: f\"{x:.0f}\",\n",
    "    })\n",
    "\n",
    "    styler.set_table_attributes(f'id=\"{table_id}\"')\n",
    "    styler.hide_index()\n",
    "\n",
    "    # classes = pd.DataFrame([['_'.join(x.split(' ')).lower() for x in dataframe.columns]]\n",
    "    #                        , index=dataframe.index, columns=dataframe.columns)\n",
    "    #\n",
    "    # styler.set_td_classes(classes)\n",
    "\n",
    "    #styler.set_caption(title)\n",
    "    styler.set_properties(**{'min-width': '10px', 'font-size': '12pt', 'text-align': 'center'})\n",
    "\n",
    "    caption_format = {'selector': 'caption',\n",
    "                      'props': [('text-align', 'center'), ('font-size', '20pt'), ('color', 'black'),\n",
    "                                ('padding-bottom', '15')]}\n",
    "    all_cells = {'selector': '', 'props': [('margin', '0 auto'), ('width', '100%')]}\n",
    "    date_col = {'selector': '.col0', 'props': [('text-align', 'left')]}\n",
    "\n",
    "    styles = [all_cells, date_col, caption_format]\n",
    "\n",
    "    if 'poll_weight' in dataframe.columns:\n",
    "        styles.append({'selector': '.col2', 'props': [('color', '#AAA')]})\n",
    "\n",
    "    df_as_html = styler.set_table_styles(styles).render()\n",
    "\n",
    "    for col in range(0,len(dataframe.columns)):\n",
    "        df_as_html = df_as_html.replace(f'col{col}',dataframe.columns[col])\n",
    "\n",
    "\n",
    "    df_as_html = (df_as_html\n",
    "                  .replace('>poll_count', '>Polls')\n",
    "                  .replace('>pollster_count', '>Pollsters')\n",
    "                  .replace('>conservative', '>Conservatives')\n",
    "                  .replace('>labour', '>Labour')\n",
    "                  .replace('>liberal_democrat', '>Lib Dem')\n",
    "                  .replace('>lead_value', '>Lead')\n",
    "                  .replace('>date_concluded', '>Date')\n",
    "                  .replace('>poll_month', '>Month')\n",
    "                  .replace('>pollster', '>Pollster')\n",
    "                  .replace('>poll_weight', '>w')\n",
    "                  )\n",
    "    return df_as_html"
   ],
   "metadata": {
    "collapsed": false,
    "pycharm": {
     "name": "#%%\n"
    }
   }
  },
  {
   "cell_type": "code",
   "execution_count": 41,
   "outputs": [],
   "source": [
    "display_columns = ['date_concluded', 'pollster', 'conservative', 'labour', 'liberal_democrat', 'lead_value']\n",
    "top_25_html = polls_to_html(all_polls[display_columns][0:25], title='Last 25 Polls')"
   ],
   "metadata": {
    "collapsed": false,
    "pycharm": {
     "name": "#%%\n"
    }
   }
  },
  {
   "cell_type": "code",
   "execution_count": 42,
   "outputs": [],
   "source": [
    "display_columns = ['pollster', 'date_concluded', 'poll_weight', 'conservative', 'labour', 'liberal_democrat',\n",
    "                   'lead_value']\n",
    "df = pollsters_latest.sort_values(by='poll_weight', ascending=False)[display_columns]\n",
    "pollsters_recent = polls_to_html(df, title='Latest Polls', highlight_party_columns=False)"
   ],
   "metadata": {
    "collapsed": false,
    "pycharm": {
     "name": "#%%\n"
    }
   }
  },
  {
   "cell_type": "code",
   "execution_count": 43,
   "outputs": [],
   "source": [
    "display_columns = ['poll_month', 'pollster_count', 'poll_count', 'conservative', 'labour', 'liberal_democrat',\n",
    "                   'lead_value']\n",
    "df = monthly_summary.reset_index()[display_columns].iloc[:0:-1]\n",
    "monthly_averages = polls_to_html(df, title='Monthly Poll Average', highlight_party_columns=True, precision=1)"
   ],
   "metadata": {
    "collapsed": false,
    "pycharm": {
     "name": "#%%\n"
    }
   }
  },
  {
   "cell_type": "code",
   "execution_count": 44,
   "outputs": [],
   "source": [
    "polling_average = polls_to_html(current_average[['conservative', 'labour', 'liberal_democrat', 'lead_value']],\n",
    "                                title='Polling Average', highlight_party_columns=False, precision=1)"
   ],
   "metadata": {
    "collapsed": false,
    "pycharm": {
     "name": "#%%\n"
    }
   }
  },
  {
   "cell_type": "code",
   "execution_count": 45,
   "outputs": [],
   "source": [
    "\n",
    "css = \"body {background: white;}\"\n",
    "# hti.screenshot(html_str=top_25_html, css_str=css, save_as='tmp.png', size=(800, 650))\n",
    "# hti.screenshot(html_str=pollsters_recent, css_str=css, save_as='tmp.png', size=(700, 400))"
   ],
   "metadata": {
    "collapsed": false,
    "pycharm": {
     "name": "#%%\n"
    }
   }
  },
  {
   "cell_type": "code",
   "execution_count": 46,
   "outputs": [],
   "source": [
    "with open('html_outputs/top_25.html', 'w') as f:\n",
    "    f.write(top_25_html)\n",
    "with open('html_outputs/pollsters_recent.html', 'w') as f:\n",
    "    f.write(pollsters_recent)\n",
    "with open('html_outputs/monthly_averages.html', 'w') as f:\n",
    "    f.write(monthly_averages)\n",
    "with open('html_outputs/polling_average.html', 'w') as f:\n",
    "    f.write(polling_average)"
   ],
   "metadata": {
    "collapsed": false,
    "pycharm": {
     "name": "#%%\n"
    }
   }
  },
  {
   "cell_type": "code",
   "execution_count": 47,
   "outputs": [
    {
     "data": {
      "text/plain": "<Figure size 1080x216 with 1 Axes>",
      "image/png": "[encoded data removed]"
     },
     "metadata": {},
     "output_type": "display_data"
    }
   ],
   "source": [
    "from scripts.constants import party_colors, major_parties\n",
    "import matplotlib.pyplot as plt\n",
    "from numpy import arange\n",
    "\n",
    "fig = plt.figure(figsize=(15, 3))\n",
    "fig.set_facecolor('white')\n",
    "ax = plt.gca()\n",
    "\n",
    "# monthly_summary[major_parties[:2]][1:].plot(\n",
    "#     ax=ax,\n",
    "#     ylim=[30, 45],\n",
    "#     color=party_colors,\n",
    "#     linewidth=3\n",
    "# )\n",
    "for party in major_parties[:2]:\n",
    "    plt.plot_date(\n",
    "        x=monthly_summary.index[1:],\n",
    "        y= monthly_summary[party][1:],\n",
    "        fmt='-',\n",
    "        color=party_colors[party],\n",
    "        linewidth=4)\n",
    "\n",
    "    ax.fill_between(monthly_summary.index[1:], monthly_summary[party][1:], monthly_summary[major_parties[:2]].min(axis=1)[1:], color=party_colors[party], alpha=0.2)\n",
    "ax.set_yticks(arange(30, 46, 5), minor=False)\n",
    "major_locator = plt.matplotlib.dates.DayLocator([1])\n",
    "major_fmt = plt.matplotlib.dates.DateFormatter('%b-%y')\n",
    "\n",
    "ax.xaxis.set_major_locator(major_locator)\n",
    "ax.xaxis.set_major_formatter(major_fmt)\n",
    "\n",
    "ax.yaxis.set_major_formatter(plt.matplotlib.ticker.FuncFormatter(lambda x, p: f'{x/100:.0%}'))\n",
    "\n",
    "plot_title = 'Opinion Polling Trend'\n",
    "plt.title(plot_title)\n",
    "\n",
    "source = 'Source: Wikipedia - Opinion polling for the next United Kingdom general election'\n",
    "plt.annotate(source, (1, 0), (0, -20), xycoords='axes fraction', textcoords='offset points', va='top', ha='right')\n",
    "fig.savefig('html_outputs/monthly_trend.png', bbox_inches = 'tight', pad_inches = 0.2)"
   ],
   "metadata": {
    "collapsed": false,
    "pycharm": {
     "name": "#%%\n"
    }
   }
  },
  {
   "cell_type": "code",
   "execution_count": 47,
   "outputs": [],
   "source": [],
   "metadata": {
    "collapsed": false,
    "pycharm": {
     "name": "#%%\n"
    }
   }
  },
  {
   "cell_type": "code",
   "execution_count": 48,
   "outputs": [
    {
     "data": {
      "text/plain": "            conservative     labour  liberal_democrat  pollster_count  \\\npoll_month                                                              \n2021-06-01     43.477778  33.455556          7.566667               9   \n2021-07-01     41.787037  33.601852          9.444444               9   \n2021-08-01     40.016667  33.316667         10.400000               6   \n2021-09-01     39.843333  34.331667          9.376667              10   \n2021-10-01     39.268750  34.645833          8.289583               8   \n2021-11-01     37.066667  36.575000          9.250000              10   \n2021-12-01     33.484848  38.340909         10.159091              11   \n2022-01-01     31.969444  40.263889         10.836111              12   \n2022-02-01     33.725000  39.850000         10.300000              10   \n2022-03-01     35.183333  38.725926          9.825926               9   \n2022-04-01     33.805556  39.944444          9.814815               9   \n2022-05-01     33.146939  38.800000         11.528571               7   \n2022-06-01     33.310714  38.757143         11.678571               7   \n\n            poll_count      lead  lead_value  \npoll_month                                    \n2021-06-01          24  con+10.0   10.022222  \n2021-07-01          21   con+8.2    8.185185  \n2021-08-01          18   con+6.7    6.700000  \n2021-09-01          23   con+5.5    5.511667  \n2021-10-01          20   con+4.6    4.622917  \n2021-11-01          23   con+0.5    0.491667  \n2021-12-01          30   lab+4.9    4.856061  \n2022-01-01          29   lab+8.3    8.294444  \n2022-02-01          23   lab+6.1    6.125000  \n2022-03-01          26   lab+3.5    3.542593  \n2022-04-01          22   lab+6.1    6.138889  \n2022-05-01          24   lab+5.7    5.653061  \n2022-06-01          24   lab+5.4    5.446429  ",
      "text/html": "<div>\n<style scoped>\n    .dataframe tbody tr th:only-of-type {\n        vertical-align: middle;\n    }\n\n    .dataframe tbody tr th {\n        vertical-align: top;\n    }\n\n    .dataframe thead th {\n        text-align: right;\n    }\n</style>\n<table border=\"1\" class=\"dataframe\">\n  <thead>\n    <tr style=\"text-align: right;\">\n      <th></th>\n      <th>conservative</th>\n      <th>labour</th>\n      <th>liberal_democrat</th>\n      <th>pollster_count</th>\n      <th>poll_count</th>\n      <th>lead</th>\n      <th>lead_value</th>\n    </tr>\n    <tr>\n      <th>poll_month</th>\n      <th></th>\n      <th></th>\n      <th></th>\n      <th></th>\n      <th></th>\n      <th></th>\n      <th></th>\n    </tr>\n  </thead>\n  <tbody>\n    <tr>\n      <th>2021-06-01</th>\n      <td>43.477778</td>\n      <td>33.455556</td>\n      <td>7.566667</td>\n      <td>9</td>\n      <td>24</td>\n      <td>con+10.0</td>\n      <td>10.022222</td>\n    </tr>\n    <tr>\n      <th>2021-07-01</th>\n      <td>41.787037</td>\n      <td>33.601852</td>\n      <td>9.444444</td>\n      <td>9</td>\n      <td>21</td>\n      <td>con+8.2</td>\n      <td>8.185185</td>\n    </tr>\n    <tr>\n      <th>2021-08-01</th>\n      <td>40.016667</td>\n      <td>33.316667</td>\n      <td>10.400000</td>\n      <td>6</td>\n      <td>18</td>\n      <td>con+6.7</td>\n      <td>6.700000</td>\n    </tr>\n    <tr>\n      <th>2021-09-01</th>\n      <td>39.843333</td>\n      <td>34.331667</td>\n      <td>9.376667</td>\n      <td>10</td>\n      <td>23</td>\n      <td>con+5.5</td>\n      <td>5.511667</td>\n    </tr>\n    <tr>\n      <th>2021-10-01</th>\n      <td>39.268750</td>\n      <td>34.645833</td>\n      <td>8.289583</td>\n      <td>8</td>\n      <td>20</td>\n      <td>con+4.6</td>\n      <td>4.622917</td>\n    </tr>\n    <tr>\n      <th>2021-11-01</th>\n      <td>37.066667</td>\n      <td>36.575000</td>\n      <td>9.250000</td>\n      <td>10</td>\n      <td>23</td>\n      <td>con+0.5</td>\n      <td>0.491667</td>\n    </tr>\n    <tr>\n      <th>2021-12-01</th>\n      <td>33.484848</td>\n      <td>38.340909</td>\n      <td>10.159091</td>\n      <td>11</td>\n      <td>30</td>\n      <td>lab+4.9</td>\n      <td>4.856061</td>\n    </tr>\n    <tr>\n      <th>2022-01-01</th>\n      <td>31.969444</td>\n      <td>40.263889</td>\n      <td>10.836111</td>\n      <td>12</td>\n      <td>29</td>\n      <td>lab+8.3</td>\n      <td>8.294444</td>\n    </tr>\n    <tr>\n      <th>2022-02-01</th>\n      <td>33.725000</td>\n      <td>39.850000</td>\n      <td>10.300000</td>\n      <td>10</td>\n      <td>23</td>\n      <td>lab+6.1</td>\n      <td>6.125000</td>\n    </tr>\n    <tr>\n      <th>2022-03-01</th>\n      <td>35.183333</td>\n      <td>38.725926</td>\n      <td>9.825926</td>\n      <td>9</td>\n      <td>26</td>\n      <td>lab+3.5</td>\n      <td>3.542593</td>\n    </tr>\n    <tr>\n      <th>2022-04-01</th>\n      <td>33.805556</td>\n      <td>39.944444</td>\n      <td>9.814815</td>\n      <td>9</td>\n      <td>22</td>\n      <td>lab+6.1</td>\n      <td>6.138889</td>\n    </tr>\n    <tr>\n      <th>2022-05-01</th>\n      <td>33.146939</td>\n      <td>38.800000</td>\n      <td>11.528571</td>\n      <td>7</td>\n      <td>24</td>\n      <td>lab+5.7</td>\n      <td>5.653061</td>\n    </tr>\n    <tr>\n      <th>2022-06-01</th>\n      <td>33.310714</td>\n      <td>38.757143</td>\n      <td>11.678571</td>\n      <td>7</td>\n      <td>24</td>\n      <td>lab+5.4</td>\n      <td>5.446429</td>\n    </tr>\n  </tbody>\n</table>\n</div>"
     },
     "execution_count": 48,
     "metadata": {},
     "output_type": "execute_result"
    }
   ],
   "source": [
    "monthly_summary"
   ],
   "metadata": {
    "collapsed": false,
    "pycharm": {
     "name": "#%%\n"
    }
   }
  },
  {
   "cell_type": "code",
   "execution_count": 48,
   "outputs": [],
   "source": [],
   "metadata": {
    "collapsed": false,
    "pycharm": {
     "name": "#%%\n"
    }
   }
  },
  {
   "cell_type": "code",
   "execution_count": 49,
   "outputs": [],
   "source": [
    "import datetime"
   ],
   "metadata": {
    "collapsed": false,
    "pycharm": {
     "name": "#%%\n"
    }
   }
  },
  {
   "cell_type": "code",
   "execution_count": 49,
   "outputs": [],
   "source": [],
   "metadata": {
    "collapsed": false,
    "pycharm": {
     "name": "#%%\n"
    }
   }
  },
  {
   "cell_type": "code",
   "execution_count": 50,
   "outputs": [
    {
     "data": {
      "text/plain": "<AxesSubplot:xlabel='date_concluded'>"
     },
     "execution_count": 50,
     "metadata": {},
     "output_type": "execute_result"
    },
    {
     "data": {
      "text/plain": "<Figure size 1440x360 with 1 Axes>",
      "image/png": "[encoded data removed]"
     },
     "metadata": {
      "needs_background": "light"
     },
     "output_type": "display_data"
    }
   ],
   "source": [
    "all_polls['anti-Conservative']=all_polls[['labour', 'liberal_democrat', 'alliance', 'change_uk', 'green', 'liberal', 'plaid_cymru', 'scottish_national_party', 'social_democratic_party']].sum(axis=1)\n",
    "all_polls['Conservative+']=all_polls[['conservative', 'brexit_party', 'reform_uk','united_kingdom_independence_party', 'reclaim_party']].sum(axis=1)\n",
    "\n",
    "(all_polls\n",
    " .set_index('date_concluded')\n",
    " .rolling(window=15).mean()\n",
    " .loc[:datetime.date(2010,1,1)]\n",
    " [['anti-Conservative','Conservative+']]\n",
    " .plot(\n",
    "    color=['r','b']\n",
    "    ,figsize=[20,5]\n",
    "    ,grid='y'\n",
    "    ,ylim=[0,100]\n",
    ")\n",
    ")"
   ],
   "metadata": {
    "collapsed": false,
    "pycharm": {
     "name": "#%%\n"
    }
   }
  },
  {
   "cell_type": "code",
   "execution_count": 51,
   "outputs": [
    {
     "ename": "NameError",
     "evalue": "name 'two_group_monthly' is not defined",
     "output_type": "error",
     "traceback": [
      "\u001B[1;31m---------------------------------------------------------------------------\u001B[0m",
      "\u001B[1;31mNameError\u001B[0m                                 Traceback (most recent call last)",
      "\u001B[1;32m~\\AppData\\Local\\Temp/ipykernel_122592/1899684214.py\u001B[0m in \u001B[0;36m<module>\u001B[1;34m\u001B[0m\n\u001B[1;32m----> 1\u001B[1;33m \u001B[0mtwo_group_monthly\u001B[0m\u001B[1;33m\u001B[0m\u001B[1;33m\u001B[0m\u001B[0m\n\u001B[0m",
      "\u001B[1;31mNameError\u001B[0m: name 'two_group_monthly' is not defined"
     ]
    }
   ],
   "source": [
    "two_group_monthly"
   ],
   "metadata": {
    "collapsed": false,
    "pycharm": {
     "name": "#%%\n"
    }
   }
  },
  {
   "cell_type": "code",
   "execution_count": 52,
   "outputs": [
    {
     "data": {
      "text/plain": "<Figure size 1080x360 with 1 Axes>",
      "image/png": "[encoded data removed]"
     },
     "metadata": {},
     "output_type": "display_data"
    }
   ],
   "source": [
    "group_colours = {'conservative+': '#0087DC',\n",
    " 'anti-Conservative': '#DC241F',\n",
    " }\n",
    "groups = list(group_colours.keys())\n",
    "\n",
    "# group_parties = {'conservative+': ['conservative', 'brexit_party', 'reform_uk','united_kingdom_independence_party', 'reclaim_party'],\n",
    "#  'anti-Conservative': ['labour', 'liberal_democrat', 'alliance', 'change_uk', 'green', 'liberal', 'plaid_cymru', 'scottish_national_party', 'social_democratic_party'],\n",
    "#  }\n",
    "\n",
    "group_parties = {'conservative+': ['conservative', 'brexit_party', 'reform_uk','united_kingdom_independence_party', 'reclaim_party'],\n",
    " 'anti-Conservative': ['labour', 'liberal_democrat', 'change_uk', 'green', 'liberal', 'plaid_cymru', 'scottish_national_party'],\n",
    " }\n",
    "\n",
    "two_group_polls = all_polls[all_polls.date_concluded>=datetime.datetime(2010,1,1)].copy()\n",
    "\n",
    "for group, parties in group_parties.items():\n",
    "    two_group_polls[group]=two_group_polls[parties].sum(axis=1)\n",
    "    two_group_polls.drop(\n",
    "        columns = parties,\n",
    "        inplace=True,\n",
    "    )\n",
    "\n",
    "two_group_polls['poll_month'] = two_group_polls['date_concluded'].apply(lambda x: x.replace(day=1))\n",
    "two_group_polls = two_group_polls[['date_concluded', 'pollster', 'poll_month']+ groups]\n",
    "\n",
    "two_group_monthly = two_group_polls.groupby(['poll_month', 'pollster'])[groups].agg(['mean', 'count'])\n",
    "two_group_monthly.columns = [x if i == 0 else f'count{groups.index(x)}' for x in groups for i in range(0, 2)]\n",
    "two_group_monthly.drop(columns=[f'count{groups.index(x)}' for x in groups][1:], inplace=True)\n",
    "two_group_monthly.rename(columns={\"count0\": \"count\"}, inplace=True)\n",
    "\n",
    "agg_info = {x: ['mean'] for x in groups}\n",
    "agg_info['count'] = ['count', 'sum']\n",
    "two_group_monthly_summary = two_group_monthly.reset_index().groupby(['poll_month']).agg(agg_info)\n",
    "two_group_monthly_summary.columns = groups + ['pollster_count', 'poll_count']\n",
    "\n",
    "import matplotlib.pyplot as plt\n",
    "from numpy import arange\n",
    "\n",
    "\n",
    "fig = plt.figure(figsize=(15, 5))\n",
    "fig.set_facecolor('white')\n",
    "ax = plt.gca()\n",
    "\n",
    "for group in groups:\n",
    "    plt.plot_date(\n",
    "        x=two_group_monthly_summary.index[1:],\n",
    "        y= two_group_monthly_summary[group][1:],\n",
    "        fmt='-',\n",
    "        color=group_colours[group],\n",
    "        linewidth=4)\n",
    "\n",
    "    ax.fill_between(two_group_monthly_summary.index[1:], two_group_monthly_summary[group][1:], two_group_monthly_summary[groups[:2]].min(axis=1)[1:], color=group_colours[group], alpha=0.2)\n",
    "ax.set_yticks(arange(30, 66, 5), minor=False)\n",
    "# major_locator = plt.matplotlib.dates.DayLocator([1])\n",
    "# major_fmt = plt.matplotlib.dates.DateFormatter('%b-%y')\n",
    "\n",
    "major_locator = plt.matplotlib.dates.MonthLocator([1])\n",
    "major_fmt = plt.matplotlib.dates.DateFormatter(\"%Y\")\n",
    "\n",
    "ax.xaxis.set_major_locator(major_locator)\n",
    "ax.xaxis.set_major_formatter(major_fmt)\n",
    "\n",
    "ax.set_xlim([two_group_monthly_summary.index[1],two_group_monthly_summary.index[-1]])\n",
    "\n",
    "ax.yaxis.set_major_formatter(plt.matplotlib.ticker.FuncFormatter(lambda x, p: f'{x/100:.0%}'))\n",
    "\n",
    "titleOffset = 0.125\n",
    "renderer = fig.canvas.get_renderer()\n",
    "figwidth= ax.get_window_extent().width/0.8\n",
    "\n",
    "\n",
    "group_parts = [[f\"{group}\", group_colours[group],'bold'] for group in groups]\n",
    "titleparts = [['Opinion Polling Trend','k','book']] + [a for b in [[x, [\" vs \",'k','regular']] for x in group_parts] for a in b][:-1]\n",
    "\n",
    "for part in titleparts:\n",
    "    txt = fig.text(titleOffset, 0.9,part[0], ha=\"left\", va=\"bottom\", size=\"large\",color=part[1],weight=part[2])\n",
    "    titleOffset += (txt.get_window_extent(renderer=renderer).width/figwidth)\n",
    "\n",
    "# plot_title = 'Opinion Polling Trend'\n",
    "# plt.title(plot_title)\n",
    "\n",
    "source = 'Source: Wikipedia - Opinion polling for the {year} United Kingdom general election'\n",
    "plt.annotate(source, (1, 0), (0, -20), xycoords='axes fraction', textcoords='offset points', va='top', ha='right')\n",
    "\n",
    "\n",
    "titleOffset = 0.15\n",
    "for group, parties in group_parties.items():\n",
    "    colour = group_colours[group]\n",
    "    txt = fig.text(0.35, titleOffset, group, ha=\"left\", va=\"bottom\", size=\"medium\",color=colour,weight='bold')\n",
    "    txt = fig.text(0.445, titleOffset, ': '+', '.join(parties).replace('_',' '), ha=\"left\", va=\"bottom\", size=\"small\",color='k',weight='regular')\n",
    "    titleOffset += 0.05\n",
    "#fig.savefig('html_outputs/monthly_trend.png', bbox_inches = 'tight', pad_inches = 0.2)"
   ],
   "metadata": {
    "collapsed": false,
    "pycharm": {
     "name": "#%%\n"
    }
   }
  },
  {
   "cell_type": "code",
   "execution_count": 153,
   "outputs": [
    {
     "data": {
      "text/plain": "'Opinion Polling Trend'"
     },
     "execution_count": 153,
     "metadata": {},
     "output_type": "execute_result"
    }
   ],
   "source": [
    "part"
   ],
   "metadata": {
    "collapsed": false,
    "pycharm": {
     "name": "#%%\n"
    }
   }
  },
  {
   "cell_type": "code",
   "execution_count": 146,
   "outputs": [
    {
     "ename": "SyntaxError",
     "evalue": "cannot assign to literal (Temp/ipykernel_126628/1555338002.py, line 1)",
     "output_type": "error",
     "traceback": [
      "\u001B[1;36m  File \u001B[1;32m\"C:\\Users\\vtxvt\\AppData\\Local\\Temp/ipykernel_126628/1555338002.py\"\u001B[1;36m, line \u001B[1;32m1\u001B[0m\n\u001B[1;33m    [x for x in group_parts for [x, [\", \",'k','regular']] in x]\u001B[0m\n\u001B[1;37m                                     ^\u001B[0m\n\u001B[1;31mSyntaxError\u001B[0m\u001B[1;31m:\u001B[0m cannot assign to literal\n"
     ]
    }
   ],
   "source": [
    "[x for x in group_parts for [x, [\", \",'k','regular']] in x]"
   ],
   "metadata": {
    "collapsed": false,
    "pycharm": {
     "name": "#%%\n"
    }
   }
  },
  {
   "cell_type": "code",
   "execution_count": 150,
   "outputs": [
    {
     "data": {
      "text/plain": "[['conservative+', '#0087DC', 'bold'],\n [', ', 'k', 'regular'],\n ['anti-Conservative', '#DC241F', 'bold']]"
     },
     "execution_count": 150,
     "metadata": {},
     "output_type": "execute_result"
    }
   ],
   "source": [],
   "metadata": {
    "collapsed": false,
    "pycharm": {
     "name": "#%%\n"
    }
   }
  },
  {
   "cell_type": "code",
   "execution_count": null,
   "outputs": [],
   "source": [
    "[x for xs in xss for x in xs]"
   ],
   "metadata": {
    "collapsed": false,
    "pycharm": {
     "name": "#%%\n"
    }
   }
  },
  {
   "cell_type": "code",
   "execution_count": null,
   "outputs": [],
   "source": [],
   "metadata": {
    "collapsed": false,
    "pycharm": {
     "name": "#%%\n"
    }
   }
  },
  {
   "cell_type": "code",
   "execution_count": 135,
   "outputs": [
    {
     "data": {
      "text/plain": "[[['conservative+', '#0087DC', 'bold'], [', ', 'k', 'regular']],\n [['anti-Conservative', '#DC241F', 'bold'], [', ', 'k', 'regular']]]"
     },
     "execution_count": 135,
     "metadata": {},
     "output_type": "execute_result"
    }
   ],
   "source": [
    "[[y for y in [x, [\", \",'k','regular']]] for x in group_parts]"
   ],
   "metadata": {
    "collapsed": false,
    "pycharm": {
     "name": "#%%\n"
    }
   }
  },
  {
   "cell_type": "code",
   "execution_count": 130,
   "outputs": [
    {
     "data": {
      "text/plain": "[[0, 1], [1, 2], [2, 3]]"
     },
     "execution_count": 130,
     "metadata": {},
     "output_type": "execute_result"
    }
   ],
   "source": [
    "[[i, i+1] for i in range(0,3)]"
   ],
   "metadata": {
    "collapsed": false,
    "pycharm": {
     "name": "#%%\n"
    }
   }
  },
  {
   "cell_type": "code",
   "execution_count": 110,
   "outputs": [
    {
     "data": {
      "text/plain": "Timestamp('2010-01-01 00:00:00')"
     },
     "execution_count": 110,
     "metadata": {},
     "output_type": "execute_result"
    }
   ],
   "source": [
    "two_group_monthly_summary.index[0]"
   ],
   "metadata": {
    "collapsed": false,
    "pycharm": {
     "name": "#%%\n"
    }
   }
  },
  {
   "cell_type": "code",
   "execution_count": 89,
   "outputs": [
    {
     "data": {
      "text/plain": "                                         conservative+  count  \\\npoll_month pollster                                             \n1970-06-01 General Election                  46.400000      1   \n1970-08-01 Gallup                            47.000000      1   \n1970-09-01 Gallup                            46.500000      1   \n1970-10-01 Gallup                            46.500000      1   \n1970-11-01 Gallup                            43.500000      1   \n...                                                ...    ...   \n2022-06-01 Redfield & Wilton Strategies      36.500000      8   \n           Savanta ComRes                    34.666667      3   \n           Survation                         34.000000      1   \n           Techne UK                         32.500000      4   \n           YouGov                            36.400000      5   \n\n                                         anti-Conservative  \npoll_month pollster                                         \n1970-06-01 General Election                      50.600000  \n1970-08-01 Gallup                                51.000000  \n1970-09-01 Gallup                                52.000000  \n1970-10-01 Gallup                                53.000000  \n1970-11-01 Gallup                                54.500000  \n...                                                    ...  \n2022-06-01 Redfield & Wilton Strategies          62.500000  \n           Savanta ComRes                        60.666667  \n           Survation                             58.000000  \n           Techne UK                             61.500000  \n           YouGov                                61.400000  \n\n[2607 rows x 3 columns]",
      "text/html": "<div>\n<style scoped>\n    .dataframe tbody tr th:only-of-type {\n        vertical-align: middle;\n    }\n\n    .dataframe tbody tr th {\n        vertical-align: top;\n    }\n\n    .dataframe thead th {\n        text-align: right;\n    }\n</style>\n<table border=\"1\" class=\"dataframe\">\n  <thead>\n    <tr style=\"text-align: right;\">\n      <th></th>\n      <th></th>\n      <th>conservative+</th>\n      <th>count</th>\n      <th>anti-Conservative</th>\n    </tr>\n    <tr>\n      <th>poll_month</th>\n      <th>pollster</th>\n      <th></th>\n      <th></th>\n      <th></th>\n    </tr>\n  </thead>\n  <tbody>\n    <tr>\n      <th>1970-06-01</th>\n      <th>General Election</th>\n      <td>46.400000</td>\n      <td>1</td>\n      <td>50.600000</td>\n    </tr>\n    <tr>\n      <th>1970-08-01</th>\n      <th>Gallup</th>\n      <td>47.000000</td>\n      <td>1</td>\n      <td>51.000000</td>\n    </tr>\n    <tr>\n      <th>1970-09-01</th>\n      <th>Gallup</th>\n      <td>46.500000</td>\n      <td>1</td>\n      <td>52.000000</td>\n    </tr>\n    <tr>\n      <th>1970-10-01</th>\n      <th>Gallup</th>\n      <td>46.500000</td>\n      <td>1</td>\n      <td>53.000000</td>\n    </tr>\n    <tr>\n      <th>1970-11-01</th>\n      <th>Gallup</th>\n      <td>43.500000</td>\n      <td>1</td>\n      <td>54.500000</td>\n    </tr>\n    <tr>\n      <th>...</th>\n      <th>...</th>\n      <td>...</td>\n      <td>...</td>\n      <td>...</td>\n    </tr>\n    <tr>\n      <th rowspan=\"5\" valign=\"top\">2022-06-01</th>\n      <th>Redfield &amp; Wilton Strategies</th>\n      <td>36.500000</td>\n      <td>8</td>\n      <td>62.500000</td>\n    </tr>\n    <tr>\n      <th>Savanta ComRes</th>\n      <td>34.666667</td>\n      <td>3</td>\n      <td>60.666667</td>\n    </tr>\n    <tr>\n      <th>Survation</th>\n      <td>34.000000</td>\n      <td>1</td>\n      <td>58.000000</td>\n    </tr>\n    <tr>\n      <th>Techne UK</th>\n      <td>32.500000</td>\n      <td>4</td>\n      <td>61.500000</td>\n    </tr>\n    <tr>\n      <th>YouGov</th>\n      <td>36.400000</td>\n      <td>5</td>\n      <td>61.400000</td>\n    </tr>\n  </tbody>\n</table>\n<p>2607 rows × 3 columns</p>\n</div>"
     },
     "execution_count": 89,
     "metadata": {},
     "output_type": "execute_result"
    }
   ],
   "source": [
    "two_group_monthly"
   ],
   "metadata": {
    "collapsed": false,
    "pycharm": {
     "name": "#%%\n"
    }
   }
  },
  {
   "cell_type": "code",
   "execution_count": 82,
   "outputs": [
    {
     "data": {
      "text/plain": "     date_concluded                      pollster poll_month  conservative+  \\\n0        2022-06-29                        YouGov 2022-06-01           36.0   \n1        2022-06-26  Redfield & Wilton Strategies 2022-06-01           36.0   \n2        2022-06-26                Savanta ComRes 2022-06-01           34.0   \n3        2022-06-24                       Opinium 2022-06-01           34.0   \n4        2022-06-23                     Techne UK 2022-06-01           32.0   \n...             ...                           ...        ...            ...   \n5787     1970-11-15                        Gallup 1970-11-01           43.5   \n5788     1970-10-18                        Gallup 1970-10-01           46.5   \n5789     1970-09-13                        Gallup 1970-09-01           46.5   \n5790     1970-08-16                        Gallup 1970-08-01           47.0   \n5791     1970-06-18              General Election 1970-06-01           46.4   \n\n      anti-Conservative  \n0                  61.0  \n1                  64.0  \n2                  61.0  \n3                  59.0  \n4                  62.0  \n...                 ...  \n5787               54.5  \n5788               53.0  \n5789               52.0  \n5790               51.0  \n5791               50.6  \n\n[5792 rows x 5 columns]",
      "text/html": "<div>\n<style scoped>\n    .dataframe tbody tr th:only-of-type {\n        vertical-align: middle;\n    }\n\n    .dataframe tbody tr th {\n        vertical-align: top;\n    }\n\n    .dataframe thead th {\n        text-align: right;\n    }\n</style>\n<table border=\"1\" class=\"dataframe\">\n  <thead>\n    <tr style=\"text-align: right;\">\n      <th></th>\n      <th>date_concluded</th>\n      <th>pollster</th>\n      <th>poll_month</th>\n      <th>conservative+</th>\n      <th>anti-Conservative</th>\n    </tr>\n  </thead>\n  <tbody>\n    <tr>\n      <th>0</th>\n      <td>2022-06-29</td>\n      <td>YouGov</td>\n      <td>2022-06-01</td>\n      <td>36.0</td>\n      <td>61.0</td>\n    </tr>\n    <tr>\n      <th>1</th>\n      <td>2022-06-26</td>\n      <td>Redfield &amp; Wilton Strategies</td>\n      <td>2022-06-01</td>\n      <td>36.0</td>\n      <td>64.0</td>\n    </tr>\n    <tr>\n      <th>2</th>\n      <td>2022-06-26</td>\n      <td>Savanta ComRes</td>\n      <td>2022-06-01</td>\n      <td>34.0</td>\n      <td>61.0</td>\n    </tr>\n    <tr>\n      <th>3</th>\n      <td>2022-06-24</td>\n      <td>Opinium</td>\n      <td>2022-06-01</td>\n      <td>34.0</td>\n      <td>59.0</td>\n    </tr>\n    <tr>\n      <th>4</th>\n      <td>2022-06-23</td>\n      <td>Techne UK</td>\n      <td>2022-06-01</td>\n      <td>32.0</td>\n      <td>62.0</td>\n    </tr>\n    <tr>\n      <th>...</th>\n      <td>...</td>\n      <td>...</td>\n      <td>...</td>\n      <td>...</td>\n      <td>...</td>\n    </tr>\n    <tr>\n      <th>5787</th>\n      <td>1970-11-15</td>\n      <td>Gallup</td>\n      <td>1970-11-01</td>\n      <td>43.5</td>\n      <td>54.5</td>\n    </tr>\n    <tr>\n      <th>5788</th>\n      <td>1970-10-18</td>\n      <td>Gallup</td>\n      <td>1970-10-01</td>\n      <td>46.5</td>\n      <td>53.0</td>\n    </tr>\n    <tr>\n      <th>5789</th>\n      <td>1970-09-13</td>\n      <td>Gallup</td>\n      <td>1970-09-01</td>\n      <td>46.5</td>\n      <td>52.0</td>\n    </tr>\n    <tr>\n      <th>5790</th>\n      <td>1970-08-16</td>\n      <td>Gallup</td>\n      <td>1970-08-01</td>\n      <td>47.0</td>\n      <td>51.0</td>\n    </tr>\n    <tr>\n      <th>5791</th>\n      <td>1970-06-18</td>\n      <td>General Election</td>\n      <td>1970-06-01</td>\n      <td>46.4</td>\n      <td>50.6</td>\n    </tr>\n  </tbody>\n</table>\n<p>5792 rows × 5 columns</p>\n</div>"
     },
     "execution_count": 82,
     "metadata": {},
     "output_type": "execute_result"
    }
   ],
   "source": [],
   "metadata": {
    "collapsed": false,
    "pycharm": {
     "name": "#%%\n"
    }
   }
  },
  {
   "cell_type": "code",
   "execution_count": 52,
   "outputs": [
    {
     "data": {
      "text/plain": "                conservative  labour  liberal_democrat  alliance  \\\ndate_concluded                                                     \n2022-06-29               NaN     NaN               NaN       NaN   \n2022-06-26               NaN     NaN               NaN       NaN   \n2022-06-26               NaN     NaN               NaN       NaN   \n2022-06-24               NaN     NaN               NaN       NaN   \n2022-06-23               NaN     NaN               NaN       NaN   \n...                      ...     ...               ...       ...   \n1970-11-15             40.80   49.15               NaN       NaN   \n1970-10-18             42.10   48.30               NaN       NaN   \n1970-09-13             43.15   47.30               NaN       NaN   \n1970-08-16             44.05   46.65               NaN       NaN   \n1970-06-18             44.29   46.41               NaN       NaN   \n\n                brexit_party  change_uk  green  liberal  plaid_cymru  \\\ndate_concluded                                                         \n2022-06-29               NaN        NaN    NaN      NaN          NaN   \n2022-06-26               NaN        NaN    NaN      NaN          NaN   \n2022-06-26               NaN        NaN    NaN      NaN          NaN   \n2022-06-24               NaN        NaN    NaN      NaN          NaN   \n2022-06-23               NaN        NaN    NaN      NaN          NaN   \n...                      ...        ...    ...      ...          ...   \n1970-11-15               NaN        NaN    NaN     7.85          NaN   \n1970-10-18               NaN        NaN    NaN     7.65          NaN   \n1970-09-13               NaN        NaN    NaN     7.65          NaN   \n1970-08-16               NaN        NaN    NaN     7.45          NaN   \n1970-06-18               NaN        NaN    NaN     7.25          NaN   \n\n                reform_uk  scottish_national_party  social_democratic_party  \\\ndate_concluded                                                                \n2022-06-29            NaN                      NaN                      NaN   \n2022-06-26            NaN                      NaN                      NaN   \n2022-06-26            NaN                      NaN                      NaN   \n2022-06-24            NaN                      NaN                      NaN   \n2022-06-23            NaN                      NaN                      NaN   \n...                   ...                      ...                      ...   \n1970-11-15            NaN                      NaN                      NaN   \n1970-10-18            NaN                      NaN                      NaN   \n1970-09-13            NaN                      NaN                      NaN   \n1970-08-16            NaN                      NaN                      NaN   \n1970-06-18            NaN                      NaN                      NaN   \n\n                united_kingdom_independence_party  reclaim_party  others  \\\ndate_concluded                                                             \n2022-06-29                                    NaN            NaN     NaN   \n2022-06-26                                    NaN            NaN     NaN   \n2022-06-26                                    NaN            NaN     NaN   \n2022-06-24                                    NaN            NaN     NaN   \n2022-06-23                                    NaN            NaN     NaN   \n...                                           ...            ...     ...   \n1970-11-15                                    NaN            NaN     NaN   \n1970-10-18                                    NaN            NaN     NaN   \n1970-09-13                                    NaN            NaN     NaN   \n1970-08-16                                    NaN            NaN     NaN   \n1970-06-18                                    NaN            NaN     NaN   \n\n                lead_value  anti_conservative  progressive_leaning  \\\ndate_concluded                                                       \n2022-06-29             NaN                NaN                  NaN   \n2022-06-26             NaN                NaN                  NaN   \n2022-06-26             NaN                NaN                  NaN   \n2022-06-24             NaN                NaN                  NaN   \n2022-06-23             NaN                NaN                  NaN   \n...                    ...                ...                  ...   \n1970-11-15            8.65              49.15                57.00   \n1970-10-18            6.50              48.30                55.95   \n1970-09-13            4.95              47.30                54.95   \n1970-08-16            4.10              46.65                54.10   \n1970-06-18            4.28              46.41                53.66   \n\n                conservative_leaning  \ndate_concluded                        \n2022-06-29                       NaN  \n2022-06-26                       NaN  \n2022-06-26                       NaN  \n2022-06-24                       NaN  \n2022-06-23                       NaN  \n...                              ...  \n1970-11-15                     40.80  \n1970-10-18                     42.10  \n1970-09-13                     43.15  \n1970-08-16                     44.05  \n1970-06-18                     44.29  \n\n[5792 rows x 19 columns]",
      "text/html": "<div>\n<style scoped>\n    .dataframe tbody tr th:only-of-type {\n        vertical-align: middle;\n    }\n\n    .dataframe tbody tr th {\n        vertical-align: top;\n    }\n\n    .dataframe thead th {\n        text-align: right;\n    }\n</style>\n<table border=\"1\" class=\"dataframe\">\n  <thead>\n    <tr style=\"text-align: right;\">\n      <th></th>\n      <th>conservative</th>\n      <th>labour</th>\n      <th>liberal_democrat</th>\n      <th>alliance</th>\n      <th>brexit_party</th>\n      <th>change_uk</th>\n      <th>green</th>\n      <th>liberal</th>\n      <th>plaid_cymru</th>\n      <th>reform_uk</th>\n      <th>scottish_national_party</th>\n      <th>social_democratic_party</th>\n      <th>united_kingdom_independence_party</th>\n      <th>reclaim_party</th>\n      <th>others</th>\n      <th>lead_value</th>\n      <th>anti_conservative</th>\n      <th>progressive_leaning</th>\n      <th>conservative_leaning</th>\n    </tr>\n    <tr>\n      <th>date_concluded</th>\n      <th></th>\n      <th></th>\n      <th></th>\n      <th></th>\n      <th></th>\n      <th></th>\n      <th></th>\n      <th></th>\n      <th></th>\n      <th></th>\n      <th></th>\n      <th></th>\n      <th></th>\n      <th></th>\n      <th></th>\n      <th></th>\n      <th></th>\n      <th></th>\n      <th></th>\n    </tr>\n  </thead>\n  <tbody>\n    <tr>\n      <th>2022-06-29</th>\n      <td>NaN</td>\n      <td>NaN</td>\n      <td>NaN</td>\n      <td>NaN</td>\n      <td>NaN</td>\n      <td>NaN</td>\n      <td>NaN</td>\n      <td>NaN</td>\n      <td>NaN</td>\n      <td>NaN</td>\n      <td>NaN</td>\n      <td>NaN</td>\n      <td>NaN</td>\n      <td>NaN</td>\n      <td>NaN</td>\n      <td>NaN</td>\n      <td>NaN</td>\n      <td>NaN</td>\n      <td>NaN</td>\n    </tr>\n    <tr>\n      <th>2022-06-26</th>\n      <td>NaN</td>\n      <td>NaN</td>\n      <td>NaN</td>\n      <td>NaN</td>\n      <td>NaN</td>\n      <td>NaN</td>\n      <td>NaN</td>\n      <td>NaN</td>\n      <td>NaN</td>\n      <td>NaN</td>\n      <td>NaN</td>\n      <td>NaN</td>\n      <td>NaN</td>\n      <td>NaN</td>\n      <td>NaN</td>\n      <td>NaN</td>\n      <td>NaN</td>\n      <td>NaN</td>\n      <td>NaN</td>\n    </tr>\n    <tr>\n      <th>2022-06-26</th>\n      <td>NaN</td>\n      <td>NaN</td>\n      <td>NaN</td>\n      <td>NaN</td>\n      <td>NaN</td>\n      <td>NaN</td>\n      <td>NaN</td>\n      <td>NaN</td>\n      <td>NaN</td>\n      <td>NaN</td>\n      <td>NaN</td>\n      <td>NaN</td>\n      <td>NaN</td>\n      <td>NaN</td>\n      <td>NaN</td>\n      <td>NaN</td>\n      <td>NaN</td>\n      <td>NaN</td>\n      <td>NaN</td>\n    </tr>\n    <tr>\n      <th>2022-06-24</th>\n      <td>NaN</td>\n      <td>NaN</td>\n      <td>NaN</td>\n      <td>NaN</td>\n      <td>NaN</td>\n      <td>NaN</td>\n      <td>NaN</td>\n      <td>NaN</td>\n      <td>NaN</td>\n      <td>NaN</td>\n      <td>NaN</td>\n      <td>NaN</td>\n      <td>NaN</td>\n      <td>NaN</td>\n      <td>NaN</td>\n      <td>NaN</td>\n      <td>NaN</td>\n      <td>NaN</td>\n      <td>NaN</td>\n    </tr>\n    <tr>\n      <th>2022-06-23</th>\n      <td>NaN</td>\n      <td>NaN</td>\n      <td>NaN</td>\n      <td>NaN</td>\n      <td>NaN</td>\n      <td>NaN</td>\n      <td>NaN</td>\n      <td>NaN</td>\n      <td>NaN</td>\n      <td>NaN</td>\n      <td>NaN</td>\n      <td>NaN</td>\n      <td>NaN</td>\n      <td>NaN</td>\n      <td>NaN</td>\n      <td>NaN</td>\n      <td>NaN</td>\n      <td>NaN</td>\n      <td>NaN</td>\n    </tr>\n    <tr>\n      <th>...</th>\n      <td>...</td>\n      <td>...</td>\n      <td>...</td>\n      <td>...</td>\n      <td>...</td>\n      <td>...</td>\n      <td>...</td>\n      <td>...</td>\n      <td>...</td>\n      <td>...</td>\n      <td>...</td>\n      <td>...</td>\n      <td>...</td>\n      <td>...</td>\n      <td>...</td>\n      <td>...</td>\n      <td>...</td>\n      <td>...</td>\n      <td>...</td>\n    </tr>\n    <tr>\n      <th>1970-11-15</th>\n      <td>40.80</td>\n      <td>49.15</td>\n      <td>NaN</td>\n      <td>NaN</td>\n      <td>NaN</td>\n      <td>NaN</td>\n      <td>NaN</td>\n      <td>7.85</td>\n      <td>NaN</td>\n      <td>NaN</td>\n      <td>NaN</td>\n      <td>NaN</td>\n      <td>NaN</td>\n      <td>NaN</td>\n      <td>NaN</td>\n      <td>8.65</td>\n      <td>49.15</td>\n      <td>57.00</td>\n      <td>40.80</td>\n    </tr>\n    <tr>\n      <th>1970-10-18</th>\n      <td>42.10</td>\n      <td>48.30</td>\n      <td>NaN</td>\n      <td>NaN</td>\n      <td>NaN</td>\n      <td>NaN</td>\n      <td>NaN</td>\n      <td>7.65</td>\n      <td>NaN</td>\n      <td>NaN</td>\n      <td>NaN</td>\n      <td>NaN</td>\n      <td>NaN</td>\n      <td>NaN</td>\n      <td>NaN</td>\n      <td>6.50</td>\n      <td>48.30</td>\n      <td>55.95</td>\n      <td>42.10</td>\n    </tr>\n    <tr>\n      <th>1970-09-13</th>\n      <td>43.15</td>\n      <td>47.30</td>\n      <td>NaN</td>\n      <td>NaN</td>\n      <td>NaN</td>\n      <td>NaN</td>\n      <td>NaN</td>\n      <td>7.65</td>\n      <td>NaN</td>\n      <td>NaN</td>\n      <td>NaN</td>\n      <td>NaN</td>\n      <td>NaN</td>\n      <td>NaN</td>\n      <td>NaN</td>\n      <td>4.95</td>\n      <td>47.30</td>\n      <td>54.95</td>\n      <td>43.15</td>\n    </tr>\n    <tr>\n      <th>1970-08-16</th>\n      <td>44.05</td>\n      <td>46.65</td>\n      <td>NaN</td>\n      <td>NaN</td>\n      <td>NaN</td>\n      <td>NaN</td>\n      <td>NaN</td>\n      <td>7.45</td>\n      <td>NaN</td>\n      <td>NaN</td>\n      <td>NaN</td>\n      <td>NaN</td>\n      <td>NaN</td>\n      <td>NaN</td>\n      <td>NaN</td>\n      <td>4.10</td>\n      <td>46.65</td>\n      <td>54.10</td>\n      <td>44.05</td>\n    </tr>\n    <tr>\n      <th>1970-06-18</th>\n      <td>44.29</td>\n      <td>46.41</td>\n      <td>NaN</td>\n      <td>NaN</td>\n      <td>NaN</td>\n      <td>NaN</td>\n      <td>NaN</td>\n      <td>7.25</td>\n      <td>NaN</td>\n      <td>NaN</td>\n      <td>NaN</td>\n      <td>NaN</td>\n      <td>NaN</td>\n      <td>NaN</td>\n      <td>NaN</td>\n      <td>4.28</td>\n      <td>46.41</td>\n      <td>53.66</td>\n      <td>44.29</td>\n    </tr>\n  </tbody>\n</table>\n<p>5792 rows × 19 columns</p>\n</div>"
     },
     "execution_count": 52,
     "metadata": {},
     "output_type": "execute_result"
    }
   ],
   "source": [
    "all_polls.set_index('date_concluded').rolling(window=10).mean()"
   ],
   "metadata": {
    "collapsed": false,
    "pycharm": {
     "name": "#%%\n"
    }
   }
  },
  {
   "cell_type": "code",
   "execution_count": 53,
   "outputs": [
    {
     "data": {
      "text/plain": "               date_started          pollster                 client area  \\\ndate_concluded                                                              \n2019-12-12       2019-12-12  General Election                    NaN   GB   \n2019-12-12       2019-12-12  General Election  2019 general election   GB   \n2019-12-12       2019-12-12  General Election  2019 general election   UK   \n2019-12-11       2019-12-10         Survation                    NaN   GB   \n2019-12-11       2019-12-10         Panelbase                    NaN   GB   \n...                     ...               ...                    ...  ...   \n1970-11-15       1970-11-15            Gallup    The Daily Telegraph  NaN   \n1970-10-18       1970-10-18            Gallup    The Daily Telegraph  NaN   \n1970-09-13       1970-09-13            Gallup    The Daily Telegraph  NaN   \n1970-08-16       1970-08-16            Gallup    The Daily Telegraph  NaN   \n1970-06-18       1970-06-18  General Election  1970 general election  NaN   \n\n               sample_size  conservative  labour  liberal_democrat  alliance  \\\ndate_concluded                                                                 \n2019-12-12               –          44.7    33.0              11.8       NaN   \n2019-12-12               –          44.7    32.9              11.8       NaN   \n2019-12-12               –          43.6    32.1              11.6       NaN   \n2019-12-11            2395          45.0    34.0               9.0       NaN   \n2019-12-11            3174          43.0    34.0              11.0       NaN   \n...                    ...           ...     ...               ...       ...   \n1970-11-15             NaN          43.5    48.0               NaN       NaN   \n1970-10-18             NaN          46.5    46.5               NaN       NaN   \n1970-09-13             NaN          46.5    44.0               NaN       NaN   \n1970-08-16             NaN          47.0    43.5               NaN       NaN   \n1970-06-18             NaN          46.4    43.1               NaN       NaN   \n\n                brexit_party  ...  scottish_national_party  \\\ndate_concluded                ...                            \n2019-12-12               2.1  ...                      4.0   \n2019-12-12               2.1  ...                      4.0   \n2019-12-12               2.0  ...                      3.9   \n2019-12-11               3.0  ...                      4.0   \n2019-12-11               4.0  ...                      4.0   \n...                      ...  ...                      ...   \n1970-11-15               NaN  ...                      NaN   \n1970-10-18               NaN  ...                      NaN   \n1970-09-13               NaN  ...                      NaN   \n1970-08-16               NaN  ...                      NaN   \n1970-06-18               NaN  ...                      NaN   \n\n                social_democratic_party  united_kingdom_independence_party  \\\ndate_concluded                                                               \n2019-12-12                          NaN                                0.1   \n2019-12-12                          NaN                                NaN   \n2019-12-12                          NaN                                NaN   \n2019-12-11                          NaN                                NaN   \n2019-12-11                          NaN                                NaN   \n...                                 ...                                ...   \n1970-11-15                          NaN                                NaN   \n1970-10-18                          NaN                                NaN   \n1970-09-13                          NaN                                NaN   \n1970-08-16                          NaN                                NaN   \n1970-06-18                          NaN                                NaN   \n\n                reclaim_party  others      lead  lead_value  \\\ndate_concluded                                                \n2019-12-12                NaN     1.0  con+11.7        11.7   \n2019-12-12                NaN     2.2  con+11.8        11.8   \n2019-12-12                NaN     3.7  con+11.5        11.5   \n2019-12-11                NaN     1.0  con+11.0        11.0   \n2019-12-11                NaN     NaN   con+9.0         9.0   \n...                       ...     ...       ...         ...   \n1970-11-15                NaN     NaN   lab+4.5         4.5   \n1970-10-18                NaN     NaN       Tie         0.0   \n1970-09-13                NaN     NaN   con+2.5         2.5   \n1970-08-16                NaN     NaN   con+3.5         3.5   \n1970-06-18                NaN     NaN   con+3.3         3.3   \n\n                anti_conservative  progressive_leaning  conservative_leaning  \ndate_concluded                                                                \n2019-12-12                   52.1                 52.1                  46.9  \n2019-12-12                   51.5                 51.5                  46.8  \n2019-12-12                   50.3                 50.3                  45.6  \n2019-12-11                   51.0                 51.0                  48.0  \n2019-12-11                   52.0                 52.0                  47.0  \n...                           ...                  ...                   ...  \n1970-11-15                   48.0                 54.5                  43.5  \n1970-10-18                   46.5                 53.0                  46.5  \n1970-09-13                   44.0                 52.0                  46.5  \n1970-08-16                   43.5                 51.0                  47.0  \n1970-06-18                   43.1                 50.6                  46.4  \n\n[5214 rows x 25 columns]",
      "text/html": "<div>\n<style scoped>\n    .dataframe tbody tr th:only-of-type {\n        vertical-align: middle;\n    }\n\n    .dataframe tbody tr th {\n        vertical-align: top;\n    }\n\n    .dataframe thead th {\n        text-align: right;\n    }\n</style>\n<table border=\"1\" class=\"dataframe\">\n  <thead>\n    <tr style=\"text-align: right;\">\n      <th></th>\n      <th>date_started</th>\n      <th>pollster</th>\n      <th>client</th>\n      <th>area</th>\n      <th>sample_size</th>\n      <th>conservative</th>\n      <th>labour</th>\n      <th>liberal_democrat</th>\n      <th>alliance</th>\n      <th>brexit_party</th>\n      <th>...</th>\n      <th>scottish_national_party</th>\n      <th>social_democratic_party</th>\n      <th>united_kingdom_independence_party</th>\n      <th>reclaim_party</th>\n      <th>others</th>\n      <th>lead</th>\n      <th>lead_value</th>\n      <th>anti_conservative</th>\n      <th>progressive_leaning</th>\n      <th>conservative_leaning</th>\n    </tr>\n    <tr>\n      <th>date_concluded</th>\n      <th></th>\n      <th></th>\n      <th></th>\n      <th></th>\n      <th></th>\n      <th></th>\n      <th></th>\n      <th></th>\n      <th></th>\n      <th></th>\n      <th></th>\n      <th></th>\n      <th></th>\n      <th></th>\n      <th></th>\n      <th></th>\n      <th></th>\n      <th></th>\n      <th></th>\n      <th></th>\n      <th></th>\n    </tr>\n  </thead>\n  <tbody>\n    <tr>\n      <th>2019-12-12</th>\n      <td>2019-12-12</td>\n      <td>General Election</td>\n      <td>NaN</td>\n      <td>GB</td>\n      <td>–</td>\n      <td>44.7</td>\n      <td>33.0</td>\n      <td>11.8</td>\n      <td>NaN</td>\n      <td>2.1</td>\n      <td>...</td>\n      <td>4.0</td>\n      <td>NaN</td>\n      <td>0.1</td>\n      <td>NaN</td>\n      <td>1.0</td>\n      <td>con+11.7</td>\n      <td>11.7</td>\n      <td>52.1</td>\n      <td>52.1</td>\n      <td>46.9</td>\n    </tr>\n    <tr>\n      <th>2019-12-12</th>\n      <td>2019-12-12</td>\n      <td>General Election</td>\n      <td>2019 general election</td>\n      <td>GB</td>\n      <td>–</td>\n      <td>44.7</td>\n      <td>32.9</td>\n      <td>11.8</td>\n      <td>NaN</td>\n      <td>2.1</td>\n      <td>...</td>\n      <td>4.0</td>\n      <td>NaN</td>\n      <td>NaN</td>\n      <td>NaN</td>\n      <td>2.2</td>\n      <td>con+11.8</td>\n      <td>11.8</td>\n      <td>51.5</td>\n      <td>51.5</td>\n      <td>46.8</td>\n    </tr>\n    <tr>\n      <th>2019-12-12</th>\n      <td>2019-12-12</td>\n      <td>General Election</td>\n      <td>2019 general election</td>\n      <td>UK</td>\n      <td>–</td>\n      <td>43.6</td>\n      <td>32.1</td>\n      <td>11.6</td>\n      <td>NaN</td>\n      <td>2.0</td>\n      <td>...</td>\n      <td>3.9</td>\n      <td>NaN</td>\n      <td>NaN</td>\n      <td>NaN</td>\n      <td>3.7</td>\n      <td>con+11.5</td>\n      <td>11.5</td>\n      <td>50.3</td>\n      <td>50.3</td>\n      <td>45.6</td>\n    </tr>\n    <tr>\n      <th>2019-12-11</th>\n      <td>2019-12-10</td>\n      <td>Survation</td>\n      <td>NaN</td>\n      <td>GB</td>\n      <td>2395</td>\n      <td>45.0</td>\n      <td>34.0</td>\n      <td>9.0</td>\n      <td>NaN</td>\n      <td>3.0</td>\n      <td>...</td>\n      <td>4.0</td>\n      <td>NaN</td>\n      <td>NaN</td>\n      <td>NaN</td>\n      <td>1.0</td>\n      <td>con+11.0</td>\n      <td>11.0</td>\n      <td>51.0</td>\n      <td>51.0</td>\n      <td>48.0</td>\n    </tr>\n    <tr>\n      <th>2019-12-11</th>\n      <td>2019-12-10</td>\n      <td>Panelbase</td>\n      <td>NaN</td>\n      <td>GB</td>\n      <td>3174</td>\n      <td>43.0</td>\n      <td>34.0</td>\n      <td>11.0</td>\n      <td>NaN</td>\n      <td>4.0</td>\n      <td>...</td>\n      <td>4.0</td>\n      <td>NaN</td>\n      <td>NaN</td>\n      <td>NaN</td>\n      <td>NaN</td>\n      <td>con+9.0</td>\n      <td>9.0</td>\n      <td>52.0</td>\n      <td>52.0</td>\n      <td>47.0</td>\n    </tr>\n    <tr>\n      <th>...</th>\n      <td>...</td>\n      <td>...</td>\n      <td>...</td>\n      <td>...</td>\n      <td>...</td>\n      <td>...</td>\n      <td>...</td>\n      <td>...</td>\n      <td>...</td>\n      <td>...</td>\n      <td>...</td>\n      <td>...</td>\n      <td>...</td>\n      <td>...</td>\n      <td>...</td>\n      <td>...</td>\n      <td>...</td>\n      <td>...</td>\n      <td>...</td>\n      <td>...</td>\n      <td>...</td>\n    </tr>\n    <tr>\n      <th>1970-11-15</th>\n      <td>1970-11-15</td>\n      <td>Gallup</td>\n      <td>The Daily Telegraph</td>\n      <td>NaN</td>\n      <td>NaN</td>\n      <td>43.5</td>\n      <td>48.0</td>\n      <td>NaN</td>\n      <td>NaN</td>\n      <td>NaN</td>\n      <td>...</td>\n      <td>NaN</td>\n      <td>NaN</td>\n      <td>NaN</td>\n      <td>NaN</td>\n      <td>NaN</td>\n      <td>lab+4.5</td>\n      <td>4.5</td>\n      <td>48.0</td>\n      <td>54.5</td>\n      <td>43.5</td>\n    </tr>\n    <tr>\n      <th>1970-10-18</th>\n      <td>1970-10-18</td>\n      <td>Gallup</td>\n      <td>The Daily Telegraph</td>\n      <td>NaN</td>\n      <td>NaN</td>\n      <td>46.5</td>\n      <td>46.5</td>\n      <td>NaN</td>\n      <td>NaN</td>\n      <td>NaN</td>\n      <td>...</td>\n      <td>NaN</td>\n      <td>NaN</td>\n      <td>NaN</td>\n      <td>NaN</td>\n      <td>NaN</td>\n      <td>Tie</td>\n      <td>0.0</td>\n      <td>46.5</td>\n      <td>53.0</td>\n      <td>46.5</td>\n    </tr>\n    <tr>\n      <th>1970-09-13</th>\n      <td>1970-09-13</td>\n      <td>Gallup</td>\n      <td>The Daily Telegraph</td>\n      <td>NaN</td>\n      <td>NaN</td>\n      <td>46.5</td>\n      <td>44.0</td>\n      <td>NaN</td>\n      <td>NaN</td>\n      <td>NaN</td>\n      <td>...</td>\n      <td>NaN</td>\n      <td>NaN</td>\n      <td>NaN</td>\n      <td>NaN</td>\n      <td>NaN</td>\n      <td>con+2.5</td>\n      <td>2.5</td>\n      <td>44.0</td>\n      <td>52.0</td>\n      <td>46.5</td>\n    </tr>\n    <tr>\n      <th>1970-08-16</th>\n      <td>1970-08-16</td>\n      <td>Gallup</td>\n      <td>The Daily Telegraph</td>\n      <td>NaN</td>\n      <td>NaN</td>\n      <td>47.0</td>\n      <td>43.5</td>\n      <td>NaN</td>\n      <td>NaN</td>\n      <td>NaN</td>\n      <td>...</td>\n      <td>NaN</td>\n      <td>NaN</td>\n      <td>NaN</td>\n      <td>NaN</td>\n      <td>NaN</td>\n      <td>con+3.5</td>\n      <td>3.5</td>\n      <td>43.5</td>\n      <td>51.0</td>\n      <td>47.0</td>\n    </tr>\n    <tr>\n      <th>1970-06-18</th>\n      <td>1970-06-18</td>\n      <td>General Election</td>\n      <td>1970 general election</td>\n      <td>NaN</td>\n      <td>NaN</td>\n      <td>46.4</td>\n      <td>43.1</td>\n      <td>NaN</td>\n      <td>NaN</td>\n      <td>NaN</td>\n      <td>...</td>\n      <td>NaN</td>\n      <td>NaN</td>\n      <td>NaN</td>\n      <td>NaN</td>\n      <td>NaN</td>\n      <td>con+3.3</td>\n      <td>3.3</td>\n      <td>43.1</td>\n      <td>50.6</td>\n      <td>46.4</td>\n    </tr>\n  </tbody>\n</table>\n<p>5214 rows × 25 columns</p>\n</div>"
     },
     "execution_count": 53,
     "metadata": {},
     "output_type": "execute_result"
    }
   ],
   "source": [
    "all_polls.set_index('date_concluded').loc[datetime.date(2020,1,1):]"
   ],
   "metadata": {
    "collapsed": false,
    "pycharm": {
     "name": "#%%\n"
    }
   }
  },
  {
   "cell_type": "code",
   "execution_count": 54,
   "outputs": [],
   "source": [
    "one_year_polls['poll_month'] = one_year_polls['date_concluded'].apply(lambda x: x.replace(day=1))"
   ],
   "metadata": {
    "collapsed": false,
    "pycharm": {
     "name": "#%%\n"
    }
   }
  },
  {
   "cell_type": "code",
   "execution_count": 55,
   "outputs": [],
   "source": [
    "kantar_polls = all_polls.query('pollster == \"Kantar Public\" and date_concluded> \"2019-01-01\"').copy()\n",
    "other_polls = all_polls.query('pollster != \"Kantar Public\" and date_concluded> \"2019-01-01\"').copy()"
   ],
   "metadata": {
    "collapsed": false,
    "pycharm": {
     "name": "#%%\n"
    }
   }
  },
  {
   "cell_type": "code",
   "execution_count": 56,
   "outputs": [],
   "source": [
    "kantar_polls['poll_month'] = kantar_polls['date_concluded'].apply(lambda x: x.replace(day=1))\n",
    "other_polls['poll_month'] = other_polls['date_concluded'].apply(lambda x: x.replace(day=1))"
   ],
   "metadata": {
    "collapsed": false,
    "pycharm": {
     "name": "#%%\n"
    }
   }
  },
  {
   "cell_type": "code",
   "execution_count": 57,
   "outputs": [],
   "source": [
    "other_pollster_monthly_summary = other_polls.groupby(['poll_month', 'pollster'])[major_parties].agg(['mean', 'count'])\n",
    "other_pollster_monthly_summary.columns = [x if i == 0 else f'count{major_parties.index(x)}' for x in major_parties for i in\n",
    "                                    range(0, 2)]\n",
    "other_pollster_monthly_summary.drop(columns=[f'count{major_parties.index(x)}' for x in major_parties][1:], inplace=True)\n",
    "other_pollster_monthly_summary.rename(columns={\"count0\": \"count\"}, inplace=True)\n",
    "\n",
    "agg_info = {x: ['mean'] for x in major_parties}\n",
    "agg_info['count'] = ['count', 'sum']\n",
    "other_monthly_summary = other_pollster_monthly_summary.reset_index().groupby(['poll_month']).agg(agg_info)\n",
    "other_monthly_summary.columns = major_parties + ['pollster_count', 'poll_count']"
   ],
   "metadata": {
    "collapsed": false,
    "pycharm": {
     "name": "#%%\n"
    }
   }
  },
  {
   "cell_type": "code",
   "execution_count": 58,
   "outputs": [],
   "source": [
    "kantar_pollster_monthly_summary = kantar_polls.groupby(['poll_month', 'pollster'])[major_parties].agg(['mean', 'count'])\n",
    "kantar_pollster_monthly_summary.columns = [x if i == 0 else f'count{major_parties.index(x)}' for x in major_parties for i in\n",
    "                                    range(0, 2)]\n",
    "kantar_pollster_monthly_summary.drop(columns=[f'count{major_parties.index(x)}' for x in major_parties][1:], inplace=True)\n",
    "kantar_pollster_monthly_summary.rename(columns={\"count0\": \"count\"}, inplace=True)\n",
    "\n",
    "agg_info = {x: ['mean'] for x in major_parties}\n",
    "agg_info['count'] = ['count', 'sum']\n",
    "kantar_monthly_summary = kantar_pollster_monthly_summary.reset_index().groupby(['poll_month']).agg(agg_info)\n",
    "kantar_monthly_summary.columns = major_parties + ['pollster_count', 'poll_count']"
   ],
   "metadata": {
    "collapsed": false,
    "pycharm": {
     "name": "#%%\n"
    }
   }
  },
  {
   "cell_type": "code",
   "execution_count": 59,
   "outputs": [],
   "source": [
    "other_monthly_summary[['kantar_con','kantar_lab']] = kantar_monthly_summary[['conservative','labour']]"
   ],
   "metadata": {
    "collapsed": false,
    "pycharm": {
     "name": "#%%\n"
    }
   }
  },
  {
   "cell_type": "code",
   "execution_count": 60,
   "outputs": [],
   "source": [
    "other_monthly_summary.to_clipboard(sep='\\t')"
   ],
   "metadata": {
    "collapsed": false,
    "pycharm": {
     "name": "#%%\n"
    }
   }
  },
  {
   "cell_type": "code",
   "execution_count": 60,
   "outputs": [],
   "source": [],
   "metadata": {
    "collapsed": false,
    "pycharm": {
     "name": "#%%\n"
    }
   }
  },
  {
   "cell_type": "code",
   "execution_count": 60,
   "outputs": [],
   "source": [],
   "metadata": {
    "collapsed": false,
    "pycharm": {
     "name": "#%%\n"
    }
   }
  },
  {
   "cell_type": "code",
   "execution_count": 60,
   "outputs": [],
   "source": [],
   "metadata": {
    "collapsed": false,
    "pycharm": {
     "name": "#%%\n"
    }
   }
  },
  {
   "cell_type": "code",
   "execution_count": 61,
   "outputs": [],
   "source": [
    "general_elections = all_polls.query('pollster==\"General Election\"')\n",
    "general_election_dates = list(general_elections.date_concluded.unique())\n",
    "#general_elections = general_elections[general_elections.date_concluded > datetime.datetime(2016,1,1)]"
   ],
   "metadata": {
    "collapsed": false,
    "pycharm": {
     "name": "#%%\n"
    }
   }
  },
  {
   "cell_type": "code",
   "execution_count": 62,
   "outputs": [
    {
     "name": "stdout",
     "output_type": "stream",
     "text": [
      "2017-06-08T00:00:00.000000000\n",
      "2019-12-12T00:00:00.000000000\n"
     ]
    }
   ],
   "source": [
    "for ge in general_election_dates[::-1]:\n",
    "    if ge < np.datetime64('2016-01-01'):\n",
    "        continue\n",
    "\n",
    "    print(ge)"
   ],
   "metadata": {
    "collapsed": false,
    "pycharm": {
     "name": "#%%\n"
    }
   }
  },
  {
   "cell_type": "code",
   "execution_count": 63,
   "outputs": [
    {
     "data": {
      "text/plain": "    date_started date_concluded          pollster                 client area  \\\n578   2019-12-12     2019-12-12  General Election                    NaN   GB   \n579   2019-12-12     2019-12-12  General Election  2019 general election   GB   \n580   2019-12-12     2019-12-12  General Election  2019 general election   UK   \n\n    sample_size  conservative  labour  liberal_democrat  alliance  ...  \\\n578           –          44.7    33.0              11.8       NaN  ...   \n579           –          44.7    32.9              11.8       NaN  ...   \n580           –          43.6    32.1              11.6       NaN  ...   \n\n     scottish_national_party  social_democratic_party  \\\n578                      4.0                      NaN   \n579                      4.0                      NaN   \n580                      3.9                      NaN   \n\n     united_kingdom_independence_party  reclaim_party  others      lead  \\\n578                                0.1            NaN     1.0  con+11.7   \n579                                NaN            NaN     2.2  con+11.8   \n580                                NaN            NaN     3.7  con+11.5   \n\n     lead_value  anti_conservative  progressive_leaning  conservative_leaning  \n578        11.7               52.1                 52.1                  46.9  \n579        11.8               51.5                 51.5                  46.8  \n580        11.5               50.3                 50.3                  45.6  \n\n[3 rows x 26 columns]",
      "text/html": "<div>\n<style scoped>\n    .dataframe tbody tr th:only-of-type {\n        vertical-align: middle;\n    }\n\n    .dataframe tbody tr th {\n        vertical-align: top;\n    }\n\n    .dataframe thead th {\n        text-align: right;\n    }\n</style>\n<table border=\"1\" class=\"dataframe\">\n  <thead>\n    <tr style=\"text-align: right;\">\n      <th></th>\n      <th>date_started</th>\n      <th>date_concluded</th>\n      <th>pollster</th>\n      <th>client</th>\n      <th>area</th>\n      <th>sample_size</th>\n      <th>conservative</th>\n      <th>labour</th>\n      <th>liberal_democrat</th>\n      <th>alliance</th>\n      <th>...</th>\n      <th>scottish_national_party</th>\n      <th>social_democratic_party</th>\n      <th>united_kingdom_independence_party</th>\n      <th>reclaim_party</th>\n      <th>others</th>\n      <th>lead</th>\n      <th>lead_value</th>\n      <th>anti_conservative</th>\n      <th>progressive_leaning</th>\n      <th>conservative_leaning</th>\n    </tr>\n  </thead>\n  <tbody>\n    <tr>\n      <th>578</th>\n      <td>2019-12-12</td>\n      <td>2019-12-12</td>\n      <td>General Election</td>\n      <td>NaN</td>\n      <td>GB</td>\n      <td>–</td>\n      <td>44.7</td>\n      <td>33.0</td>\n      <td>11.8</td>\n      <td>NaN</td>\n      <td>...</td>\n      <td>4.0</td>\n      <td>NaN</td>\n      <td>0.1</td>\n      <td>NaN</td>\n      <td>1.0</td>\n      <td>con+11.7</td>\n      <td>11.7</td>\n      <td>52.1</td>\n      <td>52.1</td>\n      <td>46.9</td>\n    </tr>\n    <tr>\n      <th>579</th>\n      <td>2019-12-12</td>\n      <td>2019-12-12</td>\n      <td>General Election</td>\n      <td>2019 general election</td>\n      <td>GB</td>\n      <td>–</td>\n      <td>44.7</td>\n      <td>32.9</td>\n      <td>11.8</td>\n      <td>NaN</td>\n      <td>...</td>\n      <td>4.0</td>\n      <td>NaN</td>\n      <td>NaN</td>\n      <td>NaN</td>\n      <td>2.2</td>\n      <td>con+11.8</td>\n      <td>11.8</td>\n      <td>51.5</td>\n      <td>51.5</td>\n      <td>46.8</td>\n    </tr>\n    <tr>\n      <th>580</th>\n      <td>2019-12-12</td>\n      <td>2019-12-12</td>\n      <td>General Election</td>\n      <td>2019 general election</td>\n      <td>UK</td>\n      <td>–</td>\n      <td>43.6</td>\n      <td>32.1</td>\n      <td>11.6</td>\n      <td>NaN</td>\n      <td>...</td>\n      <td>3.9</td>\n      <td>NaN</td>\n      <td>NaN</td>\n      <td>NaN</td>\n      <td>3.7</td>\n      <td>con+11.5</td>\n      <td>11.5</td>\n      <td>50.3</td>\n      <td>50.3</td>\n      <td>45.6</td>\n    </tr>\n  </tbody>\n</table>\n<p>3 rows × 26 columns</p>\n</div>"
     },
     "execution_count": 63,
     "metadata": {},
     "output_type": "execute_result"
    }
   ],
   "source": [
    "general_elections[general_elections.date_concluded == ge]"
   ],
   "metadata": {
    "collapsed": false,
    "pycharm": {
     "name": "#%%\n"
    }
   }
  },
  {
   "cell_type": "code",
   "execution_count": 63,
   "outputs": [],
   "source": [],
   "metadata": {
    "collapsed": false,
    "pycharm": {
     "name": "#%%\n"
    }
   }
  },
  {
   "cell_type": "code",
   "execution_count": 64,
   "outputs": [],
   "source": [
    "GEs_to_use = [\n",
    "\n",
    "\n",
    "\n",
    "]"
   ],
   "metadata": {
    "collapsed": false,
    "pycharm": {
     "name": "#%%\n"
    }
   }
  },
  {
   "cell_type": "code",
   "execution_count": 65,
   "outputs": [
    {
     "data": {
      "text/plain": "     date_started date_concluded          pollster                     client  \\\n578    2019-12-12     2019-12-12  General Election                        NaN   \n579    2019-12-12     2019-12-12  General Election      2019 general election   \n580    2019-12-12     2019-12-12  General Election      2019 general election   \n1038   2017-06-08     2017-06-08  General Election                        NaN   \n1039   2017-06-08     2017-06-08  General Election                        NaN   \n1040   2017-06-08     2017-06-08  General Election                        NaN   \n1300   2015-05-07     2015-05-07  General Election                        NaN   \n3267   2010-05-06     2010-05-06  General Election                        NaN   \n3268   2010-05-06     2010-05-06  General Election      2010 general election   \n3870   2005-05-05     2005-05-05  General Election                       None   \n3969   2001-06-07     2001-06-07  General Election      2001 general election   \n3970   2001-06-07     2001-06-07  General Election      2001 general election   \n4190   1997-05-01     1997-05-01  General Election      1997 general election   \n4535   1992-04-09     1992-04-09  General Election                        NaN   \n4536   1992-04-08     1992-04-08  General Election      1992 general election   \n5036   1987-06-11     1987-06-11  General Election      1987 general election   \n5037   1987-06-11     1987-06-11  General Election      1987 general election   \n5301   1983-06-09     1983-06-09  General Election      1983 general election   \n5498   1979-05-03     1979-05-03  General Election      1979 general election   \n5664   1974-10-10     1974-10-10  General Election  Oct 1974 general election   \n5665   1974-10-10     1974-10-10  General Election  Oct 1974 general election   \n5703   1974-02-28     1974-02-28  General Election  Feb 1974 general election   \n5791   1970-06-18     1970-06-18  General Election      1970 general election   \n\n     area sample_size  conservative  labour  liberal_democrat  alliance  ...  \\\n578    GB           –          44.7    33.0              11.8       NaN  ...   \n579    GB           –          44.7    32.9              11.8       NaN  ...   \n580    UK           –          43.6    32.1              11.6       NaN  ...   \n1038   GB           –          43.4    41.0               7.6       NaN  ...   \n1039   UK           –          42.3    40.0               7.4       NaN  ...   \n1040  NaN           –          43.5    41.0               7.6       NaN  ...   \n1300  NaN           –          37.8    31.2               8.1       NaN  ...   \n3267  NaN           –          36.9    29.7              23.6       NaN  ...   \n3268  NaN           –          36.9    29.7              23.6       NaN  ...   \n3870  NaN           –          33.2    36.2              22.7       NaN  ...   \n3969  NaN           –          31.7    40.7              18.3       NaN  ...   \n3970  NaN           –          32.7    42.0              18.8       NaN  ...   \n4190  NaN           –          30.7    43.2              16.8       NaN  ...   \n4535  NaN         NaN          41.9    34.4              17.8       NaN  ...   \n4536  NaN         NaN          42.8    35.2              18.3       NaN  ...   \n5036  NaN         NaN          43.3    31.5               NaN      23.1  ...   \n5037  NaN         NaN          42.2    30.8               NaN      22.6  ...   \n5301  NaN         NaN          42.4    27.6               NaN      25.4  ...   \n5498  NaN         NaN          43.9    36.9               NaN       NaN  ...   \n5664  NaN         NaN          35.8    39.3               NaN       NaN  ...   \n5665  NaN         NaN          35.8    39.2               NaN       NaN  ...   \n5703  NaN         NaN          37.9    37.2               NaN       NaN  ...   \n5791  NaN         NaN          46.4    43.1               NaN       NaN  ...   \n\n      scottish_national_party  social_democratic_party  \\\n578                       4.0                      NaN   \n579                       4.0                      NaN   \n580                       3.9                      NaN   \n1038                      3.1                      NaN   \n1039                      3.0                      NaN   \n1040                      3.1                      NaN   \n1300                      4.9                      NaN   \n3267                      NaN                      NaN   \n3268                      NaN                      NaN   \n3870                      NaN                      NaN   \n3969                      NaN                      NaN   \n3970                      NaN                      NaN   \n4190                      NaN                      NaN   \n4535                      NaN                      NaN   \n4536                      NaN                      NaN   \n5036                      NaN                      NaN   \n5037                      NaN                      NaN   \n5301                      NaN                      NaN   \n5498                      NaN                      NaN   \n5664                      NaN                      NaN   \n5665                      NaN                      NaN   \n5703                      NaN                      NaN   \n5791                      NaN                      NaN   \n\n      united_kingdom_independence_party  reclaim_party  others      lead  \\\n578                                 0.1            NaN     1.0  con+11.7   \n579                                 NaN            NaN     2.2  con+11.8   \n580                                 NaN            NaN     3.7  con+11.5   \n1038                                1.9            NaN     0.8   con+2.4   \n1039                                1.8            NaN     3.3   con+2.3   \n1040                                1.9            NaN     1.2   con+2.5   \n1300                               12.9            NaN     1.4   con+6.6   \n3267                                3.1            NaN     5.7   con+7.2   \n3268                                NaN            NaN     9.8   con+7.2   \n3870                                NaN            NaN     7.9   lab+3.0   \n3969                                NaN            NaN     9.3   lab+9.0   \n3970                                NaN            NaN     6.5   lab+9.3   \n4190                                NaN            NaN     9.3  lab+12.5   \n4535                                NaN            NaN     NaN   con+7.5   \n4536                                NaN            NaN     NaN   con+7.6   \n5036                                NaN            NaN     NaN  con+11.8   \n5037                                NaN            NaN     NaN  con+11.4   \n5301                                NaN            NaN     NaN  con+14.8   \n5498                                NaN            NaN     NaN   con+7.0   \n5664                                NaN            NaN     NaN   lab+3.5   \n5665                                NaN            NaN     NaN   lab+3.4   \n5703                                NaN            NaN     NaN   con+0.7   \n5791                                NaN            NaN     NaN   con+3.3   \n\n      lead_value  anti_conservative  progressive_leaning  conservative_leaning  \n578         11.7               52.1                 52.1                  46.9  \n579         11.8               51.5                 51.5                  46.8  \n580         11.5               50.3                 50.3                  45.6  \n1038         2.4               53.9                 53.9                  45.3  \n1039         2.3               52.5                 52.5                  44.1  \n1040         2.5               53.4                 53.4                  45.4  \n1300         6.6               48.0                 48.0                  50.7  \n3267         7.2               54.3                 54.3                  40.0  \n3268         7.2               53.3                 53.3                  36.9  \n3870         3.0               58.9                 58.9                  33.2  \n3969         9.0               59.0                 59.0                  31.7  \n3970         9.3               60.8                 60.8                  32.7  \n4190        12.5               60.0                 60.0                  30.7  \n4535         7.5               52.2                 52.2                  41.9  \n4536         7.6               53.5                 53.5                  42.8  \n5036        11.8               31.5                 54.6                  43.3  \n5037        11.4               30.8                 53.4                  42.2  \n5301        14.8               27.6                 53.0                  42.4  \n5498         7.0               36.9                 50.7                  43.9  \n5664         3.5               39.3                 57.6                  35.8  \n5665         3.4               39.2                 57.5                  35.8  \n5703         0.7               37.2                 56.5                  37.9  \n5791         3.3               43.1                 50.6                  46.4  \n\n[23 rows x 26 columns]",
      "text/html": "<div>\n<style scoped>\n    .dataframe tbody tr th:only-of-type {\n        vertical-align: middle;\n    }\n\n    .dataframe tbody tr th {\n        vertical-align: top;\n    }\n\n    .dataframe thead th {\n        text-align: right;\n    }\n</style>\n<table border=\"1\" class=\"dataframe\">\n  <thead>\n    <tr style=\"text-align: right;\">\n      <th></th>\n      <th>date_started</th>\n      <th>date_concluded</th>\n      <th>pollster</th>\n      <th>client</th>\n      <th>area</th>\n      <th>sample_size</th>\n      <th>conservative</th>\n      <th>labour</th>\n      <th>liberal_democrat</th>\n      <th>alliance</th>\n      <th>...</th>\n      <th>scottish_national_party</th>\n      <th>social_democratic_party</th>\n      <th>united_kingdom_independence_party</th>\n      <th>reclaim_party</th>\n      <th>others</th>\n      <th>lead</th>\n      <th>lead_value</th>\n      <th>anti_conservative</th>\n      <th>progressive_leaning</th>\n      <th>conservative_leaning</th>\n    </tr>\n  </thead>\n  <tbody>\n    <tr>\n      <th>578</th>\n      <td>2019-12-12</td>\n      <td>2019-12-12</td>\n      <td>General Election</td>\n      <td>NaN</td>\n      <td>GB</td>\n      <td>–</td>\n      <td>44.7</td>\n      <td>33.0</td>\n      <td>11.8</td>\n      <td>NaN</td>\n      <td>...</td>\n      <td>4.0</td>\n      <td>NaN</td>\n      <td>0.1</td>\n      <td>NaN</td>\n      <td>1.0</td>\n      <td>con+11.7</td>\n      <td>11.7</td>\n      <td>52.1</td>\n      <td>52.1</td>\n      <td>46.9</td>\n    </tr>\n    <tr>\n      <th>579</th>\n      <td>2019-12-12</td>\n      <td>2019-12-12</td>\n      <td>General Election</td>\n      <td>2019 general election</td>\n      <td>GB</td>\n      <td>–</td>\n      <td>44.7</td>\n      <td>32.9</td>\n      <td>11.8</td>\n      <td>NaN</td>\n      <td>...</td>\n      <td>4.0</td>\n      <td>NaN</td>\n      <td>NaN</td>\n      <td>NaN</td>\n      <td>2.2</td>\n      <td>con+11.8</td>\n      <td>11.8</td>\n      <td>51.5</td>\n      <td>51.5</td>\n      <td>46.8</td>\n    </tr>\n    <tr>\n      <th>580</th>\n      <td>2019-12-12</td>\n      <td>2019-12-12</td>\n      <td>General Election</td>\n      <td>2019 general election</td>\n      <td>UK</td>\n      <td>–</td>\n      <td>43.6</td>\n      <td>32.1</td>\n      <td>11.6</td>\n      <td>NaN</td>\n      <td>...</td>\n      <td>3.9</td>\n      <td>NaN</td>\n      <td>NaN</td>\n      <td>NaN</td>\n      <td>3.7</td>\n      <td>con+11.5</td>\n      <td>11.5</td>\n      <td>50.3</td>\n      <td>50.3</td>\n      <td>45.6</td>\n    </tr>\n    <tr>\n      <th>1038</th>\n      <td>2017-06-08</td>\n      <td>2017-06-08</td>\n      <td>General Election</td>\n      <td>NaN</td>\n      <td>GB</td>\n      <td>–</td>\n      <td>43.4</td>\n      <td>41.0</td>\n      <td>7.6</td>\n      <td>NaN</td>\n      <td>...</td>\n      <td>3.1</td>\n      <td>NaN</td>\n      <td>1.9</td>\n      <td>NaN</td>\n      <td>0.8</td>\n      <td>con+2.4</td>\n      <td>2.4</td>\n      <td>53.9</td>\n      <td>53.9</td>\n      <td>45.3</td>\n    </tr>\n    <tr>\n      <th>1039</th>\n      <td>2017-06-08</td>\n      <td>2017-06-08</td>\n      <td>General Election</td>\n      <td>NaN</td>\n      <td>UK</td>\n      <td>–</td>\n      <td>42.3</td>\n      <td>40.0</td>\n      <td>7.4</td>\n      <td>NaN</td>\n      <td>...</td>\n      <td>3.0</td>\n      <td>NaN</td>\n      <td>1.8</td>\n      <td>NaN</td>\n      <td>3.3</td>\n      <td>con+2.3</td>\n      <td>2.3</td>\n      <td>52.5</td>\n      <td>52.5</td>\n      <td>44.1</td>\n    </tr>\n    <tr>\n      <th>1040</th>\n      <td>2017-06-08</td>\n      <td>2017-06-08</td>\n      <td>General Election</td>\n      <td>NaN</td>\n      <td>NaN</td>\n      <td>–</td>\n      <td>43.5</td>\n      <td>41.0</td>\n      <td>7.6</td>\n      <td>NaN</td>\n      <td>...</td>\n      <td>3.1</td>\n      <td>NaN</td>\n      <td>1.9</td>\n      <td>NaN</td>\n      <td>1.2</td>\n      <td>con+2.5</td>\n      <td>2.5</td>\n      <td>53.4</td>\n      <td>53.4</td>\n      <td>45.4</td>\n    </tr>\n    <tr>\n      <th>1300</th>\n      <td>2015-05-07</td>\n      <td>2015-05-07</td>\n      <td>General Election</td>\n      <td>NaN</td>\n      <td>NaN</td>\n      <td>–</td>\n      <td>37.8</td>\n      <td>31.2</td>\n      <td>8.1</td>\n      <td>NaN</td>\n      <td>...</td>\n      <td>4.9</td>\n      <td>NaN</td>\n      <td>12.9</td>\n      <td>NaN</td>\n      <td>1.4</td>\n      <td>con+6.6</td>\n      <td>6.6</td>\n      <td>48.0</td>\n      <td>48.0</td>\n      <td>50.7</td>\n    </tr>\n    <tr>\n      <th>3267</th>\n      <td>2010-05-06</td>\n      <td>2010-05-06</td>\n      <td>General Election</td>\n      <td>NaN</td>\n      <td>NaN</td>\n      <td>–</td>\n      <td>36.9</td>\n      <td>29.7</td>\n      <td>23.6</td>\n      <td>NaN</td>\n      <td>...</td>\n      <td>NaN</td>\n      <td>NaN</td>\n      <td>3.1</td>\n      <td>NaN</td>\n      <td>5.7</td>\n      <td>con+7.2</td>\n      <td>7.2</td>\n      <td>54.3</td>\n      <td>54.3</td>\n      <td>40.0</td>\n    </tr>\n    <tr>\n      <th>3268</th>\n      <td>2010-05-06</td>\n      <td>2010-05-06</td>\n      <td>General Election</td>\n      <td>2010 general election</td>\n      <td>NaN</td>\n      <td>–</td>\n      <td>36.9</td>\n      <td>29.7</td>\n      <td>23.6</td>\n      <td>NaN</td>\n      <td>...</td>\n      <td>NaN</td>\n      <td>NaN</td>\n      <td>NaN</td>\n      <td>NaN</td>\n      <td>9.8</td>\n      <td>con+7.2</td>\n      <td>7.2</td>\n      <td>53.3</td>\n      <td>53.3</td>\n      <td>36.9</td>\n    </tr>\n    <tr>\n      <th>3870</th>\n      <td>2005-05-05</td>\n      <td>2005-05-05</td>\n      <td>General Election</td>\n      <td>None</td>\n      <td>NaN</td>\n      <td>–</td>\n      <td>33.2</td>\n      <td>36.2</td>\n      <td>22.7</td>\n      <td>NaN</td>\n      <td>...</td>\n      <td>NaN</td>\n      <td>NaN</td>\n      <td>NaN</td>\n      <td>NaN</td>\n      <td>7.9</td>\n      <td>lab+3.0</td>\n      <td>3.0</td>\n      <td>58.9</td>\n      <td>58.9</td>\n      <td>33.2</td>\n    </tr>\n    <tr>\n      <th>3969</th>\n      <td>2001-06-07</td>\n      <td>2001-06-07</td>\n      <td>General Election</td>\n      <td>2001 general election</td>\n      <td>NaN</td>\n      <td>–</td>\n      <td>31.7</td>\n      <td>40.7</td>\n      <td>18.3</td>\n      <td>NaN</td>\n      <td>...</td>\n      <td>NaN</td>\n      <td>NaN</td>\n      <td>NaN</td>\n      <td>NaN</td>\n      <td>9.3</td>\n      <td>lab+9.0</td>\n      <td>9.0</td>\n      <td>59.0</td>\n      <td>59.0</td>\n      <td>31.7</td>\n    </tr>\n    <tr>\n      <th>3970</th>\n      <td>2001-06-07</td>\n      <td>2001-06-07</td>\n      <td>General Election</td>\n      <td>2001 general election</td>\n      <td>NaN</td>\n      <td>–</td>\n      <td>32.7</td>\n      <td>42.0</td>\n      <td>18.8</td>\n      <td>NaN</td>\n      <td>...</td>\n      <td>NaN</td>\n      <td>NaN</td>\n      <td>NaN</td>\n      <td>NaN</td>\n      <td>6.5</td>\n      <td>lab+9.3</td>\n      <td>9.3</td>\n      <td>60.8</td>\n      <td>60.8</td>\n      <td>32.7</td>\n    </tr>\n    <tr>\n      <th>4190</th>\n      <td>1997-05-01</td>\n      <td>1997-05-01</td>\n      <td>General Election</td>\n      <td>1997 general election</td>\n      <td>NaN</td>\n      <td>–</td>\n      <td>30.7</td>\n      <td>43.2</td>\n      <td>16.8</td>\n      <td>NaN</td>\n      <td>...</td>\n      <td>NaN</td>\n      <td>NaN</td>\n      <td>NaN</td>\n      <td>NaN</td>\n      <td>9.3</td>\n      <td>lab+12.5</td>\n      <td>12.5</td>\n      <td>60.0</td>\n      <td>60.0</td>\n      <td>30.7</td>\n    </tr>\n    <tr>\n      <th>4535</th>\n      <td>1992-04-09</td>\n      <td>1992-04-09</td>\n      <td>General Election</td>\n      <td>NaN</td>\n      <td>NaN</td>\n      <td>NaN</td>\n      <td>41.9</td>\n      <td>34.4</td>\n      <td>17.8</td>\n      <td>NaN</td>\n      <td>...</td>\n      <td>NaN</td>\n      <td>NaN</td>\n      <td>NaN</td>\n      <td>NaN</td>\n      <td>NaN</td>\n      <td>con+7.5</td>\n      <td>7.5</td>\n      <td>52.2</td>\n      <td>52.2</td>\n      <td>41.9</td>\n    </tr>\n    <tr>\n      <th>4536</th>\n      <td>1992-04-08</td>\n      <td>1992-04-08</td>\n      <td>General Election</td>\n      <td>1992 general election</td>\n      <td>NaN</td>\n      <td>NaN</td>\n      <td>42.8</td>\n      <td>35.2</td>\n      <td>18.3</td>\n      <td>NaN</td>\n      <td>...</td>\n      <td>NaN</td>\n      <td>NaN</td>\n      <td>NaN</td>\n      <td>NaN</td>\n      <td>NaN</td>\n      <td>con+7.6</td>\n      <td>7.6</td>\n      <td>53.5</td>\n      <td>53.5</td>\n      <td>42.8</td>\n    </tr>\n    <tr>\n      <th>5036</th>\n      <td>1987-06-11</td>\n      <td>1987-06-11</td>\n      <td>General Election</td>\n      <td>1987 general election</td>\n      <td>NaN</td>\n      <td>NaN</td>\n      <td>43.3</td>\n      <td>31.5</td>\n      <td>NaN</td>\n      <td>23.1</td>\n      <td>...</td>\n      <td>NaN</td>\n      <td>NaN</td>\n      <td>NaN</td>\n      <td>NaN</td>\n      <td>NaN</td>\n      <td>con+11.8</td>\n      <td>11.8</td>\n      <td>31.5</td>\n      <td>54.6</td>\n      <td>43.3</td>\n    </tr>\n    <tr>\n      <th>5037</th>\n      <td>1987-06-11</td>\n      <td>1987-06-11</td>\n      <td>General Election</td>\n      <td>1987 general election</td>\n      <td>NaN</td>\n      <td>NaN</td>\n      <td>42.2</td>\n      <td>30.8</td>\n      <td>NaN</td>\n      <td>22.6</td>\n      <td>...</td>\n      <td>NaN</td>\n      <td>NaN</td>\n      <td>NaN</td>\n      <td>NaN</td>\n      <td>NaN</td>\n      <td>con+11.4</td>\n      <td>11.4</td>\n      <td>30.8</td>\n      <td>53.4</td>\n      <td>42.2</td>\n    </tr>\n    <tr>\n      <th>5301</th>\n      <td>1983-06-09</td>\n      <td>1983-06-09</td>\n      <td>General Election</td>\n      <td>1983 general election</td>\n      <td>NaN</td>\n      <td>NaN</td>\n      <td>42.4</td>\n      <td>27.6</td>\n      <td>NaN</td>\n      <td>25.4</td>\n      <td>...</td>\n      <td>NaN</td>\n      <td>NaN</td>\n      <td>NaN</td>\n      <td>NaN</td>\n      <td>NaN</td>\n      <td>con+14.8</td>\n      <td>14.8</td>\n      <td>27.6</td>\n      <td>53.0</td>\n      <td>42.4</td>\n    </tr>\n    <tr>\n      <th>5498</th>\n      <td>1979-05-03</td>\n      <td>1979-05-03</td>\n      <td>General Election</td>\n      <td>1979 general election</td>\n      <td>NaN</td>\n      <td>NaN</td>\n      <td>43.9</td>\n      <td>36.9</td>\n      <td>NaN</td>\n      <td>NaN</td>\n      <td>...</td>\n      <td>NaN</td>\n      <td>NaN</td>\n      <td>NaN</td>\n      <td>NaN</td>\n      <td>NaN</td>\n      <td>con+7.0</td>\n      <td>7.0</td>\n      <td>36.9</td>\n      <td>50.7</td>\n      <td>43.9</td>\n    </tr>\n    <tr>\n      <th>5664</th>\n      <td>1974-10-10</td>\n      <td>1974-10-10</td>\n      <td>General Election</td>\n      <td>Oct 1974 general election</td>\n      <td>NaN</td>\n      <td>NaN</td>\n      <td>35.8</td>\n      <td>39.3</td>\n      <td>NaN</td>\n      <td>NaN</td>\n      <td>...</td>\n      <td>NaN</td>\n      <td>NaN</td>\n      <td>NaN</td>\n      <td>NaN</td>\n      <td>NaN</td>\n      <td>lab+3.5</td>\n      <td>3.5</td>\n      <td>39.3</td>\n      <td>57.6</td>\n      <td>35.8</td>\n    </tr>\n    <tr>\n      <th>5665</th>\n      <td>1974-10-10</td>\n      <td>1974-10-10</td>\n      <td>General Election</td>\n      <td>Oct 1974 general election</td>\n      <td>NaN</td>\n      <td>NaN</td>\n      <td>35.8</td>\n      <td>39.2</td>\n      <td>NaN</td>\n      <td>NaN</td>\n      <td>...</td>\n      <td>NaN</td>\n      <td>NaN</td>\n      <td>NaN</td>\n      <td>NaN</td>\n      <td>NaN</td>\n      <td>lab+3.4</td>\n      <td>3.4</td>\n      <td>39.2</td>\n      <td>57.5</td>\n      <td>35.8</td>\n    </tr>\n    <tr>\n      <th>5703</th>\n      <td>1974-02-28</td>\n      <td>1974-02-28</td>\n      <td>General Election</td>\n      <td>Feb 1974 general election</td>\n      <td>NaN</td>\n      <td>NaN</td>\n      <td>37.9</td>\n      <td>37.2</td>\n      <td>NaN</td>\n      <td>NaN</td>\n      <td>...</td>\n      <td>NaN</td>\n      <td>NaN</td>\n      <td>NaN</td>\n      <td>NaN</td>\n      <td>NaN</td>\n      <td>con+0.7</td>\n      <td>0.7</td>\n      <td>37.2</td>\n      <td>56.5</td>\n      <td>37.9</td>\n    </tr>\n    <tr>\n      <th>5791</th>\n      <td>1970-06-18</td>\n      <td>1970-06-18</td>\n      <td>General Election</td>\n      <td>1970 general election</td>\n      <td>NaN</td>\n      <td>NaN</td>\n      <td>46.4</td>\n      <td>43.1</td>\n      <td>NaN</td>\n      <td>NaN</td>\n      <td>...</td>\n      <td>NaN</td>\n      <td>NaN</td>\n      <td>NaN</td>\n      <td>NaN</td>\n      <td>NaN</td>\n      <td>con+3.3</td>\n      <td>3.3</td>\n      <td>43.1</td>\n      <td>50.6</td>\n      <td>46.4</td>\n    </tr>\n  </tbody>\n</table>\n<p>23 rows × 26 columns</p>\n</div>"
     },
     "execution_count": 65,
     "metadata": {},
     "output_type": "execute_result"
    }
   ],
   "source": [
    "all_polls.query('pollster==\"General Election\"')"
   ],
   "metadata": {
    "collapsed": false,
    "pycharm": {
     "name": "#%%\n"
    }
   }
  },
  {
   "cell_type": "code",
   "execution_count": 65,
   "outputs": [],
   "source": [],
   "metadata": {
    "collapsed": false,
    "pycharm": {
     "name": "#%%\n"
    }
   }
  },
  {
   "cell_type": "code",
   "execution_count": 65,
   "outputs": [],
   "source": [],
   "metadata": {
    "collapsed": false,
    "pycharm": {
     "name": "#%%\n"
    }
   }
  },
  {
   "cell_type": "code",
   "execution_count": 65,
   "outputs": [],
   "source": [],
   "metadata": {
    "collapsed": false,
    "pycharm": {
     "name": "#%%\n"
    }
   }
  },
  {
   "cell_type": "code",
   "execution_count": 65,
   "outputs": [],
   "source": [],
   "metadata": {
    "collapsed": false,
    "pycharm": {
     "name": "#%%\n"
    }
   }
  }
 ],
 "metadata": {
  "kernelspec": {
   "display_name": "Python 3",
   "language": "python",
   "name": "python3"
  },
  "language_info": {
   "codemirror_mode": {
    "name": "ipython",
    "version": 2
   },
   "file_extension": ".py",
   "mimetype": "text/x-python",
   "name": "python",
   "nbconvert_exporter": "python",
   "pygments_lexer": "ipython2",
   "version": "2.7.6"
  }
 },
 "nbformat": 4,
 "nbformat_minor": 0
}