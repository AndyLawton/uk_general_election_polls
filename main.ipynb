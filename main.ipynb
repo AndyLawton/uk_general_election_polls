{
 "cells": [
  {
   "cell_type": "code",
   "execution_count": 1,
   "outputs": [],
   "source": [
    "%load_ext autoreload\n",
    "%autoreload 2"
   ],
   "metadata": {
    "collapsed": false,
    "ExecuteTime": {
     "end_time": "2024-05-29T10:46:57.321633600Z",
     "start_time": "2024-05-29T10:46:49.784869800Z"
    }
   }
  },
  {
   "cell_type": "code",
   "execution_count": 1,
   "metadata": {
    "ExecuteTime": {
     "end_time": "2024-05-29T10:46:57.322108400Z",
     "start_time": "2024-05-29T10:46:49.830007500Z"
    }
   },
   "outputs": [],
   "source": []
  },
  {
   "cell_type": "code",
   "execution_count": 2,
   "metadata": {
    "ExecuteTime": {
     "end_time": "2024-05-29T10:46:57.322609800Z",
     "start_time": "2024-05-29T10:46:49.834021600Z"
    }
   },
   "outputs": [],
   "source": [
    "import pandas as pd\n",
    "import numpy as np\n",
    "from dateutil.relativedelta import relativedelta"
   ]
  },
  {
   "cell_type": "code",
   "execution_count": 3,
   "metadata": {
    "ExecuteTime": {
     "end_time": "2024-05-29T10:46:57.322609800Z",
     "start_time": "2024-05-29T10:46:51.745077800Z"
    }
   },
   "outputs": [],
   "source": [
    "from scripts.downloader import fetch_all_polls"
   ]
  },
  {
   "cell_type": "code",
   "execution_count": 4,
   "metadata": {
    "ExecuteTime": {
     "end_time": "2024-05-29T10:47:06.287726500Z",
     "start_time": "2024-05-29T10:46:52.064362500Z"
    }
   },
   "outputs": [],
   "source": [
    "all_polls = fetch_all_polls(cleanup=True, refresh=False)"
   ]
  },
  {
   "cell_type": "code",
   "execution_count": 5,
   "outputs": [],
   "source": [
    "from scripts.downloader import fetch_page"
   ],
   "metadata": {
    "collapsed": false,
    "ExecuteTime": {
     "end_time": "2024-05-29T10:47:06.358464500Z",
     "start_time": "2024-05-29T10:47:06.289226500Z"
    }
   }
  },
  {
   "cell_type": "code",
   "execution_count": 6,
   "outputs": [
    {
     "data": {
      "text/plain": "            dates               pollster                 client area  \\\n0       26–28 May                 YouGov               Sky News   GB   \n1       25–27 May      Redfield & Wilton                    NaN   GB   \n2       24–27 May              Survation                    NaN   UK   \n3       24–25 May            JL Partners   The Rest is Politics   GB   \n4       23–25 May              Deltapoll         Mail on Sunday   GB   \n...           ...                    ...                    ...  ...   \n1402    24–26 Jan                 YouGov              The Times   GB   \n1403    15–17 Jan                Opinium           The Observer   GB   \n1404     8–10 Jan                    BMG        The Independent   GB   \n1405  12 Dec 2019  2019 general election  2019 general election   UK   \n1406  12 Dec 2019  2019 general election  2019 general election   GB   \n\n     sample_size conservative labour liberal_democrat scottish_national_party  \\\n0            nan          20%    47%               9%                      3%   \n1          12000          23%    46%               9%                      3%   \n2           2040          24%    47%              11%                      3%   \n3           2013          28%    40%              10%                      3%   \n4           1517          23%    45%               9%                      3%   \n...          ...          ...    ...              ...                     ...   \n1402        1628          49%    29%              10%                      5%   \n1403        1978          47%    30%               9%                      5%   \n1404        1508          44%    29%              11%                      3%   \n1405           —        43.6%  32.1%            11.6%                    3.9%   \n1406           —        44.7%  32.9%            11.8%                    4.0%   \n\n     green reform_uk                                             others  lead  \\\n0       7%       12%  .mw-parser-output .hidden-begin{box-sizing:bor...    27   \n1       5%       13%  3% Plaid Cymru on 1%Workers Party of Britain o...    23   \n2       3%        8%  4% Plaid Cymru on 1%UKIP on 0%Reclaim on 0%Oth...    23   \n3       5%       12%                    2% Plaid Cymru on 1%Other on 1%    12   \n4       6%       10%                    3% Plaid Cymru on 1%Other on 2%    22   \n...    ...       ...                                                ...   ...   \n1402    4%       NaN                     1% Plaid Cymru on 1%UKIP on 0%    20   \n1403    4%       NaN          3% Plaid Cymru on 1%UKIP on 0%Other on 2%    17   \n1404    5%       NaN                     2% UKIP on 2%Plaid Cymru on 0%    15   \n1405  2.7%       NaN                                               3.7%  11.5   \n1406  2.8%       NaN                                               2.2%  11.8   \n\n      year brexit_party  \n0     2024          NaN  \n1     2024          NaN  \n2     2024          NaN  \n3     2024          NaN  \n4     2024          NaN  \n...    ...          ...  \n1402  2020           2%  \n1403  2020           3%  \n1404  2020           4%  \n1405  2020         2.0%  \n1406  2020         2.1%  \n\n[1407 rows x 15 columns]",
      "text/html": "<div>\n<style scoped>\n    .dataframe tbody tr th:only-of-type {\n        vertical-align: middle;\n    }\n\n    .dataframe tbody tr th {\n        vertical-align: top;\n    }\n\n    .dataframe thead th {\n        text-align: right;\n    }\n</style>\n<table border=\"1\" class=\"dataframe\">\n  <thead>\n    <tr style=\"text-align: right;\">\n      <th></th>\n      <th>dates</th>\n      <th>pollster</th>\n      <th>client</th>\n      <th>area</th>\n      <th>sample_size</th>\n      <th>conservative</th>\n      <th>labour</th>\n      <th>liberal_democrat</th>\n      <th>scottish_national_party</th>\n      <th>green</th>\n      <th>reform_uk</th>\n      <th>others</th>\n      <th>lead</th>\n      <th>year</th>\n      <th>brexit_party</th>\n    </tr>\n  </thead>\n  <tbody>\n    <tr>\n      <th>0</th>\n      <td>26–28 May</td>\n      <td>YouGov</td>\n      <td>Sky News</td>\n      <td>GB</td>\n      <td>nan</td>\n      <td>20%</td>\n      <td>47%</td>\n      <td>9%</td>\n      <td>3%</td>\n      <td>7%</td>\n      <td>12%</td>\n      <td>.mw-parser-output .hidden-begin{box-sizing:bor...</td>\n      <td>27</td>\n      <td>2024</td>\n      <td>NaN</td>\n    </tr>\n    <tr>\n      <th>1</th>\n      <td>25–27 May</td>\n      <td>Redfield &amp; Wilton</td>\n      <td>NaN</td>\n      <td>GB</td>\n      <td>12000</td>\n      <td>23%</td>\n      <td>46%</td>\n      <td>9%</td>\n      <td>3%</td>\n      <td>5%</td>\n      <td>13%</td>\n      <td>3% Plaid Cymru on 1%Workers Party of Britain o...</td>\n      <td>23</td>\n      <td>2024</td>\n      <td>NaN</td>\n    </tr>\n    <tr>\n      <th>2</th>\n      <td>24–27 May</td>\n      <td>Survation</td>\n      <td>NaN</td>\n      <td>UK</td>\n      <td>2040</td>\n      <td>24%</td>\n      <td>47%</td>\n      <td>11%</td>\n      <td>3%</td>\n      <td>3%</td>\n      <td>8%</td>\n      <td>4% Plaid Cymru on 1%UKIP on 0%Reclaim on 0%Oth...</td>\n      <td>23</td>\n      <td>2024</td>\n      <td>NaN</td>\n    </tr>\n    <tr>\n      <th>3</th>\n      <td>24–25 May</td>\n      <td>JL Partners</td>\n      <td>The Rest is Politics</td>\n      <td>GB</td>\n      <td>2013</td>\n      <td>28%</td>\n      <td>40%</td>\n      <td>10%</td>\n      <td>3%</td>\n      <td>5%</td>\n      <td>12%</td>\n      <td>2% Plaid Cymru on 1%Other on 1%</td>\n      <td>12</td>\n      <td>2024</td>\n      <td>NaN</td>\n    </tr>\n    <tr>\n      <th>4</th>\n      <td>23–25 May</td>\n      <td>Deltapoll</td>\n      <td>Mail on Sunday</td>\n      <td>GB</td>\n      <td>1517</td>\n      <td>23%</td>\n      <td>45%</td>\n      <td>9%</td>\n      <td>3%</td>\n      <td>6%</td>\n      <td>10%</td>\n      <td>3% Plaid Cymru on 1%Other on 2%</td>\n      <td>22</td>\n      <td>2024</td>\n      <td>NaN</td>\n    </tr>\n    <tr>\n      <th>...</th>\n      <td>...</td>\n      <td>...</td>\n      <td>...</td>\n      <td>...</td>\n      <td>...</td>\n      <td>...</td>\n      <td>...</td>\n      <td>...</td>\n      <td>...</td>\n      <td>...</td>\n      <td>...</td>\n      <td>...</td>\n      <td>...</td>\n      <td>...</td>\n      <td>...</td>\n    </tr>\n    <tr>\n      <th>1402</th>\n      <td>24–26 Jan</td>\n      <td>YouGov</td>\n      <td>The Times</td>\n      <td>GB</td>\n      <td>1628</td>\n      <td>49%</td>\n      <td>29%</td>\n      <td>10%</td>\n      <td>5%</td>\n      <td>4%</td>\n      <td>NaN</td>\n      <td>1% Plaid Cymru on 1%UKIP on 0%</td>\n      <td>20</td>\n      <td>2020</td>\n      <td>2%</td>\n    </tr>\n    <tr>\n      <th>1403</th>\n      <td>15–17 Jan</td>\n      <td>Opinium</td>\n      <td>The Observer</td>\n      <td>GB</td>\n      <td>1978</td>\n      <td>47%</td>\n      <td>30%</td>\n      <td>9%</td>\n      <td>5%</td>\n      <td>4%</td>\n      <td>NaN</td>\n      <td>3% Plaid Cymru on 1%UKIP on 0%Other on 2%</td>\n      <td>17</td>\n      <td>2020</td>\n      <td>3%</td>\n    </tr>\n    <tr>\n      <th>1404</th>\n      <td>8–10 Jan</td>\n      <td>BMG</td>\n      <td>The Independent</td>\n      <td>GB</td>\n      <td>1508</td>\n      <td>44%</td>\n      <td>29%</td>\n      <td>11%</td>\n      <td>3%</td>\n      <td>5%</td>\n      <td>NaN</td>\n      <td>2% UKIP on 2%Plaid Cymru on 0%</td>\n      <td>15</td>\n      <td>2020</td>\n      <td>4%</td>\n    </tr>\n    <tr>\n      <th>1405</th>\n      <td>12 Dec 2019</td>\n      <td>2019 general election</td>\n      <td>2019 general election</td>\n      <td>UK</td>\n      <td>—</td>\n      <td>43.6%</td>\n      <td>32.1%</td>\n      <td>11.6%</td>\n      <td>3.9%</td>\n      <td>2.7%</td>\n      <td>NaN</td>\n      <td>3.7%</td>\n      <td>11.5</td>\n      <td>2020</td>\n      <td>2.0%</td>\n    </tr>\n    <tr>\n      <th>1406</th>\n      <td>12 Dec 2019</td>\n      <td>2019 general election</td>\n      <td>2019 general election</td>\n      <td>GB</td>\n      <td>—</td>\n      <td>44.7%</td>\n      <td>32.9%</td>\n      <td>11.8%</td>\n      <td>4.0%</td>\n      <td>2.8%</td>\n      <td>NaN</td>\n      <td>2.2%</td>\n      <td>11.8</td>\n      <td>2020</td>\n      <td>2.1%</td>\n    </tr>\n  </tbody>\n</table>\n<p>1407 rows × 15 columns</p>\n</div>"
     },
     "execution_count": 6,
     "metadata": {},
     "output_type": "execute_result"
    }
   ],
   "source": [
    "fetch_page('https://en.wikipedia.org/wiki/Opinion_polling_for_the_next_United_Kingdom_general_election', 'next', True)"
   ],
   "metadata": {
    "collapsed": false,
    "ExecuteTime": {
     "end_time": "2024-05-29T10:47:09.877485100Z",
     "start_time": "2024-05-29T10:47:06.354960600Z"
    }
   }
  },
  {
   "cell_type": "code",
   "execution_count": 7,
   "outputs": [
    {
     "data": {
      "text/plain": "            dates               pollster                 client area  \\\n0       26–28 May                 YouGov               Sky News   GB   \n1       25–27 May      Redfield & Wilton                    NaN   GB   \n2       24–27 May              Survation                    NaN   UK   \n3       24–25 May            JL Partners   The Rest is Politics   GB   \n4       23–25 May              Deltapoll         Mail on Sunday   GB   \n...           ...                    ...                    ...  ...   \n1402    24–26 Jan                 YouGov              The Times   GB   \n1403    15–17 Jan                Opinium           The Observer   GB   \n1404     8–10 Jan                    BMG        The Independent   GB   \n1405  12 Dec 2019  2019 general election  2019 general election   UK   \n1406  12 Dec 2019  2019 general election  2019 general election   GB   \n\n     sample_size conservative labour liberal_democrat scottish_national_party  \\\n0           2128          20%    47%               9%                      3%   \n1          12000          23%    46%               9%                      3%   \n2           2040          24%    47%              11%                      3%   \n3           2013          28%    40%              10%                      3%   \n4           1517          23%    45%               9%                      3%   \n...          ...          ...    ...              ...                     ...   \n1402        1628          49%    29%              10%                      5%   \n1403        1978          47%    30%               9%                      5%   \n1404        1508          44%    29%              11%                      3%   \n1405           —        43.6%  32.1%            11.6%                    3.9%   \n1406           —        44.7%  32.9%            11.8%                    4.0%   \n\n     green reform_uk                                             others  lead  \\\n0       7%       12%  .mw-parser-output .hidden-begin{box-sizing:bor...    27   \n1       5%       13%  3% Plaid Cymru on 1%Workers Party of Britain o...    23   \n2       3%        8%  4% Plaid Cymru on 1%UKIP on 0%Reclaim on 0%Oth...    23   \n3       5%       12%                    2% Plaid Cymru on 1%Other on 1%    12   \n4       6%       10%                    3% Plaid Cymru on 1%Other on 2%    22   \n...    ...       ...                                                ...   ...   \n1402    4%       NaN                     1% Plaid Cymru on 1%UKIP on 0%    20   \n1403    4%       NaN          3% Plaid Cymru on 1%UKIP on 0%Other on 2%    17   \n1404    5%       NaN                     2% UKIP on 2%Plaid Cymru on 0%    15   \n1405  2.7%       NaN                                               3.7%  11.5   \n1406  2.8%       NaN                                               2.2%  11.8   \n\n      year brexit_party  \n0     2024          NaN  \n1     2024          NaN  \n2     2024          NaN  \n3     2024          NaN  \n4     2024          NaN  \n...    ...          ...  \n1402  2020           2%  \n1403  2020           3%  \n1404  2020           4%  \n1405  2020         2.0%  \n1406  2020         2.1%  \n\n[1407 rows x 15 columns]",
      "text/html": "<div>\n<style scoped>\n    .dataframe tbody tr th:only-of-type {\n        vertical-align: middle;\n    }\n\n    .dataframe tbody tr th {\n        vertical-align: top;\n    }\n\n    .dataframe thead th {\n        text-align: right;\n    }\n</style>\n<table border=\"1\" class=\"dataframe\">\n  <thead>\n    <tr style=\"text-align: right;\">\n      <th></th>\n      <th>dates</th>\n      <th>pollster</th>\n      <th>client</th>\n      <th>area</th>\n      <th>sample_size</th>\n      <th>conservative</th>\n      <th>labour</th>\n      <th>liberal_democrat</th>\n      <th>scottish_national_party</th>\n      <th>green</th>\n      <th>reform_uk</th>\n      <th>others</th>\n      <th>lead</th>\n      <th>year</th>\n      <th>brexit_party</th>\n    </tr>\n  </thead>\n  <tbody>\n    <tr>\n      <th>0</th>\n      <td>26–28 May</td>\n      <td>YouGov</td>\n      <td>Sky News</td>\n      <td>GB</td>\n      <td>2128</td>\n      <td>20%</td>\n      <td>47%</td>\n      <td>9%</td>\n      <td>3%</td>\n      <td>7%</td>\n      <td>12%</td>\n      <td>.mw-parser-output .hidden-begin{box-sizing:bor...</td>\n      <td>27</td>\n      <td>2024</td>\n      <td>NaN</td>\n    </tr>\n    <tr>\n      <th>1</th>\n      <td>25–27 May</td>\n      <td>Redfield &amp; Wilton</td>\n      <td>NaN</td>\n      <td>GB</td>\n      <td>12000</td>\n      <td>23%</td>\n      <td>46%</td>\n      <td>9%</td>\n      <td>3%</td>\n      <td>5%</td>\n      <td>13%</td>\n      <td>3% Plaid Cymru on 1%Workers Party of Britain o...</td>\n      <td>23</td>\n      <td>2024</td>\n      <td>NaN</td>\n    </tr>\n    <tr>\n      <th>2</th>\n      <td>24–27 May</td>\n      <td>Survation</td>\n      <td>NaN</td>\n      <td>UK</td>\n      <td>2040</td>\n      <td>24%</td>\n      <td>47%</td>\n      <td>11%</td>\n      <td>3%</td>\n      <td>3%</td>\n      <td>8%</td>\n      <td>4% Plaid Cymru on 1%UKIP on 0%Reclaim on 0%Oth...</td>\n      <td>23</td>\n      <td>2024</td>\n      <td>NaN</td>\n    </tr>\n    <tr>\n      <th>3</th>\n      <td>24–25 May</td>\n      <td>JL Partners</td>\n      <td>The Rest is Politics</td>\n      <td>GB</td>\n      <td>2013</td>\n      <td>28%</td>\n      <td>40%</td>\n      <td>10%</td>\n      <td>3%</td>\n      <td>5%</td>\n      <td>12%</td>\n      <td>2% Plaid Cymru on 1%Other on 1%</td>\n      <td>12</td>\n      <td>2024</td>\n      <td>NaN</td>\n    </tr>\n    <tr>\n      <th>4</th>\n      <td>23–25 May</td>\n      <td>Deltapoll</td>\n      <td>Mail on Sunday</td>\n      <td>GB</td>\n      <td>1517</td>\n      <td>23%</td>\n      <td>45%</td>\n      <td>9%</td>\n      <td>3%</td>\n      <td>6%</td>\n      <td>10%</td>\n      <td>3% Plaid Cymru on 1%Other on 2%</td>\n      <td>22</td>\n      <td>2024</td>\n      <td>NaN</td>\n    </tr>\n    <tr>\n      <th>...</th>\n      <td>...</td>\n      <td>...</td>\n      <td>...</td>\n      <td>...</td>\n      <td>...</td>\n      <td>...</td>\n      <td>...</td>\n      <td>...</td>\n      <td>...</td>\n      <td>...</td>\n      <td>...</td>\n      <td>...</td>\n      <td>...</td>\n      <td>...</td>\n      <td>...</td>\n    </tr>\n    <tr>\n      <th>1402</th>\n      <td>24–26 Jan</td>\n      <td>YouGov</td>\n      <td>The Times</td>\n      <td>GB</td>\n      <td>1628</td>\n      <td>49%</td>\n      <td>29%</td>\n      <td>10%</td>\n      <td>5%</td>\n      <td>4%</td>\n      <td>NaN</td>\n      <td>1% Plaid Cymru on 1%UKIP on 0%</td>\n      <td>20</td>\n      <td>2020</td>\n      <td>2%</td>\n    </tr>\n    <tr>\n      <th>1403</th>\n      <td>15–17 Jan</td>\n      <td>Opinium</td>\n      <td>The Observer</td>\n      <td>GB</td>\n      <td>1978</td>\n      <td>47%</td>\n      <td>30%</td>\n      <td>9%</td>\n      <td>5%</td>\n      <td>4%</td>\n      <td>NaN</td>\n      <td>3% Plaid Cymru on 1%UKIP on 0%Other on 2%</td>\n      <td>17</td>\n      <td>2020</td>\n      <td>3%</td>\n    </tr>\n    <tr>\n      <th>1404</th>\n      <td>8–10 Jan</td>\n      <td>BMG</td>\n      <td>The Independent</td>\n      <td>GB</td>\n      <td>1508</td>\n      <td>44%</td>\n      <td>29%</td>\n      <td>11%</td>\n      <td>3%</td>\n      <td>5%</td>\n      <td>NaN</td>\n      <td>2% UKIP on 2%Plaid Cymru on 0%</td>\n      <td>15</td>\n      <td>2020</td>\n      <td>4%</td>\n    </tr>\n    <tr>\n      <th>1405</th>\n      <td>12 Dec 2019</td>\n      <td>2019 general election</td>\n      <td>2019 general election</td>\n      <td>UK</td>\n      <td>—</td>\n      <td>43.6%</td>\n      <td>32.1%</td>\n      <td>11.6%</td>\n      <td>3.9%</td>\n      <td>2.7%</td>\n      <td>NaN</td>\n      <td>3.7%</td>\n      <td>11.5</td>\n      <td>2020</td>\n      <td>2.0%</td>\n    </tr>\n    <tr>\n      <th>1406</th>\n      <td>12 Dec 2019</td>\n      <td>2019 general election</td>\n      <td>2019 general election</td>\n      <td>GB</td>\n      <td>—</td>\n      <td>44.7%</td>\n      <td>32.9%</td>\n      <td>11.8%</td>\n      <td>4.0%</td>\n      <td>2.8%</td>\n      <td>NaN</td>\n      <td>2.2%</td>\n      <td>11.8</td>\n      <td>2020</td>\n      <td>2.1%</td>\n    </tr>\n  </tbody>\n</table>\n<p>1407 rows × 15 columns</p>\n</div>"
     },
     "execution_count": 7,
     "metadata": {},
     "output_type": "execute_result"
    }
   ],
   "source": [
    "fetch_page('https://en.wikipedia.org/wiki/Opinion_polling_for_the_2024_United_Kingdom_general_election', 'next', True)"
   ],
   "metadata": {
    "collapsed": false,
    "ExecuteTime": {
     "end_time": "2024-05-29T10:47:13.696854300Z",
     "start_time": "2024-05-29T10:47:09.874481300Z"
    }
   }
  },
  {
   "cell_type": "code",
   "execution_count": 8,
   "outputs": [
    {
     "data": {
      "text/plain": "Timestamp('2024-05-26 00:00:00')"
     },
     "execution_count": 8,
     "metadata": {},
     "output_type": "execute_result"
    }
   ],
   "source": [
    "all_polls.date_started.max()"
   ],
   "metadata": {
    "collapsed": false,
    "ExecuteTime": {
     "end_time": "2024-05-29T10:47:13.880770Z",
     "start_time": "2024-05-29T10:47:13.689812600Z"
    }
   }
  },
  {
   "cell_type": "code",
   "execution_count": 9,
   "outputs": [],
   "source": [
    "display_columns = ['date_started', 'date_concluded', 'pollster', 'conservative', 'labour', 'liberal_democrat', 'lead']"
   ],
   "metadata": {
    "collapsed": false,
    "ExecuteTime": {
     "end_time": "2024-05-29T10:47:13.958089700Z",
     "start_time": "2024-05-29T10:47:13.764354Z"
    }
   }
  },
  {
   "cell_type": "code",
   "execution_count": 10,
   "outputs": [],
   "source": [
    "all_polls['conservative_reform_gap'] = all_polls['conservative'] - all_polls['reform_uk']"
   ],
   "metadata": {
    "collapsed": false,
    "ExecuteTime": {
     "end_time": "2024-05-29T10:47:14.115775500Z",
     "start_time": "2024-05-29T10:47:13.830559200Z"
    }
   }
  },
  {
   "cell_type": "code",
   "execution_count": 11,
   "outputs": [
    {
     "data": {
      "text/plain": "    date_started date_concluded       pollster  conservative  reform_uk  \\\n8     2024-05-22     2024-05-23      Techne UK          19.0       14.0   \n31    2024-05-07     2024-05-08         YouGov          18.0       13.0   \n40    2024-04-30     2024-05-01         YouGov          18.0       15.0   \n66    2024-04-10     2024-04-11         YouGov          19.0       15.0   \n72    2024-04-04     2024-04-04  PeoplePolling          19.0       14.0   \n75    2024-04-02     2024-04-03         YouGov          20.0       16.0   \n81    2024-03-26     2024-03-27         YouGov          21.0       16.0   \n91    2024-03-19     2024-03-20         YouGov          19.0       15.0   \n108   2024-03-07     2024-03-07  PeoplePolling          18.0       13.0   \n\n     conservative_reform_gap  \n8                        5.0  \n31                       5.0  \n40                       3.0  \n66                       4.0  \n72                       5.0  \n75                       4.0  \n81                       5.0  \n91                       4.0  \n108                      5.0  ",
      "text/html": "<div>\n<style scoped>\n    .dataframe tbody tr th:only-of-type {\n        vertical-align: middle;\n    }\n\n    .dataframe tbody tr th {\n        vertical-align: top;\n    }\n\n    .dataframe thead th {\n        text-align: right;\n    }\n</style>\n<table border=\"1\" class=\"dataframe\">\n  <thead>\n    <tr style=\"text-align: right;\">\n      <th></th>\n      <th>date_started</th>\n      <th>date_concluded</th>\n      <th>pollster</th>\n      <th>conservative</th>\n      <th>reform_uk</th>\n      <th>conservative_reform_gap</th>\n    </tr>\n  </thead>\n  <tbody>\n    <tr>\n      <th>8</th>\n      <td>2024-05-22</td>\n      <td>2024-05-23</td>\n      <td>Techne UK</td>\n      <td>19.0</td>\n      <td>14.0</td>\n      <td>5.0</td>\n    </tr>\n    <tr>\n      <th>31</th>\n      <td>2024-05-07</td>\n      <td>2024-05-08</td>\n      <td>YouGov</td>\n      <td>18.0</td>\n      <td>13.0</td>\n      <td>5.0</td>\n    </tr>\n    <tr>\n      <th>40</th>\n      <td>2024-04-30</td>\n      <td>2024-05-01</td>\n      <td>YouGov</td>\n      <td>18.0</td>\n      <td>15.0</td>\n      <td>3.0</td>\n    </tr>\n    <tr>\n      <th>66</th>\n      <td>2024-04-10</td>\n      <td>2024-04-11</td>\n      <td>YouGov</td>\n      <td>19.0</td>\n      <td>15.0</td>\n      <td>4.0</td>\n    </tr>\n    <tr>\n      <th>72</th>\n      <td>2024-04-04</td>\n      <td>2024-04-04</td>\n      <td>PeoplePolling</td>\n      <td>19.0</td>\n      <td>14.0</td>\n      <td>5.0</td>\n    </tr>\n    <tr>\n      <th>75</th>\n      <td>2024-04-02</td>\n      <td>2024-04-03</td>\n      <td>YouGov</td>\n      <td>20.0</td>\n      <td>16.0</td>\n      <td>4.0</td>\n    </tr>\n    <tr>\n      <th>81</th>\n      <td>2024-03-26</td>\n      <td>2024-03-27</td>\n      <td>YouGov</td>\n      <td>21.0</td>\n      <td>16.0</td>\n      <td>5.0</td>\n    </tr>\n    <tr>\n      <th>91</th>\n      <td>2024-03-19</td>\n      <td>2024-03-20</td>\n      <td>YouGov</td>\n      <td>19.0</td>\n      <td>15.0</td>\n      <td>4.0</td>\n    </tr>\n    <tr>\n      <th>108</th>\n      <td>2024-03-07</td>\n      <td>2024-03-07</td>\n      <td>PeoplePolling</td>\n      <td>18.0</td>\n      <td>13.0</td>\n      <td>5.0</td>\n    </tr>\n  </tbody>\n</table>\n</div>"
     },
     "execution_count": 11,
     "metadata": {},
     "output_type": "execute_result"
    }
   ],
   "source": [
    "all_polls[all_polls['conservative_reform_gap']<=5] [['date_started', 'date_concluded', 'pollster', 'conservative', 'reform_uk','conservative_reform_gap']]"
   ],
   "metadata": {
    "collapsed": false,
    "ExecuteTime": {
     "end_time": "2024-05-29T10:47:14.157797400Z",
     "start_time": "2024-05-29T10:47:13.894257200Z"
    }
   }
  },
  {
   "cell_type": "code",
   "execution_count": 12,
   "outputs": [
    {
     "data": {
      "text/plain": "     date_started date_concluded                      pollster  conservative  \\\n8      2024-05-22     2024-05-23                     Techne UK          19.0   \n31     2024-05-07     2024-05-08                        YouGov          18.0   \n40     2024-04-30     2024-05-01                        YouGov          18.0   \n61     2024-04-03     2024-04-15                    Ipsos MORI          19.0   \n66     2024-04-10     2024-04-11                        YouGov          19.0   \n72     2024-04-04     2024-04-04                 PeoplePolling          19.0   \n91     2024-03-19     2024-03-20                        YouGov          19.0   \n108    2024-03-07     2024-03-07                 PeoplePolling          18.0   \n230    2023-11-14     2023-11-14                 PeoplePolling          19.0   \n231    2023-11-13     2023-11-14                  Find Out Now          19.0   \n581    2022-12-28     2022-12-28                 PeoplePolling          19.0   \n663    2022-10-20     2022-10-21                        YouGov          19.0   \n666    2022-10-20     2022-10-20                 PeoplePolling          14.0   \n669    2022-10-19     2022-10-19  Redfield & Wilton Strategies          19.0   \n676    2022-10-12     2022-10-12                 PeoplePolling          19.0   \n1541   2019-06-09     2019-06-10                        YouGov          17.0   \n1544   2019-06-05     2019-06-06                        YouGov          18.0   \n1545   2019-06-04     2019-06-05                        YouGov          18.0   \n1546   2019-05-31     2019-06-01                        YouGov          18.0   \n1547   2019-05-28     2019-05-30                       Opinium          17.0   \n1549   2019-05-28     2019-05-29                        YouGov          19.0   \n1564   2019-05-09     2019-05-09                       Savanta          19.0   \n5189   1995-01-09     1995-01-09                        Gallup          18.5   \n\n      labour  liberal_democrat      lead  \n8       45.0              12.0  lab+26.0  \n31      48.0               9.0  lab+30.0  \n40      44.0              10.0  lab+26.0  \n61      44.0               9.0  lab+25.0  \n66      45.0               8.0  lab+26.0  \n72      45.0               9.0  lab+26.0  \n91      44.0               9.0  lab+25.0  \n108     46.0              10.0  lab+28.0  \n230     49.0               9.0  lab+30.0  \n231     46.0               9.0  lab+27.0  \n581     45.0               8.0  lab+26.0  \n663     56.0              10.0  lab+37.0  \n666     53.0              11.0  lab+39.0  \n669     55.0              12.0  lab+36.0  \n676     53.0               8.0  lab+34.0  \n1541    19.0              22.0   bre+4.0  \n1544    20.0              20.0   bre+6.0  \n1545    19.0              22.0   bre+3.0  \n1546    19.0              23.0       Tie  \n1547    22.0              16.0   bre+4.0  \n1549    19.0              24.0   lib+2.0  \n1564    27.0              14.0   lab+7.0  \n5189    62.0              14.0  lab+43.5  ",
      "text/html": "<div>\n<style scoped>\n    .dataframe tbody tr th:only-of-type {\n        vertical-align: middle;\n    }\n\n    .dataframe tbody tr th {\n        vertical-align: top;\n    }\n\n    .dataframe thead th {\n        text-align: right;\n    }\n</style>\n<table border=\"1\" class=\"dataframe\">\n  <thead>\n    <tr style=\"text-align: right;\">\n      <th></th>\n      <th>date_started</th>\n      <th>date_concluded</th>\n      <th>pollster</th>\n      <th>conservative</th>\n      <th>labour</th>\n      <th>liberal_democrat</th>\n      <th>lead</th>\n    </tr>\n  </thead>\n  <tbody>\n    <tr>\n      <th>8</th>\n      <td>2024-05-22</td>\n      <td>2024-05-23</td>\n      <td>Techne UK</td>\n      <td>19.0</td>\n      <td>45.0</td>\n      <td>12.0</td>\n      <td>lab+26.0</td>\n    </tr>\n    <tr>\n      <th>31</th>\n      <td>2024-05-07</td>\n      <td>2024-05-08</td>\n      <td>YouGov</td>\n      <td>18.0</td>\n      <td>48.0</td>\n      <td>9.0</td>\n      <td>lab+30.0</td>\n    </tr>\n    <tr>\n      <th>40</th>\n      <td>2024-04-30</td>\n      <td>2024-05-01</td>\n      <td>YouGov</td>\n      <td>18.0</td>\n      <td>44.0</td>\n      <td>10.0</td>\n      <td>lab+26.0</td>\n    </tr>\n    <tr>\n      <th>61</th>\n      <td>2024-04-03</td>\n      <td>2024-04-15</td>\n      <td>Ipsos MORI</td>\n      <td>19.0</td>\n      <td>44.0</td>\n      <td>9.0</td>\n      <td>lab+25.0</td>\n    </tr>\n    <tr>\n      <th>66</th>\n      <td>2024-04-10</td>\n      <td>2024-04-11</td>\n      <td>YouGov</td>\n      <td>19.0</td>\n      <td>45.0</td>\n      <td>8.0</td>\n      <td>lab+26.0</td>\n    </tr>\n    <tr>\n      <th>72</th>\n      <td>2024-04-04</td>\n      <td>2024-04-04</td>\n      <td>PeoplePolling</td>\n      <td>19.0</td>\n      <td>45.0</td>\n      <td>9.0</td>\n      <td>lab+26.0</td>\n    </tr>\n    <tr>\n      <th>91</th>\n      <td>2024-03-19</td>\n      <td>2024-03-20</td>\n      <td>YouGov</td>\n      <td>19.0</td>\n      <td>44.0</td>\n      <td>9.0</td>\n      <td>lab+25.0</td>\n    </tr>\n    <tr>\n      <th>108</th>\n      <td>2024-03-07</td>\n      <td>2024-03-07</td>\n      <td>PeoplePolling</td>\n      <td>18.0</td>\n      <td>46.0</td>\n      <td>10.0</td>\n      <td>lab+28.0</td>\n    </tr>\n    <tr>\n      <th>230</th>\n      <td>2023-11-14</td>\n      <td>2023-11-14</td>\n      <td>PeoplePolling</td>\n      <td>19.0</td>\n      <td>49.0</td>\n      <td>9.0</td>\n      <td>lab+30.0</td>\n    </tr>\n    <tr>\n      <th>231</th>\n      <td>2023-11-13</td>\n      <td>2023-11-14</td>\n      <td>Find Out Now</td>\n      <td>19.0</td>\n      <td>46.0</td>\n      <td>9.0</td>\n      <td>lab+27.0</td>\n    </tr>\n    <tr>\n      <th>581</th>\n      <td>2022-12-28</td>\n      <td>2022-12-28</td>\n      <td>PeoplePolling</td>\n      <td>19.0</td>\n      <td>45.0</td>\n      <td>8.0</td>\n      <td>lab+26.0</td>\n    </tr>\n    <tr>\n      <th>663</th>\n      <td>2022-10-20</td>\n      <td>2022-10-21</td>\n      <td>YouGov</td>\n      <td>19.0</td>\n      <td>56.0</td>\n      <td>10.0</td>\n      <td>lab+37.0</td>\n    </tr>\n    <tr>\n      <th>666</th>\n      <td>2022-10-20</td>\n      <td>2022-10-20</td>\n      <td>PeoplePolling</td>\n      <td>14.0</td>\n      <td>53.0</td>\n      <td>11.0</td>\n      <td>lab+39.0</td>\n    </tr>\n    <tr>\n      <th>669</th>\n      <td>2022-10-19</td>\n      <td>2022-10-19</td>\n      <td>Redfield &amp; Wilton Strategies</td>\n      <td>19.0</td>\n      <td>55.0</td>\n      <td>12.0</td>\n      <td>lab+36.0</td>\n    </tr>\n    <tr>\n      <th>676</th>\n      <td>2022-10-12</td>\n      <td>2022-10-12</td>\n      <td>PeoplePolling</td>\n      <td>19.0</td>\n      <td>53.0</td>\n      <td>8.0</td>\n      <td>lab+34.0</td>\n    </tr>\n    <tr>\n      <th>1541</th>\n      <td>2019-06-09</td>\n      <td>2019-06-10</td>\n      <td>YouGov</td>\n      <td>17.0</td>\n      <td>19.0</td>\n      <td>22.0</td>\n      <td>bre+4.0</td>\n    </tr>\n    <tr>\n      <th>1544</th>\n      <td>2019-06-05</td>\n      <td>2019-06-06</td>\n      <td>YouGov</td>\n      <td>18.0</td>\n      <td>20.0</td>\n      <td>20.0</td>\n      <td>bre+6.0</td>\n    </tr>\n    <tr>\n      <th>1545</th>\n      <td>2019-06-04</td>\n      <td>2019-06-05</td>\n      <td>YouGov</td>\n      <td>18.0</td>\n      <td>19.0</td>\n      <td>22.0</td>\n      <td>bre+3.0</td>\n    </tr>\n    <tr>\n      <th>1546</th>\n      <td>2019-05-31</td>\n      <td>2019-06-01</td>\n      <td>YouGov</td>\n      <td>18.0</td>\n      <td>19.0</td>\n      <td>23.0</td>\n      <td>Tie</td>\n    </tr>\n    <tr>\n      <th>1547</th>\n      <td>2019-05-28</td>\n      <td>2019-05-30</td>\n      <td>Opinium</td>\n      <td>17.0</td>\n      <td>22.0</td>\n      <td>16.0</td>\n      <td>bre+4.0</td>\n    </tr>\n    <tr>\n      <th>1549</th>\n      <td>2019-05-28</td>\n      <td>2019-05-29</td>\n      <td>YouGov</td>\n      <td>19.0</td>\n      <td>19.0</td>\n      <td>24.0</td>\n      <td>lib+2.0</td>\n    </tr>\n    <tr>\n      <th>1564</th>\n      <td>2019-05-09</td>\n      <td>2019-05-09</td>\n      <td>Savanta</td>\n      <td>19.0</td>\n      <td>27.0</td>\n      <td>14.0</td>\n      <td>lab+7.0</td>\n    </tr>\n    <tr>\n      <th>5189</th>\n      <td>1995-01-09</td>\n      <td>1995-01-09</td>\n      <td>Gallup</td>\n      <td>18.5</td>\n      <td>62.0</td>\n      <td>14.0</td>\n      <td>lab+43.5</td>\n    </tr>\n  </tbody>\n</table>\n</div>"
     },
     "execution_count": 12,
     "metadata": {},
     "output_type": "execute_result"
    }
   ],
   "source": [
    "all_polls[all_polls['conservative']<=19][display_columns]"
   ],
   "metadata": {
    "collapsed": false,
    "ExecuteTime": {
     "end_time": "2024-05-29T10:47:14.159797100Z",
     "start_time": "2024-05-29T10:47:13.969077600Z"
    }
   }
  },
  {
   "cell_type": "code",
   "execution_count": 13,
   "outputs": [
    {
     "name": "stderr",
     "output_type": "stream",
     "text": [
      "C:\\Users\\vtxvt\\AppData\\Local\\Temp/ipykernel_41412/1709221033.py:1: UserWarning: Boolean Series key will be reindexed to match DataFrame index.\n",
      "  all_polls[all_polls.lead_value >23][all_polls.pollster =='Techne UK'][display_columns]\n"
     ]
    },
    {
     "data": {
      "text/plain": "    date_started date_concluded   pollster  conservative  labour  \\\n8     2024-05-22     2024-05-23  Techne UK          19.0    45.0   \n30    2024-05-08     2024-05-09  Techne UK          21.0    45.0   \n220   2023-11-22     2023-11-23  Techne UK          21.0    46.0   \n228   2023-11-15     2023-11-16  Techne UK          22.0    46.0   \n652   2022-10-26     2022-10-27  Techne UK          26.0    50.0   \n667   2022-10-19     2022-10-20  Techne UK          22.0    53.0   \n675   2022-10-12     2022-10-13  Techne UK          25.0    49.0   \n\n     liberal_democrat      lead  \n8                12.0  lab+26.0  \n30               11.0  lab+24.0  \n220              12.0  lab+25.0  \n228              11.0  lab+24.0  \n652              10.0  lab+24.0  \n667              11.0  lab+31.0  \n675              11.0  lab+24.0  ",
      "text/html": "<div>\n<style scoped>\n    .dataframe tbody tr th:only-of-type {\n        vertical-align: middle;\n    }\n\n    .dataframe tbody tr th {\n        vertical-align: top;\n    }\n\n    .dataframe thead th {\n        text-align: right;\n    }\n</style>\n<table border=\"1\" class=\"dataframe\">\n  <thead>\n    <tr style=\"text-align: right;\">\n      <th></th>\n      <th>date_started</th>\n      <th>date_concluded</th>\n      <th>pollster</th>\n      <th>conservative</th>\n      <th>labour</th>\n      <th>liberal_democrat</th>\n      <th>lead</th>\n    </tr>\n  </thead>\n  <tbody>\n    <tr>\n      <th>8</th>\n      <td>2024-05-22</td>\n      <td>2024-05-23</td>\n      <td>Techne UK</td>\n      <td>19.0</td>\n      <td>45.0</td>\n      <td>12.0</td>\n      <td>lab+26.0</td>\n    </tr>\n    <tr>\n      <th>30</th>\n      <td>2024-05-08</td>\n      <td>2024-05-09</td>\n      <td>Techne UK</td>\n      <td>21.0</td>\n      <td>45.0</td>\n      <td>11.0</td>\n      <td>lab+24.0</td>\n    </tr>\n    <tr>\n      <th>220</th>\n      <td>2023-11-22</td>\n      <td>2023-11-23</td>\n      <td>Techne UK</td>\n      <td>21.0</td>\n      <td>46.0</td>\n      <td>12.0</td>\n      <td>lab+25.0</td>\n    </tr>\n    <tr>\n      <th>228</th>\n      <td>2023-11-15</td>\n      <td>2023-11-16</td>\n      <td>Techne UK</td>\n      <td>22.0</td>\n      <td>46.0</td>\n      <td>11.0</td>\n      <td>lab+24.0</td>\n    </tr>\n    <tr>\n      <th>652</th>\n      <td>2022-10-26</td>\n      <td>2022-10-27</td>\n      <td>Techne UK</td>\n      <td>26.0</td>\n      <td>50.0</td>\n      <td>10.0</td>\n      <td>lab+24.0</td>\n    </tr>\n    <tr>\n      <th>667</th>\n      <td>2022-10-19</td>\n      <td>2022-10-20</td>\n      <td>Techne UK</td>\n      <td>22.0</td>\n      <td>53.0</td>\n      <td>11.0</td>\n      <td>lab+31.0</td>\n    </tr>\n    <tr>\n      <th>675</th>\n      <td>2022-10-12</td>\n      <td>2022-10-13</td>\n      <td>Techne UK</td>\n      <td>25.0</td>\n      <td>49.0</td>\n      <td>11.0</td>\n      <td>lab+24.0</td>\n    </tr>\n  </tbody>\n</table>\n</div>"
     },
     "execution_count": 13,
     "metadata": {},
     "output_type": "execute_result"
    }
   ],
   "source": [
    "all_polls[all_polls.lead_value >23][all_polls.pollster =='Techne UK'][display_columns]"
   ],
   "metadata": {
    "collapsed": false,
    "ExecuteTime": {
     "end_time": "2024-05-29T10:47:14.197410200Z",
     "start_time": "2024-05-29T10:47:14.045388600Z"
    }
   }
  },
  {
   "cell_type": "code",
   "execution_count": 14,
   "outputs": [
    {
     "data": {
      "text/plain": "     date_started date_concluded                      pollster  \\\n0      2024-05-26     2024-05-28                        YouGov   \n1      2024-05-25     2024-05-27  Redfield & Wilton Strategies   \n2      2024-05-24     2024-05-27                     Survation   \n5      2024-05-23     2024-05-24                      We Think   \n8      2024-05-22     2024-05-23                     Techne UK   \n...           ...            ...                           ...   \n6180   1982-05-26     1982-05-26                    Ipsos MORI   \n6200   1981-12-14     1981-12-14                    Ipsos MORI   \n6239   1980-12-19     1980-12-19                        Gallup   \n6400   1976-11-28     1976-11-28                           NOP   \n6401   1976-11-15     1976-11-15                        Gallup   \n\n                   client area sample_size  conservative  labour  \\\n0                Sky News   GB        2128          20.0    47.0   \n1                     NaN   GB       12000          23.0    46.0   \n2                     NaN   UK        2040          24.0    47.0   \n5                     NaN   GB        1242          22.0    47.0   \n8                     NaN   GB        1643          19.0    45.0   \n...                   ...  ...         ...           ...     ...   \n6180                  NaN  NaN         NaN          51.0    25.0   \n6200                  NaN  NaN         NaN          23.0    23.5   \n6239  The Daily Telegraph  NaN         NaN          32.0    56.0   \n6400                  NaN  NaN         NaN          55.2    31.3   \n6401  The Daily Telegraph  NaN         NaN          55.0    30.0   \n\n      liberal_democrat  green  ...  liberal  plaid_cymru  \\\n0                  9.0    7.0  ...      NaN          NaN   \n1                  9.0    5.0  ...      NaN          1.0   \n2                 11.0    3.0  ...      NaN          1.0   \n5                  8.0    6.0  ...      NaN          NaN   \n8                 12.0    5.0  ...      NaN          NaN   \n...                ...    ...  ...      ...          ...   \n6180               NaN    NaN  ...      NaN          NaN   \n6200               NaN    NaN  ...      NaN          NaN   \n6239               NaN    NaN  ...     11.0          NaN   \n6400               NaN    NaN  ...      9.4          NaN   \n6401               NaN    NaN  ...     11.5          NaN   \n\n      scottish_national_party  social_democratic_party  \\\n0                         3.0                      NaN   \n1                         3.0                      NaN   \n2                         3.0                      NaN   \n5                         3.0                      NaN   \n8                         2.0                      NaN   \n...                       ...                      ...   \n6180                      NaN                      NaN   \n6200                      NaN                      NaN   \n6239                      NaN                      NaN   \n6400                      NaN                      NaN   \n6401                      NaN                      NaN   \n\n      united_kingdom_independence_party  reclaim_party  others      lead  \\\n0                                   NaN            NaN     2.0  lab+27.0   \n1                                   NaN            NaN     1.0  lab+23.0   \n2                                   0.0            NaN     3.0  lab+23.0   \n5                                   NaN            NaN     2.0  lab+25.0   \n8                                   NaN            NaN     3.0  lab+26.0   \n...                                 ...            ...     ...       ...   \n6180                                NaN            NaN     NaN  con+26.0   \n6200                                NaN            NaN     NaN  all+27.0   \n6239                                NaN            NaN     NaN  lab+24.0   \n6400                                NaN            NaN     NaN  con+23.9   \n6401                                NaN            NaN     NaN  con+25.0   \n\n      lead_value  conservative_reform_gap  \n0           27.0                      8.0  \n1           23.0                     10.0  \n2           23.0                     16.0  \n5           25.0                     10.0  \n8           26.0                      5.0  \n...          ...                      ...  \n6180        26.0                      NaN  \n6200        27.0                      NaN  \n6239        24.0                      NaN  \n6400        23.9                      NaN  \n6401        25.0                      NaN  \n\n[431 rows x 24 columns]",
      "text/html": "<div>\n<style scoped>\n    .dataframe tbody tr th:only-of-type {\n        vertical-align: middle;\n    }\n\n    .dataframe tbody tr th {\n        vertical-align: top;\n    }\n\n    .dataframe thead th {\n        text-align: right;\n    }\n</style>\n<table border=\"1\" class=\"dataframe\">\n  <thead>\n    <tr style=\"text-align: right;\">\n      <th></th>\n      <th>date_started</th>\n      <th>date_concluded</th>\n      <th>pollster</th>\n      <th>client</th>\n      <th>area</th>\n      <th>sample_size</th>\n      <th>conservative</th>\n      <th>labour</th>\n      <th>liberal_democrat</th>\n      <th>green</th>\n      <th>...</th>\n      <th>liberal</th>\n      <th>plaid_cymru</th>\n      <th>scottish_national_party</th>\n      <th>social_democratic_party</th>\n      <th>united_kingdom_independence_party</th>\n      <th>reclaim_party</th>\n      <th>others</th>\n      <th>lead</th>\n      <th>lead_value</th>\n      <th>conservative_reform_gap</th>\n    </tr>\n  </thead>\n  <tbody>\n    <tr>\n      <th>0</th>\n      <td>2024-05-26</td>\n      <td>2024-05-28</td>\n      <td>YouGov</td>\n      <td>Sky News</td>\n      <td>GB</td>\n      <td>2128</td>\n      <td>20.0</td>\n      <td>47.0</td>\n      <td>9.0</td>\n      <td>7.0</td>\n      <td>...</td>\n      <td>NaN</td>\n      <td>NaN</td>\n      <td>3.0</td>\n      <td>NaN</td>\n      <td>NaN</td>\n      <td>NaN</td>\n      <td>2.0</td>\n      <td>lab+27.0</td>\n      <td>27.0</td>\n      <td>8.0</td>\n    </tr>\n    <tr>\n      <th>1</th>\n      <td>2024-05-25</td>\n      <td>2024-05-27</td>\n      <td>Redfield &amp; Wilton Strategies</td>\n      <td>NaN</td>\n      <td>GB</td>\n      <td>12000</td>\n      <td>23.0</td>\n      <td>46.0</td>\n      <td>9.0</td>\n      <td>5.0</td>\n      <td>...</td>\n      <td>NaN</td>\n      <td>1.0</td>\n      <td>3.0</td>\n      <td>NaN</td>\n      <td>NaN</td>\n      <td>NaN</td>\n      <td>1.0</td>\n      <td>lab+23.0</td>\n      <td>23.0</td>\n      <td>10.0</td>\n    </tr>\n    <tr>\n      <th>2</th>\n      <td>2024-05-24</td>\n      <td>2024-05-27</td>\n      <td>Survation</td>\n      <td>NaN</td>\n      <td>UK</td>\n      <td>2040</td>\n      <td>24.0</td>\n      <td>47.0</td>\n      <td>11.0</td>\n      <td>3.0</td>\n      <td>...</td>\n      <td>NaN</td>\n      <td>1.0</td>\n      <td>3.0</td>\n      <td>NaN</td>\n      <td>0.0</td>\n      <td>NaN</td>\n      <td>3.0</td>\n      <td>lab+23.0</td>\n      <td>23.0</td>\n      <td>16.0</td>\n    </tr>\n    <tr>\n      <th>5</th>\n      <td>2024-05-23</td>\n      <td>2024-05-24</td>\n      <td>We Think</td>\n      <td>NaN</td>\n      <td>GB</td>\n      <td>1242</td>\n      <td>22.0</td>\n      <td>47.0</td>\n      <td>8.0</td>\n      <td>6.0</td>\n      <td>...</td>\n      <td>NaN</td>\n      <td>NaN</td>\n      <td>3.0</td>\n      <td>NaN</td>\n      <td>NaN</td>\n      <td>NaN</td>\n      <td>2.0</td>\n      <td>lab+25.0</td>\n      <td>25.0</td>\n      <td>10.0</td>\n    </tr>\n    <tr>\n      <th>8</th>\n      <td>2024-05-22</td>\n      <td>2024-05-23</td>\n      <td>Techne UK</td>\n      <td>NaN</td>\n      <td>GB</td>\n      <td>1643</td>\n      <td>19.0</td>\n      <td>45.0</td>\n      <td>12.0</td>\n      <td>5.0</td>\n      <td>...</td>\n      <td>NaN</td>\n      <td>NaN</td>\n      <td>2.0</td>\n      <td>NaN</td>\n      <td>NaN</td>\n      <td>NaN</td>\n      <td>3.0</td>\n      <td>lab+26.0</td>\n      <td>26.0</td>\n      <td>5.0</td>\n    </tr>\n    <tr>\n      <th>...</th>\n      <td>...</td>\n      <td>...</td>\n      <td>...</td>\n      <td>...</td>\n      <td>...</td>\n      <td>...</td>\n      <td>...</td>\n      <td>...</td>\n      <td>...</td>\n      <td>...</td>\n      <td>...</td>\n      <td>...</td>\n      <td>...</td>\n      <td>...</td>\n      <td>...</td>\n      <td>...</td>\n      <td>...</td>\n      <td>...</td>\n      <td>...</td>\n      <td>...</td>\n      <td>...</td>\n    </tr>\n    <tr>\n      <th>6180</th>\n      <td>1982-05-26</td>\n      <td>1982-05-26</td>\n      <td>Ipsos MORI</td>\n      <td>NaN</td>\n      <td>NaN</td>\n      <td>NaN</td>\n      <td>51.0</td>\n      <td>25.0</td>\n      <td>NaN</td>\n      <td>NaN</td>\n      <td>...</td>\n      <td>NaN</td>\n      <td>NaN</td>\n      <td>NaN</td>\n      <td>NaN</td>\n      <td>NaN</td>\n      <td>NaN</td>\n      <td>NaN</td>\n      <td>con+26.0</td>\n      <td>26.0</td>\n      <td>NaN</td>\n    </tr>\n    <tr>\n      <th>6200</th>\n      <td>1981-12-14</td>\n      <td>1981-12-14</td>\n      <td>Ipsos MORI</td>\n      <td>NaN</td>\n      <td>NaN</td>\n      <td>NaN</td>\n      <td>23.0</td>\n      <td>23.5</td>\n      <td>NaN</td>\n      <td>NaN</td>\n      <td>...</td>\n      <td>NaN</td>\n      <td>NaN</td>\n      <td>NaN</td>\n      <td>NaN</td>\n      <td>NaN</td>\n      <td>NaN</td>\n      <td>NaN</td>\n      <td>all+27.0</td>\n      <td>27.0</td>\n      <td>NaN</td>\n    </tr>\n    <tr>\n      <th>6239</th>\n      <td>1980-12-19</td>\n      <td>1980-12-19</td>\n      <td>Gallup</td>\n      <td>The Daily Telegraph</td>\n      <td>NaN</td>\n      <td>NaN</td>\n      <td>32.0</td>\n      <td>56.0</td>\n      <td>NaN</td>\n      <td>NaN</td>\n      <td>...</td>\n      <td>11.0</td>\n      <td>NaN</td>\n      <td>NaN</td>\n      <td>NaN</td>\n      <td>NaN</td>\n      <td>NaN</td>\n      <td>NaN</td>\n      <td>lab+24.0</td>\n      <td>24.0</td>\n      <td>NaN</td>\n    </tr>\n    <tr>\n      <th>6400</th>\n      <td>1976-11-28</td>\n      <td>1976-11-28</td>\n      <td>NOP</td>\n      <td>NaN</td>\n      <td>NaN</td>\n      <td>NaN</td>\n      <td>55.2</td>\n      <td>31.3</td>\n      <td>NaN</td>\n      <td>NaN</td>\n      <td>...</td>\n      <td>9.4</td>\n      <td>NaN</td>\n      <td>NaN</td>\n      <td>NaN</td>\n      <td>NaN</td>\n      <td>NaN</td>\n      <td>NaN</td>\n      <td>con+23.9</td>\n      <td>23.9</td>\n      <td>NaN</td>\n    </tr>\n    <tr>\n      <th>6401</th>\n      <td>1976-11-15</td>\n      <td>1976-11-15</td>\n      <td>Gallup</td>\n      <td>The Daily Telegraph</td>\n      <td>NaN</td>\n      <td>NaN</td>\n      <td>55.0</td>\n      <td>30.0</td>\n      <td>NaN</td>\n      <td>NaN</td>\n      <td>...</td>\n      <td>11.5</td>\n      <td>NaN</td>\n      <td>NaN</td>\n      <td>NaN</td>\n      <td>NaN</td>\n      <td>NaN</td>\n      <td>NaN</td>\n      <td>con+25.0</td>\n      <td>25.0</td>\n      <td>NaN</td>\n    </tr>\n  </tbody>\n</table>\n<p>431 rows × 24 columns</p>\n</div>"
     },
     "execution_count": 14,
     "metadata": {},
     "output_type": "execute_result"
    }
   ],
   "source": [
    "all_polls[all_polls['lead_value']> 22]"
   ],
   "metadata": {
    "collapsed": false,
    "ExecuteTime": {
     "end_time": "2024-05-29T10:47:14.538119700Z",
     "start_time": "2024-05-29T10:47:14.124758Z"
    }
   }
  },
  {
   "cell_type": "code",
   "execution_count": 15,
   "outputs": [
    {
     "data": {
      "text/plain": "     date_started date_concluded pollster  conservative  labour  \\\n0      2024-05-26     2024-05-28   YouGov          20.0    47.0   \n11     2024-05-03     2024-05-22   YouGov          20.0    46.0   \n12     2024-05-21     2024-05-22   YouGov          21.0    46.0   \n21     2024-05-15     2024-05-16   YouGov          20.0    47.0   \n31     2024-05-07     2024-05-08   YouGov          18.0    48.0   \n40     2024-04-30     2024-05-01   YouGov          18.0    44.0   \n49     2024-04-23     2024-04-24   YouGov          20.0    45.0   \n58     2024-04-16     2024-04-17   YouGov          21.0    44.0   \n66     2024-04-10     2024-04-11   YouGov          19.0    45.0   \n75     2024-04-02     2024-04-03   YouGov          20.0    43.0   \n91     2024-03-19     2024-03-20   YouGov          19.0    44.0   \n99     2024-03-12     2024-03-13   YouGov          20.0    44.0   \n109    2024-03-06     2024-03-07   YouGov          20.0    47.0   \n116    2024-02-28     2024-02-29   YouGov          20.0    46.0   \n126    2024-02-20     2024-02-21   YouGov          20.0    46.0   \n135    2024-02-09     2024-02-12   YouGov          22.0    45.0   \n145    2024-02-07     2024-02-08   YouGov          21.0    46.0   \n163    2024-01-23     2024-01-24   YouGov          20.0    47.0   \n170    2024-01-16     2024-01-17   YouGov          20.0    47.0   \n178    2024-01-10     2024-01-11   YouGov          22.0    45.0   \n184    2024-01-02     2024-01-03   YouGov          22.0    46.0   \n205    2023-12-06     2023-12-07   YouGov          22.0    45.0   \n211    2023-11-29     2023-11-30   YouGov          22.0    45.0   \n229    2023-11-14     2023-11-15   YouGov          21.0    44.0   \n238    2023-11-07     2023-11-08   YouGov          23.0    47.0   \n256    2023-10-24     2023-10-25   YouGov          24.0    48.0   \n273    2023-10-11     2023-10-12   YouGov          24.0    47.0   \n368    2023-07-05     2023-07-06   YouGov          22.0    47.0   \n385    2023-06-20     2023-06-21   YouGov          22.0    47.0   \n483    2023-03-21     2023-03-22   YouGov          23.0    49.0   \n522    2023-02-21     2023-02-22   YouGov          23.0    46.0   \n532    2023-02-14     2023-02-15   YouGov          22.0    50.0   \n540    2023-02-08     2023-02-09   YouGov          24.0    47.0   \n549    2023-01-31     2023-02-01   YouGov          24.0    48.0   \n573    2022-12-20     2023-01-11   YouGov          24.0    47.0   \n585    2022-12-20     2022-12-21   YouGov          24.0    48.0   \n589    2022-12-14     2022-12-15   YouGov          23.0    48.0   \n600    2022-12-06     2022-12-07   YouGov          24.0    48.0   \n610    2022-11-29     2022-11-30   YouGov          22.0    47.0   \n616    2022-11-22     2022-11-23   YouGov          25.0    48.0   \n633    2022-11-09     2022-11-10   YouGov          25.0    48.0   \n643    2022-11-01     2022-11-02   YouGov          24.0    50.0   \n646    2022-10-24     2022-10-31   YouGov          25.0    49.0   \n655    2022-10-25     2022-10-26   YouGov          23.0    51.0   \n663    2022-10-20     2022-10-21   YouGov          19.0    56.0   \n677    2022-10-11     2022-10-12   YouGov          23.0    51.0   \n683    2022-10-06     2022-10-07   YouGov          22.0    52.0   \n695    2022-09-28     2022-09-29   YouGov          21.0    54.0   \n1354   2020-04-01     2020-04-02   YouGov          52.0    28.0   \n1915   2017-04-20     2017-04-21   YouGov          48.0    25.0   \n1920   2017-04-18     2017-04-19   YouGov          48.0    24.0   \n4437   2008-05-27     2008-05-29   YouGov          47.0    23.0   \n4441   2008-05-07     2008-05-08   YouGov          49.0    23.0   \n\n      liberal_democrat      lead  \n0                  9.0  lab+27.0  \n11                 9.0  lab+26.0  \n12                 9.0  lab+25.0  \n21                 9.0  lab+27.0  \n31                 9.0  lab+30.0  \n40                10.0  lab+26.0  \n49                 9.0  lab+25.0  \n58                 8.0  lab+23.0  \n66                 8.0  lab+26.0  \n75                 8.0  lab+23.0  \n91                 9.0  lab+25.0  \n99                 9.0  lab+24.0  \n109                9.0  lab+27.0  \n116                7.0  lab+26.0  \n126                9.0  lab+26.0  \n135                9.0  lab+23.0  \n145                9.0  lab+25.0  \n163                8.0  lab+27.0  \n170                8.0  lab+27.0  \n178                9.0  lab+23.0  \n184               10.0  lab+24.0  \n205               10.0  lab+23.0  \n211                9.0  lab+23.0  \n229               10.0  lab+23.0  \n238               10.0  lab+24.0  \n256                9.0  lab+24.0  \n273                9.0  lab+23.0  \n368                9.0  lab+25.0  \n385               11.0  lab+25.0  \n483               10.0  lab+26.0  \n522                9.0  lab+23.0  \n532                9.0  lab+28.0  \n540               10.0  lab+23.0  \n549                9.0  lab+24.0  \n573                9.0  lab+23.0  \n585                9.0  lab+24.0  \n589                8.0  lab+25.0  \n600                9.0  lab+24.0  \n610                9.0  lab+25.0  \n616                9.0  lab+23.0  \n633               10.0  lab+23.0  \n643                9.0  lab+26.0  \n646                9.0  lab+24.0  \n655                9.0  lab+28.0  \n663               10.0  lab+37.0  \n677                9.0  lab+28.0  \n683                9.0  lab+30.0  \n695                7.0  lab+33.0  \n1354               8.0  con+24.0  \n1915              12.0  con+23.0  \n1920              12.0  con+24.0  \n4437              18.0  con+24.0  \n4441              17.0  con+26.0  ",
      "text/html": "<div>\n<style scoped>\n    .dataframe tbody tr th:only-of-type {\n        vertical-align: middle;\n    }\n\n    .dataframe tbody tr th {\n        vertical-align: top;\n    }\n\n    .dataframe thead th {\n        text-align: right;\n    }\n</style>\n<table border=\"1\" class=\"dataframe\">\n  <thead>\n    <tr style=\"text-align: right;\">\n      <th></th>\n      <th>date_started</th>\n      <th>date_concluded</th>\n      <th>pollster</th>\n      <th>conservative</th>\n      <th>labour</th>\n      <th>liberal_democrat</th>\n      <th>lead</th>\n    </tr>\n  </thead>\n  <tbody>\n    <tr>\n      <th>0</th>\n      <td>2024-05-26</td>\n      <td>2024-05-28</td>\n      <td>YouGov</td>\n      <td>20.0</td>\n      <td>47.0</td>\n      <td>9.0</td>\n      <td>lab+27.0</td>\n    </tr>\n    <tr>\n      <th>11</th>\n      <td>2024-05-03</td>\n      <td>2024-05-22</td>\n      <td>YouGov</td>\n      <td>20.0</td>\n      <td>46.0</td>\n      <td>9.0</td>\n      <td>lab+26.0</td>\n    </tr>\n    <tr>\n      <th>12</th>\n      <td>2024-05-21</td>\n      <td>2024-05-22</td>\n      <td>YouGov</td>\n      <td>21.0</td>\n      <td>46.0</td>\n      <td>9.0</td>\n      <td>lab+25.0</td>\n    </tr>\n    <tr>\n      <th>21</th>\n      <td>2024-05-15</td>\n      <td>2024-05-16</td>\n      <td>YouGov</td>\n      <td>20.0</td>\n      <td>47.0</td>\n      <td>9.0</td>\n      <td>lab+27.0</td>\n    </tr>\n    <tr>\n      <th>31</th>\n      <td>2024-05-07</td>\n      <td>2024-05-08</td>\n      <td>YouGov</td>\n      <td>18.0</td>\n      <td>48.0</td>\n      <td>9.0</td>\n      <td>lab+30.0</td>\n    </tr>\n    <tr>\n      <th>40</th>\n      <td>2024-04-30</td>\n      <td>2024-05-01</td>\n      <td>YouGov</td>\n      <td>18.0</td>\n      <td>44.0</td>\n      <td>10.0</td>\n      <td>lab+26.0</td>\n    </tr>\n    <tr>\n      <th>49</th>\n      <td>2024-04-23</td>\n      <td>2024-04-24</td>\n      <td>YouGov</td>\n      <td>20.0</td>\n      <td>45.0</td>\n      <td>9.0</td>\n      <td>lab+25.0</td>\n    </tr>\n    <tr>\n      <th>58</th>\n      <td>2024-04-16</td>\n      <td>2024-04-17</td>\n      <td>YouGov</td>\n      <td>21.0</td>\n      <td>44.0</td>\n      <td>8.0</td>\n      <td>lab+23.0</td>\n    </tr>\n    <tr>\n      <th>66</th>\n      <td>2024-04-10</td>\n      <td>2024-04-11</td>\n      <td>YouGov</td>\n      <td>19.0</td>\n      <td>45.0</td>\n      <td>8.0</td>\n      <td>lab+26.0</td>\n    </tr>\n    <tr>\n      <th>75</th>\n      <td>2024-04-02</td>\n      <td>2024-04-03</td>\n      <td>YouGov</td>\n      <td>20.0</td>\n      <td>43.0</td>\n      <td>8.0</td>\n      <td>lab+23.0</td>\n    </tr>\n    <tr>\n      <th>91</th>\n      <td>2024-03-19</td>\n      <td>2024-03-20</td>\n      <td>YouGov</td>\n      <td>19.0</td>\n      <td>44.0</td>\n      <td>9.0</td>\n      <td>lab+25.0</td>\n    </tr>\n    <tr>\n      <th>99</th>\n      <td>2024-03-12</td>\n      <td>2024-03-13</td>\n      <td>YouGov</td>\n      <td>20.0</td>\n      <td>44.0</td>\n      <td>9.0</td>\n      <td>lab+24.0</td>\n    </tr>\n    <tr>\n      <th>109</th>\n      <td>2024-03-06</td>\n      <td>2024-03-07</td>\n      <td>YouGov</td>\n      <td>20.0</td>\n      <td>47.0</td>\n      <td>9.0</td>\n      <td>lab+27.0</td>\n    </tr>\n    <tr>\n      <th>116</th>\n      <td>2024-02-28</td>\n      <td>2024-02-29</td>\n      <td>YouGov</td>\n      <td>20.0</td>\n      <td>46.0</td>\n      <td>7.0</td>\n      <td>lab+26.0</td>\n    </tr>\n    <tr>\n      <th>126</th>\n      <td>2024-02-20</td>\n      <td>2024-02-21</td>\n      <td>YouGov</td>\n      <td>20.0</td>\n      <td>46.0</td>\n      <td>9.0</td>\n      <td>lab+26.0</td>\n    </tr>\n    <tr>\n      <th>135</th>\n      <td>2024-02-09</td>\n      <td>2024-02-12</td>\n      <td>YouGov</td>\n      <td>22.0</td>\n      <td>45.0</td>\n      <td>9.0</td>\n      <td>lab+23.0</td>\n    </tr>\n    <tr>\n      <th>145</th>\n      <td>2024-02-07</td>\n      <td>2024-02-08</td>\n      <td>YouGov</td>\n      <td>21.0</td>\n      <td>46.0</td>\n      <td>9.0</td>\n      <td>lab+25.0</td>\n    </tr>\n    <tr>\n      <th>163</th>\n      <td>2024-01-23</td>\n      <td>2024-01-24</td>\n      <td>YouGov</td>\n      <td>20.0</td>\n      <td>47.0</td>\n      <td>8.0</td>\n      <td>lab+27.0</td>\n    </tr>\n    <tr>\n      <th>170</th>\n      <td>2024-01-16</td>\n      <td>2024-01-17</td>\n      <td>YouGov</td>\n      <td>20.0</td>\n      <td>47.0</td>\n      <td>8.0</td>\n      <td>lab+27.0</td>\n    </tr>\n    <tr>\n      <th>178</th>\n      <td>2024-01-10</td>\n      <td>2024-01-11</td>\n      <td>YouGov</td>\n      <td>22.0</td>\n      <td>45.0</td>\n      <td>9.0</td>\n      <td>lab+23.0</td>\n    </tr>\n    <tr>\n      <th>184</th>\n      <td>2024-01-02</td>\n      <td>2024-01-03</td>\n      <td>YouGov</td>\n      <td>22.0</td>\n      <td>46.0</td>\n      <td>10.0</td>\n      <td>lab+24.0</td>\n    </tr>\n    <tr>\n      <th>205</th>\n      <td>2023-12-06</td>\n      <td>2023-12-07</td>\n      <td>YouGov</td>\n      <td>22.0</td>\n      <td>45.0</td>\n      <td>10.0</td>\n      <td>lab+23.0</td>\n    </tr>\n    <tr>\n      <th>211</th>\n      <td>2023-11-29</td>\n      <td>2023-11-30</td>\n      <td>YouGov</td>\n      <td>22.0</td>\n      <td>45.0</td>\n      <td>9.0</td>\n      <td>lab+23.0</td>\n    </tr>\n    <tr>\n      <th>229</th>\n      <td>2023-11-14</td>\n      <td>2023-11-15</td>\n      <td>YouGov</td>\n      <td>21.0</td>\n      <td>44.0</td>\n      <td>10.0</td>\n      <td>lab+23.0</td>\n    </tr>\n    <tr>\n      <th>238</th>\n      <td>2023-11-07</td>\n      <td>2023-11-08</td>\n      <td>YouGov</td>\n      <td>23.0</td>\n      <td>47.0</td>\n      <td>10.0</td>\n      <td>lab+24.0</td>\n    </tr>\n    <tr>\n      <th>256</th>\n      <td>2023-10-24</td>\n      <td>2023-10-25</td>\n      <td>YouGov</td>\n      <td>24.0</td>\n      <td>48.0</td>\n      <td>9.0</td>\n      <td>lab+24.0</td>\n    </tr>\n    <tr>\n      <th>273</th>\n      <td>2023-10-11</td>\n      <td>2023-10-12</td>\n      <td>YouGov</td>\n      <td>24.0</td>\n      <td>47.0</td>\n      <td>9.0</td>\n      <td>lab+23.0</td>\n    </tr>\n    <tr>\n      <th>368</th>\n      <td>2023-07-05</td>\n      <td>2023-07-06</td>\n      <td>YouGov</td>\n      <td>22.0</td>\n      <td>47.0</td>\n      <td>9.0</td>\n      <td>lab+25.0</td>\n    </tr>\n    <tr>\n      <th>385</th>\n      <td>2023-06-20</td>\n      <td>2023-06-21</td>\n      <td>YouGov</td>\n      <td>22.0</td>\n      <td>47.0</td>\n      <td>11.0</td>\n      <td>lab+25.0</td>\n    </tr>\n    <tr>\n      <th>483</th>\n      <td>2023-03-21</td>\n      <td>2023-03-22</td>\n      <td>YouGov</td>\n      <td>23.0</td>\n      <td>49.0</td>\n      <td>10.0</td>\n      <td>lab+26.0</td>\n    </tr>\n    <tr>\n      <th>522</th>\n      <td>2023-02-21</td>\n      <td>2023-02-22</td>\n      <td>YouGov</td>\n      <td>23.0</td>\n      <td>46.0</td>\n      <td>9.0</td>\n      <td>lab+23.0</td>\n    </tr>\n    <tr>\n      <th>532</th>\n      <td>2023-02-14</td>\n      <td>2023-02-15</td>\n      <td>YouGov</td>\n      <td>22.0</td>\n      <td>50.0</td>\n      <td>9.0</td>\n      <td>lab+28.0</td>\n    </tr>\n    <tr>\n      <th>540</th>\n      <td>2023-02-08</td>\n      <td>2023-02-09</td>\n      <td>YouGov</td>\n      <td>24.0</td>\n      <td>47.0</td>\n      <td>10.0</td>\n      <td>lab+23.0</td>\n    </tr>\n    <tr>\n      <th>549</th>\n      <td>2023-01-31</td>\n      <td>2023-02-01</td>\n      <td>YouGov</td>\n      <td>24.0</td>\n      <td>48.0</td>\n      <td>9.0</td>\n      <td>lab+24.0</td>\n    </tr>\n    <tr>\n      <th>573</th>\n      <td>2022-12-20</td>\n      <td>2023-01-11</td>\n      <td>YouGov</td>\n      <td>24.0</td>\n      <td>47.0</td>\n      <td>9.0</td>\n      <td>lab+23.0</td>\n    </tr>\n    <tr>\n      <th>585</th>\n      <td>2022-12-20</td>\n      <td>2022-12-21</td>\n      <td>YouGov</td>\n      <td>24.0</td>\n      <td>48.0</td>\n      <td>9.0</td>\n      <td>lab+24.0</td>\n    </tr>\n    <tr>\n      <th>589</th>\n      <td>2022-12-14</td>\n      <td>2022-12-15</td>\n      <td>YouGov</td>\n      <td>23.0</td>\n      <td>48.0</td>\n      <td>8.0</td>\n      <td>lab+25.0</td>\n    </tr>\n    <tr>\n      <th>600</th>\n      <td>2022-12-06</td>\n      <td>2022-12-07</td>\n      <td>YouGov</td>\n      <td>24.0</td>\n      <td>48.0</td>\n      <td>9.0</td>\n      <td>lab+24.0</td>\n    </tr>\n    <tr>\n      <th>610</th>\n      <td>2022-11-29</td>\n      <td>2022-11-30</td>\n      <td>YouGov</td>\n      <td>22.0</td>\n      <td>47.0</td>\n      <td>9.0</td>\n      <td>lab+25.0</td>\n    </tr>\n    <tr>\n      <th>616</th>\n      <td>2022-11-22</td>\n      <td>2022-11-23</td>\n      <td>YouGov</td>\n      <td>25.0</td>\n      <td>48.0</td>\n      <td>9.0</td>\n      <td>lab+23.0</td>\n    </tr>\n    <tr>\n      <th>633</th>\n      <td>2022-11-09</td>\n      <td>2022-11-10</td>\n      <td>YouGov</td>\n      <td>25.0</td>\n      <td>48.0</td>\n      <td>10.0</td>\n      <td>lab+23.0</td>\n    </tr>\n    <tr>\n      <th>643</th>\n      <td>2022-11-01</td>\n      <td>2022-11-02</td>\n      <td>YouGov</td>\n      <td>24.0</td>\n      <td>50.0</td>\n      <td>9.0</td>\n      <td>lab+26.0</td>\n    </tr>\n    <tr>\n      <th>646</th>\n      <td>2022-10-24</td>\n      <td>2022-10-31</td>\n      <td>YouGov</td>\n      <td>25.0</td>\n      <td>49.0</td>\n      <td>9.0</td>\n      <td>lab+24.0</td>\n    </tr>\n    <tr>\n      <th>655</th>\n      <td>2022-10-25</td>\n      <td>2022-10-26</td>\n      <td>YouGov</td>\n      <td>23.0</td>\n      <td>51.0</td>\n      <td>9.0</td>\n      <td>lab+28.0</td>\n    </tr>\n    <tr>\n      <th>663</th>\n      <td>2022-10-20</td>\n      <td>2022-10-21</td>\n      <td>YouGov</td>\n      <td>19.0</td>\n      <td>56.0</td>\n      <td>10.0</td>\n      <td>lab+37.0</td>\n    </tr>\n    <tr>\n      <th>677</th>\n      <td>2022-10-11</td>\n      <td>2022-10-12</td>\n      <td>YouGov</td>\n      <td>23.0</td>\n      <td>51.0</td>\n      <td>9.0</td>\n      <td>lab+28.0</td>\n    </tr>\n    <tr>\n      <th>683</th>\n      <td>2022-10-06</td>\n      <td>2022-10-07</td>\n      <td>YouGov</td>\n      <td>22.0</td>\n      <td>52.0</td>\n      <td>9.0</td>\n      <td>lab+30.0</td>\n    </tr>\n    <tr>\n      <th>695</th>\n      <td>2022-09-28</td>\n      <td>2022-09-29</td>\n      <td>YouGov</td>\n      <td>21.0</td>\n      <td>54.0</td>\n      <td>7.0</td>\n      <td>lab+33.0</td>\n    </tr>\n    <tr>\n      <th>1354</th>\n      <td>2020-04-01</td>\n      <td>2020-04-02</td>\n      <td>YouGov</td>\n      <td>52.0</td>\n      <td>28.0</td>\n      <td>8.0</td>\n      <td>con+24.0</td>\n    </tr>\n    <tr>\n      <th>1915</th>\n      <td>2017-04-20</td>\n      <td>2017-04-21</td>\n      <td>YouGov</td>\n      <td>48.0</td>\n      <td>25.0</td>\n      <td>12.0</td>\n      <td>con+23.0</td>\n    </tr>\n    <tr>\n      <th>1920</th>\n      <td>2017-04-18</td>\n      <td>2017-04-19</td>\n      <td>YouGov</td>\n      <td>48.0</td>\n      <td>24.0</td>\n      <td>12.0</td>\n      <td>con+24.0</td>\n    </tr>\n    <tr>\n      <th>4437</th>\n      <td>2008-05-27</td>\n      <td>2008-05-29</td>\n      <td>YouGov</td>\n      <td>47.0</td>\n      <td>23.0</td>\n      <td>18.0</td>\n      <td>con+24.0</td>\n    </tr>\n    <tr>\n      <th>4441</th>\n      <td>2008-05-07</td>\n      <td>2008-05-08</td>\n      <td>YouGov</td>\n      <td>49.0</td>\n      <td>23.0</td>\n      <td>17.0</td>\n      <td>con+26.0</td>\n    </tr>\n  </tbody>\n</table>\n</div>"
     },
     "execution_count": 15,
     "metadata": {},
     "output_type": "execute_result"
    }
   ],
   "source": [
    "all_polls[all_polls.pollster == 'YouGov'].query('lead_value >22')[display_columns]"
   ],
   "metadata": {
    "collapsed": false,
    "ExecuteTime": {
     "end_time": "2024-05-29T10:47:14.640397300Z",
     "start_time": "2024-05-29T10:47:14.215038Z"
    }
   }
  },
  {
   "cell_type": "code",
   "execution_count": 16,
   "outputs": [
    {
     "data": {
      "text/plain": "     date_started date_concluded    pollster            client area  \\\n23     2024-05-08     2024-05-14  Ipsos MORI               NaN   GB   \n61     2024-04-03     2024-04-15  Ipsos MORI               NaN   GB   \n118    2024-02-21     2024-02-28  Ipsos MORI  Evening Standard   GB   \n203    2023-12-01     2023-12-07  Ipsos MORI               NaN   GB   \n239    2023-11-01     2023-11-08  Ipsos MORI               NaN   GB   \n264    2023-10-11     2023-10-18  Ipsos MORI               NaN   GB   \n305    2023-09-09     2023-09-12  Ipsos MORI               NaN   GB   \n386    2023-06-14     2023-06-20  Ipsos MORI  Evening Standard   GB   \n512    2023-02-22     2023-03-01  Ipsos MORI  Evening Standard   UK   \n592    2022-12-07     2022-12-13  Ipsos MORI               NaN   GB   \n1557   2019-05-10     2019-05-14  Ipsos MORI               NaN   GB   \n4891   1999-11-19     1999-11-22  Ipsos MORI         The Times  NaN   \n4899   1999-09-24     1999-09-27  Ipsos MORI         The Times  NaN   \n4915   1999-04-23     1999-04-26  Ipsos MORI         The Times  NaN   \n4924   1999-01-22     1999-01-25  Ipsos MORI         The Times  NaN   \n4938   1998-09-18     1998-09-21  Ipsos MORI         The Times  NaN   \n4971   1997-11-21     1997-11-24  Ipsos MORI         The Times  NaN   \n4975   1997-10-24     1997-10-27  Ipsos MORI         The Times  NaN   \n4978   1997-09-26     1997-09-29  Ipsos MORI         The Times  NaN   \n4983   1997-07-25     1997-07-28  Ipsos MORI         The Times  NaN   \n4985   1997-06-20     1997-06-23  Ipsos MORI         The Times  NaN   \n5157   1995-08-28     1995-08-28  Ipsos MORI             Times  NaN   \n5173   1995-05-22     1995-05-22  Ipsos MORI             Times  NaN   \n5179   1995-03-24     1995-03-24  Ipsos MORI      Sunday Times  NaN   \n5180   1995-03-20     1995-03-20  Ipsos MORI             Times  NaN   \n5183   1995-02-20     1995-02-20  Ipsos MORI             Times  NaN   \n5190   1994-12-19     1994-12-19  Ipsos MORI             Times  NaN   \n5194   1994-11-21     1994-11-21  Ipsos MORI             Times  NaN   \n5197   1994-10-24     1994-10-24  Ipsos MORI             Times  NaN   \n5201   1994-09-26     1994-09-26  Ipsos MORI         Economist  NaN   \n5202   1994-09-26     1994-09-26  Ipsos MORI             Times  NaN   \n5207   1994-08-22     1994-08-22  Ipsos MORI             Times  NaN   \n5210   1994-07-18     1994-07-18  Ipsos MORI             Times  NaN   \n5213   1994-06-20     1994-06-20  Ipsos MORI             Times  NaN   \n5215   1994-06-06     1994-06-06  Ipsos MORI             Times  NaN   \n5217   1994-05-31     1994-05-31  Ipsos MORI               GMB  NaN   \n6200   1981-12-14     1981-12-14  Ipsos MORI               NaN  NaN   \n\n     sample_size  conservative  labour  liberal_democrat  green  ...  liberal  \\\n23          1008          20.0    41.0              11.0   11.0  ...      NaN   \n61          1072          19.0    44.0               9.0    9.0  ...      NaN   \n118         1004          20.0    47.0               9.0    8.0  ...      NaN   \n203         1006          24.0    41.0              13.0    9.0  ...      NaN   \n239         1001          25.0    46.0              12.0    6.0  ...      NaN   \n264         1003          24.0    44.0              13.0    8.0  ...      NaN   \n305         1004          24.0    44.0              12.0    8.0  ...      NaN   \n386         1033          25.0    47.0              13.0    8.0  ...      NaN   \n512         1004          25.0    51.0               9.0    5.0  ...      NaN   \n592         1007          23.0    49.0              13.0    3.0  ...      NaN   \n1557        1072          25.0    27.0              15.0    7.0  ...      NaN   \n4891        1935          25.0    55.0              14.0    NaN  ...      NaN   \n4899        1823          25.0    52.0              17.0    NaN  ...      NaN   \n4915        1966          25.0    56.0              13.0    NaN  ...      NaN   \n4924        1930          24.0    56.0              14.0    NaN  ...      NaN   \n4938        1789          24.0    56.0              15.0    NaN  ...      NaN   \n4971        1879          24.0    56.0              16.0    NaN  ...      NaN   \n4975        1772          24.0    60.0              12.0    NaN  ...      NaN   \n4978        1916          25.0    59.0              13.0    NaN  ...      NaN   \n4983        1901          23.0    57.0              15.0    NaN  ...      NaN   \n4985        1852          24.0    58.0              15.0    NaN  ...      NaN   \n5157         NaN          25.0    56.0              15.0    NaN  ...      NaN   \n5173         NaN          22.0    58.0              16.0    NaN  ...      NaN   \n5179         NaN          25.0    59.0              12.0    NaN  ...      NaN   \n5180         NaN          25.0    57.0              13.0    NaN  ...      NaN   \n5183         NaN          24.0    58.0              14.0    NaN  ...      NaN   \n5190         NaN          22.0    61.0              13.0    NaN  ...      NaN   \n5194         NaN          24.0    55.0              17.0    NaN  ...      NaN   \n5197         NaN          25.0    57.0              14.0    NaN  ...      NaN   \n5201         NaN          25.0    52.0              18.0    NaN  ...      NaN   \n5202         NaN          25.0    54.0              17.0    NaN  ...      NaN   \n5207         NaN          23.0    56.0              18.0    NaN  ...      NaN   \n5210         NaN          23.0    51.0              21.0    NaN  ...      NaN   \n5213         NaN          24.0    52.0              20.0    NaN  ...      NaN   \n5215         NaN          23.0    50.0              22.0    NaN  ...      NaN   \n5217         NaN          22.0    46.0              22.0    NaN  ...      NaN   \n6200         NaN          23.0    23.5               NaN    NaN  ...      NaN   \n\n      plaid_cymru  scottish_national_party  social_democratic_party  \\\n23            1.0                      3.0                      NaN   \n61            NaN                      3.0                      NaN   \n118           NaN                      4.0                      NaN   \n203           NaN                      3.0                      NaN   \n239           NaN                      5.0                      NaN   \n264           1.0                      4.0                      NaN   \n305           NaN                      4.0                      NaN   \n386           1.0                      3.0                      NaN   \n512           1.0                      5.0                      NaN   \n592           NaN                      5.0                      NaN   \n1557          1.0                      4.0                      NaN   \n4891          NaN                      NaN                      NaN   \n4899          NaN                      NaN                      NaN   \n4915          NaN                      NaN                      NaN   \n4924          NaN                      NaN                      NaN   \n4938          NaN                      NaN                      NaN   \n4971          NaN                      NaN                      NaN   \n4975          NaN                      NaN                      NaN   \n4978          NaN                      NaN                      NaN   \n4983          NaN                      NaN                      NaN   \n4985          NaN                      NaN                      NaN   \n5157          NaN                      NaN                      NaN   \n5173          NaN                      NaN                      NaN   \n5179          NaN                      NaN                      NaN   \n5180          NaN                      NaN                      NaN   \n5183          NaN                      NaN                      NaN   \n5190          NaN                      NaN                      NaN   \n5194          NaN                      NaN                      NaN   \n5197          NaN                      NaN                      NaN   \n5201          NaN                      NaN                      NaN   \n5202          NaN                      NaN                      NaN   \n5207          NaN                      NaN                      NaN   \n5210          NaN                      NaN                      NaN   \n5213          NaN                      NaN                      NaN   \n5215          NaN                      NaN                      NaN   \n5217          NaN                      NaN                      NaN   \n6200          NaN                      NaN                      NaN   \n\n      united_kingdom_independence_party  reclaim_party  others      lead  \\\n23                                  NaN            NaN     4.0  lab+21.0   \n61                                  NaN            NaN     6.0  lab+25.0   \n118                                 NaN            NaN     2.0  lab+27.0   \n203                                 NaN            NaN     3.0  lab+17.0   \n239                                 NaN            NaN     5.0  lab+21.0   \n264                                 2.0            NaN     NaN  lab+20.0   \n305                                 NaN            NaN     3.0  lab+20.0   \n386                                 0.0            NaN     1.0  lab+22.0   \n512                                 0.0            NaN     0.0  lab+26.0   \n592                                 NaN            NaN     4.0  lab+26.0   \n1557                                3.0            NaN     1.0   lab+2.0   \n4891                                NaN            NaN     6.0  lab+30.0   \n4899                                NaN            NaN     6.0  lab+27.0   \n4915                                NaN            NaN     6.0  lab+31.0   \n4924                                NaN            NaN     6.0  lab+32.0   \n4938                                NaN            NaN     5.0  lab+32.0   \n4971                                NaN            NaN     4.0  lab+32.0   \n4975                                NaN            NaN     4.0  lab+36.0   \n4978                                NaN            NaN     3.0  lab+34.0   \n4983                                NaN            NaN     5.0  lab+34.0   \n4985                                NaN            NaN     3.0  lab+34.0   \n5157                                NaN            NaN     NaN  lab+31.0   \n5173                                NaN            NaN     NaN  lab+36.0   \n5179                                NaN            NaN     NaN  lab+34.0   \n5180                                NaN            NaN     NaN  lab+32.0   \n5183                                NaN            NaN     NaN  lab+34.0   \n5190                                NaN            NaN     NaN  lab+39.0   \n5194                                NaN            NaN     NaN  lab+31.0   \n5197                                NaN            NaN     NaN  lab+32.0   \n5201                                NaN            NaN     NaN  lab+27.0   \n5202                                NaN            NaN     NaN  lab+29.0   \n5207                                NaN            NaN     NaN  lab+33.0   \n5210                                NaN            NaN     NaN  lab+28.0   \n5213                                NaN            NaN     NaN  lab+28.0   \n5215                                NaN            NaN     NaN  lab+27.0   \n5217                                NaN            NaN     NaN  lab+24.0   \n6200                                NaN            NaN     NaN  all+27.0   \n\n      lead_value  conservative_reform_gap  \n23          21.0                     11.0  \n61          25.0                      6.0  \n118         27.0                     12.0  \n203         17.0                     17.0  \n239         21.0                     21.0  \n264         20.0                     20.0  \n305         20.0                     20.0  \n386         22.0                     22.0  \n512         26.0                     22.0  \n592         26.0                     21.0  \n1557         2.0                      NaN  \n4891        30.0                      NaN  \n4899        27.0                      NaN  \n4915        31.0                      NaN  \n4924        32.0                      NaN  \n4938        32.0                      NaN  \n4971        32.0                      NaN  \n4975        36.0                      NaN  \n4978        34.0                      NaN  \n4983        34.0                      NaN  \n4985        34.0                      NaN  \n5157        31.0                      NaN  \n5173        36.0                      NaN  \n5179        34.0                      NaN  \n5180        32.0                      NaN  \n5183        34.0                      NaN  \n5190        39.0                      NaN  \n5194        31.0                      NaN  \n5197        32.0                      NaN  \n5201        27.0                      NaN  \n5202        29.0                      NaN  \n5207        33.0                      NaN  \n5210        28.0                      NaN  \n5213        28.0                      NaN  \n5215        27.0                      NaN  \n5217        24.0                      NaN  \n6200        27.0                      NaN  \n\n[37 rows x 24 columns]",
      "text/html": "<div>\n<style scoped>\n    .dataframe tbody tr th:only-of-type {\n        vertical-align: middle;\n    }\n\n    .dataframe tbody tr th {\n        vertical-align: top;\n    }\n\n    .dataframe thead th {\n        text-align: right;\n    }\n</style>\n<table border=\"1\" class=\"dataframe\">\n  <thead>\n    <tr style=\"text-align: right;\">\n      <th></th>\n      <th>date_started</th>\n      <th>date_concluded</th>\n      <th>pollster</th>\n      <th>client</th>\n      <th>area</th>\n      <th>sample_size</th>\n      <th>conservative</th>\n      <th>labour</th>\n      <th>liberal_democrat</th>\n      <th>green</th>\n      <th>...</th>\n      <th>liberal</th>\n      <th>plaid_cymru</th>\n      <th>scottish_national_party</th>\n      <th>social_democratic_party</th>\n      <th>united_kingdom_independence_party</th>\n      <th>reclaim_party</th>\n      <th>others</th>\n      <th>lead</th>\n      <th>lead_value</th>\n      <th>conservative_reform_gap</th>\n    </tr>\n  </thead>\n  <tbody>\n    <tr>\n      <th>23</th>\n      <td>2024-05-08</td>\n      <td>2024-05-14</td>\n      <td>Ipsos MORI</td>\n      <td>NaN</td>\n      <td>GB</td>\n      <td>1008</td>\n      <td>20.0</td>\n      <td>41.0</td>\n      <td>11.0</td>\n      <td>11.0</td>\n      <td>...</td>\n      <td>NaN</td>\n      <td>1.0</td>\n      <td>3.0</td>\n      <td>NaN</td>\n      <td>NaN</td>\n      <td>NaN</td>\n      <td>4.0</td>\n      <td>lab+21.0</td>\n      <td>21.0</td>\n      <td>11.0</td>\n    </tr>\n    <tr>\n      <th>61</th>\n      <td>2024-04-03</td>\n      <td>2024-04-15</td>\n      <td>Ipsos MORI</td>\n      <td>NaN</td>\n      <td>GB</td>\n      <td>1072</td>\n      <td>19.0</td>\n      <td>44.0</td>\n      <td>9.0</td>\n      <td>9.0</td>\n      <td>...</td>\n      <td>NaN</td>\n      <td>NaN</td>\n      <td>3.0</td>\n      <td>NaN</td>\n      <td>NaN</td>\n      <td>NaN</td>\n      <td>6.0</td>\n      <td>lab+25.0</td>\n      <td>25.0</td>\n      <td>6.0</td>\n    </tr>\n    <tr>\n      <th>118</th>\n      <td>2024-02-21</td>\n      <td>2024-02-28</td>\n      <td>Ipsos MORI</td>\n      <td>Evening Standard</td>\n      <td>GB</td>\n      <td>1004</td>\n      <td>20.0</td>\n      <td>47.0</td>\n      <td>9.0</td>\n      <td>8.0</td>\n      <td>...</td>\n      <td>NaN</td>\n      <td>NaN</td>\n      <td>4.0</td>\n      <td>NaN</td>\n      <td>NaN</td>\n      <td>NaN</td>\n      <td>2.0</td>\n      <td>lab+27.0</td>\n      <td>27.0</td>\n      <td>12.0</td>\n    </tr>\n    <tr>\n      <th>203</th>\n      <td>2023-12-01</td>\n      <td>2023-12-07</td>\n      <td>Ipsos MORI</td>\n      <td>NaN</td>\n      <td>GB</td>\n      <td>1006</td>\n      <td>24.0</td>\n      <td>41.0</td>\n      <td>13.0</td>\n      <td>9.0</td>\n      <td>...</td>\n      <td>NaN</td>\n      <td>NaN</td>\n      <td>3.0</td>\n      <td>NaN</td>\n      <td>NaN</td>\n      <td>NaN</td>\n      <td>3.0</td>\n      <td>lab+17.0</td>\n      <td>17.0</td>\n      <td>17.0</td>\n    </tr>\n    <tr>\n      <th>239</th>\n      <td>2023-11-01</td>\n      <td>2023-11-08</td>\n      <td>Ipsos MORI</td>\n      <td>NaN</td>\n      <td>GB</td>\n      <td>1001</td>\n      <td>25.0</td>\n      <td>46.0</td>\n      <td>12.0</td>\n      <td>6.0</td>\n      <td>...</td>\n      <td>NaN</td>\n      <td>NaN</td>\n      <td>5.0</td>\n      <td>NaN</td>\n      <td>NaN</td>\n      <td>NaN</td>\n      <td>5.0</td>\n      <td>lab+21.0</td>\n      <td>21.0</td>\n      <td>21.0</td>\n    </tr>\n    <tr>\n      <th>264</th>\n      <td>2023-10-11</td>\n      <td>2023-10-18</td>\n      <td>Ipsos MORI</td>\n      <td>NaN</td>\n      <td>GB</td>\n      <td>1003</td>\n      <td>24.0</td>\n      <td>44.0</td>\n      <td>13.0</td>\n      <td>8.0</td>\n      <td>...</td>\n      <td>NaN</td>\n      <td>1.0</td>\n      <td>4.0</td>\n      <td>NaN</td>\n      <td>2.0</td>\n      <td>NaN</td>\n      <td>NaN</td>\n      <td>lab+20.0</td>\n      <td>20.0</td>\n      <td>20.0</td>\n    </tr>\n    <tr>\n      <th>305</th>\n      <td>2023-09-09</td>\n      <td>2023-09-12</td>\n      <td>Ipsos MORI</td>\n      <td>NaN</td>\n      <td>GB</td>\n      <td>1004</td>\n      <td>24.0</td>\n      <td>44.0</td>\n      <td>12.0</td>\n      <td>8.0</td>\n      <td>...</td>\n      <td>NaN</td>\n      <td>NaN</td>\n      <td>4.0</td>\n      <td>NaN</td>\n      <td>NaN</td>\n      <td>NaN</td>\n      <td>3.0</td>\n      <td>lab+20.0</td>\n      <td>20.0</td>\n      <td>20.0</td>\n    </tr>\n    <tr>\n      <th>386</th>\n      <td>2023-06-14</td>\n      <td>2023-06-20</td>\n      <td>Ipsos MORI</td>\n      <td>Evening Standard</td>\n      <td>GB</td>\n      <td>1033</td>\n      <td>25.0</td>\n      <td>47.0</td>\n      <td>13.0</td>\n      <td>8.0</td>\n      <td>...</td>\n      <td>NaN</td>\n      <td>1.0</td>\n      <td>3.0</td>\n      <td>NaN</td>\n      <td>0.0</td>\n      <td>NaN</td>\n      <td>1.0</td>\n      <td>lab+22.0</td>\n      <td>22.0</td>\n      <td>22.0</td>\n    </tr>\n    <tr>\n      <th>512</th>\n      <td>2023-02-22</td>\n      <td>2023-03-01</td>\n      <td>Ipsos MORI</td>\n      <td>Evening Standard</td>\n      <td>UK</td>\n      <td>1004</td>\n      <td>25.0</td>\n      <td>51.0</td>\n      <td>9.0</td>\n      <td>5.0</td>\n      <td>...</td>\n      <td>NaN</td>\n      <td>1.0</td>\n      <td>5.0</td>\n      <td>NaN</td>\n      <td>0.0</td>\n      <td>NaN</td>\n      <td>0.0</td>\n      <td>lab+26.0</td>\n      <td>26.0</td>\n      <td>22.0</td>\n    </tr>\n    <tr>\n      <th>592</th>\n      <td>2022-12-07</td>\n      <td>2022-12-13</td>\n      <td>Ipsos MORI</td>\n      <td>NaN</td>\n      <td>GB</td>\n      <td>1007</td>\n      <td>23.0</td>\n      <td>49.0</td>\n      <td>13.0</td>\n      <td>3.0</td>\n      <td>...</td>\n      <td>NaN</td>\n      <td>NaN</td>\n      <td>5.0</td>\n      <td>NaN</td>\n      <td>NaN</td>\n      <td>NaN</td>\n      <td>4.0</td>\n      <td>lab+26.0</td>\n      <td>26.0</td>\n      <td>21.0</td>\n    </tr>\n    <tr>\n      <th>1557</th>\n      <td>2019-05-10</td>\n      <td>2019-05-14</td>\n      <td>Ipsos MORI</td>\n      <td>NaN</td>\n      <td>GB</td>\n      <td>1072</td>\n      <td>25.0</td>\n      <td>27.0</td>\n      <td>15.0</td>\n      <td>7.0</td>\n      <td>...</td>\n      <td>NaN</td>\n      <td>1.0</td>\n      <td>4.0</td>\n      <td>NaN</td>\n      <td>3.0</td>\n      <td>NaN</td>\n      <td>1.0</td>\n      <td>lab+2.0</td>\n      <td>2.0</td>\n      <td>NaN</td>\n    </tr>\n    <tr>\n      <th>4891</th>\n      <td>1999-11-19</td>\n      <td>1999-11-22</td>\n      <td>Ipsos MORI</td>\n      <td>The Times</td>\n      <td>NaN</td>\n      <td>1935</td>\n      <td>25.0</td>\n      <td>55.0</td>\n      <td>14.0</td>\n      <td>NaN</td>\n      <td>...</td>\n      <td>NaN</td>\n      <td>NaN</td>\n      <td>NaN</td>\n      <td>NaN</td>\n      <td>NaN</td>\n      <td>NaN</td>\n      <td>6.0</td>\n      <td>lab+30.0</td>\n      <td>30.0</td>\n      <td>NaN</td>\n    </tr>\n    <tr>\n      <th>4899</th>\n      <td>1999-09-24</td>\n      <td>1999-09-27</td>\n      <td>Ipsos MORI</td>\n      <td>The Times</td>\n      <td>NaN</td>\n      <td>1823</td>\n      <td>25.0</td>\n      <td>52.0</td>\n      <td>17.0</td>\n      <td>NaN</td>\n      <td>...</td>\n      <td>NaN</td>\n      <td>NaN</td>\n      <td>NaN</td>\n      <td>NaN</td>\n      <td>NaN</td>\n      <td>NaN</td>\n      <td>6.0</td>\n      <td>lab+27.0</td>\n      <td>27.0</td>\n      <td>NaN</td>\n    </tr>\n    <tr>\n      <th>4915</th>\n      <td>1999-04-23</td>\n      <td>1999-04-26</td>\n      <td>Ipsos MORI</td>\n      <td>The Times</td>\n      <td>NaN</td>\n      <td>1966</td>\n      <td>25.0</td>\n      <td>56.0</td>\n      <td>13.0</td>\n      <td>NaN</td>\n      <td>...</td>\n      <td>NaN</td>\n      <td>NaN</td>\n      <td>NaN</td>\n      <td>NaN</td>\n      <td>NaN</td>\n      <td>NaN</td>\n      <td>6.0</td>\n      <td>lab+31.0</td>\n      <td>31.0</td>\n      <td>NaN</td>\n    </tr>\n    <tr>\n      <th>4924</th>\n      <td>1999-01-22</td>\n      <td>1999-01-25</td>\n      <td>Ipsos MORI</td>\n      <td>The Times</td>\n      <td>NaN</td>\n      <td>1930</td>\n      <td>24.0</td>\n      <td>56.0</td>\n      <td>14.0</td>\n      <td>NaN</td>\n      <td>...</td>\n      <td>NaN</td>\n      <td>NaN</td>\n      <td>NaN</td>\n      <td>NaN</td>\n      <td>NaN</td>\n      <td>NaN</td>\n      <td>6.0</td>\n      <td>lab+32.0</td>\n      <td>32.0</td>\n      <td>NaN</td>\n    </tr>\n    <tr>\n      <th>4938</th>\n      <td>1998-09-18</td>\n      <td>1998-09-21</td>\n      <td>Ipsos MORI</td>\n      <td>The Times</td>\n      <td>NaN</td>\n      <td>1789</td>\n      <td>24.0</td>\n      <td>56.0</td>\n      <td>15.0</td>\n      <td>NaN</td>\n      <td>...</td>\n      <td>NaN</td>\n      <td>NaN</td>\n      <td>NaN</td>\n      <td>NaN</td>\n      <td>NaN</td>\n      <td>NaN</td>\n      <td>5.0</td>\n      <td>lab+32.0</td>\n      <td>32.0</td>\n      <td>NaN</td>\n    </tr>\n    <tr>\n      <th>4971</th>\n      <td>1997-11-21</td>\n      <td>1997-11-24</td>\n      <td>Ipsos MORI</td>\n      <td>The Times</td>\n      <td>NaN</td>\n      <td>1879</td>\n      <td>24.0</td>\n      <td>56.0</td>\n      <td>16.0</td>\n      <td>NaN</td>\n      <td>...</td>\n      <td>NaN</td>\n      <td>NaN</td>\n      <td>NaN</td>\n      <td>NaN</td>\n      <td>NaN</td>\n      <td>NaN</td>\n      <td>4.0</td>\n      <td>lab+32.0</td>\n      <td>32.0</td>\n      <td>NaN</td>\n    </tr>\n    <tr>\n      <th>4975</th>\n      <td>1997-10-24</td>\n      <td>1997-10-27</td>\n      <td>Ipsos MORI</td>\n      <td>The Times</td>\n      <td>NaN</td>\n      <td>1772</td>\n      <td>24.0</td>\n      <td>60.0</td>\n      <td>12.0</td>\n      <td>NaN</td>\n      <td>...</td>\n      <td>NaN</td>\n      <td>NaN</td>\n      <td>NaN</td>\n      <td>NaN</td>\n      <td>NaN</td>\n      <td>NaN</td>\n      <td>4.0</td>\n      <td>lab+36.0</td>\n      <td>36.0</td>\n      <td>NaN</td>\n    </tr>\n    <tr>\n      <th>4978</th>\n      <td>1997-09-26</td>\n      <td>1997-09-29</td>\n      <td>Ipsos MORI</td>\n      <td>The Times</td>\n      <td>NaN</td>\n      <td>1916</td>\n      <td>25.0</td>\n      <td>59.0</td>\n      <td>13.0</td>\n      <td>NaN</td>\n      <td>...</td>\n      <td>NaN</td>\n      <td>NaN</td>\n      <td>NaN</td>\n      <td>NaN</td>\n      <td>NaN</td>\n      <td>NaN</td>\n      <td>3.0</td>\n      <td>lab+34.0</td>\n      <td>34.0</td>\n      <td>NaN</td>\n    </tr>\n    <tr>\n      <th>4983</th>\n      <td>1997-07-25</td>\n      <td>1997-07-28</td>\n      <td>Ipsos MORI</td>\n      <td>The Times</td>\n      <td>NaN</td>\n      <td>1901</td>\n      <td>23.0</td>\n      <td>57.0</td>\n      <td>15.0</td>\n      <td>NaN</td>\n      <td>...</td>\n      <td>NaN</td>\n      <td>NaN</td>\n      <td>NaN</td>\n      <td>NaN</td>\n      <td>NaN</td>\n      <td>NaN</td>\n      <td>5.0</td>\n      <td>lab+34.0</td>\n      <td>34.0</td>\n      <td>NaN</td>\n    </tr>\n    <tr>\n      <th>4985</th>\n      <td>1997-06-20</td>\n      <td>1997-06-23</td>\n      <td>Ipsos MORI</td>\n      <td>The Times</td>\n      <td>NaN</td>\n      <td>1852</td>\n      <td>24.0</td>\n      <td>58.0</td>\n      <td>15.0</td>\n      <td>NaN</td>\n      <td>...</td>\n      <td>NaN</td>\n      <td>NaN</td>\n      <td>NaN</td>\n      <td>NaN</td>\n      <td>NaN</td>\n      <td>NaN</td>\n      <td>3.0</td>\n      <td>lab+34.0</td>\n      <td>34.0</td>\n      <td>NaN</td>\n    </tr>\n    <tr>\n      <th>5157</th>\n      <td>1995-08-28</td>\n      <td>1995-08-28</td>\n      <td>Ipsos MORI</td>\n      <td>Times</td>\n      <td>NaN</td>\n      <td>NaN</td>\n      <td>25.0</td>\n      <td>56.0</td>\n      <td>15.0</td>\n      <td>NaN</td>\n      <td>...</td>\n      <td>NaN</td>\n      <td>NaN</td>\n      <td>NaN</td>\n      <td>NaN</td>\n      <td>NaN</td>\n      <td>NaN</td>\n      <td>NaN</td>\n      <td>lab+31.0</td>\n      <td>31.0</td>\n      <td>NaN</td>\n    </tr>\n    <tr>\n      <th>5173</th>\n      <td>1995-05-22</td>\n      <td>1995-05-22</td>\n      <td>Ipsos MORI</td>\n      <td>Times</td>\n      <td>NaN</td>\n      <td>NaN</td>\n      <td>22.0</td>\n      <td>58.0</td>\n      <td>16.0</td>\n      <td>NaN</td>\n      <td>...</td>\n      <td>NaN</td>\n      <td>NaN</td>\n      <td>NaN</td>\n      <td>NaN</td>\n      <td>NaN</td>\n      <td>NaN</td>\n      <td>NaN</td>\n      <td>lab+36.0</td>\n      <td>36.0</td>\n      <td>NaN</td>\n    </tr>\n    <tr>\n      <th>5179</th>\n      <td>1995-03-24</td>\n      <td>1995-03-24</td>\n      <td>Ipsos MORI</td>\n      <td>Sunday Times</td>\n      <td>NaN</td>\n      <td>NaN</td>\n      <td>25.0</td>\n      <td>59.0</td>\n      <td>12.0</td>\n      <td>NaN</td>\n      <td>...</td>\n      <td>NaN</td>\n      <td>NaN</td>\n      <td>NaN</td>\n      <td>NaN</td>\n      <td>NaN</td>\n      <td>NaN</td>\n      <td>NaN</td>\n      <td>lab+34.0</td>\n      <td>34.0</td>\n      <td>NaN</td>\n    </tr>\n    <tr>\n      <th>5180</th>\n      <td>1995-03-20</td>\n      <td>1995-03-20</td>\n      <td>Ipsos MORI</td>\n      <td>Times</td>\n      <td>NaN</td>\n      <td>NaN</td>\n      <td>25.0</td>\n      <td>57.0</td>\n      <td>13.0</td>\n      <td>NaN</td>\n      <td>...</td>\n      <td>NaN</td>\n      <td>NaN</td>\n      <td>NaN</td>\n      <td>NaN</td>\n      <td>NaN</td>\n      <td>NaN</td>\n      <td>NaN</td>\n      <td>lab+32.0</td>\n      <td>32.0</td>\n      <td>NaN</td>\n    </tr>\n    <tr>\n      <th>5183</th>\n      <td>1995-02-20</td>\n      <td>1995-02-20</td>\n      <td>Ipsos MORI</td>\n      <td>Times</td>\n      <td>NaN</td>\n      <td>NaN</td>\n      <td>24.0</td>\n      <td>58.0</td>\n      <td>14.0</td>\n      <td>NaN</td>\n      <td>...</td>\n      <td>NaN</td>\n      <td>NaN</td>\n      <td>NaN</td>\n      <td>NaN</td>\n      <td>NaN</td>\n      <td>NaN</td>\n      <td>NaN</td>\n      <td>lab+34.0</td>\n      <td>34.0</td>\n      <td>NaN</td>\n    </tr>\n    <tr>\n      <th>5190</th>\n      <td>1994-12-19</td>\n      <td>1994-12-19</td>\n      <td>Ipsos MORI</td>\n      <td>Times</td>\n      <td>NaN</td>\n      <td>NaN</td>\n      <td>22.0</td>\n      <td>61.0</td>\n      <td>13.0</td>\n      <td>NaN</td>\n      <td>...</td>\n      <td>NaN</td>\n      <td>NaN</td>\n      <td>NaN</td>\n      <td>NaN</td>\n      <td>NaN</td>\n      <td>NaN</td>\n      <td>NaN</td>\n      <td>lab+39.0</td>\n      <td>39.0</td>\n      <td>NaN</td>\n    </tr>\n    <tr>\n      <th>5194</th>\n      <td>1994-11-21</td>\n      <td>1994-11-21</td>\n      <td>Ipsos MORI</td>\n      <td>Times</td>\n      <td>NaN</td>\n      <td>NaN</td>\n      <td>24.0</td>\n      <td>55.0</td>\n      <td>17.0</td>\n      <td>NaN</td>\n      <td>...</td>\n      <td>NaN</td>\n      <td>NaN</td>\n      <td>NaN</td>\n      <td>NaN</td>\n      <td>NaN</td>\n      <td>NaN</td>\n      <td>NaN</td>\n      <td>lab+31.0</td>\n      <td>31.0</td>\n      <td>NaN</td>\n    </tr>\n    <tr>\n      <th>5197</th>\n      <td>1994-10-24</td>\n      <td>1994-10-24</td>\n      <td>Ipsos MORI</td>\n      <td>Times</td>\n      <td>NaN</td>\n      <td>NaN</td>\n      <td>25.0</td>\n      <td>57.0</td>\n      <td>14.0</td>\n      <td>NaN</td>\n      <td>...</td>\n      <td>NaN</td>\n      <td>NaN</td>\n      <td>NaN</td>\n      <td>NaN</td>\n      <td>NaN</td>\n      <td>NaN</td>\n      <td>NaN</td>\n      <td>lab+32.0</td>\n      <td>32.0</td>\n      <td>NaN</td>\n    </tr>\n    <tr>\n      <th>5201</th>\n      <td>1994-09-26</td>\n      <td>1994-09-26</td>\n      <td>Ipsos MORI</td>\n      <td>Economist</td>\n      <td>NaN</td>\n      <td>NaN</td>\n      <td>25.0</td>\n      <td>52.0</td>\n      <td>18.0</td>\n      <td>NaN</td>\n      <td>...</td>\n      <td>NaN</td>\n      <td>NaN</td>\n      <td>NaN</td>\n      <td>NaN</td>\n      <td>NaN</td>\n      <td>NaN</td>\n      <td>NaN</td>\n      <td>lab+27.0</td>\n      <td>27.0</td>\n      <td>NaN</td>\n    </tr>\n    <tr>\n      <th>5202</th>\n      <td>1994-09-26</td>\n      <td>1994-09-26</td>\n      <td>Ipsos MORI</td>\n      <td>Times</td>\n      <td>NaN</td>\n      <td>NaN</td>\n      <td>25.0</td>\n      <td>54.0</td>\n      <td>17.0</td>\n      <td>NaN</td>\n      <td>...</td>\n      <td>NaN</td>\n      <td>NaN</td>\n      <td>NaN</td>\n      <td>NaN</td>\n      <td>NaN</td>\n      <td>NaN</td>\n      <td>NaN</td>\n      <td>lab+29.0</td>\n      <td>29.0</td>\n      <td>NaN</td>\n    </tr>\n    <tr>\n      <th>5207</th>\n      <td>1994-08-22</td>\n      <td>1994-08-22</td>\n      <td>Ipsos MORI</td>\n      <td>Times</td>\n      <td>NaN</td>\n      <td>NaN</td>\n      <td>23.0</td>\n      <td>56.0</td>\n      <td>18.0</td>\n      <td>NaN</td>\n      <td>...</td>\n      <td>NaN</td>\n      <td>NaN</td>\n      <td>NaN</td>\n      <td>NaN</td>\n      <td>NaN</td>\n      <td>NaN</td>\n      <td>NaN</td>\n      <td>lab+33.0</td>\n      <td>33.0</td>\n      <td>NaN</td>\n    </tr>\n    <tr>\n      <th>5210</th>\n      <td>1994-07-18</td>\n      <td>1994-07-18</td>\n      <td>Ipsos MORI</td>\n      <td>Times</td>\n      <td>NaN</td>\n      <td>NaN</td>\n      <td>23.0</td>\n      <td>51.0</td>\n      <td>21.0</td>\n      <td>NaN</td>\n      <td>...</td>\n      <td>NaN</td>\n      <td>NaN</td>\n      <td>NaN</td>\n      <td>NaN</td>\n      <td>NaN</td>\n      <td>NaN</td>\n      <td>NaN</td>\n      <td>lab+28.0</td>\n      <td>28.0</td>\n      <td>NaN</td>\n    </tr>\n    <tr>\n      <th>5213</th>\n      <td>1994-06-20</td>\n      <td>1994-06-20</td>\n      <td>Ipsos MORI</td>\n      <td>Times</td>\n      <td>NaN</td>\n      <td>NaN</td>\n      <td>24.0</td>\n      <td>52.0</td>\n      <td>20.0</td>\n      <td>NaN</td>\n      <td>...</td>\n      <td>NaN</td>\n      <td>NaN</td>\n      <td>NaN</td>\n      <td>NaN</td>\n      <td>NaN</td>\n      <td>NaN</td>\n      <td>NaN</td>\n      <td>lab+28.0</td>\n      <td>28.0</td>\n      <td>NaN</td>\n    </tr>\n    <tr>\n      <th>5215</th>\n      <td>1994-06-06</td>\n      <td>1994-06-06</td>\n      <td>Ipsos MORI</td>\n      <td>Times</td>\n      <td>NaN</td>\n      <td>NaN</td>\n      <td>23.0</td>\n      <td>50.0</td>\n      <td>22.0</td>\n      <td>NaN</td>\n      <td>...</td>\n      <td>NaN</td>\n      <td>NaN</td>\n      <td>NaN</td>\n      <td>NaN</td>\n      <td>NaN</td>\n      <td>NaN</td>\n      <td>NaN</td>\n      <td>lab+27.0</td>\n      <td>27.0</td>\n      <td>NaN</td>\n    </tr>\n    <tr>\n      <th>5217</th>\n      <td>1994-05-31</td>\n      <td>1994-05-31</td>\n      <td>Ipsos MORI</td>\n      <td>GMB</td>\n      <td>NaN</td>\n      <td>NaN</td>\n      <td>22.0</td>\n      <td>46.0</td>\n      <td>22.0</td>\n      <td>NaN</td>\n      <td>...</td>\n      <td>NaN</td>\n      <td>NaN</td>\n      <td>NaN</td>\n      <td>NaN</td>\n      <td>NaN</td>\n      <td>NaN</td>\n      <td>NaN</td>\n      <td>lab+24.0</td>\n      <td>24.0</td>\n      <td>NaN</td>\n    </tr>\n    <tr>\n      <th>6200</th>\n      <td>1981-12-14</td>\n      <td>1981-12-14</td>\n      <td>Ipsos MORI</td>\n      <td>NaN</td>\n      <td>NaN</td>\n      <td>NaN</td>\n      <td>23.0</td>\n      <td>23.5</td>\n      <td>NaN</td>\n      <td>NaN</td>\n      <td>...</td>\n      <td>NaN</td>\n      <td>NaN</td>\n      <td>NaN</td>\n      <td>NaN</td>\n      <td>NaN</td>\n      <td>NaN</td>\n      <td>NaN</td>\n      <td>all+27.0</td>\n      <td>27.0</td>\n      <td>NaN</td>\n    </tr>\n  </tbody>\n</table>\n<p>37 rows × 24 columns</p>\n</div>"
     },
     "execution_count": 16,
     "metadata": {},
     "output_type": "execute_result"
    }
   ],
   "source": [
    "all_polls[all_polls.pollster == 'Ipsos MORI'].query('conservative < 26')"
   ],
   "metadata": {
    "collapsed": false,
    "ExecuteTime": {
     "end_time": "2024-05-29T10:47:14.644896200Z",
     "start_time": "2024-05-29T10:47:14.299955400Z"
    }
   }
  },
  {
   "cell_type": "code",
   "execution_count": 16,
   "outputs": [],
   "source": [],
   "metadata": {
    "collapsed": false,
    "ExecuteTime": {
     "end_time": "2024-05-29T10:47:14.644896200Z",
     "start_time": "2024-05-29T10:47:14.402240700Z"
    }
   }
  },
  {
   "cell_type": "code",
   "execution_count": 16,
   "outputs": [],
   "source": [],
   "metadata": {
    "collapsed": false,
    "ExecuteTime": {
     "end_time": "2024-05-29T10:47:14.676486500Z",
     "start_time": "2024-05-29T10:47:14.406249800Z"
    }
   }
  },
  {
   "cell_type": "code",
   "execution_count": 17,
   "outputs": [],
   "source": [
    "all_polls.loc[(all_polls.lead_value >= 10), 'dd_lead'] = 1\n",
    "all_polls['dd_lead'] = all_polls['dd_lead'].fillna(0)\n",
    "all_polls['dd_lead_in_row'] = 0\n",
    "for ix, value in all_polls['dd_lead'].iteritems():\n",
    "    if value >= 1:\n",
    "        polls_before = all_polls.iloc[:ix]['dd_lead']\n",
    "        polls_after = all_polls.iloc[ix:]['dd_lead']\n",
    "        next_untrue_poll = polls_after[polls_after == 0].index[0]\n",
    "        after_polls = next_untrue_poll - ix\n",
    "\n",
    "        if len(polls_before[polls_before == 0]) == 0:\n",
    "            before_polls = len(polls_before)\n",
    "        else:\n",
    "            last_untrue_poll = polls_before[polls_before == 0].index[-1]\n",
    "            before_polls = (ix - last_untrue_poll) - 1\n",
    "\n",
    "        total_polls = before_polls + after_polls\n",
    "        all_polls.loc[ix, 'dd_lead_in_row'] = total_polls\n",
    "    else:\n",
    "        total_polls = 0"
   ],
   "metadata": {
    "collapsed": false,
    "ExecuteTime": {
     "end_time": "2024-05-29T10:47:16.596210500Z",
     "start_time": "2024-05-29T10:47:14.411250600Z"
    }
   }
  },
  {
   "cell_type": "code",
   "execution_count": 18,
   "outputs": [],
   "source": [
    "all_polls.to_clipboard(sep='\\t')"
   ],
   "metadata": {
    "collapsed": false,
    "ExecuteTime": {
     "end_time": "2024-05-29T10:47:16.812964900Z",
     "start_time": "2024-05-29T10:47:16.597211100Z"
    }
   }
  },
  {
   "cell_type": "code",
   "execution_count": 19,
   "outputs": [
    {
     "data": {
      "text/plain": "     date_started date_concluded pollster               client area  \\\n4768   2001-06-06     2001-06-06   Gallup  The Daily Telegraph  NaN   \n4779   2001-05-28     2001-05-29   Gallup  The Daily Telegraph  NaN   \n4783   2001-05-21     2001-05-23   Gallup  The Daily Telegraph  NaN   \n4787   2001-05-20     2001-05-20   Gallup                  BES  NaN   \n4789   2001-05-14     2001-05-15   Gallup  The Daily Telegraph  NaN   \n...           ...            ...      ...                  ...  ...   \n6583   1970-12-13     1970-12-13   Gallup  The Daily Telegraph  NaN   \n6584   1970-11-15     1970-11-15   Gallup  The Daily Telegraph  NaN   \n6585   1970-10-18     1970-10-18   Gallup  The Daily Telegraph  NaN   \n6586   1970-09-13     1970-09-13   Gallup  The Daily Telegraph  NaN   \n6587   1970-08-16     1970-08-16   Gallup  The Daily Telegraph  NaN   \n\n     sample_size  conservative  labour  liberal_democrat  green  ...  \\\n4768        2399          30.0    47.0              18.0    NaN  ...   \n4779        1462          31.0    47.0              16.0    NaN  ...   \n4783        1000          32.0    48.0              15.0    NaN  ...   \n4787           ?          25.0    55.0              14.0    NaN  ...   \n4789        1004          32.0    48.0              13.0    NaN  ...   \n...          ...           ...     ...               ...    ...  ...   \n6583         NaN          46.0    44.5               NaN    NaN  ...   \n6584         NaN          43.5    48.0               NaN    NaN  ...   \n6585         NaN          46.5    46.5               NaN    NaN  ...   \n6586         NaN          46.5    44.0               NaN    NaN  ...   \n6587         NaN          47.0    43.5               NaN    NaN  ...   \n\n      scottish_national_party  social_democratic_party  \\\n4768                      NaN                      NaN   \n4779                      NaN                      NaN   \n4783                      NaN                      NaN   \n4787                      NaN                      NaN   \n4789                      NaN                      NaN   \n...                       ...                      ...   \n6583                      NaN                      NaN   \n6584                      NaN                      NaN   \n6585                      NaN                      NaN   \n6586                      NaN                      NaN   \n6587                      NaN                      NaN   \n\n      united_kingdom_independence_party  reclaim_party  others      lead  \\\n4768                                NaN            NaN     NaN  lab+17.0   \n4779                                NaN            NaN     NaN  lab+16.0   \n4783                                NaN            NaN     NaN  lab+16.0   \n4787                                NaN            NaN     NaN  lab+30.0   \n4789                                NaN            NaN     7.0  lab+16.0   \n...                                 ...            ...     ...       ...   \n6583                                NaN            NaN     NaN   con+1.5   \n6584                                NaN            NaN     NaN   lab+4.5   \n6585                                NaN            NaN     NaN       Tie   \n6586                                NaN            NaN     NaN   con+2.5   \n6587                                NaN            NaN     NaN   con+3.5   \n\n      lead_value  conservative_reform_gap  dd_lead  dd_lead_in_row  \n4768        17.0                      NaN      1.0              45  \n4779        16.0                      NaN      1.0              45  \n4783        16.0                      NaN      1.0              45  \n4787        30.0                      NaN      1.0              45  \n4789        16.0                      NaN      1.0              45  \n...          ...                      ...      ...             ...  \n6583         1.5                      NaN      0.0               0  \n6584         4.5                      NaN      0.0               0  \n6585         0.0                      NaN      0.0               0  \n6586         2.5                      NaN      0.0               0  \n6587         3.5                      NaN      0.0               0  \n\n[468 rows x 26 columns]",
      "text/html": "<div>\n<style scoped>\n    .dataframe tbody tr th:only-of-type {\n        vertical-align: middle;\n    }\n\n    .dataframe tbody tr th {\n        vertical-align: top;\n    }\n\n    .dataframe thead th {\n        text-align: right;\n    }\n</style>\n<table border=\"1\" class=\"dataframe\">\n  <thead>\n    <tr style=\"text-align: right;\">\n      <th></th>\n      <th>date_started</th>\n      <th>date_concluded</th>\n      <th>pollster</th>\n      <th>client</th>\n      <th>area</th>\n      <th>sample_size</th>\n      <th>conservative</th>\n      <th>labour</th>\n      <th>liberal_democrat</th>\n      <th>green</th>\n      <th>...</th>\n      <th>scottish_national_party</th>\n      <th>social_democratic_party</th>\n      <th>united_kingdom_independence_party</th>\n      <th>reclaim_party</th>\n      <th>others</th>\n      <th>lead</th>\n      <th>lead_value</th>\n      <th>conservative_reform_gap</th>\n      <th>dd_lead</th>\n      <th>dd_lead_in_row</th>\n    </tr>\n  </thead>\n  <tbody>\n    <tr>\n      <th>4768</th>\n      <td>2001-06-06</td>\n      <td>2001-06-06</td>\n      <td>Gallup</td>\n      <td>The Daily Telegraph</td>\n      <td>NaN</td>\n      <td>2399</td>\n      <td>30.0</td>\n      <td>47.0</td>\n      <td>18.0</td>\n      <td>NaN</td>\n      <td>...</td>\n      <td>NaN</td>\n      <td>NaN</td>\n      <td>NaN</td>\n      <td>NaN</td>\n      <td>NaN</td>\n      <td>lab+17.0</td>\n      <td>17.0</td>\n      <td>NaN</td>\n      <td>1.0</td>\n      <td>45</td>\n    </tr>\n    <tr>\n      <th>4779</th>\n      <td>2001-05-28</td>\n      <td>2001-05-29</td>\n      <td>Gallup</td>\n      <td>The Daily Telegraph</td>\n      <td>NaN</td>\n      <td>1462</td>\n      <td>31.0</td>\n      <td>47.0</td>\n      <td>16.0</td>\n      <td>NaN</td>\n      <td>...</td>\n      <td>NaN</td>\n      <td>NaN</td>\n      <td>NaN</td>\n      <td>NaN</td>\n      <td>NaN</td>\n      <td>lab+16.0</td>\n      <td>16.0</td>\n      <td>NaN</td>\n      <td>1.0</td>\n      <td>45</td>\n    </tr>\n    <tr>\n      <th>4783</th>\n      <td>2001-05-21</td>\n      <td>2001-05-23</td>\n      <td>Gallup</td>\n      <td>The Daily Telegraph</td>\n      <td>NaN</td>\n      <td>1000</td>\n      <td>32.0</td>\n      <td>48.0</td>\n      <td>15.0</td>\n      <td>NaN</td>\n      <td>...</td>\n      <td>NaN</td>\n      <td>NaN</td>\n      <td>NaN</td>\n      <td>NaN</td>\n      <td>NaN</td>\n      <td>lab+16.0</td>\n      <td>16.0</td>\n      <td>NaN</td>\n      <td>1.0</td>\n      <td>45</td>\n    </tr>\n    <tr>\n      <th>4787</th>\n      <td>2001-05-20</td>\n      <td>2001-05-20</td>\n      <td>Gallup</td>\n      <td>BES</td>\n      <td>NaN</td>\n      <td>?</td>\n      <td>25.0</td>\n      <td>55.0</td>\n      <td>14.0</td>\n      <td>NaN</td>\n      <td>...</td>\n      <td>NaN</td>\n      <td>NaN</td>\n      <td>NaN</td>\n      <td>NaN</td>\n      <td>NaN</td>\n      <td>lab+30.0</td>\n      <td>30.0</td>\n      <td>NaN</td>\n      <td>1.0</td>\n      <td>45</td>\n    </tr>\n    <tr>\n      <th>4789</th>\n      <td>2001-05-14</td>\n      <td>2001-05-15</td>\n      <td>Gallup</td>\n      <td>The Daily Telegraph</td>\n      <td>NaN</td>\n      <td>1004</td>\n      <td>32.0</td>\n      <td>48.0</td>\n      <td>13.0</td>\n      <td>NaN</td>\n      <td>...</td>\n      <td>NaN</td>\n      <td>NaN</td>\n      <td>NaN</td>\n      <td>NaN</td>\n      <td>7.0</td>\n      <td>lab+16.0</td>\n      <td>16.0</td>\n      <td>NaN</td>\n      <td>1.0</td>\n      <td>45</td>\n    </tr>\n    <tr>\n      <th>...</th>\n      <td>...</td>\n      <td>...</td>\n      <td>...</td>\n      <td>...</td>\n      <td>...</td>\n      <td>...</td>\n      <td>...</td>\n      <td>...</td>\n      <td>...</td>\n      <td>...</td>\n      <td>...</td>\n      <td>...</td>\n      <td>...</td>\n      <td>...</td>\n      <td>...</td>\n      <td>...</td>\n      <td>...</td>\n      <td>...</td>\n      <td>...</td>\n      <td>...</td>\n      <td>...</td>\n    </tr>\n    <tr>\n      <th>6583</th>\n      <td>1970-12-13</td>\n      <td>1970-12-13</td>\n      <td>Gallup</td>\n      <td>The Daily Telegraph</td>\n      <td>NaN</td>\n      <td>NaN</td>\n      <td>46.0</td>\n      <td>44.5</td>\n      <td>NaN</td>\n      <td>NaN</td>\n      <td>...</td>\n      <td>NaN</td>\n      <td>NaN</td>\n      <td>NaN</td>\n      <td>NaN</td>\n      <td>NaN</td>\n      <td>con+1.5</td>\n      <td>1.5</td>\n      <td>NaN</td>\n      <td>0.0</td>\n      <td>0</td>\n    </tr>\n    <tr>\n      <th>6584</th>\n      <td>1970-11-15</td>\n      <td>1970-11-15</td>\n      <td>Gallup</td>\n      <td>The Daily Telegraph</td>\n      <td>NaN</td>\n      <td>NaN</td>\n      <td>43.5</td>\n      <td>48.0</td>\n      <td>NaN</td>\n      <td>NaN</td>\n      <td>...</td>\n      <td>NaN</td>\n      <td>NaN</td>\n      <td>NaN</td>\n      <td>NaN</td>\n      <td>NaN</td>\n      <td>lab+4.5</td>\n      <td>4.5</td>\n      <td>NaN</td>\n      <td>0.0</td>\n      <td>0</td>\n    </tr>\n    <tr>\n      <th>6585</th>\n      <td>1970-10-18</td>\n      <td>1970-10-18</td>\n      <td>Gallup</td>\n      <td>The Daily Telegraph</td>\n      <td>NaN</td>\n      <td>NaN</td>\n      <td>46.5</td>\n      <td>46.5</td>\n      <td>NaN</td>\n      <td>NaN</td>\n      <td>...</td>\n      <td>NaN</td>\n      <td>NaN</td>\n      <td>NaN</td>\n      <td>NaN</td>\n      <td>NaN</td>\n      <td>Tie</td>\n      <td>0.0</td>\n      <td>NaN</td>\n      <td>0.0</td>\n      <td>0</td>\n    </tr>\n    <tr>\n      <th>6586</th>\n      <td>1970-09-13</td>\n      <td>1970-09-13</td>\n      <td>Gallup</td>\n      <td>The Daily Telegraph</td>\n      <td>NaN</td>\n      <td>NaN</td>\n      <td>46.5</td>\n      <td>44.0</td>\n      <td>NaN</td>\n      <td>NaN</td>\n      <td>...</td>\n      <td>NaN</td>\n      <td>NaN</td>\n      <td>NaN</td>\n      <td>NaN</td>\n      <td>NaN</td>\n      <td>con+2.5</td>\n      <td>2.5</td>\n      <td>NaN</td>\n      <td>0.0</td>\n      <td>0</td>\n    </tr>\n    <tr>\n      <th>6587</th>\n      <td>1970-08-16</td>\n      <td>1970-08-16</td>\n      <td>Gallup</td>\n      <td>The Daily Telegraph</td>\n      <td>NaN</td>\n      <td>NaN</td>\n      <td>47.0</td>\n      <td>43.5</td>\n      <td>NaN</td>\n      <td>NaN</td>\n      <td>...</td>\n      <td>NaN</td>\n      <td>NaN</td>\n      <td>NaN</td>\n      <td>NaN</td>\n      <td>NaN</td>\n      <td>con+3.5</td>\n      <td>3.5</td>\n      <td>NaN</td>\n      <td>0.0</td>\n      <td>0</td>\n    </tr>\n  </tbody>\n</table>\n<p>468 rows × 26 columns</p>\n</div>"
     },
     "execution_count": 19,
     "metadata": {},
     "output_type": "execute_result"
    }
   ],
   "source": [
    "all_polls[all_polls.pollster == 'Gallup']"
   ],
   "metadata": {
    "collapsed": false,
    "ExecuteTime": {
     "end_time": "2024-05-29T10:47:16.932092800Z",
     "start_time": "2024-05-29T10:47:16.812964900Z"
    }
   }
  },
  {
   "cell_type": "code",
   "execution_count": 19,
   "outputs": [],
   "source": [],
   "metadata": {
    "collapsed": false,
    "ExecuteTime": {
     "end_time": "2024-05-29T10:47:16.932092800Z",
     "start_time": "2024-05-29T10:47:16.898093400Z"
    }
   }
  },
  {
   "cell_type": "code",
   "execution_count": 20,
   "metadata": {
    "ExecuteTime": {
     "end_time": "2024-05-29T10:47:19.751050400Z",
     "start_time": "2024-05-29T10:47:16.901561400Z"
    }
   },
   "outputs": [],
   "source": [
    "all_polls.to_csv('poll_database/poll_database.csv', index=False)\n",
    "all_polls.to_excel('poll_database/poll_database.xlsx', index=False)\n",
    "all_polls.to_json('poll_database/poll_database.json', index=False, orient='split')"
   ]
  },
  {
   "cell_type": "code",
   "execution_count": 21,
   "metadata": {
    "ExecuteTime": {
     "end_time": "2024-05-29T10:47:19.827794500Z",
     "start_time": "2024-05-29T10:47:19.751550700Z"
    }
   },
   "outputs": [],
   "source": [
    "display_columns = ['date_started', 'date_concluded', 'pollster', 'conservative', 'labour', 'liberal_democrat', 'lead']"
   ]
  },
  {
   "cell_type": "code",
   "execution_count": 22,
   "metadata": {
    "ExecuteTime": {
     "end_time": "2024-05-29T10:47:19.912975600Z",
     "start_time": "2024-05-29T10:47:19.816766700Z"
    }
   },
   "outputs": [],
   "source": [
    "all_polls['anti_conservative'] = all_polls[\n",
    "    ['labour', 'liberal_democrat', 'green', 'scottish_national_party', 'plaid_cymru']].fillna(0).sum(axis=1)"
   ]
  },
  {
   "cell_type": "code",
   "execution_count": 23,
   "outputs": [
    {
     "data": {
      "text/plain": "     date_started date_concluded                      pollster  \\\n0      2024-05-26     2024-05-28                        YouGov   \n1      2024-05-25     2024-05-27  Redfield & Wilton Strategies   \n2      2024-05-24     2024-05-27                     Survation   \n3      2024-05-23     2024-05-25                     Deltapoll   \n4      2024-05-24     2024-05-25                   JL Partners   \n...           ...            ...                           ...   \n6584   1970-11-15     1970-11-15                        Gallup   \n6585   1970-10-18     1970-10-18                        Gallup   \n6586   1970-09-13     1970-09-13                        Gallup   \n6587   1970-08-16     1970-08-16                        Gallup   \n6588   1970-06-18     1970-06-18              General Election   \n\n                     client area sample_size  conservative  labour  \\\n0                  Sky News   GB        2128          20.0    47.0   \n1                       NaN   GB       12000          23.0    46.0   \n2                       NaN   UK        2040          24.0    47.0   \n3            Mail on Sunday   GB        1517          23.0    45.0   \n4      The Rest is Politics   GB        2013          28.0    40.0   \n...                     ...  ...         ...           ...     ...   \n6584    The Daily Telegraph  NaN         NaN          43.5    48.0   \n6585    The Daily Telegraph  NaN         NaN          46.5    46.5   \n6586    The Daily Telegraph  NaN         NaN          46.5    44.0   \n6587    The Daily Telegraph  NaN         NaN          47.0    43.5   \n6588  1970 general election  NaN         NaN          46.4    43.1   \n\n      liberal_democrat  green  ...  social_democratic_party  \\\n0                  9.0    7.0  ...                      NaN   \n1                  9.0    5.0  ...                      NaN   \n2                 11.0    3.0  ...                      NaN   \n3                  9.0    6.0  ...                      NaN   \n4                 10.0    5.0  ...                      NaN   \n...                ...    ...  ...                      ...   \n6584               NaN    NaN  ...                      NaN   \n6585               NaN    NaN  ...                      NaN   \n6586               NaN    NaN  ...                      NaN   \n6587               NaN    NaN  ...                      NaN   \n6588               NaN    NaN  ...                      NaN   \n\n      united_kingdom_independence_party  reclaim_party  others      lead  \\\n0                                   NaN            NaN     2.0  lab+27.0   \n1                                   NaN            NaN     1.0  lab+23.0   \n2                                   0.0            NaN     3.0  lab+23.0   \n3                                   NaN            NaN     2.0  lab+22.0   \n4                                   NaN            NaN     1.0  lab+12.0   \n...                                 ...            ...     ...       ...   \n6584                                NaN            NaN     NaN   lab+4.5   \n6585                                NaN            NaN     NaN       Tie   \n6586                                NaN            NaN     NaN   con+2.5   \n6587                                NaN            NaN     NaN   con+3.5   \n6588                                NaN            NaN     NaN   con+3.3   \n\n      lead_value  conservative_reform_gap  dd_lead  dd_lead_in_row  \\\n0           27.0                      8.0      1.0             701   \n1           23.0                     10.0      1.0             701   \n2           23.0                     16.0      1.0             701   \n3           22.0                     13.0      1.0             701   \n4           12.0                     16.0      1.0             701   \n...          ...                      ...      ...             ...   \n6584         4.5                      NaN      0.0               0   \n6585         0.0                      NaN      0.0               0   \n6586         2.5                      NaN      0.0               0   \n6587         3.5                      NaN      0.0               0   \n6588         3.3                      NaN      0.0               0   \n\n      anti_conservative  \n0                  66.0  \n1                  64.0  \n2                  65.0  \n3                  64.0  \n4                  59.0  \n...                 ...  \n6584               48.0  \n6585               46.5  \n6586               44.0  \n6587               43.5  \n6588               43.1  \n\n[6589 rows x 27 columns]",
      "text/html": "<div>\n<style scoped>\n    .dataframe tbody tr th:only-of-type {\n        vertical-align: middle;\n    }\n\n    .dataframe tbody tr th {\n        vertical-align: top;\n    }\n\n    .dataframe thead th {\n        text-align: right;\n    }\n</style>\n<table border=\"1\" class=\"dataframe\">\n  <thead>\n    <tr style=\"text-align: right;\">\n      <th></th>\n      <th>date_started</th>\n      <th>date_concluded</th>\n      <th>pollster</th>\n      <th>client</th>\n      <th>area</th>\n      <th>sample_size</th>\n      <th>conservative</th>\n      <th>labour</th>\n      <th>liberal_democrat</th>\n      <th>green</th>\n      <th>...</th>\n      <th>social_democratic_party</th>\n      <th>united_kingdom_independence_party</th>\n      <th>reclaim_party</th>\n      <th>others</th>\n      <th>lead</th>\n      <th>lead_value</th>\n      <th>conservative_reform_gap</th>\n      <th>dd_lead</th>\n      <th>dd_lead_in_row</th>\n      <th>anti_conservative</th>\n    </tr>\n  </thead>\n  <tbody>\n    <tr>\n      <th>0</th>\n      <td>2024-05-26</td>\n      <td>2024-05-28</td>\n      <td>YouGov</td>\n      <td>Sky News</td>\n      <td>GB</td>\n      <td>2128</td>\n      <td>20.0</td>\n      <td>47.0</td>\n      <td>9.0</td>\n      <td>7.0</td>\n      <td>...</td>\n      <td>NaN</td>\n      <td>NaN</td>\n      <td>NaN</td>\n      <td>2.0</td>\n      <td>lab+27.0</td>\n      <td>27.0</td>\n      <td>8.0</td>\n      <td>1.0</td>\n      <td>701</td>\n      <td>66.0</td>\n    </tr>\n    <tr>\n      <th>1</th>\n      <td>2024-05-25</td>\n      <td>2024-05-27</td>\n      <td>Redfield &amp; Wilton Strategies</td>\n      <td>NaN</td>\n      <td>GB</td>\n      <td>12000</td>\n      <td>23.0</td>\n      <td>46.0</td>\n      <td>9.0</td>\n      <td>5.0</td>\n      <td>...</td>\n      <td>NaN</td>\n      <td>NaN</td>\n      <td>NaN</td>\n      <td>1.0</td>\n      <td>lab+23.0</td>\n      <td>23.0</td>\n      <td>10.0</td>\n      <td>1.0</td>\n      <td>701</td>\n      <td>64.0</td>\n    </tr>\n    <tr>\n      <th>2</th>\n      <td>2024-05-24</td>\n      <td>2024-05-27</td>\n      <td>Survation</td>\n      <td>NaN</td>\n      <td>UK</td>\n      <td>2040</td>\n      <td>24.0</td>\n      <td>47.0</td>\n      <td>11.0</td>\n      <td>3.0</td>\n      <td>...</td>\n      <td>NaN</td>\n      <td>0.0</td>\n      <td>NaN</td>\n      <td>3.0</td>\n      <td>lab+23.0</td>\n      <td>23.0</td>\n      <td>16.0</td>\n      <td>1.0</td>\n      <td>701</td>\n      <td>65.0</td>\n    </tr>\n    <tr>\n      <th>3</th>\n      <td>2024-05-23</td>\n      <td>2024-05-25</td>\n      <td>Deltapoll</td>\n      <td>Mail on Sunday</td>\n      <td>GB</td>\n      <td>1517</td>\n      <td>23.0</td>\n      <td>45.0</td>\n      <td>9.0</td>\n      <td>6.0</td>\n      <td>...</td>\n      <td>NaN</td>\n      <td>NaN</td>\n      <td>NaN</td>\n      <td>2.0</td>\n      <td>lab+22.0</td>\n      <td>22.0</td>\n      <td>13.0</td>\n      <td>1.0</td>\n      <td>701</td>\n      <td>64.0</td>\n    </tr>\n    <tr>\n      <th>4</th>\n      <td>2024-05-24</td>\n      <td>2024-05-25</td>\n      <td>JL Partners</td>\n      <td>The Rest is Politics</td>\n      <td>GB</td>\n      <td>2013</td>\n      <td>28.0</td>\n      <td>40.0</td>\n      <td>10.0</td>\n      <td>5.0</td>\n      <td>...</td>\n      <td>NaN</td>\n      <td>NaN</td>\n      <td>NaN</td>\n      <td>1.0</td>\n      <td>lab+12.0</td>\n      <td>12.0</td>\n      <td>16.0</td>\n      <td>1.0</td>\n      <td>701</td>\n      <td>59.0</td>\n    </tr>\n    <tr>\n      <th>...</th>\n      <td>...</td>\n      <td>...</td>\n      <td>...</td>\n      <td>...</td>\n      <td>...</td>\n      <td>...</td>\n      <td>...</td>\n      <td>...</td>\n      <td>...</td>\n      <td>...</td>\n      <td>...</td>\n      <td>...</td>\n      <td>...</td>\n      <td>...</td>\n      <td>...</td>\n      <td>...</td>\n      <td>...</td>\n      <td>...</td>\n      <td>...</td>\n      <td>...</td>\n      <td>...</td>\n    </tr>\n    <tr>\n      <th>6584</th>\n      <td>1970-11-15</td>\n      <td>1970-11-15</td>\n      <td>Gallup</td>\n      <td>The Daily Telegraph</td>\n      <td>NaN</td>\n      <td>NaN</td>\n      <td>43.5</td>\n      <td>48.0</td>\n      <td>NaN</td>\n      <td>NaN</td>\n      <td>...</td>\n      <td>NaN</td>\n      <td>NaN</td>\n      <td>NaN</td>\n      <td>NaN</td>\n      <td>lab+4.5</td>\n      <td>4.5</td>\n      <td>NaN</td>\n      <td>0.0</td>\n      <td>0</td>\n      <td>48.0</td>\n    </tr>\n    <tr>\n      <th>6585</th>\n      <td>1970-10-18</td>\n      <td>1970-10-18</td>\n      <td>Gallup</td>\n      <td>The Daily Telegraph</td>\n      <td>NaN</td>\n      <td>NaN</td>\n      <td>46.5</td>\n      <td>46.5</td>\n      <td>NaN</td>\n      <td>NaN</td>\n      <td>...</td>\n      <td>NaN</td>\n      <td>NaN</td>\n      <td>NaN</td>\n      <td>NaN</td>\n      <td>Tie</td>\n      <td>0.0</td>\n      <td>NaN</td>\n      <td>0.0</td>\n      <td>0</td>\n      <td>46.5</td>\n    </tr>\n    <tr>\n      <th>6586</th>\n      <td>1970-09-13</td>\n      <td>1970-09-13</td>\n      <td>Gallup</td>\n      <td>The Daily Telegraph</td>\n      <td>NaN</td>\n      <td>NaN</td>\n      <td>46.5</td>\n      <td>44.0</td>\n      <td>NaN</td>\n      <td>NaN</td>\n      <td>...</td>\n      <td>NaN</td>\n      <td>NaN</td>\n      <td>NaN</td>\n      <td>NaN</td>\n      <td>con+2.5</td>\n      <td>2.5</td>\n      <td>NaN</td>\n      <td>0.0</td>\n      <td>0</td>\n      <td>44.0</td>\n    </tr>\n    <tr>\n      <th>6587</th>\n      <td>1970-08-16</td>\n      <td>1970-08-16</td>\n      <td>Gallup</td>\n      <td>The Daily Telegraph</td>\n      <td>NaN</td>\n      <td>NaN</td>\n      <td>47.0</td>\n      <td>43.5</td>\n      <td>NaN</td>\n      <td>NaN</td>\n      <td>...</td>\n      <td>NaN</td>\n      <td>NaN</td>\n      <td>NaN</td>\n      <td>NaN</td>\n      <td>con+3.5</td>\n      <td>3.5</td>\n      <td>NaN</td>\n      <td>0.0</td>\n      <td>0</td>\n      <td>43.5</td>\n    </tr>\n    <tr>\n      <th>6588</th>\n      <td>1970-06-18</td>\n      <td>1970-06-18</td>\n      <td>General Election</td>\n      <td>1970 general election</td>\n      <td>NaN</td>\n      <td>NaN</td>\n      <td>46.4</td>\n      <td>43.1</td>\n      <td>NaN</td>\n      <td>NaN</td>\n      <td>...</td>\n      <td>NaN</td>\n      <td>NaN</td>\n      <td>NaN</td>\n      <td>NaN</td>\n      <td>con+3.3</td>\n      <td>3.3</td>\n      <td>NaN</td>\n      <td>0.0</td>\n      <td>0</td>\n      <td>43.1</td>\n    </tr>\n  </tbody>\n</table>\n<p>6589 rows × 27 columns</p>\n</div>"
     },
     "execution_count": 23,
     "metadata": {},
     "output_type": "execute_result"
    }
   ],
   "source": [
    "all_polls"
   ],
   "metadata": {
    "collapsed": false,
    "ExecuteTime": {
     "end_time": "2024-05-29T10:47:20.011285500Z",
     "start_time": "2024-05-29T10:47:19.887913200Z"
    }
   }
  },
  {
   "cell_type": "code",
   "execution_count": 24,
   "metadata": {
    "ExecuteTime": {
     "end_time": "2024-05-29T10:47:20.317322200Z",
     "start_time": "2024-05-29T10:47:19.973166700Z"
    }
   },
   "outputs": [
    {
     "data": {
      "text/plain": "     date_started date_concluded             pollster  conservative  labour  \\\n23     2024-05-08     2024-05-14           Ipsos MORI          20.0    41.0   \n488    2023-03-16     2023-03-17        PeoplePolling          20.0    45.0   \n992    2021-10-29     2021-11-04           Ipsos MORI          35.0    36.0   \n1547   2019-05-28     2019-05-30              Opinium          17.0    22.0   \n2306   2015-01-16     2015-01-18  Lord Ashcroft Polls          29.0    28.0   \n\n      liberal_democrat      lead  green  \n23                11.0  lab+21.0   11.0  \n488                9.0  lab+25.0   13.0  \n992                9.0   lab+1.0   11.0  \n1547              16.0   bre+4.0   11.0  \n2306               9.0   con+1.0   11.0  ",
      "text/html": "<div>\n<style scoped>\n    .dataframe tbody tr th:only-of-type {\n        vertical-align: middle;\n    }\n\n    .dataframe tbody tr th {\n        vertical-align: top;\n    }\n\n    .dataframe thead th {\n        text-align: right;\n    }\n</style>\n<table border=\"1\" class=\"dataframe\">\n  <thead>\n    <tr style=\"text-align: right;\">\n      <th></th>\n      <th>date_started</th>\n      <th>date_concluded</th>\n      <th>pollster</th>\n      <th>conservative</th>\n      <th>labour</th>\n      <th>liberal_democrat</th>\n      <th>lead</th>\n      <th>green</th>\n    </tr>\n  </thead>\n  <tbody>\n    <tr>\n      <th>23</th>\n      <td>2024-05-08</td>\n      <td>2024-05-14</td>\n      <td>Ipsos MORI</td>\n      <td>20.0</td>\n      <td>41.0</td>\n      <td>11.0</td>\n      <td>lab+21.0</td>\n      <td>11.0</td>\n    </tr>\n    <tr>\n      <th>488</th>\n      <td>2023-03-16</td>\n      <td>2023-03-17</td>\n      <td>PeoplePolling</td>\n      <td>20.0</td>\n      <td>45.0</td>\n      <td>9.0</td>\n      <td>lab+25.0</td>\n      <td>13.0</td>\n    </tr>\n    <tr>\n      <th>992</th>\n      <td>2021-10-29</td>\n      <td>2021-11-04</td>\n      <td>Ipsos MORI</td>\n      <td>35.0</td>\n      <td>36.0</td>\n      <td>9.0</td>\n      <td>lab+1.0</td>\n      <td>11.0</td>\n    </tr>\n    <tr>\n      <th>1547</th>\n      <td>2019-05-28</td>\n      <td>2019-05-30</td>\n      <td>Opinium</td>\n      <td>17.0</td>\n      <td>22.0</td>\n      <td>16.0</td>\n      <td>bre+4.0</td>\n      <td>11.0</td>\n    </tr>\n    <tr>\n      <th>2306</th>\n      <td>2015-01-16</td>\n      <td>2015-01-18</td>\n      <td>Lord Ashcroft Polls</td>\n      <td>29.0</td>\n      <td>28.0</td>\n      <td>9.0</td>\n      <td>con+1.0</td>\n      <td>11.0</td>\n    </tr>\n  </tbody>\n</table>\n</div>"
     },
     "execution_count": 24,
     "metadata": {},
     "output_type": "execute_result"
    }
   ],
   "source": [
    "all_polls.query(\"green>=11\")[display_columns+['green']]"
   ]
  },
  {
   "cell_type": "code",
   "execution_count": 25,
   "metadata": {
    "ExecuteTime": {
     "end_time": "2024-05-29T10:47:20.318828700Z",
     "start_time": "2024-05-29T10:47:20.052832600Z"
    }
   },
   "outputs": [
    {
     "data": {
      "text/plain": "     date_started date_concluded          pollster  conservative  labour  \\\n10     2024-05-21     2024-05-22         Survation          27.0    48.0   \n191    2023-12-15     2023-12-18         Survation          28.0    45.0   \n268    2023-10-13     2023-10-15           Savanta          29.0    45.0   \n485    2023-03-17     2023-03-20         Survation          31.0    46.0   \n494    2023-03-13     2023-03-15         Survation          32.0    48.0   \n...           ...            ...               ...           ...     ...   \n4054   2010-06-10     2010-06-11            YouGov          40.0    32.0   \n4058   2010-05-21     2010-05-23      ICM Research          39.0    32.0   \n4060   2010-05-20     2010-05-21            YouGov          39.0    32.0   \n4062   2010-05-12     2010-05-13      ICM Research          38.0    33.0   \n4065   2010-05-06     2010-05-06  General Election          36.9    29.7   \n\n      liberal_democrat      lead  green  \n10                 8.0  lab+21.0    2.0  \n191               10.0  lab+17.0    2.0  \n268               10.0  lab+16.0    2.0  \n485                8.0  lab+15.0    2.0  \n494                8.0  lab+16.0    2.0  \n...                ...       ...    ...  \n4054              18.0   con+8.0    1.0  \n4058              21.0   con+7.0    1.0  \n4060              21.0   con+7.0    1.0  \n4062              21.0   con+5.0    2.0  \n4065              23.6   con+7.2    1.0  \n\n[1015 rows x 8 columns]",
      "text/html": "<div>\n<style scoped>\n    .dataframe tbody tr th:only-of-type {\n        vertical-align: middle;\n    }\n\n    .dataframe tbody tr th {\n        vertical-align: top;\n    }\n\n    .dataframe thead th {\n        text-align: right;\n    }\n</style>\n<table border=\"1\" class=\"dataframe\">\n  <thead>\n    <tr style=\"text-align: right;\">\n      <th></th>\n      <th>date_started</th>\n      <th>date_concluded</th>\n      <th>pollster</th>\n      <th>conservative</th>\n      <th>labour</th>\n      <th>liberal_democrat</th>\n      <th>lead</th>\n      <th>green</th>\n    </tr>\n  </thead>\n  <tbody>\n    <tr>\n      <th>10</th>\n      <td>2024-05-21</td>\n      <td>2024-05-22</td>\n      <td>Survation</td>\n      <td>27.0</td>\n      <td>48.0</td>\n      <td>8.0</td>\n      <td>lab+21.0</td>\n      <td>2.0</td>\n    </tr>\n    <tr>\n      <th>191</th>\n      <td>2023-12-15</td>\n      <td>2023-12-18</td>\n      <td>Survation</td>\n      <td>28.0</td>\n      <td>45.0</td>\n      <td>10.0</td>\n      <td>lab+17.0</td>\n      <td>2.0</td>\n    </tr>\n    <tr>\n      <th>268</th>\n      <td>2023-10-13</td>\n      <td>2023-10-15</td>\n      <td>Savanta</td>\n      <td>29.0</td>\n      <td>45.0</td>\n      <td>10.0</td>\n      <td>lab+16.0</td>\n      <td>2.0</td>\n    </tr>\n    <tr>\n      <th>485</th>\n      <td>2023-03-17</td>\n      <td>2023-03-20</td>\n      <td>Survation</td>\n      <td>31.0</td>\n      <td>46.0</td>\n      <td>8.0</td>\n      <td>lab+15.0</td>\n      <td>2.0</td>\n    </tr>\n    <tr>\n      <th>494</th>\n      <td>2023-03-13</td>\n      <td>2023-03-15</td>\n      <td>Survation</td>\n      <td>32.0</td>\n      <td>48.0</td>\n      <td>8.0</td>\n      <td>lab+16.0</td>\n      <td>2.0</td>\n    </tr>\n    <tr>\n      <th>...</th>\n      <td>...</td>\n      <td>...</td>\n      <td>...</td>\n      <td>...</td>\n      <td>...</td>\n      <td>...</td>\n      <td>...</td>\n      <td>...</td>\n    </tr>\n    <tr>\n      <th>4054</th>\n      <td>2010-06-10</td>\n      <td>2010-06-11</td>\n      <td>YouGov</td>\n      <td>40.0</td>\n      <td>32.0</td>\n      <td>18.0</td>\n      <td>con+8.0</td>\n      <td>1.0</td>\n    </tr>\n    <tr>\n      <th>4058</th>\n      <td>2010-05-21</td>\n      <td>2010-05-23</td>\n      <td>ICM Research</td>\n      <td>39.0</td>\n      <td>32.0</td>\n      <td>21.0</td>\n      <td>con+7.0</td>\n      <td>1.0</td>\n    </tr>\n    <tr>\n      <th>4060</th>\n      <td>2010-05-20</td>\n      <td>2010-05-21</td>\n      <td>YouGov</td>\n      <td>39.0</td>\n      <td>32.0</td>\n      <td>21.0</td>\n      <td>con+7.0</td>\n      <td>1.0</td>\n    </tr>\n    <tr>\n      <th>4062</th>\n      <td>2010-05-12</td>\n      <td>2010-05-13</td>\n      <td>ICM Research</td>\n      <td>38.0</td>\n      <td>33.0</td>\n      <td>21.0</td>\n      <td>con+5.0</td>\n      <td>2.0</td>\n    </tr>\n    <tr>\n      <th>4065</th>\n      <td>2010-05-06</td>\n      <td>2010-05-06</td>\n      <td>General Election</td>\n      <td>36.9</td>\n      <td>29.7</td>\n      <td>23.6</td>\n      <td>con+7.2</td>\n      <td>1.0</td>\n    </tr>\n  </tbody>\n</table>\n<p>1015 rows × 8 columns</p>\n</div>"
     },
     "execution_count": 25,
     "metadata": {},
     "output_type": "execute_result"
    }
   ],
   "source": [
    "all_polls.query(\"green<3\")[display_columns+['green']]"
   ]
  },
  {
   "cell_type": "code",
   "execution_count": 26,
   "metadata": {
    "ExecuteTime": {
     "end_time": "2024-05-29T10:47:20.319334200Z",
     "start_time": "2024-05-29T10:47:20.131588100Z"
    }
   },
   "outputs": [
    {
     "data": {
      "text/plain": "    date_started date_concluded   pollster  conservative  labour  \\\n565   2023-01-17     2023-01-18  FocalData          24.0    49.0   \n\n     liberal_democrat      lead  \n565               9.0  lab+25.0  ",
      "text/html": "<div>\n<style scoped>\n    .dataframe tbody tr th:only-of-type {\n        vertical-align: middle;\n    }\n\n    .dataframe tbody tr th {\n        vertical-align: top;\n    }\n\n    .dataframe thead th {\n        text-align: right;\n    }\n</style>\n<table border=\"1\" class=\"dataframe\">\n  <thead>\n    <tr style=\"text-align: right;\">\n      <th></th>\n      <th>date_started</th>\n      <th>date_concluded</th>\n      <th>pollster</th>\n      <th>conservative</th>\n      <th>labour</th>\n      <th>liberal_democrat</th>\n      <th>lead</th>\n    </tr>\n  </thead>\n  <tbody>\n    <tr>\n      <th>565</th>\n      <td>2023-01-17</td>\n      <td>2023-01-18</td>\n      <td>FocalData</td>\n      <td>24.0</td>\n      <td>49.0</td>\n      <td>9.0</td>\n      <td>lab+25.0</td>\n    </tr>\n  </tbody>\n</table>\n</div>"
     },
     "execution_count": 26,
     "metadata": {},
     "output_type": "execute_result"
    }
   ],
   "source": [
    "all_polls.query('client == \"Sam Freedman\"')[display_columns]"
   ]
  },
  {
   "cell_type": "code",
   "execution_count": 27,
   "metadata": {
    "ExecuteTime": {
     "end_time": "2024-05-29T10:47:20.355390200Z",
     "start_time": "2024-05-29T10:47:20.199657800Z"
    }
   },
   "outputs": [
    {
     "data": {
      "text/plain": "     date_started date_concluded    pollster  conservative  labour  \\\n4406   2008-09-12     2008-09-14  Ipsos MORI          52.0    24.0   \n4441   2008-05-07     2008-05-08      YouGov          49.0    23.0   \n\n      liberal_democrat      lead  \n4406               NaN  con+28.0  \n4441              17.0  con+26.0  ",
      "text/html": "<div>\n<style scoped>\n    .dataframe tbody tr th:only-of-type {\n        vertical-align: middle;\n    }\n\n    .dataframe tbody tr th {\n        vertical-align: top;\n    }\n\n    .dataframe thead th {\n        text-align: right;\n    }\n</style>\n<table border=\"1\" class=\"dataframe\">\n  <thead>\n    <tr style=\"text-align: right;\">\n      <th></th>\n      <th>date_started</th>\n      <th>date_concluded</th>\n      <th>pollster</th>\n      <th>conservative</th>\n      <th>labour</th>\n      <th>liberal_democrat</th>\n      <th>lead</th>\n    </tr>\n  </thead>\n  <tbody>\n    <tr>\n      <th>4406</th>\n      <td>2008-09-12</td>\n      <td>2008-09-14</td>\n      <td>Ipsos MORI</td>\n      <td>52.0</td>\n      <td>24.0</td>\n      <td>NaN</td>\n      <td>con+28.0</td>\n    </tr>\n    <tr>\n      <th>4441</th>\n      <td>2008-05-07</td>\n      <td>2008-05-08</td>\n      <td>YouGov</td>\n      <td>49.0</td>\n      <td>23.0</td>\n      <td>17.0</td>\n      <td>con+26.0</td>\n    </tr>\n  </tbody>\n</table>\n</div>"
     },
     "execution_count": 27,
     "metadata": {},
     "output_type": "execute_result"
    }
   ],
   "source": [
    "all_polls.query('date_concluded <= \"2010-05-06\" and date_concluded >= \"2005-05-05\" and lead_value >= 25')[display_columns]"
   ]
  },
  {
   "cell_type": "code",
   "execution_count": 28,
   "metadata": {
    "ExecuteTime": {
     "end_time": "2024-05-29T10:47:20.706572700Z",
     "start_time": "2024-05-29T10:47:20.276280600Z"
    }
   },
   "outputs": [
    {
     "data": {
      "text/plain": "     date_started date_concluded            pollster  conservative  labour  \\\n4319   2009-06-10     2009-06-17  Harris Interactive          35.0    20.0   \n4327   2009-05-29     2009-05-31          Ipsos MORI          40.0    18.0   \n\n      liberal_democrat      lead  \n4319              16.0  con+15.0  \n4327              18.0  con+22.0  ",
      "text/html": "<div>\n<style scoped>\n    .dataframe tbody tr th:only-of-type {\n        vertical-align: middle;\n    }\n\n    .dataframe tbody tr th {\n        vertical-align: top;\n    }\n\n    .dataframe thead th {\n        text-align: right;\n    }\n</style>\n<table border=\"1\" class=\"dataframe\">\n  <thead>\n    <tr style=\"text-align: right;\">\n      <th></th>\n      <th>date_started</th>\n      <th>date_concluded</th>\n      <th>pollster</th>\n      <th>conservative</th>\n      <th>labour</th>\n      <th>liberal_democrat</th>\n      <th>lead</th>\n    </tr>\n  </thead>\n  <tbody>\n    <tr>\n      <th>4319</th>\n      <td>2009-06-10</td>\n      <td>2009-06-17</td>\n      <td>Harris Interactive</td>\n      <td>35.0</td>\n      <td>20.0</td>\n      <td>16.0</td>\n      <td>con+15.0</td>\n    </tr>\n    <tr>\n      <th>4327</th>\n      <td>2009-05-29</td>\n      <td>2009-05-31</td>\n      <td>Ipsos MORI</td>\n      <td>40.0</td>\n      <td>18.0</td>\n      <td>18.0</td>\n      <td>con+22.0</td>\n    </tr>\n  </tbody>\n</table>\n</div>"
     },
     "execution_count": 28,
     "metadata": {},
     "output_type": "execute_result"
    }
   ],
   "source": [
    "all_polls.query('date_concluded <= \"2010-05-06\" and date_concluded >= \"2005-05-05\" and labour <= 20')[display_columns]"
   ]
  },
  {
   "cell_type": "code",
   "execution_count": 29,
   "metadata": {
    "ExecuteTime": {
     "end_time": "2024-05-29T10:47:20.783225600Z",
     "start_time": "2024-05-29T10:47:20.347369600Z"
    }
   },
   "outputs": [
    {
     "data": {
      "text/plain": "     date_started date_concluded               pollster  conservative  labour  \\\n4109   2010-04-19     2010-04-20                 YouGov          31.0    26.0   \n4110   2010-04-19     2010-04-20  Angus Reid Strategies          32.0    23.0   \n4113   2010-04-18     2010-04-20             Ipsos MORI          32.0    28.0   \n4117   2010-04-16     2010-04-19  Angus Reid Strategies          32.0    24.0   \n4121   2010-04-17     2010-04-18                 YouGov          32.0    26.0   \n\n      liberal_democrat     lead  \n4109              34.0  lib+3.0  \n4110              33.0  lib+1.0  \n4113              32.0      Tie  \n4117              32.0      Tie  \n4121              33.0  lib+1.0  ",
      "text/html": "<div>\n<style scoped>\n    .dataframe tbody tr th:only-of-type {\n        vertical-align: middle;\n    }\n\n    .dataframe tbody tr th {\n        vertical-align: top;\n    }\n\n    .dataframe thead th {\n        text-align: right;\n    }\n</style>\n<table border=\"1\" class=\"dataframe\">\n  <thead>\n    <tr style=\"text-align: right;\">\n      <th></th>\n      <th>date_started</th>\n      <th>date_concluded</th>\n      <th>pollster</th>\n      <th>conservative</th>\n      <th>labour</th>\n      <th>liberal_democrat</th>\n      <th>lead</th>\n    </tr>\n  </thead>\n  <tbody>\n    <tr>\n      <th>4109</th>\n      <td>2010-04-19</td>\n      <td>2010-04-20</td>\n      <td>YouGov</td>\n      <td>31.0</td>\n      <td>26.0</td>\n      <td>34.0</td>\n      <td>lib+3.0</td>\n    </tr>\n    <tr>\n      <th>4110</th>\n      <td>2010-04-19</td>\n      <td>2010-04-20</td>\n      <td>Angus Reid Strategies</td>\n      <td>32.0</td>\n      <td>23.0</td>\n      <td>33.0</td>\n      <td>lib+1.0</td>\n    </tr>\n    <tr>\n      <th>4113</th>\n      <td>2010-04-18</td>\n      <td>2010-04-20</td>\n      <td>Ipsos MORI</td>\n      <td>32.0</td>\n      <td>28.0</td>\n      <td>32.0</td>\n      <td>Tie</td>\n    </tr>\n    <tr>\n      <th>4117</th>\n      <td>2010-04-16</td>\n      <td>2010-04-19</td>\n      <td>Angus Reid Strategies</td>\n      <td>32.0</td>\n      <td>24.0</td>\n      <td>32.0</td>\n      <td>Tie</td>\n    </tr>\n    <tr>\n      <th>4121</th>\n      <td>2010-04-17</td>\n      <td>2010-04-18</td>\n      <td>YouGov</td>\n      <td>32.0</td>\n      <td>26.0</td>\n      <td>33.0</td>\n      <td>lib+1.0</td>\n    </tr>\n  </tbody>\n</table>\n</div>"
     },
     "execution_count": 29,
     "metadata": {},
     "output_type": "execute_result"
    }
   ],
   "source": [
    "all_polls.query('date_concluded <= \"2010-05-06\" and date_concluded >= \"2005-05-05\" and liberal_democrat >= 32')[display_columns]"
   ]
  },
  {
   "cell_type": "code",
   "execution_count": 29,
   "metadata": {
    "ExecuteTime": {
     "end_time": "2024-05-29T10:47:20.783225600Z",
     "start_time": "2024-05-29T10:47:20.424601200Z"
    }
   },
   "outputs": [],
   "source": []
  },
  {
   "cell_type": "code",
   "execution_count": 30,
   "metadata": {
    "ExecuteTime": {
     "end_time": "2024-05-29T10:47:20.784735300Z",
     "start_time": "2024-05-29T10:47:20.427105700Z"
    }
   },
   "outputs": [
    {
     "data": {
      "text/plain": "     date_started date_concluded               pollster  conservative  labour  \\\n666    2022-10-20     2022-10-20          PeoplePolling          14.0    53.0   \n1525   2019-07-23     2019-07-24                 YouGov          25.0    19.0   \n1535   2019-06-24     2019-06-25                 YouGov          22.0    20.0   \n1539   2019-06-18     2019-06-19                 YouGov          20.0    20.0   \n1540   2019-06-13     2019-06-14                 YouGov          21.0    21.0   \n1541   2019-06-09     2019-06-10                 YouGov          17.0    19.0   \n1544   2019-06-05     2019-06-06                 YouGov          18.0    20.0   \n1545   2019-06-04     2019-06-05                 YouGov          18.0    19.0   \n1546   2019-05-31     2019-06-01                 YouGov          18.0    19.0   \n1547   2019-05-28     2019-05-30                Opinium          17.0    22.0   \n1549   2019-05-28     2019-05-29                 YouGov          19.0    19.0   \n4089   2010-04-27     2010-04-28                 YouGov          34.0    27.0   \n4097   2010-04-23     2010-04-26  Angus Reid Strategies          33.0    23.0   \n4098   2010-04-20     2010-04-26     Harris Interactive          32.0    25.0   \n4099   2010-04-24     2010-04-25                Savanta          32.0    28.0   \n4100   2010-04-23     2010-04-25           ICM Research          33.0    28.0   \n4108   2010-04-20     2010-04-21                 YouGov          33.0    27.0   \n4109   2010-04-19     2010-04-20                 YouGov          31.0    26.0   \n4110   2010-04-19     2010-04-20  Angus Reid Strategies          32.0    23.0   \n4112   2010-04-19     2010-04-20                Populus          32.0    28.0   \n4113   2010-04-18     2010-04-20             Ipsos MORI          32.0    28.0   \n4115   2010-04-16     2010-04-19                Opinium          32.0    26.0   \n4116   2010-04-14     2010-04-19     Harris Interactive          31.0    26.0   \n4117   2010-04-16     2010-04-19  Angus Reid Strategies          32.0    24.0   \n4118   2010-04-18     2010-04-19                 YouGov          33.0    27.0   \n4121   2010-04-17     2010-04-18                 YouGov          32.0    26.0   \n4122   2010-04-16     2010-04-18           ICM Research          33.0    28.0   \n4124   2010-04-16     2010-04-17                Savanta          31.0    27.0   \n4125   2010-04-15     2010-04-16                 YouGov          33.0    28.0   \n4660   2005-07-14     2005-07-18             Ipsos MORI          28.0    41.0   \n4723   2003-10-03     2003-10-05                Populus          28.0    36.0   \n4724   2003-09-23     2003-09-25                 YouGov          32.0    31.0   \n4725   2003-09-19     2003-09-21           ICM Research          30.0    35.0   \n5210   1994-07-18     1994-07-18             Ipsos MORI          23.0    51.0   \n5215   1994-06-06     1994-06-06             Ipsos MORI          23.0    50.0   \n5217   1994-05-31     1994-05-31             Ipsos MORI          22.0    46.0   \n5218   1994-05-30     1994-05-30                 Gallup          21.0    54.0   \n5221   1994-05-17     1994-05-17           ICM Research          26.0    48.0   \n5223   1994-05-09     1994-05-09                 Gallup          24.5    45.5   \n5225   1994-04-25     1994-04-25             Ipsos MORI          26.0    47.0   \n5236   1994-01-31     1994-01-31                 Gallup          26.0    45.5   \n5242   1993-12-14     1993-12-14           ICM Research          26.0    48.0   \n5249   1993-11-01     1993-11-01                 Gallup          24.0    46.5   \n5253   1993-09-27     1993-09-27                 Gallup          23.0    44.5   \n5254   1993-09-24     1993-09-24           ICM Research          27.0    41.0   \n5255   1993-09-21     1993-09-21                 Gallup          23.5    44.0   \n5257   1993-09-11     1993-09-11           ICM Research          29.0    40.0   \n5258   1993-09-06     1993-09-06                 Gallup          25.5    46.5   \n5259   1993-08-23     1993-08-23             Ipsos MORI          28.0    42.0   \n5260   1993-08-07     1993-08-07           ICM Research          30.0    36.0   \n5261   1993-08-01     1993-08-01                 Gallup          23.0    44.5   \n5262   1993-07-30     1993-07-30             Ipsos MORI          27.0    41.0   \n5263   1993-07-26     1993-07-26             Ipsos MORI          27.0    44.0   \n5265   1993-07-05     1993-07-05                 Gallup          24.5    43.0   \n5269   1993-06-11     1993-06-11                    NOP          27.0    42.0   \n5271   1993-05-31     1993-05-31                 Gallup          25.0    49.0   \n\n      liberal_democrat      lead  \n666               11.0  lab+39.0  \n1525              23.0   con+2.0  \n1535              19.0       Tie  \n1539              21.0   bre+2.0  \n1540              19.0   bre+3.0  \n1541              22.0   bre+4.0  \n1544              20.0   bre+6.0  \n1545              22.0   bre+3.0  \n1546              23.0       Tie  \n1547              16.0   bre+4.0  \n1549              24.0   lib+2.0  \n4089              31.0   con+3.0  \n4097              30.0   con+3.0  \n4098              30.0   con+2.0  \n4099              31.0   con+1.0  \n4100              30.0   con+3.0  \n4108              31.0   con+2.0  \n4109              34.0   lib+3.0  \n4110              33.0   lib+1.0  \n4112              31.0   con+1.0  \n4113              32.0       Tie  \n4115              29.0   con+3.0  \n4116              30.0   con+1.0  \n4117              32.0       Tie  \n4118              31.0   con+2.0  \n4121              33.0   lib+1.0  \n4122              30.0   con+3.0  \n4124              29.0   con+2.0  \n4125              30.0   con+3.0  \n4660              25.0  lab+13.0  \n4723              27.0   lab+8.0  \n4724              30.0   con+1.0  \n4725              28.0   lab+5.0  \n5210              21.0  lab+28.0  \n5215              22.0  lab+27.0  \n5217              22.0  lab+24.0  \n5218              21.5  lab+32.5  \n5221              23.0  lab+22.0  \n5223              25.0  lab+20.5  \n5225              23.0  lab+21.0  \n5236              23.0  lab+19.5  \n5242              23.0  lab+22.0  \n5249              25.5  lab+21.0  \n5253              27.0  lab+17.5  \n5254              26.0  lab+14.0  \n5255              26.5  lab+17.5  \n5257              26.0  lab+11.0  \n5258              23.0  lab+21.0  \n5259              25.0  lab+14.0  \n5260              27.0   lab+6.0  \n5261              27.0  lab+17.5  \n5262              28.0  lab+13.0  \n5263              25.0  lab+17.0  \n5265              26.5  lab+16.5  \n5269              26.0  lab+15.0  \n5271              23.0  lab+24.0  ",
      "text/html": "<div>\n<style scoped>\n    .dataframe tbody tr th:only-of-type {\n        vertical-align: middle;\n    }\n\n    .dataframe tbody tr th {\n        vertical-align: top;\n    }\n\n    .dataframe thead th {\n        text-align: right;\n    }\n</style>\n<table border=\"1\" class=\"dataframe\">\n  <thead>\n    <tr style=\"text-align: right;\">\n      <th></th>\n      <th>date_started</th>\n      <th>date_concluded</th>\n      <th>pollster</th>\n      <th>conservative</th>\n      <th>labour</th>\n      <th>liberal_democrat</th>\n      <th>lead</th>\n    </tr>\n  </thead>\n  <tbody>\n    <tr>\n      <th>666</th>\n      <td>2022-10-20</td>\n      <td>2022-10-20</td>\n      <td>PeoplePolling</td>\n      <td>14.0</td>\n      <td>53.0</td>\n      <td>11.0</td>\n      <td>lab+39.0</td>\n    </tr>\n    <tr>\n      <th>1525</th>\n      <td>2019-07-23</td>\n      <td>2019-07-24</td>\n      <td>YouGov</td>\n      <td>25.0</td>\n      <td>19.0</td>\n      <td>23.0</td>\n      <td>con+2.0</td>\n    </tr>\n    <tr>\n      <th>1535</th>\n      <td>2019-06-24</td>\n      <td>2019-06-25</td>\n      <td>YouGov</td>\n      <td>22.0</td>\n      <td>20.0</td>\n      <td>19.0</td>\n      <td>Tie</td>\n    </tr>\n    <tr>\n      <th>1539</th>\n      <td>2019-06-18</td>\n      <td>2019-06-19</td>\n      <td>YouGov</td>\n      <td>20.0</td>\n      <td>20.0</td>\n      <td>21.0</td>\n      <td>bre+2.0</td>\n    </tr>\n    <tr>\n      <th>1540</th>\n      <td>2019-06-13</td>\n      <td>2019-06-14</td>\n      <td>YouGov</td>\n      <td>21.0</td>\n      <td>21.0</td>\n      <td>19.0</td>\n      <td>bre+3.0</td>\n    </tr>\n    <tr>\n      <th>1541</th>\n      <td>2019-06-09</td>\n      <td>2019-06-10</td>\n      <td>YouGov</td>\n      <td>17.0</td>\n      <td>19.0</td>\n      <td>22.0</td>\n      <td>bre+4.0</td>\n    </tr>\n    <tr>\n      <th>1544</th>\n      <td>2019-06-05</td>\n      <td>2019-06-06</td>\n      <td>YouGov</td>\n      <td>18.0</td>\n      <td>20.0</td>\n      <td>20.0</td>\n      <td>bre+6.0</td>\n    </tr>\n    <tr>\n      <th>1545</th>\n      <td>2019-06-04</td>\n      <td>2019-06-05</td>\n      <td>YouGov</td>\n      <td>18.0</td>\n      <td>19.0</td>\n      <td>22.0</td>\n      <td>bre+3.0</td>\n    </tr>\n    <tr>\n      <th>1546</th>\n      <td>2019-05-31</td>\n      <td>2019-06-01</td>\n      <td>YouGov</td>\n      <td>18.0</td>\n      <td>19.0</td>\n      <td>23.0</td>\n      <td>Tie</td>\n    </tr>\n    <tr>\n      <th>1547</th>\n      <td>2019-05-28</td>\n      <td>2019-05-30</td>\n      <td>Opinium</td>\n      <td>17.0</td>\n      <td>22.0</td>\n      <td>16.0</td>\n      <td>bre+4.0</td>\n    </tr>\n    <tr>\n      <th>1549</th>\n      <td>2019-05-28</td>\n      <td>2019-05-29</td>\n      <td>YouGov</td>\n      <td>19.0</td>\n      <td>19.0</td>\n      <td>24.0</td>\n      <td>lib+2.0</td>\n    </tr>\n    <tr>\n      <th>4089</th>\n      <td>2010-04-27</td>\n      <td>2010-04-28</td>\n      <td>YouGov</td>\n      <td>34.0</td>\n      <td>27.0</td>\n      <td>31.0</td>\n      <td>con+3.0</td>\n    </tr>\n    <tr>\n      <th>4097</th>\n      <td>2010-04-23</td>\n      <td>2010-04-26</td>\n      <td>Angus Reid Strategies</td>\n      <td>33.0</td>\n      <td>23.0</td>\n      <td>30.0</td>\n      <td>con+3.0</td>\n    </tr>\n    <tr>\n      <th>4098</th>\n      <td>2010-04-20</td>\n      <td>2010-04-26</td>\n      <td>Harris Interactive</td>\n      <td>32.0</td>\n      <td>25.0</td>\n      <td>30.0</td>\n      <td>con+2.0</td>\n    </tr>\n    <tr>\n      <th>4099</th>\n      <td>2010-04-24</td>\n      <td>2010-04-25</td>\n      <td>Savanta</td>\n      <td>32.0</td>\n      <td>28.0</td>\n      <td>31.0</td>\n      <td>con+1.0</td>\n    </tr>\n    <tr>\n      <th>4100</th>\n      <td>2010-04-23</td>\n      <td>2010-04-25</td>\n      <td>ICM Research</td>\n      <td>33.0</td>\n      <td>28.0</td>\n      <td>30.0</td>\n      <td>con+3.0</td>\n    </tr>\n    <tr>\n      <th>4108</th>\n      <td>2010-04-20</td>\n      <td>2010-04-21</td>\n      <td>YouGov</td>\n      <td>33.0</td>\n      <td>27.0</td>\n      <td>31.0</td>\n      <td>con+2.0</td>\n    </tr>\n    <tr>\n      <th>4109</th>\n      <td>2010-04-19</td>\n      <td>2010-04-20</td>\n      <td>YouGov</td>\n      <td>31.0</td>\n      <td>26.0</td>\n      <td>34.0</td>\n      <td>lib+3.0</td>\n    </tr>\n    <tr>\n      <th>4110</th>\n      <td>2010-04-19</td>\n      <td>2010-04-20</td>\n      <td>Angus Reid Strategies</td>\n      <td>32.0</td>\n      <td>23.0</td>\n      <td>33.0</td>\n      <td>lib+1.0</td>\n    </tr>\n    <tr>\n      <th>4112</th>\n      <td>2010-04-19</td>\n      <td>2010-04-20</td>\n      <td>Populus</td>\n      <td>32.0</td>\n      <td>28.0</td>\n      <td>31.0</td>\n      <td>con+1.0</td>\n    </tr>\n    <tr>\n      <th>4113</th>\n      <td>2010-04-18</td>\n      <td>2010-04-20</td>\n      <td>Ipsos MORI</td>\n      <td>32.0</td>\n      <td>28.0</td>\n      <td>32.0</td>\n      <td>Tie</td>\n    </tr>\n    <tr>\n      <th>4115</th>\n      <td>2010-04-16</td>\n      <td>2010-04-19</td>\n      <td>Opinium</td>\n      <td>32.0</td>\n      <td>26.0</td>\n      <td>29.0</td>\n      <td>con+3.0</td>\n    </tr>\n    <tr>\n      <th>4116</th>\n      <td>2010-04-14</td>\n      <td>2010-04-19</td>\n      <td>Harris Interactive</td>\n      <td>31.0</td>\n      <td>26.0</td>\n      <td>30.0</td>\n      <td>con+1.0</td>\n    </tr>\n    <tr>\n      <th>4117</th>\n      <td>2010-04-16</td>\n      <td>2010-04-19</td>\n      <td>Angus Reid Strategies</td>\n      <td>32.0</td>\n      <td>24.0</td>\n      <td>32.0</td>\n      <td>Tie</td>\n    </tr>\n    <tr>\n      <th>4118</th>\n      <td>2010-04-18</td>\n      <td>2010-04-19</td>\n      <td>YouGov</td>\n      <td>33.0</td>\n      <td>27.0</td>\n      <td>31.0</td>\n      <td>con+2.0</td>\n    </tr>\n    <tr>\n      <th>4121</th>\n      <td>2010-04-17</td>\n      <td>2010-04-18</td>\n      <td>YouGov</td>\n      <td>32.0</td>\n      <td>26.0</td>\n      <td>33.0</td>\n      <td>lib+1.0</td>\n    </tr>\n    <tr>\n      <th>4122</th>\n      <td>2010-04-16</td>\n      <td>2010-04-18</td>\n      <td>ICM Research</td>\n      <td>33.0</td>\n      <td>28.0</td>\n      <td>30.0</td>\n      <td>con+3.0</td>\n    </tr>\n    <tr>\n      <th>4124</th>\n      <td>2010-04-16</td>\n      <td>2010-04-17</td>\n      <td>Savanta</td>\n      <td>31.0</td>\n      <td>27.0</td>\n      <td>29.0</td>\n      <td>con+2.0</td>\n    </tr>\n    <tr>\n      <th>4125</th>\n      <td>2010-04-15</td>\n      <td>2010-04-16</td>\n      <td>YouGov</td>\n      <td>33.0</td>\n      <td>28.0</td>\n      <td>30.0</td>\n      <td>con+3.0</td>\n    </tr>\n    <tr>\n      <th>4660</th>\n      <td>2005-07-14</td>\n      <td>2005-07-18</td>\n      <td>Ipsos MORI</td>\n      <td>28.0</td>\n      <td>41.0</td>\n      <td>25.0</td>\n      <td>lab+13.0</td>\n    </tr>\n    <tr>\n      <th>4723</th>\n      <td>2003-10-03</td>\n      <td>2003-10-05</td>\n      <td>Populus</td>\n      <td>28.0</td>\n      <td>36.0</td>\n      <td>27.0</td>\n      <td>lab+8.0</td>\n    </tr>\n    <tr>\n      <th>4724</th>\n      <td>2003-09-23</td>\n      <td>2003-09-25</td>\n      <td>YouGov</td>\n      <td>32.0</td>\n      <td>31.0</td>\n      <td>30.0</td>\n      <td>con+1.0</td>\n    </tr>\n    <tr>\n      <th>4725</th>\n      <td>2003-09-19</td>\n      <td>2003-09-21</td>\n      <td>ICM Research</td>\n      <td>30.0</td>\n      <td>35.0</td>\n      <td>28.0</td>\n      <td>lab+5.0</td>\n    </tr>\n    <tr>\n      <th>5210</th>\n      <td>1994-07-18</td>\n      <td>1994-07-18</td>\n      <td>Ipsos MORI</td>\n      <td>23.0</td>\n      <td>51.0</td>\n      <td>21.0</td>\n      <td>lab+28.0</td>\n    </tr>\n    <tr>\n      <th>5215</th>\n      <td>1994-06-06</td>\n      <td>1994-06-06</td>\n      <td>Ipsos MORI</td>\n      <td>23.0</td>\n      <td>50.0</td>\n      <td>22.0</td>\n      <td>lab+27.0</td>\n    </tr>\n    <tr>\n      <th>5217</th>\n      <td>1994-05-31</td>\n      <td>1994-05-31</td>\n      <td>Ipsos MORI</td>\n      <td>22.0</td>\n      <td>46.0</td>\n      <td>22.0</td>\n      <td>lab+24.0</td>\n    </tr>\n    <tr>\n      <th>5218</th>\n      <td>1994-05-30</td>\n      <td>1994-05-30</td>\n      <td>Gallup</td>\n      <td>21.0</td>\n      <td>54.0</td>\n      <td>21.5</td>\n      <td>lab+32.5</td>\n    </tr>\n    <tr>\n      <th>5221</th>\n      <td>1994-05-17</td>\n      <td>1994-05-17</td>\n      <td>ICM Research</td>\n      <td>26.0</td>\n      <td>48.0</td>\n      <td>23.0</td>\n      <td>lab+22.0</td>\n    </tr>\n    <tr>\n      <th>5223</th>\n      <td>1994-05-09</td>\n      <td>1994-05-09</td>\n      <td>Gallup</td>\n      <td>24.5</td>\n      <td>45.5</td>\n      <td>25.0</td>\n      <td>lab+20.5</td>\n    </tr>\n    <tr>\n      <th>5225</th>\n      <td>1994-04-25</td>\n      <td>1994-04-25</td>\n      <td>Ipsos MORI</td>\n      <td>26.0</td>\n      <td>47.0</td>\n      <td>23.0</td>\n      <td>lab+21.0</td>\n    </tr>\n    <tr>\n      <th>5236</th>\n      <td>1994-01-31</td>\n      <td>1994-01-31</td>\n      <td>Gallup</td>\n      <td>26.0</td>\n      <td>45.5</td>\n      <td>23.0</td>\n      <td>lab+19.5</td>\n    </tr>\n    <tr>\n      <th>5242</th>\n      <td>1993-12-14</td>\n      <td>1993-12-14</td>\n      <td>ICM Research</td>\n      <td>26.0</td>\n      <td>48.0</td>\n      <td>23.0</td>\n      <td>lab+22.0</td>\n    </tr>\n    <tr>\n      <th>5249</th>\n      <td>1993-11-01</td>\n      <td>1993-11-01</td>\n      <td>Gallup</td>\n      <td>24.0</td>\n      <td>46.5</td>\n      <td>25.5</td>\n      <td>lab+21.0</td>\n    </tr>\n    <tr>\n      <th>5253</th>\n      <td>1993-09-27</td>\n      <td>1993-09-27</td>\n      <td>Gallup</td>\n      <td>23.0</td>\n      <td>44.5</td>\n      <td>27.0</td>\n      <td>lab+17.5</td>\n    </tr>\n    <tr>\n      <th>5254</th>\n      <td>1993-09-24</td>\n      <td>1993-09-24</td>\n      <td>ICM Research</td>\n      <td>27.0</td>\n      <td>41.0</td>\n      <td>26.0</td>\n      <td>lab+14.0</td>\n    </tr>\n    <tr>\n      <th>5255</th>\n      <td>1993-09-21</td>\n      <td>1993-09-21</td>\n      <td>Gallup</td>\n      <td>23.5</td>\n      <td>44.0</td>\n      <td>26.5</td>\n      <td>lab+17.5</td>\n    </tr>\n    <tr>\n      <th>5257</th>\n      <td>1993-09-11</td>\n      <td>1993-09-11</td>\n      <td>ICM Research</td>\n      <td>29.0</td>\n      <td>40.0</td>\n      <td>26.0</td>\n      <td>lab+11.0</td>\n    </tr>\n    <tr>\n      <th>5258</th>\n      <td>1993-09-06</td>\n      <td>1993-09-06</td>\n      <td>Gallup</td>\n      <td>25.5</td>\n      <td>46.5</td>\n      <td>23.0</td>\n      <td>lab+21.0</td>\n    </tr>\n    <tr>\n      <th>5259</th>\n      <td>1993-08-23</td>\n      <td>1993-08-23</td>\n      <td>Ipsos MORI</td>\n      <td>28.0</td>\n      <td>42.0</td>\n      <td>25.0</td>\n      <td>lab+14.0</td>\n    </tr>\n    <tr>\n      <th>5260</th>\n      <td>1993-08-07</td>\n      <td>1993-08-07</td>\n      <td>ICM Research</td>\n      <td>30.0</td>\n      <td>36.0</td>\n      <td>27.0</td>\n      <td>lab+6.0</td>\n    </tr>\n    <tr>\n      <th>5261</th>\n      <td>1993-08-01</td>\n      <td>1993-08-01</td>\n      <td>Gallup</td>\n      <td>23.0</td>\n      <td>44.5</td>\n      <td>27.0</td>\n      <td>lab+17.5</td>\n    </tr>\n    <tr>\n      <th>5262</th>\n      <td>1993-07-30</td>\n      <td>1993-07-30</td>\n      <td>Ipsos MORI</td>\n      <td>27.0</td>\n      <td>41.0</td>\n      <td>28.0</td>\n      <td>lab+13.0</td>\n    </tr>\n    <tr>\n      <th>5263</th>\n      <td>1993-07-26</td>\n      <td>1993-07-26</td>\n      <td>Ipsos MORI</td>\n      <td>27.0</td>\n      <td>44.0</td>\n      <td>25.0</td>\n      <td>lab+17.0</td>\n    </tr>\n    <tr>\n      <th>5265</th>\n      <td>1993-07-05</td>\n      <td>1993-07-05</td>\n      <td>Gallup</td>\n      <td>24.5</td>\n      <td>43.0</td>\n      <td>26.5</td>\n      <td>lab+16.5</td>\n    </tr>\n    <tr>\n      <th>5269</th>\n      <td>1993-06-11</td>\n      <td>1993-06-11</td>\n      <td>NOP</td>\n      <td>27.0</td>\n      <td>42.0</td>\n      <td>26.0</td>\n      <td>lab+15.0</td>\n    </tr>\n    <tr>\n      <th>5271</th>\n      <td>1993-05-31</td>\n      <td>1993-05-31</td>\n      <td>Gallup</td>\n      <td>25.0</td>\n      <td>49.0</td>\n      <td>23.0</td>\n      <td>lab+24.0</td>\n    </tr>\n  </tbody>\n</table>\n</div>"
     },
     "execution_count": 30,
     "metadata": {},
     "output_type": "execute_result"
    }
   ],
   "source": [
    "all_polls.query(\"liberal_democrat + 4 > conservative\")[display_columns]"
   ]
  },
  {
   "cell_type": "code",
   "execution_count": 31,
   "metadata": {
    "ExecuteTime": {
     "end_time": "2024-05-29T10:47:20.806786900Z",
     "start_time": "2024-05-29T10:47:20.535346600Z"
    }
   },
   "outputs": [
    {
     "data": {
      "text/plain": "     date_started date_concluded pollster  conservative  labour  \\\n1239   2020-11-04     2020-11-05   YouGov          35.0    40.0   \n1412   2019-11-25     2019-11-26   YouGov          43.0    32.0   \n1423   2019-11-12     2019-11-20   YouGov          43.0    29.0   \n1432   2019-11-14     2019-11-15   YouGov          45.0    28.0   \n1443   2019-11-07     2019-11-08   YouGov          39.0    26.0   \n1448   2019-11-05     2019-11-06   YouGov          36.0    25.0   \n1450   2019-11-01     2019-11-04   YouGov          38.0    25.0   \n1453   2019-10-30     2019-11-01   YouGov          39.0    27.0   \n1458   2019-10-29     2019-10-30   YouGov          36.0    21.0   \n1461   2019-10-17     2019-10-28   YouGov          36.0    22.0   \n1463   2019-10-24     2019-10-25   YouGov          36.0    23.0   \n1465   2019-10-20     2019-10-21   YouGov          37.0    22.0   \n1470   2019-10-14     2019-10-15   YouGov          37.0    22.0   \n1474   2019-10-08     2019-10-09   YouGov          35.0    22.0   \n1479   2019-09-30     2019-10-01   YouGov          34.0    21.0   \n1480   2019-09-26     2019-09-27   YouGov          33.0    22.0   \n1482   2019-09-24     2019-09-25   YouGov          33.0    22.0   \n1485   2019-09-19     2019-09-20   YouGov          30.0    23.0   \n1487   2019-09-17     2019-09-18   YouGov          32.0    21.0   \n1491   2019-09-09     2019-09-10   YouGov          32.0    23.0   \n1497   2019-09-05     2019-09-06   YouGov          35.0    21.0   \n1502   2019-09-02     2019-09-03   YouGov          35.0    25.0   \n1506   2019-08-28     2019-08-29   YouGov          33.0    22.0   \n1507   2019-08-27     2019-08-28   YouGov          34.0    22.0   \n1508   2019-08-22     2019-08-23   YouGov          33.0    21.0   \n1510   2019-08-20     2019-08-21   YouGov          32.0    22.0   \n1512   2019-08-13     2019-08-14   YouGov          30.0    21.0   \n1517   2019-08-05     2019-08-06   YouGov          31.0    22.0   \n1518   2019-07-29     2019-07-30   YouGov          32.0    22.0   \n1522   2019-07-25     2019-07-26   YouGov          31.0    21.0   \n1525   2019-07-23     2019-07-24   YouGov          25.0    19.0   \n1526   2019-07-16     2019-07-17   YouGov          25.0    21.0   \n1530   2019-07-09     2019-07-10   YouGov          24.0    20.0   \n1534   2019-07-02     2019-07-03   YouGov          24.0    18.0   \n1535   2019-06-24     2019-06-25   YouGov          22.0    20.0   \n1539   2019-06-18     2019-06-19   YouGov          20.0    20.0   \n1540   2019-06-13     2019-06-14   YouGov          21.0    21.0   \n1541   2019-06-09     2019-06-10   YouGov          17.0    19.0   \n1544   2019-06-05     2019-06-06   YouGov          18.0    20.0   \n1545   2019-06-04     2019-06-05   YouGov          18.0    19.0   \n1546   2019-05-31     2019-06-01   YouGov          18.0    19.0   \n1549   2019-05-28     2019-05-29   YouGov          19.0    19.0   \n1555   2019-05-08     2019-05-17   YouGov          24.0    24.0   \n1558   2019-05-13     2019-05-14   YouGov          25.0    25.0   \n1565   2019-05-08     2019-05-09   YouGov          24.0    24.0   \n1567   2019-04-29     2019-04-30   YouGov          29.0    29.0   \n1568   2019-04-23     2019-04-24   YouGov          27.0    30.0   \n1572   2019-04-16     2019-04-17   YouGov          29.0    30.0   \n1575   2019-04-10     2019-04-11   YouGov          28.0    32.0   \n1582   2019-04-02     2019-04-03   YouGov          32.0    31.0   \n1586   2019-03-24     2019-03-25   YouGov          36.0    33.0   \n\n      liberal_democrat      lead  green  reform_uk  brexit_party  \n1239               7.0   lab+5.0    4.0        NaN           6.0  \n1412              13.0  con+11.0    2.0        NaN           4.0  \n1423              15.0  con+14.0    3.0        NaN           4.0  \n1432              15.0  con+17.0    3.0        NaN           4.0  \n1443              17.0  con+13.0    4.0        NaN          10.0  \n1448              17.0  con+11.0    5.0        NaN          11.0  \n1450              16.0  con+13.0    5.0        NaN          11.0  \n1453              16.0  con+12.0    4.0        NaN           7.0  \n1458              18.0  con+15.0    6.0        NaN          13.0  \n1461              19.0  con+14.0    6.0        NaN          12.0  \n1463              18.0  con+13.0    6.0        NaN          12.0  \n1465              19.0  con+15.0    7.0        NaN          11.0  \n1470              18.0  con+15.0    5.0        NaN          11.0  \n1474              20.0  con+13.0    6.0        NaN          12.0  \n1479              23.0  con+11.0    5.0        NaN          12.0  \n1480              21.0  con+11.0    5.0        NaN          13.0  \n1482              22.0  con+11.0    6.0        NaN          14.0  \n1485              22.0   con+7.0    5.0        NaN          14.0  \n1487              23.0   con+9.0    4.0        NaN          14.0  \n1491              19.0   con+9.0    7.0        NaN          14.0  \n1497              19.0  con+14.0    7.0        NaN          12.0  \n1502              16.0  con+10.0    7.0        NaN          11.0  \n1506              21.0  con+11.0    7.0        NaN          12.0  \n1507              17.0  con+12.0    8.0        NaN          13.0  \n1508              19.0  con+12.0    7.0        NaN          14.0  \n1510              20.0  con+10.0    7.0        NaN          12.0  \n1512              20.0   con+9.0    8.0        NaN          14.0  \n1517              21.0   con+9.0    7.0        NaN          14.0  \n1518              19.0  con+10.0    8.0        NaN          13.0  \n1522              20.0  con+10.0    8.0        NaN          13.0  \n1525              23.0   con+2.0    9.0        NaN          17.0  \n1526              20.0   con+4.0    8.0        NaN          19.0  \n1530              19.0   con+3.0    9.0        NaN          21.0  \n1534              20.0   con+1.0    9.0        NaN          23.0  \n1535              19.0       Tie   10.0        NaN          22.0  \n1539              21.0   bre+2.0    9.0        NaN          23.0  \n1540              19.0   bre+3.0    9.0        NaN          24.0  \n1541              22.0   bre+4.0    8.0        NaN          26.0  \n1544              20.0   bre+6.0    9.0        NaN          26.0  \n1545              22.0   bre+3.0    9.0        NaN          25.0  \n1546              23.0       Tie   10.0        NaN          23.0  \n1549              24.0   lib+2.0    8.0        NaN          22.0  \n1555              18.0       Tie    6.0        NaN          18.0  \n1558              16.0       Tie    7.0        NaN          18.0  \n1565              16.0       Tie    7.0        NaN          18.0  \n1567              13.0       Tie    5.0        NaN          15.0  \n1568              11.0   lab+3.0    5.0        NaN          14.0  \n1572              10.0   lab+1.0    5.0        NaN          12.0  \n1575              11.0   lab+4.0    5.0        NaN           8.0  \n1582              12.0   con+1.0    4.0        NaN           5.0  \n1586              11.0   con+3.0    4.0        NaN           5.0  ",
      "text/html": "<div>\n<style scoped>\n    .dataframe tbody tr th:only-of-type {\n        vertical-align: middle;\n    }\n\n    .dataframe tbody tr th {\n        vertical-align: top;\n    }\n\n    .dataframe thead th {\n        text-align: right;\n    }\n</style>\n<table border=\"1\" class=\"dataframe\">\n  <thead>\n    <tr style=\"text-align: right;\">\n      <th></th>\n      <th>date_started</th>\n      <th>date_concluded</th>\n      <th>pollster</th>\n      <th>conservative</th>\n      <th>labour</th>\n      <th>liberal_democrat</th>\n      <th>lead</th>\n      <th>green</th>\n      <th>reform_uk</th>\n      <th>brexit_party</th>\n    </tr>\n  </thead>\n  <tbody>\n    <tr>\n      <th>1239</th>\n      <td>2020-11-04</td>\n      <td>2020-11-05</td>\n      <td>YouGov</td>\n      <td>35.0</td>\n      <td>40.0</td>\n      <td>7.0</td>\n      <td>lab+5.0</td>\n      <td>4.0</td>\n      <td>NaN</td>\n      <td>6.0</td>\n    </tr>\n    <tr>\n      <th>1412</th>\n      <td>2019-11-25</td>\n      <td>2019-11-26</td>\n      <td>YouGov</td>\n      <td>43.0</td>\n      <td>32.0</td>\n      <td>13.0</td>\n      <td>con+11.0</td>\n      <td>2.0</td>\n      <td>NaN</td>\n      <td>4.0</td>\n    </tr>\n    <tr>\n      <th>1423</th>\n      <td>2019-11-12</td>\n      <td>2019-11-20</td>\n      <td>YouGov</td>\n      <td>43.0</td>\n      <td>29.0</td>\n      <td>15.0</td>\n      <td>con+14.0</td>\n      <td>3.0</td>\n      <td>NaN</td>\n      <td>4.0</td>\n    </tr>\n    <tr>\n      <th>1432</th>\n      <td>2019-11-14</td>\n      <td>2019-11-15</td>\n      <td>YouGov</td>\n      <td>45.0</td>\n      <td>28.0</td>\n      <td>15.0</td>\n      <td>con+17.0</td>\n      <td>3.0</td>\n      <td>NaN</td>\n      <td>4.0</td>\n    </tr>\n    <tr>\n      <th>1443</th>\n      <td>2019-11-07</td>\n      <td>2019-11-08</td>\n      <td>YouGov</td>\n      <td>39.0</td>\n      <td>26.0</td>\n      <td>17.0</td>\n      <td>con+13.0</td>\n      <td>4.0</td>\n      <td>NaN</td>\n      <td>10.0</td>\n    </tr>\n    <tr>\n      <th>1448</th>\n      <td>2019-11-05</td>\n      <td>2019-11-06</td>\n      <td>YouGov</td>\n      <td>36.0</td>\n      <td>25.0</td>\n      <td>17.0</td>\n      <td>con+11.0</td>\n      <td>5.0</td>\n      <td>NaN</td>\n      <td>11.0</td>\n    </tr>\n    <tr>\n      <th>1450</th>\n      <td>2019-11-01</td>\n      <td>2019-11-04</td>\n      <td>YouGov</td>\n      <td>38.0</td>\n      <td>25.0</td>\n      <td>16.0</td>\n      <td>con+13.0</td>\n      <td>5.0</td>\n      <td>NaN</td>\n      <td>11.0</td>\n    </tr>\n    <tr>\n      <th>1453</th>\n      <td>2019-10-30</td>\n      <td>2019-11-01</td>\n      <td>YouGov</td>\n      <td>39.0</td>\n      <td>27.0</td>\n      <td>16.0</td>\n      <td>con+12.0</td>\n      <td>4.0</td>\n      <td>NaN</td>\n      <td>7.0</td>\n    </tr>\n    <tr>\n      <th>1458</th>\n      <td>2019-10-29</td>\n      <td>2019-10-30</td>\n      <td>YouGov</td>\n      <td>36.0</td>\n      <td>21.0</td>\n      <td>18.0</td>\n      <td>con+15.0</td>\n      <td>6.0</td>\n      <td>NaN</td>\n      <td>13.0</td>\n    </tr>\n    <tr>\n      <th>1461</th>\n      <td>2019-10-17</td>\n      <td>2019-10-28</td>\n      <td>YouGov</td>\n      <td>36.0</td>\n      <td>22.0</td>\n      <td>19.0</td>\n      <td>con+14.0</td>\n      <td>6.0</td>\n      <td>NaN</td>\n      <td>12.0</td>\n    </tr>\n    <tr>\n      <th>1463</th>\n      <td>2019-10-24</td>\n      <td>2019-10-25</td>\n      <td>YouGov</td>\n      <td>36.0</td>\n      <td>23.0</td>\n      <td>18.0</td>\n      <td>con+13.0</td>\n      <td>6.0</td>\n      <td>NaN</td>\n      <td>12.0</td>\n    </tr>\n    <tr>\n      <th>1465</th>\n      <td>2019-10-20</td>\n      <td>2019-10-21</td>\n      <td>YouGov</td>\n      <td>37.0</td>\n      <td>22.0</td>\n      <td>19.0</td>\n      <td>con+15.0</td>\n      <td>7.0</td>\n      <td>NaN</td>\n      <td>11.0</td>\n    </tr>\n    <tr>\n      <th>1470</th>\n      <td>2019-10-14</td>\n      <td>2019-10-15</td>\n      <td>YouGov</td>\n      <td>37.0</td>\n      <td>22.0</td>\n      <td>18.0</td>\n      <td>con+15.0</td>\n      <td>5.0</td>\n      <td>NaN</td>\n      <td>11.0</td>\n    </tr>\n    <tr>\n      <th>1474</th>\n      <td>2019-10-08</td>\n      <td>2019-10-09</td>\n      <td>YouGov</td>\n      <td>35.0</td>\n      <td>22.0</td>\n      <td>20.0</td>\n      <td>con+13.0</td>\n      <td>6.0</td>\n      <td>NaN</td>\n      <td>12.0</td>\n    </tr>\n    <tr>\n      <th>1479</th>\n      <td>2019-09-30</td>\n      <td>2019-10-01</td>\n      <td>YouGov</td>\n      <td>34.0</td>\n      <td>21.0</td>\n      <td>23.0</td>\n      <td>con+11.0</td>\n      <td>5.0</td>\n      <td>NaN</td>\n      <td>12.0</td>\n    </tr>\n    <tr>\n      <th>1480</th>\n      <td>2019-09-26</td>\n      <td>2019-09-27</td>\n      <td>YouGov</td>\n      <td>33.0</td>\n      <td>22.0</td>\n      <td>21.0</td>\n      <td>con+11.0</td>\n      <td>5.0</td>\n      <td>NaN</td>\n      <td>13.0</td>\n    </tr>\n    <tr>\n      <th>1482</th>\n      <td>2019-09-24</td>\n      <td>2019-09-25</td>\n      <td>YouGov</td>\n      <td>33.0</td>\n      <td>22.0</td>\n      <td>22.0</td>\n      <td>con+11.0</td>\n      <td>6.0</td>\n      <td>NaN</td>\n      <td>14.0</td>\n    </tr>\n    <tr>\n      <th>1485</th>\n      <td>2019-09-19</td>\n      <td>2019-09-20</td>\n      <td>YouGov</td>\n      <td>30.0</td>\n      <td>23.0</td>\n      <td>22.0</td>\n      <td>con+7.0</td>\n      <td>5.0</td>\n      <td>NaN</td>\n      <td>14.0</td>\n    </tr>\n    <tr>\n      <th>1487</th>\n      <td>2019-09-17</td>\n      <td>2019-09-18</td>\n      <td>YouGov</td>\n      <td>32.0</td>\n      <td>21.0</td>\n      <td>23.0</td>\n      <td>con+9.0</td>\n      <td>4.0</td>\n      <td>NaN</td>\n      <td>14.0</td>\n    </tr>\n    <tr>\n      <th>1491</th>\n      <td>2019-09-09</td>\n      <td>2019-09-10</td>\n      <td>YouGov</td>\n      <td>32.0</td>\n      <td>23.0</td>\n      <td>19.0</td>\n      <td>con+9.0</td>\n      <td>7.0</td>\n      <td>NaN</td>\n      <td>14.0</td>\n    </tr>\n    <tr>\n      <th>1497</th>\n      <td>2019-09-05</td>\n      <td>2019-09-06</td>\n      <td>YouGov</td>\n      <td>35.0</td>\n      <td>21.0</td>\n      <td>19.0</td>\n      <td>con+14.0</td>\n      <td>7.0</td>\n      <td>NaN</td>\n      <td>12.0</td>\n    </tr>\n    <tr>\n      <th>1502</th>\n      <td>2019-09-02</td>\n      <td>2019-09-03</td>\n      <td>YouGov</td>\n      <td>35.0</td>\n      <td>25.0</td>\n      <td>16.0</td>\n      <td>con+10.0</td>\n      <td>7.0</td>\n      <td>NaN</td>\n      <td>11.0</td>\n    </tr>\n    <tr>\n      <th>1506</th>\n      <td>2019-08-28</td>\n      <td>2019-08-29</td>\n      <td>YouGov</td>\n      <td>33.0</td>\n      <td>22.0</td>\n      <td>21.0</td>\n      <td>con+11.0</td>\n      <td>7.0</td>\n      <td>NaN</td>\n      <td>12.0</td>\n    </tr>\n    <tr>\n      <th>1507</th>\n      <td>2019-08-27</td>\n      <td>2019-08-28</td>\n      <td>YouGov</td>\n      <td>34.0</td>\n      <td>22.0</td>\n      <td>17.0</td>\n      <td>con+12.0</td>\n      <td>8.0</td>\n      <td>NaN</td>\n      <td>13.0</td>\n    </tr>\n    <tr>\n      <th>1508</th>\n      <td>2019-08-22</td>\n      <td>2019-08-23</td>\n      <td>YouGov</td>\n      <td>33.0</td>\n      <td>21.0</td>\n      <td>19.0</td>\n      <td>con+12.0</td>\n      <td>7.0</td>\n      <td>NaN</td>\n      <td>14.0</td>\n    </tr>\n    <tr>\n      <th>1510</th>\n      <td>2019-08-20</td>\n      <td>2019-08-21</td>\n      <td>YouGov</td>\n      <td>32.0</td>\n      <td>22.0</td>\n      <td>20.0</td>\n      <td>con+10.0</td>\n      <td>7.0</td>\n      <td>NaN</td>\n      <td>12.0</td>\n    </tr>\n    <tr>\n      <th>1512</th>\n      <td>2019-08-13</td>\n      <td>2019-08-14</td>\n      <td>YouGov</td>\n      <td>30.0</td>\n      <td>21.0</td>\n      <td>20.0</td>\n      <td>con+9.0</td>\n      <td>8.0</td>\n      <td>NaN</td>\n      <td>14.0</td>\n    </tr>\n    <tr>\n      <th>1517</th>\n      <td>2019-08-05</td>\n      <td>2019-08-06</td>\n      <td>YouGov</td>\n      <td>31.0</td>\n      <td>22.0</td>\n      <td>21.0</td>\n      <td>con+9.0</td>\n      <td>7.0</td>\n      <td>NaN</td>\n      <td>14.0</td>\n    </tr>\n    <tr>\n      <th>1518</th>\n      <td>2019-07-29</td>\n      <td>2019-07-30</td>\n      <td>YouGov</td>\n      <td>32.0</td>\n      <td>22.0</td>\n      <td>19.0</td>\n      <td>con+10.0</td>\n      <td>8.0</td>\n      <td>NaN</td>\n      <td>13.0</td>\n    </tr>\n    <tr>\n      <th>1522</th>\n      <td>2019-07-25</td>\n      <td>2019-07-26</td>\n      <td>YouGov</td>\n      <td>31.0</td>\n      <td>21.0</td>\n      <td>20.0</td>\n      <td>con+10.0</td>\n      <td>8.0</td>\n      <td>NaN</td>\n      <td>13.0</td>\n    </tr>\n    <tr>\n      <th>1525</th>\n      <td>2019-07-23</td>\n      <td>2019-07-24</td>\n      <td>YouGov</td>\n      <td>25.0</td>\n      <td>19.0</td>\n      <td>23.0</td>\n      <td>con+2.0</td>\n      <td>9.0</td>\n      <td>NaN</td>\n      <td>17.0</td>\n    </tr>\n    <tr>\n      <th>1526</th>\n      <td>2019-07-16</td>\n      <td>2019-07-17</td>\n      <td>YouGov</td>\n      <td>25.0</td>\n      <td>21.0</td>\n      <td>20.0</td>\n      <td>con+4.0</td>\n      <td>8.0</td>\n      <td>NaN</td>\n      <td>19.0</td>\n    </tr>\n    <tr>\n      <th>1530</th>\n      <td>2019-07-09</td>\n      <td>2019-07-10</td>\n      <td>YouGov</td>\n      <td>24.0</td>\n      <td>20.0</td>\n      <td>19.0</td>\n      <td>con+3.0</td>\n      <td>9.0</td>\n      <td>NaN</td>\n      <td>21.0</td>\n    </tr>\n    <tr>\n      <th>1534</th>\n      <td>2019-07-02</td>\n      <td>2019-07-03</td>\n      <td>YouGov</td>\n      <td>24.0</td>\n      <td>18.0</td>\n      <td>20.0</td>\n      <td>con+1.0</td>\n      <td>9.0</td>\n      <td>NaN</td>\n      <td>23.0</td>\n    </tr>\n    <tr>\n      <th>1535</th>\n      <td>2019-06-24</td>\n      <td>2019-06-25</td>\n      <td>YouGov</td>\n      <td>22.0</td>\n      <td>20.0</td>\n      <td>19.0</td>\n      <td>Tie</td>\n      <td>10.0</td>\n      <td>NaN</td>\n      <td>22.0</td>\n    </tr>\n    <tr>\n      <th>1539</th>\n      <td>2019-06-18</td>\n      <td>2019-06-19</td>\n      <td>YouGov</td>\n      <td>20.0</td>\n      <td>20.0</td>\n      <td>21.0</td>\n      <td>bre+2.0</td>\n      <td>9.0</td>\n      <td>NaN</td>\n      <td>23.0</td>\n    </tr>\n    <tr>\n      <th>1540</th>\n      <td>2019-06-13</td>\n      <td>2019-06-14</td>\n      <td>YouGov</td>\n      <td>21.0</td>\n      <td>21.0</td>\n      <td>19.0</td>\n      <td>bre+3.0</td>\n      <td>9.0</td>\n      <td>NaN</td>\n      <td>24.0</td>\n    </tr>\n    <tr>\n      <th>1541</th>\n      <td>2019-06-09</td>\n      <td>2019-06-10</td>\n      <td>YouGov</td>\n      <td>17.0</td>\n      <td>19.0</td>\n      <td>22.0</td>\n      <td>bre+4.0</td>\n      <td>8.0</td>\n      <td>NaN</td>\n      <td>26.0</td>\n    </tr>\n    <tr>\n      <th>1544</th>\n      <td>2019-06-05</td>\n      <td>2019-06-06</td>\n      <td>YouGov</td>\n      <td>18.0</td>\n      <td>20.0</td>\n      <td>20.0</td>\n      <td>bre+6.0</td>\n      <td>9.0</td>\n      <td>NaN</td>\n      <td>26.0</td>\n    </tr>\n    <tr>\n      <th>1545</th>\n      <td>2019-06-04</td>\n      <td>2019-06-05</td>\n      <td>YouGov</td>\n      <td>18.0</td>\n      <td>19.0</td>\n      <td>22.0</td>\n      <td>bre+3.0</td>\n      <td>9.0</td>\n      <td>NaN</td>\n      <td>25.0</td>\n    </tr>\n    <tr>\n      <th>1546</th>\n      <td>2019-05-31</td>\n      <td>2019-06-01</td>\n      <td>YouGov</td>\n      <td>18.0</td>\n      <td>19.0</td>\n      <td>23.0</td>\n      <td>Tie</td>\n      <td>10.0</td>\n      <td>NaN</td>\n      <td>23.0</td>\n    </tr>\n    <tr>\n      <th>1549</th>\n      <td>2019-05-28</td>\n      <td>2019-05-29</td>\n      <td>YouGov</td>\n      <td>19.0</td>\n      <td>19.0</td>\n      <td>24.0</td>\n      <td>lib+2.0</td>\n      <td>8.0</td>\n      <td>NaN</td>\n      <td>22.0</td>\n    </tr>\n    <tr>\n      <th>1555</th>\n      <td>2019-05-08</td>\n      <td>2019-05-17</td>\n      <td>YouGov</td>\n      <td>24.0</td>\n      <td>24.0</td>\n      <td>18.0</td>\n      <td>Tie</td>\n      <td>6.0</td>\n      <td>NaN</td>\n      <td>18.0</td>\n    </tr>\n    <tr>\n      <th>1558</th>\n      <td>2019-05-13</td>\n      <td>2019-05-14</td>\n      <td>YouGov</td>\n      <td>25.0</td>\n      <td>25.0</td>\n      <td>16.0</td>\n      <td>Tie</td>\n      <td>7.0</td>\n      <td>NaN</td>\n      <td>18.0</td>\n    </tr>\n    <tr>\n      <th>1565</th>\n      <td>2019-05-08</td>\n      <td>2019-05-09</td>\n      <td>YouGov</td>\n      <td>24.0</td>\n      <td>24.0</td>\n      <td>16.0</td>\n      <td>Tie</td>\n      <td>7.0</td>\n      <td>NaN</td>\n      <td>18.0</td>\n    </tr>\n    <tr>\n      <th>1567</th>\n      <td>2019-04-29</td>\n      <td>2019-04-30</td>\n      <td>YouGov</td>\n      <td>29.0</td>\n      <td>29.0</td>\n      <td>13.0</td>\n      <td>Tie</td>\n      <td>5.0</td>\n      <td>NaN</td>\n      <td>15.0</td>\n    </tr>\n    <tr>\n      <th>1568</th>\n      <td>2019-04-23</td>\n      <td>2019-04-24</td>\n      <td>YouGov</td>\n      <td>27.0</td>\n      <td>30.0</td>\n      <td>11.0</td>\n      <td>lab+3.0</td>\n      <td>5.0</td>\n      <td>NaN</td>\n      <td>14.0</td>\n    </tr>\n    <tr>\n      <th>1572</th>\n      <td>2019-04-16</td>\n      <td>2019-04-17</td>\n      <td>YouGov</td>\n      <td>29.0</td>\n      <td>30.0</td>\n      <td>10.0</td>\n      <td>lab+1.0</td>\n      <td>5.0</td>\n      <td>NaN</td>\n      <td>12.0</td>\n    </tr>\n    <tr>\n      <th>1575</th>\n      <td>2019-04-10</td>\n      <td>2019-04-11</td>\n      <td>YouGov</td>\n      <td>28.0</td>\n      <td>32.0</td>\n      <td>11.0</td>\n      <td>lab+4.0</td>\n      <td>5.0</td>\n      <td>NaN</td>\n      <td>8.0</td>\n    </tr>\n    <tr>\n      <th>1582</th>\n      <td>2019-04-02</td>\n      <td>2019-04-03</td>\n      <td>YouGov</td>\n      <td>32.0</td>\n      <td>31.0</td>\n      <td>12.0</td>\n      <td>con+1.0</td>\n      <td>4.0</td>\n      <td>NaN</td>\n      <td>5.0</td>\n    </tr>\n    <tr>\n      <th>1586</th>\n      <td>2019-03-24</td>\n      <td>2019-03-25</td>\n      <td>YouGov</td>\n      <td>36.0</td>\n      <td>33.0</td>\n      <td>11.0</td>\n      <td>con+3.0</td>\n      <td>4.0</td>\n      <td>NaN</td>\n      <td>5.0</td>\n    </tr>\n  </tbody>\n</table>\n</div>"
     },
     "execution_count": 31,
     "metadata": {},
     "output_type": "execute_result"
    }
   ],
   "source": [
    "all_polls.query(\"pollster == 'YouGov' and green<brexit_party\")[display_columns + ['green', 'reform_uk', 'brexit_party']]"
   ]
  },
  {
   "cell_type": "code",
   "execution_count": 31,
   "metadata": {
    "ExecuteTime": {
     "end_time": "2024-05-29T10:47:20.869952Z",
     "start_time": "2024-05-29T10:47:20.625980400Z"
    }
   },
   "outputs": [],
   "source": []
  },
  {
   "cell_type": "code",
   "execution_count": 31,
   "metadata": {
    "ExecuteTime": {
     "end_time": "2024-05-29T10:47:20.898604400Z",
     "start_time": "2024-05-29T10:47:20.629983500Z"
    }
   },
   "outputs": [],
   "source": []
  },
  {
   "cell_type": "code",
   "execution_count": 32,
   "metadata": {
    "ExecuteTime": {
     "end_time": "2024-05-29T10:47:21.047211100Z",
     "start_time": "2024-05-29T10:47:20.632479200Z"
    }
   },
   "outputs": [
    {
     "data": {
      "text/plain": "     date_concluded                      pollster  labour  liberal_democrat  \\\n0        2024-05-28                        YouGov    47.0               9.0   \n1        2024-05-27  Redfield & Wilton Strategies    46.0               9.0   \n2        2024-05-27                     Survation    47.0              11.0   \n3        2024-05-25                     Deltapoll    45.0               9.0   \n4        2024-05-25                   JL Partners    40.0              10.0   \n...             ...                           ...     ...               ...   \n6584     1970-11-15                        Gallup    48.0               NaN   \n6585     1970-10-18                        Gallup    46.5               NaN   \n6586     1970-09-13                        Gallup    44.0               NaN   \n6587     1970-08-16                        Gallup    43.5               NaN   \n6588     1970-06-18              General Election    43.1               NaN   \n\n      green  scottish_national_party  plaid_cymru  anti_conservative      lead  \n0       7.0                      3.0          NaN               66.0  lab+27.0  \n1       5.0                      3.0          1.0               64.0  lab+23.0  \n2       3.0                      3.0          1.0               65.0  lab+23.0  \n3       6.0                      3.0          1.0               64.0  lab+22.0  \n4       5.0                      3.0          1.0               59.0  lab+12.0  \n...     ...                      ...          ...                ...       ...  \n6584    NaN                      NaN          NaN               48.0   lab+4.5  \n6585    NaN                      NaN          NaN               46.5       Tie  \n6586    NaN                      NaN          NaN               44.0   con+2.5  \n6587    NaN                      NaN          NaN               43.5   con+3.5  \n6588    NaN                      NaN          NaN               43.1   con+3.3  \n\n[6588 rows x 9 columns]",
      "text/html": "<div>\n<style scoped>\n    .dataframe tbody tr th:only-of-type {\n        vertical-align: middle;\n    }\n\n    .dataframe tbody tr th {\n        vertical-align: top;\n    }\n\n    .dataframe thead th {\n        text-align: right;\n    }\n</style>\n<table border=\"1\" class=\"dataframe\">\n  <thead>\n    <tr style=\"text-align: right;\">\n      <th></th>\n      <th>date_concluded</th>\n      <th>pollster</th>\n      <th>labour</th>\n      <th>liberal_democrat</th>\n      <th>green</th>\n      <th>scottish_national_party</th>\n      <th>plaid_cymru</th>\n      <th>anti_conservative</th>\n      <th>lead</th>\n    </tr>\n  </thead>\n  <tbody>\n    <tr>\n      <th>0</th>\n      <td>2024-05-28</td>\n      <td>YouGov</td>\n      <td>47.0</td>\n      <td>9.0</td>\n      <td>7.0</td>\n      <td>3.0</td>\n      <td>NaN</td>\n      <td>66.0</td>\n      <td>lab+27.0</td>\n    </tr>\n    <tr>\n      <th>1</th>\n      <td>2024-05-27</td>\n      <td>Redfield &amp; Wilton Strategies</td>\n      <td>46.0</td>\n      <td>9.0</td>\n      <td>5.0</td>\n      <td>3.0</td>\n      <td>1.0</td>\n      <td>64.0</td>\n      <td>lab+23.0</td>\n    </tr>\n    <tr>\n      <th>2</th>\n      <td>2024-05-27</td>\n      <td>Survation</td>\n      <td>47.0</td>\n      <td>11.0</td>\n      <td>3.0</td>\n      <td>3.0</td>\n      <td>1.0</td>\n      <td>65.0</td>\n      <td>lab+23.0</td>\n    </tr>\n    <tr>\n      <th>3</th>\n      <td>2024-05-25</td>\n      <td>Deltapoll</td>\n      <td>45.0</td>\n      <td>9.0</td>\n      <td>6.0</td>\n      <td>3.0</td>\n      <td>1.0</td>\n      <td>64.0</td>\n      <td>lab+22.0</td>\n    </tr>\n    <tr>\n      <th>4</th>\n      <td>2024-05-25</td>\n      <td>JL Partners</td>\n      <td>40.0</td>\n      <td>10.0</td>\n      <td>5.0</td>\n      <td>3.0</td>\n      <td>1.0</td>\n      <td>59.0</td>\n      <td>lab+12.0</td>\n    </tr>\n    <tr>\n      <th>...</th>\n      <td>...</td>\n      <td>...</td>\n      <td>...</td>\n      <td>...</td>\n      <td>...</td>\n      <td>...</td>\n      <td>...</td>\n      <td>...</td>\n      <td>...</td>\n    </tr>\n    <tr>\n      <th>6584</th>\n      <td>1970-11-15</td>\n      <td>Gallup</td>\n      <td>48.0</td>\n      <td>NaN</td>\n      <td>NaN</td>\n      <td>NaN</td>\n      <td>NaN</td>\n      <td>48.0</td>\n      <td>lab+4.5</td>\n    </tr>\n    <tr>\n      <th>6585</th>\n      <td>1970-10-18</td>\n      <td>Gallup</td>\n      <td>46.5</td>\n      <td>NaN</td>\n      <td>NaN</td>\n      <td>NaN</td>\n      <td>NaN</td>\n      <td>46.5</td>\n      <td>Tie</td>\n    </tr>\n    <tr>\n      <th>6586</th>\n      <td>1970-09-13</td>\n      <td>Gallup</td>\n      <td>44.0</td>\n      <td>NaN</td>\n      <td>NaN</td>\n      <td>NaN</td>\n      <td>NaN</td>\n      <td>44.0</td>\n      <td>con+2.5</td>\n    </tr>\n    <tr>\n      <th>6587</th>\n      <td>1970-08-16</td>\n      <td>Gallup</td>\n      <td>43.5</td>\n      <td>NaN</td>\n      <td>NaN</td>\n      <td>NaN</td>\n      <td>NaN</td>\n      <td>43.5</td>\n      <td>con+3.5</td>\n    </tr>\n    <tr>\n      <th>6588</th>\n      <td>1970-06-18</td>\n      <td>General Election</td>\n      <td>43.1</td>\n      <td>NaN</td>\n      <td>NaN</td>\n      <td>NaN</td>\n      <td>NaN</td>\n      <td>43.1</td>\n      <td>con+3.3</td>\n    </tr>\n  </tbody>\n</table>\n<p>6588 rows × 9 columns</p>\n</div>"
     },
     "execution_count": 32,
     "metadata": {},
     "output_type": "execute_result"
    }
   ],
   "source": [
    "all_polls[(all_polls.anti_conservative.fillna(0)) >= 15][\n",
    "    ['date_concluded', 'pollster', 'labour', 'liberal_democrat', 'green', 'scottish_national_party', 'plaid_cymru',\n",
    "     'anti_conservative', 'lead']]"
   ]
  },
  {
   "cell_type": "code",
   "execution_count": 33,
   "metadata": {
    "ExecuteTime": {
     "end_time": "2024-05-29T10:47:21.282704400Z",
     "start_time": "2024-05-29T10:47:20.712075200Z"
    }
   },
   "outputs": [
    {
     "data": {
      "text/plain": "     date_started date_concluded                      pollster  conservative  \\\n663    2022-10-20     2022-10-21                        YouGov          19.0   \n665    2022-10-20     2022-10-20                      We Think          22.0   \n666    2022-10-20     2022-10-20                 PeoplePolling          14.0   \n669    2022-10-19     2022-10-19  Redfield & Wilton Strategies          19.0   \n671    2022-10-16     2022-10-16  Redfield & Wilton Strategies          20.0   \n4970   1997-11-27     1997-12-03                        Gallup          21.0   \n4974   1997-10-30     1997-11-04                        Gallup          23.0   \n4975   1997-10-24     1997-10-27                    Ipsos MORI          24.0   \n4976   1997-10-06     1997-10-06                  ICM Research          23.0   \n4977   1997-09-25     1997-10-01                        Gallup          22.0   \n4979   1997-09-04     1997-09-08                  ICM Research          24.0   \n4984   1997-06-27     1997-06-28                  ICM Research          23.0   \n4986   1997-05-29     1997-06-04                        Gallup          23.0   \n5072   1996-12-02     1996-12-02                        Gallup          22.0   \n5136   1996-01-08     1996-01-08                        Gallup          21.0   \n5142   1995-12-04     1995-12-04                        Gallup          23.0   \n5148   1995-10-30     1995-10-30                        Gallup          21.5   \n5150   1995-10-20     1995-10-20                           NOP          23.0   \n5160   1995-07-31     1995-07-31                        Gallup          22.5   \n5172   1995-06-05     1995-06-05                        Gallup          20.0   \n5173   1995-05-22     1995-05-22                    Ipsos MORI          22.0   \n5182   1995-02-27     1995-02-27                        Gallup          20.5   \n5185   1995-01-30     1995-01-30                        Gallup          23.5   \n5188   1995-01-13     1995-01-13            Harris Interactive          25.0   \n5189   1995-01-09     1995-01-09                        Gallup          18.5   \n5190   1994-12-19     1994-12-19                    Ipsos MORI          22.0   \n5192   1994-12-05     1994-12-05                        Gallup          21.5   \n5196   1994-10-31     1994-10-31                        Gallup          21.5   \n5200   1994-09-27     1994-09-27                        Gallup          21.0   \n\n      labour  liberal_democrat      lead  \n663     56.0              10.0  lab+37.0  \n665     57.0               7.0  lab+35.0  \n666     53.0              11.0  lab+39.0  \n669     55.0              12.0  lab+36.0  \n671     56.0              11.0  lab+36.0  \n4970    57.0              17.0  lab+36.0  \n4974    63.0              11.0  lab+40.0  \n4975    60.0              12.0  lab+36.0  \n4976    59.0              13.0  lab+36.0  \n4977    60.0              14.0  lab+38.0  \n4979    60.0              10.0  lab+36.0  \n4984    61.0              12.0  lab+38.0  \n4986    59.0              13.0  lab+36.0  \n5072    59.0              12.0  lab+37.0  \n5136    60.5              14.5  lab+39.5  \n5142    62.0              12.0  lab+39.0  \n5148    61.0              14.5  lab+39.5  \n5150    59.0              15.0  lab+36.0  \n5160    57.5              14.5  lab+35.0  \n5172    59.5              14.5  lab+39.5  \n5173    58.0              16.0  lab+36.0  \n5182    60.5              15.0  lab+40.0  \n5185    59.5              13.0  lab+36.0  \n5188    60.0              12.0  lab+35.0  \n5189    62.0              14.0  lab+43.5  \n5190    61.0              13.0  lab+39.0  \n5192    61.0              13.5  lab+39.5  \n5196    56.5              17.0  lab+35.0  \n5200    57.5              15.5  lab+36.5  ",
      "text/html": "<div>\n<style scoped>\n    .dataframe tbody tr th:only-of-type {\n        vertical-align: middle;\n    }\n\n    .dataframe tbody tr th {\n        vertical-align: top;\n    }\n\n    .dataframe thead th {\n        text-align: right;\n    }\n</style>\n<table border=\"1\" class=\"dataframe\">\n  <thead>\n    <tr style=\"text-align: right;\">\n      <th></th>\n      <th>date_started</th>\n      <th>date_concluded</th>\n      <th>pollster</th>\n      <th>conservative</th>\n      <th>labour</th>\n      <th>liberal_democrat</th>\n      <th>lead</th>\n    </tr>\n  </thead>\n  <tbody>\n    <tr>\n      <th>663</th>\n      <td>2022-10-20</td>\n      <td>2022-10-21</td>\n      <td>YouGov</td>\n      <td>19.0</td>\n      <td>56.0</td>\n      <td>10.0</td>\n      <td>lab+37.0</td>\n    </tr>\n    <tr>\n      <th>665</th>\n      <td>2022-10-20</td>\n      <td>2022-10-20</td>\n      <td>We Think</td>\n      <td>22.0</td>\n      <td>57.0</td>\n      <td>7.0</td>\n      <td>lab+35.0</td>\n    </tr>\n    <tr>\n      <th>666</th>\n      <td>2022-10-20</td>\n      <td>2022-10-20</td>\n      <td>PeoplePolling</td>\n      <td>14.0</td>\n      <td>53.0</td>\n      <td>11.0</td>\n      <td>lab+39.0</td>\n    </tr>\n    <tr>\n      <th>669</th>\n      <td>2022-10-19</td>\n      <td>2022-10-19</td>\n      <td>Redfield &amp; Wilton Strategies</td>\n      <td>19.0</td>\n      <td>55.0</td>\n      <td>12.0</td>\n      <td>lab+36.0</td>\n    </tr>\n    <tr>\n      <th>671</th>\n      <td>2022-10-16</td>\n      <td>2022-10-16</td>\n      <td>Redfield &amp; Wilton Strategies</td>\n      <td>20.0</td>\n      <td>56.0</td>\n      <td>11.0</td>\n      <td>lab+36.0</td>\n    </tr>\n    <tr>\n      <th>4970</th>\n      <td>1997-11-27</td>\n      <td>1997-12-03</td>\n      <td>Gallup</td>\n      <td>21.0</td>\n      <td>57.0</td>\n      <td>17.0</td>\n      <td>lab+36.0</td>\n    </tr>\n    <tr>\n      <th>4974</th>\n      <td>1997-10-30</td>\n      <td>1997-11-04</td>\n      <td>Gallup</td>\n      <td>23.0</td>\n      <td>63.0</td>\n      <td>11.0</td>\n      <td>lab+40.0</td>\n    </tr>\n    <tr>\n      <th>4975</th>\n      <td>1997-10-24</td>\n      <td>1997-10-27</td>\n      <td>Ipsos MORI</td>\n      <td>24.0</td>\n      <td>60.0</td>\n      <td>12.0</td>\n      <td>lab+36.0</td>\n    </tr>\n    <tr>\n      <th>4976</th>\n      <td>1997-10-06</td>\n      <td>1997-10-06</td>\n      <td>ICM Research</td>\n      <td>23.0</td>\n      <td>59.0</td>\n      <td>13.0</td>\n      <td>lab+36.0</td>\n    </tr>\n    <tr>\n      <th>4977</th>\n      <td>1997-09-25</td>\n      <td>1997-10-01</td>\n      <td>Gallup</td>\n      <td>22.0</td>\n      <td>60.0</td>\n      <td>14.0</td>\n      <td>lab+38.0</td>\n    </tr>\n    <tr>\n      <th>4979</th>\n      <td>1997-09-04</td>\n      <td>1997-09-08</td>\n      <td>ICM Research</td>\n      <td>24.0</td>\n      <td>60.0</td>\n      <td>10.0</td>\n      <td>lab+36.0</td>\n    </tr>\n    <tr>\n      <th>4984</th>\n      <td>1997-06-27</td>\n      <td>1997-06-28</td>\n      <td>ICM Research</td>\n      <td>23.0</td>\n      <td>61.0</td>\n      <td>12.0</td>\n      <td>lab+38.0</td>\n    </tr>\n    <tr>\n      <th>4986</th>\n      <td>1997-05-29</td>\n      <td>1997-06-04</td>\n      <td>Gallup</td>\n      <td>23.0</td>\n      <td>59.0</td>\n      <td>13.0</td>\n      <td>lab+36.0</td>\n    </tr>\n    <tr>\n      <th>5072</th>\n      <td>1996-12-02</td>\n      <td>1996-12-02</td>\n      <td>Gallup</td>\n      <td>22.0</td>\n      <td>59.0</td>\n      <td>12.0</td>\n      <td>lab+37.0</td>\n    </tr>\n    <tr>\n      <th>5136</th>\n      <td>1996-01-08</td>\n      <td>1996-01-08</td>\n      <td>Gallup</td>\n      <td>21.0</td>\n      <td>60.5</td>\n      <td>14.5</td>\n      <td>lab+39.5</td>\n    </tr>\n    <tr>\n      <th>5142</th>\n      <td>1995-12-04</td>\n      <td>1995-12-04</td>\n      <td>Gallup</td>\n      <td>23.0</td>\n      <td>62.0</td>\n      <td>12.0</td>\n      <td>lab+39.0</td>\n    </tr>\n    <tr>\n      <th>5148</th>\n      <td>1995-10-30</td>\n      <td>1995-10-30</td>\n      <td>Gallup</td>\n      <td>21.5</td>\n      <td>61.0</td>\n      <td>14.5</td>\n      <td>lab+39.5</td>\n    </tr>\n    <tr>\n      <th>5150</th>\n      <td>1995-10-20</td>\n      <td>1995-10-20</td>\n      <td>NOP</td>\n      <td>23.0</td>\n      <td>59.0</td>\n      <td>15.0</td>\n      <td>lab+36.0</td>\n    </tr>\n    <tr>\n      <th>5160</th>\n      <td>1995-07-31</td>\n      <td>1995-07-31</td>\n      <td>Gallup</td>\n      <td>22.5</td>\n      <td>57.5</td>\n      <td>14.5</td>\n      <td>lab+35.0</td>\n    </tr>\n    <tr>\n      <th>5172</th>\n      <td>1995-06-05</td>\n      <td>1995-06-05</td>\n      <td>Gallup</td>\n      <td>20.0</td>\n      <td>59.5</td>\n      <td>14.5</td>\n      <td>lab+39.5</td>\n    </tr>\n    <tr>\n      <th>5173</th>\n      <td>1995-05-22</td>\n      <td>1995-05-22</td>\n      <td>Ipsos MORI</td>\n      <td>22.0</td>\n      <td>58.0</td>\n      <td>16.0</td>\n      <td>lab+36.0</td>\n    </tr>\n    <tr>\n      <th>5182</th>\n      <td>1995-02-27</td>\n      <td>1995-02-27</td>\n      <td>Gallup</td>\n      <td>20.5</td>\n      <td>60.5</td>\n      <td>15.0</td>\n      <td>lab+40.0</td>\n    </tr>\n    <tr>\n      <th>5185</th>\n      <td>1995-01-30</td>\n      <td>1995-01-30</td>\n      <td>Gallup</td>\n      <td>23.5</td>\n      <td>59.5</td>\n      <td>13.0</td>\n      <td>lab+36.0</td>\n    </tr>\n    <tr>\n      <th>5188</th>\n      <td>1995-01-13</td>\n      <td>1995-01-13</td>\n      <td>Harris Interactive</td>\n      <td>25.0</td>\n      <td>60.0</td>\n      <td>12.0</td>\n      <td>lab+35.0</td>\n    </tr>\n    <tr>\n      <th>5189</th>\n      <td>1995-01-09</td>\n      <td>1995-01-09</td>\n      <td>Gallup</td>\n      <td>18.5</td>\n      <td>62.0</td>\n      <td>14.0</td>\n      <td>lab+43.5</td>\n    </tr>\n    <tr>\n      <th>5190</th>\n      <td>1994-12-19</td>\n      <td>1994-12-19</td>\n      <td>Ipsos MORI</td>\n      <td>22.0</td>\n      <td>61.0</td>\n      <td>13.0</td>\n      <td>lab+39.0</td>\n    </tr>\n    <tr>\n      <th>5192</th>\n      <td>1994-12-05</td>\n      <td>1994-12-05</td>\n      <td>Gallup</td>\n      <td>21.5</td>\n      <td>61.0</td>\n      <td>13.5</td>\n      <td>lab+39.5</td>\n    </tr>\n    <tr>\n      <th>5196</th>\n      <td>1994-10-31</td>\n      <td>1994-10-31</td>\n      <td>Gallup</td>\n      <td>21.5</td>\n      <td>56.5</td>\n      <td>17.0</td>\n      <td>lab+35.0</td>\n    </tr>\n    <tr>\n      <th>5200</th>\n      <td>1994-09-27</td>\n      <td>1994-09-27</td>\n      <td>Gallup</td>\n      <td>21.0</td>\n      <td>57.5</td>\n      <td>15.5</td>\n      <td>lab+36.5</td>\n    </tr>\n  </tbody>\n</table>\n</div>"
     },
     "execution_count": 33,
     "metadata": {},
     "output_type": "execute_result"
    }
   ],
   "source": [
    "all_polls.query(\"labour>conservative and lead_value>=35\")[display_columns]"
   ]
  },
  {
   "cell_type": "code",
   "execution_count": 34,
   "metadata": {
    "ExecuteTime": {
     "end_time": "2024-05-29T10:47:21.451651900Z",
     "start_time": "2024-05-29T10:47:20.792234300Z"
    }
   },
   "outputs": [
    {
     "data": {
      "text/plain": "     date_started date_concluded                      pollster  conservative  \\\n661    2022-10-21     2022-10-22                      We Think          22.0   \n663    2022-10-20     2022-10-21                        YouGov          19.0   \n665    2022-10-20     2022-10-20                      We Think          22.0   \n671    2022-10-16     2022-10-16  Redfield & Wilton Strategies          20.0   \n4896   1999-10-22     1999-10-25                    Ipsos MORI          28.0   \n...           ...            ...                           ...           ...   \n5207   1994-08-22     1994-08-22                    Ipsos MORI          23.0   \n5209   1994-08-01     1994-08-01                        Gallup          23.0   \n5611   1990-04-07     1990-04-07                  ICM Research          32.0   \n5617   1990-03-22     1990-03-22            Harris Interactive          29.0   \n6239   1980-12-19     1980-12-19                        Gallup          32.0   \n\n      labour  liberal_democrat      lead  \n661     56.0              10.0  lab+34.0  \n663     56.0              10.0  lab+37.0  \n665     57.0               7.0  lab+35.0  \n671     56.0              11.0  lab+36.0  \n4896    56.0              11.0  lab+28.0  \n...      ...               ...       ...  \n5207    56.0              18.0  lab+33.0  \n5209    56.5              14.5  lab+33.5  \n5611    56.0               4.0  lab+24.0  \n5617    57.0               6.0  lab+28.0  \n6239    56.0               NaN  lab+24.0  \n\n[89 rows x 7 columns]",
      "text/html": "<div>\n<style scoped>\n    .dataframe tbody tr th:only-of-type {\n        vertical-align: middle;\n    }\n\n    .dataframe tbody tr th {\n        vertical-align: top;\n    }\n\n    .dataframe thead th {\n        text-align: right;\n    }\n</style>\n<table border=\"1\" class=\"dataframe\">\n  <thead>\n    <tr style=\"text-align: right;\">\n      <th></th>\n      <th>date_started</th>\n      <th>date_concluded</th>\n      <th>pollster</th>\n      <th>conservative</th>\n      <th>labour</th>\n      <th>liberal_democrat</th>\n      <th>lead</th>\n    </tr>\n  </thead>\n  <tbody>\n    <tr>\n      <th>661</th>\n      <td>2022-10-21</td>\n      <td>2022-10-22</td>\n      <td>We Think</td>\n      <td>22.0</td>\n      <td>56.0</td>\n      <td>10.0</td>\n      <td>lab+34.0</td>\n    </tr>\n    <tr>\n      <th>663</th>\n      <td>2022-10-20</td>\n      <td>2022-10-21</td>\n      <td>YouGov</td>\n      <td>19.0</td>\n      <td>56.0</td>\n      <td>10.0</td>\n      <td>lab+37.0</td>\n    </tr>\n    <tr>\n      <th>665</th>\n      <td>2022-10-20</td>\n      <td>2022-10-20</td>\n      <td>We Think</td>\n      <td>22.0</td>\n      <td>57.0</td>\n      <td>7.0</td>\n      <td>lab+35.0</td>\n    </tr>\n    <tr>\n      <th>671</th>\n      <td>2022-10-16</td>\n      <td>2022-10-16</td>\n      <td>Redfield &amp; Wilton Strategies</td>\n      <td>20.0</td>\n      <td>56.0</td>\n      <td>11.0</td>\n      <td>lab+36.0</td>\n    </tr>\n    <tr>\n      <th>4896</th>\n      <td>1999-10-22</td>\n      <td>1999-10-25</td>\n      <td>Ipsos MORI</td>\n      <td>28.0</td>\n      <td>56.0</td>\n      <td>11.0</td>\n      <td>lab+28.0</td>\n    </tr>\n    <tr>\n      <th>...</th>\n      <td>...</td>\n      <td>...</td>\n      <td>...</td>\n      <td>...</td>\n      <td>...</td>\n      <td>...</td>\n      <td>...</td>\n    </tr>\n    <tr>\n      <th>5207</th>\n      <td>1994-08-22</td>\n      <td>1994-08-22</td>\n      <td>Ipsos MORI</td>\n      <td>23.0</td>\n      <td>56.0</td>\n      <td>18.0</td>\n      <td>lab+33.0</td>\n    </tr>\n    <tr>\n      <th>5209</th>\n      <td>1994-08-01</td>\n      <td>1994-08-01</td>\n      <td>Gallup</td>\n      <td>23.0</td>\n      <td>56.5</td>\n      <td>14.5</td>\n      <td>lab+33.5</td>\n    </tr>\n    <tr>\n      <th>5611</th>\n      <td>1990-04-07</td>\n      <td>1990-04-07</td>\n      <td>ICM Research</td>\n      <td>32.0</td>\n      <td>56.0</td>\n      <td>4.0</td>\n      <td>lab+24.0</td>\n    </tr>\n    <tr>\n      <th>5617</th>\n      <td>1990-03-22</td>\n      <td>1990-03-22</td>\n      <td>Harris Interactive</td>\n      <td>29.0</td>\n      <td>57.0</td>\n      <td>6.0</td>\n      <td>lab+28.0</td>\n    </tr>\n    <tr>\n      <th>6239</th>\n      <td>1980-12-19</td>\n      <td>1980-12-19</td>\n      <td>Gallup</td>\n      <td>32.0</td>\n      <td>56.0</td>\n      <td>NaN</td>\n      <td>lab+24.0</td>\n    </tr>\n  </tbody>\n</table>\n<p>89 rows × 7 columns</p>\n</div>"
     },
     "execution_count": 34,
     "metadata": {},
     "output_type": "execute_result"
    }
   ],
   "source": [
    "all_polls.query(\"labour>55\")[display_columns]"
   ]
  },
  {
   "cell_type": "code",
   "execution_count": 34,
   "metadata": {
    "ExecuteTime": {
     "end_time": "2024-05-29T10:47:21.452151500Z",
     "start_time": "2024-05-29T10:47:20.867484700Z"
    }
   },
   "outputs": [],
   "source": []
  },
  {
   "cell_type": "code",
   "execution_count": 35,
   "metadata": {
    "ExecuteTime": {
     "end_time": "2024-05-29T10:47:21.647560500Z",
     "start_time": "2024-05-29T10:47:20.870951900Z"
    }
   },
   "outputs": [
    {
     "data": {
      "text/plain": "     date_started date_concluded    pollster  conservative  labour  \\\n4975   1997-10-24     1997-10-27  Ipsos MORI          24.0    60.0   \n5173   1995-05-22     1995-05-22  Ipsos MORI          22.0    58.0   \n5190   1994-12-19     1994-12-19  Ipsos MORI          22.0    61.0   \n\n      liberal_democrat      lead  \n4975              12.0  lab+36.0  \n5173              16.0  lab+36.0  \n5190              13.0  lab+39.0  ",
      "text/html": "<div>\n<style scoped>\n    .dataframe tbody tr th:only-of-type {\n        vertical-align: middle;\n    }\n\n    .dataframe tbody tr th {\n        vertical-align: top;\n    }\n\n    .dataframe thead th {\n        text-align: right;\n    }\n</style>\n<table border=\"1\" class=\"dataframe\">\n  <thead>\n    <tr style=\"text-align: right;\">\n      <th></th>\n      <th>date_started</th>\n      <th>date_concluded</th>\n      <th>pollster</th>\n      <th>conservative</th>\n      <th>labour</th>\n      <th>liberal_democrat</th>\n      <th>lead</th>\n    </tr>\n  </thead>\n  <tbody>\n    <tr>\n      <th>4975</th>\n      <td>1997-10-24</td>\n      <td>1997-10-27</td>\n      <td>Ipsos MORI</td>\n      <td>24.0</td>\n      <td>60.0</td>\n      <td>12.0</td>\n      <td>lab+36.0</td>\n    </tr>\n    <tr>\n      <th>5173</th>\n      <td>1995-05-22</td>\n      <td>1995-05-22</td>\n      <td>Ipsos MORI</td>\n      <td>22.0</td>\n      <td>58.0</td>\n      <td>16.0</td>\n      <td>lab+36.0</td>\n    </tr>\n    <tr>\n      <th>5190</th>\n      <td>1994-12-19</td>\n      <td>1994-12-19</td>\n      <td>Ipsos MORI</td>\n      <td>22.0</td>\n      <td>61.0</td>\n      <td>13.0</td>\n      <td>lab+39.0</td>\n    </tr>\n  </tbody>\n</table>\n</div>"
     },
     "execution_count": 35,
     "metadata": {},
     "output_type": "execute_result"
    }
   ],
   "source": [
    "all_polls.query(\"pollster=='Ipsos MORI' and labour>conservative and lead_value>=35\")[display_columns]"
   ]
  },
  {
   "cell_type": "code",
   "execution_count": 36,
   "metadata": {
    "ExecuteTime": {
     "end_time": "2024-05-29T10:47:21.648060200Z",
     "start_time": "2024-05-29T10:47:20.943241300Z"
    }
   },
   "outputs": [
    {
     "data": {
      "text/plain": "     date_started date_concluded      pollster  conservative  labour  \\\n1389   2019-12-06     2019-12-09  ICM Research          42.0    36.0   \n1403   2019-11-29     2019-12-02  ICM Research          42.0    35.0   \n1415   2019-11-22     2019-11-25  ICM Research          41.0    34.0   \n1427   2019-11-15     2019-11-18  ICM Research          42.0    32.0   \n1440   2019-11-08     2019-11-11  ICM Research          39.0    31.0   \n...           ...            ...           ...           ...     ...   \n5700   1989-05-13     1989-05-13  ICM Research          43.0    43.0   \n5706   1989-04-08     1989-04-08  ICM Research          44.0    40.0   \n5713   1989-03-13     1989-03-13  ICM Research          41.0    39.0   \n5723   1989-02-11     1989-02-11  ICM Research          42.0    39.0   \n5730   1989-01-16     1989-01-16  ICM Research          44.0    40.0   \n\n      liberal_democrat      lead  \n1389              12.0   con+6.0  \n1403              13.0   con+7.0  \n1415              13.0   con+7.0  \n1427              13.0  con+10.0  \n1440              15.0   con+8.0  \n...                ...       ...  \n5700               8.0       Tie  \n5706               7.0   con+4.0  \n5713               8.0   con+2.0  \n5723               7.0   con+3.0  \n5730               8.0   con+4.0  \n\n[545 rows x 7 columns]",
      "text/html": "<div>\n<style scoped>\n    .dataframe tbody tr th:only-of-type {\n        vertical-align: middle;\n    }\n\n    .dataframe tbody tr th {\n        vertical-align: top;\n    }\n\n    .dataframe thead th {\n        text-align: right;\n    }\n</style>\n<table border=\"1\" class=\"dataframe\">\n  <thead>\n    <tr style=\"text-align: right;\">\n      <th></th>\n      <th>date_started</th>\n      <th>date_concluded</th>\n      <th>pollster</th>\n      <th>conservative</th>\n      <th>labour</th>\n      <th>liberal_democrat</th>\n      <th>lead</th>\n    </tr>\n  </thead>\n  <tbody>\n    <tr>\n      <th>1389</th>\n      <td>2019-12-06</td>\n      <td>2019-12-09</td>\n      <td>ICM Research</td>\n      <td>42.0</td>\n      <td>36.0</td>\n      <td>12.0</td>\n      <td>con+6.0</td>\n    </tr>\n    <tr>\n      <th>1403</th>\n      <td>2019-11-29</td>\n      <td>2019-12-02</td>\n      <td>ICM Research</td>\n      <td>42.0</td>\n      <td>35.0</td>\n      <td>13.0</td>\n      <td>con+7.0</td>\n    </tr>\n    <tr>\n      <th>1415</th>\n      <td>2019-11-22</td>\n      <td>2019-11-25</td>\n      <td>ICM Research</td>\n      <td>41.0</td>\n      <td>34.0</td>\n      <td>13.0</td>\n      <td>con+7.0</td>\n    </tr>\n    <tr>\n      <th>1427</th>\n      <td>2019-11-15</td>\n      <td>2019-11-18</td>\n      <td>ICM Research</td>\n      <td>42.0</td>\n      <td>32.0</td>\n      <td>13.0</td>\n      <td>con+10.0</td>\n    </tr>\n    <tr>\n      <th>1440</th>\n      <td>2019-11-08</td>\n      <td>2019-11-11</td>\n      <td>ICM Research</td>\n      <td>39.0</td>\n      <td>31.0</td>\n      <td>15.0</td>\n      <td>con+8.0</td>\n    </tr>\n    <tr>\n      <th>...</th>\n      <td>...</td>\n      <td>...</td>\n      <td>...</td>\n      <td>...</td>\n      <td>...</td>\n      <td>...</td>\n      <td>...</td>\n    </tr>\n    <tr>\n      <th>5700</th>\n      <td>1989-05-13</td>\n      <td>1989-05-13</td>\n      <td>ICM Research</td>\n      <td>43.0</td>\n      <td>43.0</td>\n      <td>8.0</td>\n      <td>Tie</td>\n    </tr>\n    <tr>\n      <th>5706</th>\n      <td>1989-04-08</td>\n      <td>1989-04-08</td>\n      <td>ICM Research</td>\n      <td>44.0</td>\n      <td>40.0</td>\n      <td>7.0</td>\n      <td>con+4.0</td>\n    </tr>\n    <tr>\n      <th>5713</th>\n      <td>1989-03-13</td>\n      <td>1989-03-13</td>\n      <td>ICM Research</td>\n      <td>41.0</td>\n      <td>39.0</td>\n      <td>8.0</td>\n      <td>con+2.0</td>\n    </tr>\n    <tr>\n      <th>5723</th>\n      <td>1989-02-11</td>\n      <td>1989-02-11</td>\n      <td>ICM Research</td>\n      <td>42.0</td>\n      <td>39.0</td>\n      <td>7.0</td>\n      <td>con+3.0</td>\n    </tr>\n    <tr>\n      <th>5730</th>\n      <td>1989-01-16</td>\n      <td>1989-01-16</td>\n      <td>ICM Research</td>\n      <td>44.0</td>\n      <td>40.0</td>\n      <td>8.0</td>\n      <td>con+4.0</td>\n    </tr>\n  </tbody>\n</table>\n<p>545 rows × 7 columns</p>\n</div>"
     },
     "execution_count": 36,
     "metadata": {},
     "output_type": "execute_result"
    }
   ],
   "source": [
    "all_polls.query(\"pollster=='ICM Research'\")[display_columns]"
   ]
  },
  {
   "cell_type": "code",
   "execution_count": 37,
   "metadata": {
    "ExecuteTime": {
     "end_time": "2024-05-29T10:47:22.144648200Z",
     "start_time": "2024-05-29T10:47:21.018547800Z"
    }
   },
   "outputs": [
    {
     "data": {
      "text/plain": "Empty DataFrame\nColumns: [date_started, date_concluded, pollster, conservative, labour, liberal_democrat, lead]\nIndex: []",
      "text/html": "<div>\n<style scoped>\n    .dataframe tbody tr th:only-of-type {\n        vertical-align: middle;\n    }\n\n    .dataframe tbody tr th {\n        vertical-align: top;\n    }\n\n    .dataframe thead th {\n        text-align: right;\n    }\n</style>\n<table border=\"1\" class=\"dataframe\">\n  <thead>\n    <tr style=\"text-align: right;\">\n      <th></th>\n      <th>date_started</th>\n      <th>date_concluded</th>\n      <th>pollster</th>\n      <th>conservative</th>\n      <th>labour</th>\n      <th>liberal_democrat</th>\n      <th>lead</th>\n    </tr>\n  </thead>\n  <tbody>\n  </tbody>\n</table>\n</div>"
     },
     "execution_count": 37,
     "metadata": {},
     "output_type": "execute_result"
    }
   ],
   "source": [
    "all_polls.query(\"pollster=='Savanta ComRes' and lead_value >= 20\")[display_columns]"
   ]
  },
  {
   "cell_type": "code",
   "execution_count": 38,
   "metadata": {
    "ExecuteTime": {
     "end_time": "2024-05-29T10:47:22.146651700Z",
     "start_time": "2024-05-29T10:47:21.089308Z"
    }
   },
   "outputs": [
    {
     "data": {
      "text/plain": "     date_started date_concluded                      pollster  conservative  \\\n654    2022-10-25     2022-10-26  Redfield & Wilton Strategies          23.0   \n658    2022-10-23     2022-10-23  Redfield & Wilton Strategies          21.0   \n661    2022-10-21     2022-10-22                      We Think          22.0   \n663    2022-10-20     2022-10-21                        YouGov          19.0   \n665    2022-10-20     2022-10-20                      We Think          22.0   \n...           ...            ...                           ...           ...   \n5618   1990-03-20     1990-03-20                    Ipsos MORI          31.0   \n6239   1980-12-19     1980-12-19                        Gallup          32.0   \n6573   1971-09-20     1971-09-20                        Gallup          35.0   \n6575   1971-07-12     1971-07-12                        Gallup          33.5   \n6576   1971-06-13     1971-06-13                        Gallup          36.0   \n\n      labour  liberal_democrat      lead  \n654     55.0               9.0  lab+32.0  \n658     54.0              11.0  lab+33.0  \n661     56.0              10.0  lab+34.0  \n663     56.0              10.0  lab+37.0  \n665     57.0               7.0  lab+35.0  \n...      ...               ...       ...  \n5618    54.0               6.0  lab+23.0  \n6239    56.0               NaN  lab+24.0  \n6573    54.0               NaN  lab+19.0  \n6575    55.0               NaN  lab+21.5  \n6576    54.0               NaN  lab+18.0  \n\n[172 rows x 7 columns]",
      "text/html": "<div>\n<style scoped>\n    .dataframe tbody tr th:only-of-type {\n        vertical-align: middle;\n    }\n\n    .dataframe tbody tr th {\n        vertical-align: top;\n    }\n\n    .dataframe thead th {\n        text-align: right;\n    }\n</style>\n<table border=\"1\" class=\"dataframe\">\n  <thead>\n    <tr style=\"text-align: right;\">\n      <th></th>\n      <th>date_started</th>\n      <th>date_concluded</th>\n      <th>pollster</th>\n      <th>conservative</th>\n      <th>labour</th>\n      <th>liberal_democrat</th>\n      <th>lead</th>\n    </tr>\n  </thead>\n  <tbody>\n    <tr>\n      <th>654</th>\n      <td>2022-10-25</td>\n      <td>2022-10-26</td>\n      <td>Redfield &amp; Wilton Strategies</td>\n      <td>23.0</td>\n      <td>55.0</td>\n      <td>9.0</td>\n      <td>lab+32.0</td>\n    </tr>\n    <tr>\n      <th>658</th>\n      <td>2022-10-23</td>\n      <td>2022-10-23</td>\n      <td>Redfield &amp; Wilton Strategies</td>\n      <td>21.0</td>\n      <td>54.0</td>\n      <td>11.0</td>\n      <td>lab+33.0</td>\n    </tr>\n    <tr>\n      <th>661</th>\n      <td>2022-10-21</td>\n      <td>2022-10-22</td>\n      <td>We Think</td>\n      <td>22.0</td>\n      <td>56.0</td>\n      <td>10.0</td>\n      <td>lab+34.0</td>\n    </tr>\n    <tr>\n      <th>663</th>\n      <td>2022-10-20</td>\n      <td>2022-10-21</td>\n      <td>YouGov</td>\n      <td>19.0</td>\n      <td>56.0</td>\n      <td>10.0</td>\n      <td>lab+37.0</td>\n    </tr>\n    <tr>\n      <th>665</th>\n      <td>2022-10-20</td>\n      <td>2022-10-20</td>\n      <td>We Think</td>\n      <td>22.0</td>\n      <td>57.0</td>\n      <td>7.0</td>\n      <td>lab+35.0</td>\n    </tr>\n    <tr>\n      <th>...</th>\n      <td>...</td>\n      <td>...</td>\n      <td>...</td>\n      <td>...</td>\n      <td>...</td>\n      <td>...</td>\n      <td>...</td>\n    </tr>\n    <tr>\n      <th>5618</th>\n      <td>1990-03-20</td>\n      <td>1990-03-20</td>\n      <td>Ipsos MORI</td>\n      <td>31.0</td>\n      <td>54.0</td>\n      <td>6.0</td>\n      <td>lab+23.0</td>\n    </tr>\n    <tr>\n      <th>6239</th>\n      <td>1980-12-19</td>\n      <td>1980-12-19</td>\n      <td>Gallup</td>\n      <td>32.0</td>\n      <td>56.0</td>\n      <td>NaN</td>\n      <td>lab+24.0</td>\n    </tr>\n    <tr>\n      <th>6573</th>\n      <td>1971-09-20</td>\n      <td>1971-09-20</td>\n      <td>Gallup</td>\n      <td>35.0</td>\n      <td>54.0</td>\n      <td>NaN</td>\n      <td>lab+19.0</td>\n    </tr>\n    <tr>\n      <th>6575</th>\n      <td>1971-07-12</td>\n      <td>1971-07-12</td>\n      <td>Gallup</td>\n      <td>33.5</td>\n      <td>55.0</td>\n      <td>NaN</td>\n      <td>lab+21.5</td>\n    </tr>\n    <tr>\n      <th>6576</th>\n      <td>1971-06-13</td>\n      <td>1971-06-13</td>\n      <td>Gallup</td>\n      <td>36.0</td>\n      <td>54.0</td>\n      <td>NaN</td>\n      <td>lab+18.0</td>\n    </tr>\n  </tbody>\n</table>\n<p>172 rows × 7 columns</p>\n</div>"
     },
     "execution_count": 38,
     "metadata": {},
     "output_type": "execute_result"
    }
   ],
   "source": [
    "all_polls.query(\"labour>53\")[display_columns]"
   ]
  },
  {
   "cell_type": "code",
   "execution_count": 38,
   "metadata": {
    "ExecuteTime": {
     "end_time": "2024-05-29T10:47:22.146651700Z",
     "start_time": "2024-05-29T10:47:21.165171500Z"
    }
   },
   "outputs": [],
   "source": []
  },
  {
   "cell_type": "code",
   "execution_count": 39,
   "metadata": {
    "ExecuteTime": {
     "end_time": "2024-05-29T10:47:22.147152Z",
     "start_time": "2024-05-29T10:47:21.168668200Z"
    }
   },
   "outputs": [
    {
     "data": {
      "text/plain": "     date_started date_concluded                      pollster  conservative  \\\n0      2024-05-26     2024-05-28                        YouGov          20.0   \n1      2024-05-25     2024-05-27  Redfield & Wilton Strategies          23.0   \n2      2024-05-24     2024-05-27                     Survation          24.0   \n3      2024-05-23     2024-05-25                     Deltapoll          23.0   \n5      2024-05-23     2024-05-24                      We Think          22.0   \n...           ...            ...                           ...           ...   \n5271   1993-05-31     1993-05-31                        Gallup          25.0   \n5272   1993-05-24     1993-05-24                    Ipsos MORI          28.0   \n5613   1990-04-02     1990-04-02                        Gallup          28.0   \n5616   1990-03-23     1990-03-23                  ICM Research          28.0   \n6200   1981-12-14     1981-12-14                    Ipsos MORI          23.0   \n\n      labour  liberal_democrat      lead  \n0       47.0               9.0  lab+27.0  \n1       46.0               9.0  lab+23.0  \n2       47.0              11.0  lab+23.0  \n3       45.0               9.0  lab+22.0  \n5       47.0               8.0  lab+25.0  \n...      ...               ...       ...  \n5271    49.0              23.0  lab+24.0  \n5272    44.0              24.0  lab+16.0  \n5613    52.5               7.5  lab+24.5  \n5616    55.0               7.0  lab+27.0  \n6200    23.5               NaN  all+27.0  \n\n[781 rows x 7 columns]",
      "text/html": "<div>\n<style scoped>\n    .dataframe tbody tr th:only-of-type {\n        vertical-align: middle;\n    }\n\n    .dataframe tbody tr th {\n        vertical-align: top;\n    }\n\n    .dataframe thead th {\n        text-align: right;\n    }\n</style>\n<table border=\"1\" class=\"dataframe\">\n  <thead>\n    <tr style=\"text-align: right;\">\n      <th></th>\n      <th>date_started</th>\n      <th>date_concluded</th>\n      <th>pollster</th>\n      <th>conservative</th>\n      <th>labour</th>\n      <th>liberal_democrat</th>\n      <th>lead</th>\n    </tr>\n  </thead>\n  <tbody>\n    <tr>\n      <th>0</th>\n      <td>2024-05-26</td>\n      <td>2024-05-28</td>\n      <td>YouGov</td>\n      <td>20.0</td>\n      <td>47.0</td>\n      <td>9.0</td>\n      <td>lab+27.0</td>\n    </tr>\n    <tr>\n      <th>1</th>\n      <td>2024-05-25</td>\n      <td>2024-05-27</td>\n      <td>Redfield &amp; Wilton Strategies</td>\n      <td>23.0</td>\n      <td>46.0</td>\n      <td>9.0</td>\n      <td>lab+23.0</td>\n    </tr>\n    <tr>\n      <th>2</th>\n      <td>2024-05-24</td>\n      <td>2024-05-27</td>\n      <td>Survation</td>\n      <td>24.0</td>\n      <td>47.0</td>\n      <td>11.0</td>\n      <td>lab+23.0</td>\n    </tr>\n    <tr>\n      <th>3</th>\n      <td>2024-05-23</td>\n      <td>2024-05-25</td>\n      <td>Deltapoll</td>\n      <td>23.0</td>\n      <td>45.0</td>\n      <td>9.0</td>\n      <td>lab+22.0</td>\n    </tr>\n    <tr>\n      <th>5</th>\n      <td>2024-05-23</td>\n      <td>2024-05-24</td>\n      <td>We Think</td>\n      <td>22.0</td>\n      <td>47.0</td>\n      <td>8.0</td>\n      <td>lab+25.0</td>\n    </tr>\n    <tr>\n      <th>...</th>\n      <td>...</td>\n      <td>...</td>\n      <td>...</td>\n      <td>...</td>\n      <td>...</td>\n      <td>...</td>\n      <td>...</td>\n    </tr>\n    <tr>\n      <th>5271</th>\n      <td>1993-05-31</td>\n      <td>1993-05-31</td>\n      <td>Gallup</td>\n      <td>25.0</td>\n      <td>49.0</td>\n      <td>23.0</td>\n      <td>lab+24.0</td>\n    </tr>\n    <tr>\n      <th>5272</th>\n      <td>1993-05-24</td>\n      <td>1993-05-24</td>\n      <td>Ipsos MORI</td>\n      <td>28.0</td>\n      <td>44.0</td>\n      <td>24.0</td>\n      <td>lab+16.0</td>\n    </tr>\n    <tr>\n      <th>5613</th>\n      <td>1990-04-02</td>\n      <td>1990-04-02</td>\n      <td>Gallup</td>\n      <td>28.0</td>\n      <td>52.5</td>\n      <td>7.5</td>\n      <td>lab+24.5</td>\n    </tr>\n    <tr>\n      <th>5616</th>\n      <td>1990-03-23</td>\n      <td>1990-03-23</td>\n      <td>ICM Research</td>\n      <td>28.0</td>\n      <td>55.0</td>\n      <td>7.0</td>\n      <td>lab+27.0</td>\n    </tr>\n    <tr>\n      <th>6200</th>\n      <td>1981-12-14</td>\n      <td>1981-12-14</td>\n      <td>Ipsos MORI</td>\n      <td>23.0</td>\n      <td>23.5</td>\n      <td>NaN</td>\n      <td>all+27.0</td>\n    </tr>\n  </tbody>\n</table>\n<p>781 rows × 7 columns</p>\n</div>"
     },
     "execution_count": 39,
     "metadata": {},
     "output_type": "execute_result"
    }
   ],
   "source": [
    "all_polls.query(\"conservative<29 and labour>conservative and lead_value>14\")[display_columns]"
   ]
  },
  {
   "cell_type": "code",
   "execution_count": 40,
   "metadata": {
    "ExecuteTime": {
     "end_time": "2024-05-29T10:47:22.522122300Z",
     "start_time": "2024-05-29T10:47:21.248172300Z"
    }
   },
   "outputs": [],
   "source": [
    "all_polls.loc[(all_polls.labour >= 50), 'maj_lead'] = 1\n",
    "all_polls['maj_lead'] = all_polls['maj_lead'].fillna(0)\n",
    "all_polls['maj_lead_in_row'] = 0\n",
    "for ix, value in all_polls['maj_lead'].iteritems():\n",
    "    if value >= 1:\n",
    "        polls_before = all_polls.iloc[:ix]['maj_lead']\n",
    "        polls_after = all_polls.iloc[ix:]['maj_lead']\n",
    "        next_untrue_poll = polls_after[polls_after == 0].index[0]\n",
    "        after_polls = next_untrue_poll - ix\n",
    "\n",
    "        if len(polls_before[polls_before == 0]) == 0:\n",
    "            before_polls = len(polls_before)\n",
    "        else:\n",
    "            last_untrue_poll = polls_before[polls_before == 0].index[-1]\n",
    "            before_polls = (ix - last_untrue_poll) - 1\n",
    "\n",
    "        total_polls = before_polls + after_polls\n",
    "        all_polls.loc[ix, 'maj_lead_in_row'] = total_polls\n",
    "    else:\n",
    "        total_polls = 0"
   ]
  },
  {
   "cell_type": "code",
   "execution_count": 41,
   "metadata": {
    "ExecuteTime": {
     "end_time": "2024-05-29T10:47:22.643382800Z",
     "start_time": "2024-05-29T10:47:21.714210300Z"
    }
   },
   "outputs": [],
   "source": [
    "all_polls[all_polls['maj_lead_in_row'] > 5][\n",
    "    ['date_concluded', 'pollster', 'conservative', 'labour', 'liberal_democrat', 'lead',\n",
    "     'maj_lead_in_row']].to_clipboard(sep='\\t')"
   ]
  },
  {
   "cell_type": "code",
   "execution_count": 42,
   "metadata": {
    "ExecuteTime": {
     "end_time": "2024-05-29T10:47:22.656014100Z",
     "start_time": "2024-05-29T10:47:21.811485800Z"
    }
   },
   "outputs": [
    {
     "data": {
      "text/plain": "     date_started date_concluded                      pollster  \\\n0      2024-05-26     2024-05-28                        YouGov   \n1      2024-05-25     2024-05-27  Redfield & Wilton Strategies   \n2      2024-05-24     2024-05-27                     Survation   \n3      2024-05-23     2024-05-25                     Deltapoll   \n4      2024-05-24     2024-05-25                   JL Partners   \n...           ...            ...                           ...   \n6584   1970-11-15     1970-11-15                        Gallup   \n6585   1970-10-18     1970-10-18                        Gallup   \n6586   1970-09-13     1970-09-13                        Gallup   \n6587   1970-08-16     1970-08-16                        Gallup   \n6588   1970-06-18     1970-06-18              General Election   \n\n                     client area sample_size  conservative  labour  \\\n0                  Sky News   GB        2128          20.0    47.0   \n1                       NaN   GB       12000          23.0    46.0   \n2                       NaN   UK        2040          24.0    47.0   \n3            Mail on Sunday   GB        1517          23.0    45.0   \n4      The Rest is Politics   GB        2013          28.0    40.0   \n...                     ...  ...         ...           ...     ...   \n6584    The Daily Telegraph  NaN         NaN          43.5    48.0   \n6585    The Daily Telegraph  NaN         NaN          46.5    46.5   \n6586    The Daily Telegraph  NaN         NaN          46.5    44.0   \n6587    The Daily Telegraph  NaN         NaN          47.0    43.5   \n6588  1970 general election  NaN         NaN          46.4    43.1   \n\n      liberal_democrat  green  ...  reclaim_party  others      lead  \\\n0                  9.0    7.0  ...            NaN     2.0  lab+27.0   \n1                  9.0    5.0  ...            NaN     1.0  lab+23.0   \n2                 11.0    3.0  ...            NaN     3.0  lab+23.0   \n3                  9.0    6.0  ...            NaN     2.0  lab+22.0   \n4                 10.0    5.0  ...            NaN     1.0  lab+12.0   \n...                ...    ...  ...            ...     ...       ...   \n6584               NaN    NaN  ...            NaN     NaN   lab+4.5   \n6585               NaN    NaN  ...            NaN     NaN       Tie   \n6586               NaN    NaN  ...            NaN     NaN   con+2.5   \n6587               NaN    NaN  ...            NaN     NaN   con+3.5   \n6588               NaN    NaN  ...            NaN     NaN   con+3.3   \n\n      lead_value  conservative_reform_gap  dd_lead  dd_lead_in_row  \\\n0           27.0                      8.0      1.0             701   \n1           23.0                     10.0      1.0             701   \n2           23.0                     16.0      1.0             701   \n3           22.0                     13.0      1.0             701   \n4           12.0                     16.0      1.0             701   \n...          ...                      ...      ...             ...   \n6584         4.5                      NaN      0.0               0   \n6585         0.0                      NaN      0.0               0   \n6586         2.5                      NaN      0.0               0   \n6587         3.5                      NaN      0.0               0   \n6588         3.3                      NaN      0.0               0   \n\n      anti_conservative  maj_lead  maj_lead_in_row  \n0                  66.0       0.0                0  \n1                  64.0       0.0                0  \n2                  65.0       0.0                0  \n3                  64.0       0.0                0  \n4                  59.0       0.0                0  \n...                 ...       ...              ...  \n6584               48.0       0.0                0  \n6585               46.5       0.0                0  \n6586               44.0       0.0                0  \n6587               43.5       0.0                0  \n6588               43.1       0.0                0  \n\n[6589 rows x 29 columns]",
      "text/html": "<div>\n<style scoped>\n    .dataframe tbody tr th:only-of-type {\n        vertical-align: middle;\n    }\n\n    .dataframe tbody tr th {\n        vertical-align: top;\n    }\n\n    .dataframe thead th {\n        text-align: right;\n    }\n</style>\n<table border=\"1\" class=\"dataframe\">\n  <thead>\n    <tr style=\"text-align: right;\">\n      <th></th>\n      <th>date_started</th>\n      <th>date_concluded</th>\n      <th>pollster</th>\n      <th>client</th>\n      <th>area</th>\n      <th>sample_size</th>\n      <th>conservative</th>\n      <th>labour</th>\n      <th>liberal_democrat</th>\n      <th>green</th>\n      <th>...</th>\n      <th>reclaim_party</th>\n      <th>others</th>\n      <th>lead</th>\n      <th>lead_value</th>\n      <th>conservative_reform_gap</th>\n      <th>dd_lead</th>\n      <th>dd_lead_in_row</th>\n      <th>anti_conservative</th>\n      <th>maj_lead</th>\n      <th>maj_lead_in_row</th>\n    </tr>\n  </thead>\n  <tbody>\n    <tr>\n      <th>0</th>\n      <td>2024-05-26</td>\n      <td>2024-05-28</td>\n      <td>YouGov</td>\n      <td>Sky News</td>\n      <td>GB</td>\n      <td>2128</td>\n      <td>20.0</td>\n      <td>47.0</td>\n      <td>9.0</td>\n      <td>7.0</td>\n      <td>...</td>\n      <td>NaN</td>\n      <td>2.0</td>\n      <td>lab+27.0</td>\n      <td>27.0</td>\n      <td>8.0</td>\n      <td>1.0</td>\n      <td>701</td>\n      <td>66.0</td>\n      <td>0.0</td>\n      <td>0</td>\n    </tr>\n    <tr>\n      <th>1</th>\n      <td>2024-05-25</td>\n      <td>2024-05-27</td>\n      <td>Redfield &amp; Wilton Strategies</td>\n      <td>NaN</td>\n      <td>GB</td>\n      <td>12000</td>\n      <td>23.0</td>\n      <td>46.0</td>\n      <td>9.0</td>\n      <td>5.0</td>\n      <td>...</td>\n      <td>NaN</td>\n      <td>1.0</td>\n      <td>lab+23.0</td>\n      <td>23.0</td>\n      <td>10.0</td>\n      <td>1.0</td>\n      <td>701</td>\n      <td>64.0</td>\n      <td>0.0</td>\n      <td>0</td>\n    </tr>\n    <tr>\n      <th>2</th>\n      <td>2024-05-24</td>\n      <td>2024-05-27</td>\n      <td>Survation</td>\n      <td>NaN</td>\n      <td>UK</td>\n      <td>2040</td>\n      <td>24.0</td>\n      <td>47.0</td>\n      <td>11.0</td>\n      <td>3.0</td>\n      <td>...</td>\n      <td>NaN</td>\n      <td>3.0</td>\n      <td>lab+23.0</td>\n      <td>23.0</td>\n      <td>16.0</td>\n      <td>1.0</td>\n      <td>701</td>\n      <td>65.0</td>\n      <td>0.0</td>\n      <td>0</td>\n    </tr>\n    <tr>\n      <th>3</th>\n      <td>2024-05-23</td>\n      <td>2024-05-25</td>\n      <td>Deltapoll</td>\n      <td>Mail on Sunday</td>\n      <td>GB</td>\n      <td>1517</td>\n      <td>23.0</td>\n      <td>45.0</td>\n      <td>9.0</td>\n      <td>6.0</td>\n      <td>...</td>\n      <td>NaN</td>\n      <td>2.0</td>\n      <td>lab+22.0</td>\n      <td>22.0</td>\n      <td>13.0</td>\n      <td>1.0</td>\n      <td>701</td>\n      <td>64.0</td>\n      <td>0.0</td>\n      <td>0</td>\n    </tr>\n    <tr>\n      <th>4</th>\n      <td>2024-05-24</td>\n      <td>2024-05-25</td>\n      <td>JL Partners</td>\n      <td>The Rest is Politics</td>\n      <td>GB</td>\n      <td>2013</td>\n      <td>28.0</td>\n      <td>40.0</td>\n      <td>10.0</td>\n      <td>5.0</td>\n      <td>...</td>\n      <td>NaN</td>\n      <td>1.0</td>\n      <td>lab+12.0</td>\n      <td>12.0</td>\n      <td>16.0</td>\n      <td>1.0</td>\n      <td>701</td>\n      <td>59.0</td>\n      <td>0.0</td>\n      <td>0</td>\n    </tr>\n    <tr>\n      <th>...</th>\n      <td>...</td>\n      <td>...</td>\n      <td>...</td>\n      <td>...</td>\n      <td>...</td>\n      <td>...</td>\n      <td>...</td>\n      <td>...</td>\n      <td>...</td>\n      <td>...</td>\n      <td>...</td>\n      <td>...</td>\n      <td>...</td>\n      <td>...</td>\n      <td>...</td>\n      <td>...</td>\n      <td>...</td>\n      <td>...</td>\n      <td>...</td>\n      <td>...</td>\n      <td>...</td>\n    </tr>\n    <tr>\n      <th>6584</th>\n      <td>1970-11-15</td>\n      <td>1970-11-15</td>\n      <td>Gallup</td>\n      <td>The Daily Telegraph</td>\n      <td>NaN</td>\n      <td>NaN</td>\n      <td>43.5</td>\n      <td>48.0</td>\n      <td>NaN</td>\n      <td>NaN</td>\n      <td>...</td>\n      <td>NaN</td>\n      <td>NaN</td>\n      <td>lab+4.5</td>\n      <td>4.5</td>\n      <td>NaN</td>\n      <td>0.0</td>\n      <td>0</td>\n      <td>48.0</td>\n      <td>0.0</td>\n      <td>0</td>\n    </tr>\n    <tr>\n      <th>6585</th>\n      <td>1970-10-18</td>\n      <td>1970-10-18</td>\n      <td>Gallup</td>\n      <td>The Daily Telegraph</td>\n      <td>NaN</td>\n      <td>NaN</td>\n      <td>46.5</td>\n      <td>46.5</td>\n      <td>NaN</td>\n      <td>NaN</td>\n      <td>...</td>\n      <td>NaN</td>\n      <td>NaN</td>\n      <td>Tie</td>\n      <td>0.0</td>\n      <td>NaN</td>\n      <td>0.0</td>\n      <td>0</td>\n      <td>46.5</td>\n      <td>0.0</td>\n      <td>0</td>\n    </tr>\n    <tr>\n      <th>6586</th>\n      <td>1970-09-13</td>\n      <td>1970-09-13</td>\n      <td>Gallup</td>\n      <td>The Daily Telegraph</td>\n      <td>NaN</td>\n      <td>NaN</td>\n      <td>46.5</td>\n      <td>44.0</td>\n      <td>NaN</td>\n      <td>NaN</td>\n      <td>...</td>\n      <td>NaN</td>\n      <td>NaN</td>\n      <td>con+2.5</td>\n      <td>2.5</td>\n      <td>NaN</td>\n      <td>0.0</td>\n      <td>0</td>\n      <td>44.0</td>\n      <td>0.0</td>\n      <td>0</td>\n    </tr>\n    <tr>\n      <th>6587</th>\n      <td>1970-08-16</td>\n      <td>1970-08-16</td>\n      <td>Gallup</td>\n      <td>The Daily Telegraph</td>\n      <td>NaN</td>\n      <td>NaN</td>\n      <td>47.0</td>\n      <td>43.5</td>\n      <td>NaN</td>\n      <td>NaN</td>\n      <td>...</td>\n      <td>NaN</td>\n      <td>NaN</td>\n      <td>con+3.5</td>\n      <td>3.5</td>\n      <td>NaN</td>\n      <td>0.0</td>\n      <td>0</td>\n      <td>43.5</td>\n      <td>0.0</td>\n      <td>0</td>\n    </tr>\n    <tr>\n      <th>6588</th>\n      <td>1970-06-18</td>\n      <td>1970-06-18</td>\n      <td>General Election</td>\n      <td>1970 general election</td>\n      <td>NaN</td>\n      <td>NaN</td>\n      <td>46.4</td>\n      <td>43.1</td>\n      <td>NaN</td>\n      <td>NaN</td>\n      <td>...</td>\n      <td>NaN</td>\n      <td>NaN</td>\n      <td>con+3.3</td>\n      <td>3.3</td>\n      <td>NaN</td>\n      <td>0.0</td>\n      <td>0</td>\n      <td>43.1</td>\n      <td>0.0</td>\n      <td>0</td>\n    </tr>\n  </tbody>\n</table>\n<p>6589 rows × 29 columns</p>\n</div>"
     },
     "execution_count": 42,
     "metadata": {},
     "output_type": "execute_result"
    }
   ],
   "source": [
    "all_polls"
   ]
  },
  {
   "cell_type": "code",
   "execution_count": 43,
   "metadata": {
    "ExecuteTime": {
     "end_time": "2024-05-29T10:47:22.752874500Z",
     "start_time": "2024-05-29T10:47:21.895585Z"
    }
   },
   "outputs": [],
   "source": [
    "all_polls.loc[(all_polls.labour > all_polls.conservative) & (all_polls.lead_value >= 10), 'dd_lead'] = 1\n",
    "all_polls['dd_lead'] = all_polls['dd_lead'].fillna(0)"
   ]
  },
  {
   "cell_type": "code",
   "execution_count": 44,
   "metadata": {
    "ExecuteTime": {
     "end_time": "2024-05-29T10:47:22.755946800Z",
     "start_time": "2024-05-29T10:47:21.964719100Z"
    }
   },
   "outputs": [],
   "source": [
    "all_polls.loc[(all_polls.lead_value >= 10), 'dd_lead'] = 1\n",
    "all_polls['dd_lead'] = all_polls['dd_lead'].fillna(0)"
   ]
  },
  {
   "cell_type": "code",
   "execution_count": 45,
   "metadata": {
    "ExecuteTime": {
     "end_time": "2024-05-29T10:47:22.898408400Z",
     "start_time": "2024-05-29T10:47:22.039963Z"
    }
   },
   "outputs": [],
   "source": [
    "all_polls['dd_in_row'] = 0"
   ]
  },
  {
   "cell_type": "code",
   "execution_count": 46,
   "outputs": [
    {
     "data": {
      "text/plain": "Empty DataFrame\nColumns: [date_started, date_concluded, pollster, conservative, labour, liberal_democrat, lead]\nIndex: []",
      "text/html": "<div>\n<style scoped>\n    .dataframe tbody tr th:only-of-type {\n        vertical-align: middle;\n    }\n\n    .dataframe tbody tr th {\n        vertical-align: top;\n    }\n\n    .dataframe thead th {\n        text-align: right;\n    }\n</style>\n<table border=\"1\" class=\"dataframe\">\n  <thead>\n    <tr style=\"text-align: right;\">\n      <th></th>\n      <th>date_started</th>\n      <th>date_concluded</th>\n      <th>pollster</th>\n      <th>conservative</th>\n      <th>labour</th>\n      <th>liberal_democrat</th>\n      <th>lead</th>\n    </tr>\n  </thead>\n  <tbody>\n  </tbody>\n</table>\n</div>"
     },
     "execution_count": 46,
     "metadata": {},
     "output_type": "execute_result"
    }
   ],
   "source": [
    "all_polls.query(\"pollster=='Savanta ComRes' and labour >42\")[display_columns]"
   ],
   "metadata": {
    "collapsed": false,
    "ExecuteTime": {
     "end_time": "2024-05-29T10:47:23.096774200Z",
     "start_time": "2024-05-29T10:47:22.108583400Z"
    }
   }
  },
  {
   "cell_type": "code",
   "execution_count": 47,
   "metadata": {
    "ExecuteTime": {
     "end_time": "2024-05-29T10:47:25.068911400Z",
     "start_time": "2024-05-29T10:47:22.180185400Z"
    }
   },
   "outputs": [],
   "source": [
    "for ix, value in all_polls['dd_lead'].iteritems():\n",
    "    if value >= 1:\n",
    "        polls_before = all_polls.iloc[:ix]['dd_lead']\n",
    "        polls_after = all_polls.iloc[ix:]['dd_lead']\n",
    "        next_untrue_poll = polls_after[polls_after == 0].index[0]\n",
    "        after_polls = next_untrue_poll - ix\n",
    "\n",
    "        if len(polls_before[polls_before == 0]) == 0:\n",
    "            before_polls = len(polls_before)\n",
    "        else:\n",
    "            last_untrue_poll = polls_before[polls_before == 0].index[-1]\n",
    "            before_polls = (ix - last_untrue_poll) - 1\n",
    "\n",
    "        total_polls = before_polls + after_polls\n",
    "        all_polls.loc[ix, 'dd_in_row'] = total_polls\n",
    "    else:\n",
    "        total_polls = 0\n",
    "\n"
   ]
  },
  {
   "cell_type": "code",
   "execution_count": 48,
   "metadata": {
    "ExecuteTime": {
     "end_time": "2024-05-29T10:47:25.164593500Z",
     "start_time": "2024-05-29T10:47:25.071912300Z"
    }
   },
   "outputs": [
    {
     "data": {
      "text/plain": "     date_concluded                      pollster  conservative  labour  \\\n0        2024-05-28                        YouGov          20.0    47.0   \n1        2024-05-27  Redfield & Wilton Strategies          23.0    46.0   \n2        2024-05-27                     Survation          24.0    47.0   \n3        2024-05-25                     Deltapoll          23.0    45.0   \n4        2024-05-25                   JL Partners          28.0    40.0   \n...             ...                           ...           ...     ...   \n6129     1983-05-23            Audience Selection          48.0    33.0   \n6130     1983-05-23                    Ipsos MORI          45.0    32.0   \n6131     1983-05-23                           NOP          51.0    33.0   \n6132     1983-05-23            Harris Interactive          52.0    33.0   \n6133     1983-05-20                    Ipsos MORI          47.0    34.0   \n\n      liberal_democrat      lead  dd_in_row  \n0                  9.0  lab+27.0        701  \n1                  9.0  lab+23.0        701  \n2                 11.0  lab+23.0        701  \n3                  9.0  lab+22.0        701  \n4                 10.0  lab+12.0        701  \n...                ...       ...        ...  \n6129               NaN  con+15.0         44  \n6130               NaN  con+13.0         44  \n6131               NaN  con+18.0         44  \n6132               NaN  con+19.0         44  \n6133               NaN  con+13.0         44  \n\n[1393 rows x 7 columns]",
      "text/html": "<div>\n<style scoped>\n    .dataframe tbody tr th:only-of-type {\n        vertical-align: middle;\n    }\n\n    .dataframe tbody tr th {\n        vertical-align: top;\n    }\n\n    .dataframe thead th {\n        text-align: right;\n    }\n</style>\n<table border=\"1\" class=\"dataframe\">\n  <thead>\n    <tr style=\"text-align: right;\">\n      <th></th>\n      <th>date_concluded</th>\n      <th>pollster</th>\n      <th>conservative</th>\n      <th>labour</th>\n      <th>liberal_democrat</th>\n      <th>lead</th>\n      <th>dd_in_row</th>\n    </tr>\n  </thead>\n  <tbody>\n    <tr>\n      <th>0</th>\n      <td>2024-05-28</td>\n      <td>YouGov</td>\n      <td>20.0</td>\n      <td>47.0</td>\n      <td>9.0</td>\n      <td>lab+27.0</td>\n      <td>701</td>\n    </tr>\n    <tr>\n      <th>1</th>\n      <td>2024-05-27</td>\n      <td>Redfield &amp; Wilton Strategies</td>\n      <td>23.0</td>\n      <td>46.0</td>\n      <td>9.0</td>\n      <td>lab+23.0</td>\n      <td>701</td>\n    </tr>\n    <tr>\n      <th>2</th>\n      <td>2024-05-27</td>\n      <td>Survation</td>\n      <td>24.0</td>\n      <td>47.0</td>\n      <td>11.0</td>\n      <td>lab+23.0</td>\n      <td>701</td>\n    </tr>\n    <tr>\n      <th>3</th>\n      <td>2024-05-25</td>\n      <td>Deltapoll</td>\n      <td>23.0</td>\n      <td>45.0</td>\n      <td>9.0</td>\n      <td>lab+22.0</td>\n      <td>701</td>\n    </tr>\n    <tr>\n      <th>4</th>\n      <td>2024-05-25</td>\n      <td>JL Partners</td>\n      <td>28.0</td>\n      <td>40.0</td>\n      <td>10.0</td>\n      <td>lab+12.0</td>\n      <td>701</td>\n    </tr>\n    <tr>\n      <th>...</th>\n      <td>...</td>\n      <td>...</td>\n      <td>...</td>\n      <td>...</td>\n      <td>...</td>\n      <td>...</td>\n      <td>...</td>\n    </tr>\n    <tr>\n      <th>6129</th>\n      <td>1983-05-23</td>\n      <td>Audience Selection</td>\n      <td>48.0</td>\n      <td>33.0</td>\n      <td>NaN</td>\n      <td>con+15.0</td>\n      <td>44</td>\n    </tr>\n    <tr>\n      <th>6130</th>\n      <td>1983-05-23</td>\n      <td>Ipsos MORI</td>\n      <td>45.0</td>\n      <td>32.0</td>\n      <td>NaN</td>\n      <td>con+13.0</td>\n      <td>44</td>\n    </tr>\n    <tr>\n      <th>6131</th>\n      <td>1983-05-23</td>\n      <td>NOP</td>\n      <td>51.0</td>\n      <td>33.0</td>\n      <td>NaN</td>\n      <td>con+18.0</td>\n      <td>44</td>\n    </tr>\n    <tr>\n      <th>6132</th>\n      <td>1983-05-23</td>\n      <td>Harris Interactive</td>\n      <td>52.0</td>\n      <td>33.0</td>\n      <td>NaN</td>\n      <td>con+19.0</td>\n      <td>44</td>\n    </tr>\n    <tr>\n      <th>6133</th>\n      <td>1983-05-20</td>\n      <td>Ipsos MORI</td>\n      <td>47.0</td>\n      <td>34.0</td>\n      <td>NaN</td>\n      <td>con+13.0</td>\n      <td>44</td>\n    </tr>\n  </tbody>\n</table>\n<p>1393 rows × 7 columns</p>\n</div>"
     },
     "execution_count": 48,
     "metadata": {},
     "output_type": "execute_result"
    }
   ],
   "source": [
    "all_polls[all_polls['dd_in_row'] > 22][\n",
    "    ['date_concluded', 'pollster', 'conservative', 'labour', 'liberal_democrat', 'lead', 'dd_in_row']]"
   ]
  },
  {
   "cell_type": "code",
   "execution_count": 49,
   "metadata": {
    "ExecuteTime": {
     "end_time": "2024-05-29T10:47:25.278443Z",
     "start_time": "2024-05-29T10:47:25.158528600Z"
    }
   },
   "outputs": [
    {
     "data": {
      "text/plain": "6580    1.0\n6581    0.0\n6582    0.0\n6583    0.0\n6584    0.0\n6585    0.0\n6586    0.0\n6587    0.0\n6588    0.0\nName: dd_lead, dtype: float64"
     },
     "execution_count": 49,
     "metadata": {},
     "output_type": "execute_result"
    }
   ],
   "source": [
    "polls_after"
   ]
  },
  {
   "cell_type": "code",
   "execution_count": 50,
   "metadata": {
    "ExecuteTime": {
     "end_time": "2024-05-29T10:47:25.480251800Z",
     "start_time": "2024-05-29T10:47:25.233246300Z"
    }
   },
   "outputs": [
    {
     "data": {
      "text/plain": "0"
     },
     "execution_count": 50,
     "metadata": {},
     "output_type": "execute_result"
    }
   ],
   "source": [
    "before_polls"
   ]
  },
  {
   "cell_type": "code",
   "execution_count": 51,
   "metadata": {
    "ExecuteTime": {
     "end_time": "2024-05-29T10:47:25.481250900Z",
     "start_time": "2024-05-29T10:47:25.304995200Z"
    }
   },
   "outputs": [
    {
     "data": {
      "text/plain": "6580    1.0\n6581    0.0\n6582    0.0\n6583    0.0\n6584    0.0\n6585    0.0\n6586    0.0\n6587    0.0\n6588    0.0\nName: dd_lead, dtype: float64"
     },
     "execution_count": 51,
     "metadata": {},
     "output_type": "execute_result"
    }
   ],
   "source": [
    "polls_after\n",
    "\n"
   ]
  },
  {
   "cell_type": "code",
   "execution_count": 52,
   "metadata": {
    "ExecuteTime": {
     "end_time": "2024-05-29T10:47:25.483250500Z",
     "start_time": "2024-05-29T10:47:25.379572400Z"
    }
   },
   "outputs": [
    {
     "data": {
      "text/plain": "701     0.0\n706     0.0\n707     0.0\n708     0.0\n712     0.0\n       ... \n6570    0.0\n6571    0.0\n6574    0.0\n6578    0.0\n6579    0.0\nName: dd_lead, Length: 4100, dtype: float64"
     },
     "execution_count": 52,
     "metadata": {},
     "output_type": "execute_result"
    }
   ],
   "source": [
    "polls_before[polls_before == 0]"
   ]
  },
  {
   "cell_type": "code",
   "execution_count": 53,
   "metadata": {
    "ExecuteTime": {
     "end_time": "2024-05-29T10:47:25.766287200Z",
     "start_time": "2024-05-29T10:47:25.460729400Z"
    }
   },
   "outputs": [
    {
     "data": {
      "text/plain": "Empty DataFrame\nColumns: [date_started, date_concluded, pollster, conservative, labour, liberal_democrat, lead]\nIndex: []",
      "text/html": "<div>\n<style scoped>\n    .dataframe tbody tr th:only-of-type {\n        vertical-align: middle;\n    }\n\n    .dataframe tbody tr th {\n        vertical-align: top;\n    }\n\n    .dataframe thead th {\n        text-align: right;\n    }\n</style>\n<table border=\"1\" class=\"dataframe\">\n  <thead>\n    <tr style=\"text-align: right;\">\n      <th></th>\n      <th>date_started</th>\n      <th>date_concluded</th>\n      <th>pollster</th>\n      <th>conservative</th>\n      <th>labour</th>\n      <th>liberal_democrat</th>\n      <th>lead</th>\n    </tr>\n  </thead>\n  <tbody>\n  </tbody>\n</table>\n</div>"
     },
     "execution_count": 53,
     "metadata": {},
     "output_type": "execute_result"
    }
   ],
   "source": [
    "all_polls.query(\"pollster=='Savanta ComRes' and labour>conservative and lead_value>=14\")[display_columns]"
   ]
  },
  {
   "cell_type": "code",
   "execution_count": 54,
   "metadata": {
    "ExecuteTime": {
     "end_time": "2024-05-29T10:47:25.822427Z",
     "start_time": "2024-05-29T10:47:25.538341300Z"
    }
   },
   "outputs": [
    {
     "data": {
      "text/plain": "     date_started date_concluded                      pollster  conservative  \\\n0      2024-05-26     2024-05-28                        YouGov          20.0   \n1      2024-05-25     2024-05-27  Redfield & Wilton Strategies          23.0   \n2      2024-05-24     2024-05-27                     Survation          24.0   \n3      2024-05-23     2024-05-25                     Deltapoll          23.0   \n5      2024-05-23     2024-05-24                      We Think          22.0   \n...           ...            ...                           ...           ...   \n6496   1974-04-16     1974-04-16                        Gallup          33.0   \n6545   1973-05-06     1973-05-06                           NOP          31.9   \n6573   1971-09-20     1971-09-20                        Gallup          35.0   \n6575   1971-07-12     1971-07-12                        Gallup          33.5   \n6576   1971-06-13     1971-06-13                        Gallup          36.0   \n\n      labour  liberal_democrat      lead  \n0       47.0               9.0  lab+27.0  \n1       46.0               9.0  lab+23.0  \n2       47.0              11.0  lab+23.0  \n3       45.0               9.0  lab+22.0  \n5       47.0               8.0  lab+25.0  \n...      ...               ...       ...  \n6496    49.0               NaN  lab+16.0  \n6545    50.1               NaN  lab+18.2  \n6573    54.0               NaN  lab+19.0  \n6575    55.0               NaN  lab+21.5  \n6576    54.0               NaN  lab+18.0  \n\n[1140 rows x 7 columns]",
      "text/html": "<div>\n<style scoped>\n    .dataframe tbody tr th:only-of-type {\n        vertical-align: middle;\n    }\n\n    .dataframe tbody tr th {\n        vertical-align: top;\n    }\n\n    .dataframe thead th {\n        text-align: right;\n    }\n</style>\n<table border=\"1\" class=\"dataframe\">\n  <thead>\n    <tr style=\"text-align: right;\">\n      <th></th>\n      <th>date_started</th>\n      <th>date_concluded</th>\n      <th>pollster</th>\n      <th>conservative</th>\n      <th>labour</th>\n      <th>liberal_democrat</th>\n      <th>lead</th>\n    </tr>\n  </thead>\n  <tbody>\n    <tr>\n      <th>0</th>\n      <td>2024-05-26</td>\n      <td>2024-05-28</td>\n      <td>YouGov</td>\n      <td>20.0</td>\n      <td>47.0</td>\n      <td>9.0</td>\n      <td>lab+27.0</td>\n    </tr>\n    <tr>\n      <th>1</th>\n      <td>2024-05-25</td>\n      <td>2024-05-27</td>\n      <td>Redfield &amp; Wilton Strategies</td>\n      <td>23.0</td>\n      <td>46.0</td>\n      <td>9.0</td>\n      <td>lab+23.0</td>\n    </tr>\n    <tr>\n      <th>2</th>\n      <td>2024-05-24</td>\n      <td>2024-05-27</td>\n      <td>Survation</td>\n      <td>24.0</td>\n      <td>47.0</td>\n      <td>11.0</td>\n      <td>lab+23.0</td>\n    </tr>\n    <tr>\n      <th>3</th>\n      <td>2024-05-23</td>\n      <td>2024-05-25</td>\n      <td>Deltapoll</td>\n      <td>23.0</td>\n      <td>45.0</td>\n      <td>9.0</td>\n      <td>lab+22.0</td>\n    </tr>\n    <tr>\n      <th>5</th>\n      <td>2024-05-23</td>\n      <td>2024-05-24</td>\n      <td>We Think</td>\n      <td>22.0</td>\n      <td>47.0</td>\n      <td>8.0</td>\n      <td>lab+25.0</td>\n    </tr>\n    <tr>\n      <th>...</th>\n      <td>...</td>\n      <td>...</td>\n      <td>...</td>\n      <td>...</td>\n      <td>...</td>\n      <td>...</td>\n      <td>...</td>\n    </tr>\n    <tr>\n      <th>6496</th>\n      <td>1974-04-16</td>\n      <td>1974-04-16</td>\n      <td>Gallup</td>\n      <td>33.0</td>\n      <td>49.0</td>\n      <td>NaN</td>\n      <td>lab+16.0</td>\n    </tr>\n    <tr>\n      <th>6545</th>\n      <td>1973-05-06</td>\n      <td>1973-05-06</td>\n      <td>NOP</td>\n      <td>31.9</td>\n      <td>50.1</td>\n      <td>NaN</td>\n      <td>lab+18.2</td>\n    </tr>\n    <tr>\n      <th>6573</th>\n      <td>1971-09-20</td>\n      <td>1971-09-20</td>\n      <td>Gallup</td>\n      <td>35.0</td>\n      <td>54.0</td>\n      <td>NaN</td>\n      <td>lab+19.0</td>\n    </tr>\n    <tr>\n      <th>6575</th>\n      <td>1971-07-12</td>\n      <td>1971-07-12</td>\n      <td>Gallup</td>\n      <td>33.5</td>\n      <td>55.0</td>\n      <td>NaN</td>\n      <td>lab+21.5</td>\n    </tr>\n    <tr>\n      <th>6576</th>\n      <td>1971-06-13</td>\n      <td>1971-06-13</td>\n      <td>Gallup</td>\n      <td>36.0</td>\n      <td>54.0</td>\n      <td>NaN</td>\n      <td>lab+18.0</td>\n    </tr>\n  </tbody>\n</table>\n<p>1140 rows × 7 columns</p>\n</div>"
     },
     "execution_count": 54,
     "metadata": {},
     "output_type": "execute_result"
    }
   ],
   "source": [
    "all_polls.query(\"lead_value >= 15 and labour>conservative\")[display_columns]"
   ]
  },
  {
   "cell_type": "code",
   "execution_count": 55,
   "metadata": {
    "ExecuteTime": {
     "end_time": "2024-05-29T10:47:25.823930600Z",
     "start_time": "2024-05-29T10:47:25.623993600Z"
    }
   },
   "outputs": [
    {
     "data": {
      "text/plain": "     date_started date_concluded                      pollster  conservative  \\\n0      2024-05-26     2024-05-28                        YouGov          20.0   \n1      2024-05-25     2024-05-27  Redfield & Wilton Strategies          23.0   \n2      2024-05-24     2024-05-27                     Survation          24.0   \n3      2024-05-23     2024-05-25                     Deltapoll          23.0   \n5      2024-05-23     2024-05-24                      We Think          22.0   \n...           ...            ...                           ...           ...   \n6239   1980-12-19     1980-12-19                        Gallup          32.0   \n6545   1973-05-06     1973-05-06                           NOP          31.9   \n6573   1971-09-20     1971-09-20                        Gallup          35.0   \n6575   1971-07-12     1971-07-12                        Gallup          33.5   \n6576   1971-06-13     1971-06-13                        Gallup          36.0   \n\n      labour  liberal_democrat      lead  \n0       47.0               9.0  lab+27.0  \n1       46.0               9.0  lab+23.0  \n2       47.0              11.0  lab+23.0  \n3       45.0               9.0  lab+22.0  \n5       47.0               8.0  lab+25.0  \n...      ...               ...       ...  \n6239    56.0               NaN  lab+24.0  \n6545    50.1               NaN  lab+18.2  \n6573    54.0               NaN  lab+19.0  \n6575    55.0               NaN  lab+21.5  \n6576    54.0               NaN  lab+18.0  \n\n[841 rows x 7 columns]",
      "text/html": "<div>\n<style scoped>\n    .dataframe tbody tr th:only-of-type {\n        vertical-align: middle;\n    }\n\n    .dataframe tbody tr th {\n        vertical-align: top;\n    }\n\n    .dataframe thead th {\n        text-align: right;\n    }\n</style>\n<table border=\"1\" class=\"dataframe\">\n  <thead>\n    <tr style=\"text-align: right;\">\n      <th></th>\n      <th>date_started</th>\n      <th>date_concluded</th>\n      <th>pollster</th>\n      <th>conservative</th>\n      <th>labour</th>\n      <th>liberal_democrat</th>\n      <th>lead</th>\n    </tr>\n  </thead>\n  <tbody>\n    <tr>\n      <th>0</th>\n      <td>2024-05-26</td>\n      <td>2024-05-28</td>\n      <td>YouGov</td>\n      <td>20.0</td>\n      <td>47.0</td>\n      <td>9.0</td>\n      <td>lab+27.0</td>\n    </tr>\n    <tr>\n      <th>1</th>\n      <td>2024-05-25</td>\n      <td>2024-05-27</td>\n      <td>Redfield &amp; Wilton Strategies</td>\n      <td>23.0</td>\n      <td>46.0</td>\n      <td>9.0</td>\n      <td>lab+23.0</td>\n    </tr>\n    <tr>\n      <th>2</th>\n      <td>2024-05-24</td>\n      <td>2024-05-27</td>\n      <td>Survation</td>\n      <td>24.0</td>\n      <td>47.0</td>\n      <td>11.0</td>\n      <td>lab+23.0</td>\n    </tr>\n    <tr>\n      <th>3</th>\n      <td>2024-05-23</td>\n      <td>2024-05-25</td>\n      <td>Deltapoll</td>\n      <td>23.0</td>\n      <td>45.0</td>\n      <td>9.0</td>\n      <td>lab+22.0</td>\n    </tr>\n    <tr>\n      <th>5</th>\n      <td>2024-05-23</td>\n      <td>2024-05-24</td>\n      <td>We Think</td>\n      <td>22.0</td>\n      <td>47.0</td>\n      <td>8.0</td>\n      <td>lab+25.0</td>\n    </tr>\n    <tr>\n      <th>...</th>\n      <td>...</td>\n      <td>...</td>\n      <td>...</td>\n      <td>...</td>\n      <td>...</td>\n      <td>...</td>\n      <td>...</td>\n    </tr>\n    <tr>\n      <th>6239</th>\n      <td>1980-12-19</td>\n      <td>1980-12-19</td>\n      <td>Gallup</td>\n      <td>32.0</td>\n      <td>56.0</td>\n      <td>NaN</td>\n      <td>lab+24.0</td>\n    </tr>\n    <tr>\n      <th>6545</th>\n      <td>1973-05-06</td>\n      <td>1973-05-06</td>\n      <td>NOP</td>\n      <td>31.9</td>\n      <td>50.1</td>\n      <td>NaN</td>\n      <td>lab+18.2</td>\n    </tr>\n    <tr>\n      <th>6573</th>\n      <td>1971-09-20</td>\n      <td>1971-09-20</td>\n      <td>Gallup</td>\n      <td>35.0</td>\n      <td>54.0</td>\n      <td>NaN</td>\n      <td>lab+19.0</td>\n    </tr>\n    <tr>\n      <th>6575</th>\n      <td>1971-07-12</td>\n      <td>1971-07-12</td>\n      <td>Gallup</td>\n      <td>33.5</td>\n      <td>55.0</td>\n      <td>NaN</td>\n      <td>lab+21.5</td>\n    </tr>\n    <tr>\n      <th>6576</th>\n      <td>1971-06-13</td>\n      <td>1971-06-13</td>\n      <td>Gallup</td>\n      <td>36.0</td>\n      <td>54.0</td>\n      <td>NaN</td>\n      <td>lab+18.0</td>\n    </tr>\n  </tbody>\n</table>\n<p>841 rows × 7 columns</p>\n</div>"
     },
     "execution_count": 55,
     "metadata": {},
     "output_type": "execute_result"
    }
   ],
   "source": [
    "all_polls.query(\"lead_value >= 18 and labour>conservative\")[display_columns]"
   ]
  },
  {
   "cell_type": "code",
   "execution_count": 56,
   "metadata": {
    "ExecuteTime": {
     "end_time": "2024-05-29T10:47:25.986683900Z",
     "start_time": "2024-05-29T10:47:25.709163500Z"
    }
   },
   "outputs": [
    {
     "data": {
      "text/plain": "     date_started date_concluded                      pollster  conservative  \\\n0      2024-05-26     2024-05-28                        YouGov          20.0   \n1      2024-05-25     2024-05-27  Redfield & Wilton Strategies          23.0   \n2      2024-05-24     2024-05-27                     Survation          24.0   \n3      2024-05-23     2024-05-25                     Deltapoll          23.0   \n4      2024-05-24     2024-05-25                   JL Partners          28.0   \n...           ...            ...                           ...           ...   \n6209   1981-09-28     1981-09-28                    Ipsos MORI          28.0   \n6210   1981-09-18     1981-09-18                        Gallup          27.0   \n6213   1981-08-17     1981-08-17                           NOP          28.0   \n6231   1981-03-23     1981-03-23                        Gallup          28.0   \n6538   1973-08-15     1973-08-15                           NOP          28.9   \n\n      labour  liberal_democrat      lead  \n0       47.0               9.0  lab+27.0  \n1       46.0               9.0  lab+23.0  \n2       47.0              11.0  lab+23.0  \n3       45.0               9.0  lab+22.0  \n4       40.0              10.0  lab+12.0  \n...      ...               ...       ...  \n6209    42.0               NaN  lab+14.0  \n6210    38.0               NaN   lab+5.0  \n6213    38.5               NaN   lab+6.0  \n6231    38.0               NaN   lab+6.0  \n6538    41.7               NaN  lab+12.8  \n\n[964 rows x 7 columns]",
      "text/html": "<div>\n<style scoped>\n    .dataframe tbody tr th:only-of-type {\n        vertical-align: middle;\n    }\n\n    .dataframe tbody tr th {\n        vertical-align: top;\n    }\n\n    .dataframe thead th {\n        text-align: right;\n    }\n</style>\n<table border=\"1\" class=\"dataframe\">\n  <thead>\n    <tr style=\"text-align: right;\">\n      <th></th>\n      <th>date_started</th>\n      <th>date_concluded</th>\n      <th>pollster</th>\n      <th>conservative</th>\n      <th>labour</th>\n      <th>liberal_democrat</th>\n      <th>lead</th>\n    </tr>\n  </thead>\n  <tbody>\n    <tr>\n      <th>0</th>\n      <td>2024-05-26</td>\n      <td>2024-05-28</td>\n      <td>YouGov</td>\n      <td>20.0</td>\n      <td>47.0</td>\n      <td>9.0</td>\n      <td>lab+27.0</td>\n    </tr>\n    <tr>\n      <th>1</th>\n      <td>2024-05-25</td>\n      <td>2024-05-27</td>\n      <td>Redfield &amp; Wilton Strategies</td>\n      <td>23.0</td>\n      <td>46.0</td>\n      <td>9.0</td>\n      <td>lab+23.0</td>\n    </tr>\n    <tr>\n      <th>2</th>\n      <td>2024-05-24</td>\n      <td>2024-05-27</td>\n      <td>Survation</td>\n      <td>24.0</td>\n      <td>47.0</td>\n      <td>11.0</td>\n      <td>lab+23.0</td>\n    </tr>\n    <tr>\n      <th>3</th>\n      <td>2024-05-23</td>\n      <td>2024-05-25</td>\n      <td>Deltapoll</td>\n      <td>23.0</td>\n      <td>45.0</td>\n      <td>9.0</td>\n      <td>lab+22.0</td>\n    </tr>\n    <tr>\n      <th>4</th>\n      <td>2024-05-24</td>\n      <td>2024-05-25</td>\n      <td>JL Partners</td>\n      <td>28.0</td>\n      <td>40.0</td>\n      <td>10.0</td>\n      <td>lab+12.0</td>\n    </tr>\n    <tr>\n      <th>...</th>\n      <td>...</td>\n      <td>...</td>\n      <td>...</td>\n      <td>...</td>\n      <td>...</td>\n      <td>...</td>\n      <td>...</td>\n    </tr>\n    <tr>\n      <th>6209</th>\n      <td>1981-09-28</td>\n      <td>1981-09-28</td>\n      <td>Ipsos MORI</td>\n      <td>28.0</td>\n      <td>42.0</td>\n      <td>NaN</td>\n      <td>lab+14.0</td>\n    </tr>\n    <tr>\n      <th>6210</th>\n      <td>1981-09-18</td>\n      <td>1981-09-18</td>\n      <td>Gallup</td>\n      <td>27.0</td>\n      <td>38.0</td>\n      <td>NaN</td>\n      <td>lab+5.0</td>\n    </tr>\n    <tr>\n      <th>6213</th>\n      <td>1981-08-17</td>\n      <td>1981-08-17</td>\n      <td>NOP</td>\n      <td>28.0</td>\n      <td>38.5</td>\n      <td>NaN</td>\n      <td>lab+6.0</td>\n    </tr>\n    <tr>\n      <th>6231</th>\n      <td>1981-03-23</td>\n      <td>1981-03-23</td>\n      <td>Gallup</td>\n      <td>28.0</td>\n      <td>38.0</td>\n      <td>NaN</td>\n      <td>lab+6.0</td>\n    </tr>\n    <tr>\n      <th>6538</th>\n      <td>1973-08-15</td>\n      <td>1973-08-15</td>\n      <td>NOP</td>\n      <td>28.9</td>\n      <td>41.7</td>\n      <td>NaN</td>\n      <td>lab+12.8</td>\n    </tr>\n  </tbody>\n</table>\n<p>964 rows × 7 columns</p>\n</div>"
     },
     "execution_count": 56,
     "metadata": {},
     "output_type": "execute_result"
    }
   ],
   "source": [
    "all_polls.query(\"conservative <29\")[display_columns]"
   ]
  },
  {
   "cell_type": "code",
   "execution_count": 57,
   "metadata": {
    "ExecuteTime": {
     "end_time": "2024-05-29T10:47:26.129569200Z",
     "start_time": "2024-05-29T10:47:25.800389200Z"
    }
   },
   "outputs": [
    {
     "data": {
      "text/plain": "Empty DataFrame\nColumns: [date_started, date_concluded, pollster, conservative, labour, liberal_democrat, lead]\nIndex: []",
      "text/html": "<div>\n<style scoped>\n    .dataframe tbody tr th:only-of-type {\n        vertical-align: middle;\n    }\n\n    .dataframe tbody tr th {\n        vertical-align: top;\n    }\n\n    .dataframe thead th {\n        text-align: right;\n    }\n</style>\n<table border=\"1\" class=\"dataframe\">\n  <thead>\n    <tr style=\"text-align: right;\">\n      <th></th>\n      <th>date_started</th>\n      <th>date_concluded</th>\n      <th>pollster</th>\n      <th>conservative</th>\n      <th>labour</th>\n      <th>liberal_democrat</th>\n      <th>lead</th>\n    </tr>\n  </thead>\n  <tbody>\n  </tbody>\n</table>\n</div>"
     },
     "execution_count": 57,
     "metadata": {},
     "output_type": "execute_result"
    }
   ],
   "source": [
    "all_polls.query(\"pollster=='YouGov' and liberal_democrat > 54\")[display_columns]"
   ]
  },
  {
   "cell_type": "code",
   "execution_count": 58,
   "metadata": {
    "ExecuteTime": {
     "end_time": "2024-05-29T10:47:26.255245800Z",
     "start_time": "2024-05-29T10:47:25.884009800Z"
    }
   },
   "outputs": [
    {
     "data": {
      "text/plain": "     date_started date_concluded    pollster  conservative  labour  \\\n786    2022-06-22     2022-06-29  Ipsos MORI          30.0    41.0   \n1426   2019-11-15     2019-11-19  Ipsos MORI          44.0    28.0   \n1460   2019-10-25     2019-10-28  Ipsos MORI          41.0    24.0   \n1488   2019-09-13     2019-09-16  Ipsos MORI          33.0    24.0   \n1519   2019-07-26     2019-07-30  Ipsos MORI          34.0    24.0   \n...           ...            ...         ...           ...     ...   \n5483   1991-05-28     1991-05-28  Ipsos MORI          37.0    43.0   \n5495   1991-04-22     1991-04-22  Ipsos MORI          42.0    40.0   \n5501   1991-03-25     1991-03-25  Ipsos MORI          40.0    40.0   \n5503   1991-03-22     1991-03-22  Ipsos MORI          38.0    44.0   \n5509   1991-03-08     1991-03-08  Ipsos MORI          41.0    37.0   \n\n      liberal_democrat      lead  \n786               15.0  lab+11.0  \n1426              16.0  con+16.0  \n1460              20.0  con+17.0  \n1488              23.0   con+9.0  \n1519              20.0  con+10.0  \n...                ...       ...  \n5483              16.0   lab+6.0  \n5495              15.0   con+2.0  \n5501              16.0       Tie  \n5503              15.0   lab+6.0  \n5509              16.0   con+4.0  \n\n[179 rows x 7 columns]",
      "text/html": "<div>\n<style scoped>\n    .dataframe tbody tr th:only-of-type {\n        vertical-align: middle;\n    }\n\n    .dataframe tbody tr th {\n        vertical-align: top;\n    }\n\n    .dataframe thead th {\n        text-align: right;\n    }\n</style>\n<table border=\"1\" class=\"dataframe\">\n  <thead>\n    <tr style=\"text-align: right;\">\n      <th></th>\n      <th>date_started</th>\n      <th>date_concluded</th>\n      <th>pollster</th>\n      <th>conservative</th>\n      <th>labour</th>\n      <th>liberal_democrat</th>\n      <th>lead</th>\n    </tr>\n  </thead>\n  <tbody>\n    <tr>\n      <th>786</th>\n      <td>2022-06-22</td>\n      <td>2022-06-29</td>\n      <td>Ipsos MORI</td>\n      <td>30.0</td>\n      <td>41.0</td>\n      <td>15.0</td>\n      <td>lab+11.0</td>\n    </tr>\n    <tr>\n      <th>1426</th>\n      <td>2019-11-15</td>\n      <td>2019-11-19</td>\n      <td>Ipsos MORI</td>\n      <td>44.0</td>\n      <td>28.0</td>\n      <td>16.0</td>\n      <td>con+16.0</td>\n    </tr>\n    <tr>\n      <th>1460</th>\n      <td>2019-10-25</td>\n      <td>2019-10-28</td>\n      <td>Ipsos MORI</td>\n      <td>41.0</td>\n      <td>24.0</td>\n      <td>20.0</td>\n      <td>con+17.0</td>\n    </tr>\n    <tr>\n      <th>1488</th>\n      <td>2019-09-13</td>\n      <td>2019-09-16</td>\n      <td>Ipsos MORI</td>\n      <td>33.0</td>\n      <td>24.0</td>\n      <td>23.0</td>\n      <td>con+9.0</td>\n    </tr>\n    <tr>\n      <th>1519</th>\n      <td>2019-07-26</td>\n      <td>2019-07-30</td>\n      <td>Ipsos MORI</td>\n      <td>34.0</td>\n      <td>24.0</td>\n      <td>20.0</td>\n      <td>con+10.0</td>\n    </tr>\n    <tr>\n      <th>...</th>\n      <td>...</td>\n      <td>...</td>\n      <td>...</td>\n      <td>...</td>\n      <td>...</td>\n      <td>...</td>\n      <td>...</td>\n    </tr>\n    <tr>\n      <th>5483</th>\n      <td>1991-05-28</td>\n      <td>1991-05-28</td>\n      <td>Ipsos MORI</td>\n      <td>37.0</td>\n      <td>43.0</td>\n      <td>16.0</td>\n      <td>lab+6.0</td>\n    </tr>\n    <tr>\n      <th>5495</th>\n      <td>1991-04-22</td>\n      <td>1991-04-22</td>\n      <td>Ipsos MORI</td>\n      <td>42.0</td>\n      <td>40.0</td>\n      <td>15.0</td>\n      <td>con+2.0</td>\n    </tr>\n    <tr>\n      <th>5501</th>\n      <td>1991-03-25</td>\n      <td>1991-03-25</td>\n      <td>Ipsos MORI</td>\n      <td>40.0</td>\n      <td>40.0</td>\n      <td>16.0</td>\n      <td>Tie</td>\n    </tr>\n    <tr>\n      <th>5503</th>\n      <td>1991-03-22</td>\n      <td>1991-03-22</td>\n      <td>Ipsos MORI</td>\n      <td>38.0</td>\n      <td>44.0</td>\n      <td>15.0</td>\n      <td>lab+6.0</td>\n    </tr>\n    <tr>\n      <th>5509</th>\n      <td>1991-03-08</td>\n      <td>1991-03-08</td>\n      <td>Ipsos MORI</td>\n      <td>41.0</td>\n      <td>37.0</td>\n      <td>16.0</td>\n      <td>con+4.0</td>\n    </tr>\n  </tbody>\n</table>\n<p>179 rows × 7 columns</p>\n</div>"
     },
     "execution_count": 58,
     "metadata": {},
     "output_type": "execute_result"
    }
   ],
   "source": [
    "all_polls.query(\"pollster=='Ipsos MORI' and liberal_democrat >=15\")[display_columns]"
   ]
  },
  {
   "cell_type": "code",
   "execution_count": 59,
   "metadata": {
    "ExecuteTime": {
     "end_time": "2024-05-29T10:47:26.411126900Z",
     "start_time": "2024-05-29T10:47:25.973150900Z"
    }
   },
   "outputs": [
    {
     "data": {
      "text/plain": "     date_started date_concluded pollster  conservative  labour  \\\n183    2023-12-12     2024-01-04   YouGov          26.0    39.5   \n754    2022-07-27     2022-07-28   YouGov          34.0    35.0   \n770    2022-07-13     2022-07-14   YouGov          29.0    40.0   \n778    2022-07-06     2022-07-07   YouGov          29.0    40.0   \n785    2022-06-28     2022-06-29   YouGov          33.0    36.0   \n...           ...            ...      ...           ...     ...   \n4724   2003-09-23     2003-09-25   YouGov          32.0    31.0   \n4729   2003-07-22     2003-07-24   YouGov          37.0    34.0   \n4734   2003-04-22     2003-04-24   YouGov          32.0    40.0   \n4736   2003-03-26     2003-03-27   YouGov          33.0    40.0   \n4743   2003-01-28     2003-01-30   YouGov          32.0    36.0   \n\n      liberal_democrat      lead  \n183               12.5  lab+13.5  \n754               13.0   lab+1.0  \n770               13.0  lab+11.0  \n778               15.0  lab+11.0  \n785               13.0   lab+3.0  \n...                ...       ...  \n4724              30.0   con+1.0  \n4729              22.0   con+3.0  \n4734              21.0   lab+8.0  \n4736              20.0   lab+7.0  \n4743              24.0   lab+4.0  \n\n[335 rows x 7 columns]",
      "text/html": "<div>\n<style scoped>\n    .dataframe tbody tr th:only-of-type {\n        vertical-align: middle;\n    }\n\n    .dataframe tbody tr th {\n        vertical-align: top;\n    }\n\n    .dataframe thead th {\n        text-align: right;\n    }\n</style>\n<table border=\"1\" class=\"dataframe\">\n  <thead>\n    <tr style=\"text-align: right;\">\n      <th></th>\n      <th>date_started</th>\n      <th>date_concluded</th>\n      <th>pollster</th>\n      <th>conservative</th>\n      <th>labour</th>\n      <th>liberal_democrat</th>\n      <th>lead</th>\n    </tr>\n  </thead>\n  <tbody>\n    <tr>\n      <th>183</th>\n      <td>2023-12-12</td>\n      <td>2024-01-04</td>\n      <td>YouGov</td>\n      <td>26.0</td>\n      <td>39.5</td>\n      <td>12.5</td>\n      <td>lab+13.5</td>\n    </tr>\n    <tr>\n      <th>754</th>\n      <td>2022-07-27</td>\n      <td>2022-07-28</td>\n      <td>YouGov</td>\n      <td>34.0</td>\n      <td>35.0</td>\n      <td>13.0</td>\n      <td>lab+1.0</td>\n    </tr>\n    <tr>\n      <th>770</th>\n      <td>2022-07-13</td>\n      <td>2022-07-14</td>\n      <td>YouGov</td>\n      <td>29.0</td>\n      <td>40.0</td>\n      <td>13.0</td>\n      <td>lab+11.0</td>\n    </tr>\n    <tr>\n      <th>778</th>\n      <td>2022-07-06</td>\n      <td>2022-07-07</td>\n      <td>YouGov</td>\n      <td>29.0</td>\n      <td>40.0</td>\n      <td>15.0</td>\n      <td>lab+11.0</td>\n    </tr>\n    <tr>\n      <th>785</th>\n      <td>2022-06-28</td>\n      <td>2022-06-29</td>\n      <td>YouGov</td>\n      <td>33.0</td>\n      <td>36.0</td>\n      <td>13.0</td>\n      <td>lab+3.0</td>\n    </tr>\n    <tr>\n      <th>...</th>\n      <td>...</td>\n      <td>...</td>\n      <td>...</td>\n      <td>...</td>\n      <td>...</td>\n      <td>...</td>\n      <td>...</td>\n    </tr>\n    <tr>\n      <th>4724</th>\n      <td>2003-09-23</td>\n      <td>2003-09-25</td>\n      <td>YouGov</td>\n      <td>32.0</td>\n      <td>31.0</td>\n      <td>30.0</td>\n      <td>con+1.0</td>\n    </tr>\n    <tr>\n      <th>4729</th>\n      <td>2003-07-22</td>\n      <td>2003-07-24</td>\n      <td>YouGov</td>\n      <td>37.0</td>\n      <td>34.0</td>\n      <td>22.0</td>\n      <td>con+3.0</td>\n    </tr>\n    <tr>\n      <th>4734</th>\n      <td>2003-04-22</td>\n      <td>2003-04-24</td>\n      <td>YouGov</td>\n      <td>32.0</td>\n      <td>40.0</td>\n      <td>21.0</td>\n      <td>lab+8.0</td>\n    </tr>\n    <tr>\n      <th>4736</th>\n      <td>2003-03-26</td>\n      <td>2003-03-27</td>\n      <td>YouGov</td>\n      <td>33.0</td>\n      <td>40.0</td>\n      <td>20.0</td>\n      <td>lab+7.0</td>\n    </tr>\n    <tr>\n      <th>4743</th>\n      <td>2003-01-28</td>\n      <td>2003-01-30</td>\n      <td>YouGov</td>\n      <td>32.0</td>\n      <td>36.0</td>\n      <td>24.0</td>\n      <td>lab+4.0</td>\n    </tr>\n  </tbody>\n</table>\n<p>335 rows × 7 columns</p>\n</div>"
     },
     "execution_count": 59,
     "metadata": {},
     "output_type": "execute_result"
    }
   ],
   "source": [
    "all_polls.query(\"pollster=='YouGov' and liberal_democrat >12\")[display_columns]"
   ]
  },
  {
   "cell_type": "code",
   "execution_count": 60,
   "metadata": {
    "ExecuteTime": {
     "end_time": "2024-05-29T10:47:26.503304600Z",
     "start_time": "2024-05-29T10:47:26.060356400Z"
    }
   },
   "outputs": [
    {
     "data": {
      "text/plain": "     date_started date_concluded                      pollster  conservative  \\\n0      2024-05-26     2024-05-28                        YouGov          20.0   \n1      2024-05-25     2024-05-27  Redfield & Wilton Strategies          23.0   \n2      2024-05-24     2024-05-27                     Survation          24.0   \n3      2024-05-23     2024-05-25                     Deltapoll          23.0   \n5      2024-05-23     2024-05-24                      We Think          22.0   \n...           ...            ...                           ...           ...   \n923    2022-01-20     2022-01-20                      We Think          27.0   \n925    2022-01-17     2022-01-17  Redfield & Wilton Strategies          30.0   \n985    2021-11-08     2021-11-08                      We Think          30.0   \n3259   2012-11-10     2012-11-13                    Ipsos MORI          32.0   \n3301   2012-09-30     2012-10-01                        YouGov          34.0   \n\n      labour  liberal_democrat      lead  \n0       47.0               9.0  lab+27.0  \n1       46.0               9.0  lab+23.0  \n2       47.0              11.0  lab+23.0  \n3       45.0               9.0  lab+22.0  \n5       47.0               8.0  lab+25.0  \n...      ...               ...       ...  \n923     45.0               8.0  lab+18.0  \n925     43.0               9.0  lab+13.0  \n985     42.0               6.0  lab+12.0  \n3259    46.0               9.0  lab+14.0  \n3301    43.0               9.0   lab+9.0  \n\n[482 rows x 7 columns]",
      "text/html": "<div>\n<style scoped>\n    .dataframe tbody tr th:only-of-type {\n        vertical-align: middle;\n    }\n\n    .dataframe tbody tr th {\n        vertical-align: top;\n    }\n\n    .dataframe thead th {\n        text-align: right;\n    }\n</style>\n<table border=\"1\" class=\"dataframe\">\n  <thead>\n    <tr style=\"text-align: right;\">\n      <th></th>\n      <th>date_started</th>\n      <th>date_concluded</th>\n      <th>pollster</th>\n      <th>conservative</th>\n      <th>labour</th>\n      <th>liberal_democrat</th>\n      <th>lead</th>\n    </tr>\n  </thead>\n  <tbody>\n    <tr>\n      <th>0</th>\n      <td>2024-05-26</td>\n      <td>2024-05-28</td>\n      <td>YouGov</td>\n      <td>20.0</td>\n      <td>47.0</td>\n      <td>9.0</td>\n      <td>lab+27.0</td>\n    </tr>\n    <tr>\n      <th>1</th>\n      <td>2024-05-25</td>\n      <td>2024-05-27</td>\n      <td>Redfield &amp; Wilton Strategies</td>\n      <td>23.0</td>\n      <td>46.0</td>\n      <td>9.0</td>\n      <td>lab+23.0</td>\n    </tr>\n    <tr>\n      <th>2</th>\n      <td>2024-05-24</td>\n      <td>2024-05-27</td>\n      <td>Survation</td>\n      <td>24.0</td>\n      <td>47.0</td>\n      <td>11.0</td>\n      <td>lab+23.0</td>\n    </tr>\n    <tr>\n      <th>3</th>\n      <td>2024-05-23</td>\n      <td>2024-05-25</td>\n      <td>Deltapoll</td>\n      <td>23.0</td>\n      <td>45.0</td>\n      <td>9.0</td>\n      <td>lab+22.0</td>\n    </tr>\n    <tr>\n      <th>5</th>\n      <td>2024-05-23</td>\n      <td>2024-05-24</td>\n      <td>We Think</td>\n      <td>22.0</td>\n      <td>47.0</td>\n      <td>8.0</td>\n      <td>lab+25.0</td>\n    </tr>\n    <tr>\n      <th>...</th>\n      <td>...</td>\n      <td>...</td>\n      <td>...</td>\n      <td>...</td>\n      <td>...</td>\n      <td>...</td>\n      <td>...</td>\n    </tr>\n    <tr>\n      <th>923</th>\n      <td>2022-01-20</td>\n      <td>2022-01-20</td>\n      <td>We Think</td>\n      <td>27.0</td>\n      <td>45.0</td>\n      <td>8.0</td>\n      <td>lab+18.0</td>\n    </tr>\n    <tr>\n      <th>925</th>\n      <td>2022-01-17</td>\n      <td>2022-01-17</td>\n      <td>Redfield &amp; Wilton Strategies</td>\n      <td>30.0</td>\n      <td>43.0</td>\n      <td>9.0</td>\n      <td>lab+13.0</td>\n    </tr>\n    <tr>\n      <th>985</th>\n      <td>2021-11-08</td>\n      <td>2021-11-08</td>\n      <td>We Think</td>\n      <td>30.0</td>\n      <td>42.0</td>\n      <td>6.0</td>\n      <td>lab+12.0</td>\n    </tr>\n    <tr>\n      <th>3259</th>\n      <td>2012-11-10</td>\n      <td>2012-11-13</td>\n      <td>Ipsos MORI</td>\n      <td>32.0</td>\n      <td>46.0</td>\n      <td>9.0</td>\n      <td>lab+14.0</td>\n    </tr>\n    <tr>\n      <th>3301</th>\n      <td>2012-09-30</td>\n      <td>2012-10-01</td>\n      <td>YouGov</td>\n      <td>34.0</td>\n      <td>43.0</td>\n      <td>9.0</td>\n      <td>lab+9.0</td>\n    </tr>\n  </tbody>\n</table>\n<p>482 rows × 7 columns</p>\n</div>"
     },
     "execution_count": 60,
     "metadata": {},
     "output_type": "execute_result"
    }
   ],
   "source": [
    "all_polls.query(\"labour + green >= 50\")[display_columns]"
   ]
  },
  {
   "cell_type": "code",
   "execution_count": 61,
   "metadata": {
    "ExecuteTime": {
     "end_time": "2024-05-29T10:47:26.639153Z",
     "start_time": "2024-05-29T10:47:26.146098400Z"
    }
   },
   "outputs": [
    {
     "data": {
      "text/plain": "     date_started date_concluded pollster  conservative  labour  \\\n6      2024-05-23     2024-05-24  Opinium          27.0    41.0   \n18     2024-05-15     2024-05-17  Opinium          25.0    43.0   \n55     2024-04-17     2024-04-19  Opinium          25.0    41.0   \n70     2024-04-03     2024-04-05  Opinium          25.0    41.0   \n86     2024-03-20     2024-03-22  Opinium          25.0    41.0   \n...           ...            ...      ...           ...     ...   \n3327   2012-08-30     2012-08-31  Opinium          31.0    42.0   \n3366   2012-07-13     2012-07-16  Opinium          32.0    41.0   \n3380   2012-06-26     2012-06-28  Opinium          31.0    42.0   \n3398   2012-06-08     2012-06-11  Opinium          31.0    42.0   \n3419   2012-05-15     2012-05-17  Opinium          30.0    41.0   \n\n      liberal_democrat      lead  \n6                 10.0  lab+14.0  \n18                 9.0  lab+18.0  \n55                10.0  lab+16.0  \n70                10.0  lab+16.0  \n86                10.0  lab+16.0  \n...                ...       ...  \n3327               8.0  lab+11.0  \n3366               9.0   lab+9.0  \n3380               8.0  lab+11.0  \n3398               9.0  lab+11.0  \n3419               9.0  lab+11.0  \n\n[66 rows x 7 columns]",
      "text/html": "<div>\n<style scoped>\n    .dataframe tbody tr th:only-of-type {\n        vertical-align: middle;\n    }\n\n    .dataframe tbody tr th {\n        vertical-align: top;\n    }\n\n    .dataframe thead th {\n        text-align: right;\n    }\n</style>\n<table border=\"1\" class=\"dataframe\">\n  <thead>\n    <tr style=\"text-align: right;\">\n      <th></th>\n      <th>date_started</th>\n      <th>date_concluded</th>\n      <th>pollster</th>\n      <th>conservative</th>\n      <th>labour</th>\n      <th>liberal_democrat</th>\n      <th>lead</th>\n    </tr>\n  </thead>\n  <tbody>\n    <tr>\n      <th>6</th>\n      <td>2024-05-23</td>\n      <td>2024-05-24</td>\n      <td>Opinium</td>\n      <td>27.0</td>\n      <td>41.0</td>\n      <td>10.0</td>\n      <td>lab+14.0</td>\n    </tr>\n    <tr>\n      <th>18</th>\n      <td>2024-05-15</td>\n      <td>2024-05-17</td>\n      <td>Opinium</td>\n      <td>25.0</td>\n      <td>43.0</td>\n      <td>9.0</td>\n      <td>lab+18.0</td>\n    </tr>\n    <tr>\n      <th>55</th>\n      <td>2024-04-17</td>\n      <td>2024-04-19</td>\n      <td>Opinium</td>\n      <td>25.0</td>\n      <td>41.0</td>\n      <td>10.0</td>\n      <td>lab+16.0</td>\n    </tr>\n    <tr>\n      <th>70</th>\n      <td>2024-04-03</td>\n      <td>2024-04-05</td>\n      <td>Opinium</td>\n      <td>25.0</td>\n      <td>41.0</td>\n      <td>10.0</td>\n      <td>lab+16.0</td>\n    </tr>\n    <tr>\n      <th>86</th>\n      <td>2024-03-20</td>\n      <td>2024-03-22</td>\n      <td>Opinium</td>\n      <td>25.0</td>\n      <td>41.0</td>\n      <td>10.0</td>\n      <td>lab+16.0</td>\n    </tr>\n    <tr>\n      <th>...</th>\n      <td>...</td>\n      <td>...</td>\n      <td>...</td>\n      <td>...</td>\n      <td>...</td>\n      <td>...</td>\n      <td>...</td>\n    </tr>\n    <tr>\n      <th>3327</th>\n      <td>2012-08-30</td>\n      <td>2012-08-31</td>\n      <td>Opinium</td>\n      <td>31.0</td>\n      <td>42.0</td>\n      <td>8.0</td>\n      <td>lab+11.0</td>\n    </tr>\n    <tr>\n      <th>3366</th>\n      <td>2012-07-13</td>\n      <td>2012-07-16</td>\n      <td>Opinium</td>\n      <td>32.0</td>\n      <td>41.0</td>\n      <td>9.0</td>\n      <td>lab+9.0</td>\n    </tr>\n    <tr>\n      <th>3380</th>\n      <td>2012-06-26</td>\n      <td>2012-06-28</td>\n      <td>Opinium</td>\n      <td>31.0</td>\n      <td>42.0</td>\n      <td>8.0</td>\n      <td>lab+11.0</td>\n    </tr>\n    <tr>\n      <th>3398</th>\n      <td>2012-06-08</td>\n      <td>2012-06-11</td>\n      <td>Opinium</td>\n      <td>31.0</td>\n      <td>42.0</td>\n      <td>9.0</td>\n      <td>lab+11.0</td>\n    </tr>\n    <tr>\n      <th>3419</th>\n      <td>2012-05-15</td>\n      <td>2012-05-17</td>\n      <td>Opinium</td>\n      <td>30.0</td>\n      <td>41.0</td>\n      <td>9.0</td>\n      <td>lab+11.0</td>\n    </tr>\n  </tbody>\n</table>\n<p>66 rows × 7 columns</p>\n</div>"
     },
     "execution_count": 61,
     "metadata": {},
     "output_type": "execute_result"
    }
   ],
   "source": [
    "all_polls.query(\"pollster=='Opinium' and labour >= 41\")[display_columns]"
   ]
  },
  {
   "cell_type": "code",
   "execution_count": 62,
   "metadata": {
    "ExecuteTime": {
     "end_time": "2024-05-29T10:47:26.797924400Z",
     "start_time": "2024-05-29T10:47:26.222197200Z"
    }
   },
   "outputs": [],
   "source": [
    "#all_polls.query(\"pollster == 'YouGov' and conservative <31\")[display_columns]"
   ]
  },
  {
   "cell_type": "code",
   "execution_count": 63,
   "metadata": {
    "ExecuteTime": {
     "end_time": "2024-05-29T10:47:26.821457100Z",
     "start_time": "2024-05-29T10:47:26.292858200Z"
    }
   },
   "outputs": [],
   "source": [
    "reporting_date = 'date_started'"
   ]
  },
  {
   "cell_type": "code",
   "execution_count": 64,
   "metadata": {
    "ExecuteTime": {
     "end_time": "2024-05-29T10:47:27.053952Z",
     "start_time": "2024-05-29T10:47:26.355944200Z"
    }
   },
   "outputs": [],
   "source": [
    "most_recent_date = all_polls[reporting_date].max()\n",
    "one_year_polls = all_polls[\n",
    "    all_polls[reporting_date] >= (most_recent_date + relativedelta(months=-17)).replace(day=1)].copy()"
   ]
  },
  {
   "cell_type": "code",
   "execution_count": 65,
   "metadata": {
    "ExecuteTime": {
     "end_time": "2024-05-29T10:47:27.298951400Z",
     "start_time": "2024-05-29T10:47:26.430666800Z"
    }
   },
   "outputs": [],
   "source": [
    "pollsters_latest = pd.DataFrame()\n",
    "for pollster in one_year_polls.pollster.unique():\n",
    "    pollster_data = one_year_polls.query(f'pollster == \"{pollster}\"')\n",
    "    latest_poll = pollster_data.iloc[0]\n",
    "    pollsters_latest = pd.concat([pollsters_latest, latest_poll], axis=0, ignore_index=True)"
   ]
  },
  {
   "cell_type": "code",
   "execution_count": 66,
   "outputs": [
    {
     "data": {
      "text/plain": "                        pollster date_started date_concluded  \\\n0                   BMG Research   2024-04-22     2024-04-23   \n1                      Deltapoll   2024-05-23     2024-05-25   \n2                   Find Out Now   2024-01-24     2024-02-12   \n3                      FocalData   2023-02-10     2023-02-12   \n4                     Ipsos MORI   2024-05-08     2024-05-14   \n5                    JL Partners   2024-05-24     2024-05-25   \n6                Labour Together   2024-04-19     2024-04-29   \n7            Lord Ashcroft Polls   2024-05-09     2024-05-13   \n8                 More in Common   2024-05-22     2024-05-23   \n9                        Opinium   2024-05-23     2024-05-24   \n10                 PeoplePolling   2024-05-16     2024-05-16   \n11  Redfield & Wilton Strategies   2024-05-25     2024-05-27   \n12                       Savanta   2024-05-17     2024-05-19   \n13                     Survation   2024-05-24     2024-05-27   \n14                     Techne UK   2024-05-22     2024-05-23   \n15                        Verian   2023-08-31     2023-09-04   \n16                      We Think   2024-05-23     2024-05-24   \n17            Whitestone Insight   2024-05-15     2024-05-16   \n18                        YouGov   2024-05-26     2024-05-28   \n\n                        client area sample_size  conservative  labour  \\\n0                        The i   GB        1500          25.0    41.0   \n1               Mail on Sunday   GB        1517          23.0    45.0   \n2                   The Mirror   GB       18151          22.0    42.0   \n3                          NaN   GB        1041          28.0    48.0   \n4                          NaN   GB        1008          20.0    41.0   \n5         The Rest is Politics   GB        2013          28.0    40.0   \n6                          NaN   GB        9403          22.0    44.0   \n7                          NaN   GB        5485          22.0    45.0   \n8                          NaN   GB        2008          27.0    44.0   \n9                 The Observer   GB        2050          27.0    41.0   \n10                     GB News   GB        1476          20.0    46.0   \n11                         NaN   GB       12000          23.0    46.0   \n12               The Telegraph   GB        2295          26.0    43.0   \n13                         NaN   UK        2040          24.0    47.0   \n14                         NaN   GB        1643          19.0    45.0   \n15                         NaN   GB        1146          27.0    43.0   \n16                         NaN   GB        1242          22.0    47.0   \n17  Daily Express/Daily Mirror   GB        2024          24.0    44.0   \n18                    Sky News   GB        2128          20.0    47.0   \n\n    liberal_democrat  green  ...  others      lead  lead_value  \\\n0                9.0    6.0  ...     1.0  lab+16.0        16.0   \n1                9.0    6.0  ...     2.0  lab+22.0        22.0   \n2               11.0    7.0  ...     4.0  lab+20.0        20.0   \n3                9.0    4.0  ...     2.0  lab+20.0        20.0   \n4               11.0   11.0  ...     4.0  lab+21.0        21.0   \n5               10.0    5.0  ...     1.0  lab+12.0        12.0   \n6               10.0    6.0  ...     2.0  lab+22.0        22.0   \n7                8.0    8.0  ...     3.0  lab+23.0        23.0   \n8                9.0    5.0  ...     1.0  lab+17.0        17.0   \n9               10.0    7.0  ...     1.0  lab+14.0        14.0   \n10               8.0    8.0  ...     1.0  lab+26.0        26.0   \n11               9.0    5.0  ...     1.0  lab+23.0        23.0   \n12              10.0    5.0  ...     4.0  lab+17.0        17.0   \n13              11.0    3.0  ...     3.0  lab+23.0        23.0   \n14              12.0    5.0  ...     3.0  lab+26.0        26.0   \n15              13.0    5.0  ...     1.0  lab+16.0        16.0   \n16               8.0    6.0  ...     2.0  lab+25.0        25.0   \n17               8.0    6.0  ...     2.0  lab+20.0        20.0   \n18               9.0    7.0  ...     2.0  lab+27.0        27.0   \n\n    conservative_reform_gap  dd_lead  dd_lead_in_row  anti_conservative  \\\n0                      11.0      1.0             701               59.0   \n1                      13.0      1.0             701               64.0   \n2                      12.0      1.0             701               64.0   \n3                      22.0      1.0             701               64.0   \n4                      11.0      1.0             701               67.0   \n5                      16.0      1.0             701               59.0   \n6                       9.0      1.0             701               64.0   \n7                      11.0      1.0             701               64.0   \n8                      17.0      1.0             701               61.0   \n9                      17.0      1.0             701               60.0   \n10                      6.0      1.0             701               65.0   \n11                     10.0      1.0             701               64.0   \n12                     17.0      1.0             701               61.0   \n13                     16.0      1.0             701               65.0   \n14                      5.0      1.0             701               64.0   \n15                     23.0      1.0             701               67.0   \n16                     10.0      1.0             701               64.0   \n17                     11.0      1.0             701               61.0   \n18                      8.0      1.0             701               66.0   \n\n    maj_lead  maj_lead_in_row  dd_in_row  \n0        0.0                0        701  \n1        0.0                0        701  \n2        0.0                0        701  \n3        0.0                0        701  \n4        0.0                0        701  \n5        0.0                0        701  \n6        0.0                0        701  \n7        0.0                0        701  \n8        0.0                0        701  \n9        0.0                0        701  \n10       0.0                0        701  \n11       0.0                0        701  \n12       0.0                0        701  \n13       0.0                0        701  \n14       0.0                0        701  \n15       0.0                0        701  \n16       0.0                0        701  \n17       0.0                0        701  \n18       0.0                0        701  \n\n[19 rows x 30 columns]",
      "text/html": "<div>\n<style scoped>\n    .dataframe tbody tr th:only-of-type {\n        vertical-align: middle;\n    }\n\n    .dataframe tbody tr th {\n        vertical-align: top;\n    }\n\n    .dataframe thead th {\n        text-align: right;\n    }\n</style>\n<table border=\"1\" class=\"dataframe\">\n  <thead>\n    <tr style=\"text-align: right;\">\n      <th></th>\n      <th>pollster</th>\n      <th>date_started</th>\n      <th>date_concluded</th>\n      <th>client</th>\n      <th>area</th>\n      <th>sample_size</th>\n      <th>conservative</th>\n      <th>labour</th>\n      <th>liberal_democrat</th>\n      <th>green</th>\n      <th>...</th>\n      <th>others</th>\n      <th>lead</th>\n      <th>lead_value</th>\n      <th>conservative_reform_gap</th>\n      <th>dd_lead</th>\n      <th>dd_lead_in_row</th>\n      <th>anti_conservative</th>\n      <th>maj_lead</th>\n      <th>maj_lead_in_row</th>\n      <th>dd_in_row</th>\n    </tr>\n  </thead>\n  <tbody>\n    <tr>\n      <th>0</th>\n      <td>BMG Research</td>\n      <td>2024-04-22</td>\n      <td>2024-04-23</td>\n      <td>The i</td>\n      <td>GB</td>\n      <td>1500</td>\n      <td>25.0</td>\n      <td>41.0</td>\n      <td>9.0</td>\n      <td>6.0</td>\n      <td>...</td>\n      <td>1.0</td>\n      <td>lab+16.0</td>\n      <td>16.0</td>\n      <td>11.0</td>\n      <td>1.0</td>\n      <td>701</td>\n      <td>59.0</td>\n      <td>0.0</td>\n      <td>0</td>\n      <td>701</td>\n    </tr>\n    <tr>\n      <th>1</th>\n      <td>Deltapoll</td>\n      <td>2024-05-23</td>\n      <td>2024-05-25</td>\n      <td>Mail on Sunday</td>\n      <td>GB</td>\n      <td>1517</td>\n      <td>23.0</td>\n      <td>45.0</td>\n      <td>9.0</td>\n      <td>6.0</td>\n      <td>...</td>\n      <td>2.0</td>\n      <td>lab+22.0</td>\n      <td>22.0</td>\n      <td>13.0</td>\n      <td>1.0</td>\n      <td>701</td>\n      <td>64.0</td>\n      <td>0.0</td>\n      <td>0</td>\n      <td>701</td>\n    </tr>\n    <tr>\n      <th>2</th>\n      <td>Find Out Now</td>\n      <td>2024-01-24</td>\n      <td>2024-02-12</td>\n      <td>The Mirror</td>\n      <td>GB</td>\n      <td>18151</td>\n      <td>22.0</td>\n      <td>42.0</td>\n      <td>11.0</td>\n      <td>7.0</td>\n      <td>...</td>\n      <td>4.0</td>\n      <td>lab+20.0</td>\n      <td>20.0</td>\n      <td>12.0</td>\n      <td>1.0</td>\n      <td>701</td>\n      <td>64.0</td>\n      <td>0.0</td>\n      <td>0</td>\n      <td>701</td>\n    </tr>\n    <tr>\n      <th>3</th>\n      <td>FocalData</td>\n      <td>2023-02-10</td>\n      <td>2023-02-12</td>\n      <td>NaN</td>\n      <td>GB</td>\n      <td>1041</td>\n      <td>28.0</td>\n      <td>48.0</td>\n      <td>9.0</td>\n      <td>4.0</td>\n      <td>...</td>\n      <td>2.0</td>\n      <td>lab+20.0</td>\n      <td>20.0</td>\n      <td>22.0</td>\n      <td>1.0</td>\n      <td>701</td>\n      <td>64.0</td>\n      <td>0.0</td>\n      <td>0</td>\n      <td>701</td>\n    </tr>\n    <tr>\n      <th>4</th>\n      <td>Ipsos MORI</td>\n      <td>2024-05-08</td>\n      <td>2024-05-14</td>\n      <td>NaN</td>\n      <td>GB</td>\n      <td>1008</td>\n      <td>20.0</td>\n      <td>41.0</td>\n      <td>11.0</td>\n      <td>11.0</td>\n      <td>...</td>\n      <td>4.0</td>\n      <td>lab+21.0</td>\n      <td>21.0</td>\n      <td>11.0</td>\n      <td>1.0</td>\n      <td>701</td>\n      <td>67.0</td>\n      <td>0.0</td>\n      <td>0</td>\n      <td>701</td>\n    </tr>\n    <tr>\n      <th>5</th>\n      <td>JL Partners</td>\n      <td>2024-05-24</td>\n      <td>2024-05-25</td>\n      <td>The Rest is Politics</td>\n      <td>GB</td>\n      <td>2013</td>\n      <td>28.0</td>\n      <td>40.0</td>\n      <td>10.0</td>\n      <td>5.0</td>\n      <td>...</td>\n      <td>1.0</td>\n      <td>lab+12.0</td>\n      <td>12.0</td>\n      <td>16.0</td>\n      <td>1.0</td>\n      <td>701</td>\n      <td>59.0</td>\n      <td>0.0</td>\n      <td>0</td>\n      <td>701</td>\n    </tr>\n    <tr>\n      <th>6</th>\n      <td>Labour Together</td>\n      <td>2024-04-19</td>\n      <td>2024-04-29</td>\n      <td>NaN</td>\n      <td>GB</td>\n      <td>9403</td>\n      <td>22.0</td>\n      <td>44.0</td>\n      <td>10.0</td>\n      <td>6.0</td>\n      <td>...</td>\n      <td>2.0</td>\n      <td>lab+22.0</td>\n      <td>22.0</td>\n      <td>9.0</td>\n      <td>1.0</td>\n      <td>701</td>\n      <td>64.0</td>\n      <td>0.0</td>\n      <td>0</td>\n      <td>701</td>\n    </tr>\n    <tr>\n      <th>7</th>\n      <td>Lord Ashcroft Polls</td>\n      <td>2024-05-09</td>\n      <td>2024-05-13</td>\n      <td>NaN</td>\n      <td>GB</td>\n      <td>5485</td>\n      <td>22.0</td>\n      <td>45.0</td>\n      <td>8.0</td>\n      <td>8.0</td>\n      <td>...</td>\n      <td>3.0</td>\n      <td>lab+23.0</td>\n      <td>23.0</td>\n      <td>11.0</td>\n      <td>1.0</td>\n      <td>701</td>\n      <td>64.0</td>\n      <td>0.0</td>\n      <td>0</td>\n      <td>701</td>\n    </tr>\n    <tr>\n      <th>8</th>\n      <td>More in Common</td>\n      <td>2024-05-22</td>\n      <td>2024-05-23</td>\n      <td>NaN</td>\n      <td>GB</td>\n      <td>2008</td>\n      <td>27.0</td>\n      <td>44.0</td>\n      <td>9.0</td>\n      <td>5.0</td>\n      <td>...</td>\n      <td>1.0</td>\n      <td>lab+17.0</td>\n      <td>17.0</td>\n      <td>17.0</td>\n      <td>1.0</td>\n      <td>701</td>\n      <td>61.0</td>\n      <td>0.0</td>\n      <td>0</td>\n      <td>701</td>\n    </tr>\n    <tr>\n      <th>9</th>\n      <td>Opinium</td>\n      <td>2024-05-23</td>\n      <td>2024-05-24</td>\n      <td>The Observer</td>\n      <td>GB</td>\n      <td>2050</td>\n      <td>27.0</td>\n      <td>41.0</td>\n      <td>10.0</td>\n      <td>7.0</td>\n      <td>...</td>\n      <td>1.0</td>\n      <td>lab+14.0</td>\n      <td>14.0</td>\n      <td>17.0</td>\n      <td>1.0</td>\n      <td>701</td>\n      <td>60.0</td>\n      <td>0.0</td>\n      <td>0</td>\n      <td>701</td>\n    </tr>\n    <tr>\n      <th>10</th>\n      <td>PeoplePolling</td>\n      <td>2024-05-16</td>\n      <td>2024-05-16</td>\n      <td>GB News</td>\n      <td>GB</td>\n      <td>1476</td>\n      <td>20.0</td>\n      <td>46.0</td>\n      <td>8.0</td>\n      <td>8.0</td>\n      <td>...</td>\n      <td>1.0</td>\n      <td>lab+26.0</td>\n      <td>26.0</td>\n      <td>6.0</td>\n      <td>1.0</td>\n      <td>701</td>\n      <td>65.0</td>\n      <td>0.0</td>\n      <td>0</td>\n      <td>701</td>\n    </tr>\n    <tr>\n      <th>11</th>\n      <td>Redfield &amp; Wilton Strategies</td>\n      <td>2024-05-25</td>\n      <td>2024-05-27</td>\n      <td>NaN</td>\n      <td>GB</td>\n      <td>12000</td>\n      <td>23.0</td>\n      <td>46.0</td>\n      <td>9.0</td>\n      <td>5.0</td>\n      <td>...</td>\n      <td>1.0</td>\n      <td>lab+23.0</td>\n      <td>23.0</td>\n      <td>10.0</td>\n      <td>1.0</td>\n      <td>701</td>\n      <td>64.0</td>\n      <td>0.0</td>\n      <td>0</td>\n      <td>701</td>\n    </tr>\n    <tr>\n      <th>12</th>\n      <td>Savanta</td>\n      <td>2024-05-17</td>\n      <td>2024-05-19</td>\n      <td>The Telegraph</td>\n      <td>GB</td>\n      <td>2295</td>\n      <td>26.0</td>\n      <td>43.0</td>\n      <td>10.0</td>\n      <td>5.0</td>\n      <td>...</td>\n      <td>4.0</td>\n      <td>lab+17.0</td>\n      <td>17.0</td>\n      <td>17.0</td>\n      <td>1.0</td>\n      <td>701</td>\n      <td>61.0</td>\n      <td>0.0</td>\n      <td>0</td>\n      <td>701</td>\n    </tr>\n    <tr>\n      <th>13</th>\n      <td>Survation</td>\n      <td>2024-05-24</td>\n      <td>2024-05-27</td>\n      <td>NaN</td>\n      <td>UK</td>\n      <td>2040</td>\n      <td>24.0</td>\n      <td>47.0</td>\n      <td>11.0</td>\n      <td>3.0</td>\n      <td>...</td>\n      <td>3.0</td>\n      <td>lab+23.0</td>\n      <td>23.0</td>\n      <td>16.0</td>\n      <td>1.0</td>\n      <td>701</td>\n      <td>65.0</td>\n      <td>0.0</td>\n      <td>0</td>\n      <td>701</td>\n    </tr>\n    <tr>\n      <th>14</th>\n      <td>Techne UK</td>\n      <td>2024-05-22</td>\n      <td>2024-05-23</td>\n      <td>NaN</td>\n      <td>GB</td>\n      <td>1643</td>\n      <td>19.0</td>\n      <td>45.0</td>\n      <td>12.0</td>\n      <td>5.0</td>\n      <td>...</td>\n      <td>3.0</td>\n      <td>lab+26.0</td>\n      <td>26.0</td>\n      <td>5.0</td>\n      <td>1.0</td>\n      <td>701</td>\n      <td>64.0</td>\n      <td>0.0</td>\n      <td>0</td>\n      <td>701</td>\n    </tr>\n    <tr>\n      <th>15</th>\n      <td>Verian</td>\n      <td>2023-08-31</td>\n      <td>2023-09-04</td>\n      <td>NaN</td>\n      <td>GB</td>\n      <td>1146</td>\n      <td>27.0</td>\n      <td>43.0</td>\n      <td>13.0</td>\n      <td>5.0</td>\n      <td>...</td>\n      <td>1.0</td>\n      <td>lab+16.0</td>\n      <td>16.0</td>\n      <td>23.0</td>\n      <td>1.0</td>\n      <td>701</td>\n      <td>67.0</td>\n      <td>0.0</td>\n      <td>0</td>\n      <td>701</td>\n    </tr>\n    <tr>\n      <th>16</th>\n      <td>We Think</td>\n      <td>2024-05-23</td>\n      <td>2024-05-24</td>\n      <td>NaN</td>\n      <td>GB</td>\n      <td>1242</td>\n      <td>22.0</td>\n      <td>47.0</td>\n      <td>8.0</td>\n      <td>6.0</td>\n      <td>...</td>\n      <td>2.0</td>\n      <td>lab+25.0</td>\n      <td>25.0</td>\n      <td>10.0</td>\n      <td>1.0</td>\n      <td>701</td>\n      <td>64.0</td>\n      <td>0.0</td>\n      <td>0</td>\n      <td>701</td>\n    </tr>\n    <tr>\n      <th>17</th>\n      <td>Whitestone Insight</td>\n      <td>2024-05-15</td>\n      <td>2024-05-16</td>\n      <td>Daily Express/Daily Mirror</td>\n      <td>GB</td>\n      <td>2024</td>\n      <td>24.0</td>\n      <td>44.0</td>\n      <td>8.0</td>\n      <td>6.0</td>\n      <td>...</td>\n      <td>2.0</td>\n      <td>lab+20.0</td>\n      <td>20.0</td>\n      <td>11.0</td>\n      <td>1.0</td>\n      <td>701</td>\n      <td>61.0</td>\n      <td>0.0</td>\n      <td>0</td>\n      <td>701</td>\n    </tr>\n    <tr>\n      <th>18</th>\n      <td>YouGov</td>\n      <td>2024-05-26</td>\n      <td>2024-05-28</td>\n      <td>Sky News</td>\n      <td>GB</td>\n      <td>2128</td>\n      <td>20.0</td>\n      <td>47.0</td>\n      <td>9.0</td>\n      <td>7.0</td>\n      <td>...</td>\n      <td>2.0</td>\n      <td>lab+27.0</td>\n      <td>27.0</td>\n      <td>8.0</td>\n      <td>1.0</td>\n      <td>701</td>\n      <td>66.0</td>\n      <td>0.0</td>\n      <td>0</td>\n      <td>701</td>\n    </tr>\n  </tbody>\n</table>\n<p>19 rows × 30 columns</p>\n</div>"
     },
     "execution_count": 66,
     "metadata": {},
     "output_type": "execute_result"
    }
   ],
   "source": [
    "one_year_polls.groupby('pollster').nth(0).reset_index()"
   ],
   "metadata": {
    "collapsed": false,
    "ExecuteTime": {
     "end_time": "2024-05-29T10:47:27.383072500Z",
     "start_time": "2024-05-29T10:47:26.547478600Z"
    }
   }
  },
  {
   "cell_type": "code",
   "execution_count": 67,
   "outputs": [],
   "source": [
    "pollsters_latest = one_year_polls.groupby('pollster').nth(1).reset_index()"
   ],
   "metadata": {
    "collapsed": false,
    "ExecuteTime": {
     "end_time": "2024-05-29T10:47:27.384076500Z",
     "start_time": "2024-05-29T10:47:26.655173500Z"
    }
   }
  },
  {
   "cell_type": "code",
   "execution_count": 68,
   "outputs": [
    {
     "data": {
      "text/plain": "    date_started date_concluded pollster                 client area  \\\n6     2024-05-23     2024-05-24  Opinium           The Observer   GB   \n18    2024-05-15     2024-05-17  Opinium           The Observer   GB   \n37    2024-05-01     2024-05-03  Opinium           The Observer   GB   \n55    2024-04-17     2024-04-19  Opinium           The Observer   GB   \n70    2024-04-03     2024-04-05  Opinium           The Observer   GB   \n86    2024-03-20     2024-03-22  Opinium           The Observer   UK   \n106   2024-03-06     2024-03-08  Opinium           The Observer   UK   \n115   2024-02-28     2024-03-01  Opinium                    NaN   UK   \n123   2024-02-21     2024-02-23  Opinium           The Observer   UK   \n130   2024-02-14     2024-02-16  Opinium           The Observer   UK   \n142   2024-02-06     2024-02-09  Opinium           The Observer   UK   \n160   2024-01-23     2024-01-26  Opinium           The Observer   UK   \n176   2024-01-10     2024-01-12  Opinium           The Observer   UK   \n195   2023-12-13     2023-12-15  Opinium           The Observer   GB   \n219   2023-11-22     2023-11-24  Opinium           The Observer   GB   \n227   2023-11-15     2023-11-17  Opinium           The Observer   GB   \n235   2023-11-08     2023-11-10  Opinium           The Observer   GB   \n254   2023-10-25     2023-10-27  Opinium           The Observer   GB   \n270   2023-10-11     2023-10-13  Opinium           The Observer   GB   \n278   2023-10-06     2023-10-06  Opinium           The Observer   GB   \n286   2023-09-27     2023-09-29  Opinium           The Observer   GB   \n301   2023-09-13     2023-09-15  Opinium           The Observer   GB   \n315   2023-08-31     2023-09-01  Opinium           The Observer   GB   \n329   2023-08-16     2023-08-18  Opinium           The Observer   GB   \n336   2023-08-02     2023-08-04  Opinium           The Observer   GB   \n352   2023-07-19     2023-07-21  Opinium           The Observer   GB   \n367   2023-07-05     2023-07-07  Opinium           The Observer   GB   \n382   2023-06-21     2023-06-23  Opinium           The Observer   GB   \n399   2023-06-07     2023-06-09  Opinium           The Observer   GB   \n412   2023-05-23     2023-05-26  Opinium           The Observer   GB   \n429   2023-05-10     2023-05-12  Opinium           The Observer   GB   \n442   2023-04-26     2023-04-28  Opinium           The Observer   GB   \n456   2023-04-12     2023-04-14  Opinium           The Observer   GB   \n463   2023-04-05     2023-04-06  Opinium           The Observer   GB   \n470   2023-03-29     2023-03-31  Opinium           The Observer   GB   \n489   2023-03-15     2023-03-17  Opinium           The Observer   GB   \n498   2023-03-08     2023-03-10  Opinium                    NaN   GB   \n508   2023-03-01     2023-03-03  Opinium  Headlands Consultancy   GB   \n509   2023-03-01     2023-03-03  Opinium           The Observer   GB   \n527   2023-02-15     2023-02-17  Opinium           The Observer   GB   \n568   2023-01-11     2023-01-13  Opinium           The Observer   GB   \n588   2022-12-14     2022-12-16  Opinium           The Observer   GB   \n\n    sample_size  conservative  labour  liberal_democrat  green  ...  others  \\\n6          2050          27.0    41.0              10.0    7.0  ...     1.0   \n18         1458          25.0    43.0               9.0    7.0  ...     2.0   \n37         1402          24.0    40.0              11.0    7.0  ...     2.0   \n55         1431          25.0    41.0              10.0    7.0  ...     1.0   \n70         1318          25.0    41.0              10.0    8.0  ...     1.0   \n86         1874          25.0    41.0              10.0    8.0  ...     2.0   \n106        2054          25.0    41.0              10.0    7.0  ...     4.0   \n115        2050          25.0    40.0              10.0    7.0  ...     3.0   \n123        2079          27.0    42.0              10.0    7.0  ...     1.0   \n130        2002          27.0    43.0              10.0    7.0  ...     2.0   \n142        2050          25.0    43.0              11.0    7.0  ...     3.0   \n160        2060          27.0    42.0              10.0    6.0  ...     1.0   \n176        2050          27.0    41.0              11.0    6.0  ...     2.0   \n195        1426          27.0    40.0              11.0    7.0  ...     2.0   \n219        1453          26.0    42.0              11.0    7.0  ...     2.0   \n227        1433          27.0    40.0              12.0    6.0  ...     3.0   \n235        1433          26.0    43.0              11.0    6.0  ...     3.0   \n254        1433          27.0    42.0              10.0    7.0  ...     2.0   \n270        1461          28.0    44.0              10.0    6.0  ...     3.0   \n278        1370          29.0    42.0              11.0    6.0  ...     2.0   \n286        1993          29.0    39.0              12.0    7.0  ...     3.0   \n301        1414          26.0    41.0              11.0    7.0  ...     2.0   \n315        1400          28.0    42.0               9.0    8.0  ...     2.0   \n329        1452          26.0    41.0              11.0    7.0  ...     2.0   \n336        1484          26.0    40.0              10.0    7.0  ...     2.0   \n352        1468          25.0    42.0              11.0    6.0  ...     2.0   \n367        1473          28.0    43.0               9.0    6.0  ...     2.0   \n382        2063          26.0    44.0               8.0    7.0  ...     2.0   \n399        2107          29.0    41.0              11.0    7.0  ...     2.0   \n412        2062          28.0    43.0               9.0    7.0  ...     3.0   \n429        2050          29.0    43.0              11.0    5.0  ...     3.0   \n442        1425          26.0    44.0              10.0    7.0  ...     2.0   \n456        1370          28.0    42.0              10.0    6.0  ...     2.0   \n463        2081          30.0    41.0              10.0    5.0  ...     3.0   \n470        2050          29.0    44.0               9.0    5.0  ...     2.0   \n489        2000          29.0    44.0               8.0    6.0  ...     2.0   \n498        2000          29.0    44.0               8.0    5.0  ...     3.0   \n508        3000          30.0    42.0               9.0    6.0  ...     3.0   \n509        1419          27.0    44.0               7.0    7.0  ...     3.0   \n527        1451          28.0    44.0               9.0    6.0  ...     2.0   \n568        2000          29.0    45.0               9.0    5.0  ...     2.0   \n588        2000          29.0    44.0               9.0    5.0  ...     2.0   \n\n         lead  lead_value  conservative_reform_gap  dd_lead  dd_lead_in_row  \\\n6    lab+14.0        14.0                     17.0      1.0             701   \n18   lab+18.0        18.0                     15.0      1.0             701   \n37   lab+16.0        16.0                     12.0      1.0             701   \n55   lab+16.0        16.0                     12.0      1.0             701   \n70   lab+16.0        16.0                     14.0      1.0             701   \n86   lab+16.0        16.0                     14.0      1.0             701   \n106  lab+16.0        16.0                     14.0      1.0             701   \n115  lab+15.0        15.0                     13.0      1.0             701   \n123  lab+15.0        15.0                     17.0      1.0             701   \n130  lab+16.0        16.0                     18.0      1.0             701   \n142  lab+18.0        18.0                     15.0      1.0             701   \n160  lab+15.0        15.0                     17.0      1.0             701   \n176  lab+14.0        14.0                     17.0      1.0             701   \n195  lab+13.0        13.0                     18.0      1.0             701   \n219  lab+16.0        16.0                     18.0      1.0             701   \n227  lab+13.0        13.0                     18.0      1.0             701   \n235  lab+17.0        17.0                     17.0      1.0             701   \n254  lab+15.0        15.0                     19.0      1.0             701   \n270  lab+16.0        16.0                     22.0      1.0             701   \n278  lab+13.0        13.0                     23.0      1.0             701   \n286  lab+10.0        10.0                     22.0      1.0             701   \n301  lab+15.0        15.0                     18.0      1.0             701   \n315  lab+14.0        14.0                     20.0      1.0             701   \n329  lab+15.0        15.0                     17.0      1.0             701   \n336  lab+14.0        14.0                     16.0      1.0             701   \n352  lab+17.0        17.0                     15.0      1.0             701   \n367  lab+15.0        15.0                     20.0      1.0             701   \n382  lab+18.0        18.0                     16.0      1.0             701   \n399  lab+12.0        12.0                     23.0      1.0             701   \n412  lab+15.0        15.0                     22.0      1.0             701   \n429  lab+14.0        14.0                     23.0      1.0             701   \n442  lab+18.0        18.0                     19.0      1.0             701   \n456  lab+14.0        14.0                     20.0      1.0             701   \n463  lab+11.0        11.0                     23.0      1.0             701   \n470  lab+15.0        15.0                     22.0      1.0             701   \n489  lab+15.0        15.0                     22.0      1.0             701   \n498  lab+15.0        15.0                     21.0      1.0             701   \n508  lab+12.0        12.0                     22.0      1.0             701   \n509  lab+17.0        17.0                     19.0      1.0             701   \n527  lab+16.0        16.0                     21.0      1.0             701   \n568  lab+16.0        16.0                     23.0      1.0             701   \n588  lab+15.0        15.0                     21.0      1.0             701   \n\n     anti_conservative  maj_lead  maj_lead_in_row  dd_in_row  \n6                 60.0       0.0                0        701  \n18                62.0       0.0                0        701  \n37                62.0       0.0                0        701  \n55                62.0       0.0                0        701  \n70                63.0       0.0                0        701  \n86                62.0       0.0                0        701  \n106               61.0       0.0                0        701  \n115               60.0       0.0                0        701  \n123               62.0       0.0                0        701  \n130               63.0       0.0                0        701  \n142               63.0       0.0                0        701  \n160               61.0       0.0                0        701  \n176               62.0       0.0                0        701  \n195               61.0       0.0                0        701  \n219               63.0       0.0                0        701  \n227               61.0       0.0                0        701  \n235               63.0       0.0                0        701  \n254               62.0       0.0                0        701  \n270               63.0       0.0                0        701  \n278               62.0       0.0                0        701  \n286               61.0       0.0                0        701  \n301               62.0       0.0                0        701  \n315               62.0       0.0                0        701  \n329               63.0       0.0                0        701  \n336               60.0       0.0                0        701  \n352               63.0       0.0                0        701  \n367               62.0       0.0                0        701  \n382               62.0       0.0                0        701  \n399               63.0       0.0                0        701  \n412               63.0       0.0                0        701  \n429               62.0       0.0                0        701  \n442               64.0       0.0                0        701  \n456               62.0       0.0                0        701  \n463               60.0       0.0                0        701  \n470               62.0       0.0                0        701  \n489               62.0       0.0                0        701  \n498               61.0       0.0                0        701  \n508               61.0       0.0                0        701  \n509               61.0       0.0                0        701  \n527               63.0       0.0                0        701  \n568               63.0       0.0                0        701  \n588               62.0       0.0                0        701  \n\n[42 rows x 30 columns]",
      "text/html": "<div>\n<style scoped>\n    .dataframe tbody tr th:only-of-type {\n        vertical-align: middle;\n    }\n\n    .dataframe tbody tr th {\n        vertical-align: top;\n    }\n\n    .dataframe thead th {\n        text-align: right;\n    }\n</style>\n<table border=\"1\" class=\"dataframe\">\n  <thead>\n    <tr style=\"text-align: right;\">\n      <th></th>\n      <th>date_started</th>\n      <th>date_concluded</th>\n      <th>pollster</th>\n      <th>client</th>\n      <th>area</th>\n      <th>sample_size</th>\n      <th>conservative</th>\n      <th>labour</th>\n      <th>liberal_democrat</th>\n      <th>green</th>\n      <th>...</th>\n      <th>others</th>\n      <th>lead</th>\n      <th>lead_value</th>\n      <th>conservative_reform_gap</th>\n      <th>dd_lead</th>\n      <th>dd_lead_in_row</th>\n      <th>anti_conservative</th>\n      <th>maj_lead</th>\n      <th>maj_lead_in_row</th>\n      <th>dd_in_row</th>\n    </tr>\n  </thead>\n  <tbody>\n    <tr>\n      <th>6</th>\n      <td>2024-05-23</td>\n      <td>2024-05-24</td>\n      <td>Opinium</td>\n      <td>The Observer</td>\n      <td>GB</td>\n      <td>2050</td>\n      <td>27.0</td>\n      <td>41.0</td>\n      <td>10.0</td>\n      <td>7.0</td>\n      <td>...</td>\n      <td>1.0</td>\n      <td>lab+14.0</td>\n      <td>14.0</td>\n      <td>17.0</td>\n      <td>1.0</td>\n      <td>701</td>\n      <td>60.0</td>\n      <td>0.0</td>\n      <td>0</td>\n      <td>701</td>\n    </tr>\n    <tr>\n      <th>18</th>\n      <td>2024-05-15</td>\n      <td>2024-05-17</td>\n      <td>Opinium</td>\n      <td>The Observer</td>\n      <td>GB</td>\n      <td>1458</td>\n      <td>25.0</td>\n      <td>43.0</td>\n      <td>9.0</td>\n      <td>7.0</td>\n      <td>...</td>\n      <td>2.0</td>\n      <td>lab+18.0</td>\n      <td>18.0</td>\n      <td>15.0</td>\n      <td>1.0</td>\n      <td>701</td>\n      <td>62.0</td>\n      <td>0.0</td>\n      <td>0</td>\n      <td>701</td>\n    </tr>\n    <tr>\n      <th>37</th>\n      <td>2024-05-01</td>\n      <td>2024-05-03</td>\n      <td>Opinium</td>\n      <td>The Observer</td>\n      <td>GB</td>\n      <td>1402</td>\n      <td>24.0</td>\n      <td>40.0</td>\n      <td>11.0</td>\n      <td>7.0</td>\n      <td>...</td>\n      <td>2.0</td>\n      <td>lab+16.0</td>\n      <td>16.0</td>\n      <td>12.0</td>\n      <td>1.0</td>\n      <td>701</td>\n      <td>62.0</td>\n      <td>0.0</td>\n      <td>0</td>\n      <td>701</td>\n    </tr>\n    <tr>\n      <th>55</th>\n      <td>2024-04-17</td>\n      <td>2024-04-19</td>\n      <td>Opinium</td>\n      <td>The Observer</td>\n      <td>GB</td>\n      <td>1431</td>\n      <td>25.0</td>\n      <td>41.0</td>\n      <td>10.0</td>\n      <td>7.0</td>\n      <td>...</td>\n      <td>1.0</td>\n      <td>lab+16.0</td>\n      <td>16.0</td>\n      <td>12.0</td>\n      <td>1.0</td>\n      <td>701</td>\n      <td>62.0</td>\n      <td>0.0</td>\n      <td>0</td>\n      <td>701</td>\n    </tr>\n    <tr>\n      <th>70</th>\n      <td>2024-04-03</td>\n      <td>2024-04-05</td>\n      <td>Opinium</td>\n      <td>The Observer</td>\n      <td>GB</td>\n      <td>1318</td>\n      <td>25.0</td>\n      <td>41.0</td>\n      <td>10.0</td>\n      <td>8.0</td>\n      <td>...</td>\n      <td>1.0</td>\n      <td>lab+16.0</td>\n      <td>16.0</td>\n      <td>14.0</td>\n      <td>1.0</td>\n      <td>701</td>\n      <td>63.0</td>\n      <td>0.0</td>\n      <td>0</td>\n      <td>701</td>\n    </tr>\n    <tr>\n      <th>86</th>\n      <td>2024-03-20</td>\n      <td>2024-03-22</td>\n      <td>Opinium</td>\n      <td>The Observer</td>\n      <td>UK</td>\n      <td>1874</td>\n      <td>25.0</td>\n      <td>41.0</td>\n      <td>10.0</td>\n      <td>8.0</td>\n      <td>...</td>\n      <td>2.0</td>\n      <td>lab+16.0</td>\n      <td>16.0</td>\n      <td>14.0</td>\n      <td>1.0</td>\n      <td>701</td>\n      <td>62.0</td>\n      <td>0.0</td>\n      <td>0</td>\n      <td>701</td>\n    </tr>\n    <tr>\n      <th>106</th>\n      <td>2024-03-06</td>\n      <td>2024-03-08</td>\n      <td>Opinium</td>\n      <td>The Observer</td>\n      <td>UK</td>\n      <td>2054</td>\n      <td>25.0</td>\n      <td>41.0</td>\n      <td>10.0</td>\n      <td>7.0</td>\n      <td>...</td>\n      <td>4.0</td>\n      <td>lab+16.0</td>\n      <td>16.0</td>\n      <td>14.0</td>\n      <td>1.0</td>\n      <td>701</td>\n      <td>61.0</td>\n      <td>0.0</td>\n      <td>0</td>\n      <td>701</td>\n    </tr>\n    <tr>\n      <th>115</th>\n      <td>2024-02-28</td>\n      <td>2024-03-01</td>\n      <td>Opinium</td>\n      <td>NaN</td>\n      <td>UK</td>\n      <td>2050</td>\n      <td>25.0</td>\n      <td>40.0</td>\n      <td>10.0</td>\n      <td>7.0</td>\n      <td>...</td>\n      <td>3.0</td>\n      <td>lab+15.0</td>\n      <td>15.0</td>\n      <td>13.0</td>\n      <td>1.0</td>\n      <td>701</td>\n      <td>60.0</td>\n      <td>0.0</td>\n      <td>0</td>\n      <td>701</td>\n    </tr>\n    <tr>\n      <th>123</th>\n      <td>2024-02-21</td>\n      <td>2024-02-23</td>\n      <td>Opinium</td>\n      <td>The Observer</td>\n      <td>UK</td>\n      <td>2079</td>\n      <td>27.0</td>\n      <td>42.0</td>\n      <td>10.0</td>\n      <td>7.0</td>\n      <td>...</td>\n      <td>1.0</td>\n      <td>lab+15.0</td>\n      <td>15.0</td>\n      <td>17.0</td>\n      <td>1.0</td>\n      <td>701</td>\n      <td>62.0</td>\n      <td>0.0</td>\n      <td>0</td>\n      <td>701</td>\n    </tr>\n    <tr>\n      <th>130</th>\n      <td>2024-02-14</td>\n      <td>2024-02-16</td>\n      <td>Opinium</td>\n      <td>The Observer</td>\n      <td>UK</td>\n      <td>2002</td>\n      <td>27.0</td>\n      <td>43.0</td>\n      <td>10.0</td>\n      <td>7.0</td>\n      <td>...</td>\n      <td>2.0</td>\n      <td>lab+16.0</td>\n      <td>16.0</td>\n      <td>18.0</td>\n      <td>1.0</td>\n      <td>701</td>\n      <td>63.0</td>\n      <td>0.0</td>\n      <td>0</td>\n      <td>701</td>\n    </tr>\n    <tr>\n      <th>142</th>\n      <td>2024-02-06</td>\n      <td>2024-02-09</td>\n      <td>Opinium</td>\n      <td>The Observer</td>\n      <td>UK</td>\n      <td>2050</td>\n      <td>25.0</td>\n      <td>43.0</td>\n      <td>11.0</td>\n      <td>7.0</td>\n      <td>...</td>\n      <td>3.0</td>\n      <td>lab+18.0</td>\n      <td>18.0</td>\n      <td>15.0</td>\n      <td>1.0</td>\n      <td>701</td>\n      <td>63.0</td>\n      <td>0.0</td>\n      <td>0</td>\n      <td>701</td>\n    </tr>\n    <tr>\n      <th>160</th>\n      <td>2024-01-23</td>\n      <td>2024-01-26</td>\n      <td>Opinium</td>\n      <td>The Observer</td>\n      <td>UK</td>\n      <td>2060</td>\n      <td>27.0</td>\n      <td>42.0</td>\n      <td>10.0</td>\n      <td>6.0</td>\n      <td>...</td>\n      <td>1.0</td>\n      <td>lab+15.0</td>\n      <td>15.0</td>\n      <td>17.0</td>\n      <td>1.0</td>\n      <td>701</td>\n      <td>61.0</td>\n      <td>0.0</td>\n      <td>0</td>\n      <td>701</td>\n    </tr>\n    <tr>\n      <th>176</th>\n      <td>2024-01-10</td>\n      <td>2024-01-12</td>\n      <td>Opinium</td>\n      <td>The Observer</td>\n      <td>UK</td>\n      <td>2050</td>\n      <td>27.0</td>\n      <td>41.0</td>\n      <td>11.0</td>\n      <td>6.0</td>\n      <td>...</td>\n      <td>2.0</td>\n      <td>lab+14.0</td>\n      <td>14.0</td>\n      <td>17.0</td>\n      <td>1.0</td>\n      <td>701</td>\n      <td>62.0</td>\n      <td>0.0</td>\n      <td>0</td>\n      <td>701</td>\n    </tr>\n    <tr>\n      <th>195</th>\n      <td>2023-12-13</td>\n      <td>2023-12-15</td>\n      <td>Opinium</td>\n      <td>The Observer</td>\n      <td>GB</td>\n      <td>1426</td>\n      <td>27.0</td>\n      <td>40.0</td>\n      <td>11.0</td>\n      <td>7.0</td>\n      <td>...</td>\n      <td>2.0</td>\n      <td>lab+13.0</td>\n      <td>13.0</td>\n      <td>18.0</td>\n      <td>1.0</td>\n      <td>701</td>\n      <td>61.0</td>\n      <td>0.0</td>\n      <td>0</td>\n      <td>701</td>\n    </tr>\n    <tr>\n      <th>219</th>\n      <td>2023-11-22</td>\n      <td>2023-11-24</td>\n      <td>Opinium</td>\n      <td>The Observer</td>\n      <td>GB</td>\n      <td>1453</td>\n      <td>26.0</td>\n      <td>42.0</td>\n      <td>11.0</td>\n      <td>7.0</td>\n      <td>...</td>\n      <td>2.0</td>\n      <td>lab+16.0</td>\n      <td>16.0</td>\n      <td>18.0</td>\n      <td>1.0</td>\n      <td>701</td>\n      <td>63.0</td>\n      <td>0.0</td>\n      <td>0</td>\n      <td>701</td>\n    </tr>\n    <tr>\n      <th>227</th>\n      <td>2023-11-15</td>\n      <td>2023-11-17</td>\n      <td>Opinium</td>\n      <td>The Observer</td>\n      <td>GB</td>\n      <td>1433</td>\n      <td>27.0</td>\n      <td>40.0</td>\n      <td>12.0</td>\n      <td>6.0</td>\n      <td>...</td>\n      <td>3.0</td>\n      <td>lab+13.0</td>\n      <td>13.0</td>\n      <td>18.0</td>\n      <td>1.0</td>\n      <td>701</td>\n      <td>61.0</td>\n      <td>0.0</td>\n      <td>0</td>\n      <td>701</td>\n    </tr>\n    <tr>\n      <th>235</th>\n      <td>2023-11-08</td>\n      <td>2023-11-10</td>\n      <td>Opinium</td>\n      <td>The Observer</td>\n      <td>GB</td>\n      <td>1433</td>\n      <td>26.0</td>\n      <td>43.0</td>\n      <td>11.0</td>\n      <td>6.0</td>\n      <td>...</td>\n      <td>3.0</td>\n      <td>lab+17.0</td>\n      <td>17.0</td>\n      <td>17.0</td>\n      <td>1.0</td>\n      <td>701</td>\n      <td>63.0</td>\n      <td>0.0</td>\n      <td>0</td>\n      <td>701</td>\n    </tr>\n    <tr>\n      <th>254</th>\n      <td>2023-10-25</td>\n      <td>2023-10-27</td>\n      <td>Opinium</td>\n      <td>The Observer</td>\n      <td>GB</td>\n      <td>1433</td>\n      <td>27.0</td>\n      <td>42.0</td>\n      <td>10.0</td>\n      <td>7.0</td>\n      <td>...</td>\n      <td>2.0</td>\n      <td>lab+15.0</td>\n      <td>15.0</td>\n      <td>19.0</td>\n      <td>1.0</td>\n      <td>701</td>\n      <td>62.0</td>\n      <td>0.0</td>\n      <td>0</td>\n      <td>701</td>\n    </tr>\n    <tr>\n      <th>270</th>\n      <td>2023-10-11</td>\n      <td>2023-10-13</td>\n      <td>Opinium</td>\n      <td>The Observer</td>\n      <td>GB</td>\n      <td>1461</td>\n      <td>28.0</td>\n      <td>44.0</td>\n      <td>10.0</td>\n      <td>6.0</td>\n      <td>...</td>\n      <td>3.0</td>\n      <td>lab+16.0</td>\n      <td>16.0</td>\n      <td>22.0</td>\n      <td>1.0</td>\n      <td>701</td>\n      <td>63.0</td>\n      <td>0.0</td>\n      <td>0</td>\n      <td>701</td>\n    </tr>\n    <tr>\n      <th>278</th>\n      <td>2023-10-06</td>\n      <td>2023-10-06</td>\n      <td>Opinium</td>\n      <td>The Observer</td>\n      <td>GB</td>\n      <td>1370</td>\n      <td>29.0</td>\n      <td>42.0</td>\n      <td>11.0</td>\n      <td>6.0</td>\n      <td>...</td>\n      <td>2.0</td>\n      <td>lab+13.0</td>\n      <td>13.0</td>\n      <td>23.0</td>\n      <td>1.0</td>\n      <td>701</td>\n      <td>62.0</td>\n      <td>0.0</td>\n      <td>0</td>\n      <td>701</td>\n    </tr>\n    <tr>\n      <th>286</th>\n      <td>2023-09-27</td>\n      <td>2023-09-29</td>\n      <td>Opinium</td>\n      <td>The Observer</td>\n      <td>GB</td>\n      <td>1993</td>\n      <td>29.0</td>\n      <td>39.0</td>\n      <td>12.0</td>\n      <td>7.0</td>\n      <td>...</td>\n      <td>3.0</td>\n      <td>lab+10.0</td>\n      <td>10.0</td>\n      <td>22.0</td>\n      <td>1.0</td>\n      <td>701</td>\n      <td>61.0</td>\n      <td>0.0</td>\n      <td>0</td>\n      <td>701</td>\n    </tr>\n    <tr>\n      <th>301</th>\n      <td>2023-09-13</td>\n      <td>2023-09-15</td>\n      <td>Opinium</td>\n      <td>The Observer</td>\n      <td>GB</td>\n      <td>1414</td>\n      <td>26.0</td>\n      <td>41.0</td>\n      <td>11.0</td>\n      <td>7.0</td>\n      <td>...</td>\n      <td>2.0</td>\n      <td>lab+15.0</td>\n      <td>15.0</td>\n      <td>18.0</td>\n      <td>1.0</td>\n      <td>701</td>\n      <td>62.0</td>\n      <td>0.0</td>\n      <td>0</td>\n      <td>701</td>\n    </tr>\n    <tr>\n      <th>315</th>\n      <td>2023-08-31</td>\n      <td>2023-09-01</td>\n      <td>Opinium</td>\n      <td>The Observer</td>\n      <td>GB</td>\n      <td>1400</td>\n      <td>28.0</td>\n      <td>42.0</td>\n      <td>9.0</td>\n      <td>8.0</td>\n      <td>...</td>\n      <td>2.0</td>\n      <td>lab+14.0</td>\n      <td>14.0</td>\n      <td>20.0</td>\n      <td>1.0</td>\n      <td>701</td>\n      <td>62.0</td>\n      <td>0.0</td>\n      <td>0</td>\n      <td>701</td>\n    </tr>\n    <tr>\n      <th>329</th>\n      <td>2023-08-16</td>\n      <td>2023-08-18</td>\n      <td>Opinium</td>\n      <td>The Observer</td>\n      <td>GB</td>\n      <td>1452</td>\n      <td>26.0</td>\n      <td>41.0</td>\n      <td>11.0</td>\n      <td>7.0</td>\n      <td>...</td>\n      <td>2.0</td>\n      <td>lab+15.0</td>\n      <td>15.0</td>\n      <td>17.0</td>\n      <td>1.0</td>\n      <td>701</td>\n      <td>63.0</td>\n      <td>0.0</td>\n      <td>0</td>\n      <td>701</td>\n    </tr>\n    <tr>\n      <th>336</th>\n      <td>2023-08-02</td>\n      <td>2023-08-04</td>\n      <td>Opinium</td>\n      <td>The Observer</td>\n      <td>GB</td>\n      <td>1484</td>\n      <td>26.0</td>\n      <td>40.0</td>\n      <td>10.0</td>\n      <td>7.0</td>\n      <td>...</td>\n      <td>2.0</td>\n      <td>lab+14.0</td>\n      <td>14.0</td>\n      <td>16.0</td>\n      <td>1.0</td>\n      <td>701</td>\n      <td>60.0</td>\n      <td>0.0</td>\n      <td>0</td>\n      <td>701</td>\n    </tr>\n    <tr>\n      <th>352</th>\n      <td>2023-07-19</td>\n      <td>2023-07-21</td>\n      <td>Opinium</td>\n      <td>The Observer</td>\n      <td>GB</td>\n      <td>1468</td>\n      <td>25.0</td>\n      <td>42.0</td>\n      <td>11.0</td>\n      <td>6.0</td>\n      <td>...</td>\n      <td>2.0</td>\n      <td>lab+17.0</td>\n      <td>17.0</td>\n      <td>15.0</td>\n      <td>1.0</td>\n      <td>701</td>\n      <td>63.0</td>\n      <td>0.0</td>\n      <td>0</td>\n      <td>701</td>\n    </tr>\n    <tr>\n      <th>367</th>\n      <td>2023-07-05</td>\n      <td>2023-07-07</td>\n      <td>Opinium</td>\n      <td>The Observer</td>\n      <td>GB</td>\n      <td>1473</td>\n      <td>28.0</td>\n      <td>43.0</td>\n      <td>9.0</td>\n      <td>6.0</td>\n      <td>...</td>\n      <td>2.0</td>\n      <td>lab+15.0</td>\n      <td>15.0</td>\n      <td>20.0</td>\n      <td>1.0</td>\n      <td>701</td>\n      <td>62.0</td>\n      <td>0.0</td>\n      <td>0</td>\n      <td>701</td>\n    </tr>\n    <tr>\n      <th>382</th>\n      <td>2023-06-21</td>\n      <td>2023-06-23</td>\n      <td>Opinium</td>\n      <td>The Observer</td>\n      <td>GB</td>\n      <td>2063</td>\n      <td>26.0</td>\n      <td>44.0</td>\n      <td>8.0</td>\n      <td>7.0</td>\n      <td>...</td>\n      <td>2.0</td>\n      <td>lab+18.0</td>\n      <td>18.0</td>\n      <td>16.0</td>\n      <td>1.0</td>\n      <td>701</td>\n      <td>62.0</td>\n      <td>0.0</td>\n      <td>0</td>\n      <td>701</td>\n    </tr>\n    <tr>\n      <th>399</th>\n      <td>2023-06-07</td>\n      <td>2023-06-09</td>\n      <td>Opinium</td>\n      <td>The Observer</td>\n      <td>GB</td>\n      <td>2107</td>\n      <td>29.0</td>\n      <td>41.0</td>\n      <td>11.0</td>\n      <td>7.0</td>\n      <td>...</td>\n      <td>2.0</td>\n      <td>lab+12.0</td>\n      <td>12.0</td>\n      <td>23.0</td>\n      <td>1.0</td>\n      <td>701</td>\n      <td>63.0</td>\n      <td>0.0</td>\n      <td>0</td>\n      <td>701</td>\n    </tr>\n    <tr>\n      <th>412</th>\n      <td>2023-05-23</td>\n      <td>2023-05-26</td>\n      <td>Opinium</td>\n      <td>The Observer</td>\n      <td>GB</td>\n      <td>2062</td>\n      <td>28.0</td>\n      <td>43.0</td>\n      <td>9.0</td>\n      <td>7.0</td>\n      <td>...</td>\n      <td>3.0</td>\n      <td>lab+15.0</td>\n      <td>15.0</td>\n      <td>22.0</td>\n      <td>1.0</td>\n      <td>701</td>\n      <td>63.0</td>\n      <td>0.0</td>\n      <td>0</td>\n      <td>701</td>\n    </tr>\n    <tr>\n      <th>429</th>\n      <td>2023-05-10</td>\n      <td>2023-05-12</td>\n      <td>Opinium</td>\n      <td>The Observer</td>\n      <td>GB</td>\n      <td>2050</td>\n      <td>29.0</td>\n      <td>43.0</td>\n      <td>11.0</td>\n      <td>5.0</td>\n      <td>...</td>\n      <td>3.0</td>\n      <td>lab+14.0</td>\n      <td>14.0</td>\n      <td>23.0</td>\n      <td>1.0</td>\n      <td>701</td>\n      <td>62.0</td>\n      <td>0.0</td>\n      <td>0</td>\n      <td>701</td>\n    </tr>\n    <tr>\n      <th>442</th>\n      <td>2023-04-26</td>\n      <td>2023-04-28</td>\n      <td>Opinium</td>\n      <td>The Observer</td>\n      <td>GB</td>\n      <td>1425</td>\n      <td>26.0</td>\n      <td>44.0</td>\n      <td>10.0</td>\n      <td>7.0</td>\n      <td>...</td>\n      <td>2.0</td>\n      <td>lab+18.0</td>\n      <td>18.0</td>\n      <td>19.0</td>\n      <td>1.0</td>\n      <td>701</td>\n      <td>64.0</td>\n      <td>0.0</td>\n      <td>0</td>\n      <td>701</td>\n    </tr>\n    <tr>\n      <th>456</th>\n      <td>2023-04-12</td>\n      <td>2023-04-14</td>\n      <td>Opinium</td>\n      <td>The Observer</td>\n      <td>GB</td>\n      <td>1370</td>\n      <td>28.0</td>\n      <td>42.0</td>\n      <td>10.0</td>\n      <td>6.0</td>\n      <td>...</td>\n      <td>2.0</td>\n      <td>lab+14.0</td>\n      <td>14.0</td>\n      <td>20.0</td>\n      <td>1.0</td>\n      <td>701</td>\n      <td>62.0</td>\n      <td>0.0</td>\n      <td>0</td>\n      <td>701</td>\n    </tr>\n    <tr>\n      <th>463</th>\n      <td>2023-04-05</td>\n      <td>2023-04-06</td>\n      <td>Opinium</td>\n      <td>The Observer</td>\n      <td>GB</td>\n      <td>2081</td>\n      <td>30.0</td>\n      <td>41.0</td>\n      <td>10.0</td>\n      <td>5.0</td>\n      <td>...</td>\n      <td>3.0</td>\n      <td>lab+11.0</td>\n      <td>11.0</td>\n      <td>23.0</td>\n      <td>1.0</td>\n      <td>701</td>\n      <td>60.0</td>\n      <td>0.0</td>\n      <td>0</td>\n      <td>701</td>\n    </tr>\n    <tr>\n      <th>470</th>\n      <td>2023-03-29</td>\n      <td>2023-03-31</td>\n      <td>Opinium</td>\n      <td>The Observer</td>\n      <td>GB</td>\n      <td>2050</td>\n      <td>29.0</td>\n      <td>44.0</td>\n      <td>9.0</td>\n      <td>5.0</td>\n      <td>...</td>\n      <td>2.0</td>\n      <td>lab+15.0</td>\n      <td>15.0</td>\n      <td>22.0</td>\n      <td>1.0</td>\n      <td>701</td>\n      <td>62.0</td>\n      <td>0.0</td>\n      <td>0</td>\n      <td>701</td>\n    </tr>\n    <tr>\n      <th>489</th>\n      <td>2023-03-15</td>\n      <td>2023-03-17</td>\n      <td>Opinium</td>\n      <td>The Observer</td>\n      <td>GB</td>\n      <td>2000</td>\n      <td>29.0</td>\n      <td>44.0</td>\n      <td>8.0</td>\n      <td>6.0</td>\n      <td>...</td>\n      <td>2.0</td>\n      <td>lab+15.0</td>\n      <td>15.0</td>\n      <td>22.0</td>\n      <td>1.0</td>\n      <td>701</td>\n      <td>62.0</td>\n      <td>0.0</td>\n      <td>0</td>\n      <td>701</td>\n    </tr>\n    <tr>\n      <th>498</th>\n      <td>2023-03-08</td>\n      <td>2023-03-10</td>\n      <td>Opinium</td>\n      <td>NaN</td>\n      <td>GB</td>\n      <td>2000</td>\n      <td>29.0</td>\n      <td>44.0</td>\n      <td>8.0</td>\n      <td>5.0</td>\n      <td>...</td>\n      <td>3.0</td>\n      <td>lab+15.0</td>\n      <td>15.0</td>\n      <td>21.0</td>\n      <td>1.0</td>\n      <td>701</td>\n      <td>61.0</td>\n      <td>0.0</td>\n      <td>0</td>\n      <td>701</td>\n    </tr>\n    <tr>\n      <th>508</th>\n      <td>2023-03-01</td>\n      <td>2023-03-03</td>\n      <td>Opinium</td>\n      <td>Headlands Consultancy</td>\n      <td>GB</td>\n      <td>3000</td>\n      <td>30.0</td>\n      <td>42.0</td>\n      <td>9.0</td>\n      <td>6.0</td>\n      <td>...</td>\n      <td>3.0</td>\n      <td>lab+12.0</td>\n      <td>12.0</td>\n      <td>22.0</td>\n      <td>1.0</td>\n      <td>701</td>\n      <td>61.0</td>\n      <td>0.0</td>\n      <td>0</td>\n      <td>701</td>\n    </tr>\n    <tr>\n      <th>509</th>\n      <td>2023-03-01</td>\n      <td>2023-03-03</td>\n      <td>Opinium</td>\n      <td>The Observer</td>\n      <td>GB</td>\n      <td>1419</td>\n      <td>27.0</td>\n      <td>44.0</td>\n      <td>7.0</td>\n      <td>7.0</td>\n      <td>...</td>\n      <td>3.0</td>\n      <td>lab+17.0</td>\n      <td>17.0</td>\n      <td>19.0</td>\n      <td>1.0</td>\n      <td>701</td>\n      <td>61.0</td>\n      <td>0.0</td>\n      <td>0</td>\n      <td>701</td>\n    </tr>\n    <tr>\n      <th>527</th>\n      <td>2023-02-15</td>\n      <td>2023-02-17</td>\n      <td>Opinium</td>\n      <td>The Observer</td>\n      <td>GB</td>\n      <td>1451</td>\n      <td>28.0</td>\n      <td>44.0</td>\n      <td>9.0</td>\n      <td>6.0</td>\n      <td>...</td>\n      <td>2.0</td>\n      <td>lab+16.0</td>\n      <td>16.0</td>\n      <td>21.0</td>\n      <td>1.0</td>\n      <td>701</td>\n      <td>63.0</td>\n      <td>0.0</td>\n      <td>0</td>\n      <td>701</td>\n    </tr>\n    <tr>\n      <th>568</th>\n      <td>2023-01-11</td>\n      <td>2023-01-13</td>\n      <td>Opinium</td>\n      <td>The Observer</td>\n      <td>GB</td>\n      <td>2000</td>\n      <td>29.0</td>\n      <td>45.0</td>\n      <td>9.0</td>\n      <td>5.0</td>\n      <td>...</td>\n      <td>2.0</td>\n      <td>lab+16.0</td>\n      <td>16.0</td>\n      <td>23.0</td>\n      <td>1.0</td>\n      <td>701</td>\n      <td>63.0</td>\n      <td>0.0</td>\n      <td>0</td>\n      <td>701</td>\n    </tr>\n    <tr>\n      <th>588</th>\n      <td>2022-12-14</td>\n      <td>2022-12-16</td>\n      <td>Opinium</td>\n      <td>The Observer</td>\n      <td>GB</td>\n      <td>2000</td>\n      <td>29.0</td>\n      <td>44.0</td>\n      <td>9.0</td>\n      <td>5.0</td>\n      <td>...</td>\n      <td>2.0</td>\n      <td>lab+15.0</td>\n      <td>15.0</td>\n      <td>21.0</td>\n      <td>1.0</td>\n      <td>701</td>\n      <td>62.0</td>\n      <td>0.0</td>\n      <td>0</td>\n      <td>701</td>\n    </tr>\n  </tbody>\n</table>\n<p>42 rows × 30 columns</p>\n</div>"
     },
     "execution_count": 68,
     "metadata": {},
     "output_type": "execute_result"
    }
   ],
   "source": [
    "one_year_polls.query(f'pollster == \"Opinium\"')"
   ],
   "metadata": {
    "collapsed": false,
    "ExecuteTime": {
     "end_time": "2024-05-29T10:47:27.459696100Z",
     "start_time": "2024-05-29T10:47:26.728268600Z"
    }
   }
  },
  {
   "cell_type": "code",
   "execution_count": 69,
   "metadata": {
    "ExecuteTime": {
     "end_time": "2024-05-29T10:47:27.606145900Z",
     "start_time": "2024-05-29T10:47:26.845549400Z"
    }
   },
   "outputs": [],
   "source": [
    "pollsters_latest = pd.DataFrame()\n",
    "for pollster in one_year_polls.pollster.unique():\n",
    "    pollster_data = one_year_polls.query(f'pollster == \"{pollster}\"')\n",
    "    latest_poll = pollster_data.iloc[0]\n",
    "    pollsters_latest = pollsters_latest.append(latest_poll)"
   ]
  },
  {
   "cell_type": "code",
   "execution_count": 70,
   "outputs": [
    {
     "data": {
      "text/plain": "    date_started date_concluded                      pollster  \\\n0     2024-05-26     2024-05-28                        YouGov   \n1     2024-05-25     2024-05-27  Redfield & Wilton Strategies   \n2     2024-05-24     2024-05-27                     Survation   \n4     2024-05-24     2024-05-25                   JL Partners   \n3     2024-05-23     2024-05-25                     Deltapoll   \n5     2024-05-23     2024-05-24                      We Think   \n6     2024-05-23     2024-05-24                       Opinium   \n8     2024-05-22     2024-05-23                     Techne UK   \n9     2024-05-22     2024-05-23                More in Common   \n15    2024-05-17     2024-05-19                       Savanta   \n19    2024-05-16     2024-05-16                 PeoplePolling   \n20    2024-05-15     2024-05-16            Whitestone Insight   \n24    2024-05-09     2024-05-13           Lord Ashcroft Polls   \n23    2024-05-08     2024-05-14                    Ipsos MORI   \n50    2024-04-22     2024-04-23                  BMG Research   \n42    2024-04-19     2024-04-29               Labour Together   \n138   2024-01-24     2024-02-12                  Find Out Now   \n310   2023-08-31     2023-09-04                        Verian   \n535   2023-02-10     2023-02-12                     FocalData   \n\n                         client area sample_size  conservative  labour  \\\n0                      Sky News   GB        2128          20.0    47.0   \n1                           NaN   GB       12000          23.0    46.0   \n2                           NaN   UK        2040          24.0    47.0   \n4          The Rest is Politics   GB        2013          28.0    40.0   \n3                Mail on Sunday   GB        1517          23.0    45.0   \n5                           NaN   GB        1242          22.0    47.0   \n6                  The Observer   GB        2050          27.0    41.0   \n8                           NaN   GB        1643          19.0    45.0   \n9                           NaN   GB        2008          27.0    44.0   \n15                The Telegraph   GB        2295          26.0    43.0   \n19                      GB News   GB        1476          20.0    46.0   \n20   Daily Express/Daily Mirror   GB        2024          24.0    44.0   \n24                          NaN   GB        5485          22.0    45.0   \n23                          NaN   GB        1008          20.0    41.0   \n50                        The i   GB        1500          25.0    41.0   \n42                          NaN   GB        9403          22.0    44.0   \n138                  The Mirror   GB       18151          22.0    42.0   \n310                         NaN   GB        1146          27.0    43.0   \n535                         NaN   GB        1041          28.0    48.0   \n\n     liberal_democrat  green  ...  others      lead  lead_value  \\\n0                 9.0    7.0  ...     2.0  lab+27.0        27.0   \n1                 9.0    5.0  ...     1.0  lab+23.0        23.0   \n2                11.0    3.0  ...     3.0  lab+23.0        23.0   \n4                10.0    5.0  ...     1.0  lab+12.0        12.0   \n3                 9.0    6.0  ...     2.0  lab+22.0        22.0   \n5                 8.0    6.0  ...     2.0  lab+25.0        25.0   \n6                10.0    7.0  ...     1.0  lab+14.0        14.0   \n8                12.0    5.0  ...     3.0  lab+26.0        26.0   \n9                 9.0    5.0  ...     1.0  lab+17.0        17.0   \n15               10.0    5.0  ...     4.0  lab+17.0        17.0   \n19                8.0    8.0  ...     1.0  lab+26.0        26.0   \n20                8.0    6.0  ...     2.0  lab+20.0        20.0   \n24                8.0    8.0  ...     3.0  lab+23.0        23.0   \n23               11.0   11.0  ...     4.0  lab+21.0        21.0   \n50                9.0    6.0  ...     1.0  lab+16.0        16.0   \n42               10.0    6.0  ...     2.0  lab+22.0        22.0   \n138              11.0    7.0  ...     4.0  lab+20.0        20.0   \n310              13.0    5.0  ...     1.0  lab+16.0        16.0   \n535               9.0    4.0  ...     2.0  lab+20.0        20.0   \n\n     conservative_reform_gap  dd_lead  dd_lead_in_row  anti_conservative  \\\n0                        8.0      1.0           701.0               66.0   \n1                       10.0      1.0           701.0               64.0   \n2                       16.0      1.0           701.0               65.0   \n4                       16.0      1.0           701.0               59.0   \n3                       13.0      1.0           701.0               64.0   \n5                       10.0      1.0           701.0               64.0   \n6                       17.0      1.0           701.0               60.0   \n8                        5.0      1.0           701.0               64.0   \n9                       17.0      1.0           701.0               61.0   \n15                      17.0      1.0           701.0               61.0   \n19                       6.0      1.0           701.0               65.0   \n20                      11.0      1.0           701.0               61.0   \n24                      11.0      1.0           701.0               64.0   \n23                      11.0      1.0           701.0               67.0   \n50                      11.0      1.0           701.0               59.0   \n42                       9.0      1.0           701.0               64.0   \n138                     12.0      1.0           701.0               64.0   \n310                     23.0      1.0           701.0               67.0   \n535                     22.0      1.0           701.0               64.0   \n\n     maj_lead  maj_lead_in_row  dd_in_row  \n0         0.0              0.0      701.0  \n1         0.0              0.0      701.0  \n2         0.0              0.0      701.0  \n4         0.0              0.0      701.0  \n3         0.0              0.0      701.0  \n5         0.0              0.0      701.0  \n6         0.0              0.0      701.0  \n8         0.0              0.0      701.0  \n9         0.0              0.0      701.0  \n15        0.0              0.0      701.0  \n19        0.0              0.0      701.0  \n20        0.0              0.0      701.0  \n24        0.0              0.0      701.0  \n23        0.0              0.0      701.0  \n50        0.0              0.0      701.0  \n42        0.0              0.0      701.0  \n138       0.0              0.0      701.0  \n310       0.0              0.0      701.0  \n535       0.0              0.0      701.0  \n\n[19 rows x 30 columns]",
      "text/html": "<div>\n<style scoped>\n    .dataframe tbody tr th:only-of-type {\n        vertical-align: middle;\n    }\n\n    .dataframe tbody tr th {\n        vertical-align: top;\n    }\n\n    .dataframe thead th {\n        text-align: right;\n    }\n</style>\n<table border=\"1\" class=\"dataframe\">\n  <thead>\n    <tr style=\"text-align: right;\">\n      <th></th>\n      <th>date_started</th>\n      <th>date_concluded</th>\n      <th>pollster</th>\n      <th>client</th>\n      <th>area</th>\n      <th>sample_size</th>\n      <th>conservative</th>\n      <th>labour</th>\n      <th>liberal_democrat</th>\n      <th>green</th>\n      <th>...</th>\n      <th>others</th>\n      <th>lead</th>\n      <th>lead_value</th>\n      <th>conservative_reform_gap</th>\n      <th>dd_lead</th>\n      <th>dd_lead_in_row</th>\n      <th>anti_conservative</th>\n      <th>maj_lead</th>\n      <th>maj_lead_in_row</th>\n      <th>dd_in_row</th>\n    </tr>\n  </thead>\n  <tbody>\n    <tr>\n      <th>0</th>\n      <td>2024-05-26</td>\n      <td>2024-05-28</td>\n      <td>YouGov</td>\n      <td>Sky News</td>\n      <td>GB</td>\n      <td>2128</td>\n      <td>20.0</td>\n      <td>47.0</td>\n      <td>9.0</td>\n      <td>7.0</td>\n      <td>...</td>\n      <td>2.0</td>\n      <td>lab+27.0</td>\n      <td>27.0</td>\n      <td>8.0</td>\n      <td>1.0</td>\n      <td>701.0</td>\n      <td>66.0</td>\n      <td>0.0</td>\n      <td>0.0</td>\n      <td>701.0</td>\n    </tr>\n    <tr>\n      <th>1</th>\n      <td>2024-05-25</td>\n      <td>2024-05-27</td>\n      <td>Redfield &amp; Wilton Strategies</td>\n      <td>NaN</td>\n      <td>GB</td>\n      <td>12000</td>\n      <td>23.0</td>\n      <td>46.0</td>\n      <td>9.0</td>\n      <td>5.0</td>\n      <td>...</td>\n      <td>1.0</td>\n      <td>lab+23.0</td>\n      <td>23.0</td>\n      <td>10.0</td>\n      <td>1.0</td>\n      <td>701.0</td>\n      <td>64.0</td>\n      <td>0.0</td>\n      <td>0.0</td>\n      <td>701.0</td>\n    </tr>\n    <tr>\n      <th>2</th>\n      <td>2024-05-24</td>\n      <td>2024-05-27</td>\n      <td>Survation</td>\n      <td>NaN</td>\n      <td>UK</td>\n      <td>2040</td>\n      <td>24.0</td>\n      <td>47.0</td>\n      <td>11.0</td>\n      <td>3.0</td>\n      <td>...</td>\n      <td>3.0</td>\n      <td>lab+23.0</td>\n      <td>23.0</td>\n      <td>16.0</td>\n      <td>1.0</td>\n      <td>701.0</td>\n      <td>65.0</td>\n      <td>0.0</td>\n      <td>0.0</td>\n      <td>701.0</td>\n    </tr>\n    <tr>\n      <th>4</th>\n      <td>2024-05-24</td>\n      <td>2024-05-25</td>\n      <td>JL Partners</td>\n      <td>The Rest is Politics</td>\n      <td>GB</td>\n      <td>2013</td>\n      <td>28.0</td>\n      <td>40.0</td>\n      <td>10.0</td>\n      <td>5.0</td>\n      <td>...</td>\n      <td>1.0</td>\n      <td>lab+12.0</td>\n      <td>12.0</td>\n      <td>16.0</td>\n      <td>1.0</td>\n      <td>701.0</td>\n      <td>59.0</td>\n      <td>0.0</td>\n      <td>0.0</td>\n      <td>701.0</td>\n    </tr>\n    <tr>\n      <th>3</th>\n      <td>2024-05-23</td>\n      <td>2024-05-25</td>\n      <td>Deltapoll</td>\n      <td>Mail on Sunday</td>\n      <td>GB</td>\n      <td>1517</td>\n      <td>23.0</td>\n      <td>45.0</td>\n      <td>9.0</td>\n      <td>6.0</td>\n      <td>...</td>\n      <td>2.0</td>\n      <td>lab+22.0</td>\n      <td>22.0</td>\n      <td>13.0</td>\n      <td>1.0</td>\n      <td>701.0</td>\n      <td>64.0</td>\n      <td>0.0</td>\n      <td>0.0</td>\n      <td>701.0</td>\n    </tr>\n    <tr>\n      <th>5</th>\n      <td>2024-05-23</td>\n      <td>2024-05-24</td>\n      <td>We Think</td>\n      <td>NaN</td>\n      <td>GB</td>\n      <td>1242</td>\n      <td>22.0</td>\n      <td>47.0</td>\n      <td>8.0</td>\n      <td>6.0</td>\n      <td>...</td>\n      <td>2.0</td>\n      <td>lab+25.0</td>\n      <td>25.0</td>\n      <td>10.0</td>\n      <td>1.0</td>\n      <td>701.0</td>\n      <td>64.0</td>\n      <td>0.0</td>\n      <td>0.0</td>\n      <td>701.0</td>\n    </tr>\n    <tr>\n      <th>6</th>\n      <td>2024-05-23</td>\n      <td>2024-05-24</td>\n      <td>Opinium</td>\n      <td>The Observer</td>\n      <td>GB</td>\n      <td>2050</td>\n      <td>27.0</td>\n      <td>41.0</td>\n      <td>10.0</td>\n      <td>7.0</td>\n      <td>...</td>\n      <td>1.0</td>\n      <td>lab+14.0</td>\n      <td>14.0</td>\n      <td>17.0</td>\n      <td>1.0</td>\n      <td>701.0</td>\n      <td>60.0</td>\n      <td>0.0</td>\n      <td>0.0</td>\n      <td>701.0</td>\n    </tr>\n    <tr>\n      <th>8</th>\n      <td>2024-05-22</td>\n      <td>2024-05-23</td>\n      <td>Techne UK</td>\n      <td>NaN</td>\n      <td>GB</td>\n      <td>1643</td>\n      <td>19.0</td>\n      <td>45.0</td>\n      <td>12.0</td>\n      <td>5.0</td>\n      <td>...</td>\n      <td>3.0</td>\n      <td>lab+26.0</td>\n      <td>26.0</td>\n      <td>5.0</td>\n      <td>1.0</td>\n      <td>701.0</td>\n      <td>64.0</td>\n      <td>0.0</td>\n      <td>0.0</td>\n      <td>701.0</td>\n    </tr>\n    <tr>\n      <th>9</th>\n      <td>2024-05-22</td>\n      <td>2024-05-23</td>\n      <td>More in Common</td>\n      <td>NaN</td>\n      <td>GB</td>\n      <td>2008</td>\n      <td>27.0</td>\n      <td>44.0</td>\n      <td>9.0</td>\n      <td>5.0</td>\n      <td>...</td>\n      <td>1.0</td>\n      <td>lab+17.0</td>\n      <td>17.0</td>\n      <td>17.0</td>\n      <td>1.0</td>\n      <td>701.0</td>\n      <td>61.0</td>\n      <td>0.0</td>\n      <td>0.0</td>\n      <td>701.0</td>\n    </tr>\n    <tr>\n      <th>15</th>\n      <td>2024-05-17</td>\n      <td>2024-05-19</td>\n      <td>Savanta</td>\n      <td>The Telegraph</td>\n      <td>GB</td>\n      <td>2295</td>\n      <td>26.0</td>\n      <td>43.0</td>\n      <td>10.0</td>\n      <td>5.0</td>\n      <td>...</td>\n      <td>4.0</td>\n      <td>lab+17.0</td>\n      <td>17.0</td>\n      <td>17.0</td>\n      <td>1.0</td>\n      <td>701.0</td>\n      <td>61.0</td>\n      <td>0.0</td>\n      <td>0.0</td>\n      <td>701.0</td>\n    </tr>\n    <tr>\n      <th>19</th>\n      <td>2024-05-16</td>\n      <td>2024-05-16</td>\n      <td>PeoplePolling</td>\n      <td>GB News</td>\n      <td>GB</td>\n      <td>1476</td>\n      <td>20.0</td>\n      <td>46.0</td>\n      <td>8.0</td>\n      <td>8.0</td>\n      <td>...</td>\n      <td>1.0</td>\n      <td>lab+26.0</td>\n      <td>26.0</td>\n      <td>6.0</td>\n      <td>1.0</td>\n      <td>701.0</td>\n      <td>65.0</td>\n      <td>0.0</td>\n      <td>0.0</td>\n      <td>701.0</td>\n    </tr>\n    <tr>\n      <th>20</th>\n      <td>2024-05-15</td>\n      <td>2024-05-16</td>\n      <td>Whitestone Insight</td>\n      <td>Daily Express/Daily Mirror</td>\n      <td>GB</td>\n      <td>2024</td>\n      <td>24.0</td>\n      <td>44.0</td>\n      <td>8.0</td>\n      <td>6.0</td>\n      <td>...</td>\n      <td>2.0</td>\n      <td>lab+20.0</td>\n      <td>20.0</td>\n      <td>11.0</td>\n      <td>1.0</td>\n      <td>701.0</td>\n      <td>61.0</td>\n      <td>0.0</td>\n      <td>0.0</td>\n      <td>701.0</td>\n    </tr>\n    <tr>\n      <th>24</th>\n      <td>2024-05-09</td>\n      <td>2024-05-13</td>\n      <td>Lord Ashcroft Polls</td>\n      <td>NaN</td>\n      <td>GB</td>\n      <td>5485</td>\n      <td>22.0</td>\n      <td>45.0</td>\n      <td>8.0</td>\n      <td>8.0</td>\n      <td>...</td>\n      <td>3.0</td>\n      <td>lab+23.0</td>\n      <td>23.0</td>\n      <td>11.0</td>\n      <td>1.0</td>\n      <td>701.0</td>\n      <td>64.0</td>\n      <td>0.0</td>\n      <td>0.0</td>\n      <td>701.0</td>\n    </tr>\n    <tr>\n      <th>23</th>\n      <td>2024-05-08</td>\n      <td>2024-05-14</td>\n      <td>Ipsos MORI</td>\n      <td>NaN</td>\n      <td>GB</td>\n      <td>1008</td>\n      <td>20.0</td>\n      <td>41.0</td>\n      <td>11.0</td>\n      <td>11.0</td>\n      <td>...</td>\n      <td>4.0</td>\n      <td>lab+21.0</td>\n      <td>21.0</td>\n      <td>11.0</td>\n      <td>1.0</td>\n      <td>701.0</td>\n      <td>67.0</td>\n      <td>0.0</td>\n      <td>0.0</td>\n      <td>701.0</td>\n    </tr>\n    <tr>\n      <th>50</th>\n      <td>2024-04-22</td>\n      <td>2024-04-23</td>\n      <td>BMG Research</td>\n      <td>The i</td>\n      <td>GB</td>\n      <td>1500</td>\n      <td>25.0</td>\n      <td>41.0</td>\n      <td>9.0</td>\n      <td>6.0</td>\n      <td>...</td>\n      <td>1.0</td>\n      <td>lab+16.0</td>\n      <td>16.0</td>\n      <td>11.0</td>\n      <td>1.0</td>\n      <td>701.0</td>\n      <td>59.0</td>\n      <td>0.0</td>\n      <td>0.0</td>\n      <td>701.0</td>\n    </tr>\n    <tr>\n      <th>42</th>\n      <td>2024-04-19</td>\n      <td>2024-04-29</td>\n      <td>Labour Together</td>\n      <td>NaN</td>\n      <td>GB</td>\n      <td>9403</td>\n      <td>22.0</td>\n      <td>44.0</td>\n      <td>10.0</td>\n      <td>6.0</td>\n      <td>...</td>\n      <td>2.0</td>\n      <td>lab+22.0</td>\n      <td>22.0</td>\n      <td>9.0</td>\n      <td>1.0</td>\n      <td>701.0</td>\n      <td>64.0</td>\n      <td>0.0</td>\n      <td>0.0</td>\n      <td>701.0</td>\n    </tr>\n    <tr>\n      <th>138</th>\n      <td>2024-01-24</td>\n      <td>2024-02-12</td>\n      <td>Find Out Now</td>\n      <td>The Mirror</td>\n      <td>GB</td>\n      <td>18151</td>\n      <td>22.0</td>\n      <td>42.0</td>\n      <td>11.0</td>\n      <td>7.0</td>\n      <td>...</td>\n      <td>4.0</td>\n      <td>lab+20.0</td>\n      <td>20.0</td>\n      <td>12.0</td>\n      <td>1.0</td>\n      <td>701.0</td>\n      <td>64.0</td>\n      <td>0.0</td>\n      <td>0.0</td>\n      <td>701.0</td>\n    </tr>\n    <tr>\n      <th>310</th>\n      <td>2023-08-31</td>\n      <td>2023-09-04</td>\n      <td>Verian</td>\n      <td>NaN</td>\n      <td>GB</td>\n      <td>1146</td>\n      <td>27.0</td>\n      <td>43.0</td>\n      <td>13.0</td>\n      <td>5.0</td>\n      <td>...</td>\n      <td>1.0</td>\n      <td>lab+16.0</td>\n      <td>16.0</td>\n      <td>23.0</td>\n      <td>1.0</td>\n      <td>701.0</td>\n      <td>67.0</td>\n      <td>0.0</td>\n      <td>0.0</td>\n      <td>701.0</td>\n    </tr>\n    <tr>\n      <th>535</th>\n      <td>2023-02-10</td>\n      <td>2023-02-12</td>\n      <td>FocalData</td>\n      <td>NaN</td>\n      <td>GB</td>\n      <td>1041</td>\n      <td>28.0</td>\n      <td>48.0</td>\n      <td>9.0</td>\n      <td>4.0</td>\n      <td>...</td>\n      <td>2.0</td>\n      <td>lab+20.0</td>\n      <td>20.0</td>\n      <td>22.0</td>\n      <td>1.0</td>\n      <td>701.0</td>\n      <td>64.0</td>\n      <td>0.0</td>\n      <td>0.0</td>\n      <td>701.0</td>\n    </tr>\n  </tbody>\n</table>\n<p>19 rows × 30 columns</p>\n</div>"
     },
     "execution_count": 70,
     "metadata": {},
     "output_type": "execute_result"
    }
   ],
   "source": [
    "pollsters_latest.sort_values('date_started', ascending=False)"
   ],
   "metadata": {
    "collapsed": false,
    "ExecuteTime": {
     "end_time": "2024-05-29T10:47:27.855506700Z",
     "start_time": "2024-05-29T10:47:27.048949Z"
    }
   }
  },
  {
   "cell_type": "code",
   "execution_count": 70,
   "outputs": [],
   "source": [],
   "metadata": {
    "collapsed": false,
    "ExecuteTime": {
     "end_time": "2024-05-29T10:47:27.856004100Z",
     "start_time": "2024-05-29T10:47:27.159113600Z"
    }
   }
  },
  {
   "cell_type": "code",
   "execution_count": 71,
   "metadata": {
    "ExecuteTime": {
     "end_time": "2024-05-29T10:47:27.857505500Z",
     "start_time": "2024-05-29T10:47:27.168134900Z"
    }
   },
   "outputs": [],
   "source": [
    "top_five = {'Ipsos MORI': 100,\n",
    "            'Opinium': 79,\n",
    "            'YouGov': 77,\n",
    "            'Verian': 69,\n",
    "            'Number Cruncher Politics': 61,\n",
    "            'Survation': 59,\n",
    "            'Panelbase': 57,\n",
    "            'Deltapoll': 46,\n",
    "            'BMG Research': 44,\n",
    "            'FocalData': 39,\n",
    "            'ICM Research': 35,\n",
    "            'Savanta': 34,\n",
    "            'Find Out Now': 34*0.3,  # Ludicrous Local Election Polling\n",
    "            'Redfield & Wilton Strategies': 34*.75,\n",
    "            'Techne UK': 34*.75,\n",
    "            'JL Partners Polls': 34*.75,\n",
    "            'PeoplePolling': 34*0.1,  # Huge outlier without caring for fundamental polling principles\n",
    "            'We Think': 34*.75,\n",
    "            'More in Common': 34*.75,\n",
    "            'Whitestone Insight': 34*.75,\n",
    "            'Lord Ashcroft Polls': 34,\n",
    "            }\n",
    "\n",
    "top_two = {'Ipsos MORI': 100,\n",
    "           'Survation': 85,\n",
    "           'Verian': 85,\n",
    "           'Panelbase': 74,\n",
    "           'Number Cruncher Politics': 71,\n",
    "           'Opinium': 71,\n",
    "           'YouGov': 67,\n",
    "           'Deltapoll': 50,\n",
    "           'FocalData': 42,\n",
    "           'BMG Research': 39,\n",
    "           'Savanta': 29,\n",
    "           'ICM Research': 27,\n",
    "           'Find Out Now': 34*0.3,  # Ludicrous Local Election Polling\n",
    "           'Redfield & Wilton Strategies': 34*.75,\n",
    "           'Techne UK': 34*.75,\n",
    "           'JL Partners Polls': 34*.75,\n",
    "           'PeoplePolling': 34*0.1,  # Huge outlier without caring for fundamental polling principles\n",
    "           'We Think': 34*.75,\n",
    "           'More in Common': 34*.75,\n",
    "           'Whitestone Insight': 34*.75,\n",
    "           'Lord Ashcroft Polls': 34,\n",
    "           }"
   ]
  },
  {
   "cell_type": "code",
   "execution_count": 72,
   "metadata": {
    "ExecuteTime": {
     "end_time": "2024-05-29T10:47:27.981238600Z",
     "start_time": "2024-05-29T10:47:27.256337200Z"
    }
   },
   "outputs": [
    {
     "data": {
      "text/plain": "78.5"
     },
     "execution_count": 72,
     "metadata": {},
     "output_type": "execute_result"
    }
   ],
   "source": [
    "(71*3 + 79*2 + 100)/6"
   ]
  },
  {
   "cell_type": "code",
   "execution_count": 72,
   "metadata": {
    "ExecuteTime": {
     "end_time": "2024-05-29T10:47:27.981238600Z",
     "start_time": "2024-05-29T10:47:27.335524700Z"
    }
   },
   "outputs": [],
   "source": []
  },
  {
   "cell_type": "code",
   "execution_count": 73,
   "metadata": {
    "ExecuteTime": {
     "end_time": "2024-05-29T10:47:28.103891600Z",
     "start_time": "2024-05-29T10:47:27.341520900Z"
    }
   },
   "outputs": [],
   "source": [
    "recency_weights = {\n",
    "    -1: 100,\n",
    "    5: 100,\n",
    "    14: 70,\n",
    "    28: 5,\n",
    "    90: 0\n",
    "}\n",
    "\n",
    "\n",
    "def get_recency_weight(poll_date, current_date, return_category=False):\n",
    "    days_since_poll = (current_date - poll_date).days\n",
    "    days_start_of_range = weight_start_of_range = 0\n",
    "    category = 0\n",
    "    for day, weight in recency_weights.items():\n",
    "        category += 1\n",
    "        if days_since_poll > day:\n",
    "            days_start_of_range = day\n",
    "            weight_start_of_range = weight\n",
    "        else:\n",
    "            percent_through_range = (days_since_poll - days_start_of_range)/(day - days_start_of_range)\n",
    "            full_weight = weight_start_of_range - ((weight_start_of_range - weight)*percent_through_range)\n",
    "            if return_category:\n",
    "                return category - 2\n",
    "            else:\n",
    "                return full_weight\n",
    "    if return_category:\n",
    "        return category - 1\n",
    "    else:\n",
    "        return 0\n"
   ]
  },
  {
   "cell_type": "code",
   "execution_count": 74,
   "metadata": {
    "ExecuteTime": {
     "end_time": "2024-05-29T10:47:28.160567Z",
     "start_time": "2024-05-29T10:47:27.418637Z"
    }
   },
   "outputs": [],
   "source": [
    "def get_pollster_weight(pollster):\n",
    "    if pollster not in top_two:\n",
    "        return 0\n",
    "    top_five_score = top_five[pollster]\n",
    "    top_two_score = top_two[pollster]\n",
    "    pollster_w = (3*top_two_score + 2*top_five_score + 100)/6\n",
    "    return pollster_w\n"
   ]
  },
  {
   "cell_type": "code",
   "execution_count": 75,
   "metadata": {
    "ExecuteTime": {
     "end_time": "2024-05-29T10:47:28.161065200Z",
     "start_time": "2024-05-29T10:47:27.492290800Z"
    }
   },
   "outputs": [
    {
     "name": "stdout",
     "output_type": "stream",
     "text": [
      " Ipsos MORI                    : 100.0\n",
      " Survation                     : 78.8\n",
      " Verian                        : 82.2\n",
      " Panelbase                     : 72.7\n",
      " Number Cruncher Politics      : 72.5\n",
      " Opinium                       : 78.5\n",
      " YouGov                        : 75.8\n",
      " Deltapoll                     : 57.0\n",
      " FocalData                     : 50.7\n",
      " BMG Research                  : 50.8\n",
      " Savanta                       : 42.5\n",
      " ICM Research                  : 41.8\n",
      " Find Out Now                  : 25.2\n",
      " Redfield & Wilton Strategies  : 37.9\n",
      " Techne UK                     : 37.9\n",
      " JL Partners Polls             : 37.9\n",
      " PeoplePolling                 : 19.5\n",
      " We Think                      : 37.9\n",
      " More in Common                : 37.9\n",
      " Whitestone Insight            : 37.9\n",
      " Lord Ashcroft Polls           : 45.0\n"
     ]
    }
   ],
   "source": [
    "for pollster in top_two.keys():\n",
    "    print(f' {pollster:30s}: {get_pollster_weight(pollster):.1f}')"
   ]
  },
  {
   "cell_type": "code",
   "execution_count": 76,
   "metadata": {
    "ExecuteTime": {
     "end_time": "2024-05-29T10:47:28.197635600Z",
     "start_time": "2024-05-29T10:47:27.573034800Z"
    }
   },
   "outputs": [],
   "source": [
    "from scripts.constants import major_parties"
   ]
  },
  {
   "cell_type": "code",
   "execution_count": 76,
   "outputs": [],
   "source": [],
   "metadata": {
    "collapsed": false,
    "ExecuteTime": {
     "end_time": "2024-05-29T10:47:28.209148700Z",
     "start_time": "2024-05-29T10:47:27.643201500Z"
    }
   }
  },
  {
   "cell_type": "code",
   "execution_count": 78,
   "outputs": [
    {
     "ename": "NameError",
     "evalue": "name 'campaign_start' is not defined",
     "output_type": "error",
     "traceback": [
      "\u001B[1;31m---------------------------------------------------------------------------\u001B[0m",
      "\u001B[1;31mNameError\u001B[0m                                 Traceback (most recent call last)",
      "\u001B[1;32m~\\AppData\\Local\\Temp/ipykernel_41412/504950724.py\u001B[0m in \u001B[0;36m<module>\u001B[1;34m\u001B[0m\n\u001B[1;32m----> 1\u001B[1;33m \u001B[0mcampaign_polls\u001B[0m \u001B[1;33m=\u001B[0m \u001B[0mone_year_polls\u001B[0m\u001B[1;33m[\u001B[0m\u001B[0mone_year_polls\u001B[0m\u001B[1;33m[\u001B[0m\u001B[0mreporting_date\u001B[0m\u001B[1;33m]\u001B[0m \u001B[1;33m>=\u001B[0m \u001B[0mcampaign_start\u001B[0m\u001B[1;33m]\u001B[0m\u001B[1;33m.\u001B[0m\u001B[0mcopy\u001B[0m\u001B[1;33m(\u001B[0m\u001B[1;33m)\u001B[0m\u001B[1;33m\u001B[0m\u001B[1;33m\u001B[0m\u001B[0m\n\u001B[0m\u001B[0;32m      2\u001B[0m \u001B[0mcampaign_polls\u001B[0m\u001B[1;33m[\u001B[0m\u001B[1;34m'pollster_weight'\u001B[0m\u001B[1;33m]\u001B[0m \u001B[1;33m=\u001B[0m \u001B[0mcampaign_polls\u001B[0m\u001B[1;33m[\u001B[0m\u001B[1;34m'pollster'\u001B[0m\u001B[1;33m]\u001B[0m\u001B[1;33m.\u001B[0m\u001B[0mapply\u001B[0m\u001B[1;33m(\u001B[0m\u001B[0mget_pollster_weight\u001B[0m\u001B[1;33m)\u001B[0m\u001B[1;33m\u001B[0m\u001B[1;33m\u001B[0m\u001B[0m\n",
      "\u001B[1;31mNameError\u001B[0m: name 'campaign_start' is not defined"
     ]
    }
   ],
   "source": [
    "campaign_polls = one_year_polls[one_year_polls[reporting_date] >= campaign_start].copy()\n",
    "campaign_polls['pollster_weight'] = campaign_polls['pollster'].apply(get_pollster_weight)"
   ],
   "metadata": {
    "collapsed": false,
    "ExecuteTime": {
     "end_time": "2024-05-29T10:50:31.042541300Z",
     "start_time": "2024-05-29T10:50:30.169763200Z"
    }
   }
  },
  {
   "cell_type": "code",
   "execution_count": null,
   "outputs": [],
   "source": [],
   "metadata": {
    "collapsed": false,
    "ExecuteTime": {
     "start_time": "2024-05-29T10:47:28.063323Z"
    }
   }
  },
  {
   "cell_type": "code",
   "execution_count": 124,
   "outputs": [],
   "source": [
    "pollster_dk_type = {\n",
    "    'BMG Research': 'squeeze',\n",
    "    'Deltapoll': 'rebase',\n",
    "    'Ipsos MORI': 'squeeze',\n",
    "    'Lord Ashcroft Polls': 'rebase',\n",
    "    'More in Common': 'squeeze',\n",
    "    'Opinium': 'reweight',\n",
    "    'PeoplePolling': 'rebase',\n",
    "    'Redfield & Wilton Strategies': 'rebase',\n",
    "    'Savanta': 'squeeze',\n",
    "    'Survation': 'rebase',\n",
    "    'Techne UK': 'rebase',\n",
    "    'We Think': 'rebase',\n",
    "    'Whitestone Insight': 'squeeze',\n",
    "    'YouGov': 'rebase',\n",
    "}\n",
    "sample_size_reduction_factor = 0.75 # This is due to exclusion of non voters and undecideds"
   ],
   "metadata": {
    "collapsed": false,
    "ExecuteTime": {
     "end_time": "2024-05-29T11:14:53.037650700Z",
     "start_time": "2024-05-29T11:14:52.873264200Z"
    }
   }
  },
  {
   "cell_type": "code",
   "execution_count": 148,
   "outputs": [],
   "source": [
    "from datetime import datetime, date, timedelta\n",
    "campaign_start = datetime(2024, 5, 22)\n",
    "election_date = datetime(2024, 7, 4)\n",
    "analysis_date = campaign_start\n",
    "\n",
    "pollster_list = list(one_year_polls.pollster.unique())\n",
    "\n",
    "parties_to_include = ['labour', 'conservative', 'reform_uk', 'liberal_democrat', 'green', ]\n",
    "average_columns =  parties_to_include.copy()\n",
    "average_columns += [f'{party}_low' for party in parties_to_include]\n",
    "average_columns += [f'{party}_high' for party in parties_to_include]\n",
    "average_columns += ['lead']\n",
    "\n",
    "averages_per_day = pd.DataFrame(columns=average_columns,\n",
    "                                index=pd.date_range(start=campaign_start, end=election_date))\n",
    "while analysis_date < datetime.now() - timedelta(days=1):\n",
    "\n",
    "    polls_at_date = one_year_polls.query(f'date_started < \"{analysis_date}\" ')\n",
    "\n",
    "    pollster_latest_polls_at_date = polls_at_date.groupby('pollster').nth(0).reset_index()\n",
    "\n",
    "    pollster_latest_polls_at_date['recency_weight'] = pollster_latest_polls_at_date[reporting_date].apply(\n",
    "        get_recency_weight, current_date=polls_at_date[reporting_date].max())\n",
    "    pollster_latest_polls_at_date['pollster_weight'] = pollster_latest_polls_at_date['pollster'].apply(\n",
    "        get_pollster_weight)\n",
    "    pollster_latest_polls_at_date['poll_weight'] = pollster_latest_polls_at_date['pollster_weight']*(\n",
    "            pollster_latest_polls_at_date['recency_weight']/100)\n",
    "\n",
    "    pollster_latest_polls_at_date = pollster_latest_polls_at_date[pollster_latest_polls_at_date['poll_weight'] > 0]\n",
    "    \n",
    "    for ix, poll in pollster_latest_polls_at_date.iterrows():\n",
    "        effective_sample_size = int(poll['sample_size'])*sample_size_reduction_factor\n",
    "        for party in parties_to_include:\n",
    "            if f'{party}_low' not in pollster_latest_polls_at_date.columns:\n",
    "                pollster_latest_polls_at_date[f'{party}_low'] = 0\n",
    "                pollster_latest_polls_at_date[f'{party}_high'] = 0\n",
    "            \n",
    "            poll_party_vote = int(poll[party])/100\n",
    "            party_margin_of_error = 1.96 * ((poll_party_vote*(1-poll_party_vote))/effective_sample_size)**0.5\n",
    "            poll[f'{party}_low'] = max(poll_party_vote - party_margin_of_error, 0)\n",
    "            poll[f'{party}_high'] = min(poll_party_vote + party_margin_of_error, 1)\n",
    "        pollster_latest_polls_at_date.loc[ix] = poll \n",
    "    \n",
    "    \n",
    "    pollster_latest_polls_at_date['dk_type'] = pollster_latest_polls_at_date['pollster'].apply(lambda x: pollster_dk_type[x])    \n",
    "    \n",
    "    for party in parties_to_include:\n",
    "        party_average = (pollster_latest_polls_at_date[party].dot(pollster_latest_polls_at_date['poll_weight'])/pollster_latest_polls_at_date['poll_weight'].sum())\n",
    "        pollster_latest_polls_at_date[f'{party}_variance'] = pollster_latest_polls_at_date[party] - party_average\n",
    "        pollster_latest_polls_at_date[f'{party}_variance'] = pollster_latest_polls_at_date[f'{party}_variance']**2\n",
    "        pollster_latest_polls_at_date[f'{party}_variance'] = pollster_latest_polls_at_date[f'{party}_variance']*pollster_latest_polls_at_date['poll_weight']\n",
    "        \n",
    "        party_moe = 1.96 * (pollster_latest_polls_at_date[f'{party}_variance'].sum()/pollster_latest_polls_at_date['poll_weight'].sum())**0.5\n",
    "        \n",
    "        rebasers = pollster_latest_polls_at_date.query(f'dk_type == \"rebase\"').copy()\n",
    "        \n",
    "        rebase_average = (rebasers[party].dot(rebasers['poll_weight'])/rebasers['poll_weight'].sum())\n",
    "        rebasers[f'{party}_type_variance'] = rebasers[party] - rebase_average\n",
    "        rebasers[f'{party}_type_variance'] = rebasers[f'{party}_type_variance']**2\n",
    "        rebasers[f'{party}_type_variance'] = rebasers[f'{party}_type_variance']*rebasers['poll_weight']\n",
    "        \n",
    "        rebase_moe = 1.96 * (rebasers[f'{party}_type_variance'].sum()/rebasers['poll_weight'].sum())**0.5  \n",
    "        \n",
    "        adjusters = pollster_latest_polls_at_date.query(f'dk_type == \"squeeze\" or dk_type == \"reweight\"').copy()\n",
    "        \n",
    "        adjuster_average = (adjusters[party].dot(adjusters['poll_weight'])/adjusters['poll_weight'].sum())\n",
    "        adjusters[f'{party}_type_variance'] = adjusters[party]- adjuster_average\n",
    "        adjusters[f'{party}_type_variance'] = adjusters[f'{party}_type_variance']**2\n",
    "        adjusters[f'{party}_type_variance'] = adjusters[f'{party}_type_variance']*adjusters['poll_weight']\n",
    "        \n",
    "        adjuster_moe = 1.96 * (adjusters[f'{party}_type_variance'].sum()/adjusters['poll_weight'].sum())**0.5      \n",
    "        \n",
    "        party_midpoint = party_average\n",
    "        party_low = max(party_midpoint - party_moe, 0)\n",
    "        party_high = min(party_midpoint + party_moe, 100)\n",
    "        \n",
    "        party_midpoint_rebase = rebase_average\n",
    "        party_low_rebase = max(party_midpoint_rebase - rebase_moe, 0)\n",
    "        party_high_rebase = min(party_midpoint_rebase + rebase_moe, 100)\n",
    "        \n",
    "        party_midpoint_adjust = adjuster_average\n",
    "        party_low_adjust = max(party_midpoint_adjust - adjuster_moe, 0)\n",
    "        party_high_adjust = min(party_midpoint_adjust + adjuster_moe, 100)\n",
    "        \n",
    "        averages_per_day.loc[analysis_date, party] = party_average\n",
    "        averages_per_day.loc[analysis_date, f'{party}_low'] = party_low\n",
    "        averages_per_day.loc[analysis_date, f'{party}_high'] = party_high\n",
    "        \n",
    "\n",
    "    analysis_date += timedelta(days=1)\n",
    "averages_per_day['lead'] = averages_per_day[parties_to_include].apply(lambda x: x.max(), axis=1) - averages_per_day[parties_to_include].apply(\n",
    "    lambda x: x.map(float).nlargest(2).min(), axis=1)\n",
    "\n",
    "campaign_polls = one_year_polls[one_year_polls[reporting_date] >= campaign_start].copy()\n",
    "campaign_polls['pollster_weight'] = campaign_polls['pollster'].apply(get_pollster_weight)\n",
    "\n",
    "from scripts.constants import party_colors, major_parties\n",
    "import matplotlib.pyplot as plt\n",
    "from numpy import arange"
   ],
   "metadata": {
    "collapsed": false,
    "ExecuteTime": {
     "end_time": "2024-05-29T11:43:14.680408900Z",
     "start_time": "2024-05-29T11:43:12.524830700Z"
    }
   }
  },
  {
   "cell_type": "code",
   "execution_count": null,
   "outputs": [],
   "source": [
    "averages_per_day['lead'] = averages_per_day[parties_to_include].apply(lambda x: x.max(), axis=1) - averages_per_day[parties_to_include].apply(lambda x: x.map(float)).nlargest(2).min(), axis=1)"
   ],
   "metadata": {
    "collapsed": false
   }
  },
  {
   "cell_type": "code",
   "execution_count": 156,
   "outputs": [
    {
     "ename": "NameError",
     "evalue": "name 'current_average' is not defined",
     "output_type": "error",
     "traceback": [
      "\u001B[1;31m---------------------------------------------------------------------------\u001B[0m",
      "\u001B[1;31mNameError\u001B[0m                                 Traceback (most recent call last)",
      "\u001B[1;32m~\\AppData\\Local\\Temp/ipykernel_41412/1938269414.py\u001B[0m in \u001B[0;36m<module>\u001B[1;34m\u001B[0m\n\u001B[1;32m----> 1\u001B[1;33m \u001B[0mcurrent_average\u001B[0m\u001B[1;33m\u001B[0m\u001B[1;33m\u001B[0m\u001B[0m\n\u001B[0m",
      "\u001B[1;31mNameError\u001B[0m: name 'current_average' is not defined"
     ]
    }
   ],
   "source": [
    "current_average"
   ],
   "metadata": {
    "collapsed": false,
    "ExecuteTime": {
     "end_time": "2024-05-29T12:07:40.092647200Z",
     "start_time": "2024-05-29T12:07:39.964557400Z"
    }
   }
  },
  {
   "cell_type": "code",
   "execution_count": 165,
   "outputs": [],
   "source": [
    "pollsters_latest['recency_weight'] = pollsters_latest[reporting_date].apply(get_recency_weight,\n",
    "                                                                            current_date=most_recent_date)\n",
    "pollsters_latest['pollster_weight'] = pollsters_latest['pollster'].apply(get_pollster_weight)\n",
    "pollsters_latest['poll_weight'] = pollsters_latest['pollster_weight']*(pollsters_latest['recency_weight']/100)\n",
    "\n",
    "current_average = pd.DataFrame(columns=major_parties + ['lead'], index=['Polling Average'])\n",
    "lead_party = ''\n",
    "max_vote_share = 0\n",
    "second_vote_share = 0\n",
    "max_vote_share_max = 0\n",
    "max_vote_share_min = 0\n",
    "second_vote_share_max = 0\n",
    "second_vote_share_min = 0\n",
    "for party in major_parties + ['reform_uk', 'green']:\n",
    "    party_vote_share = pollsters_latest[party].dot(pollsters_latest['poll_weight'])/pollsters_latest[\n",
    "        'poll_weight'].sum()\n",
    "    pollsters_latest[f'{party}_variance'] = pollsters_latest[party] - party_vote_share\n",
    "    pollsters_latest[f'{party}_variance'] = pollsters_latest[f'{party}_variance'] ** 2\n",
    "    pollsters_latest[f'{party}_variance'] = pollsters_latest[f'{party}_variance']* pollsters_latest['poll_weight']\n",
    "    \n",
    "    party_moe = 1.96*(pollsters_latest[f'{party}_variance'].sum()/pollsters_latest['poll_weight'].sum()) ** 0.5\n",
    "\n",
    "    if party_vote_share > max_vote_share:\n",
    "        second_vote_share = max_vote_share\n",
    "        max_vote_share = party_vote_share\n",
    "        second_vote_share_max = max_vote_share_max\n",
    "        second_vote_share_min = max_vote_share_min\n",
    "        max_vote_share_max = party_vote_share + party_moe\n",
    "        max_vote_share_min = max_vote_share - party_moe\n",
    "\n",
    "        lead_party = party\n",
    "    else:\n",
    "        if party_vote_share > second_vote_share:\n",
    "            second_vote_share = party_vote_share\n",
    "    current_average.loc['Polling Average', party] = party_vote_share\n",
    "    current_average.loc['Polling Range', party] = f'{max(0, party_vote_share - party_moe):.1f}% - {min(100, party_vote_share + party_moe):.1f}%'\n",
    "    # current_average.loc['Polling Average', party] = f'{party_vote_share:.1f}%'\n",
    "# current_average.loc['Polling Average', 'lead'] = f'{lead_party:.3s}+{max_vote_share - second_vote_share:.1f}%'\n",
    "current_average.loc['Polling Average', 'lead_value'] = max_vote_share - second_vote_share\n",
    "max_range = max_vote_share_max - second_vote_share_min\n",
    "min_range = max_vote_share_min - second_vote_share_max\n",
    "\n",
    "current_average.loc['Polling Range', 'lead_value'] = f'{max(0, max_vote_share_min):.1f}% - {min(100, max_vote_share_max):.1f}%'"
   ],
   "metadata": {
    "collapsed": false,
    "ExecuteTime": {
     "end_time": "2024-05-29T12:16:55.355942300Z",
     "start_time": "2024-05-29T12:16:55.187707600Z"
    }
   }
  },
  {
   "cell_type": "code",
   "execution_count": 166,
   "outputs": [
    {
     "data": {
      "text/plain": "                  conservative         labour liberal_democrat lead  \\\nPolling Average      23.073772      44.616885         9.628717  NaN   \nPolling Range    17.9% - 28.3%  40.2% - 49.0%     7.3% - 12.0%  NaN   \n\n                    reform_uk         green     lead_value  \nPolling Average      10.72393      6.177683      21.543113  \nPolling Range    7.1% - 14.4%  2.2% - 10.1%  40.2% - 49.0%  ",
      "text/html": "<div>\n<style scoped>\n    .dataframe tbody tr th:only-of-type {\n        vertical-align: middle;\n    }\n\n    .dataframe tbody tr th {\n        vertical-align: top;\n    }\n\n    .dataframe thead th {\n        text-align: right;\n    }\n</style>\n<table border=\"1\" class=\"dataframe\">\n  <thead>\n    <tr style=\"text-align: right;\">\n      <th></th>\n      <th>conservative</th>\n      <th>labour</th>\n      <th>liberal_democrat</th>\n      <th>lead</th>\n      <th>reform_uk</th>\n      <th>green</th>\n      <th>lead_value</th>\n    </tr>\n  </thead>\n  <tbody>\n    <tr>\n      <th>Polling Average</th>\n      <td>23.073772</td>\n      <td>44.616885</td>\n      <td>9.628717</td>\n      <td>NaN</td>\n      <td>10.72393</td>\n      <td>6.177683</td>\n      <td>21.543113</td>\n    </tr>\n    <tr>\n      <th>Polling Range</th>\n      <td>17.9% - 28.3%</td>\n      <td>40.2% - 49.0%</td>\n      <td>7.3% - 12.0%</td>\n      <td>NaN</td>\n      <td>7.1% - 14.4%</td>\n      <td>2.2% - 10.1%</td>\n      <td>40.2% - 49.0%</td>\n    </tr>\n  </tbody>\n</table>\n</div>"
     },
     "execution_count": 166,
     "metadata": {},
     "output_type": "execute_result"
    }
   ],
   "source": [
    "current_average"
   ],
   "metadata": {
    "collapsed": false,
    "ExecuteTime": {
     "end_time": "2024-05-29T12:16:55.859217400Z",
     "start_time": "2024-05-29T12:16:55.683881300Z"
    }
   }
  },
  {
   "cell_type": "code",
   "execution_count": 155,
   "outputs": [
    {
     "data": {
      "text/plain": "Text(0.5, 1.0, 'Campaign Polling Average')"
     },
     "execution_count": 155,
     "metadata": {},
     "output_type": "execute_result"
    },
    {
     "data": {
      "text/plain": "<Figure size 1080x360 with 1 Axes>",
      "image/png": "[encoded data removed]"
     },
     "metadata": {},
     "output_type": "display_data"
    }
   ],
   "source": [
    "fig = plt.figure(figsize=(15, 5))\n",
    "fig.set_facecolor('white')\n",
    "ax = plt.gca()\n",
    "\n",
    "averages_per_day_with_data = averages_per_day[averages_per_day.labour > 0]\n",
    "\n",
    "last_date = averages_per_day_with_data.index.max()\n",
    "\n",
    "for party in parties_to_include:\n",
    "    plt.plot_date(\n",
    "        x=averages_per_day.index,\n",
    "        y=averages_per_day[party],\n",
    "        fmt='-',\n",
    "        color=party_colors[party],\n",
    "        linewidth=4)\n",
    "\n",
    "    ax.fill_between(averages_per_day_with_data.index, \n",
    "                    averages_per_day_with_data[f'{party}_low'].map(float),\n",
    "                    averages_per_day_with_data[f'{party}_high'].map(float),\n",
    "\n",
    "                    color=party_colors[party], alpha=0.2)\n",
    "\n",
    "    end_value = averages_per_day.loc[last_date, party]\n",
    "    start_value = averages_per_day.iloc[0][party]\n",
    "    change = end_value - start_value\n",
    "\n",
    "    annotation_text = f'{end_value:.1f}% ({change:+.1f})'\n",
    "    annotation_x = last_date + timedelta(hours=12)\n",
    "    annotation_y = end_value - 1\n",
    "    ax.annotate(annotation_text, (annotation_x, annotation_y), textcoords=\"offset points\", xytext=(0, 10),\n",
    "                ha='left', fontsize=10, va='top', color=party_colors[party], fontweight='bold')\n",
    "\n",
    "    plt.scatter(\n",
    "        x=campaign_polls[reporting_date],\n",
    "        y=campaign_polls[party],\n",
    "        color=party_colors[party],\n",
    "        alpha=campaign_polls['pollster_weight']/100*0.6,\n",
    "        s=50,\n",
    "        marker='o',\n",
    "        edgecolors='white',\n",
    "        linewidths=0.5\n",
    "    )\n",
    "\n",
    "ax.set_yticks(arange(0, 51, 10), minor=False)\n",
    "# major_locator = plt.matplotlib.dates.DayLocator(interval=7)\n",
    "major_locator = plt.matplotlib.dates.WeekdayLocator(byweekday=plt.matplotlib.dates.TH, interval=1)\n",
    "major_fmt = plt.matplotlib.dates.DateFormatter('%d/%m')\n",
    "\n",
    "ax.xaxis.set_major_locator(major_locator)\n",
    "ax.xaxis.set_major_formatter(major_fmt)\n",
    "\n",
    "ax.yaxis.set_major_formatter(plt.matplotlib.ticker.FuncFormatter(lambda x, p: f'{x/100:.0%}'))\n",
    "\n",
    "# set xlim\n",
    "ax.set_xlim([campaign_start, election_date])\n",
    "\n",
    "plot_title = 'Campaign Polling Average'\n",
    "plt.title(plot_title)\n"
   ],
   "metadata": {
    "collapsed": false,
    "ExecuteTime": {
     "end_time": "2024-05-29T12:05:53.359072400Z",
     "start_time": "2024-05-29T12:05:53.027393600Z"
    }
   }
  },
  {
   "cell_type": "code",
   "execution_count": 153,
   "outputs": [
    {
     "data": {
      "text/plain": "2024-05-22    40.440747\n2024-05-23    40.642483\n2024-05-24     39.86097\n2024-05-25    40.144353\n2024-05-26    40.158339\n2024-05-27    40.200983\n2024-05-28    40.200983\nFreq: D, Name: labour_low, dtype: object"
     },
     "execution_count": 153,
     "metadata": {},
     "output_type": "execute_result"
    }
   ],
   "source": [
    "averages_per_day_with_data[f'{party}_low']"
   ],
   "metadata": {
    "collapsed": false,
    "ExecuteTime": {
     "end_time": "2024-05-29T12:04:56.252941700Z",
     "start_time": "2024-05-29T12:04:56.097295600Z"
    }
   }
  },
  {
   "cell_type": "code",
   "execution_count": 154,
   "outputs": [
    {
     "data": {
      "text/plain": "2024-05-22    48.391178\n2024-05-23     48.46266\n2024-05-24    48.611534\n2024-05-25    48.121981\n2024-05-26    48.275146\n2024-05-27    49.032787\n2024-05-28    49.032787\nFreq: D, Name: labour_high, dtype: object"
     },
     "execution_count": 154,
     "metadata": {},
     "output_type": "execute_result"
    }
   ],
   "source": [
    "averages_per_day_with_data[f'{party}_high']"
   ],
   "metadata": {
    "collapsed": false,
    "ExecuteTime": {
     "end_time": "2024-05-29T12:05:05.654018300Z",
     "start_time": "2024-05-29T12:05:05.471324800Z"
    }
   }
  },
  {
   "cell_type": "code",
   "execution_count": 152,
   "outputs": [
    {
     "data": {
      "text/plain": "               labour conservative  reform_uk liberal_democrat     green  \\\n2024-05-22  44.415963    23.466501    10.6801         9.305912  6.348519   \n2024-05-23  44.552571    23.374573  10.734835         9.315552  6.179457   \n2024-05-24  44.236252    23.623504  10.880841          9.31739  6.054402   \n2024-05-25  44.133167    23.274652  10.890954         9.690552  6.137851   \n2024-05-26  44.216742    23.299308  10.963121         9.629282  6.095717   \n2024-05-27  44.616885    23.073772   10.72393         9.628717  6.177683   \n2024-05-28  44.616885    23.073772   10.72393         9.628717  6.177683   \n\n           labour_low conservative_low reform_uk_low liberal_democrat_low  \\\n2024-05-22  40.440747        18.552154      7.296289             6.910962   \n2024-05-23  40.642483        18.137443      7.024421             6.906816   \n2024-05-24   39.86097          18.2356      6.821794             6.987204   \n2024-05-25  40.144353        18.472695      6.824785             7.369693   \n2024-05-26  40.158339        18.504642      6.799454             7.299342   \n2024-05-27  40.200983          17.8629      7.083117             7.305998   \n2024-05-28  40.200983          17.8629      7.083117             7.305998   \n\n           green_low labour_high conservative_high reform_uk_high  \\\n2024-05-22  1.560725   48.391178         28.380848      14.063911   \n2024-05-23  1.321828    48.46266         28.611702      14.445248   \n2024-05-24  1.567321   48.611534         29.011408      14.939889   \n2024-05-25  2.111322   48.121981         28.076608      14.957122   \n2024-05-26  2.131456   48.275146         28.093974      15.126789   \n2024-05-27  2.233301   49.032787         28.284644      14.364742   \n2024-05-28  2.233301   49.032787         28.284644      14.364742   \n\n           liberal_democrat_high green_high       lead  \n2024-05-22             11.700862  11.136312  20.949461  \n2024-05-23             11.724289  11.037086  21.177999  \n2024-05-24             11.647575  10.541483  20.612748  \n2024-05-25              12.01141   10.16438  20.858516  \n2024-05-26             11.959222  10.059978  20.917434  \n2024-05-27             11.951437  10.122065  21.543113  \n2024-05-28             11.951437  10.122065  21.543113  ",
      "text/html": "<div>\n<style scoped>\n    .dataframe tbody tr th:only-of-type {\n        vertical-align: middle;\n    }\n\n    .dataframe tbody tr th {\n        vertical-align: top;\n    }\n\n    .dataframe thead th {\n        text-align: right;\n    }\n</style>\n<table border=\"1\" class=\"dataframe\">\n  <thead>\n    <tr style=\"text-align: right;\">\n      <th></th>\n      <th>labour</th>\n      <th>conservative</th>\n      <th>reform_uk</th>\n      <th>liberal_democrat</th>\n      <th>green</th>\n      <th>labour_low</th>\n      <th>conservative_low</th>\n      <th>reform_uk_low</th>\n      <th>liberal_democrat_low</th>\n      <th>green_low</th>\n      <th>labour_high</th>\n      <th>conservative_high</th>\n      <th>reform_uk_high</th>\n      <th>liberal_democrat_high</th>\n      <th>green_high</th>\n      <th>lead</th>\n    </tr>\n  </thead>\n  <tbody>\n    <tr>\n      <th>2024-05-22</th>\n      <td>44.415963</td>\n      <td>23.466501</td>\n      <td>10.6801</td>\n      <td>9.305912</td>\n      <td>6.348519</td>\n      <td>40.440747</td>\n      <td>18.552154</td>\n      <td>7.296289</td>\n      <td>6.910962</td>\n      <td>1.560725</td>\n      <td>48.391178</td>\n      <td>28.380848</td>\n      <td>14.063911</td>\n      <td>11.700862</td>\n      <td>11.136312</td>\n      <td>20.949461</td>\n    </tr>\n    <tr>\n      <th>2024-05-23</th>\n      <td>44.552571</td>\n      <td>23.374573</td>\n      <td>10.734835</td>\n      <td>9.315552</td>\n      <td>6.179457</td>\n      <td>40.642483</td>\n      <td>18.137443</td>\n      <td>7.024421</td>\n      <td>6.906816</td>\n      <td>1.321828</td>\n      <td>48.46266</td>\n      <td>28.611702</td>\n      <td>14.445248</td>\n      <td>11.724289</td>\n      <td>11.037086</td>\n      <td>21.177999</td>\n    </tr>\n    <tr>\n      <th>2024-05-24</th>\n      <td>44.236252</td>\n      <td>23.623504</td>\n      <td>10.880841</td>\n      <td>9.31739</td>\n      <td>6.054402</td>\n      <td>39.86097</td>\n      <td>18.2356</td>\n      <td>6.821794</td>\n      <td>6.987204</td>\n      <td>1.567321</td>\n      <td>48.611534</td>\n      <td>29.011408</td>\n      <td>14.939889</td>\n      <td>11.647575</td>\n      <td>10.541483</td>\n      <td>20.612748</td>\n    </tr>\n    <tr>\n      <th>2024-05-25</th>\n      <td>44.133167</td>\n      <td>23.274652</td>\n      <td>10.890954</td>\n      <td>9.690552</td>\n      <td>6.137851</td>\n      <td>40.144353</td>\n      <td>18.472695</td>\n      <td>6.824785</td>\n      <td>7.369693</td>\n      <td>2.111322</td>\n      <td>48.121981</td>\n      <td>28.076608</td>\n      <td>14.957122</td>\n      <td>12.01141</td>\n      <td>10.16438</td>\n      <td>20.858516</td>\n    </tr>\n    <tr>\n      <th>2024-05-26</th>\n      <td>44.216742</td>\n      <td>23.299308</td>\n      <td>10.963121</td>\n      <td>9.629282</td>\n      <td>6.095717</td>\n      <td>40.158339</td>\n      <td>18.504642</td>\n      <td>6.799454</td>\n      <td>7.299342</td>\n      <td>2.131456</td>\n      <td>48.275146</td>\n      <td>28.093974</td>\n      <td>15.126789</td>\n      <td>11.959222</td>\n      <td>10.059978</td>\n      <td>20.917434</td>\n    </tr>\n    <tr>\n      <th>2024-05-27</th>\n      <td>44.616885</td>\n      <td>23.073772</td>\n      <td>10.72393</td>\n      <td>9.628717</td>\n      <td>6.177683</td>\n      <td>40.200983</td>\n      <td>17.8629</td>\n      <td>7.083117</td>\n      <td>7.305998</td>\n      <td>2.233301</td>\n      <td>49.032787</td>\n      <td>28.284644</td>\n      <td>14.364742</td>\n      <td>11.951437</td>\n      <td>10.122065</td>\n      <td>21.543113</td>\n    </tr>\n    <tr>\n      <th>2024-05-28</th>\n      <td>44.616885</td>\n      <td>23.073772</td>\n      <td>10.72393</td>\n      <td>9.628717</td>\n      <td>6.177683</td>\n      <td>40.200983</td>\n      <td>17.8629</td>\n      <td>7.083117</td>\n      <td>7.305998</td>\n      <td>2.233301</td>\n      <td>49.032787</td>\n      <td>28.284644</td>\n      <td>14.364742</td>\n      <td>11.951437</td>\n      <td>10.122065</td>\n      <td>21.543113</td>\n    </tr>\n  </tbody>\n</table>\n</div>"
     },
     "execution_count": 152,
     "metadata": {},
     "output_type": "execute_result"
    }
   ],
   "source": [
    "averages_per_day_with_data"
   ],
   "metadata": {
    "collapsed": false,
    "ExecuteTime": {
     "end_time": "2024-05-29T12:04:39.684874200Z",
     "start_time": "2024-05-29T12:04:39.550206700Z"
    }
   }
  },
  {
   "cell_type": "code",
   "execution_count": 115,
   "outputs": [
    {
     "data": {
      "text/plain": "0     0.000003\n1     0.000003\n4     0.002325\n7     0.000332\n8     0.000139\n9     0.000068\n10    0.000332\n11    0.000139\n12    0.000139\n13    0.001010\n14    0.000139\n16    0.000003\n17    0.000003\n18    0.000068\nName: variance, dtype: float64"
     },
     "execution_count": 115,
     "metadata": {},
     "output_type": "execute_result"
    }
   ],
   "source": [
    "pollster_latest_polls_at_date['variance']**2"
   ],
   "metadata": {
    "collapsed": false,
    "ExecuteTime": {
     "end_time": "2024-05-29T11:08:11.456178500Z",
     "start_time": "2024-05-29T11:08:11.322046800Z"
    }
   }
  },
  {
   "cell_type": "code",
   "execution_count": 91,
   "outputs": [
    {
     "data": {
      "text/plain": "0.07"
     },
     "execution_count": 91,
     "metadata": {},
     "output_type": "execute_result"
    }
   ],
   "source": [
    "poll_party_vote"
   ],
   "metadata": {
    "collapsed": false,
    "ExecuteTime": {
     "end_time": "2024-05-29T10:55:20.644267300Z",
     "start_time": "2024-05-29T10:55:20.514267Z"
    }
   }
  },
  {
   "cell_type": "code",
   "execution_count": null,
   "outputs": [],
   "source": [],
   "metadata": {
    "collapsed": false
   }
  },
  {
   "cell_type": "code",
   "execution_count": null,
   "outputs": [],
   "source": [],
   "metadata": {
    "collapsed": false
   }
  },
  {
   "cell_type": "code",
   "execution_count": null,
   "outputs": [],
   "source": [
    "from scripts.constants import party_colors, major_parties\n",
    "import matplotlib.pyplot as plt\n",
    "from numpy import arange\n",
    "\n",
    "fig = plt.figure(figsize=(15, 7))\n",
    "fig.set_facecolor('white')\n",
    "ax = plt.gca()\n",
    "\n",
    "for party in parties_to_include:\n",
    "    plt.plot_date(\n",
    "        x=averages_per_day.index,\n",
    "        y=averages_per_day[party],\n",
    "        fmt='-',\n",
    "        color=party_colors[party],\n",
    "        linewidth=4)\n",
    "\n",
    "#Plot campaign polls as scatter\n",
    "for party in parties_to_include:\n",
    "    plt.scatter(\n",
    "        x=campaign_polls[reporting_date],\n",
    "        y=campaign_polls[party],\n",
    "        color=party_colors[party],\n",
    "        alpha=campaign_polls['pollster_weight']/100 *0.6 ,\n",
    "        s=50,\n",
    "        marker='o',\n",
    "        edgecolors='white',\n",
    "        linewidths=0.5\n",
    "    )\n",
    "\n",
    "\n",
    "\n",
    "ax.set_yticks(arange(0, 51, 10), minor=False)\n",
    "#major_locator = plt.matplotlib.dates.DayLocator(interval=7)\n",
    "major_locator = plt.matplotlib.dates.WeekdayLocator(byweekday=plt.matplotlib.dates.TH, interval=1)\n",
    "major_fmt = plt.matplotlib.dates.DateFormatter('%d/%m')\n",
    "\n",
    "ax.xaxis.set_major_locator(major_locator)\n",
    "ax.xaxis.set_major_formatter(major_fmt)\n",
    "\n",
    "ax.yaxis.set_major_formatter(plt.matplotlib.ticker.FuncFormatter(lambda x, p: f'{x/100:.0%}'))\n",
    "\n",
    "#set xlim\n",
    "ax.set_xlim([campaign_start, election_date])\n",
    "\n",
    "plot_title = 'Campaign Polling Average'\n",
    "plt.title(plot_title)\n",
    "# source = 'Source: Wikipedia - Opinion polling for the next United Kingdom general election'\n",
    "# plt.annotate(source, (1, 0), (0, -20), xycoords='axes fraction', textcoords='offset points', va='top', ha='right')\n",
    "fig.savefig('html_outputs/campaign_polling.png', bbox_inches='tight', pad_inches=0.2)"
   ],
   "metadata": {
    "collapsed": false,
    "ExecuteTime": {
     "start_time": "2024-05-29T10:47:28.069334500Z"
    }
   }
  },
  {
   "cell_type": "code",
   "execution_count": null,
   "outputs": [],
   "source": [],
   "metadata": {
    "collapsed": false,
    "ExecuteTime": {
     "start_time": "2024-05-29T10:47:28.070835Z"
    }
   }
  },
  {
   "cell_type": "code",
   "execution_count": null,
   "metadata": {
    "ExecuteTime": {
     "start_time": "2024-05-29T10:47:28.072335Z"
    }
   },
   "outputs": [],
   "source": [
    "pollsters_latest = pd.DataFrame()\n",
    "for pollster in one_year_polls.pollster.unique():\n",
    "    pollster_data = one_year_polls.query(f'pollster == \"{pollster}\"')\n",
    "    latest_poll = pollster_data.iloc[0]\n",
    "    pollsters_latest = pollsters_latest.append(latest_poll)"
   ]
  },
  {
   "cell_type": "code",
   "execution_count": null,
   "metadata": {
    "ExecuteTime": {
     "start_time": "2024-05-29T10:47:28.074344900Z"
    }
   },
   "outputs": [],
   "source": [
    "pollsters_latest['recency_weight'] = pollsters_latest[reporting_date].apply(get_recency_weight,\n",
    "                                                                            current_date=most_recent_date)\n",
    "pollsters_latest['pollster_weight'] = pollsters_latest['pollster'].apply(get_pollster_weight)\n",
    "pollsters_latest['poll_weight'] = pollsters_latest['pollster_weight']*(pollsters_latest['recency_weight']/100)"
   ]
  },
  {
   "cell_type": "code",
   "execution_count": null,
   "metadata": {
    "ExecuteTime": {
     "start_time": "2024-05-29T10:47:28.076358300Z"
    }
   },
   "outputs": [],
   "source": [
    "most_recent_date"
   ]
  },
  {
   "cell_type": "code",
   "execution_count": null,
   "metadata": {
    "ExecuteTime": {
     "start_time": "2024-05-29T10:47:28.078358200Z"
    }
   },
   "outputs": [],
   "source": [
    "current_average = pd.DataFrame(columns=major_parties + ['lead'], index=['Polling Average'])\n",
    "lead_party = ''\n",
    "max_vote_share = 0\n",
    "second_vote_share = 0\n",
    "for party in major_parties:\n",
    "    party_vote_share = pollsters_latest[party].dot(pollsters_latest['poll_weight'])/pollsters_latest[\n",
    "        'poll_weight'].sum()\n",
    "    if party_vote_share > max_vote_share:\n",
    "        second_vote_share = max_vote_share\n",
    "        max_vote_share = party_vote_share\n",
    "        lead_party = party\n",
    "    else:\n",
    "        if party_vote_share > second_vote_share:\n",
    "            second_vote_share = party_vote_share\n",
    "    current_average.loc['Polling Average', party] = party_vote_share\n",
    "    #current_average.loc['Polling Average', party] = f'{party_vote_share:.1f}%'\n",
    "#current_average.loc['Polling Average', 'lead'] = f'{lead_party:.3s}+{max_vote_share - second_vote_share:.1f}%'\n",
    "current_average.loc['Polling Average', 'lead_value'] = max_vote_share - second_vote_share\n"
   ]
  },
  {
   "cell_type": "code",
   "execution_count": null,
   "outputs": [],
   "source": [
    "list(current_average.drop(columns='lead').iloc[0].sort_values(ascending=False).index)"
   ],
   "metadata": {
    "collapsed": false,
    "ExecuteTime": {
     "start_time": "2024-05-29T10:47:28.081357300Z"
    }
   }
  },
  {
   "cell_type": "code",
   "execution_count": null,
   "outputs": [],
   "source": [
    "#sort_columns\n",
    "current_average = current_average[major_parties + ['lead_value']]\n"
   ],
   "metadata": {
    "collapsed": false,
    "ExecuteTime": {
     "start_time": "2024-05-29T10:47:28.082857900Z"
    }
   }
  },
  {
   "cell_type": "code",
   "execution_count": null,
   "metadata": {
    "ExecuteTime": {
     "start_time": "2024-05-29T10:47:28.084363200Z"
    }
   },
   "outputs": [],
   "source": [
    "one_year_polls['poll_month'] = one_year_polls[reporting_date].apply(lambda x: x.replace(day=1))"
   ]
  },
  {
   "cell_type": "code",
   "execution_count": 167,
   "metadata": {
    "ExecuteTime": {
     "end_time": "2024-05-29T13:08:33.913057900Z",
     "start_time": "2024-05-29T13:08:33.784168300Z"
    }
   },
   "outputs": [
    {
     "ename": "KeyError",
     "evalue": "'poll_month'",
     "output_type": "error",
     "traceback": [
      "\u001B[1;31m---------------------------------------------------------------------------\u001B[0m",
      "\u001B[1;31mKeyError\u001B[0m                                  Traceback (most recent call last)",
      "\u001B[1;32m~\\AppData\\Local\\Temp/ipykernel_41412/2822164032.py\u001B[0m in \u001B[0;36m<module>\u001B[1;34m\u001B[0m\n\u001B[1;32m----> 1\u001B[1;33m \u001B[0mpollster_monthly_summary\u001B[0m \u001B[1;33m=\u001B[0m \u001B[0mone_year_polls\u001B[0m\u001B[1;33m.\u001B[0m\u001B[0mgroupby\u001B[0m\u001B[1;33m(\u001B[0m\u001B[1;33m[\u001B[0m\u001B[1;34m'poll_month'\u001B[0m\u001B[1;33m,\u001B[0m \u001B[1;34m'pollster'\u001B[0m\u001B[1;33m]\u001B[0m\u001B[1;33m)\u001B[0m\u001B[1;33m[\u001B[0m\u001B[0mmajor_parties\u001B[0m\u001B[1;33m]\u001B[0m\u001B[1;33m.\u001B[0m\u001B[0magg\u001B[0m\u001B[1;33m(\u001B[0m\u001B[1;33m[\u001B[0m\u001B[1;34m'mean'\u001B[0m\u001B[1;33m,\u001B[0m \u001B[1;34m'count'\u001B[0m\u001B[1;33m]\u001B[0m\u001B[1;33m)\u001B[0m\u001B[1;33m\u001B[0m\u001B[1;33m\u001B[0m\u001B[0m\n\u001B[0m\u001B[0;32m      2\u001B[0m pollster_monthly_summary.columns = [x if i == 0 else f'count{major_parties.index(x)}' for x in major_parties for i in\n\u001B[0;32m      3\u001B[0m                                     range(0, 2)]\n\u001B[0;32m      4\u001B[0m \u001B[0mpollster_monthly_summary\u001B[0m\u001B[1;33m.\u001B[0m\u001B[0mdrop\u001B[0m\u001B[1;33m(\u001B[0m\u001B[0mcolumns\u001B[0m\u001B[1;33m=\u001B[0m\u001B[1;33m[\u001B[0m\u001B[1;34mf'count{major_parties.index(x)}'\u001B[0m \u001B[1;32mfor\u001B[0m \u001B[0mx\u001B[0m \u001B[1;32min\u001B[0m \u001B[0mmajor_parties\u001B[0m\u001B[1;33m]\u001B[0m\u001B[1;33m[\u001B[0m\u001B[1;36m1\u001B[0m\u001B[1;33m:\u001B[0m\u001B[1;33m]\u001B[0m\u001B[1;33m,\u001B[0m \u001B[0minplace\u001B[0m\u001B[1;33m=\u001B[0m\u001B[1;32mTrue\u001B[0m\u001B[1;33m)\u001B[0m\u001B[1;33m\u001B[0m\u001B[1;33m\u001B[0m\u001B[0m\n\u001B[0;32m      5\u001B[0m \u001B[0mpollster_monthly_summary\u001B[0m\u001B[1;33m.\u001B[0m\u001B[0mrename\u001B[0m\u001B[1;33m(\u001B[0m\u001B[0mcolumns\u001B[0m\u001B[1;33m=\u001B[0m\u001B[1;33m{\u001B[0m\u001B[1;34m\"count0\"\u001B[0m\u001B[1;33m:\u001B[0m \u001B[1;34m\"count\"\u001B[0m\u001B[1;33m}\u001B[0m\u001B[1;33m,\u001B[0m \u001B[0minplace\u001B[0m\u001B[1;33m=\u001B[0m\u001B[1;32mTrue\u001B[0m\u001B[1;33m)\u001B[0m\u001B[1;33m\u001B[0m\u001B[1;33m\u001B[0m\u001B[0m\n",
      "\u001B[1;32md:\\projects\\software\\python\\polls\\venv\\lib\\site-packages\\pandas\\core\\frame.py\u001B[0m in \u001B[0;36mgroupby\u001B[1;34m(self, by, axis, level, as_index, sort, group_keys, squeeze, observed, dropna)\u001B[0m\n\u001B[0;32m   7629\u001B[0m         \u001B[1;31m# error: Argument \"squeeze\" to \"DataFrameGroupBy\" has incompatible type\u001B[0m\u001B[1;33m\u001B[0m\u001B[1;33m\u001B[0m\u001B[0m\n\u001B[0;32m   7630\u001B[0m         \u001B[1;31m# \"Union[bool, NoDefault]\"; expected \"bool\"\u001B[0m\u001B[1;33m\u001B[0m\u001B[1;33m\u001B[0m\u001B[0m\n\u001B[1;32m-> 7631\u001B[1;33m         return DataFrameGroupBy(\n\u001B[0m\u001B[0;32m   7632\u001B[0m             \u001B[0mobj\u001B[0m\u001B[1;33m=\u001B[0m\u001B[0mself\u001B[0m\u001B[1;33m,\u001B[0m\u001B[1;33m\u001B[0m\u001B[1;33m\u001B[0m\u001B[0m\n\u001B[0;32m   7633\u001B[0m             \u001B[0mkeys\u001B[0m\u001B[1;33m=\u001B[0m\u001B[0mby\u001B[0m\u001B[1;33m,\u001B[0m\u001B[1;33m\u001B[0m\u001B[1;33m\u001B[0m\u001B[0m\n",
      "\u001B[1;32md:\\projects\\software\\python\\polls\\venv\\lib\\site-packages\\pandas\\core\\groupby\\groupby.py\u001B[0m in \u001B[0;36m__init__\u001B[1;34m(self, obj, keys, axis, level, grouper, exclusions, selection, as_index, sort, group_keys, squeeze, observed, mutated, dropna)\u001B[0m\n\u001B[0;32m    887\u001B[0m             \u001B[1;32mfrom\u001B[0m \u001B[0mpandas\u001B[0m\u001B[1;33m.\u001B[0m\u001B[0mcore\u001B[0m\u001B[1;33m.\u001B[0m\u001B[0mgroupby\u001B[0m\u001B[1;33m.\u001B[0m\u001B[0mgrouper\u001B[0m \u001B[1;32mimport\u001B[0m \u001B[0mget_grouper\u001B[0m\u001B[1;33m\u001B[0m\u001B[1;33m\u001B[0m\u001B[0m\n\u001B[0;32m    888\u001B[0m \u001B[1;33m\u001B[0m\u001B[0m\n\u001B[1;32m--> 889\u001B[1;33m             grouper, exclusions, obj = get_grouper(\n\u001B[0m\u001B[0;32m    890\u001B[0m                 \u001B[0mobj\u001B[0m\u001B[1;33m,\u001B[0m\u001B[1;33m\u001B[0m\u001B[1;33m\u001B[0m\u001B[0m\n\u001B[0;32m    891\u001B[0m                 \u001B[0mkeys\u001B[0m\u001B[1;33m,\u001B[0m\u001B[1;33m\u001B[0m\u001B[1;33m\u001B[0m\u001B[0m\n",
      "\u001B[1;32md:\\projects\\software\\python\\polls\\venv\\lib\\site-packages\\pandas\\core\\groupby\\grouper.py\u001B[0m in \u001B[0;36mget_grouper\u001B[1;34m(obj, key, axis, level, sort, observed, mutated, validate, dropna)\u001B[0m\n\u001B[0;32m    860\u001B[0m                 \u001B[0min_axis\u001B[0m\u001B[1;33m,\u001B[0m \u001B[0mlevel\u001B[0m\u001B[1;33m,\u001B[0m \u001B[0mgpr\u001B[0m \u001B[1;33m=\u001B[0m \u001B[1;32mFalse\u001B[0m\u001B[1;33m,\u001B[0m \u001B[0mgpr\u001B[0m\u001B[1;33m,\u001B[0m \u001B[1;32mNone\u001B[0m\u001B[1;33m\u001B[0m\u001B[1;33m\u001B[0m\u001B[0m\n\u001B[0;32m    861\u001B[0m             \u001B[1;32melse\u001B[0m\u001B[1;33m:\u001B[0m\u001B[1;33m\u001B[0m\u001B[1;33m\u001B[0m\u001B[0m\n\u001B[1;32m--> 862\u001B[1;33m                 \u001B[1;32mraise\u001B[0m \u001B[0mKeyError\u001B[0m\u001B[1;33m(\u001B[0m\u001B[0mgpr\u001B[0m\u001B[1;33m)\u001B[0m\u001B[1;33m\u001B[0m\u001B[1;33m\u001B[0m\u001B[0m\n\u001B[0m\u001B[0;32m    863\u001B[0m         \u001B[1;32melif\u001B[0m \u001B[0misinstance\u001B[0m\u001B[1;33m(\u001B[0m\u001B[0mgpr\u001B[0m\u001B[1;33m,\u001B[0m \u001B[0mGrouper\u001B[0m\u001B[1;33m)\u001B[0m \u001B[1;32mand\u001B[0m \u001B[0mgpr\u001B[0m\u001B[1;33m.\u001B[0m\u001B[0mkey\u001B[0m \u001B[1;32mis\u001B[0m \u001B[1;32mnot\u001B[0m \u001B[1;32mNone\u001B[0m\u001B[1;33m:\u001B[0m\u001B[1;33m\u001B[0m\u001B[1;33m\u001B[0m\u001B[0m\n\u001B[0;32m    864\u001B[0m             \u001B[1;31m# Add key to exclusions\u001B[0m\u001B[1;33m\u001B[0m\u001B[1;33m\u001B[0m\u001B[0m\n",
      "\u001B[1;31mKeyError\u001B[0m: 'poll_month'"
     ]
    }
   ],
   "source": [
    "pollster_monthly_summary = one_year_polls.groupby(['poll_month', 'pollster'])[major_parties].agg(['mean', 'count'])\n",
    "pollster_monthly_summary.columns = [x if i == 0 else f'count{major_parties.index(x)}' for x in major_parties for i in\n",
    "                                    range(0, 2)]\n",
    "pollster_monthly_summary.drop(columns=[f'count{major_parties.index(x)}' for x in major_parties][1:], inplace=True)\n",
    "pollster_monthly_summary.rename(columns={\"count0\": \"count\"}, inplace=True)\n",
    "\n",
    "agg_info = {x: ['mean'] for x in major_parties}\n",
    "agg_info['count'] = ['count', 'sum']\n",
    "monthly_summary = pollster_monthly_summary.reset_index().groupby(['poll_month']).agg(agg_info)\n",
    "monthly_summary.columns = major_parties + ['pollster_count', 'poll_count']"
   ]
  },
  {
   "cell_type": "code",
   "execution_count": 168,
   "metadata": {
    "ExecuteTime": {
     "end_time": "2024-05-29T13:08:34.310018100Z",
     "start_time": "2024-05-29T13:08:34.190694400Z"
    }
   },
   "outputs": [
    {
     "data": {
      "text/plain": "Series([], Name: date_started, dtype: datetime64[ns])"
     },
     "execution_count": 168,
     "metadata": {},
     "output_type": "execute_result"
    }
   ],
   "source": [
    "all_polls.loc[all_polls.date_concluded<all_polls.date_started, 'date_started'] - pd.offsets.DateOffset(years=1)"
   ]
  },
  {
   "cell_type": "code",
   "execution_count": 169,
   "metadata": {
    "ExecuteTime": {
     "end_time": "2024-05-29T13:08:35.149596300Z",
     "start_time": "2024-05-29T13:08:34.975141600Z"
    }
   },
   "outputs": [
    {
     "ename": "NameError",
     "evalue": "name 'monthly_summary' is not defined",
     "output_type": "error",
     "traceback": [
      "\u001B[1;31m---------------------------------------------------------------------------\u001B[0m",
      "\u001B[1;31mNameError\u001B[0m                                 Traceback (most recent call last)",
      "\u001B[1;32m~\\AppData\\Local\\Temp/ipykernel_41412/1894847363.py\u001B[0m in \u001B[0;36m<module>\u001B[1;34m\u001B[0m\n\u001B[0;32m      1\u001B[0m \u001B[1;32mfrom\u001B[0m \u001B[0mscripts\u001B[0m\u001B[1;33m.\u001B[0m\u001B[0mfunctions\u001B[0m \u001B[1;32mimport\u001B[0m \u001B[0mformat_lead\u001B[0m\u001B[1;33m\u001B[0m\u001B[1;33m\u001B[0m\u001B[0m\n\u001B[0;32m      2\u001B[0m \u001B[1;33m\u001B[0m\u001B[0m\n\u001B[1;32m----> 3\u001B[1;33m \u001B[0mmonthly_summary\u001B[0m\u001B[1;33m[\u001B[0m\u001B[1;33m[\u001B[0m\u001B[1;34m'lead'\u001B[0m\u001B[1;33m,\u001B[0m \u001B[1;34m'lead_value'\u001B[0m\u001B[1;33m]\u001B[0m\u001B[1;33m]\u001B[0m \u001B[1;33m=\u001B[0m \u001B[0mmonthly_summary\u001B[0m\u001B[1;33m.\u001B[0m\u001B[0mapply\u001B[0m\u001B[1;33m(\u001B[0m\u001B[0mformat_lead\u001B[0m\u001B[1;33m,\u001B[0m \u001B[0maxis\u001B[0m\u001B[1;33m=\u001B[0m\u001B[1;36m1\u001B[0m\u001B[1;33m,\u001B[0m \u001B[0mresult_type\u001B[0m\u001B[1;33m=\u001B[0m\u001B[1;34m'expand'\u001B[0m\u001B[1;33m)\u001B[0m\u001B[1;33m\u001B[0m\u001B[1;33m\u001B[0m\u001B[0m\n\u001B[0m",
      "\u001B[1;31mNameError\u001B[0m: name 'monthly_summary' is not defined"
     ]
    }
   ],
   "source": [
    "from scripts.functions import format_lead\n",
    "\n",
    "monthly_summary[['lead', 'lead_value']] = monthly_summary.apply(format_lead, axis=1, result_type='expand')"
   ]
  },
  {
   "cell_type": "code",
   "execution_count": 170,
   "metadata": {
    "ExecuteTime": {
     "end_time": "2024-05-29T13:08:41.801675400Z",
     "start_time": "2024-05-29T13:08:41.684119500Z"
    }
   },
   "outputs": [
    {
     "ename": "NameError",
     "evalue": "name 'monthly_summary' is not defined",
     "output_type": "error",
     "traceback": [
      "\u001B[1;31m---------------------------------------------------------------------------\u001B[0m",
      "\u001B[1;31mNameError\u001B[0m                                 Traceback (most recent call last)",
      "\u001B[1;32m~\\AppData\\Local\\Temp/ipykernel_41412/3468252283.py\u001B[0m in \u001B[0;36m<module>\u001B[1;34m\u001B[0m\n\u001B[1;32m----> 1\u001B[1;33m \u001B[0mmonthly_summary\u001B[0m\u001B[1;33m.\u001B[0m\u001B[0miloc\u001B[0m\u001B[1;33m[\u001B[0m\u001B[1;33m:\u001B[0m\u001B[1;36m0\u001B[0m\u001B[1;33m:\u001B[0m\u001B[1;33m-\u001B[0m\u001B[1;36m1\u001B[0m\u001B[1;33m]\u001B[0m\u001B[1;33m.\u001B[0m\u001B[0mto_clipboard\u001B[0m\u001B[1;33m(\u001B[0m\u001B[0msep\u001B[0m\u001B[1;33m=\u001B[0m\u001B[1;34m'\\t'\u001B[0m\u001B[1;33m)\u001B[0m\u001B[1;33m\u001B[0m\u001B[1;33m\u001B[0m\u001B[0m\n\u001B[0m",
      "\u001B[1;31mNameError\u001B[0m: name 'monthly_summary' is not defined"
     ]
    }
   ],
   "source": [
    "monthly_summary.iloc[:0:-1].to_clipboard(sep='\\t')"
   ]
  },
  {
   "cell_type": "code",
   "execution_count": 171,
   "metadata": {
    "ExecuteTime": {
     "end_time": "2024-05-29T13:08:42.309981600Z",
     "start_time": "2024-05-29T13:08:42.173865400Z"
    }
   },
   "outputs": [
    {
     "data": {
      "text/plain": "    date_started date_concluded                      pollster  conservative  \\\n2     2024-05-24     2024-05-27                     Survation          24.0   \n6     2024-05-23     2024-05-24                       Opinium          27.0   \n0     2024-05-26     2024-05-28                        YouGov          20.0   \n3     2024-05-23     2024-05-25                     Deltapoll          23.0   \n23    2024-05-08     2024-05-14                    Ipsos MORI          20.0   \n1     2024-05-25     2024-05-27  Redfield & Wilton Strategies          23.0   \n5     2024-05-23     2024-05-24                      We Think          22.0   \n8     2024-05-22     2024-05-23                     Techne UK          19.0   \n9     2024-05-22     2024-05-23                More in Common          27.0   \n15    2024-05-17     2024-05-19                       Savanta          26.0   \n20    2024-05-15     2024-05-16            Whitestone Insight          24.0   \n24    2024-05-09     2024-05-13           Lord Ashcroft Polls          22.0   \n19    2024-05-16     2024-05-16                 PeoplePolling          20.0   \n50    2024-04-22     2024-04-23                  BMG Research          25.0   \n4     2024-05-24     2024-05-25                   JL Partners          28.0   \n42    2024-04-19     2024-04-29               Labour Together          22.0   \n138   2024-01-24     2024-02-12                  Find Out Now          22.0   \n310   2023-08-31     2023-09-04                        Verian          27.0   \n535   2023-02-10     2023-02-12                     FocalData          28.0   \n\n     labour  liberal_democrat      lead  \n2      47.0              11.0  lab+23.0  \n6      41.0              10.0  lab+14.0  \n0      47.0               9.0  lab+27.0  \n3      45.0               9.0  lab+22.0  \n23     41.0              11.0  lab+21.0  \n1      46.0               9.0  lab+23.0  \n5      47.0               8.0  lab+25.0  \n8      45.0              12.0  lab+26.0  \n9      44.0               9.0  lab+17.0  \n15     43.0              10.0  lab+17.0  \n20     44.0               8.0  lab+20.0  \n24     45.0               8.0  lab+23.0  \n19     46.0               8.0  lab+26.0  \n50     41.0               9.0  lab+16.0  \n4      40.0              10.0  lab+12.0  \n42     44.0              10.0  lab+22.0  \n138    42.0              11.0  lab+20.0  \n310    43.0              13.0  lab+16.0  \n535    48.0               9.0  lab+20.0  ",
      "text/html": "<div>\n<style scoped>\n    .dataframe tbody tr th:only-of-type {\n        vertical-align: middle;\n    }\n\n    .dataframe tbody tr th {\n        vertical-align: top;\n    }\n\n    .dataframe thead th {\n        text-align: right;\n    }\n</style>\n<table border=\"1\" class=\"dataframe\">\n  <thead>\n    <tr style=\"text-align: right;\">\n      <th></th>\n      <th>date_started</th>\n      <th>date_concluded</th>\n      <th>pollster</th>\n      <th>conservative</th>\n      <th>labour</th>\n      <th>liberal_democrat</th>\n      <th>lead</th>\n    </tr>\n  </thead>\n  <tbody>\n    <tr>\n      <th>2</th>\n      <td>2024-05-24</td>\n      <td>2024-05-27</td>\n      <td>Survation</td>\n      <td>24.0</td>\n      <td>47.0</td>\n      <td>11.0</td>\n      <td>lab+23.0</td>\n    </tr>\n    <tr>\n      <th>6</th>\n      <td>2024-05-23</td>\n      <td>2024-05-24</td>\n      <td>Opinium</td>\n      <td>27.0</td>\n      <td>41.0</td>\n      <td>10.0</td>\n      <td>lab+14.0</td>\n    </tr>\n    <tr>\n      <th>0</th>\n      <td>2024-05-26</td>\n      <td>2024-05-28</td>\n      <td>YouGov</td>\n      <td>20.0</td>\n      <td>47.0</td>\n      <td>9.0</td>\n      <td>lab+27.0</td>\n    </tr>\n    <tr>\n      <th>3</th>\n      <td>2024-05-23</td>\n      <td>2024-05-25</td>\n      <td>Deltapoll</td>\n      <td>23.0</td>\n      <td>45.0</td>\n      <td>9.0</td>\n      <td>lab+22.0</td>\n    </tr>\n    <tr>\n      <th>23</th>\n      <td>2024-05-08</td>\n      <td>2024-05-14</td>\n      <td>Ipsos MORI</td>\n      <td>20.0</td>\n      <td>41.0</td>\n      <td>11.0</td>\n      <td>lab+21.0</td>\n    </tr>\n    <tr>\n      <th>1</th>\n      <td>2024-05-25</td>\n      <td>2024-05-27</td>\n      <td>Redfield &amp; Wilton Strategies</td>\n      <td>23.0</td>\n      <td>46.0</td>\n      <td>9.0</td>\n      <td>lab+23.0</td>\n    </tr>\n    <tr>\n      <th>5</th>\n      <td>2024-05-23</td>\n      <td>2024-05-24</td>\n      <td>We Think</td>\n      <td>22.0</td>\n      <td>47.0</td>\n      <td>8.0</td>\n      <td>lab+25.0</td>\n    </tr>\n    <tr>\n      <th>8</th>\n      <td>2024-05-22</td>\n      <td>2024-05-23</td>\n      <td>Techne UK</td>\n      <td>19.0</td>\n      <td>45.0</td>\n      <td>12.0</td>\n      <td>lab+26.0</td>\n    </tr>\n    <tr>\n      <th>9</th>\n      <td>2024-05-22</td>\n      <td>2024-05-23</td>\n      <td>More in Common</td>\n      <td>27.0</td>\n      <td>44.0</td>\n      <td>9.0</td>\n      <td>lab+17.0</td>\n    </tr>\n    <tr>\n      <th>15</th>\n      <td>2024-05-17</td>\n      <td>2024-05-19</td>\n      <td>Savanta</td>\n      <td>26.0</td>\n      <td>43.0</td>\n      <td>10.0</td>\n      <td>lab+17.0</td>\n    </tr>\n    <tr>\n      <th>20</th>\n      <td>2024-05-15</td>\n      <td>2024-05-16</td>\n      <td>Whitestone Insight</td>\n      <td>24.0</td>\n      <td>44.0</td>\n      <td>8.0</td>\n      <td>lab+20.0</td>\n    </tr>\n    <tr>\n      <th>24</th>\n      <td>2024-05-09</td>\n      <td>2024-05-13</td>\n      <td>Lord Ashcroft Polls</td>\n      <td>22.0</td>\n      <td>45.0</td>\n      <td>8.0</td>\n      <td>lab+23.0</td>\n    </tr>\n    <tr>\n      <th>19</th>\n      <td>2024-05-16</td>\n      <td>2024-05-16</td>\n      <td>PeoplePolling</td>\n      <td>20.0</td>\n      <td>46.0</td>\n      <td>8.0</td>\n      <td>lab+26.0</td>\n    </tr>\n    <tr>\n      <th>50</th>\n      <td>2024-04-22</td>\n      <td>2024-04-23</td>\n      <td>BMG Research</td>\n      <td>25.0</td>\n      <td>41.0</td>\n      <td>9.0</td>\n      <td>lab+16.0</td>\n    </tr>\n    <tr>\n      <th>4</th>\n      <td>2024-05-24</td>\n      <td>2024-05-25</td>\n      <td>JL Partners</td>\n      <td>28.0</td>\n      <td>40.0</td>\n      <td>10.0</td>\n      <td>lab+12.0</td>\n    </tr>\n    <tr>\n      <th>42</th>\n      <td>2024-04-19</td>\n      <td>2024-04-29</td>\n      <td>Labour Together</td>\n      <td>22.0</td>\n      <td>44.0</td>\n      <td>10.0</td>\n      <td>lab+22.0</td>\n    </tr>\n    <tr>\n      <th>138</th>\n      <td>2024-01-24</td>\n      <td>2024-02-12</td>\n      <td>Find Out Now</td>\n      <td>22.0</td>\n      <td>42.0</td>\n      <td>11.0</td>\n      <td>lab+20.0</td>\n    </tr>\n    <tr>\n      <th>310</th>\n      <td>2023-08-31</td>\n      <td>2023-09-04</td>\n      <td>Verian</td>\n      <td>27.0</td>\n      <td>43.0</td>\n      <td>13.0</td>\n      <td>lab+16.0</td>\n    </tr>\n    <tr>\n      <th>535</th>\n      <td>2023-02-10</td>\n      <td>2023-02-12</td>\n      <td>FocalData</td>\n      <td>28.0</td>\n      <td>48.0</td>\n      <td>9.0</td>\n      <td>lab+20.0</td>\n    </tr>\n  </tbody>\n</table>\n</div>"
     },
     "metadata": {},
     "output_type": "display_data"
    },
    {
     "data": {
      "text/plain": "                  conservative         labour liberal_democrat lead  \\\nPolling Average      23.073772      44.616885         9.628717  NaN   \nPolling Range    17.9% - 28.3%  40.2% - 49.0%     7.3% - 12.0%  NaN   \n\n                    reform_uk         green     lead_value  \nPolling Average      10.72393      6.177683      21.543113  \nPolling Range    7.1% - 14.4%  2.2% - 10.1%  40.2% - 49.0%  ",
      "text/html": "<div>\n<style scoped>\n    .dataframe tbody tr th:only-of-type {\n        vertical-align: middle;\n    }\n\n    .dataframe tbody tr th {\n        vertical-align: top;\n    }\n\n    .dataframe thead th {\n        text-align: right;\n    }\n</style>\n<table border=\"1\" class=\"dataframe\">\n  <thead>\n    <tr style=\"text-align: right;\">\n      <th></th>\n      <th>conservative</th>\n      <th>labour</th>\n      <th>liberal_democrat</th>\n      <th>lead</th>\n      <th>reform_uk</th>\n      <th>green</th>\n      <th>lead_value</th>\n    </tr>\n  </thead>\n  <tbody>\n    <tr>\n      <th>Polling Average</th>\n      <td>23.073772</td>\n      <td>44.616885</td>\n      <td>9.628717</td>\n      <td>NaN</td>\n      <td>10.72393</td>\n      <td>6.177683</td>\n      <td>21.543113</td>\n    </tr>\n    <tr>\n      <th>Polling Range</th>\n      <td>17.9% - 28.3%</td>\n      <td>40.2% - 49.0%</td>\n      <td>7.3% - 12.0%</td>\n      <td>NaN</td>\n      <td>7.1% - 14.4%</td>\n      <td>2.2% - 10.1%</td>\n      <td>40.2% - 49.0%</td>\n    </tr>\n  </tbody>\n</table>\n</div>"
     },
     "metadata": {},
     "output_type": "display_data"
    },
    {
     "ename": "NameError",
     "evalue": "name 'monthly_summary' is not defined",
     "output_type": "error",
     "traceback": [
      "\u001B[1;31m---------------------------------------------------------------------------\u001B[0m",
      "\u001B[1;31mNameError\u001B[0m                                 Traceback (most recent call last)",
      "\u001B[1;32m~\\AppData\\Local\\Temp/ipykernel_41412/919666834.py\u001B[0m in \u001B[0;36m<module>\u001B[1;34m\u001B[0m\n\u001B[0;32m      1\u001B[0m \u001B[0mdisplay\u001B[0m\u001B[1;33m(\u001B[0m\u001B[0mpollsters_latest\u001B[0m\u001B[1;33m.\u001B[0m\u001B[0msort_values\u001B[0m\u001B[1;33m(\u001B[0m\u001B[0mby\u001B[0m\u001B[1;33m=\u001B[0m\u001B[1;34m'poll_weight'\u001B[0m\u001B[1;33m,\u001B[0m \u001B[0mascending\u001B[0m\u001B[1;33m=\u001B[0m\u001B[1;32mFalse\u001B[0m\u001B[1;33m)\u001B[0m\u001B[1;33m[\u001B[0m\u001B[0mdisplay_columns\u001B[0m\u001B[1;33m]\u001B[0m\u001B[1;33m)\u001B[0m\u001B[1;33m\u001B[0m\u001B[1;33m\u001B[0m\u001B[0m\n\u001B[0;32m      2\u001B[0m \u001B[0mdisplay\u001B[0m\u001B[1;33m(\u001B[0m\u001B[0mcurrent_average\u001B[0m\u001B[1;33m)\u001B[0m\u001B[1;33m\u001B[0m\u001B[1;33m\u001B[0m\u001B[0m\n\u001B[1;32m----> 3\u001B[1;33m \u001B[0mdisplay\u001B[0m\u001B[1;33m(\u001B[0m\u001B[0mmonthly_summary\u001B[0m\u001B[1;33m.\u001B[0m\u001B[0miloc\u001B[0m\u001B[1;33m[\u001B[0m\u001B[1;33m:\u001B[0m\u001B[1;36m0\u001B[0m\u001B[1;33m:\u001B[0m\u001B[1;33m-\u001B[0m\u001B[1;36m1\u001B[0m\u001B[1;33m]\u001B[0m\u001B[1;33m)\u001B[0m\u001B[1;33m\u001B[0m\u001B[1;33m\u001B[0m\u001B[0m\n\u001B[0m",
      "\u001B[1;31mNameError\u001B[0m: name 'monthly_summary' is not defined"
     ]
    }
   ],
   "source": [
    "display(pollsters_latest.sort_values(by='poll_weight', ascending=False)[display_columns])\n",
    "display(current_average)\n",
    "display(monthly_summary.iloc[:0:-1])"
   ]
  },
  {
   "cell_type": "code",
   "execution_count": 172,
   "metadata": {
    "ExecuteTime": {
     "end_time": "2024-05-29T13:08:46.024724800Z",
     "start_time": "2024-05-29T13:08:45.880786700Z"
    }
   },
   "outputs": [],
   "source": [
    "from html2image import Html2Image\n",
    "\n",
    "hti = Html2Image()"
   ]
  },
  {
   "cell_type": "code",
   "execution_count": 282,
   "metadata": {
    "ExecuteTime": {
     "end_time": "2024-05-29T14:36:16.805203600Z",
     "start_time": "2024-05-29T14:36:16.668643700Z"
    }
   },
   "outputs": [],
   "source": [
    "\n",
    "\n",
    "\n",
    "def result_to_opacity(result, range_min, range_max):\n",
    "    result_range = range_max - range_min\n",
    "    result_percent = (result - range_min)/result_range\n",
    "    result_256 = int(result_percent*255)\n",
    "    return f'{result_256:02x}'\n",
    "\n",
    "\n",
    "def add_background_colour_to_cells(df, lead_only=False):\n",
    "    from scripts.constants import party_colors, major_parties\n",
    "    background_df = df.copy()\n",
    "    \n",
    "    if 'Polling Range' in background_df.index:\n",
    "        for column in background_df.columns:\n",
    "            background_df[column] = ''\n",
    "        background_df.loc['Polling Range', 'lead_value'] = ''\n",
    "        \n",
    "        figs = df.loc['Polling Average', major_parties]\n",
    "        party_in_lead = list(figs[figs == figs.max()].index)[0]\n",
    "        color = party_colors[party_in_lead]\n",
    "        party_lead_value = df.loc['Polling Average', party_in_lead]\n",
    "        \n",
    "        background_df.loc['Polling Average', 'lead_value'] =  f'background-color: {color}{result_to_opacity(party_lead_value, 0 , party_lead_value)}'\n",
    "        return background_df\n",
    "    \n",
    "    max_party_lead = background_df['lead_value'].max()\n",
    "\n",
    "    for party in major_parties:\n",
    "        color = party_colors[party]\n",
    "        party_max = background_df[party].max()\n",
    "        party_min = background_df[party].min() - 0.5\n",
    "        if not lead_only:\n",
    "            background_df[party] = background_df[party].apply(\n",
    "                lambda x: f'background-color: {color}{result_to_opacity(x, party_min, party_max)}'\n",
    "            )\n",
    "        else:\n",
    "            background_df[party] = ''\n",
    "        party_in_lead_mask = df[party] == df[major_parties].max(axis=1)\n",
    "        background_df.loc[party_in_lead_mask, 'lead_value'] = df['lead_value'].apply(\n",
    "            lambda x: f'background-color: {color}{result_to_opacity(x, 0, max_party_lead)}'\n",
    "        )\n",
    "\n",
    "    if reporting_date in background_df.columns:\n",
    "        background_df[reporting_date] = background_df[reporting_date].apply(get_recency_weight,\n",
    "                                                                            current_date=most_recent_date)\n",
    "        background_df[reporting_date] = background_df[reporting_date].apply(\n",
    "            lambda x: f'background-color: #A9D08E{result_to_opacity(x, 0, 100)}'\n",
    "        )\n",
    "\n",
    "    for column in background_df.columns:\n",
    "        if not (column in major_parties or column in ['lead_value', reporting_date]):\n",
    "            background_df[column] = ''\n",
    "    return background_df"
   ]
  },
  {
   "cell_type": "code",
   "execution_count": 283,
   "metadata": {
    "ExecuteTime": {
     "end_time": "2024-05-29T14:36:17.204250Z",
     "start_time": "2024-05-29T14:36:17.088881700Z"
    }
   },
   "outputs": [],
   "source": [
    "import numpy as np\n",
    "def polls_to_html(dataframe, title, highlight_party_columns=True, precision=0):\n",
    "    dataframe.index.name = 'id'\n",
    "    table_id = '_'.join(title.split(' ')).lower()\n",
    "\n",
    "    from pandas.io.formats.style import Styler\n",
    "    #styler = dataframe.style\n",
    "    styler = Styler(dataframe, uuid=table_id, cell_ids=True)\n",
    "\n",
    "    styler.apply(add_background_colour_to_cells, axis=None,\n",
    "                 lead_only=not (highlight_party_columns))\n",
    "    \n",
    "    \n",
    "    styler.format({\n",
    "        \"pollster\": lambda x: f\"{x}\",\n",
    "        \"pollster_count\": lambda x: f\"{x}\",\n",
    "        \"poll_count\": lambda x: f\"{x}\",\n",
    "        \"conservative\": lambda x: f\"{x:.{precision}f}%\" if type(x) == np.float64 else x,\n",
    "        \"labour\": lambda x: f\"{x:.{precision}f}%\" if type(x) == np.float64 else x,\n",
    "        \"liberal_democrat\": lambda x: f\"{x:.{precision}f}%\" if type(x) == np.float64 else x,\n",
    "        \"lead_value\": lambda x: f\"{x:.{precision}f}%\" if type(x) == np.float64 else x,\n",
    "        reporting_date: lambda x: f\"{x:%d-%b}\",\n",
    "        'poll_month': lambda x: f\"{x:%b-%y}\",\n",
    "        'poll_weight': lambda x: f\"{x:.0f}\",\n",
    "    })\n",
    "    \n",
    "    \n",
    "\n",
    "    styler.set_table_attributes(f'id=\"{table_id}\"')\n",
    "    styler.hide_index()\n",
    "\n",
    "    # classes = pd.DataFrame([['_'.join(x.split(' ')).lower() for x in dataframe.columns]]\n",
    "    #                        , index=dataframe.index, columns=dataframe.columns)\n",
    "    #\n",
    "    # styler.set_td_classes(classes)\n",
    "\n",
    "    #styler.set_caption(title)\n",
    "    styler.set_properties(**{'min-width': '10px', 'font-size': '12pt', 'text-align': 'center'})\n",
    "\n",
    "    caption_format = {'selector': 'caption',\n",
    "                      'props': [('text-align', 'center'), ('font-size', '20pt'), ('color', 'black'),\n",
    "                                ('padding-bottom', '15')]}\n",
    "    all_cells = {'selector': '', 'props': [('margin', '0 auto'), ('width', '100%')]}\n",
    "    date_col = {'selector': '.col0', 'props': [('text-align', 'left')]}\n",
    "\n",
    "    styles = [all_cells, date_col, caption_format]\n",
    "\n",
    "    if 'poll_weight' in dataframe.columns:\n",
    "        styles.append({'selector': '.col2', 'props': [('color', '#AAA')]})\n",
    "\n",
    "    df_as_html = styler.set_table_styles(styles).render()\n",
    "\n",
    "    for col in range(0, len(dataframe.columns)):\n",
    "        df_as_html = df_as_html.replace(f'col{col}', dataframe.columns[col])\n",
    "\n",
    "    df_as_html = (df_as_html\n",
    "                  .replace('>poll_count', '>Polls')\n",
    "                  .replace('>pollster_count', '>Pollsters')\n",
    "                  .replace('>conservative', '>Conservatives')\n",
    "                  .replace('>labour', '>Labour')\n",
    "                  .replace('>liberal_democrat', '>Lib Dem')\n",
    "                  .replace('>lead_value', '>Lead')\n",
    "                  .replace(f'>{reporting_date}', '>Date')\n",
    "                  .replace('>poll_month', '>Month')\n",
    "                  .replace('>pollster', '>Pollster')\n",
    "                  .replace('>poll_weight', '>w')\n",
    "                  )\n",
    "    return df_as_html"
   ]
  },
  {
   "cell_type": "code",
   "execution_count": 269,
   "outputs": [],
   "source": [
    "from IPython.display import HTML, display, IFrame"
   ],
   "metadata": {
    "collapsed": false,
    "ExecuteTime": {
     "end_time": "2024-05-29T14:27:13.335184500Z",
     "start_time": "2024-05-29T14:27:13.210468900Z"
    }
   }
  },
  {
   "cell_type": "code",
   "execution_count": 286,
   "outputs": [
    {
     "data": {
      "text/plain": "float"
     },
     "execution_count": 286,
     "metadata": {},
     "output_type": "execute_result"
    }
   ],
   "source": [
    "type(current_average.loc['Polling Average', 'lead_value'])"
   ],
   "metadata": {
    "collapsed": false,
    "ExecuteTime": {
     "end_time": "2024-05-29T14:37:49.874093600Z",
     "start_time": "2024-05-29T14:37:49.744206300Z"
    }
   }
  },
  {
   "cell_type": "code",
   "execution_count": 284,
   "outputs": [
    {
     "data": {
      "text/plain": "'<style type=\"text/css\">\\n#T_polling_average_  {\\n  margin: 0 auto;\\n  width: 100%;\\n}\\n#T_polling_average_ .conservative {\\n  text-align: left;\\n}\\n#T_polling_average_ caption {\\n  text-align: center;\\n  font-size: 20pt;\\n  color: black;\\n  padding-bottom: 15;\\n}\\n#T_polling_average_row0_conservative, #T_polling_average_row0_labour, #T_polling_average_row0_liberal_democrat, #T_polling_average_row0_green, #T_polling_average_row1_conservative, #T_polling_average_row1_labour, #T_polling_average_row1_liberal_democrat, #T_polling_average_row1_green, #T_polling_average_row1_lead_value {\\n  min-width: 10px;\\n  font-size: 12pt;\\n  text-align: center;\\n}\\n#T_polling_average_row0_lead_value {\\n  background-color: #DC241Fff;\\n  min-width: 10px;\\n  font-size: 12pt;\\n  text-align: center;\\n}\\n</style>\\n<table id=\"T_polling_average_\" id=\"polling_average\">\\n  <thead>\\n    <tr>\\n      <th class=\"col_heading level0 conservative\" >Conservatives</th>\\n      <th class=\"col_heading level0 labour\" >Labour</th>\\n      <th class=\"col_heading level0 liberal_democrat\" >Lib Dem</th>\\n      <th class=\"col_heading level0 green\" >green</th>\\n      <th class=\"col_heading level0 lead_value\" >Lead</th>\\n    </tr>\\n  </thead>\\n  <tbody>\\n    <tr>\\n      <td id=\"T_polling_average_row0_conservative\" class=\"data row0 conservative\" >23.1%</td>\\n      <td id=\"T_polling_average_row0_labour\" class=\"data row0 labour\" >44.6%</td>\\n      <td id=\"T_polling_average_row0_liberal_democrat\" class=\"data row0 liberal_democrat\" >9.6%</td>\\n      <td id=\"T_polling_average_row0_green\" class=\"data row0 green\" >6.177683</td>\\n      <td id=\"T_polling_average_row0_lead_value\" class=\"data row0 lead_value\" >21.54311316560455</td>\\n    </tr>\\n    <tr>\\n      <td id=\"T_polling_average_row1_conservative\" class=\"data row1 conservative\" >17.9% - 28.3%</td>\\n      <td id=\"T_polling_average_row1_labour\" class=\"data row1 labour\" >40.2% - 49.0%</td>\\n      <td id=\"T_polling_average_row1_liberal_democrat\" class=\"data row1 liberal_democrat\" >7.3% - 12.0%</td>\\n      <td id=\"T_polling_average_row1_green\" class=\"data row1 green\" >2.2% - 10.1%</td>\\n      <td id=\"T_polling_average_row1_lead_value\" class=\"data row1 lead_value\" ></td>\\n    </tr>\\n  </tbody>\\n</table>\\n'"
     },
     "metadata": {},
     "output_type": "display_data"
    }
   ],
   "source": [
    "display(polls_to_html(current_average[['conservative', 'labour', 'liberal_democrat', 'green', 'lead_value']],\n",
    "                                title='Polling Average', highlight_party_columns=False, precision=1))"
   ],
   "metadata": {
    "collapsed": false,
    "ExecuteTime": {
     "end_time": "2024-05-29T14:36:18.612519600Z",
     "start_time": "2024-05-29T14:36:18.481306900Z"
    }
   }
  },
  {
   "cell_type": "code",
   "execution_count": null,
   "outputs": [],
   "source": [],
   "metadata": {
    "collapsed": false
   }
  },
  {
   "cell_type": "code",
   "execution_count": 175,
   "metadata": {
    "ExecuteTime": {
     "end_time": "2024-05-29T13:08:48.577864800Z",
     "start_time": "2024-05-29T13:08:48.430739300Z"
    }
   },
   "outputs": [],
   "source": [
    "display_columns = [reporting_date, 'pollster', 'conservative', 'labour', 'liberal_democrat', 'lead_value']\n",
    "top_25_html = polls_to_html(all_polls[display_columns][0:25], title='Last 25 Polls')"
   ]
  },
  {
   "cell_type": "code",
   "execution_count": 176,
   "metadata": {
    "ExecuteTime": {
     "end_time": "2024-05-29T13:08:49.311703700Z",
     "start_time": "2024-05-29T13:08:49.097009700Z"
    }
   },
   "outputs": [],
   "source": [
    "display_columns = ['pollster', reporting_date, 'poll_weight', 'conservative', 'labour', 'liberal_democrat',\n",
    "                   'lead_value']\n",
    "df = pollsters_latest.sort_values(by='poll_weight', ascending=False)[display_columns]\n",
    "pollsters_recent = polls_to_html(df, title='Latest Polls', highlight_party_columns=False)"
   ]
  },
  {
   "cell_type": "code",
   "execution_count": 177,
   "metadata": {
    "ExecuteTime": {
     "end_time": "2024-05-29T13:08:51.258592600Z",
     "start_time": "2024-05-29T13:08:51.091292300Z"
    }
   },
   "outputs": [
    {
     "ename": "NameError",
     "evalue": "name 'monthly_summary' is not defined",
     "output_type": "error",
     "traceback": [
      "\u001B[1;31m---------------------------------------------------------------------------\u001B[0m",
      "\u001B[1;31mNameError\u001B[0m                                 Traceback (most recent call last)",
      "\u001B[1;32m~\\AppData\\Local\\Temp/ipykernel_41412/2010064881.py\u001B[0m in \u001B[0;36m<module>\u001B[1;34m\u001B[0m\n\u001B[0;32m      1\u001B[0m display_columns = ['poll_month', 'pollster_count', 'poll_count', 'conservative', 'labour', 'liberal_democrat',\n\u001B[0;32m      2\u001B[0m                    'lead_value']\n\u001B[1;32m----> 3\u001B[1;33m \u001B[0mdf\u001B[0m \u001B[1;33m=\u001B[0m \u001B[0mmonthly_summary\u001B[0m\u001B[1;33m.\u001B[0m\u001B[0mreset_index\u001B[0m\u001B[1;33m(\u001B[0m\u001B[1;33m)\u001B[0m\u001B[1;33m[\u001B[0m\u001B[0mdisplay_columns\u001B[0m\u001B[1;33m]\u001B[0m\u001B[1;33m.\u001B[0m\u001B[0miloc\u001B[0m\u001B[1;33m[\u001B[0m\u001B[1;33m:\u001B[0m\u001B[1;36m0\u001B[0m\u001B[1;33m:\u001B[0m\u001B[1;33m-\u001B[0m\u001B[1;36m1\u001B[0m\u001B[1;33m]\u001B[0m\u001B[1;33m\u001B[0m\u001B[1;33m\u001B[0m\u001B[0m\n\u001B[0m\u001B[0;32m      4\u001B[0m \u001B[0mmonthly_averages\u001B[0m \u001B[1;33m=\u001B[0m \u001B[0mpolls_to_html\u001B[0m\u001B[1;33m(\u001B[0m\u001B[0mdf\u001B[0m\u001B[1;33m,\u001B[0m \u001B[0mtitle\u001B[0m\u001B[1;33m=\u001B[0m\u001B[1;34m'Monthly Poll Average'\u001B[0m\u001B[1;33m,\u001B[0m \u001B[0mhighlight_party_columns\u001B[0m\u001B[1;33m=\u001B[0m\u001B[1;32mTrue\u001B[0m\u001B[1;33m,\u001B[0m \u001B[0mprecision\u001B[0m\u001B[1;33m=\u001B[0m\u001B[1;36m1\u001B[0m\u001B[1;33m)\u001B[0m\u001B[1;33m\u001B[0m\u001B[1;33m\u001B[0m\u001B[0m\n",
      "\u001B[1;31mNameError\u001B[0m: name 'monthly_summary' is not defined"
     ]
    }
   ],
   "source": [
    "display_columns = ['poll_month', 'pollster_count', 'poll_count', 'conservative', 'labour', 'liberal_democrat',\n",
    "                   'lead_value']\n",
    "df = monthly_summary.reset_index()[display_columns].iloc[:0:-1]\n",
    "monthly_averages = polls_to_html(df, title='Monthly Poll Average', highlight_party_columns=True, precision=1)"
   ]
  },
  {
   "cell_type": "code",
   "execution_count": 178,
   "metadata": {
    "ExecuteTime": {
     "end_time": "2024-05-29T13:08:54.949740500Z",
     "start_time": "2024-05-29T13:08:54.802095100Z"
    }
   },
   "outputs": [
    {
     "ename": "TypeError",
     "evalue": "'>=' not supported between instances of 'float' and 'str'",
     "output_type": "error",
     "traceback": [
      "\u001B[1;31m---------------------------------------------------------------------------\u001B[0m",
      "\u001B[1;31mTypeError\u001B[0m                                 Traceback (most recent call last)",
      "\u001B[1;32m~\\AppData\\Local\\Temp/ipykernel_41412/665961373.py\u001B[0m in \u001B[0;36m<module>\u001B[1;34m\u001B[0m\n\u001B[1;32m----> 1\u001B[1;33m polling_average = polls_to_html(current_average[['conservative', 'labour', 'liberal_democrat', 'lead_value']],\n\u001B[0m\u001B[0;32m      2\u001B[0m                                 title='Polling Average', highlight_party_columns=False, precision=1)\n",
      "\u001B[1;32m~\\AppData\\Local\\Temp/ipykernel_41412/3814613570.py\u001B[0m in \u001B[0;36mpolls_to_html\u001B[1;34m(dataframe, title, highlight_party_columns, precision)\u001B[0m\n\u001B[0;32m     45\u001B[0m         \u001B[0mstyles\u001B[0m\u001B[1;33m.\u001B[0m\u001B[0mappend\u001B[0m\u001B[1;33m(\u001B[0m\u001B[1;33m{\u001B[0m\u001B[1;34m'selector'\u001B[0m\u001B[1;33m:\u001B[0m \u001B[1;34m'.col2'\u001B[0m\u001B[1;33m,\u001B[0m \u001B[1;34m'props'\u001B[0m\u001B[1;33m:\u001B[0m \u001B[1;33m[\u001B[0m\u001B[1;33m(\u001B[0m\u001B[1;34m'color'\u001B[0m\u001B[1;33m,\u001B[0m \u001B[1;34m'#AAA'\u001B[0m\u001B[1;33m)\u001B[0m\u001B[1;33m]\u001B[0m\u001B[1;33m}\u001B[0m\u001B[1;33m)\u001B[0m\u001B[1;33m\u001B[0m\u001B[1;33m\u001B[0m\u001B[0m\n\u001B[0;32m     46\u001B[0m \u001B[1;33m\u001B[0m\u001B[0m\n\u001B[1;32m---> 47\u001B[1;33m     \u001B[0mdf_as_html\u001B[0m \u001B[1;33m=\u001B[0m \u001B[0mstyler\u001B[0m\u001B[1;33m.\u001B[0m\u001B[0mset_table_styles\u001B[0m\u001B[1;33m(\u001B[0m\u001B[0mstyles\u001B[0m\u001B[1;33m)\u001B[0m\u001B[1;33m.\u001B[0m\u001B[0mrender\u001B[0m\u001B[1;33m(\u001B[0m\u001B[1;33m)\u001B[0m\u001B[1;33m\u001B[0m\u001B[1;33m\u001B[0m\u001B[0m\n\u001B[0m\u001B[0;32m     48\u001B[0m \u001B[1;33m\u001B[0m\u001B[0m\n\u001B[0;32m     49\u001B[0m     \u001B[1;32mfor\u001B[0m \u001B[0mcol\u001B[0m \u001B[1;32min\u001B[0m \u001B[0mrange\u001B[0m\u001B[1;33m(\u001B[0m\u001B[1;36m0\u001B[0m\u001B[1;33m,\u001B[0m \u001B[0mlen\u001B[0m\u001B[1;33m(\u001B[0m\u001B[0mdataframe\u001B[0m\u001B[1;33m.\u001B[0m\u001B[0mcolumns\u001B[0m\u001B[1;33m)\u001B[0m\u001B[1;33m)\u001B[0m\u001B[1;33m:\u001B[0m\u001B[1;33m\u001B[0m\u001B[1;33m\u001B[0m\u001B[0m\n",
      "\u001B[1;32md:\\projects\\software\\python\\polls\\venv\\lib\\site-packages\\pandas\\io\\formats\\style.py\u001B[0m in \u001B[0;36mrender\u001B[1;34m(self, sparse_index, sparse_columns, **kwargs)\u001B[0m\n\u001B[0;32m    270\u001B[0m         \u001B[1;32mif\u001B[0m \u001B[0msparse_columns\u001B[0m \u001B[1;32mis\u001B[0m \u001B[1;32mNone\u001B[0m\u001B[1;33m:\u001B[0m\u001B[1;33m\u001B[0m\u001B[1;33m\u001B[0m\u001B[0m\n\u001B[0;32m    271\u001B[0m             \u001B[0msparse_columns\u001B[0m \u001B[1;33m=\u001B[0m \u001B[0mget_option\u001B[0m\u001B[1;33m(\u001B[0m\u001B[1;34m\"styler.sparse.columns\"\u001B[0m\u001B[1;33m)\u001B[0m\u001B[1;33m\u001B[0m\u001B[1;33m\u001B[0m\u001B[0m\n\u001B[1;32m--> 272\u001B[1;33m         \u001B[1;32mreturn\u001B[0m \u001B[0mself\u001B[0m\u001B[1;33m.\u001B[0m\u001B[0m_render_html\u001B[0m\u001B[1;33m(\u001B[0m\u001B[0msparse_index\u001B[0m\u001B[1;33m,\u001B[0m \u001B[0msparse_columns\u001B[0m\u001B[1;33m,\u001B[0m \u001B[1;33m**\u001B[0m\u001B[0mkwargs\u001B[0m\u001B[1;33m)\u001B[0m\u001B[1;33m\u001B[0m\u001B[1;33m\u001B[0m\u001B[0m\n\u001B[0m\u001B[0;32m    273\u001B[0m \u001B[1;33m\u001B[0m\u001B[0m\n\u001B[0;32m    274\u001B[0m     def set_tooltips(\n",
      "\u001B[1;32md:\\projects\\software\\python\\polls\\venv\\lib\\site-packages\\pandas\\io\\formats\\style_render.py\u001B[0m in \u001B[0;36m_render_html\u001B[1;34m(self, sparse_index, sparse_columns, **kwargs)\u001B[0m\n\u001B[0;32m    119\u001B[0m         \u001B[0mGenerates\u001B[0m \u001B[0ma\u001B[0m \u001B[0mdict\u001B[0m \u001B[1;32mwith\u001B[0m \u001B[0mnecessary\u001B[0m \u001B[0mkwargs\u001B[0m \u001B[0mpassed\u001B[0m \u001B[0mto\u001B[0m \u001B[0mjinja2\u001B[0m \u001B[0mtemplate\u001B[0m\u001B[1;33m.\u001B[0m\u001B[1;33m\u001B[0m\u001B[1;33m\u001B[0m\u001B[0m\n\u001B[0;32m    120\u001B[0m         \"\"\"\n\u001B[1;32m--> 121\u001B[1;33m         \u001B[0mself\u001B[0m\u001B[1;33m.\u001B[0m\u001B[0m_compute\u001B[0m\u001B[1;33m(\u001B[0m\u001B[1;33m)\u001B[0m\u001B[1;33m\u001B[0m\u001B[1;33m\u001B[0m\u001B[0m\n\u001B[0m\u001B[0;32m    122\u001B[0m         \u001B[1;31m# TODO: namespace all the pandas keys\u001B[0m\u001B[1;33m\u001B[0m\u001B[1;33m\u001B[0m\u001B[0m\n\u001B[0;32m    123\u001B[0m         \u001B[0md\u001B[0m \u001B[1;33m=\u001B[0m \u001B[0mself\u001B[0m\u001B[1;33m.\u001B[0m\u001B[0m_translate\u001B[0m\u001B[1;33m(\u001B[0m\u001B[0msparse_index\u001B[0m\u001B[1;33m,\u001B[0m \u001B[0msparse_columns\u001B[0m\u001B[1;33m)\u001B[0m\u001B[1;33m\u001B[0m\u001B[1;33m\u001B[0m\u001B[0m\n",
      "\u001B[1;32md:\\projects\\software\\python\\polls\\venv\\lib\\site-packages\\pandas\\io\\formats\\style_render.py\u001B[0m in \u001B[0;36m_compute\u001B[1;34m(self)\u001B[0m\n\u001B[0;32m    158\u001B[0m         \u001B[0mr\u001B[0m \u001B[1;33m=\u001B[0m \u001B[0mself\u001B[0m\u001B[1;33m\u001B[0m\u001B[1;33m\u001B[0m\u001B[0m\n\u001B[0;32m    159\u001B[0m         \u001B[1;32mfor\u001B[0m \u001B[0mfunc\u001B[0m\u001B[1;33m,\u001B[0m \u001B[0margs\u001B[0m\u001B[1;33m,\u001B[0m \u001B[0mkwargs\u001B[0m \u001B[1;32min\u001B[0m \u001B[0mself\u001B[0m\u001B[1;33m.\u001B[0m\u001B[0m_todo\u001B[0m\u001B[1;33m:\u001B[0m\u001B[1;33m\u001B[0m\u001B[1;33m\u001B[0m\u001B[0m\n\u001B[1;32m--> 160\u001B[1;33m             \u001B[0mr\u001B[0m \u001B[1;33m=\u001B[0m \u001B[0mfunc\u001B[0m\u001B[1;33m(\u001B[0m\u001B[0mself\u001B[0m\u001B[1;33m)\u001B[0m\u001B[1;33m(\u001B[0m\u001B[1;33m*\u001B[0m\u001B[0margs\u001B[0m\u001B[1;33m,\u001B[0m \u001B[1;33m**\u001B[0m\u001B[0mkwargs\u001B[0m\u001B[1;33m)\u001B[0m\u001B[1;33m\u001B[0m\u001B[1;33m\u001B[0m\u001B[0m\n\u001B[0m\u001B[0;32m    161\u001B[0m         \u001B[1;32mreturn\u001B[0m \u001B[0mr\u001B[0m\u001B[1;33m\u001B[0m\u001B[1;33m\u001B[0m\u001B[0m\n\u001B[0;32m    162\u001B[0m \u001B[1;33m\u001B[0m\u001B[0m\n",
      "\u001B[1;32md:\\projects\\software\\python\\polls\\venv\\lib\\site-packages\\pandas\\io\\formats\\style.py\u001B[0m in \u001B[0;36m_apply\u001B[1;34m(self, func, axis, subset, **kwargs)\u001B[0m\n\u001B[0;32m   1056\u001B[0m             \u001B[0mresult\u001B[0m\u001B[1;33m.\u001B[0m\u001B[0mcolumns\u001B[0m \u001B[1;33m=\u001B[0m \u001B[0mdata\u001B[0m\u001B[1;33m.\u001B[0m\u001B[0mcolumns\u001B[0m\u001B[1;33m\u001B[0m\u001B[1;33m\u001B[0m\u001B[0m\n\u001B[0;32m   1057\u001B[0m         \u001B[1;32melse\u001B[0m\u001B[1;33m:\u001B[0m\u001B[1;33m\u001B[0m\u001B[1;33m\u001B[0m\u001B[0m\n\u001B[1;32m-> 1058\u001B[1;33m             \u001B[0mresult\u001B[0m \u001B[1;33m=\u001B[0m \u001B[0mfunc\u001B[0m\u001B[1;33m(\u001B[0m\u001B[0mdata\u001B[0m\u001B[1;33m,\u001B[0m \u001B[1;33m**\u001B[0m\u001B[0mkwargs\u001B[0m\u001B[1;33m)\u001B[0m\u001B[1;33m\u001B[0m\u001B[1;33m\u001B[0m\u001B[0m\n\u001B[0m\u001B[0;32m   1059\u001B[0m             \u001B[1;32mif\u001B[0m \u001B[1;32mnot\u001B[0m \u001B[0misinstance\u001B[0m\u001B[1;33m(\u001B[0m\u001B[0mresult\u001B[0m\u001B[1;33m,\u001B[0m \u001B[0mDataFrame\u001B[0m\u001B[1;33m)\u001B[0m\u001B[1;33m:\u001B[0m\u001B[1;33m\u001B[0m\u001B[1;33m\u001B[0m\u001B[0m\n\u001B[0;32m   1060\u001B[0m                 \u001B[1;32mif\u001B[0m \u001B[1;32mnot\u001B[0m \u001B[0misinstance\u001B[0m\u001B[1;33m(\u001B[0m\u001B[0mresult\u001B[0m\u001B[1;33m,\u001B[0m \u001B[0mnp\u001B[0m\u001B[1;33m.\u001B[0m\u001B[0mndarray\u001B[0m\u001B[1;33m)\u001B[0m\u001B[1;33m:\u001B[0m\u001B[1;33m\u001B[0m\u001B[1;33m\u001B[0m\u001B[0m\n",
      "\u001B[1;32m~\\AppData\\Local\\Temp/ipykernel_41412/680293651.py\u001B[0m in \u001B[0;36madd_background_colour_to_cells\u001B[1;34m(df, lead_only)\u001B[0m\n\u001B[0;32m      9\u001B[0m     \u001B[1;32mfrom\u001B[0m \u001B[0mscripts\u001B[0m\u001B[1;33m.\u001B[0m\u001B[0mconstants\u001B[0m \u001B[1;32mimport\u001B[0m \u001B[0mparty_colors\u001B[0m\u001B[1;33m,\u001B[0m \u001B[0mmajor_parties\u001B[0m\u001B[1;33m\u001B[0m\u001B[1;33m\u001B[0m\u001B[0m\n\u001B[0;32m     10\u001B[0m     \u001B[0mbackground_df\u001B[0m \u001B[1;33m=\u001B[0m \u001B[0mdf\u001B[0m\u001B[1;33m.\u001B[0m\u001B[0mcopy\u001B[0m\u001B[1;33m(\u001B[0m\u001B[1;33m)\u001B[0m\u001B[1;33m\u001B[0m\u001B[1;33m\u001B[0m\u001B[0m\n\u001B[1;32m---> 11\u001B[1;33m     \u001B[0mmax_party_lead\u001B[0m \u001B[1;33m=\u001B[0m \u001B[0mbackground_df\u001B[0m\u001B[1;33m[\u001B[0m\u001B[1;34m'lead_value'\u001B[0m\u001B[1;33m]\u001B[0m\u001B[1;33m.\u001B[0m\u001B[0mmax\u001B[0m\u001B[1;33m(\u001B[0m\u001B[1;33m)\u001B[0m\u001B[1;33m\u001B[0m\u001B[1;33m\u001B[0m\u001B[0m\n\u001B[0m\u001B[0;32m     12\u001B[0m \u001B[1;33m\u001B[0m\u001B[0m\n\u001B[0;32m     13\u001B[0m     \u001B[1;32mfor\u001B[0m \u001B[0mparty\u001B[0m \u001B[1;32min\u001B[0m \u001B[0mmajor_parties\u001B[0m\u001B[1;33m:\u001B[0m\u001B[1;33m\u001B[0m\u001B[1;33m\u001B[0m\u001B[0m\n",
      "\u001B[1;32md:\\projects\\software\\python\\polls\\venv\\lib\\site-packages\\pandas\\core\\generic.py\u001B[0m in \u001B[0;36mmax\u001B[1;34m(self, axis, skipna, level, numeric_only, **kwargs)\u001B[0m\n\u001B[0;32m  10817\u001B[0m         )\n\u001B[0;32m  10818\u001B[0m         \u001B[1;32mdef\u001B[0m \u001B[0mmax\u001B[0m\u001B[1;33m(\u001B[0m\u001B[0mself\u001B[0m\u001B[1;33m,\u001B[0m \u001B[0maxis\u001B[0m\u001B[1;33m=\u001B[0m\u001B[1;32mNone\u001B[0m\u001B[1;33m,\u001B[0m \u001B[0mskipna\u001B[0m\u001B[1;33m=\u001B[0m\u001B[1;32mNone\u001B[0m\u001B[1;33m,\u001B[0m \u001B[0mlevel\u001B[0m\u001B[1;33m=\u001B[0m\u001B[1;32mNone\u001B[0m\u001B[1;33m,\u001B[0m \u001B[0mnumeric_only\u001B[0m\u001B[1;33m=\u001B[0m\u001B[1;32mNone\u001B[0m\u001B[1;33m,\u001B[0m \u001B[1;33m**\u001B[0m\u001B[0mkwargs\u001B[0m\u001B[1;33m)\u001B[0m\u001B[1;33m:\u001B[0m\u001B[1;33m\u001B[0m\u001B[1;33m\u001B[0m\u001B[0m\n\u001B[1;32m> 10819\u001B[1;33m             \u001B[1;32mreturn\u001B[0m \u001B[0mNDFrame\u001B[0m\u001B[1;33m.\u001B[0m\u001B[0mmax\u001B[0m\u001B[1;33m(\u001B[0m\u001B[0mself\u001B[0m\u001B[1;33m,\u001B[0m \u001B[0maxis\u001B[0m\u001B[1;33m,\u001B[0m \u001B[0mskipna\u001B[0m\u001B[1;33m,\u001B[0m \u001B[0mlevel\u001B[0m\u001B[1;33m,\u001B[0m \u001B[0mnumeric_only\u001B[0m\u001B[1;33m,\u001B[0m \u001B[1;33m**\u001B[0m\u001B[0mkwargs\u001B[0m\u001B[1;33m)\u001B[0m\u001B[1;33m\u001B[0m\u001B[1;33m\u001B[0m\u001B[0m\n\u001B[0m\u001B[0;32m  10820\u001B[0m \u001B[1;33m\u001B[0m\u001B[0m\n\u001B[0;32m  10821\u001B[0m         \u001B[0msetattr\u001B[0m\u001B[1;33m(\u001B[0m\u001B[0mcls\u001B[0m\u001B[1;33m,\u001B[0m \u001B[1;34m\"max\"\u001B[0m\u001B[1;33m,\u001B[0m \u001B[0mmax\u001B[0m\u001B[1;33m)\u001B[0m\u001B[1;33m\u001B[0m\u001B[1;33m\u001B[0m\u001B[0m\n",
      "\u001B[1;32md:\\projects\\software\\python\\polls\\venv\\lib\\site-packages\\pandas\\core\\generic.py\u001B[0m in \u001B[0;36mmax\u001B[1;34m(self, axis, skipna, level, numeric_only, **kwargs)\u001B[0m\n\u001B[0;32m  10362\u001B[0m \u001B[1;33m\u001B[0m\u001B[0m\n\u001B[0;32m  10363\u001B[0m     \u001B[1;32mdef\u001B[0m \u001B[0mmax\u001B[0m\u001B[1;33m(\u001B[0m\u001B[0mself\u001B[0m\u001B[1;33m,\u001B[0m \u001B[0maxis\u001B[0m\u001B[1;33m=\u001B[0m\u001B[1;32mNone\u001B[0m\u001B[1;33m,\u001B[0m \u001B[0mskipna\u001B[0m\u001B[1;33m=\u001B[0m\u001B[1;32mNone\u001B[0m\u001B[1;33m,\u001B[0m \u001B[0mlevel\u001B[0m\u001B[1;33m=\u001B[0m\u001B[1;32mNone\u001B[0m\u001B[1;33m,\u001B[0m \u001B[0mnumeric_only\u001B[0m\u001B[1;33m=\u001B[0m\u001B[1;32mNone\u001B[0m\u001B[1;33m,\u001B[0m \u001B[1;33m**\u001B[0m\u001B[0mkwargs\u001B[0m\u001B[1;33m)\u001B[0m\u001B[1;33m:\u001B[0m\u001B[1;33m\u001B[0m\u001B[1;33m\u001B[0m\u001B[0m\n\u001B[1;32m> 10364\u001B[1;33m         return self._stat_function(\n\u001B[0m\u001B[0;32m  10365\u001B[0m             \u001B[1;34m\"max\"\u001B[0m\u001B[1;33m,\u001B[0m \u001B[0mnanops\u001B[0m\u001B[1;33m.\u001B[0m\u001B[0mnanmax\u001B[0m\u001B[1;33m,\u001B[0m \u001B[0maxis\u001B[0m\u001B[1;33m,\u001B[0m \u001B[0mskipna\u001B[0m\u001B[1;33m,\u001B[0m \u001B[0mlevel\u001B[0m\u001B[1;33m,\u001B[0m \u001B[0mnumeric_only\u001B[0m\u001B[1;33m,\u001B[0m \u001B[1;33m**\u001B[0m\u001B[0mkwargs\u001B[0m\u001B[1;33m\u001B[0m\u001B[1;33m\u001B[0m\u001B[0m\n\u001B[0;32m  10366\u001B[0m         )\n",
      "\u001B[1;32md:\\projects\\software\\python\\polls\\venv\\lib\\site-packages\\pandas\\core\\generic.py\u001B[0m in \u001B[0;36m_stat_function\u001B[1;34m(self, name, func, axis, skipna, level, numeric_only, **kwargs)\u001B[0m\n\u001B[0;32m  10352\u001B[0m                 \u001B[0mname\u001B[0m\u001B[1;33m,\u001B[0m \u001B[0maxis\u001B[0m\u001B[1;33m=\u001B[0m\u001B[0maxis\u001B[0m\u001B[1;33m,\u001B[0m \u001B[0mlevel\u001B[0m\u001B[1;33m=\u001B[0m\u001B[0mlevel\u001B[0m\u001B[1;33m,\u001B[0m \u001B[0mskipna\u001B[0m\u001B[1;33m=\u001B[0m\u001B[0mskipna\u001B[0m\u001B[1;33m,\u001B[0m \u001B[0mnumeric_only\u001B[0m\u001B[1;33m=\u001B[0m\u001B[0mnumeric_only\u001B[0m\u001B[1;33m\u001B[0m\u001B[1;33m\u001B[0m\u001B[0m\n\u001B[0;32m  10353\u001B[0m             )\n\u001B[1;32m> 10354\u001B[1;33m         return self._reduce(\n\u001B[0m\u001B[0;32m  10355\u001B[0m             \u001B[0mfunc\u001B[0m\u001B[1;33m,\u001B[0m \u001B[0mname\u001B[0m\u001B[1;33m=\u001B[0m\u001B[0mname\u001B[0m\u001B[1;33m,\u001B[0m \u001B[0maxis\u001B[0m\u001B[1;33m=\u001B[0m\u001B[0maxis\u001B[0m\u001B[1;33m,\u001B[0m \u001B[0mskipna\u001B[0m\u001B[1;33m=\u001B[0m\u001B[0mskipna\u001B[0m\u001B[1;33m,\u001B[0m \u001B[0mnumeric_only\u001B[0m\u001B[1;33m=\u001B[0m\u001B[0mnumeric_only\u001B[0m\u001B[1;33m\u001B[0m\u001B[1;33m\u001B[0m\u001B[0m\n\u001B[0;32m  10356\u001B[0m         )\n",
      "\u001B[1;32md:\\projects\\software\\python\\polls\\venv\\lib\\site-packages\\pandas\\core\\series.py\u001B[0m in \u001B[0;36m_reduce\u001B[1;34m(self, op, name, axis, skipna, numeric_only, filter_type, **kwds)\u001B[0m\n\u001B[0;32m   4390\u001B[0m                 )\n\u001B[0;32m   4391\u001B[0m             \u001B[1;32mwith\u001B[0m \u001B[0mnp\u001B[0m\u001B[1;33m.\u001B[0m\u001B[0merrstate\u001B[0m\u001B[1;33m(\u001B[0m\u001B[0mall\u001B[0m\u001B[1;33m=\u001B[0m\u001B[1;34m\"ignore\"\u001B[0m\u001B[1;33m)\u001B[0m\u001B[1;33m:\u001B[0m\u001B[1;33m\u001B[0m\u001B[1;33m\u001B[0m\u001B[0m\n\u001B[1;32m-> 4392\u001B[1;33m                 \u001B[1;32mreturn\u001B[0m \u001B[0mop\u001B[0m\u001B[1;33m(\u001B[0m\u001B[0mdelegate\u001B[0m\u001B[1;33m,\u001B[0m \u001B[0mskipna\u001B[0m\u001B[1;33m=\u001B[0m\u001B[0mskipna\u001B[0m\u001B[1;33m,\u001B[0m \u001B[1;33m**\u001B[0m\u001B[0mkwds\u001B[0m\u001B[1;33m)\u001B[0m\u001B[1;33m\u001B[0m\u001B[1;33m\u001B[0m\u001B[0m\n\u001B[0m\u001B[0;32m   4393\u001B[0m \u001B[1;33m\u001B[0m\u001B[0m\n\u001B[0;32m   4394\u001B[0m     def _reindex_indexer(\n",
      "\u001B[1;32md:\\projects\\software\\python\\polls\\venv\\lib\\site-packages\\pandas\\core\\nanops.py\u001B[0m in \u001B[0;36mf\u001B[1;34m(values, axis, skipna, **kwds)\u001B[0m\n\u001B[0;32m    154\u001B[0m                     \u001B[0mresult\u001B[0m \u001B[1;33m=\u001B[0m \u001B[0malt\u001B[0m\u001B[1;33m(\u001B[0m\u001B[0mvalues\u001B[0m\u001B[1;33m,\u001B[0m \u001B[0maxis\u001B[0m\u001B[1;33m=\u001B[0m\u001B[0maxis\u001B[0m\u001B[1;33m,\u001B[0m \u001B[0mskipna\u001B[0m\u001B[1;33m=\u001B[0m\u001B[0mskipna\u001B[0m\u001B[1;33m,\u001B[0m \u001B[1;33m**\u001B[0m\u001B[0mkwds\u001B[0m\u001B[1;33m)\u001B[0m\u001B[1;33m\u001B[0m\u001B[1;33m\u001B[0m\u001B[0m\n\u001B[0;32m    155\u001B[0m             \u001B[1;32melse\u001B[0m\u001B[1;33m:\u001B[0m\u001B[1;33m\u001B[0m\u001B[1;33m\u001B[0m\u001B[0m\n\u001B[1;32m--> 156\u001B[1;33m                 \u001B[0mresult\u001B[0m \u001B[1;33m=\u001B[0m \u001B[0malt\u001B[0m\u001B[1;33m(\u001B[0m\u001B[0mvalues\u001B[0m\u001B[1;33m,\u001B[0m \u001B[0maxis\u001B[0m\u001B[1;33m=\u001B[0m\u001B[0maxis\u001B[0m\u001B[1;33m,\u001B[0m \u001B[0mskipna\u001B[0m\u001B[1;33m=\u001B[0m\u001B[0mskipna\u001B[0m\u001B[1;33m,\u001B[0m \u001B[1;33m**\u001B[0m\u001B[0mkwds\u001B[0m\u001B[1;33m)\u001B[0m\u001B[1;33m\u001B[0m\u001B[1;33m\u001B[0m\u001B[0m\n\u001B[0m\u001B[0;32m    157\u001B[0m \u001B[1;33m\u001B[0m\u001B[0m\n\u001B[0;32m    158\u001B[0m             \u001B[1;32mreturn\u001B[0m \u001B[0mresult\u001B[0m\u001B[1;33m\u001B[0m\u001B[1;33m\u001B[0m\u001B[0m\n",
      "\u001B[1;32md:\\projects\\software\\python\\polls\\venv\\lib\\site-packages\\pandas\\core\\nanops.py\u001B[0m in \u001B[0;36mnew_func\u001B[1;34m(values, axis, skipna, mask, **kwargs)\u001B[0m\n\u001B[0;32m    409\u001B[0m             \u001B[0mmask\u001B[0m \u001B[1;33m=\u001B[0m \u001B[0misna\u001B[0m\u001B[1;33m(\u001B[0m\u001B[0mvalues\u001B[0m\u001B[1;33m)\u001B[0m\u001B[1;33m\u001B[0m\u001B[1;33m\u001B[0m\u001B[0m\n\u001B[0;32m    410\u001B[0m \u001B[1;33m\u001B[0m\u001B[0m\n\u001B[1;32m--> 411\u001B[1;33m         \u001B[0mresult\u001B[0m \u001B[1;33m=\u001B[0m \u001B[0mfunc\u001B[0m\u001B[1;33m(\u001B[0m\u001B[0mvalues\u001B[0m\u001B[1;33m,\u001B[0m \u001B[0maxis\u001B[0m\u001B[1;33m=\u001B[0m\u001B[0maxis\u001B[0m\u001B[1;33m,\u001B[0m \u001B[0mskipna\u001B[0m\u001B[1;33m=\u001B[0m\u001B[0mskipna\u001B[0m\u001B[1;33m,\u001B[0m \u001B[0mmask\u001B[0m\u001B[1;33m=\u001B[0m\u001B[0mmask\u001B[0m\u001B[1;33m,\u001B[0m \u001B[1;33m**\u001B[0m\u001B[0mkwargs\u001B[0m\u001B[1;33m)\u001B[0m\u001B[1;33m\u001B[0m\u001B[1;33m\u001B[0m\u001B[0m\n\u001B[0m\u001B[0;32m    412\u001B[0m \u001B[1;33m\u001B[0m\u001B[0m\n\u001B[0;32m    413\u001B[0m         \u001B[1;32mif\u001B[0m \u001B[0mdatetimelike\u001B[0m\u001B[1;33m:\u001B[0m\u001B[1;33m\u001B[0m\u001B[1;33m\u001B[0m\u001B[0m\n",
      "\u001B[1;32md:\\projects\\software\\python\\polls\\venv\\lib\\site-packages\\pandas\\core\\nanops.py\u001B[0m in \u001B[0;36mreduction\u001B[1;34m(values, axis, skipna, mask)\u001B[0m\n\u001B[0;32m   1016\u001B[0m                 \u001B[0mresult\u001B[0m \u001B[1;33m=\u001B[0m \u001B[0mnp\u001B[0m\u001B[1;33m.\u001B[0m\u001B[0mnan\u001B[0m\u001B[1;33m\u001B[0m\u001B[1;33m\u001B[0m\u001B[0m\n\u001B[0;32m   1017\u001B[0m         \u001B[1;32melse\u001B[0m\u001B[1;33m:\u001B[0m\u001B[1;33m\u001B[0m\u001B[1;33m\u001B[0m\u001B[0m\n\u001B[1;32m-> 1018\u001B[1;33m             \u001B[0mresult\u001B[0m \u001B[1;33m=\u001B[0m \u001B[0mgetattr\u001B[0m\u001B[1;33m(\u001B[0m\u001B[0mvalues\u001B[0m\u001B[1;33m,\u001B[0m \u001B[0mmeth\u001B[0m\u001B[1;33m)\u001B[0m\u001B[1;33m(\u001B[0m\u001B[0maxis\u001B[0m\u001B[1;33m)\u001B[0m\u001B[1;33m\u001B[0m\u001B[1;33m\u001B[0m\u001B[0m\n\u001B[0m\u001B[0;32m   1019\u001B[0m \u001B[1;33m\u001B[0m\u001B[0m\n\u001B[0;32m   1020\u001B[0m         \u001B[0mresult\u001B[0m \u001B[1;33m=\u001B[0m \u001B[0m_maybe_null_out\u001B[0m\u001B[1;33m(\u001B[0m\u001B[0mresult\u001B[0m\u001B[1;33m,\u001B[0m \u001B[0maxis\u001B[0m\u001B[1;33m,\u001B[0m \u001B[0mmask\u001B[0m\u001B[1;33m,\u001B[0m \u001B[0mvalues\u001B[0m\u001B[1;33m.\u001B[0m\u001B[0mshape\u001B[0m\u001B[1;33m)\u001B[0m\u001B[1;33m\u001B[0m\u001B[1;33m\u001B[0m\u001B[0m\n",
      "\u001B[1;32md:\\projects\\software\\python\\polls\\venv\\lib\\site-packages\\numpy\\core\\_methods.py\u001B[0m in \u001B[0;36m_amax\u001B[1;34m(a, axis, out, keepdims, initial, where)\u001B[0m\n\u001B[0;32m     38\u001B[0m def _amax(a, axis=None, out=None, keepdims=False,\n\u001B[0;32m     39\u001B[0m           initial=_NoValue, where=True):\n\u001B[1;32m---> 40\u001B[1;33m     \u001B[1;32mreturn\u001B[0m \u001B[0mumr_maximum\u001B[0m\u001B[1;33m(\u001B[0m\u001B[0ma\u001B[0m\u001B[1;33m,\u001B[0m \u001B[0maxis\u001B[0m\u001B[1;33m,\u001B[0m \u001B[1;32mNone\u001B[0m\u001B[1;33m,\u001B[0m \u001B[0mout\u001B[0m\u001B[1;33m,\u001B[0m \u001B[0mkeepdims\u001B[0m\u001B[1;33m,\u001B[0m \u001B[0minitial\u001B[0m\u001B[1;33m,\u001B[0m \u001B[0mwhere\u001B[0m\u001B[1;33m)\u001B[0m\u001B[1;33m\u001B[0m\u001B[1;33m\u001B[0m\u001B[0m\n\u001B[0m\u001B[0;32m     41\u001B[0m \u001B[1;33m\u001B[0m\u001B[0m\n\u001B[0;32m     42\u001B[0m def _amin(a, axis=None, out=None, keepdims=False,\n",
      "\u001B[1;31mTypeError\u001B[0m: '>=' not supported between instances of 'float' and 'str'"
     ]
    }
   ],
   "source": [
    "polling_average = polls_to_html(current_average[['conservative', 'labour', 'liberal_democrat', 'lead_value']],\n",
    "                                title='Polling Average', highlight_party_columns=False, precision=1)"
   ]
  },
  {
   "cell_type": "code",
   "execution_count": null,
   "metadata": {
    "ExecuteTime": {
     "start_time": "2024-05-29T10:47:28.112901600Z"
    }
   },
   "outputs": [],
   "source": [
    "\n",
    "css = \"body {background: white;}\"\n",
    "# hti.screenshot(html_str=top_25_html, css_str=css, save_as='tmp.png', size=(800, 650))\n",
    "# hti.screenshot(html_str=pollsters_recent, css_str=css, save_as='tmp.png', size=(700, 400))"
   ]
  },
  {
   "cell_type": "code",
   "execution_count": null,
   "metadata": {
    "ExecuteTime": {
     "start_time": "2024-05-29T10:47:28.114917Z"
    }
   },
   "outputs": [],
   "source": [
    "with open('html_outputs/top_25.html', 'w') as f:\n",
    "    f.write(top_25_html)\n",
    "with open('html_outputs/pollsters_recent.html', 'w') as f:\n",
    "    f.write(pollsters_recent)\n",
    "with open('html_outputs/monthly_averages.html', 'w') as f:\n",
    "    f.write(monthly_averages)\n",
    "with open('html_outputs/polling_average.html', 'w') as f:\n",
    "    f.write(polling_average)"
   ]
  },
  {
   "cell_type": "code",
   "execution_count": null,
   "metadata": {
    "ExecuteTime": {
     "start_time": "2024-05-29T10:47:28.116918800Z"
    }
   },
   "outputs": [],
   "source": [
    "from scripts.constants import party_colors, major_parties\n",
    "import matplotlib.pyplot as plt\n",
    "from numpy import arange\n",
    "\n",
    "fig = plt.figure(figsize=(15, 3))\n",
    "fig.set_facecolor('white')\n",
    "ax = plt.gca()\n",
    "\n",
    "# monthly_summary[major_parties[:2]][1:].plot(\n",
    "#     ax=ax,\n",
    "#     ylim=[30, 45],\n",
    "#     color=party_colors,\n",
    "#     linewidth=3\n",
    "# )\n",
    "for party in major_parties[:2]:\n",
    "    plt.plot_date(\n",
    "        x=monthly_summary.index[1:],\n",
    "        y=monthly_summary[party][1:],\n",
    "        fmt='-',\n",
    "        color=party_colors[party],\n",
    "        linewidth=4)\n",
    "\n",
    "    ax.fill_between(monthly_summary.index[1:], monthly_summary[party][1:],\n",
    "                    monthly_summary[major_parties[:2]].min(axis=1)[1:], color=party_colors[party], alpha=0.2)\n",
    "ax.set_yticks(arange(25, 51, 5), minor=False)\n",
    "major_locator = plt.matplotlib.dates.DayLocator([1])\n",
    "major_fmt = plt.matplotlib.dates.DateFormatter('%b-%y')\n",
    "\n",
    "ax.xaxis.set_major_locator(major_locator)\n",
    "ax.xaxis.set_major_formatter(major_fmt)\n",
    "\n",
    "ax.yaxis.set_major_formatter(plt.matplotlib.ticker.FuncFormatter(lambda x, p: f'{x/100:.0%}'))\n",
    "\n",
    "plot_title = 'Opinion Polling Trend'\n",
    "plt.title(plot_title)\n",
    "\n",
    "source = 'Source: Wikipedia - Opinion polling for the next United Kingdom general election'\n",
    "plt.annotate(source, (1, 0), (0, -20), xycoords='axes fraction', textcoords='offset points', va='top', ha='right')\n",
    "fig.savefig('html_outputs/monthly_trend.png', bbox_inches='tight', pad_inches=0.2)"
   ]
  },
  {
   "cell_type": "code",
   "execution_count": null,
   "metadata": {
    "ExecuteTime": {
     "start_time": "2024-05-29T10:47:28.118418100Z"
    }
   },
   "outputs": [],
   "source": []
  },
  {
   "cell_type": "code",
   "execution_count": null,
   "metadata": {
    "ExecuteTime": {
     "start_time": "2024-05-29T10:47:28.119925600Z"
    }
   },
   "outputs": [],
   "source": [
    "monthly_summary"
   ]
  },
  {
   "cell_type": "code",
   "execution_count": null,
   "metadata": {
    "ExecuteTime": {
     "start_time": "2024-05-29T10:47:28.121932200Z"
    }
   },
   "outputs": [],
   "source": []
  },
  {
   "cell_type": "code",
   "execution_count": null,
   "metadata": {
    "ExecuteTime": {
     "start_time": "2024-05-29T10:47:28.122934900Z"
    }
   },
   "outputs": [],
   "source": [
    "import datetime"
   ]
  },
  {
   "cell_type": "code",
   "execution_count": null,
   "metadata": {
    "ExecuteTime": {
     "start_time": "2024-05-29T10:47:28.126024900Z"
    }
   },
   "outputs": [],
   "source": []
  },
  {
   "cell_type": "code",
   "execution_count": null,
   "metadata": {
    "ExecuteTime": {
     "start_time": "2024-05-29T10:47:28.127524100Z"
    }
   },
   "outputs": [],
   "source": [
    "all_polls['anti-Conservative'] = all_polls[\n",
    "    ['labour', 'liberal_democrat', 'alliance', 'change_uk', 'green', 'liberal', 'plaid_cymru',\n",
    "     'scottish_national_party', 'social_democratic_party']].sum(axis=1)\n",
    "all_polls['Conservative+'] = all_polls[\n",
    "    ['conservative', 'brexit_party', 'reform_uk', 'united_kingdom_independence_party', 'reclaim_party']].sum(axis=1)\n",
    "\n",
    "(all_polls\n",
    " .set_index(reporting_date)\n",
    " .rolling(window=15).mean()\n",
    " .loc[:datetime.date(2010, 1, 13)]\n",
    "[['anti-Conservative', 'Conservative+']]\n",
    " .plot(\n",
    "    color=['r', 'b']\n",
    "    , figsize=[20, 5]\n",
    "    , grid='y'\n",
    "    , ylim=[0, 100]\n",
    ")\n",
    ")"
   ]
  },
  {
   "cell_type": "code",
   "execution_count": null,
   "metadata": {
    "ExecuteTime": {
     "start_time": "2024-05-29T10:47:28.129024300Z"
    }
   },
   "outputs": [],
   "source": []
  },
  {
   "cell_type": "code",
   "execution_count": null,
   "metadata": {
    "ExecuteTime": {
     "start_time": "2024-05-29T10:47:28.130524400Z"
    }
   },
   "outputs": [],
   "source": [
    "group_colours = {'conservative+': '#0087DC',\n",
    "                 'labour+': '#DC241F',\n",
    "                 }\n",
    "groups = list(group_colours.keys())\n",
    "\n",
    "# group_parties = {'conservative+': ['conservative', 'brexit_party', 'reform_uk','united_kingdom_independence_party', 'reclaim_party'],\n",
    "#  'anti-Conservative': ['labour', 'liberal_democrat', 'alliance', 'change_uk', 'green', 'liberal', 'plaid_cymru', 'scottish_national_party', 'social_democratic_party'],\n",
    "#  }\n",
    "\n",
    "group_parties = {'conservative+': ['conservative', 'brexit_party', 'reform_uk', 'united_kingdom_independence_party',\n",
    "                                   'reclaim_party'],\n",
    "                 'labour+': ['labour'],\n",
    "                 }\n",
    "\n",
    "two_group_polls = all_polls[all_polls[reporting_date] >= datetime.datetime(1990, 1, 1)].copy()\n",
    "\n",
    "for group, parties in group_parties.items():\n",
    "    two_group_polls[group] = two_group_polls[parties].sum(axis=1)\n",
    "    two_group_polls.drop(\n",
    "        columns=parties,\n",
    "        inplace=True,\n",
    "    )\n",
    "\n",
    "two_group_polls['poll_month'] = two_group_polls[reporting_date].apply(lambda x: x.replace(day=1))\n",
    "two_group_polls = two_group_polls[[reporting_date, 'pollster', 'poll_month'] + groups]\n",
    "\n",
    "two_group_monthly = two_group_polls.groupby(['poll_month', 'pollster'])[groups].agg(['mean', 'count'])\n",
    "two_group_monthly.columns = [x if i == 0 else f'count{groups.index(x)}' for x in groups for i in range(0, 2)]\n",
    "two_group_monthly.drop(columns=[f'count{groups.index(x)}' for x in groups][1:], inplace=True)\n",
    "two_group_monthly.rename(columns={\"count0\": \"count\"}, inplace=True)\n",
    "\n",
    "agg_info = {x: ['mean'] for x in groups}\n",
    "agg_info['count'] = ['count', 'sum']\n",
    "two_group_monthly_summary = two_group_monthly.reset_index().groupby(['poll_month']).agg(agg_info)\n",
    "two_group_monthly_summary.columns = groups + ['pollster_count', 'poll_count']\n",
    "\n",
    "import matplotlib.pyplot as plt\n",
    "from numpy import arange\n",
    "\n",
    "fig = plt.figure(figsize=(15, 5))\n",
    "fig.set_facecolor('white')\n",
    "ax = plt.gca()\n",
    "\n",
    "for group in groups:\n",
    "    plt.plot_date(\n",
    "        x=two_group_monthly_summary.index[1:],\n",
    "        y=two_group_monthly_summary[group][1:],\n",
    "        fmt='-',\n",
    "        color=group_colours[group],\n",
    "        linewidth=4)\n",
    "\n",
    "    ax.fill_between(two_group_monthly_summary.index[1:], two_group_monthly_summary[group][1:],\n",
    "                    two_group_monthly_summary[groups[:2]].min(axis=1)[1:], color=group_colours[group], alpha=0.2)\n",
    "ax.set_yticks(arange(20, 56, 5), minor=False)\n",
    "# major_locator = plt.matplotlib.dates.DayLocator([1])\n",
    "# major_fmt = plt.matplotlib.dates.DateFormatter('%b-%y')\n",
    "\n",
    "major_locator = plt.matplotlib.dates.MonthLocator([1])\n",
    "major_fmt = plt.matplotlib.dates.DateFormatter(\"%y\")\n",
    "\n",
    "ax.xaxis.set_major_locator(major_locator)\n",
    "ax.xaxis.set_major_formatter(major_fmt)\n",
    "\n",
    "ax.set_xlim([two_group_monthly_summary.index[1], two_group_monthly_summary.index[-1]])\n",
    "\n",
    "ax.yaxis.set_major_formatter(plt.matplotlib.ticker.FuncFormatter(lambda x, p: f'{x/100:.0%}'))\n",
    "\n",
    "titleOffset = 0.125\n",
    "renderer = fig.canvas.get_renderer()\n",
    "figwidth = ax.get_window_extent().width/0.8\n",
    "\n",
    "group_parts = [[f\"{group}\", group_colours[group], 'bold'] for group in groups]\n",
    "titleparts = [['Opinion Polling Trend', 'k', 'book']] + [a for b in [[x, [\" vs \", 'k', 'regular']] for x in group_parts]\n",
    "                                                         for a in b][:-1]\n",
    "\n",
    "for part in titleparts:\n",
    "    txt = fig.text(titleOffset, 0.9, part[0], ha=\"left\", va=\"bottom\", size=\"large\", color=part[1], weight=part[2])\n",
    "    titleOffset += (txt.get_window_extent(renderer=renderer).width/figwidth)\n",
    "\n",
    "# plot_title = 'Opinion Polling Trend'\n",
    "# plt.title(plot_title)\n",
    "\n",
    "source = 'Source: Wikipedia - Opinion polling for the {year} United Kingdom general election'\n",
    "plt.annotate(source, (1, 0), (0, -20), xycoords='axes fraction', textcoords='offset points', va='top', ha='right')\n",
    "\n",
    "titleOffset = 0.15\n",
    "for group, parties in group_parties.items():\n",
    "    colour = group_colours[group]\n",
    "    fig.text(0.35, titleOffset, group, ha=\"left\", va=\"bottom\", size=\"medium\", color=colour, weight='bold')\n",
    "    fig.text(0.445, titleOffset, ': ' + ', '.join(parties).replace('_', ' '), ha=\"left\", va=\"bottom\", size=\"small\",\n",
    "             color='k', weight='regular')\n",
    "    titleOffset += 0.05\n",
    "#fig.savefig('html_outputs/monthly_trend.png', bbox_inches = 'tight', pad_inches = 0.2)"
   ]
  },
  {
   "cell_type": "code",
   "execution_count": null,
   "metadata": {
    "ExecuteTime": {
     "start_time": "2024-05-29T10:47:28.132529900Z"
    }
   },
   "outputs": [],
   "source": []
  },
  {
   "cell_type": "code",
   "execution_count": null,
   "metadata": {
    "ExecuteTime": {
     "start_time": "2024-05-29T10:47:28.134031300Z"
    }
   },
   "outputs": [],
   "source": [
    "group_colours = {'conservative+': '#0087DC',\n",
    "                 'anti-Conservative': '#DC241F',\n",
    "                 }\n",
    "groups = list(group_colours.keys())\n",
    "\n",
    "# group_parties = {'conservative+': ['conservative', 'brexit_party', 'reform_uk','united_kingdom_independence_party', 'reclaim_party'],\n",
    "#  'anti-Conservative': ['labour', 'liberal_democrat', 'alliance', 'change_uk', 'green', 'liberal', 'plaid_cymru', 'scottish_national_party', 'social_democratic_party'],\n",
    "#  }\n",
    "\n",
    "group_parties = {'conservative+': ['conservative', 'brexit_party', 'reform_uk', 'united_kingdom_independence_party',\n",
    "                                   'reclaim_party'],\n",
    "                 'anti-Conservative': ['labour', 'change_uk', 'green', 'plaid_cymru', 'scottish_national_party',\n",
    "                                       'liberal_democrat'],\n",
    "                 }\n",
    "\n",
    "two_group_polls = all_polls[all_polls[reporting_date] >= datetime.datetime(1990, 1, 1)].copy()\n",
    "\n",
    "for group, parties in group_parties.items():\n",
    "    two_group_polls[group] = two_group_polls[parties].sum(axis=1)\n",
    "    two_group_polls.drop(\n",
    "        columns=parties,\n",
    "        inplace=True,\n",
    "    )\n",
    "\n",
    "two_group_polls['poll_month'] = two_group_polls[reporting_date].apply(lambda x: x.replace(day=1))\n",
    "two_group_polls = two_group_polls[[reporting_date, 'pollster', 'poll_month'] + groups]\n",
    "\n",
    "two_group_monthly = two_group_polls.groupby(['poll_month', 'pollster'])[groups].agg(['mean', 'count'])\n",
    "two_group_monthly.columns = [x if i == 0 else f'count{groups.index(x)}' for x in groups for i in range(0, 2)]\n",
    "two_group_monthly.drop(columns=[f'count{groups.index(x)}' for x in groups][1:], inplace=True)\n",
    "two_group_monthly.rename(columns={\"count0\": \"count\"}, inplace=True)\n",
    "\n",
    "agg_info = {x: ['mean'] for x in groups}\n",
    "agg_info['count'] = ['count', 'sum']\n",
    "two_group_monthly_summary = two_group_monthly.reset_index().groupby(['poll_month']).agg(agg_info)\n",
    "two_group_monthly_summary.columns = groups + ['pollster_count', 'poll_count']\n",
    "\n",
    "import matplotlib.pyplot as plt\n",
    "from numpy import arange\n",
    "\n",
    "fig = plt.figure(figsize=(15, 5))\n",
    "fig.set_facecolor('white')\n",
    "ax = plt.gca()\n",
    "\n",
    "for group in groups:\n",
    "    plt.plot_date(\n",
    "        x=two_group_monthly_summary.index[1:],\n",
    "        y=two_group_monthly_summary[group][1:],\n",
    "        fmt='-',\n",
    "        color=group_colours[group],\n",
    "        linewidth=4)\n",
    "\n",
    "    ax.fill_between(two_group_monthly_summary.index[1:], two_group_monthly_summary[group][1:],\n",
    "                    two_group_monthly_summary[groups[:2]].min(axis=1)[1:], color=group_colours[group], alpha=0.2)\n",
    "ax.set_yticks(arange(20, 81, 5), minor=False)\n",
    "# major_locator = plt.matplotlib.dates.DayLocator([1])\n",
    "# major_fmt = plt.matplotlib.dates.DateFormatter('%b-%y')\n",
    "\n",
    "major_locator = plt.matplotlib.dates.MonthLocator([1])\n",
    "major_fmt = plt.matplotlib.dates.DateFormatter(\"%y\")\n",
    "\n",
    "ax.xaxis.set_major_locator(major_locator)\n",
    "ax.xaxis.set_major_formatter(major_fmt)\n",
    "\n",
    "ax.set_xlim([two_group_monthly_summary.index[1], two_group_monthly_summary.index[-1]])\n",
    "\n",
    "ax.yaxis.set_major_formatter(plt.matplotlib.ticker.FuncFormatter(lambda x, p: f'{x/100:.0%}'))\n",
    "\n",
    "titleOffset = 0.125\n",
    "renderer = fig.canvas.get_renderer()\n",
    "figwidth = ax.get_window_extent().width/0.8\n",
    "\n",
    "group_parts = [[f\"{group}\", group_colours[group], 'bold'] for group in groups]\n",
    "titleparts = [['Opinion Polling Trend', 'k', 'book']] + [a for b in [[x, [\" vs \", 'k', 'regular']] for x in group_parts]\n",
    "                                                         for a in b][:-1]\n",
    "\n",
    "for part in titleparts:\n",
    "    txt = fig.text(titleOffset, 0.9, part[0], ha=\"left\", va=\"bottom\", size=\"large\", color=part[1], weight=part[2])\n",
    "    titleOffset += (txt.get_window_extent(renderer=renderer).width/figwidth)\n",
    "\n",
    "# plot_title = 'Opinion Polling Trend'\n",
    "# plt.title(plot_title)\n",
    "\n",
    "source = 'Source: Wikipedia - Opinion polling for the {year} United Kingdom general election'\n",
    "plt.annotate(source, (1, 0), (0, -20), xycoords='axes fraction', textcoords='offset points', va='top', ha='right')\n",
    "\n",
    "titleOffset = 0.15\n",
    "for group, parties in group_parties.items():\n",
    "    colour = group_colours[group]\n",
    "    fig.text(0.35, titleOffset, group, ha=\"left\", va=\"bottom\", size=\"medium\", color=colour, weight='bold')\n",
    "    fig.text(0.445, titleOffset, ': ' + ', '.join(parties).replace('_', ' '), ha=\"left\", va=\"bottom\", size=\"small\",\n",
    "             color='k', weight='regular')\n",
    "    titleOffset += 0.05\n",
    "#fig.savefig('html_outputs/monthly_trend.png', bbox_inches = 'tight', pad_inches = 0.2)"
   ]
  },
  {
   "cell_type": "code",
   "execution_count": null,
   "metadata": {
    "ExecuteTime": {
     "start_time": "2024-05-29T10:47:28.135535600Z"
    }
   },
   "outputs": [],
   "source": [
    "group_colours = {'conservative+': '#0087DC',\n",
    "                 'anti-Conservative': '#DC241F',\n",
    "                 }\n",
    "groups = list(group_colours.keys())\n",
    "\n",
    "# group_parties = {'conservative+': ['conservative', 'brexit_party', 'reform_uk','united_kingdom_independence_party', 'reclaim_party'],\n",
    "#  'anti-Conservative': ['labour', 'liberal_democrat', 'alliance', 'change_uk', 'green', 'liberal', 'plaid_cymru', 'scottish_national_party', 'social_democratic_party'],\n",
    "#  }\n",
    "\n",
    "group_parties = {'conservative+': ['conservative', 'brexit_party', 'reform_uk', 'united_kingdom_independence_party',\n",
    "                                   'reclaim_party'],\n",
    "                 'anti-Conservative': ['labour', 'change_uk', 'green', 'plaid_cymru', 'scottish_national_party',\n",
    "                                       'liberal_democrat'],\n",
    "                 }\n",
    "\n",
    "two_group_polls = all_polls[all_polls[reporting_date] >= datetime.datetime(2016, 1, 1)].copy()\n",
    "\n",
    "for group, parties in group_parties.items():\n",
    "    two_group_polls[group] = two_group_polls[parties].sum(axis=1)\n",
    "    two_group_polls.drop(\n",
    "        columns=parties,\n",
    "        inplace=True,\n",
    "    )\n",
    "\n",
    "two_group_polls['poll_month'] = two_group_polls[reporting_date].apply(lambda x: x.replace(day=1))\n",
    "two_group_polls = two_group_polls[[reporting_date, 'pollster', 'poll_month'] + groups]\n",
    "\n",
    "two_group_monthly = two_group_polls.groupby(['poll_month', 'pollster'])[groups].agg(['mean', 'count'])\n",
    "two_group_monthly.columns = [x if i == 0 else f'count{groups.index(x)}' for x in groups for i in range(0, 2)]\n",
    "two_group_monthly.drop(columns=[f'count{groups.index(x)}' for x in groups][1:], inplace=True)\n",
    "two_group_monthly.rename(columns={\"count0\": \"count\"}, inplace=True)\n",
    "\n",
    "agg_info = {x: ['mean'] for x in groups}\n",
    "agg_info['count'] = ['count', 'sum']\n",
    "two_group_monthly_summary = two_group_monthly.reset_index().groupby(['poll_month']).agg(agg_info)\n",
    "two_group_monthly_summary.columns = groups + ['pollster_count', 'poll_count']\n",
    "\n",
    "import matplotlib.pyplot as plt\n",
    "from numpy import arange\n",
    "\n",
    "fig = plt.figure(figsize=(15, 5))\n",
    "fig.set_facecolor('white')\n",
    "ax = plt.gca()\n",
    "\n",
    "for group in groups:\n",
    "    plt.plot_date(\n",
    "        x=two_group_monthly_summary.index[1:],\n",
    "        y=two_group_monthly_summary[group][1:],\n",
    "        fmt='-',\n",
    "        color=group_colours[group],\n",
    "        linewidth=4)\n",
    "\n",
    "    ax.fill_between(two_group_monthly_summary.index[1:], two_group_monthly_summary[group][1:],\n",
    "                    two_group_monthly_summary[groups[:2]].min(axis=1)[1:], color=group_colours[group], alpha=0.2)\n",
    "ax.set_yticks(arange(20, 81, 5), minor=False)\n",
    "# major_locator = plt.matplotlib.dates.DayLocator([1])\n",
    "# major_fmt = plt.matplotlib.dates.DateFormatter('%b-%y')\n",
    "\n",
    "major_locator = plt.matplotlib.dates.MonthLocator([1])\n",
    "major_fmt = plt.matplotlib.dates.DateFormatter(\"%Y\")\n",
    "\n",
    "ax.xaxis.set_major_locator(major_locator)\n",
    "ax.xaxis.set_major_formatter(major_fmt)\n",
    "\n",
    "ax.set_xlim([two_group_monthly_summary.index[1], two_group_monthly_summary.index[-1]])\n",
    "\n",
    "ax.yaxis.set_major_formatter(plt.matplotlib.ticker.FuncFormatter(lambda x, p: f'{x/100:.0%}'))\n",
    "\n",
    "titleOffset = 0.125\n",
    "renderer = fig.canvas.get_renderer()\n",
    "figwidth = ax.get_window_extent().width/0.8\n",
    "\n",
    "group_parts = [[f\"{group}\", group_colours[group], 'bold'] for group in groups]\n",
    "titleparts = [['Opinion Polling Trend', 'k', 'book']] + [a for b in [[x, [\" vs \", 'k', 'regular']] for x in group_parts]\n",
    "                                                         for a in b][:-1]\n",
    "\n",
    "for part in titleparts:\n",
    "    txt = fig.text(titleOffset, 0.9, part[0], ha=\"left\", va=\"bottom\", size=\"large\", color=part[1], weight=part[2])\n",
    "    titleOffset += (txt.get_window_extent(renderer=renderer).width/figwidth)\n",
    "\n",
    "# plot_title = 'Opinion Polling Trend'\n",
    "# plt.title(plot_title)\n",
    "\n",
    "source = 'Source: Wikipedia - Opinion polling for the {year} United Kingdom general election'\n",
    "plt.annotate(source, (1, 0), (0, -20), xycoords='axes fraction', textcoords='offset points', va='top', ha='right')\n",
    "\n",
    "titleOffset = 0.15\n",
    "for group, parties in group_parties.items():\n",
    "    colour = group_colours[group]\n",
    "    fig.text(0.35, titleOffset, group, ha=\"left\", va=\"bottom\", size=\"medium\", color=colour, weight='bold')\n",
    "    fig.text(0.445, titleOffset, ': ' + ', '.join(parties).replace('_', ' '), ha=\"left\", va=\"bottom\", size=\"small\",\n",
    "             color='k', weight='regular')\n",
    "    titleOffset += 0.05\n",
    "#fig.savefig('html_outputs/monthly_trend.png', bbox_inches = 'tight', pad_inches = 0.2)"
   ]
  },
  {
   "cell_type": "code",
   "execution_count": null,
   "metadata": {
    "ExecuteTime": {
     "start_time": "2024-05-29T10:47:28.137039700Z"
    }
   },
   "outputs": [],
   "source": [
    "one_year_polls['poll_month'] = one_year_polls[reporting_date].apply(lambda x: x.replace(day=1))"
   ]
  },
  {
   "cell_type": "code",
   "execution_count": null,
   "metadata": {
    "ExecuteTime": {
     "start_time": "2024-05-29T10:47:28.139040300Z"
    }
   },
   "outputs": [],
   "source": [
    "kantar_polls = all_polls.query('pollster == \"Kantar Public\" and date_concluded> \"2019-01-01\"').copy()\n",
    "other_polls = all_polls.query('pollster != \"Kantar Public\" and date_concluded> \"2019-01-01\"').copy()"
   ]
  },
  {
   "cell_type": "code",
   "execution_count": null,
   "metadata": {
    "ExecuteTime": {
     "start_time": "2024-05-29T10:47:28.140540900Z"
    }
   },
   "outputs": [],
   "source": [
    "kantar_polls['poll_month'] = kantar_polls[reporting_date].apply(lambda x: x.replace(day=1))\n",
    "other_polls['poll_month'] = other_polls[reporting_date].apply(lambda x: x.replace(day=1))"
   ]
  },
  {
   "cell_type": "code",
   "execution_count": null,
   "metadata": {
    "ExecuteTime": {
     "start_time": "2024-05-29T10:47:28.142543100Z"
    }
   },
   "outputs": [],
   "source": [
    "other_pollster_monthly_summary = other_polls.groupby(['poll_month', 'pollster'])[major_parties].agg(['mean', 'count'])\n",
    "other_pollster_monthly_summary.columns = [x if i == 0 else f'count{major_parties.index(x)}' for x in major_parties for i\n",
    "                                          in\n",
    "                                          range(0, 2)]\n",
    "other_pollster_monthly_summary.drop(columns=[f'count{major_parties.index(x)}' for x in major_parties][1:], inplace=True)\n",
    "other_pollster_monthly_summary.rename(columns={\"count0\": \"count\"}, inplace=True)\n",
    "\n",
    "agg_info = {x: ['mean'] for x in major_parties}\n",
    "agg_info['count'] = ['count', 'sum']\n",
    "other_monthly_summary = other_pollster_monthly_summary.reset_index().groupby(['poll_month']).agg(agg_info)\n",
    "other_monthly_summary.columns = major_parties + ['pollster_count', 'poll_count']"
   ]
  },
  {
   "cell_type": "code",
   "execution_count": null,
   "metadata": {
    "ExecuteTime": {
     "start_time": "2024-05-29T10:47:28.144044600Z"
    }
   },
   "outputs": [],
   "source": [
    "kantar_pollster_monthly_summary = kantar_polls.groupby(['poll_month', 'pollster'])[major_parties].agg(['mean', 'count'])\n",
    "kantar_pollster_monthly_summary.columns = [x if i == 0 else f'count{major_parties.index(x)}' for x in major_parties for\n",
    "                                           i in\n",
    "                                           range(0, 2)]\n",
    "kantar_pollster_monthly_summary.drop(columns=[f'count{major_parties.index(x)}' for x in major_parties][1:],\n",
    "                                     inplace=True)\n",
    "kantar_pollster_monthly_summary.rename(columns={\"count0\": \"count\"}, inplace=True)\n",
    "\n",
    "agg_info = {x: ['mean'] for x in major_parties}\n",
    "agg_info['count'] = ['count', 'sum']\n",
    "kantar_monthly_summary = kantar_pollster_monthly_summary.reset_index().groupby(['poll_month']).agg(agg_info)\n",
    "kantar_monthly_summary.columns = major_parties + ['pollster_count', 'poll_count']"
   ]
  },
  {
   "cell_type": "code",
   "execution_count": null,
   "metadata": {
    "ExecuteTime": {
     "start_time": "2024-05-29T10:47:28.146054300Z"
    }
   },
   "outputs": [],
   "source": [
    "other_monthly_summary[['kantar_con', 'kantar_lab']] = kantar_monthly_summary[['conservative', 'labour']]"
   ]
  },
  {
   "cell_type": "code",
   "execution_count": null,
   "metadata": {
    "ExecuteTime": {
     "start_time": "2024-05-29T10:47:28.147553600Z"
    }
   },
   "outputs": [],
   "source": [
    "other_monthly_summary.to_clipboard(sep='\\t')"
   ]
  },
  {
   "cell_type": "code",
   "execution_count": null,
   "metadata": {
    "ExecuteTime": {
     "start_time": "2024-05-29T10:47:28.149053600Z"
    }
   },
   "outputs": [],
   "source": []
  },
  {
   "cell_type": "code",
   "execution_count": null,
   "metadata": {
    "ExecuteTime": {
     "start_time": "2024-05-29T10:47:28.150553200Z"
    }
   },
   "outputs": [],
   "source": []
  },
  {
   "cell_type": "code",
   "execution_count": null,
   "metadata": {
    "ExecuteTime": {
     "start_time": "2024-05-29T10:47:28.151553900Z"
    }
   },
   "outputs": [],
   "source": []
  },
  {
   "cell_type": "code",
   "execution_count": null,
   "metadata": {
    "ExecuteTime": {
     "start_time": "2024-05-29T10:47:28.152554700Z"
    }
   },
   "outputs": [],
   "source": [
    "general_elections = all_polls.query('pollster==\"General Election\"')\n",
    "general_election_dates = list(general_elections.date_concluded.unique())\n",
    "#general_elections = general_elections[general_elections.date_concluded > datetime.datetime(2016,1,1)]"
   ]
  },
  {
   "cell_type": "code",
   "execution_count": null,
   "metadata": {
    "ExecuteTime": {
     "start_time": "2024-05-29T10:47:28.153053200Z"
    }
   },
   "outputs": [],
   "source": [
    "for ge in general_election_dates[::-1]:\n",
    "    if ge < np.datetime64('2016-01-01'):\n",
    "        continue\n",
    "\n",
    "    print(ge)"
   ]
  },
  {
   "cell_type": "code",
   "execution_count": null,
   "metadata": {
    "ExecuteTime": {
     "start_time": "2024-05-29T10:47:28.154061300Z"
    }
   },
   "outputs": [],
   "source": [
    "general_elections[general_elections.date_concluded == ge]"
   ]
  },
  {
   "cell_type": "code",
   "execution_count": null,
   "metadata": {
    "ExecuteTime": {
     "start_time": "2024-05-29T10:47:28.155567100Z"
    }
   },
   "outputs": [],
   "source": [
    "all_polls.query('liberal_democrat + 10 > conservative')"
   ]
  },
  {
   "cell_type": "code",
   "execution_count": null,
   "metadata": {
    "ExecuteTime": {
     "start_time": "2024-05-29T10:47:28.156066800Z"
    }
   },
   "outputs": [],
   "source": [
    "all_polls.query('labour>56')"
   ]
  },
  {
   "cell_type": "code",
   "execution_count": null,
   "metadata": {
    "ExecuteTime": {
     "start_time": "2024-05-29T10:47:28.157066900Z"
    }
   },
   "outputs": [],
   "source": [
    "GEs_to_use = [\n",
    "\n",
    "]"
   ]
  },
  {
   "cell_type": "code",
   "execution_count": null,
   "metadata": {
    "ExecuteTime": {
     "start_time": "2024-05-29T10:47:28.158568800Z"
    }
   },
   "outputs": [],
   "source": [
    "all_polls.query('pollster==\"Techne UK\"')"
   ]
  },
  {
   "cell_type": "code",
   "execution_count": null,
   "metadata": {
    "ExecuteTime": {
     "start_time": "2024-05-29T10:47:28.159566Z"
    }
   },
   "outputs": [],
   "source": [
    "break"
   ]
  },
  {
   "cell_type": "code",
   "execution_count": null,
   "metadata": {
    "ExecuteTime": {
     "start_time": "2024-05-29T10:47:28.160567Z"
    }
   },
   "outputs": [],
   "source": [
    "import pandas as pd\n",
    "import requests\n",
    "from io import StringIO\n",
    "\n",
    "url = 'https://www.markpack.org.uk/files/2022/07/PollBase-Q2-2022.xlsx'\n",
    "headers = {\"User-Agent\": \"Mozilla/5.0 (Macintosh; Intel Mac OS X 10.14; rv:66.0) Gecko/20100101 Firefox/66.0\"}\n",
    "req = requests.get(url, headers=headers)\n",
    "\n"
   ]
  },
  {
   "cell_type": "code",
   "execution_count": null,
   "metadata": {
    "ExecuteTime": {
     "start_time": "2024-05-29T10:47:28.162066100Z"
    }
   },
   "outputs": [],
   "source": [
    "data = StringIO(req.content)"
   ]
  },
  {
   "cell_type": "code",
   "execution_count": null,
   "metadata": {
    "ExecuteTime": {
     "start_time": "2024-05-29T10:47:28.162567400Z"
    }
   },
   "outputs": [],
   "source": [
    "pollbase = pd.read_excel(req.content, sheet_name=1)"
   ]
  },
  {
   "cell_type": "code",
   "execution_count": null,
   "metadata": {
    "ExecuteTime": {
     "start_time": "2024-05-29T10:47:28.163068600Z"
    }
   },
   "outputs": [],
   "source": [
    "pollbase"
   ]
  },
  {
   "cell_type": "code",
   "execution_count": null,
   "metadata": {
    "ExecuteTime": {
     "start_time": "2024-05-29T10:47:28.164583400Z"
    }
   },
   "outputs": [],
   "source": [
    "all_polls['poll_month'] = all_polls['date_concluded'].apply(lambda x: x.replace(day=1))"
   ]
  },
  {
   "cell_type": "code",
   "execution_count": null,
   "metadata": {
    "ExecuteTime": {
     "start_time": "2024-05-29T10:47:28.165588100Z"
    }
   },
   "outputs": [],
   "source": [
    "pollster_monthly_summary = all_polls.groupby(['poll_month', 'pollster'])[major_parties].agg(['mean', 'count'])\n",
    "pollster_monthly_summary.columns = [x if i == 0 else f'count{major_parties.index(x)}' for x in major_parties for i in\n",
    "                                    range(0, 2)]\n",
    "pollster_monthly_summary.drop(columns=[f'count{major_parties.index(x)}' for x in major_parties][1:], inplace=True)\n",
    "pollster_monthly_summary.rename(columns={\"count0\": \"count\"}, inplace=True)\n",
    "\n",
    "agg_info = {x: ['mean'] for x in major_parties}\n",
    "agg_info['count'] = ['count', 'sum']\n",
    "monthly_summary = pollster_monthly_summary.reset_index().groupby(['poll_month']).agg(agg_info)\n",
    "monthly_summary.columns = major_parties + ['pollster_count', 'poll_count']"
   ]
  },
  {
   "cell_type": "code",
   "execution_count": null,
   "metadata": {
    "ExecuteTime": {
     "start_time": "2024-05-29T10:47:28.166586300Z"
    }
   },
   "outputs": [],
   "source": [
    "monthly_summary.query('conservative<31.5')"
   ]
  },
  {
   "cell_type": "code",
   "execution_count": null,
   "metadata": {
    "ExecuteTime": {
     "start_time": "2024-05-29T10:47:28.167587600Z"
    }
   },
   "outputs": [],
   "source": [
    "monthly_summary.query('(labour-conservative)>9.3')"
   ]
  },
  {
   "cell_type": "code",
   "execution_count": null,
   "metadata": {
    "ExecuteTime": {
     "start_time": "2024-05-29T10:47:28.168589Z"
    }
   },
   "outputs": [],
   "source": []
  },
  {
   "cell_type": "code",
   "execution_count": null,
   "metadata": {
    "ExecuteTime": {
     "start_time": "2024-05-29T10:47:28.169588100Z"
    }
   },
   "outputs": [],
   "source": []
  },
  {
   "cell_type": "code",
   "execution_count": null,
   "metadata": {
    "ExecuteTime": {
     "start_time": "2024-05-29T10:47:28.170587300Z"
    }
   },
   "outputs": [],
   "source": []
  },
  {
   "cell_type": "code",
   "execution_count": null,
   "metadata": {
    "ExecuteTime": {
     "start_time": "2024-05-29T10:47:28.171587800Z"
    }
   },
   "outputs": [],
   "source": []
  },
  {
   "cell_type": "code",
   "execution_count": null,
   "metadata": {
    "ExecuteTime": {
     "start_time": "2024-05-29T10:47:28.172587900Z"
    }
   },
   "outputs": [],
   "source": []
  },
  {
   "cell_type": "code",
   "execution_count": null,
   "metadata": {
    "ExecuteTime": {
     "start_time": "2024-05-29T10:47:28.173088500Z"
    }
   },
   "outputs": [],
   "source": []
  },
  {
   "cell_type": "code",
   "execution_count": null,
   "metadata": {
    "ExecuteTime": {
     "start_time": "2024-05-29T10:47:28.175604600Z"
    }
   },
   "outputs": [],
   "source": []
  },
  {
   "cell_type": "code",
   "execution_count": null,
   "metadata": {
    "ExecuteTime": {
     "start_time": "2024-05-29T10:47:28.176600600Z"
    }
   },
   "outputs": [],
   "source": []
  },
  {
   "cell_type": "code",
   "execution_count": null,
   "metadata": {
    "ExecuteTime": {
     "start_time": "2024-05-29T10:47:28.177602100Z"
    }
   },
   "outputs": [],
   "source": []
  },
  {
   "cell_type": "code",
   "execution_count": null,
   "metadata": {
    "ExecuteTime": {
     "start_time": "2024-05-29T10:47:28.179102Z"
    }
   },
   "outputs": [],
   "source": []
  },
  {
   "cell_type": "code",
   "execution_count": null,
   "metadata": {
    "ExecuteTime": {
     "start_time": "2024-05-29T10:47:28.180101800Z"
    }
   },
   "outputs": [],
   "source": []
  },
  {
   "cell_type": "code",
   "execution_count": null,
   "metadata": {
    "ExecuteTime": {
     "start_time": "2024-05-29T10:47:28.181101900Z"
    }
   },
   "outputs": [],
   "source": []
  },
  {
   "cell_type": "code",
   "execution_count": null,
   "metadata": {
    "ExecuteTime": {
     "start_time": "2024-05-29T10:47:28.181601600Z"
    }
   },
   "outputs": [],
   "source": []
  },
  {
   "cell_type": "code",
   "execution_count": null,
   "metadata": {
    "ExecuteTime": {
     "start_time": "2024-05-29T10:47:28.183101600Z"
    }
   },
   "outputs": [],
   "source": []
  },
  {
   "cell_type": "code",
   "execution_count": null,
   "metadata": {
    "ExecuteTime": {
     "start_time": "2024-05-29T10:47:28.183101600Z"
    }
   },
   "outputs": [],
   "source": []
  },
  {
   "cell_type": "code",
   "execution_count": null,
   "metadata": {
    "ExecuteTime": {
     "start_time": "2024-05-29T10:47:28.185117Z"
    }
   },
   "outputs": [],
   "source": []
  },
  {
   "cell_type": "code",
   "execution_count": null,
   "metadata": {
    "ExecuteTime": {
     "start_time": "2024-05-29T10:47:28.186125300Z"
    }
   },
   "outputs": [],
   "source": []
  }
 ],
 "metadata": {
  "kernelspec": {
   "display_name": "Python 3 (ipykernel)",
   "language": "python",
   "name": "python3"
  },
  "language_info": {
   "codemirror_mode": {
    "name": "ipython",
    "version": 3
   },
   "file_extension": ".py",
   "mimetype": "text/x-python",
   "name": "python",
   "nbconvert_exporter": "python",
   "pygments_lexer": "ipython3",
   "version": "3.10.1"
  }
 },
 "nbformat": 4,
 "nbformat_minor": 1
}
