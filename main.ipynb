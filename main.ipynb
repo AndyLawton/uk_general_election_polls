{
 "cells": [
  {
   "cell_type": "code",
   "execution_count": 59,
   "metadata": {
    "collapsed": true
   },
   "outputs": [],
   "source": [
    "import pandas as pd\n",
    "from dateutil.relativedelta import relativedelta"
   ]
  },
  {
   "cell_type": "code",
   "execution_count": 60,
   "outputs": [
    {
     "name": "stdout",
     "output_type": "stream",
     "text": [
      "The autoreload extension is already loaded. To reload it, use:\n",
      "  %reload_ext autoreload\n"
     ]
    }
   ],
   "source": [
    "%load_ext autoreload\n",
    "%autoreload 2"
   ],
   "metadata": {
    "collapsed": false,
    "pycharm": {
     "name": "#%%\n"
    }
   }
  },
  {
   "cell_type": "code",
   "execution_count": 61,
   "outputs": [],
   "source": [
    "from scripts.downloader import fetch_all_polls"
   ],
   "metadata": {
    "collapsed": false,
    "pycharm": {
     "name": "#%%\n"
    }
   }
  },
  {
   "cell_type": "code",
   "execution_count": 62,
   "outputs": [],
   "source": [
    "all_polls = fetch_all_polls(cleanup=True, refresh=False)"
   ],
   "metadata": {
    "collapsed": false,
    "pycharm": {
     "name": "#%%\n"
    }
   }
  },
  {
   "cell_type": "code",
   "execution_count": 63,
   "outputs": [],
   "source": [
    "all_polls.to_csv('poll_database/poll_database.csv', index=False)\n",
    "all_polls.to_excel('poll_database/poll_database.xlsx', index=False)\n",
    "all_polls.to_json('poll_database/poll_database.json', index=False, orient='split')"
   ],
   "metadata": {
    "collapsed": false,
    "pycharm": {
     "name": "#%%\n"
    }
   }
  },
  {
   "cell_type": "code",
   "execution_count": 64,
   "outputs": [],
   "source": [
    "display_columns = ['date_concluded', 'pollster', 'conservative', 'labour', 'liberal_democrat', 'lead']"
   ],
   "metadata": {
    "collapsed": false,
    "pycharm": {
     "name": "#%%\n"
    }
   }
  },
  {
   "cell_type": "code",
   "execution_count": 64,
   "outputs": [],
   "source": [],
   "metadata": {
    "collapsed": false,
    "pycharm": {
     "name": "#%%\n"
    }
   }
  },
  {
   "cell_type": "code",
   "execution_count": 65,
   "outputs": [
    {
     "data": {
      "text/plain": "  date_started date_concluded                      pollster  \\\n0   2022-02-07     2022-02-07  Redfield & Wilton Strategies   \n1   2022-02-04     2022-02-06                Savanta ComRes   \n2   2022-02-03     2022-02-04                     Deltapoll   \n3   2022-02-01     2022-02-02                     Techne UK   \n4   2022-02-01     2022-02-02                        YouGov   \n5   2022-01-31     2022-01-31  Redfield & Wilton Strategies   \n6   2022-01-28     2022-01-30                Savanta ComRes   \n7   2022-01-28     2022-01-28                     Techne UK   \n8   2022-01-27     2022-01-28                       Opinium   \n9   2022-01-26     2022-01-27                        YouGov   \n\n              client area sample_size  conservative  labour  liberal_democrat  \\\n0                NaN   GB        2000          32.0    42.0               9.0   \n1                TBA  TBA         TBA          33.0    42.0               9.0   \n2  The Sun on Sunday   GB        1587          34.0    41.0              10.0   \n3                NaN   UK        1631          32.0    40.0              10.0   \n4                NaN   GB        1661          32.0    41.0              10.0   \n5                NaN   GB        2000          33.0    40.0              11.0   \n6                TBA  TBA        2283          33.0    44.0               9.0   \n7                NaN   UK         TBA          31.0    38.0              12.0   \n8       The Observer   GB        1647          34.0    39.0               9.0   \n9          The Times   GB        1656          32.0    38.0              11.0   \n\n   alliance  ...  liberal  plaid_cymru  reform_uk  scottish_national_party  \\\n0       NaN  ...      NaN          1.0        4.0                      4.0   \n1       NaN  ...      NaN          1.0        NaN                      NaN   \n2       NaN  ...      NaN          0.0        2.0                      4.0   \n3       NaN  ...      NaN          1.0        8.0                      4.0   \n4       NaN  ...      NaN          1.0        4.0                      5.0   \n5       NaN  ...      NaN          0.0        3.0                      4.0   \n6       NaN  ...      NaN          1.0        NaN                      4.0   \n7       NaN  ...      NaN          1.0        2.0                      4.0   \n8       NaN  ...      NaN          1.0        NaN                      5.0   \n9       NaN  ...      NaN          0.0        3.0                      5.0   \n\n   social_democratic_party  united_kingdom_independence_party  reclaim_party  \\\n0                      NaN                                1.0            NaN   \n1                      NaN                                NaN            NaN   \n2                      NaN                                NaN            NaN   \n3                      NaN                                NaN            NaN   \n4                      NaN                                NaN            NaN   \n5                      NaN                                NaN            NaN   \n6                      NaN                                NaN            NaN   \n7                      NaN                                1.0            NaN   \n8                      NaN                                NaN            NaN   \n9                      NaN                                NaN            NaN   \n\n   others      lead  lead_value  \n0     2.0  lab+10.0        10.0  \n1     5.0   lab+9.0         9.0  \n2     1.0   lab+7.0         7.0  \n3     5.0   lab+8.0         8.0  \n4     1.0   lab+9.0         9.0  \n5     1.0   lab+7.0         7.0  \n6     4.0  lab+11.0        11.0  \n7     3.0   lab+7.0         7.0  \n8     3.0   lab+5.0         5.0  \n9     1.0   lab+6.0         6.0  \n\n[10 rows x 23 columns]",
      "text/html": "<div>\n<style scoped>\n    .dataframe tbody tr th:only-of-type {\n        vertical-align: middle;\n    }\n\n    .dataframe tbody tr th {\n        vertical-align: top;\n    }\n\n    .dataframe thead th {\n        text-align: right;\n    }\n</style>\n<table border=\"1\" class=\"dataframe\">\n  <thead>\n    <tr style=\"text-align: right;\">\n      <th></th>\n      <th>date_started</th>\n      <th>date_concluded</th>\n      <th>pollster</th>\n      <th>client</th>\n      <th>area</th>\n      <th>sample_size</th>\n      <th>conservative</th>\n      <th>labour</th>\n      <th>liberal_democrat</th>\n      <th>alliance</th>\n      <th>...</th>\n      <th>liberal</th>\n      <th>plaid_cymru</th>\n      <th>reform_uk</th>\n      <th>scottish_national_party</th>\n      <th>social_democratic_party</th>\n      <th>united_kingdom_independence_party</th>\n      <th>reclaim_party</th>\n      <th>others</th>\n      <th>lead</th>\n      <th>lead_value</th>\n    </tr>\n  </thead>\n  <tbody>\n    <tr>\n      <th>0</th>\n      <td>2022-02-07</td>\n      <td>2022-02-07</td>\n      <td>Redfield &amp; Wilton Strategies</td>\n      <td>NaN</td>\n      <td>GB</td>\n      <td>2000</td>\n      <td>32.0</td>\n      <td>42.0</td>\n      <td>9.0</td>\n      <td>NaN</td>\n      <td>...</td>\n      <td>NaN</td>\n      <td>1.0</td>\n      <td>4.0</td>\n      <td>4.0</td>\n      <td>NaN</td>\n      <td>1.0</td>\n      <td>NaN</td>\n      <td>2.0</td>\n      <td>lab+10.0</td>\n      <td>10.0</td>\n    </tr>\n    <tr>\n      <th>1</th>\n      <td>2022-02-04</td>\n      <td>2022-02-06</td>\n      <td>Savanta ComRes</td>\n      <td>TBA</td>\n      <td>TBA</td>\n      <td>TBA</td>\n      <td>33.0</td>\n      <td>42.0</td>\n      <td>9.0</td>\n      <td>NaN</td>\n      <td>...</td>\n      <td>NaN</td>\n      <td>1.0</td>\n      <td>NaN</td>\n      <td>NaN</td>\n      <td>NaN</td>\n      <td>NaN</td>\n      <td>NaN</td>\n      <td>5.0</td>\n      <td>lab+9.0</td>\n      <td>9.0</td>\n    </tr>\n    <tr>\n      <th>2</th>\n      <td>2022-02-03</td>\n      <td>2022-02-04</td>\n      <td>Deltapoll</td>\n      <td>The Sun on Sunday</td>\n      <td>GB</td>\n      <td>1587</td>\n      <td>34.0</td>\n      <td>41.0</td>\n      <td>10.0</td>\n      <td>NaN</td>\n      <td>...</td>\n      <td>NaN</td>\n      <td>0.0</td>\n      <td>2.0</td>\n      <td>4.0</td>\n      <td>NaN</td>\n      <td>NaN</td>\n      <td>NaN</td>\n      <td>1.0</td>\n      <td>lab+7.0</td>\n      <td>7.0</td>\n    </tr>\n    <tr>\n      <th>3</th>\n      <td>2022-02-01</td>\n      <td>2022-02-02</td>\n      <td>Techne UK</td>\n      <td>NaN</td>\n      <td>UK</td>\n      <td>1631</td>\n      <td>32.0</td>\n      <td>40.0</td>\n      <td>10.0</td>\n      <td>NaN</td>\n      <td>...</td>\n      <td>NaN</td>\n      <td>1.0</td>\n      <td>8.0</td>\n      <td>4.0</td>\n      <td>NaN</td>\n      <td>NaN</td>\n      <td>NaN</td>\n      <td>5.0</td>\n      <td>lab+8.0</td>\n      <td>8.0</td>\n    </tr>\n    <tr>\n      <th>4</th>\n      <td>2022-02-01</td>\n      <td>2022-02-02</td>\n      <td>YouGov</td>\n      <td>NaN</td>\n      <td>GB</td>\n      <td>1661</td>\n      <td>32.0</td>\n      <td>41.0</td>\n      <td>10.0</td>\n      <td>NaN</td>\n      <td>...</td>\n      <td>NaN</td>\n      <td>1.0</td>\n      <td>4.0</td>\n      <td>5.0</td>\n      <td>NaN</td>\n      <td>NaN</td>\n      <td>NaN</td>\n      <td>1.0</td>\n      <td>lab+9.0</td>\n      <td>9.0</td>\n    </tr>\n    <tr>\n      <th>5</th>\n      <td>2022-01-31</td>\n      <td>2022-01-31</td>\n      <td>Redfield &amp; Wilton Strategies</td>\n      <td>NaN</td>\n      <td>GB</td>\n      <td>2000</td>\n      <td>33.0</td>\n      <td>40.0</td>\n      <td>11.0</td>\n      <td>NaN</td>\n      <td>...</td>\n      <td>NaN</td>\n      <td>0.0</td>\n      <td>3.0</td>\n      <td>4.0</td>\n      <td>NaN</td>\n      <td>NaN</td>\n      <td>NaN</td>\n      <td>1.0</td>\n      <td>lab+7.0</td>\n      <td>7.0</td>\n    </tr>\n    <tr>\n      <th>6</th>\n      <td>2022-01-28</td>\n      <td>2022-01-30</td>\n      <td>Savanta ComRes</td>\n      <td>TBA</td>\n      <td>TBA</td>\n      <td>2283</td>\n      <td>33.0</td>\n      <td>44.0</td>\n      <td>9.0</td>\n      <td>NaN</td>\n      <td>...</td>\n      <td>NaN</td>\n      <td>1.0</td>\n      <td>NaN</td>\n      <td>4.0</td>\n      <td>NaN</td>\n      <td>NaN</td>\n      <td>NaN</td>\n      <td>4.0</td>\n      <td>lab+11.0</td>\n      <td>11.0</td>\n    </tr>\n    <tr>\n      <th>7</th>\n      <td>2022-01-28</td>\n      <td>2022-01-28</td>\n      <td>Techne UK</td>\n      <td>NaN</td>\n      <td>UK</td>\n      <td>TBA</td>\n      <td>31.0</td>\n      <td>38.0</td>\n      <td>12.0</td>\n      <td>NaN</td>\n      <td>...</td>\n      <td>NaN</td>\n      <td>1.0</td>\n      <td>2.0</td>\n      <td>4.0</td>\n      <td>NaN</td>\n      <td>1.0</td>\n      <td>NaN</td>\n      <td>3.0</td>\n      <td>lab+7.0</td>\n      <td>7.0</td>\n    </tr>\n    <tr>\n      <th>8</th>\n      <td>2022-01-27</td>\n      <td>2022-01-28</td>\n      <td>Opinium</td>\n      <td>The Observer</td>\n      <td>GB</td>\n      <td>1647</td>\n      <td>34.0</td>\n      <td>39.0</td>\n      <td>9.0</td>\n      <td>NaN</td>\n      <td>...</td>\n      <td>NaN</td>\n      <td>1.0</td>\n      <td>NaN</td>\n      <td>5.0</td>\n      <td>NaN</td>\n      <td>NaN</td>\n      <td>NaN</td>\n      <td>3.0</td>\n      <td>lab+5.0</td>\n      <td>5.0</td>\n    </tr>\n    <tr>\n      <th>9</th>\n      <td>2022-01-26</td>\n      <td>2022-01-27</td>\n      <td>YouGov</td>\n      <td>The Times</td>\n      <td>GB</td>\n      <td>1656</td>\n      <td>32.0</td>\n      <td>38.0</td>\n      <td>11.0</td>\n      <td>NaN</td>\n      <td>...</td>\n      <td>NaN</td>\n      <td>0.0</td>\n      <td>3.0</td>\n      <td>5.0</td>\n      <td>NaN</td>\n      <td>NaN</td>\n      <td>NaN</td>\n      <td>1.0</td>\n      <td>lab+6.0</td>\n      <td>6.0</td>\n    </tr>\n  </tbody>\n</table>\n<p>10 rows × 23 columns</p>\n</div>"
     },
     "execution_count": 65,
     "metadata": {},
     "output_type": "execute_result"
    }
   ],
   "source": [
    "all_polls[0:10]"
   ],
   "metadata": {
    "collapsed": false,
    "pycharm": {
     "name": "#%%\n"
    }
   }
  },
  {
   "cell_type": "code",
   "execution_count": 65,
   "outputs": [],
   "source": [],
   "metadata": {
    "collapsed": false,
    "pycharm": {
     "name": "#%%\n"
    }
   }
  },
  {
   "cell_type": "code",
   "execution_count": 66,
   "outputs": [
    {
     "data": {
      "text/plain": "     date_concluded   pollster  conservative  labour  liberal_democrat  \\\n11       2022-01-25  Survation          35.0    40.0              10.0   \n18       2022-01-17  Survation          33.0    43.0              10.0   \n43       2021-12-14  Survation          34.0    40.0               8.0   \n47       2021-12-11  Survation          32.0    39.0               9.0   \n54       2021-12-09  Survation          34.0    40.0              10.0   \n...             ...        ...           ...     ...               ...   \n2154     2013-05-24  Survation          24.0    35.0              10.0   \n2159     2013-05-18  Survation          24.0    35.0              11.0   \n2181     2013-04-28  Survation          29.0    36.0              12.0   \n2272     2013-01-25  Survation          31.0    38.0              10.0   \n2298     2013-01-05  Survation          29.0    38.0              11.0   \n\n          lead  \n11     lab+5.0  \n18    lab+10.0  \n43     lab+6.0  \n47     lab+7.0  \n54     lab+6.0  \n...        ...  \n2154  lab+11.0  \n2159  lab+11.0  \n2181   lab+7.0  \n2272   lab+7.0  \n2298   lab+9.0  \n\n[145 rows x 6 columns]",
      "text/html": "<div>\n<style scoped>\n    .dataframe tbody tr th:only-of-type {\n        vertical-align: middle;\n    }\n\n    .dataframe tbody tr th {\n        vertical-align: top;\n    }\n\n    .dataframe thead th {\n        text-align: right;\n    }\n</style>\n<table border=\"1\" class=\"dataframe\">\n  <thead>\n    <tr style=\"text-align: right;\">\n      <th></th>\n      <th>date_concluded</th>\n      <th>pollster</th>\n      <th>conservative</th>\n      <th>labour</th>\n      <th>liberal_democrat</th>\n      <th>lead</th>\n    </tr>\n  </thead>\n  <tbody>\n    <tr>\n      <th>11</th>\n      <td>2022-01-25</td>\n      <td>Survation</td>\n      <td>35.0</td>\n      <td>40.0</td>\n      <td>10.0</td>\n      <td>lab+5.0</td>\n    </tr>\n    <tr>\n      <th>18</th>\n      <td>2022-01-17</td>\n      <td>Survation</td>\n      <td>33.0</td>\n      <td>43.0</td>\n      <td>10.0</td>\n      <td>lab+10.0</td>\n    </tr>\n    <tr>\n      <th>43</th>\n      <td>2021-12-14</td>\n      <td>Survation</td>\n      <td>34.0</td>\n      <td>40.0</td>\n      <td>8.0</td>\n      <td>lab+6.0</td>\n    </tr>\n    <tr>\n      <th>47</th>\n      <td>2021-12-11</td>\n      <td>Survation</td>\n      <td>32.0</td>\n      <td>39.0</td>\n      <td>9.0</td>\n      <td>lab+7.0</td>\n    </tr>\n    <tr>\n      <th>54</th>\n      <td>2021-12-09</td>\n      <td>Survation</td>\n      <td>34.0</td>\n      <td>40.0</td>\n      <td>10.0</td>\n      <td>lab+6.0</td>\n    </tr>\n    <tr>\n      <th>...</th>\n      <td>...</td>\n      <td>...</td>\n      <td>...</td>\n      <td>...</td>\n      <td>...</td>\n      <td>...</td>\n    </tr>\n    <tr>\n      <th>2154</th>\n      <td>2013-05-24</td>\n      <td>Survation</td>\n      <td>24.0</td>\n      <td>35.0</td>\n      <td>10.0</td>\n      <td>lab+11.0</td>\n    </tr>\n    <tr>\n      <th>2159</th>\n      <td>2013-05-18</td>\n      <td>Survation</td>\n      <td>24.0</td>\n      <td>35.0</td>\n      <td>11.0</td>\n      <td>lab+11.0</td>\n    </tr>\n    <tr>\n      <th>2181</th>\n      <td>2013-04-28</td>\n      <td>Survation</td>\n      <td>29.0</td>\n      <td>36.0</td>\n      <td>12.0</td>\n      <td>lab+7.0</td>\n    </tr>\n    <tr>\n      <th>2272</th>\n      <td>2013-01-25</td>\n      <td>Survation</td>\n      <td>31.0</td>\n      <td>38.0</td>\n      <td>10.0</td>\n      <td>lab+7.0</td>\n    </tr>\n    <tr>\n      <th>2298</th>\n      <td>2013-01-05</td>\n      <td>Survation</td>\n      <td>29.0</td>\n      <td>38.0</td>\n      <td>11.0</td>\n      <td>lab+9.0</td>\n    </tr>\n  </tbody>\n</table>\n<p>145 rows × 6 columns</p>\n</div>"
     },
     "execution_count": 66,
     "metadata": {},
     "output_type": "execute_result"
    }
   ],
   "source": [
    "all_polls.query(\"pollster=='Survation' \")[display_columns]"
   ],
   "metadata": {
    "collapsed": false,
    "pycharm": {
     "name": "#%%\n"
    }
   }
  },
  {
   "cell_type": "code",
   "execution_count": 67,
   "outputs": [
    {
     "data": {
      "text/plain": "     date_concluded pollster  conservative  labour  liberal_democrat      lead\n4        2022-02-02   YouGov          32.0    41.0              10.0   lab+9.0\n9        2022-01-27   YouGov          32.0    38.0              11.0   lab+6.0\n16       2022-01-21   YouGov          32.0    39.0               8.0   lab+7.0\n22       2022-01-14   YouGov          31.0    39.0              11.0   lab+8.0\n26       2022-01-13   YouGov          29.0    40.0              11.0  lab+11.0\n...             ...      ...           ...     ...               ...       ...\n3745     2005-07-28   YouGov          31.0    40.0              21.0   lab+9.0\n3749     2005-06-30   YouGov          33.0    38.0              20.0   lab+5.0\n3752     2005-05-26   YouGov          31.0    38.0              23.0   lab+7.0\n3821     2003-04-24   YouGov          32.0    40.0              21.0   lab+8.0\n3823     2003-03-27   YouGov          33.0    40.0              20.0   lab+7.0\n\n[709 rows x 6 columns]",
      "text/html": "<div>\n<style scoped>\n    .dataframe tbody tr th:only-of-type {\n        vertical-align: middle;\n    }\n\n    .dataframe tbody tr th {\n        vertical-align: top;\n    }\n\n    .dataframe thead th {\n        text-align: right;\n    }\n</style>\n<table border=\"1\" class=\"dataframe\">\n  <thead>\n    <tr style=\"text-align: right;\">\n      <th></th>\n      <th>date_concluded</th>\n      <th>pollster</th>\n      <th>conservative</th>\n      <th>labour</th>\n      <th>liberal_democrat</th>\n      <th>lead</th>\n    </tr>\n  </thead>\n  <tbody>\n    <tr>\n      <th>4</th>\n      <td>2022-02-02</td>\n      <td>YouGov</td>\n      <td>32.0</td>\n      <td>41.0</td>\n      <td>10.0</td>\n      <td>lab+9.0</td>\n    </tr>\n    <tr>\n      <th>9</th>\n      <td>2022-01-27</td>\n      <td>YouGov</td>\n      <td>32.0</td>\n      <td>38.0</td>\n      <td>11.0</td>\n      <td>lab+6.0</td>\n    </tr>\n    <tr>\n      <th>16</th>\n      <td>2022-01-21</td>\n      <td>YouGov</td>\n      <td>32.0</td>\n      <td>39.0</td>\n      <td>8.0</td>\n      <td>lab+7.0</td>\n    </tr>\n    <tr>\n      <th>22</th>\n      <td>2022-01-14</td>\n      <td>YouGov</td>\n      <td>31.0</td>\n      <td>39.0</td>\n      <td>11.0</td>\n      <td>lab+8.0</td>\n    </tr>\n    <tr>\n      <th>26</th>\n      <td>2022-01-13</td>\n      <td>YouGov</td>\n      <td>29.0</td>\n      <td>40.0</td>\n      <td>11.0</td>\n      <td>lab+11.0</td>\n    </tr>\n    <tr>\n      <th>...</th>\n      <td>...</td>\n      <td>...</td>\n      <td>...</td>\n      <td>...</td>\n      <td>...</td>\n      <td>...</td>\n    </tr>\n    <tr>\n      <th>3745</th>\n      <td>2005-07-28</td>\n      <td>YouGov</td>\n      <td>31.0</td>\n      <td>40.0</td>\n      <td>21.0</td>\n      <td>lab+9.0</td>\n    </tr>\n    <tr>\n      <th>3749</th>\n      <td>2005-06-30</td>\n      <td>YouGov</td>\n      <td>33.0</td>\n      <td>38.0</td>\n      <td>20.0</td>\n      <td>lab+5.0</td>\n    </tr>\n    <tr>\n      <th>3752</th>\n      <td>2005-05-26</td>\n      <td>YouGov</td>\n      <td>31.0</td>\n      <td>38.0</td>\n      <td>23.0</td>\n      <td>lab+7.0</td>\n    </tr>\n    <tr>\n      <th>3821</th>\n      <td>2003-04-24</td>\n      <td>YouGov</td>\n      <td>32.0</td>\n      <td>40.0</td>\n      <td>21.0</td>\n      <td>lab+8.0</td>\n    </tr>\n    <tr>\n      <th>3823</th>\n      <td>2003-03-27</td>\n      <td>YouGov</td>\n      <td>33.0</td>\n      <td>40.0</td>\n      <td>20.0</td>\n      <td>lab+7.0</td>\n    </tr>\n  </tbody>\n</table>\n<p>709 rows × 6 columns</p>\n</div>"
     },
     "execution_count": 67,
     "metadata": {},
     "output_type": "execute_result"
    }
   ],
   "source": [
    "all_polls.query(\"pollster=='YouGov' and lead_value>=5 and labour>conservative\")[display_columns]"
   ],
   "metadata": {
    "collapsed": false,
    "pycharm": {
     "name": "#%%\n"
    }
   }
  },
  {
   "cell_type": "code",
   "execution_count": 68,
   "outputs": [
    {
     "data": {
      "text/plain": "     date_concluded pollster  conservative  labour  liberal_democrat      lead\n4        2022-02-02   YouGov          32.0    41.0              10.0   lab+9.0\n280      2021-01-27   YouGov          37.0    41.0               6.0   lab+4.0\n297      2020-12-22   YouGov          37.0    41.0               5.0   lab+4.0\n788      2018-07-17   YouGov          36.0    41.0               9.0   lab+5.0\n833      2018-04-05   YouGov          42.0    41.0               7.0   con+1.0\n...             ...      ...           ...     ...               ...       ...\n3589     2007-09-28   YouGov          32.0    43.0              15.0  lab+11.0\n3593     2007-09-25   YouGov          33.0    44.0              13.0  lab+11.0\n3604     2007-08-28   YouGov          33.0    41.0              14.0   lab+8.0\n3607     2007-08-10   YouGov          32.0    42.0              14.0  lab+10.0\n3612     2007-07-25   YouGov          32.0    41.0              16.0   lab+9.0\n\n[545 rows x 6 columns]",
      "text/html": "<div>\n<style scoped>\n    .dataframe tbody tr th:only-of-type {\n        vertical-align: middle;\n    }\n\n    .dataframe tbody tr th {\n        vertical-align: top;\n    }\n\n    .dataframe thead th {\n        text-align: right;\n    }\n</style>\n<table border=\"1\" class=\"dataframe\">\n  <thead>\n    <tr style=\"text-align: right;\">\n      <th></th>\n      <th>date_concluded</th>\n      <th>pollster</th>\n      <th>conservative</th>\n      <th>labour</th>\n      <th>liberal_democrat</th>\n      <th>lead</th>\n    </tr>\n  </thead>\n  <tbody>\n    <tr>\n      <th>4</th>\n      <td>2022-02-02</td>\n      <td>YouGov</td>\n      <td>32.0</td>\n      <td>41.0</td>\n      <td>10.0</td>\n      <td>lab+9.0</td>\n    </tr>\n    <tr>\n      <th>280</th>\n      <td>2021-01-27</td>\n      <td>YouGov</td>\n      <td>37.0</td>\n      <td>41.0</td>\n      <td>6.0</td>\n      <td>lab+4.0</td>\n    </tr>\n    <tr>\n      <th>297</th>\n      <td>2020-12-22</td>\n      <td>YouGov</td>\n      <td>37.0</td>\n      <td>41.0</td>\n      <td>5.0</td>\n      <td>lab+4.0</td>\n    </tr>\n    <tr>\n      <th>788</th>\n      <td>2018-07-17</td>\n      <td>YouGov</td>\n      <td>36.0</td>\n      <td>41.0</td>\n      <td>9.0</td>\n      <td>lab+5.0</td>\n    </tr>\n    <tr>\n      <th>833</th>\n      <td>2018-04-05</td>\n      <td>YouGov</td>\n      <td>42.0</td>\n      <td>41.0</td>\n      <td>7.0</td>\n      <td>con+1.0</td>\n    </tr>\n    <tr>\n      <th>...</th>\n      <td>...</td>\n      <td>...</td>\n      <td>...</td>\n      <td>...</td>\n      <td>...</td>\n      <td>...</td>\n    </tr>\n    <tr>\n      <th>3589</th>\n      <td>2007-09-28</td>\n      <td>YouGov</td>\n      <td>32.0</td>\n      <td>43.0</td>\n      <td>15.0</td>\n      <td>lab+11.0</td>\n    </tr>\n    <tr>\n      <th>3593</th>\n      <td>2007-09-25</td>\n      <td>YouGov</td>\n      <td>33.0</td>\n      <td>44.0</td>\n      <td>13.0</td>\n      <td>lab+11.0</td>\n    </tr>\n    <tr>\n      <th>3604</th>\n      <td>2007-08-28</td>\n      <td>YouGov</td>\n      <td>33.0</td>\n      <td>41.0</td>\n      <td>14.0</td>\n      <td>lab+8.0</td>\n    </tr>\n    <tr>\n      <th>3607</th>\n      <td>2007-08-10</td>\n      <td>YouGov</td>\n      <td>32.0</td>\n      <td>42.0</td>\n      <td>14.0</td>\n      <td>lab+10.0</td>\n    </tr>\n    <tr>\n      <th>3612</th>\n      <td>2007-07-25</td>\n      <td>YouGov</td>\n      <td>32.0</td>\n      <td>41.0</td>\n      <td>16.0</td>\n      <td>lab+9.0</td>\n    </tr>\n  </tbody>\n</table>\n<p>545 rows × 6 columns</p>\n</div>"
     },
     "execution_count": 68,
     "metadata": {},
     "output_type": "execute_result"
    }
   ],
   "source": [
    "all_polls.query(\"pollster=='YouGov' and labour >= 41\")[display_columns]"
   ],
   "metadata": {
    "collapsed": false,
    "pycharm": {
     "name": "#%%\n"
    }
   }
  },
  {
   "cell_type": "code",
   "execution_count": 69,
   "outputs": [
    {
     "data": {
      "text/plain": "    date_concluded   pollster  conservative  labour  liberal_democrat  \\\n2       2022-02-04  Deltapoll          34.0    41.0              10.0   \n10      2022-01-27  Deltapoll          32.0    42.0              10.0   \n20      2022-01-16  Deltapoll          32.0    41.0              11.0   \n33      2021-12-30  Deltapoll          35.0    40.0              10.0   \n670     2019-03-30  Deltapoll          36.0    41.0               7.0   \n789     2018-07-14  Deltapoll          37.0    42.0               7.0   \n\n         lead  \n2     lab+7.0  \n10   lab+10.0  \n20    lab+9.0  \n33    lab+5.0  \n670   lab+5.0  \n789   lab+5.0  ",
      "text/html": "<div>\n<style scoped>\n    .dataframe tbody tr th:only-of-type {\n        vertical-align: middle;\n    }\n\n    .dataframe tbody tr th {\n        vertical-align: top;\n    }\n\n    .dataframe thead th {\n        text-align: right;\n    }\n</style>\n<table border=\"1\" class=\"dataframe\">\n  <thead>\n    <tr style=\"text-align: right;\">\n      <th></th>\n      <th>date_concluded</th>\n      <th>pollster</th>\n      <th>conservative</th>\n      <th>labour</th>\n      <th>liberal_democrat</th>\n      <th>lead</th>\n    </tr>\n  </thead>\n  <tbody>\n    <tr>\n      <th>2</th>\n      <td>2022-02-04</td>\n      <td>Deltapoll</td>\n      <td>34.0</td>\n      <td>41.0</td>\n      <td>10.0</td>\n      <td>lab+7.0</td>\n    </tr>\n    <tr>\n      <th>10</th>\n      <td>2022-01-27</td>\n      <td>Deltapoll</td>\n      <td>32.0</td>\n      <td>42.0</td>\n      <td>10.0</td>\n      <td>lab+10.0</td>\n    </tr>\n    <tr>\n      <th>20</th>\n      <td>2022-01-16</td>\n      <td>Deltapoll</td>\n      <td>32.0</td>\n      <td>41.0</td>\n      <td>11.0</td>\n      <td>lab+9.0</td>\n    </tr>\n    <tr>\n      <th>33</th>\n      <td>2021-12-30</td>\n      <td>Deltapoll</td>\n      <td>35.0</td>\n      <td>40.0</td>\n      <td>10.0</td>\n      <td>lab+5.0</td>\n    </tr>\n    <tr>\n      <th>670</th>\n      <td>2019-03-30</td>\n      <td>Deltapoll</td>\n      <td>36.0</td>\n      <td>41.0</td>\n      <td>7.0</td>\n      <td>lab+5.0</td>\n    </tr>\n    <tr>\n      <th>789</th>\n      <td>2018-07-14</td>\n      <td>Deltapoll</td>\n      <td>37.0</td>\n      <td>42.0</td>\n      <td>7.0</td>\n      <td>lab+5.0</td>\n    </tr>\n  </tbody>\n</table>\n</div>"
     },
     "execution_count": 69,
     "metadata": {},
     "output_type": "execute_result"
    }
   ],
   "source": [
    "all_polls.query(\"pollster=='Deltapoll' and lead_value>=5 and labour>conservative\")[display_columns]"
   ],
   "metadata": {
    "collapsed": false,
    "pycharm": {
     "name": "#%%\n"
    }
   }
  },
  {
   "cell_type": "code",
   "execution_count": 70,
   "outputs": [
    {
     "data": {
      "text/plain": "     date_concluded        pollster  conservative  labour  liberal_democrat  \\\n6        2022-01-30  Savanta ComRes          33.0    44.0               9.0   \n21       2022-01-14  Savanta ComRes          32.0    42.0              11.0   \n660      2019-04-16  Savanta ComRes          23.0    33.0               7.0   \n2152     2013-05-24  Savanta ComRes          26.0    37.0               9.0   \n2213     2013-03-24  Savanta ComRes          28.0    38.0              12.0   \n2242     2013-02-24  Savanta ComRes          31.0    43.0               8.0   \n2310     2012-12-16  Savanta ComRes          28.0    39.0               9.0   \n2479     2012-06-15  Savanta ComRes          32.0    42.0               9.0   \n2554     2012-03-26  Savanta ComRes          33.0    43.0              11.0   \n\n          lead  \n6     lab+11.0  \n21    lab+10.0  \n660   lab+10.0  \n2152  lab+11.0  \n2213  lab+10.0  \n2242  lab+12.0  \n2310  lab+11.0  \n2479  lab+10.0  \n2554  lab+10.0  ",
      "text/html": "<div>\n<style scoped>\n    .dataframe tbody tr th:only-of-type {\n        vertical-align: middle;\n    }\n\n    .dataframe tbody tr th {\n        vertical-align: top;\n    }\n\n    .dataframe thead th {\n        text-align: right;\n    }\n</style>\n<table border=\"1\" class=\"dataframe\">\n  <thead>\n    <tr style=\"text-align: right;\">\n      <th></th>\n      <th>date_concluded</th>\n      <th>pollster</th>\n      <th>conservative</th>\n      <th>labour</th>\n      <th>liberal_democrat</th>\n      <th>lead</th>\n    </tr>\n  </thead>\n  <tbody>\n    <tr>\n      <th>6</th>\n      <td>2022-01-30</td>\n      <td>Savanta ComRes</td>\n      <td>33.0</td>\n      <td>44.0</td>\n      <td>9.0</td>\n      <td>lab+11.0</td>\n    </tr>\n    <tr>\n      <th>21</th>\n      <td>2022-01-14</td>\n      <td>Savanta ComRes</td>\n      <td>32.0</td>\n      <td>42.0</td>\n      <td>11.0</td>\n      <td>lab+10.0</td>\n    </tr>\n    <tr>\n      <th>660</th>\n      <td>2019-04-16</td>\n      <td>Savanta ComRes</td>\n      <td>23.0</td>\n      <td>33.0</td>\n      <td>7.0</td>\n      <td>lab+10.0</td>\n    </tr>\n    <tr>\n      <th>2152</th>\n      <td>2013-05-24</td>\n      <td>Savanta ComRes</td>\n      <td>26.0</td>\n      <td>37.0</td>\n      <td>9.0</td>\n      <td>lab+11.0</td>\n    </tr>\n    <tr>\n      <th>2213</th>\n      <td>2013-03-24</td>\n      <td>Savanta ComRes</td>\n      <td>28.0</td>\n      <td>38.0</td>\n      <td>12.0</td>\n      <td>lab+10.0</td>\n    </tr>\n    <tr>\n      <th>2242</th>\n      <td>2013-02-24</td>\n      <td>Savanta ComRes</td>\n      <td>31.0</td>\n      <td>43.0</td>\n      <td>8.0</td>\n      <td>lab+12.0</td>\n    </tr>\n    <tr>\n      <th>2310</th>\n      <td>2012-12-16</td>\n      <td>Savanta ComRes</td>\n      <td>28.0</td>\n      <td>39.0</td>\n      <td>9.0</td>\n      <td>lab+11.0</td>\n    </tr>\n    <tr>\n      <th>2479</th>\n      <td>2012-06-15</td>\n      <td>Savanta ComRes</td>\n      <td>32.0</td>\n      <td>42.0</td>\n      <td>9.0</td>\n      <td>lab+10.0</td>\n    </tr>\n    <tr>\n      <th>2554</th>\n      <td>2012-03-26</td>\n      <td>Savanta ComRes</td>\n      <td>33.0</td>\n      <td>43.0</td>\n      <td>11.0</td>\n      <td>lab+10.0</td>\n    </tr>\n  </tbody>\n</table>\n</div>"
     },
     "execution_count": 70,
     "metadata": {},
     "output_type": "execute_result"
    }
   ],
   "source": [
    "all_polls.query(\"pollster=='Savanta ComRes' and lead_value>=10 and labour>conservative\")[display_columns]"
   ],
   "metadata": {
    "collapsed": false,
    "pycharm": {
     "name": "#%%\n"
    }
   }
  },
  {
   "cell_type": "code",
   "execution_count": 71,
   "outputs": [
    {
     "data": {
      "text/plain": "     date_concluded        pollster  conservative  labour  liberal_democrat  \\\n6        2022-01-30  Savanta ComRes          33.0    44.0               9.0   \n840      2018-03-08       Survation          37.0    44.0               9.0   \n869      2017-12-01       Survation          37.0    45.0               6.0   \n888      2017-10-05       Survation          38.0    44.0               7.0   \n896      2017-09-18      Ipsos MORI          40.0    44.0               9.0   \n...             ...             ...           ...     ...               ...   \n5669     1971-01-17          Gallup          42.5    47.0               NaN   \n5670     1970-12-13          Gallup          46.0    44.5               NaN   \n5671     1970-11-15          Gallup          43.5    48.0               NaN   \n5672     1970-10-18          Gallup          46.5    46.5               NaN   \n5673     1970-09-13          Gallup          46.5    44.0               NaN   \n\n          lead  \n6     lab+11.0  \n840    lab+7.0  \n869    lab+8.0  \n888    lab+6.0  \n896    lab+4.0  \n...        ...  \n5669   lab+4.5  \n5670   con+1.5  \n5671   lab+4.5  \n5672       Tie  \n5673   con+2.5  \n\n[927 rows x 6 columns]",
      "text/html": "<div>\n<style scoped>\n    .dataframe tbody tr th:only-of-type {\n        vertical-align: middle;\n    }\n\n    .dataframe tbody tr th {\n        vertical-align: top;\n    }\n\n    .dataframe thead th {\n        text-align: right;\n    }\n</style>\n<table border=\"1\" class=\"dataframe\">\n  <thead>\n    <tr style=\"text-align: right;\">\n      <th></th>\n      <th>date_concluded</th>\n      <th>pollster</th>\n      <th>conservative</th>\n      <th>labour</th>\n      <th>liberal_democrat</th>\n      <th>lead</th>\n    </tr>\n  </thead>\n  <tbody>\n    <tr>\n      <th>6</th>\n      <td>2022-01-30</td>\n      <td>Savanta ComRes</td>\n      <td>33.0</td>\n      <td>44.0</td>\n      <td>9.0</td>\n      <td>lab+11.0</td>\n    </tr>\n    <tr>\n      <th>840</th>\n      <td>2018-03-08</td>\n      <td>Survation</td>\n      <td>37.0</td>\n      <td>44.0</td>\n      <td>9.0</td>\n      <td>lab+7.0</td>\n    </tr>\n    <tr>\n      <th>869</th>\n      <td>2017-12-01</td>\n      <td>Survation</td>\n      <td>37.0</td>\n      <td>45.0</td>\n      <td>6.0</td>\n      <td>lab+8.0</td>\n    </tr>\n    <tr>\n      <th>888</th>\n      <td>2017-10-05</td>\n      <td>Survation</td>\n      <td>38.0</td>\n      <td>44.0</td>\n      <td>7.0</td>\n      <td>lab+6.0</td>\n    </tr>\n    <tr>\n      <th>896</th>\n      <td>2017-09-18</td>\n      <td>Ipsos MORI</td>\n      <td>40.0</td>\n      <td>44.0</td>\n      <td>9.0</td>\n      <td>lab+4.0</td>\n    </tr>\n    <tr>\n      <th>...</th>\n      <td>...</td>\n      <td>...</td>\n      <td>...</td>\n      <td>...</td>\n      <td>...</td>\n      <td>...</td>\n    </tr>\n    <tr>\n      <th>5669</th>\n      <td>1971-01-17</td>\n      <td>Gallup</td>\n      <td>42.5</td>\n      <td>47.0</td>\n      <td>NaN</td>\n      <td>lab+4.5</td>\n    </tr>\n    <tr>\n      <th>5670</th>\n      <td>1970-12-13</td>\n      <td>Gallup</td>\n      <td>46.0</td>\n      <td>44.5</td>\n      <td>NaN</td>\n      <td>con+1.5</td>\n    </tr>\n    <tr>\n      <th>5671</th>\n      <td>1970-11-15</td>\n      <td>Gallup</td>\n      <td>43.5</td>\n      <td>48.0</td>\n      <td>NaN</td>\n      <td>lab+4.5</td>\n    </tr>\n    <tr>\n      <th>5672</th>\n      <td>1970-10-18</td>\n      <td>Gallup</td>\n      <td>46.5</td>\n      <td>46.5</td>\n      <td>NaN</td>\n      <td>Tie</td>\n    </tr>\n    <tr>\n      <th>5673</th>\n      <td>1970-09-13</td>\n      <td>Gallup</td>\n      <td>46.5</td>\n      <td>44.0</td>\n      <td>NaN</td>\n      <td>con+2.5</td>\n    </tr>\n  </tbody>\n</table>\n<p>927 rows × 6 columns</p>\n</div>"
     },
     "execution_count": 71,
     "metadata": {},
     "output_type": "execute_result"
    }
   ],
   "source": [
    "all_polls.query(\"labour>=44\")[display_columns]"
   ],
   "metadata": {
    "collapsed": false,
    "pycharm": {
     "name": "#%%\n"
    }
   }
  },
  {
   "cell_type": "code",
   "execution_count": 72,
   "outputs": [
    {
     "data": {
      "text/plain": "     date_concluded    pollster  conservative  labour  liberal_democrat  \\\n3860     2001-06-02  Ipsos MORI          27.0    50.0              17.0   \n3861     2001-06-01  Ipsos MORI          27.0    50.0              17.0   \n3871     2001-05-22  Ipsos MORI          27.0    52.0              16.0   \n3874     2001-05-20      Gallup          25.0    55.0              14.0   \n3876     2001-05-15  Ipsos MORI          28.0    54.0              12.0   \n...             ...         ...           ...     ...               ...   \n5660     1971-09-20      Gallup          35.0    54.0               NaN   \n5662     1971-07-12      Gallup          33.5    55.0               NaN   \n5663     1971-06-13      Gallup          36.0    54.0               NaN   \n5664     1971-05-16      Gallup          38.0    50.0               NaN   \n5667     1971-03-14      Gallup          38.5    50.5               NaN   \n\n          lead  green  \n3860  lab+23.0    NaN  \n3861  lab+23.0    NaN  \n3871  lab+25.0    NaN  \n3874  lab+30.0    NaN  \n3876  lab+26.0    NaN  \n...        ...    ...  \n5660  lab+19.0    NaN  \n5662  lab+21.5    NaN  \n5663  lab+18.0    NaN  \n5664  lab+12.0    NaN  \n5667  lab+12.0    NaN  \n\n[341 rows x 7 columns]",
      "text/html": "<div>\n<style scoped>\n    .dataframe tbody tr th:only-of-type {\n        vertical-align: middle;\n    }\n\n    .dataframe tbody tr th {\n        vertical-align: top;\n    }\n\n    .dataframe thead th {\n        text-align: right;\n    }\n</style>\n<table border=\"1\" class=\"dataframe\">\n  <thead>\n    <tr style=\"text-align: right;\">\n      <th></th>\n      <th>date_concluded</th>\n      <th>pollster</th>\n      <th>conservative</th>\n      <th>labour</th>\n      <th>liberal_democrat</th>\n      <th>lead</th>\n      <th>green</th>\n    </tr>\n  </thead>\n  <tbody>\n    <tr>\n      <th>3860</th>\n      <td>2001-06-02</td>\n      <td>Ipsos MORI</td>\n      <td>27.0</td>\n      <td>50.0</td>\n      <td>17.0</td>\n      <td>lab+23.0</td>\n      <td>NaN</td>\n    </tr>\n    <tr>\n      <th>3861</th>\n      <td>2001-06-01</td>\n      <td>Ipsos MORI</td>\n      <td>27.0</td>\n      <td>50.0</td>\n      <td>17.0</td>\n      <td>lab+23.0</td>\n      <td>NaN</td>\n    </tr>\n    <tr>\n      <th>3871</th>\n      <td>2001-05-22</td>\n      <td>Ipsos MORI</td>\n      <td>27.0</td>\n      <td>52.0</td>\n      <td>16.0</td>\n      <td>lab+25.0</td>\n      <td>NaN</td>\n    </tr>\n    <tr>\n      <th>3874</th>\n      <td>2001-05-20</td>\n      <td>Gallup</td>\n      <td>25.0</td>\n      <td>55.0</td>\n      <td>14.0</td>\n      <td>lab+30.0</td>\n      <td>NaN</td>\n    </tr>\n    <tr>\n      <th>3876</th>\n      <td>2001-05-15</td>\n      <td>Ipsos MORI</td>\n      <td>28.0</td>\n      <td>54.0</td>\n      <td>12.0</td>\n      <td>lab+26.0</td>\n      <td>NaN</td>\n    </tr>\n    <tr>\n      <th>...</th>\n      <td>...</td>\n      <td>...</td>\n      <td>...</td>\n      <td>...</td>\n      <td>...</td>\n      <td>...</td>\n      <td>...</td>\n    </tr>\n    <tr>\n      <th>5660</th>\n      <td>1971-09-20</td>\n      <td>Gallup</td>\n      <td>35.0</td>\n      <td>54.0</td>\n      <td>NaN</td>\n      <td>lab+19.0</td>\n      <td>NaN</td>\n    </tr>\n    <tr>\n      <th>5662</th>\n      <td>1971-07-12</td>\n      <td>Gallup</td>\n      <td>33.5</td>\n      <td>55.0</td>\n      <td>NaN</td>\n      <td>lab+21.5</td>\n      <td>NaN</td>\n    </tr>\n    <tr>\n      <th>5663</th>\n      <td>1971-06-13</td>\n      <td>Gallup</td>\n      <td>36.0</td>\n      <td>54.0</td>\n      <td>NaN</td>\n      <td>lab+18.0</td>\n      <td>NaN</td>\n    </tr>\n    <tr>\n      <th>5664</th>\n      <td>1971-05-16</td>\n      <td>Gallup</td>\n      <td>38.0</td>\n      <td>50.0</td>\n      <td>NaN</td>\n      <td>lab+12.0</td>\n      <td>NaN</td>\n    </tr>\n    <tr>\n      <th>5667</th>\n      <td>1971-03-14</td>\n      <td>Gallup</td>\n      <td>38.5</td>\n      <td>50.5</td>\n      <td>NaN</td>\n      <td>lab+12.0</td>\n      <td>NaN</td>\n    </tr>\n  </tbody>\n</table>\n<p>341 rows × 7 columns</p>\n</div>"
     },
     "execution_count": 72,
     "metadata": {},
     "output_type": "execute_result"
    }
   ],
   "source": [
    "all_polls.query(\"labour>=50\")[display_columns+['green']]"
   ],
   "metadata": {
    "collapsed": false,
    "pycharm": {
     "name": "#%%\n"
    }
   }
  },
  {
   "cell_type": "code",
   "execution_count": 73,
   "outputs": [
    {
     "data": {
      "text/plain": "     date_concluded                      pollster  conservative  labour  \\\n0        2022-02-07  Redfield & Wilton Strategies          32.0    42.0   \n6        2022-01-30                Savanta ComRes          33.0    44.0   \n10       2022-01-27                     Deltapoll          32.0    42.0   \n17       2022-01-17  Redfield & Wilton Strategies          30.0    43.0   \n18       2022-01-17                     Survation          33.0    43.0   \n...             ...                           ...           ...     ...   \n5660     1971-09-20                        Gallup          35.0    54.0   \n5662     1971-07-12                        Gallup          33.5    55.0   \n5663     1971-06-13                        Gallup          36.0    54.0   \n5664     1971-05-16                        Gallup          38.0    50.0   \n5667     1971-03-14                        Gallup          38.5    50.5   \n\n      liberal_democrat      lead  \n0                  9.0  lab+10.0  \n6                  9.0  lab+11.0  \n10                10.0  lab+10.0  \n17                 9.0  lab+13.0  \n18                10.0  lab+10.0  \n...                ...       ...  \n5660               NaN  lab+19.0  \n5662               NaN  lab+21.5  \n5663               NaN  lab+18.0  \n5664               NaN  lab+12.0  \n5667               NaN  lab+12.0  \n\n[968 rows x 6 columns]",
      "text/html": "<div>\n<style scoped>\n    .dataframe tbody tr th:only-of-type {\n        vertical-align: middle;\n    }\n\n    .dataframe tbody tr th {\n        vertical-align: top;\n    }\n\n    .dataframe thead th {\n        text-align: right;\n    }\n</style>\n<table border=\"1\" class=\"dataframe\">\n  <thead>\n    <tr style=\"text-align: right;\">\n      <th></th>\n      <th>date_concluded</th>\n      <th>pollster</th>\n      <th>conservative</th>\n      <th>labour</th>\n      <th>liberal_democrat</th>\n      <th>lead</th>\n    </tr>\n  </thead>\n  <tbody>\n    <tr>\n      <th>0</th>\n      <td>2022-02-07</td>\n      <td>Redfield &amp; Wilton Strategies</td>\n      <td>32.0</td>\n      <td>42.0</td>\n      <td>9.0</td>\n      <td>lab+10.0</td>\n    </tr>\n    <tr>\n      <th>6</th>\n      <td>2022-01-30</td>\n      <td>Savanta ComRes</td>\n      <td>33.0</td>\n      <td>44.0</td>\n      <td>9.0</td>\n      <td>lab+11.0</td>\n    </tr>\n    <tr>\n      <th>10</th>\n      <td>2022-01-27</td>\n      <td>Deltapoll</td>\n      <td>32.0</td>\n      <td>42.0</td>\n      <td>10.0</td>\n      <td>lab+10.0</td>\n    </tr>\n    <tr>\n      <th>17</th>\n      <td>2022-01-17</td>\n      <td>Redfield &amp; Wilton Strategies</td>\n      <td>30.0</td>\n      <td>43.0</td>\n      <td>9.0</td>\n      <td>lab+13.0</td>\n    </tr>\n    <tr>\n      <th>18</th>\n      <td>2022-01-17</td>\n      <td>Survation</td>\n      <td>33.0</td>\n      <td>43.0</td>\n      <td>10.0</td>\n      <td>lab+10.0</td>\n    </tr>\n    <tr>\n      <th>...</th>\n      <td>...</td>\n      <td>...</td>\n      <td>...</td>\n      <td>...</td>\n      <td>...</td>\n      <td>...</td>\n    </tr>\n    <tr>\n      <th>5660</th>\n      <td>1971-09-20</td>\n      <td>Gallup</td>\n      <td>35.0</td>\n      <td>54.0</td>\n      <td>NaN</td>\n      <td>lab+19.0</td>\n    </tr>\n    <tr>\n      <th>5662</th>\n      <td>1971-07-12</td>\n      <td>Gallup</td>\n      <td>33.5</td>\n      <td>55.0</td>\n      <td>NaN</td>\n      <td>lab+21.5</td>\n    </tr>\n    <tr>\n      <th>5663</th>\n      <td>1971-06-13</td>\n      <td>Gallup</td>\n      <td>36.0</td>\n      <td>54.0</td>\n      <td>NaN</td>\n      <td>lab+18.0</td>\n    </tr>\n    <tr>\n      <th>5664</th>\n      <td>1971-05-16</td>\n      <td>Gallup</td>\n      <td>38.0</td>\n      <td>50.0</td>\n      <td>NaN</td>\n      <td>lab+12.0</td>\n    </tr>\n    <tr>\n      <th>5667</th>\n      <td>1971-03-14</td>\n      <td>Gallup</td>\n      <td>38.5</td>\n      <td>50.5</td>\n      <td>NaN</td>\n      <td>lab+12.0</td>\n    </tr>\n  </tbody>\n</table>\n<p>968 rows × 6 columns</p>\n</div>"
     },
     "execution_count": 73,
     "metadata": {},
     "output_type": "execute_result"
    }
   ],
   "source": [
    "all_polls.query(\"lead_value >= 10 and labour>conservative\")[display_columns]"
   ],
   "metadata": {
    "collapsed": false,
    "pycharm": {
     "name": "#%%\n"
    }
   }
  },
  {
   "cell_type": "code",
   "execution_count": 74,
   "outputs": [
    {
     "data": {
      "text/plain": "     date_started date_concluded                      pollster  \\\n0      2022-02-07     2022-02-07  Redfield & Wilton Strategies   \n1      2022-02-04     2022-02-06                Savanta ComRes   \n2      2022-02-03     2022-02-04                     Deltapoll   \n3      2022-02-01     2022-02-02                     Techne UK   \n4      2022-02-01     2022-02-02                        YouGov   \n...           ...            ...                           ...   \n5671   1970-11-15     1970-11-15                        Gallup   \n5672   1970-10-18     1970-10-18                        Gallup   \n5673   1970-09-13     1970-09-13                        Gallup   \n5674   1970-08-16     1970-08-16                        Gallup   \n5675   1970-06-18     1970-06-18              General Election   \n\n                     client area sample_size  conservative  labour  \\\n0                       NaN   GB        2000          32.0    42.0   \n1                       TBA  TBA         TBA          33.0    42.0   \n2         The Sun on Sunday   GB        1587          34.0    41.0   \n3                       NaN   UK        1631          32.0    40.0   \n4                       NaN   GB        1661          32.0    41.0   \n...                     ...  ...         ...           ...     ...   \n5671    The Daily Telegraph  NaN         NaN          43.5    48.0   \n5672    The Daily Telegraph  NaN         NaN          46.5    46.5   \n5673    The Daily Telegraph  NaN         NaN          46.5    44.0   \n5674    The Daily Telegraph  NaN         NaN          47.0    43.5   \n5675  1970 general election  NaN         NaN          46.4    43.1   \n\n      liberal_democrat  alliance  ...  liberal  plaid_cymru  reform_uk  \\\n0                  9.0       NaN  ...      NaN          1.0        4.0   \n1                  9.0       NaN  ...      NaN          1.0        NaN   \n2                 10.0       NaN  ...      NaN          0.0        2.0   \n3                 10.0       NaN  ...      NaN          1.0        8.0   \n4                 10.0       NaN  ...      NaN          1.0        4.0   \n...                ...       ...  ...      ...          ...        ...   \n5671               NaN       NaN  ...      6.5          NaN        NaN   \n5672               NaN       NaN  ...      6.5          NaN        NaN   \n5673               NaN       NaN  ...      8.0          NaN        NaN   \n5674               NaN       NaN  ...      7.5          NaN        NaN   \n5675               NaN       NaN  ...      7.5          NaN        NaN   \n\n      scottish_national_party  social_democratic_party  \\\n0                         4.0                      NaN   \n1                         NaN                      NaN   \n2                         4.0                      NaN   \n3                         4.0                      NaN   \n4                         5.0                      NaN   \n...                       ...                      ...   \n5671                      NaN                      NaN   \n5672                      NaN                      NaN   \n5673                      NaN                      NaN   \n5674                      NaN                      NaN   \n5675                      NaN                      NaN   \n\n      united_kingdom_independence_party  reclaim_party  others      lead  \\\n0                                   1.0            NaN     2.0  lab+10.0   \n1                                   NaN            NaN     5.0   lab+9.0   \n2                                   NaN            NaN     1.0   lab+7.0   \n3                                   NaN            NaN     5.0   lab+8.0   \n4                                   NaN            NaN     1.0   lab+9.0   \n...                                 ...            ...     ...       ...   \n5671                                NaN            NaN     NaN   lab+4.5   \n5672                                NaN            NaN     NaN       Tie   \n5673                                NaN            NaN     NaN   con+2.5   \n5674                                NaN            NaN     NaN   con+3.5   \n5675                                NaN            NaN     NaN   con+3.3   \n\n      lead_value  \n0           10.0  \n1            9.0  \n2            7.0  \n3            8.0  \n4            9.0  \n...          ...  \n5671         4.5  \n5672         0.0  \n5673         2.5  \n5674         3.5  \n5675         3.3  \n\n[5676 rows x 23 columns]",
      "text/html": "<div>\n<style scoped>\n    .dataframe tbody tr th:only-of-type {\n        vertical-align: middle;\n    }\n\n    .dataframe tbody tr th {\n        vertical-align: top;\n    }\n\n    .dataframe thead th {\n        text-align: right;\n    }\n</style>\n<table border=\"1\" class=\"dataframe\">\n  <thead>\n    <tr style=\"text-align: right;\">\n      <th></th>\n      <th>date_started</th>\n      <th>date_concluded</th>\n      <th>pollster</th>\n      <th>client</th>\n      <th>area</th>\n      <th>sample_size</th>\n      <th>conservative</th>\n      <th>labour</th>\n      <th>liberal_democrat</th>\n      <th>alliance</th>\n      <th>...</th>\n      <th>liberal</th>\n      <th>plaid_cymru</th>\n      <th>reform_uk</th>\n      <th>scottish_national_party</th>\n      <th>social_democratic_party</th>\n      <th>united_kingdom_independence_party</th>\n      <th>reclaim_party</th>\n      <th>others</th>\n      <th>lead</th>\n      <th>lead_value</th>\n    </tr>\n  </thead>\n  <tbody>\n    <tr>\n      <th>0</th>\n      <td>2022-02-07</td>\n      <td>2022-02-07</td>\n      <td>Redfield &amp; Wilton Strategies</td>\n      <td>NaN</td>\n      <td>GB</td>\n      <td>2000</td>\n      <td>32.0</td>\n      <td>42.0</td>\n      <td>9.0</td>\n      <td>NaN</td>\n      <td>...</td>\n      <td>NaN</td>\n      <td>1.0</td>\n      <td>4.0</td>\n      <td>4.0</td>\n      <td>NaN</td>\n      <td>1.0</td>\n      <td>NaN</td>\n      <td>2.0</td>\n      <td>lab+10.0</td>\n      <td>10.0</td>\n    </tr>\n    <tr>\n      <th>1</th>\n      <td>2022-02-04</td>\n      <td>2022-02-06</td>\n      <td>Savanta ComRes</td>\n      <td>TBA</td>\n      <td>TBA</td>\n      <td>TBA</td>\n      <td>33.0</td>\n      <td>42.0</td>\n      <td>9.0</td>\n      <td>NaN</td>\n      <td>...</td>\n      <td>NaN</td>\n      <td>1.0</td>\n      <td>NaN</td>\n      <td>NaN</td>\n      <td>NaN</td>\n      <td>NaN</td>\n      <td>NaN</td>\n      <td>5.0</td>\n      <td>lab+9.0</td>\n      <td>9.0</td>\n    </tr>\n    <tr>\n      <th>2</th>\n      <td>2022-02-03</td>\n      <td>2022-02-04</td>\n      <td>Deltapoll</td>\n      <td>The Sun on Sunday</td>\n      <td>GB</td>\n      <td>1587</td>\n      <td>34.0</td>\n      <td>41.0</td>\n      <td>10.0</td>\n      <td>NaN</td>\n      <td>...</td>\n      <td>NaN</td>\n      <td>0.0</td>\n      <td>2.0</td>\n      <td>4.0</td>\n      <td>NaN</td>\n      <td>NaN</td>\n      <td>NaN</td>\n      <td>1.0</td>\n      <td>lab+7.0</td>\n      <td>7.0</td>\n    </tr>\n    <tr>\n      <th>3</th>\n      <td>2022-02-01</td>\n      <td>2022-02-02</td>\n      <td>Techne UK</td>\n      <td>NaN</td>\n      <td>UK</td>\n      <td>1631</td>\n      <td>32.0</td>\n      <td>40.0</td>\n      <td>10.0</td>\n      <td>NaN</td>\n      <td>...</td>\n      <td>NaN</td>\n      <td>1.0</td>\n      <td>8.0</td>\n      <td>4.0</td>\n      <td>NaN</td>\n      <td>NaN</td>\n      <td>NaN</td>\n      <td>5.0</td>\n      <td>lab+8.0</td>\n      <td>8.0</td>\n    </tr>\n    <tr>\n      <th>4</th>\n      <td>2022-02-01</td>\n      <td>2022-02-02</td>\n      <td>YouGov</td>\n      <td>NaN</td>\n      <td>GB</td>\n      <td>1661</td>\n      <td>32.0</td>\n      <td>41.0</td>\n      <td>10.0</td>\n      <td>NaN</td>\n      <td>...</td>\n      <td>NaN</td>\n      <td>1.0</td>\n      <td>4.0</td>\n      <td>5.0</td>\n      <td>NaN</td>\n      <td>NaN</td>\n      <td>NaN</td>\n      <td>1.0</td>\n      <td>lab+9.0</td>\n      <td>9.0</td>\n    </tr>\n    <tr>\n      <th>...</th>\n      <td>...</td>\n      <td>...</td>\n      <td>...</td>\n      <td>...</td>\n      <td>...</td>\n      <td>...</td>\n      <td>...</td>\n      <td>...</td>\n      <td>...</td>\n      <td>...</td>\n      <td>...</td>\n      <td>...</td>\n      <td>...</td>\n      <td>...</td>\n      <td>...</td>\n      <td>...</td>\n      <td>...</td>\n      <td>...</td>\n      <td>...</td>\n      <td>...</td>\n      <td>...</td>\n    </tr>\n    <tr>\n      <th>5671</th>\n      <td>1970-11-15</td>\n      <td>1970-11-15</td>\n      <td>Gallup</td>\n      <td>The Daily Telegraph</td>\n      <td>NaN</td>\n      <td>NaN</td>\n      <td>43.5</td>\n      <td>48.0</td>\n      <td>NaN</td>\n      <td>NaN</td>\n      <td>...</td>\n      <td>6.5</td>\n      <td>NaN</td>\n      <td>NaN</td>\n      <td>NaN</td>\n      <td>NaN</td>\n      <td>NaN</td>\n      <td>NaN</td>\n      <td>NaN</td>\n      <td>lab+4.5</td>\n      <td>4.5</td>\n    </tr>\n    <tr>\n      <th>5672</th>\n      <td>1970-10-18</td>\n      <td>1970-10-18</td>\n      <td>Gallup</td>\n      <td>The Daily Telegraph</td>\n      <td>NaN</td>\n      <td>NaN</td>\n      <td>46.5</td>\n      <td>46.5</td>\n      <td>NaN</td>\n      <td>NaN</td>\n      <td>...</td>\n      <td>6.5</td>\n      <td>NaN</td>\n      <td>NaN</td>\n      <td>NaN</td>\n      <td>NaN</td>\n      <td>NaN</td>\n      <td>NaN</td>\n      <td>NaN</td>\n      <td>Tie</td>\n      <td>0.0</td>\n    </tr>\n    <tr>\n      <th>5673</th>\n      <td>1970-09-13</td>\n      <td>1970-09-13</td>\n      <td>Gallup</td>\n      <td>The Daily Telegraph</td>\n      <td>NaN</td>\n      <td>NaN</td>\n      <td>46.5</td>\n      <td>44.0</td>\n      <td>NaN</td>\n      <td>NaN</td>\n      <td>...</td>\n      <td>8.0</td>\n      <td>NaN</td>\n      <td>NaN</td>\n      <td>NaN</td>\n      <td>NaN</td>\n      <td>NaN</td>\n      <td>NaN</td>\n      <td>NaN</td>\n      <td>con+2.5</td>\n      <td>2.5</td>\n    </tr>\n    <tr>\n      <th>5674</th>\n      <td>1970-08-16</td>\n      <td>1970-08-16</td>\n      <td>Gallup</td>\n      <td>The Daily Telegraph</td>\n      <td>NaN</td>\n      <td>NaN</td>\n      <td>47.0</td>\n      <td>43.5</td>\n      <td>NaN</td>\n      <td>NaN</td>\n      <td>...</td>\n      <td>7.5</td>\n      <td>NaN</td>\n      <td>NaN</td>\n      <td>NaN</td>\n      <td>NaN</td>\n      <td>NaN</td>\n      <td>NaN</td>\n      <td>NaN</td>\n      <td>con+3.5</td>\n      <td>3.5</td>\n    </tr>\n    <tr>\n      <th>5675</th>\n      <td>1970-06-18</td>\n      <td>1970-06-18</td>\n      <td>General Election</td>\n      <td>1970 general election</td>\n      <td>NaN</td>\n      <td>NaN</td>\n      <td>46.4</td>\n      <td>43.1</td>\n      <td>NaN</td>\n      <td>NaN</td>\n      <td>...</td>\n      <td>7.5</td>\n      <td>NaN</td>\n      <td>NaN</td>\n      <td>NaN</td>\n      <td>NaN</td>\n      <td>NaN</td>\n      <td>NaN</td>\n      <td>NaN</td>\n      <td>con+3.3</td>\n      <td>3.3</td>\n    </tr>\n  </tbody>\n</table>\n<p>5676 rows × 23 columns</p>\n</div>"
     },
     "execution_count": 74,
     "metadata": {},
     "output_type": "execute_result"
    }
   ],
   "source": [
    "all_polls"
   ],
   "metadata": {
    "collapsed": false,
    "pycharm": {
     "name": "#%%\n"
    }
   }
  },
  {
   "cell_type": "code",
   "execution_count": 75,
   "outputs": [
    {
     "data": {
      "text/plain": "     date_concluded                      pollster  conservative  labour  \\\n0        2022-02-07  Redfield & Wilton Strategies          32.0    42.0   \n1        2022-02-06                Savanta ComRes          33.0    42.0   \n6        2022-01-30                Savanta ComRes          33.0    44.0   \n10       2022-01-27                     Deltapoll          32.0    42.0   \n17       2022-01-17  Redfield & Wilton Strategies          30.0    43.0   \n...             ...                           ...           ...     ...   \n5671     1970-11-15                        Gallup          43.5    48.0   \n5672     1970-10-18                        Gallup          46.5    46.5   \n5673     1970-09-13                        Gallup          46.5    44.0   \n5674     1970-08-16                        Gallup          47.0    43.5   \n5675     1970-06-18              General Election          46.4    43.1   \n\n      liberal_democrat      lead  \n0                  9.0  lab+10.0  \n1                  9.0   lab+9.0  \n6                  9.0  lab+11.0  \n10                10.0  lab+10.0  \n17                 9.0  lab+13.0  \n...                ...       ...  \n5671               NaN   lab+4.5  \n5672               NaN       Tie  \n5673               NaN   con+2.5  \n5674               NaN   con+3.5  \n5675               NaN   con+3.3  \n\n[1495 rows x 6 columns]",
      "text/html": "<div>\n<style scoped>\n    .dataframe tbody tr th:only-of-type {\n        vertical-align: middle;\n    }\n\n    .dataframe tbody tr th {\n        vertical-align: top;\n    }\n\n    .dataframe thead th {\n        text-align: right;\n    }\n</style>\n<table border=\"1\" class=\"dataframe\">\n  <thead>\n    <tr style=\"text-align: right;\">\n      <th></th>\n      <th>date_concluded</th>\n      <th>pollster</th>\n      <th>conservative</th>\n      <th>labour</th>\n      <th>liberal_democrat</th>\n      <th>lead</th>\n    </tr>\n  </thead>\n  <tbody>\n    <tr>\n      <th>0</th>\n      <td>2022-02-07</td>\n      <td>Redfield &amp; Wilton Strategies</td>\n      <td>32.0</td>\n      <td>42.0</td>\n      <td>9.0</td>\n      <td>lab+10.0</td>\n    </tr>\n    <tr>\n      <th>1</th>\n      <td>2022-02-06</td>\n      <td>Savanta ComRes</td>\n      <td>33.0</td>\n      <td>42.0</td>\n      <td>9.0</td>\n      <td>lab+9.0</td>\n    </tr>\n    <tr>\n      <th>6</th>\n      <td>2022-01-30</td>\n      <td>Savanta ComRes</td>\n      <td>33.0</td>\n      <td>44.0</td>\n      <td>9.0</td>\n      <td>lab+11.0</td>\n    </tr>\n    <tr>\n      <th>10</th>\n      <td>2022-01-27</td>\n      <td>Deltapoll</td>\n      <td>32.0</td>\n      <td>42.0</td>\n      <td>10.0</td>\n      <td>lab+10.0</td>\n    </tr>\n    <tr>\n      <th>17</th>\n      <td>2022-01-17</td>\n      <td>Redfield &amp; Wilton Strategies</td>\n      <td>30.0</td>\n      <td>43.0</td>\n      <td>9.0</td>\n      <td>lab+13.0</td>\n    </tr>\n    <tr>\n      <th>...</th>\n      <td>...</td>\n      <td>...</td>\n      <td>...</td>\n      <td>...</td>\n      <td>...</td>\n      <td>...</td>\n    </tr>\n    <tr>\n      <th>5671</th>\n      <td>1970-11-15</td>\n      <td>Gallup</td>\n      <td>43.5</td>\n      <td>48.0</td>\n      <td>NaN</td>\n      <td>lab+4.5</td>\n    </tr>\n    <tr>\n      <th>5672</th>\n      <td>1970-10-18</td>\n      <td>Gallup</td>\n      <td>46.5</td>\n      <td>46.5</td>\n      <td>NaN</td>\n      <td>Tie</td>\n    </tr>\n    <tr>\n      <th>5673</th>\n      <td>1970-09-13</td>\n      <td>Gallup</td>\n      <td>46.5</td>\n      <td>44.0</td>\n      <td>NaN</td>\n      <td>con+2.5</td>\n    </tr>\n    <tr>\n      <th>5674</th>\n      <td>1970-08-16</td>\n      <td>Gallup</td>\n      <td>47.0</td>\n      <td>43.5</td>\n      <td>NaN</td>\n      <td>con+3.5</td>\n    </tr>\n    <tr>\n      <th>5675</th>\n      <td>1970-06-18</td>\n      <td>General Election</td>\n      <td>46.4</td>\n      <td>43.1</td>\n      <td>NaN</td>\n      <td>con+3.3</td>\n    </tr>\n  </tbody>\n</table>\n<p>1495 rows × 6 columns</p>\n</div>"
     },
     "execution_count": 75,
     "metadata": {},
     "output_type": "execute_result"
    }
   ],
   "source": [
    "all_polls.query(\"labour >= 42\")[display_columns]"
   ],
   "metadata": {
    "collapsed": false,
    "pycharm": {
     "name": "#%%\n"
    }
   }
  },
  {
   "cell_type": "code",
   "execution_count": 76,
   "outputs": [
    {
     "data": {
      "text/plain": "    date_concluded   pollster  conservative  labour  liberal_democrat     lead\n25      2022-01-13  FocalData          33.0    42.0              11.0  lab+9.0\n35      2021-12-21  FocalData          32.0    40.0              10.0  lab+8.0\n36      2021-12-21  FocalData          34.0    41.0               9.0  lab+7.0\n52      2021-12-09  FocalData          33.0    41.0               7.0  lab+8.0\n212     2021-04-30  FocalData          40.0    39.0               6.0  con+1.0\n296     2020-12-29  FocalData          36.0    38.0               9.0  lab+2.0\n473     2019-12-10  FocalData          42.0    34.0              14.0  con+8.0",
      "text/html": "<div>\n<style scoped>\n    .dataframe tbody tr th:only-of-type {\n        vertical-align: middle;\n    }\n\n    .dataframe tbody tr th {\n        vertical-align: top;\n    }\n\n    .dataframe thead th {\n        text-align: right;\n    }\n</style>\n<table border=\"1\" class=\"dataframe\">\n  <thead>\n    <tr style=\"text-align: right;\">\n      <th></th>\n      <th>date_concluded</th>\n      <th>pollster</th>\n      <th>conservative</th>\n      <th>labour</th>\n      <th>liberal_democrat</th>\n      <th>lead</th>\n    </tr>\n  </thead>\n  <tbody>\n    <tr>\n      <th>25</th>\n      <td>2022-01-13</td>\n      <td>FocalData</td>\n      <td>33.0</td>\n      <td>42.0</td>\n      <td>11.0</td>\n      <td>lab+9.0</td>\n    </tr>\n    <tr>\n      <th>35</th>\n      <td>2021-12-21</td>\n      <td>FocalData</td>\n      <td>32.0</td>\n      <td>40.0</td>\n      <td>10.0</td>\n      <td>lab+8.0</td>\n    </tr>\n    <tr>\n      <th>36</th>\n      <td>2021-12-21</td>\n      <td>FocalData</td>\n      <td>34.0</td>\n      <td>41.0</td>\n      <td>9.0</td>\n      <td>lab+7.0</td>\n    </tr>\n    <tr>\n      <th>52</th>\n      <td>2021-12-09</td>\n      <td>FocalData</td>\n      <td>33.0</td>\n      <td>41.0</td>\n      <td>7.0</td>\n      <td>lab+8.0</td>\n    </tr>\n    <tr>\n      <th>212</th>\n      <td>2021-04-30</td>\n      <td>FocalData</td>\n      <td>40.0</td>\n      <td>39.0</td>\n      <td>6.0</td>\n      <td>con+1.0</td>\n    </tr>\n    <tr>\n      <th>296</th>\n      <td>2020-12-29</td>\n      <td>FocalData</td>\n      <td>36.0</td>\n      <td>38.0</td>\n      <td>9.0</td>\n      <td>lab+2.0</td>\n    </tr>\n    <tr>\n      <th>473</th>\n      <td>2019-12-10</td>\n      <td>FocalData</td>\n      <td>42.0</td>\n      <td>34.0</td>\n      <td>14.0</td>\n      <td>con+8.0</td>\n    </tr>\n  </tbody>\n</table>\n</div>"
     },
     "execution_count": 76,
     "metadata": {},
     "output_type": "execute_result"
    }
   ],
   "source": [
    "all_polls.query(\"pollster == 'FocalData'\")[display_columns]"
   ],
   "metadata": {
    "collapsed": false,
    "pycharm": {
     "name": "#%%\n"
    }
   }
  },
  {
   "cell_type": "code",
   "execution_count": 76,
   "outputs": [],
   "source": [],
   "metadata": {
    "collapsed": false,
    "pycharm": {
     "name": "#%%\n"
    }
   }
  },
  {
   "cell_type": "code",
   "execution_count": 77,
   "outputs": [
    {
     "data": {
      "text/plain": "     date_concluded    pollster  conservative  labour  liberal_democrat  \\\n3860     2001-06-02  Ipsos MORI          27.0    50.0              17.0   \n3861     2001-06-01  Ipsos MORI          27.0    50.0              17.0   \n3871     2001-05-22  Ipsos MORI          27.0    52.0              16.0   \n3874     2001-05-20      Gallup          25.0    55.0              14.0   \n3876     2001-05-15  Ipsos MORI          28.0    54.0              12.0   \n...             ...         ...           ...     ...               ...   \n5660     1971-09-20      Gallup          35.0    54.0               NaN   \n5662     1971-07-12      Gallup          33.5    55.0               NaN   \n5663     1971-06-13      Gallup          36.0    54.0               NaN   \n5664     1971-05-16      Gallup          38.0    50.0               NaN   \n5667     1971-03-14      Gallup          38.5    50.5               NaN   \n\n          lead  \n3860  lab+23.0  \n3861  lab+23.0  \n3871  lab+25.0  \n3874  lab+30.0  \n3876  lab+26.0  \n...        ...  \n5660  lab+19.0  \n5662  lab+21.5  \n5663  lab+18.0  \n5664  lab+12.0  \n5667  lab+12.0  \n\n[341 rows x 6 columns]",
      "text/html": "<div>\n<style scoped>\n    .dataframe tbody tr th:only-of-type {\n        vertical-align: middle;\n    }\n\n    .dataframe tbody tr th {\n        vertical-align: top;\n    }\n\n    .dataframe thead th {\n        text-align: right;\n    }\n</style>\n<table border=\"1\" class=\"dataframe\">\n  <thead>\n    <tr style=\"text-align: right;\">\n      <th></th>\n      <th>date_concluded</th>\n      <th>pollster</th>\n      <th>conservative</th>\n      <th>labour</th>\n      <th>liberal_democrat</th>\n      <th>lead</th>\n    </tr>\n  </thead>\n  <tbody>\n    <tr>\n      <th>3860</th>\n      <td>2001-06-02</td>\n      <td>Ipsos MORI</td>\n      <td>27.0</td>\n      <td>50.0</td>\n      <td>17.0</td>\n      <td>lab+23.0</td>\n    </tr>\n    <tr>\n      <th>3861</th>\n      <td>2001-06-01</td>\n      <td>Ipsos MORI</td>\n      <td>27.0</td>\n      <td>50.0</td>\n      <td>17.0</td>\n      <td>lab+23.0</td>\n    </tr>\n    <tr>\n      <th>3871</th>\n      <td>2001-05-22</td>\n      <td>Ipsos MORI</td>\n      <td>27.0</td>\n      <td>52.0</td>\n      <td>16.0</td>\n      <td>lab+25.0</td>\n    </tr>\n    <tr>\n      <th>3874</th>\n      <td>2001-05-20</td>\n      <td>Gallup</td>\n      <td>25.0</td>\n      <td>55.0</td>\n      <td>14.0</td>\n      <td>lab+30.0</td>\n    </tr>\n    <tr>\n      <th>3876</th>\n      <td>2001-05-15</td>\n      <td>Ipsos MORI</td>\n      <td>28.0</td>\n      <td>54.0</td>\n      <td>12.0</td>\n      <td>lab+26.0</td>\n    </tr>\n    <tr>\n      <th>...</th>\n      <td>...</td>\n      <td>...</td>\n      <td>...</td>\n      <td>...</td>\n      <td>...</td>\n      <td>...</td>\n    </tr>\n    <tr>\n      <th>5660</th>\n      <td>1971-09-20</td>\n      <td>Gallup</td>\n      <td>35.0</td>\n      <td>54.0</td>\n      <td>NaN</td>\n      <td>lab+19.0</td>\n    </tr>\n    <tr>\n      <th>5662</th>\n      <td>1971-07-12</td>\n      <td>Gallup</td>\n      <td>33.5</td>\n      <td>55.0</td>\n      <td>NaN</td>\n      <td>lab+21.5</td>\n    </tr>\n    <tr>\n      <th>5663</th>\n      <td>1971-06-13</td>\n      <td>Gallup</td>\n      <td>36.0</td>\n      <td>54.0</td>\n      <td>NaN</td>\n      <td>lab+18.0</td>\n    </tr>\n    <tr>\n      <th>5664</th>\n      <td>1971-05-16</td>\n      <td>Gallup</td>\n      <td>38.0</td>\n      <td>50.0</td>\n      <td>NaN</td>\n      <td>lab+12.0</td>\n    </tr>\n    <tr>\n      <th>5667</th>\n      <td>1971-03-14</td>\n      <td>Gallup</td>\n      <td>38.5</td>\n      <td>50.5</td>\n      <td>NaN</td>\n      <td>lab+12.0</td>\n    </tr>\n  </tbody>\n</table>\n<p>341 rows × 6 columns</p>\n</div>"
     },
     "execution_count": 77,
     "metadata": {},
     "output_type": "execute_result"
    }
   ],
   "source": [
    "all_polls.query(\"labour >= 50\")[display_columns]"
   ],
   "metadata": {
    "collapsed": false,
    "pycharm": {
     "name": "#%%\n"
    }
   }
  },
  {
   "cell_type": "code",
   "execution_count": 78,
   "outputs": [],
   "source": [
    "#all_polls.query(\"pollster == 'YouGov' and conservative <31\")[display_columns]"
   ],
   "metadata": {
    "collapsed": false,
    "pycharm": {
     "name": "#%%\n"
    }
   }
  },
  {
   "cell_type": "code",
   "execution_count": 78,
   "outputs": [],
   "source": [],
   "metadata": {
    "collapsed": false,
    "pycharm": {
     "name": "#%%\n"
    }
   }
  },
  {
   "cell_type": "code",
   "execution_count": 79,
   "outputs": [],
   "source": [
    "most_recent_date = all_polls.iloc[0].date_concluded\n",
    "one_year_polls = all_polls[\n",
    "    all_polls['date_concluded'] >= (most_recent_date + relativedelta(months=-12)).replace(day=1)].copy()"
   ],
   "metadata": {
    "collapsed": false,
    "pycharm": {
     "name": "#%%\n"
    }
   }
  },
  {
   "cell_type": "code",
   "execution_count": 79,
   "outputs": [],
   "source": [],
   "metadata": {
    "collapsed": false,
    "pycharm": {
     "name": "#%%\n"
    }
   }
  },
  {
   "cell_type": "code",
   "execution_count": 80,
   "outputs": [],
   "source": [
    "pollsters_latest = pd.DataFrame()\n",
    "for pollster in one_year_polls.pollster.unique():\n",
    "    pollster_data = one_year_polls.query(f'pollster == \"{pollster}\"')\n",
    "    latest_poll = pollster_data.iloc[0]\n",
    "    pollsters_latest = pollsters_latest.append(latest_poll)"
   ],
   "metadata": {
    "collapsed": false,
    "pycharm": {
     "name": "#%%\n"
    }
   }
  },
  {
   "cell_type": "code",
   "execution_count": 81,
   "outputs": [],
   "source": [
    "top_five = {'Ipsos MORI': 100,\n",
    "            'Opinium': 79,\n",
    "            'YouGov': 77,\n",
    "            'Kantar Public': 69,\n",
    "            'Number Cruncher Politics': 61,\n",
    "            'Survation': 59,\n",
    "            'Panelbase': 57,\n",
    "            'Deltapoll': 46,\n",
    "            'BMG Research': 44,\n",
    "            'FocalData': 39,\n",
    "            'ICM Research': 35,\n",
    "            'Savanta ComRes': 34,\n",
    "            'Find Out Now': 34,\n",
    "            'Redfield & Wilton Strategies': 34,\n",
    "            'Techne UK': 34,\n",
    "            }\n",
    "\n",
    "top_two = {'Ipsos MORI': 100,\n",
    "           'Survation': 85,\n",
    "           'Kantar Public': 85,\n",
    "           'Panelbase': 74,\n",
    "           'Number Cruncher Politics': 71,\n",
    "           'Opinium': 71,\n",
    "           'YouGov': 67,\n",
    "           'Deltapoll': 50,\n",
    "           'FocalData': 42,\n",
    "           'BMG Research': 39,\n",
    "           'Savanta ComRes': 29,\n",
    "           'ICM Research': 27,\n",
    "           'Find Out Now': 34,\n",
    "           'Redfield & Wilton Strategies': 34,\n",
    "           'Techne UK': 34,\n",
    "           }"
   ],
   "metadata": {
    "collapsed": false,
    "pycharm": {
     "name": "#%%\n"
    }
   }
  },
  {
   "cell_type": "code",
   "execution_count": 82,
   "outputs": [],
   "source": [
    "recency_weights = {\n",
    "    -1: 100,\n",
    "    7: 100,\n",
    "    15: 70,\n",
    "    30: 5,\n",
    "    90: 0\n",
    "}\n",
    "\n",
    "\n",
    "def get_recency_weight(date_concluded, current_date, return_category=False):\n",
    "    days_since_poll = (current_date - date_concluded).days\n",
    "    days_start_of_range = weight_start_of_range = 0\n",
    "    category = 0\n",
    "    for day, weight in recency_weights.items():\n",
    "        category += 1\n",
    "        if days_since_poll > day:\n",
    "            days_start_of_range = day\n",
    "            weight_start_of_range = weight\n",
    "        else:\n",
    "            percent_through_range = (days_since_poll - days_start_of_range)/(day - days_start_of_range)\n",
    "            full_weight = weight_start_of_range - ((weight_start_of_range - weight)*percent_through_range)\n",
    "            if return_category:\n",
    "                return category - 2\n",
    "            else:\n",
    "                return full_weight\n",
    "    if return_category:\n",
    "        return category - 1\n",
    "    else:\n",
    "        return 0\n"
   ],
   "metadata": {
    "collapsed": false,
    "pycharm": {
     "name": "#%%\n"
    }
   }
  },
  {
   "cell_type": "code",
   "execution_count": 83,
   "outputs": [],
   "source": [
    "def get_pollster_weight(pollster):\n",
    "    if pollster not in top_two:\n",
    "        return 0\n",
    "    top_five_score = top_five[pollster]\n",
    "    top_two_score = top_two[pollster]\n",
    "    pollster_w = (3*top_two_score + 2*top_five_score + 100)/6\n",
    "    return pollster_w\n"
   ],
   "metadata": {
    "collapsed": false,
    "pycharm": {
     "name": "#%%\n"
    }
   }
  },
  {
   "cell_type": "code",
   "execution_count": 84,
   "outputs": [
    {
     "name": "stdout",
     "output_type": "stream",
     "text": [
      " Redfield & Wilton Strategies  : 45.0\n",
      " Savanta ComRes                : 42.5\n",
      " Deltapoll                     : 57.0\n",
      " Techne UK                     : 45.0\n",
      " YouGov                        : 75.8\n",
      " Opinium                       : 78.5\n",
      " Survation                     : 78.8\n",
      " Ipsos MORI                    : 100.0\n",
      " Kantar Public                 : 82.2\n",
      " Find Out Now                  : 45.0\n",
      " FocalData                     : 50.7\n",
      " Panelbase                     : 72.7\n",
      " Number Cruncher Politics      : 72.5\n",
      " BMG Research                  : 50.8\n"
     ]
    }
   ],
   "source": [
    "for pollster in one_year_polls.pollster.unique():\n",
    "    print(f' {pollster:30s}: {get_pollster_weight(pollster):.1f}')"
   ],
   "metadata": {
    "collapsed": false,
    "pycharm": {
     "name": "#%%\n"
    }
   }
  },
  {
   "cell_type": "code",
   "execution_count": 85,
   "outputs": [],
   "source": [
    "from scripts.constants import major_parties"
   ],
   "metadata": {
    "collapsed": false,
    "pycharm": {
     "name": "#%%\n"
    }
   }
  },
  {
   "cell_type": "code",
   "execution_count": 86,
   "outputs": [],
   "source": [
    "pollsters_latest['recency_weight'] = pollsters_latest['date_concluded'].apply(get_recency_weight,\n",
    "                                                                              current_date=most_recent_date)\n",
    "pollsters_latest['pollster_weight'] = pollsters_latest['pollster'].apply(get_pollster_weight)\n",
    "pollsters_latest['poll_weight'] = pollsters_latest['pollster_weight']*(pollsters_latest['recency_weight']/100)"
   ],
   "metadata": {
    "collapsed": false,
    "pycharm": {
     "name": "#%%\n"
    }
   }
  },
  {
   "cell_type": "code",
   "execution_count": 87,
   "outputs": [],
   "source": [
    "current_average = pd.DataFrame(columns=major_parties + ['lead'], index=['Polling Average'])\n",
    "lead_party = ''\n",
    "max_vote_share = 0\n",
    "second_vote_share = 0\n",
    "for party in major_parties:\n",
    "    party_vote_share = pollsters_latest[party].dot(pollsters_latest['poll_weight'])/pollsters_latest[\n",
    "        'poll_weight'].sum()\n",
    "    if party_vote_share > max_vote_share:\n",
    "        second_vote_share = max_vote_share\n",
    "        max_vote_share = party_vote_share\n",
    "        lead_party = party\n",
    "    else:\n",
    "        if party_vote_share > second_vote_share:\n",
    "            second_vote_share = party_vote_share\n",
    "    current_average.loc['Polling Average', party] = party_vote_share\n",
    "    #current_average.loc['Polling Average', party] = f'{party_vote_share:.1f}%'\n",
    "#current_average.loc['Polling Average', 'lead'] = f'{lead_party:.3s}+{max_vote_share - second_vote_share:.1f}%'\n",
    "current_average.loc['Polling Average', 'lead_value'] = max_vote_share - second_vote_share\n"
   ],
   "metadata": {
    "collapsed": false,
    "pycharm": {
     "name": "#%%\n"
    }
   }
  },
  {
   "cell_type": "code",
   "execution_count": 88,
   "outputs": [],
   "source": [
    "one_year_polls['poll_month'] = one_year_polls['date_concluded'].apply(lambda x: x.replace(day=1))"
   ],
   "metadata": {
    "collapsed": false,
    "pycharm": {
     "name": "#%%\n"
    }
   }
  },
  {
   "cell_type": "code",
   "execution_count": 89,
   "outputs": [],
   "source": [
    "pollster_monthly_summary = one_year_polls.groupby(['poll_month', 'pollster'])[major_parties].agg(['mean', 'count'])\n",
    "pollster_monthly_summary.columns = [x if i == 0 else f'count{major_parties.index(x)}' for x in major_parties for i in\n",
    "                                    range(0, 2)]\n",
    "pollster_monthly_summary.drop(columns=[f'count{major_parties.index(x)}' for x in major_parties][1:], inplace=True)\n",
    "pollster_monthly_summary.rename(columns={\"count0\": \"count\"}, inplace=True)\n",
    "\n",
    "agg_info = {x: ['mean'] for x in major_parties}\n",
    "agg_info['count'] = ['count', 'sum']\n",
    "monthly_summary = pollster_monthly_summary.reset_index().groupby(['poll_month']).agg(agg_info)\n",
    "monthly_summary.columns = major_parties + ['pollster_count', 'poll_count']"
   ],
   "metadata": {
    "collapsed": false,
    "pycharm": {
     "name": "#%%\n"
    }
   }
  },
  {
   "cell_type": "code",
   "execution_count": 89,
   "outputs": [],
   "source": [],
   "metadata": {
    "collapsed": false,
    "pycharm": {
     "name": "#%%\n"
    }
   }
  },
  {
   "cell_type": "code",
   "execution_count": 90,
   "outputs": [],
   "source": [
    "from scripts.functions import format_lead\n",
    "\n",
    "monthly_summary[['lead', 'lead_value']] = monthly_summary.apply(format_lead, axis=1, result_type='expand')"
   ],
   "metadata": {
    "collapsed": false,
    "pycharm": {
     "name": "#%%\n"
    }
   }
  },
  {
   "cell_type": "code",
   "execution_count": 90,
   "outputs": [],
   "source": [],
   "metadata": {
    "collapsed": false,
    "pycharm": {
     "name": "#%%\n"
    }
   }
  },
  {
   "cell_type": "code",
   "execution_count": 91,
   "outputs": [
    {
     "data": {
      "text/plain": "    date_concluded                      pollster  conservative  labour  \\\n12      2022-01-25                    Ipsos MORI          31.0    40.0   \n4       2022-02-02                        YouGov          32.0    41.0   \n8       2022-01-28                       Opinium          34.0    39.0   \n11      2022-01-25                     Survation          35.0    40.0   \n13      2022-01-24                 Kantar Public          34.0    38.0   \n2       2022-02-04                     Deltapoll          34.0    41.0   \n0       2022-02-07  Redfield & Wilton Strategies          32.0    42.0   \n3       2022-02-02                     Techne UK          32.0    40.0   \n1       2022-02-06                Savanta ComRes          33.0    42.0   \n25      2022-01-13                     FocalData          33.0    42.0   \n24      2022-01-13                  Find Out Now          27.0    41.0   \n69      2021-11-19                     Panelbase          38.0    39.0   \n92      2021-10-18      Number Cruncher Politics          40.0    32.0   \n219     2021-04-26                  BMG Research          39.0    35.0   \n\n     liberal_democrat      lead  \n12               13.0   lab+9.0  \n4                10.0   lab+9.0  \n8                 9.0   lab+5.0  \n11               10.0   lab+5.0  \n13               11.0   lab+4.0  \n2                10.0   lab+7.0  \n0                 9.0  lab+10.0  \n3                10.0   lab+8.0  \n1                 9.0   lab+9.0  \n25               11.0   lab+9.0  \n24               11.0  lab+14.0  \n69                9.0   lab+1.0  \n92                6.0   con+8.0  \n219               9.0   con+4.0  ",
      "text/html": "<div>\n<style scoped>\n    .dataframe tbody tr th:only-of-type {\n        vertical-align: middle;\n    }\n\n    .dataframe tbody tr th {\n        vertical-align: top;\n    }\n\n    .dataframe thead th {\n        text-align: right;\n    }\n</style>\n<table border=\"1\" class=\"dataframe\">\n  <thead>\n    <tr style=\"text-align: right;\">\n      <th></th>\n      <th>date_concluded</th>\n      <th>pollster</th>\n      <th>conservative</th>\n      <th>labour</th>\n      <th>liberal_democrat</th>\n      <th>lead</th>\n    </tr>\n  </thead>\n  <tbody>\n    <tr>\n      <th>12</th>\n      <td>2022-01-25</td>\n      <td>Ipsos MORI</td>\n      <td>31.0</td>\n      <td>40.0</td>\n      <td>13.0</td>\n      <td>lab+9.0</td>\n    </tr>\n    <tr>\n      <th>4</th>\n      <td>2022-02-02</td>\n      <td>YouGov</td>\n      <td>32.0</td>\n      <td>41.0</td>\n      <td>10.0</td>\n      <td>lab+9.0</td>\n    </tr>\n    <tr>\n      <th>8</th>\n      <td>2022-01-28</td>\n      <td>Opinium</td>\n      <td>34.0</td>\n      <td>39.0</td>\n      <td>9.0</td>\n      <td>lab+5.0</td>\n    </tr>\n    <tr>\n      <th>11</th>\n      <td>2022-01-25</td>\n      <td>Survation</td>\n      <td>35.0</td>\n      <td>40.0</td>\n      <td>10.0</td>\n      <td>lab+5.0</td>\n    </tr>\n    <tr>\n      <th>13</th>\n      <td>2022-01-24</td>\n      <td>Kantar Public</td>\n      <td>34.0</td>\n      <td>38.0</td>\n      <td>11.0</td>\n      <td>lab+4.0</td>\n    </tr>\n    <tr>\n      <th>2</th>\n      <td>2022-02-04</td>\n      <td>Deltapoll</td>\n      <td>34.0</td>\n      <td>41.0</td>\n      <td>10.0</td>\n      <td>lab+7.0</td>\n    </tr>\n    <tr>\n      <th>0</th>\n      <td>2022-02-07</td>\n      <td>Redfield &amp; Wilton Strategies</td>\n      <td>32.0</td>\n      <td>42.0</td>\n      <td>9.0</td>\n      <td>lab+10.0</td>\n    </tr>\n    <tr>\n      <th>3</th>\n      <td>2022-02-02</td>\n      <td>Techne UK</td>\n      <td>32.0</td>\n      <td>40.0</td>\n      <td>10.0</td>\n      <td>lab+8.0</td>\n    </tr>\n    <tr>\n      <th>1</th>\n      <td>2022-02-06</td>\n      <td>Savanta ComRes</td>\n      <td>33.0</td>\n      <td>42.0</td>\n      <td>9.0</td>\n      <td>lab+9.0</td>\n    </tr>\n    <tr>\n      <th>25</th>\n      <td>2022-01-13</td>\n      <td>FocalData</td>\n      <td>33.0</td>\n      <td>42.0</td>\n      <td>11.0</td>\n      <td>lab+9.0</td>\n    </tr>\n    <tr>\n      <th>24</th>\n      <td>2022-01-13</td>\n      <td>Find Out Now</td>\n      <td>27.0</td>\n      <td>41.0</td>\n      <td>11.0</td>\n      <td>lab+14.0</td>\n    </tr>\n    <tr>\n      <th>69</th>\n      <td>2021-11-19</td>\n      <td>Panelbase</td>\n      <td>38.0</td>\n      <td>39.0</td>\n      <td>9.0</td>\n      <td>lab+1.0</td>\n    </tr>\n    <tr>\n      <th>92</th>\n      <td>2021-10-18</td>\n      <td>Number Cruncher Politics</td>\n      <td>40.0</td>\n      <td>32.0</td>\n      <td>6.0</td>\n      <td>con+8.0</td>\n    </tr>\n    <tr>\n      <th>219</th>\n      <td>2021-04-26</td>\n      <td>BMG Research</td>\n      <td>39.0</td>\n      <td>35.0</td>\n      <td>9.0</td>\n      <td>con+4.0</td>\n    </tr>\n  </tbody>\n</table>\n</div>"
     },
     "metadata": {},
     "output_type": "display_data"
    },
    {
     "data": {
      "text/plain": "                conservative     labour liberal_democrat lead  lead_value\nPolling Average    32.856603  40.277319        10.287045  NaN    7.420716",
      "text/html": "<div>\n<style scoped>\n    .dataframe tbody tr th:only-of-type {\n        vertical-align: middle;\n    }\n\n    .dataframe tbody tr th {\n        vertical-align: top;\n    }\n\n    .dataframe thead th {\n        text-align: right;\n    }\n</style>\n<table border=\"1\" class=\"dataframe\">\n  <thead>\n    <tr style=\"text-align: right;\">\n      <th></th>\n      <th>conservative</th>\n      <th>labour</th>\n      <th>liberal_democrat</th>\n      <th>lead</th>\n      <th>lead_value</th>\n    </tr>\n  </thead>\n  <tbody>\n    <tr>\n      <th>Polling Average</th>\n      <td>32.856603</td>\n      <td>40.277319</td>\n      <td>10.287045</td>\n      <td>NaN</td>\n      <td>7.420716</td>\n    </tr>\n  </tbody>\n</table>\n</div>"
     },
     "metadata": {},
     "output_type": "display_data"
    },
    {
     "data": {
      "text/plain": "            conservative     labour  liberal_democrat  pollster_count  \\\npoll_month                                                              \n2022-02-01     32.600000  41.200000          9.600000               5   \n2022-01-01     31.966667  40.106061         10.912121              11   \n2021-12-01     33.633333  38.475000         10.075000              10   \n2021-11-01     37.066667  36.575000          9.250000              10   \n2021-10-01     39.268750  34.645833          8.289583               8   \n2021-09-01     39.843333  34.331667          9.376667              10   \n2021-08-01     40.016667  33.316667         10.400000               6   \n2021-07-01     41.787037  33.601852          9.444444               9   \n2021-06-01     43.477778  33.455556          7.566667               9   \n2021-05-01     43.468750  32.812500          8.062500               8   \n2021-04-01     41.921212  35.186364          7.448485              11   \n2021-03-01     42.460000  35.815000          7.323333              10   \n\n            poll_count      lead  lead_value  \npoll_month                                    \n2022-02-01           5   lab+8.6    8.600000  \n2022-01-01          28   lab+8.1    8.139394  \n2021-12-01          29   lab+4.8    4.841667  \n2021-11-01          23   con+0.5    0.491667  \n2021-10-01          20   con+4.6    4.622917  \n2021-09-01          23   con+5.5    5.511667  \n2021-08-01          18   con+6.7    6.700000  \n2021-07-01          21   con+8.2    8.185185  \n2021-06-01          24  con+10.0   10.022222  \n2021-05-01          21  con+10.7   10.656250  \n2021-04-01          25   con+6.7    6.734848  \n2021-03-01          20   con+6.6    6.645000  ",
      "text/html": "<div>\n<style scoped>\n    .dataframe tbody tr th:only-of-type {\n        vertical-align: middle;\n    }\n\n    .dataframe tbody tr th {\n        vertical-align: top;\n    }\n\n    .dataframe thead th {\n        text-align: right;\n    }\n</style>\n<table border=\"1\" class=\"dataframe\">\n  <thead>\n    <tr style=\"text-align: right;\">\n      <th></th>\n      <th>conservative</th>\n      <th>labour</th>\n      <th>liberal_democrat</th>\n      <th>pollster_count</th>\n      <th>poll_count</th>\n      <th>lead</th>\n      <th>lead_value</th>\n    </tr>\n    <tr>\n      <th>poll_month</th>\n      <th></th>\n      <th></th>\n      <th></th>\n      <th></th>\n      <th></th>\n      <th></th>\n      <th></th>\n    </tr>\n  </thead>\n  <tbody>\n    <tr>\n      <th>2022-02-01</th>\n      <td>32.600000</td>\n      <td>41.200000</td>\n      <td>9.600000</td>\n      <td>5</td>\n      <td>5</td>\n      <td>lab+8.6</td>\n      <td>8.600000</td>\n    </tr>\n    <tr>\n      <th>2022-01-01</th>\n      <td>31.966667</td>\n      <td>40.106061</td>\n      <td>10.912121</td>\n      <td>11</td>\n      <td>28</td>\n      <td>lab+8.1</td>\n      <td>8.139394</td>\n    </tr>\n    <tr>\n      <th>2021-12-01</th>\n      <td>33.633333</td>\n      <td>38.475000</td>\n      <td>10.075000</td>\n      <td>10</td>\n      <td>29</td>\n      <td>lab+4.8</td>\n      <td>4.841667</td>\n    </tr>\n    <tr>\n      <th>2021-11-01</th>\n      <td>37.066667</td>\n      <td>36.575000</td>\n      <td>9.250000</td>\n      <td>10</td>\n      <td>23</td>\n      <td>con+0.5</td>\n      <td>0.491667</td>\n    </tr>\n    <tr>\n      <th>2021-10-01</th>\n      <td>39.268750</td>\n      <td>34.645833</td>\n      <td>8.289583</td>\n      <td>8</td>\n      <td>20</td>\n      <td>con+4.6</td>\n      <td>4.622917</td>\n    </tr>\n    <tr>\n      <th>2021-09-01</th>\n      <td>39.843333</td>\n      <td>34.331667</td>\n      <td>9.376667</td>\n      <td>10</td>\n      <td>23</td>\n      <td>con+5.5</td>\n      <td>5.511667</td>\n    </tr>\n    <tr>\n      <th>2021-08-01</th>\n      <td>40.016667</td>\n      <td>33.316667</td>\n      <td>10.400000</td>\n      <td>6</td>\n      <td>18</td>\n      <td>con+6.7</td>\n      <td>6.700000</td>\n    </tr>\n    <tr>\n      <th>2021-07-01</th>\n      <td>41.787037</td>\n      <td>33.601852</td>\n      <td>9.444444</td>\n      <td>9</td>\n      <td>21</td>\n      <td>con+8.2</td>\n      <td>8.185185</td>\n    </tr>\n    <tr>\n      <th>2021-06-01</th>\n      <td>43.477778</td>\n      <td>33.455556</td>\n      <td>7.566667</td>\n      <td>9</td>\n      <td>24</td>\n      <td>con+10.0</td>\n      <td>10.022222</td>\n    </tr>\n    <tr>\n      <th>2021-05-01</th>\n      <td>43.468750</td>\n      <td>32.812500</td>\n      <td>8.062500</td>\n      <td>8</td>\n      <td>21</td>\n      <td>con+10.7</td>\n      <td>10.656250</td>\n    </tr>\n    <tr>\n      <th>2021-04-01</th>\n      <td>41.921212</td>\n      <td>35.186364</td>\n      <td>7.448485</td>\n      <td>11</td>\n      <td>25</td>\n      <td>con+6.7</td>\n      <td>6.734848</td>\n    </tr>\n    <tr>\n      <th>2021-03-01</th>\n      <td>42.460000</td>\n      <td>35.815000</td>\n      <td>7.323333</td>\n      <td>10</td>\n      <td>20</td>\n      <td>con+6.6</td>\n      <td>6.645000</td>\n    </tr>\n  </tbody>\n</table>\n</div>"
     },
     "metadata": {},
     "output_type": "display_data"
    }
   ],
   "source": [
    "display(pollsters_latest.sort_values(by='poll_weight', ascending=False)[display_columns])\n",
    "display(current_average)\n",
    "display(monthly_summary.iloc[:0:-1])"
   ],
   "metadata": {
    "collapsed": false,
    "pycharm": {
     "name": "#%%\n"
    }
   }
  },
  {
   "cell_type": "code",
   "execution_count": 92,
   "outputs": [],
   "source": [
    "from html2image import Html2Image\n",
    "\n",
    "hti = Html2Image()"
   ],
   "metadata": {
    "collapsed": false,
    "pycharm": {
     "name": "#%%\n"
    }
   }
  },
  {
   "cell_type": "code",
   "execution_count": 93,
   "outputs": [],
   "source": [
    "\n",
    "\n",
    "\n",
    "def result_to_opacity(result, range_min, range_max):\n",
    "    result_range = range_max - range_min\n",
    "    result_percent = (result - range_min)/result_range\n",
    "    result_256 = int(result_percent*255)\n",
    "    return f'{result_256:02x}'\n",
    "\n",
    "\n",
    "def add_background_colour_to_cells(df, lead_only=False):\n",
    "    from scripts.constants import party_colors, major_parties\n",
    "    background_df = df.copy()\n",
    "    max_party_lead = background_df['lead_value'].max()\n",
    "\n",
    "    for party in major_parties:\n",
    "        color = party_colors[party]\n",
    "        party_max = background_df[party].max()\n",
    "        party_min = background_df[party].min() - 0.5\n",
    "        if not lead_only:\n",
    "            background_df[party] = background_df[party].apply(\n",
    "                lambda x: f'background-color: {color}{result_to_opacity(x, party_min, party_max)}'\n",
    "            )\n",
    "        else:\n",
    "            background_df[party] = ''\n",
    "        party_in_lead_mask = df[party] == df[major_parties].max(axis=1)\n",
    "        background_df.loc[party_in_lead_mask, 'lead_value'] = df['lead_value'].apply(\n",
    "            lambda x: f'background-color: {color}{result_to_opacity(x, 0, max_party_lead)}'\n",
    "        )\n",
    "\n",
    "    if 'date_concluded' in background_df.columns:\n",
    "        background_df['date_concluded'] = background_df['date_concluded'].apply(get_recency_weight,\n",
    "                                                                                current_date=most_recent_date)\n",
    "        background_df['date_concluded'] = background_df['date_concluded'].apply(\n",
    "            lambda x: f'background-color: #A9D08E{result_to_opacity(x, 0, 100)}'\n",
    "        )\n",
    "\n",
    "    for column in background_df.columns:\n",
    "        if not (column in major_parties or column in ['lead_value', 'date_concluded']):\n",
    "            background_df[column] = ''\n",
    "    return background_df"
   ],
   "metadata": {
    "collapsed": false,
    "pycharm": {
     "name": "#%%\n"
    }
   }
  },
  {
   "cell_type": "code",
   "execution_count": 94,
   "outputs": [],
   "source": [
    "def polls_to_html(dataframe, title, highlight_party_columns=True, precision=0):\n",
    "    dataframe.index.name = 'id'\n",
    "    table_id = '_'.join(title.split(' ')).lower()\n",
    "\n",
    "    from pandas.io.formats.style import Styler\n",
    "    #styler = dataframe.style\n",
    "    styler = Styler(dataframe, uuid=table_id, cell_ids=True)\n",
    "\n",
    "    styler.apply(add_background_colour_to_cells, axis=None,\n",
    "                                   lead_only=not (highlight_party_columns))\\\n",
    "\n",
    "    styler.format({\n",
    "        \"pollster\": lambda x: f\"{x}\",\n",
    "        \"pollster_count\": lambda x: f\"{x}\",\n",
    "        \"poll_count\": lambda x: f\"{x}\",\n",
    "        \"conservative\": lambda x: f\"{x:.{precision}f}%\",\n",
    "        \"labour\": lambda x: f\"{x:.{precision}f}%\",\n",
    "        \"liberal_democrat\": lambda x: f\"{x:.{precision}f}%\",\n",
    "        \"lead_value\": lambda x: f\"{x:.{precision}f}%\",\n",
    "        'date_concluded': lambda x: f\"{x:%d-%b}\",\n",
    "        'poll_month': lambda x: f\"{x:%b-%y}\",\n",
    "        'poll_weight': lambda x: f\"{x:.0f}\",\n",
    "    })\n",
    "\n",
    "    styler.set_table_attributes(f'id=\"{table_id}\"')\n",
    "    styler.hide_index()\n",
    "\n",
    "    # classes = pd.DataFrame([['_'.join(x.split(' ')).lower() for x in dataframe.columns]]\n",
    "    #                        , index=dataframe.index, columns=dataframe.columns)\n",
    "    #\n",
    "    # styler.set_td_classes(classes)\n",
    "\n",
    "    #styler.set_caption(title)\n",
    "    styler.set_properties(**{'min-width': '10px', 'font-size': '12pt', 'text-align': 'center'})\n",
    "\n",
    "    caption_format = {'selector': 'caption',\n",
    "                      'props': [('text-align', 'center'), ('font-size', '20pt'), ('color', 'black'),\n",
    "                                ('padding-bottom', '15')]}\n",
    "    all_cells = {'selector': '', 'props': [('margin', '0 auto'), ('width', '100%')]}\n",
    "    date_col = {'selector': '.col0', 'props': [('text-align', 'left')]}\n",
    "\n",
    "    styles = [all_cells, date_col, caption_format]\n",
    "\n",
    "    if 'poll_weight' in dataframe.columns:\n",
    "        styles.append({'selector': '.col2', 'props': [('color', '#AAA')]})\n",
    "\n",
    "    df_as_html = styler.set_table_styles(styles).render()\n",
    "\n",
    "    for col in range(0,len(dataframe.columns)):\n",
    "        df_as_html = df_as_html.replace(f'col{col}',dataframe.columns[col])\n",
    "\n",
    "\n",
    "    df_as_html = (df_as_html\n",
    "                  .replace('>poll_count', '>Polls')\n",
    "                  .replace('>pollster_count', '>Pollsters')\n",
    "                  .replace('>conservative', '>Conservatives')\n",
    "                  .replace('>labour', '>Labour')\n",
    "                  .replace('>liberal_democrat', '>Lib Dem')\n",
    "                  .replace('>lead_value', '>Lead')\n",
    "                  .replace('>date_concluded', '>Date')\n",
    "                  .replace('>poll_month', '>Month')\n",
    "                  .replace('>pollster', '>Pollster')\n",
    "                  .replace('>poll_weight', '>w')\n",
    "                  )\n",
    "    return df_as_html"
   ],
   "metadata": {
    "collapsed": false,
    "pycharm": {
     "name": "#%%\n"
    }
   }
  },
  {
   "cell_type": "code",
   "execution_count": 95,
   "outputs": [],
   "source": [
    "display_columns = ['date_concluded', 'pollster', 'conservative', 'labour', 'liberal_democrat', 'lead_value']\n",
    "top_25_html = polls_to_html(all_polls[display_columns][0:25], title='Last 25 Polls')"
   ],
   "metadata": {
    "collapsed": false,
    "pycharm": {
     "name": "#%%\n"
    }
   }
  },
  {
   "cell_type": "code",
   "execution_count": 96,
   "outputs": [],
   "source": [
    "display_columns = ['pollster', 'date_concluded', 'poll_weight', 'conservative', 'labour', 'liberal_democrat',\n",
    "                   'lead_value']\n",
    "df = pollsters_latest.sort_values(by='poll_weight', ascending=False)[display_columns]\n",
    "pollsters_recent = polls_to_html(df, title='Latest Polls', highlight_party_columns=False)"
   ],
   "metadata": {
    "collapsed": false,
    "pycharm": {
     "name": "#%%\n"
    }
   }
  },
  {
   "cell_type": "code",
   "execution_count": 97,
   "outputs": [],
   "source": [
    "display_columns = ['poll_month', 'pollster_count', 'poll_count', 'conservative', 'labour', 'liberal_democrat',\n",
    "                   'lead_value']\n",
    "df = monthly_summary.reset_index()[display_columns].iloc[:0:-1]\n",
    "monthly_averages = polls_to_html(df, title='Monthly Poll Average', highlight_party_columns=True, precision=1)"
   ],
   "metadata": {
    "collapsed": false,
    "pycharm": {
     "name": "#%%\n"
    }
   }
  },
  {
   "cell_type": "code",
   "execution_count": 98,
   "outputs": [],
   "source": [
    "polling_average = polls_to_html(current_average[['conservative', 'labour', 'liberal_democrat', 'lead_value']],\n",
    "                                title='Polling Average', highlight_party_columns=False, precision=1)"
   ],
   "metadata": {
    "collapsed": false,
    "pycharm": {
     "name": "#%%\n"
    }
   }
  },
  {
   "cell_type": "code",
   "execution_count": 99,
   "outputs": [],
   "source": [
    "\n",
    "css = \"body {background: white;}\"\n",
    "# hti.screenshot(html_str=top_25_html, css_str=css, save_as='tmp.png', size=(800, 650))\n",
    "# hti.screenshot(html_str=pollsters_recent, css_str=css, save_as='tmp.png', size=(700, 400))"
   ],
   "metadata": {
    "collapsed": false,
    "pycharm": {
     "name": "#%%\n"
    }
   }
  },
  {
   "cell_type": "code",
   "execution_count": 100,
   "outputs": [],
   "source": [
    "with open('html_outputs/top_25.html', 'w') as f:\n",
    "    f.write(top_25_html)\n",
    "with open('html_outputs/pollsters_recent.html', 'w') as f:\n",
    "    f.write(pollsters_recent)\n",
    "with open('html_outputs/monthly_averages.html', 'w') as f:\n",
    "    f.write(monthly_averages)\n",
    "with open('html_outputs/polling_average.html', 'w') as f:\n",
    "    f.write(polling_average)"
   ],
   "metadata": {
    "collapsed": false,
    "pycharm": {
     "name": "#%%\n"
    }
   }
  },
  {
   "cell_type": "code",
   "execution_count": 101,
   "outputs": [
    {
     "data": {
      "text/plain": "<Figure size 1080x216 with 1 Axes>",
      "image/png": "[encoded data removed]"
     },
     "metadata": {},
     "output_type": "display_data"
    }
   ],
   "source": [
    "from scripts.constants import party_colors, major_parties\n",
    "import matplotlib.pyplot as plt\n",
    "from numpy import arange\n",
    "\n",
    "fig = plt.figure(figsize=(15, 3))\n",
    "fig.set_facecolor('white')\n",
    "ax = plt.gca()\n",
    "\n",
    "# monthly_summary[major_parties[:2]][1:].plot(\n",
    "#     ax=ax,\n",
    "#     ylim=[30, 45],\n",
    "#     color=party_colors,\n",
    "#     linewidth=3\n",
    "# )\n",
    "for party in major_parties[:2]:\n",
    "    plt.plot_date(\n",
    "        x=monthly_summary.index[1:],\n",
    "        y= monthly_summary[party][1:],\n",
    "        fmt='-',\n",
    "        color=party_colors[party],\n",
    "        linewidth=4)\n",
    "\n",
    "    ax.fill_between(monthly_summary.index[1:], monthly_summary[party][1:], monthly_summary[major_parties[:2]].min(axis=1)[1:], color=party_colors[party], alpha=0.2)\n",
    "ax.set_yticks(arange(30, 46, 5), minor=False)\n",
    "major_locator = plt.matplotlib.dates.DayLocator([1])\n",
    "major_fmt = plt.matplotlib.dates.DateFormatter('%b-%y')\n",
    "\n",
    "ax.xaxis.set_major_locator(major_locator)\n",
    "ax.xaxis.set_major_formatter(major_fmt)\n",
    "\n",
    "ax.yaxis.set_major_formatter(plt.matplotlib.ticker.FuncFormatter(lambda x, p: f'{x/100:.0%}'))\n",
    "\n",
    "plot_title = 'Opinion Polling Trend'\n",
    "plt.title(plot_title)\n",
    "\n",
    "source = 'Source: Wikipedia - Opinion polling for the next United Kingdom general election'\n",
    "plt.annotate(source, (1, 0), (0, -20), xycoords='axes fraction', textcoords='offset points', va='top', ha='right')\n",
    "fig.savefig('html_outputs/monthly_trend.png', bbox_inches = 'tight', pad_inches = 0.2)"
   ],
   "metadata": {
    "collapsed": false,
    "pycharm": {
     "name": "#%%\n"
    }
   }
  },
  {
   "cell_type": "code",
   "execution_count": 101,
   "outputs": [],
   "source": [],
   "metadata": {
    "collapsed": false,
    "pycharm": {
     "name": "#%%\n"
    }
   }
  },
  {
   "cell_type": "code",
   "execution_count": 102,
   "outputs": [
    {
     "data": {
      "text/plain": "            conservative     labour  liberal_democrat  pollster_count  \\\npoll_month                                                              \n2021-02-01     41.300000  36.550000          7.125000              10   \n2021-03-01     42.460000  35.815000          7.323333              10   \n2021-04-01     41.921212  35.186364          7.448485              11   \n2021-05-01     43.468750  32.812500          8.062500               8   \n2021-06-01     43.477778  33.455556          7.566667               9   \n2021-07-01     41.787037  33.601852          9.444444               9   \n2021-08-01     40.016667  33.316667         10.400000               6   \n2021-09-01     39.843333  34.331667          9.376667              10   \n2021-10-01     39.268750  34.645833          8.289583               8   \n2021-11-01     37.066667  36.575000          9.250000              10   \n2021-12-01     33.633333  38.475000         10.075000              10   \n2022-01-01     31.966667  40.106061         10.912121              11   \n2022-02-01     32.600000  41.200000          9.600000               5   \n\n            poll_count      lead  lead_value  \npoll_month                                    \n2021-02-01          21   con+4.8    4.750000  \n2021-03-01          20   con+6.6    6.645000  \n2021-04-01          25   con+6.7    6.734848  \n2021-05-01          21  con+10.7   10.656250  \n2021-06-01          24  con+10.0   10.022222  \n2021-07-01          21   con+8.2    8.185185  \n2021-08-01          18   con+6.7    6.700000  \n2021-09-01          23   con+5.5    5.511667  \n2021-10-01          20   con+4.6    4.622917  \n2021-11-01          23   con+0.5    0.491667  \n2021-12-01          29   lab+4.8    4.841667  \n2022-01-01          28   lab+8.1    8.139394  \n2022-02-01           5   lab+8.6    8.600000  ",
      "text/html": "<div>\n<style scoped>\n    .dataframe tbody tr th:only-of-type {\n        vertical-align: middle;\n    }\n\n    .dataframe tbody tr th {\n        vertical-align: top;\n    }\n\n    .dataframe thead th {\n        text-align: right;\n    }\n</style>\n<table border=\"1\" class=\"dataframe\">\n  <thead>\n    <tr style=\"text-align: right;\">\n      <th></th>\n      <th>conservative</th>\n      <th>labour</th>\n      <th>liberal_democrat</th>\n      <th>pollster_count</th>\n      <th>poll_count</th>\n      <th>lead</th>\n      <th>lead_value</th>\n    </tr>\n    <tr>\n      <th>poll_month</th>\n      <th></th>\n      <th></th>\n      <th></th>\n      <th></th>\n      <th></th>\n      <th></th>\n      <th></th>\n    </tr>\n  </thead>\n  <tbody>\n    <tr>\n      <th>2021-02-01</th>\n      <td>41.300000</td>\n      <td>36.550000</td>\n      <td>7.125000</td>\n      <td>10</td>\n      <td>21</td>\n      <td>con+4.8</td>\n      <td>4.750000</td>\n    </tr>\n    <tr>\n      <th>2021-03-01</th>\n      <td>42.460000</td>\n      <td>35.815000</td>\n      <td>7.323333</td>\n      <td>10</td>\n      <td>20</td>\n      <td>con+6.6</td>\n      <td>6.645000</td>\n    </tr>\n    <tr>\n      <th>2021-04-01</th>\n      <td>41.921212</td>\n      <td>35.186364</td>\n      <td>7.448485</td>\n      <td>11</td>\n      <td>25</td>\n      <td>con+6.7</td>\n      <td>6.734848</td>\n    </tr>\n    <tr>\n      <th>2021-05-01</th>\n      <td>43.468750</td>\n      <td>32.812500</td>\n      <td>8.062500</td>\n      <td>8</td>\n      <td>21</td>\n      <td>con+10.7</td>\n      <td>10.656250</td>\n    </tr>\n    <tr>\n      <th>2021-06-01</th>\n      <td>43.477778</td>\n      <td>33.455556</td>\n      <td>7.566667</td>\n      <td>9</td>\n      <td>24</td>\n      <td>con+10.0</td>\n      <td>10.022222</td>\n    </tr>\n    <tr>\n      <th>2021-07-01</th>\n      <td>41.787037</td>\n      <td>33.601852</td>\n      <td>9.444444</td>\n      <td>9</td>\n      <td>21</td>\n      <td>con+8.2</td>\n      <td>8.185185</td>\n    </tr>\n    <tr>\n      <th>2021-08-01</th>\n      <td>40.016667</td>\n      <td>33.316667</td>\n      <td>10.400000</td>\n      <td>6</td>\n      <td>18</td>\n      <td>con+6.7</td>\n      <td>6.700000</td>\n    </tr>\n    <tr>\n      <th>2021-09-01</th>\n      <td>39.843333</td>\n      <td>34.331667</td>\n      <td>9.376667</td>\n      <td>10</td>\n      <td>23</td>\n      <td>con+5.5</td>\n      <td>5.511667</td>\n    </tr>\n    <tr>\n      <th>2021-10-01</th>\n      <td>39.268750</td>\n      <td>34.645833</td>\n      <td>8.289583</td>\n      <td>8</td>\n      <td>20</td>\n      <td>con+4.6</td>\n      <td>4.622917</td>\n    </tr>\n    <tr>\n      <th>2021-11-01</th>\n      <td>37.066667</td>\n      <td>36.575000</td>\n      <td>9.250000</td>\n      <td>10</td>\n      <td>23</td>\n      <td>con+0.5</td>\n      <td>0.491667</td>\n    </tr>\n    <tr>\n      <th>2021-12-01</th>\n      <td>33.633333</td>\n      <td>38.475000</td>\n      <td>10.075000</td>\n      <td>10</td>\n      <td>29</td>\n      <td>lab+4.8</td>\n      <td>4.841667</td>\n    </tr>\n    <tr>\n      <th>2022-01-01</th>\n      <td>31.966667</td>\n      <td>40.106061</td>\n      <td>10.912121</td>\n      <td>11</td>\n      <td>28</td>\n      <td>lab+8.1</td>\n      <td>8.139394</td>\n    </tr>\n    <tr>\n      <th>2022-02-01</th>\n      <td>32.600000</td>\n      <td>41.200000</td>\n      <td>9.600000</td>\n      <td>5</td>\n      <td>5</td>\n      <td>lab+8.6</td>\n      <td>8.600000</td>\n    </tr>\n  </tbody>\n</table>\n</div>"
     },
     "execution_count": 102,
     "metadata": {},
     "output_type": "execute_result"
    }
   ],
   "source": [
    "monthly_summary"
   ],
   "metadata": {
    "collapsed": false,
    "pycharm": {
     "name": "#%%\n"
    }
   }
  },
  {
   "cell_type": "code",
   "execution_count": 102,
   "outputs": [],
   "source": [],
   "metadata": {
    "collapsed": false,
    "pycharm": {
     "name": "#%%\n"
    }
   }
  },
  {
   "cell_type": "code",
   "execution_count": 102,
   "outputs": [],
   "source": [],
   "metadata": {
    "collapsed": false,
    "pycharm": {
     "name": "#%%\n"
    }
   }
  },
  {
   "cell_type": "code",
   "execution_count": 103,
   "outputs": [],
   "source": [
    "import datetime"
   ],
   "metadata": {
    "collapsed": false,
    "pycharm": {
     "name": "#%%\n"
    }
   }
  },
  {
   "cell_type": "code",
   "execution_count": 104,
   "outputs": [
    {
     "data": {
      "text/plain": "<AxesSubplot:xlabel='date_concluded'>"
     },
     "execution_count": 104,
     "metadata": {},
     "output_type": "execute_result"
    },
    {
     "data": {
      "text/plain": "<Figure size 1440x360 with 1 Axes>",
      "image/png": "[encoded data removed]"
     },
     "metadata": {
      "needs_background": "light"
     },
     "output_type": "display_data"
    }
   ],
   "source": [
    "all_polls['progressive_leaning']=all_polls[['labour', 'liberal_democrat', 'alliance', 'change_uk', 'green', 'liberal', 'plaid_cymru', 'scottish_national_party', 'social_democratic_party']].sum(axis=1)\n",
    "all_polls['conservative_leaning']=all_polls[['conservative', 'brexit_party', 'reform_uk','united_kingdom_independence_party', 'reclaim_party']].sum(axis=1)\n",
    "(all_polls\n",
    " .set_index('date_concluded')\n",
    " .rolling(window=15).mean()\n",
    " .loc[:datetime.date(2010,1,1)]\n",
    " [['progressive_leaning','conservative_leaning']]\n",
    " .plot(\n",
    "    color=['r','b']\n",
    "    ,figsize=[20,5]\n",
    "    ,grid='y'\n",
    "    ,ylim=[0,100]\n",
    ")\n",
    ")"
   ],
   "metadata": {
    "collapsed": false,
    "pycharm": {
     "name": "#%%\n"
    }
   }
  },
  {
   "cell_type": "code",
   "execution_count": 105,
   "outputs": [
    {
     "data": {
      "text/plain": "                conservative  labour  liberal_democrat  alliance  \\\ndate_concluded                                                     \n2022-02-07               NaN     NaN               NaN       NaN   \n2022-02-06               NaN     NaN               NaN       NaN   \n2022-02-04               NaN     NaN               NaN       NaN   \n2022-02-02               NaN     NaN               NaN       NaN   \n2022-02-02               NaN     NaN               NaN       NaN   \n...                      ...     ...               ...       ...   \n1970-11-15             40.80   49.15               NaN       NaN   \n1970-10-18             42.10   48.30               NaN       NaN   \n1970-09-13             43.15   47.30               NaN       NaN   \n1970-08-16             44.05   46.65               NaN       NaN   \n1970-06-18             44.29   46.41               NaN       NaN   \n\n                brexit_party  change_uk  green  liberal  plaid_cymru  \\\ndate_concluded                                                         \n2022-02-07               NaN        NaN    NaN      NaN          NaN   \n2022-02-06               NaN        NaN    NaN      NaN          NaN   \n2022-02-04               NaN        NaN    NaN      NaN          NaN   \n2022-02-02               NaN        NaN    NaN      NaN          NaN   \n2022-02-02               NaN        NaN    NaN      NaN          NaN   \n...                      ...        ...    ...      ...          ...   \n1970-11-15               NaN        NaN    NaN     7.85          NaN   \n1970-10-18               NaN        NaN    NaN     7.65          NaN   \n1970-09-13               NaN        NaN    NaN     7.65          NaN   \n1970-08-16               NaN        NaN    NaN     7.45          NaN   \n1970-06-18               NaN        NaN    NaN     7.25          NaN   \n\n                reform_uk  scottish_national_party  social_democratic_party  \\\ndate_concluded                                                                \n2022-02-07            NaN                      NaN                      NaN   \n2022-02-06            NaN                      NaN                      NaN   \n2022-02-04            NaN                      NaN                      NaN   \n2022-02-02            NaN                      NaN                      NaN   \n2022-02-02            NaN                      NaN                      NaN   \n...                   ...                      ...                      ...   \n1970-11-15            NaN                      NaN                      NaN   \n1970-10-18            NaN                      NaN                      NaN   \n1970-09-13            NaN                      NaN                      NaN   \n1970-08-16            NaN                      NaN                      NaN   \n1970-06-18            NaN                      NaN                      NaN   \n\n                united_kingdom_independence_party  reclaim_party  others  \\\ndate_concluded                                                             \n2022-02-07                                    NaN            NaN     NaN   \n2022-02-06                                    NaN            NaN     NaN   \n2022-02-04                                    NaN            NaN     NaN   \n2022-02-02                                    NaN            NaN     NaN   \n2022-02-02                                    NaN            NaN     NaN   \n...                                           ...            ...     ...   \n1970-11-15                                    NaN            NaN     NaN   \n1970-10-18                                    NaN            NaN     NaN   \n1970-09-13                                    NaN            NaN     NaN   \n1970-08-16                                    NaN            NaN     NaN   \n1970-06-18                                    NaN            NaN     NaN   \n\n                lead_value  progressive_leaning  conservative_leaning  \ndate_concluded                                                         \n2022-02-07             NaN                  NaN                   NaN  \n2022-02-06             NaN                  NaN                   NaN  \n2022-02-04             NaN                  NaN                   NaN  \n2022-02-02             NaN                  NaN                   NaN  \n2022-02-02             NaN                  NaN                   NaN  \n...                    ...                  ...                   ...  \n1970-11-15            8.65                57.00                 40.80  \n1970-10-18            6.50                55.95                 42.10  \n1970-09-13            4.95                54.95                 43.15  \n1970-08-16            4.10                54.10                 44.05  \n1970-06-18            4.28                53.66                 44.29  \n\n[5676 rows x 18 columns]",
      "text/html": "<div>\n<style scoped>\n    .dataframe tbody tr th:only-of-type {\n        vertical-align: middle;\n    }\n\n    .dataframe tbody tr th {\n        vertical-align: top;\n    }\n\n    .dataframe thead th {\n        text-align: right;\n    }\n</style>\n<table border=\"1\" class=\"dataframe\">\n  <thead>\n    <tr style=\"text-align: right;\">\n      <th></th>\n      <th>conservative</th>\n      <th>labour</th>\n      <th>liberal_democrat</th>\n      <th>alliance</th>\n      <th>brexit_party</th>\n      <th>change_uk</th>\n      <th>green</th>\n      <th>liberal</th>\n      <th>plaid_cymru</th>\n      <th>reform_uk</th>\n      <th>scottish_national_party</th>\n      <th>social_democratic_party</th>\n      <th>united_kingdom_independence_party</th>\n      <th>reclaim_party</th>\n      <th>others</th>\n      <th>lead_value</th>\n      <th>progressive_leaning</th>\n      <th>conservative_leaning</th>\n    </tr>\n    <tr>\n      <th>date_concluded</th>\n      <th></th>\n      <th></th>\n      <th></th>\n      <th></th>\n      <th></th>\n      <th></th>\n      <th></th>\n      <th></th>\n      <th></th>\n      <th></th>\n      <th></th>\n      <th></th>\n      <th></th>\n      <th></th>\n      <th></th>\n      <th></th>\n      <th></th>\n      <th></th>\n    </tr>\n  </thead>\n  <tbody>\n    <tr>\n      <th>2022-02-07</th>\n      <td>NaN</td>\n      <td>NaN</td>\n      <td>NaN</td>\n      <td>NaN</td>\n      <td>NaN</td>\n      <td>NaN</td>\n      <td>NaN</td>\n      <td>NaN</td>\n      <td>NaN</td>\n      <td>NaN</td>\n      <td>NaN</td>\n      <td>NaN</td>\n      <td>NaN</td>\n      <td>NaN</td>\n      <td>NaN</td>\n      <td>NaN</td>\n      <td>NaN</td>\n      <td>NaN</td>\n    </tr>\n    <tr>\n      <th>2022-02-06</th>\n      <td>NaN</td>\n      <td>NaN</td>\n      <td>NaN</td>\n      <td>NaN</td>\n      <td>NaN</td>\n      <td>NaN</td>\n      <td>NaN</td>\n      <td>NaN</td>\n      <td>NaN</td>\n      <td>NaN</td>\n      <td>NaN</td>\n      <td>NaN</td>\n      <td>NaN</td>\n      <td>NaN</td>\n      <td>NaN</td>\n      <td>NaN</td>\n      <td>NaN</td>\n      <td>NaN</td>\n    </tr>\n    <tr>\n      <th>2022-02-04</th>\n      <td>NaN</td>\n      <td>NaN</td>\n      <td>NaN</td>\n      <td>NaN</td>\n      <td>NaN</td>\n      <td>NaN</td>\n      <td>NaN</td>\n      <td>NaN</td>\n      <td>NaN</td>\n      <td>NaN</td>\n      <td>NaN</td>\n      <td>NaN</td>\n      <td>NaN</td>\n      <td>NaN</td>\n      <td>NaN</td>\n      <td>NaN</td>\n      <td>NaN</td>\n      <td>NaN</td>\n    </tr>\n    <tr>\n      <th>2022-02-02</th>\n      <td>NaN</td>\n      <td>NaN</td>\n      <td>NaN</td>\n      <td>NaN</td>\n      <td>NaN</td>\n      <td>NaN</td>\n      <td>NaN</td>\n      <td>NaN</td>\n      <td>NaN</td>\n      <td>NaN</td>\n      <td>NaN</td>\n      <td>NaN</td>\n      <td>NaN</td>\n      <td>NaN</td>\n      <td>NaN</td>\n      <td>NaN</td>\n      <td>NaN</td>\n      <td>NaN</td>\n    </tr>\n    <tr>\n      <th>2022-02-02</th>\n      <td>NaN</td>\n      <td>NaN</td>\n      <td>NaN</td>\n      <td>NaN</td>\n      <td>NaN</td>\n      <td>NaN</td>\n      <td>NaN</td>\n      <td>NaN</td>\n      <td>NaN</td>\n      <td>NaN</td>\n      <td>NaN</td>\n      <td>NaN</td>\n      <td>NaN</td>\n      <td>NaN</td>\n      <td>NaN</td>\n      <td>NaN</td>\n      <td>NaN</td>\n      <td>NaN</td>\n    </tr>\n    <tr>\n      <th>...</th>\n      <td>...</td>\n      <td>...</td>\n      <td>...</td>\n      <td>...</td>\n      <td>...</td>\n      <td>...</td>\n      <td>...</td>\n      <td>...</td>\n      <td>...</td>\n      <td>...</td>\n      <td>...</td>\n      <td>...</td>\n      <td>...</td>\n      <td>...</td>\n      <td>...</td>\n      <td>...</td>\n      <td>...</td>\n      <td>...</td>\n    </tr>\n    <tr>\n      <th>1970-11-15</th>\n      <td>40.80</td>\n      <td>49.15</td>\n      <td>NaN</td>\n      <td>NaN</td>\n      <td>NaN</td>\n      <td>NaN</td>\n      <td>NaN</td>\n      <td>7.85</td>\n      <td>NaN</td>\n      <td>NaN</td>\n      <td>NaN</td>\n      <td>NaN</td>\n      <td>NaN</td>\n      <td>NaN</td>\n      <td>NaN</td>\n      <td>8.65</td>\n      <td>57.00</td>\n      <td>40.80</td>\n    </tr>\n    <tr>\n      <th>1970-10-18</th>\n      <td>42.10</td>\n      <td>48.30</td>\n      <td>NaN</td>\n      <td>NaN</td>\n      <td>NaN</td>\n      <td>NaN</td>\n      <td>NaN</td>\n      <td>7.65</td>\n      <td>NaN</td>\n      <td>NaN</td>\n      <td>NaN</td>\n      <td>NaN</td>\n      <td>NaN</td>\n      <td>NaN</td>\n      <td>NaN</td>\n      <td>6.50</td>\n      <td>55.95</td>\n      <td>42.10</td>\n    </tr>\n    <tr>\n      <th>1970-09-13</th>\n      <td>43.15</td>\n      <td>47.30</td>\n      <td>NaN</td>\n      <td>NaN</td>\n      <td>NaN</td>\n      <td>NaN</td>\n      <td>NaN</td>\n      <td>7.65</td>\n      <td>NaN</td>\n      <td>NaN</td>\n      <td>NaN</td>\n      <td>NaN</td>\n      <td>NaN</td>\n      <td>NaN</td>\n      <td>NaN</td>\n      <td>4.95</td>\n      <td>54.95</td>\n      <td>43.15</td>\n    </tr>\n    <tr>\n      <th>1970-08-16</th>\n      <td>44.05</td>\n      <td>46.65</td>\n      <td>NaN</td>\n      <td>NaN</td>\n      <td>NaN</td>\n      <td>NaN</td>\n      <td>NaN</td>\n      <td>7.45</td>\n      <td>NaN</td>\n      <td>NaN</td>\n      <td>NaN</td>\n      <td>NaN</td>\n      <td>NaN</td>\n      <td>NaN</td>\n      <td>NaN</td>\n      <td>4.10</td>\n      <td>54.10</td>\n      <td>44.05</td>\n    </tr>\n    <tr>\n      <th>1970-06-18</th>\n      <td>44.29</td>\n      <td>46.41</td>\n      <td>NaN</td>\n      <td>NaN</td>\n      <td>NaN</td>\n      <td>NaN</td>\n      <td>NaN</td>\n      <td>7.25</td>\n      <td>NaN</td>\n      <td>NaN</td>\n      <td>NaN</td>\n      <td>NaN</td>\n      <td>NaN</td>\n      <td>NaN</td>\n      <td>NaN</td>\n      <td>4.28</td>\n      <td>53.66</td>\n      <td>44.29</td>\n    </tr>\n  </tbody>\n</table>\n<p>5676 rows × 18 columns</p>\n</div>"
     },
     "execution_count": 105,
     "metadata": {},
     "output_type": "execute_result"
    }
   ],
   "source": [
    "all_polls.set_index('date_concluded').rolling(window=10).mean()"
   ],
   "metadata": {
    "collapsed": false,
    "pycharm": {
     "name": "#%%\n"
    }
   }
  },
  {
   "cell_type": "code",
   "execution_count": 106,
   "outputs": [
    {
     "data": {
      "text/plain": "               date_started          pollster                 client area  \\\ndate_concluded                                                              \n2019-12-12       2019-12-12  General Election                    NaN   GB   \n2019-12-12       2019-12-12  General Election  2019 general election   GB   \n2019-12-12       2019-12-12  General Election  2019 general election   UK   \n2019-12-11       2019-12-10         Survation                    NaN   GB   \n2019-12-11       2019-12-10         Panelbase                    NaN   GB   \n...                     ...               ...                    ...  ...   \n1970-11-15       1970-11-15            Gallup    The Daily Telegraph  NaN   \n1970-10-18       1970-10-18            Gallup    The Daily Telegraph  NaN   \n1970-09-13       1970-09-13            Gallup    The Daily Telegraph  NaN   \n1970-08-16       1970-08-16            Gallup    The Daily Telegraph  NaN   \n1970-06-18       1970-06-18  General Election  1970 general election  NaN   \n\n               sample_size  conservative  labour  liberal_democrat  alliance  \\\ndate_concluded                                                                 \n2019-12-12               –          44.7    33.0              11.8       NaN   \n2019-12-12               –          44.7    32.9              11.8       NaN   \n2019-12-12               –          43.6    32.1              11.6       NaN   \n2019-12-11            2395          45.0    34.0               9.0       NaN   \n2019-12-11            3174          43.0    34.0              11.0       NaN   \n...                    ...           ...     ...               ...       ...   \n1970-11-15             NaN          43.5    48.0               NaN       NaN   \n1970-10-18             NaN          46.5    46.5               NaN       NaN   \n1970-09-13             NaN          46.5    44.0               NaN       NaN   \n1970-08-16             NaN          47.0    43.5               NaN       NaN   \n1970-06-18             NaN          46.4    43.1               NaN       NaN   \n\n                brexit_party  ...  reform_uk  scottish_national_party  \\\ndate_concluded                ...                                       \n2019-12-12               2.1  ...        NaN                      4.0   \n2019-12-12               2.1  ...        NaN                      4.0   \n2019-12-12               2.0  ...        NaN                      3.9   \n2019-12-11               3.0  ...        NaN                      4.0   \n2019-12-11               4.0  ...        NaN                      4.0   \n...                      ...  ...        ...                      ...   \n1970-11-15               NaN  ...        NaN                      NaN   \n1970-10-18               NaN  ...        NaN                      NaN   \n1970-09-13               NaN  ...        NaN                      NaN   \n1970-08-16               NaN  ...        NaN                      NaN   \n1970-06-18               NaN  ...        NaN                      NaN   \n\n                social_democratic_party  united_kingdom_independence_party  \\\ndate_concluded                                                               \n2019-12-12                          NaN                                0.1   \n2019-12-12                          NaN                                NaN   \n2019-12-12                          NaN                                NaN   \n2019-12-11                          NaN                                NaN   \n2019-12-11                          NaN                                NaN   \n...                                 ...                                ...   \n1970-11-15                          NaN                                NaN   \n1970-10-18                          NaN                                NaN   \n1970-09-13                          NaN                                NaN   \n1970-08-16                          NaN                                NaN   \n1970-06-18                          NaN                                NaN   \n\n                reclaim_party  others      lead  lead_value  \\\ndate_concluded                                                \n2019-12-12                NaN     1.0  con+11.7        11.7   \n2019-12-12                NaN     NaN  con+11.8        11.8   \n2019-12-12                NaN     NaN  con+11.5        11.5   \n2019-12-11                NaN     2.0  con+11.0        11.0   \n2019-12-11                NaN     3.0   con+9.0         9.0   \n...                       ...     ...       ...         ...   \n1970-11-15                NaN     NaN   lab+4.5         4.5   \n1970-10-18                NaN     NaN       Tie         0.0   \n1970-09-13                NaN     NaN   con+2.5         2.5   \n1970-08-16                NaN     NaN   con+3.5         3.5   \n1970-06-18                NaN     NaN   con+3.3         3.3   \n\n                progressive_leaning  conservative_leaning  \ndate_concluded                                             \n2019-12-12                     52.1                  46.9  \n2019-12-12                     51.5                  46.8  \n2019-12-12                     50.3                  45.6  \n2019-12-11                     51.0                  48.0  \n2019-12-11                     52.0                  47.0  \n...                             ...                   ...  \n1970-11-15                     54.5                  43.5  \n1970-10-18                     53.0                  46.5  \n1970-09-13                     52.0                  46.5  \n1970-08-16                     51.0                  47.0  \n1970-06-18                     50.6                  46.4  \n\n[5214 rows x 24 columns]",
      "text/html": "<div>\n<style scoped>\n    .dataframe tbody tr th:only-of-type {\n        vertical-align: middle;\n    }\n\n    .dataframe tbody tr th {\n        vertical-align: top;\n    }\n\n    .dataframe thead th {\n        text-align: right;\n    }\n</style>\n<table border=\"1\" class=\"dataframe\">\n  <thead>\n    <tr style=\"text-align: right;\">\n      <th></th>\n      <th>date_started</th>\n      <th>pollster</th>\n      <th>client</th>\n      <th>area</th>\n      <th>sample_size</th>\n      <th>conservative</th>\n      <th>labour</th>\n      <th>liberal_democrat</th>\n      <th>alliance</th>\n      <th>brexit_party</th>\n      <th>...</th>\n      <th>reform_uk</th>\n      <th>scottish_national_party</th>\n      <th>social_democratic_party</th>\n      <th>united_kingdom_independence_party</th>\n      <th>reclaim_party</th>\n      <th>others</th>\n      <th>lead</th>\n      <th>lead_value</th>\n      <th>progressive_leaning</th>\n      <th>conservative_leaning</th>\n    </tr>\n    <tr>\n      <th>date_concluded</th>\n      <th></th>\n      <th></th>\n      <th></th>\n      <th></th>\n      <th></th>\n      <th></th>\n      <th></th>\n      <th></th>\n      <th></th>\n      <th></th>\n      <th></th>\n      <th></th>\n      <th></th>\n      <th></th>\n      <th></th>\n      <th></th>\n      <th></th>\n      <th></th>\n      <th></th>\n      <th></th>\n      <th></th>\n    </tr>\n  </thead>\n  <tbody>\n    <tr>\n      <th>2019-12-12</th>\n      <td>2019-12-12</td>\n      <td>General Election</td>\n      <td>NaN</td>\n      <td>GB</td>\n      <td>–</td>\n      <td>44.7</td>\n      <td>33.0</td>\n      <td>11.8</td>\n      <td>NaN</td>\n      <td>2.1</td>\n      <td>...</td>\n      <td>NaN</td>\n      <td>4.0</td>\n      <td>NaN</td>\n      <td>0.1</td>\n      <td>NaN</td>\n      <td>1.0</td>\n      <td>con+11.7</td>\n      <td>11.7</td>\n      <td>52.1</td>\n      <td>46.9</td>\n    </tr>\n    <tr>\n      <th>2019-12-12</th>\n      <td>2019-12-12</td>\n      <td>General Election</td>\n      <td>2019 general election</td>\n      <td>GB</td>\n      <td>–</td>\n      <td>44.7</td>\n      <td>32.9</td>\n      <td>11.8</td>\n      <td>NaN</td>\n      <td>2.1</td>\n      <td>...</td>\n      <td>NaN</td>\n      <td>4.0</td>\n      <td>NaN</td>\n      <td>NaN</td>\n      <td>NaN</td>\n      <td>NaN</td>\n      <td>con+11.8</td>\n      <td>11.8</td>\n      <td>51.5</td>\n      <td>46.8</td>\n    </tr>\n    <tr>\n      <th>2019-12-12</th>\n      <td>2019-12-12</td>\n      <td>General Election</td>\n      <td>2019 general election</td>\n      <td>UK</td>\n      <td>–</td>\n      <td>43.6</td>\n      <td>32.1</td>\n      <td>11.6</td>\n      <td>NaN</td>\n      <td>2.0</td>\n      <td>...</td>\n      <td>NaN</td>\n      <td>3.9</td>\n      <td>NaN</td>\n      <td>NaN</td>\n      <td>NaN</td>\n      <td>NaN</td>\n      <td>con+11.5</td>\n      <td>11.5</td>\n      <td>50.3</td>\n      <td>45.6</td>\n    </tr>\n    <tr>\n      <th>2019-12-11</th>\n      <td>2019-12-10</td>\n      <td>Survation</td>\n      <td>NaN</td>\n      <td>GB</td>\n      <td>2395</td>\n      <td>45.0</td>\n      <td>34.0</td>\n      <td>9.0</td>\n      <td>NaN</td>\n      <td>3.0</td>\n      <td>...</td>\n      <td>NaN</td>\n      <td>4.0</td>\n      <td>NaN</td>\n      <td>NaN</td>\n      <td>NaN</td>\n      <td>2.0</td>\n      <td>con+11.0</td>\n      <td>11.0</td>\n      <td>51.0</td>\n      <td>48.0</td>\n    </tr>\n    <tr>\n      <th>2019-12-11</th>\n      <td>2019-12-10</td>\n      <td>Panelbase</td>\n      <td>NaN</td>\n      <td>GB</td>\n      <td>3174</td>\n      <td>43.0</td>\n      <td>34.0</td>\n      <td>11.0</td>\n      <td>NaN</td>\n      <td>4.0</td>\n      <td>...</td>\n      <td>NaN</td>\n      <td>4.0</td>\n      <td>NaN</td>\n      <td>NaN</td>\n      <td>NaN</td>\n      <td>3.0</td>\n      <td>con+9.0</td>\n      <td>9.0</td>\n      <td>52.0</td>\n      <td>47.0</td>\n    </tr>\n    <tr>\n      <th>...</th>\n      <td>...</td>\n      <td>...</td>\n      <td>...</td>\n      <td>...</td>\n      <td>...</td>\n      <td>...</td>\n      <td>...</td>\n      <td>...</td>\n      <td>...</td>\n      <td>...</td>\n      <td>...</td>\n      <td>...</td>\n      <td>...</td>\n      <td>...</td>\n      <td>...</td>\n      <td>...</td>\n      <td>...</td>\n      <td>...</td>\n      <td>...</td>\n      <td>...</td>\n      <td>...</td>\n    </tr>\n    <tr>\n      <th>1970-11-15</th>\n      <td>1970-11-15</td>\n      <td>Gallup</td>\n      <td>The Daily Telegraph</td>\n      <td>NaN</td>\n      <td>NaN</td>\n      <td>43.5</td>\n      <td>48.0</td>\n      <td>NaN</td>\n      <td>NaN</td>\n      <td>NaN</td>\n      <td>...</td>\n      <td>NaN</td>\n      <td>NaN</td>\n      <td>NaN</td>\n      <td>NaN</td>\n      <td>NaN</td>\n      <td>NaN</td>\n      <td>lab+4.5</td>\n      <td>4.5</td>\n      <td>54.5</td>\n      <td>43.5</td>\n    </tr>\n    <tr>\n      <th>1970-10-18</th>\n      <td>1970-10-18</td>\n      <td>Gallup</td>\n      <td>The Daily Telegraph</td>\n      <td>NaN</td>\n      <td>NaN</td>\n      <td>46.5</td>\n      <td>46.5</td>\n      <td>NaN</td>\n      <td>NaN</td>\n      <td>NaN</td>\n      <td>...</td>\n      <td>NaN</td>\n      <td>NaN</td>\n      <td>NaN</td>\n      <td>NaN</td>\n      <td>NaN</td>\n      <td>NaN</td>\n      <td>Tie</td>\n      <td>0.0</td>\n      <td>53.0</td>\n      <td>46.5</td>\n    </tr>\n    <tr>\n      <th>1970-09-13</th>\n      <td>1970-09-13</td>\n      <td>Gallup</td>\n      <td>The Daily Telegraph</td>\n      <td>NaN</td>\n      <td>NaN</td>\n      <td>46.5</td>\n      <td>44.0</td>\n      <td>NaN</td>\n      <td>NaN</td>\n      <td>NaN</td>\n      <td>...</td>\n      <td>NaN</td>\n      <td>NaN</td>\n      <td>NaN</td>\n      <td>NaN</td>\n      <td>NaN</td>\n      <td>NaN</td>\n      <td>con+2.5</td>\n      <td>2.5</td>\n      <td>52.0</td>\n      <td>46.5</td>\n    </tr>\n    <tr>\n      <th>1970-08-16</th>\n      <td>1970-08-16</td>\n      <td>Gallup</td>\n      <td>The Daily Telegraph</td>\n      <td>NaN</td>\n      <td>NaN</td>\n      <td>47.0</td>\n      <td>43.5</td>\n      <td>NaN</td>\n      <td>NaN</td>\n      <td>NaN</td>\n      <td>...</td>\n      <td>NaN</td>\n      <td>NaN</td>\n      <td>NaN</td>\n      <td>NaN</td>\n      <td>NaN</td>\n      <td>NaN</td>\n      <td>con+3.5</td>\n      <td>3.5</td>\n      <td>51.0</td>\n      <td>47.0</td>\n    </tr>\n    <tr>\n      <th>1970-06-18</th>\n      <td>1970-06-18</td>\n      <td>General Election</td>\n      <td>1970 general election</td>\n      <td>NaN</td>\n      <td>NaN</td>\n      <td>46.4</td>\n      <td>43.1</td>\n      <td>NaN</td>\n      <td>NaN</td>\n      <td>NaN</td>\n      <td>...</td>\n      <td>NaN</td>\n      <td>NaN</td>\n      <td>NaN</td>\n      <td>NaN</td>\n      <td>NaN</td>\n      <td>NaN</td>\n      <td>con+3.3</td>\n      <td>3.3</td>\n      <td>50.6</td>\n      <td>46.4</td>\n    </tr>\n  </tbody>\n</table>\n<p>5214 rows × 24 columns</p>\n</div>"
     },
     "execution_count": 106,
     "metadata": {},
     "output_type": "execute_result"
    }
   ],
   "source": [
    "all_polls.set_index('date_concluded').loc[datetime.date(2020,1,1):]"
   ],
   "metadata": {
    "collapsed": false,
    "pycharm": {
     "name": "#%%\n"
    }
   }
  },
  {
   "cell_type": "code",
   "execution_count": 107,
   "outputs": [],
   "source": [
    "one_year_polls['poll_month'] = one_year_polls['date_concluded'].apply(lambda x: x.replace(day=1))"
   ],
   "metadata": {
    "collapsed": false,
    "pycharm": {
     "name": "#%%\n"
    }
   }
  },
  {
   "cell_type": "code",
   "execution_count": 108,
   "outputs": [],
   "source": [
    "kantar_polls = all_polls.query('pollster == \"Kantar Public\" and date_concluded> \"2019-01-01\"').copy()\n",
    "other_polls = all_polls.query('pollster != \"Kantar Public\" and date_concluded> \"2019-01-01\"').copy()"
   ],
   "metadata": {
    "collapsed": false,
    "pycharm": {
     "name": "#%%\n"
    }
   }
  },
  {
   "cell_type": "code",
   "execution_count": 109,
   "outputs": [],
   "source": [
    "kantar_polls['poll_month'] = kantar_polls['date_concluded'].apply(lambda x: x.replace(day=1))\n",
    "other_polls['poll_month'] = other_polls['date_concluded'].apply(lambda x: x.replace(day=1))"
   ],
   "metadata": {
    "collapsed": false,
    "pycharm": {
     "name": "#%%\n"
    }
   }
  },
  {
   "cell_type": "code",
   "execution_count": 110,
   "outputs": [],
   "source": [
    "other_pollster_monthly_summary = other_polls.groupby(['poll_month', 'pollster'])[major_parties].agg(['mean', 'count'])\n",
    "other_pollster_monthly_summary.columns = [x if i == 0 else f'count{major_parties.index(x)}' for x in major_parties for i in\n",
    "                                    range(0, 2)]\n",
    "other_pollster_monthly_summary.drop(columns=[f'count{major_parties.index(x)}' for x in major_parties][1:], inplace=True)\n",
    "other_pollster_monthly_summary.rename(columns={\"count0\": \"count\"}, inplace=True)\n",
    "\n",
    "agg_info = {x: ['mean'] for x in major_parties}\n",
    "agg_info['count'] = ['count', 'sum']\n",
    "other_monthly_summary = other_pollster_monthly_summary.reset_index().groupby(['poll_month']).agg(agg_info)\n",
    "other_monthly_summary.columns = major_parties + ['pollster_count', 'poll_count']"
   ],
   "metadata": {
    "collapsed": false,
    "pycharm": {
     "name": "#%%\n"
    }
   }
  },
  {
   "cell_type": "code",
   "execution_count": 111,
   "outputs": [],
   "source": [
    "kantar_pollster_monthly_summary = kantar_polls.groupby(['poll_month', 'pollster'])[major_parties].agg(['mean', 'count'])\n",
    "kantar_pollster_monthly_summary.columns = [x if i == 0 else f'count{major_parties.index(x)}' for x in major_parties for i in\n",
    "                                    range(0, 2)]\n",
    "kantar_pollster_monthly_summary.drop(columns=[f'count{major_parties.index(x)}' for x in major_parties][1:], inplace=True)\n",
    "kantar_pollster_monthly_summary.rename(columns={\"count0\": \"count\"}, inplace=True)\n",
    "\n",
    "agg_info = {x: ['mean'] for x in major_parties}\n",
    "agg_info['count'] = ['count', 'sum']\n",
    "kantar_monthly_summary = kantar_pollster_monthly_summary.reset_index().groupby(['poll_month']).agg(agg_info)\n",
    "kantar_monthly_summary.columns = major_parties + ['pollster_count', 'poll_count']"
   ],
   "metadata": {
    "collapsed": false,
    "pycharm": {
     "name": "#%%\n"
    }
   }
  },
  {
   "cell_type": "code",
   "execution_count": 112,
   "outputs": [],
   "source": [
    "other_monthly_summary[['kantar_con','kantar_lab']] = kantar_monthly_summary[['conservative','labour']]"
   ],
   "metadata": {
    "collapsed": false,
    "pycharm": {
     "name": "#%%\n"
    }
   }
  },
  {
   "cell_type": "code",
   "execution_count": 113,
   "outputs": [],
   "source": [
    "other_monthly_summary.to_clipboard(sep='\\t')"
   ],
   "metadata": {
    "collapsed": false,
    "pycharm": {
     "name": "#%%\n"
    }
   }
  },
  {
   "cell_type": "code",
   "execution_count": 113,
   "outputs": [],
   "source": [],
   "metadata": {
    "collapsed": false,
    "pycharm": {
     "name": "#%%\n"
    }
   }
  },
  {
   "cell_type": "code",
   "execution_count": 113,
   "outputs": [],
   "source": [],
   "metadata": {
    "collapsed": false,
    "pycharm": {
     "name": "#%%\n"
    }
   }
  }
 ],
 "metadata": {
  "kernelspec": {
   "display_name": "Python 3",
   "language": "python",
   "name": "python3"
  },
  "language_info": {
   "codemirror_mode": {
    "name": "ipython",
    "version": 2
   },
   "file_extension": ".py",
   "mimetype": "text/x-python",
   "name": "python",
   "nbconvert_exporter": "python",
   "pygments_lexer": "ipython2",
   "version": "2.7.6"
  }
 },
 "nbformat": 4,
 "nbformat_minor": 0
}