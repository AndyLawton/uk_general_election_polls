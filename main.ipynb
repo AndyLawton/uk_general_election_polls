{
 "cells": [
  {
   "cell_type": "code",
   "execution_count": 90,
   "metadata": {
    "collapsed": true,
    "pycharm": {
     "name": "#%%\n"
    }
   },
   "outputs": [],
   "source": [
    "import pandas as pd\n",
    "import numpy as np\n",
    "from dateutil.relativedelta import relativedelta"
   ]
  },
  {
   "cell_type": "code",
   "execution_count": 91,
   "outputs": [
    {
     "name": "stderr",
     "output_type": "stream",
     "text": [
      "UsageError: Line magic function `%autoreload` not found.\n"
     ]
    }
   ],
   "source": [
    "%autoreload 2"
   ],
   "metadata": {
    "collapsed": false,
    "pycharm": {
     "name": "#%%\n"
    }
   }
  },
  {
   "cell_type": "code",
   "execution_count": 103,
   "outputs": [],
   "source": [
    "from scripts.downloader import fetch_all_polls"
   ],
   "metadata": {
    "collapsed": false,
    "pycharm": {
     "name": "#%%\n"
    }
   }
  },
  {
   "cell_type": "code",
   "execution_count": 104,
   "outputs": [],
   "source": [
    "all_polls = fetch_all_polls(cleanup=True, refresh=False)"
   ],
   "metadata": {
    "collapsed": false,
    "pycharm": {
     "name": "#%%\n"
    }
   }
  },
  {
   "cell_type": "code",
   "execution_count": 105,
   "outputs": [],
   "source": [
    "all_polls.to_csv('poll_database/poll_database.csv', index=False)\n",
    "all_polls.to_excel('poll_database/poll_database.xlsx', index=False)\n",
    "all_polls.to_json('poll_database/poll_database.json', index=False, orient='split')"
   ],
   "metadata": {
    "collapsed": false,
    "pycharm": {
     "name": "#%%\n"
    }
   }
  },
  {
   "cell_type": "code",
   "execution_count": 106,
   "outputs": [],
   "source": [
    "display_columns = ['date_concluded', 'pollster', 'conservative', 'labour', 'liberal_democrat', 'lead']"
   ],
   "metadata": {
    "collapsed": false,
    "pycharm": {
     "name": "#%%\n"
    }
   }
  },
  {
   "cell_type": "code",
   "execution_count": 107,
   "outputs": [],
   "source": [
    "all_polls['anti_conservative'] = all_polls[['labour', 'liberal_democrat','green','scottish_national_party','plaid_cymru']].fillna(0).sum(axis=1)"
   ],
   "metadata": {
    "collapsed": false,
    "pycharm": {
     "name": "#%%\n"
    }
   }
  },
  {
   "cell_type": "code",
   "execution_count": null,
   "outputs": [],
   "source": [
    "all_polls[(all_polls.anti_conservative.fillna(0) ) >= 65][['date_concluded', 'pollster', 'labour', 'liberal_democrat','green','scottish_national_party','plaid_cymru','anti_conservative', 'lead']]"
   ],
   "metadata": {
    "collapsed": false,
    "pycharm": {
     "name": "#%%\n"
    }
   }
  },
  {
   "cell_type": "code",
   "execution_count": 18,
   "outputs": [
    {
     "data": {
      "text/plain": "     date_concluded pollster  conservative  labour  liberal_democrat  green  \\\n11       2022-05-25   YouGov          31.0    39.0              12.0    7.0   \n16       2022-05-19   YouGov          31.0    39.0              12.0    7.0   \n23       2022-05-11   YouGov          33.0    38.0              12.0    6.0   \n32       2022-04-27   YouGov          33.0    39.0              11.0    6.0   \n39       2022-04-20   YouGov          33.0    39.0               9.0    8.0   \n...             ...      ...           ...     ...               ...    ...   \n3843     2005-07-28   YouGov          31.0    40.0              21.0    NaN   \n3847     2005-06-30   YouGov          33.0    38.0              20.0    NaN   \n3850     2005-05-26   YouGov          31.0    38.0              23.0    NaN   \n3919     2003-04-24   YouGov          32.0    40.0              21.0    NaN   \n3921     2003-03-27   YouGov          33.0    40.0              20.0    NaN   \n\n         lead  \n11    lab+8.0  \n16    lab+8.0  \n23    lab+5.0  \n32    lab+6.0  \n39    lab+6.0  \n...       ...  \n3843  lab+9.0  \n3847  lab+5.0  \n3850  lab+7.0  \n3919  lab+8.0  \n3921  lab+7.0  \n\n[718 rows x 7 columns]",
      "text/html": "<div>\n<style scoped>\n    .dataframe tbody tr th:only-of-type {\n        vertical-align: middle;\n    }\n\n    .dataframe tbody tr th {\n        vertical-align: top;\n    }\n\n    .dataframe thead th {\n        text-align: right;\n    }\n</style>\n<table border=\"1\" class=\"dataframe\">\n  <thead>\n    <tr style=\"text-align: right;\">\n      <th></th>\n      <th>date_concluded</th>\n      <th>pollster</th>\n      <th>conservative</th>\n      <th>labour</th>\n      <th>liberal_democrat</th>\n      <th>green</th>\n      <th>lead</th>\n    </tr>\n  </thead>\n  <tbody>\n    <tr>\n      <th>11</th>\n      <td>2022-05-25</td>\n      <td>YouGov</td>\n      <td>31.0</td>\n      <td>39.0</td>\n      <td>12.0</td>\n      <td>7.0</td>\n      <td>lab+8.0</td>\n    </tr>\n    <tr>\n      <th>16</th>\n      <td>2022-05-19</td>\n      <td>YouGov</td>\n      <td>31.0</td>\n      <td>39.0</td>\n      <td>12.0</td>\n      <td>7.0</td>\n      <td>lab+8.0</td>\n    </tr>\n    <tr>\n      <th>23</th>\n      <td>2022-05-11</td>\n      <td>YouGov</td>\n      <td>33.0</td>\n      <td>38.0</td>\n      <td>12.0</td>\n      <td>6.0</td>\n      <td>lab+5.0</td>\n    </tr>\n    <tr>\n      <th>32</th>\n      <td>2022-04-27</td>\n      <td>YouGov</td>\n      <td>33.0</td>\n      <td>39.0</td>\n      <td>11.0</td>\n      <td>6.0</td>\n      <td>lab+6.0</td>\n    </tr>\n    <tr>\n      <th>39</th>\n      <td>2022-04-20</td>\n      <td>YouGov</td>\n      <td>33.0</td>\n      <td>39.0</td>\n      <td>9.0</td>\n      <td>8.0</td>\n      <td>lab+6.0</td>\n    </tr>\n    <tr>\n      <th>...</th>\n      <td>...</td>\n      <td>...</td>\n      <td>...</td>\n      <td>...</td>\n      <td>...</td>\n      <td>...</td>\n      <td>...</td>\n    </tr>\n    <tr>\n      <th>3843</th>\n      <td>2005-07-28</td>\n      <td>YouGov</td>\n      <td>31.0</td>\n      <td>40.0</td>\n      <td>21.0</td>\n      <td>NaN</td>\n      <td>lab+9.0</td>\n    </tr>\n    <tr>\n      <th>3847</th>\n      <td>2005-06-30</td>\n      <td>YouGov</td>\n      <td>33.0</td>\n      <td>38.0</td>\n      <td>20.0</td>\n      <td>NaN</td>\n      <td>lab+5.0</td>\n    </tr>\n    <tr>\n      <th>3850</th>\n      <td>2005-05-26</td>\n      <td>YouGov</td>\n      <td>31.0</td>\n      <td>38.0</td>\n      <td>23.0</td>\n      <td>NaN</td>\n      <td>lab+7.0</td>\n    </tr>\n    <tr>\n      <th>3919</th>\n      <td>2003-04-24</td>\n      <td>YouGov</td>\n      <td>32.0</td>\n      <td>40.0</td>\n      <td>21.0</td>\n      <td>NaN</td>\n      <td>lab+8.0</td>\n    </tr>\n    <tr>\n      <th>3921</th>\n      <td>2003-03-27</td>\n      <td>YouGov</td>\n      <td>33.0</td>\n      <td>40.0</td>\n      <td>20.0</td>\n      <td>NaN</td>\n      <td>lab+7.0</td>\n    </tr>\n  </tbody>\n</table>\n<p>718 rows × 7 columns</p>\n</div>"
     },
     "execution_count": 18,
     "metadata": {},
     "output_type": "execute_result"
    }
   ],
   "source": [
    "all_polls.query(\"pollster=='YouGov' and lead_value>=5 and labour>conservative\")[display_columns]"
   ],
   "metadata": {
    "collapsed": false,
    "pycharm": {
     "name": "#%%\n"
    }
   }
  },
  {
   "cell_type": "code",
   "execution_count": 19,
   "outputs": [
    {
     "data": {
      "text/plain": "     date_concluded pollster  conservative  labour  liberal_democrat  green  \\\n118      2022-01-14  Opinium          31.0    41.0               9.0    6.0   \n149      2021-12-10  Opinium          32.0    41.0               9.0    5.0   \n386      2021-01-15  Opinium          37.0    41.0               6.0    4.0   \n422      2020-11-06  Opinium          38.0    42.0               7.0    3.0   \n447      2020-09-25  Opinium          39.0    42.0               5.0    4.0   \n962      2017-12-14  Opinium          39.0    41.0               7.0    2.0   \n975      2017-11-16  Opinium          40.0    42.0               6.0    2.0   \n985      2017-10-06  Opinium          40.0    42.0               5.0    2.0   \n995      2017-09-15  Opinium          41.0    41.0               5.0    3.0   \n1003     2017-08-18  Opinium          40.0    43.0               6.0    2.0   \n1011     2017-07-14  Opinium          41.0    43.0               5.0    2.0   \n1016     2017-06-29  Opinium          39.0    45.0               5.0    2.0   \n2343     2013-02-21  Opinium          29.0    41.0               8.0    2.0   \n2376     2013-01-24  Opinium          28.0    41.0               8.0    3.0   \n2388     2013-01-11  Opinium          31.0    41.0               7.0    2.0   \n2454     2012-11-01  Opinium          30.0    41.0               9.0    3.0   \n2483     2012-10-04  Opinium          30.0    41.0               9.0    4.0   \n2495     2012-09-21  Opinium          30.0    42.0               8.0    4.0   \n2512     2012-08-31  Opinium          31.0    42.0               8.0    3.0   \n2551     2012-07-16  Opinium          32.0    41.0               9.0    4.0   \n2565     2012-06-28  Opinium          31.0    42.0               8.0    4.0   \n2582     2012-06-11  Opinium          31.0    42.0               9.0    4.0   \n2602     2012-05-17  Opinium          30.0    41.0               9.0    3.0   \n\n          lead  \n118   lab+10.0  \n149    lab+9.0  \n386    lab+4.0  \n422    lab+4.0  \n447    lab+3.0  \n962    lab+2.0  \n975    lab+2.0  \n985    lab+2.0  \n995        Tie  \n1003   lab+3.0  \n1011   lab+2.0  \n1016   lab+6.0  \n2343  lab+12.0  \n2376  lab+13.0  \n2388  lab+10.0  \n2454  lab+11.0  \n2483  lab+11.0  \n2495  lab+12.0  \n2512  lab+11.0  \n2551   lab+9.0  \n2565  lab+11.0  \n2582  lab+11.0  \n2602  lab+11.0  ",
      "text/html": "<div>\n<style scoped>\n    .dataframe tbody tr th:only-of-type {\n        vertical-align: middle;\n    }\n\n    .dataframe tbody tr th {\n        vertical-align: top;\n    }\n\n    .dataframe thead th {\n        text-align: right;\n    }\n</style>\n<table border=\"1\" class=\"dataframe\">\n  <thead>\n    <tr style=\"text-align: right;\">\n      <th></th>\n      <th>date_concluded</th>\n      <th>pollster</th>\n      <th>conservative</th>\n      <th>labour</th>\n      <th>liberal_democrat</th>\n      <th>green</th>\n      <th>lead</th>\n    </tr>\n  </thead>\n  <tbody>\n    <tr>\n      <th>118</th>\n      <td>2022-01-14</td>\n      <td>Opinium</td>\n      <td>31.0</td>\n      <td>41.0</td>\n      <td>9.0</td>\n      <td>6.0</td>\n      <td>lab+10.0</td>\n    </tr>\n    <tr>\n      <th>149</th>\n      <td>2021-12-10</td>\n      <td>Opinium</td>\n      <td>32.0</td>\n      <td>41.0</td>\n      <td>9.0</td>\n      <td>5.0</td>\n      <td>lab+9.0</td>\n    </tr>\n    <tr>\n      <th>386</th>\n      <td>2021-01-15</td>\n      <td>Opinium</td>\n      <td>37.0</td>\n      <td>41.0</td>\n      <td>6.0</td>\n      <td>4.0</td>\n      <td>lab+4.0</td>\n    </tr>\n    <tr>\n      <th>422</th>\n      <td>2020-11-06</td>\n      <td>Opinium</td>\n      <td>38.0</td>\n      <td>42.0</td>\n      <td>7.0</td>\n      <td>3.0</td>\n      <td>lab+4.0</td>\n    </tr>\n    <tr>\n      <th>447</th>\n      <td>2020-09-25</td>\n      <td>Opinium</td>\n      <td>39.0</td>\n      <td>42.0</td>\n      <td>5.0</td>\n      <td>4.0</td>\n      <td>lab+3.0</td>\n    </tr>\n    <tr>\n      <th>962</th>\n      <td>2017-12-14</td>\n      <td>Opinium</td>\n      <td>39.0</td>\n      <td>41.0</td>\n      <td>7.0</td>\n      <td>2.0</td>\n      <td>lab+2.0</td>\n    </tr>\n    <tr>\n      <th>975</th>\n      <td>2017-11-16</td>\n      <td>Opinium</td>\n      <td>40.0</td>\n      <td>42.0</td>\n      <td>6.0</td>\n      <td>2.0</td>\n      <td>lab+2.0</td>\n    </tr>\n    <tr>\n      <th>985</th>\n      <td>2017-10-06</td>\n      <td>Opinium</td>\n      <td>40.0</td>\n      <td>42.0</td>\n      <td>5.0</td>\n      <td>2.0</td>\n      <td>lab+2.0</td>\n    </tr>\n    <tr>\n      <th>995</th>\n      <td>2017-09-15</td>\n      <td>Opinium</td>\n      <td>41.0</td>\n      <td>41.0</td>\n      <td>5.0</td>\n      <td>3.0</td>\n      <td>Tie</td>\n    </tr>\n    <tr>\n      <th>1003</th>\n      <td>2017-08-18</td>\n      <td>Opinium</td>\n      <td>40.0</td>\n      <td>43.0</td>\n      <td>6.0</td>\n      <td>2.0</td>\n      <td>lab+3.0</td>\n    </tr>\n    <tr>\n      <th>1011</th>\n      <td>2017-07-14</td>\n      <td>Opinium</td>\n      <td>41.0</td>\n      <td>43.0</td>\n      <td>5.0</td>\n      <td>2.0</td>\n      <td>lab+2.0</td>\n    </tr>\n    <tr>\n      <th>1016</th>\n      <td>2017-06-29</td>\n      <td>Opinium</td>\n      <td>39.0</td>\n      <td>45.0</td>\n      <td>5.0</td>\n      <td>2.0</td>\n      <td>lab+6.0</td>\n    </tr>\n    <tr>\n      <th>2343</th>\n      <td>2013-02-21</td>\n      <td>Opinium</td>\n      <td>29.0</td>\n      <td>41.0</td>\n      <td>8.0</td>\n      <td>2.0</td>\n      <td>lab+12.0</td>\n    </tr>\n    <tr>\n      <th>2376</th>\n      <td>2013-01-24</td>\n      <td>Opinium</td>\n      <td>28.0</td>\n      <td>41.0</td>\n      <td>8.0</td>\n      <td>3.0</td>\n      <td>lab+13.0</td>\n    </tr>\n    <tr>\n      <th>2388</th>\n      <td>2013-01-11</td>\n      <td>Opinium</td>\n      <td>31.0</td>\n      <td>41.0</td>\n      <td>7.0</td>\n      <td>2.0</td>\n      <td>lab+10.0</td>\n    </tr>\n    <tr>\n      <th>2454</th>\n      <td>2012-11-01</td>\n      <td>Opinium</td>\n      <td>30.0</td>\n      <td>41.0</td>\n      <td>9.0</td>\n      <td>3.0</td>\n      <td>lab+11.0</td>\n    </tr>\n    <tr>\n      <th>2483</th>\n      <td>2012-10-04</td>\n      <td>Opinium</td>\n      <td>30.0</td>\n      <td>41.0</td>\n      <td>9.0</td>\n      <td>4.0</td>\n      <td>lab+11.0</td>\n    </tr>\n    <tr>\n      <th>2495</th>\n      <td>2012-09-21</td>\n      <td>Opinium</td>\n      <td>30.0</td>\n      <td>42.0</td>\n      <td>8.0</td>\n      <td>4.0</td>\n      <td>lab+12.0</td>\n    </tr>\n    <tr>\n      <th>2512</th>\n      <td>2012-08-31</td>\n      <td>Opinium</td>\n      <td>31.0</td>\n      <td>42.0</td>\n      <td>8.0</td>\n      <td>3.0</td>\n      <td>lab+11.0</td>\n    </tr>\n    <tr>\n      <th>2551</th>\n      <td>2012-07-16</td>\n      <td>Opinium</td>\n      <td>32.0</td>\n      <td>41.0</td>\n      <td>9.0</td>\n      <td>4.0</td>\n      <td>lab+9.0</td>\n    </tr>\n    <tr>\n      <th>2565</th>\n      <td>2012-06-28</td>\n      <td>Opinium</td>\n      <td>31.0</td>\n      <td>42.0</td>\n      <td>8.0</td>\n      <td>4.0</td>\n      <td>lab+11.0</td>\n    </tr>\n    <tr>\n      <th>2582</th>\n      <td>2012-06-11</td>\n      <td>Opinium</td>\n      <td>31.0</td>\n      <td>42.0</td>\n      <td>9.0</td>\n      <td>4.0</td>\n      <td>lab+11.0</td>\n    </tr>\n    <tr>\n      <th>2602</th>\n      <td>2012-05-17</td>\n      <td>Opinium</td>\n      <td>30.0</td>\n      <td>41.0</td>\n      <td>9.0</td>\n      <td>3.0</td>\n      <td>lab+11.0</td>\n    </tr>\n  </tbody>\n</table>\n</div>"
     },
     "execution_count": 19,
     "metadata": {},
     "output_type": "execute_result"
    }
   ],
   "source": [
    "all_polls.query(\"pollster=='Opinium' and labour >= 41\")[display_columns]"
   ],
   "metadata": {
    "collapsed": false,
    "pycharm": {
     "name": "#%%\n"
    }
   }
  },
  {
   "cell_type": "code",
   "execution_count": 30,
   "outputs": [],
   "source": [
    "#all_polls.query(\"pollster == 'YouGov' and conservative <31\")[display_columns]"
   ],
   "metadata": {
    "collapsed": false,
    "pycharm": {
     "name": "#%%\n"
    }
   }
  },
  {
   "cell_type": "code",
   "execution_count": 30,
   "outputs": [],
   "source": [],
   "metadata": {
    "collapsed": false,
    "pycharm": {
     "name": "#%%\n"
    }
   }
  },
  {
   "cell_type": "code",
   "execution_count": 31,
   "outputs": [],
   "source": [
    "most_recent_date = all_polls.iloc[0].date_concluded\n",
    "one_year_polls = all_polls[\n",
    "    all_polls['date_concluded'] >= (most_recent_date + relativedelta(months=-12)).replace(day=1)].copy()"
   ],
   "metadata": {
    "collapsed": false,
    "pycharm": {
     "name": "#%%\n"
    }
   }
  },
  {
   "cell_type": "code",
   "execution_count": 31,
   "outputs": [],
   "source": [],
   "metadata": {
    "collapsed": false,
    "pycharm": {
     "name": "#%%\n"
    }
   }
  },
  {
   "cell_type": "code",
   "execution_count": 32,
   "outputs": [],
   "source": [
    "pollsters_latest = pd.DataFrame()\n",
    "for pollster in one_year_polls.pollster.unique():\n",
    "    pollster_data = one_year_polls.query(f'pollster == \"{pollster}\"')\n",
    "    latest_poll = pollster_data.iloc[0]\n",
    "    pollsters_latest = pollsters_latest.append(latest_poll)"
   ],
   "metadata": {
    "collapsed": false,
    "pycharm": {
     "name": "#%%\n"
    }
   }
  },
  {
   "cell_type": "code",
   "execution_count": 33,
   "outputs": [],
   "source": [
    "top_five = {'Ipsos MORI': 100,\n",
    "            'Opinium': 79,\n",
    "            'YouGov': 77,\n",
    "            'Kantar Public': 69,\n",
    "            'Number Cruncher Politics': 61,\n",
    "            'Survation': 59,\n",
    "            'Panelbase': 57,\n",
    "            'Deltapoll': 46,\n",
    "            'BMG Research': 44,\n",
    "            'FocalData': 39,\n",
    "            'ICM Research': 35,\n",
    "            'Savanta ComRes': 34,\n",
    "            'Find Out Now': 34*0.5, # Ludicrous Local Election Polling\n",
    "            'Redfield & Wilton Strategies': 34,\n",
    "            'Techne UK': 34,\n",
    "            }\n",
    "\n",
    "top_two = {'Ipsos MORI': 100,\n",
    "           'Survation': 85,\n",
    "           'Kantar Public': 85,\n",
    "           'Panelbase': 74,\n",
    "           'Number Cruncher Politics': 71,\n",
    "           'Opinium': 71,\n",
    "           'YouGov': 67,\n",
    "           'Deltapoll': 50,\n",
    "           'FocalData': 42,\n",
    "           'BMG Research': 39,\n",
    "           'Savanta ComRes': 29,\n",
    "           'ICM Research': 27,\n",
    "           'Find Out Now': 34*0.5, # Ludicrous Local Election Polling\n",
    "           'Redfield & Wilton Strategies': 34,\n",
    "           'Techne UK': 34,\n",
    "           }"
   ],
   "metadata": {
    "collapsed": false,
    "pycharm": {
     "name": "#%%\n"
    }
   }
  },
  {
   "cell_type": "code",
   "execution_count": 34,
   "outputs": [
    {
     "data": {
      "text/plain": "78.5"
     },
     "execution_count": 34,
     "metadata": {},
     "output_type": "execute_result"
    }
   ],
   "source": [
    "(71*3+79*2+100)/6"
   ],
   "metadata": {
    "collapsed": false,
    "pycharm": {
     "name": "#%%\n"
    }
   }
  },
  {
   "cell_type": "code",
   "execution_count": 34,
   "outputs": [],
   "source": [],
   "metadata": {
    "collapsed": false,
    "pycharm": {
     "name": "#%%\n"
    }
   }
  },
  {
   "cell_type": "code",
   "execution_count": 35,
   "outputs": [],
   "source": [
    "recency_weights = {\n",
    "    -1: 100,\n",
    "    7: 100,\n",
    "    15: 70,\n",
    "    30: 5,\n",
    "    90: 0\n",
    "}\n",
    "\n",
    "\n",
    "def get_recency_weight(date_concluded, current_date, return_category=False):\n",
    "    days_since_poll = (current_date - date_concluded).days\n",
    "    days_start_of_range = weight_start_of_range = 0\n",
    "    category = 0\n",
    "    for day, weight in recency_weights.items():\n",
    "        category += 1\n",
    "        if days_since_poll > day:\n",
    "            days_start_of_range = day\n",
    "            weight_start_of_range = weight\n",
    "        else:\n",
    "            percent_through_range = (days_since_poll - days_start_of_range)/(day - days_start_of_range)\n",
    "            full_weight = weight_start_of_range - ((weight_start_of_range - weight)*percent_through_range)\n",
    "            if return_category:\n",
    "                return category - 2\n",
    "            else:\n",
    "                return full_weight\n",
    "    if return_category:\n",
    "        return category - 1\n",
    "    else:\n",
    "        return 0\n"
   ],
   "metadata": {
    "collapsed": false,
    "pycharm": {
     "name": "#%%\n"
    }
   }
  },
  {
   "cell_type": "code",
   "execution_count": 36,
   "outputs": [],
   "source": [
    "def get_pollster_weight(pollster):\n",
    "    if pollster not in top_two:\n",
    "        return 0\n",
    "    top_five_score = top_five[pollster]\n",
    "    top_two_score = top_two[pollster]\n",
    "    pollster_w = (3*top_two_score + 2*top_five_score + 100)/6\n",
    "    return pollster_w\n"
   ],
   "metadata": {
    "collapsed": false,
    "pycharm": {
     "name": "#%%\n"
    }
   }
  },
  {
   "cell_type": "code",
   "execution_count": 37,
   "outputs": [
    {
     "name": "stdout",
     "output_type": "stream",
     "text": [
      " Techne UK                     : 45.0\n",
      " Opinium                       : 78.5\n",
      " Redfield & Wilton Strategies  : 45.0\n",
      " Savanta ComRes                : 42.5\n",
      " YouGov                        : 75.8\n",
      " Kantar Public                 : 82.2\n",
      " Ipsos MORI                    : 100.0\n",
      " Survation                     : 78.8\n",
      " Deltapoll                     : 57.0\n",
      " Number Cruncher Politics      : 72.5\n",
      " Find Out Now                  : 30.8\n",
      " JL Partners Polls             : 0.0\n",
      " FocalData                     : 50.7\n",
      " Panelbase                     : 72.7\n"
     ]
    }
   ],
   "source": [
    "for pollster in one_year_polls.pollster.unique():\n",
    "    print(f' {pollster:30s}: {get_pollster_weight(pollster):.1f}')"
   ],
   "metadata": {
    "collapsed": false,
    "pycharm": {
     "name": "#%%\n"
    }
   }
  },
  {
   "cell_type": "code",
   "execution_count": 38,
   "outputs": [],
   "source": [
    "from scripts.constants import major_parties"
   ],
   "metadata": {
    "collapsed": false,
    "pycharm": {
     "name": "#%%\n"
    }
   }
  },
  {
   "cell_type": "code",
   "execution_count": 39,
   "outputs": [],
   "source": [
    "pollsters_latest['recency_weight'] = pollsters_latest['date_concluded'].apply(get_recency_weight,\n",
    "                                                                              current_date=most_recent_date)\n",
    "pollsters_latest['pollster_weight'] = pollsters_latest['pollster'].apply(get_pollster_weight)\n",
    "pollsters_latest['poll_weight'] = pollsters_latest['pollster_weight']*(pollsters_latest['recency_weight']/100)"
   ],
   "metadata": {
    "collapsed": false,
    "pycharm": {
     "name": "#%%\n"
    }
   }
  },
  {
   "cell_type": "code",
   "execution_count": 40,
   "outputs": [],
   "source": [
    "current_average = pd.DataFrame(columns=major_parties + ['lead'], index=['Polling Average'])\n",
    "lead_party = ''\n",
    "max_vote_share = 0\n",
    "second_vote_share = 0\n",
    "for party in major_parties:\n",
    "    party_vote_share = pollsters_latest[party].dot(pollsters_latest['poll_weight'])/pollsters_latest[\n",
    "        'poll_weight'].sum()\n",
    "    if party_vote_share > max_vote_share:\n",
    "        second_vote_share = max_vote_share\n",
    "        max_vote_share = party_vote_share\n",
    "        lead_party = party\n",
    "    else:\n",
    "        if party_vote_share > second_vote_share:\n",
    "            second_vote_share = party_vote_share\n",
    "    current_average.loc['Polling Average', party] = party_vote_share\n",
    "    #current_average.loc['Polling Average', party] = f'{party_vote_share:.1f}%'\n",
    "#current_average.loc['Polling Average', 'lead'] = f'{lead_party:.3s}+{max_vote_share - second_vote_share:.1f}%'\n",
    "current_average.loc['Polling Average', 'lead_value'] = max_vote_share - second_vote_share\n"
   ],
   "metadata": {
    "collapsed": false,
    "pycharm": {
     "name": "#%%\n"
    }
   }
  },
  {
   "cell_type": "code",
   "execution_count": 41,
   "outputs": [],
   "source": [
    "one_year_polls['poll_month'] = one_year_polls['date_concluded'].apply(lambda x: x.replace(day=1))"
   ],
   "metadata": {
    "collapsed": false,
    "pycharm": {
     "name": "#%%\n"
    }
   }
  },
  {
   "cell_type": "code",
   "execution_count": 42,
   "outputs": [],
   "source": [
    "pollster_monthly_summary = one_year_polls.groupby(['poll_month', 'pollster'])[major_parties].agg(['mean', 'count'])\n",
    "pollster_monthly_summary.columns = [x if i == 0 else f'count{major_parties.index(x)}' for x in major_parties for i in\n",
    "                                    range(0, 2)]\n",
    "pollster_monthly_summary.drop(columns=[f'count{major_parties.index(x)}' for x in major_parties][1:], inplace=True)\n",
    "pollster_monthly_summary.rename(columns={\"count0\": \"count\"}, inplace=True)\n",
    "\n",
    "agg_info = {x: ['mean'] for x in major_parties}\n",
    "agg_info['count'] = ['count', 'sum']\n",
    "monthly_summary = pollster_monthly_summary.reset_index().groupby(['poll_month']).agg(agg_info)\n",
    "monthly_summary.columns = major_parties + ['pollster_count', 'poll_count']"
   ],
   "metadata": {
    "collapsed": false,
    "pycharm": {
     "name": "#%%\n"
    }
   }
  },
  {
   "cell_type": "code",
   "execution_count": 42,
   "outputs": [],
   "source": [],
   "metadata": {
    "collapsed": false,
    "pycharm": {
     "name": "#%%\n"
    }
   }
  },
  {
   "cell_type": "code",
   "execution_count": 43,
   "outputs": [],
   "source": [
    "from scripts.functions import format_lead\n",
    "\n",
    "monthly_summary[['lead', 'lead_value']] = monthly_summary.apply(format_lead, axis=1, result_type='expand')"
   ],
   "metadata": {
    "collapsed": false,
    "pycharm": {
     "name": "#%%\n"
    }
   }
  },
  {
   "cell_type": "code",
   "execution_count": 43,
   "outputs": [],
   "source": [],
   "metadata": {
    "collapsed": false,
    "pycharm": {
     "name": "#%%\n"
    }
   }
  },
  {
   "cell_type": "code",
   "execution_count": 44,
   "outputs": [
    {
     "data": {
      "text/plain": "    date_concluded                      pollster  conservative  labour  \\\n1       2022-06-10                       Opinium          34.0    36.0   \n11      2022-05-25                        YouGov          31.0    39.0   \n12      2022-05-23                 Kantar Public          32.0    38.0   \n0       2022-06-10                     Techne UK          33.0    39.0   \n2       2022-06-09  Redfield & Wilton Strategies          32.0    40.0   \n6       2022-05-29                Savanta ComRes          31.0    42.0   \n18      2022-05-17                    Ipsos MORI          33.0    39.0   \n34      2022-04-26                     Survation          33.0    42.0   \n41      2022-04-14                     Deltapoll          32.0    43.0   \n79      2022-02-28      Number Cruncher Politics          35.0    42.0   \n88      2022-02-18                  Find Out Now          32.0    38.0   \n112     2022-01-23             JL Partners Polls          32.0    45.0   \n123     2022-01-13                     FocalData          33.0    42.0   \n167     2021-11-19                     Panelbase          38.0    39.0   \n\n     liberal_democrat  green      lead  \n1                13.0    6.0   lab+2.0  \n11               12.0    7.0   lab+8.0  \n12               13.0    8.0   lab+6.0  \n0                12.0    6.0   lab+6.0  \n2                13.0    5.0   lab+8.0  \n6                11.0    3.0  lab+11.0  \n18               12.0    5.0   lab+6.0  \n34                9.0    4.0   lab+9.0  \n41                9.0    6.0  lab+11.0  \n79                8.0    6.0   lab+7.0  \n88               13.0    7.0   lab+6.0  \n112              11.0    8.0  lab+13.0  \n123              11.0    4.0   lab+9.0  \n167               9.0    6.0   lab+1.0  ",
      "text/html": "<div>\n<style scoped>\n    .dataframe tbody tr th:only-of-type {\n        vertical-align: middle;\n    }\n\n    .dataframe tbody tr th {\n        vertical-align: top;\n    }\n\n    .dataframe thead th {\n        text-align: right;\n    }\n</style>\n<table border=\"1\" class=\"dataframe\">\n  <thead>\n    <tr style=\"text-align: right;\">\n      <th></th>\n      <th>date_concluded</th>\n      <th>pollster</th>\n      <th>conservative</th>\n      <th>labour</th>\n      <th>liberal_democrat</th>\n      <th>green</th>\n      <th>lead</th>\n    </tr>\n  </thead>\n  <tbody>\n    <tr>\n      <th>1</th>\n      <td>2022-06-10</td>\n      <td>Opinium</td>\n      <td>34.0</td>\n      <td>36.0</td>\n      <td>13.0</td>\n      <td>6.0</td>\n      <td>lab+2.0</td>\n    </tr>\n    <tr>\n      <th>11</th>\n      <td>2022-05-25</td>\n      <td>YouGov</td>\n      <td>31.0</td>\n      <td>39.0</td>\n      <td>12.0</td>\n      <td>7.0</td>\n      <td>lab+8.0</td>\n    </tr>\n    <tr>\n      <th>12</th>\n      <td>2022-05-23</td>\n      <td>Kantar Public</td>\n      <td>32.0</td>\n      <td>38.0</td>\n      <td>13.0</td>\n      <td>8.0</td>\n      <td>lab+6.0</td>\n    </tr>\n    <tr>\n      <th>0</th>\n      <td>2022-06-10</td>\n      <td>Techne UK</td>\n      <td>33.0</td>\n      <td>39.0</td>\n      <td>12.0</td>\n      <td>6.0</td>\n      <td>lab+6.0</td>\n    </tr>\n    <tr>\n      <th>2</th>\n      <td>2022-06-09</td>\n      <td>Redfield &amp; Wilton Strategies</td>\n      <td>32.0</td>\n      <td>40.0</td>\n      <td>13.0</td>\n      <td>5.0</td>\n      <td>lab+8.0</td>\n    </tr>\n    <tr>\n      <th>6</th>\n      <td>2022-05-29</td>\n      <td>Savanta ComRes</td>\n      <td>31.0</td>\n      <td>42.0</td>\n      <td>11.0</td>\n      <td>3.0</td>\n      <td>lab+11.0</td>\n    </tr>\n    <tr>\n      <th>18</th>\n      <td>2022-05-17</td>\n      <td>Ipsos MORI</td>\n      <td>33.0</td>\n      <td>39.0</td>\n      <td>12.0</td>\n      <td>5.0</td>\n      <td>lab+6.0</td>\n    </tr>\n    <tr>\n      <th>34</th>\n      <td>2022-04-26</td>\n      <td>Survation</td>\n      <td>33.0</td>\n      <td>42.0</td>\n      <td>9.0</td>\n      <td>4.0</td>\n      <td>lab+9.0</td>\n    </tr>\n    <tr>\n      <th>41</th>\n      <td>2022-04-14</td>\n      <td>Deltapoll</td>\n      <td>32.0</td>\n      <td>43.0</td>\n      <td>9.0</td>\n      <td>6.0</td>\n      <td>lab+11.0</td>\n    </tr>\n    <tr>\n      <th>79</th>\n      <td>2022-02-28</td>\n      <td>Number Cruncher Politics</td>\n      <td>35.0</td>\n      <td>42.0</td>\n      <td>8.0</td>\n      <td>6.0</td>\n      <td>lab+7.0</td>\n    </tr>\n    <tr>\n      <th>88</th>\n      <td>2022-02-18</td>\n      <td>Find Out Now</td>\n      <td>32.0</td>\n      <td>38.0</td>\n      <td>13.0</td>\n      <td>7.0</td>\n      <td>lab+6.0</td>\n    </tr>\n    <tr>\n      <th>112</th>\n      <td>2022-01-23</td>\n      <td>JL Partners Polls</td>\n      <td>32.0</td>\n      <td>45.0</td>\n      <td>11.0</td>\n      <td>8.0</td>\n      <td>lab+13.0</td>\n    </tr>\n    <tr>\n      <th>123</th>\n      <td>2022-01-13</td>\n      <td>FocalData</td>\n      <td>33.0</td>\n      <td>42.0</td>\n      <td>11.0</td>\n      <td>4.0</td>\n      <td>lab+9.0</td>\n    </tr>\n    <tr>\n      <th>167</th>\n      <td>2021-11-19</td>\n      <td>Panelbase</td>\n      <td>38.0</td>\n      <td>39.0</td>\n      <td>9.0</td>\n      <td>6.0</td>\n      <td>lab+1.0</td>\n    </tr>\n  </tbody>\n</table>\n</div>"
     },
     "metadata": {},
     "output_type": "display_data"
    },
    {
     "data": {
      "text/plain": "                conservative    labour liberal_democrat lead  lead_value\nPolling Average    32.452367  38.64616        12.364669  NaN    6.193793",
      "text/html": "<div>\n<style scoped>\n    .dataframe tbody tr th:only-of-type {\n        vertical-align: middle;\n    }\n\n    .dataframe tbody tr th {\n        vertical-align: top;\n    }\n\n    .dataframe thead th {\n        text-align: right;\n    }\n</style>\n<table border=\"1\" class=\"dataframe\">\n  <thead>\n    <tr style=\"text-align: right;\">\n      <th></th>\n      <th>conservative</th>\n      <th>labour</th>\n      <th>liberal_democrat</th>\n      <th>lead</th>\n      <th>lead_value</th>\n    </tr>\n  </thead>\n  <tbody>\n    <tr>\n      <th>Polling Average</th>\n      <td>32.452367</td>\n      <td>38.64616</td>\n      <td>12.364669</td>\n      <td>NaN</td>\n      <td>6.193793</td>\n    </tr>\n  </tbody>\n</table>\n</div>"
     },
     "metadata": {},
     "output_type": "display_data"
    },
    {
     "data": {
      "text/plain": "            conservative     labour  liberal_democrat  pollster_count  \\\npoll_month                                                              \n2022-06-01     33.166667  38.166667         12.333333               3   \n2022-05-01     33.146939  38.800000         11.528571               7   \n2022-04-01     33.805556  39.944444          9.814815               9   \n2022-03-01     35.183333  38.725926          9.825926               9   \n2022-02-01     33.725000  39.850000         10.300000              10   \n2022-01-01     31.969444  40.513889         10.919444              12   \n2021-12-01     33.484848  38.340909         10.159091              11   \n2021-11-01     37.066667  36.575000          9.250000              10   \n2021-10-01     39.268750  34.645833          8.289583               8   \n2021-09-01     39.843333  34.331667          9.376667              10   \n2021-08-01     40.016667  33.316667         10.400000               6   \n2021-07-01     41.787037  33.601852          9.444444               9   \n\n            poll_count     lead  lead_value  \npoll_month                                   \n2022-06-01           6  lab+5.0    5.000000  \n2022-05-01          24  lab+5.7    5.653061  \n2022-04-01          22  lab+6.1    6.138889  \n2022-03-01          26  lab+3.5    3.542593  \n2022-02-01          23  lab+6.1    6.125000  \n2022-01-01          29  lab+8.5    8.544444  \n2021-12-01          30  lab+4.9    4.856061  \n2021-11-01          23  con+0.5    0.491667  \n2021-10-01          20  con+4.6    4.622917  \n2021-09-01          23  con+5.5    5.511667  \n2021-08-01          18  con+6.7    6.700000  \n2021-07-01          21  con+8.2    8.185185  ",
      "text/html": "<div>\n<style scoped>\n    .dataframe tbody tr th:only-of-type {\n        vertical-align: middle;\n    }\n\n    .dataframe tbody tr th {\n        vertical-align: top;\n    }\n\n    .dataframe thead th {\n        text-align: right;\n    }\n</style>\n<table border=\"1\" class=\"dataframe\">\n  <thead>\n    <tr style=\"text-align: right;\">\n      <th></th>\n      <th>conservative</th>\n      <th>labour</th>\n      <th>liberal_democrat</th>\n      <th>pollster_count</th>\n      <th>poll_count</th>\n      <th>lead</th>\n      <th>lead_value</th>\n    </tr>\n    <tr>\n      <th>poll_month</th>\n      <th></th>\n      <th></th>\n      <th></th>\n      <th></th>\n      <th></th>\n      <th></th>\n      <th></th>\n    </tr>\n  </thead>\n  <tbody>\n    <tr>\n      <th>2022-06-01</th>\n      <td>33.166667</td>\n      <td>38.166667</td>\n      <td>12.333333</td>\n      <td>3</td>\n      <td>6</td>\n      <td>lab+5.0</td>\n      <td>5.000000</td>\n    </tr>\n    <tr>\n      <th>2022-05-01</th>\n      <td>33.146939</td>\n      <td>38.800000</td>\n      <td>11.528571</td>\n      <td>7</td>\n      <td>24</td>\n      <td>lab+5.7</td>\n      <td>5.653061</td>\n    </tr>\n    <tr>\n      <th>2022-04-01</th>\n      <td>33.805556</td>\n      <td>39.944444</td>\n      <td>9.814815</td>\n      <td>9</td>\n      <td>22</td>\n      <td>lab+6.1</td>\n      <td>6.138889</td>\n    </tr>\n    <tr>\n      <th>2022-03-01</th>\n      <td>35.183333</td>\n      <td>38.725926</td>\n      <td>9.825926</td>\n      <td>9</td>\n      <td>26</td>\n      <td>lab+3.5</td>\n      <td>3.542593</td>\n    </tr>\n    <tr>\n      <th>2022-02-01</th>\n      <td>33.725000</td>\n      <td>39.850000</td>\n      <td>10.300000</td>\n      <td>10</td>\n      <td>23</td>\n      <td>lab+6.1</td>\n      <td>6.125000</td>\n    </tr>\n    <tr>\n      <th>2022-01-01</th>\n      <td>31.969444</td>\n      <td>40.513889</td>\n      <td>10.919444</td>\n      <td>12</td>\n      <td>29</td>\n      <td>lab+8.5</td>\n      <td>8.544444</td>\n    </tr>\n    <tr>\n      <th>2021-12-01</th>\n      <td>33.484848</td>\n      <td>38.340909</td>\n      <td>10.159091</td>\n      <td>11</td>\n      <td>30</td>\n      <td>lab+4.9</td>\n      <td>4.856061</td>\n    </tr>\n    <tr>\n      <th>2021-11-01</th>\n      <td>37.066667</td>\n      <td>36.575000</td>\n      <td>9.250000</td>\n      <td>10</td>\n      <td>23</td>\n      <td>con+0.5</td>\n      <td>0.491667</td>\n    </tr>\n    <tr>\n      <th>2021-10-01</th>\n      <td>39.268750</td>\n      <td>34.645833</td>\n      <td>8.289583</td>\n      <td>8</td>\n      <td>20</td>\n      <td>con+4.6</td>\n      <td>4.622917</td>\n    </tr>\n    <tr>\n      <th>2021-09-01</th>\n      <td>39.843333</td>\n      <td>34.331667</td>\n      <td>9.376667</td>\n      <td>10</td>\n      <td>23</td>\n      <td>con+5.5</td>\n      <td>5.511667</td>\n    </tr>\n    <tr>\n      <th>2021-08-01</th>\n      <td>40.016667</td>\n      <td>33.316667</td>\n      <td>10.400000</td>\n      <td>6</td>\n      <td>18</td>\n      <td>con+6.7</td>\n      <td>6.700000</td>\n    </tr>\n    <tr>\n      <th>2021-07-01</th>\n      <td>41.787037</td>\n      <td>33.601852</td>\n      <td>9.444444</td>\n      <td>9</td>\n      <td>21</td>\n      <td>con+8.2</td>\n      <td>8.185185</td>\n    </tr>\n  </tbody>\n</table>\n</div>"
     },
     "metadata": {},
     "output_type": "display_data"
    }
   ],
   "source": [
    "display(pollsters_latest.sort_values(by='poll_weight', ascending=False)[display_columns])\n",
    "display(current_average)\n",
    "display(monthly_summary.iloc[:0:-1])"
   ],
   "metadata": {
    "collapsed": false,
    "pycharm": {
     "name": "#%%\n"
    }
   }
  },
  {
   "cell_type": "code",
   "execution_count": 45,
   "outputs": [],
   "source": [
    "from html2image import Html2Image\n",
    "\n",
    "hti = Html2Image()"
   ],
   "metadata": {
    "collapsed": false,
    "pycharm": {
     "name": "#%%\n"
    }
   }
  },
  {
   "cell_type": "code",
   "execution_count": 46,
   "outputs": [],
   "source": [
    "\n",
    "\n",
    "\n",
    "def result_to_opacity(result, range_min, range_max):\n",
    "    result_range = range_max - range_min\n",
    "    result_percent = (result - range_min)/result_range\n",
    "    result_256 = int(result_percent*255)\n",
    "    return f'{result_256:02x}'\n",
    "\n",
    "\n",
    "def add_background_colour_to_cells(df, lead_only=False):\n",
    "    from scripts.constants import party_colors, major_parties\n",
    "    background_df = df.copy()\n",
    "    max_party_lead = background_df['lead_value'].max()\n",
    "\n",
    "    for party in major_parties:\n",
    "        color = party_colors[party]\n",
    "        party_max = background_df[party].max()\n",
    "        party_min = background_df[party].min() - 0.5\n",
    "        if not lead_only:\n",
    "            background_df[party] = background_df[party].apply(\n",
    "                lambda x: f'background-color: {color}{result_to_opacity(x, party_min, party_max)}'\n",
    "            )\n",
    "        else:\n",
    "            background_df[party] = ''\n",
    "        party_in_lead_mask = df[party] == df[major_parties].max(axis=1)\n",
    "        background_df.loc[party_in_lead_mask, 'lead_value'] = df['lead_value'].apply(\n",
    "            lambda x: f'background-color: {color}{result_to_opacity(x, 0, max_party_lead)}'\n",
    "        )\n",
    "\n",
    "    if 'date_concluded' in background_df.columns:\n",
    "        background_df['date_concluded'] = background_df['date_concluded'].apply(get_recency_weight,\n",
    "                                                                                current_date=most_recent_date)\n",
    "        background_df['date_concluded'] = background_df['date_concluded'].apply(\n",
    "            lambda x: f'background-color: #A9D08E{result_to_opacity(x, 0, 100)}'\n",
    "        )\n",
    "\n",
    "    for column in background_df.columns:\n",
    "        if not (column in major_parties or column in ['lead_value', 'date_concluded']):\n",
    "            background_df[column] = ''\n",
    "    return background_df"
   ],
   "metadata": {
    "collapsed": false,
    "pycharm": {
     "name": "#%%\n"
    }
   }
  },
  {
   "cell_type": "code",
   "execution_count": 47,
   "outputs": [],
   "source": [
    "def polls_to_html(dataframe, title, highlight_party_columns=True, precision=0):\n",
    "    dataframe.index.name = 'id'\n",
    "    table_id = '_'.join(title.split(' ')).lower()\n",
    "\n",
    "    from pandas.io.formats.style import Styler\n",
    "    #styler = dataframe.style\n",
    "    styler = Styler(dataframe, uuid=table_id, cell_ids=True)\n",
    "\n",
    "    styler.apply(add_background_colour_to_cells, axis=None,\n",
    "                                   lead_only=not (highlight_party_columns))\\\n",
    "\n",
    "    styler.format({\n",
    "        \"pollster\": lambda x: f\"{x}\",\n",
    "        \"pollster_count\": lambda x: f\"{x}\",\n",
    "        \"poll_count\": lambda x: f\"{x}\",\n",
    "        \"conservative\": lambda x: f\"{x:.{precision}f}%\",\n",
    "        \"labour\": lambda x: f\"{x:.{precision}f}%\",\n",
    "        \"liberal_democrat\": lambda x: f\"{x:.{precision}f}%\",\n",
    "        \"lead_value\": lambda x: f\"{x:.{precision}f}%\",\n",
    "        'date_concluded': lambda x: f\"{x:%d-%b}\",\n",
    "        'poll_month': lambda x: f\"{x:%b-%y}\",\n",
    "        'poll_weight': lambda x: f\"{x:.0f}\",\n",
    "    })\n",
    "\n",
    "    styler.set_table_attributes(f'id=\"{table_id}\"')\n",
    "    styler.hide_index()\n",
    "\n",
    "    # classes = pd.DataFrame([['_'.join(x.split(' ')).lower() for x in dataframe.columns]]\n",
    "    #                        , index=dataframe.index, columns=dataframe.columns)\n",
    "    #\n",
    "    # styler.set_td_classes(classes)\n",
    "\n",
    "    #styler.set_caption(title)\n",
    "    styler.set_properties(**{'min-width': '10px', 'font-size': '12pt', 'text-align': 'center'})\n",
    "\n",
    "    caption_format = {'selector': 'caption',\n",
    "                      'props': [('text-align', 'center'), ('font-size', '20pt'), ('color', 'black'),\n",
    "                                ('padding-bottom', '15')]}\n",
    "    all_cells = {'selector': '', 'props': [('margin', '0 auto'), ('width', '100%')]}\n",
    "    date_col = {'selector': '.col0', 'props': [('text-align', 'left')]}\n",
    "\n",
    "    styles = [all_cells, date_col, caption_format]\n",
    "\n",
    "    if 'poll_weight' in dataframe.columns:\n",
    "        styles.append({'selector': '.col2', 'props': [('color', '#AAA')]})\n",
    "\n",
    "    df_as_html = styler.set_table_styles(styles).render()\n",
    "\n",
    "    for col in range(0,len(dataframe.columns)):\n",
    "        df_as_html = df_as_html.replace(f'col{col}',dataframe.columns[col])\n",
    "\n",
    "\n",
    "    df_as_html = (df_as_html\n",
    "                  .replace('>poll_count', '>Polls')\n",
    "                  .replace('>pollster_count', '>Pollsters')\n",
    "                  .replace('>conservative', '>Conservatives')\n",
    "                  .replace('>labour', '>Labour')\n",
    "                  .replace('>liberal_democrat', '>Lib Dem')\n",
    "                  .replace('>lead_value', '>Lead')\n",
    "                  .replace('>date_concluded', '>Date')\n",
    "                  .replace('>poll_month', '>Month')\n",
    "                  .replace('>pollster', '>Pollster')\n",
    "                  .replace('>poll_weight', '>w')\n",
    "                  )\n",
    "    return df_as_html"
   ],
   "metadata": {
    "collapsed": false,
    "pycharm": {
     "name": "#%%\n"
    }
   }
  },
  {
   "cell_type": "code",
   "execution_count": 48,
   "outputs": [],
   "source": [
    "display_columns = ['date_concluded', 'pollster', 'conservative', 'labour', 'liberal_democrat', 'lead_value']\n",
    "top_25_html = polls_to_html(all_polls[display_columns][0:25], title='Last 25 Polls')"
   ],
   "metadata": {
    "collapsed": false,
    "pycharm": {
     "name": "#%%\n"
    }
   }
  },
  {
   "cell_type": "code",
   "execution_count": 49,
   "outputs": [],
   "source": [
    "display_columns = ['pollster', 'date_concluded', 'poll_weight', 'conservative', 'labour', 'liberal_democrat',\n",
    "                   'lead_value']\n",
    "df = pollsters_latest.sort_values(by='poll_weight', ascending=False)[display_columns]\n",
    "pollsters_recent = polls_to_html(df, title='Latest Polls', highlight_party_columns=False)"
   ],
   "metadata": {
    "collapsed": false,
    "pycharm": {
     "name": "#%%\n"
    }
   }
  },
  {
   "cell_type": "code",
   "execution_count": 50,
   "outputs": [],
   "source": [
    "display_columns = ['poll_month', 'pollster_count', 'poll_count', 'conservative', 'labour', 'liberal_democrat',\n",
    "                   'lead_value']\n",
    "df = monthly_summary.reset_index()[display_columns].iloc[:0:-1]\n",
    "monthly_averages = polls_to_html(df, title='Monthly Poll Average', highlight_party_columns=True, precision=1)"
   ],
   "metadata": {
    "collapsed": false,
    "pycharm": {
     "name": "#%%\n"
    }
   }
  },
  {
   "cell_type": "code",
   "execution_count": 51,
   "outputs": [],
   "source": [
    "polling_average = polls_to_html(current_average[['conservative', 'labour', 'liberal_democrat', 'lead_value']],\n",
    "                                title='Polling Average', highlight_party_columns=False, precision=1)"
   ],
   "metadata": {
    "collapsed": false,
    "pycharm": {
     "name": "#%%\n"
    }
   }
  },
  {
   "cell_type": "code",
   "execution_count": 52,
   "outputs": [],
   "source": [
    "\n",
    "css = \"body {background: white;}\"\n",
    "# hti.screenshot(html_str=top_25_html, css_str=css, save_as='tmp.png', size=(800, 650))\n",
    "# hti.screenshot(html_str=pollsters_recent, css_str=css, save_as='tmp.png', size=(700, 400))"
   ],
   "metadata": {
    "collapsed": false,
    "pycharm": {
     "name": "#%%\n"
    }
   }
  },
  {
   "cell_type": "code",
   "execution_count": 53,
   "outputs": [],
   "source": [
    "with open('html_outputs/top_25.html', 'w') as f:\n",
    "    f.write(top_25_html)\n",
    "with open('html_outputs/pollsters_recent.html', 'w') as f:\n",
    "    f.write(pollsters_recent)\n",
    "with open('html_outputs/monthly_averages.html', 'w') as f:\n",
    "    f.write(monthly_averages)\n",
    "with open('html_outputs/polling_average.html', 'w') as f:\n",
    "    f.write(polling_average)"
   ],
   "metadata": {
    "collapsed": false,
    "pycharm": {
     "name": "#%%\n"
    }
   }
  },
  {
   "cell_type": "code",
   "execution_count": 54,
   "outputs": [
    {
     "data": {
      "text/plain": "<Figure size 1080x216 with 1 Axes>",
      "image/png": "[encoded data removed]"
     },
     "metadata": {},
     "output_type": "display_data"
    }
   ],
   "source": [
    "from scripts.constants import party_colors, major_parties\n",
    "import matplotlib.pyplot as plt\n",
    "from numpy import arange\n",
    "\n",
    "fig = plt.figure(figsize=(15, 3))\n",
    "fig.set_facecolor('white')\n",
    "ax = plt.gca()\n",
    "\n",
    "# monthly_summary[major_parties[:2]][1:].plot(\n",
    "#     ax=ax,\n",
    "#     ylim=[30, 45],\n",
    "#     color=party_colors,\n",
    "#     linewidth=3\n",
    "# )\n",
    "for party in major_parties[:2]:\n",
    "    plt.plot_date(\n",
    "        x=monthly_summary.index[1:],\n",
    "        y= monthly_summary[party][1:],\n",
    "        fmt='-',\n",
    "        color=party_colors[party],\n",
    "        linewidth=4)\n",
    "\n",
    "    ax.fill_between(monthly_summary.index[1:], monthly_summary[party][1:], monthly_summary[major_parties[:2]].min(axis=1)[1:], color=party_colors[party], alpha=0.2)\n",
    "ax.set_yticks(arange(30, 46, 5), minor=False)\n",
    "major_locator = plt.matplotlib.dates.DayLocator([1])\n",
    "major_fmt = plt.matplotlib.dates.DateFormatter('%b-%y')\n",
    "\n",
    "ax.xaxis.set_major_locator(major_locator)\n",
    "ax.xaxis.set_major_formatter(major_fmt)\n",
    "\n",
    "ax.yaxis.set_major_formatter(plt.matplotlib.ticker.FuncFormatter(lambda x, p: f'{x/100:.0%}'))\n",
    "\n",
    "plot_title = 'Opinion Polling Trend'\n",
    "plt.title(plot_title)\n",
    "\n",
    "source = 'Source: Wikipedia - Opinion polling for the next United Kingdom general election'\n",
    "plt.annotate(source, (1, 0), (0, -20), xycoords='axes fraction', textcoords='offset points', va='top', ha='right')\n",
    "fig.savefig('html_outputs/monthly_trend.png', bbox_inches = 'tight', pad_inches = 0.2)"
   ],
   "metadata": {
    "collapsed": false,
    "pycharm": {
     "name": "#%%\n"
    }
   }
  },
  {
   "cell_type": "code",
   "execution_count": 54,
   "outputs": [],
   "source": [],
   "metadata": {
    "collapsed": false,
    "pycharm": {
     "name": "#%%\n"
    }
   }
  },
  {
   "cell_type": "code",
   "execution_count": 55,
   "outputs": [
    {
     "data": {
      "text/plain": "            conservative     labour  liberal_democrat  pollster_count  \\\npoll_month                                                              \n2021-06-01     43.477778  33.455556          7.566667               9   \n2021-07-01     41.787037  33.601852          9.444444               9   \n2021-08-01     40.016667  33.316667         10.400000               6   \n2021-09-01     39.843333  34.331667          9.376667              10   \n2021-10-01     39.268750  34.645833          8.289583               8   \n2021-11-01     37.066667  36.575000          9.250000              10   \n2021-12-01     33.484848  38.340909         10.159091              11   \n2022-01-01     31.969444  40.513889         10.919444              12   \n2022-02-01     33.725000  39.850000         10.300000              10   \n2022-03-01     35.183333  38.725926          9.825926               9   \n2022-04-01     33.805556  39.944444          9.814815               9   \n2022-05-01     33.146939  38.800000         11.528571               7   \n2022-06-01     33.166667  38.166667         12.333333               3   \n\n            poll_count      lead  lead_value  \npoll_month                                    \n2021-06-01          24  con+10.0   10.022222  \n2021-07-01          21   con+8.2    8.185185  \n2021-08-01          18   con+6.7    6.700000  \n2021-09-01          23   con+5.5    5.511667  \n2021-10-01          20   con+4.6    4.622917  \n2021-11-01          23   con+0.5    0.491667  \n2021-12-01          30   lab+4.9    4.856061  \n2022-01-01          29   lab+8.5    8.544444  \n2022-02-01          23   lab+6.1    6.125000  \n2022-03-01          26   lab+3.5    3.542593  \n2022-04-01          22   lab+6.1    6.138889  \n2022-05-01          24   lab+5.7    5.653061  \n2022-06-01           6   lab+5.0    5.000000  ",
      "text/html": "<div>\n<style scoped>\n    .dataframe tbody tr th:only-of-type {\n        vertical-align: middle;\n    }\n\n    .dataframe tbody tr th {\n        vertical-align: top;\n    }\n\n    .dataframe thead th {\n        text-align: right;\n    }\n</style>\n<table border=\"1\" class=\"dataframe\">\n  <thead>\n    <tr style=\"text-align: right;\">\n      <th></th>\n      <th>conservative</th>\n      <th>labour</th>\n      <th>liberal_democrat</th>\n      <th>pollster_count</th>\n      <th>poll_count</th>\n      <th>lead</th>\n      <th>lead_value</th>\n    </tr>\n    <tr>\n      <th>poll_month</th>\n      <th></th>\n      <th></th>\n      <th></th>\n      <th></th>\n      <th></th>\n      <th></th>\n      <th></th>\n    </tr>\n  </thead>\n  <tbody>\n    <tr>\n      <th>2021-06-01</th>\n      <td>43.477778</td>\n      <td>33.455556</td>\n      <td>7.566667</td>\n      <td>9</td>\n      <td>24</td>\n      <td>con+10.0</td>\n      <td>10.022222</td>\n    </tr>\n    <tr>\n      <th>2021-07-01</th>\n      <td>41.787037</td>\n      <td>33.601852</td>\n      <td>9.444444</td>\n      <td>9</td>\n      <td>21</td>\n      <td>con+8.2</td>\n      <td>8.185185</td>\n    </tr>\n    <tr>\n      <th>2021-08-01</th>\n      <td>40.016667</td>\n      <td>33.316667</td>\n      <td>10.400000</td>\n      <td>6</td>\n      <td>18</td>\n      <td>con+6.7</td>\n      <td>6.700000</td>\n    </tr>\n    <tr>\n      <th>2021-09-01</th>\n      <td>39.843333</td>\n      <td>34.331667</td>\n      <td>9.376667</td>\n      <td>10</td>\n      <td>23</td>\n      <td>con+5.5</td>\n      <td>5.511667</td>\n    </tr>\n    <tr>\n      <th>2021-10-01</th>\n      <td>39.268750</td>\n      <td>34.645833</td>\n      <td>8.289583</td>\n      <td>8</td>\n      <td>20</td>\n      <td>con+4.6</td>\n      <td>4.622917</td>\n    </tr>\n    <tr>\n      <th>2021-11-01</th>\n      <td>37.066667</td>\n      <td>36.575000</td>\n      <td>9.250000</td>\n      <td>10</td>\n      <td>23</td>\n      <td>con+0.5</td>\n      <td>0.491667</td>\n    </tr>\n    <tr>\n      <th>2021-12-01</th>\n      <td>33.484848</td>\n      <td>38.340909</td>\n      <td>10.159091</td>\n      <td>11</td>\n      <td>30</td>\n      <td>lab+4.9</td>\n      <td>4.856061</td>\n    </tr>\n    <tr>\n      <th>2022-01-01</th>\n      <td>31.969444</td>\n      <td>40.513889</td>\n      <td>10.919444</td>\n      <td>12</td>\n      <td>29</td>\n      <td>lab+8.5</td>\n      <td>8.544444</td>\n    </tr>\n    <tr>\n      <th>2022-02-01</th>\n      <td>33.725000</td>\n      <td>39.850000</td>\n      <td>10.300000</td>\n      <td>10</td>\n      <td>23</td>\n      <td>lab+6.1</td>\n      <td>6.125000</td>\n    </tr>\n    <tr>\n      <th>2022-03-01</th>\n      <td>35.183333</td>\n      <td>38.725926</td>\n      <td>9.825926</td>\n      <td>9</td>\n      <td>26</td>\n      <td>lab+3.5</td>\n      <td>3.542593</td>\n    </tr>\n    <tr>\n      <th>2022-04-01</th>\n      <td>33.805556</td>\n      <td>39.944444</td>\n      <td>9.814815</td>\n      <td>9</td>\n      <td>22</td>\n      <td>lab+6.1</td>\n      <td>6.138889</td>\n    </tr>\n    <tr>\n      <th>2022-05-01</th>\n      <td>33.146939</td>\n      <td>38.800000</td>\n      <td>11.528571</td>\n      <td>7</td>\n      <td>24</td>\n      <td>lab+5.7</td>\n      <td>5.653061</td>\n    </tr>\n    <tr>\n      <th>2022-06-01</th>\n      <td>33.166667</td>\n      <td>38.166667</td>\n      <td>12.333333</td>\n      <td>3</td>\n      <td>6</td>\n      <td>lab+5.0</td>\n      <td>5.000000</td>\n    </tr>\n  </tbody>\n</table>\n</div>"
     },
     "execution_count": 55,
     "metadata": {},
     "output_type": "execute_result"
    }
   ],
   "source": [
    "monthly_summary"
   ],
   "metadata": {
    "collapsed": false,
    "pycharm": {
     "name": "#%%\n"
    }
   }
  },
  {
   "cell_type": "code",
   "execution_count": 55,
   "outputs": [],
   "source": [],
   "metadata": {
    "collapsed": false,
    "pycharm": {
     "name": "#%%\n"
    }
   }
  },
  {
   "cell_type": "code",
   "execution_count": 55,
   "outputs": [],
   "source": [],
   "metadata": {
    "collapsed": false,
    "pycharm": {
     "name": "#%%\n"
    }
   }
  },
  {
   "cell_type": "code",
   "execution_count": 56,
   "outputs": [],
   "source": [
    "import datetime"
   ],
   "metadata": {
    "collapsed": false,
    "pycharm": {
     "name": "#%%\n"
    }
   }
  },
  {
   "cell_type": "code",
   "execution_count": 57,
   "outputs": [
    {
     "data": {
      "text/plain": "<AxesSubplot:xlabel='date_concluded'>"
     },
     "execution_count": 57,
     "metadata": {},
     "output_type": "execute_result"
    },
    {
     "data": {
      "text/plain": "<Figure size 1440x360 with 1 Axes>",
      "image/png": "[encoded data removed]"
     },
     "metadata": {
      "needs_background": "light"
     },
     "output_type": "display_data"
    }
   ],
   "source": [
    "all_polls['progressive_leaning']=all_polls[['labour', 'liberal_democrat', 'alliance', 'change_uk', 'green', 'liberal', 'plaid_cymru', 'scottish_national_party', 'social_democratic_party']].sum(axis=1)\n",
    "all_polls['conservative_leaning']=all_polls[['conservative', 'brexit_party', 'reform_uk','united_kingdom_independence_party', 'reclaim_party']].sum(axis=1)\n",
    "(all_polls\n",
    " .set_index('date_concluded')\n",
    " .rolling(window=15).mean()\n",
    " .loc[:datetime.date(2010,1,1)]\n",
    " [['progressive_leaning','conservative_leaning']]\n",
    " .plot(\n",
    "    color=['r','b']\n",
    "    ,figsize=[20,5]\n",
    "    ,grid='y'\n",
    "    ,ylim=[0,100]\n",
    ")\n",
    ")"
   ],
   "metadata": {
    "collapsed": false,
    "pycharm": {
     "name": "#%%\n"
    }
   }
  },
  {
   "cell_type": "code",
   "execution_count": 58,
   "outputs": [
    {
     "data": {
      "text/plain": "                conservative  labour  liberal_democrat  alliance  \\\ndate_concluded                                                     \n2022-06-10               NaN     NaN               NaN       NaN   \n2022-06-10               NaN     NaN               NaN       NaN   \n2022-06-09               NaN     NaN               NaN       NaN   \n2022-06-05               NaN     NaN               NaN       NaN   \n2022-06-01               NaN     NaN               NaN       NaN   \n...                      ...     ...               ...       ...   \n1970-11-15             40.80   49.15               NaN       NaN   \n1970-10-18             42.10   48.30               NaN       NaN   \n1970-09-13             43.15   47.30               NaN       NaN   \n1970-08-16             44.05   46.65               NaN       NaN   \n1970-06-18             44.29   46.41               NaN       NaN   \n\n                brexit_party  change_uk  green  liberal  plaid_cymru  \\\ndate_concluded                                                         \n2022-06-10               NaN        NaN    NaN      NaN          NaN   \n2022-06-10               NaN        NaN    NaN      NaN          NaN   \n2022-06-09               NaN        NaN    NaN      NaN          NaN   \n2022-06-05               NaN        NaN    NaN      NaN          NaN   \n2022-06-01               NaN        NaN    NaN      NaN          NaN   \n...                      ...        ...    ...      ...          ...   \n1970-11-15               NaN        NaN    NaN     7.85          NaN   \n1970-10-18               NaN        NaN    NaN     7.65          NaN   \n1970-09-13               NaN        NaN    NaN     7.65          NaN   \n1970-08-16               NaN        NaN    NaN     7.45          NaN   \n1970-06-18               NaN        NaN    NaN     7.25          NaN   \n\n                reform_uk  scottish_national_party  social_democratic_party  \\\ndate_concluded                                                                \n2022-06-10            NaN                      NaN                      NaN   \n2022-06-10            NaN                      NaN                      NaN   \n2022-06-09            NaN                      NaN                      NaN   \n2022-06-05            NaN                      NaN                      NaN   \n2022-06-01            NaN                      NaN                      NaN   \n...                   ...                      ...                      ...   \n1970-11-15            NaN                      NaN                      NaN   \n1970-10-18            NaN                      NaN                      NaN   \n1970-09-13            NaN                      NaN                      NaN   \n1970-08-16            NaN                      NaN                      NaN   \n1970-06-18            NaN                      NaN                      NaN   \n\n                united_kingdom_independence_party  reclaim_party  others  \\\ndate_concluded                                                             \n2022-06-10                                    NaN            NaN     NaN   \n2022-06-10                                    NaN            NaN     NaN   \n2022-06-09                                    NaN            NaN     NaN   \n2022-06-05                                    NaN            NaN     NaN   \n2022-06-01                                    NaN            NaN     NaN   \n...                                           ...            ...     ...   \n1970-11-15                                    NaN            NaN     NaN   \n1970-10-18                                    NaN            NaN     NaN   \n1970-09-13                                    NaN            NaN     NaN   \n1970-08-16                                    NaN            NaN     NaN   \n1970-06-18                                    NaN            NaN     NaN   \n\n                lead_value  progressive_leaning  conservative_leaning  \ndate_concluded                                                         \n2022-06-10             NaN                  NaN                   NaN  \n2022-06-10             NaN                  NaN                   NaN  \n2022-06-09             NaN                  NaN                   NaN  \n2022-06-05             NaN                  NaN                   NaN  \n2022-06-01             NaN                  NaN                   NaN  \n...                    ...                  ...                   ...  \n1970-11-15            8.65                57.00                 40.80  \n1970-10-18            6.50                55.95                 42.10  \n1970-09-13            4.95                54.95                 43.15  \n1970-08-16            4.10                54.10                 44.05  \n1970-06-18            4.28                53.66                 44.29  \n\n[5774 rows x 18 columns]",
      "text/html": "<div>\n<style scoped>\n    .dataframe tbody tr th:only-of-type {\n        vertical-align: middle;\n    }\n\n    .dataframe tbody tr th {\n        vertical-align: top;\n    }\n\n    .dataframe thead th {\n        text-align: right;\n    }\n</style>\n<table border=\"1\" class=\"dataframe\">\n  <thead>\n    <tr style=\"text-align: right;\">\n      <th></th>\n      <th>conservative</th>\n      <th>labour</th>\n      <th>liberal_democrat</th>\n      <th>alliance</th>\n      <th>brexit_party</th>\n      <th>change_uk</th>\n      <th>green</th>\n      <th>liberal</th>\n      <th>plaid_cymru</th>\n      <th>reform_uk</th>\n      <th>scottish_national_party</th>\n      <th>social_democratic_party</th>\n      <th>united_kingdom_independence_party</th>\n      <th>reclaim_party</th>\n      <th>others</th>\n      <th>lead_value</th>\n      <th>progressive_leaning</th>\n      <th>conservative_leaning</th>\n    </tr>\n    <tr>\n      <th>date_concluded</th>\n      <th></th>\n      <th></th>\n      <th></th>\n      <th></th>\n      <th></th>\n      <th></th>\n      <th></th>\n      <th></th>\n      <th></th>\n      <th></th>\n      <th></th>\n      <th></th>\n      <th></th>\n      <th></th>\n      <th></th>\n      <th></th>\n      <th></th>\n      <th></th>\n    </tr>\n  </thead>\n  <tbody>\n    <tr>\n      <th>2022-06-10</th>\n      <td>NaN</td>\n      <td>NaN</td>\n      <td>NaN</td>\n      <td>NaN</td>\n      <td>NaN</td>\n      <td>NaN</td>\n      <td>NaN</td>\n      <td>NaN</td>\n      <td>NaN</td>\n      <td>NaN</td>\n      <td>NaN</td>\n      <td>NaN</td>\n      <td>NaN</td>\n      <td>NaN</td>\n      <td>NaN</td>\n      <td>NaN</td>\n      <td>NaN</td>\n      <td>NaN</td>\n    </tr>\n    <tr>\n      <th>2022-06-10</th>\n      <td>NaN</td>\n      <td>NaN</td>\n      <td>NaN</td>\n      <td>NaN</td>\n      <td>NaN</td>\n      <td>NaN</td>\n      <td>NaN</td>\n      <td>NaN</td>\n      <td>NaN</td>\n      <td>NaN</td>\n      <td>NaN</td>\n      <td>NaN</td>\n      <td>NaN</td>\n      <td>NaN</td>\n      <td>NaN</td>\n      <td>NaN</td>\n      <td>NaN</td>\n      <td>NaN</td>\n    </tr>\n    <tr>\n      <th>2022-06-09</th>\n      <td>NaN</td>\n      <td>NaN</td>\n      <td>NaN</td>\n      <td>NaN</td>\n      <td>NaN</td>\n      <td>NaN</td>\n      <td>NaN</td>\n      <td>NaN</td>\n      <td>NaN</td>\n      <td>NaN</td>\n      <td>NaN</td>\n      <td>NaN</td>\n      <td>NaN</td>\n      <td>NaN</td>\n      <td>NaN</td>\n      <td>NaN</td>\n      <td>NaN</td>\n      <td>NaN</td>\n    </tr>\n    <tr>\n      <th>2022-06-05</th>\n      <td>NaN</td>\n      <td>NaN</td>\n      <td>NaN</td>\n      <td>NaN</td>\n      <td>NaN</td>\n      <td>NaN</td>\n      <td>NaN</td>\n      <td>NaN</td>\n      <td>NaN</td>\n      <td>NaN</td>\n      <td>NaN</td>\n      <td>NaN</td>\n      <td>NaN</td>\n      <td>NaN</td>\n      <td>NaN</td>\n      <td>NaN</td>\n      <td>NaN</td>\n      <td>NaN</td>\n    </tr>\n    <tr>\n      <th>2022-06-01</th>\n      <td>NaN</td>\n      <td>NaN</td>\n      <td>NaN</td>\n      <td>NaN</td>\n      <td>NaN</td>\n      <td>NaN</td>\n      <td>NaN</td>\n      <td>NaN</td>\n      <td>NaN</td>\n      <td>NaN</td>\n      <td>NaN</td>\n      <td>NaN</td>\n      <td>NaN</td>\n      <td>NaN</td>\n      <td>NaN</td>\n      <td>NaN</td>\n      <td>NaN</td>\n      <td>NaN</td>\n    </tr>\n    <tr>\n      <th>...</th>\n      <td>...</td>\n      <td>...</td>\n      <td>...</td>\n      <td>...</td>\n      <td>...</td>\n      <td>...</td>\n      <td>...</td>\n      <td>...</td>\n      <td>...</td>\n      <td>...</td>\n      <td>...</td>\n      <td>...</td>\n      <td>...</td>\n      <td>...</td>\n      <td>...</td>\n      <td>...</td>\n      <td>...</td>\n      <td>...</td>\n    </tr>\n    <tr>\n      <th>1970-11-15</th>\n      <td>40.80</td>\n      <td>49.15</td>\n      <td>NaN</td>\n      <td>NaN</td>\n      <td>NaN</td>\n      <td>NaN</td>\n      <td>NaN</td>\n      <td>7.85</td>\n      <td>NaN</td>\n      <td>NaN</td>\n      <td>NaN</td>\n      <td>NaN</td>\n      <td>NaN</td>\n      <td>NaN</td>\n      <td>NaN</td>\n      <td>8.65</td>\n      <td>57.00</td>\n      <td>40.80</td>\n    </tr>\n    <tr>\n      <th>1970-10-18</th>\n      <td>42.10</td>\n      <td>48.30</td>\n      <td>NaN</td>\n      <td>NaN</td>\n      <td>NaN</td>\n      <td>NaN</td>\n      <td>NaN</td>\n      <td>7.65</td>\n      <td>NaN</td>\n      <td>NaN</td>\n      <td>NaN</td>\n      <td>NaN</td>\n      <td>NaN</td>\n      <td>NaN</td>\n      <td>NaN</td>\n      <td>6.50</td>\n      <td>55.95</td>\n      <td>42.10</td>\n    </tr>\n    <tr>\n      <th>1970-09-13</th>\n      <td>43.15</td>\n      <td>47.30</td>\n      <td>NaN</td>\n      <td>NaN</td>\n      <td>NaN</td>\n      <td>NaN</td>\n      <td>NaN</td>\n      <td>7.65</td>\n      <td>NaN</td>\n      <td>NaN</td>\n      <td>NaN</td>\n      <td>NaN</td>\n      <td>NaN</td>\n      <td>NaN</td>\n      <td>NaN</td>\n      <td>4.95</td>\n      <td>54.95</td>\n      <td>43.15</td>\n    </tr>\n    <tr>\n      <th>1970-08-16</th>\n      <td>44.05</td>\n      <td>46.65</td>\n      <td>NaN</td>\n      <td>NaN</td>\n      <td>NaN</td>\n      <td>NaN</td>\n      <td>NaN</td>\n      <td>7.45</td>\n      <td>NaN</td>\n      <td>NaN</td>\n      <td>NaN</td>\n      <td>NaN</td>\n      <td>NaN</td>\n      <td>NaN</td>\n      <td>NaN</td>\n      <td>4.10</td>\n      <td>54.10</td>\n      <td>44.05</td>\n    </tr>\n    <tr>\n      <th>1970-06-18</th>\n      <td>44.29</td>\n      <td>46.41</td>\n      <td>NaN</td>\n      <td>NaN</td>\n      <td>NaN</td>\n      <td>NaN</td>\n      <td>NaN</td>\n      <td>7.25</td>\n      <td>NaN</td>\n      <td>NaN</td>\n      <td>NaN</td>\n      <td>NaN</td>\n      <td>NaN</td>\n      <td>NaN</td>\n      <td>NaN</td>\n      <td>4.28</td>\n      <td>53.66</td>\n      <td>44.29</td>\n    </tr>\n  </tbody>\n</table>\n<p>5774 rows × 18 columns</p>\n</div>"
     },
     "execution_count": 58,
     "metadata": {},
     "output_type": "execute_result"
    }
   ],
   "source": [
    "all_polls.set_index('date_concluded').rolling(window=10).mean()"
   ],
   "metadata": {
    "collapsed": false,
    "pycharm": {
     "name": "#%%\n"
    }
   }
  },
  {
   "cell_type": "code",
   "execution_count": 59,
   "outputs": [
    {
     "data": {
      "text/plain": "               date_started          pollster                 client area  \\\ndate_concluded                                                              \n2019-12-12       2019-12-12  General Election                    NaN   GB   \n2019-12-12       2019-12-12  General Election  2019 general election   GB   \n2019-12-12       2019-12-12  General Election  2019 general election   UK   \n2019-12-11       2019-12-10         Survation                    NaN   GB   \n2019-12-11       2019-12-10         Panelbase                    NaN   GB   \n...                     ...               ...                    ...  ...   \n1970-11-15       1970-11-15            Gallup    The Daily Telegraph  NaN   \n1970-10-18       1970-10-18            Gallup    The Daily Telegraph  NaN   \n1970-09-13       1970-09-13            Gallup    The Daily Telegraph  NaN   \n1970-08-16       1970-08-16            Gallup    The Daily Telegraph  NaN   \n1970-06-18       1970-06-18  General Election  1970 general election  NaN   \n\n               sample_size  conservative  labour  liberal_democrat  alliance  \\\ndate_concluded                                                                 \n2019-12-12               –          44.7    33.0              11.8       NaN   \n2019-12-12               –          44.7    32.9              11.8       NaN   \n2019-12-12               –          43.6    32.1              11.6       NaN   \n2019-12-11            2395          45.0    34.0               9.0       NaN   \n2019-12-11            3174          43.0    34.0              11.0       NaN   \n...                    ...           ...     ...               ...       ...   \n1970-11-15             NaN          43.5    48.0               NaN       NaN   \n1970-10-18             NaN          46.5    46.5               NaN       NaN   \n1970-09-13             NaN          46.5    44.0               NaN       NaN   \n1970-08-16             NaN          47.0    43.5               NaN       NaN   \n1970-06-18             NaN          46.4    43.1               NaN       NaN   \n\n                brexit_party  ...  reform_uk  scottish_national_party  \\\ndate_concluded                ...                                       \n2019-12-12               2.1  ...        NaN                      4.0   \n2019-12-12               2.1  ...        NaN                      4.0   \n2019-12-12               2.0  ...        NaN                      3.9   \n2019-12-11               3.0  ...        NaN                      4.0   \n2019-12-11               4.0  ...        NaN                      4.0   \n...                      ...  ...        ...                      ...   \n1970-11-15               NaN  ...        NaN                      NaN   \n1970-10-18               NaN  ...        NaN                      NaN   \n1970-09-13               NaN  ...        NaN                      NaN   \n1970-08-16               NaN  ...        NaN                      NaN   \n1970-06-18               NaN  ...        NaN                      NaN   \n\n                social_democratic_party  united_kingdom_independence_party  \\\ndate_concluded                                                               \n2019-12-12                          NaN                                0.1   \n2019-12-12                          NaN                                NaN   \n2019-12-12                          NaN                                NaN   \n2019-12-11                          NaN                                NaN   \n2019-12-11                          NaN                                NaN   \n...                                 ...                                ...   \n1970-11-15                          NaN                                NaN   \n1970-10-18                          NaN                                NaN   \n1970-09-13                          NaN                                NaN   \n1970-08-16                          NaN                                NaN   \n1970-06-18                          NaN                                NaN   \n\n                reclaim_party  others      lead  lead_value  \\\ndate_concluded                                                \n2019-12-12                NaN     1.0  con+11.7        11.7   \n2019-12-12                NaN     2.2  con+11.8        11.8   \n2019-12-12                NaN     3.7  con+11.5        11.5   \n2019-12-11                NaN     1.0  con+11.0        11.0   \n2019-12-11                NaN     NaN   con+9.0         9.0   \n...                       ...     ...       ...         ...   \n1970-11-15                NaN     NaN   lab+4.5         4.5   \n1970-10-18                NaN     NaN       Tie         0.0   \n1970-09-13                NaN     NaN   con+2.5         2.5   \n1970-08-16                NaN     NaN   con+3.5         3.5   \n1970-06-18                NaN     NaN   con+3.3         3.3   \n\n                progressive_leaning  conservative_leaning  \ndate_concluded                                             \n2019-12-12                     52.1                  46.9  \n2019-12-12                     51.5                  46.8  \n2019-12-12                     50.3                  45.6  \n2019-12-11                     51.0                  48.0  \n2019-12-11                     52.0                  47.0  \n...                             ...                   ...  \n1970-11-15                     54.5                  43.5  \n1970-10-18                     53.0                  46.5  \n1970-09-13                     52.0                  46.5  \n1970-08-16                     51.0                  47.0  \n1970-06-18                     50.6                  46.4  \n\n[5214 rows x 24 columns]",
      "text/html": "<div>\n<style scoped>\n    .dataframe tbody tr th:only-of-type {\n        vertical-align: middle;\n    }\n\n    .dataframe tbody tr th {\n        vertical-align: top;\n    }\n\n    .dataframe thead th {\n        text-align: right;\n    }\n</style>\n<table border=\"1\" class=\"dataframe\">\n  <thead>\n    <tr style=\"text-align: right;\">\n      <th></th>\n      <th>date_started</th>\n      <th>pollster</th>\n      <th>client</th>\n      <th>area</th>\n      <th>sample_size</th>\n      <th>conservative</th>\n      <th>labour</th>\n      <th>liberal_democrat</th>\n      <th>alliance</th>\n      <th>brexit_party</th>\n      <th>...</th>\n      <th>reform_uk</th>\n      <th>scottish_national_party</th>\n      <th>social_democratic_party</th>\n      <th>united_kingdom_independence_party</th>\n      <th>reclaim_party</th>\n      <th>others</th>\n      <th>lead</th>\n      <th>lead_value</th>\n      <th>progressive_leaning</th>\n      <th>conservative_leaning</th>\n    </tr>\n    <tr>\n      <th>date_concluded</th>\n      <th></th>\n      <th></th>\n      <th></th>\n      <th></th>\n      <th></th>\n      <th></th>\n      <th></th>\n      <th></th>\n      <th></th>\n      <th></th>\n      <th></th>\n      <th></th>\n      <th></th>\n      <th></th>\n      <th></th>\n      <th></th>\n      <th></th>\n      <th></th>\n      <th></th>\n      <th></th>\n      <th></th>\n    </tr>\n  </thead>\n  <tbody>\n    <tr>\n      <th>2019-12-12</th>\n      <td>2019-12-12</td>\n      <td>General Election</td>\n      <td>NaN</td>\n      <td>GB</td>\n      <td>–</td>\n      <td>44.7</td>\n      <td>33.0</td>\n      <td>11.8</td>\n      <td>NaN</td>\n      <td>2.1</td>\n      <td>...</td>\n      <td>NaN</td>\n      <td>4.0</td>\n      <td>NaN</td>\n      <td>0.1</td>\n      <td>NaN</td>\n      <td>1.0</td>\n      <td>con+11.7</td>\n      <td>11.7</td>\n      <td>52.1</td>\n      <td>46.9</td>\n    </tr>\n    <tr>\n      <th>2019-12-12</th>\n      <td>2019-12-12</td>\n      <td>General Election</td>\n      <td>2019 general election</td>\n      <td>GB</td>\n      <td>–</td>\n      <td>44.7</td>\n      <td>32.9</td>\n      <td>11.8</td>\n      <td>NaN</td>\n      <td>2.1</td>\n      <td>...</td>\n      <td>NaN</td>\n      <td>4.0</td>\n      <td>NaN</td>\n      <td>NaN</td>\n      <td>NaN</td>\n      <td>2.2</td>\n      <td>con+11.8</td>\n      <td>11.8</td>\n      <td>51.5</td>\n      <td>46.8</td>\n    </tr>\n    <tr>\n      <th>2019-12-12</th>\n      <td>2019-12-12</td>\n      <td>General Election</td>\n      <td>2019 general election</td>\n      <td>UK</td>\n      <td>–</td>\n      <td>43.6</td>\n      <td>32.1</td>\n      <td>11.6</td>\n      <td>NaN</td>\n      <td>2.0</td>\n      <td>...</td>\n      <td>NaN</td>\n      <td>3.9</td>\n      <td>NaN</td>\n      <td>NaN</td>\n      <td>NaN</td>\n      <td>3.7</td>\n      <td>con+11.5</td>\n      <td>11.5</td>\n      <td>50.3</td>\n      <td>45.6</td>\n    </tr>\n    <tr>\n      <th>2019-12-11</th>\n      <td>2019-12-10</td>\n      <td>Survation</td>\n      <td>NaN</td>\n      <td>GB</td>\n      <td>2395</td>\n      <td>45.0</td>\n      <td>34.0</td>\n      <td>9.0</td>\n      <td>NaN</td>\n      <td>3.0</td>\n      <td>...</td>\n      <td>NaN</td>\n      <td>4.0</td>\n      <td>NaN</td>\n      <td>NaN</td>\n      <td>NaN</td>\n      <td>1.0</td>\n      <td>con+11.0</td>\n      <td>11.0</td>\n      <td>51.0</td>\n      <td>48.0</td>\n    </tr>\n    <tr>\n      <th>2019-12-11</th>\n      <td>2019-12-10</td>\n      <td>Panelbase</td>\n      <td>NaN</td>\n      <td>GB</td>\n      <td>3174</td>\n      <td>43.0</td>\n      <td>34.0</td>\n      <td>11.0</td>\n      <td>NaN</td>\n      <td>4.0</td>\n      <td>...</td>\n      <td>NaN</td>\n      <td>4.0</td>\n      <td>NaN</td>\n      <td>NaN</td>\n      <td>NaN</td>\n      <td>NaN</td>\n      <td>con+9.0</td>\n      <td>9.0</td>\n      <td>52.0</td>\n      <td>47.0</td>\n    </tr>\n    <tr>\n      <th>...</th>\n      <td>...</td>\n      <td>...</td>\n      <td>...</td>\n      <td>...</td>\n      <td>...</td>\n      <td>...</td>\n      <td>...</td>\n      <td>...</td>\n      <td>...</td>\n      <td>...</td>\n      <td>...</td>\n      <td>...</td>\n      <td>...</td>\n      <td>...</td>\n      <td>...</td>\n      <td>...</td>\n      <td>...</td>\n      <td>...</td>\n      <td>...</td>\n      <td>...</td>\n      <td>...</td>\n    </tr>\n    <tr>\n      <th>1970-11-15</th>\n      <td>1970-11-15</td>\n      <td>Gallup</td>\n      <td>The Daily Telegraph</td>\n      <td>NaN</td>\n      <td>NaN</td>\n      <td>43.5</td>\n      <td>48.0</td>\n      <td>NaN</td>\n      <td>NaN</td>\n      <td>NaN</td>\n      <td>...</td>\n      <td>NaN</td>\n      <td>NaN</td>\n      <td>NaN</td>\n      <td>NaN</td>\n      <td>NaN</td>\n      <td>NaN</td>\n      <td>lab+4.5</td>\n      <td>4.5</td>\n      <td>54.5</td>\n      <td>43.5</td>\n    </tr>\n    <tr>\n      <th>1970-10-18</th>\n      <td>1970-10-18</td>\n      <td>Gallup</td>\n      <td>The Daily Telegraph</td>\n      <td>NaN</td>\n      <td>NaN</td>\n      <td>46.5</td>\n      <td>46.5</td>\n      <td>NaN</td>\n      <td>NaN</td>\n      <td>NaN</td>\n      <td>...</td>\n      <td>NaN</td>\n      <td>NaN</td>\n      <td>NaN</td>\n      <td>NaN</td>\n      <td>NaN</td>\n      <td>NaN</td>\n      <td>Tie</td>\n      <td>0.0</td>\n      <td>53.0</td>\n      <td>46.5</td>\n    </tr>\n    <tr>\n      <th>1970-09-13</th>\n      <td>1970-09-13</td>\n      <td>Gallup</td>\n      <td>The Daily Telegraph</td>\n      <td>NaN</td>\n      <td>NaN</td>\n      <td>46.5</td>\n      <td>44.0</td>\n      <td>NaN</td>\n      <td>NaN</td>\n      <td>NaN</td>\n      <td>...</td>\n      <td>NaN</td>\n      <td>NaN</td>\n      <td>NaN</td>\n      <td>NaN</td>\n      <td>NaN</td>\n      <td>NaN</td>\n      <td>con+2.5</td>\n      <td>2.5</td>\n      <td>52.0</td>\n      <td>46.5</td>\n    </tr>\n    <tr>\n      <th>1970-08-16</th>\n      <td>1970-08-16</td>\n      <td>Gallup</td>\n      <td>The Daily Telegraph</td>\n      <td>NaN</td>\n      <td>NaN</td>\n      <td>47.0</td>\n      <td>43.5</td>\n      <td>NaN</td>\n      <td>NaN</td>\n      <td>NaN</td>\n      <td>...</td>\n      <td>NaN</td>\n      <td>NaN</td>\n      <td>NaN</td>\n      <td>NaN</td>\n      <td>NaN</td>\n      <td>NaN</td>\n      <td>con+3.5</td>\n      <td>3.5</td>\n      <td>51.0</td>\n      <td>47.0</td>\n    </tr>\n    <tr>\n      <th>1970-06-18</th>\n      <td>1970-06-18</td>\n      <td>General Election</td>\n      <td>1970 general election</td>\n      <td>NaN</td>\n      <td>NaN</td>\n      <td>46.4</td>\n      <td>43.1</td>\n      <td>NaN</td>\n      <td>NaN</td>\n      <td>NaN</td>\n      <td>...</td>\n      <td>NaN</td>\n      <td>NaN</td>\n      <td>NaN</td>\n      <td>NaN</td>\n      <td>NaN</td>\n      <td>NaN</td>\n      <td>con+3.3</td>\n      <td>3.3</td>\n      <td>50.6</td>\n      <td>46.4</td>\n    </tr>\n  </tbody>\n</table>\n<p>5214 rows × 24 columns</p>\n</div>"
     },
     "execution_count": 59,
     "metadata": {},
     "output_type": "execute_result"
    }
   ],
   "source": [
    "all_polls.set_index('date_concluded').loc[datetime.date(2020,1,1):]"
   ],
   "metadata": {
    "collapsed": false,
    "pycharm": {
     "name": "#%%\n"
    }
   }
  },
  {
   "cell_type": "code",
   "execution_count": 60,
   "outputs": [],
   "source": [
    "one_year_polls['poll_month'] = one_year_polls['date_concluded'].apply(lambda x: x.replace(day=1))"
   ],
   "metadata": {
    "collapsed": false,
    "pycharm": {
     "name": "#%%\n"
    }
   }
  },
  {
   "cell_type": "code",
   "execution_count": 61,
   "outputs": [],
   "source": [
    "kantar_polls = all_polls.query('pollster == \"Kantar Public\" and date_concluded> \"2019-01-01\"').copy()\n",
    "other_polls = all_polls.query('pollster != \"Kantar Public\" and date_concluded> \"2019-01-01\"').copy()"
   ],
   "metadata": {
    "collapsed": false,
    "pycharm": {
     "name": "#%%\n"
    }
   }
  },
  {
   "cell_type": "code",
   "execution_count": 62,
   "outputs": [],
   "source": [
    "kantar_polls['poll_month'] = kantar_polls['date_concluded'].apply(lambda x: x.replace(day=1))\n",
    "other_polls['poll_month'] = other_polls['date_concluded'].apply(lambda x: x.replace(day=1))"
   ],
   "metadata": {
    "collapsed": false,
    "pycharm": {
     "name": "#%%\n"
    }
   }
  },
  {
   "cell_type": "code",
   "execution_count": 63,
   "outputs": [],
   "source": [
    "other_pollster_monthly_summary = other_polls.groupby(['poll_month', 'pollster'])[major_parties].agg(['mean', 'count'])\n",
    "other_pollster_monthly_summary.columns = [x if i == 0 else f'count{major_parties.index(x)}' for x in major_parties for i in\n",
    "                                    range(0, 2)]\n",
    "other_pollster_monthly_summary.drop(columns=[f'count{major_parties.index(x)}' for x in major_parties][1:], inplace=True)\n",
    "other_pollster_monthly_summary.rename(columns={\"count0\": \"count\"}, inplace=True)\n",
    "\n",
    "agg_info = {x: ['mean'] for x in major_parties}\n",
    "agg_info['count'] = ['count', 'sum']\n",
    "other_monthly_summary = other_pollster_monthly_summary.reset_index().groupby(['poll_month']).agg(agg_info)\n",
    "other_monthly_summary.columns = major_parties + ['pollster_count', 'poll_count']"
   ],
   "metadata": {
    "collapsed": false,
    "pycharm": {
     "name": "#%%\n"
    }
   }
  },
  {
   "cell_type": "code",
   "execution_count": 64,
   "outputs": [],
   "source": [
    "kantar_pollster_monthly_summary = kantar_polls.groupby(['poll_month', 'pollster'])[major_parties].agg(['mean', 'count'])\n",
    "kantar_pollster_monthly_summary.columns = [x if i == 0 else f'count{major_parties.index(x)}' for x in major_parties for i in\n",
    "                                    range(0, 2)]\n",
    "kantar_pollster_monthly_summary.drop(columns=[f'count{major_parties.index(x)}' for x in major_parties][1:], inplace=True)\n",
    "kantar_pollster_monthly_summary.rename(columns={\"count0\": \"count\"}, inplace=True)\n",
    "\n",
    "agg_info = {x: ['mean'] for x in major_parties}\n",
    "agg_info['count'] = ['count', 'sum']\n",
    "kantar_monthly_summary = kantar_pollster_monthly_summary.reset_index().groupby(['poll_month']).agg(agg_info)\n",
    "kantar_monthly_summary.columns = major_parties + ['pollster_count', 'poll_count']"
   ],
   "metadata": {
    "collapsed": false,
    "pycharm": {
     "name": "#%%\n"
    }
   }
  },
  {
   "cell_type": "code",
   "execution_count": 65,
   "outputs": [],
   "source": [
    "other_monthly_summary[['kantar_con','kantar_lab']] = kantar_monthly_summary[['conservative','labour']]"
   ],
   "metadata": {
    "collapsed": false,
    "pycharm": {
     "name": "#%%\n"
    }
   }
  },
  {
   "cell_type": "code",
   "execution_count": 66,
   "outputs": [],
   "source": [
    "other_monthly_summary.to_clipboard(sep='\\t')"
   ],
   "metadata": {
    "collapsed": false,
    "pycharm": {
     "name": "#%%\n"
    }
   }
  },
  {
   "cell_type": "code",
   "execution_count": 66,
   "outputs": [],
   "source": [],
   "metadata": {
    "collapsed": false,
    "pycharm": {
     "name": "#%%\n"
    }
   }
  },
  {
   "cell_type": "code",
   "execution_count": 66,
   "outputs": [],
   "source": [],
   "metadata": {
    "collapsed": false,
    "pycharm": {
     "name": "#%%\n"
    }
   }
  },
  {
   "cell_type": "code",
   "execution_count": 66,
   "outputs": [],
   "source": [],
   "metadata": {
    "collapsed": false,
    "pycharm": {
     "name": "#%%\n"
    }
   }
  },
  {
   "cell_type": "code",
   "execution_count": 67,
   "outputs": [],
   "source": [
    "general_elections = all_polls.query('pollster==\"General Election\"')\n",
    "general_election_dates = list(general_elections.date_concluded.unique())\n",
    "#general_elections = general_elections[general_elections.date_concluded > datetime.datetime(2016,1,1)]"
   ],
   "metadata": {
    "collapsed": false,
    "pycharm": {
     "name": "#%%\n"
    }
   }
  },
  {
   "cell_type": "code",
   "execution_count": 68,
   "outputs": [
    {
     "name": "stdout",
     "output_type": "stream",
     "text": [
      "2017-06-08T00:00:00.000000000\n",
      "2019-12-12T00:00:00.000000000\n"
     ]
    }
   ],
   "source": [
    "for ge in general_election_dates[::-1]:\n",
    "    if ge < np.datetime64('2016-01-01'):\n",
    "        continue\n",
    "\n",
    "    print(ge)"
   ],
   "metadata": {
    "collapsed": false,
    "pycharm": {
     "name": "#%%\n"
    }
   }
  },
  {
   "cell_type": "code",
   "execution_count": 69,
   "outputs": [
    {
     "data": {
      "text/plain": "    date_started date_concluded          pollster                 client area  \\\n560   2019-12-12     2019-12-12  General Election                    NaN   GB   \n561   2019-12-12     2019-12-12  General Election  2019 general election   GB   \n562   2019-12-12     2019-12-12  General Election  2019 general election   UK   \n\n    sample_size  conservative  labour  liberal_democrat  alliance  ...  \\\n560           –          44.7    33.0              11.8       NaN  ...   \n561           –          44.7    32.9              11.8       NaN  ...   \n562           –          43.6    32.1              11.6       NaN  ...   \n\n     reform_uk  scottish_national_party  social_democratic_party  \\\n560        NaN                      4.0                      NaN   \n561        NaN                      4.0                      NaN   \n562        NaN                      3.9                      NaN   \n\n     united_kingdom_independence_party  reclaim_party  others      lead  \\\n560                                0.1            NaN     1.0  con+11.7   \n561                                NaN            NaN     2.2  con+11.8   \n562                                NaN            NaN     3.7  con+11.5   \n\n     lead_value  progressive_leaning  conservative_leaning  \n560        11.7                 52.1                  46.9  \n561        11.8                 51.5                  46.8  \n562        11.5                 50.3                  45.6  \n\n[3 rows x 25 columns]",
      "text/html": "<div>\n<style scoped>\n    .dataframe tbody tr th:only-of-type {\n        vertical-align: middle;\n    }\n\n    .dataframe tbody tr th {\n        vertical-align: top;\n    }\n\n    .dataframe thead th {\n        text-align: right;\n    }\n</style>\n<table border=\"1\" class=\"dataframe\">\n  <thead>\n    <tr style=\"text-align: right;\">\n      <th></th>\n      <th>date_started</th>\n      <th>date_concluded</th>\n      <th>pollster</th>\n      <th>client</th>\n      <th>area</th>\n      <th>sample_size</th>\n      <th>conservative</th>\n      <th>labour</th>\n      <th>liberal_democrat</th>\n      <th>alliance</th>\n      <th>...</th>\n      <th>reform_uk</th>\n      <th>scottish_national_party</th>\n      <th>social_democratic_party</th>\n      <th>united_kingdom_independence_party</th>\n      <th>reclaim_party</th>\n      <th>others</th>\n      <th>lead</th>\n      <th>lead_value</th>\n      <th>progressive_leaning</th>\n      <th>conservative_leaning</th>\n    </tr>\n  </thead>\n  <tbody>\n    <tr>\n      <th>560</th>\n      <td>2019-12-12</td>\n      <td>2019-12-12</td>\n      <td>General Election</td>\n      <td>NaN</td>\n      <td>GB</td>\n      <td>–</td>\n      <td>44.7</td>\n      <td>33.0</td>\n      <td>11.8</td>\n      <td>NaN</td>\n      <td>...</td>\n      <td>NaN</td>\n      <td>4.0</td>\n      <td>NaN</td>\n      <td>0.1</td>\n      <td>NaN</td>\n      <td>1.0</td>\n      <td>con+11.7</td>\n      <td>11.7</td>\n      <td>52.1</td>\n      <td>46.9</td>\n    </tr>\n    <tr>\n      <th>561</th>\n      <td>2019-12-12</td>\n      <td>2019-12-12</td>\n      <td>General Election</td>\n      <td>2019 general election</td>\n      <td>GB</td>\n      <td>–</td>\n      <td>44.7</td>\n      <td>32.9</td>\n      <td>11.8</td>\n      <td>NaN</td>\n      <td>...</td>\n      <td>NaN</td>\n      <td>4.0</td>\n      <td>NaN</td>\n      <td>NaN</td>\n      <td>NaN</td>\n      <td>2.2</td>\n      <td>con+11.8</td>\n      <td>11.8</td>\n      <td>51.5</td>\n      <td>46.8</td>\n    </tr>\n    <tr>\n      <th>562</th>\n      <td>2019-12-12</td>\n      <td>2019-12-12</td>\n      <td>General Election</td>\n      <td>2019 general election</td>\n      <td>UK</td>\n      <td>–</td>\n      <td>43.6</td>\n      <td>32.1</td>\n      <td>11.6</td>\n      <td>NaN</td>\n      <td>...</td>\n      <td>NaN</td>\n      <td>3.9</td>\n      <td>NaN</td>\n      <td>NaN</td>\n      <td>NaN</td>\n      <td>3.7</td>\n      <td>con+11.5</td>\n      <td>11.5</td>\n      <td>50.3</td>\n      <td>45.6</td>\n    </tr>\n  </tbody>\n</table>\n<p>3 rows × 25 columns</p>\n</div>"
     },
     "execution_count": 69,
     "metadata": {},
     "output_type": "execute_result"
    }
   ],
   "source": [
    "general_elections[general_elections.date_concluded == ge]"
   ],
   "metadata": {
    "collapsed": false,
    "pycharm": {
     "name": "#%%\n"
    }
   }
  },
  {
   "cell_type": "code",
   "execution_count": 69,
   "outputs": [],
   "source": [],
   "metadata": {
    "collapsed": false,
    "pycharm": {
     "name": "#%%\n"
    }
   }
  },
  {
   "cell_type": "code",
   "execution_count": 70,
   "outputs": [],
   "source": [
    "GEs_to_use = [\n",
    "\n",
    "\n",
    "\n",
    "]"
   ],
   "metadata": {
    "collapsed": false,
    "pycharm": {
     "name": "#%%\n"
    }
   }
  },
  {
   "cell_type": "code",
   "execution_count": 71,
   "outputs": [
    {
     "data": {
      "text/plain": "     date_started date_concluded          pollster                     client  \\\n560    2019-12-12     2019-12-12  General Election                        NaN   \n561    2019-12-12     2019-12-12  General Election      2019 general election   \n562    2019-12-12     2019-12-12  General Election      2019 general election   \n1020   2017-06-08     2017-06-08  General Election                        NaN   \n1021   2017-06-08     2017-06-08  General Election                        NaN   \n1022   2017-06-08     2017-06-08  General Election                        NaN   \n1282   2015-05-07     2015-05-07  General Election                        NaN   \n3249   2010-05-06     2010-05-06  General Election                        NaN   \n3250   2010-05-06     2010-05-06  General Election      2010 general election   \n3852   2005-05-05     2005-05-05  General Election                       None   \n3951   2001-06-07     2001-06-07  General Election      2001 general election   \n3952   2001-06-07     2001-06-07  General Election      2001 general election   \n4172   1997-05-01     1997-05-01  General Election      1997 general election   \n4517   1992-04-09     1992-04-09  General Election                        NaN   \n4521   1992-04-08     1992-04-08  General Election      1992 general election   \n5018   1987-06-11     1987-06-11  General Election      1987 general election   \n5019   1987-06-11     1987-06-11  General Election      1987 general election   \n5283   1983-06-09     1983-06-09  General Election      1983 general election   \n5480   1979-05-03     1979-05-03  General Election      1979 general election   \n5646   1974-10-10     1974-10-10  General Election  Oct 1974 general election   \n5647   1974-10-10     1974-10-10  General Election  Oct 1974 general election   \n5685   1974-02-28     1974-02-28  General Election  Feb 1974 general election   \n5773   1970-06-18     1970-06-18  General Election      1970 general election   \n\n     area sample_size  conservative  labour  liberal_democrat  alliance  ...  \\\n560    GB           –          44.7    33.0              11.8       NaN  ...   \n561    GB           –          44.7    32.9              11.8       NaN  ...   \n562    UK           –          43.6    32.1              11.6       NaN  ...   \n1020   GB           –          43.4    41.0               7.6       NaN  ...   \n1021   UK           –          42.3    40.0               7.4       NaN  ...   \n1022  NaN           –          43.5    41.0               7.6       NaN  ...   \n1282  NaN           –          37.8    31.2               8.1       NaN  ...   \n3249  NaN           –          36.9    29.7              23.6       NaN  ...   \n3250  NaN           –          36.9    29.7              23.6       NaN  ...   \n3852  NaN           –          33.2    36.2              22.7       NaN  ...   \n3951  NaN           –          31.7    40.7              18.3       NaN  ...   \n3952  NaN           –          32.7    42.0              18.8       NaN  ...   \n4172  NaN           –          30.7    43.2              16.8       NaN  ...   \n4517  NaN         NaN          41.9    34.4              17.8       NaN  ...   \n4521  NaN         NaN          42.8    35.2              18.3       NaN  ...   \n5018  NaN         NaN          43.3    31.5               NaN      23.1  ...   \n5019  NaN         NaN          42.2    30.8               NaN      22.6  ...   \n5283  NaN         NaN          42.4    27.6               NaN      25.4  ...   \n5480  NaN         NaN          43.9    36.9               NaN       NaN  ...   \n5646  NaN         NaN          35.8    39.3               NaN       NaN  ...   \n5647  NaN         NaN          35.8    39.2               NaN       NaN  ...   \n5685  NaN         NaN          37.9    37.2               NaN       NaN  ...   \n5773  NaN         NaN          46.4    43.1               NaN       NaN  ...   \n\n      reform_uk  scottish_national_party  social_democratic_party  \\\n560         NaN                      4.0                      NaN   \n561         NaN                      4.0                      NaN   \n562         NaN                      3.9                      NaN   \n1020        NaN                      3.1                      NaN   \n1021        NaN                      3.0                      NaN   \n1022        NaN                      3.1                      NaN   \n1282        NaN                      4.9                      NaN   \n3249        NaN                      NaN                      NaN   \n3250        NaN                      NaN                      NaN   \n3852        NaN                      NaN                      NaN   \n3951        NaN                      NaN                      NaN   \n3952        NaN                      NaN                      NaN   \n4172        NaN                      NaN                      NaN   \n4517        NaN                      NaN                      NaN   \n4521        NaN                      NaN                      NaN   \n5018        NaN                      NaN                      NaN   \n5019        NaN                      NaN                      NaN   \n5283        NaN                      NaN                      NaN   \n5480        NaN                      NaN                      NaN   \n5646        NaN                      NaN                      NaN   \n5647        NaN                      NaN                      NaN   \n5685        NaN                      NaN                      NaN   \n5773        NaN                      NaN                      NaN   \n\n      united_kingdom_independence_party  reclaim_party  others      lead  \\\n560                                 0.1            NaN     1.0  con+11.7   \n561                                 NaN            NaN     2.2  con+11.8   \n562                                 NaN            NaN     3.7  con+11.5   \n1020                                1.9            NaN     0.8   con+2.4   \n1021                                1.8            NaN     3.3   con+2.3   \n1022                                1.9            NaN     1.2   con+2.5   \n1282                               12.9            NaN     1.4   con+6.6   \n3249                                3.1            NaN     5.7   con+7.2   \n3250                                NaN            NaN     9.8   con+7.2   \n3852                                NaN            NaN     7.9   lab+3.0   \n3951                                NaN            NaN     9.3   lab+9.0   \n3952                                NaN            NaN     6.5   lab+9.3   \n4172                                NaN            NaN     9.3  lab+12.5   \n4517                                NaN            NaN     NaN   con+7.5   \n4521                                NaN            NaN     NaN   con+7.6   \n5018                                NaN            NaN     NaN  con+11.8   \n5019                                NaN            NaN     NaN  con+11.4   \n5283                                NaN            NaN     NaN  con+14.8   \n5480                                NaN            NaN     NaN   con+7.0   \n5646                                NaN            NaN     NaN   lab+3.5   \n5647                                NaN            NaN     NaN   lab+3.4   \n5685                                NaN            NaN     NaN   con+0.7   \n5773                                NaN            NaN     NaN   con+3.3   \n\n      lead_value  progressive_leaning  conservative_leaning  \n560         11.7                 52.1                  46.9  \n561         11.8                 51.5                  46.8  \n562         11.5                 50.3                  45.6  \n1020         2.4                 53.9                  45.3  \n1021         2.3                 52.5                  44.1  \n1022         2.5                 53.4                  45.4  \n1282         6.6                 48.0                  50.7  \n3249         7.2                 54.3                  40.0  \n3250         7.2                 53.3                  36.9  \n3852         3.0                 58.9                  33.2  \n3951         9.0                 59.0                  31.7  \n3952         9.3                 60.8                  32.7  \n4172        12.5                 60.0                  30.7  \n4517         7.5                 52.2                  41.9  \n4521         7.6                 53.5                  42.8  \n5018        11.8                 54.6                  43.3  \n5019        11.4                 53.4                  42.2  \n5283        14.8                 53.0                  42.4  \n5480         7.0                 50.7                  43.9  \n5646         3.5                 57.6                  35.8  \n5647         3.4                 57.5                  35.8  \n5685         0.7                 56.5                  37.9  \n5773         3.3                 50.6                  46.4  \n\n[23 rows x 25 columns]",
      "text/html": "<div>\n<style scoped>\n    .dataframe tbody tr th:only-of-type {\n        vertical-align: middle;\n    }\n\n    .dataframe tbody tr th {\n        vertical-align: top;\n    }\n\n    .dataframe thead th {\n        text-align: right;\n    }\n</style>\n<table border=\"1\" class=\"dataframe\">\n  <thead>\n    <tr style=\"text-align: right;\">\n      <th></th>\n      <th>date_started</th>\n      <th>date_concluded</th>\n      <th>pollster</th>\n      <th>client</th>\n      <th>area</th>\n      <th>sample_size</th>\n      <th>conservative</th>\n      <th>labour</th>\n      <th>liberal_democrat</th>\n      <th>alliance</th>\n      <th>...</th>\n      <th>reform_uk</th>\n      <th>scottish_national_party</th>\n      <th>social_democratic_party</th>\n      <th>united_kingdom_independence_party</th>\n      <th>reclaim_party</th>\n      <th>others</th>\n      <th>lead</th>\n      <th>lead_value</th>\n      <th>progressive_leaning</th>\n      <th>conservative_leaning</th>\n    </tr>\n  </thead>\n  <tbody>\n    <tr>\n      <th>560</th>\n      <td>2019-12-12</td>\n      <td>2019-12-12</td>\n      <td>General Election</td>\n      <td>NaN</td>\n      <td>GB</td>\n      <td>–</td>\n      <td>44.7</td>\n      <td>33.0</td>\n      <td>11.8</td>\n      <td>NaN</td>\n      <td>...</td>\n      <td>NaN</td>\n      <td>4.0</td>\n      <td>NaN</td>\n      <td>0.1</td>\n      <td>NaN</td>\n      <td>1.0</td>\n      <td>con+11.7</td>\n      <td>11.7</td>\n      <td>52.1</td>\n      <td>46.9</td>\n    </tr>\n    <tr>\n      <th>561</th>\n      <td>2019-12-12</td>\n      <td>2019-12-12</td>\n      <td>General Election</td>\n      <td>2019 general election</td>\n      <td>GB</td>\n      <td>–</td>\n      <td>44.7</td>\n      <td>32.9</td>\n      <td>11.8</td>\n      <td>NaN</td>\n      <td>...</td>\n      <td>NaN</td>\n      <td>4.0</td>\n      <td>NaN</td>\n      <td>NaN</td>\n      <td>NaN</td>\n      <td>2.2</td>\n      <td>con+11.8</td>\n      <td>11.8</td>\n      <td>51.5</td>\n      <td>46.8</td>\n    </tr>\n    <tr>\n      <th>562</th>\n      <td>2019-12-12</td>\n      <td>2019-12-12</td>\n      <td>General Election</td>\n      <td>2019 general election</td>\n      <td>UK</td>\n      <td>–</td>\n      <td>43.6</td>\n      <td>32.1</td>\n      <td>11.6</td>\n      <td>NaN</td>\n      <td>...</td>\n      <td>NaN</td>\n      <td>3.9</td>\n      <td>NaN</td>\n      <td>NaN</td>\n      <td>NaN</td>\n      <td>3.7</td>\n      <td>con+11.5</td>\n      <td>11.5</td>\n      <td>50.3</td>\n      <td>45.6</td>\n    </tr>\n    <tr>\n      <th>1020</th>\n      <td>2017-06-08</td>\n      <td>2017-06-08</td>\n      <td>General Election</td>\n      <td>NaN</td>\n      <td>GB</td>\n      <td>–</td>\n      <td>43.4</td>\n      <td>41.0</td>\n      <td>7.6</td>\n      <td>NaN</td>\n      <td>...</td>\n      <td>NaN</td>\n      <td>3.1</td>\n      <td>NaN</td>\n      <td>1.9</td>\n      <td>NaN</td>\n      <td>0.8</td>\n      <td>con+2.4</td>\n      <td>2.4</td>\n      <td>53.9</td>\n      <td>45.3</td>\n    </tr>\n    <tr>\n      <th>1021</th>\n      <td>2017-06-08</td>\n      <td>2017-06-08</td>\n      <td>General Election</td>\n      <td>NaN</td>\n      <td>UK</td>\n      <td>–</td>\n      <td>42.3</td>\n      <td>40.0</td>\n      <td>7.4</td>\n      <td>NaN</td>\n      <td>...</td>\n      <td>NaN</td>\n      <td>3.0</td>\n      <td>NaN</td>\n      <td>1.8</td>\n      <td>NaN</td>\n      <td>3.3</td>\n      <td>con+2.3</td>\n      <td>2.3</td>\n      <td>52.5</td>\n      <td>44.1</td>\n    </tr>\n    <tr>\n      <th>1022</th>\n      <td>2017-06-08</td>\n      <td>2017-06-08</td>\n      <td>General Election</td>\n      <td>NaN</td>\n      <td>NaN</td>\n      <td>–</td>\n      <td>43.5</td>\n      <td>41.0</td>\n      <td>7.6</td>\n      <td>NaN</td>\n      <td>...</td>\n      <td>NaN</td>\n      <td>3.1</td>\n      <td>NaN</td>\n      <td>1.9</td>\n      <td>NaN</td>\n      <td>1.2</td>\n      <td>con+2.5</td>\n      <td>2.5</td>\n      <td>53.4</td>\n      <td>45.4</td>\n    </tr>\n    <tr>\n      <th>1282</th>\n      <td>2015-05-07</td>\n      <td>2015-05-07</td>\n      <td>General Election</td>\n      <td>NaN</td>\n      <td>NaN</td>\n      <td>–</td>\n      <td>37.8</td>\n      <td>31.2</td>\n      <td>8.1</td>\n      <td>NaN</td>\n      <td>...</td>\n      <td>NaN</td>\n      <td>4.9</td>\n      <td>NaN</td>\n      <td>12.9</td>\n      <td>NaN</td>\n      <td>1.4</td>\n      <td>con+6.6</td>\n      <td>6.6</td>\n      <td>48.0</td>\n      <td>50.7</td>\n    </tr>\n    <tr>\n      <th>3249</th>\n      <td>2010-05-06</td>\n      <td>2010-05-06</td>\n      <td>General Election</td>\n      <td>NaN</td>\n      <td>NaN</td>\n      <td>–</td>\n      <td>36.9</td>\n      <td>29.7</td>\n      <td>23.6</td>\n      <td>NaN</td>\n      <td>...</td>\n      <td>NaN</td>\n      <td>NaN</td>\n      <td>NaN</td>\n      <td>3.1</td>\n      <td>NaN</td>\n      <td>5.7</td>\n      <td>con+7.2</td>\n      <td>7.2</td>\n      <td>54.3</td>\n      <td>40.0</td>\n    </tr>\n    <tr>\n      <th>3250</th>\n      <td>2010-05-06</td>\n      <td>2010-05-06</td>\n      <td>General Election</td>\n      <td>2010 general election</td>\n      <td>NaN</td>\n      <td>–</td>\n      <td>36.9</td>\n      <td>29.7</td>\n      <td>23.6</td>\n      <td>NaN</td>\n      <td>...</td>\n      <td>NaN</td>\n      <td>NaN</td>\n      <td>NaN</td>\n      <td>NaN</td>\n      <td>NaN</td>\n      <td>9.8</td>\n      <td>con+7.2</td>\n      <td>7.2</td>\n      <td>53.3</td>\n      <td>36.9</td>\n    </tr>\n    <tr>\n      <th>3852</th>\n      <td>2005-05-05</td>\n      <td>2005-05-05</td>\n      <td>General Election</td>\n      <td>None</td>\n      <td>NaN</td>\n      <td>–</td>\n      <td>33.2</td>\n      <td>36.2</td>\n      <td>22.7</td>\n      <td>NaN</td>\n      <td>...</td>\n      <td>NaN</td>\n      <td>NaN</td>\n      <td>NaN</td>\n      <td>NaN</td>\n      <td>NaN</td>\n      <td>7.9</td>\n      <td>lab+3.0</td>\n      <td>3.0</td>\n      <td>58.9</td>\n      <td>33.2</td>\n    </tr>\n    <tr>\n      <th>3951</th>\n      <td>2001-06-07</td>\n      <td>2001-06-07</td>\n      <td>General Election</td>\n      <td>2001 general election</td>\n      <td>NaN</td>\n      <td>–</td>\n      <td>31.7</td>\n      <td>40.7</td>\n      <td>18.3</td>\n      <td>NaN</td>\n      <td>...</td>\n      <td>NaN</td>\n      <td>NaN</td>\n      <td>NaN</td>\n      <td>NaN</td>\n      <td>NaN</td>\n      <td>9.3</td>\n      <td>lab+9.0</td>\n      <td>9.0</td>\n      <td>59.0</td>\n      <td>31.7</td>\n    </tr>\n    <tr>\n      <th>3952</th>\n      <td>2001-06-07</td>\n      <td>2001-06-07</td>\n      <td>General Election</td>\n      <td>2001 general election</td>\n      <td>NaN</td>\n      <td>–</td>\n      <td>32.7</td>\n      <td>42.0</td>\n      <td>18.8</td>\n      <td>NaN</td>\n      <td>...</td>\n      <td>NaN</td>\n      <td>NaN</td>\n      <td>NaN</td>\n      <td>NaN</td>\n      <td>NaN</td>\n      <td>6.5</td>\n      <td>lab+9.3</td>\n      <td>9.3</td>\n      <td>60.8</td>\n      <td>32.7</td>\n    </tr>\n    <tr>\n      <th>4172</th>\n      <td>1997-05-01</td>\n      <td>1997-05-01</td>\n      <td>General Election</td>\n      <td>1997 general election</td>\n      <td>NaN</td>\n      <td>–</td>\n      <td>30.7</td>\n      <td>43.2</td>\n      <td>16.8</td>\n      <td>NaN</td>\n      <td>...</td>\n      <td>NaN</td>\n      <td>NaN</td>\n      <td>NaN</td>\n      <td>NaN</td>\n      <td>NaN</td>\n      <td>9.3</td>\n      <td>lab+12.5</td>\n      <td>12.5</td>\n      <td>60.0</td>\n      <td>30.7</td>\n    </tr>\n    <tr>\n      <th>4517</th>\n      <td>1992-04-09</td>\n      <td>1992-04-09</td>\n      <td>General Election</td>\n      <td>NaN</td>\n      <td>NaN</td>\n      <td>NaN</td>\n      <td>41.9</td>\n      <td>34.4</td>\n      <td>17.8</td>\n      <td>NaN</td>\n      <td>...</td>\n      <td>NaN</td>\n      <td>NaN</td>\n      <td>NaN</td>\n      <td>NaN</td>\n      <td>NaN</td>\n      <td>NaN</td>\n      <td>con+7.5</td>\n      <td>7.5</td>\n      <td>52.2</td>\n      <td>41.9</td>\n    </tr>\n    <tr>\n      <th>4521</th>\n      <td>1992-04-08</td>\n      <td>1992-04-08</td>\n      <td>General Election</td>\n      <td>1992 general election</td>\n      <td>NaN</td>\n      <td>NaN</td>\n      <td>42.8</td>\n      <td>35.2</td>\n      <td>18.3</td>\n      <td>NaN</td>\n      <td>...</td>\n      <td>NaN</td>\n      <td>NaN</td>\n      <td>NaN</td>\n      <td>NaN</td>\n      <td>NaN</td>\n      <td>NaN</td>\n      <td>con+7.6</td>\n      <td>7.6</td>\n      <td>53.5</td>\n      <td>42.8</td>\n    </tr>\n    <tr>\n      <th>5018</th>\n      <td>1987-06-11</td>\n      <td>1987-06-11</td>\n      <td>General Election</td>\n      <td>1987 general election</td>\n      <td>NaN</td>\n      <td>NaN</td>\n      <td>43.3</td>\n      <td>31.5</td>\n      <td>NaN</td>\n      <td>23.1</td>\n      <td>...</td>\n      <td>NaN</td>\n      <td>NaN</td>\n      <td>NaN</td>\n      <td>NaN</td>\n      <td>NaN</td>\n      <td>NaN</td>\n      <td>con+11.8</td>\n      <td>11.8</td>\n      <td>54.6</td>\n      <td>43.3</td>\n    </tr>\n    <tr>\n      <th>5019</th>\n      <td>1987-06-11</td>\n      <td>1987-06-11</td>\n      <td>General Election</td>\n      <td>1987 general election</td>\n      <td>NaN</td>\n      <td>NaN</td>\n      <td>42.2</td>\n      <td>30.8</td>\n      <td>NaN</td>\n      <td>22.6</td>\n      <td>...</td>\n      <td>NaN</td>\n      <td>NaN</td>\n      <td>NaN</td>\n      <td>NaN</td>\n      <td>NaN</td>\n      <td>NaN</td>\n      <td>con+11.4</td>\n      <td>11.4</td>\n      <td>53.4</td>\n      <td>42.2</td>\n    </tr>\n    <tr>\n      <th>5283</th>\n      <td>1983-06-09</td>\n      <td>1983-06-09</td>\n      <td>General Election</td>\n      <td>1983 general election</td>\n      <td>NaN</td>\n      <td>NaN</td>\n      <td>42.4</td>\n      <td>27.6</td>\n      <td>NaN</td>\n      <td>25.4</td>\n      <td>...</td>\n      <td>NaN</td>\n      <td>NaN</td>\n      <td>NaN</td>\n      <td>NaN</td>\n      <td>NaN</td>\n      <td>NaN</td>\n      <td>con+14.8</td>\n      <td>14.8</td>\n      <td>53.0</td>\n      <td>42.4</td>\n    </tr>\n    <tr>\n      <th>5480</th>\n      <td>1979-05-03</td>\n      <td>1979-05-03</td>\n      <td>General Election</td>\n      <td>1979 general election</td>\n      <td>NaN</td>\n      <td>NaN</td>\n      <td>43.9</td>\n      <td>36.9</td>\n      <td>NaN</td>\n      <td>NaN</td>\n      <td>...</td>\n      <td>NaN</td>\n      <td>NaN</td>\n      <td>NaN</td>\n      <td>NaN</td>\n      <td>NaN</td>\n      <td>NaN</td>\n      <td>con+7.0</td>\n      <td>7.0</td>\n      <td>50.7</td>\n      <td>43.9</td>\n    </tr>\n    <tr>\n      <th>5646</th>\n      <td>1974-10-10</td>\n      <td>1974-10-10</td>\n      <td>General Election</td>\n      <td>Oct 1974 general election</td>\n      <td>NaN</td>\n      <td>NaN</td>\n      <td>35.8</td>\n      <td>39.3</td>\n      <td>NaN</td>\n      <td>NaN</td>\n      <td>...</td>\n      <td>NaN</td>\n      <td>NaN</td>\n      <td>NaN</td>\n      <td>NaN</td>\n      <td>NaN</td>\n      <td>NaN</td>\n      <td>lab+3.5</td>\n      <td>3.5</td>\n      <td>57.6</td>\n      <td>35.8</td>\n    </tr>\n    <tr>\n      <th>5647</th>\n      <td>1974-10-10</td>\n      <td>1974-10-10</td>\n      <td>General Election</td>\n      <td>Oct 1974 general election</td>\n      <td>NaN</td>\n      <td>NaN</td>\n      <td>35.8</td>\n      <td>39.2</td>\n      <td>NaN</td>\n      <td>NaN</td>\n      <td>...</td>\n      <td>NaN</td>\n      <td>NaN</td>\n      <td>NaN</td>\n      <td>NaN</td>\n      <td>NaN</td>\n      <td>NaN</td>\n      <td>lab+3.4</td>\n      <td>3.4</td>\n      <td>57.5</td>\n      <td>35.8</td>\n    </tr>\n    <tr>\n      <th>5685</th>\n      <td>1974-02-28</td>\n      <td>1974-02-28</td>\n      <td>General Election</td>\n      <td>Feb 1974 general election</td>\n      <td>NaN</td>\n      <td>NaN</td>\n      <td>37.9</td>\n      <td>37.2</td>\n      <td>NaN</td>\n      <td>NaN</td>\n      <td>...</td>\n      <td>NaN</td>\n      <td>NaN</td>\n      <td>NaN</td>\n      <td>NaN</td>\n      <td>NaN</td>\n      <td>NaN</td>\n      <td>con+0.7</td>\n      <td>0.7</td>\n      <td>56.5</td>\n      <td>37.9</td>\n    </tr>\n    <tr>\n      <th>5773</th>\n      <td>1970-06-18</td>\n      <td>1970-06-18</td>\n      <td>General Election</td>\n      <td>1970 general election</td>\n      <td>NaN</td>\n      <td>NaN</td>\n      <td>46.4</td>\n      <td>43.1</td>\n      <td>NaN</td>\n      <td>NaN</td>\n      <td>...</td>\n      <td>NaN</td>\n      <td>NaN</td>\n      <td>NaN</td>\n      <td>NaN</td>\n      <td>NaN</td>\n      <td>NaN</td>\n      <td>con+3.3</td>\n      <td>3.3</td>\n      <td>50.6</td>\n      <td>46.4</td>\n    </tr>\n  </tbody>\n</table>\n<p>23 rows × 25 columns</p>\n</div>"
     },
     "execution_count": 71,
     "metadata": {},
     "output_type": "execute_result"
    }
   ],
   "source": [
    "all_polls.query('pollster==\"General Election\"')"
   ],
   "metadata": {
    "collapsed": false,
    "pycharm": {
     "name": "#%%\n"
    }
   }
  },
  {
   "cell_type": "code",
   "execution_count": 71,
   "outputs": [],
   "source": [],
   "metadata": {
    "collapsed": false,
    "pycharm": {
     "name": "#%%\n"
    }
   }
  },
  {
   "cell_type": "code",
   "execution_count": 67,
   "outputs": [],
   "source": [],
   "metadata": {
    "collapsed": false,
    "pycharm": {
     "name": "#%%\n"
    }
   }
  },
  {
   "cell_type": "code",
   "execution_count": 67,
   "outputs": [],
   "source": [],
   "metadata": {
    "collapsed": false,
    "pycharm": {
     "name": "#%%\n"
    }
   }
  },
  {
   "cell_type": "code",
   "execution_count": 67,
   "outputs": [],
   "source": [],
   "metadata": {
    "collapsed": false,
    "pycharm": {
     "name": "#%%\n"
    }
   }
  }
 ],
 "metadata": {
  "kernelspec": {
   "display_name": "Python 3",
   "language": "python",
   "name": "python3"
  },
  "language_info": {
   "codemirror_mode": {
    "name": "ipython",
    "version": 2
   },
   "file_extension": ".py",
   "mimetype": "text/x-python",
   "name": "python",
   "nbconvert_exporter": "python",
   "pygments_lexer": "ipython2",
   "version": "2.7.6"
  }
 },
 "nbformat": 4,
 "nbformat_minor": 0
}