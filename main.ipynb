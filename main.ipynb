{
 "cells": [
  {
   "cell_type": "code",
   "execution_count": 93,
   "metadata": {
    "collapsed": true
   },
   "outputs": [],
   "source": [
    "import pandas as pd\n",
    "from dateutil.relativedelta import relativedelta"
   ]
  },
  {
   "cell_type": "code",
   "execution_count": null,
   "outputs": [],
   "source": [
    "%load_ext autoreload\n",
    "%autoreload 2"
   ],
   "metadata": {
    "collapsed": false,
    "pycharm": {
     "name": "#%%\n",
     "is_executing": true
    }
   }
  },
  {
   "cell_type": "code",
   "execution_count": 95,
   "outputs": [],
   "source": [
    "from scripts.downloader import fetch_all_polls"
   ],
   "metadata": {
    "collapsed": false,
    "pycharm": {
     "name": "#%%\n"
    }
   }
  },
  {
   "cell_type": "code",
   "execution_count": 96,
   "outputs": [],
   "source": [
    "all_polls = fetch_all_polls(cleanup=True)\n",
    "all_polls.to_csv('poll_database/poll_database.csv', index=False)\n",
    "all_polls.to_excel('poll_database/poll_database.xlsx', index=False)\n",
    "all_polls.to_html('poll_database/poll_database.html', index=False)\n",
    "all_polls.to_json('poll_database/poll_database.json', index=False, orient='table')"
   ],
   "metadata": {
    "collapsed": false,
    "pycharm": {
     "name": "#%%\n"
    }
   }
  },
  {
   "cell_type": "code",
   "execution_count": 97,
   "outputs": [],
   "source": [
    "display_columns = ['date_concluded', 'pollster', 'conservative', 'labour', 'liberal_democrat', 'lead']"
   ],
   "metadata": {
    "collapsed": false,
    "pycharm": {
     "name": "#%%\n"
    }
   }
  },
  {
   "cell_type": "code",
   "execution_count": 98,
   "outputs": [
    {
     "name": "stdout",
     "output_type": "stream",
     "text": [
      "Last 20 Polls\n"
     ]
    },
    {
     "data": {
      "text/plain": "   date_concluded                      pollster  conservative  labour  \\\n0      2021-12-21                     FocalData          34.0    41.0   \n1      2021-12-20                        YouGov          30.0    36.0   \n2      2021-12-20  Redfield & Wilton Strategies          31.0    39.0   \n3      2021-12-19                Savanta ComRes          32.0    37.0   \n4      2021-12-16                Savanta ComRes          34.0    38.0   \n5      2021-12-15                  Find Out Now          30.0    38.0   \n6      2021-12-15                        YouGov          32.0    37.0   \n7      2021-12-13  Redfield & Wilton Strategies          32.0    37.0   \n8      2021-12-13                 Kantar Public          34.0    38.0   \n9      2021-12-13                        YouGov          31.0    38.0   \n10     2021-12-11                     Survation          32.0    39.0   \n11     2021-12-10                        YouGov          32.0    40.0   \n12     2021-12-10                       Opinium          32.0    41.0   \n13     2021-12-10                    Ipsos MORI          34.0    39.0   \n14     2021-12-10                Savanta ComRes          33.0    39.0   \n15     2021-12-09                     FocalData          33.0    41.0   \n16     2021-12-09                        YouGov          33.0    37.0   \n17     2021-12-09                     Survation          34.0    40.0   \n18     2021-12-08  Redfield & Wilton Strategies          34.0    38.0   \n19     2021-12-06  Redfield & Wilton Strategies          38.0    36.0   \n\n    liberal_democrat     lead  \n0                9.0  lab+7.0  \n1               12.0  lab+6.0  \n2               13.0  lab+8.0  \n3               13.0  lab+5.0  \n4               10.0  lab+4.0  \n5               10.0  lab+8.0  \n6               10.0  lab+5.0  \n7               11.0  lab+5.0  \n8               11.0  lab+4.0  \n9                8.0  lab+7.0  \n10               9.0  lab+7.0  \n11               8.0  lab+8.0  \n12               9.0  lab+9.0  \n13              11.0  lab+5.0  \n14               9.0  lab+6.0  \n15               7.0  lab+8.0  \n16               9.0  lab+4.0  \n17              10.0  lab+6.0  \n18              11.0  lab+4.0  \n19               9.0  con+2.0  ",
      "text/html": "<div>\n<style scoped>\n    .dataframe tbody tr th:only-of-type {\n        vertical-align: middle;\n    }\n\n    .dataframe tbody tr th {\n        vertical-align: top;\n    }\n\n    .dataframe thead th {\n        text-align: right;\n    }\n</style>\n<table border=\"1\" class=\"dataframe\">\n  <thead>\n    <tr style=\"text-align: right;\">\n      <th></th>\n      <th>date_concluded</th>\n      <th>pollster</th>\n      <th>conservative</th>\n      <th>labour</th>\n      <th>liberal_democrat</th>\n      <th>lead</th>\n    </tr>\n  </thead>\n  <tbody>\n    <tr>\n      <th>0</th>\n      <td>2021-12-21</td>\n      <td>FocalData</td>\n      <td>34.0</td>\n      <td>41.0</td>\n      <td>9.0</td>\n      <td>lab+7.0</td>\n    </tr>\n    <tr>\n      <th>1</th>\n      <td>2021-12-20</td>\n      <td>YouGov</td>\n      <td>30.0</td>\n      <td>36.0</td>\n      <td>12.0</td>\n      <td>lab+6.0</td>\n    </tr>\n    <tr>\n      <th>2</th>\n      <td>2021-12-20</td>\n      <td>Redfield &amp; Wilton Strategies</td>\n      <td>31.0</td>\n      <td>39.0</td>\n      <td>13.0</td>\n      <td>lab+8.0</td>\n    </tr>\n    <tr>\n      <th>3</th>\n      <td>2021-12-19</td>\n      <td>Savanta ComRes</td>\n      <td>32.0</td>\n      <td>37.0</td>\n      <td>13.0</td>\n      <td>lab+5.0</td>\n    </tr>\n    <tr>\n      <th>4</th>\n      <td>2021-12-16</td>\n      <td>Savanta ComRes</td>\n      <td>34.0</td>\n      <td>38.0</td>\n      <td>10.0</td>\n      <td>lab+4.0</td>\n    </tr>\n    <tr>\n      <th>5</th>\n      <td>2021-12-15</td>\n      <td>Find Out Now</td>\n      <td>30.0</td>\n      <td>38.0</td>\n      <td>10.0</td>\n      <td>lab+8.0</td>\n    </tr>\n    <tr>\n      <th>6</th>\n      <td>2021-12-15</td>\n      <td>YouGov</td>\n      <td>32.0</td>\n      <td>37.0</td>\n      <td>10.0</td>\n      <td>lab+5.0</td>\n    </tr>\n    <tr>\n      <th>7</th>\n      <td>2021-12-13</td>\n      <td>Redfield &amp; Wilton Strategies</td>\n      <td>32.0</td>\n      <td>37.0</td>\n      <td>11.0</td>\n      <td>lab+5.0</td>\n    </tr>\n    <tr>\n      <th>8</th>\n      <td>2021-12-13</td>\n      <td>Kantar Public</td>\n      <td>34.0</td>\n      <td>38.0</td>\n      <td>11.0</td>\n      <td>lab+4.0</td>\n    </tr>\n    <tr>\n      <th>9</th>\n      <td>2021-12-13</td>\n      <td>YouGov</td>\n      <td>31.0</td>\n      <td>38.0</td>\n      <td>8.0</td>\n      <td>lab+7.0</td>\n    </tr>\n    <tr>\n      <th>10</th>\n      <td>2021-12-11</td>\n      <td>Survation</td>\n      <td>32.0</td>\n      <td>39.0</td>\n      <td>9.0</td>\n      <td>lab+7.0</td>\n    </tr>\n    <tr>\n      <th>11</th>\n      <td>2021-12-10</td>\n      <td>YouGov</td>\n      <td>32.0</td>\n      <td>40.0</td>\n      <td>8.0</td>\n      <td>lab+8.0</td>\n    </tr>\n    <tr>\n      <th>12</th>\n      <td>2021-12-10</td>\n      <td>Opinium</td>\n      <td>32.0</td>\n      <td>41.0</td>\n      <td>9.0</td>\n      <td>lab+9.0</td>\n    </tr>\n    <tr>\n      <th>13</th>\n      <td>2021-12-10</td>\n      <td>Ipsos MORI</td>\n      <td>34.0</td>\n      <td>39.0</td>\n      <td>11.0</td>\n      <td>lab+5.0</td>\n    </tr>\n    <tr>\n      <th>14</th>\n      <td>2021-12-10</td>\n      <td>Savanta ComRes</td>\n      <td>33.0</td>\n      <td>39.0</td>\n      <td>9.0</td>\n      <td>lab+6.0</td>\n    </tr>\n    <tr>\n      <th>15</th>\n      <td>2021-12-09</td>\n      <td>FocalData</td>\n      <td>33.0</td>\n      <td>41.0</td>\n      <td>7.0</td>\n      <td>lab+8.0</td>\n    </tr>\n    <tr>\n      <th>16</th>\n      <td>2021-12-09</td>\n      <td>YouGov</td>\n      <td>33.0</td>\n      <td>37.0</td>\n      <td>9.0</td>\n      <td>lab+4.0</td>\n    </tr>\n    <tr>\n      <th>17</th>\n      <td>2021-12-09</td>\n      <td>Survation</td>\n      <td>34.0</td>\n      <td>40.0</td>\n      <td>10.0</td>\n      <td>lab+6.0</td>\n    </tr>\n    <tr>\n      <th>18</th>\n      <td>2021-12-08</td>\n      <td>Redfield &amp; Wilton Strategies</td>\n      <td>34.0</td>\n      <td>38.0</td>\n      <td>11.0</td>\n      <td>lab+4.0</td>\n    </tr>\n    <tr>\n      <th>19</th>\n      <td>2021-12-06</td>\n      <td>Redfield &amp; Wilton Strategies</td>\n      <td>38.0</td>\n      <td>36.0</td>\n      <td>9.0</td>\n      <td>con+2.0</td>\n    </tr>\n  </tbody>\n</table>\n</div>"
     },
     "execution_count": 98,
     "metadata": {},
     "output_type": "execute_result"
    }
   ],
   "source": [
    "print('Last 20 Polls')\n",
    "all_polls[display_columns][0:20]"
   ],
   "metadata": {
    "collapsed": false,
    "pycharm": {
     "name": "#%%\n"
    }
   }
  },
  {
   "cell_type": "code",
   "execution_count": 99,
   "outputs": [
    {
     "data": {
      "text/plain": "     date_concluded pollster  conservative  labour  liberal_democrat      lead\n1        2021-12-20   YouGov          30.0    36.0              12.0   lab+6.0\n534      2019-09-20   YouGov          30.0    23.0              22.0   con+7.0\n562      2019-08-14   YouGov          30.0    21.0              20.0   con+9.0\n575      2019-07-24   YouGov          25.0    19.0              23.0   con+2.0\n576      2019-07-17   YouGov          25.0    21.0              20.0   con+4.0\n...             ...      ...           ...     ...               ...       ...\n2210     2013-02-19   YouGov          29.0    44.0              11.0  lab+15.0\n2228     2013-02-04   YouGov          30.0    45.0              11.0  lab+15.0\n2269     2012-12-19   YouGov          30.0    43.0              11.0  lab+13.0\n2287     2012-12-04   YouGov          30.0    44.0              11.0  lab+14.0\n2486     2012-04-27   YouGov          29.0    40.0              11.0  lab+11.0\n\n[79 rows x 6 columns]",
      "text/html": "<div>\n<style scoped>\n    .dataframe tbody tr th:only-of-type {\n        vertical-align: middle;\n    }\n\n    .dataframe tbody tr th {\n        vertical-align: top;\n    }\n\n    .dataframe thead th {\n        text-align: right;\n    }\n</style>\n<table border=\"1\" class=\"dataframe\">\n  <thead>\n    <tr style=\"text-align: right;\">\n      <th></th>\n      <th>date_concluded</th>\n      <th>pollster</th>\n      <th>conservative</th>\n      <th>labour</th>\n      <th>liberal_democrat</th>\n      <th>lead</th>\n    </tr>\n  </thead>\n  <tbody>\n    <tr>\n      <th>1</th>\n      <td>2021-12-20</td>\n      <td>YouGov</td>\n      <td>30.0</td>\n      <td>36.0</td>\n      <td>12.0</td>\n      <td>lab+6.0</td>\n    </tr>\n    <tr>\n      <th>534</th>\n      <td>2019-09-20</td>\n      <td>YouGov</td>\n      <td>30.0</td>\n      <td>23.0</td>\n      <td>22.0</td>\n      <td>con+7.0</td>\n    </tr>\n    <tr>\n      <th>562</th>\n      <td>2019-08-14</td>\n      <td>YouGov</td>\n      <td>30.0</td>\n      <td>21.0</td>\n      <td>20.0</td>\n      <td>con+9.0</td>\n    </tr>\n    <tr>\n      <th>575</th>\n      <td>2019-07-24</td>\n      <td>YouGov</td>\n      <td>25.0</td>\n      <td>19.0</td>\n      <td>23.0</td>\n      <td>con+2.0</td>\n    </tr>\n    <tr>\n      <th>576</th>\n      <td>2019-07-17</td>\n      <td>YouGov</td>\n      <td>25.0</td>\n      <td>21.0</td>\n      <td>20.0</td>\n      <td>con+4.0</td>\n    </tr>\n    <tr>\n      <th>...</th>\n      <td>...</td>\n      <td>...</td>\n      <td>...</td>\n      <td>...</td>\n      <td>...</td>\n      <td>...</td>\n    </tr>\n    <tr>\n      <th>2210</th>\n      <td>2013-02-19</td>\n      <td>YouGov</td>\n      <td>29.0</td>\n      <td>44.0</td>\n      <td>11.0</td>\n      <td>lab+15.0</td>\n    </tr>\n    <tr>\n      <th>2228</th>\n      <td>2013-02-04</td>\n      <td>YouGov</td>\n      <td>30.0</td>\n      <td>45.0</td>\n      <td>11.0</td>\n      <td>lab+15.0</td>\n    </tr>\n    <tr>\n      <th>2269</th>\n      <td>2012-12-19</td>\n      <td>YouGov</td>\n      <td>30.0</td>\n      <td>43.0</td>\n      <td>11.0</td>\n      <td>lab+13.0</td>\n    </tr>\n    <tr>\n      <th>2287</th>\n      <td>2012-12-04</td>\n      <td>YouGov</td>\n      <td>30.0</td>\n      <td>44.0</td>\n      <td>11.0</td>\n      <td>lab+14.0</td>\n    </tr>\n    <tr>\n      <th>2486</th>\n      <td>2012-04-27</td>\n      <td>YouGov</td>\n      <td>29.0</td>\n      <td>40.0</td>\n      <td>11.0</td>\n      <td>lab+11.0</td>\n    </tr>\n  </tbody>\n</table>\n<p>79 rows × 6 columns</p>\n</div>"
     },
     "execution_count": 99,
     "metadata": {},
     "output_type": "execute_result"
    }
   ],
   "source": [
    "all_polls.query(\"pollster == 'YouGov' and conservative <31\")[display_columns]"
   ],
   "metadata": {
    "collapsed": false,
    "pycharm": {
     "name": "#%%\n"
    }
   }
  },
  {
   "cell_type": "code",
   "execution_count": 99,
   "outputs": [],
   "source": [],
   "metadata": {
    "collapsed": false,
    "pycharm": {
     "name": "#%%\n"
    }
   }
  },
  {
   "cell_type": "code",
   "execution_count": 100,
   "outputs": [],
   "source": [
    "most_recent_date = all_polls.iloc[0].date_concluded\n",
    "one_year_polls = all_polls[\n",
    "    all_polls['date_concluded'] >= (most_recent_date + relativedelta(months=-12)).replace(day=1)].copy()"
   ],
   "metadata": {
    "collapsed": false,
    "pycharm": {
     "name": "#%%\n"
    }
   }
  },
  {
   "cell_type": "code",
   "execution_count": 100,
   "outputs": [],
   "source": [],
   "metadata": {
    "collapsed": false,
    "pycharm": {
     "name": "#%%\n"
    }
   }
  },
  {
   "cell_type": "code",
   "execution_count": 101,
   "outputs": [],
   "source": [
    "pollsters_latest = pd.DataFrame()\n",
    "for pollster in one_year_polls.pollster.unique():\n",
    "    pollster_data = one_year_polls.query(f'pollster == \"{pollster}\"')\n",
    "    latest_poll = pollster_data.iloc[0]\n",
    "    pollsters_latest = pollsters_latest.append(latest_poll)"
   ],
   "metadata": {
    "collapsed": false,
    "pycharm": {
     "name": "#%%\n"
    }
   }
  },
  {
   "cell_type": "code",
   "execution_count": 102,
   "outputs": [],
   "source": [
    "top_five = {'Ipsos MORI': 100,\n",
    "            'Opinium': 79,\n",
    "            'YouGov': 77,\n",
    "            'Kantar Public': 69,\n",
    "            'Number Cruncher Politics': 61,\n",
    "            'Survation': 59,\n",
    "            'Panelbase': 57,\n",
    "            'Deltapoll': 46,\n",
    "            'BMG Research': 44,\n",
    "            'FocalData': 39,\n",
    "            'ICM Research': 35,\n",
    "            'Savanta ComRes': 34,\n",
    "            'Find Out Now': 34,\n",
    "            'Redfield & Wilton Strategies': 34,\n",
    "            }\n",
    "\n",
    "top_two = {'Ipsos MORI': 100,\n",
    "           'Survation': 85,\n",
    "           'Kantar Public': 85,\n",
    "           'Panelbase': 74,\n",
    "           'Number Cruncher Politics': 71,\n",
    "           'Opinium': 71,\n",
    "           'YouGov': 67,\n",
    "           'Deltapoll': 50,\n",
    "           'FocalData': 42,\n",
    "           'BMG Research': 39,\n",
    "           'Savanta ComRes': 29,\n",
    "           'ICM Research': 27,\n",
    "           'Find Out Now': 34,\n",
    "           'Redfield & Wilton Strategies': 34,\n",
    "           }"
   ],
   "metadata": {
    "collapsed": false,
    "pycharm": {
     "name": "#%%\n"
    }
   }
  },
  {
   "cell_type": "code",
   "execution_count": 103,
   "outputs": [],
   "source": [
    "def get_recency_weight(date_concluded, current_date):\n",
    "    days_since_poll = (current_date - date_concluded).days\n",
    "    if days_since_poll < 8:\n",
    "        return 100\n",
    "    if days_since_poll > 90:\n",
    "        return 0\n",
    "    if days_since_poll > 30:\n",
    "        return 5 - ((days_since_poll - 30)/60)*5\n",
    "    if days_since_poll > 15:\n",
    "        return 70 - ((days_since_poll - 15)/15)*65\n",
    "    else:\n",
    "        return 100 - ((days_since_poll - 7)/8)*30\n",
    "\n",
    "\n",
    "def get_pollster_weight(pollster):\n",
    "    top_five_score = top_five[pollster]\n",
    "    top_two_score = top_two[pollster]\n",
    "    pollster_w = (3*top_two_score + 2*top_five_score + 100)/6\n",
    "    return pollster_w\n"
   ],
   "metadata": {
    "collapsed": false,
    "pycharm": {
     "name": "#%%\n"
    }
   }
  },
  {
   "cell_type": "code",
   "execution_count": 104,
   "outputs": [],
   "source": [
    "from scripts.constants import major_parties"
   ],
   "metadata": {
    "collapsed": false,
    "pycharm": {
     "name": "#%%\n"
    }
   }
  },
  {
   "cell_type": "code",
   "execution_count": 105,
   "outputs": [],
   "source": [
    "pollsters_latest['recency_weight'] = pollsters_latest['date_concluded'].apply(get_recency_weight,\n",
    "                                                                              current_date=most_recent_date)\n",
    "pollsters_latest['pollster_weight'] = pollsters_latest['pollster'].apply(get_pollster_weight)\n",
    "pollsters_latest['poll_weight'] = pollsters_latest['pollster_weight']*(pollsters_latest['recency_weight']/100)"
   ],
   "metadata": {
    "collapsed": false,
    "pycharm": {
     "name": "#%%\n"
    }
   }
  },
  {
   "cell_type": "code",
   "execution_count": 106,
   "outputs": [],
   "source": [
    "current_average = pd.DataFrame(columns=major_parties + ['lead'], index=['Polling Average'])\n",
    "lead_party = ''\n",
    "max_vote_share = 0\n",
    "second_vote_share = 0\n",
    "for party in major_parties:\n",
    "    party_vote_share = pollsters_latest[party].dot(pollsters_latest['poll_weight'])/pollsters_latest[\n",
    "        'poll_weight'].sum()\n",
    "    if party_vote_share > max_vote_share:\n",
    "        second_vote_share = max_vote_share\n",
    "        max_vote_share = party_vote_share\n",
    "        lead_party = party\n",
    "    else:\n",
    "        if party_vote_share > second_vote_share:\n",
    "            second_vote_share = party_vote_share\n",
    "    current_average.loc['Polling Average', party] = f'{party_vote_share:.1f}%'\n",
    "current_average.loc['Polling Average', 'lead'] = f'{lead_party:.3s}+{max_vote_share - second_vote_share:.1f}%'\n"
   ],
   "metadata": {
    "collapsed": false,
    "pycharm": {
     "name": "#%%\n"
    }
   }
  },
  {
   "cell_type": "code",
   "execution_count": 107,
   "outputs": [],
   "source": [
    "one_year_polls['poll_month'] = one_year_polls['date_concluded'].apply(lambda x: x.replace(day=1))"
   ],
   "metadata": {
    "collapsed": false,
    "pycharm": {
     "name": "#%%\n"
    }
   }
  },
  {
   "cell_type": "code",
   "execution_count": 108,
   "outputs": [],
   "source": [
    "pollster_monthly_summary = one_year_polls.groupby(['poll_month', 'pollster'])[major_parties].agg(['mean', 'count'])\n",
    "pollster_monthly_summary.columns = [x if i == 0 else f'count{major_parties.index(x)}' for x in major_parties for i in\n",
    "                                    range(0, 2)]\n",
    "pollster_monthly_summary.drop(columns=[f'count{major_parties.index(x)}' for x in major_parties][1:], inplace=True)\n",
    "pollster_monthly_summary.rename(columns={\"count0\": \"count\"}, inplace=True)"
   ],
   "metadata": {
    "collapsed": false,
    "pycharm": {
     "name": "#%%\n"
    }
   }
  },
  {
   "cell_type": "code",
   "execution_count": 109,
   "outputs": [],
   "source": [
    "agg_info = {x: ['mean'] for x in major_parties}\n",
    "agg_info['count'] = ['count', 'sum']\n",
    "monthly_summary = pollster_monthly_summary.reset_index().groupby(['poll_month']).agg(agg_info)\n",
    "monthly_summary.columns = major_parties + ['pollster_count', 'poll_count']"
   ],
   "metadata": {
    "collapsed": false,
    "pycharm": {
     "name": "#%%\n"
    }
   }
  },
  {
   "cell_type": "code",
   "execution_count": 109,
   "outputs": [],
   "source": [],
   "metadata": {
    "collapsed": false,
    "pycharm": {
     "name": "#%%\n"
    }
   }
  },
  {
   "cell_type": "code",
   "execution_count": 115,
   "outputs": [
    {
     "data": {
      "text/plain": "    date_concluded                      pollster  conservative  labour  \\\n13      2021-12-10                    Ipsos MORI          34.0    39.0   \n8       2021-12-13                 Kantar Public          34.0    38.0   \n1       2021-12-20                        YouGov          30.0    36.0   \n10      2021-12-11                     Survation          32.0    39.0   \n12      2021-12-10                       Opinium          32.0    41.0   \n0       2021-12-21                     FocalData          34.0    41.0   \n2       2021-12-20  Redfield & Wilton Strategies          31.0    39.0   \n5       2021-12-15                  Find Out Now          30.0    38.0   \n3       2021-12-19                Savanta ComRes          32.0    37.0   \n21      2021-12-04                     Deltapoll          37.0    38.0   \n32      2021-11-19                     Panelbase          38.0    39.0   \n56      2021-10-18      Number Cruncher Politics          40.0    32.0   \n181     2021-04-26                  BMG Research          39.0    35.0   \n\n     liberal_democrat     lead  \n13               11.0  lab+5.0  \n8                11.0  lab+4.0  \n1                12.0  lab+6.0  \n10                9.0  lab+7.0  \n12                9.0  lab+9.0  \n0                 9.0  lab+7.0  \n2                13.0  lab+8.0  \n5                10.0  lab+8.0  \n3                13.0  lab+5.0  \n21               10.0  lab+1.0  \n32                9.0  lab+1.0  \n56                6.0  con+8.0  \n181               9.0  con+4.0  ",
      "text/html": "<div>\n<style scoped>\n    .dataframe tbody tr th:only-of-type {\n        vertical-align: middle;\n    }\n\n    .dataframe tbody tr th {\n        vertical-align: top;\n    }\n\n    .dataframe thead th {\n        text-align: right;\n    }\n</style>\n<table border=\"1\" class=\"dataframe\">\n  <thead>\n    <tr style=\"text-align: right;\">\n      <th></th>\n      <th>date_concluded</th>\n      <th>pollster</th>\n      <th>conservative</th>\n      <th>labour</th>\n      <th>liberal_democrat</th>\n      <th>lead</th>\n    </tr>\n  </thead>\n  <tbody>\n    <tr>\n      <th>13</th>\n      <td>2021-12-10</td>\n      <td>Ipsos MORI</td>\n      <td>34.0</td>\n      <td>39.0</td>\n      <td>11.0</td>\n      <td>lab+5.0</td>\n    </tr>\n    <tr>\n      <th>8</th>\n      <td>2021-12-13</td>\n      <td>Kantar Public</td>\n      <td>34.0</td>\n      <td>38.0</td>\n      <td>11.0</td>\n      <td>lab+4.0</td>\n    </tr>\n    <tr>\n      <th>1</th>\n      <td>2021-12-20</td>\n      <td>YouGov</td>\n      <td>30.0</td>\n      <td>36.0</td>\n      <td>12.0</td>\n      <td>lab+6.0</td>\n    </tr>\n    <tr>\n      <th>10</th>\n      <td>2021-12-11</td>\n      <td>Survation</td>\n      <td>32.0</td>\n      <td>39.0</td>\n      <td>9.0</td>\n      <td>lab+7.0</td>\n    </tr>\n    <tr>\n      <th>12</th>\n      <td>2021-12-10</td>\n      <td>Opinium</td>\n      <td>32.0</td>\n      <td>41.0</td>\n      <td>9.0</td>\n      <td>lab+9.0</td>\n    </tr>\n    <tr>\n      <th>0</th>\n      <td>2021-12-21</td>\n      <td>FocalData</td>\n      <td>34.0</td>\n      <td>41.0</td>\n      <td>9.0</td>\n      <td>lab+7.0</td>\n    </tr>\n    <tr>\n      <th>2</th>\n      <td>2021-12-20</td>\n      <td>Redfield &amp; Wilton Strategies</td>\n      <td>31.0</td>\n      <td>39.0</td>\n      <td>13.0</td>\n      <td>lab+8.0</td>\n    </tr>\n    <tr>\n      <th>5</th>\n      <td>2021-12-15</td>\n      <td>Find Out Now</td>\n      <td>30.0</td>\n      <td>38.0</td>\n      <td>10.0</td>\n      <td>lab+8.0</td>\n    </tr>\n    <tr>\n      <th>3</th>\n      <td>2021-12-19</td>\n      <td>Savanta ComRes</td>\n      <td>32.0</td>\n      <td>37.0</td>\n      <td>13.0</td>\n      <td>lab+5.0</td>\n    </tr>\n    <tr>\n      <th>21</th>\n      <td>2021-12-04</td>\n      <td>Deltapoll</td>\n      <td>37.0</td>\n      <td>38.0</td>\n      <td>10.0</td>\n      <td>lab+1.0</td>\n    </tr>\n    <tr>\n      <th>32</th>\n      <td>2021-11-19</td>\n      <td>Panelbase</td>\n      <td>38.0</td>\n      <td>39.0</td>\n      <td>9.0</td>\n      <td>lab+1.0</td>\n    </tr>\n    <tr>\n      <th>56</th>\n      <td>2021-10-18</td>\n      <td>Number Cruncher Politics</td>\n      <td>40.0</td>\n      <td>32.0</td>\n      <td>6.0</td>\n      <td>con+8.0</td>\n    </tr>\n    <tr>\n      <th>181</th>\n      <td>2021-04-26</td>\n      <td>BMG Research</td>\n      <td>39.0</td>\n      <td>35.0</td>\n      <td>9.0</td>\n      <td>con+4.0</td>\n    </tr>\n  </tbody>\n</table>\n</div>"
     },
     "metadata": {},
     "output_type": "display_data"
    },
    {
     "data": {
      "text/plain": "                conservative labour liberal_democrat      lead\nPolling Average        32.6%  38.6%            10.6%  lab+6.0%",
      "text/html": "<div>\n<style scoped>\n    .dataframe tbody tr th:only-of-type {\n        vertical-align: middle;\n    }\n\n    .dataframe tbody tr th {\n        vertical-align: top;\n    }\n\n    .dataframe thead th {\n        text-align: right;\n    }\n</style>\n<table border=\"1\" class=\"dataframe\">\n  <thead>\n    <tr style=\"text-align: right;\">\n      <th></th>\n      <th>conservative</th>\n      <th>labour</th>\n      <th>liberal_democrat</th>\n      <th>lead</th>\n    </tr>\n  </thead>\n  <tbody>\n    <tr>\n      <th>Polling Average</th>\n      <td>32.6%</td>\n      <td>38.6%</td>\n      <td>10.6%</td>\n      <td>lab+6.0%</td>\n    </tr>\n  </tbody>\n</table>\n</div>"
     },
     "metadata": {},
     "output_type": "display_data"
    },
    {
     "data": {
      "text/plain": "            conservative     labour  liberal_democrat  pollster_count  \\\npoll_month                                                              \n2021-12-01     33.783333  38.491667          9.941667              10   \n2021-11-01     37.066667  36.575000          9.250000              10   \n2021-10-01     39.268750  34.645833          8.289583               8   \n2021-09-01     39.843333  34.331667          9.376667              10   \n2021-08-01     40.016667  33.316667         10.400000               6   \n2021-07-01     41.787037  33.601852          9.444444               9   \n2021-06-01     43.477778  33.455556          7.566667               9   \n2021-05-01     43.468750  32.812500          8.062500               8   \n2021-04-01     41.921212  35.186364          7.448485              11   \n2021-03-01     42.460000  35.815000          7.323333              10   \n2021-02-01     41.300000  36.550000          7.125000              10   \n2021-01-01     39.892857  38.214286          7.297619               7   \n\n            poll_count  \npoll_month              \n2021-12-01          25  \n2021-11-01          23  \n2021-10-01          20  \n2021-09-01          23  \n2021-08-01          18  \n2021-07-01          21  \n2021-06-01          24  \n2021-05-01          21  \n2021-04-01          25  \n2021-03-01          20  \n2021-02-01          21  \n2021-01-01          17  ",
      "text/html": "<div>\n<style scoped>\n    .dataframe tbody tr th:only-of-type {\n        vertical-align: middle;\n    }\n\n    .dataframe tbody tr th {\n        vertical-align: top;\n    }\n\n    .dataframe thead th {\n        text-align: right;\n    }\n</style>\n<table border=\"1\" class=\"dataframe\">\n  <thead>\n    <tr style=\"text-align: right;\">\n      <th></th>\n      <th>conservative</th>\n      <th>labour</th>\n      <th>liberal_democrat</th>\n      <th>pollster_count</th>\n      <th>poll_count</th>\n    </tr>\n    <tr>\n      <th>poll_month</th>\n      <th></th>\n      <th></th>\n      <th></th>\n      <th></th>\n      <th></th>\n    </tr>\n  </thead>\n  <tbody>\n    <tr>\n      <th>2021-12-01</th>\n      <td>33.783333</td>\n      <td>38.491667</td>\n      <td>9.941667</td>\n      <td>10</td>\n      <td>25</td>\n    </tr>\n    <tr>\n      <th>2021-11-01</th>\n      <td>37.066667</td>\n      <td>36.575000</td>\n      <td>9.250000</td>\n      <td>10</td>\n      <td>23</td>\n    </tr>\n    <tr>\n      <th>2021-10-01</th>\n      <td>39.268750</td>\n      <td>34.645833</td>\n      <td>8.289583</td>\n      <td>8</td>\n      <td>20</td>\n    </tr>\n    <tr>\n      <th>2021-09-01</th>\n      <td>39.843333</td>\n      <td>34.331667</td>\n      <td>9.376667</td>\n      <td>10</td>\n      <td>23</td>\n    </tr>\n    <tr>\n      <th>2021-08-01</th>\n      <td>40.016667</td>\n      <td>33.316667</td>\n      <td>10.400000</td>\n      <td>6</td>\n      <td>18</td>\n    </tr>\n    <tr>\n      <th>2021-07-01</th>\n      <td>41.787037</td>\n      <td>33.601852</td>\n      <td>9.444444</td>\n      <td>9</td>\n      <td>21</td>\n    </tr>\n    <tr>\n      <th>2021-06-01</th>\n      <td>43.477778</td>\n      <td>33.455556</td>\n      <td>7.566667</td>\n      <td>9</td>\n      <td>24</td>\n    </tr>\n    <tr>\n      <th>2021-05-01</th>\n      <td>43.468750</td>\n      <td>32.812500</td>\n      <td>8.062500</td>\n      <td>8</td>\n      <td>21</td>\n    </tr>\n    <tr>\n      <th>2021-04-01</th>\n      <td>41.921212</td>\n      <td>35.186364</td>\n      <td>7.448485</td>\n      <td>11</td>\n      <td>25</td>\n    </tr>\n    <tr>\n      <th>2021-03-01</th>\n      <td>42.460000</td>\n      <td>35.815000</td>\n      <td>7.323333</td>\n      <td>10</td>\n      <td>20</td>\n    </tr>\n    <tr>\n      <th>2021-02-01</th>\n      <td>41.300000</td>\n      <td>36.550000</td>\n      <td>7.125000</td>\n      <td>10</td>\n      <td>21</td>\n    </tr>\n    <tr>\n      <th>2021-01-01</th>\n      <td>39.892857</td>\n      <td>38.214286</td>\n      <td>7.297619</td>\n      <td>7</td>\n      <td>17</td>\n    </tr>\n  </tbody>\n</table>\n</div>"
     },
     "metadata": {},
     "output_type": "display_data"
    }
   ],
   "source": [
    "display(pollsters_latest.sort_values(by='poll_weight', ascending=False)[display_columns])\n",
    "display(current_average)\n",
    "display(monthly_summary.iloc[:0:-1])"
   ],
   "metadata": {
    "collapsed": false,
    "pycharm": {
     "name": "#%%\n"
    }
   }
  },
  {
   "cell_type": "code",
   "execution_count": 111,
   "outputs": [
    {
     "data": {
      "text/plain": "<AxesSubplot:xlabel='poll_month'>"
     },
     "execution_count": 111,
     "metadata": {},
     "output_type": "execute_result"
    },
    {
     "data": {
      "text/plain": "<Figure size 1080x216 with 1 Axes>",
      "image/png": "[encoded data removed]"
     },
     "metadata": {
      "needs_background": "light"
     },
     "output_type": "display_data"
    }
   ],
   "source": [
    "from scripts.constants import party_colors\n",
    "\n",
    "monthly_summary[['conservative', 'labour','liberal_democrat']][1:].plot(\n",
    "    figsize=[15, 3],\n",
    "    ylim=[30, 45],\n",
    "    color=party_colors,\n",
    "\n",
    ")"
   ],
   "metadata": {
    "collapsed": false,
    "pycharm": {
     "name": "#%%\n"
    }
   }
  },
  {
   "cell_type": "code",
   "execution_count": 112,
   "outputs": [],
   "source": [
    "import scripts"
   ],
   "metadata": {
    "collapsed": false,
    "pycharm": {
     "name": "#%%\n"
    }
   }
  }
 ],
 "metadata": {
  "kernelspec": {
   "display_name": "Python 3",
   "language": "python",
   "name": "python3"
  },
  "language_info": {
   "codemirror_mode": {
    "name": "ipython",
    "version": 2
   },
   "file_extension": ".py",
   "mimetype": "text/x-python",
   "name": "python",
   "nbconvert_exporter": "python",
   "pygments_lexer": "ipython2",
   "version": "2.7.6"
  }
 },
 "nbformat": 4,
 "nbformat_minor": 0
}