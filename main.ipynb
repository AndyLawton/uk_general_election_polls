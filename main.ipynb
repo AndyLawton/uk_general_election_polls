{
 "cells": [
  {
   "cell_type": "code",
   "execution_count": 1,
   "metadata": {
    "collapsed": true
   },
   "outputs": [],
   "source": [
    "import pandas as pd\n",
    "from dateutil.relativedelta import relativedelta"
   ]
  },
  {
   "cell_type": "code",
   "execution_count": 2,
   "outputs": [],
   "source": [
    "%load_ext autoreload\n",
    "%autoreload 2"
   ],
   "metadata": {
    "collapsed": false,
    "pycharm": {
     "name": "#%%\n"
    }
   }
  },
  {
   "cell_type": "code",
   "execution_count": 5,
   "outputs": [],
   "source": [
    "from scripts.downloader import fetch_all_polls"
   ],
   "metadata": {
    "collapsed": false,
    "pycharm": {
     "name": "#%%\n"
    }
   }
  },
  {
   "cell_type": "code",
   "execution_count": 6,
   "outputs": [],
   "source": [
    "all_polls = fetch_all_polls(cleanup=True, refresh=False)"
   ],
   "metadata": {
    "collapsed": false,
    "pycharm": {
     "name": "#%%\n"
    }
   }
  },
  {
   "cell_type": "code",
   "execution_count": 7,
   "outputs": [],
   "source": [
    "all_polls.to_csv('poll_database/poll_database.csv', index=False)\n",
    "all_polls.to_excel('poll_database/poll_database.xlsx', index=False)\n",
    "all_polls.to_json('poll_database/poll_database.json', index=False, orient='split')"
   ],
   "metadata": {
    "collapsed": false,
    "pycharm": {
     "name": "#%%\n"
    }
   }
  },
  {
   "cell_type": "code",
   "execution_count": 8,
   "outputs": [],
   "source": [
    "display_columns = ['date_concluded', 'pollster', 'conservative', 'labour', 'liberal_democrat', 'lead']"
   ],
   "metadata": {
    "collapsed": false,
    "pycharm": {
     "name": "#%%\n"
    }
   }
  },
  {
   "cell_type": "code",
   "execution_count": 8,
   "outputs": [],
   "source": [],
   "metadata": {
    "collapsed": false,
    "pycharm": {
     "name": "#%%\n"
    }
   }
  },
  {
   "cell_type": "code",
   "execution_count": 9,
   "outputs": [
    {
     "data": {
      "text/plain": "  date_started date_concluded                      pollster        client  \\\n0   2022-03-29     2022-03-30                        YouGov     The Times   \n1   2022-03-28     2022-03-30                     Survation           NaN   \n2   2022-03-27     2022-03-27  Redfield & Wilton Strategies           NaN   \n3   2022-03-25     2022-03-27                Savanta ComRes           NaN   \n4   2022-03-23     2022-03-25                       Opinium  The Observer   \n5   2022-03-23     2022-03-24                     Techne UK           NaN   \n6   2022-03-23     2022-03-24                        YouGov     The Times   \n7   2022-03-22     2022-03-23                        YouGov     The Times   \n8   2022-03-17     2022-03-21                 Kantar Public           NaN   \n9   2022-03-20     2022-03-20  Redfield & Wilton Strategies           NaN   \n\n  area sample_size  conservative  labour  liberal_democrat  alliance  ...  \\\n0   GB        2006          33.0    37.0               9.0       NaN  ...   \n1   UK        2033          35.0    42.0               9.0       NaN  ...   \n2   GB        2000          35.0    37.0               9.0       NaN  ...   \n3   GB        2226          35.0    39.0              11.0       NaN  ...   \n4   GB        2002          36.0    38.0               9.0       NaN  ...   \n5   UK        1641          35.0    40.0              10.0       NaN  ...   \n6   GB        1759          35.0    37.0              10.0       NaN  ...   \n7   GB        1810          35.0    36.0               9.0       NaN  ...   \n8   GB        1042          36.0    36.0              12.0       NaN  ...   \n9   GB        2000          35.0    40.0              11.0       NaN  ...   \n\n   liberal  plaid_cymru  reform_uk  scottish_national_party  \\\n0      NaN          1.0        5.0                      6.0   \n1      NaN          NaN        2.0                      4.0   \n2      NaN          1.0        5.0                      6.0   \n3      NaN          NaN        NaN                      5.0   \n4      NaN          1.0        NaN                      4.0   \n5      NaN          NaN        NaN                      4.0   \n6      NaN          1.0        4.0                      4.0   \n7      NaN          1.0        5.0                      4.0   \n8      NaN          1.0        3.0                      3.0   \n9      NaN          0.0        2.0                      4.0   \n\n   social_democratic_party  united_kingdom_independence_party  reclaim_party  \\\n0                      NaN                                NaN            NaN   \n1                      NaN                                NaN            NaN   \n2                      NaN                                NaN            NaN   \n3                      NaN                                NaN            NaN   \n4                      NaN                                NaN            NaN   \n5                      NaN                                NaN            NaN   \n6                      NaN                                NaN            NaN   \n7                      NaN                                NaN            NaN   \n8                      NaN                                1.0            NaN   \n9                      NaN                                NaN            NaN   \n\n   others     lead  lead_value  \n0     3.0  lab+4.0         4.0  \n1     5.0  lab+7.0         7.0  \n2     2.0  lab+2.0         2.0  \n3     7.0  lab+4.0         4.0  \n4     6.0  lab+2.0         2.0  \n5     6.0  lab+5.0         5.0  \n6     2.0  lab+2.0         2.0  \n7     3.0  lab+1.0         1.0  \n8     2.0      Tie         0.0  \n9     1.0  lab+5.0         5.0  \n\n[10 rows x 23 columns]",
      "text/html": "<div>\n<style scoped>\n    .dataframe tbody tr th:only-of-type {\n        vertical-align: middle;\n    }\n\n    .dataframe tbody tr th {\n        vertical-align: top;\n    }\n\n    .dataframe thead th {\n        text-align: right;\n    }\n</style>\n<table border=\"1\" class=\"dataframe\">\n  <thead>\n    <tr style=\"text-align: right;\">\n      <th></th>\n      <th>date_started</th>\n      <th>date_concluded</th>\n      <th>pollster</th>\n      <th>client</th>\n      <th>area</th>\n      <th>sample_size</th>\n      <th>conservative</th>\n      <th>labour</th>\n      <th>liberal_democrat</th>\n      <th>alliance</th>\n      <th>...</th>\n      <th>liberal</th>\n      <th>plaid_cymru</th>\n      <th>reform_uk</th>\n      <th>scottish_national_party</th>\n      <th>social_democratic_party</th>\n      <th>united_kingdom_independence_party</th>\n      <th>reclaim_party</th>\n      <th>others</th>\n      <th>lead</th>\n      <th>lead_value</th>\n    </tr>\n  </thead>\n  <tbody>\n    <tr>\n      <th>0</th>\n      <td>2022-03-29</td>\n      <td>2022-03-30</td>\n      <td>YouGov</td>\n      <td>The Times</td>\n      <td>GB</td>\n      <td>2006</td>\n      <td>33.0</td>\n      <td>37.0</td>\n      <td>9.0</td>\n      <td>NaN</td>\n      <td>...</td>\n      <td>NaN</td>\n      <td>1.0</td>\n      <td>5.0</td>\n      <td>6.0</td>\n      <td>NaN</td>\n      <td>NaN</td>\n      <td>NaN</td>\n      <td>3.0</td>\n      <td>lab+4.0</td>\n      <td>4.0</td>\n    </tr>\n    <tr>\n      <th>1</th>\n      <td>2022-03-28</td>\n      <td>2022-03-30</td>\n      <td>Survation</td>\n      <td>NaN</td>\n      <td>UK</td>\n      <td>2033</td>\n      <td>35.0</td>\n      <td>42.0</td>\n      <td>9.0</td>\n      <td>NaN</td>\n      <td>...</td>\n      <td>NaN</td>\n      <td>NaN</td>\n      <td>2.0</td>\n      <td>4.0</td>\n      <td>NaN</td>\n      <td>NaN</td>\n      <td>NaN</td>\n      <td>5.0</td>\n      <td>lab+7.0</td>\n      <td>7.0</td>\n    </tr>\n    <tr>\n      <th>2</th>\n      <td>2022-03-27</td>\n      <td>2022-03-27</td>\n      <td>Redfield &amp; Wilton Strategies</td>\n      <td>NaN</td>\n      <td>GB</td>\n      <td>2000</td>\n      <td>35.0</td>\n      <td>37.0</td>\n      <td>9.0</td>\n      <td>NaN</td>\n      <td>...</td>\n      <td>NaN</td>\n      <td>1.0</td>\n      <td>5.0</td>\n      <td>6.0</td>\n      <td>NaN</td>\n      <td>NaN</td>\n      <td>NaN</td>\n      <td>2.0</td>\n      <td>lab+2.0</td>\n      <td>2.0</td>\n    </tr>\n    <tr>\n      <th>3</th>\n      <td>2022-03-25</td>\n      <td>2022-03-27</td>\n      <td>Savanta ComRes</td>\n      <td>NaN</td>\n      <td>GB</td>\n      <td>2226</td>\n      <td>35.0</td>\n      <td>39.0</td>\n      <td>11.0</td>\n      <td>NaN</td>\n      <td>...</td>\n      <td>NaN</td>\n      <td>NaN</td>\n      <td>NaN</td>\n      <td>5.0</td>\n      <td>NaN</td>\n      <td>NaN</td>\n      <td>NaN</td>\n      <td>7.0</td>\n      <td>lab+4.0</td>\n      <td>4.0</td>\n    </tr>\n    <tr>\n      <th>4</th>\n      <td>2022-03-23</td>\n      <td>2022-03-25</td>\n      <td>Opinium</td>\n      <td>The Observer</td>\n      <td>GB</td>\n      <td>2002</td>\n      <td>36.0</td>\n      <td>38.0</td>\n      <td>9.0</td>\n      <td>NaN</td>\n      <td>...</td>\n      <td>NaN</td>\n      <td>1.0</td>\n      <td>NaN</td>\n      <td>4.0</td>\n      <td>NaN</td>\n      <td>NaN</td>\n      <td>NaN</td>\n      <td>6.0</td>\n      <td>lab+2.0</td>\n      <td>2.0</td>\n    </tr>\n    <tr>\n      <th>5</th>\n      <td>2022-03-23</td>\n      <td>2022-03-24</td>\n      <td>Techne UK</td>\n      <td>NaN</td>\n      <td>UK</td>\n      <td>1641</td>\n      <td>35.0</td>\n      <td>40.0</td>\n      <td>10.0</td>\n      <td>NaN</td>\n      <td>...</td>\n      <td>NaN</td>\n      <td>NaN</td>\n      <td>NaN</td>\n      <td>4.0</td>\n      <td>NaN</td>\n      <td>NaN</td>\n      <td>NaN</td>\n      <td>6.0</td>\n      <td>lab+5.0</td>\n      <td>5.0</td>\n    </tr>\n    <tr>\n      <th>6</th>\n      <td>2022-03-23</td>\n      <td>2022-03-24</td>\n      <td>YouGov</td>\n      <td>The Times</td>\n      <td>GB</td>\n      <td>1759</td>\n      <td>35.0</td>\n      <td>37.0</td>\n      <td>10.0</td>\n      <td>NaN</td>\n      <td>...</td>\n      <td>NaN</td>\n      <td>1.0</td>\n      <td>4.0</td>\n      <td>4.0</td>\n      <td>NaN</td>\n      <td>NaN</td>\n      <td>NaN</td>\n      <td>2.0</td>\n      <td>lab+2.0</td>\n      <td>2.0</td>\n    </tr>\n    <tr>\n      <th>7</th>\n      <td>2022-03-22</td>\n      <td>2022-03-23</td>\n      <td>YouGov</td>\n      <td>The Times</td>\n      <td>GB</td>\n      <td>1810</td>\n      <td>35.0</td>\n      <td>36.0</td>\n      <td>9.0</td>\n      <td>NaN</td>\n      <td>...</td>\n      <td>NaN</td>\n      <td>1.0</td>\n      <td>5.0</td>\n      <td>4.0</td>\n      <td>NaN</td>\n      <td>NaN</td>\n      <td>NaN</td>\n      <td>3.0</td>\n      <td>lab+1.0</td>\n      <td>1.0</td>\n    </tr>\n    <tr>\n      <th>8</th>\n      <td>2022-03-17</td>\n      <td>2022-03-21</td>\n      <td>Kantar Public</td>\n      <td>NaN</td>\n      <td>GB</td>\n      <td>1042</td>\n      <td>36.0</td>\n      <td>36.0</td>\n      <td>12.0</td>\n      <td>NaN</td>\n      <td>...</td>\n      <td>NaN</td>\n      <td>1.0</td>\n      <td>3.0</td>\n      <td>3.0</td>\n      <td>NaN</td>\n      <td>1.0</td>\n      <td>NaN</td>\n      <td>2.0</td>\n      <td>Tie</td>\n      <td>0.0</td>\n    </tr>\n    <tr>\n      <th>9</th>\n      <td>2022-03-20</td>\n      <td>2022-03-20</td>\n      <td>Redfield &amp; Wilton Strategies</td>\n      <td>NaN</td>\n      <td>GB</td>\n      <td>2000</td>\n      <td>35.0</td>\n      <td>40.0</td>\n      <td>11.0</td>\n      <td>NaN</td>\n      <td>...</td>\n      <td>NaN</td>\n      <td>0.0</td>\n      <td>2.0</td>\n      <td>4.0</td>\n      <td>NaN</td>\n      <td>NaN</td>\n      <td>NaN</td>\n      <td>1.0</td>\n      <td>lab+5.0</td>\n      <td>5.0</td>\n    </tr>\n  </tbody>\n</table>\n<p>10 rows × 23 columns</p>\n</div>"
     },
     "execution_count": 9,
     "metadata": {},
     "output_type": "execute_result"
    }
   ],
   "source": [
    "all_polls[0:10]"
   ],
   "metadata": {
    "collapsed": false,
    "pycharm": {
     "name": "#%%\n"
    }
   }
  },
  {
   "cell_type": "code",
   "execution_count": 9,
   "outputs": [],
   "source": [],
   "metadata": {
    "collapsed": false,
    "pycharm": {
     "name": "#%%\n"
    }
   }
  },
  {
   "cell_type": "code",
   "execution_count": 10,
   "outputs": [
    {
     "data": {
      "text/plain": "     date_concluded   pollster  conservative  labour  liberal_democrat  \\\n1        2022-03-30  Survation          35.0    42.0               9.0   \n20       2022-03-07  Survation          37.0    40.2               9.0   \n30       2022-02-21  Survation          35.0    42.0               9.0   \n53       2022-01-25  Survation          35.0    40.0              10.0   \n61       2022-01-17  Survation          33.0    43.0              10.0   \n...             ...        ...           ...     ...               ...   \n2196     2013-05-24  Survation          24.0    35.0              10.0   \n2203     2013-05-18  Survation          24.0    35.0              11.0   \n2224     2013-04-28  Survation          29.0    36.0              12.0   \n2319     2013-01-25  Survation          31.0    38.0              10.0   \n2342     2013-01-05  Survation          29.0    38.0              11.0   \n\n          lead  \n1      lab+7.0  \n20     lab+3.2  \n30     lab+7.0  \n53     lab+5.0  \n61    lab+10.0  \n...        ...  \n2196  lab+11.0  \n2203  lab+11.0  \n2224   lab+7.0  \n2319   lab+7.0  \n2342   lab+9.0  \n\n[148 rows x 6 columns]",
      "text/html": "<div>\n<style scoped>\n    .dataframe tbody tr th:only-of-type {\n        vertical-align: middle;\n    }\n\n    .dataframe tbody tr th {\n        vertical-align: top;\n    }\n\n    .dataframe thead th {\n        text-align: right;\n    }\n</style>\n<table border=\"1\" class=\"dataframe\">\n  <thead>\n    <tr style=\"text-align: right;\">\n      <th></th>\n      <th>date_concluded</th>\n      <th>pollster</th>\n      <th>conservative</th>\n      <th>labour</th>\n      <th>liberal_democrat</th>\n      <th>lead</th>\n    </tr>\n  </thead>\n  <tbody>\n    <tr>\n      <th>1</th>\n      <td>2022-03-30</td>\n      <td>Survation</td>\n      <td>35.0</td>\n      <td>42.0</td>\n      <td>9.0</td>\n      <td>lab+7.0</td>\n    </tr>\n    <tr>\n      <th>20</th>\n      <td>2022-03-07</td>\n      <td>Survation</td>\n      <td>37.0</td>\n      <td>40.2</td>\n      <td>9.0</td>\n      <td>lab+3.2</td>\n    </tr>\n    <tr>\n      <th>30</th>\n      <td>2022-02-21</td>\n      <td>Survation</td>\n      <td>35.0</td>\n      <td>42.0</td>\n      <td>9.0</td>\n      <td>lab+7.0</td>\n    </tr>\n    <tr>\n      <th>53</th>\n      <td>2022-01-25</td>\n      <td>Survation</td>\n      <td>35.0</td>\n      <td>40.0</td>\n      <td>10.0</td>\n      <td>lab+5.0</td>\n    </tr>\n    <tr>\n      <th>61</th>\n      <td>2022-01-17</td>\n      <td>Survation</td>\n      <td>33.0</td>\n      <td>43.0</td>\n      <td>10.0</td>\n      <td>lab+10.0</td>\n    </tr>\n    <tr>\n      <th>...</th>\n      <td>...</td>\n      <td>...</td>\n      <td>...</td>\n      <td>...</td>\n      <td>...</td>\n      <td>...</td>\n    </tr>\n    <tr>\n      <th>2196</th>\n      <td>2013-05-24</td>\n      <td>Survation</td>\n      <td>24.0</td>\n      <td>35.0</td>\n      <td>10.0</td>\n      <td>lab+11.0</td>\n    </tr>\n    <tr>\n      <th>2203</th>\n      <td>2013-05-18</td>\n      <td>Survation</td>\n      <td>24.0</td>\n      <td>35.0</td>\n      <td>11.0</td>\n      <td>lab+11.0</td>\n    </tr>\n    <tr>\n      <th>2224</th>\n      <td>2013-04-28</td>\n      <td>Survation</td>\n      <td>29.0</td>\n      <td>36.0</td>\n      <td>12.0</td>\n      <td>lab+7.0</td>\n    </tr>\n    <tr>\n      <th>2319</th>\n      <td>2013-01-25</td>\n      <td>Survation</td>\n      <td>31.0</td>\n      <td>38.0</td>\n      <td>10.0</td>\n      <td>lab+7.0</td>\n    </tr>\n    <tr>\n      <th>2342</th>\n      <td>2013-01-05</td>\n      <td>Survation</td>\n      <td>29.0</td>\n      <td>38.0</td>\n      <td>11.0</td>\n      <td>lab+9.0</td>\n    </tr>\n  </tbody>\n</table>\n<p>148 rows × 6 columns</p>\n</div>"
     },
     "execution_count": 10,
     "metadata": {},
     "output_type": "execute_result"
    }
   ],
   "source": [
    "all_polls.query(\"pollster=='Survation' \")[display_columns]"
   ],
   "metadata": {
    "collapsed": false,
    "pycharm": {
     "name": "#%%\n"
    }
   }
  },
  {
   "cell_type": "code",
   "execution_count": 11,
   "outputs": [
    {
     "data": {
      "text/plain": "     date_concluded pollster  conservative  labour  liberal_democrat     lead\n11       2022-03-17   YouGov          33.0    39.0              10.0  lab+6.0\n18       2022-03-09   YouGov          33.0    39.0              10.0  lab+6.0\n27       2022-02-25   YouGov          34.0    39.0               9.0  lab+5.0\n46       2022-02-02   YouGov          32.0    41.0              10.0  lab+9.0\n51       2022-01-27   YouGov          32.0    38.0              11.0  lab+6.0\n...             ...      ...           ...     ...               ...      ...\n3789     2005-07-28   YouGov          31.0    40.0              21.0  lab+9.0\n3793     2005-06-30   YouGov          33.0    38.0              20.0  lab+5.0\n3796     2005-05-26   YouGov          31.0    38.0              23.0  lab+7.0\n3865     2003-04-24   YouGov          32.0    40.0              21.0  lab+8.0\n3867     2003-03-27   YouGov          33.0    40.0              20.0  lab+7.0\n\n[712 rows x 6 columns]",
      "text/html": "<div>\n<style scoped>\n    .dataframe tbody tr th:only-of-type {\n        vertical-align: middle;\n    }\n\n    .dataframe tbody tr th {\n        vertical-align: top;\n    }\n\n    .dataframe thead th {\n        text-align: right;\n    }\n</style>\n<table border=\"1\" class=\"dataframe\">\n  <thead>\n    <tr style=\"text-align: right;\">\n      <th></th>\n      <th>date_concluded</th>\n      <th>pollster</th>\n      <th>conservative</th>\n      <th>labour</th>\n      <th>liberal_democrat</th>\n      <th>lead</th>\n    </tr>\n  </thead>\n  <tbody>\n    <tr>\n      <th>11</th>\n      <td>2022-03-17</td>\n      <td>YouGov</td>\n      <td>33.0</td>\n      <td>39.0</td>\n      <td>10.0</td>\n      <td>lab+6.0</td>\n    </tr>\n    <tr>\n      <th>18</th>\n      <td>2022-03-09</td>\n      <td>YouGov</td>\n      <td>33.0</td>\n      <td>39.0</td>\n      <td>10.0</td>\n      <td>lab+6.0</td>\n    </tr>\n    <tr>\n      <th>27</th>\n      <td>2022-02-25</td>\n      <td>YouGov</td>\n      <td>34.0</td>\n      <td>39.0</td>\n      <td>9.0</td>\n      <td>lab+5.0</td>\n    </tr>\n    <tr>\n      <th>46</th>\n      <td>2022-02-02</td>\n      <td>YouGov</td>\n      <td>32.0</td>\n      <td>41.0</td>\n      <td>10.0</td>\n      <td>lab+9.0</td>\n    </tr>\n    <tr>\n      <th>51</th>\n      <td>2022-01-27</td>\n      <td>YouGov</td>\n      <td>32.0</td>\n      <td>38.0</td>\n      <td>11.0</td>\n      <td>lab+6.0</td>\n    </tr>\n    <tr>\n      <th>...</th>\n      <td>...</td>\n      <td>...</td>\n      <td>...</td>\n      <td>...</td>\n      <td>...</td>\n      <td>...</td>\n    </tr>\n    <tr>\n      <th>3789</th>\n      <td>2005-07-28</td>\n      <td>YouGov</td>\n      <td>31.0</td>\n      <td>40.0</td>\n      <td>21.0</td>\n      <td>lab+9.0</td>\n    </tr>\n    <tr>\n      <th>3793</th>\n      <td>2005-06-30</td>\n      <td>YouGov</td>\n      <td>33.0</td>\n      <td>38.0</td>\n      <td>20.0</td>\n      <td>lab+5.0</td>\n    </tr>\n    <tr>\n      <th>3796</th>\n      <td>2005-05-26</td>\n      <td>YouGov</td>\n      <td>31.0</td>\n      <td>38.0</td>\n      <td>23.0</td>\n      <td>lab+7.0</td>\n    </tr>\n    <tr>\n      <th>3865</th>\n      <td>2003-04-24</td>\n      <td>YouGov</td>\n      <td>32.0</td>\n      <td>40.0</td>\n      <td>21.0</td>\n      <td>lab+8.0</td>\n    </tr>\n    <tr>\n      <th>3867</th>\n      <td>2003-03-27</td>\n      <td>YouGov</td>\n      <td>33.0</td>\n      <td>40.0</td>\n      <td>20.0</td>\n      <td>lab+7.0</td>\n    </tr>\n  </tbody>\n</table>\n<p>712 rows × 6 columns</p>\n</div>"
     },
     "execution_count": 11,
     "metadata": {},
     "output_type": "execute_result"
    }
   ],
   "source": [
    "all_polls.query(\"pollster=='YouGov' and lead_value>=5 and labour>conservative\")[display_columns]"
   ],
   "metadata": {
    "collapsed": false,
    "pycharm": {
     "name": "#%%\n"
    }
   }
  },
  {
   "cell_type": "code",
   "execution_count": 12,
   "outputs": [
    {
     "data": {
      "text/plain": "     date_concluded pollster  conservative  labour  liberal_democrat      lead\n66       2022-01-14  Opinium          31.0    41.0               9.0  lab+10.0\n94       2021-12-10  Opinium          32.0    41.0               9.0   lab+9.0\n332      2021-01-15  Opinium          37.0    41.0               6.0   lab+4.0\n368      2020-11-06  Opinium          38.0    42.0               7.0   lab+4.0\n392      2020-09-25  Opinium          39.0    42.0               5.0   lab+3.0\n908      2017-12-14  Opinium          39.0    41.0               7.0   lab+2.0\n921      2017-11-16  Opinium          40.0    42.0               6.0   lab+2.0\n931      2017-10-06  Opinium          40.0    42.0               5.0   lab+2.0\n942      2017-09-15  Opinium          41.0    41.0               5.0       Tie\n949      2017-08-18  Opinium          40.0    43.0               6.0   lab+3.0\n957      2017-07-14  Opinium          41.0    43.0               5.0   lab+2.0\n962      2017-06-29  Opinium          39.0    45.0               5.0   lab+6.0\n2289     2013-02-21  Opinium          29.0    41.0               8.0  lab+12.0\n2320     2013-01-24  Opinium          28.0    41.0               8.0  lab+13.0\n2336     2013-01-11  Opinium          31.0    41.0               7.0  lab+10.0\n2401     2012-11-01  Opinium          30.0    41.0               9.0  lab+11.0\n2429     2012-10-04  Opinium          30.0    41.0               9.0  lab+11.0\n2441     2012-09-21  Opinium          30.0    42.0               8.0  lab+12.0\n2459     2012-08-31  Opinium          31.0    42.0               8.0  lab+11.0\n2497     2012-07-16  Opinium          32.0    41.0               9.0   lab+9.0\n2511     2012-06-28  Opinium          31.0    42.0               8.0  lab+11.0\n2529     2012-06-11  Opinium          31.0    42.0               9.0  lab+11.0\n2548     2012-05-17  Opinium          30.0    41.0               9.0  lab+11.0",
      "text/html": "<div>\n<style scoped>\n    .dataframe tbody tr th:only-of-type {\n        vertical-align: middle;\n    }\n\n    .dataframe tbody tr th {\n        vertical-align: top;\n    }\n\n    .dataframe thead th {\n        text-align: right;\n    }\n</style>\n<table border=\"1\" class=\"dataframe\">\n  <thead>\n    <tr style=\"text-align: right;\">\n      <th></th>\n      <th>date_concluded</th>\n      <th>pollster</th>\n      <th>conservative</th>\n      <th>labour</th>\n      <th>liberal_democrat</th>\n      <th>lead</th>\n    </tr>\n  </thead>\n  <tbody>\n    <tr>\n      <th>66</th>\n      <td>2022-01-14</td>\n      <td>Opinium</td>\n      <td>31.0</td>\n      <td>41.0</td>\n      <td>9.0</td>\n      <td>lab+10.0</td>\n    </tr>\n    <tr>\n      <th>94</th>\n      <td>2021-12-10</td>\n      <td>Opinium</td>\n      <td>32.0</td>\n      <td>41.0</td>\n      <td>9.0</td>\n      <td>lab+9.0</td>\n    </tr>\n    <tr>\n      <th>332</th>\n      <td>2021-01-15</td>\n      <td>Opinium</td>\n      <td>37.0</td>\n      <td>41.0</td>\n      <td>6.0</td>\n      <td>lab+4.0</td>\n    </tr>\n    <tr>\n      <th>368</th>\n      <td>2020-11-06</td>\n      <td>Opinium</td>\n      <td>38.0</td>\n      <td>42.0</td>\n      <td>7.0</td>\n      <td>lab+4.0</td>\n    </tr>\n    <tr>\n      <th>392</th>\n      <td>2020-09-25</td>\n      <td>Opinium</td>\n      <td>39.0</td>\n      <td>42.0</td>\n      <td>5.0</td>\n      <td>lab+3.0</td>\n    </tr>\n    <tr>\n      <th>908</th>\n      <td>2017-12-14</td>\n      <td>Opinium</td>\n      <td>39.0</td>\n      <td>41.0</td>\n      <td>7.0</td>\n      <td>lab+2.0</td>\n    </tr>\n    <tr>\n      <th>921</th>\n      <td>2017-11-16</td>\n      <td>Opinium</td>\n      <td>40.0</td>\n      <td>42.0</td>\n      <td>6.0</td>\n      <td>lab+2.0</td>\n    </tr>\n    <tr>\n      <th>931</th>\n      <td>2017-10-06</td>\n      <td>Opinium</td>\n      <td>40.0</td>\n      <td>42.0</td>\n      <td>5.0</td>\n      <td>lab+2.0</td>\n    </tr>\n    <tr>\n      <th>942</th>\n      <td>2017-09-15</td>\n      <td>Opinium</td>\n      <td>41.0</td>\n      <td>41.0</td>\n      <td>5.0</td>\n      <td>Tie</td>\n    </tr>\n    <tr>\n      <th>949</th>\n      <td>2017-08-18</td>\n      <td>Opinium</td>\n      <td>40.0</td>\n      <td>43.0</td>\n      <td>6.0</td>\n      <td>lab+3.0</td>\n    </tr>\n    <tr>\n      <th>957</th>\n      <td>2017-07-14</td>\n      <td>Opinium</td>\n      <td>41.0</td>\n      <td>43.0</td>\n      <td>5.0</td>\n      <td>lab+2.0</td>\n    </tr>\n    <tr>\n      <th>962</th>\n      <td>2017-06-29</td>\n      <td>Opinium</td>\n      <td>39.0</td>\n      <td>45.0</td>\n      <td>5.0</td>\n      <td>lab+6.0</td>\n    </tr>\n    <tr>\n      <th>2289</th>\n      <td>2013-02-21</td>\n      <td>Opinium</td>\n      <td>29.0</td>\n      <td>41.0</td>\n      <td>8.0</td>\n      <td>lab+12.0</td>\n    </tr>\n    <tr>\n      <th>2320</th>\n      <td>2013-01-24</td>\n      <td>Opinium</td>\n      <td>28.0</td>\n      <td>41.0</td>\n      <td>8.0</td>\n      <td>lab+13.0</td>\n    </tr>\n    <tr>\n      <th>2336</th>\n      <td>2013-01-11</td>\n      <td>Opinium</td>\n      <td>31.0</td>\n      <td>41.0</td>\n      <td>7.0</td>\n      <td>lab+10.0</td>\n    </tr>\n    <tr>\n      <th>2401</th>\n      <td>2012-11-01</td>\n      <td>Opinium</td>\n      <td>30.0</td>\n      <td>41.0</td>\n      <td>9.0</td>\n      <td>lab+11.0</td>\n    </tr>\n    <tr>\n      <th>2429</th>\n      <td>2012-10-04</td>\n      <td>Opinium</td>\n      <td>30.0</td>\n      <td>41.0</td>\n      <td>9.0</td>\n      <td>lab+11.0</td>\n    </tr>\n    <tr>\n      <th>2441</th>\n      <td>2012-09-21</td>\n      <td>Opinium</td>\n      <td>30.0</td>\n      <td>42.0</td>\n      <td>8.0</td>\n      <td>lab+12.0</td>\n    </tr>\n    <tr>\n      <th>2459</th>\n      <td>2012-08-31</td>\n      <td>Opinium</td>\n      <td>31.0</td>\n      <td>42.0</td>\n      <td>8.0</td>\n      <td>lab+11.0</td>\n    </tr>\n    <tr>\n      <th>2497</th>\n      <td>2012-07-16</td>\n      <td>Opinium</td>\n      <td>32.0</td>\n      <td>41.0</td>\n      <td>9.0</td>\n      <td>lab+9.0</td>\n    </tr>\n    <tr>\n      <th>2511</th>\n      <td>2012-06-28</td>\n      <td>Opinium</td>\n      <td>31.0</td>\n      <td>42.0</td>\n      <td>8.0</td>\n      <td>lab+11.0</td>\n    </tr>\n    <tr>\n      <th>2529</th>\n      <td>2012-06-11</td>\n      <td>Opinium</td>\n      <td>31.0</td>\n      <td>42.0</td>\n      <td>9.0</td>\n      <td>lab+11.0</td>\n    </tr>\n    <tr>\n      <th>2548</th>\n      <td>2012-05-17</td>\n      <td>Opinium</td>\n      <td>30.0</td>\n      <td>41.0</td>\n      <td>9.0</td>\n      <td>lab+11.0</td>\n    </tr>\n  </tbody>\n</table>\n</div>"
     },
     "execution_count": 12,
     "metadata": {},
     "output_type": "execute_result"
    }
   ],
   "source": [
    "all_polls.query(\"pollster=='Opinium' and labour >= 41\")[display_columns]"
   ],
   "metadata": {
    "collapsed": false,
    "pycharm": {
     "name": "#%%\n"
    }
   }
  },
  {
   "cell_type": "code",
   "execution_count": 13,
   "outputs": [
    {
     "data": {
      "text/plain": "    date_concluded   pollster  conservative  labour  liberal_democrat  \\\n16      2022-03-11  Deltapoll          34.0    40.0              10.0   \n44      2022-02-04  Deltapoll          34.0    41.0              10.0   \n52      2022-01-27  Deltapoll          32.0    42.0              10.0   \n63      2022-01-16  Deltapoll          32.0    41.0              11.0   \n76      2021-12-30  Deltapoll          35.0    40.0              10.0   \n714     2019-03-30  Deltapoll          36.0    41.0               7.0   \n833     2018-07-14  Deltapoll          37.0    42.0               7.0   \n\n         lead  \n16    lab+6.0  \n44    lab+7.0  \n52   lab+10.0  \n63    lab+9.0  \n76    lab+5.0  \n714   lab+5.0  \n833   lab+5.0  ",
      "text/html": "<div>\n<style scoped>\n    .dataframe tbody tr th:only-of-type {\n        vertical-align: middle;\n    }\n\n    .dataframe tbody tr th {\n        vertical-align: top;\n    }\n\n    .dataframe thead th {\n        text-align: right;\n    }\n</style>\n<table border=\"1\" class=\"dataframe\">\n  <thead>\n    <tr style=\"text-align: right;\">\n      <th></th>\n      <th>date_concluded</th>\n      <th>pollster</th>\n      <th>conservative</th>\n      <th>labour</th>\n      <th>liberal_democrat</th>\n      <th>lead</th>\n    </tr>\n  </thead>\n  <tbody>\n    <tr>\n      <th>16</th>\n      <td>2022-03-11</td>\n      <td>Deltapoll</td>\n      <td>34.0</td>\n      <td>40.0</td>\n      <td>10.0</td>\n      <td>lab+6.0</td>\n    </tr>\n    <tr>\n      <th>44</th>\n      <td>2022-02-04</td>\n      <td>Deltapoll</td>\n      <td>34.0</td>\n      <td>41.0</td>\n      <td>10.0</td>\n      <td>lab+7.0</td>\n    </tr>\n    <tr>\n      <th>52</th>\n      <td>2022-01-27</td>\n      <td>Deltapoll</td>\n      <td>32.0</td>\n      <td>42.0</td>\n      <td>10.0</td>\n      <td>lab+10.0</td>\n    </tr>\n    <tr>\n      <th>63</th>\n      <td>2022-01-16</td>\n      <td>Deltapoll</td>\n      <td>32.0</td>\n      <td>41.0</td>\n      <td>11.0</td>\n      <td>lab+9.0</td>\n    </tr>\n    <tr>\n      <th>76</th>\n      <td>2021-12-30</td>\n      <td>Deltapoll</td>\n      <td>35.0</td>\n      <td>40.0</td>\n      <td>10.0</td>\n      <td>lab+5.0</td>\n    </tr>\n    <tr>\n      <th>714</th>\n      <td>2019-03-30</td>\n      <td>Deltapoll</td>\n      <td>36.0</td>\n      <td>41.0</td>\n      <td>7.0</td>\n      <td>lab+5.0</td>\n    </tr>\n    <tr>\n      <th>833</th>\n      <td>2018-07-14</td>\n      <td>Deltapoll</td>\n      <td>37.0</td>\n      <td>42.0</td>\n      <td>7.0</td>\n      <td>lab+5.0</td>\n    </tr>\n  </tbody>\n</table>\n</div>"
     },
     "execution_count": 13,
     "metadata": {},
     "output_type": "execute_result"
    }
   ],
   "source": [
    "all_polls.query(\"pollster=='Deltapoll' and lead_value>=5 and labour>conservative\")[display_columns]"
   ],
   "metadata": {
    "collapsed": false,
    "pycharm": {
     "name": "#%%\n"
    }
   }
  },
  {
   "cell_type": "code",
   "execution_count": 14,
   "outputs": [
    {
     "data": {
      "text/plain": "     date_concluded        pollster  conservative  labour  liberal_democrat  \\\n48       2022-01-30  Savanta ComRes          33.0    44.0               9.0   \n64       2022-01-14  Savanta ComRes          32.0    42.0              11.0   \n704      2019-04-16  Savanta ComRes          23.0    33.0               7.0   \n2198     2013-05-24  Savanta ComRes          26.0    37.0               9.0   \n2257     2013-03-24  Savanta ComRes          28.0    38.0              12.0   \n2287     2013-02-24  Savanta ComRes          31.0    43.0               8.0   \n2355     2012-12-16  Savanta ComRes          28.0    39.0               9.0   \n2523     2012-06-15  Savanta ComRes          32.0    42.0               9.0   \n2598     2012-03-26  Savanta ComRes          33.0    43.0              11.0   \n\n          lead  \n48    lab+11.0  \n64    lab+10.0  \n704   lab+10.0  \n2198  lab+11.0  \n2257  lab+10.0  \n2287  lab+12.0  \n2355  lab+11.0  \n2523  lab+10.0  \n2598  lab+10.0  ",
      "text/html": "<div>\n<style scoped>\n    .dataframe tbody tr th:only-of-type {\n        vertical-align: middle;\n    }\n\n    .dataframe tbody tr th {\n        vertical-align: top;\n    }\n\n    .dataframe thead th {\n        text-align: right;\n    }\n</style>\n<table border=\"1\" class=\"dataframe\">\n  <thead>\n    <tr style=\"text-align: right;\">\n      <th></th>\n      <th>date_concluded</th>\n      <th>pollster</th>\n      <th>conservative</th>\n      <th>labour</th>\n      <th>liberal_democrat</th>\n      <th>lead</th>\n    </tr>\n  </thead>\n  <tbody>\n    <tr>\n      <th>48</th>\n      <td>2022-01-30</td>\n      <td>Savanta ComRes</td>\n      <td>33.0</td>\n      <td>44.0</td>\n      <td>9.0</td>\n      <td>lab+11.0</td>\n    </tr>\n    <tr>\n      <th>64</th>\n      <td>2022-01-14</td>\n      <td>Savanta ComRes</td>\n      <td>32.0</td>\n      <td>42.0</td>\n      <td>11.0</td>\n      <td>lab+10.0</td>\n    </tr>\n    <tr>\n      <th>704</th>\n      <td>2019-04-16</td>\n      <td>Savanta ComRes</td>\n      <td>23.0</td>\n      <td>33.0</td>\n      <td>7.0</td>\n      <td>lab+10.0</td>\n    </tr>\n    <tr>\n      <th>2198</th>\n      <td>2013-05-24</td>\n      <td>Savanta ComRes</td>\n      <td>26.0</td>\n      <td>37.0</td>\n      <td>9.0</td>\n      <td>lab+11.0</td>\n    </tr>\n    <tr>\n      <th>2257</th>\n      <td>2013-03-24</td>\n      <td>Savanta ComRes</td>\n      <td>28.0</td>\n      <td>38.0</td>\n      <td>12.0</td>\n      <td>lab+10.0</td>\n    </tr>\n    <tr>\n      <th>2287</th>\n      <td>2013-02-24</td>\n      <td>Savanta ComRes</td>\n      <td>31.0</td>\n      <td>43.0</td>\n      <td>8.0</td>\n      <td>lab+12.0</td>\n    </tr>\n    <tr>\n      <th>2355</th>\n      <td>2012-12-16</td>\n      <td>Savanta ComRes</td>\n      <td>28.0</td>\n      <td>39.0</td>\n      <td>9.0</td>\n      <td>lab+11.0</td>\n    </tr>\n    <tr>\n      <th>2523</th>\n      <td>2012-06-15</td>\n      <td>Savanta ComRes</td>\n      <td>32.0</td>\n      <td>42.0</td>\n      <td>9.0</td>\n      <td>lab+10.0</td>\n    </tr>\n    <tr>\n      <th>2598</th>\n      <td>2012-03-26</td>\n      <td>Savanta ComRes</td>\n      <td>33.0</td>\n      <td>43.0</td>\n      <td>11.0</td>\n      <td>lab+10.0</td>\n    </tr>\n  </tbody>\n</table>\n</div>"
     },
     "execution_count": 14,
     "metadata": {},
     "output_type": "execute_result"
    }
   ],
   "source": [
    "all_polls.query(\"pollster=='Savanta ComRes' and lead_value>=10 and labour>conservative\")[display_columns]"
   ],
   "metadata": {
    "collapsed": false,
    "pycharm": {
     "name": "#%%\n"
    }
   }
  },
  {
   "cell_type": "code",
   "execution_count": 15,
   "outputs": [
    {
     "data": {
      "text/plain": "     date_concluded           pollster  conservative  labour  \\\n48       2022-01-30     Savanta ComRes          33.0    44.0   \n58       2022-01-23  JL Partners Polls          32.0    45.0   \n884      2018-03-08          Survation          37.0    44.0   \n914      2017-12-01          Survation          37.0    45.0   \n932      2017-10-05          Survation          38.0    44.0   \n...             ...                ...           ...     ...   \n5713     1971-01-17             Gallup          42.5    47.0   \n5714     1970-12-13             Gallup          46.0    44.5   \n5715     1970-11-15             Gallup          43.5    48.0   \n5716     1970-10-18             Gallup          46.5    46.5   \n5717     1970-09-13             Gallup          46.5    44.0   \n\n      liberal_democrat      lead  \n48                 9.0  lab+11.0  \n58                11.0  lab+13.0  \n884                9.0   lab+7.0  \n914                6.0   lab+8.0  \n932                7.0   lab+6.0  \n...                ...       ...  \n5713               NaN   lab+4.5  \n5714               NaN   con+1.5  \n5715               NaN   lab+4.5  \n5716               NaN       Tie  \n5717               NaN   con+2.5  \n\n[928 rows x 6 columns]",
      "text/html": "<div>\n<style scoped>\n    .dataframe tbody tr th:only-of-type {\n        vertical-align: middle;\n    }\n\n    .dataframe tbody tr th {\n        vertical-align: top;\n    }\n\n    .dataframe thead th {\n        text-align: right;\n    }\n</style>\n<table border=\"1\" class=\"dataframe\">\n  <thead>\n    <tr style=\"text-align: right;\">\n      <th></th>\n      <th>date_concluded</th>\n      <th>pollster</th>\n      <th>conservative</th>\n      <th>labour</th>\n      <th>liberal_democrat</th>\n      <th>lead</th>\n    </tr>\n  </thead>\n  <tbody>\n    <tr>\n      <th>48</th>\n      <td>2022-01-30</td>\n      <td>Savanta ComRes</td>\n      <td>33.0</td>\n      <td>44.0</td>\n      <td>9.0</td>\n      <td>lab+11.0</td>\n    </tr>\n    <tr>\n      <th>58</th>\n      <td>2022-01-23</td>\n      <td>JL Partners Polls</td>\n      <td>32.0</td>\n      <td>45.0</td>\n      <td>11.0</td>\n      <td>lab+13.0</td>\n    </tr>\n    <tr>\n      <th>884</th>\n      <td>2018-03-08</td>\n      <td>Survation</td>\n      <td>37.0</td>\n      <td>44.0</td>\n      <td>9.0</td>\n      <td>lab+7.0</td>\n    </tr>\n    <tr>\n      <th>914</th>\n      <td>2017-12-01</td>\n      <td>Survation</td>\n      <td>37.0</td>\n      <td>45.0</td>\n      <td>6.0</td>\n      <td>lab+8.0</td>\n    </tr>\n    <tr>\n      <th>932</th>\n      <td>2017-10-05</td>\n      <td>Survation</td>\n      <td>38.0</td>\n      <td>44.0</td>\n      <td>7.0</td>\n      <td>lab+6.0</td>\n    </tr>\n    <tr>\n      <th>...</th>\n      <td>...</td>\n      <td>...</td>\n      <td>...</td>\n      <td>...</td>\n      <td>...</td>\n      <td>...</td>\n    </tr>\n    <tr>\n      <th>5713</th>\n      <td>1971-01-17</td>\n      <td>Gallup</td>\n      <td>42.5</td>\n      <td>47.0</td>\n      <td>NaN</td>\n      <td>lab+4.5</td>\n    </tr>\n    <tr>\n      <th>5714</th>\n      <td>1970-12-13</td>\n      <td>Gallup</td>\n      <td>46.0</td>\n      <td>44.5</td>\n      <td>NaN</td>\n      <td>con+1.5</td>\n    </tr>\n    <tr>\n      <th>5715</th>\n      <td>1970-11-15</td>\n      <td>Gallup</td>\n      <td>43.5</td>\n      <td>48.0</td>\n      <td>NaN</td>\n      <td>lab+4.5</td>\n    </tr>\n    <tr>\n      <th>5716</th>\n      <td>1970-10-18</td>\n      <td>Gallup</td>\n      <td>46.5</td>\n      <td>46.5</td>\n      <td>NaN</td>\n      <td>Tie</td>\n    </tr>\n    <tr>\n      <th>5717</th>\n      <td>1970-09-13</td>\n      <td>Gallup</td>\n      <td>46.5</td>\n      <td>44.0</td>\n      <td>NaN</td>\n      <td>con+2.5</td>\n    </tr>\n  </tbody>\n</table>\n<p>928 rows × 6 columns</p>\n</div>"
     },
     "execution_count": 15,
     "metadata": {},
     "output_type": "execute_result"
    }
   ],
   "source": [
    "all_polls.query(\"labour>=44\")[display_columns]"
   ],
   "metadata": {
    "collapsed": false,
    "pycharm": {
     "name": "#%%\n"
    }
   }
  },
  {
   "cell_type": "code",
   "execution_count": 16,
   "outputs": [
    {
     "data": {
      "text/plain": "     date_concluded    pollster  conservative  labour  liberal_democrat  \\\n3904     2001-06-02  Ipsos MORI          27.0    50.0              17.0   \n3908     2001-06-01  Ipsos MORI          27.0    50.0              17.0   \n3916     2001-05-22  Ipsos MORI          27.0    52.0              16.0   \n3918     2001-05-20      Gallup          25.0    55.0              14.0   \n3920     2001-05-15  Ipsos MORI          28.0    54.0              12.0   \n...             ...         ...           ...     ...               ...   \n5704     1971-09-20      Gallup          35.0    54.0               NaN   \n5706     1971-07-12      Gallup          33.5    55.0               NaN   \n5707     1971-06-13      Gallup          36.0    54.0               NaN   \n5708     1971-05-16      Gallup          38.0    50.0               NaN   \n5711     1971-03-14      Gallup          38.5    50.5               NaN   \n\n          lead  green  \n3904  lab+23.0    NaN  \n3908  lab+23.0    NaN  \n3916  lab+25.0    NaN  \n3918  lab+30.0    NaN  \n3920  lab+26.0    NaN  \n...        ...    ...  \n5704  lab+19.0    NaN  \n5706  lab+21.5    NaN  \n5707  lab+18.0    NaN  \n5708  lab+12.0    NaN  \n5711  lab+12.0    NaN  \n\n[341 rows x 7 columns]",
      "text/html": "<div>\n<style scoped>\n    .dataframe tbody tr th:only-of-type {\n        vertical-align: middle;\n    }\n\n    .dataframe tbody tr th {\n        vertical-align: top;\n    }\n\n    .dataframe thead th {\n        text-align: right;\n    }\n</style>\n<table border=\"1\" class=\"dataframe\">\n  <thead>\n    <tr style=\"text-align: right;\">\n      <th></th>\n      <th>date_concluded</th>\n      <th>pollster</th>\n      <th>conservative</th>\n      <th>labour</th>\n      <th>liberal_democrat</th>\n      <th>lead</th>\n      <th>green</th>\n    </tr>\n  </thead>\n  <tbody>\n    <tr>\n      <th>3904</th>\n      <td>2001-06-02</td>\n      <td>Ipsos MORI</td>\n      <td>27.0</td>\n      <td>50.0</td>\n      <td>17.0</td>\n      <td>lab+23.0</td>\n      <td>NaN</td>\n    </tr>\n    <tr>\n      <th>3908</th>\n      <td>2001-06-01</td>\n      <td>Ipsos MORI</td>\n      <td>27.0</td>\n      <td>50.0</td>\n      <td>17.0</td>\n      <td>lab+23.0</td>\n      <td>NaN</td>\n    </tr>\n    <tr>\n      <th>3916</th>\n      <td>2001-05-22</td>\n      <td>Ipsos MORI</td>\n      <td>27.0</td>\n      <td>52.0</td>\n      <td>16.0</td>\n      <td>lab+25.0</td>\n      <td>NaN</td>\n    </tr>\n    <tr>\n      <th>3918</th>\n      <td>2001-05-20</td>\n      <td>Gallup</td>\n      <td>25.0</td>\n      <td>55.0</td>\n      <td>14.0</td>\n      <td>lab+30.0</td>\n      <td>NaN</td>\n    </tr>\n    <tr>\n      <th>3920</th>\n      <td>2001-05-15</td>\n      <td>Ipsos MORI</td>\n      <td>28.0</td>\n      <td>54.0</td>\n      <td>12.0</td>\n      <td>lab+26.0</td>\n      <td>NaN</td>\n    </tr>\n    <tr>\n      <th>...</th>\n      <td>...</td>\n      <td>...</td>\n      <td>...</td>\n      <td>...</td>\n      <td>...</td>\n      <td>...</td>\n      <td>...</td>\n    </tr>\n    <tr>\n      <th>5704</th>\n      <td>1971-09-20</td>\n      <td>Gallup</td>\n      <td>35.0</td>\n      <td>54.0</td>\n      <td>NaN</td>\n      <td>lab+19.0</td>\n      <td>NaN</td>\n    </tr>\n    <tr>\n      <th>5706</th>\n      <td>1971-07-12</td>\n      <td>Gallup</td>\n      <td>33.5</td>\n      <td>55.0</td>\n      <td>NaN</td>\n      <td>lab+21.5</td>\n      <td>NaN</td>\n    </tr>\n    <tr>\n      <th>5707</th>\n      <td>1971-06-13</td>\n      <td>Gallup</td>\n      <td>36.0</td>\n      <td>54.0</td>\n      <td>NaN</td>\n      <td>lab+18.0</td>\n      <td>NaN</td>\n    </tr>\n    <tr>\n      <th>5708</th>\n      <td>1971-05-16</td>\n      <td>Gallup</td>\n      <td>38.0</td>\n      <td>50.0</td>\n      <td>NaN</td>\n      <td>lab+12.0</td>\n      <td>NaN</td>\n    </tr>\n    <tr>\n      <th>5711</th>\n      <td>1971-03-14</td>\n      <td>Gallup</td>\n      <td>38.5</td>\n      <td>50.5</td>\n      <td>NaN</td>\n      <td>lab+12.0</td>\n      <td>NaN</td>\n    </tr>\n  </tbody>\n</table>\n<p>341 rows × 7 columns</p>\n</div>"
     },
     "execution_count": 16,
     "metadata": {},
     "output_type": "execute_result"
    }
   ],
   "source": [
    "all_polls.query(\"labour>=50\")[display_columns+['green']]"
   ],
   "metadata": {
    "collapsed": false,
    "pycharm": {
     "name": "#%%\n"
    }
   }
  },
  {
   "cell_type": "code",
   "execution_count": 17,
   "outputs": [
    {
     "data": {
      "text/plain": "     date_concluded                      pollster  conservative  labour  \\\n42       2022-02-07  Redfield & Wilton Strategies          32.0    42.0   \n48       2022-01-30                Savanta ComRes          33.0    44.0   \n52       2022-01-27                     Deltapoll          32.0    42.0   \n58       2022-01-23             JL Partners Polls          32.0    45.0   \n60       2022-01-17  Redfield & Wilton Strategies          30.0    43.0   \n...             ...                           ...           ...     ...   \n5704     1971-09-20                        Gallup          35.0    54.0   \n5706     1971-07-12                        Gallup          33.5    55.0   \n5707     1971-06-13                        Gallup          36.0    54.0   \n5708     1971-05-16                        Gallup          38.0    50.0   \n5711     1971-03-14                        Gallup          38.5    50.5   \n\n      liberal_democrat      lead  \n42                 9.0  lab+10.0  \n48                 9.0  lab+11.0  \n52                10.0  lab+10.0  \n58                11.0  lab+13.0  \n60                 9.0  lab+13.0  \n...                ...       ...  \n5704               NaN  lab+19.0  \n5706               NaN  lab+21.5  \n5707               NaN  lab+18.0  \n5708               NaN  lab+12.0  \n5711               NaN  lab+12.0  \n\n[969 rows x 6 columns]",
      "text/html": "<div>\n<style scoped>\n    .dataframe tbody tr th:only-of-type {\n        vertical-align: middle;\n    }\n\n    .dataframe tbody tr th {\n        vertical-align: top;\n    }\n\n    .dataframe thead th {\n        text-align: right;\n    }\n</style>\n<table border=\"1\" class=\"dataframe\">\n  <thead>\n    <tr style=\"text-align: right;\">\n      <th></th>\n      <th>date_concluded</th>\n      <th>pollster</th>\n      <th>conservative</th>\n      <th>labour</th>\n      <th>liberal_democrat</th>\n      <th>lead</th>\n    </tr>\n  </thead>\n  <tbody>\n    <tr>\n      <th>42</th>\n      <td>2022-02-07</td>\n      <td>Redfield &amp; Wilton Strategies</td>\n      <td>32.0</td>\n      <td>42.0</td>\n      <td>9.0</td>\n      <td>lab+10.0</td>\n    </tr>\n    <tr>\n      <th>48</th>\n      <td>2022-01-30</td>\n      <td>Savanta ComRes</td>\n      <td>33.0</td>\n      <td>44.0</td>\n      <td>9.0</td>\n      <td>lab+11.0</td>\n    </tr>\n    <tr>\n      <th>52</th>\n      <td>2022-01-27</td>\n      <td>Deltapoll</td>\n      <td>32.0</td>\n      <td>42.0</td>\n      <td>10.0</td>\n      <td>lab+10.0</td>\n    </tr>\n    <tr>\n      <th>58</th>\n      <td>2022-01-23</td>\n      <td>JL Partners Polls</td>\n      <td>32.0</td>\n      <td>45.0</td>\n      <td>11.0</td>\n      <td>lab+13.0</td>\n    </tr>\n    <tr>\n      <th>60</th>\n      <td>2022-01-17</td>\n      <td>Redfield &amp; Wilton Strategies</td>\n      <td>30.0</td>\n      <td>43.0</td>\n      <td>9.0</td>\n      <td>lab+13.0</td>\n    </tr>\n    <tr>\n      <th>...</th>\n      <td>...</td>\n      <td>...</td>\n      <td>...</td>\n      <td>...</td>\n      <td>...</td>\n      <td>...</td>\n    </tr>\n    <tr>\n      <th>5704</th>\n      <td>1971-09-20</td>\n      <td>Gallup</td>\n      <td>35.0</td>\n      <td>54.0</td>\n      <td>NaN</td>\n      <td>lab+19.0</td>\n    </tr>\n    <tr>\n      <th>5706</th>\n      <td>1971-07-12</td>\n      <td>Gallup</td>\n      <td>33.5</td>\n      <td>55.0</td>\n      <td>NaN</td>\n      <td>lab+21.5</td>\n    </tr>\n    <tr>\n      <th>5707</th>\n      <td>1971-06-13</td>\n      <td>Gallup</td>\n      <td>36.0</td>\n      <td>54.0</td>\n      <td>NaN</td>\n      <td>lab+18.0</td>\n    </tr>\n    <tr>\n      <th>5708</th>\n      <td>1971-05-16</td>\n      <td>Gallup</td>\n      <td>38.0</td>\n      <td>50.0</td>\n      <td>NaN</td>\n      <td>lab+12.0</td>\n    </tr>\n    <tr>\n      <th>5711</th>\n      <td>1971-03-14</td>\n      <td>Gallup</td>\n      <td>38.5</td>\n      <td>50.5</td>\n      <td>NaN</td>\n      <td>lab+12.0</td>\n    </tr>\n  </tbody>\n</table>\n<p>969 rows × 6 columns</p>\n</div>"
     },
     "execution_count": 17,
     "metadata": {},
     "output_type": "execute_result"
    }
   ],
   "source": [
    "all_polls.query(\"lead_value >= 10 and labour>conservative\")[display_columns]"
   ],
   "metadata": {
    "collapsed": false,
    "pycharm": {
     "name": "#%%\n"
    }
   }
  },
  {
   "cell_type": "code",
   "execution_count": 18,
   "outputs": [
    {
     "data": {
      "text/plain": "     date_started date_concluded                      pollster  \\\n0      2022-03-29     2022-03-30                        YouGov   \n1      2022-03-28     2022-03-30                     Survation   \n2      2022-03-27     2022-03-27  Redfield & Wilton Strategies   \n3      2022-03-25     2022-03-27                Savanta ComRes   \n4      2022-03-23     2022-03-25                       Opinium   \n...           ...            ...                           ...   \n5715   1970-11-15     1970-11-15                        Gallup   \n5716   1970-10-18     1970-10-18                        Gallup   \n5717   1970-09-13     1970-09-13                        Gallup   \n5718   1970-08-16     1970-08-16                        Gallup   \n5719   1970-06-18     1970-06-18              General Election   \n\n                     client area sample_size  conservative  labour  \\\n0                 The Times   GB        2006          33.0    37.0   \n1                       NaN   UK        2033          35.0    42.0   \n2                       NaN   GB        2000          35.0    37.0   \n3                       NaN   GB        2226          35.0    39.0   \n4              The Observer   GB        2002          36.0    38.0   \n...                     ...  ...         ...           ...     ...   \n5715    The Daily Telegraph  NaN         NaN          43.5    48.0   \n5716    The Daily Telegraph  NaN         NaN          46.5    46.5   \n5717    The Daily Telegraph  NaN         NaN          46.5    44.0   \n5718    The Daily Telegraph  NaN         NaN          47.0    43.5   \n5719  1970 general election  NaN         NaN          46.4    43.1   \n\n      liberal_democrat  alliance  ...  liberal  plaid_cymru  reform_uk  \\\n0                  9.0       NaN  ...      NaN          1.0        5.0   \n1                  9.0       NaN  ...      NaN          NaN        2.0   \n2                  9.0       NaN  ...      NaN          1.0        5.0   \n3                 11.0       NaN  ...      NaN          NaN        NaN   \n4                  9.0       NaN  ...      NaN          1.0        NaN   \n...                ...       ...  ...      ...          ...        ...   \n5715               NaN       NaN  ...      6.5          NaN        NaN   \n5716               NaN       NaN  ...      6.5          NaN        NaN   \n5717               NaN       NaN  ...      8.0          NaN        NaN   \n5718               NaN       NaN  ...      7.5          NaN        NaN   \n5719               NaN       NaN  ...      7.5          NaN        NaN   \n\n      scottish_national_party  social_democratic_party  \\\n0                         6.0                      NaN   \n1                         4.0                      NaN   \n2                         6.0                      NaN   \n3                         5.0                      NaN   \n4                         4.0                      NaN   \n...                       ...                      ...   \n5715                      NaN                      NaN   \n5716                      NaN                      NaN   \n5717                      NaN                      NaN   \n5718                      NaN                      NaN   \n5719                      NaN                      NaN   \n\n      united_kingdom_independence_party  reclaim_party  others     lead  \\\n0                                   NaN            NaN     3.0  lab+4.0   \n1                                   NaN            NaN     5.0  lab+7.0   \n2                                   NaN            NaN     2.0  lab+2.0   \n3                                   NaN            NaN     7.0  lab+4.0   \n4                                   NaN            NaN     6.0  lab+2.0   \n...                                 ...            ...     ...      ...   \n5715                                NaN            NaN     NaN  lab+4.5   \n5716                                NaN            NaN     NaN      Tie   \n5717                                NaN            NaN     NaN  con+2.5   \n5718                                NaN            NaN     NaN  con+3.5   \n5719                                NaN            NaN     NaN  con+3.3   \n\n      lead_value  \n0            4.0  \n1            7.0  \n2            2.0  \n3            4.0  \n4            2.0  \n...          ...  \n5715         4.5  \n5716         0.0  \n5717         2.5  \n5718         3.5  \n5719         3.3  \n\n[5720 rows x 23 columns]",
      "text/html": "<div>\n<style scoped>\n    .dataframe tbody tr th:only-of-type {\n        vertical-align: middle;\n    }\n\n    .dataframe tbody tr th {\n        vertical-align: top;\n    }\n\n    .dataframe thead th {\n        text-align: right;\n    }\n</style>\n<table border=\"1\" class=\"dataframe\">\n  <thead>\n    <tr style=\"text-align: right;\">\n      <th></th>\n      <th>date_started</th>\n      <th>date_concluded</th>\n      <th>pollster</th>\n      <th>client</th>\n      <th>area</th>\n      <th>sample_size</th>\n      <th>conservative</th>\n      <th>labour</th>\n      <th>liberal_democrat</th>\n      <th>alliance</th>\n      <th>...</th>\n      <th>liberal</th>\n      <th>plaid_cymru</th>\n      <th>reform_uk</th>\n      <th>scottish_national_party</th>\n      <th>social_democratic_party</th>\n      <th>united_kingdom_independence_party</th>\n      <th>reclaim_party</th>\n      <th>others</th>\n      <th>lead</th>\n      <th>lead_value</th>\n    </tr>\n  </thead>\n  <tbody>\n    <tr>\n      <th>0</th>\n      <td>2022-03-29</td>\n      <td>2022-03-30</td>\n      <td>YouGov</td>\n      <td>The Times</td>\n      <td>GB</td>\n      <td>2006</td>\n      <td>33.0</td>\n      <td>37.0</td>\n      <td>9.0</td>\n      <td>NaN</td>\n      <td>...</td>\n      <td>NaN</td>\n      <td>1.0</td>\n      <td>5.0</td>\n      <td>6.0</td>\n      <td>NaN</td>\n      <td>NaN</td>\n      <td>NaN</td>\n      <td>3.0</td>\n      <td>lab+4.0</td>\n      <td>4.0</td>\n    </tr>\n    <tr>\n      <th>1</th>\n      <td>2022-03-28</td>\n      <td>2022-03-30</td>\n      <td>Survation</td>\n      <td>NaN</td>\n      <td>UK</td>\n      <td>2033</td>\n      <td>35.0</td>\n      <td>42.0</td>\n      <td>9.0</td>\n      <td>NaN</td>\n      <td>...</td>\n      <td>NaN</td>\n      <td>NaN</td>\n      <td>2.0</td>\n      <td>4.0</td>\n      <td>NaN</td>\n      <td>NaN</td>\n      <td>NaN</td>\n      <td>5.0</td>\n      <td>lab+7.0</td>\n      <td>7.0</td>\n    </tr>\n    <tr>\n      <th>2</th>\n      <td>2022-03-27</td>\n      <td>2022-03-27</td>\n      <td>Redfield &amp; Wilton Strategies</td>\n      <td>NaN</td>\n      <td>GB</td>\n      <td>2000</td>\n      <td>35.0</td>\n      <td>37.0</td>\n      <td>9.0</td>\n      <td>NaN</td>\n      <td>...</td>\n      <td>NaN</td>\n      <td>1.0</td>\n      <td>5.0</td>\n      <td>6.0</td>\n      <td>NaN</td>\n      <td>NaN</td>\n      <td>NaN</td>\n      <td>2.0</td>\n      <td>lab+2.0</td>\n      <td>2.0</td>\n    </tr>\n    <tr>\n      <th>3</th>\n      <td>2022-03-25</td>\n      <td>2022-03-27</td>\n      <td>Savanta ComRes</td>\n      <td>NaN</td>\n      <td>GB</td>\n      <td>2226</td>\n      <td>35.0</td>\n      <td>39.0</td>\n      <td>11.0</td>\n      <td>NaN</td>\n      <td>...</td>\n      <td>NaN</td>\n      <td>NaN</td>\n      <td>NaN</td>\n      <td>5.0</td>\n      <td>NaN</td>\n      <td>NaN</td>\n      <td>NaN</td>\n      <td>7.0</td>\n      <td>lab+4.0</td>\n      <td>4.0</td>\n    </tr>\n    <tr>\n      <th>4</th>\n      <td>2022-03-23</td>\n      <td>2022-03-25</td>\n      <td>Opinium</td>\n      <td>The Observer</td>\n      <td>GB</td>\n      <td>2002</td>\n      <td>36.0</td>\n      <td>38.0</td>\n      <td>9.0</td>\n      <td>NaN</td>\n      <td>...</td>\n      <td>NaN</td>\n      <td>1.0</td>\n      <td>NaN</td>\n      <td>4.0</td>\n      <td>NaN</td>\n      <td>NaN</td>\n      <td>NaN</td>\n      <td>6.0</td>\n      <td>lab+2.0</td>\n      <td>2.0</td>\n    </tr>\n    <tr>\n      <th>...</th>\n      <td>...</td>\n      <td>...</td>\n      <td>...</td>\n      <td>...</td>\n      <td>...</td>\n      <td>...</td>\n      <td>...</td>\n      <td>...</td>\n      <td>...</td>\n      <td>...</td>\n      <td>...</td>\n      <td>...</td>\n      <td>...</td>\n      <td>...</td>\n      <td>...</td>\n      <td>...</td>\n      <td>...</td>\n      <td>...</td>\n      <td>...</td>\n      <td>...</td>\n      <td>...</td>\n    </tr>\n    <tr>\n      <th>5715</th>\n      <td>1970-11-15</td>\n      <td>1970-11-15</td>\n      <td>Gallup</td>\n      <td>The Daily Telegraph</td>\n      <td>NaN</td>\n      <td>NaN</td>\n      <td>43.5</td>\n      <td>48.0</td>\n      <td>NaN</td>\n      <td>NaN</td>\n      <td>...</td>\n      <td>6.5</td>\n      <td>NaN</td>\n      <td>NaN</td>\n      <td>NaN</td>\n      <td>NaN</td>\n      <td>NaN</td>\n      <td>NaN</td>\n      <td>NaN</td>\n      <td>lab+4.5</td>\n      <td>4.5</td>\n    </tr>\n    <tr>\n      <th>5716</th>\n      <td>1970-10-18</td>\n      <td>1970-10-18</td>\n      <td>Gallup</td>\n      <td>The Daily Telegraph</td>\n      <td>NaN</td>\n      <td>NaN</td>\n      <td>46.5</td>\n      <td>46.5</td>\n      <td>NaN</td>\n      <td>NaN</td>\n      <td>...</td>\n      <td>6.5</td>\n      <td>NaN</td>\n      <td>NaN</td>\n      <td>NaN</td>\n      <td>NaN</td>\n      <td>NaN</td>\n      <td>NaN</td>\n      <td>NaN</td>\n      <td>Tie</td>\n      <td>0.0</td>\n    </tr>\n    <tr>\n      <th>5717</th>\n      <td>1970-09-13</td>\n      <td>1970-09-13</td>\n      <td>Gallup</td>\n      <td>The Daily Telegraph</td>\n      <td>NaN</td>\n      <td>NaN</td>\n      <td>46.5</td>\n      <td>44.0</td>\n      <td>NaN</td>\n      <td>NaN</td>\n      <td>...</td>\n      <td>8.0</td>\n      <td>NaN</td>\n      <td>NaN</td>\n      <td>NaN</td>\n      <td>NaN</td>\n      <td>NaN</td>\n      <td>NaN</td>\n      <td>NaN</td>\n      <td>con+2.5</td>\n      <td>2.5</td>\n    </tr>\n    <tr>\n      <th>5718</th>\n      <td>1970-08-16</td>\n      <td>1970-08-16</td>\n      <td>Gallup</td>\n      <td>The Daily Telegraph</td>\n      <td>NaN</td>\n      <td>NaN</td>\n      <td>47.0</td>\n      <td>43.5</td>\n      <td>NaN</td>\n      <td>NaN</td>\n      <td>...</td>\n      <td>7.5</td>\n      <td>NaN</td>\n      <td>NaN</td>\n      <td>NaN</td>\n      <td>NaN</td>\n      <td>NaN</td>\n      <td>NaN</td>\n      <td>NaN</td>\n      <td>con+3.5</td>\n      <td>3.5</td>\n    </tr>\n    <tr>\n      <th>5719</th>\n      <td>1970-06-18</td>\n      <td>1970-06-18</td>\n      <td>General Election</td>\n      <td>1970 general election</td>\n      <td>NaN</td>\n      <td>NaN</td>\n      <td>46.4</td>\n      <td>43.1</td>\n      <td>NaN</td>\n      <td>NaN</td>\n      <td>...</td>\n      <td>7.5</td>\n      <td>NaN</td>\n      <td>NaN</td>\n      <td>NaN</td>\n      <td>NaN</td>\n      <td>NaN</td>\n      <td>NaN</td>\n      <td>NaN</td>\n      <td>con+3.3</td>\n      <td>3.3</td>\n    </tr>\n  </tbody>\n</table>\n<p>5720 rows × 23 columns</p>\n</div>"
     },
     "execution_count": 18,
     "metadata": {},
     "output_type": "execute_result"
    }
   ],
   "source": [
    "all_polls"
   ],
   "metadata": {
    "collapsed": false,
    "pycharm": {
     "name": "#%%\n"
    }
   }
  },
  {
   "cell_type": "code",
   "execution_count": 19,
   "outputs": [
    {
     "data": {
      "text/plain": "     date_concluded                      pollster  conservative  labour  \\\n1        2022-03-30                     Survation          35.0    42.0   \n24       2022-02-28      Number Cruncher Politics          35.0    42.0   \n26       2022-02-27                Savanta ComRes          34.0    42.0   \n30       2022-02-21                     Survation          35.0    42.0   \n42       2022-02-07  Redfield & Wilton Strategies          32.0    42.0   \n...             ...                           ...           ...     ...   \n5715     1970-11-15                        Gallup          43.5    48.0   \n5716     1970-10-18                        Gallup          46.5    46.5   \n5717     1970-09-13                        Gallup          46.5    44.0   \n5718     1970-08-16                        Gallup          47.0    43.5   \n5719     1970-06-18              General Election          46.4    43.1   \n\n      liberal_democrat      lead  \n1                  9.0   lab+7.0  \n24                 8.0   lab+7.0  \n26                 9.0   lab+8.0  \n30                 9.0   lab+7.0  \n42                 9.0  lab+10.0  \n...                ...       ...  \n5715               NaN   lab+4.5  \n5716               NaN       Tie  \n5717               NaN   con+2.5  \n5718               NaN   con+3.5  \n5719               NaN   con+3.3  \n\n[1500 rows x 6 columns]",
      "text/html": "<div>\n<style scoped>\n    .dataframe tbody tr th:only-of-type {\n        vertical-align: middle;\n    }\n\n    .dataframe tbody tr th {\n        vertical-align: top;\n    }\n\n    .dataframe thead th {\n        text-align: right;\n    }\n</style>\n<table border=\"1\" class=\"dataframe\">\n  <thead>\n    <tr style=\"text-align: right;\">\n      <th></th>\n      <th>date_concluded</th>\n      <th>pollster</th>\n      <th>conservative</th>\n      <th>labour</th>\n      <th>liberal_democrat</th>\n      <th>lead</th>\n    </tr>\n  </thead>\n  <tbody>\n    <tr>\n      <th>1</th>\n      <td>2022-03-30</td>\n      <td>Survation</td>\n      <td>35.0</td>\n      <td>42.0</td>\n      <td>9.0</td>\n      <td>lab+7.0</td>\n    </tr>\n    <tr>\n      <th>24</th>\n      <td>2022-02-28</td>\n      <td>Number Cruncher Politics</td>\n      <td>35.0</td>\n      <td>42.0</td>\n      <td>8.0</td>\n      <td>lab+7.0</td>\n    </tr>\n    <tr>\n      <th>26</th>\n      <td>2022-02-27</td>\n      <td>Savanta ComRes</td>\n      <td>34.0</td>\n      <td>42.0</td>\n      <td>9.0</td>\n      <td>lab+8.0</td>\n    </tr>\n    <tr>\n      <th>30</th>\n      <td>2022-02-21</td>\n      <td>Survation</td>\n      <td>35.0</td>\n      <td>42.0</td>\n      <td>9.0</td>\n      <td>lab+7.0</td>\n    </tr>\n    <tr>\n      <th>42</th>\n      <td>2022-02-07</td>\n      <td>Redfield &amp; Wilton Strategies</td>\n      <td>32.0</td>\n      <td>42.0</td>\n      <td>9.0</td>\n      <td>lab+10.0</td>\n    </tr>\n    <tr>\n      <th>...</th>\n      <td>...</td>\n      <td>...</td>\n      <td>...</td>\n      <td>...</td>\n      <td>...</td>\n      <td>...</td>\n    </tr>\n    <tr>\n      <th>5715</th>\n      <td>1970-11-15</td>\n      <td>Gallup</td>\n      <td>43.5</td>\n      <td>48.0</td>\n      <td>NaN</td>\n      <td>lab+4.5</td>\n    </tr>\n    <tr>\n      <th>5716</th>\n      <td>1970-10-18</td>\n      <td>Gallup</td>\n      <td>46.5</td>\n      <td>46.5</td>\n      <td>NaN</td>\n      <td>Tie</td>\n    </tr>\n    <tr>\n      <th>5717</th>\n      <td>1970-09-13</td>\n      <td>Gallup</td>\n      <td>46.5</td>\n      <td>44.0</td>\n      <td>NaN</td>\n      <td>con+2.5</td>\n    </tr>\n    <tr>\n      <th>5718</th>\n      <td>1970-08-16</td>\n      <td>Gallup</td>\n      <td>47.0</td>\n      <td>43.5</td>\n      <td>NaN</td>\n      <td>con+3.5</td>\n    </tr>\n    <tr>\n      <th>5719</th>\n      <td>1970-06-18</td>\n      <td>General Election</td>\n      <td>46.4</td>\n      <td>43.1</td>\n      <td>NaN</td>\n      <td>con+3.3</td>\n    </tr>\n  </tbody>\n</table>\n<p>1500 rows × 6 columns</p>\n</div>"
     },
     "execution_count": 19,
     "metadata": {},
     "output_type": "execute_result"
    }
   ],
   "source": [
    "all_polls.query(\"labour >= 42\")[display_columns]"
   ],
   "metadata": {
    "collapsed": false,
    "pycharm": {
     "name": "#%%\n"
    }
   }
  },
  {
   "cell_type": "code",
   "execution_count": 20,
   "outputs": [
    {
     "data": {
      "text/plain": "    date_concluded   pollster  conservative  labour  liberal_democrat     lead\n69      2022-01-13  FocalData          33.0    42.0              11.0  lab+9.0\n79      2021-12-21  FocalData          34.0    41.0               9.0  lab+7.0\n80      2021-12-21  FocalData          32.0    40.0              10.0  lab+8.0\n96      2021-12-09  FocalData          33.0    41.0               7.0  lab+8.0\n257     2021-04-30  FocalData          40.0    39.0               6.0  con+1.0\n340     2020-12-29  FocalData          36.0    38.0               9.0  lab+2.0\n519     2019-12-10  FocalData          42.0    34.0              14.0  con+8.0",
      "text/html": "<div>\n<style scoped>\n    .dataframe tbody tr th:only-of-type {\n        vertical-align: middle;\n    }\n\n    .dataframe tbody tr th {\n        vertical-align: top;\n    }\n\n    .dataframe thead th {\n        text-align: right;\n    }\n</style>\n<table border=\"1\" class=\"dataframe\">\n  <thead>\n    <tr style=\"text-align: right;\">\n      <th></th>\n      <th>date_concluded</th>\n      <th>pollster</th>\n      <th>conservative</th>\n      <th>labour</th>\n      <th>liberal_democrat</th>\n      <th>lead</th>\n    </tr>\n  </thead>\n  <tbody>\n    <tr>\n      <th>69</th>\n      <td>2022-01-13</td>\n      <td>FocalData</td>\n      <td>33.0</td>\n      <td>42.0</td>\n      <td>11.0</td>\n      <td>lab+9.0</td>\n    </tr>\n    <tr>\n      <th>79</th>\n      <td>2021-12-21</td>\n      <td>FocalData</td>\n      <td>34.0</td>\n      <td>41.0</td>\n      <td>9.0</td>\n      <td>lab+7.0</td>\n    </tr>\n    <tr>\n      <th>80</th>\n      <td>2021-12-21</td>\n      <td>FocalData</td>\n      <td>32.0</td>\n      <td>40.0</td>\n      <td>10.0</td>\n      <td>lab+8.0</td>\n    </tr>\n    <tr>\n      <th>96</th>\n      <td>2021-12-09</td>\n      <td>FocalData</td>\n      <td>33.0</td>\n      <td>41.0</td>\n      <td>7.0</td>\n      <td>lab+8.0</td>\n    </tr>\n    <tr>\n      <th>257</th>\n      <td>2021-04-30</td>\n      <td>FocalData</td>\n      <td>40.0</td>\n      <td>39.0</td>\n      <td>6.0</td>\n      <td>con+1.0</td>\n    </tr>\n    <tr>\n      <th>340</th>\n      <td>2020-12-29</td>\n      <td>FocalData</td>\n      <td>36.0</td>\n      <td>38.0</td>\n      <td>9.0</td>\n      <td>lab+2.0</td>\n    </tr>\n    <tr>\n      <th>519</th>\n      <td>2019-12-10</td>\n      <td>FocalData</td>\n      <td>42.0</td>\n      <td>34.0</td>\n      <td>14.0</td>\n      <td>con+8.0</td>\n    </tr>\n  </tbody>\n</table>\n</div>"
     },
     "execution_count": 20,
     "metadata": {},
     "output_type": "execute_result"
    }
   ],
   "source": [
    "all_polls.query(\"pollster == 'FocalData'\")[display_columns]"
   ],
   "metadata": {
    "collapsed": false,
    "pycharm": {
     "name": "#%%\n"
    }
   }
  },
  {
   "cell_type": "code",
   "execution_count": 20,
   "outputs": [],
   "source": [],
   "metadata": {
    "collapsed": false,
    "pycharm": {
     "name": "#%%\n"
    }
   }
  },
  {
   "cell_type": "code",
   "execution_count": 21,
   "outputs": [
    {
     "data": {
      "text/plain": "     date_concluded    pollster  conservative  labour  liberal_democrat  \\\n3904     2001-06-02  Ipsos MORI          27.0    50.0              17.0   \n3908     2001-06-01  Ipsos MORI          27.0    50.0              17.0   \n3916     2001-05-22  Ipsos MORI          27.0    52.0              16.0   \n3918     2001-05-20      Gallup          25.0    55.0              14.0   \n3920     2001-05-15  Ipsos MORI          28.0    54.0              12.0   \n...             ...         ...           ...     ...               ...   \n5704     1971-09-20      Gallup          35.0    54.0               NaN   \n5706     1971-07-12      Gallup          33.5    55.0               NaN   \n5707     1971-06-13      Gallup          36.0    54.0               NaN   \n5708     1971-05-16      Gallup          38.0    50.0               NaN   \n5711     1971-03-14      Gallup          38.5    50.5               NaN   \n\n          lead  \n3904  lab+23.0  \n3908  lab+23.0  \n3916  lab+25.0  \n3918  lab+30.0  \n3920  lab+26.0  \n...        ...  \n5704  lab+19.0  \n5706  lab+21.5  \n5707  lab+18.0  \n5708  lab+12.0  \n5711  lab+12.0  \n\n[341 rows x 6 columns]",
      "text/html": "<div>\n<style scoped>\n    .dataframe tbody tr th:only-of-type {\n        vertical-align: middle;\n    }\n\n    .dataframe tbody tr th {\n        vertical-align: top;\n    }\n\n    .dataframe thead th {\n        text-align: right;\n    }\n</style>\n<table border=\"1\" class=\"dataframe\">\n  <thead>\n    <tr style=\"text-align: right;\">\n      <th></th>\n      <th>date_concluded</th>\n      <th>pollster</th>\n      <th>conservative</th>\n      <th>labour</th>\n      <th>liberal_democrat</th>\n      <th>lead</th>\n    </tr>\n  </thead>\n  <tbody>\n    <tr>\n      <th>3904</th>\n      <td>2001-06-02</td>\n      <td>Ipsos MORI</td>\n      <td>27.0</td>\n      <td>50.0</td>\n      <td>17.0</td>\n      <td>lab+23.0</td>\n    </tr>\n    <tr>\n      <th>3908</th>\n      <td>2001-06-01</td>\n      <td>Ipsos MORI</td>\n      <td>27.0</td>\n      <td>50.0</td>\n      <td>17.0</td>\n      <td>lab+23.0</td>\n    </tr>\n    <tr>\n      <th>3916</th>\n      <td>2001-05-22</td>\n      <td>Ipsos MORI</td>\n      <td>27.0</td>\n      <td>52.0</td>\n      <td>16.0</td>\n      <td>lab+25.0</td>\n    </tr>\n    <tr>\n      <th>3918</th>\n      <td>2001-05-20</td>\n      <td>Gallup</td>\n      <td>25.0</td>\n      <td>55.0</td>\n      <td>14.0</td>\n      <td>lab+30.0</td>\n    </tr>\n    <tr>\n      <th>3920</th>\n      <td>2001-05-15</td>\n      <td>Ipsos MORI</td>\n      <td>28.0</td>\n      <td>54.0</td>\n      <td>12.0</td>\n      <td>lab+26.0</td>\n    </tr>\n    <tr>\n      <th>...</th>\n      <td>...</td>\n      <td>...</td>\n      <td>...</td>\n      <td>...</td>\n      <td>...</td>\n      <td>...</td>\n    </tr>\n    <tr>\n      <th>5704</th>\n      <td>1971-09-20</td>\n      <td>Gallup</td>\n      <td>35.0</td>\n      <td>54.0</td>\n      <td>NaN</td>\n      <td>lab+19.0</td>\n    </tr>\n    <tr>\n      <th>5706</th>\n      <td>1971-07-12</td>\n      <td>Gallup</td>\n      <td>33.5</td>\n      <td>55.0</td>\n      <td>NaN</td>\n      <td>lab+21.5</td>\n    </tr>\n    <tr>\n      <th>5707</th>\n      <td>1971-06-13</td>\n      <td>Gallup</td>\n      <td>36.0</td>\n      <td>54.0</td>\n      <td>NaN</td>\n      <td>lab+18.0</td>\n    </tr>\n    <tr>\n      <th>5708</th>\n      <td>1971-05-16</td>\n      <td>Gallup</td>\n      <td>38.0</td>\n      <td>50.0</td>\n      <td>NaN</td>\n      <td>lab+12.0</td>\n    </tr>\n    <tr>\n      <th>5711</th>\n      <td>1971-03-14</td>\n      <td>Gallup</td>\n      <td>38.5</td>\n      <td>50.5</td>\n      <td>NaN</td>\n      <td>lab+12.0</td>\n    </tr>\n  </tbody>\n</table>\n<p>341 rows × 6 columns</p>\n</div>"
     },
     "execution_count": 21,
     "metadata": {},
     "output_type": "execute_result"
    }
   ],
   "source": [
    "all_polls.query(\"labour >= 50\")[display_columns]"
   ],
   "metadata": {
    "collapsed": false,
    "pycharm": {
     "name": "#%%\n"
    }
   }
  },
  {
   "cell_type": "code",
   "execution_count": 22,
   "outputs": [],
   "source": [
    "#all_polls.query(\"pollster == 'YouGov' and conservative <31\")[display_columns]"
   ],
   "metadata": {
    "collapsed": false,
    "pycharm": {
     "name": "#%%\n"
    }
   }
  },
  {
   "cell_type": "code",
   "execution_count": 22,
   "outputs": [],
   "source": [],
   "metadata": {
    "collapsed": false,
    "pycharm": {
     "name": "#%%\n"
    }
   }
  },
  {
   "cell_type": "code",
   "execution_count": 23,
   "outputs": [],
   "source": [
    "most_recent_date = all_polls.iloc[0].date_concluded\n",
    "one_year_polls = all_polls[\n",
    "    all_polls['date_concluded'] >= (most_recent_date + relativedelta(months=-12)).replace(day=1)].copy()"
   ],
   "metadata": {
    "collapsed": false,
    "pycharm": {
     "name": "#%%\n"
    }
   }
  },
  {
   "cell_type": "code",
   "execution_count": 23,
   "outputs": [],
   "source": [],
   "metadata": {
    "collapsed": false,
    "pycharm": {
     "name": "#%%\n"
    }
   }
  },
  {
   "cell_type": "code",
   "execution_count": 24,
   "outputs": [],
   "source": [
    "pollsters_latest = pd.DataFrame()\n",
    "for pollster in one_year_polls.pollster.unique():\n",
    "    pollster_data = one_year_polls.query(f'pollster == \"{pollster}\"')\n",
    "    latest_poll = pollster_data.iloc[0]\n",
    "    pollsters_latest = pollsters_latest.append(latest_poll)"
   ],
   "metadata": {
    "collapsed": false,
    "pycharm": {
     "name": "#%%\n"
    }
   }
  },
  {
   "cell_type": "code",
   "execution_count": 25,
   "outputs": [],
   "source": [
    "top_five = {'Ipsos MORI': 100,\n",
    "            'Opinium': 79,\n",
    "            'YouGov': 77,\n",
    "            'Kantar Public': 69,\n",
    "            'Number Cruncher Politics': 61,\n",
    "            'Survation': 59,\n",
    "            'Panelbase': 57,\n",
    "            'Deltapoll': 46,\n",
    "            'BMG Research': 44,\n",
    "            'FocalData': 39,\n",
    "            'ICM Research': 35,\n",
    "            'Savanta ComRes': 34,\n",
    "            'Find Out Now': 34,\n",
    "            'Redfield & Wilton Strategies': 34,\n",
    "            'Techne UK': 34,\n",
    "            }\n",
    "\n",
    "top_two = {'Ipsos MORI': 100,\n",
    "           'Survation': 85,\n",
    "           'Kantar Public': 85,\n",
    "           'Panelbase': 74,\n",
    "           'Number Cruncher Politics': 71,\n",
    "           'Opinium': 71,\n",
    "           'YouGov': 67,\n",
    "           'Deltapoll': 50,\n",
    "           'FocalData': 42,\n",
    "           'BMG Research': 39,\n",
    "           'Savanta ComRes': 29,\n",
    "           'ICM Research': 27,\n",
    "           'Find Out Now': 34,\n",
    "           'Redfield & Wilton Strategies': 34,\n",
    "           'Techne UK': 34,\n",
    "           }"
   ],
   "metadata": {
    "collapsed": false,
    "pycharm": {
     "name": "#%%\n"
    }
   }
  },
  {
   "cell_type": "code",
   "execution_count": 26,
   "outputs": [],
   "source": [
    "recency_weights = {\n",
    "    -1: 100,\n",
    "    7: 100,\n",
    "    15: 70,\n",
    "    30: 5,\n",
    "    90: 0\n",
    "}\n",
    "\n",
    "\n",
    "def get_recency_weight(date_concluded, current_date, return_category=False):\n",
    "    days_since_poll = (current_date - date_concluded).days\n",
    "    days_start_of_range = weight_start_of_range = 0\n",
    "    category = 0\n",
    "    for day, weight in recency_weights.items():\n",
    "        category += 1\n",
    "        if days_since_poll > day:\n",
    "            days_start_of_range = day\n",
    "            weight_start_of_range = weight\n",
    "        else:\n",
    "            percent_through_range = (days_since_poll - days_start_of_range)/(day - days_start_of_range)\n",
    "            full_weight = weight_start_of_range - ((weight_start_of_range - weight)*percent_through_range)\n",
    "            if return_category:\n",
    "                return category - 2\n",
    "            else:\n",
    "                return full_weight\n",
    "    if return_category:\n",
    "        return category - 1\n",
    "    else:\n",
    "        return 0\n"
   ],
   "metadata": {
    "collapsed": false,
    "pycharm": {
     "name": "#%%\n"
    }
   }
  },
  {
   "cell_type": "code",
   "execution_count": 27,
   "outputs": [],
   "source": [
    "def get_pollster_weight(pollster):\n",
    "    if pollster not in top_two:\n",
    "        return 0\n",
    "    top_five_score = top_five[pollster]\n",
    "    top_two_score = top_two[pollster]\n",
    "    pollster_w = (3*top_two_score + 2*top_five_score + 100)/6\n",
    "    return pollster_w\n"
   ],
   "metadata": {
    "collapsed": false,
    "pycharm": {
     "name": "#%%\n"
    }
   }
  },
  {
   "cell_type": "code",
   "execution_count": 28,
   "outputs": [
    {
     "name": "stdout",
     "output_type": "stream",
     "text": [
      " YouGov                        : 75.8\n",
      " Survation                     : 78.8\n",
      " Redfield & Wilton Strategies  : 45.0\n",
      " Savanta ComRes                : 42.5\n",
      " Opinium                       : 78.5\n",
      " Techne UK                     : 45.0\n",
      " Kantar Public                 : 82.2\n",
      " Ipsos MORI                    : 100.0\n",
      " Deltapoll                     : 57.0\n",
      " Number Cruncher Politics      : 72.5\n",
      " Find Out Now                  : 45.0\n",
      " JL Partners Polls             : 0.0\n",
      " FocalData                     : 50.7\n",
      " Panelbase                     : 72.7\n",
      " BMG Research                  : 50.8\n"
     ]
    }
   ],
   "source": [
    "for pollster in one_year_polls.pollster.unique():\n",
    "    print(f' {pollster:30s}: {get_pollster_weight(pollster):.1f}')"
   ],
   "metadata": {
    "collapsed": false,
    "pycharm": {
     "name": "#%%\n"
    }
   }
  },
  {
   "cell_type": "code",
   "execution_count": 29,
   "outputs": [],
   "source": [
    "from scripts.constants import major_parties"
   ],
   "metadata": {
    "collapsed": false,
    "pycharm": {
     "name": "#%%\n"
    }
   }
  },
  {
   "cell_type": "code",
   "execution_count": 30,
   "outputs": [],
   "source": [
    "pollsters_latest['recency_weight'] = pollsters_latest['date_concluded'].apply(get_recency_weight,\n",
    "                                                                              current_date=most_recent_date)\n",
    "pollsters_latest['pollster_weight'] = pollsters_latest['pollster'].apply(get_pollster_weight)\n",
    "pollsters_latest['poll_weight'] = pollsters_latest['pollster_weight']*(pollsters_latest['recency_weight']/100)"
   ],
   "metadata": {
    "collapsed": false,
    "pycharm": {
     "name": "#%%\n"
    }
   }
  },
  {
   "cell_type": "code",
   "execution_count": 31,
   "outputs": [],
   "source": [
    "current_average = pd.DataFrame(columns=major_parties + ['lead'], index=['Polling Average'])\n",
    "lead_party = ''\n",
    "max_vote_share = 0\n",
    "second_vote_share = 0\n",
    "for party in major_parties:\n",
    "    party_vote_share = pollsters_latest[party].dot(pollsters_latest['poll_weight'])/pollsters_latest[\n",
    "        'poll_weight'].sum()\n",
    "    if party_vote_share > max_vote_share:\n",
    "        second_vote_share = max_vote_share\n",
    "        max_vote_share = party_vote_share\n",
    "        lead_party = party\n",
    "    else:\n",
    "        if party_vote_share > second_vote_share:\n",
    "            second_vote_share = party_vote_share\n",
    "    current_average.loc['Polling Average', party] = party_vote_share\n",
    "    #current_average.loc['Polling Average', party] = f'{party_vote_share:.1f}%'\n",
    "#current_average.loc['Polling Average', 'lead'] = f'{lead_party:.3s}+{max_vote_share - second_vote_share:.1f}%'\n",
    "current_average.loc['Polling Average', 'lead_value'] = max_vote_share - second_vote_share\n"
   ],
   "metadata": {
    "collapsed": false,
    "pycharm": {
     "name": "#%%\n"
    }
   }
  },
  {
   "cell_type": "code",
   "execution_count": 32,
   "outputs": [],
   "source": [
    "one_year_polls['poll_month'] = one_year_polls['date_concluded'].apply(lambda x: x.replace(day=1))"
   ],
   "metadata": {
    "collapsed": false,
    "pycharm": {
     "name": "#%%\n"
    }
   }
  },
  {
   "cell_type": "code",
   "execution_count": 33,
   "outputs": [],
   "source": [
    "pollster_monthly_summary = one_year_polls.groupby(['poll_month', 'pollster'])[major_parties].agg(['mean', 'count'])\n",
    "pollster_monthly_summary.columns = [x if i == 0 else f'count{major_parties.index(x)}' for x in major_parties for i in\n",
    "                                    range(0, 2)]\n",
    "pollster_monthly_summary.drop(columns=[f'count{major_parties.index(x)}' for x in major_parties][1:], inplace=True)\n",
    "pollster_monthly_summary.rename(columns={\"count0\": \"count\"}, inplace=True)\n",
    "\n",
    "agg_info = {x: ['mean'] for x in major_parties}\n",
    "agg_info['count'] = ['count', 'sum']\n",
    "monthly_summary = pollster_monthly_summary.reset_index().groupby(['poll_month']).agg(agg_info)\n",
    "monthly_summary.columns = major_parties + ['pollster_count', 'poll_count']"
   ],
   "metadata": {
    "collapsed": false,
    "pycharm": {
     "name": "#%%\n"
    }
   }
  },
  {
   "cell_type": "code",
   "execution_count": 33,
   "outputs": [],
   "source": [],
   "metadata": {
    "collapsed": false,
    "pycharm": {
     "name": "#%%\n"
    }
   }
  },
  {
   "cell_type": "code",
   "execution_count": 34,
   "outputs": [],
   "source": [
    "from scripts.functions import format_lead\n",
    "\n",
    "monthly_summary[['lead', 'lead_value']] = monthly_summary.apply(format_lead, axis=1, result_type='expand')"
   ],
   "metadata": {
    "collapsed": false,
    "pycharm": {
     "name": "#%%\n"
    }
   }
  },
  {
   "cell_type": "code",
   "execution_count": 34,
   "outputs": [],
   "source": [],
   "metadata": {
    "collapsed": false,
    "pycharm": {
     "name": "#%%\n"
    }
   }
  },
  {
   "cell_type": "code",
   "execution_count": 35,
   "outputs": [
    {
     "data": {
      "text/plain": "    date_concluded                      pollster  conservative  labour  \\\n1       2022-03-30                     Survation          35.0    42.0   \n4       2022-03-25                       Opinium          36.0    38.0   \n8       2022-03-21                 Kantar Public          36.0    36.0   \n0       2022-03-30                        YouGov          33.0    37.0   \n12      2022-03-16                    Ipsos MORI          35.0    39.0   \n2       2022-03-27  Redfield & Wilton Strategies          35.0    37.0   \n5       2022-03-24                     Techne UK          35.0    40.0   \n3       2022-03-27                Savanta ComRes          35.0    39.0   \n16      2022-03-11                     Deltapoll          34.0    40.0   \n24      2022-02-28      Number Cruncher Politics          35.0    42.0   \n34      2022-02-18                  Find Out Now          32.0    38.0   \n69      2022-01-13                     FocalData          33.0    42.0   \n58      2022-01-23             JL Partners Polls          32.0    45.0   \n113     2021-11-19                     Panelbase          38.0    39.0   \n263     2021-04-26                  BMG Research          39.0    35.0   \n\n     liberal_democrat      lead  \n1                 9.0   lab+7.0  \n4                 9.0   lab+2.0  \n8                12.0       Tie  \n0                 9.0   lab+4.0  \n12               10.0   lab+4.0  \n2                 9.0   lab+2.0  \n5                10.0   lab+5.0  \n3                11.0   lab+4.0  \n16               10.0   lab+6.0  \n24                8.0   lab+7.0  \n34               13.0   lab+6.0  \n69               11.0   lab+9.0  \n58               11.0  lab+13.0  \n113               9.0   lab+1.0  \n263               9.0   con+4.0  ",
      "text/html": "<div>\n<style scoped>\n    .dataframe tbody tr th:only-of-type {\n        vertical-align: middle;\n    }\n\n    .dataframe tbody tr th {\n        vertical-align: top;\n    }\n\n    .dataframe thead th {\n        text-align: right;\n    }\n</style>\n<table border=\"1\" class=\"dataframe\">\n  <thead>\n    <tr style=\"text-align: right;\">\n      <th></th>\n      <th>date_concluded</th>\n      <th>pollster</th>\n      <th>conservative</th>\n      <th>labour</th>\n      <th>liberal_democrat</th>\n      <th>lead</th>\n    </tr>\n  </thead>\n  <tbody>\n    <tr>\n      <th>1</th>\n      <td>2022-03-30</td>\n      <td>Survation</td>\n      <td>35.0</td>\n      <td>42.0</td>\n      <td>9.0</td>\n      <td>lab+7.0</td>\n    </tr>\n    <tr>\n      <th>4</th>\n      <td>2022-03-25</td>\n      <td>Opinium</td>\n      <td>36.0</td>\n      <td>38.0</td>\n      <td>9.0</td>\n      <td>lab+2.0</td>\n    </tr>\n    <tr>\n      <th>8</th>\n      <td>2022-03-21</td>\n      <td>Kantar Public</td>\n      <td>36.0</td>\n      <td>36.0</td>\n      <td>12.0</td>\n      <td>Tie</td>\n    </tr>\n    <tr>\n      <th>0</th>\n      <td>2022-03-30</td>\n      <td>YouGov</td>\n      <td>33.0</td>\n      <td>37.0</td>\n      <td>9.0</td>\n      <td>lab+4.0</td>\n    </tr>\n    <tr>\n      <th>12</th>\n      <td>2022-03-16</td>\n      <td>Ipsos MORI</td>\n      <td>35.0</td>\n      <td>39.0</td>\n      <td>10.0</td>\n      <td>lab+4.0</td>\n    </tr>\n    <tr>\n      <th>2</th>\n      <td>2022-03-27</td>\n      <td>Redfield &amp; Wilton Strategies</td>\n      <td>35.0</td>\n      <td>37.0</td>\n      <td>9.0</td>\n      <td>lab+2.0</td>\n    </tr>\n    <tr>\n      <th>5</th>\n      <td>2022-03-24</td>\n      <td>Techne UK</td>\n      <td>35.0</td>\n      <td>40.0</td>\n      <td>10.0</td>\n      <td>lab+5.0</td>\n    </tr>\n    <tr>\n      <th>3</th>\n      <td>2022-03-27</td>\n      <td>Savanta ComRes</td>\n      <td>35.0</td>\n      <td>39.0</td>\n      <td>11.0</td>\n      <td>lab+4.0</td>\n    </tr>\n    <tr>\n      <th>16</th>\n      <td>2022-03-11</td>\n      <td>Deltapoll</td>\n      <td>34.0</td>\n      <td>40.0</td>\n      <td>10.0</td>\n      <td>lab+6.0</td>\n    </tr>\n    <tr>\n      <th>24</th>\n      <td>2022-02-28</td>\n      <td>Number Cruncher Politics</td>\n      <td>35.0</td>\n      <td>42.0</td>\n      <td>8.0</td>\n      <td>lab+7.0</td>\n    </tr>\n    <tr>\n      <th>34</th>\n      <td>2022-02-18</td>\n      <td>Find Out Now</td>\n      <td>32.0</td>\n      <td>38.0</td>\n      <td>13.0</td>\n      <td>lab+6.0</td>\n    </tr>\n    <tr>\n      <th>69</th>\n      <td>2022-01-13</td>\n      <td>FocalData</td>\n      <td>33.0</td>\n      <td>42.0</td>\n      <td>11.0</td>\n      <td>lab+9.0</td>\n    </tr>\n    <tr>\n      <th>58</th>\n      <td>2022-01-23</td>\n      <td>JL Partners Polls</td>\n      <td>32.0</td>\n      <td>45.0</td>\n      <td>11.0</td>\n      <td>lab+13.0</td>\n    </tr>\n    <tr>\n      <th>113</th>\n      <td>2021-11-19</td>\n      <td>Panelbase</td>\n      <td>38.0</td>\n      <td>39.0</td>\n      <td>9.0</td>\n      <td>lab+1.0</td>\n    </tr>\n    <tr>\n      <th>263</th>\n      <td>2021-04-26</td>\n      <td>BMG Research</td>\n      <td>39.0</td>\n      <td>35.0</td>\n      <td>9.0</td>\n      <td>con+4.0</td>\n    </tr>\n  </tbody>\n</table>\n</div>"
     },
     "metadata": {},
     "output_type": "display_data"
    },
    {
     "data": {
      "text/plain": "                conservative     labour liberal_democrat lead  lead_value\nPolling Average    34.938372  38.590439         9.846442  NaN    3.652067",
      "text/html": "<div>\n<style scoped>\n    .dataframe tbody tr th:only-of-type {\n        vertical-align: middle;\n    }\n\n    .dataframe tbody tr th {\n        vertical-align: top;\n    }\n\n    .dataframe thead th {\n        text-align: right;\n    }\n</style>\n<table border=\"1\" class=\"dataframe\">\n  <thead>\n    <tr style=\"text-align: right;\">\n      <th></th>\n      <th>conservative</th>\n      <th>labour</th>\n      <th>liberal_democrat</th>\n      <th>lead</th>\n      <th>lead_value</th>\n    </tr>\n  </thead>\n  <tbody>\n    <tr>\n      <th>Polling Average</th>\n      <td>34.938372</td>\n      <td>38.590439</td>\n      <td>9.846442</td>\n      <td>NaN</td>\n      <td>3.652067</td>\n    </tr>\n  </tbody>\n</table>\n</div>"
     },
     "metadata": {},
     "output_type": "display_data"
    },
    {
     "data": {
      "text/plain": "            conservative     labour  liberal_democrat  pollster_count  \\\npoll_month                                                              \n2022-03-01     35.129630  38.761111          9.842593               9   \n2022-02-01     33.725000  39.850000         10.300000              10   \n2022-01-01     31.969444  40.513889         10.919444              12   \n2021-12-01     33.484848  38.340909         10.159091              11   \n2021-11-01     37.066667  36.575000          9.250000              10   \n2021-10-01     39.268750  34.645833          8.289583               8   \n2021-09-01     39.843333  34.331667          9.376667              10   \n2021-08-01     40.016667  33.316667         10.400000               6   \n2021-07-01     41.787037  33.601852          9.444444               9   \n2021-06-01     43.477778  33.455556          7.566667               9   \n2021-05-01     43.468750  32.812500          8.062500               8   \n2021-04-01     41.921212  35.186364          7.448485              11   \n\n            poll_count      lead  lead_value  \npoll_month                                    \n2022-03-01          24   lab+3.6    3.631481  \n2022-02-01          23   lab+6.1    6.125000  \n2022-01-01          29   lab+8.5    8.544444  \n2021-12-01          30   lab+4.9    4.856061  \n2021-11-01          23   con+0.5    0.491667  \n2021-10-01          20   con+4.6    4.622917  \n2021-09-01          23   con+5.5    5.511667  \n2021-08-01          18   con+6.7    6.700000  \n2021-07-01          21   con+8.2    8.185185  \n2021-06-01          24  con+10.0   10.022222  \n2021-05-01          21  con+10.7   10.656250  \n2021-04-01          25   con+6.7    6.734848  ",
      "text/html": "<div>\n<style scoped>\n    .dataframe tbody tr th:only-of-type {\n        vertical-align: middle;\n    }\n\n    .dataframe tbody tr th {\n        vertical-align: top;\n    }\n\n    .dataframe thead th {\n        text-align: right;\n    }\n</style>\n<table border=\"1\" class=\"dataframe\">\n  <thead>\n    <tr style=\"text-align: right;\">\n      <th></th>\n      <th>conservative</th>\n      <th>labour</th>\n      <th>liberal_democrat</th>\n      <th>pollster_count</th>\n      <th>poll_count</th>\n      <th>lead</th>\n      <th>lead_value</th>\n    </tr>\n    <tr>\n      <th>poll_month</th>\n      <th></th>\n      <th></th>\n      <th></th>\n      <th></th>\n      <th></th>\n      <th></th>\n      <th></th>\n    </tr>\n  </thead>\n  <tbody>\n    <tr>\n      <th>2022-03-01</th>\n      <td>35.129630</td>\n      <td>38.761111</td>\n      <td>9.842593</td>\n      <td>9</td>\n      <td>24</td>\n      <td>lab+3.6</td>\n      <td>3.631481</td>\n    </tr>\n    <tr>\n      <th>2022-02-01</th>\n      <td>33.725000</td>\n      <td>39.850000</td>\n      <td>10.300000</td>\n      <td>10</td>\n      <td>23</td>\n      <td>lab+6.1</td>\n      <td>6.125000</td>\n    </tr>\n    <tr>\n      <th>2022-01-01</th>\n      <td>31.969444</td>\n      <td>40.513889</td>\n      <td>10.919444</td>\n      <td>12</td>\n      <td>29</td>\n      <td>lab+8.5</td>\n      <td>8.544444</td>\n    </tr>\n    <tr>\n      <th>2021-12-01</th>\n      <td>33.484848</td>\n      <td>38.340909</td>\n      <td>10.159091</td>\n      <td>11</td>\n      <td>30</td>\n      <td>lab+4.9</td>\n      <td>4.856061</td>\n    </tr>\n    <tr>\n      <th>2021-11-01</th>\n      <td>37.066667</td>\n      <td>36.575000</td>\n      <td>9.250000</td>\n      <td>10</td>\n      <td>23</td>\n      <td>con+0.5</td>\n      <td>0.491667</td>\n    </tr>\n    <tr>\n      <th>2021-10-01</th>\n      <td>39.268750</td>\n      <td>34.645833</td>\n      <td>8.289583</td>\n      <td>8</td>\n      <td>20</td>\n      <td>con+4.6</td>\n      <td>4.622917</td>\n    </tr>\n    <tr>\n      <th>2021-09-01</th>\n      <td>39.843333</td>\n      <td>34.331667</td>\n      <td>9.376667</td>\n      <td>10</td>\n      <td>23</td>\n      <td>con+5.5</td>\n      <td>5.511667</td>\n    </tr>\n    <tr>\n      <th>2021-08-01</th>\n      <td>40.016667</td>\n      <td>33.316667</td>\n      <td>10.400000</td>\n      <td>6</td>\n      <td>18</td>\n      <td>con+6.7</td>\n      <td>6.700000</td>\n    </tr>\n    <tr>\n      <th>2021-07-01</th>\n      <td>41.787037</td>\n      <td>33.601852</td>\n      <td>9.444444</td>\n      <td>9</td>\n      <td>21</td>\n      <td>con+8.2</td>\n      <td>8.185185</td>\n    </tr>\n    <tr>\n      <th>2021-06-01</th>\n      <td>43.477778</td>\n      <td>33.455556</td>\n      <td>7.566667</td>\n      <td>9</td>\n      <td>24</td>\n      <td>con+10.0</td>\n      <td>10.022222</td>\n    </tr>\n    <tr>\n      <th>2021-05-01</th>\n      <td>43.468750</td>\n      <td>32.812500</td>\n      <td>8.062500</td>\n      <td>8</td>\n      <td>21</td>\n      <td>con+10.7</td>\n      <td>10.656250</td>\n    </tr>\n    <tr>\n      <th>2021-04-01</th>\n      <td>41.921212</td>\n      <td>35.186364</td>\n      <td>7.448485</td>\n      <td>11</td>\n      <td>25</td>\n      <td>con+6.7</td>\n      <td>6.734848</td>\n    </tr>\n  </tbody>\n</table>\n</div>"
     },
     "metadata": {},
     "output_type": "display_data"
    }
   ],
   "source": [
    "display(pollsters_latest.sort_values(by='poll_weight', ascending=False)[display_columns])\n",
    "display(current_average)\n",
    "display(monthly_summary.iloc[:0:-1])"
   ],
   "metadata": {
    "collapsed": false,
    "pycharm": {
     "name": "#%%\n"
    }
   }
  },
  {
   "cell_type": "code",
   "execution_count": 36,
   "outputs": [],
   "source": [
    "from html2image import Html2Image\n",
    "\n",
    "hti = Html2Image()"
   ],
   "metadata": {
    "collapsed": false,
    "pycharm": {
     "name": "#%%\n"
    }
   }
  },
  {
   "cell_type": "code",
   "execution_count": 37,
   "outputs": [],
   "source": [
    "\n",
    "\n",
    "\n",
    "def result_to_opacity(result, range_min, range_max):\n",
    "    result_range = range_max - range_min\n",
    "    result_percent = (result - range_min)/result_range\n",
    "    result_256 = int(result_percent*255)\n",
    "    return f'{result_256:02x}'\n",
    "\n",
    "\n",
    "def add_background_colour_to_cells(df, lead_only=False):\n",
    "    from scripts.constants import party_colors, major_parties\n",
    "    background_df = df.copy()\n",
    "    max_party_lead = background_df['lead_value'].max()\n",
    "\n",
    "    for party in major_parties:\n",
    "        color = party_colors[party]\n",
    "        party_max = background_df[party].max()\n",
    "        party_min = background_df[party].min() - 0.5\n",
    "        if not lead_only:\n",
    "            background_df[party] = background_df[party].apply(\n",
    "                lambda x: f'background-color: {color}{result_to_opacity(x, party_min, party_max)}'\n",
    "            )\n",
    "        else:\n",
    "            background_df[party] = ''\n",
    "        party_in_lead_mask = df[party] == df[major_parties].max(axis=1)\n",
    "        background_df.loc[party_in_lead_mask, 'lead_value'] = df['lead_value'].apply(\n",
    "            lambda x: f'background-color: {color}{result_to_opacity(x, 0, max_party_lead)}'\n",
    "        )\n",
    "\n",
    "    if 'date_concluded' in background_df.columns:\n",
    "        background_df['date_concluded'] = background_df['date_concluded'].apply(get_recency_weight,\n",
    "                                                                                current_date=most_recent_date)\n",
    "        background_df['date_concluded'] = background_df['date_concluded'].apply(\n",
    "            lambda x: f'background-color: #A9D08E{result_to_opacity(x, 0, 100)}'\n",
    "        )\n",
    "\n",
    "    for column in background_df.columns:\n",
    "        if not (column in major_parties or column in ['lead_value', 'date_concluded']):\n",
    "            background_df[column] = ''\n",
    "    return background_df"
   ],
   "metadata": {
    "collapsed": false,
    "pycharm": {
     "name": "#%%\n"
    }
   }
  },
  {
   "cell_type": "code",
   "execution_count": 38,
   "outputs": [],
   "source": [
    "def polls_to_html(dataframe, title, highlight_party_columns=True, precision=0):\n",
    "    dataframe.index.name = 'id'\n",
    "    table_id = '_'.join(title.split(' ')).lower()\n",
    "\n",
    "    from pandas.io.formats.style import Styler\n",
    "    #styler = dataframe.style\n",
    "    styler = Styler(dataframe, uuid=table_id, cell_ids=True)\n",
    "\n",
    "    styler.apply(add_background_colour_to_cells, axis=None,\n",
    "                                   lead_only=not (highlight_party_columns))\\\n",
    "\n",
    "    styler.format({\n",
    "        \"pollster\": lambda x: f\"{x}\",\n",
    "        \"pollster_count\": lambda x: f\"{x}\",\n",
    "        \"poll_count\": lambda x: f\"{x}\",\n",
    "        \"conservative\": lambda x: f\"{x:.{precision}f}%\",\n",
    "        \"labour\": lambda x: f\"{x:.{precision}f}%\",\n",
    "        \"liberal_democrat\": lambda x: f\"{x:.{precision}f}%\",\n",
    "        \"lead_value\": lambda x: f\"{x:.{precision}f}%\",\n",
    "        'date_concluded': lambda x: f\"{x:%d-%b}\",\n",
    "        'poll_month': lambda x: f\"{x:%b-%y}\",\n",
    "        'poll_weight': lambda x: f\"{x:.0f}\",\n",
    "    })\n",
    "\n",
    "    styler.set_table_attributes(f'id=\"{table_id}\"')\n",
    "    styler.hide_index()\n",
    "\n",
    "    # classes = pd.DataFrame([['_'.join(x.split(' ')).lower() for x in dataframe.columns]]\n",
    "    #                        , index=dataframe.index, columns=dataframe.columns)\n",
    "    #\n",
    "    # styler.set_td_classes(classes)\n",
    "\n",
    "    #styler.set_caption(title)\n",
    "    styler.set_properties(**{'min-width': '10px', 'font-size': '12pt', 'text-align': 'center'})\n",
    "\n",
    "    caption_format = {'selector': 'caption',\n",
    "                      'props': [('text-align', 'center'), ('font-size', '20pt'), ('color', 'black'),\n",
    "                                ('padding-bottom', '15')]}\n",
    "    all_cells = {'selector': '', 'props': [('margin', '0 auto'), ('width', '100%')]}\n",
    "    date_col = {'selector': '.col0', 'props': [('text-align', 'left')]}\n",
    "\n",
    "    styles = [all_cells, date_col, caption_format]\n",
    "\n",
    "    if 'poll_weight' in dataframe.columns:\n",
    "        styles.append({'selector': '.col2', 'props': [('color', '#AAA')]})\n",
    "\n",
    "    df_as_html = styler.set_table_styles(styles).render()\n",
    "\n",
    "    for col in range(0,len(dataframe.columns)):\n",
    "        df_as_html = df_as_html.replace(f'col{col}',dataframe.columns[col])\n",
    "\n",
    "\n",
    "    df_as_html = (df_as_html\n",
    "                  .replace('>poll_count', '>Polls')\n",
    "                  .replace('>pollster_count', '>Pollsters')\n",
    "                  .replace('>conservative', '>Conservatives')\n",
    "                  .replace('>labour', '>Labour')\n",
    "                  .replace('>liberal_democrat', '>Lib Dem')\n",
    "                  .replace('>lead_value', '>Lead')\n",
    "                  .replace('>date_concluded', '>Date')\n",
    "                  .replace('>poll_month', '>Month')\n",
    "                  .replace('>pollster', '>Pollster')\n",
    "                  .replace('>poll_weight', '>w')\n",
    "                  )\n",
    "    return df_as_html"
   ],
   "metadata": {
    "collapsed": false,
    "pycharm": {
     "name": "#%%\n"
    }
   }
  },
  {
   "cell_type": "code",
   "execution_count": 39,
   "outputs": [],
   "source": [
    "display_columns = ['date_concluded', 'pollster', 'conservative', 'labour', 'liberal_democrat', 'lead_value']\n",
    "top_25_html = polls_to_html(all_polls[display_columns][0:25], title='Last 25 Polls')"
   ],
   "metadata": {
    "collapsed": false,
    "pycharm": {
     "name": "#%%\n"
    }
   }
  },
  {
   "cell_type": "code",
   "execution_count": 40,
   "outputs": [],
   "source": [
    "display_columns = ['pollster', 'date_concluded', 'poll_weight', 'conservative', 'labour', 'liberal_democrat',\n",
    "                   'lead_value']\n",
    "df = pollsters_latest.sort_values(by='poll_weight', ascending=False)[display_columns]\n",
    "pollsters_recent = polls_to_html(df, title='Latest Polls', highlight_party_columns=False)"
   ],
   "metadata": {
    "collapsed": false,
    "pycharm": {
     "name": "#%%\n"
    }
   }
  },
  {
   "cell_type": "code",
   "execution_count": 41,
   "outputs": [],
   "source": [
    "display_columns = ['poll_month', 'pollster_count', 'poll_count', 'conservative', 'labour', 'liberal_democrat',\n",
    "                   'lead_value']\n",
    "df = monthly_summary.reset_index()[display_columns].iloc[:0:-1]\n",
    "monthly_averages = polls_to_html(df, title='Monthly Poll Average', highlight_party_columns=True, precision=1)"
   ],
   "metadata": {
    "collapsed": false,
    "pycharm": {
     "name": "#%%\n"
    }
   }
  },
  {
   "cell_type": "code",
   "execution_count": 42,
   "outputs": [],
   "source": [
    "polling_average = polls_to_html(current_average[['conservative', 'labour', 'liberal_democrat', 'lead_value']],\n",
    "                                title='Polling Average', highlight_party_columns=False, precision=1)"
   ],
   "metadata": {
    "collapsed": false,
    "pycharm": {
     "name": "#%%\n"
    }
   }
  },
  {
   "cell_type": "code",
   "execution_count": 43,
   "outputs": [],
   "source": [
    "\n",
    "css = \"body {background: white;}\"\n",
    "# hti.screenshot(html_str=top_25_html, css_str=css, save_as='tmp.png', size=(800, 650))\n",
    "# hti.screenshot(html_str=pollsters_recent, css_str=css, save_as='tmp.png', size=(700, 400))"
   ],
   "metadata": {
    "collapsed": false,
    "pycharm": {
     "name": "#%%\n"
    }
   }
  },
  {
   "cell_type": "code",
   "execution_count": 44,
   "outputs": [],
   "source": [
    "with open('html_outputs/top_25.html', 'w') as f:\n",
    "    f.write(top_25_html)\n",
    "with open('html_outputs/pollsters_recent.html', 'w') as f:\n",
    "    f.write(pollsters_recent)\n",
    "with open('html_outputs/monthly_averages.html', 'w') as f:\n",
    "    f.write(monthly_averages)\n",
    "with open('html_outputs/polling_average.html', 'w') as f:\n",
    "    f.write(polling_average)"
   ],
   "metadata": {
    "collapsed": false,
    "pycharm": {
     "name": "#%%\n"
    }
   }
  },
  {
   "cell_type": "code",
   "execution_count": 45,
   "outputs": [
    {
     "data": {
      "text/plain": "<Figure size 1080x216 with 1 Axes>",
      "image/png": "[encoded data removed]"
     },
     "metadata": {},
     "output_type": "display_data"
    }
   ],
   "source": [
    "from scripts.constants import party_colors, major_parties\n",
    "import matplotlib.pyplot as plt\n",
    "from numpy import arange\n",
    "\n",
    "fig = plt.figure(figsize=(15, 3))\n",
    "fig.set_facecolor('white')\n",
    "ax = plt.gca()\n",
    "\n",
    "# monthly_summary[major_parties[:2]][1:].plot(\n",
    "#     ax=ax,\n",
    "#     ylim=[30, 45],\n",
    "#     color=party_colors,\n",
    "#     linewidth=3\n",
    "# )\n",
    "for party in major_parties[:2]:\n",
    "    plt.plot_date(\n",
    "        x=monthly_summary.index[1:],\n",
    "        y= monthly_summary[party][1:],\n",
    "        fmt='-',\n",
    "        color=party_colors[party],\n",
    "        linewidth=4)\n",
    "\n",
    "    ax.fill_between(monthly_summary.index[1:], monthly_summary[party][1:], monthly_summary[major_parties[:2]].min(axis=1)[1:], color=party_colors[party], alpha=0.2)\n",
    "ax.set_yticks(arange(30, 46, 5), minor=False)\n",
    "major_locator = plt.matplotlib.dates.DayLocator([1])\n",
    "major_fmt = plt.matplotlib.dates.DateFormatter('%b-%y')\n",
    "\n",
    "ax.xaxis.set_major_locator(major_locator)\n",
    "ax.xaxis.set_major_formatter(major_fmt)\n",
    "\n",
    "ax.yaxis.set_major_formatter(plt.matplotlib.ticker.FuncFormatter(lambda x, p: f'{x/100:.0%}'))\n",
    "\n",
    "plot_title = 'Opinion Polling Trend'\n",
    "plt.title(plot_title)\n",
    "\n",
    "source = 'Source: Wikipedia - Opinion polling for the next United Kingdom general election'\n",
    "plt.annotate(source, (1, 0), (0, -20), xycoords='axes fraction', textcoords='offset points', va='top', ha='right')\n",
    "fig.savefig('html_outputs/monthly_trend.png', bbox_inches = 'tight', pad_inches = 0.2)"
   ],
   "metadata": {
    "collapsed": false,
    "pycharm": {
     "name": "#%%\n"
    }
   }
  },
  {
   "cell_type": "code",
   "execution_count": 45,
   "outputs": [],
   "source": [],
   "metadata": {
    "collapsed": false,
    "pycharm": {
     "name": "#%%\n"
    }
   }
  },
  {
   "cell_type": "code",
   "execution_count": 46,
   "outputs": [
    {
     "data": {
      "text/plain": "            conservative     labour  liberal_democrat  pollster_count  \\\npoll_month                                                              \n2021-03-01     42.460000  35.815000          7.323333              10   \n2021-04-01     41.921212  35.186364          7.448485              11   \n2021-05-01     43.468750  32.812500          8.062500               8   \n2021-06-01     43.477778  33.455556          7.566667               9   \n2021-07-01     41.787037  33.601852          9.444444               9   \n2021-08-01     40.016667  33.316667         10.400000               6   \n2021-09-01     39.843333  34.331667          9.376667              10   \n2021-10-01     39.268750  34.645833          8.289583               8   \n2021-11-01     37.066667  36.575000          9.250000              10   \n2021-12-01     33.484848  38.340909         10.159091              11   \n2022-01-01     31.969444  40.513889         10.919444              12   \n2022-02-01     33.725000  39.850000         10.300000              10   \n2022-03-01     35.129630  38.761111          9.842593               9   \n\n            poll_count      lead  lead_value  \npoll_month                                    \n2021-03-01          20   con+6.6    6.645000  \n2021-04-01          25   con+6.7    6.734848  \n2021-05-01          21  con+10.7   10.656250  \n2021-06-01          24  con+10.0   10.022222  \n2021-07-01          21   con+8.2    8.185185  \n2021-08-01          18   con+6.7    6.700000  \n2021-09-01          23   con+5.5    5.511667  \n2021-10-01          20   con+4.6    4.622917  \n2021-11-01          23   con+0.5    0.491667  \n2021-12-01          30   lab+4.9    4.856061  \n2022-01-01          29   lab+8.5    8.544444  \n2022-02-01          23   lab+6.1    6.125000  \n2022-03-01          24   lab+3.6    3.631481  ",
      "text/html": "<div>\n<style scoped>\n    .dataframe tbody tr th:only-of-type {\n        vertical-align: middle;\n    }\n\n    .dataframe tbody tr th {\n        vertical-align: top;\n    }\n\n    .dataframe thead th {\n        text-align: right;\n    }\n</style>\n<table border=\"1\" class=\"dataframe\">\n  <thead>\n    <tr style=\"text-align: right;\">\n      <th></th>\n      <th>conservative</th>\n      <th>labour</th>\n      <th>liberal_democrat</th>\n      <th>pollster_count</th>\n      <th>poll_count</th>\n      <th>lead</th>\n      <th>lead_value</th>\n    </tr>\n    <tr>\n      <th>poll_month</th>\n      <th></th>\n      <th></th>\n      <th></th>\n      <th></th>\n      <th></th>\n      <th></th>\n      <th></th>\n    </tr>\n  </thead>\n  <tbody>\n    <tr>\n      <th>2021-03-01</th>\n      <td>42.460000</td>\n      <td>35.815000</td>\n      <td>7.323333</td>\n      <td>10</td>\n      <td>20</td>\n      <td>con+6.6</td>\n      <td>6.645000</td>\n    </tr>\n    <tr>\n      <th>2021-04-01</th>\n      <td>41.921212</td>\n      <td>35.186364</td>\n      <td>7.448485</td>\n      <td>11</td>\n      <td>25</td>\n      <td>con+6.7</td>\n      <td>6.734848</td>\n    </tr>\n    <tr>\n      <th>2021-05-01</th>\n      <td>43.468750</td>\n      <td>32.812500</td>\n      <td>8.062500</td>\n      <td>8</td>\n      <td>21</td>\n      <td>con+10.7</td>\n      <td>10.656250</td>\n    </tr>\n    <tr>\n      <th>2021-06-01</th>\n      <td>43.477778</td>\n      <td>33.455556</td>\n      <td>7.566667</td>\n      <td>9</td>\n      <td>24</td>\n      <td>con+10.0</td>\n      <td>10.022222</td>\n    </tr>\n    <tr>\n      <th>2021-07-01</th>\n      <td>41.787037</td>\n      <td>33.601852</td>\n      <td>9.444444</td>\n      <td>9</td>\n      <td>21</td>\n      <td>con+8.2</td>\n      <td>8.185185</td>\n    </tr>\n    <tr>\n      <th>2021-08-01</th>\n      <td>40.016667</td>\n      <td>33.316667</td>\n      <td>10.400000</td>\n      <td>6</td>\n      <td>18</td>\n      <td>con+6.7</td>\n      <td>6.700000</td>\n    </tr>\n    <tr>\n      <th>2021-09-01</th>\n      <td>39.843333</td>\n      <td>34.331667</td>\n      <td>9.376667</td>\n      <td>10</td>\n      <td>23</td>\n      <td>con+5.5</td>\n      <td>5.511667</td>\n    </tr>\n    <tr>\n      <th>2021-10-01</th>\n      <td>39.268750</td>\n      <td>34.645833</td>\n      <td>8.289583</td>\n      <td>8</td>\n      <td>20</td>\n      <td>con+4.6</td>\n      <td>4.622917</td>\n    </tr>\n    <tr>\n      <th>2021-11-01</th>\n      <td>37.066667</td>\n      <td>36.575000</td>\n      <td>9.250000</td>\n      <td>10</td>\n      <td>23</td>\n      <td>con+0.5</td>\n      <td>0.491667</td>\n    </tr>\n    <tr>\n      <th>2021-12-01</th>\n      <td>33.484848</td>\n      <td>38.340909</td>\n      <td>10.159091</td>\n      <td>11</td>\n      <td>30</td>\n      <td>lab+4.9</td>\n      <td>4.856061</td>\n    </tr>\n    <tr>\n      <th>2022-01-01</th>\n      <td>31.969444</td>\n      <td>40.513889</td>\n      <td>10.919444</td>\n      <td>12</td>\n      <td>29</td>\n      <td>lab+8.5</td>\n      <td>8.544444</td>\n    </tr>\n    <tr>\n      <th>2022-02-01</th>\n      <td>33.725000</td>\n      <td>39.850000</td>\n      <td>10.300000</td>\n      <td>10</td>\n      <td>23</td>\n      <td>lab+6.1</td>\n      <td>6.125000</td>\n    </tr>\n    <tr>\n      <th>2022-03-01</th>\n      <td>35.129630</td>\n      <td>38.761111</td>\n      <td>9.842593</td>\n      <td>9</td>\n      <td>24</td>\n      <td>lab+3.6</td>\n      <td>3.631481</td>\n    </tr>\n  </tbody>\n</table>\n</div>"
     },
     "execution_count": 46,
     "metadata": {},
     "output_type": "execute_result"
    }
   ],
   "source": [
    "monthly_summary"
   ],
   "metadata": {
    "collapsed": false,
    "pycharm": {
     "name": "#%%\n"
    }
   }
  },
  {
   "cell_type": "code",
   "execution_count": 46,
   "outputs": [],
   "source": [],
   "metadata": {
    "collapsed": false,
    "pycharm": {
     "name": "#%%\n"
    }
   }
  },
  {
   "cell_type": "code",
   "execution_count": 46,
   "outputs": [],
   "source": [],
   "metadata": {
    "collapsed": false,
    "pycharm": {
     "name": "#%%\n"
    }
   }
  },
  {
   "cell_type": "code",
   "execution_count": 47,
   "outputs": [],
   "source": [
    "import datetime"
   ],
   "metadata": {
    "collapsed": false,
    "pycharm": {
     "name": "#%%\n"
    }
   }
  },
  {
   "cell_type": "code",
   "execution_count": 48,
   "outputs": [
    {
     "data": {
      "text/plain": "<AxesSubplot:xlabel='date_concluded'>"
     },
     "execution_count": 48,
     "metadata": {},
     "output_type": "execute_result"
    },
    {
     "data": {
      "text/plain": "<Figure size 1440x360 with 1 Axes>",
      "image/png": "[encoded data removed]"
     },
     "metadata": {
      "needs_background": "light"
     },
     "output_type": "display_data"
    }
   ],
   "source": [
    "all_polls['progressive_leaning']=all_polls[['labour', 'liberal_democrat', 'alliance', 'change_uk', 'green', 'liberal', 'plaid_cymru', 'scottish_national_party', 'social_democratic_party']].sum(axis=1)\n",
    "all_polls['conservative_leaning']=all_polls[['conservative', 'brexit_party', 'reform_uk','united_kingdom_independence_party', 'reclaim_party']].sum(axis=1)\n",
    "(all_polls\n",
    " .set_index('date_concluded')\n",
    " .rolling(window=15).mean()\n",
    " .loc[:datetime.date(2010,1,1)]\n",
    " [['progressive_leaning','conservative_leaning']]\n",
    " .plot(\n",
    "    color=['r','b']\n",
    "    ,figsize=[20,5]\n",
    "    ,grid='y'\n",
    "    ,ylim=[0,100]\n",
    ")\n",
    ")"
   ],
   "metadata": {
    "collapsed": false,
    "pycharm": {
     "name": "#%%\n"
    }
   }
  },
  {
   "cell_type": "code",
   "execution_count": 49,
   "outputs": [
    {
     "data": {
      "text/plain": "                conservative  labour  liberal_democrat  alliance  \\\ndate_concluded                                                     \n2022-03-30               NaN     NaN               NaN       NaN   \n2022-03-30               NaN     NaN               NaN       NaN   \n2022-03-27               NaN     NaN               NaN       NaN   \n2022-03-27               NaN     NaN               NaN       NaN   \n2022-03-25               NaN     NaN               NaN       NaN   \n...                      ...     ...               ...       ...   \n1970-11-15             40.80   49.15               NaN       NaN   \n1970-10-18             42.10   48.30               NaN       NaN   \n1970-09-13             43.15   47.30               NaN       NaN   \n1970-08-16             44.05   46.65               NaN       NaN   \n1970-06-18             44.29   46.41               NaN       NaN   \n\n                brexit_party  change_uk  green  liberal  plaid_cymru  \\\ndate_concluded                                                         \n2022-03-30               NaN        NaN    NaN      NaN          NaN   \n2022-03-30               NaN        NaN    NaN      NaN          NaN   \n2022-03-27               NaN        NaN    NaN      NaN          NaN   \n2022-03-27               NaN        NaN    NaN      NaN          NaN   \n2022-03-25               NaN        NaN    NaN      NaN          NaN   \n...                      ...        ...    ...      ...          ...   \n1970-11-15               NaN        NaN    NaN     7.85          NaN   \n1970-10-18               NaN        NaN    NaN     7.65          NaN   \n1970-09-13               NaN        NaN    NaN     7.65          NaN   \n1970-08-16               NaN        NaN    NaN     7.45          NaN   \n1970-06-18               NaN        NaN    NaN     7.25          NaN   \n\n                reform_uk  scottish_national_party  social_democratic_party  \\\ndate_concluded                                                                \n2022-03-30            NaN                      NaN                      NaN   \n2022-03-30            NaN                      NaN                      NaN   \n2022-03-27            NaN                      NaN                      NaN   \n2022-03-27            NaN                      NaN                      NaN   \n2022-03-25            NaN                      NaN                      NaN   \n...                   ...                      ...                      ...   \n1970-11-15            NaN                      NaN                      NaN   \n1970-10-18            NaN                      NaN                      NaN   \n1970-09-13            NaN                      NaN                      NaN   \n1970-08-16            NaN                      NaN                      NaN   \n1970-06-18            NaN                      NaN                      NaN   \n\n                united_kingdom_independence_party  reclaim_party  others  \\\ndate_concluded                                                             \n2022-03-30                                    NaN            NaN     NaN   \n2022-03-30                                    NaN            NaN     NaN   \n2022-03-27                                    NaN            NaN     NaN   \n2022-03-27                                    NaN            NaN     NaN   \n2022-03-25                                    NaN            NaN     NaN   \n...                                           ...            ...     ...   \n1970-11-15                                    NaN            NaN     NaN   \n1970-10-18                                    NaN            NaN     NaN   \n1970-09-13                                    NaN            NaN     NaN   \n1970-08-16                                    NaN            NaN     NaN   \n1970-06-18                                    NaN            NaN     NaN   \n\n                lead_value  progressive_leaning  conservative_leaning  \ndate_concluded                                                         \n2022-03-30             NaN                  NaN                   NaN  \n2022-03-30             NaN                  NaN                   NaN  \n2022-03-27             NaN                  NaN                   NaN  \n2022-03-27             NaN                  NaN                   NaN  \n2022-03-25             NaN                  NaN                   NaN  \n...                    ...                  ...                   ...  \n1970-11-15            8.65                57.00                 40.80  \n1970-10-18            6.50                55.95                 42.10  \n1970-09-13            4.95                54.95                 43.15  \n1970-08-16            4.10                54.10                 44.05  \n1970-06-18            4.28                53.66                 44.29  \n\n[5720 rows x 18 columns]",
      "text/html": "<div>\n<style scoped>\n    .dataframe tbody tr th:only-of-type {\n        vertical-align: middle;\n    }\n\n    .dataframe tbody tr th {\n        vertical-align: top;\n    }\n\n    .dataframe thead th {\n        text-align: right;\n    }\n</style>\n<table border=\"1\" class=\"dataframe\">\n  <thead>\n    <tr style=\"text-align: right;\">\n      <th></th>\n      <th>conservative</th>\n      <th>labour</th>\n      <th>liberal_democrat</th>\n      <th>alliance</th>\n      <th>brexit_party</th>\n      <th>change_uk</th>\n      <th>green</th>\n      <th>liberal</th>\n      <th>plaid_cymru</th>\n      <th>reform_uk</th>\n      <th>scottish_national_party</th>\n      <th>social_democratic_party</th>\n      <th>united_kingdom_independence_party</th>\n      <th>reclaim_party</th>\n      <th>others</th>\n      <th>lead_value</th>\n      <th>progressive_leaning</th>\n      <th>conservative_leaning</th>\n    </tr>\n    <tr>\n      <th>date_concluded</th>\n      <th></th>\n      <th></th>\n      <th></th>\n      <th></th>\n      <th></th>\n      <th></th>\n      <th></th>\n      <th></th>\n      <th></th>\n      <th></th>\n      <th></th>\n      <th></th>\n      <th></th>\n      <th></th>\n      <th></th>\n      <th></th>\n      <th></th>\n      <th></th>\n    </tr>\n  </thead>\n  <tbody>\n    <tr>\n      <th>2022-03-30</th>\n      <td>NaN</td>\n      <td>NaN</td>\n      <td>NaN</td>\n      <td>NaN</td>\n      <td>NaN</td>\n      <td>NaN</td>\n      <td>NaN</td>\n      <td>NaN</td>\n      <td>NaN</td>\n      <td>NaN</td>\n      <td>NaN</td>\n      <td>NaN</td>\n      <td>NaN</td>\n      <td>NaN</td>\n      <td>NaN</td>\n      <td>NaN</td>\n      <td>NaN</td>\n      <td>NaN</td>\n    </tr>\n    <tr>\n      <th>2022-03-30</th>\n      <td>NaN</td>\n      <td>NaN</td>\n      <td>NaN</td>\n      <td>NaN</td>\n      <td>NaN</td>\n      <td>NaN</td>\n      <td>NaN</td>\n      <td>NaN</td>\n      <td>NaN</td>\n      <td>NaN</td>\n      <td>NaN</td>\n      <td>NaN</td>\n      <td>NaN</td>\n      <td>NaN</td>\n      <td>NaN</td>\n      <td>NaN</td>\n      <td>NaN</td>\n      <td>NaN</td>\n    </tr>\n    <tr>\n      <th>2022-03-27</th>\n      <td>NaN</td>\n      <td>NaN</td>\n      <td>NaN</td>\n      <td>NaN</td>\n      <td>NaN</td>\n      <td>NaN</td>\n      <td>NaN</td>\n      <td>NaN</td>\n      <td>NaN</td>\n      <td>NaN</td>\n      <td>NaN</td>\n      <td>NaN</td>\n      <td>NaN</td>\n      <td>NaN</td>\n      <td>NaN</td>\n      <td>NaN</td>\n      <td>NaN</td>\n      <td>NaN</td>\n    </tr>\n    <tr>\n      <th>2022-03-27</th>\n      <td>NaN</td>\n      <td>NaN</td>\n      <td>NaN</td>\n      <td>NaN</td>\n      <td>NaN</td>\n      <td>NaN</td>\n      <td>NaN</td>\n      <td>NaN</td>\n      <td>NaN</td>\n      <td>NaN</td>\n      <td>NaN</td>\n      <td>NaN</td>\n      <td>NaN</td>\n      <td>NaN</td>\n      <td>NaN</td>\n      <td>NaN</td>\n      <td>NaN</td>\n      <td>NaN</td>\n    </tr>\n    <tr>\n      <th>2022-03-25</th>\n      <td>NaN</td>\n      <td>NaN</td>\n      <td>NaN</td>\n      <td>NaN</td>\n      <td>NaN</td>\n      <td>NaN</td>\n      <td>NaN</td>\n      <td>NaN</td>\n      <td>NaN</td>\n      <td>NaN</td>\n      <td>NaN</td>\n      <td>NaN</td>\n      <td>NaN</td>\n      <td>NaN</td>\n      <td>NaN</td>\n      <td>NaN</td>\n      <td>NaN</td>\n      <td>NaN</td>\n    </tr>\n    <tr>\n      <th>...</th>\n      <td>...</td>\n      <td>...</td>\n      <td>...</td>\n      <td>...</td>\n      <td>...</td>\n      <td>...</td>\n      <td>...</td>\n      <td>...</td>\n      <td>...</td>\n      <td>...</td>\n      <td>...</td>\n      <td>...</td>\n      <td>...</td>\n      <td>...</td>\n      <td>...</td>\n      <td>...</td>\n      <td>...</td>\n      <td>...</td>\n    </tr>\n    <tr>\n      <th>1970-11-15</th>\n      <td>40.80</td>\n      <td>49.15</td>\n      <td>NaN</td>\n      <td>NaN</td>\n      <td>NaN</td>\n      <td>NaN</td>\n      <td>NaN</td>\n      <td>7.85</td>\n      <td>NaN</td>\n      <td>NaN</td>\n      <td>NaN</td>\n      <td>NaN</td>\n      <td>NaN</td>\n      <td>NaN</td>\n      <td>NaN</td>\n      <td>8.65</td>\n      <td>57.00</td>\n      <td>40.80</td>\n    </tr>\n    <tr>\n      <th>1970-10-18</th>\n      <td>42.10</td>\n      <td>48.30</td>\n      <td>NaN</td>\n      <td>NaN</td>\n      <td>NaN</td>\n      <td>NaN</td>\n      <td>NaN</td>\n      <td>7.65</td>\n      <td>NaN</td>\n      <td>NaN</td>\n      <td>NaN</td>\n      <td>NaN</td>\n      <td>NaN</td>\n      <td>NaN</td>\n      <td>NaN</td>\n      <td>6.50</td>\n      <td>55.95</td>\n      <td>42.10</td>\n    </tr>\n    <tr>\n      <th>1970-09-13</th>\n      <td>43.15</td>\n      <td>47.30</td>\n      <td>NaN</td>\n      <td>NaN</td>\n      <td>NaN</td>\n      <td>NaN</td>\n      <td>NaN</td>\n      <td>7.65</td>\n      <td>NaN</td>\n      <td>NaN</td>\n      <td>NaN</td>\n      <td>NaN</td>\n      <td>NaN</td>\n      <td>NaN</td>\n      <td>NaN</td>\n      <td>4.95</td>\n      <td>54.95</td>\n      <td>43.15</td>\n    </tr>\n    <tr>\n      <th>1970-08-16</th>\n      <td>44.05</td>\n      <td>46.65</td>\n      <td>NaN</td>\n      <td>NaN</td>\n      <td>NaN</td>\n      <td>NaN</td>\n      <td>NaN</td>\n      <td>7.45</td>\n      <td>NaN</td>\n      <td>NaN</td>\n      <td>NaN</td>\n      <td>NaN</td>\n      <td>NaN</td>\n      <td>NaN</td>\n      <td>NaN</td>\n      <td>4.10</td>\n      <td>54.10</td>\n      <td>44.05</td>\n    </tr>\n    <tr>\n      <th>1970-06-18</th>\n      <td>44.29</td>\n      <td>46.41</td>\n      <td>NaN</td>\n      <td>NaN</td>\n      <td>NaN</td>\n      <td>NaN</td>\n      <td>NaN</td>\n      <td>7.25</td>\n      <td>NaN</td>\n      <td>NaN</td>\n      <td>NaN</td>\n      <td>NaN</td>\n      <td>NaN</td>\n      <td>NaN</td>\n      <td>NaN</td>\n      <td>4.28</td>\n      <td>53.66</td>\n      <td>44.29</td>\n    </tr>\n  </tbody>\n</table>\n<p>5720 rows × 18 columns</p>\n</div>"
     },
     "execution_count": 49,
     "metadata": {},
     "output_type": "execute_result"
    }
   ],
   "source": [
    "all_polls.set_index('date_concluded').rolling(window=10).mean()"
   ],
   "metadata": {
    "collapsed": false,
    "pycharm": {
     "name": "#%%\n"
    }
   }
  },
  {
   "cell_type": "code",
   "execution_count": 50,
   "outputs": [
    {
     "data": {
      "text/plain": "               date_started          pollster                 client area  \\\ndate_concluded                                                              \n2019-12-12       2019-12-12  General Election                    NaN   GB   \n2019-12-12       2019-12-12  General Election  2019 general election   GB   \n2019-12-12       2019-12-12  General Election  2019 general election   UK   \n2019-12-11       2019-12-10         Survation                    NaN   GB   \n2019-12-11       2019-12-10         Panelbase                    NaN   GB   \n...                     ...               ...                    ...  ...   \n1970-11-15       1970-11-15            Gallup    The Daily Telegraph  NaN   \n1970-10-18       1970-10-18            Gallup    The Daily Telegraph  NaN   \n1970-09-13       1970-09-13            Gallup    The Daily Telegraph  NaN   \n1970-08-16       1970-08-16            Gallup    The Daily Telegraph  NaN   \n1970-06-18       1970-06-18  General Election  1970 general election  NaN   \n\n               sample_size  conservative  labour  liberal_democrat  alliance  \\\ndate_concluded                                                                 \n2019-12-12               –          44.7    33.0              11.8       NaN   \n2019-12-12               –          44.7    32.9              11.8       NaN   \n2019-12-12               –          43.6    32.1              11.6       NaN   \n2019-12-11            2395          45.0    34.0               9.0       NaN   \n2019-12-11            3174          43.0    34.0              11.0       NaN   \n...                    ...           ...     ...               ...       ...   \n1970-11-15             NaN          43.5    48.0               NaN       NaN   \n1970-10-18             NaN          46.5    46.5               NaN       NaN   \n1970-09-13             NaN          46.5    44.0               NaN       NaN   \n1970-08-16             NaN          47.0    43.5               NaN       NaN   \n1970-06-18             NaN          46.4    43.1               NaN       NaN   \n\n                brexit_party  ...  reform_uk  scottish_national_party  \\\ndate_concluded                ...                                       \n2019-12-12               2.1  ...        NaN                      4.0   \n2019-12-12               2.1  ...        NaN                      4.0   \n2019-12-12               2.0  ...        NaN                      3.9   \n2019-12-11               3.0  ...        NaN                      4.0   \n2019-12-11               4.0  ...        NaN                      4.0   \n...                      ...  ...        ...                      ...   \n1970-11-15               NaN  ...        NaN                      NaN   \n1970-10-18               NaN  ...        NaN                      NaN   \n1970-09-13               NaN  ...        NaN                      NaN   \n1970-08-16               NaN  ...        NaN                      NaN   \n1970-06-18               NaN  ...        NaN                      NaN   \n\n                social_democratic_party  united_kingdom_independence_party  \\\ndate_concluded                                                               \n2019-12-12                          NaN                                0.1   \n2019-12-12                          NaN                                NaN   \n2019-12-12                          NaN                                NaN   \n2019-12-11                          NaN                                NaN   \n2019-12-11                          NaN                                NaN   \n...                                 ...                                ...   \n1970-11-15                          NaN                                NaN   \n1970-10-18                          NaN                                NaN   \n1970-09-13                          NaN                                NaN   \n1970-08-16                          NaN                                NaN   \n1970-06-18                          NaN                                NaN   \n\n                reclaim_party  others      lead  lead_value  \\\ndate_concluded                                                \n2019-12-12                NaN     1.0  con+11.7        11.7   \n2019-12-12                NaN     2.2  con+11.8        11.8   \n2019-12-12                NaN     3.7  con+11.5        11.5   \n2019-12-11                NaN     1.0  con+11.0        11.0   \n2019-12-11                NaN     NaN   con+9.0         9.0   \n...                       ...     ...       ...         ...   \n1970-11-15                NaN     NaN   lab+4.5         4.5   \n1970-10-18                NaN     NaN       Tie         0.0   \n1970-09-13                NaN     NaN   con+2.5         2.5   \n1970-08-16                NaN     NaN   con+3.5         3.5   \n1970-06-18                NaN     NaN   con+3.3         3.3   \n\n                progressive_leaning  conservative_leaning  \ndate_concluded                                             \n2019-12-12                     52.1                  46.9  \n2019-12-12                     51.5                  46.8  \n2019-12-12                     50.3                  45.6  \n2019-12-11                     51.0                  48.0  \n2019-12-11                     52.0                  47.0  \n...                             ...                   ...  \n1970-11-15                     54.5                  43.5  \n1970-10-18                     53.0                  46.5  \n1970-09-13                     52.0                  46.5  \n1970-08-16                     51.0                  47.0  \n1970-06-18                     50.6                  46.4  \n\n[5214 rows x 24 columns]",
      "text/html": "<div>\n<style scoped>\n    .dataframe tbody tr th:only-of-type {\n        vertical-align: middle;\n    }\n\n    .dataframe tbody tr th {\n        vertical-align: top;\n    }\n\n    .dataframe thead th {\n        text-align: right;\n    }\n</style>\n<table border=\"1\" class=\"dataframe\">\n  <thead>\n    <tr style=\"text-align: right;\">\n      <th></th>\n      <th>date_started</th>\n      <th>pollster</th>\n      <th>client</th>\n      <th>area</th>\n      <th>sample_size</th>\n      <th>conservative</th>\n      <th>labour</th>\n      <th>liberal_democrat</th>\n      <th>alliance</th>\n      <th>brexit_party</th>\n      <th>...</th>\n      <th>reform_uk</th>\n      <th>scottish_national_party</th>\n      <th>social_democratic_party</th>\n      <th>united_kingdom_independence_party</th>\n      <th>reclaim_party</th>\n      <th>others</th>\n      <th>lead</th>\n      <th>lead_value</th>\n      <th>progressive_leaning</th>\n      <th>conservative_leaning</th>\n    </tr>\n    <tr>\n      <th>date_concluded</th>\n      <th></th>\n      <th></th>\n      <th></th>\n      <th></th>\n      <th></th>\n      <th></th>\n      <th></th>\n      <th></th>\n      <th></th>\n      <th></th>\n      <th></th>\n      <th></th>\n      <th></th>\n      <th></th>\n      <th></th>\n      <th></th>\n      <th></th>\n      <th></th>\n      <th></th>\n      <th></th>\n      <th></th>\n    </tr>\n  </thead>\n  <tbody>\n    <tr>\n      <th>2019-12-12</th>\n      <td>2019-12-12</td>\n      <td>General Election</td>\n      <td>NaN</td>\n      <td>GB</td>\n      <td>–</td>\n      <td>44.7</td>\n      <td>33.0</td>\n      <td>11.8</td>\n      <td>NaN</td>\n      <td>2.1</td>\n      <td>...</td>\n      <td>NaN</td>\n      <td>4.0</td>\n      <td>NaN</td>\n      <td>0.1</td>\n      <td>NaN</td>\n      <td>1.0</td>\n      <td>con+11.7</td>\n      <td>11.7</td>\n      <td>52.1</td>\n      <td>46.9</td>\n    </tr>\n    <tr>\n      <th>2019-12-12</th>\n      <td>2019-12-12</td>\n      <td>General Election</td>\n      <td>2019 general election</td>\n      <td>GB</td>\n      <td>–</td>\n      <td>44.7</td>\n      <td>32.9</td>\n      <td>11.8</td>\n      <td>NaN</td>\n      <td>2.1</td>\n      <td>...</td>\n      <td>NaN</td>\n      <td>4.0</td>\n      <td>NaN</td>\n      <td>NaN</td>\n      <td>NaN</td>\n      <td>2.2</td>\n      <td>con+11.8</td>\n      <td>11.8</td>\n      <td>51.5</td>\n      <td>46.8</td>\n    </tr>\n    <tr>\n      <th>2019-12-12</th>\n      <td>2019-12-12</td>\n      <td>General Election</td>\n      <td>2019 general election</td>\n      <td>UK</td>\n      <td>–</td>\n      <td>43.6</td>\n      <td>32.1</td>\n      <td>11.6</td>\n      <td>NaN</td>\n      <td>2.0</td>\n      <td>...</td>\n      <td>NaN</td>\n      <td>3.9</td>\n      <td>NaN</td>\n      <td>NaN</td>\n      <td>NaN</td>\n      <td>3.7</td>\n      <td>con+11.5</td>\n      <td>11.5</td>\n      <td>50.3</td>\n      <td>45.6</td>\n    </tr>\n    <tr>\n      <th>2019-12-11</th>\n      <td>2019-12-10</td>\n      <td>Survation</td>\n      <td>NaN</td>\n      <td>GB</td>\n      <td>2395</td>\n      <td>45.0</td>\n      <td>34.0</td>\n      <td>9.0</td>\n      <td>NaN</td>\n      <td>3.0</td>\n      <td>...</td>\n      <td>NaN</td>\n      <td>4.0</td>\n      <td>NaN</td>\n      <td>NaN</td>\n      <td>NaN</td>\n      <td>1.0</td>\n      <td>con+11.0</td>\n      <td>11.0</td>\n      <td>51.0</td>\n      <td>48.0</td>\n    </tr>\n    <tr>\n      <th>2019-12-11</th>\n      <td>2019-12-10</td>\n      <td>Panelbase</td>\n      <td>NaN</td>\n      <td>GB</td>\n      <td>3174</td>\n      <td>43.0</td>\n      <td>34.0</td>\n      <td>11.0</td>\n      <td>NaN</td>\n      <td>4.0</td>\n      <td>...</td>\n      <td>NaN</td>\n      <td>4.0</td>\n      <td>NaN</td>\n      <td>NaN</td>\n      <td>NaN</td>\n      <td>NaN</td>\n      <td>con+9.0</td>\n      <td>9.0</td>\n      <td>52.0</td>\n      <td>47.0</td>\n    </tr>\n    <tr>\n      <th>...</th>\n      <td>...</td>\n      <td>...</td>\n      <td>...</td>\n      <td>...</td>\n      <td>...</td>\n      <td>...</td>\n      <td>...</td>\n      <td>...</td>\n      <td>...</td>\n      <td>...</td>\n      <td>...</td>\n      <td>...</td>\n      <td>...</td>\n      <td>...</td>\n      <td>...</td>\n      <td>...</td>\n      <td>...</td>\n      <td>...</td>\n      <td>...</td>\n      <td>...</td>\n      <td>...</td>\n    </tr>\n    <tr>\n      <th>1970-11-15</th>\n      <td>1970-11-15</td>\n      <td>Gallup</td>\n      <td>The Daily Telegraph</td>\n      <td>NaN</td>\n      <td>NaN</td>\n      <td>43.5</td>\n      <td>48.0</td>\n      <td>NaN</td>\n      <td>NaN</td>\n      <td>NaN</td>\n      <td>...</td>\n      <td>NaN</td>\n      <td>NaN</td>\n      <td>NaN</td>\n      <td>NaN</td>\n      <td>NaN</td>\n      <td>NaN</td>\n      <td>lab+4.5</td>\n      <td>4.5</td>\n      <td>54.5</td>\n      <td>43.5</td>\n    </tr>\n    <tr>\n      <th>1970-10-18</th>\n      <td>1970-10-18</td>\n      <td>Gallup</td>\n      <td>The Daily Telegraph</td>\n      <td>NaN</td>\n      <td>NaN</td>\n      <td>46.5</td>\n      <td>46.5</td>\n      <td>NaN</td>\n      <td>NaN</td>\n      <td>NaN</td>\n      <td>...</td>\n      <td>NaN</td>\n      <td>NaN</td>\n      <td>NaN</td>\n      <td>NaN</td>\n      <td>NaN</td>\n      <td>NaN</td>\n      <td>Tie</td>\n      <td>0.0</td>\n      <td>53.0</td>\n      <td>46.5</td>\n    </tr>\n    <tr>\n      <th>1970-09-13</th>\n      <td>1970-09-13</td>\n      <td>Gallup</td>\n      <td>The Daily Telegraph</td>\n      <td>NaN</td>\n      <td>NaN</td>\n      <td>46.5</td>\n      <td>44.0</td>\n      <td>NaN</td>\n      <td>NaN</td>\n      <td>NaN</td>\n      <td>...</td>\n      <td>NaN</td>\n      <td>NaN</td>\n      <td>NaN</td>\n      <td>NaN</td>\n      <td>NaN</td>\n      <td>NaN</td>\n      <td>con+2.5</td>\n      <td>2.5</td>\n      <td>52.0</td>\n      <td>46.5</td>\n    </tr>\n    <tr>\n      <th>1970-08-16</th>\n      <td>1970-08-16</td>\n      <td>Gallup</td>\n      <td>The Daily Telegraph</td>\n      <td>NaN</td>\n      <td>NaN</td>\n      <td>47.0</td>\n      <td>43.5</td>\n      <td>NaN</td>\n      <td>NaN</td>\n      <td>NaN</td>\n      <td>...</td>\n      <td>NaN</td>\n      <td>NaN</td>\n      <td>NaN</td>\n      <td>NaN</td>\n      <td>NaN</td>\n      <td>NaN</td>\n      <td>con+3.5</td>\n      <td>3.5</td>\n      <td>51.0</td>\n      <td>47.0</td>\n    </tr>\n    <tr>\n      <th>1970-06-18</th>\n      <td>1970-06-18</td>\n      <td>General Election</td>\n      <td>1970 general election</td>\n      <td>NaN</td>\n      <td>NaN</td>\n      <td>46.4</td>\n      <td>43.1</td>\n      <td>NaN</td>\n      <td>NaN</td>\n      <td>NaN</td>\n      <td>...</td>\n      <td>NaN</td>\n      <td>NaN</td>\n      <td>NaN</td>\n      <td>NaN</td>\n      <td>NaN</td>\n      <td>NaN</td>\n      <td>con+3.3</td>\n      <td>3.3</td>\n      <td>50.6</td>\n      <td>46.4</td>\n    </tr>\n  </tbody>\n</table>\n<p>5214 rows × 24 columns</p>\n</div>"
     },
     "execution_count": 50,
     "metadata": {},
     "output_type": "execute_result"
    }
   ],
   "source": [
    "all_polls.set_index('date_concluded').loc[datetime.date(2020,1,1):]"
   ],
   "metadata": {
    "collapsed": false,
    "pycharm": {
     "name": "#%%\n"
    }
   }
  },
  {
   "cell_type": "code",
   "execution_count": 51,
   "outputs": [],
   "source": [
    "one_year_polls['poll_month'] = one_year_polls['date_concluded'].apply(lambda x: x.replace(day=1))"
   ],
   "metadata": {
    "collapsed": false,
    "pycharm": {
     "name": "#%%\n"
    }
   }
  },
  {
   "cell_type": "code",
   "execution_count": 52,
   "outputs": [],
   "source": [
    "kantar_polls = all_polls.query('pollster == \"Kantar Public\" and date_concluded> \"2019-01-01\"').copy()\n",
    "other_polls = all_polls.query('pollster != \"Kantar Public\" and date_concluded> \"2019-01-01\"').copy()"
   ],
   "metadata": {
    "collapsed": false,
    "pycharm": {
     "name": "#%%\n"
    }
   }
  },
  {
   "cell_type": "code",
   "execution_count": 53,
   "outputs": [],
   "source": [
    "kantar_polls['poll_month'] = kantar_polls['date_concluded'].apply(lambda x: x.replace(day=1))\n",
    "other_polls['poll_month'] = other_polls['date_concluded'].apply(lambda x: x.replace(day=1))"
   ],
   "metadata": {
    "collapsed": false,
    "pycharm": {
     "name": "#%%\n"
    }
   }
  },
  {
   "cell_type": "code",
   "execution_count": 54,
   "outputs": [],
   "source": [
    "other_pollster_monthly_summary = other_polls.groupby(['poll_month', 'pollster'])[major_parties].agg(['mean', 'count'])\n",
    "other_pollster_monthly_summary.columns = [x if i == 0 else f'count{major_parties.index(x)}' for x in major_parties for i in\n",
    "                                    range(0, 2)]\n",
    "other_pollster_monthly_summary.drop(columns=[f'count{major_parties.index(x)}' for x in major_parties][1:], inplace=True)\n",
    "other_pollster_monthly_summary.rename(columns={\"count0\": \"count\"}, inplace=True)\n",
    "\n",
    "agg_info = {x: ['mean'] for x in major_parties}\n",
    "agg_info['count'] = ['count', 'sum']\n",
    "other_monthly_summary = other_pollster_monthly_summary.reset_index().groupby(['poll_month']).agg(agg_info)\n",
    "other_monthly_summary.columns = major_parties + ['pollster_count', 'poll_count']"
   ],
   "metadata": {
    "collapsed": false,
    "pycharm": {
     "name": "#%%\n"
    }
   }
  },
  {
   "cell_type": "code",
   "execution_count": 55,
   "outputs": [],
   "source": [
    "kantar_pollster_monthly_summary = kantar_polls.groupby(['poll_month', 'pollster'])[major_parties].agg(['mean', 'count'])\n",
    "kantar_pollster_monthly_summary.columns = [x if i == 0 else f'count{major_parties.index(x)}' for x in major_parties for i in\n",
    "                                    range(0, 2)]\n",
    "kantar_pollster_monthly_summary.drop(columns=[f'count{major_parties.index(x)}' for x in major_parties][1:], inplace=True)\n",
    "kantar_pollster_monthly_summary.rename(columns={\"count0\": \"count\"}, inplace=True)\n",
    "\n",
    "agg_info = {x: ['mean'] for x in major_parties}\n",
    "agg_info['count'] = ['count', 'sum']\n",
    "kantar_monthly_summary = kantar_pollster_monthly_summary.reset_index().groupby(['poll_month']).agg(agg_info)\n",
    "kantar_monthly_summary.columns = major_parties + ['pollster_count', 'poll_count']"
   ],
   "metadata": {
    "collapsed": false,
    "pycharm": {
     "name": "#%%\n"
    }
   }
  },
  {
   "cell_type": "code",
   "execution_count": 56,
   "outputs": [],
   "source": [
    "other_monthly_summary[['kantar_con','kantar_lab']] = kantar_monthly_summary[['conservative','labour']]"
   ],
   "metadata": {
    "collapsed": false,
    "pycharm": {
     "name": "#%%\n"
    }
   }
  },
  {
   "cell_type": "code",
   "execution_count": 57,
   "outputs": [],
   "source": [
    "other_monthly_summary.to_clipboard(sep='\\t')"
   ],
   "metadata": {
    "collapsed": false,
    "pycharm": {
     "name": "#%%\n"
    }
   }
  },
  {
   "cell_type": "code",
   "execution_count": null,
   "outputs": [],
   "source": [],
   "metadata": {
    "collapsed": false,
    "pycharm": {
     "name": "#%%\n"
    }
   }
  },
  {
   "cell_type": "code",
   "execution_count": null,
   "outputs": [],
   "source": [],
   "metadata": {
    "collapsed": false,
    "pycharm": {
     "name": "#%%\n"
    }
   }
  }
 ],
 "metadata": {
  "kernelspec": {
   "display_name": "Python 3",
   "language": "python",
   "name": "python3"
  },
  "language_info": {
   "codemirror_mode": {
    "name": "ipython",
    "version": 2
   },
   "file_extension": ".py",
   "mimetype": "text/x-python",
   "name": "python",
   "nbconvert_exporter": "python",
   "pygments_lexer": "ipython2",
   "version": "2.7.6"
  }
 },
 "nbformat": 4,
 "nbformat_minor": 0
}