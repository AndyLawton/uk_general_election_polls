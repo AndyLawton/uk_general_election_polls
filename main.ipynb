{
 "cells": [
  {
   "cell_type": "code",
   "execution_count": 1,
   "outputs": [],
   "source": [
    "%load_ext autoreload\n",
    "%autoreload 2"
   ],
   "metadata": {
    "collapsed": false
   }
  },
  {
   "cell_type": "code",
   "execution_count": 2,
   "outputs": [],
   "source": [
    "import pandas as pd\n",
    "import numpy as np\n",
    "from dateutil.relativedelta import relativedelta"
   ],
   "metadata": {
    "collapsed": false
   }
  },
  {
   "cell_type": "code",
   "execution_count": 3,
   "outputs": [],
   "source": [
    "from scripts.downloader import fetch_all_polls"
   ],
   "metadata": {
    "collapsed": false
   }
  },
  {
   "cell_type": "code",
   "execution_count": 4,
   "outputs": [],
   "source": [
    "all_polls = fetch_all_polls(cleanup=True, refresh=False)"
   ],
   "metadata": {
    "collapsed": false
   }
  },
  {
   "cell_type": "code",
   "execution_count": null,
   "outputs": [],
   "source": [],
   "metadata": {
    "collapsed": false
   }
  },
  {
   "cell_type": "code",
   "execution_count": null,
   "outputs": [],
   "source": [],
   "metadata": {
    "collapsed": false
   }
  },
  {
   "cell_type": "code",
   "execution_count": null,
   "outputs": [],
   "source": [
    "all_polls.date_started.map(lambda x: f'{x.year}-{x.month}').value_counts()"
   ],
   "metadata": {
    "collapsed": false
   }
  },
  {
   "cell_type": "code",
   "execution_count": null,
   "outputs": [],
   "source": [
    "#all_polls = pd.read_csv('poll_database/poll_database.csv')"
   ],
   "metadata": {
    "collapsed": false
   }
  },
  {
   "cell_type": "code",
   "execution_count": null,
   "outputs": [],
   "source": [],
   "metadata": {
    "collapsed": false
   }
  },
  {
   "cell_type": "code",
   "execution_count": null,
   "outputs": [],
   "source": [],
   "metadata": {
    "collapsed": false
   }
  },
  {
   "cell_type": "code",
   "execution_count": 7,
   "outputs": [],
   "source": [
    "all_polls.to_csv('poll_database/poll_database.csv', index=False)\n",
    "all_polls.to_excel('poll_database/poll_database.xlsx', index=False)\n",
    "all_polls.to_json('poll_database/poll_database.json', index=False, orient='split')"
   ],
   "metadata": {
    "collapsed": false
   }
  },
  {
   "cell_type": "code",
   "execution_count": 8,
   "outputs": [],
   "source": [
    "display_columns = ['date_started', 'date_concluded', 'pollster', 'conservative', 'labour', 'liberal_democrat', 'lead']"
   ],
   "metadata": {
    "collapsed": false
   }
  },
  {
   "cell_type": "code",
   "execution_count": 9,
   "outputs": [],
   "source": [
    "all_polls['anti_conservative'] = all_polls[\n",
    "    ['labour', 'liberal_democrat', 'green', 'scottish_national_party', 'plaid_cymru']].fillna(0).sum(axis=1)"
   ],
   "metadata": {
    "collapsed": false
   }
  },
  {
   "cell_type": "code",
   "execution_count": 10,
   "outputs": [
    {
     "data": {
      "text/plain": "     date_concluded                      pollster  labour  liberal_democrat  \\\n101      2022-10-22                       Omnisis    56.0              10.0   \n103      2022-10-21                        YouGov    56.0              10.0   \n105      2022-10-20                 PeoplePolling    53.0              11.0   \n108      2022-10-19  Redfield & Wilton Strategies    55.0              12.0   \n111      2022-10-16  Redfield & Wilton Strategies    56.0              11.0   \n4576     1996-01-08                        Gallup    60.5              14.5   \n4588     1995-10-30                        Gallup    61.0              14.5   \n4622     1995-02-27                        Gallup    60.5              15.0   \n4629     1995-01-09                        Gallup    62.0              14.0   \n4658     1994-05-30                        Gallup    54.0              21.5   \n\n      green  scottish_national_party  plaid_cymru  anti_conservative      lead  \n101     4.0                      4.0          1.0               75.0  lab+34.0  \n103     4.0                      4.0          1.0               75.0  lab+37.0  \n105     6.0                      5.0          NaN               75.0  lab+39.0  \n108     4.0                      4.0          NaN               75.0  lab+36.0  \n111     5.0                      4.0          NaN               76.0  lab+36.0  \n4576    NaN                      NaN          NaN               75.0  lab+39.5  \n4588    NaN                      NaN          NaN               75.5  lab+39.5  \n4622    NaN                      NaN          NaN               75.5  lab+40.0  \n4629    NaN                      NaN          NaN               76.0  lab+43.5  \n4658    NaN                      NaN          NaN               75.5  lab+32.5  ",
      "text/html": "<div>\n<style scoped>\n    .dataframe tbody tr th:only-of-type {\n        vertical-align: middle;\n    }\n\n    .dataframe tbody tr th {\n        vertical-align: top;\n    }\n\n    .dataframe thead th {\n        text-align: right;\n    }\n</style>\n<table border=\"1\" class=\"dataframe\">\n  <thead>\n    <tr style=\"text-align: right;\">\n      <th></th>\n      <th>date_concluded</th>\n      <th>pollster</th>\n      <th>labour</th>\n      <th>liberal_democrat</th>\n      <th>green</th>\n      <th>scottish_national_party</th>\n      <th>plaid_cymru</th>\n      <th>anti_conservative</th>\n      <th>lead</th>\n    </tr>\n  </thead>\n  <tbody>\n    <tr>\n      <th>101</th>\n      <td>2022-10-22</td>\n      <td>Omnisis</td>\n      <td>56.0</td>\n      <td>10.0</td>\n      <td>4.0</td>\n      <td>4.0</td>\n      <td>1.0</td>\n      <td>75.0</td>\n      <td>lab+34.0</td>\n    </tr>\n    <tr>\n      <th>103</th>\n      <td>2022-10-21</td>\n      <td>YouGov</td>\n      <td>56.0</td>\n      <td>10.0</td>\n      <td>4.0</td>\n      <td>4.0</td>\n      <td>1.0</td>\n      <td>75.0</td>\n      <td>lab+37.0</td>\n    </tr>\n    <tr>\n      <th>105</th>\n      <td>2022-10-20</td>\n      <td>PeoplePolling</td>\n      <td>53.0</td>\n      <td>11.0</td>\n      <td>6.0</td>\n      <td>5.0</td>\n      <td>NaN</td>\n      <td>75.0</td>\n      <td>lab+39.0</td>\n    </tr>\n    <tr>\n      <th>108</th>\n      <td>2022-10-19</td>\n      <td>Redfield &amp; Wilton Strategies</td>\n      <td>55.0</td>\n      <td>12.0</td>\n      <td>4.0</td>\n      <td>4.0</td>\n      <td>NaN</td>\n      <td>75.0</td>\n      <td>lab+36.0</td>\n    </tr>\n    <tr>\n      <th>111</th>\n      <td>2022-10-16</td>\n      <td>Redfield &amp; Wilton Strategies</td>\n      <td>56.0</td>\n      <td>11.0</td>\n      <td>5.0</td>\n      <td>4.0</td>\n      <td>NaN</td>\n      <td>76.0</td>\n      <td>lab+36.0</td>\n    </tr>\n    <tr>\n      <th>4576</th>\n      <td>1996-01-08</td>\n      <td>Gallup</td>\n      <td>60.5</td>\n      <td>14.5</td>\n      <td>NaN</td>\n      <td>NaN</td>\n      <td>NaN</td>\n      <td>75.0</td>\n      <td>lab+39.5</td>\n    </tr>\n    <tr>\n      <th>4588</th>\n      <td>1995-10-30</td>\n      <td>Gallup</td>\n      <td>61.0</td>\n      <td>14.5</td>\n      <td>NaN</td>\n      <td>NaN</td>\n      <td>NaN</td>\n      <td>75.5</td>\n      <td>lab+39.5</td>\n    </tr>\n    <tr>\n      <th>4622</th>\n      <td>1995-02-27</td>\n      <td>Gallup</td>\n      <td>60.5</td>\n      <td>15.0</td>\n      <td>NaN</td>\n      <td>NaN</td>\n      <td>NaN</td>\n      <td>75.5</td>\n      <td>lab+40.0</td>\n    </tr>\n    <tr>\n      <th>4629</th>\n      <td>1995-01-09</td>\n      <td>Gallup</td>\n      <td>62.0</td>\n      <td>14.0</td>\n      <td>NaN</td>\n      <td>NaN</td>\n      <td>NaN</td>\n      <td>76.0</td>\n      <td>lab+43.5</td>\n    </tr>\n    <tr>\n      <th>4658</th>\n      <td>1994-05-30</td>\n      <td>Gallup</td>\n      <td>54.0</td>\n      <td>21.5</td>\n      <td>NaN</td>\n      <td>NaN</td>\n      <td>NaN</td>\n      <td>75.5</td>\n      <td>lab+32.5</td>\n    </tr>\n  </tbody>\n</table>\n</div>"
     },
     "execution_count": 10,
     "metadata": {},
     "output_type": "execute_result"
    }
   ],
   "source": [
    "all_polls[(all_polls.anti_conservative.fillna(0)) >= 75][\n",
    "    ['date_concluded', 'pollster', 'labour', 'liberal_democrat', 'green', 'scottish_national_party', 'plaid_cymru',\n",
    "     'anti_conservative', 'lead']]"
   ],
   "metadata": {
    "collapsed": false
   }
  },
  {
   "cell_type": "code",
   "execution_count": 11,
   "outputs": [
    {
     "data": {
      "text/plain": "     date_started date_concluded                      pollster  conservative  \\\n309    2022-03-17     2022-03-21                 Kantar Public          36.0   \n404    2021-12-06     2021-12-06  Redfield & Wilton Strategies          38.0   \n405    2021-12-03     2021-12-05                       Savanta          38.0   \n407    2021-12-01     2021-12-02                        YouGov          36.0   \n409    2021-11-29     2021-12-01                  Find Out Now          36.0   \n...           ...            ...                           ...           ...   \n6023   1970-12-13     1970-12-13                        Gallup          46.0   \n6025   1970-10-18     1970-10-18                        Gallup          46.5   \n6026   1970-09-13     1970-09-13                        Gallup          46.5   \n6027   1970-08-16     1970-08-16                        Gallup          47.0   \n6028   1970-06-18     1970-06-18              General Election          46.4   \n\n      labour  liberal_democrat     lead  \n309     36.0              12.0      Tie  \n404     36.0               9.0  con+2.0  \n405     37.0               9.0  con+1.0  \n407     33.0               9.0  con+3.0  \n409     35.0              11.0  con+1.0  \n...      ...               ...      ...  \n6023    44.5               NaN  con+1.5  \n6025    46.5               NaN      Tie  \n6026    44.0               NaN  con+2.5  \n6027    43.5               NaN  con+3.5  \n6028    43.1               NaN  con+3.3  \n\n[2547 rows x 7 columns]",
      "text/html": "<div>\n<style scoped>\n    .dataframe tbody tr th:only-of-type {\n        vertical-align: middle;\n    }\n\n    .dataframe tbody tr th {\n        vertical-align: top;\n    }\n\n    .dataframe thead th {\n        text-align: right;\n    }\n</style>\n<table border=\"1\" class=\"dataframe\">\n  <thead>\n    <tr style=\"text-align: right;\">\n      <th></th>\n      <th>date_started</th>\n      <th>date_concluded</th>\n      <th>pollster</th>\n      <th>conservative</th>\n      <th>labour</th>\n      <th>liberal_democrat</th>\n      <th>lead</th>\n    </tr>\n  </thead>\n  <tbody>\n    <tr>\n      <th>309</th>\n      <td>2022-03-17</td>\n      <td>2022-03-21</td>\n      <td>Kantar Public</td>\n      <td>36.0</td>\n      <td>36.0</td>\n      <td>12.0</td>\n      <td>Tie</td>\n    </tr>\n    <tr>\n      <th>404</th>\n      <td>2021-12-06</td>\n      <td>2021-12-06</td>\n      <td>Redfield &amp; Wilton Strategies</td>\n      <td>38.0</td>\n      <td>36.0</td>\n      <td>9.0</td>\n      <td>con+2.0</td>\n    </tr>\n    <tr>\n      <th>405</th>\n      <td>2021-12-03</td>\n      <td>2021-12-05</td>\n      <td>Savanta</td>\n      <td>38.0</td>\n      <td>37.0</td>\n      <td>9.0</td>\n      <td>con+1.0</td>\n    </tr>\n    <tr>\n      <th>407</th>\n      <td>2021-12-01</td>\n      <td>2021-12-02</td>\n      <td>YouGov</td>\n      <td>36.0</td>\n      <td>33.0</td>\n      <td>9.0</td>\n      <td>con+3.0</td>\n    </tr>\n    <tr>\n      <th>409</th>\n      <td>2021-11-29</td>\n      <td>2021-12-01</td>\n      <td>Find Out Now</td>\n      <td>36.0</td>\n      <td>35.0</td>\n      <td>11.0</td>\n      <td>con+1.0</td>\n    </tr>\n    <tr>\n      <th>...</th>\n      <td>...</td>\n      <td>...</td>\n      <td>...</td>\n      <td>...</td>\n      <td>...</td>\n      <td>...</td>\n      <td>...</td>\n    </tr>\n    <tr>\n      <th>6023</th>\n      <td>1970-12-13</td>\n      <td>1970-12-13</td>\n      <td>Gallup</td>\n      <td>46.0</td>\n      <td>44.5</td>\n      <td>NaN</td>\n      <td>con+1.5</td>\n    </tr>\n    <tr>\n      <th>6025</th>\n      <td>1970-10-18</td>\n      <td>1970-10-18</td>\n      <td>Gallup</td>\n      <td>46.5</td>\n      <td>46.5</td>\n      <td>NaN</td>\n      <td>Tie</td>\n    </tr>\n    <tr>\n      <th>6026</th>\n      <td>1970-09-13</td>\n      <td>1970-09-13</td>\n      <td>Gallup</td>\n      <td>46.5</td>\n      <td>44.0</td>\n      <td>NaN</td>\n      <td>con+2.5</td>\n    </tr>\n    <tr>\n      <th>6027</th>\n      <td>1970-08-16</td>\n      <td>1970-08-16</td>\n      <td>Gallup</td>\n      <td>47.0</td>\n      <td>43.5</td>\n      <td>NaN</td>\n      <td>con+3.5</td>\n    </tr>\n    <tr>\n      <th>6028</th>\n      <td>1970-06-18</td>\n      <td>1970-06-18</td>\n      <td>General Election</td>\n      <td>46.4</td>\n      <td>43.1</td>\n      <td>NaN</td>\n      <td>con+3.3</td>\n    </tr>\n  </tbody>\n</table>\n<p>2547 rows × 7 columns</p>\n</div>"
     },
     "execution_count": 11,
     "metadata": {},
     "output_type": "execute_result"
    }
   ],
   "source": [
    "all_polls.query(\"conservative>=labour\")[display_columns]"
   ],
   "metadata": {
    "collapsed": false
   }
  },
  {
   "cell_type": "code",
   "execution_count": null,
   "outputs": [],
   "source": [],
   "metadata": {
    "collapsed": false
   }
  },
  {
   "cell_type": "code",
   "execution_count": null,
   "outputs": [],
   "source": [],
   "metadata": {
    "collapsed": false
   }
  },
  {
   "cell_type": "code",
   "execution_count": 12,
   "outputs": [],
   "source": [],
   "metadata": {
    "collapsed": false
   }
  },
  {
   "cell_type": "code",
   "execution_count": null,
   "outputs": [],
   "source": [],
   "metadata": {
    "collapsed": false
   }
  },
  {
   "cell_type": "code",
   "execution_count": null,
   "outputs": [],
   "source": [
    "all_polls.query(\"liberal_democrat + 4 > conservative\")[display_columns]"
   ],
   "metadata": {
    "collapsed": false
   }
  },
  {
   "cell_type": "code",
   "execution_count": null,
   "outputs": [],
   "source": [
    "all_polls.query(\"pollster == 'YouGov' and green<brexit_party\")[display_columns + ['green', 'reform_uk', 'brexit_party']]"
   ],
   "metadata": {
    "collapsed": false
   }
  },
  {
   "cell_type": "code",
   "execution_count": null,
   "outputs": [],
   "source": [],
   "metadata": {
    "collapsed": false
   }
  },
  {
   "cell_type": "code",
   "execution_count": null,
   "outputs": [],
   "source": [],
   "metadata": {
    "collapsed": false
   }
  },
  {
   "cell_type": "code",
   "execution_count": null,
   "outputs": [],
   "source": [
    "all_polls[(all_polls.anti_conservative.fillna(0)) >= 15][\n",
    "    ['date_concluded', 'pollster', 'labour', 'liberal_democrat', 'green', 'scottish_national_party', 'plaid_cymru',\n",
    "     'anti_conservative', 'lead']]"
   ],
   "metadata": {
    "collapsed": false
   }
  },
  {
   "cell_type": "code",
   "execution_count": null,
   "outputs": [],
   "source": [
    "all_polls.query(\"labour>conservative and lead_value>=35\")[display_columns]"
   ],
   "metadata": {
    "collapsed": false
   }
  },
  {
   "cell_type": "code",
   "execution_count": null,
   "outputs": [],
   "source": [
    "all_polls.query(\"labour>55\")[display_columns]"
   ],
   "metadata": {
    "collapsed": false
   }
  },
  {
   "cell_type": "code",
   "execution_count": null,
   "outputs": [],
   "source": [],
   "metadata": {
    "collapsed": false
   }
  },
  {
   "cell_type": "code",
   "execution_count": null,
   "outputs": [],
   "source": [
    "all_polls.query(\"pollster=='Ipsos MORI' and labour>conservative and lead_value>=35\")[display_columns]"
   ],
   "metadata": {
    "collapsed": false
   }
  },
  {
   "cell_type": "code",
   "execution_count": null,
   "outputs": [],
   "source": [
    "all_polls.query(\"pollster=='ICM Research'\")[display_columns]"
   ],
   "metadata": {
    "collapsed": false
   }
  },
  {
   "cell_type": "code",
   "execution_count": null,
   "outputs": [],
   "source": [
    "all_polls.query(\"pollster=='Savanta ComRes' and labour >42\")[display_columns]"
   ],
   "metadata": {
    "collapsed": false
   }
  },
  {
   "cell_type": "code",
   "execution_count": null,
   "outputs": [],
   "source": [
    "all_polls.query(\"pollster=='Savanta ComRes' and lead_value >= 20\")[display_columns]"
   ],
   "metadata": {
    "collapsed": false
   }
  },
  {
   "cell_type": "code",
   "execution_count": null,
   "outputs": [],
   "source": [
    "all_polls.query(\"labour>53\")[display_columns]"
   ],
   "metadata": {
    "collapsed": false
   }
  },
  {
   "cell_type": "code",
   "execution_count": null,
   "outputs": [],
   "source": [],
   "metadata": {
    "collapsed": false
   }
  },
  {
   "cell_type": "code",
   "execution_count": null,
   "outputs": [],
   "source": [
    "all_polls.query(\"conservative<29 and labour>conservative and lead_value>14\")[display_columns]"
   ],
   "metadata": {
    "collapsed": false
   }
  },
  {
   "cell_type": "code",
   "execution_count": null,
   "outputs": [],
   "source": [
    "all_polls.loc[(all_polls.labour >= 50), 'maj_lead'] = 1\n",
    "all_polls['maj_lead'] = all_polls['maj_lead'].fillna(0)\n",
    "all_polls['maj_lead_in_row'] = 0\n",
    "for ix, value in all_polls['maj_lead'].iteritems():\n",
    "    if value >= 1:\n",
    "        polls_before = all_polls.iloc[:ix]['maj_lead']\n",
    "        polls_after = all_polls.iloc[ix:]['maj_lead']\n",
    "        next_untrue_poll = polls_after[polls_after == 0].index[0]\n",
    "        after_polls = next_untrue_poll - ix\n",
    "\n",
    "        if len(polls_before[polls_before == 0]) == 0:\n",
    "            before_polls = len(polls_before)\n",
    "        else:\n",
    "            last_untrue_poll = polls_before[polls_before == 0].index[-1]\n",
    "            before_polls = (ix - last_untrue_poll) - 1\n",
    "\n",
    "        total_polls = before_polls + after_polls\n",
    "        all_polls.loc[ix, 'maj_lead_in_row'] = total_polls\n",
    "    else:\n",
    "        total_polls = 0"
   ],
   "metadata": {
    "collapsed": false
   }
  },
  {
   "cell_type": "code",
   "execution_count": null,
   "outputs": [],
   "source": [
    "all_polls[all_polls['maj_lead_in_row'] > 5][\n",
    "    ['date_concluded', 'pollster', 'conservative', 'labour', 'liberal_democrat', 'lead',\n",
    "     'maj_lead_in_row']].to_clipboard(sep='\\t')"
   ],
   "metadata": {
    "collapsed": false
   }
  },
  {
   "cell_type": "code",
   "execution_count": null,
   "outputs": [],
   "source": [
    "all_polls"
   ],
   "metadata": {
    "collapsed": false
   }
  },
  {
   "cell_type": "code",
   "execution_count": null,
   "outputs": [],
   "source": [
    "all_polls.loc[(all_polls.labour > all_polls.conservative) & (all_polls.lead_value >= 10), 'dd_lead'] = 1\n",
    "all_polls['dd_lead'] = all_polls['dd_lead'].fillna(0)"
   ],
   "metadata": {
    "collapsed": false
   }
  },
  {
   "cell_type": "code",
   "execution_count": null,
   "outputs": [],
   "source": [
    "all_polls.loc[(all_polls.lead_value >= 10), 'dd_lead'] = 1\n",
    "all_polls['dd_lead'] = all_polls['dd_lead'].fillna(0)"
   ],
   "metadata": {
    "collapsed": false
   }
  },
  {
   "cell_type": "code",
   "execution_count": null,
   "outputs": [],
   "source": [
    "all_polls['dd_in_row'] = 0"
   ],
   "metadata": {
    "collapsed": false
   }
  },
  {
   "cell_type": "code",
   "execution_count": null,
   "outputs": [],
   "source": [
    "for ix, value in all_polls['dd_lead'].iteritems():\n",
    "    if value >= 1:\n",
    "        polls_before = all_polls.iloc[:ix]['dd_lead']\n",
    "        polls_after = all_polls.iloc[ix:]['dd_lead']\n",
    "        next_untrue_poll = polls_after[polls_after == 0].index[0]\n",
    "        after_polls = next_untrue_poll - ix\n",
    "\n",
    "        if len(polls_before[polls_before == 0]) == 0:\n",
    "            before_polls = len(polls_before)\n",
    "        else:\n",
    "            last_untrue_poll = polls_before[polls_before == 0].index[-1]\n",
    "            before_polls = (ix - last_untrue_poll) - 1\n",
    "\n",
    "        total_polls = before_polls + after_polls\n",
    "        all_polls.loc[ix, 'dd_in_row'] = total_polls\n",
    "    else:\n",
    "        total_polls = 0\n",
    "\n"
   ],
   "metadata": {
    "collapsed": false
   }
  },
  {
   "cell_type": "code",
   "execution_count": null,
   "outputs": [],
   "source": [
    "all_polls[all_polls['dd_in_row'] > 22][\n",
    "    ['date_concluded', 'pollster', 'conservative', 'labour', 'liberal_democrat', 'lead', 'dd_in_row']]"
   ],
   "metadata": {
    "collapsed": false
   }
  },
  {
   "cell_type": "code",
   "execution_count": null,
   "outputs": [],
   "source": [
    "polls_after"
   ],
   "metadata": {
    "collapsed": false
   }
  },
  {
   "cell_type": "code",
   "execution_count": null,
   "outputs": [],
   "source": [
    "before_polls"
   ],
   "metadata": {
    "collapsed": false
   }
  },
  {
   "cell_type": "code",
   "execution_count": null,
   "outputs": [],
   "source": [
    "polls_after\n",
    "\n"
   ],
   "metadata": {
    "collapsed": false
   }
  },
  {
   "cell_type": "code",
   "execution_count": null,
   "outputs": [],
   "source": [
    "polls_before[polls_before == 0]"
   ],
   "metadata": {
    "collapsed": false
   }
  },
  {
   "cell_type": "code",
   "execution_count": null,
   "outputs": [],
   "source": [
    "all_polls.query(\"pollster=='Savanta ComRes' and labour>conservative and lead_value>=14\")[display_columns]"
   ],
   "metadata": {
    "collapsed": false
   }
  },
  {
   "cell_type": "code",
   "execution_count": null,
   "outputs": [],
   "source": [
    "all_polls.query(\"lead_value >= 15 and labour>conservative\")[display_columns]"
   ],
   "metadata": {
    "collapsed": false
   }
  },
  {
   "cell_type": "code",
   "execution_count": null,
   "outputs": [],
   "source": [
    "all_polls.query(\"lead_value >= 18 and labour>conservative\")[display_columns]"
   ],
   "metadata": {
    "collapsed": false
   }
  },
  {
   "cell_type": "code",
   "execution_count": null,
   "outputs": [],
   "source": [
    "all_polls.query(\"conservative <29\")[display_columns]"
   ],
   "metadata": {
    "collapsed": false
   }
  },
  {
   "cell_type": "code",
   "execution_count": null,
   "outputs": [],
   "source": [
    "all_polls.query(\"pollster=='YouGov' and liberal_democrat > 54\")[display_columns]"
   ],
   "metadata": {
    "collapsed": false
   }
  },
  {
   "cell_type": "code",
   "execution_count": null,
   "outputs": [],
   "source": [
    "all_polls.query(\"pollster=='Ipsos MORI' and liberal_democrat >=15\")[display_columns]"
   ],
   "metadata": {
    "collapsed": false
   }
  },
  {
   "cell_type": "code",
   "execution_count": null,
   "outputs": [],
   "source": [
    "all_polls.query(\"pollster=='YouGov' and liberal_democrat >12\")[display_columns]"
   ],
   "metadata": {
    "collapsed": false
   }
  },
  {
   "cell_type": "code",
   "execution_count": null,
   "outputs": [],
   "source": [
    "all_polls.query(\"labour + green >= 50\")[display_columns]"
   ],
   "metadata": {
    "collapsed": false
   }
  },
  {
   "cell_type": "code",
   "execution_count": null,
   "outputs": [],
   "source": [
    "all_polls.query(\"pollster=='Opinium' and labour >= 41\")[display_columns]"
   ],
   "metadata": {
    "collapsed": false
   }
  },
  {
   "cell_type": "code",
   "execution_count": null,
   "outputs": [],
   "source": [
    "#all_polls.query(\"pollster == 'YouGov' and conservative <31\")[display_columns]"
   ],
   "metadata": {
    "collapsed": false
   }
  },
  {
   "cell_type": "code",
   "execution_count": null,
   "outputs": [],
   "source": [
    "reporting_date = 'date_started'"
   ],
   "metadata": {
    "collapsed": false
   }
  },
  {
   "cell_type": "code",
   "execution_count": null,
   "outputs": [],
   "source": [
    "most_recent_date = all_polls[reporting_date].max()\n",
    "one_year_polls = all_polls[\n",
    "    all_polls[reporting_date] >= (most_recent_date + relativedelta(months=-17)).replace(day=1)].copy()"
   ],
   "metadata": {
    "collapsed": false
   }
  },
  {
   "cell_type": "code",
   "execution_count": null,
   "outputs": [],
   "source": [],
   "metadata": {
    "collapsed": false
   }
  },
  {
   "cell_type": "code",
   "execution_count": null,
   "outputs": [],
   "source": [
    "pollsters_latest = pd.DataFrame()\n",
    "for pollster in one_year_polls.pollster.unique():\n",
    "    pollster_data = one_year_polls.query(f'pollster == \"{pollster}\"')\n",
    "    latest_poll = pollster_data.iloc[0]\n",
    "    pollsters_latest = pollsters_latest.append(latest_poll)"
   ],
   "metadata": {
    "collapsed": false
   }
  },
  {
   "cell_type": "code",
   "execution_count": null,
   "outputs": [],
   "source": [
    "top_five = {'Ipsos MORI': 100,\n",
    "            'Opinium': 79,\n",
    "            'YouGov': 77,\n",
    "            'Kantar Public': 69,\n",
    "            'Number Cruncher Politics': 61,\n",
    "            'Survation': 59,\n",
    "            'Panelbase': 57,\n",
    "            'Deltapoll': 46,\n",
    "            'BMG Research': 44,\n",
    "            'FocalData': 39,\n",
    "            'ICM Research': 35,\n",
    "            'Savanta': 34,\n",
    "            'Find Out Now': 34*0.3,  # Ludicrous Local Election Polling\n",
    "            'Redfield & Wilton Strategies': 34*.75,\n",
    "            'Techne UK': 34*.75,\n",
    "            'JL Partners Polls': 34*.75,\n",
    "            'PeoplePolling': 34*.75,\n",
    "            'Omnisis': 34*.75,\n",
    "            }\n",
    "\n",
    "top_two = {'Ipsos MORI': 100,\n",
    "           'Survation': 85,\n",
    "           'Kantar Public': 85,\n",
    "           'Panelbase': 74,\n",
    "           'Number Cruncher Politics': 71,\n",
    "           'Opinium': 71,\n",
    "           'YouGov': 67,\n",
    "           'Deltapoll': 50,\n",
    "           'FocalData': 42,\n",
    "           'BMG Research': 39,\n",
    "           'Savanta': 29,\n",
    "           'ICM Research': 27,\n",
    "           'Find Out Now': 34*0.3,  # Ludicrous Local Election Polling\n",
    "           'Redfield & Wilton Strategies': 34*.75,\n",
    "           'Techne UK': 34*.75,\n",
    "           'JL Partners Polls': 34*.75,\n",
    "           'PeoplePolling': 34*.75,\n",
    "           'Omnisis': 34*.75,\n",
    "           }"
   ],
   "metadata": {
    "collapsed": false
   }
  },
  {
   "cell_type": "code",
   "execution_count": null,
   "outputs": [],
   "source": [
    "(71*3 + 79*2 + 100)/6"
   ],
   "metadata": {
    "collapsed": false
   }
  },
  {
   "cell_type": "code",
   "execution_count": null,
   "outputs": [],
   "source": [],
   "metadata": {
    "collapsed": false
   }
  },
  {
   "cell_type": "code",
   "execution_count": null,
   "outputs": [],
   "source": [
    "recency_weights = {\n",
    "    -1: 100,\n",
    "    5: 100,\n",
    "    14: 70,\n",
    "    28: 5,\n",
    "    90: 0\n",
    "}\n",
    "\n",
    "\n",
    "def get_recency_weight(poll_date, current_date, return_category=False):\n",
    "    days_since_poll = (current_date - poll_date).days\n",
    "    days_start_of_range = weight_start_of_range = 0\n",
    "    category = 0\n",
    "    for day, weight in recency_weights.items():\n",
    "        category += 1\n",
    "        if days_since_poll > day:\n",
    "            days_start_of_range = day\n",
    "            weight_start_of_range = weight\n",
    "        else:\n",
    "            percent_through_range = (days_since_poll - days_start_of_range)/(day - days_start_of_range)\n",
    "            full_weight = weight_start_of_range - ((weight_start_of_range - weight)*percent_through_range)\n",
    "            if return_category:\n",
    "                return category - 2\n",
    "            else:\n",
    "                return full_weight\n",
    "    if return_category:\n",
    "        return category - 1\n",
    "    else:\n",
    "        return 0\n"
   ],
   "metadata": {
    "collapsed": false
   }
  },
  {
   "cell_type": "code",
   "execution_count": null,
   "outputs": [],
   "source": [
    "def get_pollster_weight(pollster):\n",
    "    if pollster not in top_two:\n",
    "        return 0\n",
    "    top_five_score = top_five[pollster]\n",
    "    top_two_score = top_two[pollster]\n",
    "    pollster_w = (3*top_two_score + 2*top_five_score + 100)/6\n",
    "    return pollster_w\n"
   ],
   "metadata": {
    "collapsed": false
   }
  },
  {
   "cell_type": "code",
   "execution_count": null,
   "outputs": [],
   "source": [
    "for pollster in top_two.keys():\n",
    "    print(f' {pollster:30s}: {get_pollster_weight(pollster):.1f}')"
   ],
   "metadata": {
    "collapsed": false
   }
  },
  {
   "cell_type": "code",
   "execution_count": null,
   "outputs": [],
   "source": [
    "from scripts.constants import major_parties"
   ],
   "metadata": {
    "collapsed": false
   }
  },
  {
   "cell_type": "code",
   "execution_count": null,
   "outputs": [],
   "source": [
    "pollsters_latest['recency_weight'] = pollsters_latest[reporting_date].apply(get_recency_weight,\n",
    "                                                                            current_date=most_recent_date)\n",
    "pollsters_latest['pollster_weight'] = pollsters_latest['pollster'].apply(get_pollster_weight)\n",
    "pollsters_latest['poll_weight'] = pollsters_latest['pollster_weight']*(pollsters_latest['recency_weight']/100)"
   ],
   "metadata": {
    "collapsed": false
   }
  },
  {
   "cell_type": "code",
   "execution_count": null,
   "outputs": [],
   "source": [
    "most_recent_date"
   ],
   "metadata": {
    "collapsed": false
   }
  },
  {
   "cell_type": "code",
   "execution_count": null,
   "outputs": [],
   "source": [
    "current_average = pd.DataFrame(columns=major_parties + ['lead'], index=['Polling Average'])\n",
    "lead_party = ''\n",
    "max_vote_share = 0\n",
    "second_vote_share = 0\n",
    "for party in major_parties:\n",
    "    party_vote_share = pollsters_latest[party].dot(pollsters_latest['poll_weight'])/pollsters_latest[\n",
    "        'poll_weight'].sum()\n",
    "    if party_vote_share > max_vote_share:\n",
    "        second_vote_share = max_vote_share\n",
    "        max_vote_share = party_vote_share\n",
    "        lead_party = party\n",
    "    else:\n",
    "        if party_vote_share > second_vote_share:\n",
    "            second_vote_share = party_vote_share\n",
    "    current_average.loc['Polling Average', party] = party_vote_share\n",
    "    #current_average.loc['Polling Average', party] = f'{party_vote_share:.1f}%'\n",
    "#current_average.loc['Polling Average', 'lead'] = f'{lead_party:.3s}+{max_vote_share - second_vote_share:.1f}%'\n",
    "current_average.loc['Polling Average', 'lead_value'] = max_vote_share - second_vote_share\n"
   ],
   "metadata": {
    "collapsed": false
   }
  },
  {
   "cell_type": "code",
   "execution_count": null,
   "outputs": [],
   "source": [
    "one_year_polls['poll_month'] = one_year_polls[reporting_date].apply(lambda x: x.replace(day=1))"
   ],
   "metadata": {
    "collapsed": false
   }
  },
  {
   "cell_type": "code",
   "execution_count": null,
   "outputs": [],
   "source": [
    "pollster_monthly_summary = one_year_polls.groupby(['poll_month', 'pollster'])[major_parties].agg(['mean', 'count'])\n",
    "pollster_monthly_summary.columns = [x if i == 0 else f'count{major_parties.index(x)}' for x in major_parties for i in\n",
    "                                    range(0, 2)]\n",
    "pollster_monthly_summary.drop(columns=[f'count{major_parties.index(x)}' for x in major_parties][1:], inplace=True)\n",
    "pollster_monthly_summary.rename(columns={\"count0\": \"count\"}, inplace=True)\n",
    "\n",
    "agg_info = {x: ['mean'] for x in major_parties}\n",
    "agg_info['count'] = ['count', 'sum']\n",
    "monthly_summary = pollster_monthly_summary.reset_index().groupby(['poll_month']).agg(agg_info)\n",
    "monthly_summary.columns = major_parties + ['pollster_count', 'poll_count']"
   ],
   "metadata": {
    "collapsed": false
   }
  },
  {
   "cell_type": "code",
   "execution_count": null,
   "outputs": [],
   "source": [],
   "metadata": {
    "collapsed": false
   }
  },
  {
   "cell_type": "code",
   "execution_count": null,
   "outputs": [],
   "source": [
    "from scripts.functions import format_lead\n",
    "\n",
    "monthly_summary[['lead', 'lead_value']] = monthly_summary.apply(format_lead, axis=1, result_type='expand')"
   ],
   "metadata": {
    "collapsed": false
   }
  },
  {
   "cell_type": "code",
   "execution_count": null,
   "outputs": [],
   "source": [],
   "metadata": {
    "collapsed": false
   }
  },
  {
   "cell_type": "code",
   "execution_count": null,
   "outputs": [],
   "source": [
    "display(pollsters_latest.sort_values(by='poll_weight', ascending=False)[display_columns])\n",
    "display(current_average)\n",
    "display(monthly_summary.iloc[:0:-1])"
   ],
   "metadata": {
    "collapsed": false
   }
  },
  {
   "cell_type": "code",
   "execution_count": null,
   "outputs": [],
   "source": [
    "from html2image import Html2Image\n",
    "\n",
    "hti = Html2Image()"
   ],
   "metadata": {
    "collapsed": false
   }
  },
  {
   "cell_type": "code",
   "execution_count": null,
   "outputs": [],
   "source": [
    "\n",
    "\n",
    "\n",
    "def result_to_opacity(result, range_min, range_max):\n",
    "    result_range = range_max - range_min\n",
    "    result_percent = (result - range_min)/result_range\n",
    "    result_256 = int(result_percent*255)\n",
    "    return f'{result_256:02x}'\n",
    "\n",
    "\n",
    "def add_background_colour_to_cells(df, lead_only=False):\n",
    "    from scripts.constants import party_colors, major_parties\n",
    "    background_df = df.copy()\n",
    "    max_party_lead = background_df['lead_value'].max()\n",
    "\n",
    "    for party in major_parties:\n",
    "        color = party_colors[party]\n",
    "        party_max = background_df[party].max()\n",
    "        party_min = background_df[party].min() - 0.5\n",
    "        if not lead_only:\n",
    "            background_df[party] = background_df[party].apply(\n",
    "                lambda x: f'background-color: {color}{result_to_opacity(x, party_min, party_max)}'\n",
    "            )\n",
    "        else:\n",
    "            background_df[party] = ''\n",
    "        party_in_lead_mask = df[party] == df[major_parties].max(axis=1)\n",
    "        background_df.loc[party_in_lead_mask, 'lead_value'] = df['lead_value'].apply(\n",
    "            lambda x: f'background-color: {color}{result_to_opacity(x, 0, max_party_lead)}'\n",
    "        )\n",
    "\n",
    "    if reporting_date in background_df.columns:\n",
    "        background_df[reporting_date] = background_df[reporting_date].apply(get_recency_weight,\n",
    "                                                                            current_date=most_recent_date)\n",
    "        background_df[reporting_date] = background_df[reporting_date].apply(\n",
    "            lambda x: f'background-color: #A9D08E{result_to_opacity(x, 0, 100)}'\n",
    "        )\n",
    "\n",
    "    for column in background_df.columns:\n",
    "        if not (column in major_parties or column in ['lead_value', reporting_date]):\n",
    "            background_df[column] = ''\n",
    "    return background_df"
   ],
   "metadata": {
    "collapsed": false
   }
  },
  {
   "cell_type": "code",
   "execution_count": null,
   "outputs": [],
   "source": [
    "def polls_to_html(dataframe, title, highlight_party_columns=True, precision=0):\n",
    "    dataframe.index.name = 'id'\n",
    "    table_id = '_'.join(title.split(' ')).lower()\n",
    "\n",
    "    from pandas.io.formats.style import Styler\n",
    "    #styler = dataframe.style\n",
    "    styler = Styler(dataframe, uuid=table_id, cell_ids=True)\n",
    "\n",
    "    styler.apply(add_background_colour_to_cells, axis=None,\n",
    "                 lead_only=not (highlight_party_columns))\n",
    "\n",
    "    styler.format({\n",
    "        \"pollster\": lambda x: f\"{x}\",\n",
    "        \"pollster_count\": lambda x: f\"{x}\",\n",
    "        \"poll_count\": lambda x: f\"{x}\",\n",
    "        \"conservative\": lambda x: f\"{x:.{precision}f}%\",\n",
    "        \"labour\": lambda x: f\"{x:.{precision}f}%\",\n",
    "        \"liberal_democrat\": lambda x: f\"{x:.{precision}f}%\",\n",
    "        \"lead_value\": lambda x: f\"{x:.{precision}f}%\",\n",
    "        reporting_date: lambda x: f\"{x:%d-%b}\",\n",
    "        'poll_month': lambda x: f\"{x:%b-%y}\",\n",
    "        'poll_weight': lambda x: f\"{x:.0f}\",\n",
    "    })\n",
    "\n",
    "    styler.set_table_attributes(f'id=\"{table_id}\"')\n",
    "    styler.hide_index()\n",
    "\n",
    "    # classes = pd.DataFrame([['_'.join(x.split(' ')).lower() for x in dataframe.columns]]\n",
    "    #                        , index=dataframe.index, columns=dataframe.columns)\n",
    "    #\n",
    "    # styler.set_td_classes(classes)\n",
    "\n",
    "    #styler.set_caption(title)\n",
    "    styler.set_properties(**{'min-width': '10px', 'font-size': '12pt', 'text-align': 'center'})\n",
    "\n",
    "    caption_format = {'selector': 'caption',\n",
    "                      'props': [('text-align', 'center'), ('font-size', '20pt'), ('color', 'black'),\n",
    "                                ('padding-bottom', '15')]}\n",
    "    all_cells = {'selector': '', 'props': [('margin', '0 auto'), ('width', '100%')]}\n",
    "    date_col = {'selector': '.col0', 'props': [('text-align', 'left')]}\n",
    "\n",
    "    styles = [all_cells, date_col, caption_format]\n",
    "\n",
    "    if 'poll_weight' in dataframe.columns:\n",
    "        styles.append({'selector': '.col2', 'props': [('color', '#AAA')]})\n",
    "\n",
    "    df_as_html = styler.set_table_styles(styles).render()\n",
    "\n",
    "    for col in range(0, len(dataframe.columns)):\n",
    "        df_as_html = df_as_html.replace(f'col{col}', dataframe.columns[col])\n",
    "\n",
    "    df_as_html = (df_as_html\n",
    "                  .replace('>poll_count', '>Polls')\n",
    "                  .replace('>pollster_count', '>Pollsters')\n",
    "                  .replace('>conservative', '>Conservatives')\n",
    "                  .replace('>labour', '>Labour')\n",
    "                  .replace('>liberal_democrat', '>Lib Dem')\n",
    "                  .replace('>lead_value', '>Lead')\n",
    "                  .replace(f'>{reporting_date}', '>Date')\n",
    "                  .replace('>poll_month', '>Month')\n",
    "                  .replace('>pollster', '>Pollster')\n",
    "                  .replace('>poll_weight', '>w')\n",
    "                  )\n",
    "    return df_as_html"
   ],
   "metadata": {
    "collapsed": false
   }
  },
  {
   "cell_type": "code",
   "execution_count": null,
   "outputs": [],
   "source": [
    "display_columns = [reporting_date, 'pollster', 'conservative', 'labour', 'liberal_democrat', 'lead_value']\n",
    "top_25_html = polls_to_html(all_polls[display_columns][0:25], title='Last 25 Polls')"
   ],
   "metadata": {
    "collapsed": false
   }
  },
  {
   "cell_type": "code",
   "execution_count": null,
   "outputs": [],
   "source": [
    "display_columns = ['pollster', reporting_date, 'poll_weight', 'conservative', 'labour', 'liberal_democrat',\n",
    "                   'lead_value']\n",
    "df = pollsters_latest.sort_values(by='poll_weight', ascending=False)[display_columns]\n",
    "pollsters_recent = polls_to_html(df, title='Latest Polls', highlight_party_columns=False)"
   ],
   "metadata": {
    "collapsed": false
   }
  },
  {
   "cell_type": "code",
   "execution_count": null,
   "outputs": [],
   "source": [
    "display_columns = ['poll_month', 'pollster_count', 'poll_count', 'conservative', 'labour', 'liberal_democrat',\n",
    "                   'lead_value']\n",
    "df = monthly_summary.reset_index()[display_columns].iloc[:0:-1]\n",
    "monthly_averages = polls_to_html(df, title='Monthly Poll Average', highlight_party_columns=True, precision=1)"
   ],
   "metadata": {
    "collapsed": false
   }
  },
  {
   "cell_type": "code",
   "execution_count": null,
   "outputs": [],
   "source": [
    "polling_average = polls_to_html(current_average[['conservative', 'labour', 'liberal_democrat', 'lead_value']],\n",
    "                                title='Polling Average', highlight_party_columns=False, precision=1)"
   ],
   "metadata": {
    "collapsed": false
   }
  },
  {
   "cell_type": "code",
   "execution_count": null,
   "outputs": [],
   "source": [
    "\n",
    "css = \"body {background: white;}\"\n",
    "# hti.screenshot(html_str=top_25_html, css_str=css, save_as='tmp.png', size=(800, 650))\n",
    "# hti.screenshot(html_str=pollsters_recent, css_str=css, save_as='tmp.png', size=(700, 400))"
   ],
   "metadata": {
    "collapsed": false
   }
  },
  {
   "cell_type": "code",
   "execution_count": null,
   "outputs": [],
   "source": [
    "with open('html_outputs/top_25.html', 'w') as f:\n",
    "    f.write(top_25_html)\n",
    "with open('html_outputs/pollsters_recent.html', 'w') as f:\n",
    "    f.write(pollsters_recent)\n",
    "with open('html_outputs/monthly_averages.html', 'w') as f:\n",
    "    f.write(monthly_averages)\n",
    "with open('html_outputs/polling_average.html', 'w') as f:\n",
    "    f.write(polling_average)"
   ],
   "metadata": {
    "collapsed": false
   }
  },
  {
   "cell_type": "code",
   "execution_count": null,
   "outputs": [],
   "source": [
    "from scripts.constants import party_colors, major_parties\n",
    "import matplotlib.pyplot as plt\n",
    "from numpy import arange\n",
    "\n",
    "fig = plt.figure(figsize=(15, 3))\n",
    "fig.set_facecolor('white')\n",
    "ax = plt.gca()\n",
    "\n",
    "# monthly_summary[major_parties[:2]][1:].plot(\n",
    "#     ax=ax,\n",
    "#     ylim=[30, 45],\n",
    "#     color=party_colors,\n",
    "#     linewidth=3\n",
    "# )\n",
    "for party in major_parties[:2]:\n",
    "    plt.plot_date(\n",
    "        x=monthly_summary.index[1:],\n",
    "        y=monthly_summary[party][1:],\n",
    "        fmt='-',\n",
    "        color=party_colors[party],\n",
    "        linewidth=4)\n",
    "\n",
    "    ax.fill_between(monthly_summary.index[1:], monthly_summary[party][1:],\n",
    "                    monthly_summary[major_parties[:2]].min(axis=1)[1:], color=party_colors[party], alpha=0.2)\n",
    "ax.set_yticks(arange(25, 51, 5), minor=False)\n",
    "major_locator = plt.matplotlib.dates.DayLocator([1])\n",
    "major_fmt = plt.matplotlib.dates.DateFormatter('%b-%y')\n",
    "\n",
    "ax.xaxis.set_major_locator(major_locator)\n",
    "ax.xaxis.set_major_formatter(major_fmt)\n",
    "\n",
    "ax.yaxis.set_major_formatter(plt.matplotlib.ticker.FuncFormatter(lambda x, p: f'{x/100:.0%}'))\n",
    "\n",
    "plot_title = 'Opinion Polling Trend'\n",
    "plt.title(plot_title)\n",
    "\n",
    "source = 'Source: Wikipedia - Opinion polling for the next United Kingdom general election'\n",
    "plt.annotate(source, (1, 0), (0, -20), xycoords='axes fraction', textcoords='offset points', va='top', ha='right')\n",
    "fig.savefig('html_outputs/monthly_trend.png', bbox_inches='tight', pad_inches=0.2)"
   ],
   "metadata": {
    "collapsed": false
   }
  },
  {
   "cell_type": "code",
   "execution_count": null,
   "outputs": [],
   "source": [],
   "metadata": {
    "collapsed": false
   }
  },
  {
   "cell_type": "code",
   "execution_count": null,
   "outputs": [],
   "source": [
    "monthly_summary"
   ],
   "metadata": {
    "collapsed": false
   }
  },
  {
   "cell_type": "code",
   "execution_count": null,
   "outputs": [],
   "source": [],
   "metadata": {
    "collapsed": false
   }
  },
  {
   "cell_type": "code",
   "execution_count": null,
   "outputs": [],
   "source": [
    "import datetime"
   ],
   "metadata": {
    "collapsed": false
   }
  },
  {
   "cell_type": "code",
   "execution_count": null,
   "outputs": [],
   "source": [],
   "metadata": {
    "collapsed": false
   }
  },
  {
   "cell_type": "code",
   "execution_count": null,
   "outputs": [],
   "source": [
    "all_polls['anti-Conservative'] = all_polls[\n",
    "    ['labour', 'liberal_democrat', 'alliance', 'change_uk', 'green', 'liberal', 'plaid_cymru',\n",
    "     'scottish_national_party', 'social_democratic_party']].sum(axis=1)\n",
    "all_polls['Conservative+'] = all_polls[\n",
    "    ['conservative', 'brexit_party', 'reform_uk', 'united_kingdom_independence_party', 'reclaim_party']].sum(axis=1)\n",
    "\n",
    "(all_polls\n",
    " .set_index(reporting_date)\n",
    " .rolling(window=15).mean()\n",
    " .loc[:datetime.date(2010, 1, 13)]\n",
    "[['anti-Conservative', 'Conservative+']]\n",
    " .plot(\n",
    "    color=['r', 'b']\n",
    "    , figsize=[20, 5]\n",
    "    , grid='y'\n",
    "    , ylim=[0, 100]\n",
    ")\n",
    ")"
   ],
   "metadata": {
    "collapsed": false
   }
  },
  {
   "cell_type": "code",
   "execution_count": null,
   "outputs": [],
   "source": [],
   "metadata": {
    "collapsed": false
   }
  },
  {
   "cell_type": "code",
   "execution_count": null,
   "outputs": [],
   "source": [
    "group_colours = {'conservative+': '#0087DC',\n",
    "                 'labour+': '#DC241F',\n",
    "                 }\n",
    "groups = list(group_colours.keys())\n",
    "\n",
    "# group_parties = {'conservative+': ['conservative', 'brexit_party', 'reform_uk','united_kingdom_independence_party', 'reclaim_party'],\n",
    "#  'anti-Conservative': ['labour', 'liberal_democrat', 'alliance', 'change_uk', 'green', 'liberal', 'plaid_cymru', 'scottish_national_party', 'social_democratic_party'],\n",
    "#  }\n",
    "\n",
    "group_parties = {'conservative+': ['conservative', 'brexit_party', 'reform_uk', 'united_kingdom_independence_party',\n",
    "                                   'reclaim_party'],\n",
    "                 'labour+': ['labour'],\n",
    "                 }\n",
    "\n",
    "two_group_polls = all_polls[all_polls[reporting_date] >= datetime.datetime(1990, 1, 1)].copy()\n",
    "\n",
    "for group, parties in group_parties.items():\n",
    "    two_group_polls[group] = two_group_polls[parties].sum(axis=1)\n",
    "    two_group_polls.drop(\n",
    "        columns=parties,\n",
    "        inplace=True,\n",
    "    )\n",
    "\n",
    "two_group_polls['poll_month'] = two_group_polls[reporting_date].apply(lambda x: x.replace(day=1))\n",
    "two_group_polls = two_group_polls[[reporting_date, 'pollster', 'poll_month'] + groups]\n",
    "\n",
    "two_group_monthly = two_group_polls.groupby(['poll_month', 'pollster'])[groups].agg(['mean', 'count'])\n",
    "two_group_monthly.columns = [x if i == 0 else f'count{groups.index(x)}' for x in groups for i in range(0, 2)]\n",
    "two_group_monthly.drop(columns=[f'count{groups.index(x)}' for x in groups][1:], inplace=True)\n",
    "two_group_monthly.rename(columns={\"count0\": \"count\"}, inplace=True)\n",
    "\n",
    "agg_info = {x: ['mean'] for x in groups}\n",
    "agg_info['count'] = ['count', 'sum']\n",
    "two_group_monthly_summary = two_group_monthly.reset_index().groupby(['poll_month']).agg(agg_info)\n",
    "two_group_monthly_summary.columns = groups + ['pollster_count', 'poll_count']\n",
    "\n",
    "import matplotlib.pyplot as plt\n",
    "from numpy import arange\n",
    "\n",
    "fig = plt.figure(figsize=(15, 5))\n",
    "fig.set_facecolor('white')\n",
    "ax = plt.gca()\n",
    "\n",
    "for group in groups:\n",
    "    plt.plot_date(\n",
    "        x=two_group_monthly_summary.index[1:],\n",
    "        y=two_group_monthly_summary[group][1:],\n",
    "        fmt='-',\n",
    "        color=group_colours[group],\n",
    "        linewidth=4)\n",
    "\n",
    "    ax.fill_between(two_group_monthly_summary.index[1:], two_group_monthly_summary[group][1:],\n",
    "                    two_group_monthly_summary[groups[:2]].min(axis=1)[1:], color=group_colours[group], alpha=0.2)\n",
    "ax.set_yticks(arange(20, 56, 5), minor=False)\n",
    "# major_locator = plt.matplotlib.dates.DayLocator([1])\n",
    "# major_fmt = plt.matplotlib.dates.DateFormatter('%b-%y')\n",
    "\n",
    "major_locator = plt.matplotlib.dates.MonthLocator([1])\n",
    "major_fmt = plt.matplotlib.dates.DateFormatter(\"%y\")\n",
    "\n",
    "ax.xaxis.set_major_locator(major_locator)\n",
    "ax.xaxis.set_major_formatter(major_fmt)\n",
    "\n",
    "ax.set_xlim([two_group_monthly_summary.index[1], two_group_monthly_summary.index[-1]])\n",
    "\n",
    "ax.yaxis.set_major_formatter(plt.matplotlib.ticker.FuncFormatter(lambda x, p: f'{x/100:.0%}'))\n",
    "\n",
    "titleOffset = 0.125\n",
    "renderer = fig.canvas.get_renderer()\n",
    "figwidth = ax.get_window_extent().width/0.8\n",
    "\n",
    "group_parts = [[f\"{group}\", group_colours[group], 'bold'] for group in groups]\n",
    "titleparts = [['Opinion Polling Trend', 'k', 'book']] + [a for b in [[x, [\" vs \", 'k', 'regular']] for x in group_parts]\n",
    "                                                         for a in b][:-1]\n",
    "\n",
    "for part in titleparts:\n",
    "    txt = fig.text(titleOffset, 0.9, part[0], ha=\"left\", va=\"bottom\", size=\"large\", color=part[1], weight=part[2])\n",
    "    titleOffset += (txt.get_window_extent(renderer=renderer).width/figwidth)\n",
    "\n",
    "# plot_title = 'Opinion Polling Trend'\n",
    "# plt.title(plot_title)\n",
    "\n",
    "source = 'Source: Wikipedia - Opinion polling for the {year} United Kingdom general election'\n",
    "plt.annotate(source, (1, 0), (0, -20), xycoords='axes fraction', textcoords='offset points', va='top', ha='right')\n",
    "\n",
    "titleOffset = 0.15\n",
    "for group, parties in group_parties.items():\n",
    "    colour = group_colours[group]\n",
    "    fig.text(0.35, titleOffset, group, ha=\"left\", va=\"bottom\", size=\"medium\", color=colour, weight='bold')\n",
    "    fig.text(0.445, titleOffset, ': ' + ', '.join(parties).replace('_', ' '), ha=\"left\", va=\"bottom\", size=\"small\",\n",
    "             color='k', weight='regular')\n",
    "    titleOffset += 0.05\n",
    "#fig.savefig('html_outputs/monthly_trend.png', bbox_inches = 'tight', pad_inches = 0.2)"
   ],
   "metadata": {
    "collapsed": false
   }
  },
  {
   "cell_type": "code",
   "execution_count": null,
   "outputs": [],
   "source": [],
   "metadata": {
    "collapsed": false
   }
  },
  {
   "cell_type": "code",
   "execution_count": null,
   "outputs": [],
   "source": [
    "group_colours = {'conservative+': '#0087DC',\n",
    "                 'anti-Conservative': '#DC241F',\n",
    "                 }\n",
    "groups = list(group_colours.keys())\n",
    "\n",
    "# group_parties = {'conservative+': ['conservative', 'brexit_party', 'reform_uk','united_kingdom_independence_party', 'reclaim_party'],\n",
    "#  'anti-Conservative': ['labour', 'liberal_democrat', 'alliance', 'change_uk', 'green', 'liberal', 'plaid_cymru', 'scottish_national_party', 'social_democratic_party'],\n",
    "#  }\n",
    "\n",
    "group_parties = {'conservative+': ['conservative', 'brexit_party', 'reform_uk', 'united_kingdom_independence_party',\n",
    "                                   'reclaim_party'],\n",
    "                 'anti-Conservative': ['labour', 'change_uk', 'green', 'plaid_cymru', 'scottish_national_party',\n",
    "                                       'liberal_democrat'],\n",
    "                 }\n",
    "\n",
    "two_group_polls = all_polls[all_polls[reporting_date] >= datetime.datetime(1990, 1, 1)].copy()\n",
    "\n",
    "for group, parties in group_parties.items():\n",
    "    two_group_polls[group] = two_group_polls[parties].sum(axis=1)\n",
    "    two_group_polls.drop(\n",
    "        columns=parties,\n",
    "        inplace=True,\n",
    "    )\n",
    "\n",
    "two_group_polls['poll_month'] = two_group_polls[reporting_date].apply(lambda x: x.replace(day=1))\n",
    "two_group_polls = two_group_polls[[reporting_date, 'pollster', 'poll_month'] + groups]\n",
    "\n",
    "two_group_monthly = two_group_polls.groupby(['poll_month', 'pollster'])[groups].agg(['mean', 'count'])\n",
    "two_group_monthly.columns = [x if i == 0 else f'count{groups.index(x)}' for x in groups for i in range(0, 2)]\n",
    "two_group_monthly.drop(columns=[f'count{groups.index(x)}' for x in groups][1:], inplace=True)\n",
    "two_group_monthly.rename(columns={\"count0\": \"count\"}, inplace=True)\n",
    "\n",
    "agg_info = {x: ['mean'] for x in groups}\n",
    "agg_info['count'] = ['count', 'sum']\n",
    "two_group_monthly_summary = two_group_monthly.reset_index().groupby(['poll_month']).agg(agg_info)\n",
    "two_group_monthly_summary.columns = groups + ['pollster_count', 'poll_count']\n",
    "\n",
    "import matplotlib.pyplot as plt\n",
    "from numpy import arange\n",
    "\n",
    "fig = plt.figure(figsize=(15, 5))\n",
    "fig.set_facecolor('white')\n",
    "ax = plt.gca()\n",
    "\n",
    "for group in groups:\n",
    "    plt.plot_date(\n",
    "        x=two_group_monthly_summary.index[1:],\n",
    "        y=two_group_monthly_summary[group][1:],\n",
    "        fmt='-',\n",
    "        color=group_colours[group],\n",
    "        linewidth=4)\n",
    "\n",
    "    ax.fill_between(two_group_monthly_summary.index[1:], two_group_monthly_summary[group][1:],\n",
    "                    two_group_monthly_summary[groups[:2]].min(axis=1)[1:], color=group_colours[group], alpha=0.2)\n",
    "ax.set_yticks(arange(20, 81, 5), minor=False)\n",
    "# major_locator = plt.matplotlib.dates.DayLocator([1])\n",
    "# major_fmt = plt.matplotlib.dates.DateFormatter('%b-%y')\n",
    "\n",
    "major_locator = plt.matplotlib.dates.MonthLocator([1])\n",
    "major_fmt = plt.matplotlib.dates.DateFormatter(\"%y\")\n",
    "\n",
    "ax.xaxis.set_major_locator(major_locator)\n",
    "ax.xaxis.set_major_formatter(major_fmt)\n",
    "\n",
    "ax.set_xlim([two_group_monthly_summary.index[1], two_group_monthly_summary.index[-1]])\n",
    "\n",
    "ax.yaxis.set_major_formatter(plt.matplotlib.ticker.FuncFormatter(lambda x, p: f'{x/100:.0%}'))\n",
    "\n",
    "titleOffset = 0.125\n",
    "renderer = fig.canvas.get_renderer()\n",
    "figwidth = ax.get_window_extent().width/0.8\n",
    "\n",
    "group_parts = [[f\"{group}\", group_colours[group], 'bold'] for group in groups]\n",
    "titleparts = [['Opinion Polling Trend', 'k', 'book']] + [a for b in [[x, [\" vs \", 'k', 'regular']] for x in group_parts]\n",
    "                                                         for a in b][:-1]\n",
    "\n",
    "for part in titleparts:\n",
    "    txt = fig.text(titleOffset, 0.9, part[0], ha=\"left\", va=\"bottom\", size=\"large\", color=part[1], weight=part[2])\n",
    "    titleOffset += (txt.get_window_extent(renderer=renderer).width/figwidth)\n",
    "\n",
    "# plot_title = 'Opinion Polling Trend'\n",
    "# plt.title(plot_title)\n",
    "\n",
    "source = 'Source: Wikipedia - Opinion polling for the {year} United Kingdom general election'\n",
    "plt.annotate(source, (1, 0), (0, -20), xycoords='axes fraction', textcoords='offset points', va='top', ha='right')\n",
    "\n",
    "titleOffset = 0.15\n",
    "for group, parties in group_parties.items():\n",
    "    colour = group_colours[group]\n",
    "    fig.text(0.35, titleOffset, group, ha=\"left\", va=\"bottom\", size=\"medium\", color=colour, weight='bold')\n",
    "    fig.text(0.445, titleOffset, ': ' + ', '.join(parties).replace('_', ' '), ha=\"left\", va=\"bottom\", size=\"small\",\n",
    "             color='k', weight='regular')\n",
    "    titleOffset += 0.05\n",
    "#fig.savefig('html_outputs/monthly_trend.png', bbox_inches = 'tight', pad_inches = 0.2)"
   ],
   "metadata": {
    "collapsed": false
   }
  },
  {
   "cell_type": "code",
   "execution_count": null,
   "outputs": [],
   "source": [
    "group_colours = {'conservative+': '#0087DC',\n",
    "                 'anti-Conservative': '#DC241F',\n",
    "                 }\n",
    "groups = list(group_colours.keys())\n",
    "\n",
    "# group_parties = {'conservative+': ['conservative', 'brexit_party', 'reform_uk','united_kingdom_independence_party', 'reclaim_party'],\n",
    "#  'anti-Conservative': ['labour', 'liberal_democrat', 'alliance', 'change_uk', 'green', 'liberal', 'plaid_cymru', 'scottish_national_party', 'social_democratic_party'],\n",
    "#  }\n",
    "\n",
    "group_parties = {'conservative+': ['conservative', 'brexit_party', 'reform_uk', 'united_kingdom_independence_party',\n",
    "                                   'reclaim_party'],\n",
    "                 'anti-Conservative': ['labour', 'change_uk', 'green', 'plaid_cymru', 'scottish_national_party',\n",
    "                                       'liberal_democrat'],\n",
    "                 }\n",
    "\n",
    "two_group_polls = all_polls[all_polls[reporting_date] >= datetime.datetime(2016, 1, 1)].copy()\n",
    "\n",
    "for group, parties in group_parties.items():\n",
    "    two_group_polls[group] = two_group_polls[parties].sum(axis=1)\n",
    "    two_group_polls.drop(\n",
    "        columns=parties,\n",
    "        inplace=True,\n",
    "    )\n",
    "\n",
    "two_group_polls['poll_month'] = two_group_polls[reporting_date].apply(lambda x: x.replace(day=1))\n",
    "two_group_polls = two_group_polls[[reporting_date, 'pollster', 'poll_month'] + groups]\n",
    "\n",
    "two_group_monthly = two_group_polls.groupby(['poll_month', 'pollster'])[groups].agg(['mean', 'count'])\n",
    "two_group_monthly.columns = [x if i == 0 else f'count{groups.index(x)}' for x in groups for i in range(0, 2)]\n",
    "two_group_monthly.drop(columns=[f'count{groups.index(x)}' for x in groups][1:], inplace=True)\n",
    "two_group_monthly.rename(columns={\"count0\": \"count\"}, inplace=True)\n",
    "\n",
    "agg_info = {x: ['mean'] for x in groups}\n",
    "agg_info['count'] = ['count', 'sum']\n",
    "two_group_monthly_summary = two_group_monthly.reset_index().groupby(['poll_month']).agg(agg_info)\n",
    "two_group_monthly_summary.columns = groups + ['pollster_count', 'poll_count']\n",
    "\n",
    "import matplotlib.pyplot as plt\n",
    "from numpy import arange\n",
    "\n",
    "fig = plt.figure(figsize=(15, 5))\n",
    "fig.set_facecolor('white')\n",
    "ax = plt.gca()\n",
    "\n",
    "for group in groups:\n",
    "    plt.plot_date(\n",
    "        x=two_group_monthly_summary.index[1:],\n",
    "        y=two_group_monthly_summary[group][1:],\n",
    "        fmt='-',\n",
    "        color=group_colours[group],\n",
    "        linewidth=4)\n",
    "\n",
    "    ax.fill_between(two_group_monthly_summary.index[1:], two_group_monthly_summary[group][1:],\n",
    "                    two_group_monthly_summary[groups[:2]].min(axis=1)[1:], color=group_colours[group], alpha=0.2)\n",
    "ax.set_yticks(arange(20, 81, 5), minor=False)\n",
    "# major_locator = plt.matplotlib.dates.DayLocator([1])\n",
    "# major_fmt = plt.matplotlib.dates.DateFormatter('%b-%y')\n",
    "\n",
    "major_locator = plt.matplotlib.dates.MonthLocator([1])\n",
    "major_fmt = plt.matplotlib.dates.DateFormatter(\"%Y\")\n",
    "\n",
    "ax.xaxis.set_major_locator(major_locator)\n",
    "ax.xaxis.set_major_formatter(major_fmt)\n",
    "\n",
    "ax.set_xlim([two_group_monthly_summary.index[1], two_group_monthly_summary.index[-1]])\n",
    "\n",
    "ax.yaxis.set_major_formatter(plt.matplotlib.ticker.FuncFormatter(lambda x, p: f'{x/100:.0%}'))\n",
    "\n",
    "titleOffset = 0.125\n",
    "renderer = fig.canvas.get_renderer()\n",
    "figwidth = ax.get_window_extent().width/0.8\n",
    "\n",
    "group_parts = [[f\"{group}\", group_colours[group], 'bold'] for group in groups]\n",
    "titleparts = [['Opinion Polling Trend', 'k', 'book']] + [a for b in [[x, [\" vs \", 'k', 'regular']] for x in group_parts]\n",
    "                                                         for a in b][:-1]\n",
    "\n",
    "for part in titleparts:\n",
    "    txt = fig.text(titleOffset, 0.9, part[0], ha=\"left\", va=\"bottom\", size=\"large\", color=part[1], weight=part[2])\n",
    "    titleOffset += (txt.get_window_extent(renderer=renderer).width/figwidth)\n",
    "\n",
    "# plot_title = 'Opinion Polling Trend'\n",
    "# plt.title(plot_title)\n",
    "\n",
    "source = 'Source: Wikipedia - Opinion polling for the {year} United Kingdom general election'\n",
    "plt.annotate(source, (1, 0), (0, -20), xycoords='axes fraction', textcoords='offset points', va='top', ha='right')\n",
    "\n",
    "titleOffset = 0.15\n",
    "for group, parties in group_parties.items():\n",
    "    colour = group_colours[group]\n",
    "    fig.text(0.35, titleOffset, group, ha=\"left\", va=\"bottom\", size=\"medium\", color=colour, weight='bold')\n",
    "    fig.text(0.445, titleOffset, ': ' + ', '.join(parties).replace('_', ' '), ha=\"left\", va=\"bottom\", size=\"small\",\n",
    "             color='k', weight='regular')\n",
    "    titleOffset += 0.05\n",
    "#fig.savefig('html_outputs/monthly_trend.png', bbox_inches = 'tight', pad_inches = 0.2)"
   ],
   "metadata": {
    "collapsed": false
   }
  },
  {
   "cell_type": "code",
   "execution_count": null,
   "outputs": [],
   "source": [
    "one_year_polls['poll_month'] = one_year_polls[reporting_date].apply(lambda x: x.replace(day=1))"
   ],
   "metadata": {
    "collapsed": false
   }
  },
  {
   "cell_type": "code",
   "execution_count": null,
   "outputs": [],
   "source": [
    "kantar_polls = all_polls.query('pollster == \"Kantar Public\" and date_concluded> \"2019-01-01\"').copy()\n",
    "other_polls = all_polls.query('pollster != \"Kantar Public\" and date_concluded> \"2019-01-01\"').copy()"
   ],
   "metadata": {
    "collapsed": false
   }
  },
  {
   "cell_type": "code",
   "execution_count": null,
   "outputs": [],
   "source": [
    "kantar_polls['poll_month'] = kantar_polls[reporting_date].apply(lambda x: x.replace(day=1))\n",
    "other_polls['poll_month'] = other_polls[reporting_date].apply(lambda x: x.replace(day=1))"
   ],
   "metadata": {
    "collapsed": false
   }
  },
  {
   "cell_type": "code",
   "execution_count": null,
   "outputs": [],
   "source": [
    "other_pollster_monthly_summary = other_polls.groupby(['poll_month', 'pollster'])[major_parties].agg(['mean', 'count'])\n",
    "other_pollster_monthly_summary.columns = [x if i == 0 else f'count{major_parties.index(x)}' for x in major_parties for i\n",
    "                                          in\n",
    "                                          range(0, 2)]\n",
    "other_pollster_monthly_summary.drop(columns=[f'count{major_parties.index(x)}' for x in major_parties][1:], inplace=True)\n",
    "other_pollster_monthly_summary.rename(columns={\"count0\": \"count\"}, inplace=True)\n",
    "\n",
    "agg_info = {x: ['mean'] for x in major_parties}\n",
    "agg_info['count'] = ['count', 'sum']\n",
    "other_monthly_summary = other_pollster_monthly_summary.reset_index().groupby(['poll_month']).agg(agg_info)\n",
    "other_monthly_summary.columns = major_parties + ['pollster_count', 'poll_count']"
   ],
   "metadata": {
    "collapsed": false
   }
  },
  {
   "cell_type": "code",
   "execution_count": null,
   "outputs": [],
   "source": [
    "kantar_pollster_monthly_summary = kantar_polls.groupby(['poll_month', 'pollster'])[major_parties].agg(['mean', 'count'])\n",
    "kantar_pollster_monthly_summary.columns = [x if i == 0 else f'count{major_parties.index(x)}' for x in major_parties for\n",
    "                                           i in\n",
    "                                           range(0, 2)]\n",
    "kantar_pollster_monthly_summary.drop(columns=[f'count{major_parties.index(x)}' for x in major_parties][1:],\n",
    "                                     inplace=True)\n",
    "kantar_pollster_monthly_summary.rename(columns={\"count0\": \"count\"}, inplace=True)\n",
    "\n",
    "agg_info = {x: ['mean'] for x in major_parties}\n",
    "agg_info['count'] = ['count', 'sum']\n",
    "kantar_monthly_summary = kantar_pollster_monthly_summary.reset_index().groupby(['poll_month']).agg(agg_info)\n",
    "kantar_monthly_summary.columns = major_parties + ['pollster_count', 'poll_count']"
   ],
   "metadata": {
    "collapsed": false
   }
  },
  {
   "cell_type": "code",
   "execution_count": null,
   "outputs": [],
   "source": [
    "other_monthly_summary[['kantar_con', 'kantar_lab']] = kantar_monthly_summary[['conservative', 'labour']]"
   ],
   "metadata": {
    "collapsed": false
   }
  },
  {
   "cell_type": "code",
   "execution_count": null,
   "outputs": [],
   "source": [
    "other_monthly_summary.to_clipboard(sep='\\t')"
   ],
   "metadata": {
    "collapsed": false
   }
  },
  {
   "cell_type": "code",
   "execution_count": null,
   "outputs": [],
   "source": [],
   "metadata": {
    "collapsed": false
   }
  },
  {
   "cell_type": "code",
   "execution_count": null,
   "outputs": [],
   "source": [],
   "metadata": {
    "collapsed": false
   }
  },
  {
   "cell_type": "code",
   "execution_count": null,
   "outputs": [],
   "source": [],
   "metadata": {
    "collapsed": false
   }
  },
  {
   "cell_type": "code",
   "execution_count": null,
   "outputs": [],
   "source": [
    "general_elections = all_polls.query('pollster==\"General Election\"')\n",
    "general_election_dates = list(general_elections.date_concluded.unique())\n",
    "#general_elections = general_elections[general_elections.date_concluded > datetime.datetime(2016,1,1)]"
   ],
   "metadata": {
    "collapsed": false
   }
  },
  {
   "cell_type": "code",
   "execution_count": null,
   "outputs": [],
   "source": [
    "for ge in general_election_dates[::-1]:\n",
    "    if ge < np.datetime64('2016-01-01'):\n",
    "        continue\n",
    "\n",
    "    print(ge)"
   ],
   "metadata": {
    "collapsed": false
   }
  },
  {
   "cell_type": "code",
   "execution_count": null,
   "outputs": [],
   "source": [
    "general_elections[general_elections.date_concluded == ge]"
   ],
   "metadata": {
    "collapsed": false
   }
  },
  {
   "cell_type": "code",
   "execution_count": null,
   "outputs": [],
   "source": [
    "all_polls.query('liberal_democrat + 10 > conservative')"
   ],
   "metadata": {
    "collapsed": false
   }
  },
  {
   "cell_type": "code",
   "execution_count": null,
   "outputs": [],
   "source": [
    "all_polls.query('labour>56')"
   ],
   "metadata": {
    "collapsed": false
   }
  },
  {
   "cell_type": "code",
   "execution_count": null,
   "outputs": [],
   "source": [
    "GEs_to_use = [\n",
    "\n",
    "]"
   ],
   "metadata": {
    "collapsed": false
   }
  },
  {
   "cell_type": "code",
   "execution_count": null,
   "outputs": [],
   "source": [
    "all_polls.query('pollster==\"Techne UK\"')"
   ],
   "metadata": {
    "collapsed": false
   }
  },
  {
   "cell_type": "code",
   "execution_count": null,
   "outputs": [],
   "source": [
    "break"
   ],
   "metadata": {
    "collapsed": false
   }
  },
  {
   "cell_type": "code",
   "execution_count": null,
   "outputs": [],
   "source": [
    "import pandas as pd\n",
    "import requests\n",
    "from io import StringIO\n",
    "\n",
    "url = 'https://www.markpack.org.uk/files/2022/07/PollBase-Q2-2022.xlsx'\n",
    "headers = {\"User-Agent\": \"Mozilla/5.0 (Macintosh; Intel Mac OS X 10.14; rv:66.0) Gecko/20100101 Firefox/66.0\"}\n",
    "req = requests.get(url, headers=headers)\n",
    "\n"
   ],
   "metadata": {
    "collapsed": false
   }
  },
  {
   "cell_type": "code",
   "execution_count": null,
   "outputs": [],
   "source": [
    "data = StringIO(req.content)"
   ],
   "metadata": {
    "collapsed": false
   }
  },
  {
   "cell_type": "code",
   "execution_count": null,
   "outputs": [],
   "source": [
    "pollbase = pd.read_excel(req.content, sheet_name=1)"
   ],
   "metadata": {
    "collapsed": false
   }
  },
  {
   "cell_type": "code",
   "execution_count": null,
   "outputs": [],
   "source": [
    "pollbase"
   ],
   "metadata": {
    "collapsed": false
   }
  },
  {
   "cell_type": "code",
   "execution_count": null,
   "outputs": [],
   "source": [
    "all_polls['poll_month'] = all_polls['date_concluded'].apply(lambda x: x.replace(day=1))"
   ],
   "metadata": {
    "collapsed": false
   }
  },
  {
   "cell_type": "code",
   "execution_count": null,
   "outputs": [],
   "source": [
    "pollster_monthly_summary = all_polls.groupby(['poll_month', 'pollster'])[major_parties].agg(['mean', 'count'])\n",
    "pollster_monthly_summary.columns = [x if i == 0 else f'count{major_parties.index(x)}' for x in major_parties for i in\n",
    "                                    range(0, 2)]\n",
    "pollster_monthly_summary.drop(columns=[f'count{major_parties.index(x)}' for x in major_parties][1:], inplace=True)\n",
    "pollster_monthly_summary.rename(columns={\"count0\": \"count\"}, inplace=True)\n",
    "\n",
    "agg_info = {x: ['mean'] for x in major_parties}\n",
    "agg_info['count'] = ['count', 'sum']\n",
    "monthly_summary = pollster_monthly_summary.reset_index().groupby(['poll_month']).agg(agg_info)\n",
    "monthly_summary.columns = major_parties + ['pollster_count', 'poll_count']"
   ],
   "metadata": {
    "collapsed": false
   }
  },
  {
   "cell_type": "code",
   "execution_count": null,
   "outputs": [],
   "source": [
    "monthly_summary.query('conservative<31.5')"
   ],
   "metadata": {
    "collapsed": false
   }
  },
  {
   "cell_type": "code",
   "execution_count": null,
   "outputs": [],
   "source": [
    "monthly_summary.query('(labour-conservative)>9.3')"
   ],
   "metadata": {
    "collapsed": false
   }
  },
  {
   "cell_type": "code",
   "execution_count": null,
   "outputs": [],
   "source": [],
   "metadata": {
    "collapsed": false
   }
  },
  {
   "cell_type": "code",
   "execution_count": null,
   "outputs": [],
   "source": [],
   "metadata": {
    "collapsed": false
   }
  },
  {
   "cell_type": "code",
   "execution_count": null,
   "outputs": [],
   "source": [],
   "metadata": {
    "collapsed": false
   }
  },
  {
   "cell_type": "code",
   "execution_count": null,
   "outputs": [],
   "source": [],
   "metadata": {
    "collapsed": false
   }
  },
  {
   "cell_type": "code",
   "execution_count": null,
   "outputs": [],
   "source": [],
   "metadata": {
    "collapsed": false
   }
  },
  {
   "cell_type": "code",
   "execution_count": null,
   "outputs": [],
   "source": [],
   "metadata": {
    "collapsed": false
   }
  },
  {
   "cell_type": "code",
   "execution_count": null,
   "outputs": [],
   "source": [],
   "metadata": {
    "collapsed": false
   }
  },
  {
   "cell_type": "code",
   "execution_count": null,
   "outputs": [],
   "source": [],
   "metadata": {
    "collapsed": false
   }
  },
  {
   "cell_type": "code",
   "execution_count": null,
   "outputs": [],
   "source": [],
   "metadata": {
    "collapsed": false
   }
  },
  {
   "cell_type": "code",
   "execution_count": null,
   "outputs": [],
   "source": [],
   "metadata": {
    "collapsed": false
   }
  },
  {
   "cell_type": "code",
   "execution_count": null,
   "outputs": [],
   "source": [],
   "metadata": {
    "collapsed": false
   }
  },
  {
   "cell_type": "code",
   "execution_count": null,
   "outputs": [],
   "source": [],
   "metadata": {
    "collapsed": false
   }
  },
  {
   "cell_type": "code",
   "execution_count": null,
   "outputs": [],
   "source": [],
   "metadata": {
    "collapsed": false
   }
  },
  {
   "cell_type": "code",
   "execution_count": null,
   "outputs": [],
   "source": [],
   "metadata": {
    "collapsed": false
   }
  },
  {
   "cell_type": "code",
   "execution_count": null,
   "outputs": [],
   "source": [],
   "metadata": {
    "collapsed": false
   }
  },
  {
   "cell_type": "code",
   "execution_count": null,
   "outputs": [],
   "source": [],
   "metadata": {
    "collapsed": false
   }
  },
  {
   "cell_type": "code",
   "execution_count": null,
   "outputs": [],
   "source": [],
   "metadata": {
    "collapsed": false
   }
  }
 ],
 "metadata": {
  "kernelspec": {
   "display_name": "Python 3",
   "language": "python",
   "name": "python3"
  },
  "language_info": {
   "codemirror_mode": {
    "name": "ipython",
    "version": 2
   },
   "file_extension": ".py",
   "mimetype": "text/x-python",
   "name": "python",
   "nbconvert_exporter": "python",
   "pygments_lexer": "ipython2",
   "version": "2.7.6"
  }
 },
 "nbformat": 4,
 "nbformat_minor": 0
}
