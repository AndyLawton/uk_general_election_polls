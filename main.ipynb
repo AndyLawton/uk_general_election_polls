{
 "cells": [
  {
   "cell_type": "code",
   "execution_count": 1,
   "metadata": {
    "collapsed": true
   },
   "outputs": [],
   "source": [
    "import pandas as pd\n",
    "from dateutil.relativedelta import relativedelta"
   ]
  },
  {
   "cell_type": "code",
   "execution_count": 2,
   "outputs": [],
   "source": [
    "%load_ext autoreload\n",
    "%autoreload 2"
   ],
   "metadata": {
    "collapsed": false,
    "pycharm": {
     "name": "#%%\n"
    }
   }
  },
  {
   "cell_type": "code",
   "execution_count": 3,
   "outputs": [],
   "source": [
    "from scripts.downloader import fetch_all_polls"
   ],
   "metadata": {
    "collapsed": false,
    "pycharm": {
     "name": "#%%\n"
    }
   }
  },
  {
   "cell_type": "code",
   "execution_count": 5,
   "outputs": [],
   "source": [
    "all_polls = fetch_all_polls(cleanup=True, refresh=False)"
   ],
   "metadata": {
    "collapsed": false,
    "pycharm": {
     "name": "#%%\n"
    }
   }
  },
  {
   "cell_type": "code",
   "execution_count": 6,
   "outputs": [],
   "source": [
    "all_polls.to_csv('poll_database/poll_database.csv', index=False)\n",
    "all_polls.to_excel('poll_database/poll_database.xlsx', index=False)\n",
    "all_polls.to_json('poll_database/poll_database.json', index=False, orient='split')"
   ],
   "metadata": {
    "collapsed": false,
    "pycharm": {
     "name": "#%%\n"
    }
   }
  },
  {
   "cell_type": "code",
   "execution_count": 7,
   "outputs": [],
   "source": [
    "display_columns = ['date_concluded', 'pollster', 'conservative', 'labour', 'liberal_democrat', 'lead']"
   ],
   "metadata": {
    "collapsed": false,
    "pycharm": {
     "name": "#%%\n"
    }
   }
  },
  {
   "cell_type": "code",
   "execution_count": 7,
   "outputs": [],
   "source": [],
   "metadata": {
    "collapsed": false,
    "pycharm": {
     "name": "#%%\n"
    }
   }
  },
  {
   "cell_type": "code",
   "execution_count": 8,
   "outputs": [],
   "source": [
    "#all_polls.query(\"pollster == 'YouGov' and conservative <31\")[display_columns]"
   ],
   "metadata": {
    "collapsed": false,
    "pycharm": {
     "name": "#%%\n"
    }
   }
  },
  {
   "cell_type": "code",
   "execution_count": 8,
   "outputs": [],
   "source": [],
   "metadata": {
    "collapsed": false,
    "pycharm": {
     "name": "#%%\n"
    }
   }
  },
  {
   "cell_type": "code",
   "execution_count": 9,
   "outputs": [],
   "source": [
    "most_recent_date = all_polls.iloc[0].date_concluded\n",
    "one_year_polls = all_polls[\n",
    "    all_polls['date_concluded'] >= (most_recent_date + relativedelta(months=-12)).replace(day=1)].copy()"
   ],
   "metadata": {
    "collapsed": false,
    "pycharm": {
     "name": "#%%\n"
    }
   }
  },
  {
   "cell_type": "code",
   "execution_count": 9,
   "outputs": [],
   "source": [],
   "metadata": {
    "collapsed": false,
    "pycharm": {
     "name": "#%%\n"
    }
   }
  },
  {
   "cell_type": "code",
   "execution_count": 10,
   "outputs": [],
   "source": [
    "pollsters_latest = pd.DataFrame()\n",
    "for pollster in one_year_polls.pollster.unique():\n",
    "    pollster_data = one_year_polls.query(f'pollster == \"{pollster}\"')\n",
    "    latest_poll = pollster_data.iloc[0]\n",
    "    pollsters_latest = pollsters_latest.append(latest_poll)"
   ],
   "metadata": {
    "collapsed": false,
    "pycharm": {
     "name": "#%%\n"
    }
   }
  },
  {
   "cell_type": "code",
   "execution_count": 11,
   "outputs": [],
   "source": [
    "top_five = {'Ipsos MORI': 100,\n",
    "            'Opinium': 79,\n",
    "            'YouGov': 77,\n",
    "            'Kantar Public': 69,\n",
    "            'Number Cruncher Politics': 61,\n",
    "            'Survation': 59,\n",
    "            'Panelbase': 57,\n",
    "            'Deltapoll': 46,\n",
    "            'BMG Research': 44,\n",
    "            'FocalData': 39,\n",
    "            'ICM Research': 35,\n",
    "            'Savanta ComRes': 34,\n",
    "            'Find Out Now': 34,\n",
    "            'Redfield & Wilton Strategies': 34,\n",
    "            }\n",
    "\n",
    "top_two = {'Ipsos MORI': 100,\n",
    "           'Survation': 85,\n",
    "           'Kantar Public': 85,\n",
    "           'Panelbase': 74,\n",
    "           'Number Cruncher Politics': 71,\n",
    "           'Opinium': 71,\n",
    "           'YouGov': 67,\n",
    "           'Deltapoll': 50,\n",
    "           'FocalData': 42,\n",
    "           'BMG Research': 39,\n",
    "           'Savanta ComRes': 29,\n",
    "           'ICM Research': 27,\n",
    "           'Find Out Now': 34,\n",
    "           'Redfield & Wilton Strategies': 34,\n",
    "           }"
   ],
   "metadata": {
    "collapsed": false,
    "pycharm": {
     "name": "#%%\n"
    }
   }
  },
  {
   "cell_type": "code",
   "execution_count": 11,
   "outputs": [],
   "source": [],
   "metadata": {
    "collapsed": false,
    "pycharm": {
     "name": "#%%\n"
    }
   }
  },
  {
   "cell_type": "code",
   "execution_count": 12,
   "outputs": [],
   "source": [
    "recency_weights = {\n",
    "    -1: 100,\n",
    "    7: 100,\n",
    "    15: 70,\n",
    "    30: 5,\n",
    "    90: 0\n",
    "}\n",
    "\n",
    "\n",
    "def get_recency_weight(date_concluded, current_date, return_category=False):\n",
    "    days_since_poll = (current_date - date_concluded).days\n",
    "    days_start_of_range = weight_start_of_range = 0\n",
    "    category = 0\n",
    "    for day, weight in recency_weights.items():\n",
    "        category += 1\n",
    "        if days_since_poll > day:\n",
    "            days_start_of_range = day\n",
    "            weight_start_of_range = weight\n",
    "        else:\n",
    "            percent_through_range = (days_since_poll - days_start_of_range)/(day - days_start_of_range)\n",
    "            full_weight = weight_start_of_range - ((weight_start_of_range - weight)*percent_through_range)\n",
    "            if return_category:\n",
    "                return category - 2\n",
    "            else:\n",
    "                return full_weight\n",
    "    if return_category:\n",
    "        return category - 1\n",
    "    else:\n",
    "        return 0\n"
   ],
   "metadata": {
    "collapsed": false,
    "pycharm": {
     "name": "#%%\n"
    }
   }
  },
  {
   "cell_type": "code",
   "execution_count": 13,
   "outputs": [],
   "source": [
    "def get_pollster_weight(pollster):\n",
    "    top_five_score = top_five[pollster]\n",
    "    top_two_score = top_two[pollster]\n",
    "    pollster_w = (3*top_two_score + 2*top_five_score + 100)/6\n",
    "    return pollster_w\n"
   ],
   "metadata": {
    "collapsed": false,
    "pycharm": {
     "name": "#%%\n"
    }
   }
  },
  {
   "cell_type": "code",
   "execution_count": 14,
   "outputs": [],
   "source": [
    "from scripts.constants import major_parties"
   ],
   "metadata": {
    "collapsed": false,
    "pycharm": {
     "name": "#%%\n"
    }
   }
  },
  {
   "cell_type": "code",
   "execution_count": 15,
   "outputs": [],
   "source": [
    "pollsters_latest['recency_weight'] = pollsters_latest['date_concluded'].apply(get_recency_weight,\n",
    "                                                                              current_date=most_recent_date)\n",
    "pollsters_latest['pollster_weight'] = pollsters_latest['pollster'].apply(get_pollster_weight)\n",
    "pollsters_latest['poll_weight'] = pollsters_latest['pollster_weight']*(pollsters_latest['recency_weight']/100)"
   ],
   "metadata": {
    "collapsed": false,
    "pycharm": {
     "name": "#%%\n"
    }
   }
  },
  {
   "cell_type": "code",
   "execution_count": 16,
   "outputs": [],
   "source": [
    "current_average = pd.DataFrame(columns=major_parties + ['lead'], index=['Polling Average'])\n",
    "lead_party = ''\n",
    "max_vote_share = 0\n",
    "second_vote_share = 0\n",
    "for party in major_parties:\n",
    "    party_vote_share = pollsters_latest[party].dot(pollsters_latest['poll_weight'])/pollsters_latest[\n",
    "        'poll_weight'].sum()\n",
    "    if party_vote_share > max_vote_share:\n",
    "        second_vote_share = max_vote_share\n",
    "        max_vote_share = party_vote_share\n",
    "        lead_party = party\n",
    "    else:\n",
    "        if party_vote_share > second_vote_share:\n",
    "            second_vote_share = party_vote_share\n",
    "    current_average.loc['Polling Average', party] = party_vote_share\n",
    "    #current_average.loc['Polling Average', party] = f'{party_vote_share:.1f}%'\n",
    "#current_average.loc['Polling Average', 'lead'] = f'{lead_party:.3s}+{max_vote_share - second_vote_share:.1f}%'\n",
    "current_average.loc['Polling Average', 'lead_value'] = max_vote_share - second_vote_share\n"
   ],
   "metadata": {
    "collapsed": false,
    "pycharm": {
     "name": "#%%\n"
    }
   }
  },
  {
   "cell_type": "code",
   "execution_count": 17,
   "outputs": [],
   "source": [
    "one_year_polls['poll_month'] = one_year_polls['date_concluded'].apply(lambda x: x.replace(day=1))"
   ],
   "metadata": {
    "collapsed": false,
    "pycharm": {
     "name": "#%%\n"
    }
   }
  },
  {
   "cell_type": "code",
   "execution_count": 18,
   "outputs": [],
   "source": [
    "pollster_monthly_summary = one_year_polls.groupby(['poll_month', 'pollster'])[major_parties].agg(['mean', 'count'])\n",
    "pollster_monthly_summary.columns = [x if i == 0 else f'count{major_parties.index(x)}' for x in major_parties for i in\n",
    "                                    range(0, 2)]\n",
    "pollster_monthly_summary.drop(columns=[f'count{major_parties.index(x)}' for x in major_parties][1:], inplace=True)\n",
    "pollster_monthly_summary.rename(columns={\"count0\": \"count\"}, inplace=True)"
   ],
   "metadata": {
    "collapsed": false,
    "pycharm": {
     "name": "#%%\n"
    }
   }
  },
  {
   "cell_type": "code",
   "execution_count": 19,
   "outputs": [],
   "source": [
    "agg_info = {x: ['mean'] for x in major_parties}\n",
    "agg_info['count'] = ['count', 'sum']\n",
    "monthly_summary = pollster_monthly_summary.reset_index().groupby(['poll_month']).agg(agg_info)\n",
    "monthly_summary.columns = major_parties + ['pollster_count', 'poll_count']"
   ],
   "metadata": {
    "collapsed": false,
    "pycharm": {
     "name": "#%%\n"
    }
   }
  },
  {
   "cell_type": "code",
   "execution_count": 20,
   "outputs": [],
   "source": [
    "from scripts.functions import format_lead\n",
    "\n",
    "monthly_summary[['lead', 'lead_value']] = monthly_summary.apply(format_lead, axis=1, result_type='expand')"
   ],
   "metadata": {
    "collapsed": false,
    "pycharm": {
     "name": "#%%\n"
    }
   }
  },
  {
   "cell_type": "code",
   "execution_count": 20,
   "outputs": [],
   "source": [],
   "metadata": {
    "collapsed": false,
    "pycharm": {
     "name": "#%%\n"
    }
   }
  },
  {
   "cell_type": "code",
   "execution_count": 21,
   "outputs": [
    {
     "data": {
      "text/plain": "    date_concluded                      pollster  conservative  labour  \\\n2       2021-12-23                       Opinium          32.0    39.0   \n1       2021-12-30                     Deltapoll          35.0    40.0   \n6       2021-12-20                        YouGov          30.0    36.0   \n0       2022-01-03  Redfield & Wilton Strategies          35.0    38.0   \n3       2021-12-21                     FocalData          34.0    41.0   \n12      2021-12-13                 Kantar Public          34.0    38.0   \n18      2021-12-10                    Ipsos MORI          34.0    39.0   \n7       2021-12-19                Savanta ComRes          32.0    37.0   \n14      2021-12-11                     Survation          32.0    39.0   \n9       2021-12-15                  Find Out Now          30.0    38.0   \n36      2021-11-19                     Panelbase          38.0    39.0   \n60      2021-10-18      Number Cruncher Politics          40.0    32.0   \n186     2021-04-26                  BMG Research          39.0    35.0   \n\n     liberal_democrat     lead  \n2                11.0  lab+7.0  \n1                10.0  lab+5.0  \n6                12.0  lab+6.0  \n0                10.0  lab+3.0  \n3                 9.0  lab+7.0  \n12               11.0  lab+4.0  \n18               11.0  lab+5.0  \n7                13.0  lab+5.0  \n14                9.0  lab+7.0  \n9                10.0  lab+8.0  \n36                9.0  lab+1.0  \n60                6.0  con+8.0  \n186               9.0  con+4.0  ",
      "text/html": "<div>\n<style scoped>\n    .dataframe tbody tr th:only-of-type {\n        vertical-align: middle;\n    }\n\n    .dataframe tbody tr th {\n        vertical-align: top;\n    }\n\n    .dataframe thead th {\n        text-align: right;\n    }\n</style>\n<table border=\"1\" class=\"dataframe\">\n  <thead>\n    <tr style=\"text-align: right;\">\n      <th></th>\n      <th>date_concluded</th>\n      <th>pollster</th>\n      <th>conservative</th>\n      <th>labour</th>\n      <th>liberal_democrat</th>\n      <th>lead</th>\n    </tr>\n  </thead>\n  <tbody>\n    <tr>\n      <th>2</th>\n      <td>2021-12-23</td>\n      <td>Opinium</td>\n      <td>32.0</td>\n      <td>39.0</td>\n      <td>11.0</td>\n      <td>lab+7.0</td>\n    </tr>\n    <tr>\n      <th>1</th>\n      <td>2021-12-30</td>\n      <td>Deltapoll</td>\n      <td>35.0</td>\n      <td>40.0</td>\n      <td>10.0</td>\n      <td>lab+5.0</td>\n    </tr>\n    <tr>\n      <th>6</th>\n      <td>2021-12-20</td>\n      <td>YouGov</td>\n      <td>30.0</td>\n      <td>36.0</td>\n      <td>12.0</td>\n      <td>lab+6.0</td>\n    </tr>\n    <tr>\n      <th>0</th>\n      <td>2022-01-03</td>\n      <td>Redfield &amp; Wilton Strategies</td>\n      <td>35.0</td>\n      <td>38.0</td>\n      <td>10.0</td>\n      <td>lab+3.0</td>\n    </tr>\n    <tr>\n      <th>3</th>\n      <td>2021-12-21</td>\n      <td>FocalData</td>\n      <td>34.0</td>\n      <td>41.0</td>\n      <td>9.0</td>\n      <td>lab+7.0</td>\n    </tr>\n    <tr>\n      <th>12</th>\n      <td>2021-12-13</td>\n      <td>Kantar Public</td>\n      <td>34.0</td>\n      <td>38.0</td>\n      <td>11.0</td>\n      <td>lab+4.0</td>\n    </tr>\n    <tr>\n      <th>18</th>\n      <td>2021-12-10</td>\n      <td>Ipsos MORI</td>\n      <td>34.0</td>\n      <td>39.0</td>\n      <td>11.0</td>\n      <td>lab+5.0</td>\n    </tr>\n    <tr>\n      <th>7</th>\n      <td>2021-12-19</td>\n      <td>Savanta ComRes</td>\n      <td>32.0</td>\n      <td>37.0</td>\n      <td>13.0</td>\n      <td>lab+5.0</td>\n    </tr>\n    <tr>\n      <th>14</th>\n      <td>2021-12-11</td>\n      <td>Survation</td>\n      <td>32.0</td>\n      <td>39.0</td>\n      <td>9.0</td>\n      <td>lab+7.0</td>\n    </tr>\n    <tr>\n      <th>9</th>\n      <td>2021-12-15</td>\n      <td>Find Out Now</td>\n      <td>30.0</td>\n      <td>38.0</td>\n      <td>10.0</td>\n      <td>lab+8.0</td>\n    </tr>\n    <tr>\n      <th>36</th>\n      <td>2021-11-19</td>\n      <td>Panelbase</td>\n      <td>38.0</td>\n      <td>39.0</td>\n      <td>9.0</td>\n      <td>lab+1.0</td>\n    </tr>\n    <tr>\n      <th>60</th>\n      <td>2021-10-18</td>\n      <td>Number Cruncher Politics</td>\n      <td>40.0</td>\n      <td>32.0</td>\n      <td>6.0</td>\n      <td>con+8.0</td>\n    </tr>\n    <tr>\n      <th>186</th>\n      <td>2021-04-26</td>\n      <td>BMG Research</td>\n      <td>39.0</td>\n      <td>35.0</td>\n      <td>9.0</td>\n      <td>con+4.0</td>\n    </tr>\n  </tbody>\n</table>\n</div>"
     },
     "metadata": {},
     "output_type": "display_data"
    },
    {
     "data": {
      "text/plain": "                conservative     labour liberal_democrat lead  lead_value\nPolling Average    32.919046  38.514053        10.629966  NaN    5.595007",
      "text/html": "<div>\n<style scoped>\n    .dataframe tbody tr th:only-of-type {\n        vertical-align: middle;\n    }\n\n    .dataframe tbody tr th {\n        vertical-align: top;\n    }\n\n    .dataframe thead th {\n        text-align: right;\n    }\n</style>\n<table border=\"1\" class=\"dataframe\">\n  <thead>\n    <tr style=\"text-align: right;\">\n      <th></th>\n      <th>conservative</th>\n      <th>labour</th>\n      <th>liberal_democrat</th>\n      <th>lead</th>\n      <th>lead_value</th>\n    </tr>\n  </thead>\n  <tbody>\n    <tr>\n      <th>Polling Average</th>\n      <td>32.919046</td>\n      <td>38.514053</td>\n      <td>10.629966</td>\n      <td>NaN</td>\n      <td>5.595007</td>\n    </tr>\n  </tbody>\n</table>\n</div>"
     },
     "metadata": {},
     "output_type": "display_data"
    },
    {
     "data": {
      "text/plain": "            conservative     labour  liberal_democrat  pollster_count  \\\npoll_month                                                              \n2022-01-01     35.000000  38.000000         10.000000               1   \n2021-12-01     33.633333  38.458333         10.108333              10   \n2021-11-01     37.066667  36.575000          9.250000              10   \n2021-10-01     39.268750  34.645833          8.289583               8   \n2021-09-01     39.843333  34.331667          9.376667              10   \n2021-08-01     40.016667  33.316667         10.400000               6   \n2021-07-01     41.787037  33.601852          9.444444               9   \n2021-06-01     43.477778  33.455556          7.566667               9   \n2021-05-01     43.468750  32.812500          8.062500               8   \n2021-04-01     41.921212  35.186364          7.448485              11   \n2021-03-01     42.460000  35.815000          7.323333              10   \n2021-02-01     41.300000  36.550000          7.125000              10   \n\n            poll_count      lead  lead_value  \npoll_month                                    \n2022-01-01           1   lab+3.0    3.000000  \n2021-12-01          28   lab+4.8    4.825000  \n2021-11-01          23   con+0.5    0.491667  \n2021-10-01          20   con+4.6    4.622917  \n2021-09-01          23   con+5.5    5.511667  \n2021-08-01          18   con+6.7    6.700000  \n2021-07-01          21   con+8.2    8.185185  \n2021-06-01          24  con+10.0   10.022222  \n2021-05-01          21  con+10.7   10.656250  \n2021-04-01          25   con+6.7    6.734848  \n2021-03-01          20   con+6.6    6.645000  \n2021-02-01          21   con+4.8    4.750000  ",
      "text/html": "<div>\n<style scoped>\n    .dataframe tbody tr th:only-of-type {\n        vertical-align: middle;\n    }\n\n    .dataframe tbody tr th {\n        vertical-align: top;\n    }\n\n    .dataframe thead th {\n        text-align: right;\n    }\n</style>\n<table border=\"1\" class=\"dataframe\">\n  <thead>\n    <tr style=\"text-align: right;\">\n      <th></th>\n      <th>conservative</th>\n      <th>labour</th>\n      <th>liberal_democrat</th>\n      <th>pollster_count</th>\n      <th>poll_count</th>\n      <th>lead</th>\n      <th>lead_value</th>\n    </tr>\n    <tr>\n      <th>poll_month</th>\n      <th></th>\n      <th></th>\n      <th></th>\n      <th></th>\n      <th></th>\n      <th></th>\n      <th></th>\n    </tr>\n  </thead>\n  <tbody>\n    <tr>\n      <th>2022-01-01</th>\n      <td>35.000000</td>\n      <td>38.000000</td>\n      <td>10.000000</td>\n      <td>1</td>\n      <td>1</td>\n      <td>lab+3.0</td>\n      <td>3.000000</td>\n    </tr>\n    <tr>\n      <th>2021-12-01</th>\n      <td>33.633333</td>\n      <td>38.458333</td>\n      <td>10.108333</td>\n      <td>10</td>\n      <td>28</td>\n      <td>lab+4.8</td>\n      <td>4.825000</td>\n    </tr>\n    <tr>\n      <th>2021-11-01</th>\n      <td>37.066667</td>\n      <td>36.575000</td>\n      <td>9.250000</td>\n      <td>10</td>\n      <td>23</td>\n      <td>con+0.5</td>\n      <td>0.491667</td>\n    </tr>\n    <tr>\n      <th>2021-10-01</th>\n      <td>39.268750</td>\n      <td>34.645833</td>\n      <td>8.289583</td>\n      <td>8</td>\n      <td>20</td>\n      <td>con+4.6</td>\n      <td>4.622917</td>\n    </tr>\n    <tr>\n      <th>2021-09-01</th>\n      <td>39.843333</td>\n      <td>34.331667</td>\n      <td>9.376667</td>\n      <td>10</td>\n      <td>23</td>\n      <td>con+5.5</td>\n      <td>5.511667</td>\n    </tr>\n    <tr>\n      <th>2021-08-01</th>\n      <td>40.016667</td>\n      <td>33.316667</td>\n      <td>10.400000</td>\n      <td>6</td>\n      <td>18</td>\n      <td>con+6.7</td>\n      <td>6.700000</td>\n    </tr>\n    <tr>\n      <th>2021-07-01</th>\n      <td>41.787037</td>\n      <td>33.601852</td>\n      <td>9.444444</td>\n      <td>9</td>\n      <td>21</td>\n      <td>con+8.2</td>\n      <td>8.185185</td>\n    </tr>\n    <tr>\n      <th>2021-06-01</th>\n      <td>43.477778</td>\n      <td>33.455556</td>\n      <td>7.566667</td>\n      <td>9</td>\n      <td>24</td>\n      <td>con+10.0</td>\n      <td>10.022222</td>\n    </tr>\n    <tr>\n      <th>2021-05-01</th>\n      <td>43.468750</td>\n      <td>32.812500</td>\n      <td>8.062500</td>\n      <td>8</td>\n      <td>21</td>\n      <td>con+10.7</td>\n      <td>10.656250</td>\n    </tr>\n    <tr>\n      <th>2021-04-01</th>\n      <td>41.921212</td>\n      <td>35.186364</td>\n      <td>7.448485</td>\n      <td>11</td>\n      <td>25</td>\n      <td>con+6.7</td>\n      <td>6.734848</td>\n    </tr>\n    <tr>\n      <th>2021-03-01</th>\n      <td>42.460000</td>\n      <td>35.815000</td>\n      <td>7.323333</td>\n      <td>10</td>\n      <td>20</td>\n      <td>con+6.6</td>\n      <td>6.645000</td>\n    </tr>\n    <tr>\n      <th>2021-02-01</th>\n      <td>41.300000</td>\n      <td>36.550000</td>\n      <td>7.125000</td>\n      <td>10</td>\n      <td>21</td>\n      <td>con+4.8</td>\n      <td>4.750000</td>\n    </tr>\n  </tbody>\n</table>\n</div>"
     },
     "metadata": {},
     "output_type": "display_data"
    }
   ],
   "source": [
    "display(pollsters_latest.sort_values(by='poll_weight', ascending=False)[display_columns])\n",
    "display(current_average)\n",
    "display(monthly_summary.iloc[:0:-1])"
   ],
   "metadata": {
    "collapsed": false,
    "pycharm": {
     "name": "#%%\n"
    }
   }
  },
  {
   "cell_type": "code",
   "execution_count": 22,
   "outputs": [],
   "source": [
    "from html2image import Html2Image\n",
    "\n",
    "hti = Html2Image()"
   ],
   "metadata": {
    "collapsed": false,
    "pycharm": {
     "name": "#%%\n"
    }
   }
  },
  {
   "cell_type": "code",
   "execution_count": 23,
   "outputs": [],
   "source": [
    "\n",
    "\n",
    "\n",
    "def result_to_opacity(result, range_min, range_max):\n",
    "    result_range = range_max - range_min\n",
    "    result_percent = (result - range_min)/result_range\n",
    "    result_256 = int(result_percent*255)\n",
    "    return f'{result_256:02x}'\n",
    "\n",
    "\n",
    "def add_background_colour_to_cells(df, lead_only=False):\n",
    "    from scripts.constants import party_colors, major_parties\n",
    "    background_df = df.copy()\n",
    "    max_party_lead = background_df['lead_value'].max()\n",
    "\n",
    "    for party in major_parties:\n",
    "        color = party_colors[party]\n",
    "        party_max = background_df[party].max()\n",
    "        party_min = background_df[party].min() - 0.5\n",
    "        if not lead_only:\n",
    "            background_df[party] = background_df[party].apply(\n",
    "                lambda x: f'background-color: {color}{result_to_opacity(x, party_min, party_max)}'\n",
    "            )\n",
    "        else:\n",
    "            background_df[party] = ''\n",
    "        party_in_lead_mask = df[party] == df[major_parties].max(axis=1)\n",
    "        background_df.loc[party_in_lead_mask, 'lead_value'] = df['lead_value'].apply(\n",
    "            lambda x: f'background-color: {color}{result_to_opacity(x, 0, max_party_lead)}'\n",
    "        )\n",
    "\n",
    "    if 'date_concluded' in background_df.columns:\n",
    "        background_df['date_concluded'] = background_df['date_concluded'].apply(get_recency_weight,\n",
    "                                                                                current_date=most_recent_date)\n",
    "        background_df['date_concluded'] = background_df['date_concluded'].apply(\n",
    "            lambda x: f'background-color: #A9D08E{result_to_opacity(x, 0, 100)}'\n",
    "        )\n",
    "\n",
    "    for column in background_df.columns:\n",
    "        if not (column in major_parties or column in ['lead_value', 'date_concluded']):\n",
    "            background_df[column] = ''\n",
    "    return background_df"
   ],
   "metadata": {
    "collapsed": false,
    "pycharm": {
     "name": "#%%\n"
    }
   }
  },
  {
   "cell_type": "code",
   "execution_count": 24,
   "outputs": [],
   "source": [
    "def polls_to_html(dataframe, title, highlight_party_columns=True, precision=0):\n",
    "    styler = dataframe.style.apply(add_background_colour_to_cells, axis=None,\n",
    "                                   lead_only=not (highlight_party_columns)).format({\n",
    "        \"pollster\": lambda x: f\"{x}\",\n",
    "        \"pollster_count\": lambda x: f\"{x}\",\n",
    "        \"poll_count\": lambda x: f\"{x}\",\n",
    "        \"conservative\": lambda x: f\"{x:.{precision}f}%\",\n",
    "        \"labour\": lambda x: f\"{x:.{precision}f}%\",\n",
    "        \"liberal_democrat\": lambda x: f\"{x:.{precision}f}%\",\n",
    "        \"lead_value\": lambda x: f\"{x:.{precision}f}%\",\n",
    "        'date_concluded': lambda x: f\"{x:%d-%b}\",\n",
    "        'poll_month': lambda x: f\"{x:%b-%y}\",\n",
    "        'poll_weight': lambda x: f\"{x:.0f}\",\n",
    "    })\n",
    "\n",
    "    styler.set_caption(title)\n",
    "    styler.set_properties(**{'min-width': '10px', 'font-size': '12pt', 'text-align': 'center'})\n",
    "\n",
    "    caption_format = {'selector': 'caption',\n",
    "                      'props': [('text-align', 'center'), ('font-size', '20pt'), ('color', 'black'),\n",
    "                                ('padding-bottom', '15')]}\n",
    "    all_cells = {'selector': '', 'props': [('margin', '0 auto'), ('width', '100%')]}\n",
    "    date_col = {'selector': '.col0', 'props': [('text-align', 'left')]}\n",
    "    id_col = {'selector': '.row_heading', 'props': [('display', 'none')]}\n",
    "    id_col_header = {'selector': '.blank.level0', 'props': [('display', 'none')]}\n",
    "\n",
    "    styles = [all_cells, date_col, id_col, id_col_header, caption_format]\n",
    "\n",
    "    if 'poll_weight' in dataframe.columns:\n",
    "        styles.append({'selector': '.col2', 'props': [('color', '#AAA')]})\n",
    "\n",
    "    df_as_html = styler.set_table_styles(styles).render()\n",
    "\n",
    "    df_as_html = (df_as_html\n",
    "                  .replace('poll_count', 'Polls')\n",
    "                  .replace('pollster_count', 'Pollsters')\n",
    "                  .replace('conservative', 'Conservatives')\n",
    "                  .replace('labour', 'Labour')\n",
    "                  .replace('liberal_democrat', 'Lib Dem')\n",
    "                  .replace('lead_value', 'Lead')\n",
    "                  .replace('date_concluded', 'Date')\n",
    "                  .replace('poll_month', 'Month')\n",
    "                  .replace('pollster', 'Pollster')\n",
    "                  .replace('poll_weight', 'w')\n",
    "                  )\n",
    "    return df_as_html"
   ],
   "metadata": {
    "collapsed": false,
    "pycharm": {
     "name": "#%%\n"
    }
   }
  },
  {
   "cell_type": "code",
   "execution_count": 25,
   "outputs": [],
   "source": [
    "display_columns = ['date_concluded', 'pollster', 'conservative', 'labour', 'liberal_democrat', 'lead_value']\n",
    "top_25_html = polls_to_html(all_polls[display_columns][0:25], title='Last 25 Polls')"
   ],
   "metadata": {
    "collapsed": false,
    "pycharm": {
     "name": "#%%\n"
    }
   }
  },
  {
   "cell_type": "code",
   "execution_count": 26,
   "outputs": [],
   "source": [
    "display_columns = ['pollster', 'date_concluded', 'poll_weight', 'conservative', 'labour', 'liberal_democrat',\n",
    "                   'lead_value']\n",
    "df = pollsters_latest.sort_values(by='poll_weight', ascending=False)[display_columns]\n",
    "pollsters_recent = polls_to_html(df, title='Latest Polls', highlight_party_columns=False)"
   ],
   "metadata": {
    "collapsed": false,
    "pycharm": {
     "name": "#%%\n"
    }
   }
  },
  {
   "cell_type": "code",
   "execution_count": 27,
   "outputs": [],
   "source": [
    "display_columns = ['poll_month', 'pollster_count', 'poll_count', 'conservative', 'labour', 'liberal_democrat',\n",
    "                   'lead_value']\n",
    "df = monthly_summary.reset_index()[display_columns].iloc[:0:-1]\n",
    "monthly_averages = polls_to_html(df, title='Monthly Poll Average', highlight_party_columns=True, precision=1)"
   ],
   "metadata": {
    "collapsed": false,
    "pycharm": {
     "name": "#%%\n"
    }
   }
  },
  {
   "cell_type": "code",
   "execution_count": 28,
   "outputs": [],
   "source": [
    "polling_average = polls_to_html(current_average[['conservative', 'labour', 'liberal_democrat', 'lead_value']],\n",
    "                                title='Polling Average', highlight_party_columns=False, precision=1)"
   ],
   "metadata": {
    "collapsed": false,
    "pycharm": {
     "name": "#%%\n"
    }
   }
  },
  {
   "cell_type": "code",
   "execution_count": 29,
   "outputs": [],
   "source": [
    "\n",
    "css = \"body {background: white;}\"\n",
    "# hti.screenshot(html_str=top_25_html, css_str=css, save_as='tmp.png', size=(800, 650))\n",
    "# hti.screenshot(html_str=pollsters_recent, css_str=css, save_as='tmp.png', size=(700, 400))"
   ],
   "metadata": {
    "collapsed": false,
    "pycharm": {
     "name": "#%%\n"
    }
   }
  },
  {
   "cell_type": "code",
   "execution_count": 30,
   "outputs": [],
   "source": [
    "with open('html_outputs/top_25.html', 'w') as f:\n",
    "    f.write(top_25_html)\n",
    "with open('html_outputs/pollsters_recent.html', 'w') as f:\n",
    "    f.write(pollsters_recent)\n",
    "with open('html_outputs/monthly_averages.html', 'w') as f:\n",
    "    f.write(monthly_averages)\n",
    "with open('html_outputs/polling_average.html', 'w') as f:\n",
    "    f.write(polling_average)"
   ],
   "metadata": {
    "collapsed": false,
    "pycharm": {
     "name": "#%%\n"
    }
   }
  },
  {
   "cell_type": "code",
   "execution_count": 31,
   "outputs": [
    {
     "data": {
      "text/plain": "<Figure size 1080x216 with 1 Axes>",
      "image/png": "[encoded data removed]"
     },
     "metadata": {},
     "output_type": "display_data"
    }
   ],
   "source": [
    "from scripts.constants import party_colors, major_parties\n",
    "import matplotlib.pyplot as plt\n",
    "from numpy import arange\n",
    "\n",
    "fig = plt.figure(figsize=(15, 3))\n",
    "fig.set_facecolor('white')\n",
    "ax = plt.gca()\n",
    "\n",
    "# monthly_summary[major_parties[:2]][1:].plot(\n",
    "#     ax=ax,\n",
    "#     ylim=[30, 45],\n",
    "#     color=party_colors,\n",
    "#     linewidth=3\n",
    "# )\n",
    "for party in major_parties[:2]:\n",
    "    plt.plot_date(\n",
    "        x=monthly_summary.index,\n",
    "        y= monthly_summary[party],\n",
    "        fmt='-',\n",
    "        color=party_colors[party],\n",
    "        linewidth=4)\n",
    "\n",
    "    ax.fill_between(monthly_summary.index, monthly_summary[party], monthly_summary[major_parties[:2]].min(axis=1), color=party_colors[party], alpha=0.2)\n",
    "ax.set_yticks(arange(30, 46, 5), minor=False)\n",
    "major_locator = plt.matplotlib.dates.DayLocator([1])\n",
    "major_fmt = plt.matplotlib.dates.DateFormatter('%b-%y')\n",
    "\n",
    "ax.xaxis.set_major_locator(major_locator)\n",
    "ax.xaxis.set_major_formatter(major_fmt)\n",
    "\n",
    "ax.yaxis.set_major_formatter(plt.matplotlib.ticker.FuncFormatter(lambda x, p: f'{x/100:.0%}'))\n",
    "\n",
    "plot_title = 'Opinion Polling Trend'\n",
    "plt.title(plot_title)\n",
    "\n",
    "source = 'Source: Wikipedia - Opinion polling for the next United Kingdom general election'\n",
    "plt.annotate(source, (1, 0), (0, -20), xycoords='axes fraction', textcoords='offset points', va='top', ha='right')\n",
    "fig.savefig('html_outputs/monthly_trend.png', bbox_inches = 'tight', pad_inches = 0.2)"
   ],
   "metadata": {
    "collapsed": false,
    "pycharm": {
     "name": "#%%\n"
    }
   }
  },
  {
   "cell_type": "code",
   "execution_count": null,
   "outputs": [],
   "source": [],
   "metadata": {
    "collapsed": false,
    "pycharm": {
     "name": "#%%\n"
    }
   }
  },
  {
   "cell_type": "code",
   "execution_count": 33,
   "outputs": [
    {
     "data": {
      "text/plain": "            conservative     labour  liberal_democrat  pollster_count  \\\npoll_month                                                              \n2021-01-01     39.892857  38.214286          7.297619               7   \n2021-02-01     41.300000  36.550000          7.125000              10   \n2021-03-01     42.460000  35.815000          7.323333              10   \n2021-04-01     41.921212  35.186364          7.448485              11   \n2021-05-01     43.468750  32.812500          8.062500               8   \n2021-06-01     43.477778  33.455556          7.566667               9   \n2021-07-01     41.787037  33.601852          9.444444               9   \n2021-08-01     40.016667  33.316667         10.400000               6   \n2021-09-01     39.843333  34.331667          9.376667              10   \n2021-10-01     39.268750  34.645833          8.289583               8   \n2021-11-01     37.066667  36.575000          9.250000              10   \n2021-12-01     33.633333  38.458333         10.108333              10   \n2022-01-01     35.000000  38.000000         10.000000               1   \n\n            poll_count      lead  lead_value  \npoll_month                                    \n2021-01-01          17   con+1.7    1.678571  \n2021-02-01          21   con+4.8    4.750000  \n2021-03-01          20   con+6.6    6.645000  \n2021-04-01          25   con+6.7    6.734848  \n2021-05-01          21  con+10.7   10.656250  \n2021-06-01          24  con+10.0   10.022222  \n2021-07-01          21   con+8.2    8.185185  \n2021-08-01          18   con+6.7    6.700000  \n2021-09-01          23   con+5.5    5.511667  \n2021-10-01          20   con+4.6    4.622917  \n2021-11-01          23   con+0.5    0.491667  \n2021-12-01          28   lab+4.8    4.825000  \n2022-01-01           1   lab+3.0    3.000000  ",
      "text/html": "<div>\n<style scoped>\n    .dataframe tbody tr th:only-of-type {\n        vertical-align: middle;\n    }\n\n    .dataframe tbody tr th {\n        vertical-align: top;\n    }\n\n    .dataframe thead th {\n        text-align: right;\n    }\n</style>\n<table border=\"1\" class=\"dataframe\">\n  <thead>\n    <tr style=\"text-align: right;\">\n      <th></th>\n      <th>conservative</th>\n      <th>labour</th>\n      <th>liberal_democrat</th>\n      <th>pollster_count</th>\n      <th>poll_count</th>\n      <th>lead</th>\n      <th>lead_value</th>\n    </tr>\n    <tr>\n      <th>poll_month</th>\n      <th></th>\n      <th></th>\n      <th></th>\n      <th></th>\n      <th></th>\n      <th></th>\n      <th></th>\n    </tr>\n  </thead>\n  <tbody>\n    <tr>\n      <th>2021-01-01</th>\n      <td>39.892857</td>\n      <td>38.214286</td>\n      <td>7.297619</td>\n      <td>7</td>\n      <td>17</td>\n      <td>con+1.7</td>\n      <td>1.678571</td>\n    </tr>\n    <tr>\n      <th>2021-02-01</th>\n      <td>41.300000</td>\n      <td>36.550000</td>\n      <td>7.125000</td>\n      <td>10</td>\n      <td>21</td>\n      <td>con+4.8</td>\n      <td>4.750000</td>\n    </tr>\n    <tr>\n      <th>2021-03-01</th>\n      <td>42.460000</td>\n      <td>35.815000</td>\n      <td>7.323333</td>\n      <td>10</td>\n      <td>20</td>\n      <td>con+6.6</td>\n      <td>6.645000</td>\n    </tr>\n    <tr>\n      <th>2021-04-01</th>\n      <td>41.921212</td>\n      <td>35.186364</td>\n      <td>7.448485</td>\n      <td>11</td>\n      <td>25</td>\n      <td>con+6.7</td>\n      <td>6.734848</td>\n    </tr>\n    <tr>\n      <th>2021-05-01</th>\n      <td>43.468750</td>\n      <td>32.812500</td>\n      <td>8.062500</td>\n      <td>8</td>\n      <td>21</td>\n      <td>con+10.7</td>\n      <td>10.656250</td>\n    </tr>\n    <tr>\n      <th>2021-06-01</th>\n      <td>43.477778</td>\n      <td>33.455556</td>\n      <td>7.566667</td>\n      <td>9</td>\n      <td>24</td>\n      <td>con+10.0</td>\n      <td>10.022222</td>\n    </tr>\n    <tr>\n      <th>2021-07-01</th>\n      <td>41.787037</td>\n      <td>33.601852</td>\n      <td>9.444444</td>\n      <td>9</td>\n      <td>21</td>\n      <td>con+8.2</td>\n      <td>8.185185</td>\n    </tr>\n    <tr>\n      <th>2021-08-01</th>\n      <td>40.016667</td>\n      <td>33.316667</td>\n      <td>10.400000</td>\n      <td>6</td>\n      <td>18</td>\n      <td>con+6.7</td>\n      <td>6.700000</td>\n    </tr>\n    <tr>\n      <th>2021-09-01</th>\n      <td>39.843333</td>\n      <td>34.331667</td>\n      <td>9.376667</td>\n      <td>10</td>\n      <td>23</td>\n      <td>con+5.5</td>\n      <td>5.511667</td>\n    </tr>\n    <tr>\n      <th>2021-10-01</th>\n      <td>39.268750</td>\n      <td>34.645833</td>\n      <td>8.289583</td>\n      <td>8</td>\n      <td>20</td>\n      <td>con+4.6</td>\n      <td>4.622917</td>\n    </tr>\n    <tr>\n      <th>2021-11-01</th>\n      <td>37.066667</td>\n      <td>36.575000</td>\n      <td>9.250000</td>\n      <td>10</td>\n      <td>23</td>\n      <td>con+0.5</td>\n      <td>0.491667</td>\n    </tr>\n    <tr>\n      <th>2021-12-01</th>\n      <td>33.633333</td>\n      <td>38.458333</td>\n      <td>10.108333</td>\n      <td>10</td>\n      <td>28</td>\n      <td>lab+4.8</td>\n      <td>4.825000</td>\n    </tr>\n    <tr>\n      <th>2022-01-01</th>\n      <td>35.000000</td>\n      <td>38.000000</td>\n      <td>10.000000</td>\n      <td>1</td>\n      <td>1</td>\n      <td>lab+3.0</td>\n      <td>3.000000</td>\n    </tr>\n  </tbody>\n</table>\n</div>"
     },
     "execution_count": 33,
     "metadata": {},
     "output_type": "execute_result"
    }
   ],
   "source": [
    "monthly_summary"
   ],
   "metadata": {
    "collapsed": false,
    "pycharm": {
     "name": "#%%\n"
    }
   }
  },
  {
   "cell_type": "code",
   "execution_count": null,
   "outputs": [],
   "source": [],
   "metadata": {
    "collapsed": false,
    "pycharm": {
     "name": "#%%\n"
    }
   }
  },
  {
   "cell_type": "code",
   "execution_count": null,
   "outputs": [],
   "source": [],
   "metadata": {
    "collapsed": false,
    "pycharm": {
     "name": "#%%\n"
    }
   }
  },
  {
   "cell_type": "code",
   "execution_count": null,
   "outputs": [],
   "source": [],
   "metadata": {
    "collapsed": false,
    "pycharm": {
     "name": "#%%\n"
    }
   }
  },
  {
   "cell_type": "code",
   "execution_count": null,
   "outputs": [],
   "source": [],
   "metadata": {
    "collapsed": false,
    "pycharm": {
     "name": "#%%\n"
    }
   }
  },
  {
   "cell_type": "code",
   "execution_count": null,
   "outputs": [],
   "source": [],
   "metadata": {
    "collapsed": false,
    "pycharm": {
     "name": "#%%\n"
    }
   }
  },
  {
   "cell_type": "code",
   "execution_count": null,
   "outputs": [],
   "source": [],
   "metadata": {
    "collapsed": false,
    "pycharm": {
     "name": "#%%\n"
    }
   }
  },
  {
   "cell_type": "code",
   "execution_count": null,
   "outputs": [],
   "source": [],
   "metadata": {
    "collapsed": false,
    "pycharm": {
     "name": "#%%\n"
    }
   }
  },
  {
   "cell_type": "code",
   "execution_count": null,
   "outputs": [],
   "source": [],
   "metadata": {
    "collapsed": false,
    "pycharm": {
     "name": "#%%\n"
    }
   }
  },
  {
   "cell_type": "code",
   "execution_count": null,
   "outputs": [],
   "source": [],
   "metadata": {
    "collapsed": false,
    "pycharm": {
     "name": "#%%\n"
    }
   }
  },
  {
   "cell_type": "code",
   "execution_count": null,
   "outputs": [],
   "source": [],
   "metadata": {
    "collapsed": false,
    "pycharm": {
     "name": "#%%\n"
    }
   }
  }
 ],
 "metadata": {
  "kernelspec": {
   "display_name": "Python 3",
   "language": "python",
   "name": "python3"
  },
  "language_info": {
   "codemirror_mode": {
    "name": "ipython",
    "version": 2
   },
   "file_extension": ".py",
   "mimetype": "text/x-python",
   "name": "python",
   "nbconvert_exporter": "python",
   "pygments_lexer": "ipython2",
   "version": "2.7.6"
  }
 },
 "nbformat": 4,
 "nbformat_minor": 0
}