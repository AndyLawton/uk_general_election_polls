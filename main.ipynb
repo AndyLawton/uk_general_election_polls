{
 "cells": [
  {
   "cell_type": "code",
   "execution_count": null,
   "outputs": [],
   "source": [
    "%load_ext autoreload\n",
    "%autoreload 2"
   ],
   "metadata": {
    "collapsed": false,
    "pycharm": {
     "is_executing": true
    }
   }
  },
  {
   "cell_type": "code",
   "execution_count": null,
   "metadata": {},
   "outputs": [],
   "source": []
  },
  {
   "cell_type": "code",
   "execution_count": 1,
   "metadata": {},
   "outputs": [],
   "source": [
    "import pandas as pd\n",
    "import numpy as np\n",
    "from dateutil.relativedelta import relativedelta"
   ]
  },
  {
   "cell_type": "code",
   "execution_count": 2,
   "metadata": {},
   "outputs": [],
   "source": [
    "from scripts.downloader import fetch_all_polls"
   ]
  },
  {
   "cell_type": "code",
   "execution_count": 3,
   "metadata": {},
   "outputs": [],
   "source": [
    "all_polls_tmp = fetch_all_polls(cleanup=True, refresh=False)"
   ]
  },
  {
   "cell_type": "code",
   "execution_count": 4,
   "outputs": [
    {
     "data": {
      "text/plain": "     date_started date_concluded                      pollster  \\\n0      2023-02-24     2023-02-27                     Deltapoll   \n1      2023-02-26     2023-02-26  Redfield & Wilton Strategies   \n2      2023-02-21     2023-02-23                  BMG Research   \n3      2023-02-22     2023-02-23                       Omnisis   \n4      2023-02-22     2023-02-23                     Techne UK   \n...           ...            ...                           ...   \n6067   1970-11-15     1970-11-15                        Gallup   \n6068   1970-10-18     1970-10-18                        Gallup   \n6069   1970-09-13     1970-09-13                        Gallup   \n6070   1970-08-16     1970-08-16                        Gallup   \n6071   1970-06-18     1970-06-18              General Election   \n\n                     client area sample_size  conservative  labour  \\\n0                       NaN   GB        1060          31.0    46.0   \n1                       NaN   GB        2000          24.0    51.0   \n2                       NaN   GB         TBC          29.0    46.0   \n3                       NaN   GB        1248          24.0    48.0   \n4                       NaN   GB        1633          27.0    49.0   \n...                     ...  ...         ...           ...     ...   \n6067    The Daily Telegraph  NaN         NaN          43.5    48.0   \n6068    The Daily Telegraph  NaN         NaN          46.5    46.5   \n6069    The Daily Telegraph  NaN         NaN          46.5    44.0   \n6070    The Daily Telegraph  NaN         NaN          47.0    43.5   \n6071  1970 general election  NaN         NaN          46.4    43.1   \n\n      liberal_democrat  alliance  ...  liberal  plaid_cymru  reform_uk  \\\n0                  8.0       NaN  ...      NaN          NaN        NaN   \n1                  9.0       NaN  ...      NaN          NaN        7.0   \n2                  9.0       NaN  ...      NaN          NaN        6.0   \n3                 10.0       NaN  ...      NaN          NaN        8.0   \n4                  8.0       NaN  ...      NaN          NaN        5.0   \n...                ...       ...  ...      ...          ...        ...   \n6067               NaN       NaN  ...      6.5          NaN        NaN   \n6068               NaN       NaN  ...      6.5          NaN        NaN   \n6069               NaN       NaN  ...      8.0          NaN        NaN   \n6070               NaN       NaN  ...      7.5          NaN        NaN   \n6071               NaN       NaN  ...      7.5          NaN        NaN   \n\n      scottish_national_party  social_democratic_party  \\\n0                         NaN                      NaN   \n1                         3.0                      NaN   \n2                         NaN                      NaN   \n3                         4.0                      NaN   \n4                         3.0                      NaN   \n...                       ...                      ...   \n6067                      NaN                      NaN   \n6068                      NaN                      NaN   \n6069                      NaN                      NaN   \n6070                      NaN                      NaN   \n6071                      NaN                      NaN   \n\n      united_kingdom_independence_party  reclaim_party  others      lead  \\\n0                                   NaN            NaN     NaN  lab+15.0   \n1                                   NaN            NaN     1.0  lab+27.0   \n2                                   NaN            NaN     NaN  lab+17.0   \n3                                   NaN            NaN     1.0  lab+24.0   \n4                                   NaN            NaN     3.0  lab+22.0   \n...                                 ...            ...     ...       ...   \n6067                                NaN            NaN     NaN   lab+4.5   \n6068                                NaN            NaN     NaN       Tie   \n6069                                NaN            NaN     NaN   con+2.5   \n6070                                NaN            NaN     NaN   con+3.5   \n6071                                NaN            NaN     NaN   con+3.3   \n\n      lead_value  \n0           15.0  \n1           27.0  \n2           17.0  \n3           24.0  \n4           22.0  \n...          ...  \n6067         4.5  \n6068         0.0  \n6069         2.5  \n6070         3.5  \n6071         3.3  \n\n[6072 rows x 23 columns]",
      "text/html": "<div>\n<style scoped>\n    .dataframe tbody tr th:only-of-type {\n        vertical-align: middle;\n    }\n\n    .dataframe tbody tr th {\n        vertical-align: top;\n    }\n\n    .dataframe thead th {\n        text-align: right;\n    }\n</style>\n<table border=\"1\" class=\"dataframe\">\n  <thead>\n    <tr style=\"text-align: right;\">\n      <th></th>\n      <th>date_started</th>\n      <th>date_concluded</th>\n      <th>pollster</th>\n      <th>client</th>\n      <th>area</th>\n      <th>sample_size</th>\n      <th>conservative</th>\n      <th>labour</th>\n      <th>liberal_democrat</th>\n      <th>alliance</th>\n      <th>...</th>\n      <th>liberal</th>\n      <th>plaid_cymru</th>\n      <th>reform_uk</th>\n      <th>scottish_national_party</th>\n      <th>social_democratic_party</th>\n      <th>united_kingdom_independence_party</th>\n      <th>reclaim_party</th>\n      <th>others</th>\n      <th>lead</th>\n      <th>lead_value</th>\n    </tr>\n  </thead>\n  <tbody>\n    <tr>\n      <th>0</th>\n      <td>2023-02-24</td>\n      <td>2023-02-27</td>\n      <td>Deltapoll</td>\n      <td>NaN</td>\n      <td>GB</td>\n      <td>1060</td>\n      <td>31.0</td>\n      <td>46.0</td>\n      <td>8.0</td>\n      <td>NaN</td>\n      <td>...</td>\n      <td>NaN</td>\n      <td>NaN</td>\n      <td>NaN</td>\n      <td>NaN</td>\n      <td>NaN</td>\n      <td>NaN</td>\n      <td>NaN</td>\n      <td>NaN</td>\n      <td>lab+15.0</td>\n      <td>15.0</td>\n    </tr>\n    <tr>\n      <th>1</th>\n      <td>2023-02-26</td>\n      <td>2023-02-26</td>\n      <td>Redfield &amp; Wilton Strategies</td>\n      <td>NaN</td>\n      <td>GB</td>\n      <td>2000</td>\n      <td>24.0</td>\n      <td>51.0</td>\n      <td>9.0</td>\n      <td>NaN</td>\n      <td>...</td>\n      <td>NaN</td>\n      <td>NaN</td>\n      <td>7.0</td>\n      <td>3.0</td>\n      <td>NaN</td>\n      <td>NaN</td>\n      <td>NaN</td>\n      <td>1.0</td>\n      <td>lab+27.0</td>\n      <td>27.0</td>\n    </tr>\n    <tr>\n      <th>2</th>\n      <td>2023-02-21</td>\n      <td>2023-02-23</td>\n      <td>BMG Research</td>\n      <td>NaN</td>\n      <td>GB</td>\n      <td>TBC</td>\n      <td>29.0</td>\n      <td>46.0</td>\n      <td>9.0</td>\n      <td>NaN</td>\n      <td>...</td>\n      <td>NaN</td>\n      <td>NaN</td>\n      <td>6.0</td>\n      <td>NaN</td>\n      <td>NaN</td>\n      <td>NaN</td>\n      <td>NaN</td>\n      <td>NaN</td>\n      <td>lab+17.0</td>\n      <td>17.0</td>\n    </tr>\n    <tr>\n      <th>3</th>\n      <td>2023-02-22</td>\n      <td>2023-02-23</td>\n      <td>Omnisis</td>\n      <td>NaN</td>\n      <td>GB</td>\n      <td>1248</td>\n      <td>24.0</td>\n      <td>48.0</td>\n      <td>10.0</td>\n      <td>NaN</td>\n      <td>...</td>\n      <td>NaN</td>\n      <td>NaN</td>\n      <td>8.0</td>\n      <td>4.0</td>\n      <td>NaN</td>\n      <td>NaN</td>\n      <td>NaN</td>\n      <td>1.0</td>\n      <td>lab+24.0</td>\n      <td>24.0</td>\n    </tr>\n    <tr>\n      <th>4</th>\n      <td>2023-02-22</td>\n      <td>2023-02-23</td>\n      <td>Techne UK</td>\n      <td>NaN</td>\n      <td>GB</td>\n      <td>1633</td>\n      <td>27.0</td>\n      <td>49.0</td>\n      <td>8.0</td>\n      <td>NaN</td>\n      <td>...</td>\n      <td>NaN</td>\n      <td>NaN</td>\n      <td>5.0</td>\n      <td>3.0</td>\n      <td>NaN</td>\n      <td>NaN</td>\n      <td>NaN</td>\n      <td>3.0</td>\n      <td>lab+22.0</td>\n      <td>22.0</td>\n    </tr>\n    <tr>\n      <th>...</th>\n      <td>...</td>\n      <td>...</td>\n      <td>...</td>\n      <td>...</td>\n      <td>...</td>\n      <td>...</td>\n      <td>...</td>\n      <td>...</td>\n      <td>...</td>\n      <td>...</td>\n      <td>...</td>\n      <td>...</td>\n      <td>...</td>\n      <td>...</td>\n      <td>...</td>\n      <td>...</td>\n      <td>...</td>\n      <td>...</td>\n      <td>...</td>\n      <td>...</td>\n      <td>...</td>\n    </tr>\n    <tr>\n      <th>6067</th>\n      <td>1970-11-15</td>\n      <td>1970-11-15</td>\n      <td>Gallup</td>\n      <td>The Daily Telegraph</td>\n      <td>NaN</td>\n      <td>NaN</td>\n      <td>43.5</td>\n      <td>48.0</td>\n      <td>NaN</td>\n      <td>NaN</td>\n      <td>...</td>\n      <td>6.5</td>\n      <td>NaN</td>\n      <td>NaN</td>\n      <td>NaN</td>\n      <td>NaN</td>\n      <td>NaN</td>\n      <td>NaN</td>\n      <td>NaN</td>\n      <td>lab+4.5</td>\n      <td>4.5</td>\n    </tr>\n    <tr>\n      <th>6068</th>\n      <td>1970-10-18</td>\n      <td>1970-10-18</td>\n      <td>Gallup</td>\n      <td>The Daily Telegraph</td>\n      <td>NaN</td>\n      <td>NaN</td>\n      <td>46.5</td>\n      <td>46.5</td>\n      <td>NaN</td>\n      <td>NaN</td>\n      <td>...</td>\n      <td>6.5</td>\n      <td>NaN</td>\n      <td>NaN</td>\n      <td>NaN</td>\n      <td>NaN</td>\n      <td>NaN</td>\n      <td>NaN</td>\n      <td>NaN</td>\n      <td>Tie</td>\n      <td>0.0</td>\n    </tr>\n    <tr>\n      <th>6069</th>\n      <td>1970-09-13</td>\n      <td>1970-09-13</td>\n      <td>Gallup</td>\n      <td>The Daily Telegraph</td>\n      <td>NaN</td>\n      <td>NaN</td>\n      <td>46.5</td>\n      <td>44.0</td>\n      <td>NaN</td>\n      <td>NaN</td>\n      <td>...</td>\n      <td>8.0</td>\n      <td>NaN</td>\n      <td>NaN</td>\n      <td>NaN</td>\n      <td>NaN</td>\n      <td>NaN</td>\n      <td>NaN</td>\n      <td>NaN</td>\n      <td>con+2.5</td>\n      <td>2.5</td>\n    </tr>\n    <tr>\n      <th>6070</th>\n      <td>1970-08-16</td>\n      <td>1970-08-16</td>\n      <td>Gallup</td>\n      <td>The Daily Telegraph</td>\n      <td>NaN</td>\n      <td>NaN</td>\n      <td>47.0</td>\n      <td>43.5</td>\n      <td>NaN</td>\n      <td>NaN</td>\n      <td>...</td>\n      <td>7.5</td>\n      <td>NaN</td>\n      <td>NaN</td>\n      <td>NaN</td>\n      <td>NaN</td>\n      <td>NaN</td>\n      <td>NaN</td>\n      <td>NaN</td>\n      <td>con+3.5</td>\n      <td>3.5</td>\n    </tr>\n    <tr>\n      <th>6071</th>\n      <td>1970-06-18</td>\n      <td>1970-06-18</td>\n      <td>General Election</td>\n      <td>1970 general election</td>\n      <td>NaN</td>\n      <td>NaN</td>\n      <td>46.4</td>\n      <td>43.1</td>\n      <td>NaN</td>\n      <td>NaN</td>\n      <td>...</td>\n      <td>7.5</td>\n      <td>NaN</td>\n      <td>NaN</td>\n      <td>NaN</td>\n      <td>NaN</td>\n      <td>NaN</td>\n      <td>NaN</td>\n      <td>NaN</td>\n      <td>con+3.3</td>\n      <td>3.3</td>\n    </tr>\n  </tbody>\n</table>\n<p>6072 rows × 23 columns</p>\n</div>"
     },
     "execution_count": 4,
     "metadata": {},
     "output_type": "execute_result"
    }
   ],
   "source": [
    "all_polls_tmp"
   ],
   "metadata": {
    "collapsed": false
   }
  },
  {
   "cell_type": "code",
   "execution_count": 9,
   "metadata": {},
   "outputs": [],
   "source": [
    "from scripts.constants import column_names, party_columns, final_column_names\n",
    "from pandas import json_normalize, to_datetime, offsets\n",
    "from numpy import nan\n",
    "\n",
    "# Remove All Wikipedia Citations\n",
    "for column in column_names:\n",
    "    all_polls_tmp[column] = all_polls_tmp[column].map(str)\n",
    "    all_polls_tmp[column] = all_polls_tmp[column].str.replace(r\"\\[.*\\]\", \"\", regex=True)\n",
    "    all_polls_tmp.loc[all_polls_tmp[column] == 'nan', column] = nan"
   ]
  },
  {
   "cell_type": "code",
   "execution_count": 8,
   "outputs": [
    {
     "name": "stdout",
     "output_type": "stream",
     "text": [
      "dates 0\n",
      "year 0\n",
      "area 4759\n",
      "pollster 3140\n",
      "pollster_client 2941\n",
      "client 3973\n",
      "sample_size 1606\n",
      "conservative 0\n",
      "labour 0\n",
      "liberal_democrat 797\n",
      "alliance 5646\n",
      "brexit_party 5654\n",
      "change_uk 5823\n",
      "green 2565\n",
      "liberal 5728\n",
      "plaid_cymru 5619\n",
      "reform_uk 5389\n",
      "scottish_national_party 4499\n",
      "social_democratic_party 5804\n",
      "united_kingdom_independence_party 3390\n",
      "reclaim_party 6080\n",
      "others 1606\n",
      "lead 0\n",
      "lead_value 6080\n"
     ]
    }
   ],
   "source": [
    "for column in column_names:\n",
    "    print(column, len(all_polls_tmp[all_polls_tmp[column] == 'nan']))"
   ],
   "metadata": {
    "collapsed": false
   }
  },
  {
   "cell_type": "code",
   "execution_count": null,
   "outputs": [],
   "source": [],
   "metadata": {
    "collapsed": false
   }
  },
  {
   "cell_type": "code",
   "execution_count": 57,
   "outputs": [
    {
     "data": {
      "text/plain": "int"
     },
     "execution_count": 57,
     "metadata": {},
     "output_type": "execute_result"
    }
   ],
   "source": [
    "type(all_polls_tmp['year'].iloc[0])"
   ],
   "metadata": {
    "collapsed": false
   }
  },
  {
   "cell_type": "code",
   "execution_count": 18,
   "outputs": [],
   "source": [
    "def split_date(poll_dates, table_year):\n",
    "    poll_dates = poll_dates.replace('–', '-').replace('Pre-', '').strip()\n",
    "    date_parts = poll_dates.split(\" \")\n",
    "\n",
    "    # For any polls outside the correct year (2019 GE for example)\n",
    "    for part in date_parts:\n",
    "        if len(part) == 4 and (part.startswith('19') or part.startswith('20')):\n",
    "            table_year = part\n",
    "            date_parts.remove(part)\n",
    "\n",
    "    poll_dates = ' '.join(date_parts)\n",
    "    if ' ' not in poll_dates:\n",
    "        # Poll dates showing month only\n",
    "        start_date = end_date = f'{table_year}-{poll_dates}-1'\n",
    "    else:\n",
    "        if '-' not in poll_dates:\n",
    "            day, month = poll_dates.split(' ')\n",
    "            start_date = end_date = f'{table_year}-{month[0:3]}-{day}'\n",
    "        else:\n",
    "            start, end = poll_dates.split('-')\n",
    "            start = start.strip()\n",
    "            end = end.strip()\n",
    "            day, month = end.split(' ')\n",
    "            end_date = f'{table_year}-{month[0:3]}-{day}'\n",
    "            if ' ' in start:\n",
    "                day, month = start.split(' ')\n",
    "            else:\n",
    "                day = start\n",
    "            start_date = f'{table_year}-{month[0:3]}-{day}'\n",
    "    return start_date, end_date"
   ],
   "metadata": {
    "collapsed": false
   }
  },
  {
   "cell_type": "code",
   "execution_count": 58,
   "outputs": [],
   "source": [
    "from scripts.constants import column_names, party_columns, final_column_names\n",
    "from pandas import json_normalize, to_datetime, offsets\n",
    "\n",
    "# Remove All Wikipedia Citations\n",
    "for column in column_names:\n",
    "    all_polls_tmp[column] = all_polls_tmp[column].map(str)\n",
    "    all_polls_tmp[column] = all_polls_tmp[column].str.replace(r\"\\[.*\\]\", \"\", regex=True)"
   ],
   "metadata": {
    "collapsed": false
   }
  },
  {
   "cell_type": "code",
   "execution_count": 59,
   "outputs": [
    {
     "data": {
      "text/plain": "2014    958\n2013    816\n2015    508\n2010    367\n2022    359\n2012    336\n2011    320\n2021    268\n2019    257\n2017    183\n2020    169\n2018    142\n2009    133\n1992    130\n1991    113\n1987    109\n1990    107\n2008    104\n1997    103\n2016     95\n1989     95\n2007     90\n1983     88\n1988     74\n1974     73\n1996     69\n2006     68\n2001     66\n2023     64\n2005     63\n2000     62\n1986     59\n1979     54\n1985     53\n1994     52\n1995     51\n1984     49\n1993     46\n1999     40\n1998     40\n1981     40\n1980     38\n1982     36\n1977     35\n1978     33\n1976     32\n2003     28\n1975     27\n1973     25\n2004     23\n1972     16\n2002     14\n1971     13\n1970      6\nName: year, dtype: int64"
     },
     "execution_count": 59,
     "metadata": {},
     "output_type": "execute_result"
    }
   ],
   "source": [
    "all_polls_tmp.year.value_counts()"
   ],
   "metadata": {
    "collapsed": false
   }
  },
  {
   "cell_type": "code",
   "execution_count": null,
   "outputs": [],
   "source": [
    "\n",
    "for party in party_columns:\n",
    "    poll_df[party] = poll_result_cleanup(poll_df[party])\n",
    "\n",
    "# Split out other party column into individual party results\n",
    "other_parties = json_normalize(poll_df['others'].map(others_to_json))\n",
    "other_parties.index = poll_df.index\n",
    "for party in other_parties.columns:\n",
    "    other_parties[party] = poll_result_cleanup(other_parties[party])\n",
    "\n",
    "    if party not in poll_df.columns or party == 'others':\n",
    "        poll_df[party] = other_parties[party]\n",
    "    else:\n",
    "        poll_df[party] = poll_df[party].add(other_parties[party], fill_value=0)"
   ],
   "metadata": {
    "collapsed": false
   }
  },
  {
   "cell_type": "code",
   "execution_count": 24,
   "outputs": [],
   "source": [
    "all_polls[['date_started', 'date_concluded']] = all_polls.apply(\n",
    "        lambda x: split_date(x.dates, x.year), axis=1, result_type='expand')"
   ],
   "metadata": {
    "collapsed": false
   }
  },
  {
   "cell_type": "code",
   "execution_count": 28,
   "outputs": [
    {
     "ename": "ParserError",
     "evalue": "Unknown string format: nan-Oct-10",
     "output_type": "error",
     "traceback": [
      "\u001B[1;31m---------------------------------------------------------------------------\u001B[0m",
      "\u001B[1;31mTypeError\u001B[0m                                 Traceback (most recent call last)",
      "\u001B[1;32md:\\projects\\software\\python\\polls\\venv\\lib\\site-packages\\pandas\\core\\arrays\\datetimes.py\u001B[0m in \u001B[0;36mobjects_to_datetime64ns\u001B[1;34m(data, dayfirst, yearfirst, utc, errors, require_iso8601, allow_object, allow_mixed)\u001B[0m\n\u001B[0;32m   2191\u001B[0m         \u001B[1;32mtry\u001B[0m\u001B[1;33m:\u001B[0m\u001B[1;33m\u001B[0m\u001B[1;33m\u001B[0m\u001B[0m\n\u001B[1;32m-> 2192\u001B[1;33m             \u001B[0mvalues\u001B[0m\u001B[1;33m,\u001B[0m \u001B[0mtz_parsed\u001B[0m \u001B[1;33m=\u001B[0m \u001B[0mconversion\u001B[0m\u001B[1;33m.\u001B[0m\u001B[0mdatetime_to_datetime64\u001B[0m\u001B[1;33m(\u001B[0m\u001B[0mdata\u001B[0m\u001B[1;33m.\u001B[0m\u001B[0mravel\u001B[0m\u001B[1;33m(\u001B[0m\u001B[1;34m\"K\"\u001B[0m\u001B[1;33m)\u001B[0m\u001B[1;33m)\u001B[0m\u001B[1;33m\u001B[0m\u001B[1;33m\u001B[0m\u001B[0m\n\u001B[0m\u001B[0;32m   2193\u001B[0m             \u001B[1;31m# If tzaware, these values represent unix timestamps, so we\u001B[0m\u001B[1;33m\u001B[0m\u001B[1;33m\u001B[0m\u001B[0m\n",
      "\u001B[1;32md:\\projects\\software\\python\\polls\\venv\\lib\\site-packages\\pandas\\_libs\\tslibs\\conversion.pyx\u001B[0m in \u001B[0;36mpandas._libs.tslibs.conversion.datetime_to_datetime64\u001B[1;34m()\u001B[0m\n",
      "\u001B[1;31mTypeError\u001B[0m: Unrecognized value type: <class 'str'>",
      "\nDuring handling of the above exception, another exception occurred:\n",
      "\u001B[1;31mParserError\u001B[0m                               Traceback (most recent call last)",
      "\u001B[1;32m~\\AppData\\Local\\Temp/ipykernel_67188/1190508771.py\u001B[0m in \u001B[0;36m<module>\u001B[1;34m\u001B[0m\n\u001B[1;32m----> 1\u001B[1;33m \u001B[0mto_datetime\u001B[0m\u001B[1;33m(\u001B[0m\u001B[0mall_polls\u001B[0m\u001B[1;33m.\u001B[0m\u001B[0miloc\u001B[0m\u001B[1;33m[\u001B[0m\u001B[1;36m0\u001B[0m\u001B[1;33m:\u001B[0m\u001B[1;36m10\u001B[0m\u001B[1;33m]\u001B[0m\u001B[1;33m[\u001B[0m\u001B[1;34m'date_started'\u001B[0m\u001B[1;33m]\u001B[0m\u001B[1;33m)\u001B[0m\u001B[1;33m\u001B[0m\u001B[1;33m\u001B[0m\u001B[0m\n\u001B[0m",
      "\u001B[1;32md:\\projects\\software\\python\\polls\\venv\\lib\\site-packages\\pandas\\core\\tools\\datetimes.py\u001B[0m in \u001B[0;36mto_datetime\u001B[1;34m(arg, errors, dayfirst, yearfirst, utc, format, exact, unit, infer_datetime_format, origin, cache)\u001B[0m\n\u001B[0;32m    885\u001B[0m             \u001B[0mresult\u001B[0m \u001B[1;33m=\u001B[0m \u001B[0marg\u001B[0m\u001B[1;33m.\u001B[0m\u001B[0mmap\u001B[0m\u001B[1;33m(\u001B[0m\u001B[0mcache_array\u001B[0m\u001B[1;33m)\u001B[0m\u001B[1;33m\u001B[0m\u001B[1;33m\u001B[0m\u001B[0m\n\u001B[0;32m    886\u001B[0m         \u001B[1;32melse\u001B[0m\u001B[1;33m:\u001B[0m\u001B[1;33m\u001B[0m\u001B[1;33m\u001B[0m\u001B[0m\n\u001B[1;32m--> 887\u001B[1;33m             \u001B[0mvalues\u001B[0m \u001B[1;33m=\u001B[0m \u001B[0mconvert_listlike\u001B[0m\u001B[1;33m(\u001B[0m\u001B[0marg\u001B[0m\u001B[1;33m.\u001B[0m\u001B[0m_values\u001B[0m\u001B[1;33m,\u001B[0m \u001B[0mformat\u001B[0m\u001B[1;33m)\u001B[0m\u001B[1;33m\u001B[0m\u001B[1;33m\u001B[0m\u001B[0m\n\u001B[0m\u001B[0;32m    888\u001B[0m             \u001B[0mresult\u001B[0m \u001B[1;33m=\u001B[0m \u001B[0marg\u001B[0m\u001B[1;33m.\u001B[0m\u001B[0m_constructor\u001B[0m\u001B[1;33m(\u001B[0m\u001B[0mvalues\u001B[0m\u001B[1;33m,\u001B[0m \u001B[0mindex\u001B[0m\u001B[1;33m=\u001B[0m\u001B[0marg\u001B[0m\u001B[1;33m.\u001B[0m\u001B[0mindex\u001B[0m\u001B[1;33m,\u001B[0m \u001B[0mname\u001B[0m\u001B[1;33m=\u001B[0m\u001B[0marg\u001B[0m\u001B[1;33m.\u001B[0m\u001B[0mname\u001B[0m\u001B[1;33m)\u001B[0m\u001B[1;33m\u001B[0m\u001B[1;33m\u001B[0m\u001B[0m\n\u001B[0;32m    889\u001B[0m     \u001B[1;32melif\u001B[0m \u001B[0misinstance\u001B[0m\u001B[1;33m(\u001B[0m\u001B[0marg\u001B[0m\u001B[1;33m,\u001B[0m \u001B[1;33m(\u001B[0m\u001B[0mABCDataFrame\u001B[0m\u001B[1;33m,\u001B[0m \u001B[0mabc\u001B[0m\u001B[1;33m.\u001B[0m\u001B[0mMutableMapping\u001B[0m\u001B[1;33m)\u001B[0m\u001B[1;33m)\u001B[0m\u001B[1;33m:\u001B[0m\u001B[1;33m\u001B[0m\u001B[1;33m\u001B[0m\u001B[0m\n",
      "\u001B[1;32md:\\projects\\software\\python\\polls\\venv\\lib\\site-packages\\pandas\\core\\tools\\datetimes.py\u001B[0m in \u001B[0;36m_convert_listlike_datetimes\u001B[1;34m(arg, format, name, tz, unit, errors, infer_datetime_format, dayfirst, yearfirst, exact)\u001B[0m\n\u001B[0;32m    399\u001B[0m     \u001B[1;32massert\u001B[0m \u001B[0mformat\u001B[0m \u001B[1;32mis\u001B[0m \u001B[1;32mNone\u001B[0m \u001B[1;32mor\u001B[0m \u001B[0minfer_datetime_format\u001B[0m\u001B[1;33m\u001B[0m\u001B[1;33m\u001B[0m\u001B[0m\n\u001B[0;32m    400\u001B[0m     \u001B[0mutc\u001B[0m \u001B[1;33m=\u001B[0m \u001B[0mtz\u001B[0m \u001B[1;33m==\u001B[0m \u001B[1;34m\"utc\"\u001B[0m\u001B[1;33m\u001B[0m\u001B[1;33m\u001B[0m\u001B[0m\n\u001B[1;32m--> 401\u001B[1;33m     result, tz_parsed = objects_to_datetime64ns(\n\u001B[0m\u001B[0;32m    402\u001B[0m         \u001B[0marg\u001B[0m\u001B[1;33m,\u001B[0m\u001B[1;33m\u001B[0m\u001B[1;33m\u001B[0m\u001B[0m\n\u001B[0;32m    403\u001B[0m         \u001B[0mdayfirst\u001B[0m\u001B[1;33m=\u001B[0m\u001B[0mdayfirst\u001B[0m\u001B[1;33m,\u001B[0m\u001B[1;33m\u001B[0m\u001B[1;33m\u001B[0m\u001B[0m\n",
      "\u001B[1;32md:\\projects\\software\\python\\polls\\venv\\lib\\site-packages\\pandas\\core\\arrays\\datetimes.py\u001B[0m in \u001B[0;36mobjects_to_datetime64ns\u001B[1;34m(data, dayfirst, yearfirst, utc, errors, require_iso8601, allow_object, allow_mixed)\u001B[0m\n\u001B[0;32m   2196\u001B[0m             \u001B[1;32mreturn\u001B[0m \u001B[0mvalues\u001B[0m\u001B[1;33m.\u001B[0m\u001B[0mview\u001B[0m\u001B[1;33m(\u001B[0m\u001B[1;34m\"i8\"\u001B[0m\u001B[1;33m)\u001B[0m\u001B[1;33m,\u001B[0m \u001B[0mtz_parsed\u001B[0m\u001B[1;33m\u001B[0m\u001B[1;33m\u001B[0m\u001B[0m\n\u001B[0;32m   2197\u001B[0m         \u001B[1;32mexcept\u001B[0m \u001B[1;33m(\u001B[0m\u001B[0mValueError\u001B[0m\u001B[1;33m,\u001B[0m \u001B[0mTypeError\u001B[0m\u001B[1;33m)\u001B[0m\u001B[1;33m:\u001B[0m\u001B[1;33m\u001B[0m\u001B[1;33m\u001B[0m\u001B[0m\n\u001B[1;32m-> 2198\u001B[1;33m             \u001B[1;32mraise\u001B[0m \u001B[0merr\u001B[0m\u001B[1;33m\u001B[0m\u001B[1;33m\u001B[0m\u001B[0m\n\u001B[0m\u001B[0;32m   2199\u001B[0m \u001B[1;33m\u001B[0m\u001B[0m\n\u001B[0;32m   2200\u001B[0m     \u001B[1;32mif\u001B[0m \u001B[0mtz_parsed\u001B[0m \u001B[1;32mis\u001B[0m \u001B[1;32mnot\u001B[0m \u001B[1;32mNone\u001B[0m\u001B[1;33m:\u001B[0m\u001B[1;33m\u001B[0m\u001B[1;33m\u001B[0m\u001B[0m\n",
      "\u001B[1;32md:\\projects\\software\\python\\polls\\venv\\lib\\site-packages\\pandas\\core\\arrays\\datetimes.py\u001B[0m in \u001B[0;36mobjects_to_datetime64ns\u001B[1;34m(data, dayfirst, yearfirst, utc, errors, require_iso8601, allow_object, allow_mixed)\u001B[0m\n\u001B[0;32m   2178\u001B[0m     \u001B[0morder\u001B[0m\u001B[1;33m:\u001B[0m \u001B[0mLiteral\u001B[0m\u001B[1;33m[\u001B[0m\u001B[1;34m\"F\"\u001B[0m\u001B[1;33m,\u001B[0m \u001B[1;34m\"C\"\u001B[0m\u001B[1;33m]\u001B[0m \u001B[1;33m=\u001B[0m \u001B[1;34m\"F\"\u001B[0m \u001B[1;32mif\u001B[0m \u001B[0mflags\u001B[0m\u001B[1;33m.\u001B[0m\u001B[0mf_contiguous\u001B[0m \u001B[1;32melse\u001B[0m \u001B[1;34m\"C\"\u001B[0m\u001B[1;33m\u001B[0m\u001B[1;33m\u001B[0m\u001B[0m\n\u001B[0;32m   2179\u001B[0m     \u001B[1;32mtry\u001B[0m\u001B[1;33m:\u001B[0m\u001B[1;33m\u001B[0m\u001B[1;33m\u001B[0m\u001B[0m\n\u001B[1;32m-> 2180\u001B[1;33m         result, tz_parsed = tslib.array_to_datetime(\n\u001B[0m\u001B[0;32m   2181\u001B[0m             \u001B[0mdata\u001B[0m\u001B[1;33m.\u001B[0m\u001B[0mravel\u001B[0m\u001B[1;33m(\u001B[0m\u001B[1;34m\"K\"\u001B[0m\u001B[1;33m)\u001B[0m\u001B[1;33m,\u001B[0m\u001B[1;33m\u001B[0m\u001B[1;33m\u001B[0m\u001B[0m\n\u001B[0;32m   2182\u001B[0m             \u001B[0merrors\u001B[0m\u001B[1;33m=\u001B[0m\u001B[0merrors\u001B[0m\u001B[1;33m,\u001B[0m\u001B[1;33m\u001B[0m\u001B[1;33m\u001B[0m\u001B[0m\n",
      "\u001B[1;32md:\\projects\\software\\python\\polls\\venv\\lib\\site-packages\\pandas\\_libs\\tslib.pyx\u001B[0m in \u001B[0;36mpandas._libs.tslib.array_to_datetime\u001B[1;34m()\u001B[0m\n",
      "\u001B[1;32md:\\projects\\software\\python\\polls\\venv\\lib\\site-packages\\pandas\\_libs\\tslib.pyx\u001B[0m in \u001B[0;36mpandas._libs.tslib.array_to_datetime\u001B[1;34m()\u001B[0m\n",
      "\u001B[1;32md:\\projects\\software\\python\\polls\\venv\\lib\\site-packages\\pandas\\_libs\\tslib.pyx\u001B[0m in \u001B[0;36mpandas._libs.tslib._array_to_datetime_object\u001B[1;34m()\u001B[0m\n",
      "\u001B[1;32md:\\projects\\software\\python\\polls\\venv\\lib\\site-packages\\pandas\\_libs\\tslib.pyx\u001B[0m in \u001B[0;36mpandas._libs.tslib._array_to_datetime_object\u001B[1;34m()\u001B[0m\n",
      "\u001B[1;32md:\\projects\\software\\python\\polls\\venv\\lib\\site-packages\\pandas\\_libs\\tslibs\\parsing.pyx\u001B[0m in \u001B[0;36mpandas._libs.tslibs.parsing.parse_datetime_string\u001B[1;34m()\u001B[0m\n",
      "\u001B[1;32md:\\projects\\software\\python\\polls\\venv\\lib\\site-packages\\dateutil\\parser\\_parser.py\u001B[0m in \u001B[0;36mparse\u001B[1;34m(timestr, parserinfo, **kwargs)\u001B[0m\n\u001B[0;32m   1366\u001B[0m         \u001B[1;32mreturn\u001B[0m \u001B[0mparser\u001B[0m\u001B[1;33m(\u001B[0m\u001B[0mparserinfo\u001B[0m\u001B[1;33m)\u001B[0m\u001B[1;33m.\u001B[0m\u001B[0mparse\u001B[0m\u001B[1;33m(\u001B[0m\u001B[0mtimestr\u001B[0m\u001B[1;33m,\u001B[0m \u001B[1;33m**\u001B[0m\u001B[0mkwargs\u001B[0m\u001B[1;33m)\u001B[0m\u001B[1;33m\u001B[0m\u001B[1;33m\u001B[0m\u001B[0m\n\u001B[0;32m   1367\u001B[0m     \u001B[1;32melse\u001B[0m\u001B[1;33m:\u001B[0m\u001B[1;33m\u001B[0m\u001B[1;33m\u001B[0m\u001B[0m\n\u001B[1;32m-> 1368\u001B[1;33m         \u001B[1;32mreturn\u001B[0m \u001B[0mDEFAULTPARSER\u001B[0m\u001B[1;33m.\u001B[0m\u001B[0mparse\u001B[0m\u001B[1;33m(\u001B[0m\u001B[0mtimestr\u001B[0m\u001B[1;33m,\u001B[0m \u001B[1;33m**\u001B[0m\u001B[0mkwargs\u001B[0m\u001B[1;33m)\u001B[0m\u001B[1;33m\u001B[0m\u001B[1;33m\u001B[0m\u001B[0m\n\u001B[0m\u001B[0;32m   1369\u001B[0m \u001B[1;33m\u001B[0m\u001B[0m\n\u001B[0;32m   1370\u001B[0m \u001B[1;33m\u001B[0m\u001B[0m\n",
      "\u001B[1;32md:\\projects\\software\\python\\polls\\venv\\lib\\site-packages\\dateutil\\parser\\_parser.py\u001B[0m in \u001B[0;36mparse\u001B[1;34m(self, timestr, default, ignoretz, tzinfos, **kwargs)\u001B[0m\n\u001B[0;32m    641\u001B[0m \u001B[1;33m\u001B[0m\u001B[0m\n\u001B[0;32m    642\u001B[0m         \u001B[1;32mif\u001B[0m \u001B[0mres\u001B[0m \u001B[1;32mis\u001B[0m \u001B[1;32mNone\u001B[0m\u001B[1;33m:\u001B[0m\u001B[1;33m\u001B[0m\u001B[1;33m\u001B[0m\u001B[0m\n\u001B[1;32m--> 643\u001B[1;33m             \u001B[1;32mraise\u001B[0m \u001B[0mParserError\u001B[0m\u001B[1;33m(\u001B[0m\u001B[1;34m\"Unknown string format: %s\"\u001B[0m\u001B[1;33m,\u001B[0m \u001B[0mtimestr\u001B[0m\u001B[1;33m)\u001B[0m\u001B[1;33m\u001B[0m\u001B[1;33m\u001B[0m\u001B[0m\n\u001B[0m\u001B[0;32m    644\u001B[0m \u001B[1;33m\u001B[0m\u001B[0m\n\u001B[0;32m    645\u001B[0m         \u001B[1;32mif\u001B[0m \u001B[0mlen\u001B[0m\u001B[1;33m(\u001B[0m\u001B[0mres\u001B[0m\u001B[1;33m)\u001B[0m \u001B[1;33m==\u001B[0m \u001B[1;36m0\u001B[0m\u001B[1;33m:\u001B[0m\u001B[1;33m\u001B[0m\u001B[1;33m\u001B[0m\u001B[0m\n",
      "\u001B[1;31mParserError\u001B[0m: Unknown string format: nan-Oct-10"
     ]
    }
   ],
   "source": [
    "to_datetime(all_polls.iloc[0:10]['date_started'])"
   ],
   "metadata": {
    "collapsed": false
   }
  },
  {
   "cell_type": "code",
   "execution_count": 29,
   "outputs": [
    {
     "data": {
      "text/plain": "    dates year area                   pollster pollster_client  \\\n0  10 Oct  NaN  NaN  Oct 1974 general election             NaN   \n1   9 Oct  NaN  NaN                     Harris             NaN   \n2   9 Oct  NaN  NaN                        ORC             NaN   \n3   8 Oct  NaN  NaN                        ORC             NaN   \n4   8 Oct  NaN  NaN                    Marplan             NaN   \n5   7 Oct  NaN  NaN                     Gallup             NaN   \n6   6 Oct  NaN  NaN                     Harris             NaN   \n7   5 Oct  NaN  NaN                        NOP             NaN   \n8   4 Oct  NaN  NaN                    Marplan             NaN   \n9   3 Oct  NaN  NaN                     Gallup             NaN   \n\n                      client sample_size conservative labour liberal_democrat  \\\n0  Oct 1974 general election         NaN        35.8%  39.3%              NaN   \n1              Daily Express         NaN        34.6%    43%              NaN   \n2           Evening Standard         NaN        34.4%  41.8%              NaN   \n3                  The Times         NaN          35%    44%              NaN   \n4                    The Sun         NaN        33.3%  43.8%              NaN   \n5        The Daily Telegraph         NaN          36%  41.5%              NaN   \n6              Daily Express         NaN        33.5%  43.5%              NaN   \n7                 Daily Mail         NaN          31%  45.5%              NaN   \n8          News of the World         NaN        33.1%  42.9%              NaN   \n9        The Daily Telegraph         NaN          37%  42.5%              NaN   \n\n   ... scottish_national_party social_democratic_party  \\\n0  ...                     NaN                     NaN   \n1  ...                     NaN                     NaN   \n2  ...                     NaN                     NaN   \n3  ...                     NaN                     NaN   \n4  ...                     NaN                     NaN   \n5  ...                     NaN                     NaN   \n6  ...                     NaN                     NaN   \n7  ...                     NaN                     NaN   \n8  ...                     NaN                     NaN   \n9  ...                     NaN                     NaN   \n\n  united_kingdom_independence_party reclaim_party others   lead lead_value  \\\n0                               NaN           NaN    NaN   3.5%        NaN   \n1                               NaN           NaN    NaN   8.4%        NaN   \n2                               NaN           NaN    NaN   7.4%        NaN   \n3                               NaN           NaN    NaN     9%        NaN   \n4                               NaN           NaN    NaN  10.5%        NaN   \n5                               NaN           NaN    NaN   5.5%        NaN   \n6                               NaN           NaN    NaN    10%        NaN   \n7                               NaN           NaN    NaN  14.5%        NaN   \n8                               NaN           NaN    NaN   9.8%        NaN   \n9                               NaN           NaN    NaN   5.5%        NaN   \n\n  Unnamed: 0 date_started date_concluded  \n0        0.0   nan-Oct-10     nan-Oct-10  \n1        1.0    nan-Oct-9      nan-Oct-9  \n2        2.0    nan-Oct-9      nan-Oct-9  \n3        3.0    nan-Oct-8      nan-Oct-8  \n4        4.0    nan-Oct-8      nan-Oct-8  \n5        5.0    nan-Oct-7      nan-Oct-7  \n6        6.0    nan-Oct-6      nan-Oct-6  \n7        7.0    nan-Oct-5      nan-Oct-5  \n8        8.0    nan-Oct-4      nan-Oct-4  \n9        9.0    nan-Oct-3      nan-Oct-3  \n\n[10 rows x 27 columns]",
      "text/html": "<div>\n<style scoped>\n    .dataframe tbody tr th:only-of-type {\n        vertical-align: middle;\n    }\n\n    .dataframe tbody tr th {\n        vertical-align: top;\n    }\n\n    .dataframe thead th {\n        text-align: right;\n    }\n</style>\n<table border=\"1\" class=\"dataframe\">\n  <thead>\n    <tr style=\"text-align: right;\">\n      <th></th>\n      <th>dates</th>\n      <th>year</th>\n      <th>area</th>\n      <th>pollster</th>\n      <th>pollster_client</th>\n      <th>client</th>\n      <th>sample_size</th>\n      <th>conservative</th>\n      <th>labour</th>\n      <th>liberal_democrat</th>\n      <th>...</th>\n      <th>scottish_national_party</th>\n      <th>social_democratic_party</th>\n      <th>united_kingdom_independence_party</th>\n      <th>reclaim_party</th>\n      <th>others</th>\n      <th>lead</th>\n      <th>lead_value</th>\n      <th>Unnamed: 0</th>\n      <th>date_started</th>\n      <th>date_concluded</th>\n    </tr>\n  </thead>\n  <tbody>\n    <tr>\n      <th>0</th>\n      <td>10 Oct</td>\n      <td>NaN</td>\n      <td>NaN</td>\n      <td>Oct 1974 general election</td>\n      <td>NaN</td>\n      <td>Oct 1974 general election</td>\n      <td>NaN</td>\n      <td>35.8%</td>\n      <td>39.3%</td>\n      <td>NaN</td>\n      <td>...</td>\n      <td>NaN</td>\n      <td>NaN</td>\n      <td>NaN</td>\n      <td>NaN</td>\n      <td>NaN</td>\n      <td>3.5%</td>\n      <td>NaN</td>\n      <td>0.0</td>\n      <td>nan-Oct-10</td>\n      <td>nan-Oct-10</td>\n    </tr>\n    <tr>\n      <th>1</th>\n      <td>9 Oct</td>\n      <td>NaN</td>\n      <td>NaN</td>\n      <td>Harris</td>\n      <td>NaN</td>\n      <td>Daily Express</td>\n      <td>NaN</td>\n      <td>34.6%</td>\n      <td>43%</td>\n      <td>NaN</td>\n      <td>...</td>\n      <td>NaN</td>\n      <td>NaN</td>\n      <td>NaN</td>\n      <td>NaN</td>\n      <td>NaN</td>\n      <td>8.4%</td>\n      <td>NaN</td>\n      <td>1.0</td>\n      <td>nan-Oct-9</td>\n      <td>nan-Oct-9</td>\n    </tr>\n    <tr>\n      <th>2</th>\n      <td>9 Oct</td>\n      <td>NaN</td>\n      <td>NaN</td>\n      <td>ORC</td>\n      <td>NaN</td>\n      <td>Evening Standard</td>\n      <td>NaN</td>\n      <td>34.4%</td>\n      <td>41.8%</td>\n      <td>NaN</td>\n      <td>...</td>\n      <td>NaN</td>\n      <td>NaN</td>\n      <td>NaN</td>\n      <td>NaN</td>\n      <td>NaN</td>\n      <td>7.4%</td>\n      <td>NaN</td>\n      <td>2.0</td>\n      <td>nan-Oct-9</td>\n      <td>nan-Oct-9</td>\n    </tr>\n    <tr>\n      <th>3</th>\n      <td>8 Oct</td>\n      <td>NaN</td>\n      <td>NaN</td>\n      <td>ORC</td>\n      <td>NaN</td>\n      <td>The Times</td>\n      <td>NaN</td>\n      <td>35%</td>\n      <td>44%</td>\n      <td>NaN</td>\n      <td>...</td>\n      <td>NaN</td>\n      <td>NaN</td>\n      <td>NaN</td>\n      <td>NaN</td>\n      <td>NaN</td>\n      <td>9%</td>\n      <td>NaN</td>\n      <td>3.0</td>\n      <td>nan-Oct-8</td>\n      <td>nan-Oct-8</td>\n    </tr>\n    <tr>\n      <th>4</th>\n      <td>8 Oct</td>\n      <td>NaN</td>\n      <td>NaN</td>\n      <td>Marplan</td>\n      <td>NaN</td>\n      <td>The Sun</td>\n      <td>NaN</td>\n      <td>33.3%</td>\n      <td>43.8%</td>\n      <td>NaN</td>\n      <td>...</td>\n      <td>NaN</td>\n      <td>NaN</td>\n      <td>NaN</td>\n      <td>NaN</td>\n      <td>NaN</td>\n      <td>10.5%</td>\n      <td>NaN</td>\n      <td>4.0</td>\n      <td>nan-Oct-8</td>\n      <td>nan-Oct-8</td>\n    </tr>\n    <tr>\n      <th>5</th>\n      <td>7 Oct</td>\n      <td>NaN</td>\n      <td>NaN</td>\n      <td>Gallup</td>\n      <td>NaN</td>\n      <td>The Daily Telegraph</td>\n      <td>NaN</td>\n      <td>36%</td>\n      <td>41.5%</td>\n      <td>NaN</td>\n      <td>...</td>\n      <td>NaN</td>\n      <td>NaN</td>\n      <td>NaN</td>\n      <td>NaN</td>\n      <td>NaN</td>\n      <td>5.5%</td>\n      <td>NaN</td>\n      <td>5.0</td>\n      <td>nan-Oct-7</td>\n      <td>nan-Oct-7</td>\n    </tr>\n    <tr>\n      <th>6</th>\n      <td>6 Oct</td>\n      <td>NaN</td>\n      <td>NaN</td>\n      <td>Harris</td>\n      <td>NaN</td>\n      <td>Daily Express</td>\n      <td>NaN</td>\n      <td>33.5%</td>\n      <td>43.5%</td>\n      <td>NaN</td>\n      <td>...</td>\n      <td>NaN</td>\n      <td>NaN</td>\n      <td>NaN</td>\n      <td>NaN</td>\n      <td>NaN</td>\n      <td>10%</td>\n      <td>NaN</td>\n      <td>6.0</td>\n      <td>nan-Oct-6</td>\n      <td>nan-Oct-6</td>\n    </tr>\n    <tr>\n      <th>7</th>\n      <td>5 Oct</td>\n      <td>NaN</td>\n      <td>NaN</td>\n      <td>NOP</td>\n      <td>NaN</td>\n      <td>Daily Mail</td>\n      <td>NaN</td>\n      <td>31%</td>\n      <td>45.5%</td>\n      <td>NaN</td>\n      <td>...</td>\n      <td>NaN</td>\n      <td>NaN</td>\n      <td>NaN</td>\n      <td>NaN</td>\n      <td>NaN</td>\n      <td>14.5%</td>\n      <td>NaN</td>\n      <td>7.0</td>\n      <td>nan-Oct-5</td>\n      <td>nan-Oct-5</td>\n    </tr>\n    <tr>\n      <th>8</th>\n      <td>4 Oct</td>\n      <td>NaN</td>\n      <td>NaN</td>\n      <td>Marplan</td>\n      <td>NaN</td>\n      <td>News of the World</td>\n      <td>NaN</td>\n      <td>33.1%</td>\n      <td>42.9%</td>\n      <td>NaN</td>\n      <td>...</td>\n      <td>NaN</td>\n      <td>NaN</td>\n      <td>NaN</td>\n      <td>NaN</td>\n      <td>NaN</td>\n      <td>9.8%</td>\n      <td>NaN</td>\n      <td>8.0</td>\n      <td>nan-Oct-4</td>\n      <td>nan-Oct-4</td>\n    </tr>\n    <tr>\n      <th>9</th>\n      <td>3 Oct</td>\n      <td>NaN</td>\n      <td>NaN</td>\n      <td>Gallup</td>\n      <td>NaN</td>\n      <td>The Daily Telegraph</td>\n      <td>NaN</td>\n      <td>37%</td>\n      <td>42.5%</td>\n      <td>NaN</td>\n      <td>...</td>\n      <td>NaN</td>\n      <td>NaN</td>\n      <td>NaN</td>\n      <td>NaN</td>\n      <td>NaN</td>\n      <td>5.5%</td>\n      <td>NaN</td>\n      <td>9.0</td>\n      <td>nan-Oct-3</td>\n      <td>nan-Oct-3</td>\n    </tr>\n  </tbody>\n</table>\n<p>10 rows × 27 columns</p>\n</div>"
     },
     "execution_count": 29,
     "metadata": {},
     "output_type": "execute_result"
    }
   ],
   "source": [
    "all_polls.iloc[0:10]"
   ],
   "metadata": {
    "collapsed": false
   }
  },
  {
   "cell_type": "code",
   "execution_count": 25,
   "outputs": [
    {
     "ename": "ParserError",
     "evalue": "Unknown string format: nan-Oct-10",
     "output_type": "error",
     "traceback": [
      "\u001B[1;31m---------------------------------------------------------------------------\u001B[0m",
      "\u001B[1;31mTypeError\u001B[0m                                 Traceback (most recent call last)",
      "\u001B[1;32md:\\projects\\software\\python\\polls\\venv\\lib\\site-packages\\pandas\\core\\arrays\\datetimes.py\u001B[0m in \u001B[0;36mobjects_to_datetime64ns\u001B[1;34m(data, dayfirst, yearfirst, utc, errors, require_iso8601, allow_object, allow_mixed)\u001B[0m\n\u001B[0;32m   2191\u001B[0m         \u001B[1;32mtry\u001B[0m\u001B[1;33m:\u001B[0m\u001B[1;33m\u001B[0m\u001B[1;33m\u001B[0m\u001B[0m\n\u001B[1;32m-> 2192\u001B[1;33m             \u001B[0mvalues\u001B[0m\u001B[1;33m,\u001B[0m \u001B[0mtz_parsed\u001B[0m \u001B[1;33m=\u001B[0m \u001B[0mconversion\u001B[0m\u001B[1;33m.\u001B[0m\u001B[0mdatetime_to_datetime64\u001B[0m\u001B[1;33m(\u001B[0m\u001B[0mdata\u001B[0m\u001B[1;33m.\u001B[0m\u001B[0mravel\u001B[0m\u001B[1;33m(\u001B[0m\u001B[1;34m\"K\"\u001B[0m\u001B[1;33m)\u001B[0m\u001B[1;33m)\u001B[0m\u001B[1;33m\u001B[0m\u001B[1;33m\u001B[0m\u001B[0m\n\u001B[0m\u001B[0;32m   2193\u001B[0m             \u001B[1;31m# If tzaware, these values represent unix timestamps, so we\u001B[0m\u001B[1;33m\u001B[0m\u001B[1;33m\u001B[0m\u001B[0m\n",
      "\u001B[1;32md:\\projects\\software\\python\\polls\\venv\\lib\\site-packages\\pandas\\_libs\\tslibs\\conversion.pyx\u001B[0m in \u001B[0;36mpandas._libs.tslibs.conversion.datetime_to_datetime64\u001B[1;34m()\u001B[0m\n",
      "\u001B[1;31mTypeError\u001B[0m: Unrecognized value type: <class 'str'>",
      "\nDuring handling of the above exception, another exception occurred:\n",
      "\u001B[1;31mParserError\u001B[0m                               Traceback (most recent call last)",
      "\u001B[1;32m~\\AppData\\Local\\Temp/ipykernel_67188/1403606192.py\u001B[0m in \u001B[0;36m<module>\u001B[1;34m\u001B[0m\n\u001B[0;32m      1\u001B[0m \u001B[1;32mfrom\u001B[0m \u001B[0mpandas\u001B[0m \u001B[1;32mimport\u001B[0m \u001B[0mto_datetime\u001B[0m\u001B[1;33m\u001B[0m\u001B[1;33m\u001B[0m\u001B[0m\n\u001B[1;32m----> 2\u001B[1;33m \u001B[0mall_polls\u001B[0m\u001B[1;33m[\u001B[0m\u001B[1;34m'date_started'\u001B[0m\u001B[1;33m]\u001B[0m \u001B[1;33m=\u001B[0m \u001B[0mto_datetime\u001B[0m\u001B[1;33m(\u001B[0m\u001B[0mall_polls\u001B[0m\u001B[1;33m[\u001B[0m\u001B[1;34m'date_started'\u001B[0m\u001B[1;33m]\u001B[0m\u001B[1;33m)\u001B[0m\u001B[1;33m\u001B[0m\u001B[1;33m\u001B[0m\u001B[0m\n\u001B[0m\u001B[0;32m      3\u001B[0m \u001B[0mall_polls\u001B[0m\u001B[1;33m[\u001B[0m\u001B[1;34m'date_concluded'\u001B[0m\u001B[1;33m]\u001B[0m \u001B[1;33m=\u001B[0m \u001B[0mto_datetime\u001B[0m\u001B[1;33m(\u001B[0m\u001B[0mall_polls\u001B[0m\u001B[1;33m[\u001B[0m\u001B[1;34m'date_concluded'\u001B[0m\u001B[1;33m]\u001B[0m\u001B[1;33m)\u001B[0m\u001B[1;33m\u001B[0m\u001B[1;33m\u001B[0m\u001B[0m\n",
      "\u001B[1;32md:\\projects\\software\\python\\polls\\venv\\lib\\site-packages\\pandas\\core\\tools\\datetimes.py\u001B[0m in \u001B[0;36mto_datetime\u001B[1;34m(arg, errors, dayfirst, yearfirst, utc, format, exact, unit, infer_datetime_format, origin, cache)\u001B[0m\n\u001B[0;32m    881\u001B[0m                 \u001B[0mresult\u001B[0m \u001B[1;33m=\u001B[0m \u001B[0mresult\u001B[0m\u001B[1;33m.\u001B[0m\u001B[0mtz_localize\u001B[0m\u001B[1;33m(\u001B[0m\u001B[0mtz\u001B[0m\u001B[1;33m)\u001B[0m  \u001B[1;31m# type: ignore[call-arg]\u001B[0m\u001B[1;33m\u001B[0m\u001B[1;33m\u001B[0m\u001B[0m\n\u001B[0;32m    882\u001B[0m     \u001B[1;32melif\u001B[0m \u001B[0misinstance\u001B[0m\u001B[1;33m(\u001B[0m\u001B[0marg\u001B[0m\u001B[1;33m,\u001B[0m \u001B[0mABCSeries\u001B[0m\u001B[1;33m)\u001B[0m\u001B[1;33m:\u001B[0m\u001B[1;33m\u001B[0m\u001B[1;33m\u001B[0m\u001B[0m\n\u001B[1;32m--> 883\u001B[1;33m         \u001B[0mcache_array\u001B[0m \u001B[1;33m=\u001B[0m \u001B[0m_maybe_cache\u001B[0m\u001B[1;33m(\u001B[0m\u001B[0marg\u001B[0m\u001B[1;33m,\u001B[0m \u001B[0mformat\u001B[0m\u001B[1;33m,\u001B[0m \u001B[0mcache\u001B[0m\u001B[1;33m,\u001B[0m \u001B[0mconvert_listlike\u001B[0m\u001B[1;33m)\u001B[0m\u001B[1;33m\u001B[0m\u001B[1;33m\u001B[0m\u001B[0m\n\u001B[0m\u001B[0;32m    884\u001B[0m         \u001B[1;32mif\u001B[0m \u001B[1;32mnot\u001B[0m \u001B[0mcache_array\u001B[0m\u001B[1;33m.\u001B[0m\u001B[0mempty\u001B[0m\u001B[1;33m:\u001B[0m\u001B[1;33m\u001B[0m\u001B[1;33m\u001B[0m\u001B[0m\n\u001B[0;32m    885\u001B[0m             \u001B[0mresult\u001B[0m \u001B[1;33m=\u001B[0m \u001B[0marg\u001B[0m\u001B[1;33m.\u001B[0m\u001B[0mmap\u001B[0m\u001B[1;33m(\u001B[0m\u001B[0mcache_array\u001B[0m\u001B[1;33m)\u001B[0m\u001B[1;33m\u001B[0m\u001B[1;33m\u001B[0m\u001B[0m\n",
      "\u001B[1;32md:\\projects\\software\\python\\polls\\venv\\lib\\site-packages\\pandas\\core\\tools\\datetimes.py\u001B[0m in \u001B[0;36m_maybe_cache\u001B[1;34m(arg, format, cache, convert_listlike)\u001B[0m\n\u001B[0;32m    193\u001B[0m         \u001B[0munique_dates\u001B[0m \u001B[1;33m=\u001B[0m \u001B[0munique\u001B[0m\u001B[1;33m(\u001B[0m\u001B[0marg\u001B[0m\u001B[1;33m)\u001B[0m\u001B[1;33m\u001B[0m\u001B[1;33m\u001B[0m\u001B[0m\n\u001B[0;32m    194\u001B[0m         \u001B[1;32mif\u001B[0m \u001B[0mlen\u001B[0m\u001B[1;33m(\u001B[0m\u001B[0munique_dates\u001B[0m\u001B[1;33m)\u001B[0m \u001B[1;33m<\u001B[0m \u001B[0mlen\u001B[0m\u001B[1;33m(\u001B[0m\u001B[0marg\u001B[0m\u001B[1;33m)\u001B[0m\u001B[1;33m:\u001B[0m\u001B[1;33m\u001B[0m\u001B[1;33m\u001B[0m\u001B[0m\n\u001B[1;32m--> 195\u001B[1;33m             \u001B[0mcache_dates\u001B[0m \u001B[1;33m=\u001B[0m \u001B[0mconvert_listlike\u001B[0m\u001B[1;33m(\u001B[0m\u001B[0munique_dates\u001B[0m\u001B[1;33m,\u001B[0m \u001B[0mformat\u001B[0m\u001B[1;33m)\u001B[0m\u001B[1;33m\u001B[0m\u001B[1;33m\u001B[0m\u001B[0m\n\u001B[0m\u001B[0;32m    196\u001B[0m             \u001B[0mcache_array\u001B[0m \u001B[1;33m=\u001B[0m \u001B[0mSeries\u001B[0m\u001B[1;33m(\u001B[0m\u001B[0mcache_dates\u001B[0m\u001B[1;33m,\u001B[0m \u001B[0mindex\u001B[0m\u001B[1;33m=\u001B[0m\u001B[0munique_dates\u001B[0m\u001B[1;33m)\u001B[0m\u001B[1;33m\u001B[0m\u001B[1;33m\u001B[0m\u001B[0m\n\u001B[0;32m    197\u001B[0m             \u001B[1;31m# GH#39882 and GH#35888 in case of None and NaT we get duplicates\u001B[0m\u001B[1;33m\u001B[0m\u001B[1;33m\u001B[0m\u001B[0m\n",
      "\u001B[1;32md:\\projects\\software\\python\\polls\\venv\\lib\\site-packages\\pandas\\core\\tools\\datetimes.py\u001B[0m in \u001B[0;36m_convert_listlike_datetimes\u001B[1;34m(arg, format, name, tz, unit, errors, infer_datetime_format, dayfirst, yearfirst, exact)\u001B[0m\n\u001B[0;32m    399\u001B[0m     \u001B[1;32massert\u001B[0m \u001B[0mformat\u001B[0m \u001B[1;32mis\u001B[0m \u001B[1;32mNone\u001B[0m \u001B[1;32mor\u001B[0m \u001B[0minfer_datetime_format\u001B[0m\u001B[1;33m\u001B[0m\u001B[1;33m\u001B[0m\u001B[0m\n\u001B[0;32m    400\u001B[0m     \u001B[0mutc\u001B[0m \u001B[1;33m=\u001B[0m \u001B[0mtz\u001B[0m \u001B[1;33m==\u001B[0m \u001B[1;34m\"utc\"\u001B[0m\u001B[1;33m\u001B[0m\u001B[1;33m\u001B[0m\u001B[0m\n\u001B[1;32m--> 401\u001B[1;33m     result, tz_parsed = objects_to_datetime64ns(\n\u001B[0m\u001B[0;32m    402\u001B[0m         \u001B[0marg\u001B[0m\u001B[1;33m,\u001B[0m\u001B[1;33m\u001B[0m\u001B[1;33m\u001B[0m\u001B[0m\n\u001B[0;32m    403\u001B[0m         \u001B[0mdayfirst\u001B[0m\u001B[1;33m=\u001B[0m\u001B[0mdayfirst\u001B[0m\u001B[1;33m,\u001B[0m\u001B[1;33m\u001B[0m\u001B[1;33m\u001B[0m\u001B[0m\n",
      "\u001B[1;32md:\\projects\\software\\python\\polls\\venv\\lib\\site-packages\\pandas\\core\\arrays\\datetimes.py\u001B[0m in \u001B[0;36mobjects_to_datetime64ns\u001B[1;34m(data, dayfirst, yearfirst, utc, errors, require_iso8601, allow_object, allow_mixed)\u001B[0m\n\u001B[0;32m   2196\u001B[0m             \u001B[1;32mreturn\u001B[0m \u001B[0mvalues\u001B[0m\u001B[1;33m.\u001B[0m\u001B[0mview\u001B[0m\u001B[1;33m(\u001B[0m\u001B[1;34m\"i8\"\u001B[0m\u001B[1;33m)\u001B[0m\u001B[1;33m,\u001B[0m \u001B[0mtz_parsed\u001B[0m\u001B[1;33m\u001B[0m\u001B[1;33m\u001B[0m\u001B[0m\n\u001B[0;32m   2197\u001B[0m         \u001B[1;32mexcept\u001B[0m \u001B[1;33m(\u001B[0m\u001B[0mValueError\u001B[0m\u001B[1;33m,\u001B[0m \u001B[0mTypeError\u001B[0m\u001B[1;33m)\u001B[0m\u001B[1;33m:\u001B[0m\u001B[1;33m\u001B[0m\u001B[1;33m\u001B[0m\u001B[0m\n\u001B[1;32m-> 2198\u001B[1;33m             \u001B[1;32mraise\u001B[0m \u001B[0merr\u001B[0m\u001B[1;33m\u001B[0m\u001B[1;33m\u001B[0m\u001B[0m\n\u001B[0m\u001B[0;32m   2199\u001B[0m \u001B[1;33m\u001B[0m\u001B[0m\n\u001B[0;32m   2200\u001B[0m     \u001B[1;32mif\u001B[0m \u001B[0mtz_parsed\u001B[0m \u001B[1;32mis\u001B[0m \u001B[1;32mnot\u001B[0m \u001B[1;32mNone\u001B[0m\u001B[1;33m:\u001B[0m\u001B[1;33m\u001B[0m\u001B[1;33m\u001B[0m\u001B[0m\n",
      "\u001B[1;32md:\\projects\\software\\python\\polls\\venv\\lib\\site-packages\\pandas\\core\\arrays\\datetimes.py\u001B[0m in \u001B[0;36mobjects_to_datetime64ns\u001B[1;34m(data, dayfirst, yearfirst, utc, errors, require_iso8601, allow_object, allow_mixed)\u001B[0m\n\u001B[0;32m   2178\u001B[0m     \u001B[0morder\u001B[0m\u001B[1;33m:\u001B[0m \u001B[0mLiteral\u001B[0m\u001B[1;33m[\u001B[0m\u001B[1;34m\"F\"\u001B[0m\u001B[1;33m,\u001B[0m \u001B[1;34m\"C\"\u001B[0m\u001B[1;33m]\u001B[0m \u001B[1;33m=\u001B[0m \u001B[1;34m\"F\"\u001B[0m \u001B[1;32mif\u001B[0m \u001B[0mflags\u001B[0m\u001B[1;33m.\u001B[0m\u001B[0mf_contiguous\u001B[0m \u001B[1;32melse\u001B[0m \u001B[1;34m\"C\"\u001B[0m\u001B[1;33m\u001B[0m\u001B[1;33m\u001B[0m\u001B[0m\n\u001B[0;32m   2179\u001B[0m     \u001B[1;32mtry\u001B[0m\u001B[1;33m:\u001B[0m\u001B[1;33m\u001B[0m\u001B[1;33m\u001B[0m\u001B[0m\n\u001B[1;32m-> 2180\u001B[1;33m         result, tz_parsed = tslib.array_to_datetime(\n\u001B[0m\u001B[0;32m   2181\u001B[0m             \u001B[0mdata\u001B[0m\u001B[1;33m.\u001B[0m\u001B[0mravel\u001B[0m\u001B[1;33m(\u001B[0m\u001B[1;34m\"K\"\u001B[0m\u001B[1;33m)\u001B[0m\u001B[1;33m,\u001B[0m\u001B[1;33m\u001B[0m\u001B[1;33m\u001B[0m\u001B[0m\n\u001B[0;32m   2182\u001B[0m             \u001B[0merrors\u001B[0m\u001B[1;33m=\u001B[0m\u001B[0merrors\u001B[0m\u001B[1;33m,\u001B[0m\u001B[1;33m\u001B[0m\u001B[1;33m\u001B[0m\u001B[0m\n",
      "\u001B[1;32md:\\projects\\software\\python\\polls\\venv\\lib\\site-packages\\pandas\\_libs\\tslib.pyx\u001B[0m in \u001B[0;36mpandas._libs.tslib.array_to_datetime\u001B[1;34m()\u001B[0m\n",
      "\u001B[1;32md:\\projects\\software\\python\\polls\\venv\\lib\\site-packages\\pandas\\_libs\\tslib.pyx\u001B[0m in \u001B[0;36mpandas._libs.tslib.array_to_datetime\u001B[1;34m()\u001B[0m\n",
      "\u001B[1;32md:\\projects\\software\\python\\polls\\venv\\lib\\site-packages\\pandas\\_libs\\tslib.pyx\u001B[0m in \u001B[0;36mpandas._libs.tslib._array_to_datetime_object\u001B[1;34m()\u001B[0m\n",
      "\u001B[1;32md:\\projects\\software\\python\\polls\\venv\\lib\\site-packages\\pandas\\_libs\\tslib.pyx\u001B[0m in \u001B[0;36mpandas._libs.tslib._array_to_datetime_object\u001B[1;34m()\u001B[0m\n",
      "\u001B[1;32md:\\projects\\software\\python\\polls\\venv\\lib\\site-packages\\pandas\\_libs\\tslibs\\parsing.pyx\u001B[0m in \u001B[0;36mpandas._libs.tslibs.parsing.parse_datetime_string\u001B[1;34m()\u001B[0m\n",
      "\u001B[1;32md:\\projects\\software\\python\\polls\\venv\\lib\\site-packages\\dateutil\\parser\\_parser.py\u001B[0m in \u001B[0;36mparse\u001B[1;34m(timestr, parserinfo, **kwargs)\u001B[0m\n\u001B[0;32m   1366\u001B[0m         \u001B[1;32mreturn\u001B[0m \u001B[0mparser\u001B[0m\u001B[1;33m(\u001B[0m\u001B[0mparserinfo\u001B[0m\u001B[1;33m)\u001B[0m\u001B[1;33m.\u001B[0m\u001B[0mparse\u001B[0m\u001B[1;33m(\u001B[0m\u001B[0mtimestr\u001B[0m\u001B[1;33m,\u001B[0m \u001B[1;33m**\u001B[0m\u001B[0mkwargs\u001B[0m\u001B[1;33m)\u001B[0m\u001B[1;33m\u001B[0m\u001B[1;33m\u001B[0m\u001B[0m\n\u001B[0;32m   1367\u001B[0m     \u001B[1;32melse\u001B[0m\u001B[1;33m:\u001B[0m\u001B[1;33m\u001B[0m\u001B[1;33m\u001B[0m\u001B[0m\n\u001B[1;32m-> 1368\u001B[1;33m         \u001B[1;32mreturn\u001B[0m \u001B[0mDEFAULTPARSER\u001B[0m\u001B[1;33m.\u001B[0m\u001B[0mparse\u001B[0m\u001B[1;33m(\u001B[0m\u001B[0mtimestr\u001B[0m\u001B[1;33m,\u001B[0m \u001B[1;33m**\u001B[0m\u001B[0mkwargs\u001B[0m\u001B[1;33m)\u001B[0m\u001B[1;33m\u001B[0m\u001B[1;33m\u001B[0m\u001B[0m\n\u001B[0m\u001B[0;32m   1369\u001B[0m \u001B[1;33m\u001B[0m\u001B[0m\n\u001B[0;32m   1370\u001B[0m \u001B[1;33m\u001B[0m\u001B[0m\n",
      "\u001B[1;32md:\\projects\\software\\python\\polls\\venv\\lib\\site-packages\\dateutil\\parser\\_parser.py\u001B[0m in \u001B[0;36mparse\u001B[1;34m(self, timestr, default, ignoretz, tzinfos, **kwargs)\u001B[0m\n\u001B[0;32m    641\u001B[0m \u001B[1;33m\u001B[0m\u001B[0m\n\u001B[0;32m    642\u001B[0m         \u001B[1;32mif\u001B[0m \u001B[0mres\u001B[0m \u001B[1;32mis\u001B[0m \u001B[1;32mNone\u001B[0m\u001B[1;33m:\u001B[0m\u001B[1;33m\u001B[0m\u001B[1;33m\u001B[0m\u001B[0m\n\u001B[1;32m--> 643\u001B[1;33m             \u001B[1;32mraise\u001B[0m \u001B[0mParserError\u001B[0m\u001B[1;33m(\u001B[0m\u001B[1;34m\"Unknown string format: %s\"\u001B[0m\u001B[1;33m,\u001B[0m \u001B[0mtimestr\u001B[0m\u001B[1;33m)\u001B[0m\u001B[1;33m\u001B[0m\u001B[1;33m\u001B[0m\u001B[0m\n\u001B[0m\u001B[0;32m    644\u001B[0m \u001B[1;33m\u001B[0m\u001B[0m\n\u001B[0;32m    645\u001B[0m         \u001B[1;32mif\u001B[0m \u001B[0mlen\u001B[0m\u001B[1;33m(\u001B[0m\u001B[0mres\u001B[0m\u001B[1;33m)\u001B[0m \u001B[1;33m==\u001B[0m \u001B[1;36m0\u001B[0m\u001B[1;33m:\u001B[0m\u001B[1;33m\u001B[0m\u001B[1;33m\u001B[0m\u001B[0m\n",
      "\u001B[1;31mParserError\u001B[0m: Unknown string format: nan-Oct-10"
     ]
    }
   ],
   "source": [
    "from pandas import to_datetime\n",
    "all_polls['date_started'] = to_datetime(all_polls['date_started'])\n",
    "all_polls['date_concluded'] = to_datetime(all_polls['date_concluded'])"
   ],
   "metadata": {
    "collapsed": false
   }
  },
  {
   "cell_type": "code",
   "execution_count": 16,
   "outputs": [],
   "source": [
    "for file in ['1974','1974_oct','1979','1983','1987','1992','1997','2001','2005','2010','2012','2015','2017','2019']:\n",
    "    pd.read_excel(f'poll_database/excels/{file}.xlsx')"
   ],
   "metadata": {
    "collapsed": false
   }
  },
  {
   "cell_type": "code",
   "execution_count": 41,
   "metadata": {},
   "outputs": [
    {
     "ename": "TypeError",
     "evalue": "read_feather() got an unexpected keyword argument 'index_col'",
     "output_type": "error",
     "traceback": [
      "\u001B[1;31m---------------------------------------------------------------------------\u001B[0m",
      "\u001B[1;31mTypeError\u001B[0m                                 Traceback (most recent call last)",
      "\u001B[1;32m~\\AppData\\Local\\Temp/ipykernel_67188/2047073732.py\u001B[0m in \u001B[0;36m<module>\u001B[1;34m\u001B[0m\n\u001B[1;32m----> 1\u001B[1;33m \u001B[0mpd\u001B[0m\u001B[1;33m.\u001B[0m\u001B[0mread_feather\u001B[0m\u001B[1;33m(\u001B[0m\u001B[1;34m'poll_database/feathers/2010.feather'\u001B[0m\u001B[1;33m,\u001B[0m \u001B[0mindex_col\u001B[0m\u001B[1;33m=\u001B[0m\u001B[1;36m0\u001B[0m\u001B[1;33m)\u001B[0m\u001B[1;33m.\u001B[0m\u001B[0mto_csv\u001B[0m\u001B[1;33m(\u001B[0m\u001B[1;34m'poll_database/csvs/2010.csv'\u001B[0m\u001B[1;33m,\u001B[0m \u001B[0mindex\u001B[0m\u001B[1;33m=\u001B[0m\u001B[1;32mFalse\u001B[0m\u001B[1;33m)\u001B[0m\u001B[1;33m\u001B[0m\u001B[1;33m\u001B[0m\u001B[0m\n\u001B[0m",
      "\u001B[1;31mTypeError\u001B[0m: read_feather() got an unexpected keyword argument 'index_col'"
     ]
    }
   ],
   "source": [
    "pd.read_feather('poll_database/feathers/2010.feather', index_col=0).to_csv('poll_database/csvs/2010.csv', index=False)"
   ]
  },
  {
   "cell_type": "code",
   "execution_count": null,
   "outputs": [],
   "source": [
    "[1974.csv\n",
    "1974_oct.csv\n",
    "1979.csv\n",
    "1983.csv\n",
    "1987.csv\n",
    "1992.csv\n",
    "1997.csv\n",
    "2001.csv\n",
    "2005.csv\n",
    "2010.csv\n",
    "2012.csv\n",
    "2015.csv\n",
    "2017.csv\n",
    "2019.csv\n",
    "next.csv]"
   ],
   "metadata": {
    "collapsed": false
   }
  },
  {
   "cell_type": "code",
   "execution_count": 40,
   "outputs": [
    {
     "data": {
      "text/plain": "                  pollster                 client       dates sample_size  \\\n0    2010 general election  2010 general election       6 May           –   \n1               Ipsos MORI       Evening Standard       5 May        1216   \n2                   YouGov                The Sun     4–5 May        6483   \n3       Harris Interactive             Daily Mail     4–5 May        4014   \n4                  Populus              The Times     4–5 May        2505   \n..                     ...                    ...         ...         ...   \n618                    NaN                    NaN  16–20 June        1227   \n619                    NaN                    NaN  17–19 June        1005   \n620                    NaN                    NaN   24–26 May           –   \n621                    NaN                    NaN   19–23 May        1274   \n622                    NaN                    NaN       5 May           –   \n\n    labour conservative liberal_democrat others  lead  year  \\\n0    29.7%        36.9%            23.6%   9.8%  7.2%  2010   \n1      29%          36%              27%     8%    7%  2010   \n2      28%          35%              28%     9%    7%  2010   \n3      29%          35%              27%     7%    6%  2010   \n4      28%          37%              27%     8%    9%  2010   \n..     ...          ...              ...    ...   ...   ...   \n618    42%          29%              21%     8%   13%  2005   \n619    38%          31%              23%     8%    7%  2005   \n620    38%          31%              23%     8%    7%  2005   \n621    37%          30%              26%     7%    7%  2005   \n622  36.2%        33.2%            22.7%   7.9%    3%  2005   \n\n            pollster_client  \n0                       NaN  \n1                       NaN  \n2                       NaN  \n3                       NaN  \n4                       NaN  \n..                      ...  \n618                    MORI  \n619        ICM/The Guardian  \n620  YouGov/Daily Telegraph  \n621    MORI/Financial Times  \n622   2005 general election  \n\n[623 rows x 11 columns]",
      "text/html": "<div>\n<style scoped>\n    .dataframe tbody tr th:only-of-type {\n        vertical-align: middle;\n    }\n\n    .dataframe tbody tr th {\n        vertical-align: top;\n    }\n\n    .dataframe thead th {\n        text-align: right;\n    }\n</style>\n<table border=\"1\" class=\"dataframe\">\n  <thead>\n    <tr style=\"text-align: right;\">\n      <th></th>\n      <th>pollster</th>\n      <th>client</th>\n      <th>dates</th>\n      <th>sample_size</th>\n      <th>labour</th>\n      <th>conservative</th>\n      <th>liberal_democrat</th>\n      <th>others</th>\n      <th>lead</th>\n      <th>year</th>\n      <th>pollster_client</th>\n    </tr>\n  </thead>\n  <tbody>\n    <tr>\n      <th>0</th>\n      <td>2010 general election</td>\n      <td>2010 general election</td>\n      <td>6 May</td>\n      <td>–</td>\n      <td>29.7%</td>\n      <td>36.9%</td>\n      <td>23.6%</td>\n      <td>9.8%</td>\n      <td>7.2%</td>\n      <td>2010</td>\n      <td>NaN</td>\n    </tr>\n    <tr>\n      <th>1</th>\n      <td>Ipsos MORI</td>\n      <td>Evening Standard</td>\n      <td>5 May</td>\n      <td>1216</td>\n      <td>29%</td>\n      <td>36%</td>\n      <td>27%</td>\n      <td>8%</td>\n      <td>7%</td>\n      <td>2010</td>\n      <td>NaN</td>\n    </tr>\n    <tr>\n      <th>2</th>\n      <td>YouGov</td>\n      <td>The Sun</td>\n      <td>4–5 May</td>\n      <td>6483</td>\n      <td>28%</td>\n      <td>35%</td>\n      <td>28%</td>\n      <td>9%</td>\n      <td>7%</td>\n      <td>2010</td>\n      <td>NaN</td>\n    </tr>\n    <tr>\n      <th>3</th>\n      <td>Harris Interactive</td>\n      <td>Daily Mail</td>\n      <td>4–5 May</td>\n      <td>4014</td>\n      <td>29%</td>\n      <td>35%</td>\n      <td>27%</td>\n      <td>7%</td>\n      <td>6%</td>\n      <td>2010</td>\n      <td>NaN</td>\n    </tr>\n    <tr>\n      <th>4</th>\n      <td>Populus</td>\n      <td>The Times</td>\n      <td>4–5 May</td>\n      <td>2505</td>\n      <td>28%</td>\n      <td>37%</td>\n      <td>27%</td>\n      <td>8%</td>\n      <td>9%</td>\n      <td>2010</td>\n      <td>NaN</td>\n    </tr>\n    <tr>\n      <th>...</th>\n      <td>...</td>\n      <td>...</td>\n      <td>...</td>\n      <td>...</td>\n      <td>...</td>\n      <td>...</td>\n      <td>...</td>\n      <td>...</td>\n      <td>...</td>\n      <td>...</td>\n      <td>...</td>\n    </tr>\n    <tr>\n      <th>618</th>\n      <td>NaN</td>\n      <td>NaN</td>\n      <td>16–20 June</td>\n      <td>1227</td>\n      <td>42%</td>\n      <td>29%</td>\n      <td>21%</td>\n      <td>8%</td>\n      <td>13%</td>\n      <td>2005</td>\n      <td>MORI</td>\n    </tr>\n    <tr>\n      <th>619</th>\n      <td>NaN</td>\n      <td>NaN</td>\n      <td>17–19 June</td>\n      <td>1005</td>\n      <td>38%</td>\n      <td>31%</td>\n      <td>23%</td>\n      <td>8%</td>\n      <td>7%</td>\n      <td>2005</td>\n      <td>ICM/The Guardian</td>\n    </tr>\n    <tr>\n      <th>620</th>\n      <td>NaN</td>\n      <td>NaN</td>\n      <td>24–26 May</td>\n      <td>–</td>\n      <td>38%</td>\n      <td>31%</td>\n      <td>23%</td>\n      <td>8%</td>\n      <td>7%</td>\n      <td>2005</td>\n      <td>YouGov/Daily Telegraph</td>\n    </tr>\n    <tr>\n      <th>621</th>\n      <td>NaN</td>\n      <td>NaN</td>\n      <td>19–23 May</td>\n      <td>1274</td>\n      <td>37%</td>\n      <td>30%</td>\n      <td>26%</td>\n      <td>7%</td>\n      <td>7%</td>\n      <td>2005</td>\n      <td>MORI/Financial Times</td>\n    </tr>\n    <tr>\n      <th>622</th>\n      <td>NaN</td>\n      <td>NaN</td>\n      <td>5 May</td>\n      <td>–</td>\n      <td>36.2%</td>\n      <td>33.2%</td>\n      <td>22.7%</td>\n      <td>7.9%</td>\n      <td>3%</td>\n      <td>2005</td>\n      <td>2005 general election</td>\n    </tr>\n  </tbody>\n</table>\n<p>623 rows × 11 columns</p>\n</div>"
     },
     "execution_count": 40,
     "metadata": {},
     "output_type": "execute_result"
    }
   ],
   "source": [
    "for pd.read_csv('poll_database/csvs/2010.csv', index_col=0)"
   ],
   "metadata": {
    "collapsed": false
   }
  },
  {
   "cell_type": "code",
   "execution_count": null,
   "outputs": [],
   "source": [],
   "metadata": {
    "collapsed": false
   }
  },
  {
   "cell_type": "code",
   "execution_count": 5,
   "metadata": {},
   "outputs": [],
   "source": [
    "all_polls.to_csv('poll_database/poll_database.csv', index=False)\n",
    "all_polls.to_excel('poll_database/poll_database.xlsx', index=False)\n",
    "all_polls.to_json('poll_database/poll_database.json', index=False, orient='split')"
   ]
  },
  {
   "cell_type": "code",
   "execution_count": 6,
   "metadata": {},
   "outputs": [],
   "source": [
    "display_columns = ['date_started', 'date_concluded', 'pollster', 'conservative', 'labour', 'liberal_democrat', 'lead']"
   ]
  },
  {
   "cell_type": "code",
   "execution_count": 7,
   "metadata": {},
   "outputs": [],
   "source": [
    "all_polls['anti_conservative'] = all_polls[\n",
    "    ['labour', 'liberal_democrat', 'green', 'scottish_national_party', 'plaid_cymru']].fillna(0).sum(axis=1)"
   ]
  },
  {
   "cell_type": "code",
   "execution_count": 8,
   "outputs": [
    {
     "data": {
      "text/plain": "     date_started date_concluded                      pollster  \\\n0      2023-02-24     2023-02-27                     Deltapoll   \n1      2023-02-26     2023-02-26  Redfield & Wilton Strategies   \n2      2023-02-21     2023-02-23                  BMG Research   \n3      2023-02-22     2023-02-23                       Omnisis   \n4      2023-02-22     2023-02-23                     Techne UK   \n...           ...            ...                           ...   \n6067   1970-11-15     1970-11-15                        Gallup   \n6068   1970-10-18     1970-10-18                        Gallup   \n6069   1970-09-13     1970-09-13                        Gallup   \n6070   1970-08-16     1970-08-16                        Gallup   \n6071   1970-06-18     1970-06-18              General Election   \n\n                     client area sample_size  conservative  labour  \\\n0                       NaN   GB        1060          31.0    46.0   \n1                       NaN   GB        2000          24.0    51.0   \n2                       NaN   GB         TBC          29.0    46.0   \n3                       NaN   GB        1248          24.0    48.0   \n4                       NaN   GB        1633          27.0    49.0   \n...                     ...  ...         ...           ...     ...   \n6067    The Daily Telegraph  NaN         NaN          43.5    48.0   \n6068    The Daily Telegraph  NaN         NaN          46.5    46.5   \n6069    The Daily Telegraph  NaN         NaN          46.5    44.0   \n6070    The Daily Telegraph  NaN         NaN          47.0    43.5   \n6071  1970 general election  NaN         NaN          46.4    43.1   \n\n      liberal_democrat  alliance  ...  plaid_cymru  reform_uk  \\\n0                  8.0       NaN  ...          NaN        NaN   \n1                  9.0       NaN  ...          NaN        7.0   \n2                  9.0       NaN  ...          NaN        6.0   \n3                 10.0       NaN  ...          NaN        8.0   \n4                  8.0       NaN  ...          NaN        5.0   \n...                ...       ...  ...          ...        ...   \n6067               NaN       NaN  ...          NaN        NaN   \n6068               NaN       NaN  ...          NaN        NaN   \n6069               NaN       NaN  ...          NaN        NaN   \n6070               NaN       NaN  ...          NaN        NaN   \n6071               NaN       NaN  ...          NaN        NaN   \n\n      scottish_national_party  social_democratic_party  \\\n0                         NaN                      NaN   \n1                         3.0                      NaN   \n2                         NaN                      NaN   \n3                         4.0                      NaN   \n4                         3.0                      NaN   \n...                       ...                      ...   \n6067                      NaN                      NaN   \n6068                      NaN                      NaN   \n6069                      NaN                      NaN   \n6070                      NaN                      NaN   \n6071                      NaN                      NaN   \n\n      united_kingdom_independence_party  reclaim_party  others      lead  \\\n0                                   NaN            NaN     NaN  lab+15.0   \n1                                   NaN            NaN     1.0  lab+27.0   \n2                                   NaN            NaN     NaN  lab+17.0   \n3                                   NaN            NaN     1.0  lab+24.0   \n4                                   NaN            NaN     3.0  lab+22.0   \n...                                 ...            ...     ...       ...   \n6067                                NaN            NaN     NaN   lab+4.5   \n6068                                NaN            NaN     NaN       Tie   \n6069                                NaN            NaN     NaN   con+2.5   \n6070                                NaN            NaN     NaN   con+3.5   \n6071                                NaN            NaN     NaN   con+3.3   \n\n      lead_value  anti_conservative  \n0           15.0               54.0  \n1           27.0               68.0  \n2           17.0               59.0  \n3           24.0               67.0  \n4           22.0               65.0  \n...          ...                ...  \n6067         4.5               48.0  \n6068         0.0               46.5  \n6069         2.5               44.0  \n6070         3.5               43.5  \n6071         3.3               43.1  \n\n[6072 rows x 24 columns]",
      "text/html": "<div>\n<style scoped>\n    .dataframe tbody tr th:only-of-type {\n        vertical-align: middle;\n    }\n\n    .dataframe tbody tr th {\n        vertical-align: top;\n    }\n\n    .dataframe thead th {\n        text-align: right;\n    }\n</style>\n<table border=\"1\" class=\"dataframe\">\n  <thead>\n    <tr style=\"text-align: right;\">\n      <th></th>\n      <th>date_started</th>\n      <th>date_concluded</th>\n      <th>pollster</th>\n      <th>client</th>\n      <th>area</th>\n      <th>sample_size</th>\n      <th>conservative</th>\n      <th>labour</th>\n      <th>liberal_democrat</th>\n      <th>alliance</th>\n      <th>...</th>\n      <th>plaid_cymru</th>\n      <th>reform_uk</th>\n      <th>scottish_national_party</th>\n      <th>social_democratic_party</th>\n      <th>united_kingdom_independence_party</th>\n      <th>reclaim_party</th>\n      <th>others</th>\n      <th>lead</th>\n      <th>lead_value</th>\n      <th>anti_conservative</th>\n    </tr>\n  </thead>\n  <tbody>\n    <tr>\n      <th>0</th>\n      <td>2023-02-24</td>\n      <td>2023-02-27</td>\n      <td>Deltapoll</td>\n      <td>NaN</td>\n      <td>GB</td>\n      <td>1060</td>\n      <td>31.0</td>\n      <td>46.0</td>\n      <td>8.0</td>\n      <td>NaN</td>\n      <td>...</td>\n      <td>NaN</td>\n      <td>NaN</td>\n      <td>NaN</td>\n      <td>NaN</td>\n      <td>NaN</td>\n      <td>NaN</td>\n      <td>NaN</td>\n      <td>lab+15.0</td>\n      <td>15.0</td>\n      <td>54.0</td>\n    </tr>\n    <tr>\n      <th>1</th>\n      <td>2023-02-26</td>\n      <td>2023-02-26</td>\n      <td>Redfield &amp; Wilton Strategies</td>\n      <td>NaN</td>\n      <td>GB</td>\n      <td>2000</td>\n      <td>24.0</td>\n      <td>51.0</td>\n      <td>9.0</td>\n      <td>NaN</td>\n      <td>...</td>\n      <td>NaN</td>\n      <td>7.0</td>\n      <td>3.0</td>\n      <td>NaN</td>\n      <td>NaN</td>\n      <td>NaN</td>\n      <td>1.0</td>\n      <td>lab+27.0</td>\n      <td>27.0</td>\n      <td>68.0</td>\n    </tr>\n    <tr>\n      <th>2</th>\n      <td>2023-02-21</td>\n      <td>2023-02-23</td>\n      <td>BMG Research</td>\n      <td>NaN</td>\n      <td>GB</td>\n      <td>TBC</td>\n      <td>29.0</td>\n      <td>46.0</td>\n      <td>9.0</td>\n      <td>NaN</td>\n      <td>...</td>\n      <td>NaN</td>\n      <td>6.0</td>\n      <td>NaN</td>\n      <td>NaN</td>\n      <td>NaN</td>\n      <td>NaN</td>\n      <td>NaN</td>\n      <td>lab+17.0</td>\n      <td>17.0</td>\n      <td>59.0</td>\n    </tr>\n    <tr>\n      <th>3</th>\n      <td>2023-02-22</td>\n      <td>2023-02-23</td>\n      <td>Omnisis</td>\n      <td>NaN</td>\n      <td>GB</td>\n      <td>1248</td>\n      <td>24.0</td>\n      <td>48.0</td>\n      <td>10.0</td>\n      <td>NaN</td>\n      <td>...</td>\n      <td>NaN</td>\n      <td>8.0</td>\n      <td>4.0</td>\n      <td>NaN</td>\n      <td>NaN</td>\n      <td>NaN</td>\n      <td>1.0</td>\n      <td>lab+24.0</td>\n      <td>24.0</td>\n      <td>67.0</td>\n    </tr>\n    <tr>\n      <th>4</th>\n      <td>2023-02-22</td>\n      <td>2023-02-23</td>\n      <td>Techne UK</td>\n      <td>NaN</td>\n      <td>GB</td>\n      <td>1633</td>\n      <td>27.0</td>\n      <td>49.0</td>\n      <td>8.0</td>\n      <td>NaN</td>\n      <td>...</td>\n      <td>NaN</td>\n      <td>5.0</td>\n      <td>3.0</td>\n      <td>NaN</td>\n      <td>NaN</td>\n      <td>NaN</td>\n      <td>3.0</td>\n      <td>lab+22.0</td>\n      <td>22.0</td>\n      <td>65.0</td>\n    </tr>\n    <tr>\n      <th>...</th>\n      <td>...</td>\n      <td>...</td>\n      <td>...</td>\n      <td>...</td>\n      <td>...</td>\n      <td>...</td>\n      <td>...</td>\n      <td>...</td>\n      <td>...</td>\n      <td>...</td>\n      <td>...</td>\n      <td>...</td>\n      <td>...</td>\n      <td>...</td>\n      <td>...</td>\n      <td>...</td>\n      <td>...</td>\n      <td>...</td>\n      <td>...</td>\n      <td>...</td>\n      <td>...</td>\n    </tr>\n    <tr>\n      <th>6067</th>\n      <td>1970-11-15</td>\n      <td>1970-11-15</td>\n      <td>Gallup</td>\n      <td>The Daily Telegraph</td>\n      <td>NaN</td>\n      <td>NaN</td>\n      <td>43.5</td>\n      <td>48.0</td>\n      <td>NaN</td>\n      <td>NaN</td>\n      <td>...</td>\n      <td>NaN</td>\n      <td>NaN</td>\n      <td>NaN</td>\n      <td>NaN</td>\n      <td>NaN</td>\n      <td>NaN</td>\n      <td>NaN</td>\n      <td>lab+4.5</td>\n      <td>4.5</td>\n      <td>48.0</td>\n    </tr>\n    <tr>\n      <th>6068</th>\n      <td>1970-10-18</td>\n      <td>1970-10-18</td>\n      <td>Gallup</td>\n      <td>The Daily Telegraph</td>\n      <td>NaN</td>\n      <td>NaN</td>\n      <td>46.5</td>\n      <td>46.5</td>\n      <td>NaN</td>\n      <td>NaN</td>\n      <td>...</td>\n      <td>NaN</td>\n      <td>NaN</td>\n      <td>NaN</td>\n      <td>NaN</td>\n      <td>NaN</td>\n      <td>NaN</td>\n      <td>NaN</td>\n      <td>Tie</td>\n      <td>0.0</td>\n      <td>46.5</td>\n    </tr>\n    <tr>\n      <th>6069</th>\n      <td>1970-09-13</td>\n      <td>1970-09-13</td>\n      <td>Gallup</td>\n      <td>The Daily Telegraph</td>\n      <td>NaN</td>\n      <td>NaN</td>\n      <td>46.5</td>\n      <td>44.0</td>\n      <td>NaN</td>\n      <td>NaN</td>\n      <td>...</td>\n      <td>NaN</td>\n      <td>NaN</td>\n      <td>NaN</td>\n      <td>NaN</td>\n      <td>NaN</td>\n      <td>NaN</td>\n      <td>NaN</td>\n      <td>con+2.5</td>\n      <td>2.5</td>\n      <td>44.0</td>\n    </tr>\n    <tr>\n      <th>6070</th>\n      <td>1970-08-16</td>\n      <td>1970-08-16</td>\n      <td>Gallup</td>\n      <td>The Daily Telegraph</td>\n      <td>NaN</td>\n      <td>NaN</td>\n      <td>47.0</td>\n      <td>43.5</td>\n      <td>NaN</td>\n      <td>NaN</td>\n      <td>...</td>\n      <td>NaN</td>\n      <td>NaN</td>\n      <td>NaN</td>\n      <td>NaN</td>\n      <td>NaN</td>\n      <td>NaN</td>\n      <td>NaN</td>\n      <td>con+3.5</td>\n      <td>3.5</td>\n      <td>43.5</td>\n    </tr>\n    <tr>\n      <th>6071</th>\n      <td>1970-06-18</td>\n      <td>1970-06-18</td>\n      <td>General Election</td>\n      <td>1970 general election</td>\n      <td>NaN</td>\n      <td>NaN</td>\n      <td>46.4</td>\n      <td>43.1</td>\n      <td>NaN</td>\n      <td>NaN</td>\n      <td>...</td>\n      <td>NaN</td>\n      <td>NaN</td>\n      <td>NaN</td>\n      <td>NaN</td>\n      <td>NaN</td>\n      <td>NaN</td>\n      <td>NaN</td>\n      <td>con+3.3</td>\n      <td>3.3</td>\n      <td>43.1</td>\n    </tr>\n  </tbody>\n</table>\n<p>6072 rows × 24 columns</p>\n</div>"
     },
     "execution_count": 8,
     "metadata": {},
     "output_type": "execute_result"
    }
   ],
   "source": [
    "all_polls"
   ],
   "metadata": {
    "collapsed": false
   }
  },
  {
   "cell_type": "code",
   "execution_count": 9,
   "metadata": {},
   "outputs": [
    {
     "data": {
      "text/plain": "     date_started date_concluded                      pollster  conservative  \\\n352    2022-03-17     2022-03-21                 Kantar Public          36.0   \n447    2021-12-06     2021-12-06  Redfield & Wilton Strategies          38.0   \n448    2021-12-03     2021-12-05                       Savanta          38.0   \n450    2021-12-01     2021-12-02                        YouGov          36.0   \n451    2021-11-29     2021-12-01                  Find Out Now          36.0   \n...           ...            ...                           ...           ...   \n6066   1970-12-13     1970-12-13                        Gallup          46.0   \n6068   1970-10-18     1970-10-18                        Gallup          46.5   \n6069   1970-09-13     1970-09-13                        Gallup          46.5   \n6070   1970-08-16     1970-08-16                        Gallup          47.0   \n6071   1970-06-18     1970-06-18              General Election          46.4   \n\n      labour  liberal_democrat     lead  \n352     36.0              12.0      Tie  \n447     36.0               9.0  con+2.0  \n448     37.0               9.0  con+1.0  \n450     33.0               9.0  con+3.0  \n451     35.0              11.0  con+1.0  \n...      ...               ...      ...  \n6066    44.5               NaN  con+1.5  \n6068    46.5               NaN      Tie  \n6069    44.0               NaN  con+2.5  \n6070    43.5               NaN  con+3.5  \n6071    43.1               NaN  con+3.3  \n\n[2547 rows x 7 columns]",
      "text/html": "<div>\n<style scoped>\n    .dataframe tbody tr th:only-of-type {\n        vertical-align: middle;\n    }\n\n    .dataframe tbody tr th {\n        vertical-align: top;\n    }\n\n    .dataframe thead th {\n        text-align: right;\n    }\n</style>\n<table border=\"1\" class=\"dataframe\">\n  <thead>\n    <tr style=\"text-align: right;\">\n      <th></th>\n      <th>date_started</th>\n      <th>date_concluded</th>\n      <th>pollster</th>\n      <th>conservative</th>\n      <th>labour</th>\n      <th>liberal_democrat</th>\n      <th>lead</th>\n    </tr>\n  </thead>\n  <tbody>\n    <tr>\n      <th>352</th>\n      <td>2022-03-17</td>\n      <td>2022-03-21</td>\n      <td>Kantar Public</td>\n      <td>36.0</td>\n      <td>36.0</td>\n      <td>12.0</td>\n      <td>Tie</td>\n    </tr>\n    <tr>\n      <th>447</th>\n      <td>2021-12-06</td>\n      <td>2021-12-06</td>\n      <td>Redfield &amp; Wilton Strategies</td>\n      <td>38.0</td>\n      <td>36.0</td>\n      <td>9.0</td>\n      <td>con+2.0</td>\n    </tr>\n    <tr>\n      <th>448</th>\n      <td>2021-12-03</td>\n      <td>2021-12-05</td>\n      <td>Savanta</td>\n      <td>38.0</td>\n      <td>37.0</td>\n      <td>9.0</td>\n      <td>con+1.0</td>\n    </tr>\n    <tr>\n      <th>450</th>\n      <td>2021-12-01</td>\n      <td>2021-12-02</td>\n      <td>YouGov</td>\n      <td>36.0</td>\n      <td>33.0</td>\n      <td>9.0</td>\n      <td>con+3.0</td>\n    </tr>\n    <tr>\n      <th>451</th>\n      <td>2021-11-29</td>\n      <td>2021-12-01</td>\n      <td>Find Out Now</td>\n      <td>36.0</td>\n      <td>35.0</td>\n      <td>11.0</td>\n      <td>con+1.0</td>\n    </tr>\n    <tr>\n      <th>...</th>\n      <td>...</td>\n      <td>...</td>\n      <td>...</td>\n      <td>...</td>\n      <td>...</td>\n      <td>...</td>\n      <td>...</td>\n    </tr>\n    <tr>\n      <th>6066</th>\n      <td>1970-12-13</td>\n      <td>1970-12-13</td>\n      <td>Gallup</td>\n      <td>46.0</td>\n      <td>44.5</td>\n      <td>NaN</td>\n      <td>con+1.5</td>\n    </tr>\n    <tr>\n      <th>6068</th>\n      <td>1970-10-18</td>\n      <td>1970-10-18</td>\n      <td>Gallup</td>\n      <td>46.5</td>\n      <td>46.5</td>\n      <td>NaN</td>\n      <td>Tie</td>\n    </tr>\n    <tr>\n      <th>6069</th>\n      <td>1970-09-13</td>\n      <td>1970-09-13</td>\n      <td>Gallup</td>\n      <td>46.5</td>\n      <td>44.0</td>\n      <td>NaN</td>\n      <td>con+2.5</td>\n    </tr>\n    <tr>\n      <th>6070</th>\n      <td>1970-08-16</td>\n      <td>1970-08-16</td>\n      <td>Gallup</td>\n      <td>47.0</td>\n      <td>43.5</td>\n      <td>NaN</td>\n      <td>con+3.5</td>\n    </tr>\n    <tr>\n      <th>6071</th>\n      <td>1970-06-18</td>\n      <td>1970-06-18</td>\n      <td>General Election</td>\n      <td>46.4</td>\n      <td>43.1</td>\n      <td>NaN</td>\n      <td>con+3.3</td>\n    </tr>\n  </tbody>\n</table>\n<p>2547 rows × 7 columns</p>\n</div>"
     },
     "execution_count": 9,
     "metadata": {},
     "output_type": "execute_result"
    }
   ],
   "source": [
    "all_polls.query(\"conservative>=labour\")[display_columns]"
   ]
  },
  {
   "cell_type": "code",
   "execution_count": 9,
   "metadata": {},
   "outputs": [],
   "source": []
  },
  {
   "cell_type": "code",
   "execution_count": 10,
   "metadata": {},
   "outputs": [
    {
     "data": {
      "text/plain": "   date_started date_concluded   pollster  conservative  labour  \\\n48   2023-01-17     2023-01-18  FocalData          24.0    49.0   \n\n    liberal_democrat      lead  \n48               9.0  lab+25.0  ",
      "text/html": "<div>\n<style scoped>\n    .dataframe tbody tr th:only-of-type {\n        vertical-align: middle;\n    }\n\n    .dataframe tbody tr th {\n        vertical-align: top;\n    }\n\n    .dataframe thead th {\n        text-align: right;\n    }\n</style>\n<table border=\"1\" class=\"dataframe\">\n  <thead>\n    <tr style=\"text-align: right;\">\n      <th></th>\n      <th>date_started</th>\n      <th>date_concluded</th>\n      <th>pollster</th>\n      <th>conservative</th>\n      <th>labour</th>\n      <th>liberal_democrat</th>\n      <th>lead</th>\n    </tr>\n  </thead>\n  <tbody>\n    <tr>\n      <th>48</th>\n      <td>2023-01-17</td>\n      <td>2023-01-18</td>\n      <td>FocalData</td>\n      <td>24.0</td>\n      <td>49.0</td>\n      <td>9.0</td>\n      <td>lab+25.0</td>\n    </tr>\n  </tbody>\n</table>\n</div>"
     },
     "execution_count": 10,
     "metadata": {},
     "output_type": "execute_result"
    }
   ],
   "source": [
    "all_polls.query('client == \"Sam Freedman\"')[display_columns]"
   ]
  },
  {
   "cell_type": "code",
   "execution_count": 11,
   "metadata": {},
   "outputs": [
    {
     "data": {
      "text/plain": "     date_started date_concluded    pollster  conservative  labour  \\\n3889   2008-09-12     2008-09-14  Ipsos MORI          52.0    24.0   \n3924   2008-05-07     2008-05-08      YouGov          49.0    23.0   \n\n      liberal_democrat      lead  \n3889               NaN  con+28.0  \n3924              17.0  con+26.0  ",
      "text/html": "<div>\n<style scoped>\n    .dataframe tbody tr th:only-of-type {\n        vertical-align: middle;\n    }\n\n    .dataframe tbody tr th {\n        vertical-align: top;\n    }\n\n    .dataframe thead th {\n        text-align: right;\n    }\n</style>\n<table border=\"1\" class=\"dataframe\">\n  <thead>\n    <tr style=\"text-align: right;\">\n      <th></th>\n      <th>date_started</th>\n      <th>date_concluded</th>\n      <th>pollster</th>\n      <th>conservative</th>\n      <th>labour</th>\n      <th>liberal_democrat</th>\n      <th>lead</th>\n    </tr>\n  </thead>\n  <tbody>\n    <tr>\n      <th>3889</th>\n      <td>2008-09-12</td>\n      <td>2008-09-14</td>\n      <td>Ipsos MORI</td>\n      <td>52.0</td>\n      <td>24.0</td>\n      <td>NaN</td>\n      <td>con+28.0</td>\n    </tr>\n    <tr>\n      <th>3924</th>\n      <td>2008-05-07</td>\n      <td>2008-05-08</td>\n      <td>YouGov</td>\n      <td>49.0</td>\n      <td>23.0</td>\n      <td>17.0</td>\n      <td>con+26.0</td>\n    </tr>\n  </tbody>\n</table>\n</div>"
     },
     "execution_count": 11,
     "metadata": {},
     "output_type": "execute_result"
    }
   ],
   "source": [
    "all_polls.query('date_concluded <= \"2010-05-06\" and date_concluded >= \"2005-05-05\" and lead_value >= 25')[display_columns]"
   ]
  },
  {
   "cell_type": "code",
   "execution_count": 12,
   "metadata": {},
   "outputs": [
    {
     "data": {
      "text/plain": "     date_started date_concluded            pollster  conservative  labour  \\\n3802   2009-06-10     2009-06-17  Harris Interactive          35.0    20.0   \n3809   2009-05-29     2009-05-31          Ipsos MORI          40.0    18.0   \n\n      liberal_democrat      lead  \n3802              16.0  con+15.0  \n3809              18.0  con+22.0  ",
      "text/html": "<div>\n<style scoped>\n    .dataframe tbody tr th:only-of-type {\n        vertical-align: middle;\n    }\n\n    .dataframe tbody tr th {\n        vertical-align: top;\n    }\n\n    .dataframe thead th {\n        text-align: right;\n    }\n</style>\n<table border=\"1\" class=\"dataframe\">\n  <thead>\n    <tr style=\"text-align: right;\">\n      <th></th>\n      <th>date_started</th>\n      <th>date_concluded</th>\n      <th>pollster</th>\n      <th>conservative</th>\n      <th>labour</th>\n      <th>liberal_democrat</th>\n      <th>lead</th>\n    </tr>\n  </thead>\n  <tbody>\n    <tr>\n      <th>3802</th>\n      <td>2009-06-10</td>\n      <td>2009-06-17</td>\n      <td>Harris Interactive</td>\n      <td>35.0</td>\n      <td>20.0</td>\n      <td>16.0</td>\n      <td>con+15.0</td>\n    </tr>\n    <tr>\n      <th>3809</th>\n      <td>2009-05-29</td>\n      <td>2009-05-31</td>\n      <td>Ipsos MORI</td>\n      <td>40.0</td>\n      <td>18.0</td>\n      <td>18.0</td>\n      <td>con+22.0</td>\n    </tr>\n  </tbody>\n</table>\n</div>"
     },
     "execution_count": 12,
     "metadata": {},
     "output_type": "execute_result"
    }
   ],
   "source": [
    "all_polls.query('date_concluded <= \"2010-05-06\" and date_concluded >= \"2005-05-05\" and labour <= 20')[display_columns]"
   ]
  },
  {
   "cell_type": "code",
   "execution_count": 13,
   "metadata": {},
   "outputs": [
    {
     "data": {
      "text/plain": "     date_started date_concluded               pollster  conservative  labour  \\\n3594   2010-04-18     2010-04-20             Ipsos MORI          32.0    28.0   \n3595   2010-04-19     2010-04-20                 YouGov          31.0    26.0   \n3597   2010-04-19     2010-04-20  Angus Reid Strategies          32.0    23.0   \n3601   2010-04-16     2010-04-19  Angus Reid Strategies          32.0    24.0   \n3603   2010-04-17     2010-04-18                 YouGov          32.0    26.0   \n\n      liberal_democrat     lead  \n3594              32.0      Tie  \n3595              34.0  lib+3.0  \n3597              33.0  lib+1.0  \n3601              32.0      Tie  \n3603              33.0  lib+1.0  ",
      "text/html": "<div>\n<style scoped>\n    .dataframe tbody tr th:only-of-type {\n        vertical-align: middle;\n    }\n\n    .dataframe tbody tr th {\n        vertical-align: top;\n    }\n\n    .dataframe thead th {\n        text-align: right;\n    }\n</style>\n<table border=\"1\" class=\"dataframe\">\n  <thead>\n    <tr style=\"text-align: right;\">\n      <th></th>\n      <th>date_started</th>\n      <th>date_concluded</th>\n      <th>pollster</th>\n      <th>conservative</th>\n      <th>labour</th>\n      <th>liberal_democrat</th>\n      <th>lead</th>\n    </tr>\n  </thead>\n  <tbody>\n    <tr>\n      <th>3594</th>\n      <td>2010-04-18</td>\n      <td>2010-04-20</td>\n      <td>Ipsos MORI</td>\n      <td>32.0</td>\n      <td>28.0</td>\n      <td>32.0</td>\n      <td>Tie</td>\n    </tr>\n    <tr>\n      <th>3595</th>\n      <td>2010-04-19</td>\n      <td>2010-04-20</td>\n      <td>YouGov</td>\n      <td>31.0</td>\n      <td>26.0</td>\n      <td>34.0</td>\n      <td>lib+3.0</td>\n    </tr>\n    <tr>\n      <th>3597</th>\n      <td>2010-04-19</td>\n      <td>2010-04-20</td>\n      <td>Angus Reid Strategies</td>\n      <td>32.0</td>\n      <td>23.0</td>\n      <td>33.0</td>\n      <td>lib+1.0</td>\n    </tr>\n    <tr>\n      <th>3601</th>\n      <td>2010-04-16</td>\n      <td>2010-04-19</td>\n      <td>Angus Reid Strategies</td>\n      <td>32.0</td>\n      <td>24.0</td>\n      <td>32.0</td>\n      <td>Tie</td>\n    </tr>\n    <tr>\n      <th>3603</th>\n      <td>2010-04-17</td>\n      <td>2010-04-18</td>\n      <td>YouGov</td>\n      <td>32.0</td>\n      <td>26.0</td>\n      <td>33.0</td>\n      <td>lib+1.0</td>\n    </tr>\n  </tbody>\n</table>\n</div>"
     },
     "execution_count": 13,
     "metadata": {},
     "output_type": "execute_result"
    }
   ],
   "source": [
    "all_polls.query('date_concluded <= \"2010-05-06\" and date_concluded >= \"2005-05-05\" and liberal_democrat >= 32')[display_columns]"
   ]
  },
  {
   "cell_type": "code",
   "execution_count": 13,
   "metadata": {},
   "outputs": [],
   "source": []
  },
  {
   "cell_type": "code",
   "execution_count": 14,
   "metadata": {},
   "outputs": [
    {
     "data": {
      "text/plain": "     date_started date_concluded               pollster  conservative  labour  \\\n148    2022-10-20     2022-10-20          PeoplePolling          14.0    53.0   \n1008   2019-07-23     2019-07-24                 YouGov          25.0    19.0   \n1018   2019-06-24     2019-06-25                 YouGov          22.0    20.0   \n1022   2019-06-18     2019-06-19                 YouGov          20.0    20.0   \n1023   2019-06-13     2019-06-14                 YouGov          21.0    21.0   \n1024   2019-06-09     2019-06-10                 YouGov          17.0    19.0   \n1027   2019-06-05     2019-06-06                 YouGov          18.0    20.0   \n1028   2019-06-04     2019-06-05                 YouGov          18.0    19.0   \n1029   2019-05-31     2019-06-01                 YouGov          18.0    19.0   \n1031   2019-05-28     2019-05-30                Opinium          17.0    22.0   \n1032   2019-05-28     2019-05-29                 YouGov          19.0    19.0   \n3572   2010-04-27     2010-04-28                 YouGov          34.0    27.0   \n3578   2010-04-23     2010-04-26  Angus Reid Strategies          33.0    23.0   \n3579   2010-04-20     2010-04-26     Harris Interactive          32.0    25.0   \n3583   2010-04-24     2010-04-25                Savanta          32.0    28.0   \n3584   2010-04-23     2010-04-25           ICM Research          33.0    28.0   \n3591   2010-04-20     2010-04-21                 YouGov          33.0    27.0   \n3592   2010-04-19     2010-04-20                Populus          32.0    28.0   \n3594   2010-04-18     2010-04-20             Ipsos MORI          32.0    28.0   \n3595   2010-04-19     2010-04-20                 YouGov          31.0    26.0   \n3597   2010-04-19     2010-04-20  Angus Reid Strategies          32.0    23.0   \n3599   2010-04-18     2010-04-19                 YouGov          33.0    27.0   \n3600   2010-04-16     2010-04-19                Opinium          32.0    26.0   \n3601   2010-04-16     2010-04-19  Angus Reid Strategies          32.0    24.0   \n3602   2010-04-14     2010-04-19     Harris Interactive          31.0    26.0   \n3603   2010-04-17     2010-04-18                 YouGov          32.0    26.0   \n3604   2010-04-16     2010-04-18           ICM Research          33.0    28.0   \n3607   2010-04-16     2010-04-17                Savanta          31.0    27.0   \n3608   2010-04-15     2010-04-16                 YouGov          33.0    28.0   \n4143   2005-07-14     2005-07-18             Ipsos MORI          28.0    41.0   \n4206   2003-10-03     2003-10-05                Populus          28.0    36.0   \n4207   2003-09-23     2003-09-25                 YouGov          32.0    31.0   \n4208   2003-09-19     2003-09-21           ICM Research          30.0    35.0   \n4693   1994-07-18     1994-07-18             Ipsos MORI          23.0    51.0   \n4698   1994-06-06     1994-06-06             Ipsos MORI          23.0    50.0   \n4700   1994-05-31     1994-05-31             Ipsos MORI          22.0    46.0   \n4701   1994-05-30     1994-05-30                 Gallup          21.0    54.0   \n4704   1994-05-17     1994-05-17           ICM Research          26.0    48.0   \n4706   1994-05-09     1994-05-09                 Gallup          24.5    45.5   \n4708   1994-04-25     1994-04-25             Ipsos MORI          26.0    47.0   \n4719   1994-01-31     1994-01-31                 Gallup          26.0    45.5   \n4725   1993-12-14     1993-12-14           ICM Research          26.0    48.0   \n4732   1993-11-01     1993-11-01                 Gallup          24.0    46.5   \n4736   1993-09-27     1993-09-27                 Gallup          23.0    44.5   \n4737   1993-09-24     1993-09-24           ICM Research          27.0    41.0   \n4738   1993-09-21     1993-09-21                 Gallup          23.5    44.0   \n4740   1993-09-11     1993-09-11           ICM Research          29.0    40.0   \n4741   1993-09-06     1993-09-06                 Gallup          25.5    46.5   \n4742   1993-08-23     1993-08-23             Ipsos MORI          28.0    42.0   \n4743   1993-08-07     1993-08-07           ICM Research          30.0    36.0   \n4744   1993-08-01     1993-08-01                 Gallup          23.0    44.5   \n4745   1993-07-30     1993-07-30             Ipsos MORI          27.0    41.0   \n4746   1993-07-26     1993-07-26             Ipsos MORI          27.0    44.0   \n4748   1993-07-05     1993-07-05                 Gallup          24.5    43.0   \n4752   1993-06-11     1993-06-11                    NOP          27.0    42.0   \n4754   1993-05-31     1993-05-31                 Gallup          25.0    49.0   \n\n      liberal_democrat      lead  \n148               11.0  lab+39.0  \n1008              23.0   con+2.0  \n1018              19.0       Tie  \n1022              21.0   bre+2.0  \n1023              19.0   bre+3.0  \n1024              22.0   bre+4.0  \n1027              20.0   bre+6.0  \n1028              22.0   bre+3.0  \n1029              23.0       Tie  \n1031              16.0   bre+4.0  \n1032              24.0   lib+2.0  \n3572              31.0   con+3.0  \n3578              30.0   con+3.0  \n3579              30.0   con+2.0  \n3583              31.0   con+1.0  \n3584              30.0   con+3.0  \n3591              31.0   con+2.0  \n3592              31.0   con+1.0  \n3594              32.0       Tie  \n3595              34.0   lib+3.0  \n3597              33.0   lib+1.0  \n3599              31.0   con+2.0  \n3600              29.0   con+3.0  \n3601              32.0       Tie  \n3602              30.0   con+1.0  \n3603              33.0   lib+1.0  \n3604              30.0   con+3.0  \n3607              29.0   con+2.0  \n3608              30.0   con+3.0  \n4143              25.0  lab+13.0  \n4206              27.0   lab+8.0  \n4207              30.0   con+1.0  \n4208              28.0   lab+5.0  \n4693              21.0  lab+28.0  \n4698              22.0  lab+27.0  \n4700              22.0  lab+24.0  \n4701              21.5  lab+32.5  \n4704              23.0  lab+22.0  \n4706              25.0  lab+20.5  \n4708              23.0  lab+21.0  \n4719              23.0  lab+19.5  \n4725              23.0  lab+22.0  \n4732              25.5  lab+21.0  \n4736              27.0  lab+17.5  \n4737              26.0  lab+14.0  \n4738              26.5  lab+17.5  \n4740              26.0  lab+11.0  \n4741              23.0  lab+21.0  \n4742              25.0  lab+14.0  \n4743              27.0   lab+6.0  \n4744              27.0  lab+17.5  \n4745              28.0  lab+13.0  \n4746              25.0  lab+17.0  \n4748              26.5  lab+16.5  \n4752              26.0  lab+15.0  \n4754              23.0  lab+24.0  ",
      "text/html": "<div>\n<style scoped>\n    .dataframe tbody tr th:only-of-type {\n        vertical-align: middle;\n    }\n\n    .dataframe tbody tr th {\n        vertical-align: top;\n    }\n\n    .dataframe thead th {\n        text-align: right;\n    }\n</style>\n<table border=\"1\" class=\"dataframe\">\n  <thead>\n    <tr style=\"text-align: right;\">\n      <th></th>\n      <th>date_started</th>\n      <th>date_concluded</th>\n      <th>pollster</th>\n      <th>conservative</th>\n      <th>labour</th>\n      <th>liberal_democrat</th>\n      <th>lead</th>\n    </tr>\n  </thead>\n  <tbody>\n    <tr>\n      <th>148</th>\n      <td>2022-10-20</td>\n      <td>2022-10-20</td>\n      <td>PeoplePolling</td>\n      <td>14.0</td>\n      <td>53.0</td>\n      <td>11.0</td>\n      <td>lab+39.0</td>\n    </tr>\n    <tr>\n      <th>1008</th>\n      <td>2019-07-23</td>\n      <td>2019-07-24</td>\n      <td>YouGov</td>\n      <td>25.0</td>\n      <td>19.0</td>\n      <td>23.0</td>\n      <td>con+2.0</td>\n    </tr>\n    <tr>\n      <th>1018</th>\n      <td>2019-06-24</td>\n      <td>2019-06-25</td>\n      <td>YouGov</td>\n      <td>22.0</td>\n      <td>20.0</td>\n      <td>19.0</td>\n      <td>Tie</td>\n    </tr>\n    <tr>\n      <th>1022</th>\n      <td>2019-06-18</td>\n      <td>2019-06-19</td>\n      <td>YouGov</td>\n      <td>20.0</td>\n      <td>20.0</td>\n      <td>21.0</td>\n      <td>bre+2.0</td>\n    </tr>\n    <tr>\n      <th>1023</th>\n      <td>2019-06-13</td>\n      <td>2019-06-14</td>\n      <td>YouGov</td>\n      <td>21.0</td>\n      <td>21.0</td>\n      <td>19.0</td>\n      <td>bre+3.0</td>\n    </tr>\n    <tr>\n      <th>1024</th>\n      <td>2019-06-09</td>\n      <td>2019-06-10</td>\n      <td>YouGov</td>\n      <td>17.0</td>\n      <td>19.0</td>\n      <td>22.0</td>\n      <td>bre+4.0</td>\n    </tr>\n    <tr>\n      <th>1027</th>\n      <td>2019-06-05</td>\n      <td>2019-06-06</td>\n      <td>YouGov</td>\n      <td>18.0</td>\n      <td>20.0</td>\n      <td>20.0</td>\n      <td>bre+6.0</td>\n    </tr>\n    <tr>\n      <th>1028</th>\n      <td>2019-06-04</td>\n      <td>2019-06-05</td>\n      <td>YouGov</td>\n      <td>18.0</td>\n      <td>19.0</td>\n      <td>22.0</td>\n      <td>bre+3.0</td>\n    </tr>\n    <tr>\n      <th>1029</th>\n      <td>2019-05-31</td>\n      <td>2019-06-01</td>\n      <td>YouGov</td>\n      <td>18.0</td>\n      <td>19.0</td>\n      <td>23.0</td>\n      <td>Tie</td>\n    </tr>\n    <tr>\n      <th>1031</th>\n      <td>2019-05-28</td>\n      <td>2019-05-30</td>\n      <td>Opinium</td>\n      <td>17.0</td>\n      <td>22.0</td>\n      <td>16.0</td>\n      <td>bre+4.0</td>\n    </tr>\n    <tr>\n      <th>1032</th>\n      <td>2019-05-28</td>\n      <td>2019-05-29</td>\n      <td>YouGov</td>\n      <td>19.0</td>\n      <td>19.0</td>\n      <td>24.0</td>\n      <td>lib+2.0</td>\n    </tr>\n    <tr>\n      <th>3572</th>\n      <td>2010-04-27</td>\n      <td>2010-04-28</td>\n      <td>YouGov</td>\n      <td>34.0</td>\n      <td>27.0</td>\n      <td>31.0</td>\n      <td>con+3.0</td>\n    </tr>\n    <tr>\n      <th>3578</th>\n      <td>2010-04-23</td>\n      <td>2010-04-26</td>\n      <td>Angus Reid Strategies</td>\n      <td>33.0</td>\n      <td>23.0</td>\n      <td>30.0</td>\n      <td>con+3.0</td>\n    </tr>\n    <tr>\n      <th>3579</th>\n      <td>2010-04-20</td>\n      <td>2010-04-26</td>\n      <td>Harris Interactive</td>\n      <td>32.0</td>\n      <td>25.0</td>\n      <td>30.0</td>\n      <td>con+2.0</td>\n    </tr>\n    <tr>\n      <th>3583</th>\n      <td>2010-04-24</td>\n      <td>2010-04-25</td>\n      <td>Savanta</td>\n      <td>32.0</td>\n      <td>28.0</td>\n      <td>31.0</td>\n      <td>con+1.0</td>\n    </tr>\n    <tr>\n      <th>3584</th>\n      <td>2010-04-23</td>\n      <td>2010-04-25</td>\n      <td>ICM Research</td>\n      <td>33.0</td>\n      <td>28.0</td>\n      <td>30.0</td>\n      <td>con+3.0</td>\n    </tr>\n    <tr>\n      <th>3591</th>\n      <td>2010-04-20</td>\n      <td>2010-04-21</td>\n      <td>YouGov</td>\n      <td>33.0</td>\n      <td>27.0</td>\n      <td>31.0</td>\n      <td>con+2.0</td>\n    </tr>\n    <tr>\n      <th>3592</th>\n      <td>2010-04-19</td>\n      <td>2010-04-20</td>\n      <td>Populus</td>\n      <td>32.0</td>\n      <td>28.0</td>\n      <td>31.0</td>\n      <td>con+1.0</td>\n    </tr>\n    <tr>\n      <th>3594</th>\n      <td>2010-04-18</td>\n      <td>2010-04-20</td>\n      <td>Ipsos MORI</td>\n      <td>32.0</td>\n      <td>28.0</td>\n      <td>32.0</td>\n      <td>Tie</td>\n    </tr>\n    <tr>\n      <th>3595</th>\n      <td>2010-04-19</td>\n      <td>2010-04-20</td>\n      <td>YouGov</td>\n      <td>31.0</td>\n      <td>26.0</td>\n      <td>34.0</td>\n      <td>lib+3.0</td>\n    </tr>\n    <tr>\n      <th>3597</th>\n      <td>2010-04-19</td>\n      <td>2010-04-20</td>\n      <td>Angus Reid Strategies</td>\n      <td>32.0</td>\n      <td>23.0</td>\n      <td>33.0</td>\n      <td>lib+1.0</td>\n    </tr>\n    <tr>\n      <th>3599</th>\n      <td>2010-04-18</td>\n      <td>2010-04-19</td>\n      <td>YouGov</td>\n      <td>33.0</td>\n      <td>27.0</td>\n      <td>31.0</td>\n      <td>con+2.0</td>\n    </tr>\n    <tr>\n      <th>3600</th>\n      <td>2010-04-16</td>\n      <td>2010-04-19</td>\n      <td>Opinium</td>\n      <td>32.0</td>\n      <td>26.0</td>\n      <td>29.0</td>\n      <td>con+3.0</td>\n    </tr>\n    <tr>\n      <th>3601</th>\n      <td>2010-04-16</td>\n      <td>2010-04-19</td>\n      <td>Angus Reid Strategies</td>\n      <td>32.0</td>\n      <td>24.0</td>\n      <td>32.0</td>\n      <td>Tie</td>\n    </tr>\n    <tr>\n      <th>3602</th>\n      <td>2010-04-14</td>\n      <td>2010-04-19</td>\n      <td>Harris Interactive</td>\n      <td>31.0</td>\n      <td>26.0</td>\n      <td>30.0</td>\n      <td>con+1.0</td>\n    </tr>\n    <tr>\n      <th>3603</th>\n      <td>2010-04-17</td>\n      <td>2010-04-18</td>\n      <td>YouGov</td>\n      <td>32.0</td>\n      <td>26.0</td>\n      <td>33.0</td>\n      <td>lib+1.0</td>\n    </tr>\n    <tr>\n      <th>3604</th>\n      <td>2010-04-16</td>\n      <td>2010-04-18</td>\n      <td>ICM Research</td>\n      <td>33.0</td>\n      <td>28.0</td>\n      <td>30.0</td>\n      <td>con+3.0</td>\n    </tr>\n    <tr>\n      <th>3607</th>\n      <td>2010-04-16</td>\n      <td>2010-04-17</td>\n      <td>Savanta</td>\n      <td>31.0</td>\n      <td>27.0</td>\n      <td>29.0</td>\n      <td>con+2.0</td>\n    </tr>\n    <tr>\n      <th>3608</th>\n      <td>2010-04-15</td>\n      <td>2010-04-16</td>\n      <td>YouGov</td>\n      <td>33.0</td>\n      <td>28.0</td>\n      <td>30.0</td>\n      <td>con+3.0</td>\n    </tr>\n    <tr>\n      <th>4143</th>\n      <td>2005-07-14</td>\n      <td>2005-07-18</td>\n      <td>Ipsos MORI</td>\n      <td>28.0</td>\n      <td>41.0</td>\n      <td>25.0</td>\n      <td>lab+13.0</td>\n    </tr>\n    <tr>\n      <th>4206</th>\n      <td>2003-10-03</td>\n      <td>2003-10-05</td>\n      <td>Populus</td>\n      <td>28.0</td>\n      <td>36.0</td>\n      <td>27.0</td>\n      <td>lab+8.0</td>\n    </tr>\n    <tr>\n      <th>4207</th>\n      <td>2003-09-23</td>\n      <td>2003-09-25</td>\n      <td>YouGov</td>\n      <td>32.0</td>\n      <td>31.0</td>\n      <td>30.0</td>\n      <td>con+1.0</td>\n    </tr>\n    <tr>\n      <th>4208</th>\n      <td>2003-09-19</td>\n      <td>2003-09-21</td>\n      <td>ICM Research</td>\n      <td>30.0</td>\n      <td>35.0</td>\n      <td>28.0</td>\n      <td>lab+5.0</td>\n    </tr>\n    <tr>\n      <th>4693</th>\n      <td>1994-07-18</td>\n      <td>1994-07-18</td>\n      <td>Ipsos MORI</td>\n      <td>23.0</td>\n      <td>51.0</td>\n      <td>21.0</td>\n      <td>lab+28.0</td>\n    </tr>\n    <tr>\n      <th>4698</th>\n      <td>1994-06-06</td>\n      <td>1994-06-06</td>\n      <td>Ipsos MORI</td>\n      <td>23.0</td>\n      <td>50.0</td>\n      <td>22.0</td>\n      <td>lab+27.0</td>\n    </tr>\n    <tr>\n      <th>4700</th>\n      <td>1994-05-31</td>\n      <td>1994-05-31</td>\n      <td>Ipsos MORI</td>\n      <td>22.0</td>\n      <td>46.0</td>\n      <td>22.0</td>\n      <td>lab+24.0</td>\n    </tr>\n    <tr>\n      <th>4701</th>\n      <td>1994-05-30</td>\n      <td>1994-05-30</td>\n      <td>Gallup</td>\n      <td>21.0</td>\n      <td>54.0</td>\n      <td>21.5</td>\n      <td>lab+32.5</td>\n    </tr>\n    <tr>\n      <th>4704</th>\n      <td>1994-05-17</td>\n      <td>1994-05-17</td>\n      <td>ICM Research</td>\n      <td>26.0</td>\n      <td>48.0</td>\n      <td>23.0</td>\n      <td>lab+22.0</td>\n    </tr>\n    <tr>\n      <th>4706</th>\n      <td>1994-05-09</td>\n      <td>1994-05-09</td>\n      <td>Gallup</td>\n      <td>24.5</td>\n      <td>45.5</td>\n      <td>25.0</td>\n      <td>lab+20.5</td>\n    </tr>\n    <tr>\n      <th>4708</th>\n      <td>1994-04-25</td>\n      <td>1994-04-25</td>\n      <td>Ipsos MORI</td>\n      <td>26.0</td>\n      <td>47.0</td>\n      <td>23.0</td>\n      <td>lab+21.0</td>\n    </tr>\n    <tr>\n      <th>4719</th>\n      <td>1994-01-31</td>\n      <td>1994-01-31</td>\n      <td>Gallup</td>\n      <td>26.0</td>\n      <td>45.5</td>\n      <td>23.0</td>\n      <td>lab+19.5</td>\n    </tr>\n    <tr>\n      <th>4725</th>\n      <td>1993-12-14</td>\n      <td>1993-12-14</td>\n      <td>ICM Research</td>\n      <td>26.0</td>\n      <td>48.0</td>\n      <td>23.0</td>\n      <td>lab+22.0</td>\n    </tr>\n    <tr>\n      <th>4732</th>\n      <td>1993-11-01</td>\n      <td>1993-11-01</td>\n      <td>Gallup</td>\n      <td>24.0</td>\n      <td>46.5</td>\n      <td>25.5</td>\n      <td>lab+21.0</td>\n    </tr>\n    <tr>\n      <th>4736</th>\n      <td>1993-09-27</td>\n      <td>1993-09-27</td>\n      <td>Gallup</td>\n      <td>23.0</td>\n      <td>44.5</td>\n      <td>27.0</td>\n      <td>lab+17.5</td>\n    </tr>\n    <tr>\n      <th>4737</th>\n      <td>1993-09-24</td>\n      <td>1993-09-24</td>\n      <td>ICM Research</td>\n      <td>27.0</td>\n      <td>41.0</td>\n      <td>26.0</td>\n      <td>lab+14.0</td>\n    </tr>\n    <tr>\n      <th>4738</th>\n      <td>1993-09-21</td>\n      <td>1993-09-21</td>\n      <td>Gallup</td>\n      <td>23.5</td>\n      <td>44.0</td>\n      <td>26.5</td>\n      <td>lab+17.5</td>\n    </tr>\n    <tr>\n      <th>4740</th>\n      <td>1993-09-11</td>\n      <td>1993-09-11</td>\n      <td>ICM Research</td>\n      <td>29.0</td>\n      <td>40.0</td>\n      <td>26.0</td>\n      <td>lab+11.0</td>\n    </tr>\n    <tr>\n      <th>4741</th>\n      <td>1993-09-06</td>\n      <td>1993-09-06</td>\n      <td>Gallup</td>\n      <td>25.5</td>\n      <td>46.5</td>\n      <td>23.0</td>\n      <td>lab+21.0</td>\n    </tr>\n    <tr>\n      <th>4742</th>\n      <td>1993-08-23</td>\n      <td>1993-08-23</td>\n      <td>Ipsos MORI</td>\n      <td>28.0</td>\n      <td>42.0</td>\n      <td>25.0</td>\n      <td>lab+14.0</td>\n    </tr>\n    <tr>\n      <th>4743</th>\n      <td>1993-08-07</td>\n      <td>1993-08-07</td>\n      <td>ICM Research</td>\n      <td>30.0</td>\n      <td>36.0</td>\n      <td>27.0</td>\n      <td>lab+6.0</td>\n    </tr>\n    <tr>\n      <th>4744</th>\n      <td>1993-08-01</td>\n      <td>1993-08-01</td>\n      <td>Gallup</td>\n      <td>23.0</td>\n      <td>44.5</td>\n      <td>27.0</td>\n      <td>lab+17.5</td>\n    </tr>\n    <tr>\n      <th>4745</th>\n      <td>1993-07-30</td>\n      <td>1993-07-30</td>\n      <td>Ipsos MORI</td>\n      <td>27.0</td>\n      <td>41.0</td>\n      <td>28.0</td>\n      <td>lab+13.0</td>\n    </tr>\n    <tr>\n      <th>4746</th>\n      <td>1993-07-26</td>\n      <td>1993-07-26</td>\n      <td>Ipsos MORI</td>\n      <td>27.0</td>\n      <td>44.0</td>\n      <td>25.0</td>\n      <td>lab+17.0</td>\n    </tr>\n    <tr>\n      <th>4748</th>\n      <td>1993-07-05</td>\n      <td>1993-07-05</td>\n      <td>Gallup</td>\n      <td>24.5</td>\n      <td>43.0</td>\n      <td>26.5</td>\n      <td>lab+16.5</td>\n    </tr>\n    <tr>\n      <th>4752</th>\n      <td>1993-06-11</td>\n      <td>1993-06-11</td>\n      <td>NOP</td>\n      <td>27.0</td>\n      <td>42.0</td>\n      <td>26.0</td>\n      <td>lab+15.0</td>\n    </tr>\n    <tr>\n      <th>4754</th>\n      <td>1993-05-31</td>\n      <td>1993-05-31</td>\n      <td>Gallup</td>\n      <td>25.0</td>\n      <td>49.0</td>\n      <td>23.0</td>\n      <td>lab+24.0</td>\n    </tr>\n  </tbody>\n</table>\n</div>"
     },
     "execution_count": 14,
     "metadata": {},
     "output_type": "execute_result"
    }
   ],
   "source": [
    "all_polls.query(\"liberal_democrat + 4 > conservative\")[display_columns]"
   ]
  },
  {
   "cell_type": "code",
   "execution_count": 15,
   "metadata": {},
   "outputs": [
    {
     "data": {
      "text/plain": "     date_started date_concluded pollster  conservative  labour  \\\n722    2020-11-04     2020-11-05   YouGov          35.0    40.0   \n896    2019-11-25     2019-11-26   YouGov          43.0    32.0   \n906    2019-11-12     2019-11-20   YouGov          43.0    29.0   \n916    2019-11-14     2019-11-15   YouGov          45.0    28.0   \n930    2019-11-07     2019-11-08   YouGov          39.0    26.0   \n931    2019-11-05     2019-11-06   YouGov          36.0    25.0   \n933    2019-11-01     2019-11-04   YouGov          38.0    25.0   \n937    2019-10-30     2019-11-01   YouGov          39.0    27.0   \n941    2019-10-29     2019-10-30   YouGov          36.0    21.0   \n944    2019-10-17     2019-10-28   YouGov          36.0    22.0   \n945    2019-10-24     2019-10-25   YouGov          36.0    23.0   \n947    2019-10-20     2019-10-21   YouGov          37.0    22.0   \n953    2019-10-14     2019-10-15   YouGov          37.0    22.0   \n957    2019-10-08     2019-10-09   YouGov          35.0    22.0   \n962    2019-09-30     2019-10-01   YouGov          34.0    21.0   \n963    2019-09-26     2019-09-27   YouGov          33.0    22.0   \n966    2019-09-24     2019-09-25   YouGov          33.0    22.0   \n967    2019-09-19     2019-09-20   YouGov          30.0    23.0   \n970    2019-09-17     2019-09-18   YouGov          32.0    21.0   \n974    2019-09-09     2019-09-10   YouGov          32.0    23.0   \n978    2019-09-05     2019-09-06   YouGov          35.0    21.0   \n985    2019-09-02     2019-09-03   YouGov          35.0    25.0   \n989    2019-08-28     2019-08-29   YouGov          33.0    22.0   \n990    2019-08-27     2019-08-28   YouGov          34.0    22.0   \n991    2019-08-22     2019-08-23   YouGov          33.0    21.0   \n993    2019-08-20     2019-08-21   YouGov          32.0    22.0   \n995    2019-08-13     2019-08-14   YouGov          30.0    21.0   \n1000   2019-08-05     2019-08-06   YouGov          31.0    22.0   \n1001   2019-07-29     2019-07-30   YouGov          32.0    22.0   \n1005   2019-07-25     2019-07-26   YouGov          31.0    21.0   \n1008   2019-07-23     2019-07-24   YouGov          25.0    19.0   \n1009   2019-07-16     2019-07-17   YouGov          25.0    21.0   \n1013   2019-07-09     2019-07-10   YouGov          24.0    20.0   \n1017   2019-07-02     2019-07-03   YouGov          24.0    18.0   \n1018   2019-06-24     2019-06-25   YouGov          22.0    20.0   \n1022   2019-06-18     2019-06-19   YouGov          20.0    20.0   \n1023   2019-06-13     2019-06-14   YouGov          21.0    21.0   \n1024   2019-06-09     2019-06-10   YouGov          17.0    19.0   \n1027   2019-06-05     2019-06-06   YouGov          18.0    20.0   \n1028   2019-06-04     2019-06-05   YouGov          18.0    19.0   \n1029   2019-05-31     2019-06-01   YouGov          18.0    19.0   \n1032   2019-05-28     2019-05-29   YouGov          19.0    19.0   \n1037   2019-05-08     2019-05-17   YouGov          24.0    24.0   \n1040   2019-05-13     2019-05-14   YouGov          25.0    25.0   \n1047   2019-05-08     2019-05-09   YouGov          24.0    24.0   \n1050   2019-04-29     2019-04-30   YouGov          29.0    29.0   \n1051   2019-04-23     2019-04-24   YouGov          27.0    30.0   \n1055   2019-04-16     2019-04-17   YouGov          29.0    30.0   \n1058   2019-04-10     2019-04-11   YouGov          28.0    32.0   \n1065   2019-04-02     2019-04-03   YouGov          32.0    31.0   \n1069   2019-03-24     2019-03-25   YouGov          36.0    33.0   \n\n      liberal_democrat      lead  green  reform_uk  brexit_party  \n722                7.0   lab+5.0    4.0        NaN           6.0  \n896               13.0  con+11.0    2.0        NaN           4.0  \n906               15.0  con+14.0    3.0        NaN           4.0  \n916               15.0  con+17.0    3.0        NaN           4.0  \n930               17.0  con+13.0    4.0        NaN          10.0  \n931               17.0  con+11.0    5.0        NaN          11.0  \n933               16.0  con+13.0    5.0        NaN          11.0  \n937               16.0  con+12.0    4.0        NaN           7.0  \n941               18.0  con+15.0    6.0        NaN          13.0  \n944               19.0  con+14.0    6.0        NaN          12.0  \n945               18.0  con+13.0    6.0        NaN          12.0  \n947               19.0  con+15.0    7.0        NaN          11.0  \n953               18.0  con+15.0    5.0        NaN          11.0  \n957               20.0  con+13.0    6.0        NaN          12.0  \n962               23.0  con+11.0    5.0        NaN          12.0  \n963               21.0  con+11.0    5.0        NaN          13.0  \n966               22.0  con+11.0    6.0        NaN          14.0  \n967               22.0   con+7.0    5.0        NaN          14.0  \n970               23.0   con+9.0    4.0        NaN          14.0  \n974               19.0   con+9.0    7.0        NaN          14.0  \n978               19.0  con+14.0    7.0        NaN          12.0  \n985               16.0  con+10.0    7.0        NaN          11.0  \n989               21.0  con+11.0    7.0        NaN          12.0  \n990               17.0  con+12.0    8.0        NaN          13.0  \n991               19.0  con+12.0    7.0        NaN          14.0  \n993               20.0  con+10.0    7.0        NaN          12.0  \n995               20.0   con+9.0    8.0        NaN          14.0  \n1000              21.0   con+9.0    7.0        NaN          14.0  \n1001              19.0  con+10.0    8.0        NaN          13.0  \n1005              20.0  con+10.0    8.0        NaN          13.0  \n1008              23.0   con+2.0    9.0        NaN          17.0  \n1009              20.0   con+4.0    8.0        NaN          19.0  \n1013              19.0   con+3.0    9.0        NaN          21.0  \n1017              20.0   con+1.0    9.0        NaN          23.0  \n1018              19.0       Tie   10.0        NaN          22.0  \n1022              21.0   bre+2.0    9.0        NaN          23.0  \n1023              19.0   bre+3.0    9.0        NaN          24.0  \n1024              22.0   bre+4.0    8.0        NaN          26.0  \n1027              20.0   bre+6.0    9.0        NaN          26.0  \n1028              22.0   bre+3.0    9.0        NaN          25.0  \n1029              23.0       Tie   10.0        NaN          23.0  \n1032              24.0   lib+2.0    8.0        NaN          22.0  \n1037              18.0       Tie    6.0        NaN          18.0  \n1040              16.0       Tie    7.0        NaN          18.0  \n1047              16.0       Tie    7.0        NaN          18.0  \n1050              13.0       Tie    5.0        NaN          15.0  \n1051              11.0   lab+3.0    5.0        NaN          14.0  \n1055              10.0   lab+1.0    5.0        NaN          12.0  \n1058              11.0   lab+4.0    5.0        NaN           8.0  \n1065              12.0   con+1.0    4.0        NaN           5.0  \n1069              11.0   con+3.0    4.0        NaN           5.0  ",
      "text/html": "<div>\n<style scoped>\n    .dataframe tbody tr th:only-of-type {\n        vertical-align: middle;\n    }\n\n    .dataframe tbody tr th {\n        vertical-align: top;\n    }\n\n    .dataframe thead th {\n        text-align: right;\n    }\n</style>\n<table border=\"1\" class=\"dataframe\">\n  <thead>\n    <tr style=\"text-align: right;\">\n      <th></th>\n      <th>date_started</th>\n      <th>date_concluded</th>\n      <th>pollster</th>\n      <th>conservative</th>\n      <th>labour</th>\n      <th>liberal_democrat</th>\n      <th>lead</th>\n      <th>green</th>\n      <th>reform_uk</th>\n      <th>brexit_party</th>\n    </tr>\n  </thead>\n  <tbody>\n    <tr>\n      <th>722</th>\n      <td>2020-11-04</td>\n      <td>2020-11-05</td>\n      <td>YouGov</td>\n      <td>35.0</td>\n      <td>40.0</td>\n      <td>7.0</td>\n      <td>lab+5.0</td>\n      <td>4.0</td>\n      <td>NaN</td>\n      <td>6.0</td>\n    </tr>\n    <tr>\n      <th>896</th>\n      <td>2019-11-25</td>\n      <td>2019-11-26</td>\n      <td>YouGov</td>\n      <td>43.0</td>\n      <td>32.0</td>\n      <td>13.0</td>\n      <td>con+11.0</td>\n      <td>2.0</td>\n      <td>NaN</td>\n      <td>4.0</td>\n    </tr>\n    <tr>\n      <th>906</th>\n      <td>2019-11-12</td>\n      <td>2019-11-20</td>\n      <td>YouGov</td>\n      <td>43.0</td>\n      <td>29.0</td>\n      <td>15.0</td>\n      <td>con+14.0</td>\n      <td>3.0</td>\n      <td>NaN</td>\n      <td>4.0</td>\n    </tr>\n    <tr>\n      <th>916</th>\n      <td>2019-11-14</td>\n      <td>2019-11-15</td>\n      <td>YouGov</td>\n      <td>45.0</td>\n      <td>28.0</td>\n      <td>15.0</td>\n      <td>con+17.0</td>\n      <td>3.0</td>\n      <td>NaN</td>\n      <td>4.0</td>\n    </tr>\n    <tr>\n      <th>930</th>\n      <td>2019-11-07</td>\n      <td>2019-11-08</td>\n      <td>YouGov</td>\n      <td>39.0</td>\n      <td>26.0</td>\n      <td>17.0</td>\n      <td>con+13.0</td>\n      <td>4.0</td>\n      <td>NaN</td>\n      <td>10.0</td>\n    </tr>\n    <tr>\n      <th>931</th>\n      <td>2019-11-05</td>\n      <td>2019-11-06</td>\n      <td>YouGov</td>\n      <td>36.0</td>\n      <td>25.0</td>\n      <td>17.0</td>\n      <td>con+11.0</td>\n      <td>5.0</td>\n      <td>NaN</td>\n      <td>11.0</td>\n    </tr>\n    <tr>\n      <th>933</th>\n      <td>2019-11-01</td>\n      <td>2019-11-04</td>\n      <td>YouGov</td>\n      <td>38.0</td>\n      <td>25.0</td>\n      <td>16.0</td>\n      <td>con+13.0</td>\n      <td>5.0</td>\n      <td>NaN</td>\n      <td>11.0</td>\n    </tr>\n    <tr>\n      <th>937</th>\n      <td>2019-10-30</td>\n      <td>2019-11-01</td>\n      <td>YouGov</td>\n      <td>39.0</td>\n      <td>27.0</td>\n      <td>16.0</td>\n      <td>con+12.0</td>\n      <td>4.0</td>\n      <td>NaN</td>\n      <td>7.0</td>\n    </tr>\n    <tr>\n      <th>941</th>\n      <td>2019-10-29</td>\n      <td>2019-10-30</td>\n      <td>YouGov</td>\n      <td>36.0</td>\n      <td>21.0</td>\n      <td>18.0</td>\n      <td>con+15.0</td>\n      <td>6.0</td>\n      <td>NaN</td>\n      <td>13.0</td>\n    </tr>\n    <tr>\n      <th>944</th>\n      <td>2019-10-17</td>\n      <td>2019-10-28</td>\n      <td>YouGov</td>\n      <td>36.0</td>\n      <td>22.0</td>\n      <td>19.0</td>\n      <td>con+14.0</td>\n      <td>6.0</td>\n      <td>NaN</td>\n      <td>12.0</td>\n    </tr>\n    <tr>\n      <th>945</th>\n      <td>2019-10-24</td>\n      <td>2019-10-25</td>\n      <td>YouGov</td>\n      <td>36.0</td>\n      <td>23.0</td>\n      <td>18.0</td>\n      <td>con+13.0</td>\n      <td>6.0</td>\n      <td>NaN</td>\n      <td>12.0</td>\n    </tr>\n    <tr>\n      <th>947</th>\n      <td>2019-10-20</td>\n      <td>2019-10-21</td>\n      <td>YouGov</td>\n      <td>37.0</td>\n      <td>22.0</td>\n      <td>19.0</td>\n      <td>con+15.0</td>\n      <td>7.0</td>\n      <td>NaN</td>\n      <td>11.0</td>\n    </tr>\n    <tr>\n      <th>953</th>\n      <td>2019-10-14</td>\n      <td>2019-10-15</td>\n      <td>YouGov</td>\n      <td>37.0</td>\n      <td>22.0</td>\n      <td>18.0</td>\n      <td>con+15.0</td>\n      <td>5.0</td>\n      <td>NaN</td>\n      <td>11.0</td>\n    </tr>\n    <tr>\n      <th>957</th>\n      <td>2019-10-08</td>\n      <td>2019-10-09</td>\n      <td>YouGov</td>\n      <td>35.0</td>\n      <td>22.0</td>\n      <td>20.0</td>\n      <td>con+13.0</td>\n      <td>6.0</td>\n      <td>NaN</td>\n      <td>12.0</td>\n    </tr>\n    <tr>\n      <th>962</th>\n      <td>2019-09-30</td>\n      <td>2019-10-01</td>\n      <td>YouGov</td>\n      <td>34.0</td>\n      <td>21.0</td>\n      <td>23.0</td>\n      <td>con+11.0</td>\n      <td>5.0</td>\n      <td>NaN</td>\n      <td>12.0</td>\n    </tr>\n    <tr>\n      <th>963</th>\n      <td>2019-09-26</td>\n      <td>2019-09-27</td>\n      <td>YouGov</td>\n      <td>33.0</td>\n      <td>22.0</td>\n      <td>21.0</td>\n      <td>con+11.0</td>\n      <td>5.0</td>\n      <td>NaN</td>\n      <td>13.0</td>\n    </tr>\n    <tr>\n      <th>966</th>\n      <td>2019-09-24</td>\n      <td>2019-09-25</td>\n      <td>YouGov</td>\n      <td>33.0</td>\n      <td>22.0</td>\n      <td>22.0</td>\n      <td>con+11.0</td>\n      <td>6.0</td>\n      <td>NaN</td>\n      <td>14.0</td>\n    </tr>\n    <tr>\n      <th>967</th>\n      <td>2019-09-19</td>\n      <td>2019-09-20</td>\n      <td>YouGov</td>\n      <td>30.0</td>\n      <td>23.0</td>\n      <td>22.0</td>\n      <td>con+7.0</td>\n      <td>5.0</td>\n      <td>NaN</td>\n      <td>14.0</td>\n    </tr>\n    <tr>\n      <th>970</th>\n      <td>2019-09-17</td>\n      <td>2019-09-18</td>\n      <td>YouGov</td>\n      <td>32.0</td>\n      <td>21.0</td>\n      <td>23.0</td>\n      <td>con+9.0</td>\n      <td>4.0</td>\n      <td>NaN</td>\n      <td>14.0</td>\n    </tr>\n    <tr>\n      <th>974</th>\n      <td>2019-09-09</td>\n      <td>2019-09-10</td>\n      <td>YouGov</td>\n      <td>32.0</td>\n      <td>23.0</td>\n      <td>19.0</td>\n      <td>con+9.0</td>\n      <td>7.0</td>\n      <td>NaN</td>\n      <td>14.0</td>\n    </tr>\n    <tr>\n      <th>978</th>\n      <td>2019-09-05</td>\n      <td>2019-09-06</td>\n      <td>YouGov</td>\n      <td>35.0</td>\n      <td>21.0</td>\n      <td>19.0</td>\n      <td>con+14.0</td>\n      <td>7.0</td>\n      <td>NaN</td>\n      <td>12.0</td>\n    </tr>\n    <tr>\n      <th>985</th>\n      <td>2019-09-02</td>\n      <td>2019-09-03</td>\n      <td>YouGov</td>\n      <td>35.0</td>\n      <td>25.0</td>\n      <td>16.0</td>\n      <td>con+10.0</td>\n      <td>7.0</td>\n      <td>NaN</td>\n      <td>11.0</td>\n    </tr>\n    <tr>\n      <th>989</th>\n      <td>2019-08-28</td>\n      <td>2019-08-29</td>\n      <td>YouGov</td>\n      <td>33.0</td>\n      <td>22.0</td>\n      <td>21.0</td>\n      <td>con+11.0</td>\n      <td>7.0</td>\n      <td>NaN</td>\n      <td>12.0</td>\n    </tr>\n    <tr>\n      <th>990</th>\n      <td>2019-08-27</td>\n      <td>2019-08-28</td>\n      <td>YouGov</td>\n      <td>34.0</td>\n      <td>22.0</td>\n      <td>17.0</td>\n      <td>con+12.0</td>\n      <td>8.0</td>\n      <td>NaN</td>\n      <td>13.0</td>\n    </tr>\n    <tr>\n      <th>991</th>\n      <td>2019-08-22</td>\n      <td>2019-08-23</td>\n      <td>YouGov</td>\n      <td>33.0</td>\n      <td>21.0</td>\n      <td>19.0</td>\n      <td>con+12.0</td>\n      <td>7.0</td>\n      <td>NaN</td>\n      <td>14.0</td>\n    </tr>\n    <tr>\n      <th>993</th>\n      <td>2019-08-20</td>\n      <td>2019-08-21</td>\n      <td>YouGov</td>\n      <td>32.0</td>\n      <td>22.0</td>\n      <td>20.0</td>\n      <td>con+10.0</td>\n      <td>7.0</td>\n      <td>NaN</td>\n      <td>12.0</td>\n    </tr>\n    <tr>\n      <th>995</th>\n      <td>2019-08-13</td>\n      <td>2019-08-14</td>\n      <td>YouGov</td>\n      <td>30.0</td>\n      <td>21.0</td>\n      <td>20.0</td>\n      <td>con+9.0</td>\n      <td>8.0</td>\n      <td>NaN</td>\n      <td>14.0</td>\n    </tr>\n    <tr>\n      <th>1000</th>\n      <td>2019-08-05</td>\n      <td>2019-08-06</td>\n      <td>YouGov</td>\n      <td>31.0</td>\n      <td>22.0</td>\n      <td>21.0</td>\n      <td>con+9.0</td>\n      <td>7.0</td>\n      <td>NaN</td>\n      <td>14.0</td>\n    </tr>\n    <tr>\n      <th>1001</th>\n      <td>2019-07-29</td>\n      <td>2019-07-30</td>\n      <td>YouGov</td>\n      <td>32.0</td>\n      <td>22.0</td>\n      <td>19.0</td>\n      <td>con+10.0</td>\n      <td>8.0</td>\n      <td>NaN</td>\n      <td>13.0</td>\n    </tr>\n    <tr>\n      <th>1005</th>\n      <td>2019-07-25</td>\n      <td>2019-07-26</td>\n      <td>YouGov</td>\n      <td>31.0</td>\n      <td>21.0</td>\n      <td>20.0</td>\n      <td>con+10.0</td>\n      <td>8.0</td>\n      <td>NaN</td>\n      <td>13.0</td>\n    </tr>\n    <tr>\n      <th>1008</th>\n      <td>2019-07-23</td>\n      <td>2019-07-24</td>\n      <td>YouGov</td>\n      <td>25.0</td>\n      <td>19.0</td>\n      <td>23.0</td>\n      <td>con+2.0</td>\n      <td>9.0</td>\n      <td>NaN</td>\n      <td>17.0</td>\n    </tr>\n    <tr>\n      <th>1009</th>\n      <td>2019-07-16</td>\n      <td>2019-07-17</td>\n      <td>YouGov</td>\n      <td>25.0</td>\n      <td>21.0</td>\n      <td>20.0</td>\n      <td>con+4.0</td>\n      <td>8.0</td>\n      <td>NaN</td>\n      <td>19.0</td>\n    </tr>\n    <tr>\n      <th>1013</th>\n      <td>2019-07-09</td>\n      <td>2019-07-10</td>\n      <td>YouGov</td>\n      <td>24.0</td>\n      <td>20.0</td>\n      <td>19.0</td>\n      <td>con+3.0</td>\n      <td>9.0</td>\n      <td>NaN</td>\n      <td>21.0</td>\n    </tr>\n    <tr>\n      <th>1017</th>\n      <td>2019-07-02</td>\n      <td>2019-07-03</td>\n      <td>YouGov</td>\n      <td>24.0</td>\n      <td>18.0</td>\n      <td>20.0</td>\n      <td>con+1.0</td>\n      <td>9.0</td>\n      <td>NaN</td>\n      <td>23.0</td>\n    </tr>\n    <tr>\n      <th>1018</th>\n      <td>2019-06-24</td>\n      <td>2019-06-25</td>\n      <td>YouGov</td>\n      <td>22.0</td>\n      <td>20.0</td>\n      <td>19.0</td>\n      <td>Tie</td>\n      <td>10.0</td>\n      <td>NaN</td>\n      <td>22.0</td>\n    </tr>\n    <tr>\n      <th>1022</th>\n      <td>2019-06-18</td>\n      <td>2019-06-19</td>\n      <td>YouGov</td>\n      <td>20.0</td>\n      <td>20.0</td>\n      <td>21.0</td>\n      <td>bre+2.0</td>\n      <td>9.0</td>\n      <td>NaN</td>\n      <td>23.0</td>\n    </tr>\n    <tr>\n      <th>1023</th>\n      <td>2019-06-13</td>\n      <td>2019-06-14</td>\n      <td>YouGov</td>\n      <td>21.0</td>\n      <td>21.0</td>\n      <td>19.0</td>\n      <td>bre+3.0</td>\n      <td>9.0</td>\n      <td>NaN</td>\n      <td>24.0</td>\n    </tr>\n    <tr>\n      <th>1024</th>\n      <td>2019-06-09</td>\n      <td>2019-06-10</td>\n      <td>YouGov</td>\n      <td>17.0</td>\n      <td>19.0</td>\n      <td>22.0</td>\n      <td>bre+4.0</td>\n      <td>8.0</td>\n      <td>NaN</td>\n      <td>26.0</td>\n    </tr>\n    <tr>\n      <th>1027</th>\n      <td>2019-06-05</td>\n      <td>2019-06-06</td>\n      <td>YouGov</td>\n      <td>18.0</td>\n      <td>20.0</td>\n      <td>20.0</td>\n      <td>bre+6.0</td>\n      <td>9.0</td>\n      <td>NaN</td>\n      <td>26.0</td>\n    </tr>\n    <tr>\n      <th>1028</th>\n      <td>2019-06-04</td>\n      <td>2019-06-05</td>\n      <td>YouGov</td>\n      <td>18.0</td>\n      <td>19.0</td>\n      <td>22.0</td>\n      <td>bre+3.0</td>\n      <td>9.0</td>\n      <td>NaN</td>\n      <td>25.0</td>\n    </tr>\n    <tr>\n      <th>1029</th>\n      <td>2019-05-31</td>\n      <td>2019-06-01</td>\n      <td>YouGov</td>\n      <td>18.0</td>\n      <td>19.0</td>\n      <td>23.0</td>\n      <td>Tie</td>\n      <td>10.0</td>\n      <td>NaN</td>\n      <td>23.0</td>\n    </tr>\n    <tr>\n      <th>1032</th>\n      <td>2019-05-28</td>\n      <td>2019-05-29</td>\n      <td>YouGov</td>\n      <td>19.0</td>\n      <td>19.0</td>\n      <td>24.0</td>\n      <td>lib+2.0</td>\n      <td>8.0</td>\n      <td>NaN</td>\n      <td>22.0</td>\n    </tr>\n    <tr>\n      <th>1037</th>\n      <td>2019-05-08</td>\n      <td>2019-05-17</td>\n      <td>YouGov</td>\n      <td>24.0</td>\n      <td>24.0</td>\n      <td>18.0</td>\n      <td>Tie</td>\n      <td>6.0</td>\n      <td>NaN</td>\n      <td>18.0</td>\n    </tr>\n    <tr>\n      <th>1040</th>\n      <td>2019-05-13</td>\n      <td>2019-05-14</td>\n      <td>YouGov</td>\n      <td>25.0</td>\n      <td>25.0</td>\n      <td>16.0</td>\n      <td>Tie</td>\n      <td>7.0</td>\n      <td>NaN</td>\n      <td>18.0</td>\n    </tr>\n    <tr>\n      <th>1047</th>\n      <td>2019-05-08</td>\n      <td>2019-05-09</td>\n      <td>YouGov</td>\n      <td>24.0</td>\n      <td>24.0</td>\n      <td>16.0</td>\n      <td>Tie</td>\n      <td>7.0</td>\n      <td>NaN</td>\n      <td>18.0</td>\n    </tr>\n    <tr>\n      <th>1050</th>\n      <td>2019-04-29</td>\n      <td>2019-04-30</td>\n      <td>YouGov</td>\n      <td>29.0</td>\n      <td>29.0</td>\n      <td>13.0</td>\n      <td>Tie</td>\n      <td>5.0</td>\n      <td>NaN</td>\n      <td>15.0</td>\n    </tr>\n    <tr>\n      <th>1051</th>\n      <td>2019-04-23</td>\n      <td>2019-04-24</td>\n      <td>YouGov</td>\n      <td>27.0</td>\n      <td>30.0</td>\n      <td>11.0</td>\n      <td>lab+3.0</td>\n      <td>5.0</td>\n      <td>NaN</td>\n      <td>14.0</td>\n    </tr>\n    <tr>\n      <th>1055</th>\n      <td>2019-04-16</td>\n      <td>2019-04-17</td>\n      <td>YouGov</td>\n      <td>29.0</td>\n      <td>30.0</td>\n      <td>10.0</td>\n      <td>lab+1.0</td>\n      <td>5.0</td>\n      <td>NaN</td>\n      <td>12.0</td>\n    </tr>\n    <tr>\n      <th>1058</th>\n      <td>2019-04-10</td>\n      <td>2019-04-11</td>\n      <td>YouGov</td>\n      <td>28.0</td>\n      <td>32.0</td>\n      <td>11.0</td>\n      <td>lab+4.0</td>\n      <td>5.0</td>\n      <td>NaN</td>\n      <td>8.0</td>\n    </tr>\n    <tr>\n      <th>1065</th>\n      <td>2019-04-02</td>\n      <td>2019-04-03</td>\n      <td>YouGov</td>\n      <td>32.0</td>\n      <td>31.0</td>\n      <td>12.0</td>\n      <td>con+1.0</td>\n      <td>4.0</td>\n      <td>NaN</td>\n      <td>5.0</td>\n    </tr>\n    <tr>\n      <th>1069</th>\n      <td>2019-03-24</td>\n      <td>2019-03-25</td>\n      <td>YouGov</td>\n      <td>36.0</td>\n      <td>33.0</td>\n      <td>11.0</td>\n      <td>con+3.0</td>\n      <td>4.0</td>\n      <td>NaN</td>\n      <td>5.0</td>\n    </tr>\n  </tbody>\n</table>\n</div>"
     },
     "execution_count": 15,
     "metadata": {},
     "output_type": "execute_result"
    }
   ],
   "source": [
    "all_polls.query(\"pollster == 'YouGov' and green<brexit_party\")[display_columns + ['green', 'reform_uk', 'brexit_party']]"
   ]
  },
  {
   "cell_type": "code",
   "execution_count": 15,
   "metadata": {},
   "outputs": [],
   "source": []
  },
  {
   "cell_type": "code",
   "execution_count": 15,
   "metadata": {},
   "outputs": [],
   "source": []
  },
  {
   "cell_type": "code",
   "execution_count": 16,
   "metadata": {},
   "outputs": [
    {
     "data": {
      "text/plain": "     date_concluded                      pollster  labour  liberal_democrat  \\\n0        2023-02-27                     Deltapoll    46.0               8.0   \n1        2023-02-26  Redfield & Wilton Strategies    51.0               9.0   \n2        2023-02-23                  BMG Research    46.0               9.0   \n3        2023-02-23                       Omnisis    48.0              10.0   \n4        2023-02-23                     Techne UK    49.0               8.0   \n...             ...                           ...     ...               ...   \n6067     1970-11-15                        Gallup    48.0               NaN   \n6068     1970-10-18                        Gallup    46.5               NaN   \n6069     1970-09-13                        Gallup    44.0               NaN   \n6070     1970-08-16                        Gallup    43.5               NaN   \n6071     1970-06-18              General Election    43.1               NaN   \n\n      green  scottish_national_party  plaid_cymru  anti_conservative      lead  \n0       NaN                      NaN          NaN               54.0  lab+15.0  \n1       5.0                      3.0          NaN               68.0  lab+27.0  \n2       4.0                      NaN          NaN               59.0  lab+17.0  \n3       5.0                      4.0          NaN               67.0  lab+24.0  \n4       5.0                      3.0          NaN               65.0  lab+22.0  \n...     ...                      ...          ...                ...       ...  \n6067    NaN                      NaN          NaN               48.0   lab+4.5  \n6068    NaN                      NaN          NaN               46.5       Tie  \n6069    NaN                      NaN          NaN               44.0   con+2.5  \n6070    NaN                      NaN          NaN               43.5   con+3.5  \n6071    NaN                      NaN          NaN               43.1   con+3.3  \n\n[6071 rows x 9 columns]",
      "text/html": "<div>\n<style scoped>\n    .dataframe tbody tr th:only-of-type {\n        vertical-align: middle;\n    }\n\n    .dataframe tbody tr th {\n        vertical-align: top;\n    }\n\n    .dataframe thead th {\n        text-align: right;\n    }\n</style>\n<table border=\"1\" class=\"dataframe\">\n  <thead>\n    <tr style=\"text-align: right;\">\n      <th></th>\n      <th>date_concluded</th>\n      <th>pollster</th>\n      <th>labour</th>\n      <th>liberal_democrat</th>\n      <th>green</th>\n      <th>scottish_national_party</th>\n      <th>plaid_cymru</th>\n      <th>anti_conservative</th>\n      <th>lead</th>\n    </tr>\n  </thead>\n  <tbody>\n    <tr>\n      <th>0</th>\n      <td>2023-02-27</td>\n      <td>Deltapoll</td>\n      <td>46.0</td>\n      <td>8.0</td>\n      <td>NaN</td>\n      <td>NaN</td>\n      <td>NaN</td>\n      <td>54.0</td>\n      <td>lab+15.0</td>\n    </tr>\n    <tr>\n      <th>1</th>\n      <td>2023-02-26</td>\n      <td>Redfield &amp; Wilton Strategies</td>\n      <td>51.0</td>\n      <td>9.0</td>\n      <td>5.0</td>\n      <td>3.0</td>\n      <td>NaN</td>\n      <td>68.0</td>\n      <td>lab+27.0</td>\n    </tr>\n    <tr>\n      <th>2</th>\n      <td>2023-02-23</td>\n      <td>BMG Research</td>\n      <td>46.0</td>\n      <td>9.0</td>\n      <td>4.0</td>\n      <td>NaN</td>\n      <td>NaN</td>\n      <td>59.0</td>\n      <td>lab+17.0</td>\n    </tr>\n    <tr>\n      <th>3</th>\n      <td>2023-02-23</td>\n      <td>Omnisis</td>\n      <td>48.0</td>\n      <td>10.0</td>\n      <td>5.0</td>\n      <td>4.0</td>\n      <td>NaN</td>\n      <td>67.0</td>\n      <td>lab+24.0</td>\n    </tr>\n    <tr>\n      <th>4</th>\n      <td>2023-02-23</td>\n      <td>Techne UK</td>\n      <td>49.0</td>\n      <td>8.0</td>\n      <td>5.0</td>\n      <td>3.0</td>\n      <td>NaN</td>\n      <td>65.0</td>\n      <td>lab+22.0</td>\n    </tr>\n    <tr>\n      <th>...</th>\n      <td>...</td>\n      <td>...</td>\n      <td>...</td>\n      <td>...</td>\n      <td>...</td>\n      <td>...</td>\n      <td>...</td>\n      <td>...</td>\n      <td>...</td>\n    </tr>\n    <tr>\n      <th>6067</th>\n      <td>1970-11-15</td>\n      <td>Gallup</td>\n      <td>48.0</td>\n      <td>NaN</td>\n      <td>NaN</td>\n      <td>NaN</td>\n      <td>NaN</td>\n      <td>48.0</td>\n      <td>lab+4.5</td>\n    </tr>\n    <tr>\n      <th>6068</th>\n      <td>1970-10-18</td>\n      <td>Gallup</td>\n      <td>46.5</td>\n      <td>NaN</td>\n      <td>NaN</td>\n      <td>NaN</td>\n      <td>NaN</td>\n      <td>46.5</td>\n      <td>Tie</td>\n    </tr>\n    <tr>\n      <th>6069</th>\n      <td>1970-09-13</td>\n      <td>Gallup</td>\n      <td>44.0</td>\n      <td>NaN</td>\n      <td>NaN</td>\n      <td>NaN</td>\n      <td>NaN</td>\n      <td>44.0</td>\n      <td>con+2.5</td>\n    </tr>\n    <tr>\n      <th>6070</th>\n      <td>1970-08-16</td>\n      <td>Gallup</td>\n      <td>43.5</td>\n      <td>NaN</td>\n      <td>NaN</td>\n      <td>NaN</td>\n      <td>NaN</td>\n      <td>43.5</td>\n      <td>con+3.5</td>\n    </tr>\n    <tr>\n      <th>6071</th>\n      <td>1970-06-18</td>\n      <td>General Election</td>\n      <td>43.1</td>\n      <td>NaN</td>\n      <td>NaN</td>\n      <td>NaN</td>\n      <td>NaN</td>\n      <td>43.1</td>\n      <td>con+3.3</td>\n    </tr>\n  </tbody>\n</table>\n<p>6071 rows × 9 columns</p>\n</div>"
     },
     "execution_count": 16,
     "metadata": {},
     "output_type": "execute_result"
    }
   ],
   "source": [
    "all_polls[(all_polls.anti_conservative.fillna(0)) >= 15][\n",
    "    ['date_concluded', 'pollster', 'labour', 'liberal_democrat', 'green', 'scottish_national_party', 'plaid_cymru',\n",
    "     'anti_conservative', 'lead']]"
   ]
  },
  {
   "cell_type": "code",
   "execution_count": 17,
   "metadata": {},
   "outputs": [
    {
     "data": {
      "text/plain": "     date_started date_concluded                      pollster  conservative  \\\n145    2022-10-20     2022-10-21                        YouGov          19.0   \n148    2022-10-20     2022-10-20                 PeoplePolling          14.0   \n149    2022-10-20     2022-10-20                       Omnisis          22.0   \n151    2022-10-19     2022-10-19  Redfield & Wilton Strategies          19.0   \n154    2022-10-16     2022-10-16  Redfield & Wilton Strategies          20.0   \n4453   1997-11-27     1997-12-03                        Gallup          21.0   \n4457   1997-10-30     1997-11-04                        Gallup          23.0   \n4458   1997-10-24     1997-10-27                    Ipsos MORI          24.0   \n4459   1997-10-06     1997-10-06                  ICM Research          23.0   \n4460   1997-09-25     1997-10-01                        Gallup          22.0   \n4462   1997-09-04     1997-09-08                  ICM Research          24.0   \n4467   1997-06-27     1997-06-28                  ICM Research          23.0   \n4469   1997-05-29     1997-06-04                        Gallup          23.0   \n4555   1996-12-02     1996-12-02                        Gallup          22.0   \n4619   1996-01-08     1996-01-08                        Gallup          21.0   \n4626   1995-12-04     1995-12-04                        Gallup          23.0   \n4631   1995-10-30     1995-10-30                        Gallup          21.5   \n4633   1995-10-20     1995-10-20                           NOP          23.0   \n4644   1995-07-31     1995-07-31                        Gallup          22.5   \n4655   1995-06-05     1995-06-05                        Gallup          20.0   \n4656   1995-05-22     1995-05-22                    Ipsos MORI          22.0   \n4665   1995-02-27     1995-02-27                        Gallup          20.5   \n4668   1995-01-30     1995-01-30                        Gallup          23.5   \n4671   1995-01-13     1995-01-13            Harris Interactive          25.0   \n4672   1995-01-09     1995-01-09                        Gallup          18.5   \n4673   1994-12-19     1994-12-19                    Ipsos MORI          22.0   \n4675   1994-12-05     1994-12-05                        Gallup          21.5   \n4679   1994-10-31     1994-10-31                        Gallup          21.5   \n4683   1994-09-27     1994-09-27                        Gallup          21.0   \n\n      labour  liberal_democrat      lead  \n145     56.0              10.0  lab+37.0  \n148     53.0              11.0  lab+39.0  \n149     57.0               7.0  lab+35.0  \n151     55.0              12.0  lab+36.0  \n154     56.0              11.0  lab+36.0  \n4453    57.0              17.0  lab+36.0  \n4457    63.0              11.0  lab+40.0  \n4458    60.0              12.0  lab+36.0  \n4459    59.0              13.0  lab+36.0  \n4460    60.0              14.0  lab+38.0  \n4462    60.0              10.0  lab+36.0  \n4467    61.0              12.0  lab+38.0  \n4469    59.0              13.0  lab+36.0  \n4555    59.0              12.0  lab+37.0  \n4619    60.5              14.5  lab+39.5  \n4626    62.0              12.0  lab+39.0  \n4631    61.0              14.5  lab+39.5  \n4633    59.0              15.0  lab+36.0  \n4644    57.5              14.5  lab+35.0  \n4655    59.5              14.5  lab+39.5  \n4656    58.0              16.0  lab+36.0  \n4665    60.5              15.0  lab+40.0  \n4668    59.5              13.0  lab+36.0  \n4671    60.0              12.0  lab+35.0  \n4672    62.0              14.0  lab+43.5  \n4673    61.0              13.0  lab+39.0  \n4675    61.0              13.5  lab+39.5  \n4679    56.5              17.0  lab+35.0  \n4683    57.5              15.5  lab+36.5  ",
      "text/html": "<div>\n<style scoped>\n    .dataframe tbody tr th:only-of-type {\n        vertical-align: middle;\n    }\n\n    .dataframe tbody tr th {\n        vertical-align: top;\n    }\n\n    .dataframe thead th {\n        text-align: right;\n    }\n</style>\n<table border=\"1\" class=\"dataframe\">\n  <thead>\n    <tr style=\"text-align: right;\">\n      <th></th>\n      <th>date_started</th>\n      <th>date_concluded</th>\n      <th>pollster</th>\n      <th>conservative</th>\n      <th>labour</th>\n      <th>liberal_democrat</th>\n      <th>lead</th>\n    </tr>\n  </thead>\n  <tbody>\n    <tr>\n      <th>145</th>\n      <td>2022-10-20</td>\n      <td>2022-10-21</td>\n      <td>YouGov</td>\n      <td>19.0</td>\n      <td>56.0</td>\n      <td>10.0</td>\n      <td>lab+37.0</td>\n    </tr>\n    <tr>\n      <th>148</th>\n      <td>2022-10-20</td>\n      <td>2022-10-20</td>\n      <td>PeoplePolling</td>\n      <td>14.0</td>\n      <td>53.0</td>\n      <td>11.0</td>\n      <td>lab+39.0</td>\n    </tr>\n    <tr>\n      <th>149</th>\n      <td>2022-10-20</td>\n      <td>2022-10-20</td>\n      <td>Omnisis</td>\n      <td>22.0</td>\n      <td>57.0</td>\n      <td>7.0</td>\n      <td>lab+35.0</td>\n    </tr>\n    <tr>\n      <th>151</th>\n      <td>2022-10-19</td>\n      <td>2022-10-19</td>\n      <td>Redfield &amp; Wilton Strategies</td>\n      <td>19.0</td>\n      <td>55.0</td>\n      <td>12.0</td>\n      <td>lab+36.0</td>\n    </tr>\n    <tr>\n      <th>154</th>\n      <td>2022-10-16</td>\n      <td>2022-10-16</td>\n      <td>Redfield &amp; Wilton Strategies</td>\n      <td>20.0</td>\n      <td>56.0</td>\n      <td>11.0</td>\n      <td>lab+36.0</td>\n    </tr>\n    <tr>\n      <th>4453</th>\n      <td>1997-11-27</td>\n      <td>1997-12-03</td>\n      <td>Gallup</td>\n      <td>21.0</td>\n      <td>57.0</td>\n      <td>17.0</td>\n      <td>lab+36.0</td>\n    </tr>\n    <tr>\n      <th>4457</th>\n      <td>1997-10-30</td>\n      <td>1997-11-04</td>\n      <td>Gallup</td>\n      <td>23.0</td>\n      <td>63.0</td>\n      <td>11.0</td>\n      <td>lab+40.0</td>\n    </tr>\n    <tr>\n      <th>4458</th>\n      <td>1997-10-24</td>\n      <td>1997-10-27</td>\n      <td>Ipsos MORI</td>\n      <td>24.0</td>\n      <td>60.0</td>\n      <td>12.0</td>\n      <td>lab+36.0</td>\n    </tr>\n    <tr>\n      <th>4459</th>\n      <td>1997-10-06</td>\n      <td>1997-10-06</td>\n      <td>ICM Research</td>\n      <td>23.0</td>\n      <td>59.0</td>\n      <td>13.0</td>\n      <td>lab+36.0</td>\n    </tr>\n    <tr>\n      <th>4460</th>\n      <td>1997-09-25</td>\n      <td>1997-10-01</td>\n      <td>Gallup</td>\n      <td>22.0</td>\n      <td>60.0</td>\n      <td>14.0</td>\n      <td>lab+38.0</td>\n    </tr>\n    <tr>\n      <th>4462</th>\n      <td>1997-09-04</td>\n      <td>1997-09-08</td>\n      <td>ICM Research</td>\n      <td>24.0</td>\n      <td>60.0</td>\n      <td>10.0</td>\n      <td>lab+36.0</td>\n    </tr>\n    <tr>\n      <th>4467</th>\n      <td>1997-06-27</td>\n      <td>1997-06-28</td>\n      <td>ICM Research</td>\n      <td>23.0</td>\n      <td>61.0</td>\n      <td>12.0</td>\n      <td>lab+38.0</td>\n    </tr>\n    <tr>\n      <th>4469</th>\n      <td>1997-05-29</td>\n      <td>1997-06-04</td>\n      <td>Gallup</td>\n      <td>23.0</td>\n      <td>59.0</td>\n      <td>13.0</td>\n      <td>lab+36.0</td>\n    </tr>\n    <tr>\n      <th>4555</th>\n      <td>1996-12-02</td>\n      <td>1996-12-02</td>\n      <td>Gallup</td>\n      <td>22.0</td>\n      <td>59.0</td>\n      <td>12.0</td>\n      <td>lab+37.0</td>\n    </tr>\n    <tr>\n      <th>4619</th>\n      <td>1996-01-08</td>\n      <td>1996-01-08</td>\n      <td>Gallup</td>\n      <td>21.0</td>\n      <td>60.5</td>\n      <td>14.5</td>\n      <td>lab+39.5</td>\n    </tr>\n    <tr>\n      <th>4626</th>\n      <td>1995-12-04</td>\n      <td>1995-12-04</td>\n      <td>Gallup</td>\n      <td>23.0</td>\n      <td>62.0</td>\n      <td>12.0</td>\n      <td>lab+39.0</td>\n    </tr>\n    <tr>\n      <th>4631</th>\n      <td>1995-10-30</td>\n      <td>1995-10-30</td>\n      <td>Gallup</td>\n      <td>21.5</td>\n      <td>61.0</td>\n      <td>14.5</td>\n      <td>lab+39.5</td>\n    </tr>\n    <tr>\n      <th>4633</th>\n      <td>1995-10-20</td>\n      <td>1995-10-20</td>\n      <td>NOP</td>\n      <td>23.0</td>\n      <td>59.0</td>\n      <td>15.0</td>\n      <td>lab+36.0</td>\n    </tr>\n    <tr>\n      <th>4644</th>\n      <td>1995-07-31</td>\n      <td>1995-07-31</td>\n      <td>Gallup</td>\n      <td>22.5</td>\n      <td>57.5</td>\n      <td>14.5</td>\n      <td>lab+35.0</td>\n    </tr>\n    <tr>\n      <th>4655</th>\n      <td>1995-06-05</td>\n      <td>1995-06-05</td>\n      <td>Gallup</td>\n      <td>20.0</td>\n      <td>59.5</td>\n      <td>14.5</td>\n      <td>lab+39.5</td>\n    </tr>\n    <tr>\n      <th>4656</th>\n      <td>1995-05-22</td>\n      <td>1995-05-22</td>\n      <td>Ipsos MORI</td>\n      <td>22.0</td>\n      <td>58.0</td>\n      <td>16.0</td>\n      <td>lab+36.0</td>\n    </tr>\n    <tr>\n      <th>4665</th>\n      <td>1995-02-27</td>\n      <td>1995-02-27</td>\n      <td>Gallup</td>\n      <td>20.5</td>\n      <td>60.5</td>\n      <td>15.0</td>\n      <td>lab+40.0</td>\n    </tr>\n    <tr>\n      <th>4668</th>\n      <td>1995-01-30</td>\n      <td>1995-01-30</td>\n      <td>Gallup</td>\n      <td>23.5</td>\n      <td>59.5</td>\n      <td>13.0</td>\n      <td>lab+36.0</td>\n    </tr>\n    <tr>\n      <th>4671</th>\n      <td>1995-01-13</td>\n      <td>1995-01-13</td>\n      <td>Harris Interactive</td>\n      <td>25.0</td>\n      <td>60.0</td>\n      <td>12.0</td>\n      <td>lab+35.0</td>\n    </tr>\n    <tr>\n      <th>4672</th>\n      <td>1995-01-09</td>\n      <td>1995-01-09</td>\n      <td>Gallup</td>\n      <td>18.5</td>\n      <td>62.0</td>\n      <td>14.0</td>\n      <td>lab+43.5</td>\n    </tr>\n    <tr>\n      <th>4673</th>\n      <td>1994-12-19</td>\n      <td>1994-12-19</td>\n      <td>Ipsos MORI</td>\n      <td>22.0</td>\n      <td>61.0</td>\n      <td>13.0</td>\n      <td>lab+39.0</td>\n    </tr>\n    <tr>\n      <th>4675</th>\n      <td>1994-12-05</td>\n      <td>1994-12-05</td>\n      <td>Gallup</td>\n      <td>21.5</td>\n      <td>61.0</td>\n      <td>13.5</td>\n      <td>lab+39.5</td>\n    </tr>\n    <tr>\n      <th>4679</th>\n      <td>1994-10-31</td>\n      <td>1994-10-31</td>\n      <td>Gallup</td>\n      <td>21.5</td>\n      <td>56.5</td>\n      <td>17.0</td>\n      <td>lab+35.0</td>\n    </tr>\n    <tr>\n      <th>4683</th>\n      <td>1994-09-27</td>\n      <td>1994-09-27</td>\n      <td>Gallup</td>\n      <td>21.0</td>\n      <td>57.5</td>\n      <td>15.5</td>\n      <td>lab+36.5</td>\n    </tr>\n  </tbody>\n</table>\n</div>"
     },
     "execution_count": 17,
     "metadata": {},
     "output_type": "execute_result"
    }
   ],
   "source": [
    "all_polls.query(\"labour>conservative and lead_value>=35\")[display_columns]"
   ]
  },
  {
   "cell_type": "code",
   "execution_count": 18,
   "metadata": {},
   "outputs": [
    {
     "data": {
      "text/plain": "     date_started date_concluded                      pollster  conservative  \\\n144    2022-10-21     2022-10-22                       Omnisis          22.0   \n145    2022-10-20     2022-10-21                        YouGov          19.0   \n149    2022-10-20     2022-10-20                       Omnisis          22.0   \n154    2022-10-16     2022-10-16  Redfield & Wilton Strategies          20.0   \n4379   1999-10-22     1999-10-25                    Ipsos MORI          28.0   \n...           ...            ...                           ...           ...   \n4690   1994-08-22     1994-08-22                    Ipsos MORI          23.0   \n4692   1994-08-01     1994-08-01                        Gallup          23.0   \n5094   1990-04-07     1990-04-07                  ICM Research          32.0   \n5100   1990-03-22     1990-03-22            Harris Interactive          29.0   \n5722   1980-12-19     1980-12-19                        Gallup          32.0   \n\n      labour  liberal_democrat      lead  \n144     56.0              10.0  lab+34.0  \n145     56.0              10.0  lab+37.0  \n149     57.0               7.0  lab+35.0  \n154     56.0              11.0  lab+36.0  \n4379    56.0              11.0  lab+28.0  \n...      ...               ...       ...  \n4690    56.0              18.0  lab+33.0  \n4692    56.5              14.5  lab+33.5  \n5094    56.0               4.0  lab+24.0  \n5100    57.0               6.0  lab+28.0  \n5722    56.0               NaN  lab+24.0  \n\n[89 rows x 7 columns]",
      "text/html": "<div>\n<style scoped>\n    .dataframe tbody tr th:only-of-type {\n        vertical-align: middle;\n    }\n\n    .dataframe tbody tr th {\n        vertical-align: top;\n    }\n\n    .dataframe thead th {\n        text-align: right;\n    }\n</style>\n<table border=\"1\" class=\"dataframe\">\n  <thead>\n    <tr style=\"text-align: right;\">\n      <th></th>\n      <th>date_started</th>\n      <th>date_concluded</th>\n      <th>pollster</th>\n      <th>conservative</th>\n      <th>labour</th>\n      <th>liberal_democrat</th>\n      <th>lead</th>\n    </tr>\n  </thead>\n  <tbody>\n    <tr>\n      <th>144</th>\n      <td>2022-10-21</td>\n      <td>2022-10-22</td>\n      <td>Omnisis</td>\n      <td>22.0</td>\n      <td>56.0</td>\n      <td>10.0</td>\n      <td>lab+34.0</td>\n    </tr>\n    <tr>\n      <th>145</th>\n      <td>2022-10-20</td>\n      <td>2022-10-21</td>\n      <td>YouGov</td>\n      <td>19.0</td>\n      <td>56.0</td>\n      <td>10.0</td>\n      <td>lab+37.0</td>\n    </tr>\n    <tr>\n      <th>149</th>\n      <td>2022-10-20</td>\n      <td>2022-10-20</td>\n      <td>Omnisis</td>\n      <td>22.0</td>\n      <td>57.0</td>\n      <td>7.0</td>\n      <td>lab+35.0</td>\n    </tr>\n    <tr>\n      <th>154</th>\n      <td>2022-10-16</td>\n      <td>2022-10-16</td>\n      <td>Redfield &amp; Wilton Strategies</td>\n      <td>20.0</td>\n      <td>56.0</td>\n      <td>11.0</td>\n      <td>lab+36.0</td>\n    </tr>\n    <tr>\n      <th>4379</th>\n      <td>1999-10-22</td>\n      <td>1999-10-25</td>\n      <td>Ipsos MORI</td>\n      <td>28.0</td>\n      <td>56.0</td>\n      <td>11.0</td>\n      <td>lab+28.0</td>\n    </tr>\n    <tr>\n      <th>...</th>\n      <td>...</td>\n      <td>...</td>\n      <td>...</td>\n      <td>...</td>\n      <td>...</td>\n      <td>...</td>\n      <td>...</td>\n    </tr>\n    <tr>\n      <th>4690</th>\n      <td>1994-08-22</td>\n      <td>1994-08-22</td>\n      <td>Ipsos MORI</td>\n      <td>23.0</td>\n      <td>56.0</td>\n      <td>18.0</td>\n      <td>lab+33.0</td>\n    </tr>\n    <tr>\n      <th>4692</th>\n      <td>1994-08-01</td>\n      <td>1994-08-01</td>\n      <td>Gallup</td>\n      <td>23.0</td>\n      <td>56.5</td>\n      <td>14.5</td>\n      <td>lab+33.5</td>\n    </tr>\n    <tr>\n      <th>5094</th>\n      <td>1990-04-07</td>\n      <td>1990-04-07</td>\n      <td>ICM Research</td>\n      <td>32.0</td>\n      <td>56.0</td>\n      <td>4.0</td>\n      <td>lab+24.0</td>\n    </tr>\n    <tr>\n      <th>5100</th>\n      <td>1990-03-22</td>\n      <td>1990-03-22</td>\n      <td>Harris Interactive</td>\n      <td>29.0</td>\n      <td>57.0</td>\n      <td>6.0</td>\n      <td>lab+28.0</td>\n    </tr>\n    <tr>\n      <th>5722</th>\n      <td>1980-12-19</td>\n      <td>1980-12-19</td>\n      <td>Gallup</td>\n      <td>32.0</td>\n      <td>56.0</td>\n      <td>NaN</td>\n      <td>lab+24.0</td>\n    </tr>\n  </tbody>\n</table>\n<p>89 rows × 7 columns</p>\n</div>"
     },
     "execution_count": 18,
     "metadata": {},
     "output_type": "execute_result"
    }
   ],
   "source": [
    "all_polls.query(\"labour>55\")[display_columns]"
   ]
  },
  {
   "cell_type": "code",
   "execution_count": 18,
   "metadata": {},
   "outputs": [],
   "source": []
  },
  {
   "cell_type": "code",
   "execution_count": 19,
   "metadata": {},
   "outputs": [
    {
     "data": {
      "text/plain": "     date_started date_concluded    pollster  conservative  labour  \\\n4458   1997-10-24     1997-10-27  Ipsos MORI          24.0    60.0   \n4656   1995-05-22     1995-05-22  Ipsos MORI          22.0    58.0   \n4673   1994-12-19     1994-12-19  Ipsos MORI          22.0    61.0   \n\n      liberal_democrat      lead  \n4458              12.0  lab+36.0  \n4656              16.0  lab+36.0  \n4673              13.0  lab+39.0  ",
      "text/html": "<div>\n<style scoped>\n    .dataframe tbody tr th:only-of-type {\n        vertical-align: middle;\n    }\n\n    .dataframe tbody tr th {\n        vertical-align: top;\n    }\n\n    .dataframe thead th {\n        text-align: right;\n    }\n</style>\n<table border=\"1\" class=\"dataframe\">\n  <thead>\n    <tr style=\"text-align: right;\">\n      <th></th>\n      <th>date_started</th>\n      <th>date_concluded</th>\n      <th>pollster</th>\n      <th>conservative</th>\n      <th>labour</th>\n      <th>liberal_democrat</th>\n      <th>lead</th>\n    </tr>\n  </thead>\n  <tbody>\n    <tr>\n      <th>4458</th>\n      <td>1997-10-24</td>\n      <td>1997-10-27</td>\n      <td>Ipsos MORI</td>\n      <td>24.0</td>\n      <td>60.0</td>\n      <td>12.0</td>\n      <td>lab+36.0</td>\n    </tr>\n    <tr>\n      <th>4656</th>\n      <td>1995-05-22</td>\n      <td>1995-05-22</td>\n      <td>Ipsos MORI</td>\n      <td>22.0</td>\n      <td>58.0</td>\n      <td>16.0</td>\n      <td>lab+36.0</td>\n    </tr>\n    <tr>\n      <th>4673</th>\n      <td>1994-12-19</td>\n      <td>1994-12-19</td>\n      <td>Ipsos MORI</td>\n      <td>22.0</td>\n      <td>61.0</td>\n      <td>13.0</td>\n      <td>lab+39.0</td>\n    </tr>\n  </tbody>\n</table>\n</div>"
     },
     "execution_count": 19,
     "metadata": {},
     "output_type": "execute_result"
    }
   ],
   "source": [
    "all_polls.query(\"pollster=='Ipsos MORI' and labour>conservative and lead_value>=35\")[display_columns]"
   ]
  },
  {
   "cell_type": "code",
   "execution_count": 20,
   "metadata": {},
   "outputs": [
    {
     "data": {
      "text/plain": "     date_started date_concluded      pollster  conservative  labour  \\\n872    2019-12-06     2019-12-09  ICM Research          42.0    36.0   \n886    2019-11-29     2019-12-02  ICM Research          42.0    35.0   \n897    2019-11-22     2019-11-25  ICM Research          41.0    34.0   \n911    2019-11-15     2019-11-18  ICM Research          42.0    32.0   \n922    2019-11-08     2019-11-11  ICM Research          39.0    31.0   \n...           ...            ...           ...           ...     ...   \n5183   1989-05-13     1989-05-13  ICM Research          43.0    43.0   \n5189   1989-04-08     1989-04-08  ICM Research          44.0    40.0   \n5196   1989-03-13     1989-03-13  ICM Research          41.0    39.0   \n5206   1989-02-11     1989-02-11  ICM Research          42.0    39.0   \n5213   1989-01-16     1989-01-16  ICM Research          44.0    40.0   \n\n      liberal_democrat      lead  \n872               12.0   con+6.0  \n886               13.0   con+7.0  \n897               13.0   con+7.0  \n911               13.0  con+10.0  \n922               15.0   con+8.0  \n...                ...       ...  \n5183               8.0       Tie  \n5189               7.0   con+4.0  \n5196               8.0   con+2.0  \n5206               7.0   con+3.0  \n5213               8.0   con+4.0  \n\n[545 rows x 7 columns]",
      "text/html": "<div>\n<style scoped>\n    .dataframe tbody tr th:only-of-type {\n        vertical-align: middle;\n    }\n\n    .dataframe tbody tr th {\n        vertical-align: top;\n    }\n\n    .dataframe thead th {\n        text-align: right;\n    }\n</style>\n<table border=\"1\" class=\"dataframe\">\n  <thead>\n    <tr style=\"text-align: right;\">\n      <th></th>\n      <th>date_started</th>\n      <th>date_concluded</th>\n      <th>pollster</th>\n      <th>conservative</th>\n      <th>labour</th>\n      <th>liberal_democrat</th>\n      <th>lead</th>\n    </tr>\n  </thead>\n  <tbody>\n    <tr>\n      <th>872</th>\n      <td>2019-12-06</td>\n      <td>2019-12-09</td>\n      <td>ICM Research</td>\n      <td>42.0</td>\n      <td>36.0</td>\n      <td>12.0</td>\n      <td>con+6.0</td>\n    </tr>\n    <tr>\n      <th>886</th>\n      <td>2019-11-29</td>\n      <td>2019-12-02</td>\n      <td>ICM Research</td>\n      <td>42.0</td>\n      <td>35.0</td>\n      <td>13.0</td>\n      <td>con+7.0</td>\n    </tr>\n    <tr>\n      <th>897</th>\n      <td>2019-11-22</td>\n      <td>2019-11-25</td>\n      <td>ICM Research</td>\n      <td>41.0</td>\n      <td>34.0</td>\n      <td>13.0</td>\n      <td>con+7.0</td>\n    </tr>\n    <tr>\n      <th>911</th>\n      <td>2019-11-15</td>\n      <td>2019-11-18</td>\n      <td>ICM Research</td>\n      <td>42.0</td>\n      <td>32.0</td>\n      <td>13.0</td>\n      <td>con+10.0</td>\n    </tr>\n    <tr>\n      <th>922</th>\n      <td>2019-11-08</td>\n      <td>2019-11-11</td>\n      <td>ICM Research</td>\n      <td>39.0</td>\n      <td>31.0</td>\n      <td>15.0</td>\n      <td>con+8.0</td>\n    </tr>\n    <tr>\n      <th>...</th>\n      <td>...</td>\n      <td>...</td>\n      <td>...</td>\n      <td>...</td>\n      <td>...</td>\n      <td>...</td>\n      <td>...</td>\n    </tr>\n    <tr>\n      <th>5183</th>\n      <td>1989-05-13</td>\n      <td>1989-05-13</td>\n      <td>ICM Research</td>\n      <td>43.0</td>\n      <td>43.0</td>\n      <td>8.0</td>\n      <td>Tie</td>\n    </tr>\n    <tr>\n      <th>5189</th>\n      <td>1989-04-08</td>\n      <td>1989-04-08</td>\n      <td>ICM Research</td>\n      <td>44.0</td>\n      <td>40.0</td>\n      <td>7.0</td>\n      <td>con+4.0</td>\n    </tr>\n    <tr>\n      <th>5196</th>\n      <td>1989-03-13</td>\n      <td>1989-03-13</td>\n      <td>ICM Research</td>\n      <td>41.0</td>\n      <td>39.0</td>\n      <td>8.0</td>\n      <td>con+2.0</td>\n    </tr>\n    <tr>\n      <th>5206</th>\n      <td>1989-02-11</td>\n      <td>1989-02-11</td>\n      <td>ICM Research</td>\n      <td>42.0</td>\n      <td>39.0</td>\n      <td>7.0</td>\n      <td>con+3.0</td>\n    </tr>\n    <tr>\n      <th>5213</th>\n      <td>1989-01-16</td>\n      <td>1989-01-16</td>\n      <td>ICM Research</td>\n      <td>44.0</td>\n      <td>40.0</td>\n      <td>8.0</td>\n      <td>con+4.0</td>\n    </tr>\n  </tbody>\n</table>\n<p>545 rows × 7 columns</p>\n</div>"
     },
     "execution_count": 20,
     "metadata": {},
     "output_type": "execute_result"
    }
   ],
   "source": [
    "all_polls.query(\"pollster=='ICM Research'\")[display_columns]"
   ]
  },
  {
   "cell_type": "code",
   "execution_count": 21,
   "metadata": {},
   "outputs": [
    {
     "data": {
      "text/plain": "Empty DataFrame\nColumns: [date_started, date_concluded, pollster, conservative, labour, liberal_democrat, lead]\nIndex: []",
      "text/html": "<div>\n<style scoped>\n    .dataframe tbody tr th:only-of-type {\n        vertical-align: middle;\n    }\n\n    .dataframe tbody tr th {\n        vertical-align: top;\n    }\n\n    .dataframe thead th {\n        text-align: right;\n    }\n</style>\n<table border=\"1\" class=\"dataframe\">\n  <thead>\n    <tr style=\"text-align: right;\">\n      <th></th>\n      <th>date_started</th>\n      <th>date_concluded</th>\n      <th>pollster</th>\n      <th>conservative</th>\n      <th>labour</th>\n      <th>liberal_democrat</th>\n      <th>lead</th>\n    </tr>\n  </thead>\n  <tbody>\n  </tbody>\n</table>\n</div>"
     },
     "execution_count": 21,
     "metadata": {},
     "output_type": "execute_result"
    }
   ],
   "source": [
    "all_polls.query(\"pollster=='Savanta ComRes' and labour >42\")[display_columns]"
   ]
  },
  {
   "cell_type": "code",
   "execution_count": 22,
   "metadata": {},
   "outputs": [
    {
     "data": {
      "text/plain": "Empty DataFrame\nColumns: [date_started, date_concluded, pollster, conservative, labour, liberal_democrat, lead]\nIndex: []",
      "text/html": "<div>\n<style scoped>\n    .dataframe tbody tr th:only-of-type {\n        vertical-align: middle;\n    }\n\n    .dataframe tbody tr th {\n        vertical-align: top;\n    }\n\n    .dataframe thead th {\n        text-align: right;\n    }\n</style>\n<table border=\"1\" class=\"dataframe\">\n  <thead>\n    <tr style=\"text-align: right;\">\n      <th></th>\n      <th>date_started</th>\n      <th>date_concluded</th>\n      <th>pollster</th>\n      <th>conservative</th>\n      <th>labour</th>\n      <th>liberal_democrat</th>\n      <th>lead</th>\n    </tr>\n  </thead>\n  <tbody>\n  </tbody>\n</table>\n</div>"
     },
     "execution_count": 22,
     "metadata": {},
     "output_type": "execute_result"
    }
   ],
   "source": [
    "all_polls.query(\"pollster=='Savanta ComRes' and lead_value >= 20\")[display_columns]"
   ]
  },
  {
   "cell_type": "code",
   "execution_count": 23,
   "metadata": {},
   "outputs": [
    {
     "data": {
      "text/plain": "     date_started date_concluded                      pollster  conservative  \\\n139    2022-10-25     2022-10-26  Redfield & Wilton Strategies          23.0   \n143    2022-10-23     2022-10-23  Redfield & Wilton Strategies          21.0   \n144    2022-10-21     2022-10-22                       Omnisis          22.0   \n145    2022-10-20     2022-10-21                        YouGov          19.0   \n149    2022-10-20     2022-10-20                       Omnisis          22.0   \n...           ...            ...                           ...           ...   \n5101   1990-03-20     1990-03-20                    Ipsos MORI          31.0   \n5722   1980-12-19     1980-12-19                        Gallup          32.0   \n6056   1971-09-20     1971-09-20                        Gallup          35.0   \n6058   1971-07-12     1971-07-12                        Gallup          33.5   \n6059   1971-06-13     1971-06-13                        Gallup          36.0   \n\n      labour  liberal_democrat      lead  \n139     55.0               9.0  lab+32.0  \n143     54.0              11.0  lab+33.0  \n144     56.0              10.0  lab+34.0  \n145     56.0              10.0  lab+37.0  \n149     57.0               7.0  lab+35.0  \n...      ...               ...       ...  \n5101    54.0               6.0  lab+23.0  \n5722    56.0               NaN  lab+24.0  \n6056    54.0               NaN  lab+19.0  \n6058    55.0               NaN  lab+21.5  \n6059    54.0               NaN  lab+18.0  \n\n[172 rows x 7 columns]",
      "text/html": "<div>\n<style scoped>\n    .dataframe tbody tr th:only-of-type {\n        vertical-align: middle;\n    }\n\n    .dataframe tbody tr th {\n        vertical-align: top;\n    }\n\n    .dataframe thead th {\n        text-align: right;\n    }\n</style>\n<table border=\"1\" class=\"dataframe\">\n  <thead>\n    <tr style=\"text-align: right;\">\n      <th></th>\n      <th>date_started</th>\n      <th>date_concluded</th>\n      <th>pollster</th>\n      <th>conservative</th>\n      <th>labour</th>\n      <th>liberal_democrat</th>\n      <th>lead</th>\n    </tr>\n  </thead>\n  <tbody>\n    <tr>\n      <th>139</th>\n      <td>2022-10-25</td>\n      <td>2022-10-26</td>\n      <td>Redfield &amp; Wilton Strategies</td>\n      <td>23.0</td>\n      <td>55.0</td>\n      <td>9.0</td>\n      <td>lab+32.0</td>\n    </tr>\n    <tr>\n      <th>143</th>\n      <td>2022-10-23</td>\n      <td>2022-10-23</td>\n      <td>Redfield &amp; Wilton Strategies</td>\n      <td>21.0</td>\n      <td>54.0</td>\n      <td>11.0</td>\n      <td>lab+33.0</td>\n    </tr>\n    <tr>\n      <th>144</th>\n      <td>2022-10-21</td>\n      <td>2022-10-22</td>\n      <td>Omnisis</td>\n      <td>22.0</td>\n      <td>56.0</td>\n      <td>10.0</td>\n      <td>lab+34.0</td>\n    </tr>\n    <tr>\n      <th>145</th>\n      <td>2022-10-20</td>\n      <td>2022-10-21</td>\n      <td>YouGov</td>\n      <td>19.0</td>\n      <td>56.0</td>\n      <td>10.0</td>\n      <td>lab+37.0</td>\n    </tr>\n    <tr>\n      <th>149</th>\n      <td>2022-10-20</td>\n      <td>2022-10-20</td>\n      <td>Omnisis</td>\n      <td>22.0</td>\n      <td>57.0</td>\n      <td>7.0</td>\n      <td>lab+35.0</td>\n    </tr>\n    <tr>\n      <th>...</th>\n      <td>...</td>\n      <td>...</td>\n      <td>...</td>\n      <td>...</td>\n      <td>...</td>\n      <td>...</td>\n      <td>...</td>\n    </tr>\n    <tr>\n      <th>5101</th>\n      <td>1990-03-20</td>\n      <td>1990-03-20</td>\n      <td>Ipsos MORI</td>\n      <td>31.0</td>\n      <td>54.0</td>\n      <td>6.0</td>\n      <td>lab+23.0</td>\n    </tr>\n    <tr>\n      <th>5722</th>\n      <td>1980-12-19</td>\n      <td>1980-12-19</td>\n      <td>Gallup</td>\n      <td>32.0</td>\n      <td>56.0</td>\n      <td>NaN</td>\n      <td>lab+24.0</td>\n    </tr>\n    <tr>\n      <th>6056</th>\n      <td>1971-09-20</td>\n      <td>1971-09-20</td>\n      <td>Gallup</td>\n      <td>35.0</td>\n      <td>54.0</td>\n      <td>NaN</td>\n      <td>lab+19.0</td>\n    </tr>\n    <tr>\n      <th>6058</th>\n      <td>1971-07-12</td>\n      <td>1971-07-12</td>\n      <td>Gallup</td>\n      <td>33.5</td>\n      <td>55.0</td>\n      <td>NaN</td>\n      <td>lab+21.5</td>\n    </tr>\n    <tr>\n      <th>6059</th>\n      <td>1971-06-13</td>\n      <td>1971-06-13</td>\n      <td>Gallup</td>\n      <td>36.0</td>\n      <td>54.0</td>\n      <td>NaN</td>\n      <td>lab+18.0</td>\n    </tr>\n  </tbody>\n</table>\n<p>172 rows × 7 columns</p>\n</div>"
     },
     "execution_count": 23,
     "metadata": {},
     "output_type": "execute_result"
    }
   ],
   "source": [
    "all_polls.query(\"labour>53\")[display_columns]"
   ]
  },
  {
   "cell_type": "code",
   "execution_count": 23,
   "metadata": {},
   "outputs": [],
   "source": []
  },
  {
   "cell_type": "code",
   "execution_count": 24,
   "metadata": {},
   "outputs": [
    {
     "data": {
      "text/plain": "     date_started date_concluded                      pollster  conservative  \\\n1      2023-02-26     2023-02-26  Redfield & Wilton Strategies          24.0   \n3      2023-02-22     2023-02-23                       Omnisis          24.0   \n4      2023-02-22     2023-02-23                     Techne UK          27.0   \n5      2023-02-22     2023-02-22                 PeoplePolling          20.0   \n6      2023-02-17     2023-02-20                     Deltapoll          28.0   \n...           ...            ...                           ...           ...   \n4754   1993-05-31     1993-05-31                        Gallup          25.0   \n4755   1993-05-24     1993-05-24                    Ipsos MORI          28.0   \n5096   1990-04-02     1990-04-02                        Gallup          28.0   \n5099   1990-03-23     1990-03-23                  ICM Research          28.0   \n5682   1981-12-14     1981-12-14                    Ipsos MORI          23.0   \n\n      labour  liberal_democrat      lead  \n1       51.0               9.0  lab+27.0  \n3       48.0              10.0  lab+24.0  \n4       49.0               8.0  lab+22.0  \n5       46.0               8.0  lab+26.0  \n6       50.0               9.0  lab+22.0  \n...      ...               ...       ...  \n4754    49.0              23.0  lab+24.0  \n4755    44.0              24.0  lab+16.0  \n5096    52.5               7.5  lab+24.5  \n5099    55.0               7.0  lab+27.0  \n5682    23.5               NaN  all+27.0  \n\n[385 rows x 7 columns]",
      "text/html": "<div>\n<style scoped>\n    .dataframe tbody tr th:only-of-type {\n        vertical-align: middle;\n    }\n\n    .dataframe tbody tr th {\n        vertical-align: top;\n    }\n\n    .dataframe thead th {\n        text-align: right;\n    }\n</style>\n<table border=\"1\" class=\"dataframe\">\n  <thead>\n    <tr style=\"text-align: right;\">\n      <th></th>\n      <th>date_started</th>\n      <th>date_concluded</th>\n      <th>pollster</th>\n      <th>conservative</th>\n      <th>labour</th>\n      <th>liberal_democrat</th>\n      <th>lead</th>\n    </tr>\n  </thead>\n  <tbody>\n    <tr>\n      <th>1</th>\n      <td>2023-02-26</td>\n      <td>2023-02-26</td>\n      <td>Redfield &amp; Wilton Strategies</td>\n      <td>24.0</td>\n      <td>51.0</td>\n      <td>9.0</td>\n      <td>lab+27.0</td>\n    </tr>\n    <tr>\n      <th>3</th>\n      <td>2023-02-22</td>\n      <td>2023-02-23</td>\n      <td>Omnisis</td>\n      <td>24.0</td>\n      <td>48.0</td>\n      <td>10.0</td>\n      <td>lab+24.0</td>\n    </tr>\n    <tr>\n      <th>4</th>\n      <td>2023-02-22</td>\n      <td>2023-02-23</td>\n      <td>Techne UK</td>\n      <td>27.0</td>\n      <td>49.0</td>\n      <td>8.0</td>\n      <td>lab+22.0</td>\n    </tr>\n    <tr>\n      <th>5</th>\n      <td>2023-02-22</td>\n      <td>2023-02-22</td>\n      <td>PeoplePolling</td>\n      <td>20.0</td>\n      <td>46.0</td>\n      <td>8.0</td>\n      <td>lab+26.0</td>\n    </tr>\n    <tr>\n      <th>6</th>\n      <td>2023-02-17</td>\n      <td>2023-02-20</td>\n      <td>Deltapoll</td>\n      <td>28.0</td>\n      <td>50.0</td>\n      <td>9.0</td>\n      <td>lab+22.0</td>\n    </tr>\n    <tr>\n      <th>...</th>\n      <td>...</td>\n      <td>...</td>\n      <td>...</td>\n      <td>...</td>\n      <td>...</td>\n      <td>...</td>\n      <td>...</td>\n    </tr>\n    <tr>\n      <th>4754</th>\n      <td>1993-05-31</td>\n      <td>1993-05-31</td>\n      <td>Gallup</td>\n      <td>25.0</td>\n      <td>49.0</td>\n      <td>23.0</td>\n      <td>lab+24.0</td>\n    </tr>\n    <tr>\n      <th>4755</th>\n      <td>1993-05-24</td>\n      <td>1993-05-24</td>\n      <td>Ipsos MORI</td>\n      <td>28.0</td>\n      <td>44.0</td>\n      <td>24.0</td>\n      <td>lab+16.0</td>\n    </tr>\n    <tr>\n      <th>5096</th>\n      <td>1990-04-02</td>\n      <td>1990-04-02</td>\n      <td>Gallup</td>\n      <td>28.0</td>\n      <td>52.5</td>\n      <td>7.5</td>\n      <td>lab+24.5</td>\n    </tr>\n    <tr>\n      <th>5099</th>\n      <td>1990-03-23</td>\n      <td>1990-03-23</td>\n      <td>ICM Research</td>\n      <td>28.0</td>\n      <td>55.0</td>\n      <td>7.0</td>\n      <td>lab+27.0</td>\n    </tr>\n    <tr>\n      <th>5682</th>\n      <td>1981-12-14</td>\n      <td>1981-12-14</td>\n      <td>Ipsos MORI</td>\n      <td>23.0</td>\n      <td>23.5</td>\n      <td>NaN</td>\n      <td>all+27.0</td>\n    </tr>\n  </tbody>\n</table>\n<p>385 rows × 7 columns</p>\n</div>"
     },
     "execution_count": 24,
     "metadata": {},
     "output_type": "execute_result"
    }
   ],
   "source": [
    "all_polls.query(\"conservative<29 and labour>conservative and lead_value>14\")[display_columns]"
   ]
  },
  {
   "cell_type": "code",
   "execution_count": 25,
   "metadata": {},
   "outputs": [],
   "source": [
    "all_polls.loc[(all_polls.labour >= 50), 'maj_lead'] = 1\n",
    "all_polls['maj_lead'] = all_polls['maj_lead'].fillna(0)\n",
    "all_polls['maj_lead_in_row'] = 0\n",
    "for ix, value in all_polls['maj_lead'].iteritems():\n",
    "    if value >= 1:\n",
    "        polls_before = all_polls.iloc[:ix]['maj_lead']\n",
    "        polls_after = all_polls.iloc[ix:]['maj_lead']\n",
    "        next_untrue_poll = polls_after[polls_after == 0].index[0]\n",
    "        after_polls = next_untrue_poll - ix\n",
    "\n",
    "        if len(polls_before[polls_before == 0]) == 0:\n",
    "            before_polls = len(polls_before)\n",
    "        else:\n",
    "            last_untrue_poll = polls_before[polls_before == 0].index[-1]\n",
    "            before_polls = (ix - last_untrue_poll) - 1\n",
    "\n",
    "        total_polls = before_polls + after_polls\n",
    "        all_polls.loc[ix, 'maj_lead_in_row'] = total_polls\n",
    "    else:\n",
    "        total_polls = 0"
   ]
  },
  {
   "cell_type": "code",
   "execution_count": 26,
   "metadata": {},
   "outputs": [],
   "source": [
    "all_polls[all_polls['maj_lead_in_row'] > 5][\n",
    "    ['date_concluded', 'pollster', 'conservative', 'labour', 'liberal_democrat', 'lead',\n",
    "     'maj_lead_in_row']].to_clipboard(sep='\\t')"
   ]
  },
  {
   "cell_type": "code",
   "execution_count": 27,
   "metadata": {},
   "outputs": [
    {
     "data": {
      "text/plain": "     date_started date_concluded                      pollster  \\\n0      2023-02-24     2023-02-27                     Deltapoll   \n1      2023-02-26     2023-02-26  Redfield & Wilton Strategies   \n2      2023-02-21     2023-02-23                  BMG Research   \n3      2023-02-22     2023-02-23                       Omnisis   \n4      2023-02-22     2023-02-23                     Techne UK   \n...           ...            ...                           ...   \n6067   1970-11-15     1970-11-15                        Gallup   \n6068   1970-10-18     1970-10-18                        Gallup   \n6069   1970-09-13     1970-09-13                        Gallup   \n6070   1970-08-16     1970-08-16                        Gallup   \n6071   1970-06-18     1970-06-18              General Election   \n\n                     client area sample_size  conservative  labour  \\\n0                       NaN   GB        1060          31.0    46.0   \n1                       NaN   GB        2000          24.0    51.0   \n2                       NaN   GB         TBC          29.0    46.0   \n3                       NaN   GB        1248          24.0    48.0   \n4                       NaN   GB        1633          27.0    49.0   \n...                     ...  ...         ...           ...     ...   \n6067    The Daily Telegraph  NaN         NaN          43.5    48.0   \n6068    The Daily Telegraph  NaN         NaN          46.5    46.5   \n6069    The Daily Telegraph  NaN         NaN          46.5    44.0   \n6070    The Daily Telegraph  NaN         NaN          47.0    43.5   \n6071  1970 general election  NaN         NaN          46.4    43.1   \n\n      liberal_democrat  alliance  ...  scottish_national_party  \\\n0                  8.0       NaN  ...                      NaN   \n1                  9.0       NaN  ...                      3.0   \n2                  9.0       NaN  ...                      NaN   \n3                 10.0       NaN  ...                      4.0   \n4                  8.0       NaN  ...                      3.0   \n...                ...       ...  ...                      ...   \n6067               NaN       NaN  ...                      NaN   \n6068               NaN       NaN  ...                      NaN   \n6069               NaN       NaN  ...                      NaN   \n6070               NaN       NaN  ...                      NaN   \n6071               NaN       NaN  ...                      NaN   \n\n      social_democratic_party  united_kingdom_independence_party  \\\n0                         NaN                                NaN   \n1                         NaN                                NaN   \n2                         NaN                                NaN   \n3                         NaN                                NaN   \n4                         NaN                                NaN   \n...                       ...                                ...   \n6067                      NaN                                NaN   \n6068                      NaN                                NaN   \n6069                      NaN                                NaN   \n6070                      NaN                                NaN   \n6071                      NaN                                NaN   \n\n      reclaim_party  others      lead  lead_value  anti_conservative  \\\n0               NaN     NaN  lab+15.0        15.0               54.0   \n1               NaN     1.0  lab+27.0        27.0               68.0   \n2               NaN     NaN  lab+17.0        17.0               59.0   \n3               NaN     1.0  lab+24.0        24.0               67.0   \n4               NaN     3.0  lab+22.0        22.0               65.0   \n...             ...     ...       ...         ...                ...   \n6067            NaN     NaN   lab+4.5         4.5               48.0   \n6068            NaN     NaN       Tie         0.0               46.5   \n6069            NaN     NaN   con+2.5         2.5               44.0   \n6070            NaN     NaN   con+3.5         3.5               43.5   \n6071            NaN     NaN   con+3.3         3.3               43.1   \n\n      maj_lead  maj_lead_in_row  \n0          0.0                0  \n1          1.0                1  \n2          0.0                0  \n3          0.0                0  \n4          0.0                0  \n...        ...              ...  \n6067       0.0                0  \n6068       0.0                0  \n6069       0.0                0  \n6070       0.0                0  \n6071       0.0                0  \n\n[6072 rows x 26 columns]",
      "text/html": "<div>\n<style scoped>\n    .dataframe tbody tr th:only-of-type {\n        vertical-align: middle;\n    }\n\n    .dataframe tbody tr th {\n        vertical-align: top;\n    }\n\n    .dataframe thead th {\n        text-align: right;\n    }\n</style>\n<table border=\"1\" class=\"dataframe\">\n  <thead>\n    <tr style=\"text-align: right;\">\n      <th></th>\n      <th>date_started</th>\n      <th>date_concluded</th>\n      <th>pollster</th>\n      <th>client</th>\n      <th>area</th>\n      <th>sample_size</th>\n      <th>conservative</th>\n      <th>labour</th>\n      <th>liberal_democrat</th>\n      <th>alliance</th>\n      <th>...</th>\n      <th>scottish_national_party</th>\n      <th>social_democratic_party</th>\n      <th>united_kingdom_independence_party</th>\n      <th>reclaim_party</th>\n      <th>others</th>\n      <th>lead</th>\n      <th>lead_value</th>\n      <th>anti_conservative</th>\n      <th>maj_lead</th>\n      <th>maj_lead_in_row</th>\n    </tr>\n  </thead>\n  <tbody>\n    <tr>\n      <th>0</th>\n      <td>2023-02-24</td>\n      <td>2023-02-27</td>\n      <td>Deltapoll</td>\n      <td>NaN</td>\n      <td>GB</td>\n      <td>1060</td>\n      <td>31.0</td>\n      <td>46.0</td>\n      <td>8.0</td>\n      <td>NaN</td>\n      <td>...</td>\n      <td>NaN</td>\n      <td>NaN</td>\n      <td>NaN</td>\n      <td>NaN</td>\n      <td>NaN</td>\n      <td>lab+15.0</td>\n      <td>15.0</td>\n      <td>54.0</td>\n      <td>0.0</td>\n      <td>0</td>\n    </tr>\n    <tr>\n      <th>1</th>\n      <td>2023-02-26</td>\n      <td>2023-02-26</td>\n      <td>Redfield &amp; Wilton Strategies</td>\n      <td>NaN</td>\n      <td>GB</td>\n      <td>2000</td>\n      <td>24.0</td>\n      <td>51.0</td>\n      <td>9.0</td>\n      <td>NaN</td>\n      <td>...</td>\n      <td>3.0</td>\n      <td>NaN</td>\n      <td>NaN</td>\n      <td>NaN</td>\n      <td>1.0</td>\n      <td>lab+27.0</td>\n      <td>27.0</td>\n      <td>68.0</td>\n      <td>1.0</td>\n      <td>1</td>\n    </tr>\n    <tr>\n      <th>2</th>\n      <td>2023-02-21</td>\n      <td>2023-02-23</td>\n      <td>BMG Research</td>\n      <td>NaN</td>\n      <td>GB</td>\n      <td>TBC</td>\n      <td>29.0</td>\n      <td>46.0</td>\n      <td>9.0</td>\n      <td>NaN</td>\n      <td>...</td>\n      <td>NaN</td>\n      <td>NaN</td>\n      <td>NaN</td>\n      <td>NaN</td>\n      <td>NaN</td>\n      <td>lab+17.0</td>\n      <td>17.0</td>\n      <td>59.0</td>\n      <td>0.0</td>\n      <td>0</td>\n    </tr>\n    <tr>\n      <th>3</th>\n      <td>2023-02-22</td>\n      <td>2023-02-23</td>\n      <td>Omnisis</td>\n      <td>NaN</td>\n      <td>GB</td>\n      <td>1248</td>\n      <td>24.0</td>\n      <td>48.0</td>\n      <td>10.0</td>\n      <td>NaN</td>\n      <td>...</td>\n      <td>4.0</td>\n      <td>NaN</td>\n      <td>NaN</td>\n      <td>NaN</td>\n      <td>1.0</td>\n      <td>lab+24.0</td>\n      <td>24.0</td>\n      <td>67.0</td>\n      <td>0.0</td>\n      <td>0</td>\n    </tr>\n    <tr>\n      <th>4</th>\n      <td>2023-02-22</td>\n      <td>2023-02-23</td>\n      <td>Techne UK</td>\n      <td>NaN</td>\n      <td>GB</td>\n      <td>1633</td>\n      <td>27.0</td>\n      <td>49.0</td>\n      <td>8.0</td>\n      <td>NaN</td>\n      <td>...</td>\n      <td>3.0</td>\n      <td>NaN</td>\n      <td>NaN</td>\n      <td>NaN</td>\n      <td>3.0</td>\n      <td>lab+22.0</td>\n      <td>22.0</td>\n      <td>65.0</td>\n      <td>0.0</td>\n      <td>0</td>\n    </tr>\n    <tr>\n      <th>...</th>\n      <td>...</td>\n      <td>...</td>\n      <td>...</td>\n      <td>...</td>\n      <td>...</td>\n      <td>...</td>\n      <td>...</td>\n      <td>...</td>\n      <td>...</td>\n      <td>...</td>\n      <td>...</td>\n      <td>...</td>\n      <td>...</td>\n      <td>...</td>\n      <td>...</td>\n      <td>...</td>\n      <td>...</td>\n      <td>...</td>\n      <td>...</td>\n      <td>...</td>\n      <td>...</td>\n    </tr>\n    <tr>\n      <th>6067</th>\n      <td>1970-11-15</td>\n      <td>1970-11-15</td>\n      <td>Gallup</td>\n      <td>The Daily Telegraph</td>\n      <td>NaN</td>\n      <td>NaN</td>\n      <td>43.5</td>\n      <td>48.0</td>\n      <td>NaN</td>\n      <td>NaN</td>\n      <td>...</td>\n      <td>NaN</td>\n      <td>NaN</td>\n      <td>NaN</td>\n      <td>NaN</td>\n      <td>NaN</td>\n      <td>lab+4.5</td>\n      <td>4.5</td>\n      <td>48.0</td>\n      <td>0.0</td>\n      <td>0</td>\n    </tr>\n    <tr>\n      <th>6068</th>\n      <td>1970-10-18</td>\n      <td>1970-10-18</td>\n      <td>Gallup</td>\n      <td>The Daily Telegraph</td>\n      <td>NaN</td>\n      <td>NaN</td>\n      <td>46.5</td>\n      <td>46.5</td>\n      <td>NaN</td>\n      <td>NaN</td>\n      <td>...</td>\n      <td>NaN</td>\n      <td>NaN</td>\n      <td>NaN</td>\n      <td>NaN</td>\n      <td>NaN</td>\n      <td>Tie</td>\n      <td>0.0</td>\n      <td>46.5</td>\n      <td>0.0</td>\n      <td>0</td>\n    </tr>\n    <tr>\n      <th>6069</th>\n      <td>1970-09-13</td>\n      <td>1970-09-13</td>\n      <td>Gallup</td>\n      <td>The Daily Telegraph</td>\n      <td>NaN</td>\n      <td>NaN</td>\n      <td>46.5</td>\n      <td>44.0</td>\n      <td>NaN</td>\n      <td>NaN</td>\n      <td>...</td>\n      <td>NaN</td>\n      <td>NaN</td>\n      <td>NaN</td>\n      <td>NaN</td>\n      <td>NaN</td>\n      <td>con+2.5</td>\n      <td>2.5</td>\n      <td>44.0</td>\n      <td>0.0</td>\n      <td>0</td>\n    </tr>\n    <tr>\n      <th>6070</th>\n      <td>1970-08-16</td>\n      <td>1970-08-16</td>\n      <td>Gallup</td>\n      <td>The Daily Telegraph</td>\n      <td>NaN</td>\n      <td>NaN</td>\n      <td>47.0</td>\n      <td>43.5</td>\n      <td>NaN</td>\n      <td>NaN</td>\n      <td>...</td>\n      <td>NaN</td>\n      <td>NaN</td>\n      <td>NaN</td>\n      <td>NaN</td>\n      <td>NaN</td>\n      <td>con+3.5</td>\n      <td>3.5</td>\n      <td>43.5</td>\n      <td>0.0</td>\n      <td>0</td>\n    </tr>\n    <tr>\n      <th>6071</th>\n      <td>1970-06-18</td>\n      <td>1970-06-18</td>\n      <td>General Election</td>\n      <td>1970 general election</td>\n      <td>NaN</td>\n      <td>NaN</td>\n      <td>46.4</td>\n      <td>43.1</td>\n      <td>NaN</td>\n      <td>NaN</td>\n      <td>...</td>\n      <td>NaN</td>\n      <td>NaN</td>\n      <td>NaN</td>\n      <td>NaN</td>\n      <td>NaN</td>\n      <td>con+3.3</td>\n      <td>3.3</td>\n      <td>43.1</td>\n      <td>0.0</td>\n      <td>0</td>\n    </tr>\n  </tbody>\n</table>\n<p>6072 rows × 26 columns</p>\n</div>"
     },
     "execution_count": 27,
     "metadata": {},
     "output_type": "execute_result"
    }
   ],
   "source": [
    "all_polls"
   ]
  },
  {
   "cell_type": "code",
   "execution_count": 28,
   "metadata": {},
   "outputs": [],
   "source": [
    "all_polls.loc[(all_polls.labour > all_polls.conservative) & (all_polls.lead_value >= 10), 'dd_lead'] = 1\n",
    "all_polls['dd_lead'] = all_polls['dd_lead'].fillna(0)"
   ]
  },
  {
   "cell_type": "code",
   "execution_count": 29,
   "metadata": {},
   "outputs": [],
   "source": [
    "all_polls.loc[(all_polls.lead_value >= 10), 'dd_lead'] = 1\n",
    "all_polls['dd_lead'] = all_polls['dd_lead'].fillna(0)"
   ]
  },
  {
   "cell_type": "code",
   "execution_count": 30,
   "metadata": {},
   "outputs": [],
   "source": [
    "all_polls['dd_in_row'] = 0"
   ]
  },
  {
   "cell_type": "code",
   "execution_count": 31,
   "metadata": {},
   "outputs": [],
   "source": [
    "for ix, value in all_polls['dd_lead'].iteritems():\n",
    "    if value >= 1:\n",
    "        polls_before = all_polls.iloc[:ix]['dd_lead']\n",
    "        polls_after = all_polls.iloc[ix:]['dd_lead']\n",
    "        next_untrue_poll = polls_after[polls_after == 0].index[0]\n",
    "        after_polls = next_untrue_poll - ix\n",
    "\n",
    "        if len(polls_before[polls_before == 0]) == 0:\n",
    "            before_polls = len(polls_before)\n",
    "        else:\n",
    "            last_untrue_poll = polls_before[polls_before == 0].index[-1]\n",
    "            before_polls = (ix - last_untrue_poll) - 1\n",
    "\n",
    "        total_polls = before_polls + after_polls\n",
    "        all_polls.loc[ix, 'dd_in_row'] = total_polls\n",
    "    else:\n",
    "        total_polls = 0\n",
    "\n"
   ]
  },
  {
   "cell_type": "code",
   "execution_count": 32,
   "metadata": {},
   "outputs": [
    {
     "data": {
      "text/plain": "     date_concluded                      pollster  conservative  labour  \\\n0        2023-02-27                     Deltapoll          31.0    46.0   \n1        2023-02-26  Redfield & Wilton Strategies          24.0    51.0   \n2        2023-02-23                  BMG Research          29.0    46.0   \n3        2023-02-23                       Omnisis          24.0    48.0   \n4        2023-02-23                     Techne UK          27.0    49.0   \n...             ...                           ...           ...     ...   \n5611     1983-05-24                        Gallup          45.0    32.0   \n5612     1983-05-23            Audience Selection          48.0    33.0   \n5613     1983-05-23                    Ipsos MORI          45.0    32.0   \n5614     1983-05-23                           NOP          51.0    33.0   \n5615     1983-05-23            Harris Interactive          52.0    33.0   \n\n      liberal_democrat      lead  dd_in_row  \n0                  8.0  lab+15.0        184  \n1                  9.0  lab+27.0        184  \n2                  9.0  lab+17.0        184  \n3                 10.0  lab+24.0        184  \n4                  8.0  lab+22.0        184  \n...                ...       ...        ...  \n5611               NaN  con+13.0         43  \n5612               NaN  con+15.0         43  \n5613               NaN  con+13.0         43  \n5614               NaN  con+18.0         43  \n5615               NaN  con+19.0         43  \n\n[855 rows x 7 columns]",
      "text/html": "<div>\n<style scoped>\n    .dataframe tbody tr th:only-of-type {\n        vertical-align: middle;\n    }\n\n    .dataframe tbody tr th {\n        vertical-align: top;\n    }\n\n    .dataframe thead th {\n        text-align: right;\n    }\n</style>\n<table border=\"1\" class=\"dataframe\">\n  <thead>\n    <tr style=\"text-align: right;\">\n      <th></th>\n      <th>date_concluded</th>\n      <th>pollster</th>\n      <th>conservative</th>\n      <th>labour</th>\n      <th>liberal_democrat</th>\n      <th>lead</th>\n      <th>dd_in_row</th>\n    </tr>\n  </thead>\n  <tbody>\n    <tr>\n      <th>0</th>\n      <td>2023-02-27</td>\n      <td>Deltapoll</td>\n      <td>31.0</td>\n      <td>46.0</td>\n      <td>8.0</td>\n      <td>lab+15.0</td>\n      <td>184</td>\n    </tr>\n    <tr>\n      <th>1</th>\n      <td>2023-02-26</td>\n      <td>Redfield &amp; Wilton Strategies</td>\n      <td>24.0</td>\n      <td>51.0</td>\n      <td>9.0</td>\n      <td>lab+27.0</td>\n      <td>184</td>\n    </tr>\n    <tr>\n      <th>2</th>\n      <td>2023-02-23</td>\n      <td>BMG Research</td>\n      <td>29.0</td>\n      <td>46.0</td>\n      <td>9.0</td>\n      <td>lab+17.0</td>\n      <td>184</td>\n    </tr>\n    <tr>\n      <th>3</th>\n      <td>2023-02-23</td>\n      <td>Omnisis</td>\n      <td>24.0</td>\n      <td>48.0</td>\n      <td>10.0</td>\n      <td>lab+24.0</td>\n      <td>184</td>\n    </tr>\n    <tr>\n      <th>4</th>\n      <td>2023-02-23</td>\n      <td>Techne UK</td>\n      <td>27.0</td>\n      <td>49.0</td>\n      <td>8.0</td>\n      <td>lab+22.0</td>\n      <td>184</td>\n    </tr>\n    <tr>\n      <th>...</th>\n      <td>...</td>\n      <td>...</td>\n      <td>...</td>\n      <td>...</td>\n      <td>...</td>\n      <td>...</td>\n      <td>...</td>\n    </tr>\n    <tr>\n      <th>5611</th>\n      <td>1983-05-24</td>\n      <td>Gallup</td>\n      <td>45.0</td>\n      <td>32.0</td>\n      <td>NaN</td>\n      <td>con+13.0</td>\n      <td>43</td>\n    </tr>\n    <tr>\n      <th>5612</th>\n      <td>1983-05-23</td>\n      <td>Audience Selection</td>\n      <td>48.0</td>\n      <td>33.0</td>\n      <td>NaN</td>\n      <td>con+15.0</td>\n      <td>43</td>\n    </tr>\n    <tr>\n      <th>5613</th>\n      <td>1983-05-23</td>\n      <td>Ipsos MORI</td>\n      <td>45.0</td>\n      <td>32.0</td>\n      <td>NaN</td>\n      <td>con+13.0</td>\n      <td>43</td>\n    </tr>\n    <tr>\n      <th>5614</th>\n      <td>1983-05-23</td>\n      <td>NOP</td>\n      <td>51.0</td>\n      <td>33.0</td>\n      <td>NaN</td>\n      <td>con+18.0</td>\n      <td>43</td>\n    </tr>\n    <tr>\n      <th>5615</th>\n      <td>1983-05-23</td>\n      <td>Harris Interactive</td>\n      <td>52.0</td>\n      <td>33.0</td>\n      <td>NaN</td>\n      <td>con+19.0</td>\n      <td>43</td>\n    </tr>\n  </tbody>\n</table>\n<p>855 rows × 7 columns</p>\n</div>"
     },
     "execution_count": 32,
     "metadata": {},
     "output_type": "execute_result"
    }
   ],
   "source": [
    "all_polls[all_polls['dd_in_row'] > 22][\n",
    "    ['date_concluded', 'pollster', 'conservative', 'labour', 'liberal_democrat', 'lead', 'dd_in_row']]"
   ]
  },
  {
   "cell_type": "code",
   "execution_count": 33,
   "metadata": {},
   "outputs": [
    {
     "data": {
      "text/plain": "6063    1.0\n6064    0.0\n6065    0.0\n6066    0.0\n6067    0.0\n6068    0.0\n6069    0.0\n6070    0.0\n6071    0.0\nName: dd_lead, dtype: float64"
     },
     "execution_count": 33,
     "metadata": {},
     "output_type": "execute_result"
    }
   ],
   "source": [
    "polls_after"
   ]
  },
  {
   "cell_type": "code",
   "execution_count": 34,
   "metadata": {},
   "outputs": [
    {
     "data": {
      "text/plain": "0"
     },
     "execution_count": 34,
     "metadata": {},
     "output_type": "execute_result"
    }
   ],
   "source": [
    "before_polls"
   ]
  },
  {
   "cell_type": "code",
   "execution_count": 35,
   "metadata": {},
   "outputs": [
    {
     "data": {
      "text/plain": "6063    1.0\n6064    0.0\n6065    0.0\n6066    0.0\n6067    0.0\n6068    0.0\n6069    0.0\n6070    0.0\n6071    0.0\nName: dd_lead, dtype: float64"
     },
     "execution_count": 35,
     "metadata": {},
     "output_type": "execute_result"
    }
   ],
   "source": [
    "polls_after\n",
    "\n"
   ]
  },
  {
   "cell_type": "code",
   "execution_count": 36,
   "metadata": {},
   "outputs": [
    {
     "data": {
      "text/plain": "184     0.0\n189     0.0\n190     0.0\n191     0.0\n195     0.0\n       ... \n6053    0.0\n6054    0.0\n6057    0.0\n6061    0.0\n6062    0.0\nName: dd_lead, Length: 4100, dtype: float64"
     },
     "execution_count": 36,
     "metadata": {},
     "output_type": "execute_result"
    }
   ],
   "source": [
    "polls_before[polls_before == 0]"
   ]
  },
  {
   "cell_type": "code",
   "execution_count": 37,
   "metadata": {},
   "outputs": [
    {
     "data": {
      "text/plain": "Empty DataFrame\nColumns: [date_started, date_concluded, pollster, conservative, labour, liberal_democrat, lead]\nIndex: []",
      "text/html": "<div>\n<style scoped>\n    .dataframe tbody tr th:only-of-type {\n        vertical-align: middle;\n    }\n\n    .dataframe tbody tr th {\n        vertical-align: top;\n    }\n\n    .dataframe thead th {\n        text-align: right;\n    }\n</style>\n<table border=\"1\" class=\"dataframe\">\n  <thead>\n    <tr style=\"text-align: right;\">\n      <th></th>\n      <th>date_started</th>\n      <th>date_concluded</th>\n      <th>pollster</th>\n      <th>conservative</th>\n      <th>labour</th>\n      <th>liberal_democrat</th>\n      <th>lead</th>\n    </tr>\n  </thead>\n  <tbody>\n  </tbody>\n</table>\n</div>"
     },
     "execution_count": 37,
     "metadata": {},
     "output_type": "execute_result"
    }
   ],
   "source": [
    "all_polls.query(\"pollster=='Savanta ComRes' and labour>conservative and lead_value>=14\")[display_columns]"
   ]
  },
  {
   "cell_type": "code",
   "execution_count": 38,
   "metadata": {},
   "outputs": [
    {
     "data": {
      "text/plain": "     date_started date_concluded                      pollster  conservative  \\\n0      2023-02-24     2023-02-27                     Deltapoll          31.0   \n1      2023-02-26     2023-02-26  Redfield & Wilton Strategies          24.0   \n2      2023-02-21     2023-02-23                  BMG Research          29.0   \n3      2023-02-22     2023-02-23                       Omnisis          24.0   \n4      2023-02-22     2023-02-23                     Techne UK          27.0   \n...           ...            ...                           ...           ...   \n5979   1974-04-16     1974-04-16                        Gallup          33.0   \n6028   1973-05-06     1973-05-06                           NOP          31.9   \n6056   1971-09-20     1971-09-20                        Gallup          35.0   \n6058   1971-07-12     1971-07-12                        Gallup          33.5   \n6059   1971-06-13     1971-06-13                        Gallup          36.0   \n\n      labour  liberal_democrat      lead  \n0       46.0               8.0  lab+15.0  \n1       51.0               9.0  lab+27.0  \n2       46.0               9.0  lab+17.0  \n3       48.0              10.0  lab+24.0  \n4       49.0               8.0  lab+22.0  \n...      ...               ...       ...  \n5979    49.0               NaN  lab+16.0  \n6028    50.1               NaN  lab+18.2  \n6056    54.0               NaN  lab+19.0  \n6058    55.0               NaN  lab+21.5  \n6059    54.0               NaN  lab+18.0  \n\n[690 rows x 7 columns]",
      "text/html": "<div>\n<style scoped>\n    .dataframe tbody tr th:only-of-type {\n        vertical-align: middle;\n    }\n\n    .dataframe tbody tr th {\n        vertical-align: top;\n    }\n\n    .dataframe thead th {\n        text-align: right;\n    }\n</style>\n<table border=\"1\" class=\"dataframe\">\n  <thead>\n    <tr style=\"text-align: right;\">\n      <th></th>\n      <th>date_started</th>\n      <th>date_concluded</th>\n      <th>pollster</th>\n      <th>conservative</th>\n      <th>labour</th>\n      <th>liberal_democrat</th>\n      <th>lead</th>\n    </tr>\n  </thead>\n  <tbody>\n    <tr>\n      <th>0</th>\n      <td>2023-02-24</td>\n      <td>2023-02-27</td>\n      <td>Deltapoll</td>\n      <td>31.0</td>\n      <td>46.0</td>\n      <td>8.0</td>\n      <td>lab+15.0</td>\n    </tr>\n    <tr>\n      <th>1</th>\n      <td>2023-02-26</td>\n      <td>2023-02-26</td>\n      <td>Redfield &amp; Wilton Strategies</td>\n      <td>24.0</td>\n      <td>51.0</td>\n      <td>9.0</td>\n      <td>lab+27.0</td>\n    </tr>\n    <tr>\n      <th>2</th>\n      <td>2023-02-21</td>\n      <td>2023-02-23</td>\n      <td>BMG Research</td>\n      <td>29.0</td>\n      <td>46.0</td>\n      <td>9.0</td>\n      <td>lab+17.0</td>\n    </tr>\n    <tr>\n      <th>3</th>\n      <td>2023-02-22</td>\n      <td>2023-02-23</td>\n      <td>Omnisis</td>\n      <td>24.0</td>\n      <td>48.0</td>\n      <td>10.0</td>\n      <td>lab+24.0</td>\n    </tr>\n    <tr>\n      <th>4</th>\n      <td>2023-02-22</td>\n      <td>2023-02-23</td>\n      <td>Techne UK</td>\n      <td>27.0</td>\n      <td>49.0</td>\n      <td>8.0</td>\n      <td>lab+22.0</td>\n    </tr>\n    <tr>\n      <th>...</th>\n      <td>...</td>\n      <td>...</td>\n      <td>...</td>\n      <td>...</td>\n      <td>...</td>\n      <td>...</td>\n      <td>...</td>\n    </tr>\n    <tr>\n      <th>5979</th>\n      <td>1974-04-16</td>\n      <td>1974-04-16</td>\n      <td>Gallup</td>\n      <td>33.0</td>\n      <td>49.0</td>\n      <td>NaN</td>\n      <td>lab+16.0</td>\n    </tr>\n    <tr>\n      <th>6028</th>\n      <td>1973-05-06</td>\n      <td>1973-05-06</td>\n      <td>NOP</td>\n      <td>31.9</td>\n      <td>50.1</td>\n      <td>NaN</td>\n      <td>lab+18.2</td>\n    </tr>\n    <tr>\n      <th>6056</th>\n      <td>1971-09-20</td>\n      <td>1971-09-20</td>\n      <td>Gallup</td>\n      <td>35.0</td>\n      <td>54.0</td>\n      <td>NaN</td>\n      <td>lab+19.0</td>\n    </tr>\n    <tr>\n      <th>6058</th>\n      <td>1971-07-12</td>\n      <td>1971-07-12</td>\n      <td>Gallup</td>\n      <td>33.5</td>\n      <td>55.0</td>\n      <td>NaN</td>\n      <td>lab+21.5</td>\n    </tr>\n    <tr>\n      <th>6059</th>\n      <td>1971-06-13</td>\n      <td>1971-06-13</td>\n      <td>Gallup</td>\n      <td>36.0</td>\n      <td>54.0</td>\n      <td>NaN</td>\n      <td>lab+18.0</td>\n    </tr>\n  </tbody>\n</table>\n<p>690 rows × 7 columns</p>\n</div>"
     },
     "execution_count": 38,
     "metadata": {},
     "output_type": "execute_result"
    }
   ],
   "source": [
    "all_polls.query(\"lead_value >= 15 and labour>conservative\")[display_columns]"
   ]
  },
  {
   "cell_type": "code",
   "execution_count": 39,
   "metadata": {},
   "outputs": [
    {
     "data": {
      "text/plain": "     date_started date_concluded                      pollster  conservative  \\\n1      2023-02-26     2023-02-26  Redfield & Wilton Strategies          24.0   \n3      2023-02-22     2023-02-23                       Omnisis          24.0   \n4      2023-02-22     2023-02-23                     Techne UK          27.0   \n5      2023-02-22     2023-02-22                 PeoplePolling          20.0   \n6      2023-02-17     2023-02-20                     Deltapoll          28.0   \n...           ...            ...                           ...           ...   \n5722   1980-12-19     1980-12-19                        Gallup          32.0   \n6028   1973-05-06     1973-05-06                           NOP          31.9   \n6056   1971-09-20     1971-09-20                        Gallup          35.0   \n6058   1971-07-12     1971-07-12                        Gallup          33.5   \n6059   1971-06-13     1971-06-13                        Gallup          36.0   \n\n      labour  liberal_democrat      lead  \n1       51.0               9.0  lab+27.0  \n3       48.0              10.0  lab+24.0  \n4       49.0               8.0  lab+22.0  \n5       46.0               8.0  lab+26.0  \n6       50.0               9.0  lab+22.0  \n...      ...               ...       ...  \n5722    56.0               NaN  lab+24.0  \n6028    50.1               NaN  lab+18.2  \n6056    54.0               NaN  lab+19.0  \n6058    55.0               NaN  lab+21.5  \n6059    54.0               NaN  lab+18.0  \n\n[542 rows x 7 columns]",
      "text/html": "<div>\n<style scoped>\n    .dataframe tbody tr th:only-of-type {\n        vertical-align: middle;\n    }\n\n    .dataframe tbody tr th {\n        vertical-align: top;\n    }\n\n    .dataframe thead th {\n        text-align: right;\n    }\n</style>\n<table border=\"1\" class=\"dataframe\">\n  <thead>\n    <tr style=\"text-align: right;\">\n      <th></th>\n      <th>date_started</th>\n      <th>date_concluded</th>\n      <th>pollster</th>\n      <th>conservative</th>\n      <th>labour</th>\n      <th>liberal_democrat</th>\n      <th>lead</th>\n    </tr>\n  </thead>\n  <tbody>\n    <tr>\n      <th>1</th>\n      <td>2023-02-26</td>\n      <td>2023-02-26</td>\n      <td>Redfield &amp; Wilton Strategies</td>\n      <td>24.0</td>\n      <td>51.0</td>\n      <td>9.0</td>\n      <td>lab+27.0</td>\n    </tr>\n    <tr>\n      <th>3</th>\n      <td>2023-02-22</td>\n      <td>2023-02-23</td>\n      <td>Omnisis</td>\n      <td>24.0</td>\n      <td>48.0</td>\n      <td>10.0</td>\n      <td>lab+24.0</td>\n    </tr>\n    <tr>\n      <th>4</th>\n      <td>2023-02-22</td>\n      <td>2023-02-23</td>\n      <td>Techne UK</td>\n      <td>27.0</td>\n      <td>49.0</td>\n      <td>8.0</td>\n      <td>lab+22.0</td>\n    </tr>\n    <tr>\n      <th>5</th>\n      <td>2023-02-22</td>\n      <td>2023-02-22</td>\n      <td>PeoplePolling</td>\n      <td>20.0</td>\n      <td>46.0</td>\n      <td>8.0</td>\n      <td>lab+26.0</td>\n    </tr>\n    <tr>\n      <th>6</th>\n      <td>2023-02-17</td>\n      <td>2023-02-20</td>\n      <td>Deltapoll</td>\n      <td>28.0</td>\n      <td>50.0</td>\n      <td>9.0</td>\n      <td>lab+22.0</td>\n    </tr>\n    <tr>\n      <th>...</th>\n      <td>...</td>\n      <td>...</td>\n      <td>...</td>\n      <td>...</td>\n      <td>...</td>\n      <td>...</td>\n      <td>...</td>\n    </tr>\n    <tr>\n      <th>5722</th>\n      <td>1980-12-19</td>\n      <td>1980-12-19</td>\n      <td>Gallup</td>\n      <td>32.0</td>\n      <td>56.0</td>\n      <td>NaN</td>\n      <td>lab+24.0</td>\n    </tr>\n    <tr>\n      <th>6028</th>\n      <td>1973-05-06</td>\n      <td>1973-05-06</td>\n      <td>NOP</td>\n      <td>31.9</td>\n      <td>50.1</td>\n      <td>NaN</td>\n      <td>lab+18.2</td>\n    </tr>\n    <tr>\n      <th>6056</th>\n      <td>1971-09-20</td>\n      <td>1971-09-20</td>\n      <td>Gallup</td>\n      <td>35.0</td>\n      <td>54.0</td>\n      <td>NaN</td>\n      <td>lab+19.0</td>\n    </tr>\n    <tr>\n      <th>6058</th>\n      <td>1971-07-12</td>\n      <td>1971-07-12</td>\n      <td>Gallup</td>\n      <td>33.5</td>\n      <td>55.0</td>\n      <td>NaN</td>\n      <td>lab+21.5</td>\n    </tr>\n    <tr>\n      <th>6059</th>\n      <td>1971-06-13</td>\n      <td>1971-06-13</td>\n      <td>Gallup</td>\n      <td>36.0</td>\n      <td>54.0</td>\n      <td>NaN</td>\n      <td>lab+18.0</td>\n    </tr>\n  </tbody>\n</table>\n<p>542 rows × 7 columns</p>\n</div>"
     },
     "execution_count": 39,
     "metadata": {},
     "output_type": "execute_result"
    }
   ],
   "source": [
    "all_polls.query(\"lead_value >= 18 and labour>conservative\")[display_columns]"
   ]
  },
  {
   "cell_type": "code",
   "execution_count": 40,
   "metadata": {},
   "outputs": [
    {
     "data": {
      "text/plain": "     date_started date_concluded                      pollster  conservative  \\\n1      2023-02-26     2023-02-26  Redfield & Wilton Strategies          24.0   \n3      2023-02-22     2023-02-23                       Omnisis          24.0   \n4      2023-02-22     2023-02-23                     Techne UK          27.0   \n5      2023-02-22     2023-02-22                 PeoplePolling          20.0   \n6      2023-02-17     2023-02-20                     Deltapoll          28.0   \n...           ...            ...                           ...           ...   \n5692   1981-09-28     1981-09-28                    Ipsos MORI          28.0   \n5693   1981-09-18     1981-09-18                        Gallup          27.0   \n5696   1981-08-17     1981-08-17                           NOP          28.0   \n5714   1981-03-23     1981-03-23                        Gallup          28.0   \n6021   1973-08-15     1973-08-15                           NOP          28.9   \n\n      labour  liberal_democrat      lead  \n1       51.0               9.0  lab+27.0  \n3       48.0              10.0  lab+24.0  \n4       49.0               8.0  lab+22.0  \n5       46.0               8.0  lab+26.0  \n6       50.0               9.0  lab+22.0  \n...      ...               ...       ...  \n5692    42.0               NaN  lab+14.0  \n5693    38.0               NaN   lab+5.0  \n5696    38.5               NaN   lab+6.0  \n5714    38.0               NaN   lab+6.0  \n6021    41.7               NaN  lab+12.8  \n\n[551 rows x 7 columns]",
      "text/html": "<div>\n<style scoped>\n    .dataframe tbody tr th:only-of-type {\n        vertical-align: middle;\n    }\n\n    .dataframe tbody tr th {\n        vertical-align: top;\n    }\n\n    .dataframe thead th {\n        text-align: right;\n    }\n</style>\n<table border=\"1\" class=\"dataframe\">\n  <thead>\n    <tr style=\"text-align: right;\">\n      <th></th>\n      <th>date_started</th>\n      <th>date_concluded</th>\n      <th>pollster</th>\n      <th>conservative</th>\n      <th>labour</th>\n      <th>liberal_democrat</th>\n      <th>lead</th>\n    </tr>\n  </thead>\n  <tbody>\n    <tr>\n      <th>1</th>\n      <td>2023-02-26</td>\n      <td>2023-02-26</td>\n      <td>Redfield &amp; Wilton Strategies</td>\n      <td>24.0</td>\n      <td>51.0</td>\n      <td>9.0</td>\n      <td>lab+27.0</td>\n    </tr>\n    <tr>\n      <th>3</th>\n      <td>2023-02-22</td>\n      <td>2023-02-23</td>\n      <td>Omnisis</td>\n      <td>24.0</td>\n      <td>48.0</td>\n      <td>10.0</td>\n      <td>lab+24.0</td>\n    </tr>\n    <tr>\n      <th>4</th>\n      <td>2023-02-22</td>\n      <td>2023-02-23</td>\n      <td>Techne UK</td>\n      <td>27.0</td>\n      <td>49.0</td>\n      <td>8.0</td>\n      <td>lab+22.0</td>\n    </tr>\n    <tr>\n      <th>5</th>\n      <td>2023-02-22</td>\n      <td>2023-02-22</td>\n      <td>PeoplePolling</td>\n      <td>20.0</td>\n      <td>46.0</td>\n      <td>8.0</td>\n      <td>lab+26.0</td>\n    </tr>\n    <tr>\n      <th>6</th>\n      <td>2023-02-17</td>\n      <td>2023-02-20</td>\n      <td>Deltapoll</td>\n      <td>28.0</td>\n      <td>50.0</td>\n      <td>9.0</td>\n      <td>lab+22.0</td>\n    </tr>\n    <tr>\n      <th>...</th>\n      <td>...</td>\n      <td>...</td>\n      <td>...</td>\n      <td>...</td>\n      <td>...</td>\n      <td>...</td>\n      <td>...</td>\n    </tr>\n    <tr>\n      <th>5692</th>\n      <td>1981-09-28</td>\n      <td>1981-09-28</td>\n      <td>Ipsos MORI</td>\n      <td>28.0</td>\n      <td>42.0</td>\n      <td>NaN</td>\n      <td>lab+14.0</td>\n    </tr>\n    <tr>\n      <th>5693</th>\n      <td>1981-09-18</td>\n      <td>1981-09-18</td>\n      <td>Gallup</td>\n      <td>27.0</td>\n      <td>38.0</td>\n      <td>NaN</td>\n      <td>lab+5.0</td>\n    </tr>\n    <tr>\n      <th>5696</th>\n      <td>1981-08-17</td>\n      <td>1981-08-17</td>\n      <td>NOP</td>\n      <td>28.0</td>\n      <td>38.5</td>\n      <td>NaN</td>\n      <td>lab+6.0</td>\n    </tr>\n    <tr>\n      <th>5714</th>\n      <td>1981-03-23</td>\n      <td>1981-03-23</td>\n      <td>Gallup</td>\n      <td>28.0</td>\n      <td>38.0</td>\n      <td>NaN</td>\n      <td>lab+6.0</td>\n    </tr>\n    <tr>\n      <th>6021</th>\n      <td>1973-08-15</td>\n      <td>1973-08-15</td>\n      <td>NOP</td>\n      <td>28.9</td>\n      <td>41.7</td>\n      <td>NaN</td>\n      <td>lab+12.8</td>\n    </tr>\n  </tbody>\n</table>\n<p>551 rows × 7 columns</p>\n</div>"
     },
     "execution_count": 40,
     "metadata": {},
     "output_type": "execute_result"
    }
   ],
   "source": [
    "all_polls.query(\"conservative <29\")[display_columns]"
   ]
  },
  {
   "cell_type": "code",
   "execution_count": 41,
   "metadata": {},
   "outputs": [
    {
     "data": {
      "text/plain": "Empty DataFrame\nColumns: [date_started, date_concluded, pollster, conservative, labour, liberal_democrat, lead]\nIndex: []",
      "text/html": "<div>\n<style scoped>\n    .dataframe tbody tr th:only-of-type {\n        vertical-align: middle;\n    }\n\n    .dataframe tbody tr th {\n        vertical-align: top;\n    }\n\n    .dataframe thead th {\n        text-align: right;\n    }\n</style>\n<table border=\"1\" class=\"dataframe\">\n  <thead>\n    <tr style=\"text-align: right;\">\n      <th></th>\n      <th>date_started</th>\n      <th>date_concluded</th>\n      <th>pollster</th>\n      <th>conservative</th>\n      <th>labour</th>\n      <th>liberal_democrat</th>\n      <th>lead</th>\n    </tr>\n  </thead>\n  <tbody>\n  </tbody>\n</table>\n</div>"
     },
     "execution_count": 41,
     "metadata": {},
     "output_type": "execute_result"
    }
   ],
   "source": [
    "all_polls.query(\"pollster=='YouGov' and liberal_democrat > 54\")[display_columns]"
   ]
  },
  {
   "cell_type": "code",
   "execution_count": 42,
   "metadata": {},
   "outputs": [
    {
     "data": {
      "text/plain": "     date_started date_concluded    pollster  conservative  labour  \\\n269    2022-06-22     2022-06-29  Ipsos MORI          30.0    41.0   \n908    2019-11-15     2019-11-19  Ipsos MORI          44.0    28.0   \n943    2019-10-25     2019-10-28  Ipsos MORI          41.0    24.0   \n971    2019-09-13     2019-09-16  Ipsos MORI          33.0    24.0   \n1002   2019-07-26     2019-07-30  Ipsos MORI          34.0    24.0   \n...           ...            ...         ...           ...     ...   \n4966   1991-05-28     1991-05-28  Ipsos MORI          37.0    43.0   \n4978   1991-04-22     1991-04-22  Ipsos MORI          42.0    40.0   \n4984   1991-03-25     1991-03-25  Ipsos MORI          40.0    40.0   \n4986   1991-03-22     1991-03-22  Ipsos MORI          38.0    44.0   \n4992   1991-03-08     1991-03-08  Ipsos MORI          41.0    37.0   \n\n      liberal_democrat      lead  \n269               15.0  lab+11.0  \n908               16.0  con+16.0  \n943               20.0  con+17.0  \n971               23.0   con+9.0  \n1002              20.0  con+10.0  \n...                ...       ...  \n4966              16.0   lab+6.0  \n4978              15.0   con+2.0  \n4984              16.0       Tie  \n4986              15.0   lab+6.0  \n4992              16.0   con+4.0  \n\n[179 rows x 7 columns]",
      "text/html": "<div>\n<style scoped>\n    .dataframe tbody tr th:only-of-type {\n        vertical-align: middle;\n    }\n\n    .dataframe tbody tr th {\n        vertical-align: top;\n    }\n\n    .dataframe thead th {\n        text-align: right;\n    }\n</style>\n<table border=\"1\" class=\"dataframe\">\n  <thead>\n    <tr style=\"text-align: right;\">\n      <th></th>\n      <th>date_started</th>\n      <th>date_concluded</th>\n      <th>pollster</th>\n      <th>conservative</th>\n      <th>labour</th>\n      <th>liberal_democrat</th>\n      <th>lead</th>\n    </tr>\n  </thead>\n  <tbody>\n    <tr>\n      <th>269</th>\n      <td>2022-06-22</td>\n      <td>2022-06-29</td>\n      <td>Ipsos MORI</td>\n      <td>30.0</td>\n      <td>41.0</td>\n      <td>15.0</td>\n      <td>lab+11.0</td>\n    </tr>\n    <tr>\n      <th>908</th>\n      <td>2019-11-15</td>\n      <td>2019-11-19</td>\n      <td>Ipsos MORI</td>\n      <td>44.0</td>\n      <td>28.0</td>\n      <td>16.0</td>\n      <td>con+16.0</td>\n    </tr>\n    <tr>\n      <th>943</th>\n      <td>2019-10-25</td>\n      <td>2019-10-28</td>\n      <td>Ipsos MORI</td>\n      <td>41.0</td>\n      <td>24.0</td>\n      <td>20.0</td>\n      <td>con+17.0</td>\n    </tr>\n    <tr>\n      <th>971</th>\n      <td>2019-09-13</td>\n      <td>2019-09-16</td>\n      <td>Ipsos MORI</td>\n      <td>33.0</td>\n      <td>24.0</td>\n      <td>23.0</td>\n      <td>con+9.0</td>\n    </tr>\n    <tr>\n      <th>1002</th>\n      <td>2019-07-26</td>\n      <td>2019-07-30</td>\n      <td>Ipsos MORI</td>\n      <td>34.0</td>\n      <td>24.0</td>\n      <td>20.0</td>\n      <td>con+10.0</td>\n    </tr>\n    <tr>\n      <th>...</th>\n      <td>...</td>\n      <td>...</td>\n      <td>...</td>\n      <td>...</td>\n      <td>...</td>\n      <td>...</td>\n      <td>...</td>\n    </tr>\n    <tr>\n      <th>4966</th>\n      <td>1991-05-28</td>\n      <td>1991-05-28</td>\n      <td>Ipsos MORI</td>\n      <td>37.0</td>\n      <td>43.0</td>\n      <td>16.0</td>\n      <td>lab+6.0</td>\n    </tr>\n    <tr>\n      <th>4978</th>\n      <td>1991-04-22</td>\n      <td>1991-04-22</td>\n      <td>Ipsos MORI</td>\n      <td>42.0</td>\n      <td>40.0</td>\n      <td>15.0</td>\n      <td>con+2.0</td>\n    </tr>\n    <tr>\n      <th>4984</th>\n      <td>1991-03-25</td>\n      <td>1991-03-25</td>\n      <td>Ipsos MORI</td>\n      <td>40.0</td>\n      <td>40.0</td>\n      <td>16.0</td>\n      <td>Tie</td>\n    </tr>\n    <tr>\n      <th>4986</th>\n      <td>1991-03-22</td>\n      <td>1991-03-22</td>\n      <td>Ipsos MORI</td>\n      <td>38.0</td>\n      <td>44.0</td>\n      <td>15.0</td>\n      <td>lab+6.0</td>\n    </tr>\n    <tr>\n      <th>4992</th>\n      <td>1991-03-08</td>\n      <td>1991-03-08</td>\n      <td>Ipsos MORI</td>\n      <td>41.0</td>\n      <td>37.0</td>\n      <td>16.0</td>\n      <td>con+4.0</td>\n    </tr>\n  </tbody>\n</table>\n<p>179 rows × 7 columns</p>\n</div>"
     },
     "execution_count": 42,
     "metadata": {},
     "output_type": "execute_result"
    }
   ],
   "source": [
    "all_polls.query(\"pollster=='Ipsos MORI' and liberal_democrat >=15\")[display_columns]"
   ]
  },
  {
   "cell_type": "code",
   "execution_count": 43,
   "metadata": {},
   "outputs": [
    {
     "data": {
      "text/plain": "     date_started date_concluded pollster  conservative  labour  \\\n237    2022-07-27     2022-07-28   YouGov          34.0    35.0   \n253    2022-07-13     2022-07-14   YouGov          29.0    40.0   \n261    2022-07-06     2022-07-07   YouGov          29.0    40.0   \n268    2022-06-28     2022-06-29   YouGov          33.0    36.0   \n417    2022-01-11     2022-01-12   YouGov          28.0    38.0   \n...           ...            ...      ...           ...     ...   \n4207   2003-09-23     2003-09-25   YouGov          32.0    31.0   \n4212   2003-07-22     2003-07-24   YouGov          37.0    34.0   \n4217   2003-04-22     2003-04-24   YouGov          32.0    40.0   \n4219   2003-03-26     2003-03-27   YouGov          33.0    40.0   \n4226   2003-01-28     2003-01-30   YouGov          32.0    36.0   \n\n      liberal_democrat      lead  \n237               13.0   lab+1.0  \n253               13.0  lab+11.0  \n261               15.0  lab+11.0  \n268               13.0   lab+3.0  \n417               13.0  lab+10.0  \n...                ...       ...  \n4207              30.0   con+1.0  \n4212              22.0   con+3.0  \n4217              21.0   lab+8.0  \n4219              20.0   lab+7.0  \n4226              24.0   lab+4.0  \n\n[334 rows x 7 columns]",
      "text/html": "<div>\n<style scoped>\n    .dataframe tbody tr th:only-of-type {\n        vertical-align: middle;\n    }\n\n    .dataframe tbody tr th {\n        vertical-align: top;\n    }\n\n    .dataframe thead th {\n        text-align: right;\n    }\n</style>\n<table border=\"1\" class=\"dataframe\">\n  <thead>\n    <tr style=\"text-align: right;\">\n      <th></th>\n      <th>date_started</th>\n      <th>date_concluded</th>\n      <th>pollster</th>\n      <th>conservative</th>\n      <th>labour</th>\n      <th>liberal_democrat</th>\n      <th>lead</th>\n    </tr>\n  </thead>\n  <tbody>\n    <tr>\n      <th>237</th>\n      <td>2022-07-27</td>\n      <td>2022-07-28</td>\n      <td>YouGov</td>\n      <td>34.0</td>\n      <td>35.0</td>\n      <td>13.0</td>\n      <td>lab+1.0</td>\n    </tr>\n    <tr>\n      <th>253</th>\n      <td>2022-07-13</td>\n      <td>2022-07-14</td>\n      <td>YouGov</td>\n      <td>29.0</td>\n      <td>40.0</td>\n      <td>13.0</td>\n      <td>lab+11.0</td>\n    </tr>\n    <tr>\n      <th>261</th>\n      <td>2022-07-06</td>\n      <td>2022-07-07</td>\n      <td>YouGov</td>\n      <td>29.0</td>\n      <td>40.0</td>\n      <td>15.0</td>\n      <td>lab+11.0</td>\n    </tr>\n    <tr>\n      <th>268</th>\n      <td>2022-06-28</td>\n      <td>2022-06-29</td>\n      <td>YouGov</td>\n      <td>33.0</td>\n      <td>36.0</td>\n      <td>13.0</td>\n      <td>lab+3.0</td>\n    </tr>\n    <tr>\n      <th>417</th>\n      <td>2022-01-11</td>\n      <td>2022-01-12</td>\n      <td>YouGov</td>\n      <td>28.0</td>\n      <td>38.0</td>\n      <td>13.0</td>\n      <td>lab+10.0</td>\n    </tr>\n    <tr>\n      <th>...</th>\n      <td>...</td>\n      <td>...</td>\n      <td>...</td>\n      <td>...</td>\n      <td>...</td>\n      <td>...</td>\n      <td>...</td>\n    </tr>\n    <tr>\n      <th>4207</th>\n      <td>2003-09-23</td>\n      <td>2003-09-25</td>\n      <td>YouGov</td>\n      <td>32.0</td>\n      <td>31.0</td>\n      <td>30.0</td>\n      <td>con+1.0</td>\n    </tr>\n    <tr>\n      <th>4212</th>\n      <td>2003-07-22</td>\n      <td>2003-07-24</td>\n      <td>YouGov</td>\n      <td>37.0</td>\n      <td>34.0</td>\n      <td>22.0</td>\n      <td>con+3.0</td>\n    </tr>\n    <tr>\n      <th>4217</th>\n      <td>2003-04-22</td>\n      <td>2003-04-24</td>\n      <td>YouGov</td>\n      <td>32.0</td>\n      <td>40.0</td>\n      <td>21.0</td>\n      <td>lab+8.0</td>\n    </tr>\n    <tr>\n      <th>4219</th>\n      <td>2003-03-26</td>\n      <td>2003-03-27</td>\n      <td>YouGov</td>\n      <td>33.0</td>\n      <td>40.0</td>\n      <td>20.0</td>\n      <td>lab+7.0</td>\n    </tr>\n    <tr>\n      <th>4226</th>\n      <td>2003-01-28</td>\n      <td>2003-01-30</td>\n      <td>YouGov</td>\n      <td>32.0</td>\n      <td>36.0</td>\n      <td>24.0</td>\n      <td>lab+4.0</td>\n    </tr>\n  </tbody>\n</table>\n<p>334 rows × 7 columns</p>\n</div>"
     },
     "execution_count": 43,
     "metadata": {},
     "output_type": "execute_result"
    }
   ],
   "source": [
    "all_polls.query(\"pollster=='YouGov' and liberal_democrat >12\")[display_columns]"
   ]
  },
  {
   "cell_type": "code",
   "execution_count": 44,
   "metadata": {},
   "outputs": [
    {
     "data": {
      "text/plain": "     date_started date_concluded                      pollster  conservative  \\\n1      2023-02-26     2023-02-26  Redfield & Wilton Strategies          24.0   \n2      2023-02-21     2023-02-23                  BMG Research          29.0   \n3      2023-02-22     2023-02-23                       Omnisis          24.0   \n4      2023-02-22     2023-02-23                     Techne UK          27.0   \n5      2023-02-22     2023-02-22                 PeoplePolling          20.0   \n...           ...            ...                           ...           ...   \n406    2022-01-20     2022-01-20                       Omnisis          27.0   \n407    2022-01-17     2022-01-17  Redfield & Wilton Strategies          30.0   \n468    2021-11-08     2021-11-08                       Omnisis          30.0   \n2742   2012-11-10     2012-11-13                    Ipsos MORI          32.0   \n2784   2012-09-30     2012-10-01                        YouGov          34.0   \n\n      labour  liberal_democrat      lead  \n1       51.0               9.0  lab+27.0  \n2       46.0               9.0  lab+17.0  \n3       48.0              10.0  lab+24.0  \n4       49.0               8.0  lab+22.0  \n5       46.0               8.0  lab+26.0  \n...      ...               ...       ...  \n406     45.0               8.0  lab+18.0  \n407     43.0               9.0  lab+13.0  \n468     42.0               6.0  lab+12.0  \n2742    46.0               9.0  lab+14.0  \n2784    43.0               9.0   lab+9.0  \n\n[184 rows x 7 columns]",
      "text/html": "<div>\n<style scoped>\n    .dataframe tbody tr th:only-of-type {\n        vertical-align: middle;\n    }\n\n    .dataframe tbody tr th {\n        vertical-align: top;\n    }\n\n    .dataframe thead th {\n        text-align: right;\n    }\n</style>\n<table border=\"1\" class=\"dataframe\">\n  <thead>\n    <tr style=\"text-align: right;\">\n      <th></th>\n      <th>date_started</th>\n      <th>date_concluded</th>\n      <th>pollster</th>\n      <th>conservative</th>\n      <th>labour</th>\n      <th>liberal_democrat</th>\n      <th>lead</th>\n    </tr>\n  </thead>\n  <tbody>\n    <tr>\n      <th>1</th>\n      <td>2023-02-26</td>\n      <td>2023-02-26</td>\n      <td>Redfield &amp; Wilton Strategies</td>\n      <td>24.0</td>\n      <td>51.0</td>\n      <td>9.0</td>\n      <td>lab+27.0</td>\n    </tr>\n    <tr>\n      <th>2</th>\n      <td>2023-02-21</td>\n      <td>2023-02-23</td>\n      <td>BMG Research</td>\n      <td>29.0</td>\n      <td>46.0</td>\n      <td>9.0</td>\n      <td>lab+17.0</td>\n    </tr>\n    <tr>\n      <th>3</th>\n      <td>2023-02-22</td>\n      <td>2023-02-23</td>\n      <td>Omnisis</td>\n      <td>24.0</td>\n      <td>48.0</td>\n      <td>10.0</td>\n      <td>lab+24.0</td>\n    </tr>\n    <tr>\n      <th>4</th>\n      <td>2023-02-22</td>\n      <td>2023-02-23</td>\n      <td>Techne UK</td>\n      <td>27.0</td>\n      <td>49.0</td>\n      <td>8.0</td>\n      <td>lab+22.0</td>\n    </tr>\n    <tr>\n      <th>5</th>\n      <td>2023-02-22</td>\n      <td>2023-02-22</td>\n      <td>PeoplePolling</td>\n      <td>20.0</td>\n      <td>46.0</td>\n      <td>8.0</td>\n      <td>lab+26.0</td>\n    </tr>\n    <tr>\n      <th>...</th>\n      <td>...</td>\n      <td>...</td>\n      <td>...</td>\n      <td>...</td>\n      <td>...</td>\n      <td>...</td>\n      <td>...</td>\n    </tr>\n    <tr>\n      <th>406</th>\n      <td>2022-01-20</td>\n      <td>2022-01-20</td>\n      <td>Omnisis</td>\n      <td>27.0</td>\n      <td>45.0</td>\n      <td>8.0</td>\n      <td>lab+18.0</td>\n    </tr>\n    <tr>\n      <th>407</th>\n      <td>2022-01-17</td>\n      <td>2022-01-17</td>\n      <td>Redfield &amp; Wilton Strategies</td>\n      <td>30.0</td>\n      <td>43.0</td>\n      <td>9.0</td>\n      <td>lab+13.0</td>\n    </tr>\n    <tr>\n      <th>468</th>\n      <td>2021-11-08</td>\n      <td>2021-11-08</td>\n      <td>Omnisis</td>\n      <td>30.0</td>\n      <td>42.0</td>\n      <td>6.0</td>\n      <td>lab+12.0</td>\n    </tr>\n    <tr>\n      <th>2742</th>\n      <td>2012-11-10</td>\n      <td>2012-11-13</td>\n      <td>Ipsos MORI</td>\n      <td>32.0</td>\n      <td>46.0</td>\n      <td>9.0</td>\n      <td>lab+14.0</td>\n    </tr>\n    <tr>\n      <th>2784</th>\n      <td>2012-09-30</td>\n      <td>2012-10-01</td>\n      <td>YouGov</td>\n      <td>34.0</td>\n      <td>43.0</td>\n      <td>9.0</td>\n      <td>lab+9.0</td>\n    </tr>\n  </tbody>\n</table>\n<p>184 rows × 7 columns</p>\n</div>"
     },
     "execution_count": 44,
     "metadata": {},
     "output_type": "execute_result"
    }
   ],
   "source": [
    "all_polls.query(\"labour + green >= 50\")[display_columns]"
   ]
  },
  {
   "cell_type": "code",
   "execution_count": 45,
   "metadata": {},
   "outputs": [
    {
     "data": {
      "text/plain": "     date_started date_concluded pollster  conservative  labour  \\\n10     2023-02-15     2023-02-17  Opinium          28.0    44.0   \n51     2023-01-11     2023-01-13  Opinium          29.0    45.0   \n71     2022-12-14     2022-12-16  Opinium          29.0    44.0   \n89     2022-11-30     2022-12-02  Opinium          29.0    43.0   \n107    2022-11-17     2022-11-18  Opinium          28.0    45.0   \n122    2022-11-02     2022-11-04  Opinium          28.0    46.0   \n132    2022-10-26     2022-10-28  Opinium          28.0    44.0   \n147    2022-10-19     2022-10-21  Opinium          23.0    50.0   \n167    2022-10-05     2022-10-07  Opinium          26.0    47.0   \n173    2022-09-29     2022-09-30  Opinium          27.0    46.0   \n413    2022-01-12     2022-01-14  Opinium          31.0    41.0   \n439    2021-12-08     2021-12-10  Opinium          32.0    41.0   \n684    2021-01-14     2021-01-15  Opinium          37.0    41.0   \n720    2020-11-05     2020-11-06  Opinium          38.0    42.0   \n745    2020-09-23     2020-09-25  Opinium          39.0    42.0   \n1259   2017-12-12     2017-12-14  Opinium          39.0    41.0   \n1273   2017-11-14     2017-11-16  Opinium          40.0    42.0   \n1283   2017-10-04     2017-10-06  Opinium          40.0    42.0   \n1294   2017-09-12     2017-09-15  Opinium          41.0    41.0   \n1301   2017-08-15     2017-08-18  Opinium          40.0    43.0   \n1309   2017-07-11     2017-07-14  Opinium          41.0    43.0   \n1314   2017-06-27     2017-06-29  Opinium          39.0    45.0   \n2640   2013-02-19     2013-02-21  Opinium          29.0    41.0   \n2672   2013-01-22     2013-01-24  Opinium          28.0    41.0   \n2687   2013-01-08     2013-01-11  Opinium          31.0    41.0   \n2753   2012-10-31     2012-11-01  Opinium          30.0    41.0   \n2780   2012-10-02     2012-10-04  Opinium          30.0    41.0   \n2793   2012-09-18     2012-09-21  Opinium          30.0    42.0   \n2810   2012-08-30     2012-08-31  Opinium          31.0    42.0   \n2849   2012-07-13     2012-07-16  Opinium          32.0    41.0   \n2863   2012-06-26     2012-06-28  Opinium          31.0    42.0   \n2879   2012-06-08     2012-06-11  Opinium          31.0    42.0   \n2901   2012-05-15     2012-05-17  Opinium          30.0    41.0   \n\n      liberal_democrat      lead  \n10                 9.0  lab+16.0  \n51                 9.0  lab+16.0  \n71                 9.0  lab+15.0  \n89                 8.0  lab+14.0  \n107                9.0  lab+17.0  \n122                8.0  lab+18.0  \n132               10.0  lab+16.0  \n147                9.0  lab+27.0  \n167               11.0  lab+21.0  \n173                9.0  lab+19.0  \n413                9.0  lab+10.0  \n439                9.0   lab+9.0  \n684                6.0   lab+4.0  \n720                7.0   lab+4.0  \n745                5.0   lab+3.0  \n1259               7.0   lab+2.0  \n1273               6.0   lab+2.0  \n1283               5.0   lab+2.0  \n1294               5.0       Tie  \n1301               6.0   lab+3.0  \n1309               5.0   lab+2.0  \n1314               5.0   lab+6.0  \n2640               8.0  lab+12.0  \n2672               8.0  lab+13.0  \n2687               7.0  lab+10.0  \n2753               9.0  lab+11.0  \n2780               9.0  lab+11.0  \n2793               8.0  lab+12.0  \n2810               8.0  lab+11.0  \n2849               9.0   lab+9.0  \n2863               8.0  lab+11.0  \n2879               9.0  lab+11.0  \n2901               9.0  lab+11.0  ",
      "text/html": "<div>\n<style scoped>\n    .dataframe tbody tr th:only-of-type {\n        vertical-align: middle;\n    }\n\n    .dataframe tbody tr th {\n        vertical-align: top;\n    }\n\n    .dataframe thead th {\n        text-align: right;\n    }\n</style>\n<table border=\"1\" class=\"dataframe\">\n  <thead>\n    <tr style=\"text-align: right;\">\n      <th></th>\n      <th>date_started</th>\n      <th>date_concluded</th>\n      <th>pollster</th>\n      <th>conservative</th>\n      <th>labour</th>\n      <th>liberal_democrat</th>\n      <th>lead</th>\n    </tr>\n  </thead>\n  <tbody>\n    <tr>\n      <th>10</th>\n      <td>2023-02-15</td>\n      <td>2023-02-17</td>\n      <td>Opinium</td>\n      <td>28.0</td>\n      <td>44.0</td>\n      <td>9.0</td>\n      <td>lab+16.0</td>\n    </tr>\n    <tr>\n      <th>51</th>\n      <td>2023-01-11</td>\n      <td>2023-01-13</td>\n      <td>Opinium</td>\n      <td>29.0</td>\n      <td>45.0</td>\n      <td>9.0</td>\n      <td>lab+16.0</td>\n    </tr>\n    <tr>\n      <th>71</th>\n      <td>2022-12-14</td>\n      <td>2022-12-16</td>\n      <td>Opinium</td>\n      <td>29.0</td>\n      <td>44.0</td>\n      <td>9.0</td>\n      <td>lab+15.0</td>\n    </tr>\n    <tr>\n      <th>89</th>\n      <td>2022-11-30</td>\n      <td>2022-12-02</td>\n      <td>Opinium</td>\n      <td>29.0</td>\n      <td>43.0</td>\n      <td>8.0</td>\n      <td>lab+14.0</td>\n    </tr>\n    <tr>\n      <th>107</th>\n      <td>2022-11-17</td>\n      <td>2022-11-18</td>\n      <td>Opinium</td>\n      <td>28.0</td>\n      <td>45.0</td>\n      <td>9.0</td>\n      <td>lab+17.0</td>\n    </tr>\n    <tr>\n      <th>122</th>\n      <td>2022-11-02</td>\n      <td>2022-11-04</td>\n      <td>Opinium</td>\n      <td>28.0</td>\n      <td>46.0</td>\n      <td>8.0</td>\n      <td>lab+18.0</td>\n    </tr>\n    <tr>\n      <th>132</th>\n      <td>2022-10-26</td>\n      <td>2022-10-28</td>\n      <td>Opinium</td>\n      <td>28.0</td>\n      <td>44.0</td>\n      <td>10.0</td>\n      <td>lab+16.0</td>\n    </tr>\n    <tr>\n      <th>147</th>\n      <td>2022-10-19</td>\n      <td>2022-10-21</td>\n      <td>Opinium</td>\n      <td>23.0</td>\n      <td>50.0</td>\n      <td>9.0</td>\n      <td>lab+27.0</td>\n    </tr>\n    <tr>\n      <th>167</th>\n      <td>2022-10-05</td>\n      <td>2022-10-07</td>\n      <td>Opinium</td>\n      <td>26.0</td>\n      <td>47.0</td>\n      <td>11.0</td>\n      <td>lab+21.0</td>\n    </tr>\n    <tr>\n      <th>173</th>\n      <td>2022-09-29</td>\n      <td>2022-09-30</td>\n      <td>Opinium</td>\n      <td>27.0</td>\n      <td>46.0</td>\n      <td>9.0</td>\n      <td>lab+19.0</td>\n    </tr>\n    <tr>\n      <th>413</th>\n      <td>2022-01-12</td>\n      <td>2022-01-14</td>\n      <td>Opinium</td>\n      <td>31.0</td>\n      <td>41.0</td>\n      <td>9.0</td>\n      <td>lab+10.0</td>\n    </tr>\n    <tr>\n      <th>439</th>\n      <td>2021-12-08</td>\n      <td>2021-12-10</td>\n      <td>Opinium</td>\n      <td>32.0</td>\n      <td>41.0</td>\n      <td>9.0</td>\n      <td>lab+9.0</td>\n    </tr>\n    <tr>\n      <th>684</th>\n      <td>2021-01-14</td>\n      <td>2021-01-15</td>\n      <td>Opinium</td>\n      <td>37.0</td>\n      <td>41.0</td>\n      <td>6.0</td>\n      <td>lab+4.0</td>\n    </tr>\n    <tr>\n      <th>720</th>\n      <td>2020-11-05</td>\n      <td>2020-11-06</td>\n      <td>Opinium</td>\n      <td>38.0</td>\n      <td>42.0</td>\n      <td>7.0</td>\n      <td>lab+4.0</td>\n    </tr>\n    <tr>\n      <th>745</th>\n      <td>2020-09-23</td>\n      <td>2020-09-25</td>\n      <td>Opinium</td>\n      <td>39.0</td>\n      <td>42.0</td>\n      <td>5.0</td>\n      <td>lab+3.0</td>\n    </tr>\n    <tr>\n      <th>1259</th>\n      <td>2017-12-12</td>\n      <td>2017-12-14</td>\n      <td>Opinium</td>\n      <td>39.0</td>\n      <td>41.0</td>\n      <td>7.0</td>\n      <td>lab+2.0</td>\n    </tr>\n    <tr>\n      <th>1273</th>\n      <td>2017-11-14</td>\n      <td>2017-11-16</td>\n      <td>Opinium</td>\n      <td>40.0</td>\n      <td>42.0</td>\n      <td>6.0</td>\n      <td>lab+2.0</td>\n    </tr>\n    <tr>\n      <th>1283</th>\n      <td>2017-10-04</td>\n      <td>2017-10-06</td>\n      <td>Opinium</td>\n      <td>40.0</td>\n      <td>42.0</td>\n      <td>5.0</td>\n      <td>lab+2.0</td>\n    </tr>\n    <tr>\n      <th>1294</th>\n      <td>2017-09-12</td>\n      <td>2017-09-15</td>\n      <td>Opinium</td>\n      <td>41.0</td>\n      <td>41.0</td>\n      <td>5.0</td>\n      <td>Tie</td>\n    </tr>\n    <tr>\n      <th>1301</th>\n      <td>2017-08-15</td>\n      <td>2017-08-18</td>\n      <td>Opinium</td>\n      <td>40.0</td>\n      <td>43.0</td>\n      <td>6.0</td>\n      <td>lab+3.0</td>\n    </tr>\n    <tr>\n      <th>1309</th>\n      <td>2017-07-11</td>\n      <td>2017-07-14</td>\n      <td>Opinium</td>\n      <td>41.0</td>\n      <td>43.0</td>\n      <td>5.0</td>\n      <td>lab+2.0</td>\n    </tr>\n    <tr>\n      <th>1314</th>\n      <td>2017-06-27</td>\n      <td>2017-06-29</td>\n      <td>Opinium</td>\n      <td>39.0</td>\n      <td>45.0</td>\n      <td>5.0</td>\n      <td>lab+6.0</td>\n    </tr>\n    <tr>\n      <th>2640</th>\n      <td>2013-02-19</td>\n      <td>2013-02-21</td>\n      <td>Opinium</td>\n      <td>29.0</td>\n      <td>41.0</td>\n      <td>8.0</td>\n      <td>lab+12.0</td>\n    </tr>\n    <tr>\n      <th>2672</th>\n      <td>2013-01-22</td>\n      <td>2013-01-24</td>\n      <td>Opinium</td>\n      <td>28.0</td>\n      <td>41.0</td>\n      <td>8.0</td>\n      <td>lab+13.0</td>\n    </tr>\n    <tr>\n      <th>2687</th>\n      <td>2013-01-08</td>\n      <td>2013-01-11</td>\n      <td>Opinium</td>\n      <td>31.0</td>\n      <td>41.0</td>\n      <td>7.0</td>\n      <td>lab+10.0</td>\n    </tr>\n    <tr>\n      <th>2753</th>\n      <td>2012-10-31</td>\n      <td>2012-11-01</td>\n      <td>Opinium</td>\n      <td>30.0</td>\n      <td>41.0</td>\n      <td>9.0</td>\n      <td>lab+11.0</td>\n    </tr>\n    <tr>\n      <th>2780</th>\n      <td>2012-10-02</td>\n      <td>2012-10-04</td>\n      <td>Opinium</td>\n      <td>30.0</td>\n      <td>41.0</td>\n      <td>9.0</td>\n      <td>lab+11.0</td>\n    </tr>\n    <tr>\n      <th>2793</th>\n      <td>2012-09-18</td>\n      <td>2012-09-21</td>\n      <td>Opinium</td>\n      <td>30.0</td>\n      <td>42.0</td>\n      <td>8.0</td>\n      <td>lab+12.0</td>\n    </tr>\n    <tr>\n      <th>2810</th>\n      <td>2012-08-30</td>\n      <td>2012-08-31</td>\n      <td>Opinium</td>\n      <td>31.0</td>\n      <td>42.0</td>\n      <td>8.0</td>\n      <td>lab+11.0</td>\n    </tr>\n    <tr>\n      <th>2849</th>\n      <td>2012-07-13</td>\n      <td>2012-07-16</td>\n      <td>Opinium</td>\n      <td>32.0</td>\n      <td>41.0</td>\n      <td>9.0</td>\n      <td>lab+9.0</td>\n    </tr>\n    <tr>\n      <th>2863</th>\n      <td>2012-06-26</td>\n      <td>2012-06-28</td>\n      <td>Opinium</td>\n      <td>31.0</td>\n      <td>42.0</td>\n      <td>8.0</td>\n      <td>lab+11.0</td>\n    </tr>\n    <tr>\n      <th>2879</th>\n      <td>2012-06-08</td>\n      <td>2012-06-11</td>\n      <td>Opinium</td>\n      <td>31.0</td>\n      <td>42.0</td>\n      <td>9.0</td>\n      <td>lab+11.0</td>\n    </tr>\n    <tr>\n      <th>2901</th>\n      <td>2012-05-15</td>\n      <td>2012-05-17</td>\n      <td>Opinium</td>\n      <td>30.0</td>\n      <td>41.0</td>\n      <td>9.0</td>\n      <td>lab+11.0</td>\n    </tr>\n  </tbody>\n</table>\n</div>"
     },
     "execution_count": 45,
     "metadata": {},
     "output_type": "execute_result"
    }
   ],
   "source": [
    "all_polls.query(\"pollster=='Opinium' and labour >= 41\")[display_columns]"
   ]
  },
  {
   "cell_type": "code",
   "execution_count": 46,
   "metadata": {},
   "outputs": [],
   "source": [
    "#all_polls.query(\"pollster == 'YouGov' and conservative <31\")[display_columns]"
   ]
  },
  {
   "cell_type": "code",
   "execution_count": 47,
   "metadata": {},
   "outputs": [],
   "source": [
    "reporting_date = 'date_started'"
   ]
  },
  {
   "cell_type": "code",
   "execution_count": 48,
   "metadata": {},
   "outputs": [],
   "source": [
    "most_recent_date = all_polls[reporting_date].max()\n",
    "one_year_polls = all_polls[\n",
    "    all_polls[reporting_date] >= (most_recent_date + relativedelta(months=-17)).replace(day=1)].copy()"
   ]
  },
  {
   "cell_type": "code",
   "execution_count": 80,
   "metadata": {},
   "outputs": [],
   "source": [
    "pollsters_latest = pd.DataFrame()\n",
    "for pollster in one_year_polls.pollster.unique():\n",
    "    pollster_data = one_year_polls.query(f'pollster == \"{pollster}\"')\n",
    "    latest_poll = pollster_data.iloc[0]\n",
    "    pollsters_latest = pd.concat([pollsters_latest, latest_poll], axis=0, ignore_index=True)"
   ]
  },
  {
   "cell_type": "code",
   "execution_count": 108,
   "outputs": [
    {
     "data": {
      "text/plain": "                        pollster date_started date_concluded  \\\n0                   BMG Research   2023-02-21     2023-02-23   \n1                      Deltapoll   2023-02-24     2023-02-27   \n2                   Find Out Now   2023-01-27     2023-02-05   \n3                      FocalData   2023-02-10     2023-02-12   \n4                     Ipsos MORI   2023-01-18     2023-01-25   \n5                    JL Partners   2022-10-19     2022-10-21   \n6                  Kantar Public   2023-02-16     2023-02-20   \n7       Number Cruncher Politics   2022-02-21     2022-02-28   \n8                        Omnisis   2023-02-22     2023-02-23   \n9                        Opinium   2023-02-15     2023-02-17   \n10                     Panelbase   2021-11-10     2021-11-19   \n11                 PeoplePolling   2023-02-22     2023-02-22   \n12  Redfield & Wilton Strategies   2023-02-26     2023-02-26   \n13                       Savanta   2023-02-17     2023-02-19   \n14                     Survation   2023-02-01     2023-02-06   \n15                     Techne UK   2023-02-22     2023-02-23   \n16                        YouGov   2023-02-14     2023-02-15   \n\n                client area sample_size  conservative  labour  \\\n0                  NaN   GB         TBC          29.0    46.0   \n1                  NaN   GB        1060          31.0    46.0   \n2   Electoral Calculus   GB       28191          23.0    48.0   \n3                  NaN   GB        1041          28.0    48.0   \n4                  NaN   UK        1001          26.0    51.0   \n5                  NaN   GB        2000          26.0    51.0   \n6                  NaN   GB        1120          28.0    45.0   \n7                  ITV   UK        2001          35.0    42.0   \n8                  NaN   GB        1248          24.0    48.0   \n9         The Observer   GB        1451          28.0    44.0   \n10                 NaN   GB        3888          38.0    39.0   \n11             GB News   UK        1192          20.0    46.0   \n12                 NaN   GB        2000          24.0    51.0   \n13                 NaN   UK        2103          31.0    45.0   \n14                 NaN   UK        1923          26.0    42.0   \n15                 NaN   GB        1633          27.0    49.0   \n16           The Times   GB         TBC          23.0    46.0   \n\n    liberal_democrat  alliance  ...  reclaim_party  others      lead  \\\n0                9.0       NaN  ...            NaN     NaN  lab+17.0   \n1                8.0       NaN  ...            NaN     NaN  lab+15.0   \n2               11.0       NaN  ...            NaN     NaN  lab+25.0   \n3                9.0       NaN  ...            NaN     2.0  lab+20.0   \n4                9.0       NaN  ...            NaN     NaN  lab+25.0   \n5                8.0       NaN  ...            NaN     4.0  lab+25.0   \n6                9.0       NaN  ...            NaN     NaN  lab+17.0   \n7                8.0       NaN  ...            NaN     2.0   lab+7.0   \n8               10.0       NaN  ...            NaN     1.0  lab+24.0   \n9                9.0       NaN  ...            NaN     2.0  lab+16.0   \n10               9.0       NaN  ...            NaN     4.0   lab+1.0   \n11               8.0       NaN  ...            NaN     4.0  lab+26.0   \n12               9.0       NaN  ...            NaN     1.0  lab+27.0   \n13               9.0       NaN  ...            NaN     4.0  lab+14.0   \n14              11.0       NaN  ...            NaN     4.0  lab+16.0   \n15               8.0       NaN  ...            NaN     3.0  lab+22.0   \n16               9.0       NaN  ...            NaN     2.0  lab+23.0   \n\n    lead_value  anti_conservative  maj_lead  maj_lead_in_row  dd_lead  \\\n0         17.0               59.0       0.0                0      1.0   \n1         15.0               54.0       0.0                0      1.0   \n2         25.0               68.0       0.0                0      1.0   \n3         20.0               64.0       0.0                0      1.0   \n4         25.0               72.0       1.0                2      1.0   \n5         25.0               67.0       1.0               19      1.0   \n6         17.0               66.0       0.0                0      1.0   \n7          7.0               62.0       0.0                0      0.0   \n8         24.0               67.0       0.0                0      1.0   \n9         16.0               63.0       0.0                0      1.0   \n10         1.0               59.0       0.0                0      0.0   \n11        26.0               67.0       0.0                0      1.0   \n12        27.0               68.0       1.0                1      1.0   \n13        14.0               60.0       0.0                0      1.0   \n14        16.0               63.0       0.0                0      1.0   \n15        22.0               65.0       0.0                0      1.0   \n16        23.0               66.0       0.0                0      1.0   \n\n    dd_in_row  poll_month  \n0         184  2023-02-01  \n1         184  2023-02-01  \n2         184  2023-01-01  \n3         184  2023-02-01  \n4         184  2023-01-01  \n5         184  2022-10-01  \n6         184  2023-02-01  \n7           0  2022-02-01  \n8         184  2023-02-01  \n9         184  2023-02-01  \n10          0  2021-11-01  \n11        184  2023-02-01  \n12        184  2023-02-01  \n13        184  2023-02-01  \n14        184  2023-02-01  \n15        184  2023-02-01  \n16        184  2023-02-01  \n\n[17 rows x 29 columns]",
      "text/html": "<div>\n<style scoped>\n    .dataframe tbody tr th:only-of-type {\n        vertical-align: middle;\n    }\n\n    .dataframe tbody tr th {\n        vertical-align: top;\n    }\n\n    .dataframe thead th {\n        text-align: right;\n    }\n</style>\n<table border=\"1\" class=\"dataframe\">\n  <thead>\n    <tr style=\"text-align: right;\">\n      <th></th>\n      <th>pollster</th>\n      <th>date_started</th>\n      <th>date_concluded</th>\n      <th>client</th>\n      <th>area</th>\n      <th>sample_size</th>\n      <th>conservative</th>\n      <th>labour</th>\n      <th>liberal_democrat</th>\n      <th>alliance</th>\n      <th>...</th>\n      <th>reclaim_party</th>\n      <th>others</th>\n      <th>lead</th>\n      <th>lead_value</th>\n      <th>anti_conservative</th>\n      <th>maj_lead</th>\n      <th>maj_lead_in_row</th>\n      <th>dd_lead</th>\n      <th>dd_in_row</th>\n      <th>poll_month</th>\n    </tr>\n  </thead>\n  <tbody>\n    <tr>\n      <th>0</th>\n      <td>BMG Research</td>\n      <td>2023-02-21</td>\n      <td>2023-02-23</td>\n      <td>NaN</td>\n      <td>GB</td>\n      <td>TBC</td>\n      <td>29.0</td>\n      <td>46.0</td>\n      <td>9.0</td>\n      <td>NaN</td>\n      <td>...</td>\n      <td>NaN</td>\n      <td>NaN</td>\n      <td>lab+17.0</td>\n      <td>17.0</td>\n      <td>59.0</td>\n      <td>0.0</td>\n      <td>0</td>\n      <td>1.0</td>\n      <td>184</td>\n      <td>2023-02-01</td>\n    </tr>\n    <tr>\n      <th>1</th>\n      <td>Deltapoll</td>\n      <td>2023-02-24</td>\n      <td>2023-02-27</td>\n      <td>NaN</td>\n      <td>GB</td>\n      <td>1060</td>\n      <td>31.0</td>\n      <td>46.0</td>\n      <td>8.0</td>\n      <td>NaN</td>\n      <td>...</td>\n      <td>NaN</td>\n      <td>NaN</td>\n      <td>lab+15.0</td>\n      <td>15.0</td>\n      <td>54.0</td>\n      <td>0.0</td>\n      <td>0</td>\n      <td>1.0</td>\n      <td>184</td>\n      <td>2023-02-01</td>\n    </tr>\n    <tr>\n      <th>2</th>\n      <td>Find Out Now</td>\n      <td>2023-01-27</td>\n      <td>2023-02-05</td>\n      <td>Electoral Calculus</td>\n      <td>GB</td>\n      <td>28191</td>\n      <td>23.0</td>\n      <td>48.0</td>\n      <td>11.0</td>\n      <td>NaN</td>\n      <td>...</td>\n      <td>NaN</td>\n      <td>NaN</td>\n      <td>lab+25.0</td>\n      <td>25.0</td>\n      <td>68.0</td>\n      <td>0.0</td>\n      <td>0</td>\n      <td>1.0</td>\n      <td>184</td>\n      <td>2023-01-01</td>\n    </tr>\n    <tr>\n      <th>3</th>\n      <td>FocalData</td>\n      <td>2023-02-10</td>\n      <td>2023-02-12</td>\n      <td>NaN</td>\n      <td>GB</td>\n      <td>1041</td>\n      <td>28.0</td>\n      <td>48.0</td>\n      <td>9.0</td>\n      <td>NaN</td>\n      <td>...</td>\n      <td>NaN</td>\n      <td>2.0</td>\n      <td>lab+20.0</td>\n      <td>20.0</td>\n      <td>64.0</td>\n      <td>0.0</td>\n      <td>0</td>\n      <td>1.0</td>\n      <td>184</td>\n      <td>2023-02-01</td>\n    </tr>\n    <tr>\n      <th>4</th>\n      <td>Ipsos MORI</td>\n      <td>2023-01-18</td>\n      <td>2023-01-25</td>\n      <td>NaN</td>\n      <td>UK</td>\n      <td>1001</td>\n      <td>26.0</td>\n      <td>51.0</td>\n      <td>9.0</td>\n      <td>NaN</td>\n      <td>...</td>\n      <td>NaN</td>\n      <td>NaN</td>\n      <td>lab+25.0</td>\n      <td>25.0</td>\n      <td>72.0</td>\n      <td>1.0</td>\n      <td>2</td>\n      <td>1.0</td>\n      <td>184</td>\n      <td>2023-01-01</td>\n    </tr>\n    <tr>\n      <th>5</th>\n      <td>JL Partners</td>\n      <td>2022-10-19</td>\n      <td>2022-10-21</td>\n      <td>NaN</td>\n      <td>GB</td>\n      <td>2000</td>\n      <td>26.0</td>\n      <td>51.0</td>\n      <td>8.0</td>\n      <td>NaN</td>\n      <td>...</td>\n      <td>NaN</td>\n      <td>4.0</td>\n      <td>lab+25.0</td>\n      <td>25.0</td>\n      <td>67.0</td>\n      <td>1.0</td>\n      <td>19</td>\n      <td>1.0</td>\n      <td>184</td>\n      <td>2022-10-01</td>\n    </tr>\n    <tr>\n      <th>6</th>\n      <td>Kantar Public</td>\n      <td>2023-02-16</td>\n      <td>2023-02-20</td>\n      <td>NaN</td>\n      <td>GB</td>\n      <td>1120</td>\n      <td>28.0</td>\n      <td>45.0</td>\n      <td>9.0</td>\n      <td>NaN</td>\n      <td>...</td>\n      <td>NaN</td>\n      <td>NaN</td>\n      <td>lab+17.0</td>\n      <td>17.0</td>\n      <td>66.0</td>\n      <td>0.0</td>\n      <td>0</td>\n      <td>1.0</td>\n      <td>184</td>\n      <td>2023-02-01</td>\n    </tr>\n    <tr>\n      <th>7</th>\n      <td>Number Cruncher Politics</td>\n      <td>2022-02-21</td>\n      <td>2022-02-28</td>\n      <td>ITV</td>\n      <td>UK</td>\n      <td>2001</td>\n      <td>35.0</td>\n      <td>42.0</td>\n      <td>8.0</td>\n      <td>NaN</td>\n      <td>...</td>\n      <td>NaN</td>\n      <td>2.0</td>\n      <td>lab+7.0</td>\n      <td>7.0</td>\n      <td>62.0</td>\n      <td>0.0</td>\n      <td>0</td>\n      <td>0.0</td>\n      <td>0</td>\n      <td>2022-02-01</td>\n    </tr>\n    <tr>\n      <th>8</th>\n      <td>Omnisis</td>\n      <td>2023-02-22</td>\n      <td>2023-02-23</td>\n      <td>NaN</td>\n      <td>GB</td>\n      <td>1248</td>\n      <td>24.0</td>\n      <td>48.0</td>\n      <td>10.0</td>\n      <td>NaN</td>\n      <td>...</td>\n      <td>NaN</td>\n      <td>1.0</td>\n      <td>lab+24.0</td>\n      <td>24.0</td>\n      <td>67.0</td>\n      <td>0.0</td>\n      <td>0</td>\n      <td>1.0</td>\n      <td>184</td>\n      <td>2023-02-01</td>\n    </tr>\n    <tr>\n      <th>9</th>\n      <td>Opinium</td>\n      <td>2023-02-15</td>\n      <td>2023-02-17</td>\n      <td>The Observer</td>\n      <td>GB</td>\n      <td>1451</td>\n      <td>28.0</td>\n      <td>44.0</td>\n      <td>9.0</td>\n      <td>NaN</td>\n      <td>...</td>\n      <td>NaN</td>\n      <td>2.0</td>\n      <td>lab+16.0</td>\n      <td>16.0</td>\n      <td>63.0</td>\n      <td>0.0</td>\n      <td>0</td>\n      <td>1.0</td>\n      <td>184</td>\n      <td>2023-02-01</td>\n    </tr>\n    <tr>\n      <th>10</th>\n      <td>Panelbase</td>\n      <td>2021-11-10</td>\n      <td>2021-11-19</td>\n      <td>NaN</td>\n      <td>GB</td>\n      <td>3888</td>\n      <td>38.0</td>\n      <td>39.0</td>\n      <td>9.0</td>\n      <td>NaN</td>\n      <td>...</td>\n      <td>NaN</td>\n      <td>4.0</td>\n      <td>lab+1.0</td>\n      <td>1.0</td>\n      <td>59.0</td>\n      <td>0.0</td>\n      <td>0</td>\n      <td>0.0</td>\n      <td>0</td>\n      <td>2021-11-01</td>\n    </tr>\n    <tr>\n      <th>11</th>\n      <td>PeoplePolling</td>\n      <td>2023-02-22</td>\n      <td>2023-02-22</td>\n      <td>GB News</td>\n      <td>UK</td>\n      <td>1192</td>\n      <td>20.0</td>\n      <td>46.0</td>\n      <td>8.0</td>\n      <td>NaN</td>\n      <td>...</td>\n      <td>NaN</td>\n      <td>4.0</td>\n      <td>lab+26.0</td>\n      <td>26.0</td>\n      <td>67.0</td>\n      <td>0.0</td>\n      <td>0</td>\n      <td>1.0</td>\n      <td>184</td>\n      <td>2023-02-01</td>\n    </tr>\n    <tr>\n      <th>12</th>\n      <td>Redfield &amp; Wilton Strategies</td>\n      <td>2023-02-26</td>\n      <td>2023-02-26</td>\n      <td>NaN</td>\n      <td>GB</td>\n      <td>2000</td>\n      <td>24.0</td>\n      <td>51.0</td>\n      <td>9.0</td>\n      <td>NaN</td>\n      <td>...</td>\n      <td>NaN</td>\n      <td>1.0</td>\n      <td>lab+27.0</td>\n      <td>27.0</td>\n      <td>68.0</td>\n      <td>1.0</td>\n      <td>1</td>\n      <td>1.0</td>\n      <td>184</td>\n      <td>2023-02-01</td>\n    </tr>\n    <tr>\n      <th>13</th>\n      <td>Savanta</td>\n      <td>2023-02-17</td>\n      <td>2023-02-19</td>\n      <td>NaN</td>\n      <td>UK</td>\n      <td>2103</td>\n      <td>31.0</td>\n      <td>45.0</td>\n      <td>9.0</td>\n      <td>NaN</td>\n      <td>...</td>\n      <td>NaN</td>\n      <td>4.0</td>\n      <td>lab+14.0</td>\n      <td>14.0</td>\n      <td>60.0</td>\n      <td>0.0</td>\n      <td>0</td>\n      <td>1.0</td>\n      <td>184</td>\n      <td>2023-02-01</td>\n    </tr>\n    <tr>\n      <th>14</th>\n      <td>Survation</td>\n      <td>2023-02-01</td>\n      <td>2023-02-06</td>\n      <td>NaN</td>\n      <td>UK</td>\n      <td>1923</td>\n      <td>26.0</td>\n      <td>42.0</td>\n      <td>11.0</td>\n      <td>NaN</td>\n      <td>...</td>\n      <td>NaN</td>\n      <td>4.0</td>\n      <td>lab+16.0</td>\n      <td>16.0</td>\n      <td>63.0</td>\n      <td>0.0</td>\n      <td>0</td>\n      <td>1.0</td>\n      <td>184</td>\n      <td>2023-02-01</td>\n    </tr>\n    <tr>\n      <th>15</th>\n      <td>Techne UK</td>\n      <td>2023-02-22</td>\n      <td>2023-02-23</td>\n      <td>NaN</td>\n      <td>GB</td>\n      <td>1633</td>\n      <td>27.0</td>\n      <td>49.0</td>\n      <td>8.0</td>\n      <td>NaN</td>\n      <td>...</td>\n      <td>NaN</td>\n      <td>3.0</td>\n      <td>lab+22.0</td>\n      <td>22.0</td>\n      <td>65.0</td>\n      <td>0.0</td>\n      <td>0</td>\n      <td>1.0</td>\n      <td>184</td>\n      <td>2023-02-01</td>\n    </tr>\n    <tr>\n      <th>16</th>\n      <td>YouGov</td>\n      <td>2023-02-14</td>\n      <td>2023-02-15</td>\n      <td>The Times</td>\n      <td>GB</td>\n      <td>TBC</td>\n      <td>23.0</td>\n      <td>46.0</td>\n      <td>9.0</td>\n      <td>NaN</td>\n      <td>...</td>\n      <td>NaN</td>\n      <td>2.0</td>\n      <td>lab+23.0</td>\n      <td>23.0</td>\n      <td>66.0</td>\n      <td>0.0</td>\n      <td>0</td>\n      <td>1.0</td>\n      <td>184</td>\n      <td>2023-02-01</td>\n    </tr>\n  </tbody>\n</table>\n<p>17 rows × 29 columns</p>\n</div>"
     },
     "execution_count": 108,
     "metadata": {},
     "output_type": "execute_result"
    }
   ],
   "source": [
    "one_year_polls.groupby('pollster').nth(0).reset_index()"
   ],
   "metadata": {
    "collapsed": false
   }
  },
  {
   "cell_type": "code",
   "execution_count": 104,
   "outputs": [],
   "source": [
    "pollsters_latest = one_year_polls.groupby('pollster').nth(1).reset_index()"
   ],
   "metadata": {
    "collapsed": false
   }
  },
  {
   "cell_type": "code",
   "execution_count": 106,
   "outputs": [
    {
     "data": {
      "text/plain": "    date_started date_concluded pollster        client area sample_size  \\\n10    2023-02-15     2023-02-17  Opinium  The Observer   GB        1451   \n51    2023-01-11     2023-01-13  Opinium  The Observer   GB        2000   \n71    2022-12-14     2022-12-16  Opinium  The Observer   GB        2000   \n89    2022-11-30     2022-12-02  Opinium  The Observer   GB        2000   \n107   2022-11-17     2022-11-18  Opinium  The Observer   GB        1484   \n122   2022-11-02     2022-11-04  Opinium  The Observer   UK        1445   \n132   2022-10-26     2022-10-28  Opinium  The Observer   UK        1499   \n147   2022-10-19     2022-10-21  Opinium  The Observer   UK        2023   \n167   2022-10-05     2022-10-07  Opinium  The Observer   UK        2023   \n173   2022-09-29     2022-09-30  Opinium  The Observer   UK        1468   \n189   2022-09-21     2022-09-23  Opinium           NaN   UK        1491   \n210   2022-09-01     2022-09-02  Opinium  The Observer   UK        1516   \n224   2022-08-18     2022-08-19  Opinium  The Observer   UK        1527   \n230   2022-08-03     2022-08-08  Opinium  The Observer   GB        2010   \n245   2022-07-21     2022-07-22  Opinium  The Observer   GB        2001   \n258   2022-07-06     2022-07-08  Opinium  The Observer   GB        2000   \n273   2022-06-22     2022-06-24  Opinium  The Observer   GB        2000   \n287   2022-06-08     2022-06-10  Opinium  The Observer   GB        2002   \n297   2022-05-25     2022-05-27  Opinium  The Observer   GB        2000   \n311   2022-05-11     2022-05-13  Opinium  The Observer   GB        2000   \n324   2022-04-14     2022-04-26  Opinium           NaN   GB        4000   \n327   2022-04-20     2022-04-22  Opinium  The Observer   GB        2002   \n337   2022-04-06     2022-04-08  Opinium  The Observer   GB        2004   \n348   2022-03-23     2022-03-25  Opinium  The Observer   GB        2002   \n359   2022-03-09     2022-03-11  Opinium  The Observer   GB        2007   \n371   2022-02-23     2022-02-25  Opinium  The Observer   GB        2068   \n385   2022-02-09     2022-02-11  Opinium  The Observer   GB        1526   \n395   2022-01-27     2022-01-28  Opinium  The Observer   GB        1647   \n413   2022-01-12     2022-01-14  Opinium  The Observer   UK        1271   \n421   2022-01-05     2022-01-07  Opinium  The Observer   UK        1326   \n425   2021-12-21     2021-12-23  Opinium  The Observer   UK        1216   \n439   2021-12-08     2021-12-10  Opinium  The Observer   UK        2042   \n455   2021-11-24     2021-11-26  Opinium  The Observer   UK        1990   \n465   2021-11-10     2021-11-12  Opinium  The Observer   UK        1175   \n472   2021-11-05     2021-11-06  Opinium  The Observer   GB        1175   \n479   2021-10-27     2021-10-29  Opinium  The Observer   GB        2001   \n489   2021-10-13     2021-10-15  Opinium  The Observer   GB        2000   \n499   2021-09-29     2021-10-01  Opinium  The Observer   GB        2004   \n509   2021-09-16     2021-09-17  Opinium  The Observer   GB        2000   \n515   2021-09-09     2021-09-11  Opinium  The Observer   GB        2059   \n523   2021-09-02     2021-09-03  Opinium  The Observer   GB        2014   \n\n     conservative  labour  liberal_democrat  alliance  ...  reclaim_party  \\\n10           28.0    44.0               9.0       NaN  ...            NaN   \n51           29.0    45.0               9.0       NaN  ...            NaN   \n71           29.0    44.0               9.0       NaN  ...            NaN   \n89           29.0    43.0               8.0       NaN  ...            NaN   \n107          28.0    45.0               9.0       NaN  ...            NaN   \n122          28.0    46.0               8.0       NaN  ...            NaN   \n132          28.0    44.0              10.0       NaN  ...            NaN   \n147          23.0    50.0               9.0       NaN  ...            NaN   \n167          26.0    47.0              11.0       NaN  ...            NaN   \n173          27.0    46.0               9.0       NaN  ...            NaN   \n189          34.0    39.0              10.0       NaN  ...            NaN   \n210          34.0    38.0              12.0       NaN  ...            NaN   \n224          31.0    39.0              10.0       NaN  ...            NaN   \n230          34.0    37.0              12.0       NaN  ...            NaN   \n245          34.0    37.0              13.0       NaN  ...            NaN   \n258          33.0    38.0              12.0       NaN  ...            NaN   \n273          34.0    37.0              11.0       NaN  ...            NaN   \n287          34.0    36.0              13.0       NaN  ...            NaN   \n297          33.0    36.0              11.0       NaN  ...            NaN   \n311          34.0    37.0              12.0       NaN  ...            NaN   \n324          35.0    37.0              10.0       NaN  ...            NaN   \n327          34.0    36.0              10.0       NaN  ...            NaN   \n337          34.0    38.0              10.0       NaN  ...            NaN   \n348          36.0    38.0               9.0       NaN  ...            NaN   \n359          35.0    37.0               9.0       NaN  ...            NaN   \n371          34.0    38.0              11.0       NaN  ...            NaN   \n385          34.0    37.0              11.0       NaN  ...            NaN   \n395          34.0    39.0               9.0       NaN  ...            NaN   \n413          31.0    41.0               9.0       NaN  ...            NaN   \n421          34.0    39.0              11.0       NaN  ...            NaN   \n425          32.0    39.0              11.0       NaN  ...            NaN   \n439          32.0    41.0               9.0       NaN  ...            NaN   \n455          36.0    38.0               8.0       NaN  ...            NaN   \n465          36.0    37.0               9.0       NaN  ...            NaN   \n472          37.0    36.0               9.0       NaN  ...            NaN   \n479          40.0    35.0               8.0       NaN  ...            NaN   \n489          41.0    37.0               7.0       NaN  ...            NaN   \n499          39.0    35.0               8.0       NaN  ...            NaN   \n509          40.0    37.0               7.0       NaN  ...            NaN   \n515          38.0    38.0               8.0       NaN  ...            NaN   \n523          40.0    35.0               7.0       NaN  ...            NaN   \n\n     others      lead  lead_value  anti_conservative  maj_lead  \\\n10      2.0  lab+16.0        16.0               63.0       0.0   \n51      2.0  lab+16.0        16.0               63.0       0.0   \n71      2.0  lab+15.0        15.0               62.0       0.0   \n89      2.0  lab+14.0        14.0               62.0       0.0   \n107     3.0  lab+17.0        17.0               61.0       0.0   \n122     7.0  lab+18.0        18.0               64.0       0.0   \n132     8.0  lab+16.0        16.0               63.0       0.0   \n147     6.0  lab+27.0        27.0               68.0       1.0   \n167     6.0  lab+21.0        21.0               67.0       0.0   \n173     6.0  lab+19.0        19.0               66.0       0.0   \n189     5.0   lab+5.0         5.0               61.0       0.0   \n210     6.0   lab+4.0         4.0               61.0       0.0   \n224     8.0   lab+8.0         8.0               60.0       0.0   \n230     7.0   lab+3.0         3.0               60.0       0.0   \n245     6.0   lab+3.0         3.0               61.0       0.0   \n258     7.0   lab+5.0         5.0               60.0       0.0   \n273     7.0   lab+3.0         3.0               59.0       0.0   \n287     7.0   lab+2.0         2.0               59.0       0.0   \n297     8.0   lab+3.0         3.0               60.0       0.0   \n311     6.0   lab+3.0         3.0               61.0       0.0   \n324     NaN   lab+2.0         2.0               54.0       0.0   \n327     7.0   lab+2.0         2.0               59.0       0.0   \n337     7.0   lab+4.0         4.0               60.0       0.0   \n348     6.0   lab+2.0         2.0               59.0       0.0   \n359     7.0   lab+2.0         2.0               58.0       0.0   \n371     5.0   lab+4.0         4.0               60.0       0.0   \n385     8.0   lab+3.0         3.0               58.0       0.0   \n395     6.0   lab+5.0         5.0               59.0       0.0   \n413     8.0  lab+10.0        10.0               61.0       0.0   \n421     6.0   lab+5.0         5.0               60.0       0.0   \n425     7.0   lab+7.0         7.0               62.0       0.0   \n439     8.0   lab+9.0         9.0               60.0       0.0   \n455     7.0   lab+2.0         2.0               58.0       0.0   \n465     5.0   lab+1.0         1.0               59.0       0.0   \n472     6.0   con+1.0         1.0               57.0       0.0   \n479     5.0   con+5.0         5.0               56.0       0.0   \n489     4.0   con+4.0         4.0               55.0       0.0   \n499     5.0   con+4.0         4.0               56.0       0.0   \n509     4.0   con+3.0         3.0               56.0       0.0   \n515     5.0       Tie         0.0               57.0       0.0   \n523     6.0   con+5.0         5.0               54.0       0.0   \n\n     maj_lead_in_row  dd_lead  dd_in_row  poll_month  \n10                 0      1.0        184  2023-02-01  \n51                 0      1.0        184  2023-01-01  \n71                 0      1.0        184  2022-12-01  \n89                 0      1.0        184  2022-11-01  \n107                0      1.0        184  2022-11-01  \n122                0      1.0        184  2022-11-01  \n132                0      1.0        184  2022-10-01  \n147               19      1.0        184  2022-10-01  \n167                0      1.0        184  2022-10-01  \n173                0      1.0        184  2022-09-01  \n189                0      0.0          0  2022-09-01  \n210                0      0.0          0  2022-09-01  \n224                0      0.0          0  2022-08-01  \n230                0      0.0          0  2022-08-01  \n245                0      0.0          0  2022-07-01  \n258                0      0.0          0  2022-07-01  \n273                0      0.0          0  2022-06-01  \n287                0      0.0          0  2022-06-01  \n297                0      0.0          0  2022-05-01  \n311                0      0.0          0  2022-05-01  \n324                0      0.0          0  2022-04-01  \n327                0      0.0          0  2022-04-01  \n337                0      0.0          0  2022-04-01  \n348                0      0.0          0  2022-03-01  \n359                0      0.0          0  2022-03-01  \n371                0      0.0          0  2022-02-01  \n385                0      0.0          0  2022-02-01  \n395                0      0.0          0  2022-01-01  \n413                0      1.0          2  2022-01-01  \n421                0      0.0          0  2022-01-01  \n425                0      0.0          0  2021-12-01  \n439                0      0.0          0  2021-12-01  \n455                0      0.0          0  2021-11-01  \n465                0      0.0          0  2021-11-01  \n472                0      0.0          0  2021-11-01  \n479                0      0.0          0  2021-10-01  \n489                0      0.0          0  2021-10-01  \n499                0      0.0          0  2021-09-01  \n509                0      0.0          0  2021-09-01  \n515                0      0.0          0  2021-09-01  \n523                0      0.0          0  2021-09-01  \n\n[41 rows x 29 columns]",
      "text/html": "<div>\n<style scoped>\n    .dataframe tbody tr th:only-of-type {\n        vertical-align: middle;\n    }\n\n    .dataframe tbody tr th {\n        vertical-align: top;\n    }\n\n    .dataframe thead th {\n        text-align: right;\n    }\n</style>\n<table border=\"1\" class=\"dataframe\">\n  <thead>\n    <tr style=\"text-align: right;\">\n      <th></th>\n      <th>date_started</th>\n      <th>date_concluded</th>\n      <th>pollster</th>\n      <th>client</th>\n      <th>area</th>\n      <th>sample_size</th>\n      <th>conservative</th>\n      <th>labour</th>\n      <th>liberal_democrat</th>\n      <th>alliance</th>\n      <th>...</th>\n      <th>reclaim_party</th>\n      <th>others</th>\n      <th>lead</th>\n      <th>lead_value</th>\n      <th>anti_conservative</th>\n      <th>maj_lead</th>\n      <th>maj_lead_in_row</th>\n      <th>dd_lead</th>\n      <th>dd_in_row</th>\n      <th>poll_month</th>\n    </tr>\n  </thead>\n  <tbody>\n    <tr>\n      <th>10</th>\n      <td>2023-02-15</td>\n      <td>2023-02-17</td>\n      <td>Opinium</td>\n      <td>The Observer</td>\n      <td>GB</td>\n      <td>1451</td>\n      <td>28.0</td>\n      <td>44.0</td>\n      <td>9.0</td>\n      <td>NaN</td>\n      <td>...</td>\n      <td>NaN</td>\n      <td>2.0</td>\n      <td>lab+16.0</td>\n      <td>16.0</td>\n      <td>63.0</td>\n      <td>0.0</td>\n      <td>0</td>\n      <td>1.0</td>\n      <td>184</td>\n      <td>2023-02-01</td>\n    </tr>\n    <tr>\n      <th>51</th>\n      <td>2023-01-11</td>\n      <td>2023-01-13</td>\n      <td>Opinium</td>\n      <td>The Observer</td>\n      <td>GB</td>\n      <td>2000</td>\n      <td>29.0</td>\n      <td>45.0</td>\n      <td>9.0</td>\n      <td>NaN</td>\n      <td>...</td>\n      <td>NaN</td>\n      <td>2.0</td>\n      <td>lab+16.0</td>\n      <td>16.0</td>\n      <td>63.0</td>\n      <td>0.0</td>\n      <td>0</td>\n      <td>1.0</td>\n      <td>184</td>\n      <td>2023-01-01</td>\n    </tr>\n    <tr>\n      <th>71</th>\n      <td>2022-12-14</td>\n      <td>2022-12-16</td>\n      <td>Opinium</td>\n      <td>The Observer</td>\n      <td>GB</td>\n      <td>2000</td>\n      <td>29.0</td>\n      <td>44.0</td>\n      <td>9.0</td>\n      <td>NaN</td>\n      <td>...</td>\n      <td>NaN</td>\n      <td>2.0</td>\n      <td>lab+15.0</td>\n      <td>15.0</td>\n      <td>62.0</td>\n      <td>0.0</td>\n      <td>0</td>\n      <td>1.0</td>\n      <td>184</td>\n      <td>2022-12-01</td>\n    </tr>\n    <tr>\n      <th>89</th>\n      <td>2022-11-30</td>\n      <td>2022-12-02</td>\n      <td>Opinium</td>\n      <td>The Observer</td>\n      <td>GB</td>\n      <td>2000</td>\n      <td>29.0</td>\n      <td>43.0</td>\n      <td>8.0</td>\n      <td>NaN</td>\n      <td>...</td>\n      <td>NaN</td>\n      <td>2.0</td>\n      <td>lab+14.0</td>\n      <td>14.0</td>\n      <td>62.0</td>\n      <td>0.0</td>\n      <td>0</td>\n      <td>1.0</td>\n      <td>184</td>\n      <td>2022-11-01</td>\n    </tr>\n    <tr>\n      <th>107</th>\n      <td>2022-11-17</td>\n      <td>2022-11-18</td>\n      <td>Opinium</td>\n      <td>The Observer</td>\n      <td>GB</td>\n      <td>1484</td>\n      <td>28.0</td>\n      <td>45.0</td>\n      <td>9.0</td>\n      <td>NaN</td>\n      <td>...</td>\n      <td>NaN</td>\n      <td>3.0</td>\n      <td>lab+17.0</td>\n      <td>17.0</td>\n      <td>61.0</td>\n      <td>0.0</td>\n      <td>0</td>\n      <td>1.0</td>\n      <td>184</td>\n      <td>2022-11-01</td>\n    </tr>\n    <tr>\n      <th>122</th>\n      <td>2022-11-02</td>\n      <td>2022-11-04</td>\n      <td>Opinium</td>\n      <td>The Observer</td>\n      <td>UK</td>\n      <td>1445</td>\n      <td>28.0</td>\n      <td>46.0</td>\n      <td>8.0</td>\n      <td>NaN</td>\n      <td>...</td>\n      <td>NaN</td>\n      <td>7.0</td>\n      <td>lab+18.0</td>\n      <td>18.0</td>\n      <td>64.0</td>\n      <td>0.0</td>\n      <td>0</td>\n      <td>1.0</td>\n      <td>184</td>\n      <td>2022-11-01</td>\n    </tr>\n    <tr>\n      <th>132</th>\n      <td>2022-10-26</td>\n      <td>2022-10-28</td>\n      <td>Opinium</td>\n      <td>The Observer</td>\n      <td>UK</td>\n      <td>1499</td>\n      <td>28.0</td>\n      <td>44.0</td>\n      <td>10.0</td>\n      <td>NaN</td>\n      <td>...</td>\n      <td>NaN</td>\n      <td>8.0</td>\n      <td>lab+16.0</td>\n      <td>16.0</td>\n      <td>63.0</td>\n      <td>0.0</td>\n      <td>0</td>\n      <td>1.0</td>\n      <td>184</td>\n      <td>2022-10-01</td>\n    </tr>\n    <tr>\n      <th>147</th>\n      <td>2022-10-19</td>\n      <td>2022-10-21</td>\n      <td>Opinium</td>\n      <td>The Observer</td>\n      <td>UK</td>\n      <td>2023</td>\n      <td>23.0</td>\n      <td>50.0</td>\n      <td>9.0</td>\n      <td>NaN</td>\n      <td>...</td>\n      <td>NaN</td>\n      <td>6.0</td>\n      <td>lab+27.0</td>\n      <td>27.0</td>\n      <td>68.0</td>\n      <td>1.0</td>\n      <td>19</td>\n      <td>1.0</td>\n      <td>184</td>\n      <td>2022-10-01</td>\n    </tr>\n    <tr>\n      <th>167</th>\n      <td>2022-10-05</td>\n      <td>2022-10-07</td>\n      <td>Opinium</td>\n      <td>The Observer</td>\n      <td>UK</td>\n      <td>2023</td>\n      <td>26.0</td>\n      <td>47.0</td>\n      <td>11.0</td>\n      <td>NaN</td>\n      <td>...</td>\n      <td>NaN</td>\n      <td>6.0</td>\n      <td>lab+21.0</td>\n      <td>21.0</td>\n      <td>67.0</td>\n      <td>0.0</td>\n      <td>0</td>\n      <td>1.0</td>\n      <td>184</td>\n      <td>2022-10-01</td>\n    </tr>\n    <tr>\n      <th>173</th>\n      <td>2022-09-29</td>\n      <td>2022-09-30</td>\n      <td>Opinium</td>\n      <td>The Observer</td>\n      <td>UK</td>\n      <td>1468</td>\n      <td>27.0</td>\n      <td>46.0</td>\n      <td>9.0</td>\n      <td>NaN</td>\n      <td>...</td>\n      <td>NaN</td>\n      <td>6.0</td>\n      <td>lab+19.0</td>\n      <td>19.0</td>\n      <td>66.0</td>\n      <td>0.0</td>\n      <td>0</td>\n      <td>1.0</td>\n      <td>184</td>\n      <td>2022-09-01</td>\n    </tr>\n    <tr>\n      <th>189</th>\n      <td>2022-09-21</td>\n      <td>2022-09-23</td>\n      <td>Opinium</td>\n      <td>NaN</td>\n      <td>UK</td>\n      <td>1491</td>\n      <td>34.0</td>\n      <td>39.0</td>\n      <td>10.0</td>\n      <td>NaN</td>\n      <td>...</td>\n      <td>NaN</td>\n      <td>5.0</td>\n      <td>lab+5.0</td>\n      <td>5.0</td>\n      <td>61.0</td>\n      <td>0.0</td>\n      <td>0</td>\n      <td>0.0</td>\n      <td>0</td>\n      <td>2022-09-01</td>\n    </tr>\n    <tr>\n      <th>210</th>\n      <td>2022-09-01</td>\n      <td>2022-09-02</td>\n      <td>Opinium</td>\n      <td>The Observer</td>\n      <td>UK</td>\n      <td>1516</td>\n      <td>34.0</td>\n      <td>38.0</td>\n      <td>12.0</td>\n      <td>NaN</td>\n      <td>...</td>\n      <td>NaN</td>\n      <td>6.0</td>\n      <td>lab+4.0</td>\n      <td>4.0</td>\n      <td>61.0</td>\n      <td>0.0</td>\n      <td>0</td>\n      <td>0.0</td>\n      <td>0</td>\n      <td>2022-09-01</td>\n    </tr>\n    <tr>\n      <th>224</th>\n      <td>2022-08-18</td>\n      <td>2022-08-19</td>\n      <td>Opinium</td>\n      <td>The Observer</td>\n      <td>UK</td>\n      <td>1527</td>\n      <td>31.0</td>\n      <td>39.0</td>\n      <td>10.0</td>\n      <td>NaN</td>\n      <td>...</td>\n      <td>NaN</td>\n      <td>8.0</td>\n      <td>lab+8.0</td>\n      <td>8.0</td>\n      <td>60.0</td>\n      <td>0.0</td>\n      <td>0</td>\n      <td>0.0</td>\n      <td>0</td>\n      <td>2022-08-01</td>\n    </tr>\n    <tr>\n      <th>230</th>\n      <td>2022-08-03</td>\n      <td>2022-08-08</td>\n      <td>Opinium</td>\n      <td>The Observer</td>\n      <td>GB</td>\n      <td>2010</td>\n      <td>34.0</td>\n      <td>37.0</td>\n      <td>12.0</td>\n      <td>NaN</td>\n      <td>...</td>\n      <td>NaN</td>\n      <td>7.0</td>\n      <td>lab+3.0</td>\n      <td>3.0</td>\n      <td>60.0</td>\n      <td>0.0</td>\n      <td>0</td>\n      <td>0.0</td>\n      <td>0</td>\n      <td>2022-08-01</td>\n    </tr>\n    <tr>\n      <th>245</th>\n      <td>2022-07-21</td>\n      <td>2022-07-22</td>\n      <td>Opinium</td>\n      <td>The Observer</td>\n      <td>GB</td>\n      <td>2001</td>\n      <td>34.0</td>\n      <td>37.0</td>\n      <td>13.0</td>\n      <td>NaN</td>\n      <td>...</td>\n      <td>NaN</td>\n      <td>6.0</td>\n      <td>lab+3.0</td>\n      <td>3.0</td>\n      <td>61.0</td>\n      <td>0.0</td>\n      <td>0</td>\n      <td>0.0</td>\n      <td>0</td>\n      <td>2022-07-01</td>\n    </tr>\n    <tr>\n      <th>258</th>\n      <td>2022-07-06</td>\n      <td>2022-07-08</td>\n      <td>Opinium</td>\n      <td>The Observer</td>\n      <td>GB</td>\n      <td>2000</td>\n      <td>33.0</td>\n      <td>38.0</td>\n      <td>12.0</td>\n      <td>NaN</td>\n      <td>...</td>\n      <td>NaN</td>\n      <td>7.0</td>\n      <td>lab+5.0</td>\n      <td>5.0</td>\n      <td>60.0</td>\n      <td>0.0</td>\n      <td>0</td>\n      <td>0.0</td>\n      <td>0</td>\n      <td>2022-07-01</td>\n    </tr>\n    <tr>\n      <th>273</th>\n      <td>2022-06-22</td>\n      <td>2022-06-24</td>\n      <td>Opinium</td>\n      <td>The Observer</td>\n      <td>GB</td>\n      <td>2000</td>\n      <td>34.0</td>\n      <td>37.0</td>\n      <td>11.0</td>\n      <td>NaN</td>\n      <td>...</td>\n      <td>NaN</td>\n      <td>7.0</td>\n      <td>lab+3.0</td>\n      <td>3.0</td>\n      <td>59.0</td>\n      <td>0.0</td>\n      <td>0</td>\n      <td>0.0</td>\n      <td>0</td>\n      <td>2022-06-01</td>\n    </tr>\n    <tr>\n      <th>287</th>\n      <td>2022-06-08</td>\n      <td>2022-06-10</td>\n      <td>Opinium</td>\n      <td>The Observer</td>\n      <td>GB</td>\n      <td>2002</td>\n      <td>34.0</td>\n      <td>36.0</td>\n      <td>13.0</td>\n      <td>NaN</td>\n      <td>...</td>\n      <td>NaN</td>\n      <td>7.0</td>\n      <td>lab+2.0</td>\n      <td>2.0</td>\n      <td>59.0</td>\n      <td>0.0</td>\n      <td>0</td>\n      <td>0.0</td>\n      <td>0</td>\n      <td>2022-06-01</td>\n    </tr>\n    <tr>\n      <th>297</th>\n      <td>2022-05-25</td>\n      <td>2022-05-27</td>\n      <td>Opinium</td>\n      <td>The Observer</td>\n      <td>GB</td>\n      <td>2000</td>\n      <td>33.0</td>\n      <td>36.0</td>\n      <td>11.0</td>\n      <td>NaN</td>\n      <td>...</td>\n      <td>NaN</td>\n      <td>8.0</td>\n      <td>lab+3.0</td>\n      <td>3.0</td>\n      <td>60.0</td>\n      <td>0.0</td>\n      <td>0</td>\n      <td>0.0</td>\n      <td>0</td>\n      <td>2022-05-01</td>\n    </tr>\n    <tr>\n      <th>311</th>\n      <td>2022-05-11</td>\n      <td>2022-05-13</td>\n      <td>Opinium</td>\n      <td>The Observer</td>\n      <td>GB</td>\n      <td>2000</td>\n      <td>34.0</td>\n      <td>37.0</td>\n      <td>12.0</td>\n      <td>NaN</td>\n      <td>...</td>\n      <td>NaN</td>\n      <td>6.0</td>\n      <td>lab+3.0</td>\n      <td>3.0</td>\n      <td>61.0</td>\n      <td>0.0</td>\n      <td>0</td>\n      <td>0.0</td>\n      <td>0</td>\n      <td>2022-05-01</td>\n    </tr>\n    <tr>\n      <th>324</th>\n      <td>2022-04-14</td>\n      <td>2022-04-26</td>\n      <td>Opinium</td>\n      <td>NaN</td>\n      <td>GB</td>\n      <td>4000</td>\n      <td>35.0</td>\n      <td>37.0</td>\n      <td>10.0</td>\n      <td>NaN</td>\n      <td>...</td>\n      <td>NaN</td>\n      <td>NaN</td>\n      <td>lab+2.0</td>\n      <td>2.0</td>\n      <td>54.0</td>\n      <td>0.0</td>\n      <td>0</td>\n      <td>0.0</td>\n      <td>0</td>\n      <td>2022-04-01</td>\n    </tr>\n    <tr>\n      <th>327</th>\n      <td>2022-04-20</td>\n      <td>2022-04-22</td>\n      <td>Opinium</td>\n      <td>The Observer</td>\n      <td>GB</td>\n      <td>2002</td>\n      <td>34.0</td>\n      <td>36.0</td>\n      <td>10.0</td>\n      <td>NaN</td>\n      <td>...</td>\n      <td>NaN</td>\n      <td>7.0</td>\n      <td>lab+2.0</td>\n      <td>2.0</td>\n      <td>59.0</td>\n      <td>0.0</td>\n      <td>0</td>\n      <td>0.0</td>\n      <td>0</td>\n      <td>2022-04-01</td>\n    </tr>\n    <tr>\n      <th>337</th>\n      <td>2022-04-06</td>\n      <td>2022-04-08</td>\n      <td>Opinium</td>\n      <td>The Observer</td>\n      <td>GB</td>\n      <td>2004</td>\n      <td>34.0</td>\n      <td>38.0</td>\n      <td>10.0</td>\n      <td>NaN</td>\n      <td>...</td>\n      <td>NaN</td>\n      <td>7.0</td>\n      <td>lab+4.0</td>\n      <td>4.0</td>\n      <td>60.0</td>\n      <td>0.0</td>\n      <td>0</td>\n      <td>0.0</td>\n      <td>0</td>\n      <td>2022-04-01</td>\n    </tr>\n    <tr>\n      <th>348</th>\n      <td>2022-03-23</td>\n      <td>2022-03-25</td>\n      <td>Opinium</td>\n      <td>The Observer</td>\n      <td>GB</td>\n      <td>2002</td>\n      <td>36.0</td>\n      <td>38.0</td>\n      <td>9.0</td>\n      <td>NaN</td>\n      <td>...</td>\n      <td>NaN</td>\n      <td>6.0</td>\n      <td>lab+2.0</td>\n      <td>2.0</td>\n      <td>59.0</td>\n      <td>0.0</td>\n      <td>0</td>\n      <td>0.0</td>\n      <td>0</td>\n      <td>2022-03-01</td>\n    </tr>\n    <tr>\n      <th>359</th>\n      <td>2022-03-09</td>\n      <td>2022-03-11</td>\n      <td>Opinium</td>\n      <td>The Observer</td>\n      <td>GB</td>\n      <td>2007</td>\n      <td>35.0</td>\n      <td>37.0</td>\n      <td>9.0</td>\n      <td>NaN</td>\n      <td>...</td>\n      <td>NaN</td>\n      <td>7.0</td>\n      <td>lab+2.0</td>\n      <td>2.0</td>\n      <td>58.0</td>\n      <td>0.0</td>\n      <td>0</td>\n      <td>0.0</td>\n      <td>0</td>\n      <td>2022-03-01</td>\n    </tr>\n    <tr>\n      <th>371</th>\n      <td>2022-02-23</td>\n      <td>2022-02-25</td>\n      <td>Opinium</td>\n      <td>The Observer</td>\n      <td>GB</td>\n      <td>2068</td>\n      <td>34.0</td>\n      <td>38.0</td>\n      <td>11.0</td>\n      <td>NaN</td>\n      <td>...</td>\n      <td>NaN</td>\n      <td>5.0</td>\n      <td>lab+4.0</td>\n      <td>4.0</td>\n      <td>60.0</td>\n      <td>0.0</td>\n      <td>0</td>\n      <td>0.0</td>\n      <td>0</td>\n      <td>2022-02-01</td>\n    </tr>\n    <tr>\n      <th>385</th>\n      <td>2022-02-09</td>\n      <td>2022-02-11</td>\n      <td>Opinium</td>\n      <td>The Observer</td>\n      <td>GB</td>\n      <td>1526</td>\n      <td>34.0</td>\n      <td>37.0</td>\n      <td>11.0</td>\n      <td>NaN</td>\n      <td>...</td>\n      <td>NaN</td>\n      <td>8.0</td>\n      <td>lab+3.0</td>\n      <td>3.0</td>\n      <td>58.0</td>\n      <td>0.0</td>\n      <td>0</td>\n      <td>0.0</td>\n      <td>0</td>\n      <td>2022-02-01</td>\n    </tr>\n    <tr>\n      <th>395</th>\n      <td>2022-01-27</td>\n      <td>2022-01-28</td>\n      <td>Opinium</td>\n      <td>The Observer</td>\n      <td>GB</td>\n      <td>1647</td>\n      <td>34.0</td>\n      <td>39.0</td>\n      <td>9.0</td>\n      <td>NaN</td>\n      <td>...</td>\n      <td>NaN</td>\n      <td>6.0</td>\n      <td>lab+5.0</td>\n      <td>5.0</td>\n      <td>59.0</td>\n      <td>0.0</td>\n      <td>0</td>\n      <td>0.0</td>\n      <td>0</td>\n      <td>2022-01-01</td>\n    </tr>\n    <tr>\n      <th>413</th>\n      <td>2022-01-12</td>\n      <td>2022-01-14</td>\n      <td>Opinium</td>\n      <td>The Observer</td>\n      <td>UK</td>\n      <td>1271</td>\n      <td>31.0</td>\n      <td>41.0</td>\n      <td>9.0</td>\n      <td>NaN</td>\n      <td>...</td>\n      <td>NaN</td>\n      <td>8.0</td>\n      <td>lab+10.0</td>\n      <td>10.0</td>\n      <td>61.0</td>\n      <td>0.0</td>\n      <td>0</td>\n      <td>1.0</td>\n      <td>2</td>\n      <td>2022-01-01</td>\n    </tr>\n    <tr>\n      <th>421</th>\n      <td>2022-01-05</td>\n      <td>2022-01-07</td>\n      <td>Opinium</td>\n      <td>The Observer</td>\n      <td>UK</td>\n      <td>1326</td>\n      <td>34.0</td>\n      <td>39.0</td>\n      <td>11.0</td>\n      <td>NaN</td>\n      <td>...</td>\n      <td>NaN</td>\n      <td>6.0</td>\n      <td>lab+5.0</td>\n      <td>5.0</td>\n      <td>60.0</td>\n      <td>0.0</td>\n      <td>0</td>\n      <td>0.0</td>\n      <td>0</td>\n      <td>2022-01-01</td>\n    </tr>\n    <tr>\n      <th>425</th>\n      <td>2021-12-21</td>\n      <td>2021-12-23</td>\n      <td>Opinium</td>\n      <td>The Observer</td>\n      <td>UK</td>\n      <td>1216</td>\n      <td>32.0</td>\n      <td>39.0</td>\n      <td>11.0</td>\n      <td>NaN</td>\n      <td>...</td>\n      <td>NaN</td>\n      <td>7.0</td>\n      <td>lab+7.0</td>\n      <td>7.0</td>\n      <td>62.0</td>\n      <td>0.0</td>\n      <td>0</td>\n      <td>0.0</td>\n      <td>0</td>\n      <td>2021-12-01</td>\n    </tr>\n    <tr>\n      <th>439</th>\n      <td>2021-12-08</td>\n      <td>2021-12-10</td>\n      <td>Opinium</td>\n      <td>The Observer</td>\n      <td>UK</td>\n      <td>2042</td>\n      <td>32.0</td>\n      <td>41.0</td>\n      <td>9.0</td>\n      <td>NaN</td>\n      <td>...</td>\n      <td>NaN</td>\n      <td>8.0</td>\n      <td>lab+9.0</td>\n      <td>9.0</td>\n      <td>60.0</td>\n      <td>0.0</td>\n      <td>0</td>\n      <td>0.0</td>\n      <td>0</td>\n      <td>2021-12-01</td>\n    </tr>\n    <tr>\n      <th>455</th>\n      <td>2021-11-24</td>\n      <td>2021-11-26</td>\n      <td>Opinium</td>\n      <td>The Observer</td>\n      <td>UK</td>\n      <td>1990</td>\n      <td>36.0</td>\n      <td>38.0</td>\n      <td>8.0</td>\n      <td>NaN</td>\n      <td>...</td>\n      <td>NaN</td>\n      <td>7.0</td>\n      <td>lab+2.0</td>\n      <td>2.0</td>\n      <td>58.0</td>\n      <td>0.0</td>\n      <td>0</td>\n      <td>0.0</td>\n      <td>0</td>\n      <td>2021-11-01</td>\n    </tr>\n    <tr>\n      <th>465</th>\n      <td>2021-11-10</td>\n      <td>2021-11-12</td>\n      <td>Opinium</td>\n      <td>The Observer</td>\n      <td>UK</td>\n      <td>1175</td>\n      <td>36.0</td>\n      <td>37.0</td>\n      <td>9.0</td>\n      <td>NaN</td>\n      <td>...</td>\n      <td>NaN</td>\n      <td>5.0</td>\n      <td>lab+1.0</td>\n      <td>1.0</td>\n      <td>59.0</td>\n      <td>0.0</td>\n      <td>0</td>\n      <td>0.0</td>\n      <td>0</td>\n      <td>2021-11-01</td>\n    </tr>\n    <tr>\n      <th>472</th>\n      <td>2021-11-05</td>\n      <td>2021-11-06</td>\n      <td>Opinium</td>\n      <td>The Observer</td>\n      <td>GB</td>\n      <td>1175</td>\n      <td>37.0</td>\n      <td>36.0</td>\n      <td>9.0</td>\n      <td>NaN</td>\n      <td>...</td>\n      <td>NaN</td>\n      <td>6.0</td>\n      <td>con+1.0</td>\n      <td>1.0</td>\n      <td>57.0</td>\n      <td>0.0</td>\n      <td>0</td>\n      <td>0.0</td>\n      <td>0</td>\n      <td>2021-11-01</td>\n    </tr>\n    <tr>\n      <th>479</th>\n      <td>2021-10-27</td>\n      <td>2021-10-29</td>\n      <td>Opinium</td>\n      <td>The Observer</td>\n      <td>GB</td>\n      <td>2001</td>\n      <td>40.0</td>\n      <td>35.0</td>\n      <td>8.0</td>\n      <td>NaN</td>\n      <td>...</td>\n      <td>NaN</td>\n      <td>5.0</td>\n      <td>con+5.0</td>\n      <td>5.0</td>\n      <td>56.0</td>\n      <td>0.0</td>\n      <td>0</td>\n      <td>0.0</td>\n      <td>0</td>\n      <td>2021-10-01</td>\n    </tr>\n    <tr>\n      <th>489</th>\n      <td>2021-10-13</td>\n      <td>2021-10-15</td>\n      <td>Opinium</td>\n      <td>The Observer</td>\n      <td>GB</td>\n      <td>2000</td>\n      <td>41.0</td>\n      <td>37.0</td>\n      <td>7.0</td>\n      <td>NaN</td>\n      <td>...</td>\n      <td>NaN</td>\n      <td>4.0</td>\n      <td>con+4.0</td>\n      <td>4.0</td>\n      <td>55.0</td>\n      <td>0.0</td>\n      <td>0</td>\n      <td>0.0</td>\n      <td>0</td>\n      <td>2021-10-01</td>\n    </tr>\n    <tr>\n      <th>499</th>\n      <td>2021-09-29</td>\n      <td>2021-10-01</td>\n      <td>Opinium</td>\n      <td>The Observer</td>\n      <td>GB</td>\n      <td>2004</td>\n      <td>39.0</td>\n      <td>35.0</td>\n      <td>8.0</td>\n      <td>NaN</td>\n      <td>...</td>\n      <td>NaN</td>\n      <td>5.0</td>\n      <td>con+4.0</td>\n      <td>4.0</td>\n      <td>56.0</td>\n      <td>0.0</td>\n      <td>0</td>\n      <td>0.0</td>\n      <td>0</td>\n      <td>2021-09-01</td>\n    </tr>\n    <tr>\n      <th>509</th>\n      <td>2021-09-16</td>\n      <td>2021-09-17</td>\n      <td>Opinium</td>\n      <td>The Observer</td>\n      <td>GB</td>\n      <td>2000</td>\n      <td>40.0</td>\n      <td>37.0</td>\n      <td>7.0</td>\n      <td>NaN</td>\n      <td>...</td>\n      <td>NaN</td>\n      <td>4.0</td>\n      <td>con+3.0</td>\n      <td>3.0</td>\n      <td>56.0</td>\n      <td>0.0</td>\n      <td>0</td>\n      <td>0.0</td>\n      <td>0</td>\n      <td>2021-09-01</td>\n    </tr>\n    <tr>\n      <th>515</th>\n      <td>2021-09-09</td>\n      <td>2021-09-11</td>\n      <td>Opinium</td>\n      <td>The Observer</td>\n      <td>GB</td>\n      <td>2059</td>\n      <td>38.0</td>\n      <td>38.0</td>\n      <td>8.0</td>\n      <td>NaN</td>\n      <td>...</td>\n      <td>NaN</td>\n      <td>5.0</td>\n      <td>Tie</td>\n      <td>0.0</td>\n      <td>57.0</td>\n      <td>0.0</td>\n      <td>0</td>\n      <td>0.0</td>\n      <td>0</td>\n      <td>2021-09-01</td>\n    </tr>\n    <tr>\n      <th>523</th>\n      <td>2021-09-02</td>\n      <td>2021-09-03</td>\n      <td>Opinium</td>\n      <td>The Observer</td>\n      <td>GB</td>\n      <td>2014</td>\n      <td>40.0</td>\n      <td>35.0</td>\n      <td>7.0</td>\n      <td>NaN</td>\n      <td>...</td>\n      <td>NaN</td>\n      <td>6.0</td>\n      <td>con+5.0</td>\n      <td>5.0</td>\n      <td>54.0</td>\n      <td>0.0</td>\n      <td>0</td>\n      <td>0.0</td>\n      <td>0</td>\n      <td>2021-09-01</td>\n    </tr>\n  </tbody>\n</table>\n<p>41 rows × 29 columns</p>\n</div>"
     },
     "execution_count": 106,
     "metadata": {},
     "output_type": "execute_result"
    }
   ],
   "source": [
    "one_year_polls.query(f'pollster == \"Opinium\"')"
   ],
   "metadata": {
    "collapsed": false
   }
  },
  {
   "cell_type": "code",
   "execution_count": 72,
   "metadata": {},
   "outputs": [],
   "source": [
    "pollsters_latest = pd.DataFrame()\n",
    "for pollster in one_year_polls.pollster.unique():\n",
    "    pollster_data = one_year_polls.query(f'pollster == \"{pollster}\"')\n",
    "    latest_poll = pollster_data.iloc[0]\n",
    "    pollsters_latest = pollsters_latest.append(latest_poll)"
   ]
  },
  {
   "cell_type": "code",
   "execution_count": 103,
   "outputs": [
    {
     "data": {
      "text/plain": "                             date_started date_concluded  \\\npollster                                                   \nRedfield & Wilton Strategies   2023-02-18     2023-02-18   \nDeltapoll                      2023-02-17     2023-02-20   \nOmnisis                        2023-02-15     2023-02-16   \nTechne UK                      2023-02-15     2023-02-16   \nPeoplePolling                  2023-02-15     2023-02-15   \nYouGov                         2023-02-14     2023-02-15   \nSavanta                        2023-02-10     2023-02-12   \nBMG Research                   2023-01-24     2023-01-26   \nFocalData                      2023-01-17     2023-01-18   \nOpinium                        2023-01-11     2023-01-13   \nKantar Public                  2022-12-09     2022-12-12   \nIpsos MORI                     2022-12-07     2022-12-13   \nSurvation                      2022-11-01     2022-11-03   \nFind Out Now                   2022-09-23     2022-09-27   \nJL Partners                    2022-07-12     2022-07-14   \nNumber Cruncher Politics       2021-10-11     2021-10-18   \nPanelbase                      2021-09-09     2021-09-16   \n\n                                            client area sample_size  \\\npollster                                                              \nRedfield & Wilton Strategies                   NaN   GB        2000   \nDeltapoll                                      NaN   GB        1079   \nOmnisis                                        NaN   GB        1259   \nTechne UK                                      NaN   GB        1631   \nPeoplePolling                              GB News   UK        1148   \nYouGov                                   The Times   GB        2062   \nSavanta                                        NaN   UK        2175   \nBMG Research                                   NaN   GB        1502   \nFocalData                             Sam Freedman   GB        1028   \nOpinium                               The Observer   GB        2000   \nKantar Public                                  NaN   GB        1097   \nIpsos MORI                                     NaN   GB        1007   \nSurvation                                      NaN   UK        1017   \nFind Out Now                             Channel 4   GB       10435   \nJL Partners                   The Sunday Telegraph   GB        4434   \nNumber Cruncher Politics                       NaN   UK        1000   \nPanelbase                                      NaN   GB        3938   \n\n                              conservative  labour  liberal_democrat  \\\npollster                                                               \nRedfield & Wilton Strategies          24.0    51.0              10.0   \nDeltapoll                             28.0    50.0               9.0   \nOmnisis                               25.0    48.0              10.0   \nTechne UK                             27.0    48.0               8.0   \nPeoplePolling                         21.0    48.0               8.0   \nYouGov                                22.0    50.0               9.0   \nSavanta                               28.0    45.0              10.0   \nBMG Research                          29.0    45.0               9.0   \nFocalData                             24.0    49.0               9.0   \nOpinium                               29.0    45.0               9.0   \nKantar Public                         29.0    46.0               9.0   \nIpsos MORI                            23.0    49.0              13.0   \nSurvation                             27.0    50.0               7.0   \nFind Out Now                          27.0    45.0              10.0   \nJL Partners                           31.0    42.0              12.0   \nNumber Cruncher Politics              40.0    32.0               6.0   \nPanelbase                             41.0    36.0              10.0   \n\n                              alliance  brexit_party  ...  reclaim_party  \\\npollster                                              ...                  \nRedfield & Wilton Strategies       NaN           NaN  ...            NaN   \nDeltapoll                          NaN           NaN  ...            NaN   \nOmnisis                            NaN           NaN  ...            NaN   \nTechne UK                          NaN           NaN  ...            NaN   \nPeoplePolling                      NaN           NaN  ...            NaN   \nYouGov                             NaN           NaN  ...            NaN   \nSavanta                            NaN           NaN  ...            NaN   \nBMG Research                       NaN           NaN  ...            NaN   \nFocalData                          NaN           NaN  ...            NaN   \nOpinium                            NaN           NaN  ...            NaN   \nKantar Public                      NaN           NaN  ...            NaN   \nIpsos MORI                         NaN           NaN  ...            NaN   \nSurvation                          NaN           NaN  ...            NaN   \nFind Out Now                       NaN           NaN  ...            NaN   \nJL Partners                        NaN           NaN  ...            NaN   \nNumber Cruncher Politics           NaN           NaN  ...            NaN   \nPanelbase                          NaN           NaN  ...            NaN   \n\n                              others      lead  lead_value  anti_conservative  \\\npollster                                                                        \nRedfield & Wilton Strategies     1.0  lab+27.0        27.0               69.0   \nDeltapoll                        1.0  lab+22.0        22.0               66.0   \nOmnisis                          1.0  lab+23.0        23.0               66.0   \nTechne UK                        3.0  lab+21.0        21.0               64.0   \nPeoplePolling                    4.0  lab+27.0        27.0               69.0   \nYouGov                           1.0  lab+28.0        28.0               70.0   \nSavanta                          4.0  lab+17.0        17.0               62.0   \nBMG Research                     2.0  lab+16.0        16.0               62.0   \nFocalData                        4.0  lab+25.0        25.0               65.0   \nOpinium                          2.0  lab+16.0        16.0               63.0   \nKantar Public                    1.0  lab+17.0        17.0               65.0   \nIpsos MORI                       4.0  lab+26.0        26.0               70.0   \nSurvation                        3.0  lab+23.0        23.0               65.0   \nFind Out Now                     2.0  lab+18.0        18.0               68.0   \nJL Partners                      1.0  lab+11.0        11.0               65.0   \nNumber Cruncher Politics         2.0   con+8.0         8.0               54.0   \nPanelbase                        4.0   con+5.0         5.0               56.0   \n\n                              maj_lead  maj_lead_in_row  dd_lead  dd_in_row  \\\npollster                                                                      \nRedfield & Wilton Strategies       1.0                1      1.0        184   \nDeltapoll                          1.0                1      1.0        184   \nOmnisis                            0.0                0      1.0        184   \nTechne UK                          0.0                0      1.0        184   \nPeoplePolling                      0.0                0      1.0        184   \nYouGov                             1.0                1      1.0        184   \nSavanta                            0.0                0      1.0        184   \nBMG Research                       0.0                0      1.0        184   \nFocalData                          0.0                0      1.0        184   \nOpinium                            0.0                0      1.0        184   \nKantar Public                      0.0                0      1.0        184   \nIpsos MORI                         0.0                0      1.0        184   \nSurvation                          1.0                1      1.0        184   \nFind Out Now                       0.0                0      1.0        184   \nJL Partners                        0.0                0      1.0          5   \nNumber Cruncher Politics           0.0                0      0.0          0   \nPanelbase                          0.0                0      0.0          0   \n\n                              poll_month  \npollster                                  \nRedfield & Wilton Strategies  2023-02-01  \nDeltapoll                     2023-02-01  \nOmnisis                       2023-02-01  \nTechne UK                     2023-02-01  \nPeoplePolling                 2023-02-01  \nYouGov                        2023-02-01  \nSavanta                       2023-02-01  \nBMG Research                  2023-01-01  \nFocalData                     2023-01-01  \nOpinium                       2023-01-01  \nKantar Public                 2022-12-01  \nIpsos MORI                    2022-12-01  \nSurvation                     2022-11-01  \nFind Out Now                  2022-09-01  \nJL Partners                   2022-07-01  \nNumber Cruncher Politics      2021-10-01  \nPanelbase                     2021-09-01  \n\n[17 rows x 28 columns]",
      "text/html": "<div>\n<style scoped>\n    .dataframe tbody tr th:only-of-type {\n        vertical-align: middle;\n    }\n\n    .dataframe tbody tr th {\n        vertical-align: top;\n    }\n\n    .dataframe thead th {\n        text-align: right;\n    }\n</style>\n<table border=\"1\" class=\"dataframe\">\n  <thead>\n    <tr style=\"text-align: right;\">\n      <th></th>\n      <th>date_started</th>\n      <th>date_concluded</th>\n      <th>client</th>\n      <th>area</th>\n      <th>sample_size</th>\n      <th>conservative</th>\n      <th>labour</th>\n      <th>liberal_democrat</th>\n      <th>alliance</th>\n      <th>brexit_party</th>\n      <th>...</th>\n      <th>reclaim_party</th>\n      <th>others</th>\n      <th>lead</th>\n      <th>lead_value</th>\n      <th>anti_conservative</th>\n      <th>maj_lead</th>\n      <th>maj_lead_in_row</th>\n      <th>dd_lead</th>\n      <th>dd_in_row</th>\n      <th>poll_month</th>\n    </tr>\n    <tr>\n      <th>pollster</th>\n      <th></th>\n      <th></th>\n      <th></th>\n      <th></th>\n      <th></th>\n      <th></th>\n      <th></th>\n      <th></th>\n      <th></th>\n      <th></th>\n      <th></th>\n      <th></th>\n      <th></th>\n      <th></th>\n      <th></th>\n      <th></th>\n      <th></th>\n      <th></th>\n      <th></th>\n      <th></th>\n      <th></th>\n    </tr>\n  </thead>\n  <tbody>\n    <tr>\n      <th>Redfield &amp; Wilton Strategies</th>\n      <td>2023-02-18</td>\n      <td>2023-02-18</td>\n      <td>NaN</td>\n      <td>GB</td>\n      <td>2000</td>\n      <td>24.0</td>\n      <td>51.0</td>\n      <td>10.0</td>\n      <td>NaN</td>\n      <td>NaN</td>\n      <td>...</td>\n      <td>NaN</td>\n      <td>1.0</td>\n      <td>lab+27.0</td>\n      <td>27.0</td>\n      <td>69.0</td>\n      <td>1.0</td>\n      <td>1</td>\n      <td>1.0</td>\n      <td>184</td>\n      <td>2023-02-01</td>\n    </tr>\n    <tr>\n      <th>Deltapoll</th>\n      <td>2023-02-17</td>\n      <td>2023-02-20</td>\n      <td>NaN</td>\n      <td>GB</td>\n      <td>1079</td>\n      <td>28.0</td>\n      <td>50.0</td>\n      <td>9.0</td>\n      <td>NaN</td>\n      <td>NaN</td>\n      <td>...</td>\n      <td>NaN</td>\n      <td>1.0</td>\n      <td>lab+22.0</td>\n      <td>22.0</td>\n      <td>66.0</td>\n      <td>1.0</td>\n      <td>1</td>\n      <td>1.0</td>\n      <td>184</td>\n      <td>2023-02-01</td>\n    </tr>\n    <tr>\n      <th>Omnisis</th>\n      <td>2023-02-15</td>\n      <td>2023-02-16</td>\n      <td>NaN</td>\n      <td>GB</td>\n      <td>1259</td>\n      <td>25.0</td>\n      <td>48.0</td>\n      <td>10.0</td>\n      <td>NaN</td>\n      <td>NaN</td>\n      <td>...</td>\n      <td>NaN</td>\n      <td>1.0</td>\n      <td>lab+23.0</td>\n      <td>23.0</td>\n      <td>66.0</td>\n      <td>0.0</td>\n      <td>0</td>\n      <td>1.0</td>\n      <td>184</td>\n      <td>2023-02-01</td>\n    </tr>\n    <tr>\n      <th>Techne UK</th>\n      <td>2023-02-15</td>\n      <td>2023-02-16</td>\n      <td>NaN</td>\n      <td>GB</td>\n      <td>1631</td>\n      <td>27.0</td>\n      <td>48.0</td>\n      <td>8.0</td>\n      <td>NaN</td>\n      <td>NaN</td>\n      <td>...</td>\n      <td>NaN</td>\n      <td>3.0</td>\n      <td>lab+21.0</td>\n      <td>21.0</td>\n      <td>64.0</td>\n      <td>0.0</td>\n      <td>0</td>\n      <td>1.0</td>\n      <td>184</td>\n      <td>2023-02-01</td>\n    </tr>\n    <tr>\n      <th>PeoplePolling</th>\n      <td>2023-02-15</td>\n      <td>2023-02-15</td>\n      <td>GB News</td>\n      <td>UK</td>\n      <td>1148</td>\n      <td>21.0</td>\n      <td>48.0</td>\n      <td>8.0</td>\n      <td>NaN</td>\n      <td>NaN</td>\n      <td>...</td>\n      <td>NaN</td>\n      <td>4.0</td>\n      <td>lab+27.0</td>\n      <td>27.0</td>\n      <td>69.0</td>\n      <td>0.0</td>\n      <td>0</td>\n      <td>1.0</td>\n      <td>184</td>\n      <td>2023-02-01</td>\n    </tr>\n    <tr>\n      <th>YouGov</th>\n      <td>2023-02-14</td>\n      <td>2023-02-15</td>\n      <td>The Times</td>\n      <td>GB</td>\n      <td>2062</td>\n      <td>22.0</td>\n      <td>50.0</td>\n      <td>9.0</td>\n      <td>NaN</td>\n      <td>NaN</td>\n      <td>...</td>\n      <td>NaN</td>\n      <td>1.0</td>\n      <td>lab+28.0</td>\n      <td>28.0</td>\n      <td>70.0</td>\n      <td>1.0</td>\n      <td>1</td>\n      <td>1.0</td>\n      <td>184</td>\n      <td>2023-02-01</td>\n    </tr>\n    <tr>\n      <th>Savanta</th>\n      <td>2023-02-10</td>\n      <td>2023-02-12</td>\n      <td>NaN</td>\n      <td>UK</td>\n      <td>2175</td>\n      <td>28.0</td>\n      <td>45.0</td>\n      <td>10.0</td>\n      <td>NaN</td>\n      <td>NaN</td>\n      <td>...</td>\n      <td>NaN</td>\n      <td>4.0</td>\n      <td>lab+17.0</td>\n      <td>17.0</td>\n      <td>62.0</td>\n      <td>0.0</td>\n      <td>0</td>\n      <td>1.0</td>\n      <td>184</td>\n      <td>2023-02-01</td>\n    </tr>\n    <tr>\n      <th>BMG Research</th>\n      <td>2023-01-24</td>\n      <td>2023-01-26</td>\n      <td>NaN</td>\n      <td>GB</td>\n      <td>1502</td>\n      <td>29.0</td>\n      <td>45.0</td>\n      <td>9.0</td>\n      <td>NaN</td>\n      <td>NaN</td>\n      <td>...</td>\n      <td>NaN</td>\n      <td>2.0</td>\n      <td>lab+16.0</td>\n      <td>16.0</td>\n      <td>62.0</td>\n      <td>0.0</td>\n      <td>0</td>\n      <td>1.0</td>\n      <td>184</td>\n      <td>2023-01-01</td>\n    </tr>\n    <tr>\n      <th>FocalData</th>\n      <td>2023-01-17</td>\n      <td>2023-01-18</td>\n      <td>Sam Freedman</td>\n      <td>GB</td>\n      <td>1028</td>\n      <td>24.0</td>\n      <td>49.0</td>\n      <td>9.0</td>\n      <td>NaN</td>\n      <td>NaN</td>\n      <td>...</td>\n      <td>NaN</td>\n      <td>4.0</td>\n      <td>lab+25.0</td>\n      <td>25.0</td>\n      <td>65.0</td>\n      <td>0.0</td>\n      <td>0</td>\n      <td>1.0</td>\n      <td>184</td>\n      <td>2023-01-01</td>\n    </tr>\n    <tr>\n      <th>Opinium</th>\n      <td>2023-01-11</td>\n      <td>2023-01-13</td>\n      <td>The Observer</td>\n      <td>GB</td>\n      <td>2000</td>\n      <td>29.0</td>\n      <td>45.0</td>\n      <td>9.0</td>\n      <td>NaN</td>\n      <td>NaN</td>\n      <td>...</td>\n      <td>NaN</td>\n      <td>2.0</td>\n      <td>lab+16.0</td>\n      <td>16.0</td>\n      <td>63.0</td>\n      <td>0.0</td>\n      <td>0</td>\n      <td>1.0</td>\n      <td>184</td>\n      <td>2023-01-01</td>\n    </tr>\n    <tr>\n      <th>Kantar Public</th>\n      <td>2022-12-09</td>\n      <td>2022-12-12</td>\n      <td>NaN</td>\n      <td>GB</td>\n      <td>1097</td>\n      <td>29.0</td>\n      <td>46.0</td>\n      <td>9.0</td>\n      <td>NaN</td>\n      <td>NaN</td>\n      <td>...</td>\n      <td>NaN</td>\n      <td>1.0</td>\n      <td>lab+17.0</td>\n      <td>17.0</td>\n      <td>65.0</td>\n      <td>0.0</td>\n      <td>0</td>\n      <td>1.0</td>\n      <td>184</td>\n      <td>2022-12-01</td>\n    </tr>\n    <tr>\n      <th>Ipsos MORI</th>\n      <td>2022-12-07</td>\n      <td>2022-12-13</td>\n      <td>NaN</td>\n      <td>GB</td>\n      <td>1007</td>\n      <td>23.0</td>\n      <td>49.0</td>\n      <td>13.0</td>\n      <td>NaN</td>\n      <td>NaN</td>\n      <td>...</td>\n      <td>NaN</td>\n      <td>4.0</td>\n      <td>lab+26.0</td>\n      <td>26.0</td>\n      <td>70.0</td>\n      <td>0.0</td>\n      <td>0</td>\n      <td>1.0</td>\n      <td>184</td>\n      <td>2022-12-01</td>\n    </tr>\n    <tr>\n      <th>Survation</th>\n      <td>2022-11-01</td>\n      <td>2022-11-03</td>\n      <td>NaN</td>\n      <td>UK</td>\n      <td>1017</td>\n      <td>27.0</td>\n      <td>50.0</td>\n      <td>7.0</td>\n      <td>NaN</td>\n      <td>NaN</td>\n      <td>...</td>\n      <td>NaN</td>\n      <td>3.0</td>\n      <td>lab+23.0</td>\n      <td>23.0</td>\n      <td>65.0</td>\n      <td>1.0</td>\n      <td>1</td>\n      <td>1.0</td>\n      <td>184</td>\n      <td>2022-11-01</td>\n    </tr>\n    <tr>\n      <th>Find Out Now</th>\n      <td>2022-09-23</td>\n      <td>2022-09-27</td>\n      <td>Channel 4</td>\n      <td>GB</td>\n      <td>10435</td>\n      <td>27.0</td>\n      <td>45.0</td>\n      <td>10.0</td>\n      <td>NaN</td>\n      <td>NaN</td>\n      <td>...</td>\n      <td>NaN</td>\n      <td>2.0</td>\n      <td>lab+18.0</td>\n      <td>18.0</td>\n      <td>68.0</td>\n      <td>0.0</td>\n      <td>0</td>\n      <td>1.0</td>\n      <td>184</td>\n      <td>2022-09-01</td>\n    </tr>\n    <tr>\n      <th>JL Partners</th>\n      <td>2022-07-12</td>\n      <td>2022-07-14</td>\n      <td>The Sunday Telegraph</td>\n      <td>GB</td>\n      <td>4434</td>\n      <td>31.0</td>\n      <td>42.0</td>\n      <td>12.0</td>\n      <td>NaN</td>\n      <td>NaN</td>\n      <td>...</td>\n      <td>NaN</td>\n      <td>1.0</td>\n      <td>lab+11.0</td>\n      <td>11.0</td>\n      <td>65.0</td>\n      <td>0.0</td>\n      <td>0</td>\n      <td>1.0</td>\n      <td>5</td>\n      <td>2022-07-01</td>\n    </tr>\n    <tr>\n      <th>Number Cruncher Politics</th>\n      <td>2021-10-11</td>\n      <td>2021-10-18</td>\n      <td>NaN</td>\n      <td>UK</td>\n      <td>1000</td>\n      <td>40.0</td>\n      <td>32.0</td>\n      <td>6.0</td>\n      <td>NaN</td>\n      <td>NaN</td>\n      <td>...</td>\n      <td>NaN</td>\n      <td>2.0</td>\n      <td>con+8.0</td>\n      <td>8.0</td>\n      <td>54.0</td>\n      <td>0.0</td>\n      <td>0</td>\n      <td>0.0</td>\n      <td>0</td>\n      <td>2021-10-01</td>\n    </tr>\n    <tr>\n      <th>Panelbase</th>\n      <td>2021-09-09</td>\n      <td>2021-09-16</td>\n      <td>NaN</td>\n      <td>GB</td>\n      <td>3938</td>\n      <td>41.0</td>\n      <td>36.0</td>\n      <td>10.0</td>\n      <td>NaN</td>\n      <td>NaN</td>\n      <td>...</td>\n      <td>NaN</td>\n      <td>4.0</td>\n      <td>con+5.0</td>\n      <td>5.0</td>\n      <td>56.0</td>\n      <td>0.0</td>\n      <td>0</td>\n      <td>0.0</td>\n      <td>0</td>\n      <td>2021-09-01</td>\n    </tr>\n  </tbody>\n</table>\n<p>17 rows × 28 columns</p>\n</div>"
     },
     "execution_count": 103,
     "metadata": {},
     "output_type": "execute_result"
    }
   ],
   "source": [
    "pollsters_latest.sort_values('date_started', ascending=False)"
   ],
   "metadata": {
    "collapsed": false
   }
  },
  {
   "cell_type": "code",
   "execution_count": null,
   "outputs": [],
   "source": [],
   "metadata": {
    "collapsed": false
   }
  },
  {
   "cell_type": "code",
   "execution_count": 50,
   "metadata": {},
   "outputs": [],
   "source": [
    "top_five = {'Ipsos MORI': 100,\n",
    "            'Opinium': 79,\n",
    "            'YouGov': 77,\n",
    "            'Kantar Public': 69,\n",
    "            'Number Cruncher Politics': 61,\n",
    "            'Survation': 59,\n",
    "            'Panelbase': 57,\n",
    "            'Deltapoll': 46,\n",
    "            'BMG Research': 44,\n",
    "            'FocalData': 39,\n",
    "            'ICM Research': 35,\n",
    "            'Savanta': 34,\n",
    "            'Find Out Now': 34*0.3,  # Ludicrous Local Election Polling\n",
    "            'Redfield & Wilton Strategies': 34*.75,\n",
    "            'Techne UK': 34*.75,\n",
    "            'JL Partners Polls': 34*.75,\n",
    "            'PeoplePolling': 34*.75,\n",
    "            'Omnisis': 34*.75,\n",
    "            }\n",
    "\n",
    "top_two = {'Ipsos MORI': 100,\n",
    "           'Survation': 85,\n",
    "           'Kantar Public': 85,\n",
    "           'Panelbase': 74,\n",
    "           'Number Cruncher Politics': 71,\n",
    "           'Opinium': 71,\n",
    "           'YouGov': 67,\n",
    "           'Deltapoll': 50,\n",
    "           'FocalData': 42,\n",
    "           'BMG Research': 39,\n",
    "           'Savanta': 29,\n",
    "           'ICM Research': 27,\n",
    "           'Find Out Now': 34*0.3,  # Ludicrous Local Election Polling\n",
    "           'Redfield & Wilton Strategies': 34*.75,\n",
    "           'Techne UK': 34*.75,\n",
    "           'JL Partners Polls': 34*.75,\n",
    "           'PeoplePolling': 34*.75,\n",
    "           'Omnisis': 34*.75,\n",
    "           }"
   ]
  },
  {
   "cell_type": "code",
   "execution_count": 51,
   "metadata": {},
   "outputs": [
    {
     "data": {
      "text/plain": "78.5"
     },
     "execution_count": 51,
     "metadata": {},
     "output_type": "execute_result"
    }
   ],
   "source": [
    "(71*3 + 79*2 + 100)/6"
   ]
  },
  {
   "cell_type": "code",
   "execution_count": 51,
   "metadata": {},
   "outputs": [],
   "source": []
  },
  {
   "cell_type": "code",
   "execution_count": 52,
   "metadata": {},
   "outputs": [],
   "source": [
    "recency_weights = {\n",
    "    -1: 100,\n",
    "    5: 100,\n",
    "    14: 70,\n",
    "    28: 5,\n",
    "    90: 0\n",
    "}\n",
    "\n",
    "\n",
    "def get_recency_weight(poll_date, current_date, return_category=False):\n",
    "    days_since_poll = (current_date - poll_date).days\n",
    "    days_start_of_range = weight_start_of_range = 0\n",
    "    category = 0\n",
    "    for day, weight in recency_weights.items():\n",
    "        category += 1\n",
    "        if days_since_poll > day:\n",
    "            days_start_of_range = day\n",
    "            weight_start_of_range = weight\n",
    "        else:\n",
    "            percent_through_range = (days_since_poll - days_start_of_range)/(day - days_start_of_range)\n",
    "            full_weight = weight_start_of_range - ((weight_start_of_range - weight)*percent_through_range)\n",
    "            if return_category:\n",
    "                return category - 2\n",
    "            else:\n",
    "                return full_weight\n",
    "    if return_category:\n",
    "        return category - 1\n",
    "    else:\n",
    "        return 0\n"
   ]
  },
  {
   "cell_type": "code",
   "execution_count": 53,
   "metadata": {},
   "outputs": [],
   "source": [
    "def get_pollster_weight(pollster):\n",
    "    if pollster not in top_two:\n",
    "        return 0\n",
    "    top_five_score = top_five[pollster]\n",
    "    top_two_score = top_two[pollster]\n",
    "    pollster_w = (3*top_two_score + 2*top_five_score + 100)/6\n",
    "    return pollster_w\n"
   ]
  },
  {
   "cell_type": "code",
   "execution_count": 54,
   "metadata": {},
   "outputs": [
    {
     "name": "stdout",
     "output_type": "stream",
     "text": [
      " Ipsos MORI                    : 100.0\n",
      " Survation                     : 78.8\n",
      " Kantar Public                 : 82.2\n",
      " Panelbase                     : 72.7\n",
      " Number Cruncher Politics      : 72.5\n",
      " Opinium                       : 78.5\n",
      " YouGov                        : 75.8\n",
      " Deltapoll                     : 57.0\n",
      " FocalData                     : 50.7\n",
      " BMG Research                  : 50.8\n",
      " Savanta                       : 42.5\n",
      " ICM Research                  : 41.8\n",
      " Find Out Now                  : 25.2\n",
      " Redfield & Wilton Strategies  : 37.9\n",
      " Techne UK                     : 37.9\n",
      " JL Partners Polls             : 37.9\n",
      " PeoplePolling                 : 37.9\n",
      " Omnisis                       : 37.9\n"
     ]
    }
   ],
   "source": [
    "for pollster in top_two.keys():\n",
    "    print(f' {pollster:30s}: {get_pollster_weight(pollster):.1f}')"
   ]
  },
  {
   "cell_type": "code",
   "execution_count": 55,
   "metadata": {},
   "outputs": [],
   "source": [
    "from scripts.constants import major_parties"
   ]
  },
  {
   "cell_type": "code",
   "execution_count": 55,
   "metadata": {},
   "outputs": [],
   "source": []
  },
  {
   "cell_type": "code",
   "execution_count": 55,
   "metadata": {},
   "outputs": [],
   "source": []
  },
  {
   "cell_type": "code",
   "execution_count": 56,
   "metadata": {},
   "outputs": [],
   "source": [
    "pollsters_latest['recency_weight'] = pollsters_latest[reporting_date].apply(get_recency_weight,\n",
    "                                                                            current_date=most_recent_date)\n",
    "pollsters_latest['pollster_weight'] = pollsters_latest['pollster'].apply(get_pollster_weight)\n",
    "pollsters_latest['poll_weight'] = pollsters_latest['pollster_weight']*(pollsters_latest['recency_weight']/100)"
   ]
  },
  {
   "cell_type": "code",
   "execution_count": 57,
   "metadata": {},
   "outputs": [
    {
     "data": {
      "text/plain": "Timestamp('2023-02-26 00:00:00')"
     },
     "execution_count": 57,
     "metadata": {},
     "output_type": "execute_result"
    }
   ],
   "source": [
    "most_recent_date"
   ]
  },
  {
   "cell_type": "code",
   "execution_count": 58,
   "metadata": {},
   "outputs": [],
   "source": [
    "current_average = pd.DataFrame(columns=major_parties + ['lead'], index=['Polling Average'])\n",
    "lead_party = ''\n",
    "max_vote_share = 0\n",
    "second_vote_share = 0\n",
    "for party in major_parties:\n",
    "    party_vote_share = pollsters_latest[party].dot(pollsters_latest['poll_weight'])/pollsters_latest[\n",
    "        'poll_weight'].sum()\n",
    "    if party_vote_share > max_vote_share:\n",
    "        second_vote_share = max_vote_share\n",
    "        max_vote_share = party_vote_share\n",
    "        lead_party = party\n",
    "    else:\n",
    "        if party_vote_share > second_vote_share:\n",
    "            second_vote_share = party_vote_share\n",
    "    current_average.loc['Polling Average', party] = party_vote_share\n",
    "    #current_average.loc['Polling Average', party] = f'{party_vote_share:.1f}%'\n",
    "#current_average.loc['Polling Average', 'lead'] = f'{lead_party:.3s}+{max_vote_share - second_vote_share:.1f}%'\n",
    "current_average.loc['Polling Average', 'lead_value'] = max_vote_share - second_vote_share\n"
   ]
  },
  {
   "cell_type": "code",
   "execution_count": 59,
   "metadata": {},
   "outputs": [],
   "source": [
    "one_year_polls['poll_month'] = one_year_polls[reporting_date].apply(lambda x: x.replace(day=1))"
   ]
  },
  {
   "cell_type": "code",
   "execution_count": 60,
   "metadata": {},
   "outputs": [],
   "source": [
    "pollster_monthly_summary = one_year_polls.groupby(['poll_month', 'pollster'])[major_parties].agg(['mean', 'count'])\n",
    "pollster_monthly_summary.columns = [x if i == 0 else f'count{major_parties.index(x)}' for x in major_parties for i in\n",
    "                                    range(0, 2)]\n",
    "pollster_monthly_summary.drop(columns=[f'count{major_parties.index(x)}' for x in major_parties][1:], inplace=True)\n",
    "pollster_monthly_summary.rename(columns={\"count0\": \"count\"}, inplace=True)\n",
    "\n",
    "agg_info = {x: ['mean'] for x in major_parties}\n",
    "agg_info['count'] = ['count', 'sum']\n",
    "monthly_summary = pollster_monthly_summary.reset_index().groupby(['poll_month']).agg(agg_info)\n",
    "monthly_summary.columns = major_parties + ['pollster_count', 'poll_count']"
   ]
  },
  {
   "cell_type": "code",
   "execution_count": 61,
   "metadata": {},
   "outputs": [
    {
     "data": {
      "text/plain": "Series([], Name: date_started, dtype: datetime64[ns])"
     },
     "execution_count": 61,
     "metadata": {},
     "output_type": "execute_result"
    }
   ],
   "source": [
    "all_polls.loc[all_polls.date_concluded<all_polls.date_started, 'date_started'] - pd.offsets.DateOffset(years=1)"
   ]
  },
  {
   "cell_type": "code",
   "execution_count": 62,
   "metadata": {},
   "outputs": [],
   "source": [
    "from scripts.functions import format_lead\n",
    "\n",
    "monthly_summary[['lead', 'lead_value']] = monthly_summary.apply(format_lead, axis=1, result_type='expand')"
   ]
  },
  {
   "cell_type": "code",
   "execution_count": 63,
   "metadata": {},
   "outputs": [],
   "source": [
    "monthly_summary.iloc[:0:-1].to_clipboard(sep='\\t')"
   ]
  },
  {
   "cell_type": "code",
   "execution_count": 64,
   "metadata": {},
   "outputs": [
    {
     "data": {
      "text/plain": "    date_started date_concluded                      pollster  conservative  \\\n7     2023-02-16     2023-02-20                 Kantar Public          28.0   \n10    2023-02-15     2023-02-17                       Opinium          28.0   \n13    2023-02-14     2023-02-15                        YouGov          23.0   \n0     2023-02-24     2023-02-27                     Deltapoll          31.0   \n2     2023-02-21     2023-02-23                  BMG Research          29.0   \n4     2023-02-22     2023-02-23                     Techne UK          27.0   \n5     2023-02-22     2023-02-22                 PeoplePolling          20.0   \n3     2023-02-22     2023-02-23                       Omnisis          24.0   \n1     2023-02-26     2023-02-26  Redfield & Wilton Strategies          24.0   \n8     2023-02-17     2023-02-19                       Savanta          31.0   \n18    2023-02-10     2023-02-12                     FocalData          28.0   \n25    2023-02-01     2023-02-06                     Survation          26.0   \n40    2023-01-18     2023-01-25                    Ipsos MORI          26.0   \n28    2023-01-27     2023-02-05                  Find Out Now          23.0   \n146   2022-10-19     2022-10-21                   JL Partners          26.0   \n369   2022-02-21     2022-02-28      Number Cruncher Politics          35.0   \n460   2021-11-10     2021-11-19                     Panelbase          38.0   \n\n     labour  liberal_democrat      lead  \n7      45.0               9.0  lab+17.0  \n10     44.0               9.0  lab+16.0  \n13     46.0               9.0  lab+23.0  \n0      46.0               8.0  lab+15.0  \n2      46.0               9.0  lab+17.0  \n4      49.0               8.0  lab+22.0  \n5      46.0               8.0  lab+26.0  \n3      48.0              10.0  lab+24.0  \n1      51.0               9.0  lab+27.0  \n8      45.0               9.0  lab+14.0  \n18     48.0               9.0  lab+20.0  \n25     42.0              11.0  lab+16.0  \n40     51.0               9.0  lab+25.0  \n28     48.0              11.0  lab+25.0  \n146    51.0               8.0  lab+25.0  \n369    42.0               8.0   lab+7.0  \n460    39.0               9.0   lab+1.0  ",
      "text/html": "<div>\n<style scoped>\n    .dataframe tbody tr th:only-of-type {\n        vertical-align: middle;\n    }\n\n    .dataframe tbody tr th {\n        vertical-align: top;\n    }\n\n    .dataframe thead th {\n        text-align: right;\n    }\n</style>\n<table border=\"1\" class=\"dataframe\">\n  <thead>\n    <tr style=\"text-align: right;\">\n      <th></th>\n      <th>date_started</th>\n      <th>date_concluded</th>\n      <th>pollster</th>\n      <th>conservative</th>\n      <th>labour</th>\n      <th>liberal_democrat</th>\n      <th>lead</th>\n    </tr>\n  </thead>\n  <tbody>\n    <tr>\n      <th>7</th>\n      <td>2023-02-16</td>\n      <td>2023-02-20</td>\n      <td>Kantar Public</td>\n      <td>28.0</td>\n      <td>45.0</td>\n      <td>9.0</td>\n      <td>lab+17.0</td>\n    </tr>\n    <tr>\n      <th>10</th>\n      <td>2023-02-15</td>\n      <td>2023-02-17</td>\n      <td>Opinium</td>\n      <td>28.0</td>\n      <td>44.0</td>\n      <td>9.0</td>\n      <td>lab+16.0</td>\n    </tr>\n    <tr>\n      <th>13</th>\n      <td>2023-02-14</td>\n      <td>2023-02-15</td>\n      <td>YouGov</td>\n      <td>23.0</td>\n      <td>46.0</td>\n      <td>9.0</td>\n      <td>lab+23.0</td>\n    </tr>\n    <tr>\n      <th>0</th>\n      <td>2023-02-24</td>\n      <td>2023-02-27</td>\n      <td>Deltapoll</td>\n      <td>31.0</td>\n      <td>46.0</td>\n      <td>8.0</td>\n      <td>lab+15.0</td>\n    </tr>\n    <tr>\n      <th>2</th>\n      <td>2023-02-21</td>\n      <td>2023-02-23</td>\n      <td>BMG Research</td>\n      <td>29.0</td>\n      <td>46.0</td>\n      <td>9.0</td>\n      <td>lab+17.0</td>\n    </tr>\n    <tr>\n      <th>4</th>\n      <td>2023-02-22</td>\n      <td>2023-02-23</td>\n      <td>Techne UK</td>\n      <td>27.0</td>\n      <td>49.0</td>\n      <td>8.0</td>\n      <td>lab+22.0</td>\n    </tr>\n    <tr>\n      <th>5</th>\n      <td>2023-02-22</td>\n      <td>2023-02-22</td>\n      <td>PeoplePolling</td>\n      <td>20.0</td>\n      <td>46.0</td>\n      <td>8.0</td>\n      <td>lab+26.0</td>\n    </tr>\n    <tr>\n      <th>3</th>\n      <td>2023-02-22</td>\n      <td>2023-02-23</td>\n      <td>Omnisis</td>\n      <td>24.0</td>\n      <td>48.0</td>\n      <td>10.0</td>\n      <td>lab+24.0</td>\n    </tr>\n    <tr>\n      <th>1</th>\n      <td>2023-02-26</td>\n      <td>2023-02-26</td>\n      <td>Redfield &amp; Wilton Strategies</td>\n      <td>24.0</td>\n      <td>51.0</td>\n      <td>9.0</td>\n      <td>lab+27.0</td>\n    </tr>\n    <tr>\n      <th>8</th>\n      <td>2023-02-17</td>\n      <td>2023-02-19</td>\n      <td>Savanta</td>\n      <td>31.0</td>\n      <td>45.0</td>\n      <td>9.0</td>\n      <td>lab+14.0</td>\n    </tr>\n    <tr>\n      <th>18</th>\n      <td>2023-02-10</td>\n      <td>2023-02-12</td>\n      <td>FocalData</td>\n      <td>28.0</td>\n      <td>48.0</td>\n      <td>9.0</td>\n      <td>lab+20.0</td>\n    </tr>\n    <tr>\n      <th>25</th>\n      <td>2023-02-01</td>\n      <td>2023-02-06</td>\n      <td>Survation</td>\n      <td>26.0</td>\n      <td>42.0</td>\n      <td>11.0</td>\n      <td>lab+16.0</td>\n    </tr>\n    <tr>\n      <th>40</th>\n      <td>2023-01-18</td>\n      <td>2023-01-25</td>\n      <td>Ipsos MORI</td>\n      <td>26.0</td>\n      <td>51.0</td>\n      <td>9.0</td>\n      <td>lab+25.0</td>\n    </tr>\n    <tr>\n      <th>28</th>\n      <td>2023-01-27</td>\n      <td>2023-02-05</td>\n      <td>Find Out Now</td>\n      <td>23.0</td>\n      <td>48.0</td>\n      <td>11.0</td>\n      <td>lab+25.0</td>\n    </tr>\n    <tr>\n      <th>146</th>\n      <td>2022-10-19</td>\n      <td>2022-10-21</td>\n      <td>JL Partners</td>\n      <td>26.0</td>\n      <td>51.0</td>\n      <td>8.0</td>\n      <td>lab+25.0</td>\n    </tr>\n    <tr>\n      <th>369</th>\n      <td>2022-02-21</td>\n      <td>2022-02-28</td>\n      <td>Number Cruncher Politics</td>\n      <td>35.0</td>\n      <td>42.0</td>\n      <td>8.0</td>\n      <td>lab+7.0</td>\n    </tr>\n    <tr>\n      <th>460</th>\n      <td>2021-11-10</td>\n      <td>2021-11-19</td>\n      <td>Panelbase</td>\n      <td>38.0</td>\n      <td>39.0</td>\n      <td>9.0</td>\n      <td>lab+1.0</td>\n    </tr>\n  </tbody>\n</table>\n</div>"
     },
     "metadata": {},
     "output_type": "display_data"
    },
    {
     "data": {
      "text/plain": "                conservative     labour liberal_democrat lead  lead_value\nPolling Average    26.794425  46.322485         8.883305  NaN    19.52806",
      "text/html": "<div>\n<style scoped>\n    .dataframe tbody tr th:only-of-type {\n        vertical-align: middle;\n    }\n\n    .dataframe tbody tr th {\n        vertical-align: top;\n    }\n\n    .dataframe thead th {\n        text-align: right;\n    }\n</style>\n<table border=\"1\" class=\"dataframe\">\n  <thead>\n    <tr style=\"text-align: right;\">\n      <th></th>\n      <th>conservative</th>\n      <th>labour</th>\n      <th>liberal_democrat</th>\n      <th>lead</th>\n      <th>lead_value</th>\n    </tr>\n  </thead>\n  <tbody>\n    <tr>\n      <th>Polling Average</th>\n      <td>26.794425</td>\n      <td>46.322485</td>\n      <td>8.883305</td>\n      <td>NaN</td>\n      <td>19.52806</td>\n    </tr>\n  </tbody>\n</table>\n</div>"
     },
     "metadata": {},
     "output_type": "display_data"
    },
    {
     "data": {
      "text/plain": "            conservative     labour  liberal_democrat  pollster_count  \\\npoll_month                                                              \n2023-02-01     26.409722  46.583333          9.138889              12   \n2023-01-01     26.020833  47.300000          9.029167              12   \n2022-12-01     26.625000  46.650000          9.350000              10   \n2022-11-01     26.992063  47.616865          8.655754              12   \n2022-10-01     24.276923  50.809829          9.459402              13   \n2022-09-01     29.894872  44.097436         10.237179              13   \n2022-08-01     31.523810  40.921693         11.569841               9   \n2022-07-01     30.877500  41.097500         11.375000              10   \n2022-06-01     32.282778  40.205000         11.750000              10   \n2022-05-01     32.284821  39.700000         11.225000               8   \n2022-04-01     32.958333  40.875000          9.400000              10   \n2022-03-01     35.146296  38.755556          9.825926               9   \n2022-02-01     33.113636  40.409091         10.090909              11   \n2022-01-01     31.625641  40.743590         10.579487              13   \n2021-12-01     33.151515  38.492424         10.113636              11   \n2021-11-01     36.766667  37.225000          8.850000              10   \n2021-10-01     38.515000  35.000000          8.215000              10   \n\n            poll_count      lead  lead_value  \npoll_month                                    \n2023-02-01          31  lab+20.2   20.173611  \n2023-01-01          32  lab+21.3   21.279167  \n2022-12-01          27  lab+20.0   20.025000  \n2022-11-01          38  lab+20.6   20.624802  \n2022-10-01          44  lab+26.5   26.532906  \n2022-09-01          38  lab+14.2   14.202564  \n2022-08-01          25   lab+9.4    9.397884  \n2022-07-01          29  lab+10.2   10.220000  \n2022-06-01          29   lab+7.9    7.922222  \n2022-05-01          26   lab+7.4    7.415179  \n2022-04-01          24   lab+7.9    7.916667  \n2022-03-01          25   lab+3.6    3.609259  \n2022-02-01          24   lab+7.3    7.295455  \n2022-01-01          31   lab+9.1    9.117949  \n2021-12-01          28   lab+5.3    5.340909  \n2021-11-01          26   lab+0.5    0.458333  \n2021-10-01          22   con+3.5    3.515000  ",
      "text/html": "<div>\n<style scoped>\n    .dataframe tbody tr th:only-of-type {\n        vertical-align: middle;\n    }\n\n    .dataframe tbody tr th {\n        vertical-align: top;\n    }\n\n    .dataframe thead th {\n        text-align: right;\n    }\n</style>\n<table border=\"1\" class=\"dataframe\">\n  <thead>\n    <tr style=\"text-align: right;\">\n      <th></th>\n      <th>conservative</th>\n      <th>labour</th>\n      <th>liberal_democrat</th>\n      <th>pollster_count</th>\n      <th>poll_count</th>\n      <th>lead</th>\n      <th>lead_value</th>\n    </tr>\n    <tr>\n      <th>poll_month</th>\n      <th></th>\n      <th></th>\n      <th></th>\n      <th></th>\n      <th></th>\n      <th></th>\n      <th></th>\n    </tr>\n  </thead>\n  <tbody>\n    <tr>\n      <th>2023-02-01</th>\n      <td>26.409722</td>\n      <td>46.583333</td>\n      <td>9.138889</td>\n      <td>12</td>\n      <td>31</td>\n      <td>lab+20.2</td>\n      <td>20.173611</td>\n    </tr>\n    <tr>\n      <th>2023-01-01</th>\n      <td>26.020833</td>\n      <td>47.300000</td>\n      <td>9.029167</td>\n      <td>12</td>\n      <td>32</td>\n      <td>lab+21.3</td>\n      <td>21.279167</td>\n    </tr>\n    <tr>\n      <th>2022-12-01</th>\n      <td>26.625000</td>\n      <td>46.650000</td>\n      <td>9.350000</td>\n      <td>10</td>\n      <td>27</td>\n      <td>lab+20.0</td>\n      <td>20.025000</td>\n    </tr>\n    <tr>\n      <th>2022-11-01</th>\n      <td>26.992063</td>\n      <td>47.616865</td>\n      <td>8.655754</td>\n      <td>12</td>\n      <td>38</td>\n      <td>lab+20.6</td>\n      <td>20.624802</td>\n    </tr>\n    <tr>\n      <th>2022-10-01</th>\n      <td>24.276923</td>\n      <td>50.809829</td>\n      <td>9.459402</td>\n      <td>13</td>\n      <td>44</td>\n      <td>lab+26.5</td>\n      <td>26.532906</td>\n    </tr>\n    <tr>\n      <th>2022-09-01</th>\n      <td>29.894872</td>\n      <td>44.097436</td>\n      <td>10.237179</td>\n      <td>13</td>\n      <td>38</td>\n      <td>lab+14.2</td>\n      <td>14.202564</td>\n    </tr>\n    <tr>\n      <th>2022-08-01</th>\n      <td>31.523810</td>\n      <td>40.921693</td>\n      <td>11.569841</td>\n      <td>9</td>\n      <td>25</td>\n      <td>lab+9.4</td>\n      <td>9.397884</td>\n    </tr>\n    <tr>\n      <th>2022-07-01</th>\n      <td>30.877500</td>\n      <td>41.097500</td>\n      <td>11.375000</td>\n      <td>10</td>\n      <td>29</td>\n      <td>lab+10.2</td>\n      <td>10.220000</td>\n    </tr>\n    <tr>\n      <th>2022-06-01</th>\n      <td>32.282778</td>\n      <td>40.205000</td>\n      <td>11.750000</td>\n      <td>10</td>\n      <td>29</td>\n      <td>lab+7.9</td>\n      <td>7.922222</td>\n    </tr>\n    <tr>\n      <th>2022-05-01</th>\n      <td>32.284821</td>\n      <td>39.700000</td>\n      <td>11.225000</td>\n      <td>8</td>\n      <td>26</td>\n      <td>lab+7.4</td>\n      <td>7.415179</td>\n    </tr>\n    <tr>\n      <th>2022-04-01</th>\n      <td>32.958333</td>\n      <td>40.875000</td>\n      <td>9.400000</td>\n      <td>10</td>\n      <td>24</td>\n      <td>lab+7.9</td>\n      <td>7.916667</td>\n    </tr>\n    <tr>\n      <th>2022-03-01</th>\n      <td>35.146296</td>\n      <td>38.755556</td>\n      <td>9.825926</td>\n      <td>9</td>\n      <td>25</td>\n      <td>lab+3.6</td>\n      <td>3.609259</td>\n    </tr>\n    <tr>\n      <th>2022-02-01</th>\n      <td>33.113636</td>\n      <td>40.409091</td>\n      <td>10.090909</td>\n      <td>11</td>\n      <td>24</td>\n      <td>lab+7.3</td>\n      <td>7.295455</td>\n    </tr>\n    <tr>\n      <th>2022-01-01</th>\n      <td>31.625641</td>\n      <td>40.743590</td>\n      <td>10.579487</td>\n      <td>13</td>\n      <td>31</td>\n      <td>lab+9.1</td>\n      <td>9.117949</td>\n    </tr>\n    <tr>\n      <th>2021-12-01</th>\n      <td>33.151515</td>\n      <td>38.492424</td>\n      <td>10.113636</td>\n      <td>11</td>\n      <td>28</td>\n      <td>lab+5.3</td>\n      <td>5.340909</td>\n    </tr>\n    <tr>\n      <th>2021-11-01</th>\n      <td>36.766667</td>\n      <td>37.225000</td>\n      <td>8.850000</td>\n      <td>10</td>\n      <td>26</td>\n      <td>lab+0.5</td>\n      <td>0.458333</td>\n    </tr>\n    <tr>\n      <th>2021-10-01</th>\n      <td>38.515000</td>\n      <td>35.000000</td>\n      <td>8.215000</td>\n      <td>10</td>\n      <td>22</td>\n      <td>con+3.5</td>\n      <td>3.515000</td>\n    </tr>\n  </tbody>\n</table>\n</div>"
     },
     "metadata": {},
     "output_type": "display_data"
    }
   ],
   "source": [
    "display(pollsters_latest.sort_values(by='poll_weight', ascending=False)[display_columns])\n",
    "display(current_average)\n",
    "display(monthly_summary.iloc[:0:-1])"
   ]
  },
  {
   "cell_type": "code",
   "execution_count": 65,
   "metadata": {},
   "outputs": [],
   "source": [
    "from html2image import Html2Image\n",
    "\n",
    "hti = Html2Image()"
   ]
  },
  {
   "cell_type": "code",
   "execution_count": 66,
   "metadata": {},
   "outputs": [],
   "source": [
    "\n",
    "\n",
    "\n",
    "def result_to_opacity(result, range_min, range_max):\n",
    "    result_range = range_max - range_min\n",
    "    result_percent = (result - range_min)/result_range\n",
    "    result_256 = int(result_percent*255)\n",
    "    return f'{result_256:02x}'\n",
    "\n",
    "\n",
    "def add_background_colour_to_cells(df, lead_only=False):\n",
    "    from scripts.constants import party_colors, major_parties\n",
    "    background_df = df.copy()\n",
    "    max_party_lead = background_df['lead_value'].max()\n",
    "\n",
    "    for party in major_parties:\n",
    "        color = party_colors[party]\n",
    "        party_max = background_df[party].max()\n",
    "        party_min = background_df[party].min() - 0.5\n",
    "        if not lead_only:\n",
    "            background_df[party] = background_df[party].apply(\n",
    "                lambda x: f'background-color: {color}{result_to_opacity(x, party_min, party_max)}'\n",
    "            )\n",
    "        else:\n",
    "            background_df[party] = ''\n",
    "        party_in_lead_mask = df[party] == df[major_parties].max(axis=1)\n",
    "        background_df.loc[party_in_lead_mask, 'lead_value'] = df['lead_value'].apply(\n",
    "            lambda x: f'background-color: {color}{result_to_opacity(x, 0, max_party_lead)}'\n",
    "        )\n",
    "\n",
    "    if reporting_date in background_df.columns:\n",
    "        background_df[reporting_date] = background_df[reporting_date].apply(get_recency_weight,\n",
    "                                                                            current_date=most_recent_date)\n",
    "        background_df[reporting_date] = background_df[reporting_date].apply(\n",
    "            lambda x: f'background-color: #A9D08E{result_to_opacity(x, 0, 100)}'\n",
    "        )\n",
    "\n",
    "    for column in background_df.columns:\n",
    "        if not (column in major_parties or column in ['lead_value', reporting_date]):\n",
    "            background_df[column] = ''\n",
    "    return background_df"
   ]
  },
  {
   "cell_type": "code",
   "execution_count": 67,
   "metadata": {},
   "outputs": [],
   "source": [
    "def polls_to_html(dataframe, title, highlight_party_columns=True, precision=0):\n",
    "    dataframe.index.name = 'id'\n",
    "    table_id = '_'.join(title.split(' ')).lower()\n",
    "\n",
    "    from pandas.io.formats.style import Styler\n",
    "    #styler = dataframe.style\n",
    "    styler = Styler(dataframe, uuid=table_id, cell_ids=True)\n",
    "\n",
    "    styler.apply(add_background_colour_to_cells, axis=None,\n",
    "                 lead_only=not (highlight_party_columns))\n",
    "\n",
    "    styler.format({\n",
    "        \"pollster\": lambda x: f\"{x}\",\n",
    "        \"pollster_count\": lambda x: f\"{x}\",\n",
    "        \"poll_count\": lambda x: f\"{x}\",\n",
    "        \"conservative\": lambda x: f\"{x:.{precision}f}%\",\n",
    "        \"labour\": lambda x: f\"{x:.{precision}f}%\",\n",
    "        \"liberal_democrat\": lambda x: f\"{x:.{precision}f}%\",\n",
    "        \"lead_value\": lambda x: f\"{x:.{precision}f}%\",\n",
    "        reporting_date: lambda x: f\"{x:%d-%b}\",\n",
    "        'poll_month': lambda x: f\"{x:%b-%y}\",\n",
    "        'poll_weight': lambda x: f\"{x:.0f}\",\n",
    "    })\n",
    "\n",
    "    styler.set_table_attributes(f'id=\"{table_id}\"')\n",
    "    styler.hide_index()\n",
    "\n",
    "    # classes = pd.DataFrame([['_'.join(x.split(' ')).lower() for x in dataframe.columns]]\n",
    "    #                        , index=dataframe.index, columns=dataframe.columns)\n",
    "    #\n",
    "    # styler.set_td_classes(classes)\n",
    "\n",
    "    #styler.set_caption(title)\n",
    "    styler.set_properties(**{'min-width': '10px', 'font-size': '12pt', 'text-align': 'center'})\n",
    "\n",
    "    caption_format = {'selector': 'caption',\n",
    "                      'props': [('text-align', 'center'), ('font-size', '20pt'), ('color', 'black'),\n",
    "                                ('padding-bottom', '15')]}\n",
    "    all_cells = {'selector': '', 'props': [('margin', '0 auto'), ('width', '100%')]}\n",
    "    date_col = {'selector': '.col0', 'props': [('text-align', 'left')]}\n",
    "\n",
    "    styles = [all_cells, date_col, caption_format]\n",
    "\n",
    "    if 'poll_weight' in dataframe.columns:\n",
    "        styles.append({'selector': '.col2', 'props': [('color', '#AAA')]})\n",
    "\n",
    "    df_as_html = styler.set_table_styles(styles).render()\n",
    "\n",
    "    for col in range(0, len(dataframe.columns)):\n",
    "        df_as_html = df_as_html.replace(f'col{col}', dataframe.columns[col])\n",
    "\n",
    "    df_as_html = (df_as_html\n",
    "                  .replace('>poll_count', '>Polls')\n",
    "                  .replace('>pollster_count', '>Pollsters')\n",
    "                  .replace('>conservative', '>Conservatives')\n",
    "                  .replace('>labour', '>Labour')\n",
    "                  .replace('>liberal_democrat', '>Lib Dem')\n",
    "                  .replace('>lead_value', '>Lead')\n",
    "                  .replace(f'>{reporting_date}', '>Date')\n",
    "                  .replace('>poll_month', '>Month')\n",
    "                  .replace('>pollster', '>Pollster')\n",
    "                  .replace('>poll_weight', '>w')\n",
    "                  )\n",
    "    return df_as_html"
   ]
  },
  {
   "cell_type": "code",
   "execution_count": 68,
   "metadata": {},
   "outputs": [],
   "source": [
    "display_columns = [reporting_date, 'pollster', 'conservative', 'labour', 'liberal_democrat', 'lead_value']\n",
    "top_25_html = polls_to_html(all_polls[display_columns][0:25], title='Last 25 Polls')"
   ]
  },
  {
   "cell_type": "code",
   "execution_count": 193,
   "metadata": {},
   "outputs": [
    {
     "ename": "TypeError",
     "evalue": "unsupported operand type(s) for -: 'str' and 'float'",
     "output_type": "error",
     "traceback": [
      "\u001B[1;31m---------------------------------------------------------------------------\u001B[0m",
      "\u001B[1;31mTypeError\u001B[0m                                 Traceback (most recent call last)",
      "\u001B[1;32m~\\AppData\\Local\\Temp/ipykernel_40296/2889390250.py\u001B[0m in \u001B[0;36m<module>\u001B[1;34m\u001B[0m\n\u001B[0;32m      2\u001B[0m                    'lead_value']\n\u001B[0;32m      3\u001B[0m \u001B[0mdf\u001B[0m \u001B[1;33m=\u001B[0m \u001B[0mpollsters_latest\u001B[0m\u001B[1;33m.\u001B[0m\u001B[0msort_values\u001B[0m\u001B[1;33m(\u001B[0m\u001B[0mby\u001B[0m\u001B[1;33m=\u001B[0m\u001B[1;34m'poll_weight'\u001B[0m\u001B[1;33m,\u001B[0m \u001B[0mascending\u001B[0m\u001B[1;33m=\u001B[0m\u001B[1;32mFalse\u001B[0m\u001B[1;33m)\u001B[0m\u001B[1;33m[\u001B[0m\u001B[0mdisplay_columns\u001B[0m\u001B[1;33m]\u001B[0m\u001B[1;33m\u001B[0m\u001B[1;33m\u001B[0m\u001B[0m\n\u001B[1;32m----> 4\u001B[1;33m \u001B[0mpollsters_recent\u001B[0m \u001B[1;33m=\u001B[0m \u001B[0mpolls_to_html\u001B[0m\u001B[1;33m(\u001B[0m\u001B[0mdf\u001B[0m\u001B[1;33m,\u001B[0m \u001B[0mtitle\u001B[0m\u001B[1;33m=\u001B[0m\u001B[1;34m'Latest Polls'\u001B[0m\u001B[1;33m,\u001B[0m \u001B[0mhighlight_party_columns\u001B[0m\u001B[1;33m=\u001B[0m\u001B[1;32mFalse\u001B[0m\u001B[1;33m)\u001B[0m\u001B[1;33m\u001B[0m\u001B[1;33m\u001B[0m\u001B[0m\n\u001B[0m",
      "\u001B[1;32m~\\AppData\\Local\\Temp/ipykernel_40296/3814613570.py\u001B[0m in \u001B[0;36mpolls_to_html\u001B[1;34m(dataframe, title, highlight_party_columns, precision)\u001B[0m\n\u001B[0;32m     45\u001B[0m         \u001B[0mstyles\u001B[0m\u001B[1;33m.\u001B[0m\u001B[0mappend\u001B[0m\u001B[1;33m(\u001B[0m\u001B[1;33m{\u001B[0m\u001B[1;34m'selector'\u001B[0m\u001B[1;33m:\u001B[0m \u001B[1;34m'.col2'\u001B[0m\u001B[1;33m,\u001B[0m \u001B[1;34m'props'\u001B[0m\u001B[1;33m:\u001B[0m \u001B[1;33m[\u001B[0m\u001B[1;33m(\u001B[0m\u001B[1;34m'color'\u001B[0m\u001B[1;33m,\u001B[0m \u001B[1;34m'#AAA'\u001B[0m\u001B[1;33m)\u001B[0m\u001B[1;33m]\u001B[0m\u001B[1;33m}\u001B[0m\u001B[1;33m)\u001B[0m\u001B[1;33m\u001B[0m\u001B[1;33m\u001B[0m\u001B[0m\n\u001B[0;32m     46\u001B[0m \u001B[1;33m\u001B[0m\u001B[0m\n\u001B[1;32m---> 47\u001B[1;33m     \u001B[0mdf_as_html\u001B[0m \u001B[1;33m=\u001B[0m \u001B[0mstyler\u001B[0m\u001B[1;33m.\u001B[0m\u001B[0mset_table_styles\u001B[0m\u001B[1;33m(\u001B[0m\u001B[0mstyles\u001B[0m\u001B[1;33m)\u001B[0m\u001B[1;33m.\u001B[0m\u001B[0mrender\u001B[0m\u001B[1;33m(\u001B[0m\u001B[1;33m)\u001B[0m\u001B[1;33m\u001B[0m\u001B[1;33m\u001B[0m\u001B[0m\n\u001B[0m\u001B[0;32m     48\u001B[0m \u001B[1;33m\u001B[0m\u001B[0m\n\u001B[0;32m     49\u001B[0m     \u001B[1;32mfor\u001B[0m \u001B[0mcol\u001B[0m \u001B[1;32min\u001B[0m \u001B[0mrange\u001B[0m\u001B[1;33m(\u001B[0m\u001B[1;36m0\u001B[0m\u001B[1;33m,\u001B[0m \u001B[0mlen\u001B[0m\u001B[1;33m(\u001B[0m\u001B[0mdataframe\u001B[0m\u001B[1;33m.\u001B[0m\u001B[0mcolumns\u001B[0m\u001B[1;33m)\u001B[0m\u001B[1;33m)\u001B[0m\u001B[1;33m:\u001B[0m\u001B[1;33m\u001B[0m\u001B[1;33m\u001B[0m\u001B[0m\n",
      "\u001B[1;32md:\\projects\\software\\python\\polls\\venv\\lib\\site-packages\\pandas\\io\\formats\\style.py\u001B[0m in \u001B[0;36mrender\u001B[1;34m(self, sparse_index, sparse_columns, **kwargs)\u001B[0m\n\u001B[0;32m    270\u001B[0m         \u001B[1;32mif\u001B[0m \u001B[0msparse_columns\u001B[0m \u001B[1;32mis\u001B[0m \u001B[1;32mNone\u001B[0m\u001B[1;33m:\u001B[0m\u001B[1;33m\u001B[0m\u001B[1;33m\u001B[0m\u001B[0m\n\u001B[0;32m    271\u001B[0m             \u001B[0msparse_columns\u001B[0m \u001B[1;33m=\u001B[0m \u001B[0mget_option\u001B[0m\u001B[1;33m(\u001B[0m\u001B[1;34m\"styler.sparse.columns\"\u001B[0m\u001B[1;33m)\u001B[0m\u001B[1;33m\u001B[0m\u001B[1;33m\u001B[0m\u001B[0m\n\u001B[1;32m--> 272\u001B[1;33m         \u001B[1;32mreturn\u001B[0m \u001B[0mself\u001B[0m\u001B[1;33m.\u001B[0m\u001B[0m_render_html\u001B[0m\u001B[1;33m(\u001B[0m\u001B[0msparse_index\u001B[0m\u001B[1;33m,\u001B[0m \u001B[0msparse_columns\u001B[0m\u001B[1;33m,\u001B[0m \u001B[1;33m**\u001B[0m\u001B[0mkwargs\u001B[0m\u001B[1;33m)\u001B[0m\u001B[1;33m\u001B[0m\u001B[1;33m\u001B[0m\u001B[0m\n\u001B[0m\u001B[0;32m    273\u001B[0m \u001B[1;33m\u001B[0m\u001B[0m\n\u001B[0;32m    274\u001B[0m     def set_tooltips(\n",
      "\u001B[1;32md:\\projects\\software\\python\\polls\\venv\\lib\\site-packages\\pandas\\io\\formats\\style_render.py\u001B[0m in \u001B[0;36m_render_html\u001B[1;34m(self, sparse_index, sparse_columns, **kwargs)\u001B[0m\n\u001B[0;32m    119\u001B[0m         \u001B[0mGenerates\u001B[0m \u001B[0ma\u001B[0m \u001B[0mdict\u001B[0m \u001B[1;32mwith\u001B[0m \u001B[0mnecessary\u001B[0m \u001B[0mkwargs\u001B[0m \u001B[0mpassed\u001B[0m \u001B[0mto\u001B[0m \u001B[0mjinja2\u001B[0m \u001B[0mtemplate\u001B[0m\u001B[1;33m.\u001B[0m\u001B[1;33m\u001B[0m\u001B[1;33m\u001B[0m\u001B[0m\n\u001B[0;32m    120\u001B[0m         \"\"\"\n\u001B[1;32m--> 121\u001B[1;33m         \u001B[0mself\u001B[0m\u001B[1;33m.\u001B[0m\u001B[0m_compute\u001B[0m\u001B[1;33m(\u001B[0m\u001B[1;33m)\u001B[0m\u001B[1;33m\u001B[0m\u001B[1;33m\u001B[0m\u001B[0m\n\u001B[0m\u001B[0;32m    122\u001B[0m         \u001B[1;31m# TODO: namespace all the pandas keys\u001B[0m\u001B[1;33m\u001B[0m\u001B[1;33m\u001B[0m\u001B[0m\n\u001B[0;32m    123\u001B[0m         \u001B[0md\u001B[0m \u001B[1;33m=\u001B[0m \u001B[0mself\u001B[0m\u001B[1;33m.\u001B[0m\u001B[0m_translate\u001B[0m\u001B[1;33m(\u001B[0m\u001B[0msparse_index\u001B[0m\u001B[1;33m,\u001B[0m \u001B[0msparse_columns\u001B[0m\u001B[1;33m)\u001B[0m\u001B[1;33m\u001B[0m\u001B[1;33m\u001B[0m\u001B[0m\n",
      "\u001B[1;32md:\\projects\\software\\python\\polls\\venv\\lib\\site-packages\\pandas\\io\\formats\\style_render.py\u001B[0m in \u001B[0;36m_compute\u001B[1;34m(self)\u001B[0m\n\u001B[0;32m    158\u001B[0m         \u001B[0mr\u001B[0m \u001B[1;33m=\u001B[0m \u001B[0mself\u001B[0m\u001B[1;33m\u001B[0m\u001B[1;33m\u001B[0m\u001B[0m\n\u001B[0;32m    159\u001B[0m         \u001B[1;32mfor\u001B[0m \u001B[0mfunc\u001B[0m\u001B[1;33m,\u001B[0m \u001B[0margs\u001B[0m\u001B[1;33m,\u001B[0m \u001B[0mkwargs\u001B[0m \u001B[1;32min\u001B[0m \u001B[0mself\u001B[0m\u001B[1;33m.\u001B[0m\u001B[0m_todo\u001B[0m\u001B[1;33m:\u001B[0m\u001B[1;33m\u001B[0m\u001B[1;33m\u001B[0m\u001B[0m\n\u001B[1;32m--> 160\u001B[1;33m             \u001B[0mr\u001B[0m \u001B[1;33m=\u001B[0m \u001B[0mfunc\u001B[0m\u001B[1;33m(\u001B[0m\u001B[0mself\u001B[0m\u001B[1;33m)\u001B[0m\u001B[1;33m(\u001B[0m\u001B[1;33m*\u001B[0m\u001B[0margs\u001B[0m\u001B[1;33m,\u001B[0m \u001B[1;33m**\u001B[0m\u001B[0mkwargs\u001B[0m\u001B[1;33m)\u001B[0m\u001B[1;33m\u001B[0m\u001B[1;33m\u001B[0m\u001B[0m\n\u001B[0m\u001B[0;32m    161\u001B[0m         \u001B[1;32mreturn\u001B[0m \u001B[0mr\u001B[0m\u001B[1;33m\u001B[0m\u001B[1;33m\u001B[0m\u001B[0m\n\u001B[0;32m    162\u001B[0m \u001B[1;33m\u001B[0m\u001B[0m\n",
      "\u001B[1;32md:\\projects\\software\\python\\polls\\venv\\lib\\site-packages\\pandas\\io\\formats\\style.py\u001B[0m in \u001B[0;36m_apply\u001B[1;34m(self, func, axis, subset, **kwargs)\u001B[0m\n\u001B[0;32m   1056\u001B[0m             \u001B[0mresult\u001B[0m\u001B[1;33m.\u001B[0m\u001B[0mcolumns\u001B[0m \u001B[1;33m=\u001B[0m \u001B[0mdata\u001B[0m\u001B[1;33m.\u001B[0m\u001B[0mcolumns\u001B[0m\u001B[1;33m\u001B[0m\u001B[1;33m\u001B[0m\u001B[0m\n\u001B[0;32m   1057\u001B[0m         \u001B[1;32melse\u001B[0m\u001B[1;33m:\u001B[0m\u001B[1;33m\u001B[0m\u001B[1;33m\u001B[0m\u001B[0m\n\u001B[1;32m-> 1058\u001B[1;33m             \u001B[0mresult\u001B[0m \u001B[1;33m=\u001B[0m \u001B[0mfunc\u001B[0m\u001B[1;33m(\u001B[0m\u001B[0mdata\u001B[0m\u001B[1;33m,\u001B[0m \u001B[1;33m**\u001B[0m\u001B[0mkwargs\u001B[0m\u001B[1;33m)\u001B[0m\u001B[1;33m\u001B[0m\u001B[1;33m\u001B[0m\u001B[0m\n\u001B[0m\u001B[0;32m   1059\u001B[0m             \u001B[1;32mif\u001B[0m \u001B[1;32mnot\u001B[0m \u001B[0misinstance\u001B[0m\u001B[1;33m(\u001B[0m\u001B[0mresult\u001B[0m\u001B[1;33m,\u001B[0m \u001B[0mDataFrame\u001B[0m\u001B[1;33m)\u001B[0m\u001B[1;33m:\u001B[0m\u001B[1;33m\u001B[0m\u001B[1;33m\u001B[0m\u001B[0m\n\u001B[0;32m   1060\u001B[0m                 \u001B[1;32mif\u001B[0m \u001B[1;32mnot\u001B[0m \u001B[0misinstance\u001B[0m\u001B[1;33m(\u001B[0m\u001B[0mresult\u001B[0m\u001B[1;33m,\u001B[0m \u001B[0mnp\u001B[0m\u001B[1;33m.\u001B[0m\u001B[0mndarray\u001B[0m\u001B[1;33m)\u001B[0m\u001B[1;33m:\u001B[0m\u001B[1;33m\u001B[0m\u001B[1;33m\u001B[0m\u001B[0m\n",
      "\u001B[1;32m~\\AppData\\Local\\Temp/ipykernel_40296/680293651.py\u001B[0m in \u001B[0;36madd_background_colour_to_cells\u001B[1;34m(df, lead_only)\u001B[0m\n\u001B[0;32m     14\u001B[0m         \u001B[0mcolor\u001B[0m \u001B[1;33m=\u001B[0m \u001B[0mparty_colors\u001B[0m\u001B[1;33m[\u001B[0m\u001B[0mparty\u001B[0m\u001B[1;33m]\u001B[0m\u001B[1;33m\u001B[0m\u001B[1;33m\u001B[0m\u001B[0m\n\u001B[0;32m     15\u001B[0m         \u001B[0mparty_max\u001B[0m \u001B[1;33m=\u001B[0m \u001B[0mbackground_df\u001B[0m\u001B[1;33m[\u001B[0m\u001B[0mparty\u001B[0m\u001B[1;33m]\u001B[0m\u001B[1;33m.\u001B[0m\u001B[0mmax\u001B[0m\u001B[1;33m(\u001B[0m\u001B[1;33m)\u001B[0m\u001B[1;33m\u001B[0m\u001B[1;33m\u001B[0m\u001B[0m\n\u001B[1;32m---> 16\u001B[1;33m         \u001B[0mparty_min\u001B[0m \u001B[1;33m=\u001B[0m \u001B[0mbackground_df\u001B[0m\u001B[1;33m[\u001B[0m\u001B[0mparty\u001B[0m\u001B[1;33m]\u001B[0m\u001B[1;33m.\u001B[0m\u001B[0mmin\u001B[0m\u001B[1;33m(\u001B[0m\u001B[1;33m)\u001B[0m \u001B[1;33m-\u001B[0m \u001B[1;36m0.5\u001B[0m\u001B[1;33m\u001B[0m\u001B[1;33m\u001B[0m\u001B[0m\n\u001B[0m\u001B[0;32m     17\u001B[0m         \u001B[1;32mif\u001B[0m \u001B[1;32mnot\u001B[0m \u001B[0mlead_only\u001B[0m\u001B[1;33m:\u001B[0m\u001B[1;33m\u001B[0m\u001B[1;33m\u001B[0m\u001B[0m\n\u001B[0;32m     18\u001B[0m             background_df[party] = background_df[party].apply(\n",
      "\u001B[1;31mTypeError\u001B[0m: unsupported operand type(s) for -: 'str' and 'float'"
     ]
    }
   ],
   "source": [
    "display_columns = ['pollster', reporting_date, 'poll_weight', 'conservative', 'labour', 'liberal_democrat',\n",
    "                   'lead_value']\n",
    "df = pollsters_latest.sort_values(by='poll_weight', ascending=False)[display_columns]\n",
    "pollsters_recent = polls_to_html(df, title='Latest Polls', highlight_party_columns=False)"
   ]
  },
  {
   "cell_type": "code",
   "execution_count": 194,
   "metadata": {},
   "outputs": [
    {
     "ename": "TypeError",
     "evalue": "unsupported operand type(s) for -: 'str' and 'float'",
     "output_type": "error",
     "traceback": [
      "\u001B[1;31m---------------------------------------------------------------------------\u001B[0m",
      "\u001B[1;31mTypeError\u001B[0m                                 Traceback (most recent call last)",
      "\u001B[1;32m~\\AppData\\Local\\Temp/ipykernel_40296/396794435.py\u001B[0m in \u001B[0;36m<module>\u001B[1;34m\u001B[0m\n\u001B[0;32m      2\u001B[0m                    'lead_value']\n\u001B[0;32m      3\u001B[0m \u001B[0mdf\u001B[0m \u001B[1;33m=\u001B[0m \u001B[0mmonthly_summary\u001B[0m\u001B[1;33m.\u001B[0m\u001B[0mreset_index\u001B[0m\u001B[1;33m(\u001B[0m\u001B[1;33m)\u001B[0m\u001B[1;33m[\u001B[0m\u001B[0mdisplay_columns\u001B[0m\u001B[1;33m]\u001B[0m\u001B[1;33m.\u001B[0m\u001B[0miloc\u001B[0m\u001B[1;33m[\u001B[0m\u001B[1;33m:\u001B[0m\u001B[1;36m0\u001B[0m\u001B[1;33m:\u001B[0m\u001B[1;33m-\u001B[0m\u001B[1;36m1\u001B[0m\u001B[1;33m]\u001B[0m\u001B[1;33m\u001B[0m\u001B[1;33m\u001B[0m\u001B[0m\n\u001B[1;32m----> 4\u001B[1;33m \u001B[0mmonthly_averages\u001B[0m \u001B[1;33m=\u001B[0m \u001B[0mpolls_to_html\u001B[0m\u001B[1;33m(\u001B[0m\u001B[0mdf\u001B[0m\u001B[1;33m,\u001B[0m \u001B[0mtitle\u001B[0m\u001B[1;33m=\u001B[0m\u001B[1;34m'Monthly Poll Average'\u001B[0m\u001B[1;33m,\u001B[0m \u001B[0mhighlight_party_columns\u001B[0m\u001B[1;33m=\u001B[0m\u001B[1;32mTrue\u001B[0m\u001B[1;33m,\u001B[0m \u001B[0mprecision\u001B[0m\u001B[1;33m=\u001B[0m\u001B[1;36m1\u001B[0m\u001B[1;33m)\u001B[0m\u001B[1;33m\u001B[0m\u001B[1;33m\u001B[0m\u001B[0m\n\u001B[0m",
      "\u001B[1;32m~\\AppData\\Local\\Temp/ipykernel_40296/3814613570.py\u001B[0m in \u001B[0;36mpolls_to_html\u001B[1;34m(dataframe, title, highlight_party_columns, precision)\u001B[0m\n\u001B[0;32m     45\u001B[0m         \u001B[0mstyles\u001B[0m\u001B[1;33m.\u001B[0m\u001B[0mappend\u001B[0m\u001B[1;33m(\u001B[0m\u001B[1;33m{\u001B[0m\u001B[1;34m'selector'\u001B[0m\u001B[1;33m:\u001B[0m \u001B[1;34m'.col2'\u001B[0m\u001B[1;33m,\u001B[0m \u001B[1;34m'props'\u001B[0m\u001B[1;33m:\u001B[0m \u001B[1;33m[\u001B[0m\u001B[1;33m(\u001B[0m\u001B[1;34m'color'\u001B[0m\u001B[1;33m,\u001B[0m \u001B[1;34m'#AAA'\u001B[0m\u001B[1;33m)\u001B[0m\u001B[1;33m]\u001B[0m\u001B[1;33m}\u001B[0m\u001B[1;33m)\u001B[0m\u001B[1;33m\u001B[0m\u001B[1;33m\u001B[0m\u001B[0m\n\u001B[0;32m     46\u001B[0m \u001B[1;33m\u001B[0m\u001B[0m\n\u001B[1;32m---> 47\u001B[1;33m     \u001B[0mdf_as_html\u001B[0m \u001B[1;33m=\u001B[0m \u001B[0mstyler\u001B[0m\u001B[1;33m.\u001B[0m\u001B[0mset_table_styles\u001B[0m\u001B[1;33m(\u001B[0m\u001B[0mstyles\u001B[0m\u001B[1;33m)\u001B[0m\u001B[1;33m.\u001B[0m\u001B[0mrender\u001B[0m\u001B[1;33m(\u001B[0m\u001B[1;33m)\u001B[0m\u001B[1;33m\u001B[0m\u001B[1;33m\u001B[0m\u001B[0m\n\u001B[0m\u001B[0;32m     48\u001B[0m \u001B[1;33m\u001B[0m\u001B[0m\n\u001B[0;32m     49\u001B[0m     \u001B[1;32mfor\u001B[0m \u001B[0mcol\u001B[0m \u001B[1;32min\u001B[0m \u001B[0mrange\u001B[0m\u001B[1;33m(\u001B[0m\u001B[1;36m0\u001B[0m\u001B[1;33m,\u001B[0m \u001B[0mlen\u001B[0m\u001B[1;33m(\u001B[0m\u001B[0mdataframe\u001B[0m\u001B[1;33m.\u001B[0m\u001B[0mcolumns\u001B[0m\u001B[1;33m)\u001B[0m\u001B[1;33m)\u001B[0m\u001B[1;33m:\u001B[0m\u001B[1;33m\u001B[0m\u001B[1;33m\u001B[0m\u001B[0m\n",
      "\u001B[1;32md:\\projects\\software\\python\\polls\\venv\\lib\\site-packages\\pandas\\io\\formats\\style.py\u001B[0m in \u001B[0;36mrender\u001B[1;34m(self, sparse_index, sparse_columns, **kwargs)\u001B[0m\n\u001B[0;32m    270\u001B[0m         \u001B[1;32mif\u001B[0m \u001B[0msparse_columns\u001B[0m \u001B[1;32mis\u001B[0m \u001B[1;32mNone\u001B[0m\u001B[1;33m:\u001B[0m\u001B[1;33m\u001B[0m\u001B[1;33m\u001B[0m\u001B[0m\n\u001B[0;32m    271\u001B[0m             \u001B[0msparse_columns\u001B[0m \u001B[1;33m=\u001B[0m \u001B[0mget_option\u001B[0m\u001B[1;33m(\u001B[0m\u001B[1;34m\"styler.sparse.columns\"\u001B[0m\u001B[1;33m)\u001B[0m\u001B[1;33m\u001B[0m\u001B[1;33m\u001B[0m\u001B[0m\n\u001B[1;32m--> 272\u001B[1;33m         \u001B[1;32mreturn\u001B[0m \u001B[0mself\u001B[0m\u001B[1;33m.\u001B[0m\u001B[0m_render_html\u001B[0m\u001B[1;33m(\u001B[0m\u001B[0msparse_index\u001B[0m\u001B[1;33m,\u001B[0m \u001B[0msparse_columns\u001B[0m\u001B[1;33m,\u001B[0m \u001B[1;33m**\u001B[0m\u001B[0mkwargs\u001B[0m\u001B[1;33m)\u001B[0m\u001B[1;33m\u001B[0m\u001B[1;33m\u001B[0m\u001B[0m\n\u001B[0m\u001B[0;32m    273\u001B[0m \u001B[1;33m\u001B[0m\u001B[0m\n\u001B[0;32m    274\u001B[0m     def set_tooltips(\n",
      "\u001B[1;32md:\\projects\\software\\python\\polls\\venv\\lib\\site-packages\\pandas\\io\\formats\\style_render.py\u001B[0m in \u001B[0;36m_render_html\u001B[1;34m(self, sparse_index, sparse_columns, **kwargs)\u001B[0m\n\u001B[0;32m    119\u001B[0m         \u001B[0mGenerates\u001B[0m \u001B[0ma\u001B[0m \u001B[0mdict\u001B[0m \u001B[1;32mwith\u001B[0m \u001B[0mnecessary\u001B[0m \u001B[0mkwargs\u001B[0m \u001B[0mpassed\u001B[0m \u001B[0mto\u001B[0m \u001B[0mjinja2\u001B[0m \u001B[0mtemplate\u001B[0m\u001B[1;33m.\u001B[0m\u001B[1;33m\u001B[0m\u001B[1;33m\u001B[0m\u001B[0m\n\u001B[0;32m    120\u001B[0m         \"\"\"\n\u001B[1;32m--> 121\u001B[1;33m         \u001B[0mself\u001B[0m\u001B[1;33m.\u001B[0m\u001B[0m_compute\u001B[0m\u001B[1;33m(\u001B[0m\u001B[1;33m)\u001B[0m\u001B[1;33m\u001B[0m\u001B[1;33m\u001B[0m\u001B[0m\n\u001B[0m\u001B[0;32m    122\u001B[0m         \u001B[1;31m# TODO: namespace all the pandas keys\u001B[0m\u001B[1;33m\u001B[0m\u001B[1;33m\u001B[0m\u001B[0m\n\u001B[0;32m    123\u001B[0m         \u001B[0md\u001B[0m \u001B[1;33m=\u001B[0m \u001B[0mself\u001B[0m\u001B[1;33m.\u001B[0m\u001B[0m_translate\u001B[0m\u001B[1;33m(\u001B[0m\u001B[0msparse_index\u001B[0m\u001B[1;33m,\u001B[0m \u001B[0msparse_columns\u001B[0m\u001B[1;33m)\u001B[0m\u001B[1;33m\u001B[0m\u001B[1;33m\u001B[0m\u001B[0m\n",
      "\u001B[1;32md:\\projects\\software\\python\\polls\\venv\\lib\\site-packages\\pandas\\io\\formats\\style_render.py\u001B[0m in \u001B[0;36m_compute\u001B[1;34m(self)\u001B[0m\n\u001B[0;32m    158\u001B[0m         \u001B[0mr\u001B[0m \u001B[1;33m=\u001B[0m \u001B[0mself\u001B[0m\u001B[1;33m\u001B[0m\u001B[1;33m\u001B[0m\u001B[0m\n\u001B[0;32m    159\u001B[0m         \u001B[1;32mfor\u001B[0m \u001B[0mfunc\u001B[0m\u001B[1;33m,\u001B[0m \u001B[0margs\u001B[0m\u001B[1;33m,\u001B[0m \u001B[0mkwargs\u001B[0m \u001B[1;32min\u001B[0m \u001B[0mself\u001B[0m\u001B[1;33m.\u001B[0m\u001B[0m_todo\u001B[0m\u001B[1;33m:\u001B[0m\u001B[1;33m\u001B[0m\u001B[1;33m\u001B[0m\u001B[0m\n\u001B[1;32m--> 160\u001B[1;33m             \u001B[0mr\u001B[0m \u001B[1;33m=\u001B[0m \u001B[0mfunc\u001B[0m\u001B[1;33m(\u001B[0m\u001B[0mself\u001B[0m\u001B[1;33m)\u001B[0m\u001B[1;33m(\u001B[0m\u001B[1;33m*\u001B[0m\u001B[0margs\u001B[0m\u001B[1;33m,\u001B[0m \u001B[1;33m**\u001B[0m\u001B[0mkwargs\u001B[0m\u001B[1;33m)\u001B[0m\u001B[1;33m\u001B[0m\u001B[1;33m\u001B[0m\u001B[0m\n\u001B[0m\u001B[0;32m    161\u001B[0m         \u001B[1;32mreturn\u001B[0m \u001B[0mr\u001B[0m\u001B[1;33m\u001B[0m\u001B[1;33m\u001B[0m\u001B[0m\n\u001B[0;32m    162\u001B[0m \u001B[1;33m\u001B[0m\u001B[0m\n",
      "\u001B[1;32md:\\projects\\software\\python\\polls\\venv\\lib\\site-packages\\pandas\\io\\formats\\style.py\u001B[0m in \u001B[0;36m_apply\u001B[1;34m(self, func, axis, subset, **kwargs)\u001B[0m\n\u001B[0;32m   1056\u001B[0m             \u001B[0mresult\u001B[0m\u001B[1;33m.\u001B[0m\u001B[0mcolumns\u001B[0m \u001B[1;33m=\u001B[0m \u001B[0mdata\u001B[0m\u001B[1;33m.\u001B[0m\u001B[0mcolumns\u001B[0m\u001B[1;33m\u001B[0m\u001B[1;33m\u001B[0m\u001B[0m\n\u001B[0;32m   1057\u001B[0m         \u001B[1;32melse\u001B[0m\u001B[1;33m:\u001B[0m\u001B[1;33m\u001B[0m\u001B[1;33m\u001B[0m\u001B[0m\n\u001B[1;32m-> 1058\u001B[1;33m             \u001B[0mresult\u001B[0m \u001B[1;33m=\u001B[0m \u001B[0mfunc\u001B[0m\u001B[1;33m(\u001B[0m\u001B[0mdata\u001B[0m\u001B[1;33m,\u001B[0m \u001B[1;33m**\u001B[0m\u001B[0mkwargs\u001B[0m\u001B[1;33m)\u001B[0m\u001B[1;33m\u001B[0m\u001B[1;33m\u001B[0m\u001B[0m\n\u001B[0m\u001B[0;32m   1059\u001B[0m             \u001B[1;32mif\u001B[0m \u001B[1;32mnot\u001B[0m \u001B[0misinstance\u001B[0m\u001B[1;33m(\u001B[0m\u001B[0mresult\u001B[0m\u001B[1;33m,\u001B[0m \u001B[0mDataFrame\u001B[0m\u001B[1;33m)\u001B[0m\u001B[1;33m:\u001B[0m\u001B[1;33m\u001B[0m\u001B[1;33m\u001B[0m\u001B[0m\n\u001B[0;32m   1060\u001B[0m                 \u001B[1;32mif\u001B[0m \u001B[1;32mnot\u001B[0m \u001B[0misinstance\u001B[0m\u001B[1;33m(\u001B[0m\u001B[0mresult\u001B[0m\u001B[1;33m,\u001B[0m \u001B[0mnp\u001B[0m\u001B[1;33m.\u001B[0m\u001B[0mndarray\u001B[0m\u001B[1;33m)\u001B[0m\u001B[1;33m:\u001B[0m\u001B[1;33m\u001B[0m\u001B[1;33m\u001B[0m\u001B[0m\n",
      "\u001B[1;32m~\\AppData\\Local\\Temp/ipykernel_40296/680293651.py\u001B[0m in \u001B[0;36madd_background_colour_to_cells\u001B[1;34m(df, lead_only)\u001B[0m\n\u001B[0;32m     14\u001B[0m         \u001B[0mcolor\u001B[0m \u001B[1;33m=\u001B[0m \u001B[0mparty_colors\u001B[0m\u001B[1;33m[\u001B[0m\u001B[0mparty\u001B[0m\u001B[1;33m]\u001B[0m\u001B[1;33m\u001B[0m\u001B[1;33m\u001B[0m\u001B[0m\n\u001B[0;32m     15\u001B[0m         \u001B[0mparty_max\u001B[0m \u001B[1;33m=\u001B[0m \u001B[0mbackground_df\u001B[0m\u001B[1;33m[\u001B[0m\u001B[0mparty\u001B[0m\u001B[1;33m]\u001B[0m\u001B[1;33m.\u001B[0m\u001B[0mmax\u001B[0m\u001B[1;33m(\u001B[0m\u001B[1;33m)\u001B[0m\u001B[1;33m\u001B[0m\u001B[1;33m\u001B[0m\u001B[0m\n\u001B[1;32m---> 16\u001B[1;33m         \u001B[0mparty_min\u001B[0m \u001B[1;33m=\u001B[0m \u001B[0mbackground_df\u001B[0m\u001B[1;33m[\u001B[0m\u001B[0mparty\u001B[0m\u001B[1;33m]\u001B[0m\u001B[1;33m.\u001B[0m\u001B[0mmin\u001B[0m\u001B[1;33m(\u001B[0m\u001B[1;33m)\u001B[0m \u001B[1;33m-\u001B[0m \u001B[1;36m0.5\u001B[0m\u001B[1;33m\u001B[0m\u001B[1;33m\u001B[0m\u001B[0m\n\u001B[0m\u001B[0;32m     17\u001B[0m         \u001B[1;32mif\u001B[0m \u001B[1;32mnot\u001B[0m \u001B[0mlead_only\u001B[0m\u001B[1;33m:\u001B[0m\u001B[1;33m\u001B[0m\u001B[1;33m\u001B[0m\u001B[0m\n\u001B[0;32m     18\u001B[0m             background_df[party] = background_df[party].apply(\n",
      "\u001B[1;31mTypeError\u001B[0m: unsupported operand type(s) for -: 'str' and 'float'"
     ]
    }
   ],
   "source": [
    "display_columns = ['poll_month', 'pollster_count', 'poll_count', 'conservative', 'labour', 'liberal_democrat',\n",
    "                   'lead_value']\n",
    "df = monthly_summary.reset_index()[display_columns].iloc[:0:-1]\n",
    "monthly_averages = polls_to_html(df, title='Monthly Poll Average', highlight_party_columns=True, precision=1)"
   ]
  },
  {
   "cell_type": "code",
   "execution_count": null,
   "metadata": {},
   "outputs": [],
   "source": [
    "polling_average = polls_to_html(current_average[['conservative', 'labour', 'liberal_democrat', 'lead_value']],\n",
    "                                title='Polling Average', highlight_party_columns=False, precision=1)"
   ]
  },
  {
   "cell_type": "code",
   "execution_count": null,
   "metadata": {},
   "outputs": [],
   "source": [
    "\n",
    "css = \"body {background: white;}\"\n",
    "# hti.screenshot(html_str=top_25_html, css_str=css, save_as='tmp.png', size=(800, 650))\n",
    "# hti.screenshot(html_str=pollsters_recent, css_str=css, save_as='tmp.png', size=(700, 400))"
   ]
  },
  {
   "cell_type": "code",
   "execution_count": null,
   "metadata": {},
   "outputs": [],
   "source": [
    "with open('html_outputs/top_25.html', 'w') as f:\n",
    "    f.write(top_25_html)\n",
    "with open('html_outputs/pollsters_recent.html', 'w') as f:\n",
    "    f.write(pollsters_recent)\n",
    "with open('html_outputs/monthly_averages.html', 'w') as f:\n",
    "    f.write(monthly_averages)\n",
    "with open('html_outputs/polling_average.html', 'w') as f:\n",
    "    f.write(polling_average)"
   ]
  },
  {
   "cell_type": "code",
   "execution_count": null,
   "metadata": {},
   "outputs": [],
   "source": [
    "from scripts.constants import party_colors, major_parties\n",
    "import matplotlib.pyplot as plt\n",
    "from numpy import arange\n",
    "\n",
    "fig = plt.figure(figsize=(15, 3))\n",
    "fig.set_facecolor('white')\n",
    "ax = plt.gca()\n",
    "\n",
    "# monthly_summary[major_parties[:2]][1:].plot(\n",
    "#     ax=ax,\n",
    "#     ylim=[30, 45],\n",
    "#     color=party_colors,\n",
    "#     linewidth=3\n",
    "# )\n",
    "for party in major_parties[:2]:\n",
    "    plt.plot_date(\n",
    "        x=monthly_summary.index[1:],\n",
    "        y=monthly_summary[party][1:],\n",
    "        fmt='-',\n",
    "        color=party_colors[party],\n",
    "        linewidth=4)\n",
    "\n",
    "    ax.fill_between(monthly_summary.index[1:], monthly_summary[party][1:],\n",
    "                    monthly_summary[major_parties[:2]].min(axis=1)[1:], color=party_colors[party], alpha=0.2)\n",
    "ax.set_yticks(arange(25, 51, 5), minor=False)\n",
    "major_locator = plt.matplotlib.dates.DayLocator([1])\n",
    "major_fmt = plt.matplotlib.dates.DateFormatter('%b-%y')\n",
    "\n",
    "ax.xaxis.set_major_locator(major_locator)\n",
    "ax.xaxis.set_major_formatter(major_fmt)\n",
    "\n",
    "ax.yaxis.set_major_formatter(plt.matplotlib.ticker.FuncFormatter(lambda x, p: f'{x/100:.0%}'))\n",
    "\n",
    "plot_title = 'Opinion Polling Trend'\n",
    "plt.title(plot_title)\n",
    "\n",
    "source = 'Source: Wikipedia - Opinion polling for the next United Kingdom general election'\n",
    "plt.annotate(source, (1, 0), (0, -20), xycoords='axes fraction', textcoords='offset points', va='top', ha='right')\n",
    "fig.savefig('html_outputs/monthly_trend.png', bbox_inches='tight', pad_inches=0.2)"
   ]
  },
  {
   "cell_type": "code",
   "execution_count": null,
   "metadata": {},
   "outputs": [],
   "source": []
  },
  {
   "cell_type": "code",
   "execution_count": null,
   "metadata": {},
   "outputs": [],
   "source": [
    "monthly_summary"
   ]
  },
  {
   "cell_type": "code",
   "execution_count": null,
   "metadata": {},
   "outputs": [],
   "source": []
  },
  {
   "cell_type": "code",
   "execution_count": null,
   "metadata": {},
   "outputs": [],
   "source": [
    "import datetime"
   ]
  },
  {
   "cell_type": "code",
   "execution_count": null,
   "metadata": {},
   "outputs": [],
   "source": []
  },
  {
   "cell_type": "code",
   "execution_count": null,
   "metadata": {},
   "outputs": [],
   "source": [
    "all_polls['anti-Conservative'] = all_polls[\n",
    "    ['labour', 'liberal_democrat', 'alliance', 'change_uk', 'green', 'liberal', 'plaid_cymru',\n",
    "     'scottish_national_party', 'social_democratic_party']].sum(axis=1)\n",
    "all_polls['Conservative+'] = all_polls[\n",
    "    ['conservative', 'brexit_party', 'reform_uk', 'united_kingdom_independence_party', 'reclaim_party']].sum(axis=1)\n",
    "\n",
    "(all_polls\n",
    " .set_index(reporting_date)\n",
    " .rolling(window=15).mean()\n",
    " .loc[:datetime.date(2010, 1, 13)]\n",
    "[['anti-Conservative', 'Conservative+']]\n",
    " .plot(\n",
    "    color=['r', 'b']\n",
    "    , figsize=[20, 5]\n",
    "    , grid='y'\n",
    "    , ylim=[0, 100]\n",
    ")\n",
    ")"
   ]
  },
  {
   "cell_type": "code",
   "execution_count": null,
   "metadata": {},
   "outputs": [],
   "source": []
  },
  {
   "cell_type": "code",
   "execution_count": null,
   "metadata": {},
   "outputs": [],
   "source": [
    "group_colours = {'conservative+': '#0087DC',\n",
    "                 'labour+': '#DC241F',\n",
    "                 }\n",
    "groups = list(group_colours.keys())\n",
    "\n",
    "# group_parties = {'conservative+': ['conservative', 'brexit_party', 'reform_uk','united_kingdom_independence_party', 'reclaim_party'],\n",
    "#  'anti-Conservative': ['labour', 'liberal_democrat', 'alliance', 'change_uk', 'green', 'liberal', 'plaid_cymru', 'scottish_national_party', 'social_democratic_party'],\n",
    "#  }\n",
    "\n",
    "group_parties = {'conservative+': ['conservative', 'brexit_party', 'reform_uk', 'united_kingdom_independence_party',\n",
    "                                   'reclaim_party'],\n",
    "                 'labour+': ['labour'],\n",
    "                 }\n",
    "\n",
    "two_group_polls = all_polls[all_polls[reporting_date] >= datetime.datetime(1990, 1, 1)].copy()\n",
    "\n",
    "for group, parties in group_parties.items():\n",
    "    two_group_polls[group] = two_group_polls[parties].sum(axis=1)\n",
    "    two_group_polls.drop(\n",
    "        columns=parties,\n",
    "        inplace=True,\n",
    "    )\n",
    "\n",
    "two_group_polls['poll_month'] = two_group_polls[reporting_date].apply(lambda x: x.replace(day=1))\n",
    "two_group_polls = two_group_polls[[reporting_date, 'pollster', 'poll_month'] + groups]\n",
    "\n",
    "two_group_monthly = two_group_polls.groupby(['poll_month', 'pollster'])[groups].agg(['mean', 'count'])\n",
    "two_group_monthly.columns = [x if i == 0 else f'count{groups.index(x)}' for x in groups for i in range(0, 2)]\n",
    "two_group_monthly.drop(columns=[f'count{groups.index(x)}' for x in groups][1:], inplace=True)\n",
    "two_group_monthly.rename(columns={\"count0\": \"count\"}, inplace=True)\n",
    "\n",
    "agg_info = {x: ['mean'] for x in groups}\n",
    "agg_info['count'] = ['count', 'sum']\n",
    "two_group_monthly_summary = two_group_monthly.reset_index().groupby(['poll_month']).agg(agg_info)\n",
    "two_group_monthly_summary.columns = groups + ['pollster_count', 'poll_count']\n",
    "\n",
    "import matplotlib.pyplot as plt\n",
    "from numpy import arange\n",
    "\n",
    "fig = plt.figure(figsize=(15, 5))\n",
    "fig.set_facecolor('white')\n",
    "ax = plt.gca()\n",
    "\n",
    "for group in groups:\n",
    "    plt.plot_date(\n",
    "        x=two_group_monthly_summary.index[1:],\n",
    "        y=two_group_monthly_summary[group][1:],\n",
    "        fmt='-',\n",
    "        color=group_colours[group],\n",
    "        linewidth=4)\n",
    "\n",
    "    ax.fill_between(two_group_monthly_summary.index[1:], two_group_monthly_summary[group][1:],\n",
    "                    two_group_monthly_summary[groups[:2]].min(axis=1)[1:], color=group_colours[group], alpha=0.2)\n",
    "ax.set_yticks(arange(20, 56, 5), minor=False)\n",
    "# major_locator = plt.matplotlib.dates.DayLocator([1])\n",
    "# major_fmt = plt.matplotlib.dates.DateFormatter('%b-%y')\n",
    "\n",
    "major_locator = plt.matplotlib.dates.MonthLocator([1])\n",
    "major_fmt = plt.matplotlib.dates.DateFormatter(\"%y\")\n",
    "\n",
    "ax.xaxis.set_major_locator(major_locator)\n",
    "ax.xaxis.set_major_formatter(major_fmt)\n",
    "\n",
    "ax.set_xlim([two_group_monthly_summary.index[1], two_group_monthly_summary.index[-1]])\n",
    "\n",
    "ax.yaxis.set_major_formatter(plt.matplotlib.ticker.FuncFormatter(lambda x, p: f'{x/100:.0%}'))\n",
    "\n",
    "titleOffset = 0.125\n",
    "renderer = fig.canvas.get_renderer()\n",
    "figwidth = ax.get_window_extent().width/0.8\n",
    "\n",
    "group_parts = [[f\"{group}\", group_colours[group], 'bold'] for group in groups]\n",
    "titleparts = [['Opinion Polling Trend', 'k', 'book']] + [a for b in [[x, [\" vs \", 'k', 'regular']] for x in group_parts]\n",
    "                                                         for a in b][:-1]\n",
    "\n",
    "for part in titleparts:\n",
    "    txt = fig.text(titleOffset, 0.9, part[0], ha=\"left\", va=\"bottom\", size=\"large\", color=part[1], weight=part[2])\n",
    "    titleOffset += (txt.get_window_extent(renderer=renderer).width/figwidth)\n",
    "\n",
    "# plot_title = 'Opinion Polling Trend'\n",
    "# plt.title(plot_title)\n",
    "\n",
    "source = 'Source: Wikipedia - Opinion polling for the {year} United Kingdom general election'\n",
    "plt.annotate(source, (1, 0), (0, -20), xycoords='axes fraction', textcoords='offset points', va='top', ha='right')\n",
    "\n",
    "titleOffset = 0.15\n",
    "for group, parties in group_parties.items():\n",
    "    colour = group_colours[group]\n",
    "    fig.text(0.35, titleOffset, group, ha=\"left\", va=\"bottom\", size=\"medium\", color=colour, weight='bold')\n",
    "    fig.text(0.445, titleOffset, ': ' + ', '.join(parties).replace('_', ' '), ha=\"left\", va=\"bottom\", size=\"small\",\n",
    "             color='k', weight='regular')\n",
    "    titleOffset += 0.05\n",
    "#fig.savefig('html_outputs/monthly_trend.png', bbox_inches = 'tight', pad_inches = 0.2)"
   ]
  },
  {
   "cell_type": "code",
   "execution_count": null,
   "metadata": {},
   "outputs": [],
   "source": []
  },
  {
   "cell_type": "code",
   "execution_count": null,
   "metadata": {},
   "outputs": [],
   "source": [
    "group_colours = {'conservative+': '#0087DC',\n",
    "                 'anti-Conservative': '#DC241F',\n",
    "                 }\n",
    "groups = list(group_colours.keys())\n",
    "\n",
    "# group_parties = {'conservative+': ['conservative', 'brexit_party', 'reform_uk','united_kingdom_independence_party', 'reclaim_party'],\n",
    "#  'anti-Conservative': ['labour', 'liberal_democrat', 'alliance', 'change_uk', 'green', 'liberal', 'plaid_cymru', 'scottish_national_party', 'social_democratic_party'],\n",
    "#  }\n",
    "\n",
    "group_parties = {'conservative+': ['conservative', 'brexit_party', 'reform_uk', 'united_kingdom_independence_party',\n",
    "                                   'reclaim_party'],\n",
    "                 'anti-Conservative': ['labour', 'change_uk', 'green', 'plaid_cymru', 'scottish_national_party',\n",
    "                                       'liberal_democrat'],\n",
    "                 }\n",
    "\n",
    "two_group_polls = all_polls[all_polls[reporting_date] >= datetime.datetime(1990, 1, 1)].copy()\n",
    "\n",
    "for group, parties in group_parties.items():\n",
    "    two_group_polls[group] = two_group_polls[parties].sum(axis=1)\n",
    "    two_group_polls.drop(\n",
    "        columns=parties,\n",
    "        inplace=True,\n",
    "    )\n",
    "\n",
    "two_group_polls['poll_month'] = two_group_polls[reporting_date].apply(lambda x: x.replace(day=1))\n",
    "two_group_polls = two_group_polls[[reporting_date, 'pollster', 'poll_month'] + groups]\n",
    "\n",
    "two_group_monthly = two_group_polls.groupby(['poll_month', 'pollster'])[groups].agg(['mean', 'count'])\n",
    "two_group_monthly.columns = [x if i == 0 else f'count{groups.index(x)}' for x in groups for i in range(0, 2)]\n",
    "two_group_monthly.drop(columns=[f'count{groups.index(x)}' for x in groups][1:], inplace=True)\n",
    "two_group_monthly.rename(columns={\"count0\": \"count\"}, inplace=True)\n",
    "\n",
    "agg_info = {x: ['mean'] for x in groups}\n",
    "agg_info['count'] = ['count', 'sum']\n",
    "two_group_monthly_summary = two_group_monthly.reset_index().groupby(['poll_month']).agg(agg_info)\n",
    "two_group_monthly_summary.columns = groups + ['pollster_count', 'poll_count']\n",
    "\n",
    "import matplotlib.pyplot as plt\n",
    "from numpy import arange\n",
    "\n",
    "fig = plt.figure(figsize=(15, 5))\n",
    "fig.set_facecolor('white')\n",
    "ax = plt.gca()\n",
    "\n",
    "for group in groups:\n",
    "    plt.plot_date(\n",
    "        x=two_group_monthly_summary.index[1:],\n",
    "        y=two_group_monthly_summary[group][1:],\n",
    "        fmt='-',\n",
    "        color=group_colours[group],\n",
    "        linewidth=4)\n",
    "\n",
    "    ax.fill_between(two_group_monthly_summary.index[1:], two_group_monthly_summary[group][1:],\n",
    "                    two_group_monthly_summary[groups[:2]].min(axis=1)[1:], color=group_colours[group], alpha=0.2)\n",
    "ax.set_yticks(arange(20, 81, 5), minor=False)\n",
    "# major_locator = plt.matplotlib.dates.DayLocator([1])\n",
    "# major_fmt = plt.matplotlib.dates.DateFormatter('%b-%y')\n",
    "\n",
    "major_locator = plt.matplotlib.dates.MonthLocator([1])\n",
    "major_fmt = plt.matplotlib.dates.DateFormatter(\"%y\")\n",
    "\n",
    "ax.xaxis.set_major_locator(major_locator)\n",
    "ax.xaxis.set_major_formatter(major_fmt)\n",
    "\n",
    "ax.set_xlim([two_group_monthly_summary.index[1], two_group_monthly_summary.index[-1]])\n",
    "\n",
    "ax.yaxis.set_major_formatter(plt.matplotlib.ticker.FuncFormatter(lambda x, p: f'{x/100:.0%}'))\n",
    "\n",
    "titleOffset = 0.125\n",
    "renderer = fig.canvas.get_renderer()\n",
    "figwidth = ax.get_window_extent().width/0.8\n",
    "\n",
    "group_parts = [[f\"{group}\", group_colours[group], 'bold'] for group in groups]\n",
    "titleparts = [['Opinion Polling Trend', 'k', 'book']] + [a for b in [[x, [\" vs \", 'k', 'regular']] for x in group_parts]\n",
    "                                                         for a in b][:-1]\n",
    "\n",
    "for part in titleparts:\n",
    "    txt = fig.text(titleOffset, 0.9, part[0], ha=\"left\", va=\"bottom\", size=\"large\", color=part[1], weight=part[2])\n",
    "    titleOffset += (txt.get_window_extent(renderer=renderer).width/figwidth)\n",
    "\n",
    "# plot_title = 'Opinion Polling Trend'\n",
    "# plt.title(plot_title)\n",
    "\n",
    "source = 'Source: Wikipedia - Opinion polling for the {year} United Kingdom general election'\n",
    "plt.annotate(source, (1, 0), (0, -20), xycoords='axes fraction', textcoords='offset points', va='top', ha='right')\n",
    "\n",
    "titleOffset = 0.15\n",
    "for group, parties in group_parties.items():\n",
    "    colour = group_colours[group]\n",
    "    fig.text(0.35, titleOffset, group, ha=\"left\", va=\"bottom\", size=\"medium\", color=colour, weight='bold')\n",
    "    fig.text(0.445, titleOffset, ': ' + ', '.join(parties).replace('_', ' '), ha=\"left\", va=\"bottom\", size=\"small\",\n",
    "             color='k', weight='regular')\n",
    "    titleOffset += 0.05\n",
    "#fig.savefig('html_outputs/monthly_trend.png', bbox_inches = 'tight', pad_inches = 0.2)"
   ]
  },
  {
   "cell_type": "code",
   "execution_count": null,
   "metadata": {},
   "outputs": [],
   "source": [
    "group_colours = {'conservative+': '#0087DC',\n",
    "                 'anti-Conservative': '#DC241F',\n",
    "                 }\n",
    "groups = list(group_colours.keys())\n",
    "\n",
    "# group_parties = {'conservative+': ['conservative', 'brexit_party', 'reform_uk','united_kingdom_independence_party', 'reclaim_party'],\n",
    "#  'anti-Conservative': ['labour', 'liberal_democrat', 'alliance', 'change_uk', 'green', 'liberal', 'plaid_cymru', 'scottish_national_party', 'social_democratic_party'],\n",
    "#  }\n",
    "\n",
    "group_parties = {'conservative+': ['conservative', 'brexit_party', 'reform_uk', 'united_kingdom_independence_party',\n",
    "                                   'reclaim_party'],\n",
    "                 'anti-Conservative': ['labour', 'change_uk', 'green', 'plaid_cymru', 'scottish_national_party',\n",
    "                                       'liberal_democrat'],\n",
    "                 }\n",
    "\n",
    "two_group_polls = all_polls[all_polls[reporting_date] >= datetime.datetime(2016, 1, 1)].copy()\n",
    "\n",
    "for group, parties in group_parties.items():\n",
    "    two_group_polls[group] = two_group_polls[parties].sum(axis=1)\n",
    "    two_group_polls.drop(\n",
    "        columns=parties,\n",
    "        inplace=True,\n",
    "    )\n",
    "\n",
    "two_group_polls['poll_month'] = two_group_polls[reporting_date].apply(lambda x: x.replace(day=1))\n",
    "two_group_polls = two_group_polls[[reporting_date, 'pollster', 'poll_month'] + groups]\n",
    "\n",
    "two_group_monthly = two_group_polls.groupby(['poll_month', 'pollster'])[groups].agg(['mean', 'count'])\n",
    "two_group_monthly.columns = [x if i == 0 else f'count{groups.index(x)}' for x in groups for i in range(0, 2)]\n",
    "two_group_monthly.drop(columns=[f'count{groups.index(x)}' for x in groups][1:], inplace=True)\n",
    "two_group_monthly.rename(columns={\"count0\": \"count\"}, inplace=True)\n",
    "\n",
    "agg_info = {x: ['mean'] for x in groups}\n",
    "agg_info['count'] = ['count', 'sum']\n",
    "two_group_monthly_summary = two_group_monthly.reset_index().groupby(['poll_month']).agg(agg_info)\n",
    "two_group_monthly_summary.columns = groups + ['pollster_count', 'poll_count']\n",
    "\n",
    "import matplotlib.pyplot as plt\n",
    "from numpy import arange\n",
    "\n",
    "fig = plt.figure(figsize=(15, 5))\n",
    "fig.set_facecolor('white')\n",
    "ax = plt.gca()\n",
    "\n",
    "for group in groups:\n",
    "    plt.plot_date(\n",
    "        x=two_group_monthly_summary.index[1:],\n",
    "        y=two_group_monthly_summary[group][1:],\n",
    "        fmt='-',\n",
    "        color=group_colours[group],\n",
    "        linewidth=4)\n",
    "\n",
    "    ax.fill_between(two_group_monthly_summary.index[1:], two_group_monthly_summary[group][1:],\n",
    "                    two_group_monthly_summary[groups[:2]].min(axis=1)[1:], color=group_colours[group], alpha=0.2)\n",
    "ax.set_yticks(arange(20, 81, 5), minor=False)\n",
    "# major_locator = plt.matplotlib.dates.DayLocator([1])\n",
    "# major_fmt = plt.matplotlib.dates.DateFormatter('%b-%y')\n",
    "\n",
    "major_locator = plt.matplotlib.dates.MonthLocator([1])\n",
    "major_fmt = plt.matplotlib.dates.DateFormatter(\"%Y\")\n",
    "\n",
    "ax.xaxis.set_major_locator(major_locator)\n",
    "ax.xaxis.set_major_formatter(major_fmt)\n",
    "\n",
    "ax.set_xlim([two_group_monthly_summary.index[1], two_group_monthly_summary.index[-1]])\n",
    "\n",
    "ax.yaxis.set_major_formatter(plt.matplotlib.ticker.FuncFormatter(lambda x, p: f'{x/100:.0%}'))\n",
    "\n",
    "titleOffset = 0.125\n",
    "renderer = fig.canvas.get_renderer()\n",
    "figwidth = ax.get_window_extent().width/0.8\n",
    "\n",
    "group_parts = [[f\"{group}\", group_colours[group], 'bold'] for group in groups]\n",
    "titleparts = [['Opinion Polling Trend', 'k', 'book']] + [a for b in [[x, [\" vs \", 'k', 'regular']] for x in group_parts]\n",
    "                                                         for a in b][:-1]\n",
    "\n",
    "for part in titleparts:\n",
    "    txt = fig.text(titleOffset, 0.9, part[0], ha=\"left\", va=\"bottom\", size=\"large\", color=part[1], weight=part[2])\n",
    "    titleOffset += (txt.get_window_extent(renderer=renderer).width/figwidth)\n",
    "\n",
    "# plot_title = 'Opinion Polling Trend'\n",
    "# plt.title(plot_title)\n",
    "\n",
    "source = 'Source: Wikipedia - Opinion polling for the {year} United Kingdom general election'\n",
    "plt.annotate(source, (1, 0), (0, -20), xycoords='axes fraction', textcoords='offset points', va='top', ha='right')\n",
    "\n",
    "titleOffset = 0.15\n",
    "for group, parties in group_parties.items():\n",
    "    colour = group_colours[group]\n",
    "    fig.text(0.35, titleOffset, group, ha=\"left\", va=\"bottom\", size=\"medium\", color=colour, weight='bold')\n",
    "    fig.text(0.445, titleOffset, ': ' + ', '.join(parties).replace('_', ' '), ha=\"left\", va=\"bottom\", size=\"small\",\n",
    "             color='k', weight='regular')\n",
    "    titleOffset += 0.05\n",
    "#fig.savefig('html_outputs/monthly_trend.png', bbox_inches = 'tight', pad_inches = 0.2)"
   ]
  },
  {
   "cell_type": "code",
   "execution_count": null,
   "metadata": {},
   "outputs": [],
   "source": [
    "one_year_polls['poll_month'] = one_year_polls[reporting_date].apply(lambda x: x.replace(day=1))"
   ]
  },
  {
   "cell_type": "code",
   "execution_count": null,
   "metadata": {},
   "outputs": [],
   "source": [
    "kantar_polls = all_polls.query('pollster == \"Kantar Public\" and date_concluded> \"2019-01-01\"').copy()\n",
    "other_polls = all_polls.query('pollster != \"Kantar Public\" and date_concluded> \"2019-01-01\"').copy()"
   ]
  },
  {
   "cell_type": "code",
   "execution_count": null,
   "metadata": {},
   "outputs": [],
   "source": [
    "kantar_polls['poll_month'] = kantar_polls[reporting_date].apply(lambda x: x.replace(day=1))\n",
    "other_polls['poll_month'] = other_polls[reporting_date].apply(lambda x: x.replace(day=1))"
   ]
  },
  {
   "cell_type": "code",
   "execution_count": null,
   "metadata": {},
   "outputs": [],
   "source": [
    "other_pollster_monthly_summary = other_polls.groupby(['poll_month', 'pollster'])[major_parties].agg(['mean', 'count'])\n",
    "other_pollster_monthly_summary.columns = [x if i == 0 else f'count{major_parties.index(x)}' for x in major_parties for i\n",
    "                                          in\n",
    "                                          range(0, 2)]\n",
    "other_pollster_monthly_summary.drop(columns=[f'count{major_parties.index(x)}' for x in major_parties][1:], inplace=True)\n",
    "other_pollster_monthly_summary.rename(columns={\"count0\": \"count\"}, inplace=True)\n",
    "\n",
    "agg_info = {x: ['mean'] for x in major_parties}\n",
    "agg_info['count'] = ['count', 'sum']\n",
    "other_monthly_summary = other_pollster_monthly_summary.reset_index().groupby(['poll_month']).agg(agg_info)\n",
    "other_monthly_summary.columns = major_parties + ['pollster_count', 'poll_count']"
   ]
  },
  {
   "cell_type": "code",
   "execution_count": null,
   "metadata": {},
   "outputs": [],
   "source": [
    "kantar_pollster_monthly_summary = kantar_polls.groupby(['poll_month', 'pollster'])[major_parties].agg(['mean', 'count'])\n",
    "kantar_pollster_monthly_summary.columns = [x if i == 0 else f'count{major_parties.index(x)}' for x in major_parties for\n",
    "                                           i in\n",
    "                                           range(0, 2)]\n",
    "kantar_pollster_monthly_summary.drop(columns=[f'count{major_parties.index(x)}' for x in major_parties][1:],\n",
    "                                     inplace=True)\n",
    "kantar_pollster_monthly_summary.rename(columns={\"count0\": \"count\"}, inplace=True)\n",
    "\n",
    "agg_info = {x: ['mean'] for x in major_parties}\n",
    "agg_info['count'] = ['count', 'sum']\n",
    "kantar_monthly_summary = kantar_pollster_monthly_summary.reset_index().groupby(['poll_month']).agg(agg_info)\n",
    "kantar_monthly_summary.columns = major_parties + ['pollster_count', 'poll_count']"
   ]
  },
  {
   "cell_type": "code",
   "execution_count": null,
   "metadata": {},
   "outputs": [],
   "source": [
    "other_monthly_summary[['kantar_con', 'kantar_lab']] = kantar_monthly_summary[['conservative', 'labour']]"
   ]
  },
  {
   "cell_type": "code",
   "execution_count": null,
   "metadata": {},
   "outputs": [],
   "source": [
    "other_monthly_summary.to_clipboard(sep='\\t')"
   ]
  },
  {
   "cell_type": "code",
   "execution_count": null,
   "metadata": {},
   "outputs": [],
   "source": []
  },
  {
   "cell_type": "code",
   "execution_count": null,
   "metadata": {},
   "outputs": [],
   "source": []
  },
  {
   "cell_type": "code",
   "execution_count": null,
   "metadata": {},
   "outputs": [],
   "source": []
  },
  {
   "cell_type": "code",
   "execution_count": null,
   "metadata": {},
   "outputs": [],
   "source": [
    "general_elections = all_polls.query('pollster==\"General Election\"')\n",
    "general_election_dates = list(general_elections.date_concluded.unique())\n",
    "#general_elections = general_elections[general_elections.date_concluded > datetime.datetime(2016,1,1)]"
   ]
  },
  {
   "cell_type": "code",
   "execution_count": null,
   "metadata": {},
   "outputs": [],
   "source": [
    "for ge in general_election_dates[::-1]:\n",
    "    if ge < np.datetime64('2016-01-01'):\n",
    "        continue\n",
    "\n",
    "    print(ge)"
   ]
  },
  {
   "cell_type": "code",
   "execution_count": null,
   "metadata": {},
   "outputs": [],
   "source": [
    "general_elections[general_elections.date_concluded == ge]"
   ]
  },
  {
   "cell_type": "code",
   "execution_count": null,
   "metadata": {},
   "outputs": [],
   "source": [
    "all_polls.query('liberal_democrat + 10 > conservative')"
   ]
  },
  {
   "cell_type": "code",
   "execution_count": null,
   "metadata": {},
   "outputs": [],
   "source": [
    "all_polls.query('labour>56')"
   ]
  },
  {
   "cell_type": "code",
   "execution_count": null,
   "metadata": {},
   "outputs": [],
   "source": [
    "GEs_to_use = [\n",
    "\n",
    "]"
   ]
  },
  {
   "cell_type": "code",
   "execution_count": null,
   "metadata": {},
   "outputs": [],
   "source": [
    "all_polls.query('pollster==\"Techne UK\"')"
   ]
  },
  {
   "cell_type": "code",
   "execution_count": null,
   "metadata": {},
   "outputs": [],
   "source": [
    "break"
   ]
  },
  {
   "cell_type": "code",
   "execution_count": null,
   "metadata": {},
   "outputs": [],
   "source": [
    "import pandas as pd\n",
    "import requests\n",
    "from io import StringIO\n",
    "\n",
    "url = 'https://www.markpack.org.uk/files/2022/07/PollBase-Q2-2022.xlsx'\n",
    "headers = {\"User-Agent\": \"Mozilla/5.0 (Macintosh; Intel Mac OS X 10.14; rv:66.0) Gecko/20100101 Firefox/66.0\"}\n",
    "req = requests.get(url, headers=headers)\n",
    "\n"
   ]
  },
  {
   "cell_type": "code",
   "execution_count": null,
   "metadata": {},
   "outputs": [],
   "source": [
    "data = StringIO(req.content)"
   ]
  },
  {
   "cell_type": "code",
   "execution_count": null,
   "metadata": {},
   "outputs": [],
   "source": [
    "pollbase = pd.read_excel(req.content, sheet_name=1)"
   ]
  },
  {
   "cell_type": "code",
   "execution_count": null,
   "metadata": {},
   "outputs": [],
   "source": [
    "pollbase"
   ]
  },
  {
   "cell_type": "code",
   "execution_count": null,
   "metadata": {},
   "outputs": [],
   "source": [
    "all_polls['poll_month'] = all_polls['date_concluded'].apply(lambda x: x.replace(day=1))"
   ]
  },
  {
   "cell_type": "code",
   "execution_count": null,
   "metadata": {},
   "outputs": [],
   "source": [
    "pollster_monthly_summary = all_polls.groupby(['poll_month', 'pollster'])[major_parties].agg(['mean', 'count'])\n",
    "pollster_monthly_summary.columns = [x if i == 0 else f'count{major_parties.index(x)}' for x in major_parties for i in\n",
    "                                    range(0, 2)]\n",
    "pollster_monthly_summary.drop(columns=[f'count{major_parties.index(x)}' for x in major_parties][1:], inplace=True)\n",
    "pollster_monthly_summary.rename(columns={\"count0\": \"count\"}, inplace=True)\n",
    "\n",
    "agg_info = {x: ['mean'] for x in major_parties}\n",
    "agg_info['count'] = ['count', 'sum']\n",
    "monthly_summary = pollster_monthly_summary.reset_index().groupby(['poll_month']).agg(agg_info)\n",
    "monthly_summary.columns = major_parties + ['pollster_count', 'poll_count']"
   ]
  },
  {
   "cell_type": "code",
   "execution_count": null,
   "metadata": {},
   "outputs": [],
   "source": [
    "monthly_summary.query('conservative<31.5')"
   ]
  },
  {
   "cell_type": "code",
   "execution_count": null,
   "metadata": {},
   "outputs": [],
   "source": [
    "monthly_summary.query('(labour-conservative)>9.3')"
   ]
  },
  {
   "cell_type": "code",
   "execution_count": null,
   "metadata": {},
   "outputs": [],
   "source": []
  },
  {
   "cell_type": "code",
   "execution_count": null,
   "metadata": {},
   "outputs": [],
   "source": []
  },
  {
   "cell_type": "code",
   "execution_count": null,
   "metadata": {},
   "outputs": [],
   "source": []
  },
  {
   "cell_type": "code",
   "execution_count": null,
   "metadata": {},
   "outputs": [],
   "source": []
  },
  {
   "cell_type": "code",
   "execution_count": null,
   "metadata": {},
   "outputs": [],
   "source": []
  },
  {
   "cell_type": "code",
   "execution_count": null,
   "metadata": {},
   "outputs": [],
   "source": []
  },
  {
   "cell_type": "code",
   "execution_count": null,
   "metadata": {},
   "outputs": [],
   "source": []
  },
  {
   "cell_type": "code",
   "execution_count": null,
   "metadata": {},
   "outputs": [],
   "source": []
  },
  {
   "cell_type": "code",
   "execution_count": null,
   "metadata": {},
   "outputs": [],
   "source": []
  },
  {
   "cell_type": "code",
   "execution_count": null,
   "metadata": {},
   "outputs": [],
   "source": []
  },
  {
   "cell_type": "code",
   "execution_count": null,
   "metadata": {},
   "outputs": [],
   "source": []
  },
  {
   "cell_type": "code",
   "execution_count": null,
   "metadata": {},
   "outputs": [],
   "source": []
  },
  {
   "cell_type": "code",
   "execution_count": null,
   "metadata": {},
   "outputs": [],
   "source": []
  },
  {
   "cell_type": "code",
   "execution_count": null,
   "metadata": {},
   "outputs": [],
   "source": []
  },
  {
   "cell_type": "code",
   "execution_count": null,
   "metadata": {},
   "outputs": [],
   "source": []
  },
  {
   "cell_type": "code",
   "execution_count": null,
   "metadata": {},
   "outputs": [],
   "source": []
  },
  {
   "cell_type": "code",
   "execution_count": null,
   "metadata": {},
   "outputs": [],
   "source": []
  }
 ],
 "metadata": {
  "kernelspec": {
   "display_name": "Python 3 (ipykernel)",
   "language": "python",
   "name": "python3"
  },
  "language_info": {
   "codemirror_mode": {
    "name": "ipython",
    "version": 3
   },
   "file_extension": ".py",
   "mimetype": "text/x-python",
   "name": "python",
   "nbconvert_exporter": "python",
   "pygments_lexer": "ipython3",
   "version": "3.10.1"
  }
 },
 "nbformat": 4,
 "nbformat_minor": 1
}
