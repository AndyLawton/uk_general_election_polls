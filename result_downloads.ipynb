{
 "cells": [
  {
   "cell_type": "code",
   "execution_count": 38,
   "metadata": {
    "collapsed": true
   },
   "outputs": [],
   "source": [
    "import pandas as pd\n",
    "from bs4 import BeautifulSoup\n",
    "import requests\n",
    "import numpy as np"
   ]
  },
  {
   "cell_type": "code",
   "execution_count": 39,
   "outputs": [],
   "source": [
    "url_1974 = 'https://en.wikipedia.org/wiki/Opinion_polling_for_the_1974_United_Kingdom_general_elections'\n",
    "url_1979 = 'https://en.wikipedia.org/wiki/Opinion_polling_for_the_1979_United_Kingdom_general_election'\n",
    "url_1983 = 'https://en.wikipedia.org/wiki/Opinion_polling_for_the_1983_United_Kingdom_general_election'\n",
    "url_1987 = 'https://en.wikipedia.org/wiki/Opinion_polling_for_the_1987_United_Kingdom_general_election'\n",
    "url_1992 = 'https://en.wikipedia.org/wiki/Opinion_polling_for_the_1992_United_Kingdom_general_election'\n",
    "url_1997 = 'https://en.wikipedia.org/wiki/Opinion_polling_for_the_1997_United_Kingdom_general_election'\n",
    "url_2001 = 'https://en.wikipedia.org/wiki/Opinion_polling_for_the_2001_United_Kingdom_general_election'\n",
    "url_2005 = 'https://en.wikipedia.org/wiki/Opinion_polling_for_the_2005_United_Kingdom_general_election'\n",
    "url_2010 = 'https://en.wikipedia.org/wiki/Opinion_polling_for_the_2010_United_Kingdom_general_election'\n",
    "url_2012 = 'https://en.wikipedia.org/wiki/Opinion_polling_for_the_2015_United_Kingdom_general_election_(2010%E2%80%932012)'\n",
    "url_2015 = 'https://en.wikipedia.org/wiki/Opinion_polling_for_the_2015_United_Kingdom_general_election'\n",
    "url_2017 = 'https://en.wikipedia.org/wiki/Opinion_polling_for_the_2017_United_Kingdom_general_election'\n",
    "url_2019 = 'https://en.wikipedia.org/wiki/Opinion_polling_for_the_2019_United_Kingdom_general_election'\n",
    "\n",
    "url = 'https://en.wikipedia.org/wiki/Opinion_polling_for_the_next_United_Kingdom_general_election'"
   ],
   "metadata": {
    "collapsed": false,
    "pycharm": {
     "name": "#%%\n"
    }
   }
  },
  {
   "cell_type": "code",
   "execution_count": 40,
   "outputs": [],
   "source": [
    "general_elections = [\n",
    "    url_1974,\n",
    "    url_1979,\n",
    "    url_1983,\n",
    "    url_1987,\n",
    "    url_1992,\n",
    "    url_1997,\n",
    "    url_2001,\n",
    "    url_2005,\n",
    "    url_2010,\n",
    "    url_2012,\n",
    "    url_2015,\n",
    "    url_2017,\n",
    "    url_2019,\n",
    "    url\n",
    "]\n"
   ],
   "metadata": {
    "collapsed": false,
    "pycharm": {
     "name": "#%%\n"
    }
   }
  },
  {
   "cell_type": "code",
   "execution_count": 40,
   "outputs": [],
   "source": [],
   "metadata": {
    "collapsed": false,
    "pycharm": {
     "name": "#%%\n"
    }
   }
  },
  {
   "cell_type": "code",
   "execution_count": 41,
   "outputs": [],
   "source": [
    "election_tables = []\n",
    "page = requests.get(url_1974)\n",
    "soup = BeautifulSoup(page.content, \"html.parser\")\n",
    "election_tables.append(('1974', pd.read_html(str(soup.find(id='October_general_election').find_next('table')))[0]))\n",
    "for election in general_elections:\n",
    "    page = requests.get(election)\n",
    "    soup = BeautifulSoup(page.content, \"html.parser\")\n",
    "    toc = soup.find(id='toc')\n",
    "    level2 = toc.find_all(\"li\", {\"class\": \"toclevel-2\"})\n",
    "    level2_links = [x.find('a')['href'] for x in level2]\n",
    "    years = [x.replace('#', '') for x in level2_links if len(x) == 5]\n",
    "    for year in years:\n",
    "        if election == url_2015 and year in ['2010', '2011', '2012']:\n",
    "            continue\n",
    "        table = pd.read_html(str(soup.find(id=year).find_next('table')))[0]\n",
    "        if len(table) < 20:\n",
    "            break\n",
    "        election_tables.append((year, table))"
   ],
   "metadata": {
    "collapsed": false,
    "pycharm": {
     "name": "#%%\n"
    }
   }
  },
  {
   "cell_type": "code",
   "execution_count": 42,
   "outputs": [],
   "source": [
    "column_rename = {'All': 'alliance',\n",
    "                 'Area': 'area',\n",
    "                 'Brexit': 'brexit_party',\n",
    "                 'Change UK': 'change_uk',\n",
    "                 'Client': 'client',\n",
    "                 'Con': 'conservative',\n",
    "                 'Date(s)Conducted': 'dates',\n",
    "                 'Date(s)conducted': 'dates',\n",
    "                 'Datesconducted': 'dates',\n",
    "                 'Green': 'green',\n",
    "                 'Lab': 'labour',\n",
    "                 'Lead': 'lead',\n",
    "                 'Lib': 'liberal',\n",
    "                 'Lib Dem': 'liberal_democrat',\n",
    "                 'Other': 'others',\n",
    "                 'Others': 'others',\n",
    "                 'Plaid Cymru': 'plaid_cymru',\n",
    "                 'Polling Organisation / Client': 'pollster_client',\n",
    "                 'Polling organisation/client': 'pollster_client',\n",
    "                 'Pollster': 'pollster',\n",
    "                 'Pollster/Client': 'pollster_client',\n",
    "                 'Pollster/client(s)': 'pollster_client',\n",
    "                 'Reform': 'reform_uk',\n",
    "                 'SDP': 'social_democratic_party',\n",
    "                 'SLD': 'liberal_democrat',\n",
    "                 'SNP': 'scottish_national_party',\n",
    "                 'Sample size': 'sample_size',\n",
    "                 'Samplesize': 'sample_size',\n",
    "                 'Surveyend date': 'dates',\n",
    "                 'UKIP': 'united_kingdom_independence_party',\n",
    "                 'Reclaim Party': 'reclaim_party',\n",
    "                 'Brexit Party': 'brexit_party'\n",
    "                 }\n"
   ],
   "metadata": {
    "collapsed": false,
    "pycharm": {
     "name": "#%%\n"
    }
   }
  },
  {
   "cell_type": "code",
   "execution_count": 43,
   "outputs": [],
   "source": [
    "poll_info_columns = [\n",
    "    'dates',\n",
    "    'year',\n",
    "    'area',\n",
    "    'pollster',\n",
    "    'pollster_client',\n",
    "    'client',\n",
    "    'sample_size']\n",
    "party_columns = [\n",
    "    'alliance',\n",
    "    'brexit_party',\n",
    "    'change_uk',\n",
    "    'conservative',\n",
    "    'green',\n",
    "    'labour',\n",
    "    'liberal',\n",
    "    'liberal_democrat',\n",
    "    'plaid_cymru',\n",
    "    'reform_uk',\n",
    "    'scottish_national_party',\n",
    "    'social_democratic_party',\n",
    "    'united_kingdom_independence_party',\n",
    "    'reclaim_party']\n",
    "final_columns = [\n",
    "    'others',\n",
    "    'lead']\n",
    "column_names = poll_info_columns + party_columns + final_columns\n"
   ],
   "metadata": {
    "collapsed": false,
    "pycharm": {
     "name": "#%%\n"
    }
   }
  },
  {
   "cell_type": "code",
   "execution_count": 44,
   "outputs": [],
   "source": [
    "def set_others(a):\n",
    "    if pd.isna(a):\n",
    "        return {'others': np.nan}\n",
    "    b = a.split(' on')\n",
    "    i = 1\n",
    "    results = {}\n",
    "    if len(b) == 1:\n",
    "        results['others'] = b[0].split('%')[0].strip() + '%'\n",
    "        return results\n",
    "    while len(b) > i:\n",
    "        party = b[i - 1].split('%')[1].strip()\n",
    "        if party in column_rename:\n",
    "            party = column_rename[party]\n",
    "        else:\n",
    "            print(party, a)\n",
    "        result = b[i].split('%')[0].strip()\n",
    "        results[party] = result + '%'\n",
    "        i += 1\n",
    "    return results"
   ],
   "metadata": {
    "collapsed": false,
    "pycharm": {
     "name": "#%%\n"
    }
   }
  },
  {
   "cell_type": "code",
   "execution_count": 49,
   "outputs": [],
   "source": [
    "all_polls = pd.DataFrame(columns=column_names)\n",
    "for year, polling_results in election_tables:\n",
    "    table = polling_results.copy()\n",
    "    table.columns = [column_rename[a] for a, b in table.columns]\n",
    "    table['year'] = year\n",
    "    all_polls = all_polls.append(table, ignore_index=True)\n",
    "all_polls = all_polls[~((all_polls['lead'] == all_polls['conservative']) & (all_polls['lead'] == all_polls['labour']))]"
   ],
   "metadata": {
    "collapsed": false,
    "pycharm": {
     "name": "#%%\n"
    }
   }
  },
  {
   "cell_type": "code",
   "execution_count": 50,
   "outputs": [
    {
     "name": "stderr",
     "output_type": "stream",
     "text": [
      "C:\\Users\\vtxvt\\AppData\\Local\\Temp/ipykernel_36116/2571999208.py:2: FutureWarning: The default value of regex will change from True to False in a future version.\n",
      "  all_polls[column] = all_polls[column].str.replace(r\"\\[.*\\]\", \"\")\n"
     ]
    }
   ],
   "source": [
    "for column in column_names:\n",
    "    all_polls[column] = all_polls[column].str.replace(r\"\\[.*\\]\", \"\")"
   ],
   "metadata": {
    "collapsed": false,
    "pycharm": {
     "name": "#%%\n"
    }
   }
  },
  {
   "cell_type": "code",
   "execution_count": 51,
   "outputs": [],
   "source": [
    "for party in party_columns:\n",
    "    replacement_values = {'?': np.nan, '–': np.nan, '–': np.nan, '-': np.nan, '*': np.nan, 'TBA': np.nan}\n",
    "    all_polls[party] = pd.to_numeric(\n",
    "        all_polls[party]\n",
    "            .str.strip('%')\n",
    "            .str.strip('<')\n",
    "            .str.strip('>')\n",
    "            .replace(replacement_values)\n",
    "    )\n"
   ],
   "metadata": {
    "collapsed": false,
    "pycharm": {
     "name": "#%%\n"
    }
   }
  },
  {
   "cell_type": "code",
   "execution_count": 52,
   "outputs": [],
   "source": [
    "all_polls['lead'] = pd.to_numeric(all_polls['lead'].str.strip('%').replace('Tie', 0))"
   ],
   "metadata": {
    "collapsed": false,
    "pycharm": {
     "name": "#%%\n"
    }
   }
  },
  {
   "cell_type": "code",
   "execution_count": 53,
   "outputs": [],
   "source": [
    "other_parties = pd.json_normalize(all_polls['others'].map(set_others))"
   ],
   "metadata": {
    "collapsed": false,
    "pycharm": {
     "name": "#%%\n"
    }
   }
  },
  {
   "cell_type": "code",
   "execution_count": 54,
   "outputs": [],
   "source": [
    "for party in other_parties.columns:\n",
    "    other_parties[party] = pd.to_numeric(\n",
    "        other_parties[party]\n",
    "            .str.strip('%')\n",
    "            .str.strip('<')\n",
    "            .str.strip('>')\n",
    "            .replace(replacement_values)\n",
    "    )\n",
    "\n",
    "    if party not in all_polls.columns or party == 'others':\n",
    "        all_polls[party] = other_parties[party]\n",
    "    else:\n",
    "        all_polls[party] = all_polls[party].to_frame(name='a').join(other_parties[party]).sum(axis=1, min_count=1)"
   ],
   "metadata": {
    "collapsed": false,
    "pycharm": {
     "name": "#%%\n"
    }
   }
  },
  {
   "cell_type": "code",
   "execution_count": 55,
   "outputs": [],
   "source": [
    "all_polls['date_started'] = np.nan\n",
    "all_polls['date_concluded'] = np.nan"
   ],
   "metadata": {
    "collapsed": false,
    "pycharm": {
     "name": "#%%\n"
    }
   }
  },
  {
   "cell_type": "code",
   "execution_count": 56,
   "outputs": [],
   "source": [
    "def set_date(date, year):\n",
    "    date = date.replace('–', '-').replace('Pre-', '').strip()\n",
    "    date_parts = date.split(\" \")\n",
    "    for part in date_parts:\n",
    "        if len(part) == 4 and (part.startswith('19') or part.startswith('20')):\n",
    "            year = part\n",
    "            date_parts.remove(part)\n",
    "    date = ' '.join(date_parts)\n",
    "    if ' ' not in date:\n",
    "        start_date = end_date = f'{year}-{date}-1'\n",
    "    else:\n",
    "        if '-' not in date:\n",
    "            day, month = date.split(' ')\n",
    "            start_date = end_date = f'{year}-{month[0:3]}-{day}'\n",
    "        else:\n",
    "            start, end = date.split('-')\n",
    "            start = start.strip()\n",
    "            end = end.strip()\n",
    "            day, month = end.split(' ')\n",
    "            end_date = f'{year}-{month[0:3]}-{day}'\n",
    "            if ' ' in start:\n",
    "                day, month = start.split(' ')\n",
    "            else:\n",
    "                day = start\n",
    "            start_date = f'{year}-{month[0:3]}-{day}'\n",
    "    return start_date, end_date"
   ],
   "metadata": {
    "collapsed": false,
    "pycharm": {
     "name": "#%%\n"
    }
   }
  },
  {
   "cell_type": "code",
   "execution_count": 56,
   "outputs": [],
   "source": [],
   "metadata": {
    "collapsed": false,
    "pycharm": {
     "name": "#%%\n"
    }
   }
  },
  {
   "cell_type": "code",
   "execution_count": 57,
   "outputs": [],
   "source": [
    "for ix, row in all_polls.iterrows():\n",
    "    date = row.dates\n",
    "    row.date_started, row.date_concluded = set_date(row.dates, row.year)\n",
    "    if not pd.isna(row.pollster_client):\n",
    "        pc = row.pollster_client.split('/')\n",
    "        row.pollster = pc[0]\n",
    "        if len(pc) > 1:\n",
    "            row.client = pc[1]\n",
    "    all_polls.loc[ix] = row"
   ],
   "metadata": {
    "collapsed": false,
    "pycharm": {
     "name": "#%%\n"
    }
   }
  },
  {
   "cell_type": "code",
   "execution_count": 58,
   "outputs": [],
   "source": [
    "all_polls['date_started'] = pd.to_datetime(all_polls['date_started'])\n",
    "all_polls['date_concluded'] = pd.to_datetime(all_polls['date_concluded'])"
   ],
   "metadata": {
    "collapsed": false,
    "pycharm": {
     "name": "#%%\n"
    }
   }
  },
  {
   "cell_type": "code",
   "execution_count": 59,
   "outputs": [],
   "source": [
    "all_polls = all_polls[['date_started', 'date_concluded', 'area', 'pollster', 'client',\n",
    "                       'sample_size', 'alliance', 'brexit_party', 'change_uk', 'conservative',\n",
    "                       'green', 'labour', 'liberal', 'liberal_democrat', 'plaid_cymru',\n",
    "                       'reform_uk', 'scottish_national_party', 'social_democratic_party',\n",
    "                       'united_kingdom_independence_party', 'reclaim_party', 'others', 'lead']].copy()"
   ],
   "metadata": {
    "collapsed": false,
    "pycharm": {
     "name": "#%%\n"
    }
   }
  },
  {
   "cell_type": "code",
   "execution_count": 60,
   "outputs": [],
   "source": [
    "all_polls['pollster'].fillna('NA', inplace=True)"
   ],
   "metadata": {
    "collapsed": false,
    "pycharm": {
     "name": "#%%\n"
    }
   }
  },
  {
   "cell_type": "code",
   "execution_count": 61,
   "outputs": [],
   "source": [
    "pollster_cleanup = {\n",
    "    'Populus Online': 'Populus',\n",
    "    'ComRes-': 'Savanta ComRes',\n",
    "    'ComRes': 'Savanta ComRes',\n",
    "    'SavantaComRes': 'Savanta ComRes',\n",
    "    'Ipsos MOR': 'Ipsos MORI',\n",
    "    'MORI': 'Ipsos MORI',\n",
    "    'Ipsos-MORI': 'Ipsos MORI',\n",
    "    'Ipsos Mori': 'Ipsos MORI',\n",
    "    'Harris': 'Harris Interactive',\n",
    "    'Harris Interative': 'Harris Interactive',\n",
    "    'Angus Reid Public Opinion': 'Angus Reid Strategies',\n",
    "    'TNS BMRB': 'TNS',\n",
    "    'Focaldata (MRP)': 'FocalData (MRP)',\n",
    "    'ICM': 'ICM Research',\n",
    "    'Kantar': 'Kantar Public',\n",
    "    'BMG': 'BMG Research',\n",
    "    'Lord Ashcroft': 'Lord Ashcroft Polls',\n",
    "    'TNS-BMRB': 'TNS',\n",
    "}\n",
    "pollsters_used = []\n",
    "for ix, row in all_polls.iterrows():\n",
    "    if '/' in row.pollster:\n",
    "        row.pollster, row.client = row.pollster.split('/')\n",
    "    if 'general election' in row.pollster.lower():\n",
    "        row.pollster = 'General Election'\n",
    "    if row.pollster in pollster_cleanup:\n",
    "        row.pollster = pollster_cleanup[row.pollster]\n",
    "    if not row.pollster in pollsters_used:\n",
    "        pollsters_used.append(row.pollster)\n",
    "    all_polls.loc[ix] = row"
   ],
   "metadata": {
    "collapsed": false,
    "pycharm": {
     "name": "#%%\n"
    }
   }
  },
  {
   "cell_type": "code",
   "execution_count": 62,
   "outputs": [],
   "source": [
    "all_polls.pollster = all_polls.pollster.str.strip()"
   ],
   "metadata": {
    "collapsed": false,
    "pycharm": {
     "name": "#%%\n"
    }
   }
  },
  {
   "cell_type": "code",
   "execution_count": 63,
   "outputs": [],
   "source": [
    "all_polls.sort_values(by='date_concluded', inplace=True)"
   ],
   "metadata": {
    "collapsed": false,
    "pycharm": {
     "name": "#%%\n"
    }
   }
  },
  {
   "cell_type": "code",
   "execution_count": 63,
   "outputs": [],
   "source": [],
   "metadata": {
    "collapsed": false,
    "pycharm": {
     "name": "#%%\n"
    }
   }
  },
  {
   "cell_type": "code",
   "execution_count": 64,
   "outputs": [],
   "source": [
    "latest_polls = pd.DataFrame()\n",
    "for pollster in all_polls.pollster.unique():\n",
    "    pollster_data = all_polls.query(f'pollster == \"{pollster}\"')\n",
    "    latest_poll = pollster_data.iloc[-1]\n",
    "    latest_polls = latest_polls.append(latest_poll)\n"
   ],
   "metadata": {
    "collapsed": false,
    "pycharm": {
     "name": "#%%\n"
    }
   }
  },
  {
   "cell_type": "code",
   "execution_count": 65,
   "outputs": [],
   "source": [
    "def format_lead(row):\n",
    "    if pd.isna(row.labour):\n",
    "        return ''\n",
    "    largest_share = row[party_columns].max()\n",
    "    if len(row[row == largest_share]) > 1:\n",
    "        return 'Tie'\n",
    "    second = sorted([a for a in row[party_columns] if not pd.isna(a)], reverse=True)[1]\n",
    "    return f'{row[row == largest_share].index[0]}+{largest_share - second:.0f}'\n"
   ],
   "metadata": {
    "collapsed": false,
    "pycharm": {
     "name": "#%%\n"
    }
   }
  },
  {
   "cell_type": "code",
   "execution_count": 66,
   "outputs": [],
   "source": [
    "latest_polls['party_leads'] = latest_polls.apply(format_lead, axis=1)\n"
   ],
   "metadata": {
    "collapsed": false,
    "pycharm": {
     "name": "#%%\n"
    }
   }
  },
  {
   "cell_type": "code",
   "execution_count": 67,
   "outputs": [],
   "source": [
    "all_polls['party_leads'] = all_polls.apply(format_lead, axis=1)"
   ],
   "metadata": {
    "collapsed": false,
    "pycharm": {
     "name": "#%%\n"
    }
   }
  },
  {
   "cell_type": "code",
   "execution_count": 68,
   "outputs": [
    {
     "data": {
      "text/plain": "     date_concluded                      pollster  conservative  labour  \\\n4584     2021-12-21                     Focaldata          34.0    41.0   \n4585     2021-12-20  Redfield & Wilton Strategies          31.0    39.0   \n4586     2021-12-20                        YouGov          30.0    36.0   \n4588     2021-12-16                Savanta ComRes          34.0    38.0   \n4589     2021-12-15                  Find Out Now          30.0    38.0   \n4592     2021-12-13                 Kantar Public          34.0    38.0   \n4594     2021-12-11                     Survation          32.0    39.0   \n4598     2021-12-10                    Ipsos MORI          34.0    39.0   \n4597     2021-12-10                       Opinium          32.0    41.0   \n4605     2021-12-04                     Deltapoll          37.0    38.0   \n4617     2021-11-19                     Panelbase          38.0    39.0   \n4641     2021-10-18      Number Cruncher Politics          40.0    32.0   \n4671     2021-09-08            Find Out Now (MRP)          37.0    33.0   \n4772     2021-04-26                  BMG Research          39.0    35.0   \n4851     2020-12-29               FocalData (MRP)          36.0    38.0   \n4102     2019-12-12              General Election          44.7    33.0   \n4112     2019-12-10                  YouGov (MRP)          43.0    34.0   \n4114     2019-12-09                  ICM Research          42.0    36.0   \n4116     2019-12-08                      Qriously          43.0    30.0   \n4183     2019-10-31                           ORB          36.0    28.0   \n4230     2019-09-04              Hanbury Strategy          33.0    26.0   \n4347     2019-02-19                      Sky Data          32.0    26.0   \n4378     2018-12-11                       Populus          37.0    40.0   \n3840     2017-06-01                       Norstat          39.0    35.0   \n3870     2017-05-14                           GfK          48.0    28.0   \n3987     2016-08-22           Lord Ashcroft Polls          40.0    31.0   \n3992     2016-08-08                           TNS          39.0    26.0   \n2691     2015-05-06        Survation(unpublished)          37.0    31.0   \n2692     2015-05-06                  SurveyMonkey          34.0    28.0   \n3714     2013-04-13         Angus Reid Strategies          27.0    39.0   \n2069     2010-05-05            Harris Interactive          35.0    29.0   \n2228     2010-01-30                          BPIX          39.0    30.0   \n2352     2009-04-16            Marketing Sciences          43.0    26.0   \n2538     2007-07-29                   Communicate          34.0    37.0   \n1753     2001-06-06                        Gallup          30.0    47.0   \n1757     2001-06-03                     Rasmussen          33.0    44.0   \n1760     2001-06-01                           NOP          30.0    47.0   \n1651     1994-01-27            Audience Selection          28.0    41.0   \n880      1992-03-31                       Neilsen          39.8    39.6   \n895      1992-03-23                           NMR          38.0    39.0   \n1289     1988-12-06                       Marplan          45.0    39.0   \n680      1986-10-09                            NA          36.0    39.0   \n158      1979-04-25                  Research Srv          49.5    38.0   \n2        1974-10-09                           ORC          34.4    41.8   \n11       1974-10-02            Business Decisions          35.5    40.0   \n\n          party_leads  \n4584         labour+7  \n4585         labour+8  \n4586         labour+6  \n4588         labour+4  \n4589         labour+8  \n4592         labour+4  \n4594         labour+7  \n4598         labour+5  \n4597         labour+9  \n4605         labour+1  \n4617         labour+1  \n4641   conservative+8  \n4671   conservative+4  \n4772   conservative+4  \n4851         labour+2  \n4102  conservative+12  \n4112   conservative+9  \n4114   conservative+6  \n4116  conservative+13  \n4183   conservative+8  \n4230   conservative+7  \n4347   conservative+6  \n4378         labour+3  \n3840   conservative+4  \n3870  conservative+20  \n3987   conservative+9  \n3992  conservative+13  \n2691   conservative+6  \n2692   conservative+6  \n3714        labour+12  \n2069   conservative+6  \n2228   conservative+9  \n2352  conservative+17  \n2538         labour+3  \n1753        labour+17  \n1757        labour+11  \n1760        labour+17  \n1651        labour+13  \n880    conservative+0  \n895          labour+1  \n1289   conservative+6  \n680          labour+3  \n158   conservative+12  \n2            labour+7  \n11           labour+4  ",
      "text/html": "<div>\n<style scoped>\n    .dataframe tbody tr th:only-of-type {\n        vertical-align: middle;\n    }\n\n    .dataframe tbody tr th {\n        vertical-align: top;\n    }\n\n    .dataframe thead th {\n        text-align: right;\n    }\n</style>\n<table border=\"1\" class=\"dataframe\">\n  <thead>\n    <tr style=\"text-align: right;\">\n      <th></th>\n      <th>date_concluded</th>\n      <th>pollster</th>\n      <th>conservative</th>\n      <th>labour</th>\n      <th>party_leads</th>\n    </tr>\n  </thead>\n  <tbody>\n    <tr>\n      <th>4584</th>\n      <td>2021-12-21</td>\n      <td>Focaldata</td>\n      <td>34.0</td>\n      <td>41.0</td>\n      <td>labour+7</td>\n    </tr>\n    <tr>\n      <th>4585</th>\n      <td>2021-12-20</td>\n      <td>Redfield &amp; Wilton Strategies</td>\n      <td>31.0</td>\n      <td>39.0</td>\n      <td>labour+8</td>\n    </tr>\n    <tr>\n      <th>4586</th>\n      <td>2021-12-20</td>\n      <td>YouGov</td>\n      <td>30.0</td>\n      <td>36.0</td>\n      <td>labour+6</td>\n    </tr>\n    <tr>\n      <th>4588</th>\n      <td>2021-12-16</td>\n      <td>Savanta ComRes</td>\n      <td>34.0</td>\n      <td>38.0</td>\n      <td>labour+4</td>\n    </tr>\n    <tr>\n      <th>4589</th>\n      <td>2021-12-15</td>\n      <td>Find Out Now</td>\n      <td>30.0</td>\n      <td>38.0</td>\n      <td>labour+8</td>\n    </tr>\n    <tr>\n      <th>4592</th>\n      <td>2021-12-13</td>\n      <td>Kantar Public</td>\n      <td>34.0</td>\n      <td>38.0</td>\n      <td>labour+4</td>\n    </tr>\n    <tr>\n      <th>4594</th>\n      <td>2021-12-11</td>\n      <td>Survation</td>\n      <td>32.0</td>\n      <td>39.0</td>\n      <td>labour+7</td>\n    </tr>\n    <tr>\n      <th>4598</th>\n      <td>2021-12-10</td>\n      <td>Ipsos MORI</td>\n      <td>34.0</td>\n      <td>39.0</td>\n      <td>labour+5</td>\n    </tr>\n    <tr>\n      <th>4597</th>\n      <td>2021-12-10</td>\n      <td>Opinium</td>\n      <td>32.0</td>\n      <td>41.0</td>\n      <td>labour+9</td>\n    </tr>\n    <tr>\n      <th>4605</th>\n      <td>2021-12-04</td>\n      <td>Deltapoll</td>\n      <td>37.0</td>\n      <td>38.0</td>\n      <td>labour+1</td>\n    </tr>\n    <tr>\n      <th>4617</th>\n      <td>2021-11-19</td>\n      <td>Panelbase</td>\n      <td>38.0</td>\n      <td>39.0</td>\n      <td>labour+1</td>\n    </tr>\n    <tr>\n      <th>4641</th>\n      <td>2021-10-18</td>\n      <td>Number Cruncher Politics</td>\n      <td>40.0</td>\n      <td>32.0</td>\n      <td>conservative+8</td>\n    </tr>\n    <tr>\n      <th>4671</th>\n      <td>2021-09-08</td>\n      <td>Find Out Now (MRP)</td>\n      <td>37.0</td>\n      <td>33.0</td>\n      <td>conservative+4</td>\n    </tr>\n    <tr>\n      <th>4772</th>\n      <td>2021-04-26</td>\n      <td>BMG Research</td>\n      <td>39.0</td>\n      <td>35.0</td>\n      <td>conservative+4</td>\n    </tr>\n    <tr>\n      <th>4851</th>\n      <td>2020-12-29</td>\n      <td>FocalData (MRP)</td>\n      <td>36.0</td>\n      <td>38.0</td>\n      <td>labour+2</td>\n    </tr>\n    <tr>\n      <th>4102</th>\n      <td>2019-12-12</td>\n      <td>General Election</td>\n      <td>44.7</td>\n      <td>33.0</td>\n      <td>conservative+12</td>\n    </tr>\n    <tr>\n      <th>4112</th>\n      <td>2019-12-10</td>\n      <td>YouGov (MRP)</td>\n      <td>43.0</td>\n      <td>34.0</td>\n      <td>conservative+9</td>\n    </tr>\n    <tr>\n      <th>4114</th>\n      <td>2019-12-09</td>\n      <td>ICM Research</td>\n      <td>42.0</td>\n      <td>36.0</td>\n      <td>conservative+6</td>\n    </tr>\n    <tr>\n      <th>4116</th>\n      <td>2019-12-08</td>\n      <td>Qriously</td>\n      <td>43.0</td>\n      <td>30.0</td>\n      <td>conservative+13</td>\n    </tr>\n    <tr>\n      <th>4183</th>\n      <td>2019-10-31</td>\n      <td>ORB</td>\n      <td>36.0</td>\n      <td>28.0</td>\n      <td>conservative+8</td>\n    </tr>\n    <tr>\n      <th>4230</th>\n      <td>2019-09-04</td>\n      <td>Hanbury Strategy</td>\n      <td>33.0</td>\n      <td>26.0</td>\n      <td>conservative+7</td>\n    </tr>\n    <tr>\n      <th>4347</th>\n      <td>2019-02-19</td>\n      <td>Sky Data</td>\n      <td>32.0</td>\n      <td>26.0</td>\n      <td>conservative+6</td>\n    </tr>\n    <tr>\n      <th>4378</th>\n      <td>2018-12-11</td>\n      <td>Populus</td>\n      <td>37.0</td>\n      <td>40.0</td>\n      <td>labour+3</td>\n    </tr>\n    <tr>\n      <th>3840</th>\n      <td>2017-06-01</td>\n      <td>Norstat</td>\n      <td>39.0</td>\n      <td>35.0</td>\n      <td>conservative+4</td>\n    </tr>\n    <tr>\n      <th>3870</th>\n      <td>2017-05-14</td>\n      <td>GfK</td>\n      <td>48.0</td>\n      <td>28.0</td>\n      <td>conservative+20</td>\n    </tr>\n    <tr>\n      <th>3987</th>\n      <td>2016-08-22</td>\n      <td>Lord Ashcroft Polls</td>\n      <td>40.0</td>\n      <td>31.0</td>\n      <td>conservative+9</td>\n    </tr>\n    <tr>\n      <th>3992</th>\n      <td>2016-08-08</td>\n      <td>TNS</td>\n      <td>39.0</td>\n      <td>26.0</td>\n      <td>conservative+13</td>\n    </tr>\n    <tr>\n      <th>2691</th>\n      <td>2015-05-06</td>\n      <td>Survation(unpublished)</td>\n      <td>37.0</td>\n      <td>31.0</td>\n      <td>conservative+6</td>\n    </tr>\n    <tr>\n      <th>2692</th>\n      <td>2015-05-06</td>\n      <td>SurveyMonkey</td>\n      <td>34.0</td>\n      <td>28.0</td>\n      <td>conservative+6</td>\n    </tr>\n    <tr>\n      <th>3714</th>\n      <td>2013-04-13</td>\n      <td>Angus Reid Strategies</td>\n      <td>27.0</td>\n      <td>39.0</td>\n      <td>labour+12</td>\n    </tr>\n    <tr>\n      <th>2069</th>\n      <td>2010-05-05</td>\n      <td>Harris Interactive</td>\n      <td>35.0</td>\n      <td>29.0</td>\n      <td>conservative+6</td>\n    </tr>\n    <tr>\n      <th>2228</th>\n      <td>2010-01-30</td>\n      <td>BPIX</td>\n      <td>39.0</td>\n      <td>30.0</td>\n      <td>conservative+9</td>\n    </tr>\n    <tr>\n      <th>2352</th>\n      <td>2009-04-16</td>\n      <td>Marketing Sciences</td>\n      <td>43.0</td>\n      <td>26.0</td>\n      <td>conservative+17</td>\n    </tr>\n    <tr>\n      <th>2538</th>\n      <td>2007-07-29</td>\n      <td>Communicate</td>\n      <td>34.0</td>\n      <td>37.0</td>\n      <td>labour+3</td>\n    </tr>\n    <tr>\n      <th>1753</th>\n      <td>2001-06-06</td>\n      <td>Gallup</td>\n      <td>30.0</td>\n      <td>47.0</td>\n      <td>labour+17</td>\n    </tr>\n    <tr>\n      <th>1757</th>\n      <td>2001-06-03</td>\n      <td>Rasmussen</td>\n      <td>33.0</td>\n      <td>44.0</td>\n      <td>labour+11</td>\n    </tr>\n    <tr>\n      <th>1760</th>\n      <td>2001-06-01</td>\n      <td>NOP</td>\n      <td>30.0</td>\n      <td>47.0</td>\n      <td>labour+17</td>\n    </tr>\n    <tr>\n      <th>1651</th>\n      <td>1994-01-27</td>\n      <td>Audience Selection</td>\n      <td>28.0</td>\n      <td>41.0</td>\n      <td>labour+13</td>\n    </tr>\n    <tr>\n      <th>880</th>\n      <td>1992-03-31</td>\n      <td>Neilsen</td>\n      <td>39.8</td>\n      <td>39.6</td>\n      <td>conservative+0</td>\n    </tr>\n    <tr>\n      <th>895</th>\n      <td>1992-03-23</td>\n      <td>NMR</td>\n      <td>38.0</td>\n      <td>39.0</td>\n      <td>labour+1</td>\n    </tr>\n    <tr>\n      <th>1289</th>\n      <td>1988-12-06</td>\n      <td>Marplan</td>\n      <td>45.0</td>\n      <td>39.0</td>\n      <td>conservative+6</td>\n    </tr>\n    <tr>\n      <th>680</th>\n      <td>1986-10-09</td>\n      <td>NA</td>\n      <td>36.0</td>\n      <td>39.0</td>\n      <td>labour+3</td>\n    </tr>\n    <tr>\n      <th>158</th>\n      <td>1979-04-25</td>\n      <td>Research Srv</td>\n      <td>49.5</td>\n      <td>38.0</td>\n      <td>conservative+12</td>\n    </tr>\n    <tr>\n      <th>2</th>\n      <td>1974-10-09</td>\n      <td>ORC</td>\n      <td>34.4</td>\n      <td>41.8</td>\n      <td>labour+7</td>\n    </tr>\n    <tr>\n      <th>11</th>\n      <td>1974-10-02</td>\n      <td>Business Decisions</td>\n      <td>35.5</td>\n      <td>40.0</td>\n      <td>labour+4</td>\n    </tr>\n  </tbody>\n</table>\n</div>"
     },
     "execution_count": 68,
     "metadata": {},
     "output_type": "execute_result"
    }
   ],
   "source": [
    "latest_polls[['date_concluded', 'pollster', 'conservative', 'labour', 'party_leads']].sort_values(by='date_concluded',\n",
    "                                                                                                  ascending=False)"
   ],
   "metadata": {
    "collapsed": false,
    "pycharm": {
     "name": "#%%\n"
    }
   }
  },
  {
   "cell_type": "code",
   "execution_count": 80,
   "outputs": [
    {
     "data": {
      "text/plain": "Index(['date_started', 'date_concluded', 'area', 'pollster', 'client',\n       'sample_size', 'alliance', 'brexit_party', 'change_uk', 'conservative',\n       'green', 'labour', 'liberal', 'liberal_democrat', 'plaid_cymru',\n       'reform_uk', 'scottish_national_party', 'social_democratic_party',\n       'united_kingdom_independence_party', 'reclaim_party', 'others', 'lead',\n       'party_leads'],\n      dtype='object')"
     },
     "execution_count": 80,
     "metadata": {},
     "output_type": "execute_result"
    }
   ],
   "source": [
    "all_polls.columns"
   ],
   "metadata": {
    "collapsed": false,
    "pycharm": {
     "name": "#%%\n"
    }
   }
  },
  {
   "cell_type": "code",
   "execution_count": 85,
   "outputs": [
    {
     "data": {
      "text/plain": "     date_concluded      pollster  conservative  labour party_leads\n4586     2021-12-20        YouGov          30.0    36.0    labour+6\n4589     2021-12-15  Find Out Now          30.0    38.0    labour+8\n3776     2013-02-11    Ipsos MORI          30.0    42.0   labour+12\n3778     2013-02-10  ICM Research          29.0    41.0   labour+12\n3784     2013-02-04        YouGov          30.0    45.0   labour+15\n...             ...           ...           ...     ...         ...\n497      1981-04-27        Gallup          30.0    38.0    labour+8\n498      1981-04-13           NOP          30.0    34.5    labour+2\n503      1981-03-23        Gallup          28.0    38.0    labour+6\n504      1981-03-16           NOP          30.0    34.0    labour+2\n84       1973-08-15           NOP          28.9    41.7   labour+13\n\n[423 rows x 5 columns]",
      "text/html": "<div>\n<style scoped>\n    .dataframe tbody tr th:only-of-type {\n        vertical-align: middle;\n    }\n\n    .dataframe tbody tr th {\n        vertical-align: top;\n    }\n\n    .dataframe thead th {\n        text-align: right;\n    }\n</style>\n<table border=\"1\" class=\"dataframe\">\n  <thead>\n    <tr style=\"text-align: right;\">\n      <th></th>\n      <th>date_concluded</th>\n      <th>pollster</th>\n      <th>conservative</th>\n      <th>labour</th>\n      <th>party_leads</th>\n    </tr>\n  </thead>\n  <tbody>\n    <tr>\n      <th>4586</th>\n      <td>2021-12-20</td>\n      <td>YouGov</td>\n      <td>30.0</td>\n      <td>36.0</td>\n      <td>labour+6</td>\n    </tr>\n    <tr>\n      <th>4589</th>\n      <td>2021-12-15</td>\n      <td>Find Out Now</td>\n      <td>30.0</td>\n      <td>38.0</td>\n      <td>labour+8</td>\n    </tr>\n    <tr>\n      <th>3776</th>\n      <td>2013-02-11</td>\n      <td>Ipsos MORI</td>\n      <td>30.0</td>\n      <td>42.0</td>\n      <td>labour+12</td>\n    </tr>\n    <tr>\n      <th>3778</th>\n      <td>2013-02-10</td>\n      <td>ICM Research</td>\n      <td>29.0</td>\n      <td>41.0</td>\n      <td>labour+12</td>\n    </tr>\n    <tr>\n      <th>3784</th>\n      <td>2013-02-04</td>\n      <td>YouGov</td>\n      <td>30.0</td>\n      <td>45.0</td>\n      <td>labour+15</td>\n    </tr>\n    <tr>\n      <th>...</th>\n      <td>...</td>\n      <td>...</td>\n      <td>...</td>\n      <td>...</td>\n      <td>...</td>\n    </tr>\n    <tr>\n      <th>497</th>\n      <td>1981-04-27</td>\n      <td>Gallup</td>\n      <td>30.0</td>\n      <td>38.0</td>\n      <td>labour+8</td>\n    </tr>\n    <tr>\n      <th>498</th>\n      <td>1981-04-13</td>\n      <td>NOP</td>\n      <td>30.0</td>\n      <td>34.5</td>\n      <td>labour+2</td>\n    </tr>\n    <tr>\n      <th>503</th>\n      <td>1981-03-23</td>\n      <td>Gallup</td>\n      <td>28.0</td>\n      <td>38.0</td>\n      <td>labour+6</td>\n    </tr>\n    <tr>\n      <th>504</th>\n      <td>1981-03-16</td>\n      <td>NOP</td>\n      <td>30.0</td>\n      <td>34.0</td>\n      <td>labour+2</td>\n    </tr>\n    <tr>\n      <th>84</th>\n      <td>1973-08-15</td>\n      <td>NOP</td>\n      <td>28.9</td>\n      <td>41.7</td>\n      <td>labour+13</td>\n    </tr>\n  </tbody>\n</table>\n<p>423 rows × 5 columns</p>\n</div>"
     },
     "execution_count": 85,
     "metadata": {},
     "output_type": "execute_result"
    }
   ],
   "source": [
    "all_polls[\n",
    "    (all_polls.conservative < 31)\n",
    "    & ((all_polls.brexit_party.fillna(0)+all_polls.united_kingdom_independence_party.fillna(0)) < 10)\n",
    "][\n",
    "    ['date_concluded', 'pollster', 'conservative', 'labour', 'party_leads']].sort_values(by='date_concluded',\n",
    "                                                                                         ascending=False)"
   ],
   "metadata": {
    "collapsed": false,
    "pycharm": {
     "name": "#%%\n"
    }
   }
  },
  {
   "cell_type": "code",
   "execution_count": 89,
   "outputs": [],
   "source": [
    "conlow['poll_year'] = conlow['date_concluded'].apply(lambda x: x.year)"
   ],
   "metadata": {
    "collapsed": false,
    "pycharm": {
     "name": "#%%\n"
    }
   }
  },
  {
   "cell_type": "code",
   "execution_count": 94,
   "outputs": [
    {
     "data": {
      "text/plain": "poll_year\n2021     2\n2013     4\n2009     1\n2006     1\n2005     8\n2004     6\n2003     6\n2001    22\n2000    12\n1999    33\n1998    36\n1997    65\n1996    56\n1995    43\n1994    46\n1993    27\n1992     3\n1990     9\n1986    10\n1985     7\n1982     4\n1981    21\n1973     1\ndtype: int64"
     },
     "execution_count": 94,
     "metadata": {},
     "output_type": "execute_result"
    }
   ],
   "source": [
    "conlow.groupby('poll_year').size().sort_index(ascending=False)"
   ],
   "metadata": {
    "collapsed": false,
    "pycharm": {
     "name": "#%%\n"
    }
   }
  },
  {
   "cell_type": "code",
   "execution_count": 90,
   "outputs": [],
   "source": [],
   "metadata": {
    "collapsed": false,
    "pycharm": {
     "name": "#%%\n"
    }
   }
  },
  {
   "cell_type": "code",
   "execution_count": 70,
   "outputs": [
    {
     "data": {
      "text/plain": "     date_concluded      pollster  conservative  labour  liberal_democrat  \\\n4196     2019-10-18     Survation          32.0    24.0              21.0   \n4208     2019-10-01        YouGov          34.0    21.0              23.0   \n4209     2019-09-27        YouGov          33.0    22.0              21.0   \n4211     2019-09-25     Survation          27.0    24.0              22.0   \n4212     2019-09-25        YouGov          33.0    22.0              22.0   \n...             ...           ...           ...     ...               ...   \n874      1992-04-03        Gallup          37.5    37.5              21.0   \n873      1992-04-03    Ipsos MORI          37.0    39.0              21.0   \n876      1992-04-03  ICM Research          36.2    38.7              20.4   \n878      1992-04-01        Gallup          38.0    37.5              20.5   \n1011     1991-06-03        Gallup          33.5    41.5              21.0   \n\n          party_leads  \n4196   conservative+8  \n4208  conservative+11  \n4209  conservative+11  \n4211   conservative+3  \n4212  conservative+11  \n...               ...  \n874               Tie  \n873          labour+2  \n876          labour+2  \n878    conservative+0  \n1011         labour+8  \n\n[299 rows x 6 columns]",
      "text/html": "<div>\n<style scoped>\n    .dataframe tbody tr th:only-of-type {\n        vertical-align: middle;\n    }\n\n    .dataframe tbody tr th {\n        vertical-align: top;\n    }\n\n    .dataframe thead th {\n        text-align: right;\n    }\n</style>\n<table border=\"1\" class=\"dataframe\">\n  <thead>\n    <tr style=\"text-align: right;\">\n      <th></th>\n      <th>date_concluded</th>\n      <th>pollster</th>\n      <th>conservative</th>\n      <th>labour</th>\n      <th>liberal_democrat</th>\n      <th>party_leads</th>\n    </tr>\n  </thead>\n  <tbody>\n    <tr>\n      <th>4196</th>\n      <td>2019-10-18</td>\n      <td>Survation</td>\n      <td>32.0</td>\n      <td>24.0</td>\n      <td>21.0</td>\n      <td>conservative+8</td>\n    </tr>\n    <tr>\n      <th>4208</th>\n      <td>2019-10-01</td>\n      <td>YouGov</td>\n      <td>34.0</td>\n      <td>21.0</td>\n      <td>23.0</td>\n      <td>conservative+11</td>\n    </tr>\n    <tr>\n      <th>4209</th>\n      <td>2019-09-27</td>\n      <td>YouGov</td>\n      <td>33.0</td>\n      <td>22.0</td>\n      <td>21.0</td>\n      <td>conservative+11</td>\n    </tr>\n    <tr>\n      <th>4211</th>\n      <td>2019-09-25</td>\n      <td>Survation</td>\n      <td>27.0</td>\n      <td>24.0</td>\n      <td>22.0</td>\n      <td>conservative+3</td>\n    </tr>\n    <tr>\n      <th>4212</th>\n      <td>2019-09-25</td>\n      <td>YouGov</td>\n      <td>33.0</td>\n      <td>22.0</td>\n      <td>22.0</td>\n      <td>conservative+11</td>\n    </tr>\n    <tr>\n      <th>...</th>\n      <td>...</td>\n      <td>...</td>\n      <td>...</td>\n      <td>...</td>\n      <td>...</td>\n      <td>...</td>\n    </tr>\n    <tr>\n      <th>874</th>\n      <td>1992-04-03</td>\n      <td>Gallup</td>\n      <td>37.5</td>\n      <td>37.5</td>\n      <td>21.0</td>\n      <td>Tie</td>\n    </tr>\n    <tr>\n      <th>873</th>\n      <td>1992-04-03</td>\n      <td>Ipsos MORI</td>\n      <td>37.0</td>\n      <td>39.0</td>\n      <td>21.0</td>\n      <td>labour+2</td>\n    </tr>\n    <tr>\n      <th>876</th>\n      <td>1992-04-03</td>\n      <td>ICM Research</td>\n      <td>36.2</td>\n      <td>38.7</td>\n      <td>20.4</td>\n      <td>labour+2</td>\n    </tr>\n    <tr>\n      <th>878</th>\n      <td>1992-04-01</td>\n      <td>Gallup</td>\n      <td>38.0</td>\n      <td>37.5</td>\n      <td>20.5</td>\n      <td>conservative+0</td>\n    </tr>\n    <tr>\n      <th>1011</th>\n      <td>1991-06-03</td>\n      <td>Gallup</td>\n      <td>33.5</td>\n      <td>41.5</td>\n      <td>21.0</td>\n      <td>labour+8</td>\n    </tr>\n  </tbody>\n</table>\n<p>299 rows × 6 columns</p>\n</div>"
     },
     "execution_count": 70,
     "metadata": {},
     "output_type": "execute_result"
    }
   ],
   "source": [
    "all_polls[(all_polls.liberal_democrat > 20)][\n",
    "    ['date_concluded', 'pollster', 'conservative', 'labour', 'liberal_democrat', 'party_leads']].sort_values(\n",
    "    by='date_concluded',\n",
    "    ascending=False)"
   ],
   "metadata": {
    "collapsed": false,
    "pycharm": {
     "name": "#%%\n"
    }
   }
  },
  {
   "cell_type": "code",
   "execution_count": 72,
   "outputs": [
    {
     "data": {
      "text/plain": "     date_concluded          pollster  conservative  labour  liberal_democrat  \\\n4586     2021-12-20            YouGov          30.0    36.0              12.0   \n4102     2019-12-12  General Election          44.7    33.0              11.8   \n4101     2019-12-12  General Election          43.6    32.1              11.6   \n5020     2019-12-12  General Election          44.7    32.9              11.8   \n5019     2019-12-12  General Election          43.6    32.1              11.6   \n...             ...               ...           ...     ...               ...   \n1752     2001-06-07  General Election          31.7    40.7              18.3   \n1393     1997-05-01  General Election          30.7    43.2              16.8   \n1984     1997-05-01  General Election          30.7    43.2              16.8   \n1751     1992-04-09  General Election          41.9    34.4              17.8   \n863      1992-04-08  General Election          42.8    35.2              18.3   \n\n          party_leads  \n4586         labour+6  \n4102  conservative+12  \n4101  conservative+12  \n5020  conservative+12  \n5019  conservative+12  \n...               ...  \n1752         labour+9  \n1393        labour+13  \n1984        labour+13  \n1751   conservative+8  \n863    conservative+8  \n\n[424 rows x 6 columns]",
      "text/html": "<div>\n<style scoped>\n    .dataframe tbody tr th:only-of-type {\n        vertical-align: middle;\n    }\n\n    .dataframe tbody tr th {\n        vertical-align: top;\n    }\n\n    .dataframe thead th {\n        text-align: right;\n    }\n</style>\n<table border=\"1\" class=\"dataframe\">\n  <thead>\n    <tr style=\"text-align: right;\">\n      <th></th>\n      <th>date_concluded</th>\n      <th>pollster</th>\n      <th>conservative</th>\n      <th>labour</th>\n      <th>liberal_democrat</th>\n      <th>party_leads</th>\n    </tr>\n  </thead>\n  <tbody>\n    <tr>\n      <th>4586</th>\n      <td>2021-12-20</td>\n      <td>YouGov</td>\n      <td>30.0</td>\n      <td>36.0</td>\n      <td>12.0</td>\n      <td>labour+6</td>\n    </tr>\n    <tr>\n      <th>4102</th>\n      <td>2019-12-12</td>\n      <td>General Election</td>\n      <td>44.7</td>\n      <td>33.0</td>\n      <td>11.8</td>\n      <td>conservative+12</td>\n    </tr>\n    <tr>\n      <th>4101</th>\n      <td>2019-12-12</td>\n      <td>General Election</td>\n      <td>43.6</td>\n      <td>32.1</td>\n      <td>11.6</td>\n      <td>conservative+12</td>\n    </tr>\n    <tr>\n      <th>5020</th>\n      <td>2019-12-12</td>\n      <td>General Election</td>\n      <td>44.7</td>\n      <td>32.9</td>\n      <td>11.8</td>\n      <td>conservative+12</td>\n    </tr>\n    <tr>\n      <th>5019</th>\n      <td>2019-12-12</td>\n      <td>General Election</td>\n      <td>43.6</td>\n      <td>32.1</td>\n      <td>11.6</td>\n      <td>conservative+12</td>\n    </tr>\n    <tr>\n      <th>...</th>\n      <td>...</td>\n      <td>...</td>\n      <td>...</td>\n      <td>...</td>\n      <td>...</td>\n      <td>...</td>\n    </tr>\n    <tr>\n      <th>1752</th>\n      <td>2001-06-07</td>\n      <td>General Election</td>\n      <td>31.7</td>\n      <td>40.7</td>\n      <td>18.3</td>\n      <td>labour+9</td>\n    </tr>\n    <tr>\n      <th>1393</th>\n      <td>1997-05-01</td>\n      <td>General Election</td>\n      <td>30.7</td>\n      <td>43.2</td>\n      <td>16.8</td>\n      <td>labour+13</td>\n    </tr>\n    <tr>\n      <th>1984</th>\n      <td>1997-05-01</td>\n      <td>General Election</td>\n      <td>30.7</td>\n      <td>43.2</td>\n      <td>16.8</td>\n      <td>labour+13</td>\n    </tr>\n    <tr>\n      <th>1751</th>\n      <td>1992-04-09</td>\n      <td>General Election</td>\n      <td>41.9</td>\n      <td>34.4</td>\n      <td>17.8</td>\n      <td>conservative+8</td>\n    </tr>\n    <tr>\n      <th>863</th>\n      <td>1992-04-08</td>\n      <td>General Election</td>\n      <td>42.8</td>\n      <td>35.2</td>\n      <td>18.3</td>\n      <td>conservative+8</td>\n    </tr>\n  </tbody>\n</table>\n<p>424 rows × 6 columns</p>\n</div>"
     },
     "execution_count": 72,
     "metadata": {},
     "output_type": "execute_result"
    }
   ],
   "source": [
    "display_columns = ['date_concluded', 'pollster', 'conservative', 'labour', 'liberal_democrat', 'party_leads']\n",
    "\n",
    "all_polls[\n",
    "    (all_polls['pollster'].isin(['YouGov', 'General Election'])) &\n",
    "    (all_polls.liberal_democrat > 10)\n",
    "].sort_values(by='date_concluded',ascending=False)[display_columns]"
   ],
   "metadata": {
    "collapsed": false,
    "pycharm": {
     "name": "#%%\n"
    }
   }
  },
  {
   "cell_type": "code",
   "execution_count": null,
   "outputs": [],
   "source": [],
   "metadata": {
    "collapsed": false,
    "pycharm": {
     "name": "#%%\n"
    }
   }
  },
  {
   "cell_type": "code",
   "execution_count": 76,
   "outputs": [
    {
     "data": {
      "text/plain": "0.11501807426881366"
     },
     "execution_count": 76,
     "metadata": {},
     "output_type": "execute_result"
    }
   ],
   "source": [
    "140/(1790*(1-0.03-0.18-0.11))"
   ],
   "metadata": {
    "collapsed": false,
    "pycharm": {
     "name": "#%%\n"
    }
   }
  },
  {
   "cell_type": "code",
   "execution_count": 77,
   "outputs": [
    {
     "data": {
      "text/plain": "0.3590207032533684"
     },
     "execution_count": 77,
     "metadata": {},
     "output_type": "execute_result"
    }
   ],
   "source": [
    "437/(1790*(1-0.03-0.18-0.11))"
   ],
   "metadata": {
    "collapsed": false,
    "pycharm": {
     "name": "#%%\n"
    }
   }
  },
  {
   "cell_type": "code",
   "execution_count": null,
   "outputs": [],
   "source": [],
   "metadata": {
    "collapsed": false,
    "pycharm": {
     "name": "#%%\n"
    }
   }
  }
 ],
 "metadata": {
  "kernelspec": {
   "display_name": "Python 3",
   "language": "python",
   "name": "python3"
  },
  "language_info": {
   "codemirror_mode": {
    "name": "ipython",
    "version": 2
   },
   "file_extension": ".py",
   "mimetype": "text/x-python",
   "name": "python",
   "nbconvert_exporter": "python",
   "pygments_lexer": "ipython2",
   "version": "2.7.6"
  }
 },
 "nbformat": 4,
 "nbformat_minor": 0
}