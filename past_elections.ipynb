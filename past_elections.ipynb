{
 "cells": [
  {
   "cell_type": "code",
   "execution_count": 1,
   "id": "initial_id",
   "metadata": {
    "collapsed": true,
    "ExecuteTime": {
     "end_time": "2024-03-11T16:01:33.966434700Z",
     "start_time": "2024-03-11T16:01:32.066588400Z"
    }
   },
   "outputs": [],
   "source": [
    "import pandas as pd"
   ]
  },
  {
   "cell_type": "code",
   "execution_count": 5,
   "outputs": [],
   "source": [
    "election_results = pd.read_csv(\n",
    "    'election_results.csv',\n",
    "    encoding='latin-1'\n",
    ")"
   ],
   "metadata": {
    "collapsed": false,
    "ExecuteTime": {
     "end_time": "2024-03-11T16:04:14.098262500Z",
     "start_time": "2024-03-11T16:04:14.040918300Z"
    }
   },
   "id": "d30c349385bd3561"
  },
  {
   "cell_type": "code",
   "execution_count": 9,
   "outputs": [],
   "source": [
    "election_results = election_results[election_results.election.isin(['2015', '2019'])]"
   ],
   "metadata": {
    "collapsed": false,
    "ExecuteTime": {
     "end_time": "2024-03-11T16:05:08.741886300Z",
     "start_time": "2024-03-11T16:05:08.710258200Z"
    }
   },
   "id": "2a65273f6c94bd9e"
  },
  {
   "cell_type": "code",
   "execution_count": 10,
   "outputs": [
    {
     "data": {
      "text/plain": "      constituency_id  seats                constituency_name  \\\n14478       W07000049      1                         Aberavon   \n14479       W07000058      1                        Aberconwy   \n14480       S14000001      1                   Aberdeen North   \n14481       S14000002      1                   Aberdeen South   \n14482       S14000058      1  Aberdeenshire West & Kincardine   \n...               ...    ...                              ...   \n16423       E14001059      1          Wythenshawe & Sale East   \n16424       E14001060      1                           Yeovil   \n16425       W07000041      1                         Ynys Mon   \n16426       E14001061      1                     York Central   \n16427       E14001062      1                       York Outer   \n\n                 country/region electorate  con_votes  con_share lib_votes   \\\n14478                     Wales      49821     3742.0      0.119       1397   \n14479                     Wales      45525    12513.0      0.415       1391   \n14480                  Scotland      67745     5304.0      0.121       2050   \n14481                  Scotland      68056    11087.0      0.228       2252   \n14482                  Scotland      73445    15916.0      0.288      11812   \n...                         ...        ...        ...        ...        ...   \n16423                North West      76313    13459.0      0.301       3111   \n16424                South West      82468    34588.0      0.584      18407   \n16425                     Wales      51925    12959.0      0.355        NaN   \n16426  Yorkshire and The Humber      74899    13767.0      0.278       4149   \n16427  Yorkshire and The Humber      74673    27324.0      0.494       9992   \n\n       lib_share lab_votes  lab_share  natSW_votes  natSW_share  oth_votes  \\\n14478      0.044     15416      0.489       3663.0        0.116     7305.0   \n14479      0.046      8514      0.282       3536.0        0.117     4194.0   \n14480      0.047     11397      0.259      24793.0        0.564      392.0   \n14481      0.046     12991      0.268      20221.0        0.416     2000.0   \n14482      0.214      2487      0.045      22949.0        0.416     2032.0   \n...          ...       ...        ...          ...          ...        ...   \n16423      0.070     23855      0.533          NaN          NaN     4334.0   \n16424      0.311      3761      0.063          NaN          NaN     2504.0   \n16425        NaN     10991      0.301      10418.0        0.285     2184.0   \n16426      0.084     27312      0.552          NaN          NaN     4277.0   \n16427      0.181     17339      0.313          NaN          NaN      692.0   \n\n       oth_share total_votes  turnout  election boundary_set Unnamed: 19  \n14478      0.232       31523     0.633     2015    2010-2017         NaN  \n14479      0.139       30148     0.662     2015    2010-2017         NaN  \n14480      0.009       43936     0.649     2015    2010-2017         NaN  \n14481      0.041       48551     0.713     2015    2010-2017         NaN  \n14482      0.037       55196     0.752     2015    2010-2017         NaN  \n...          ...         ...       ...      ...          ...         ...  \n16423      0.097       44759     0.587     2019    2010-2019         NaN  \n16424      0.042       59260     0.719     2019    2010-2019         NaN  \n16425      0.060       36552     0.704     2019    2010-2019         NaN  \n16426      0.086       49505     0.661     2019    2010-2019         NaN  \n16427      0.013       55347     0.741     2019    2010-2019         NaN  \n\n[1300 rows x 20 columns]",
      "text/html": "<div>\n<style scoped>\n    .dataframe tbody tr th:only-of-type {\n        vertical-align: middle;\n    }\n\n    .dataframe tbody tr th {\n        vertical-align: top;\n    }\n\n    .dataframe thead th {\n        text-align: right;\n    }\n</style>\n<table border=\"1\" class=\"dataframe\">\n  <thead>\n    <tr style=\"text-align: right;\">\n      <th></th>\n      <th>constituency_id</th>\n      <th>seats</th>\n      <th>constituency_name</th>\n      <th>country/region</th>\n      <th>electorate</th>\n      <th>con_votes</th>\n      <th>con_share</th>\n      <th>lib_votes</th>\n      <th>lib_share</th>\n      <th>lab_votes</th>\n      <th>lab_share</th>\n      <th>natSW_votes</th>\n      <th>natSW_share</th>\n      <th>oth_votes</th>\n      <th>oth_share</th>\n      <th>total_votes</th>\n      <th>turnout</th>\n      <th>election</th>\n      <th>boundary_set</th>\n      <th>Unnamed: 19</th>\n    </tr>\n  </thead>\n  <tbody>\n    <tr>\n      <th>14478</th>\n      <td>W07000049</td>\n      <td>1</td>\n      <td>Aberavon</td>\n      <td>Wales</td>\n      <td>49821</td>\n      <td>3742.0</td>\n      <td>0.119</td>\n      <td>1397</td>\n      <td>0.044</td>\n      <td>15416</td>\n      <td>0.489</td>\n      <td>3663.0</td>\n      <td>0.116</td>\n      <td>7305.0</td>\n      <td>0.232</td>\n      <td>31523</td>\n      <td>0.633</td>\n      <td>2015</td>\n      <td>2010-2017</td>\n      <td>NaN</td>\n    </tr>\n    <tr>\n      <th>14479</th>\n      <td>W07000058</td>\n      <td>1</td>\n      <td>Aberconwy</td>\n      <td>Wales</td>\n      <td>45525</td>\n      <td>12513.0</td>\n      <td>0.415</td>\n      <td>1391</td>\n      <td>0.046</td>\n      <td>8514</td>\n      <td>0.282</td>\n      <td>3536.0</td>\n      <td>0.117</td>\n      <td>4194.0</td>\n      <td>0.139</td>\n      <td>30148</td>\n      <td>0.662</td>\n      <td>2015</td>\n      <td>2010-2017</td>\n      <td>NaN</td>\n    </tr>\n    <tr>\n      <th>14480</th>\n      <td>S14000001</td>\n      <td>1</td>\n      <td>Aberdeen North</td>\n      <td>Scotland</td>\n      <td>67745</td>\n      <td>5304.0</td>\n      <td>0.121</td>\n      <td>2050</td>\n      <td>0.047</td>\n      <td>11397</td>\n      <td>0.259</td>\n      <td>24793.0</td>\n      <td>0.564</td>\n      <td>392.0</td>\n      <td>0.009</td>\n      <td>43936</td>\n      <td>0.649</td>\n      <td>2015</td>\n      <td>2010-2017</td>\n      <td>NaN</td>\n    </tr>\n    <tr>\n      <th>14481</th>\n      <td>S14000002</td>\n      <td>1</td>\n      <td>Aberdeen South</td>\n      <td>Scotland</td>\n      <td>68056</td>\n      <td>11087.0</td>\n      <td>0.228</td>\n      <td>2252</td>\n      <td>0.046</td>\n      <td>12991</td>\n      <td>0.268</td>\n      <td>20221.0</td>\n      <td>0.416</td>\n      <td>2000.0</td>\n      <td>0.041</td>\n      <td>48551</td>\n      <td>0.713</td>\n      <td>2015</td>\n      <td>2010-2017</td>\n      <td>NaN</td>\n    </tr>\n    <tr>\n      <th>14482</th>\n      <td>S14000058</td>\n      <td>1</td>\n      <td>Aberdeenshire West &amp; Kincardine</td>\n      <td>Scotland</td>\n      <td>73445</td>\n      <td>15916.0</td>\n      <td>0.288</td>\n      <td>11812</td>\n      <td>0.214</td>\n      <td>2487</td>\n      <td>0.045</td>\n      <td>22949.0</td>\n      <td>0.416</td>\n      <td>2032.0</td>\n      <td>0.037</td>\n      <td>55196</td>\n      <td>0.752</td>\n      <td>2015</td>\n      <td>2010-2017</td>\n      <td>NaN</td>\n    </tr>\n    <tr>\n      <th>...</th>\n      <td>...</td>\n      <td>...</td>\n      <td>...</td>\n      <td>...</td>\n      <td>...</td>\n      <td>...</td>\n      <td>...</td>\n      <td>...</td>\n      <td>...</td>\n      <td>...</td>\n      <td>...</td>\n      <td>...</td>\n      <td>...</td>\n      <td>...</td>\n      <td>...</td>\n      <td>...</td>\n      <td>...</td>\n      <td>...</td>\n      <td>...</td>\n      <td>...</td>\n    </tr>\n    <tr>\n      <th>16423</th>\n      <td>E14001059</td>\n      <td>1</td>\n      <td>Wythenshawe &amp; Sale East</td>\n      <td>North West</td>\n      <td>76313</td>\n      <td>13459.0</td>\n      <td>0.301</td>\n      <td>3111</td>\n      <td>0.070</td>\n      <td>23855</td>\n      <td>0.533</td>\n      <td>NaN</td>\n      <td>NaN</td>\n      <td>4334.0</td>\n      <td>0.097</td>\n      <td>44759</td>\n      <td>0.587</td>\n      <td>2019</td>\n      <td>2010-2019</td>\n      <td>NaN</td>\n    </tr>\n    <tr>\n      <th>16424</th>\n      <td>E14001060</td>\n      <td>1</td>\n      <td>Yeovil</td>\n      <td>South West</td>\n      <td>82468</td>\n      <td>34588.0</td>\n      <td>0.584</td>\n      <td>18407</td>\n      <td>0.311</td>\n      <td>3761</td>\n      <td>0.063</td>\n      <td>NaN</td>\n      <td>NaN</td>\n      <td>2504.0</td>\n      <td>0.042</td>\n      <td>59260</td>\n      <td>0.719</td>\n      <td>2019</td>\n      <td>2010-2019</td>\n      <td>NaN</td>\n    </tr>\n    <tr>\n      <th>16425</th>\n      <td>W07000041</td>\n      <td>1</td>\n      <td>Ynys Mon</td>\n      <td>Wales</td>\n      <td>51925</td>\n      <td>12959.0</td>\n      <td>0.355</td>\n      <td>NaN</td>\n      <td>NaN</td>\n      <td>10991</td>\n      <td>0.301</td>\n      <td>10418.0</td>\n      <td>0.285</td>\n      <td>2184.0</td>\n      <td>0.060</td>\n      <td>36552</td>\n      <td>0.704</td>\n      <td>2019</td>\n      <td>2010-2019</td>\n      <td>NaN</td>\n    </tr>\n    <tr>\n      <th>16426</th>\n      <td>E14001061</td>\n      <td>1</td>\n      <td>York Central</td>\n      <td>Yorkshire and The Humber</td>\n      <td>74899</td>\n      <td>13767.0</td>\n      <td>0.278</td>\n      <td>4149</td>\n      <td>0.084</td>\n      <td>27312</td>\n      <td>0.552</td>\n      <td>NaN</td>\n      <td>NaN</td>\n      <td>4277.0</td>\n      <td>0.086</td>\n      <td>49505</td>\n      <td>0.661</td>\n      <td>2019</td>\n      <td>2010-2019</td>\n      <td>NaN</td>\n    </tr>\n    <tr>\n      <th>16427</th>\n      <td>E14001062</td>\n      <td>1</td>\n      <td>York Outer</td>\n      <td>Yorkshire and The Humber</td>\n      <td>74673</td>\n      <td>27324.0</td>\n      <td>0.494</td>\n      <td>9992</td>\n      <td>0.181</td>\n      <td>17339</td>\n      <td>0.313</td>\n      <td>NaN</td>\n      <td>NaN</td>\n      <td>692.0</td>\n      <td>0.013</td>\n      <td>55347</td>\n      <td>0.741</td>\n      <td>2019</td>\n      <td>2010-2019</td>\n      <td>NaN</td>\n    </tr>\n  </tbody>\n</table>\n<p>1300 rows × 20 columns</p>\n</div>"
     },
     "execution_count": 10,
     "metadata": {},
     "output_type": "execute_result"
    }
   ],
   "source": [
    "election_results"
   ],
   "metadata": {
    "collapsed": false,
    "ExecuteTime": {
     "end_time": "2024-03-11T16:05:12.661630300Z",
     "start_time": "2024-03-11T16:05:12.635995700Z"
    }
   },
   "id": "3567b458c5da1918"
  },
  {
   "cell_type": "code",
   "execution_count": 88,
   "outputs": [],
   "source": [
    "results_2015 = pd.read_excel('election_results.xlsx', sheet_name='2015')\n",
    "results_2015.columns = results_2015.iloc[0:3].apply(lambda x: '|'.join([str(i) for i in x if not pd.isna(i)]), axis=0)\n",
    "results_2015 = results_2015.iloc[3:]\n",
    "results_2015 = results_2015[~results_2015['Results by constituency|id'].isna()]"
   ],
   "metadata": {
    "collapsed": false,
    "ExecuteTime": {
     "end_time": "2024-03-11T16:36:46.136080700Z",
     "start_time": "2024-03-11T16:36:45.577143400Z"
    }
   },
   "id": "9e73d4e1bf469c95"
  },
  {
   "cell_type": "code",
   "execution_count": 89,
   "outputs": [],
   "source": [
    "results_2015 = results_2015[['Results by constituency|id', 'Constituency', 'Electorate', 'Conservative|Votes',\n",
    "                             'Liberal Democrats|Votes ',\n",
    "                             'Labour |Votes', 'UKIP|Votes',\n",
    "                             'Green|Votes', 'SNP|Votes',\n",
    "                             'Plaid Cymru|Votes', 'DUP|Votes',\n",
    "                             'Sinn Fein|Votes', 'SDLP|Votes',\n",
    "                             'UUP|Votes', 'Alliance|Votes',\n",
    "                             'Other|Votes', 'Total votes', 'Turnout ']]"
   ],
   "metadata": {
    "collapsed": false,
    "ExecuteTime": {
     "end_time": "2024-03-11T16:36:46.195405500Z",
     "start_time": "2024-03-11T16:36:46.108921Z"
    }
   },
   "id": "654b3620c25834f0"
  },
  {
   "cell_type": "code",
   "execution_count": 90,
   "outputs": [],
   "source": [
    "results_2015.columns = ['id', 'Constituency', 'Electorate', 'Conservative', 'Liberal Democrats',\n",
    "                        'Labour', 'UKIP', 'Green', 'SNP',\n",
    "                        'Plaid Cymru', 'DUP', 'Sinn Fein',\n",
    "                        'SDLP', 'UUP', 'Alliance',\n",
    "                        'Other', 'Total votes', 'Turnout']"
   ],
   "metadata": {
    "collapsed": false,
    "ExecuteTime": {
     "end_time": "2024-03-11T16:36:47.197871900Z",
     "start_time": "2024-03-11T16:36:47.173257100Z"
    }
   },
   "id": "ff7d11f068d87a23"
  },
  {
   "cell_type": "code",
   "execution_count": 91,
   "outputs": [],
   "source": [
    "results_2019 = pd.read_excel('election_results.xlsx', sheet_name='2019')\n",
    "results_2019.columns = results_2019.iloc[0:3].apply(lambda x: '|'.join([str(i) for i in x if not pd.isna(i)]), axis=0)\n",
    "results_2019 = results_2019.iloc[3:]\n",
    "results_2019 = results_2019[~results_2019['Results by constituency|ONS id'].isna()]"
   ],
   "metadata": {
    "collapsed": false,
    "ExecuteTime": {
     "end_time": "2024-03-11T16:36:48.220393500Z",
     "start_time": "2024-03-11T16:36:47.732629900Z"
    }
   },
   "id": "11372f08655366ed"
  },
  {
   "cell_type": "code",
   "execution_count": 92,
   "outputs": [],
   "source": [
    "results_2019 = results_2019[['Results by constituency|ONS id', 'Constituency', 'Electorate',\n",
    "                             'Conservative Party|Votes', 'Labour|Votes ',\n",
    "                             'Liberal Democrats|Votes',\n",
    "                             'Brexit|Votes', 'Green|Votes',\n",
    "                             'SNP|Votes', 'Plaid Cymru|Votes',\n",
    "                             'DUP|Votes', 'Sinn Fein|Votes',\n",
    "                             'SDLP|Votes', 'UUP|Votes',\n",
    "                             'Alliance|Votes', 'Other|Votes',\n",
    "                             'Total votes', 'Turnout ']]"
   ],
   "metadata": {
    "collapsed": false,
    "ExecuteTime": {
     "end_time": "2024-03-11T16:36:48.221399300Z",
     "start_time": "2024-03-11T16:36:48.208371800Z"
    }
   },
   "id": "bb6b4a8eb4d1c918"
  },
  {
   "cell_type": "code",
   "execution_count": 93,
   "outputs": [],
   "source": [
    "results_2019.columns = ['id', 'Constituency', 'Electorate',\n",
    "                        'Conservative', 'Labour', 'Liberal Democrats', 'Brexit', 'Green', 'SNP', 'Plaid Cymru', 'DUP',\n",
    "                        'Sinn Fein', 'SDLP', 'UUP', 'Alliance', 'Other', 'Total votes', 'Turnout']"
   ],
   "metadata": {
    "collapsed": false,
    "ExecuteTime": {
     "end_time": "2024-03-11T16:36:48.605075Z",
     "start_time": "2024-03-11T16:36:48.559411200Z"
    }
   },
   "id": "f82864ad2e5f4ca4"
  },
  {
   "cell_type": "code",
   "execution_count": 109,
   "outputs": [],
   "source": [
    "def set_nth_place(row, n):\n",
    "    try:\n",
    "        row = row.dropna()\n",
    "        parties = ['Conservative', 'Labour', 'Liberal Democrats', 'Brexit', 'Green', 'SNP', 'Plaid Cymru', 'DUP',\n",
    "                   'Sinn Fein', 'SDLP', 'UUP', 'Alliance', 'Other', 'UKIP', ]\n",
    "        parties = [p for p in parties if p in row.index]\n",
    "        votes = row[parties]\n",
    "        votes = votes.sort_values(ascending=False)\n",
    "        return votes.index[n-1]\n",
    "    except Exception as e:\n",
    "        print(e, row)\n",
    "\n"
   ],
   "metadata": {
    "collapsed": false,
    "ExecuteTime": {
     "end_time": "2024-03-11T16:40:22.402646Z",
     "start_time": "2024-03-11T16:40:22.347922100Z"
    }
   },
   "id": "e0a57cb6edc93617"
  },
  {
   "cell_type": "code",
   "execution_count": 110,
   "outputs": [],
   "source": [
    "results_2019['Winner'] = results_2019.apply(set_nth_place, axis=1, args=(1,))\n",
    "results_2019['Second'] = results_2019.apply(set_nth_place, axis=1, args=(2,))\n",
    "\n",
    "results_2015['Winner'] = results_2015.apply(set_nth_place, axis=1, args=(1,))\n",
    "results_2015['Second'] = results_2015.apply(set_nth_place, axis=1, args=(2,))"
   ],
   "metadata": {
    "collapsed": false,
    "ExecuteTime": {
     "end_time": "2024-03-11T16:40:24.529386300Z",
     "start_time": "2024-03-11T16:40:23.333143100Z"
    }
   },
   "id": "dc619dda71cf673d"
  },
  {
   "cell_type": "code",
   "execution_count": 113,
   "outputs": [],
   "source": [
    "summary_2015 = results_2015[['id', 'Constituency', 'Winner', 'Second']]\n",
    "summary_2019 = results_2019[['id', 'Constituency', 'Winner', 'Second']]"
   ],
   "metadata": {
    "collapsed": false,
    "ExecuteTime": {
     "end_time": "2024-03-11T16:41:10.996384900Z",
     "start_time": "2024-03-11T16:41:10.947514300Z"
    }
   },
   "id": "571bf2697556319e"
  },
  {
   "cell_type": "code",
   "execution_count": null,
   "outputs": [],
   "source": [],
   "metadata": {
    "collapsed": false
   },
   "id": "52c6251e116a5ad0"
  },
  {
   "cell_type": "code",
   "execution_count": 116,
   "outputs": [],
   "source": [
    "results_combined = pd.merge(summary_2015, summary_2019, on='id', suffixes=('_2015', '_2019'))"
   ],
   "metadata": {
    "collapsed": false,
    "ExecuteTime": {
     "end_time": "2024-03-11T16:41:38.644447900Z",
     "start_time": "2024-03-11T16:41:38.613349300Z"
    }
   },
   "id": "9575316b306b6b0f"
  },
  {
   "cell_type": "code",
   "execution_count": 117,
   "outputs": [],
   "source": [
    "results_combined = results_combined.rename(columns={'Constituency_2019': 'Constituency'})\n",
    "results_combined.drop(columns=['Constituency_2015'], inplace=True)\n"
   ],
   "metadata": {
    "collapsed": false,
    "ExecuteTime": {
     "end_time": "2024-03-11T16:42:05.859360200Z",
     "start_time": "2024-03-11T16:42:05.832668500Z"
    }
   },
   "id": "a3931131741b022a"
  },
  {
   "cell_type": "code",
   "execution_count": 122,
   "outputs": [
    {
     "data": {
      "text/plain": "            id Winner_2015 Second_2015            Constituency   Winner_2019  \\\n45   E14000575      Labour        UKIP            BLYTH VALLEY  Conservative   \n217  E14000747      Labour        UKIP   HEYWOOD AND MIDDLETON  Conservative   \n373  E14000903      Labour        UKIP           ROTHER VALLEY  Conservative   \n442  E14000972      Labour        UKIP  STOKE-ON-TRENT CENTRAL  Conservative   \n500  E14001030      Labour        UKIP      WEST BROMWICH WEST  Conservative   \n\n    Second_2019  \n45       Labour  \n217      Labour  \n373      Labour  \n442      Labour  \n500      Labour  ",
      "text/html": "<div>\n<style scoped>\n    .dataframe tbody tr th:only-of-type {\n        vertical-align: middle;\n    }\n\n    .dataframe tbody tr th {\n        vertical-align: top;\n    }\n\n    .dataframe thead th {\n        text-align: right;\n    }\n</style>\n<table border=\"1\" class=\"dataframe\">\n  <thead>\n    <tr style=\"text-align: right;\">\n      <th></th>\n      <th>id</th>\n      <th>Winner_2015</th>\n      <th>Second_2015</th>\n      <th>Constituency</th>\n      <th>Winner_2019</th>\n      <th>Second_2019</th>\n    </tr>\n  </thead>\n  <tbody>\n    <tr>\n      <th>45</th>\n      <td>E14000575</td>\n      <td>Labour</td>\n      <td>UKIP</td>\n      <td>BLYTH VALLEY</td>\n      <td>Conservative</td>\n      <td>Labour</td>\n    </tr>\n    <tr>\n      <th>217</th>\n      <td>E14000747</td>\n      <td>Labour</td>\n      <td>UKIP</td>\n      <td>HEYWOOD AND MIDDLETON</td>\n      <td>Conservative</td>\n      <td>Labour</td>\n    </tr>\n    <tr>\n      <th>373</th>\n      <td>E14000903</td>\n      <td>Labour</td>\n      <td>UKIP</td>\n      <td>ROTHER VALLEY</td>\n      <td>Conservative</td>\n      <td>Labour</td>\n    </tr>\n    <tr>\n      <th>442</th>\n      <td>E14000972</td>\n      <td>Labour</td>\n      <td>UKIP</td>\n      <td>STOKE-ON-TRENT CENTRAL</td>\n      <td>Conservative</td>\n      <td>Labour</td>\n    </tr>\n    <tr>\n      <th>500</th>\n      <td>E14001030</td>\n      <td>Labour</td>\n      <td>UKIP</td>\n      <td>WEST BROMWICH WEST</td>\n      <td>Conservative</td>\n      <td>Labour</td>\n    </tr>\n  </tbody>\n</table>\n</div>"
     },
     "execution_count": 122,
     "metadata": {},
     "output_type": "execute_result"
    }
   ],
   "source": [
    "results_combined[(results_combined['Second_2015']=='UKIP')&(results_combined['Winner_2019']=='Conservative')&(results_combined['Winner_2015']=='Labour')]"
   ],
   "metadata": {
    "collapsed": false,
    "ExecuteTime": {
     "end_time": "2024-03-11T16:44:46.743271100Z",
     "start_time": "2024-03-11T16:44:46.699992200Z"
    }
   },
   "id": "ff57b7d029c680bb"
  },
  {
   "cell_type": "code",
   "execution_count": 125,
   "outputs": [],
   "source": [
    "constituencies_where_ukip_beat_conservatives_2015 = results_2015[(results_2015['UKIP']>results_2015['Conservative'])]"
   ],
   "metadata": {
    "collapsed": false,
    "ExecuteTime": {
     "end_time": "2024-03-11T16:47:41.434649400Z",
     "start_time": "2024-03-11T16:47:41.330852800Z"
    }
   },
   "id": "d8b04f44a1b8f973"
  },
  {
   "cell_type": "code",
   "execution_count": 126,
   "outputs": [],
   "source": [
    "constituencies_held_by_conservatives = results_2019[results_2019['Winner']=='Conservative']"
   ],
   "metadata": {
    "collapsed": false,
    "ExecuteTime": {
     "end_time": "2024-03-11T16:48:11.112430800Z",
     "start_time": "2024-03-11T16:48:11.073715500Z"
    }
   },
   "id": "c4bafd24491c8e85"
  },
  {
   "cell_type": "code",
   "execution_count": 127,
   "outputs": [
    {
     "data": {
      "text/plain": "            id            Constituency Electorate Conservative  \\\n48   E14000575            BLYTH VALLEY      61247         8346   \n82   E14000609                 BURNLEY      64477         5374   \n115  E14000642                 CLACTON      68936        16205   \n220  E14000747     HEYWOOD & MIDDLETON      79989         9268   \n364  E14000891                  REDCAR      64826         6630   \n376  E14000903           ROTHER VALLEY      74275        10945   \n445  E14000972  STOKE-ON-TRENT CENTRAL      60634         7008   \n503  E14001030      WEST BROMWICH WEST      65524         8365   \n\n    Liberal Democrats Labour   UKIP Green  SNP Plaid Cymru  DUP Sinn Fein  \\\n48               2265  17813   8584  1453  NaN         NaN  NaN       NaN   \n82              11707  14951   6864   850  NaN         NaN  NaN       NaN   \n115               812   6364  19642  1184  NaN         NaN  NaN       NaN   \n220              1607  20926  15627  1110  NaN         NaN  NaN       NaN   \n364              7558  17946   7516   880  NaN         NaN  NaN       NaN   \n376              1992  20501  13204   NaN  NaN         NaN  NaN       NaN   \n445              1296  12220   7041  1123  NaN         NaN  NaN       NaN   \n503               550  16578   8836   697  NaN         NaN  NaN       NaN   \n\n    SDLP  UUP Alliance Other Total votes   Turnout  Winner             Second  \n48   NaN  NaN      NaN   NaN       38461  0.627965  Labour               UKIP  \n82   NaN  NaN      NaN   NaN       39746  0.616437  Labour  Liberal Democrats  \n115  NaN  NaN      NaN   NaN       44207  0.641276    UKIP       Conservative  \n220  NaN  NaN      NaN   NaN       48538  0.606808  Labour               UKIP  \n364  NaN  NaN      NaN   389       40919  0.631213  Labour  Liberal Democrats  \n376  NaN  NaN      NaN   377       47019  0.633039  Labour               UKIP  \n445  NaN  NaN      NaN  2396       31084   0.51265  Labour               UKIP  \n503  NaN  NaN      NaN   NaN       35026  0.534552  Labour               UKIP  ",
      "text/html": "<div>\n<style scoped>\n    .dataframe tbody tr th:only-of-type {\n        vertical-align: middle;\n    }\n\n    .dataframe tbody tr th {\n        vertical-align: top;\n    }\n\n    .dataframe thead th {\n        text-align: right;\n    }\n</style>\n<table border=\"1\" class=\"dataframe\">\n  <thead>\n    <tr style=\"text-align: right;\">\n      <th></th>\n      <th>id</th>\n      <th>Constituency</th>\n      <th>Electorate</th>\n      <th>Conservative</th>\n      <th>Liberal Democrats</th>\n      <th>Labour</th>\n      <th>UKIP</th>\n      <th>Green</th>\n      <th>SNP</th>\n      <th>Plaid Cymru</th>\n      <th>DUP</th>\n      <th>Sinn Fein</th>\n      <th>SDLP</th>\n      <th>UUP</th>\n      <th>Alliance</th>\n      <th>Other</th>\n      <th>Total votes</th>\n      <th>Turnout</th>\n      <th>Winner</th>\n      <th>Second</th>\n    </tr>\n  </thead>\n  <tbody>\n    <tr>\n      <th>48</th>\n      <td>E14000575</td>\n      <td>BLYTH VALLEY</td>\n      <td>61247</td>\n      <td>8346</td>\n      <td>2265</td>\n      <td>17813</td>\n      <td>8584</td>\n      <td>1453</td>\n      <td>NaN</td>\n      <td>NaN</td>\n      <td>NaN</td>\n      <td>NaN</td>\n      <td>NaN</td>\n      <td>NaN</td>\n      <td>NaN</td>\n      <td>NaN</td>\n      <td>38461</td>\n      <td>0.627965</td>\n      <td>Labour</td>\n      <td>UKIP</td>\n    </tr>\n    <tr>\n      <th>82</th>\n      <td>E14000609</td>\n      <td>BURNLEY</td>\n      <td>64477</td>\n      <td>5374</td>\n      <td>11707</td>\n      <td>14951</td>\n      <td>6864</td>\n      <td>850</td>\n      <td>NaN</td>\n      <td>NaN</td>\n      <td>NaN</td>\n      <td>NaN</td>\n      <td>NaN</td>\n      <td>NaN</td>\n      <td>NaN</td>\n      <td>NaN</td>\n      <td>39746</td>\n      <td>0.616437</td>\n      <td>Labour</td>\n      <td>Liberal Democrats</td>\n    </tr>\n    <tr>\n      <th>115</th>\n      <td>E14000642</td>\n      <td>CLACTON</td>\n      <td>68936</td>\n      <td>16205</td>\n      <td>812</td>\n      <td>6364</td>\n      <td>19642</td>\n      <td>1184</td>\n      <td>NaN</td>\n      <td>NaN</td>\n      <td>NaN</td>\n      <td>NaN</td>\n      <td>NaN</td>\n      <td>NaN</td>\n      <td>NaN</td>\n      <td>NaN</td>\n      <td>44207</td>\n      <td>0.641276</td>\n      <td>UKIP</td>\n      <td>Conservative</td>\n    </tr>\n    <tr>\n      <th>220</th>\n      <td>E14000747</td>\n      <td>HEYWOOD &amp; MIDDLETON</td>\n      <td>79989</td>\n      <td>9268</td>\n      <td>1607</td>\n      <td>20926</td>\n      <td>15627</td>\n      <td>1110</td>\n      <td>NaN</td>\n      <td>NaN</td>\n      <td>NaN</td>\n      <td>NaN</td>\n      <td>NaN</td>\n      <td>NaN</td>\n      <td>NaN</td>\n      <td>NaN</td>\n      <td>48538</td>\n      <td>0.606808</td>\n      <td>Labour</td>\n      <td>UKIP</td>\n    </tr>\n    <tr>\n      <th>364</th>\n      <td>E14000891</td>\n      <td>REDCAR</td>\n      <td>64826</td>\n      <td>6630</td>\n      <td>7558</td>\n      <td>17946</td>\n      <td>7516</td>\n      <td>880</td>\n      <td>NaN</td>\n      <td>NaN</td>\n      <td>NaN</td>\n      <td>NaN</td>\n      <td>NaN</td>\n      <td>NaN</td>\n      <td>NaN</td>\n      <td>389</td>\n      <td>40919</td>\n      <td>0.631213</td>\n      <td>Labour</td>\n      <td>Liberal Democrats</td>\n    </tr>\n    <tr>\n      <th>376</th>\n      <td>E14000903</td>\n      <td>ROTHER VALLEY</td>\n      <td>74275</td>\n      <td>10945</td>\n      <td>1992</td>\n      <td>20501</td>\n      <td>13204</td>\n      <td>NaN</td>\n      <td>NaN</td>\n      <td>NaN</td>\n      <td>NaN</td>\n      <td>NaN</td>\n      <td>NaN</td>\n      <td>NaN</td>\n      <td>NaN</td>\n      <td>377</td>\n      <td>47019</td>\n      <td>0.633039</td>\n      <td>Labour</td>\n      <td>UKIP</td>\n    </tr>\n    <tr>\n      <th>445</th>\n      <td>E14000972</td>\n      <td>STOKE-ON-TRENT CENTRAL</td>\n      <td>60634</td>\n      <td>7008</td>\n      <td>1296</td>\n      <td>12220</td>\n      <td>7041</td>\n      <td>1123</td>\n      <td>NaN</td>\n      <td>NaN</td>\n      <td>NaN</td>\n      <td>NaN</td>\n      <td>NaN</td>\n      <td>NaN</td>\n      <td>NaN</td>\n      <td>2396</td>\n      <td>31084</td>\n      <td>0.51265</td>\n      <td>Labour</td>\n      <td>UKIP</td>\n    </tr>\n    <tr>\n      <th>503</th>\n      <td>E14001030</td>\n      <td>WEST BROMWICH WEST</td>\n      <td>65524</td>\n      <td>8365</td>\n      <td>550</td>\n      <td>16578</td>\n      <td>8836</td>\n      <td>697</td>\n      <td>NaN</td>\n      <td>NaN</td>\n      <td>NaN</td>\n      <td>NaN</td>\n      <td>NaN</td>\n      <td>NaN</td>\n      <td>NaN</td>\n      <td>NaN</td>\n      <td>35026</td>\n      <td>0.534552</td>\n      <td>Labour</td>\n      <td>UKIP</td>\n    </tr>\n  </tbody>\n</table>\n</div>"
     },
     "execution_count": 127,
     "metadata": {},
     "output_type": "execute_result"
    }
   ],
   "source": [
    "constitencies_where_ukip_beat_conservatives_2015[constituencies_where_ukip_beat_conservatives_2015['id'].isin(constituencies_held_by_conservatives['id'])]"
   ],
   "metadata": {
    "collapsed": false,
    "ExecuteTime": {
     "end_time": "2024-03-11T16:48:18.571277100Z",
     "start_time": "2024-03-11T16:48:18.528212100Z"
    }
   },
   "id": "75d0753998a65d4"
  },
  {
   "cell_type": "code",
   "execution_count": null,
   "outputs": [],
   "source": [],
   "metadata": {
    "collapsed": false
   },
   "id": "2730572c9ef6b6ef"
  }
 ],
 "metadata": {
  "kernelspec": {
   "display_name": "Python 3",
   "language": "python",
   "name": "python3"
  },
  "language_info": {
   "codemirror_mode": {
    "name": "ipython",
    "version": 2
   },
   "file_extension": ".py",
   "mimetype": "text/x-python",
   "name": "python",
   "nbconvert_exporter": "python",
   "pygments_lexer": "ipython2",
   "version": "2.7.6"
  }
 },
 "nbformat": 4,
 "nbformat_minor": 5
}
